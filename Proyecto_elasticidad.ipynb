{
 "cells": [
  {
   "cell_type": "code",
   "execution_count": 20,
   "metadata": {},
   "outputs": [],
   "source": [
    "#//----------------------------\n",
    "#//LIBRARIES\n",
    "    #Math\n",
    "import math\n",
    "    #Numeric Python\n",
    "import numpy as np\n",
    "    #Pandas (dataframes)\n",
    "import pandas as pd\n",
    "    #datetime for fate manipulation\n",
    "from datetime import date, datetime, timedelta  \n",
    "    #Regex for advanced string matching\n",
    "import re\n",
    "    #for time related stuff\n",
    "import time\n",
    "    #json library\n",
    "import json\n",
    "    #Analyst tools\n",
    "import sys\n",
    "sys.path.append('../')\n",
    "from analysts_tools.growth import *\n",
    "    #Procurement tools\n",
    "from procurement_lib import send_slack_notification\n",
    "from procurement_lib import redash\n",
    "from analysts_tools.redash_methods import *\n",
    "\n",
    "import random\n",
    "import time\n",
    "import datetime\n",
    "\n",
    "from sklearn.model_selection import train_test_split "
   ]
  },
  {
   "cell_type": "code",
   "execution_count": 21,
   "metadata": {},
   "outputs": [],
   "source": [
    "#//---------------------------------------------------------------------------------------------------------------------------\n",
    "#// Parametros\n",
    "\n",
    "city_code = 'BAQ'\n",
    "    \n",
    "#year-month-day\n",
    "todays_date = datetime.datetime.today().strftime('%Y-%m-%d')\n",
    "#non_buyers_date = '2022-08-26' #1 months\n",
    "customer_date_desde = (datetime.datetime.today() - datetime.timedelta(days=20)).strftime('%Y-%m-%d') #1 months\n",
    "    #data for sku sales data\n",
    "#sku_date_desde = '2022-06-26' #2 months\n",
    "\n",
    "dias = 1\n",
    "\n",
    "tasas = {'BOG': 3776,\n",
    "         'BAQ': 3776,\n",
    "         'MDE': 3776,\n",
    "         'CMX': 19.65,\n",
    "         'GDL': 19.65,\n",
    "         'PBC': 19.65,\n",
    "         'SPO': 4.75,\n",
    "         'BHZ': 4.75,\n",
    "         'CWB': 4.75,\n",
    "         'VCP': 4.75}\n",
    "\n",
    "t_cambio = tasas[city_code]"
   ]
  },
  {
   "cell_type": "code",
   "execution_count": 22,
   "metadata": {},
   "outputs": [
    {
     "name": "stdout",
     "output_type": "stream",
     "text": [
      "200\n"
     ]
    }
   ],
   "source": [
    "clear_buyers = get_fresh_query_result(\"https://internal-redash.federate.frubana.com/\",136016,'SeoGHWmDUaaBi7VXje1s9zYNiMD1VHQ1K1DYOxiF',{},20)"
   ]
  },
  {
   "cell_type": "code",
   "execution_count": 23,
   "metadata": {},
   "outputs": [
    {
     "data": {
      "text/html": [
       "<div>\n",
       "<style scoped>\n",
       "    .dataframe tbody tr th:only-of-type {\n",
       "        vertical-align: middle;\n",
       "    }\n",
       "\n",
       "    .dataframe tbody tr th {\n",
       "        vertical-align: top;\n",
       "    }\n",
       "\n",
       "    .dataframe thead th {\n",
       "        text-align: right;\n",
       "    }\n",
       "</style>\n",
       "<table border=\"1\" class=\"dataframe\">\n",
       "  <thead>\n",
       "    <tr style=\"text-align: right;\">\n",
       "      <th></th>\n",
       "      <th>customer_id</th>\n",
       "      <th>last_order_date</th>\n",
       "      <th>recency_days</th>\n",
       "      <th>registered_city</th>\n",
       "      <th>validate</th>\n",
       "    </tr>\n",
       "  </thead>\n",
       "  <tbody>\n",
       "    <tr>\n",
       "      <th>0</th>\n",
       "      <td>286142696</td>\n",
       "      <td>2023-01-11</td>\n",
       "      <td>1</td>\n",
       "      <td>BOG</td>\n",
       "      <td>True</td>\n",
       "    </tr>\n",
       "    <tr>\n",
       "      <th>1</th>\n",
       "      <td>286109806</td>\n",
       "      <td>2023-01-11</td>\n",
       "      <td>1</td>\n",
       "      <td>BOG</td>\n",
       "      <td>True</td>\n",
       "    </tr>\n",
       "    <tr>\n",
       "      <th>2</th>\n",
       "      <td>285899630</td>\n",
       "      <td>2023-01-11</td>\n",
       "      <td>1</td>\n",
       "      <td>BOG</td>\n",
       "      <td>True</td>\n",
       "    </tr>\n",
       "    <tr>\n",
       "      <th>3</th>\n",
       "      <td>285928111</td>\n",
       "      <td>2023-01-11</td>\n",
       "      <td>1</td>\n",
       "      <td>BHZ</td>\n",
       "      <td>True</td>\n",
       "    </tr>\n",
       "    <tr>\n",
       "      <th>4</th>\n",
       "      <td>285883881</td>\n",
       "      <td>2023-01-11</td>\n",
       "      <td>1</td>\n",
       "      <td>VCP</td>\n",
       "      <td>True</td>\n",
       "    </tr>\n",
       "  </tbody>\n",
       "</table>\n",
       "</div>"
      ],
      "text/plain": [
       "   customer_id last_order_date  recency_days registered_city  validate\n",
       "0    286142696      2023-01-11             1             BOG      True\n",
       "1    286109806      2023-01-11             1             BOG      True\n",
       "2    285899630      2023-01-11             1             BOG      True\n",
       "3    285928111      2023-01-11             1             BHZ      True\n",
       "4    285883881      2023-01-11             1             VCP      True"
      ]
     },
     "execution_count": 23,
     "metadata": {},
     "output_type": "execute_result"
    }
   ],
   "source": [
    "clear_buyers[\"last_order_date\"] = pd.to_datetime(clear_buyers[\"last_order_date\"]) \n",
    "clear_buyers['validate'] = clear_buyers.last_order_date >= customer_date_desde\n",
    "clear_buyers.head()"
   ]
  },
  {
   "cell_type": "code",
   "execution_count": 24,
   "metadata": {},
   "outputs": [],
   "source": [
    "query = \"\"\"\n",
    "WITH\n",
    "info AS (\n",
    "SELECT DISTINCT\n",
    "    s.site_identifier_value as region_code,\n",
    "    --ffg.close_date,\n",
    "    bo.customer_id,\n",
    "    --bs.addl_product_id as padre_sku_id,\n",
    "    --bs2.name AS card_name,\n",
    "    --bcat2.name AS category,\n",
    "    bcat.name AS subcat,\n",
    "    COUNT(DISTINCT EXTRACT(WEEK FROM ffg.close_date)) AS count_weeks,\n",
    "    --baid.adjustment_reason,\n",
    "    SUM ( (boi.quantity * foi.step_unit * boi.sale_price)/{tipo_cambio}) AS gmv_usd\n",
    "    --SUM ( COALESCE((baid.adjustment_value * boip.quantity * foi.step_unit)/{tipo_cambio}, 0) ) AS discount_applied,\n",
    "    --SUM ( boi.quantity* foi.step_unit ) AS cant\n",
    "\n",
    "FROM postgres_broadleaf_federate.\"broadleaf.blc_fulfillment_group_item\"     bfgi\n",
    "INNER JOIN postgres_broadleaf_federate.\"broadleaf.blc_fulfillment_group\"    bfg        ON bfgi.fulfillment_group_id = bfg.fulfillment_group_id\n",
    "INNER JOIN postgres_broadleaf_federate.\"broadleaf.fb_fulfillment_group\"     ffg        ON ffg.fulfillment_group_id = bfg.fulfillment_group_id\n",
    "INNER JOIN postgres_broadleaf_federate.\"broadleaf.blc_order\"                bo         ON bo.order_id = bfg.order_id\n",
    "INNER JOIN postgres_broadleaf_federate.\"broadleaf.blc_site\"                 s          ON bo.site_disc = s.site_id\n",
    "INNER JOIN postgres_broadleaf_federate.\"broadleaf.blc_order_item\"           boi        ON bfgi.order_item_id= boi.order_item_id\n",
    "INNER JOIN postgres_broadleaf_federate.\"broadleaf.fb_order_item\"            foi        ON boi.order_item_id= foi.order_item_id\n",
    "INNER JOIN postgres_broadleaf_federate.\"broadleaf.fb_order\"                 fo         ON fo.order_id = bo.order_id\n",
    "INNER JOIN postgres_broadleaf_federate.\"broadleaf.blc_fulfillment_order\"    bfo        ON bfo.fulfillment_group_id= bfg.fulfillment_group_id\n",
    "INNER JOIN postgres_broadleaf_federate.\"broadleaf.blc_discrete_order_item\"  bdoi       ON bdoi.order_item_id = boi.order_item_id\n",
    "INNER JOIN postgres_broadleaf_federate.\"broadleaf.blc_sku\"                  bs         ON bs.sku_id = bdoi.sku_id\n",
    "INNER JOIN postgres_broadleaf_federate.\"broadleaf.blc_product\"              bp         ON bs.addl_product_id = bp.product_id\n",
    "INNER JOIN postgres_broadleaf_federate.\"broadleaf.blc_sku\"                  bs2        ON bs2.sku_id = bp.default_sku_id --Conectar la tarjeta con el sku que guarda la info\n",
    "INNER JOIN postgres_broadleaf_federate.\"broadleaf.blc_category\"             bcat       ON bcat.category_id = bp.default_category_id\n",
    "LEFT JOIN  postgres_broadleaf_federate.\"broadleaf.blc_order_payment\"        bop        ON bop.order_id = bo.order_id\n",
    "LEFT JOIN  postgres_broadleaf_federate.\"broadleaf.fb_order_type\"            fot        ON fot.fb_order_type_id=fo.fb_order_type_id\n",
    "LEFT JOIN  postgres_broadleaf_federate.\"broadleaf.blc_category_xref\"        bcx        ON bcx.sub_category_id = bp.default_category_id AND bcx.archived='N' AND bcx.sndbx_tier is NULL\n",
    "LEFT JOIN postgres_broadleaf_federate.\"broadleaf.blc_category\"              bcat2      ON bcx.category_id = bcat2.category_id\n",
    "--LEFT JOIN postgres_broadleaf_federate.\"broadleaf.blc_order_item_price_dtl\"  boip       ON  boi.order_item_id = boip.order_item_id\n",
    "--LEFT JOIN postgres_broadleaf_federate.\"broadleaf.blc_order_item_dtl_adj\"    baid       ON  baid.order_item_price_dtl_id = boip.order_item_price_dtl_id\n",
    "\n",
    "WHERE \n",
    "   DATE(ffg.close_date) >= current_date - interval '10 week' \n",
    "   AND DATE(ffg.close_date) <=  current_date\n",
    "   AND bo.order_status='SUBMITTED'\n",
    "   AND fo.fb_order_status_id IN (1,6,7,8) \n",
    "   AND s.site_identifier_value = '{ciudad}'\n",
    "   AND bfo.status NOT IN ('ARCHIVED','CANCELLED')\n",
    "   AND bop.archived = 'N'\n",
    "   AND (fot.name IS NULL OR fot.name <> 'REFUND')\n",
    "   -- FIX SUPER DESCUENTOS\n",
    "   AND bcat2.category_id not in ('110873','-1000','100768','100765','100815') --ids de super descuentos en cada país\n",
    "   AND bcat.name <> 'Oferton Frubana' AND bcat2.name <> 'Oferton Frubana'\n",
    "GROUP BY 1,2,3--,5,6,7\n",
    ")\n",
    "\n",
    "SELECT \n",
    "*\n",
    "FROM info\n",
    "WHERE count_weeks > 5\n",
    "\"\"\".format(tipo_cambio=t_cambio, ciudad=city_code)\n",
    "\n",
    "data_ventas_aux = read_connection_data_warehouse.runQuery(query)\n",
    "data_ventas_aux[[\"gmv_usd\"]] = data_ventas_aux[[\"gmv_usd\"]].astype(float)\n",
    "#data_ventas[\"submit_date\"] = pd.to_datetime(data_ventas[\"submit_date\"])"
   ]
  },
  {
   "cell_type": "code",
   "execution_count": 25,
   "metadata": {},
   "outputs": [
    {
     "data": {
      "text/html": [
       "<div>\n",
       "<style scoped>\n",
       "    .dataframe tbody tr th:only-of-type {\n",
       "        vertical-align: middle;\n",
       "    }\n",
       "\n",
       "    .dataframe tbody tr th {\n",
       "        vertical-align: top;\n",
       "    }\n",
       "\n",
       "    .dataframe thead th {\n",
       "        text-align: right;\n",
       "    }\n",
       "</style>\n",
       "<table border=\"1\" class=\"dataframe\">\n",
       "  <thead>\n",
       "    <tr style=\"text-align: right;\">\n",
       "      <th></th>\n",
       "      <th>region_code</th>\n",
       "      <th>customer_id</th>\n",
       "      <th>subcat</th>\n",
       "      <th>count_weeks</th>\n",
       "      <th>gmv_usd</th>\n",
       "    </tr>\n",
       "  </thead>\n",
       "  <tbody>\n",
       "    <tr>\n",
       "      <th>0</th>\n",
       "      <td>BAQ</td>\n",
       "      <td>207464985</td>\n",
       "      <td>Harinas &amp; Mezclas</td>\n",
       "      <td>10</td>\n",
       "      <td>2150.188293</td>\n",
       "    </tr>\n",
       "    <tr>\n",
       "      <th>1</th>\n",
       "      <td>BAQ</td>\n",
       "      <td>188016019</td>\n",
       "      <td>Harinas &amp; Mezclas</td>\n",
       "      <td>10</td>\n",
       "      <td>9519.382414</td>\n",
       "    </tr>\n",
       "    <tr>\n",
       "      <th>2</th>\n",
       "      <td>BAQ</td>\n",
       "      <td>15393078</td>\n",
       "      <td>Tubérculos</td>\n",
       "      <td>10</td>\n",
       "      <td>349.536015</td>\n",
       "    </tr>\n",
       "    <tr>\n",
       "      <th>3</th>\n",
       "      <td>BAQ</td>\n",
       "      <td>157495480</td>\n",
       "      <td>Azúcar &amp; Endulzantes</td>\n",
       "      <td>9</td>\n",
       "      <td>45.544491</td>\n",
       "    </tr>\n",
       "    <tr>\n",
       "      <th>4</th>\n",
       "      <td>BAQ</td>\n",
       "      <td>59929366</td>\n",
       "      <td>Aceites &amp; Grasas</td>\n",
       "      <td>9</td>\n",
       "      <td>443.523569</td>\n",
       "    </tr>\n",
       "  </tbody>\n",
       "</table>\n",
       "</div>"
      ],
      "text/plain": [
       "  region_code  customer_id                subcat  count_weeks      gmv_usd\n",
       "0         BAQ    207464985     Harinas & Mezclas           10  2150.188293\n",
       "1         BAQ    188016019     Harinas & Mezclas           10  9519.382414\n",
       "2         BAQ     15393078            Tubérculos           10   349.536015\n",
       "3         BAQ    157495480  Azúcar & Endulzantes            9    45.544491\n",
       "4         BAQ     59929366      Aceites & Grasas            9   443.523569"
      ]
     },
     "execution_count": 25,
     "metadata": {},
     "output_type": "execute_result"
    }
   ],
   "source": [
    "data_ventas_aux.head()"
   ]
  },
  {
   "cell_type": "code",
   "execution_count": 26,
   "metadata": {},
   "outputs": [
    {
     "data": {
      "text/plain": [
       "array(['Harinas & Mezclas', 'Tubérculos', 'Azúcar & Endulzantes',\n",
       "       'Aceites & Grasas', 'Pollo Congelado',\n",
       "       'Detergente, Jabón & Lavalozas', 'Verduras', 'Vasos', 'Frutas',\n",
       "       'Arroz', 'Papel & Toallas', 'Gaseosas', 'Bolsas', 'Granos',\n",
       "       'Cerdo Congelado', 'Res Congelado', 'Contenedores', 'Huevos',\n",
       "       'Cremas', 'Café, Chocolate e Infusiones', 'Alimentos Congelados',\n",
       "       'Leches', 'Salsas', 'Sal & Sazonadores',\n",
       "       'Pescados & Mariscos Congelado', 'Empaque & Envoltura',\n",
       "       'Res Fresco', 'Platos & Bandejas', 'Embutidos',\n",
       "       'Cubiertos & Pitillos', 'Desinfectantes & Sanitizantes', 'Pasta',\n",
       "       'Derivados Lácteos', 'Pulpas de Fruta', 'Jugos',\n",
       "       'Implementos de Aseo', 'Panadería & Repostería', 'Quesos',\n",
       "       'Cerdo Fresco', 'Aguas', 'Tés', 'Enlatados & Conservas'],\n",
       "      dtype=object)"
      ]
     },
     "execution_count": 26,
     "metadata": {},
     "output_type": "execute_result"
    }
   ],
   "source": [
    "data_ventas_aux.subcat.unique()"
   ]
  },
  {
   "cell_type": "code",
   "execution_count": 27,
   "metadata": {},
   "outputs": [],
   "source": [
    "subcats = ['Harinas & Mezclas','Azúcar & Endulzantes','Pollo Congelado','Tubérculos',\n",
    "           'Arroz','Aceites & Grasas','Alimentos Congelados','Gaseosas','Huevos','Contenedores']"
   ]
  },
  {
   "cell_type": "code",
   "execution_count": 28,
   "metadata": {},
   "outputs": [],
   "source": [
    "data_ventas = data_ventas_aux[data_ventas_aux.subcat.isin(subcats)].copy()"
   ]
  },
  {
   "cell_type": "code",
   "execution_count": 29,
   "metadata": {},
   "outputs": [
    {
     "data": {
      "text/html": [
       "<div>\n",
       "<style scoped>\n",
       "    .dataframe tbody tr th:only-of-type {\n",
       "        vertical-align: middle;\n",
       "    }\n",
       "\n",
       "    .dataframe tbody tr th {\n",
       "        vertical-align: top;\n",
       "    }\n",
       "\n",
       "    .dataframe thead th {\n",
       "        text-align: right;\n",
       "    }\n",
       "</style>\n",
       "<table border=\"1\" class=\"dataframe\">\n",
       "  <thead>\n",
       "    <tr style=\"text-align: right;\">\n",
       "      <th></th>\n",
       "      <th>subcat</th>\n",
       "      <th>customers</th>\n",
       "      <th>list_customers</th>\n",
       "    </tr>\n",
       "  </thead>\n",
       "  <tbody>\n",
       "    <tr>\n",
       "      <th>0</th>\n",
       "      <td>Aceites &amp; Grasas</td>\n",
       "      <td>938</td>\n",
       "      <td>[59929366, 94434353, 240185617, -213111, 98665...</td>\n",
       "    </tr>\n",
       "    <tr>\n",
       "      <th>1</th>\n",
       "      <td>Alimentos Congelados</td>\n",
       "      <td>101</td>\n",
       "      <td>[128425420, 57888163, -213672, 233763147, 8760...</td>\n",
       "    </tr>\n",
       "    <tr>\n",
       "      <th>2</th>\n",
       "      <td>Arroz</td>\n",
       "      <td>562</td>\n",
       "      <td>[180889984, 257208695, 53014568, 180890655, 61...</td>\n",
       "    </tr>\n",
       "    <tr>\n",
       "      <th>3</th>\n",
       "      <td>Azúcar &amp; Endulzantes</td>\n",
       "      <td>204</td>\n",
       "      <td>[157495480, -220531, 130031964, 216522233, 248...</td>\n",
       "    </tr>\n",
       "    <tr>\n",
       "      <th>4</th>\n",
       "      <td>Contenedores</td>\n",
       "      <td>262</td>\n",
       "      <td>[215489158, 252511547, 234171607, 209398547, -...</td>\n",
       "    </tr>\n",
       "    <tr>\n",
       "      <th>5</th>\n",
       "      <td>Gaseosas</td>\n",
       "      <td>75</td>\n",
       "      <td>[177827626, 118084620, 168393274, 201609316, 4...</td>\n",
       "    </tr>\n",
       "    <tr>\n",
       "      <th>6</th>\n",
       "      <td>Harinas &amp; Mezclas</td>\n",
       "      <td>305</td>\n",
       "      <td>[207464985, 188016019, 58612251, 187091618, 16...</td>\n",
       "    </tr>\n",
       "    <tr>\n",
       "      <th>7</th>\n",
       "      <td>Huevos</td>\n",
       "      <td>98</td>\n",
       "      <td>[259034902, 174691713, 108367168, 236842161, 1...</td>\n",
       "    </tr>\n",
       "    <tr>\n",
       "      <th>8</th>\n",
       "      <td>Pollo Congelado</td>\n",
       "      <td>474</td>\n",
       "      <td>[115370919, 259047662, 245602783, 129172944, 1...</td>\n",
       "    </tr>\n",
       "    <tr>\n",
       "      <th>9</th>\n",
       "      <td>Tubérculos</td>\n",
       "      <td>464</td>\n",
       "      <td>[15393078, 42147926, 74083130, 17417844, 11889...</td>\n",
       "    </tr>\n",
       "  </tbody>\n",
       "</table>\n",
       "</div>"
      ],
      "text/plain": [
       "                 subcat  customers  \\\n",
       "0      Aceites & Grasas        938   \n",
       "1  Alimentos Congelados        101   \n",
       "2                 Arroz        562   \n",
       "3  Azúcar & Endulzantes        204   \n",
       "4          Contenedores        262   \n",
       "5              Gaseosas         75   \n",
       "6     Harinas & Mezclas        305   \n",
       "7                Huevos         98   \n",
       "8       Pollo Congelado        474   \n",
       "9            Tubérculos        464   \n",
       "\n",
       "                                      list_customers  \n",
       "0  [59929366, 94434353, 240185617, -213111, 98665...  \n",
       "1  [128425420, 57888163, -213672, 233763147, 8760...  \n",
       "2  [180889984, 257208695, 53014568, 180890655, 61...  \n",
       "3  [157495480, -220531, 130031964, 216522233, 248...  \n",
       "4  [215489158, 252511547, 234171607, 209398547, -...  \n",
       "5  [177827626, 118084620, 168393274, 201609316, 4...  \n",
       "6  [207464985, 188016019, 58612251, 187091618, 16...  \n",
       "7  [259034902, 174691713, 108367168, 236842161, 1...  \n",
       "8  [115370919, 259047662, 245602783, 129172944, 1...  \n",
       "9  [15393078, 42147926, 74083130, 17417844, 11889...  "
      ]
     },
     "execution_count": 29,
     "metadata": {},
     "output_type": "execute_result"
    }
   ],
   "source": [
    "f = data_ventas.groupby(\"subcat\", as_index=False).agg({'customer_id':[lambda x: x.nunique(),lambda x: list(x.unique())]}).droplevel(0, axis=\"columns\")\n",
    "f.columns = ['subcat', 'customers', 'list_customers']\n",
    "f"
   ]
  },
  {
   "cell_type": "code",
   "execution_count": 30,
   "metadata": {},
   "outputs": [],
   "source": [
    "def create_groups(subcat):\n",
    "    s = f[f.subcat == subcat].list_customers.to_numpy()[0]\n",
    "    \n",
    "    d = data_ventas[(data_ventas.customer_id.isin(s)) & (data_ventas.subcat == subcat)].groupby(\"customer_id\").gmv_usd.mean().reset_index()\n",
    "    \n",
    "    customer_control, customer_test = train_test_split(s, test_size = 0.50)\n",
    "    \n",
    "    while abs(1-(d[d.customer_id.isin(customer_control)]['gmv_usd'].mean()/d[d.customer_id.isin(customer_test)]['gmv_usd'].mean())) > 0.01:\n",
    "        customer_control, customer_test = train_test_split(s, test_size = 0.50)\n",
    "        \n",
    "    all_users = clear_buyers[(~clear_buyers.customer_id.isin(customer_test)) & (clear_buyers.registered_city == city_code)].customer_id.unique().tolist()\n",
    "    \n",
    "    segt = {'name':\"SH_Proyecto_Elasticidad\"+todays_date+\"_\"+city_code+\"_\"+subcat, 'customersIds': list(all_users)}\n",
    "    \n",
    "    print(subcat, len(all_users), len(customer_test))\n",
    "    return customer_control, customer_test, segt"
   ]
  },
  {
   "cell_type": "code",
   "execution_count": 31,
   "metadata": {},
   "outputs": [
    {
     "name": "stdout",
     "output_type": "stream",
     "text": [
      "Aceites & Grasas 3357 469\n",
      "Alimentos Congelados 3721 51\n",
      "Arroz 3582 281\n",
      "Azúcar & Endulzantes 3680 102\n",
      "Contenedores 3641 131\n",
      "Gaseosas 3731 38\n",
      "Harinas & Mezclas 3626 153\n",
      "Huevos 3728 49\n",
      "Pollo Congelado 3587 237\n",
      "Tubérculos 3610 232\n"
     ]
    }
   ],
   "source": [
    "global_segment_list = []\n",
    "r= {}\n",
    "\n",
    "for subcat in f.subcat:\n",
    "    control, test, segment = create_groups(subcat)\n",
    "    \n",
    "    r['CONTROL_'+todays_date+\"_\"+city_code+\"_\"+subcat] = control\n",
    "    r['TEST_'+todays_date+\"_\"+city_code+\"_\"+subcat] = test\n",
    "    \n",
    "    global_segment_list.append(segment) \n",
    "\n",
    "df_test_control = pd.DataFrame.from_dict(r, orient='index').T"
   ]
  },
  {
   "cell_type": "code",
   "execution_count": 32,
   "metadata": {},
   "outputs": [
    {
     "data": {
      "text/plain": [
       "3765"
      ]
     },
     "execution_count": 32,
     "metadata": {},
     "output_type": "execute_result"
    }
   ],
   "source": [
    "len(clear_buyers[clear_buyers.registered_city == 'BAQ'])"
   ]
  },
  {
   "cell_type": "code",
   "execution_count": 60,
   "metadata": {},
   "outputs": [],
   "source": [
    "import requests\n",
    "import json\n",
    "\n",
    "url = f\"https://{city_code}.frubana.com/api/v1/segments/create?api-key=00_growth-team-zzz-qqq_001\"\n",
    "\n",
    "payload = json.dumps(global_segment_list)\n",
    "\n",
    "\n",
    "headers = {\n",
    "  'Cookie': 'AWSALB=WGKrKvA1CFOY0m92xSENGAseuE4LrcfQh9y8jK/loGBJdizNm+FvjOqUqVghxdfLkH6Jsa9sfWft2NELchGAP/LNZMXMYhrOE70qDnUuOHATpdJj1UZBMEUBSIN1; AWSALBCORS=WGKrKvA1CFOY0m92xSENGAseuE4LrcfQh9y8jK/loGBJdizNm+FvjOqUqVghxdfLkH6Jsa9sfWft2NELchGAP/LNZMXMYhrOE70qDnUuOHATpdJj1UZBMEUBSIN1; AWSALB=jLY02FPysvF1vTrKLhXbk3ibzmyiAqFJ1ezYVu5PjodkU2QmPHDpRJhb9CvOlOyQ1Ix0mJR1ig+eH9zwJ9i5EOtgsgx79NSROogQb2Ua6yLX/I3bJJ6xtcVO3puI; AWSALBCORS=jLY02FPysvF1vTrKLhXbk3ibzmyiAqFJ1ezYVu5PjodkU2QmPHDpRJhb9CvOlOyQ1Ix0mJR1ig+eH9zwJ9i5EOtgsgx79NSROogQb2Ua6yLX/I3bJJ6xtcVO3puI',\n",
    "  'Content-Type': 'application/json'\n",
    "}\n",
    "\n",
    "response = requests.request(\"POST\", url, headers=headers, data=payload)"
   ]
  },
  {
   "cell_type": "code",
   "execution_count": 61,
   "metadata": {},
   "outputs": [
    {
     "data": {
      "text/plain": [
       "[(114654, 'SH_Proyecto_Elasticidad2023-01-11_BAQ_Aceites & Grasas'),\n",
       " (114658, 'SH_Proyecto_Elasticidad2023-01-11_BAQ_Alimentos Congelados'),\n",
       " (114659, 'SH_Proyecto_Elasticidad2023-01-11_BAQ_Arroz'),\n",
       " (114656, 'SH_Proyecto_Elasticidad2023-01-11_BAQ_Azúcar & Endulzantes'),\n",
       " (114657, 'SH_Proyecto_Elasticidad2023-01-11_BAQ_Contenedores'),\n",
       " (114655, 'SH_Proyecto_Elasticidad2023-01-11_BAQ_Gaseosas'),\n",
       " (114662, 'SH_Proyecto_Elasticidad2023-01-11_BAQ_Harinas & Mezclas'),\n",
       " (114660, 'SH_Proyecto_Elasticidad2023-01-11_BAQ_Huevos'),\n",
       " (114663, 'SH_Proyecto_Elasticidad2023-01-11_BAQ_Pollo Congelado'),\n",
       " (114661, 'SH_Proyecto_Elasticidad2023-01-11_BAQ_Tubérculos')]"
      ]
     },
     "execution_count": 61,
     "metadata": {},
     "output_type": "execute_result"
    }
   ],
   "source": [
    "sgt = [(int(x[:6]),x[7:]) for x in list(map(str.strip, response.text[32:].strip('][').replace('\"', '').split(',')))]\n",
    "sgt"
   ]
  }
 ],
 "metadata": {
  "kernelspec": {
   "display_name": "Python 3 (ipykernel)",
   "language": "python",
   "name": "python3"
  },
  "language_info": {
   "codemirror_mode": {
    "name": "ipython",
    "version": 3
   },
   "file_extension": ".py",
   "mimetype": "text/x-python",
   "name": "python",
   "nbconvert_exporter": "python",
   "pygments_lexer": "ipython3",
   "version": "3.7.9"
  },
  "orig_nbformat": 4,
  "vscode": {
   "interpreter": {
    "hash": "624741679a3ae5d99cecf49b8df5d516a7a937e6e7328e129d1fa121c8592e26"
   }
  }
 },
 "nbformat": 4,
 "nbformat_minor": 2
}
