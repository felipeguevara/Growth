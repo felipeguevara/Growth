{
 "cells": [
  {
   "cell_type": "code",
   "execution_count": 5,
   "id": "85026a10",
   "metadata": {},
   "outputs": [],
   "source": [
    "import pandas as pd\n",
    "\n",
    "def concat_csv(file_list):\n",
    "    df = pd.concat([pd.read_csv(f) for f in file_list])\n",
    "    return df"
   ]
  },
  {
   "cell_type": "code",
   "execution_count": 6,
   "id": "07dc020b",
   "metadata": {},
   "outputs": [],
   "source": [
    "cities = ['SPO','BHZ','CWB','VCP']"
   ]
  },
  {
   "cell_type": "markdown",
   "id": "25947267",
   "metadata": {},
   "source": [
    "# Aca se crea el csv conjunto"
   ]
  },
  {
   "cell_type": "code",
   "execution_count": 7,
   "id": "f650a5c0",
   "metadata": {},
   "outputs": [],
   "source": [
    "file_list = [f'{city}_SAC_tiers.csv' for city in cities]"
   ]
  },
  {
   "cell_type": "code",
   "execution_count": 8,
   "id": "149e76ec",
   "metadata": {},
   "outputs": [],
   "source": [
    "df = concat_csv(file_list)"
   ]
  },
  {
   "cell_type": "code",
   "execution_count": 9,
   "id": "8843925e",
   "metadata": {},
   "outputs": [],
   "source": [
    "df.to_csv(f\"ALL_SAC_tiers.csv\",index=False)"
   ]
  }
 ],
 "metadata": {
  "kernelspec": {
   "display_name": "Python 3",
   "language": "python",
   "name": "python3"
  },
  "language_info": {
   "codemirror_mode": {
    "name": "ipython",
    "version": 3
   },
   "file_extension": ".py",
   "mimetype": "text/x-python",
   "name": "python",
   "nbconvert_exporter": "python",
   "pygments_lexer": "ipython3",
   "version": "3.7.9"
  }
 },
 "nbformat": 4,
 "nbformat_minor": 5
}
