{
 "cells": [
  {
   "cell_type": "code",
   "execution_count": 1,
   "id": "978be7b3",
   "metadata": {},
   "outputs": [],
   "source": [
    "import pandas as pd\n",
    "\n",
    "def concat_csv(file_list):\n",
    "    df = pd.concat([pd.read_csv(f) for f in file_list])\n",
    "    return df"
   ]
  },
  {
   "cell_type": "code",
   "execution_count": 2,
   "id": "5c75bbf4",
   "metadata": {},
   "outputs": [],
   "source": [
    "cities = ['SPO','BHZ','CWB','VCP']"
   ]
  },
  {
   "cell_type": "markdown",
   "id": "57892a1d",
   "metadata": {},
   "source": [
    "# Aca se crea el csv conjunto"
   ]
  },
  {
   "cell_type": "code",
   "execution_count": 3,
   "id": "5fb13c30",
   "metadata": {},
   "outputs": [],
   "source": [
    "file_list = [f'{city}_SAC_tiers.csv' for city in cities]"
   ]
  },
  {
   "cell_type": "code",
   "execution_count": 4,
   "id": "2bac8444",
   "metadata": {},
   "outputs": [],
   "source": [
    "df = concat_csv(file_list)"
   ]
  },
  {
   "cell_type": "code",
   "execution_count": 5,
   "id": "a99477ef",
   "metadata": {},
   "outputs": [],
   "source": [
    "df.to_csv(f\"ALL_SAC_tiers.csv\",index=False)"
   ]
  }
 ],
 "metadata": {
  "kernelspec": {
   "display_name": "Python 3",
   "language": "python",
   "name": "python3"
  },
  "language_info": {
   "codemirror_mode": {
    "name": "ipython",
    "version": 3
   },
   "file_extension": ".py",
   "mimetype": "text/x-python",
   "name": "python",
   "nbconvert_exporter": "python",
   "pygments_lexer": "ipython3",
   "version": "3.7.9"
  }
 },
 "nbformat": 4,
 "nbformat_minor": 5
}
