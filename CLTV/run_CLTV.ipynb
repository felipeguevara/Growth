{
 "cells": [
  {
   "cell_type": "code",
   "execution_count": 3,
   "metadata": {},
   "outputs": [],
   "source": [
    "import pandas as pd\n",
    "import numpy as np\n",
    "from datetime import datetime\n",
    "\n",
    "from analystcommunity.write_connection_data_warehouse import runQuery, to_sql"
   ]
  },
  {
   "cell_type": "code",
   "execution_count": 4,
   "metadata": {},
   "outputs": [],
   "source": [
    "df = pd.read_csv('ALL_SAC_tiers.csv')"
   ]
  },
  {
   "cell_type": "code",
   "execution_count": 5,
   "metadata": {},
   "outputs": [],
   "source": [
    "# Get the current date in the desired format\n",
    "current_date = datetime.now().strftime('%Y-%m-%d')\n",
    "\n",
    "# Add the current date as a new column to the dataframe\n",
    "df['created_at'] = current_date"
   ]
  },
  {
   "cell_type": "code",
   "execution_count": 6,
   "metadata": {},
   "outputs": [
    {
     "data": {
      "text/html": [
       "<div>\n",
       "<style scoped>\n",
       "    .dataframe tbody tr th:only-of-type {\n",
       "        vertical-align: middle;\n",
       "    }\n",
       "\n",
       "    .dataframe tbody tr th {\n",
       "        vertical-align: top;\n",
       "    }\n",
       "\n",
       "    .dataframe thead th {\n",
       "        text-align: right;\n",
       "    }\n",
       "</style>\n",
       "<table border=\"1\" class=\"dataframe\">\n",
       "  <thead>\n",
       "    <tr style=\"text-align: right;\">\n",
       "      <th></th>\n",
       "      <th>city</th>\n",
       "      <th>customer_id</th>\n",
       "      <th>tier</th>\n",
       "      <th>Adjust_CLTV</th>\n",
       "      <th>created_at</th>\n",
       "    </tr>\n",
       "  </thead>\n",
       "  <tbody>\n",
       "    <tr>\n",
       "      <th>0</th>\n",
       "      <td>BOG</td>\n",
       "      <td>-255070</td>\n",
       "      <td>10</td>\n",
       "      <td>18.799587</td>\n",
       "      <td>2023-06-27</td>\n",
       "    </tr>\n",
       "    <tr>\n",
       "      <th>1</th>\n",
       "      <td>BOG</td>\n",
       "      <td>-255038</td>\n",
       "      <td>2</td>\n",
       "      <td>1448.358136</td>\n",
       "      <td>2023-06-27</td>\n",
       "    </tr>\n",
       "    <tr>\n",
       "      <th>2</th>\n",
       "      <td>BOG</td>\n",
       "      <td>-255037</td>\n",
       "      <td>10</td>\n",
       "      <td>80.757228</td>\n",
       "      <td>2023-06-27</td>\n",
       "    </tr>\n",
       "    <tr>\n",
       "      <th>3</th>\n",
       "      <td>BOG</td>\n",
       "      <td>-254992</td>\n",
       "      <td>10</td>\n",
       "      <td>99.245197</td>\n",
       "      <td>2023-06-27</td>\n",
       "    </tr>\n",
       "    <tr>\n",
       "      <th>4</th>\n",
       "      <td>BOG</td>\n",
       "      <td>-254982</td>\n",
       "      <td>3</td>\n",
       "      <td>825.766988</td>\n",
       "      <td>2023-06-27</td>\n",
       "    </tr>\n",
       "    <tr>\n",
       "      <th>...</th>\n",
       "      <td>...</td>\n",
       "      <td>...</td>\n",
       "      <td>...</td>\n",
       "      <td>...</td>\n",
       "      <td>...</td>\n",
       "    </tr>\n",
       "    <tr>\n",
       "      <th>112196</th>\n",
       "      <td>CMX</td>\n",
       "      <td>313257233</td>\n",
       "      <td>10</td>\n",
       "      <td>0.000000</td>\n",
       "      <td>2023-06-27</td>\n",
       "    </tr>\n",
       "    <tr>\n",
       "      <th>112197</th>\n",
       "      <td>CMX</td>\n",
       "      <td>313823833</td>\n",
       "      <td>10</td>\n",
       "      <td>15.278731</td>\n",
       "      <td>2023-06-27</td>\n",
       "    </tr>\n",
       "    <tr>\n",
       "      <th>112198</th>\n",
       "      <td>CMX</td>\n",
       "      <td>330542475</td>\n",
       "      <td>10</td>\n",
       "      <td>0.000000</td>\n",
       "      <td>2023-06-27</td>\n",
       "    </tr>\n",
       "    <tr>\n",
       "      <th>112199</th>\n",
       "      <td>CMX</td>\n",
       "      <td>333970164</td>\n",
       "      <td>10</td>\n",
       "      <td>0.000000</td>\n",
       "      <td>2023-06-27</td>\n",
       "    </tr>\n",
       "    <tr>\n",
       "      <th>112200</th>\n",
       "      <td>CMX</td>\n",
       "      <td>346900119</td>\n",
       "      <td>10</td>\n",
       "      <td>0.000000</td>\n",
       "      <td>2023-06-27</td>\n",
       "    </tr>\n",
       "  </tbody>\n",
       "</table>\n",
       "<p>112201 rows × 5 columns</p>\n",
       "</div>"
      ],
      "text/plain": [
       "       city  customer_id  tier  Adjust_CLTV  created_at\n",
       "0       BOG      -255070    10    18.799587  2023-06-27\n",
       "1       BOG      -255038     2  1448.358136  2023-06-27\n",
       "2       BOG      -255037    10    80.757228  2023-06-27\n",
       "3       BOG      -254992    10    99.245197  2023-06-27\n",
       "4       BOG      -254982     3   825.766988  2023-06-27\n",
       "...     ...          ...   ...          ...         ...\n",
       "112196  CMX    313257233    10     0.000000  2023-06-27\n",
       "112197  CMX    313823833    10    15.278731  2023-06-27\n",
       "112198  CMX    330542475    10     0.000000  2023-06-27\n",
       "112199  CMX    333970164    10     0.000000  2023-06-27\n",
       "112200  CMX    346900119    10     0.000000  2023-06-27\n",
       "\n",
       "[112201 rows x 5 columns]"
      ]
     },
     "execution_count": 6,
     "metadata": {},
     "output_type": "execute_result"
    }
   ],
   "source": [
    "df"
   ]
  },
  {
   "cell_type": "code",
   "execution_count": 7,
   "metadata": {},
   "outputs": [],
   "source": [
    "df2 = df.loc[:,['created_at','city','customer_id','tier']]"
   ]
  },
  {
   "cell_type": "code",
   "execution_count": 8,
   "metadata": {},
   "outputs": [],
   "source": [
    "df2.columns = ['created_at', 'region_code', 'customer_id', 'cltv']"
   ]
  },
  {
   "cell_type": "code",
   "execution_count": 9,
   "metadata": {},
   "outputs": [
    {
     "name": "stdout",
     "output_type": "stream",
     "text": [
      "<class 'pandas.core.frame.DataFrame'>\n",
      "RangeIndex: 112201 entries, 0 to 112200\n",
      "Data columns (total 4 columns):\n",
      " #   Column       Non-Null Count   Dtype \n",
      "---  ------       --------------   ----- \n",
      " 0   created_at   112201 non-null  object\n",
      " 1   region_code  112201 non-null  object\n",
      " 2   customer_id  112201 non-null  int64 \n",
      " 3   cltv         112201 non-null  int64 \n",
      "dtypes: int64(2), object(2)\n",
      "memory usage: 3.4+ MB\n"
     ]
    }
   ],
   "source": [
    "df2.info()"
   ]
  },
  {
   "cell_type": "code",
   "execution_count": 10,
   "metadata": {},
   "outputs": [],
   "source": [
    "def put_products_demand_estimations(CLTV_df: pd.DataFrame, region_code: str, remove_previous_records: bool = False):\n",
    "    \n",
    "    if remove_previous_records:\n",
    "        del_test_sql = f\"\"\"\n",
    "\n",
    "        DELETE FROM\n",
    "            lnd_ops.customer_cltv\n",
    "        WHERE\n",
    "            region_code = '{region_code}'\n",
    "        \"\"\"\n",
    "\n",
    "        runQuery('ops', del_test_sql)\n",
    "    \n",
    "    to_sql(vertical='ops', \n",
    "            df_params=CLTV_df,\n",
    "            table='customer_cltv')"
   ]
  },
  {
   "cell_type": "code",
   "execution_count": 11,
   "metadata": {},
   "outputs": [],
   "source": [
    "for city in ['BOG','BAQ','MDE','CMX','CWB','SPO','BHZ','VCP']:\n",
    "    put_products_demand_estimations(df2.loc[df2.region_code == city], city, False)"
   ]
  }
 ],
 "metadata": {
  "kernelspec": {
   "display_name": "Python 3 (ipykernel)",
   "language": "python",
   "name": "python3"
  },
  "language_info": {
   "codemirror_mode": {
    "name": "ipython",
    "version": 3
   },
   "file_extension": ".py",
   "mimetype": "text/x-python",
   "name": "python",
   "nbconvert_exporter": "python",
   "pygments_lexer": "ipython3",
   "version": "3.7.9"
  },
  "orig_nbformat": 4
 },
 "nbformat": 4,
 "nbformat_minor": 2
}
