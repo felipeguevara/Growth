{
 "cells": [
  {
   "cell_type": "code",
   "execution_count": 1,
   "metadata": {},
   "outputs": [],
   "source": [
    "import pandas as pd\n",
    "import numpy as np\n",
    "from datetime import datetime\n",
    "\n",
    "from analystcommunity.write_connection_data_warehouse import runQuery, to_sql"
   ]
  },
  {
   "cell_type": "code",
   "execution_count": 2,
   "metadata": {},
   "outputs": [],
   "source": [
    "df = pd.read_csv('ALL_SAC_tiers.csv')"
   ]
  },
  {
   "cell_type": "code",
   "execution_count": 3,
   "metadata": {},
   "outputs": [],
   "source": [
    "# Get the current date in the desired format\n",
    "current_date = datetime.now().strftime('%Y-%m-%d')\n",
    "\n",
    "# Add the current date as a new column to the dataframe\n",
    "df['created_at'] = current_date"
   ]
  },
  {
   "cell_type": "code",
   "execution_count": 4,
   "metadata": {},
   "outputs": [
    {
     "data": {
      "text/html": [
       "<div>\n",
       "<style scoped>\n",
       "    .dataframe tbody tr th:only-of-type {\n",
       "        vertical-align: middle;\n",
       "    }\n",
       "\n",
       "    .dataframe tbody tr th {\n",
       "        vertical-align: top;\n",
       "    }\n",
       "\n",
       "    .dataframe thead th {\n",
       "        text-align: right;\n",
       "    }\n",
       "</style>\n",
       "<table border=\"1\" class=\"dataframe\">\n",
       "  <thead>\n",
       "    <tr style=\"text-align: right;\">\n",
       "      <th></th>\n",
       "      <th>city</th>\n",
       "      <th>customer_id</th>\n",
       "      <th>tier</th>\n",
       "      <th>Adjust_CLTV</th>\n",
       "      <th>created_at</th>\n",
       "    </tr>\n",
       "  </thead>\n",
       "  <tbody>\n",
       "    <tr>\n",
       "      <th>0</th>\n",
       "      <td>SPO</td>\n",
       "      <td>19337183.0</td>\n",
       "      <td>5</td>\n",
       "      <td>2283.001764</td>\n",
       "      <td>2024-06-03</td>\n",
       "    </tr>\n",
       "    <tr>\n",
       "      <th>1</th>\n",
       "      <td>SPO</td>\n",
       "      <td>19355299.0</td>\n",
       "      <td>4</td>\n",
       "      <td>2603.712347</td>\n",
       "      <td>2024-06-03</td>\n",
       "    </tr>\n",
       "    <tr>\n",
       "      <th>2</th>\n",
       "      <td>SPO</td>\n",
       "      <td>19360755.0</td>\n",
       "      <td>9</td>\n",
       "      <td>549.100005</td>\n",
       "      <td>2024-06-03</td>\n",
       "    </tr>\n",
       "    <tr>\n",
       "      <th>3</th>\n",
       "      <td>SPO</td>\n",
       "      <td>19565513.0</td>\n",
       "      <td>4</td>\n",
       "      <td>2969.202681</td>\n",
       "      <td>2024-06-03</td>\n",
       "    </tr>\n",
       "    <tr>\n",
       "      <th>4</th>\n",
       "      <td>SPO</td>\n",
       "      <td>19567777.0</td>\n",
       "      <td>8</td>\n",
       "      <td>780.023343</td>\n",
       "      <td>2024-06-03</td>\n",
       "    </tr>\n",
       "  </tbody>\n",
       "</table>\n",
       "</div>"
      ],
      "text/plain": [
       "  city  customer_id  tier  Adjust_CLTV  created_at\n",
       "0  SPO   19337183.0     5  2283.001764  2024-06-03\n",
       "1  SPO   19355299.0     4  2603.712347  2024-06-03\n",
       "2  SPO   19360755.0     9   549.100005  2024-06-03\n",
       "3  SPO   19565513.0     4  2969.202681  2024-06-03\n",
       "4  SPO   19567777.0     8   780.023343  2024-06-03"
      ]
     },
     "execution_count": 4,
     "metadata": {},
     "output_type": "execute_result"
    }
   ],
   "source": [
    "df.head()"
   ]
  },
  {
   "cell_type": "code",
   "execution_count": 5,
   "metadata": {},
   "outputs": [],
   "source": [
    "df2 = df.loc[:,['created_at','city','customer_id','tier']]\n",
    "df2.columns = ['created_at', 'region_code', 'customer_id', 'cltv']"
   ]
  },
  {
   "cell_type": "code",
   "execution_count": 6,
   "metadata": {},
   "outputs": [
    {
     "name": "stdout",
     "output_type": "stream",
     "text": [
      "<class 'pandas.core.frame.DataFrame'>\n",
      "RangeIndex: 41167 entries, 0 to 41166\n",
      "Data columns (total 4 columns):\n",
      " #   Column       Non-Null Count  Dtype  \n",
      "---  ------       --------------  -----  \n",
      " 0   created_at   41167 non-null  object \n",
      " 1   region_code  41167 non-null  object \n",
      " 2   customer_id  41167 non-null  float64\n",
      " 3   cltv         41167 non-null  int64  \n",
      "dtypes: float64(1), int64(1), object(2)\n",
      "memory usage: 1.3+ MB\n"
     ]
    }
   ],
   "source": [
    "df2.info()"
   ]
  },
  {
   "cell_type": "code",
   "execution_count": 7,
   "metadata": {},
   "outputs": [],
   "source": [
    "def put_products_demand_estimations(CLTV_df: pd.DataFrame, region_code: str, remove_previous_records: bool = False):\n",
    "    \n",
    "    if remove_previous_records:\n",
    "        del_test_sql = f\"\"\"\n",
    "\n",
    "        DELETE FROM\n",
    "            lnd_ops.customer_cltv\n",
    "        WHERE\n",
    "            region_code = '{region_code}'\n",
    "        \"\"\"\n",
    "\n",
    "        runQuery('ops', del_test_sql)\n",
    "    \n",
    "    to_sql(vertical='ops', \n",
    "            df_params=CLTV_df,\n",
    "            table='customer_cltv')"
   ]
  },
  {
   "cell_type": "code",
   "execution_count": 8,
   "metadata": {},
   "outputs": [],
   "source": [
    "for city in ['CWB','SPO','BHZ','VCP']:\n",
    "    put_products_demand_estimations(df2.loc[df2.region_code == city], city, False)"
   ]
  }
 ],
 "metadata": {
  "kernelspec": {
   "display_name": "Python 3",
   "language": "python",
   "name": "python3"
  },
  "language_info": {
   "codemirror_mode": {
    "name": "ipython",
    "version": 3
   },
   "file_extension": ".py",
   "mimetype": "text/x-python",
   "name": "python",
   "nbconvert_exporter": "python",
   "pygments_lexer": "ipython3",
   "version": "3.7.9"
  }
 },
 "nbformat": 4,
 "nbformat_minor": 4
}
