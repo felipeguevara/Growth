{
 "cells": [
  {
   "cell_type": "code",
   "execution_count": 1,
   "metadata": {},
   "outputs": [],
   "source": [
    "import pandas as pd\n",
    "import numpy as np\n",
    "from sklearn.model_selection import train_test_split"
   ]
  },
  {
   "cell_type": "code",
   "execution_count": 2,
   "metadata": {},
   "outputs": [],
   "source": [
    "df = pd.read_csv(\"Q1.csv\")"
   ]
  },
  {
   "cell_type": "code",
   "execution_count": 3,
   "metadata": {},
   "outputs": [
    {
     "data": {
      "text/html": [
       "<div>\n",
       "<style scoped>\n",
       "    .dataframe tbody tr th:only-of-type {\n",
       "        vertical-align: middle;\n",
       "    }\n",
       "\n",
       "    .dataframe tbody tr th {\n",
       "        vertical-align: top;\n",
       "    }\n",
       "\n",
       "    .dataframe thead th {\n",
       "        text-align: right;\n",
       "    }\n",
       "</style>\n",
       "<table border=\"1\" class=\"dataframe\">\n",
       "  <thead>\n",
       "    <tr style=\"text-align: right;\">\n",
       "      <th></th>\n",
       "      <th>customer_id</th>\n",
       "      <th>gmv_usd</th>\n",
       "      <th>net_cash_margin</th>\n",
       "    </tr>\n",
       "  </thead>\n",
       "  <tbody>\n",
       "    <tr>\n",
       "      <th>0</th>\n",
       "      <td>202473905</td>\n",
       "      <td>8356.5452</td>\n",
       "      <td>390.100243</td>\n",
       "    </tr>\n",
       "    <tr>\n",
       "      <th>1</th>\n",
       "      <td>155922500</td>\n",
       "      <td>212.8821</td>\n",
       "      <td>13.145683</td>\n",
       "    </tr>\n",
       "    <tr>\n",
       "      <th>2</th>\n",
       "      <td>354916976</td>\n",
       "      <td>1181.1915</td>\n",
       "      <td>73.911877</td>\n",
       "    </tr>\n",
       "    <tr>\n",
       "      <th>3</th>\n",
       "      <td>44586805</td>\n",
       "      <td>4230.8021</td>\n",
       "      <td>184.911437</td>\n",
       "    </tr>\n",
       "    <tr>\n",
       "      <th>4</th>\n",
       "      <td>349515504</td>\n",
       "      <td>275.3157</td>\n",
       "      <td>1.142285</td>\n",
       "    </tr>\n",
       "    <tr>\n",
       "      <th>...</th>\n",
       "      <td>...</td>\n",
       "      <td>...</td>\n",
       "      <td>...</td>\n",
       "    </tr>\n",
       "    <tr>\n",
       "      <th>540</th>\n",
       "      <td>224671763</td>\n",
       "      <td>2116.5768</td>\n",
       "      <td>175.906581</td>\n",
       "    </tr>\n",
       "    <tr>\n",
       "      <th>541</th>\n",
       "      <td>162922751</td>\n",
       "      <td>7929.1642</td>\n",
       "      <td>369.705210</td>\n",
       "    </tr>\n",
       "    <tr>\n",
       "      <th>542</th>\n",
       "      <td>102978182</td>\n",
       "      <td>2800.2926</td>\n",
       "      <td>241.021184</td>\n",
       "    </tr>\n",
       "    <tr>\n",
       "      <th>543</th>\n",
       "      <td>136307530</td>\n",
       "      <td>3568.9629</td>\n",
       "      <td>314.197218</td>\n",
       "    </tr>\n",
       "    <tr>\n",
       "      <th>544</th>\n",
       "      <td>125455550</td>\n",
       "      <td>2474.8385</td>\n",
       "      <td>221.443599</td>\n",
       "    </tr>\n",
       "  </tbody>\n",
       "</table>\n",
       "<p>545 rows × 3 columns</p>\n",
       "</div>"
      ],
      "text/plain": [
       "     customer_id    gmv_usd  net_cash_margin\n",
       "0      202473905  8356.5452       390.100243\n",
       "1      155922500   212.8821        13.145683\n",
       "2      354916976  1181.1915        73.911877\n",
       "3       44586805  4230.8021       184.911437\n",
       "4      349515504   275.3157         1.142285\n",
       "..           ...        ...              ...\n",
       "540    224671763  2116.5768       175.906581\n",
       "541    162922751  7929.1642       369.705210\n",
       "542    102978182  2800.2926       241.021184\n",
       "543    136307530  3568.9629       314.197218\n",
       "544    125455550  2474.8385       221.443599\n",
       "\n",
       "[545 rows x 3 columns]"
      ]
     },
     "execution_count": 3,
     "metadata": {},
     "output_type": "execute_result"
    }
   ],
   "source": [
    "df"
   ]
  },
  {
   "cell_type": "code",
   "execution_count": 4,
   "metadata": {},
   "outputs": [],
   "source": [
    "def create_groups(offer):\n",
    "    \n",
    "    #customers = offer.customer_id.unique()\n",
    "    customers = offer.customer_id.unique()\n",
    "    print(\"Total length: \", len(customers))\n",
    "    customer_control, customer_test = train_test_split(customers, test_size = 0.50)\n",
    "    \n",
    "    alpha=0.01\n",
    "    aux=0\n",
    "    while (abs(1 - (offer[offer.customer_id.isin(customer_control)]['gmv_usd'].sum() / offer[offer.customer_id.isin(customer_test)]['gmv_usd'].sum())) > alpha) and (abs(1 - (offer[offer.customer_id.isin(customer_control)]['net_cash_margin'].sum() / offer[offer.customer_id.isin(customer_test)]['net_cash_margin'].sum())) > alpha):\n",
    "    \n",
    "        customer_control, customer_test = train_test_split(customers, test_size = 0.50)\n",
    "        \n",
    "        aux+=1\n",
    "        if aux == 1000:\n",
    "            alpha+=0.01\n",
    "            aux=0\n",
    "        \n",
    "    return customer_control.tolist(), customer_test.tolist()"
   ]
  },
  {
   "cell_type": "code",
   "execution_count": 5,
   "metadata": {},
   "outputs": [
    {
     "name": "stdout",
     "output_type": "stream",
     "text": [
      "Total length:  545\n"
     ]
    }
   ],
   "source": [
    "customer_control,customer_test = create_groups(df)"
   ]
  },
  {
   "cell_type": "code",
   "execution_count": 6,
   "metadata": {},
   "outputs": [],
   "source": [
    "# Add \"group\" column based on customer_id\n",
    "df['group'] = 'none'  # Initialize the group column with a default value\n",
    "\n",
    "# Mark customers in the control list as 'control' in the 'group' column\n",
    "df.loc[df['customer_id'].isin(customer_control), 'group'] = 'control'\n",
    "\n",
    "# Mark customers in the test list as 'test' in the 'group' column\n",
    "df.loc[df['customer_id'].isin(customer_test), 'group'] = 'test'"
   ]
  },
  {
   "cell_type": "code",
   "execution_count": 7,
   "metadata": {},
   "outputs": [],
   "source": [
    "df.to_excel(\"Q1_group.xlsx\",index=False)"
   ]
  }
 ],
 "metadata": {
  "kernelspec": {
   "display_name": "Python 3",
   "language": "python",
   "name": "python3"
  }
 },
 "nbformat": 4,
 "nbformat_minor": 2
}
