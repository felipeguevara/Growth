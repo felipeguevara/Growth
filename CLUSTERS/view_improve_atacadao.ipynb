{
 "cells": [
  {
   "cell_type": "code",
   "execution_count": 1,
   "metadata": {},
   "outputs": [],
   "source": [
    "#//----------------------------\n",
    "#//LIBRARIES\n",
    "    #Math\n",
    "import math\n",
    "    #Numeric Python\n",
    "import numpy as np\n",
    "    #Pandas (dataframes)\n",
    "import pandas as pd\n",
    "    #datetime for fate manipulation\n",
    "from datetime import date, datetime, timedelta  \n",
    "    #Regex for advanced string matching\n",
    "import re\n",
    "    #for time related stuff\n",
    "import time \n",
    "    #json library\n",
    "import json\n",
    "    #Analyst tools\n",
    "import sys\n",
    "sys.path.append('../')\n",
    "from analysts_tools.growth import *\n",
    "    #Procurement tools\n",
    "from analysts_tools.redash_methods import *\n",
    "from analystcommunity.read_connection_data_warehouse import run_read_dwd_query, run_read_prod_query\n",
    "\n",
    "import random\n",
    "import datetime\n",
    "\n",
    "import seaborn as sns\n",
    "import matplotlib.pyplot as plt\n",
    "from scipy import stats\n",
    "\n",
    "from procurement_lib import GoogleSheet"
   ]
  },
  {
   "cell_type": "code",
   "execution_count": 2,
   "metadata": {},
   "outputs": [],
   "source": [
    "todays_date = datetime.datetime.today().strftime('%Y-%m-%d')"
   ]
  },
  {
   "cell_type": "code",
   "execution_count": 3,
   "metadata": {},
   "outputs": [],
   "source": [
    "query = \"\"\"\n",
    "select\n",
    "    competitor.competitor_name,\n",
    "    site.identifier_value as site_code,\n",
    "    quotation_date.full_date AS quotation_date,\n",
    "    su.source_id,\n",
    "    ROUND(MEDIAN(cpp.product_selected_price),2)::float as price\n",
    "from dpr_product_pricing.fact_collected_product_prices cpp\n",
    "    inner join dpr_shared.dim_date quotation_date\n",
    "        on cpp.dim_quotation_date = quotation_date.date_id\n",
    "    inner join dpr_shared.dim_time quotation_time\n",
    "        on cpp.dim_quotation_time = quotation_time.time_id\n",
    "    inner join dpr_shared.dim_site site\n",
    "        on cpp.dim_site = site.site_id\n",
    "    inner join dpr_shared.dim_category cat\n",
    "        on cpp.dim_category = cat.category_id\n",
    "    inner join dpr_product_pricing.dim_product_outlier_type outlier_type\n",
    "        on cpp.dim_outlier_type = outlier_type.outlier_type_id\n",
    "    inner join dpr_product_pricing.dim_product_source_type source_type\n",
    "        on cpp.dim_source_type = source_type.source_type_id\n",
    "    inner join dpr_product_pricing.dim_product_competitor competitor\n",
    "        on cpp.dim_competitor = competitor.competitor_id\n",
    "    inner join dpr_product_pricing.dim_product_competitor_type competitor_type\n",
    "        on(\n",
    "            case\n",
    "                when cpp.super_category = 'Fruver'\n",
    "                    then competitor.product_competitor_type_id_fruver = competitor_type.competitor_type_id\n",
    "                when cpp.super_category = 'Multicategoría'\n",
    "                    then competitor.product_competitor_type_id_multicategoria = competitor_type.competitor_type_id\n",
    "            end\n",
    "        )\n",
    "    inner join dpr_shared.dim_stock_unit su\n",
    "        on cpp.dim_stock_unit = su.stock_unit_id\n",
    "where quotation_date.full_date >= '2024-05-01'\n",
    "    --AND quotation_date.full_date <= '2023-12-22'\n",
    "    AND competitor.competitor_name NOT ILIKE '%cayena%'\n",
    "    AND site.identifier_value IN ('SPO')\n",
    "    --AND (competitor.competitor_name ILIKE '%assaí%' OR competitor.competitor_name ILIKE '%atacadao%' OR competitor.competitor_name ILIKE '%atacadão%')\n",
    "    --AND competitor.competitor_name <> 'Atacadao_V2'\n",
    "GROUP BY 1,2,3,4\n",
    "\"\"\"\n",
    "df_zkkkkk = run_read_dwd_query(query)\n",
    "\n",
    "df_zkkkkk = df_zkkkkk.dropna().reset_index(drop=True)\n",
    "df_zkkkkk['lifetime'] = 8"
   ]
  },
  {
   "cell_type": "code",
   "execution_count": 4,
   "metadata": {},
   "outputs": [],
   "source": [
    "# Ensure dataframe is sorted by 'quotation_date'\n",
    "df_zkkkkk = df_zkkkkk.sort_values(by='quotation_date')\n",
    "\n",
    "# Generate the required rows for missing dates\n",
    "new_rows = []\n",
    "\n",
    "for (competitor, source_id), group in df_zkkkkk.groupby(['competitor_name', 'source_id']):\n",
    "    group = group.sort_values(by='quotation_date')\n",
    "    last_known_price = None\n",
    "    last_known_date = None\n",
    "    lifetime = 8\n",
    "    \n",
    "    for current_index in range(len(group)):\n",
    "        current_date = group.iloc[current_index]['quotation_date']\n",
    "        price = group.iloc[current_index]['price']\n",
    "        \n",
    "        # If this is not the first iteration, fill in missing dates\n",
    "        if last_known_date is not None:\n",
    "            days_diff = (current_date - last_known_date).days\n",
    "            if days_diff > 1:\n",
    "                for j in range(1, min(days_diff, lifetime + 1)):\n",
    "                    new_date = last_known_date + timedelta(days=j)\n",
    "                    new_row = {\n",
    "                        'site_code': group.iloc[current_index]['site_code'],\n",
    "                        'quotation_date': new_date,\n",
    "                        'competitor_name': competitor,\n",
    "                        'source_id': source_id,\n",
    "                        'price': last_known_price,\n",
    "                        'lifetime': lifetime - j\n",
    "                    }\n",
    "                    new_rows.append(new_row)\n",
    "                    \n",
    "                    # Stop if we reach a new datapoint date\n",
    "                    if new_date + timedelta(days=1) == current_date:\n",
    "                        break\n",
    "        \n",
    "        # Update the last known values and reset lifetime\n",
    "        last_known_price = price\n",
    "        last_known_date = current_date\n",
    "        lifetime = 8  # Reset lifetime\n",
    "\n",
    "    # After processing all known dates for the group, continue generating rows until lifetime reaches 0\n",
    "    while lifetime > 0:\n",
    "        last_known_date += timedelta(days=1)\n",
    "        new_row = {\n",
    "            'site_code': group.iloc[-1]['site_code'],\n",
    "            'quotation_date': last_known_date,\n",
    "            'competitor_name': competitor,\n",
    "            'source_id': source_id,\n",
    "            'price': last_known_price,\n",
    "            'lifetime': lifetime - 1\n",
    "        }\n",
    "        new_rows.append(new_row)\n",
    "        lifetime -= 1\n",
    "\n",
    "# Append new rows to the dataframe\n",
    "df_zkkkkk = df_zkkkkk.append(new_rows, ignore_index=True)\n",
    "\n",
    "# Sort the final dataframe\n",
    "df_zkkkkk = df_zkkkkk.sort_values(by=['competitor_name', 'source_id', 'quotation_date'])\n",
    "df_zkkkkk['replica'] = df_zkkkkk['lifetime'] == 8"
   ]
  },
  {
   "cell_type": "code",
   "execution_count": 5,
   "metadata": {},
   "outputs": [],
   "source": [
    "df_bench = df_zkkkkk.copy()\n",
    "df_bench['quotation_date'] = pd.to_datetime(df_bench['quotation_date'])"
   ]
  },
  {
   "cell_type": "code",
   "execution_count": 6,
   "metadata": {},
   "outputs": [
    {
     "data": {
      "text/plain": [
       "SPO    1165577\n",
       "Name: site_code, dtype: int64"
      ]
     },
     "execution_count": 6,
     "metadata": {},
     "output_type": "execute_result"
    }
   ],
   "source": [
    "df_bench.site_code.value_counts()"
   ]
  },
  {
   "cell_type": "code",
   "execution_count": 7,
   "metadata": {},
   "outputs": [],
   "source": [
    "query = \"\"\"\n",
    "WITH RECURSIVE calendar(calendar_date) AS (\n",
    "  SELECT DATE_TRUNC('day', DATE(GETDATE()) - INTERVAL '300 day')\n",
    "  UNION ALL\n",
    "  SELECT calendar_date + INTERVAL '1 day'\n",
    "  FROM calendar\n",
    "  WHERE calendar_date BETWEEN DATE_TRUNC('day', DATE(GETDATE()) - INTERVAL '300 day') AND DATE(GETDATE() - 1) \n",
    "),\n",
    "\n",
    "info AS (\n",
    "SELECT\n",
    "    DATE(coalesce(prices.last_modified_at, prices.created_at)) as created_at,\n",
    "    pp.frida_id as source_id,\n",
    "    MIN(coalesce(tiers.tax_price, prices.tax_price)) as price,\n",
    "    MIN(coalesce(tiers.sale_price, prices.sale_price)) as net_price\n",
    "\n",
    "FROM postgres_growth.\"growth_pricing.prices_history\" prices\n",
    "LEFT JOIN postgres_growth.\"growth_pricing.price_tiers_history\" tiers ON prices.id = tiers.price_history_id\n",
    "LEFT JOIN postgres_growth.\"growth_pricing.skus\" skus ON prices.sku_id = skus.id\n",
    "LEFT JOIN postgres_main_co.\"purchase_orders.products\" p ON skus.sku_id = p.frida_id\n",
    "LEFT JOIN postgres_main_co.\"purchase_orders.products\" pp ON COALESCE(p.parent_id, p.id) = pp.id\n",
    "\n",
    "WHERE DATE(prices.created_at) >= DATE_TRUNC('day', DATE(GETDATE()) - INTERVAL '300 day')\n",
    " AND p.region_code IN ('SPO')\n",
    " AND p.deleted_at IS NULL\n",
    " AND prices.created_by NOT ILIKE '%CATALOG%'\n",
    " AND pp.product_category_id IN (5,6,7,8,9,10,13,18) -- 1 ES FRUVER\n",
    " AND pp.frida_id IN {skus}\n",
    "GROUP BY 1,2--,3,4\n",
    "),\n",
    "\n",
    "done AS (\n",
    "SELECT\n",
    "  DATE(c.calendar_date) AS quotation_date,\n",
    "  --s.region,\n",
    "  --s.parent_product_name,\n",
    "  (s.source_id)::int as source_id,\n",
    "  LAG(i.price IGNORE NULLS) OVER (PARTITION BY s.source_id ORDER BY c.calendar_date)::FLOAT AS p_price_tool,\n",
    "  LAG(i.net_price IGNORE NULLS) OVER (PARTITION BY s.source_id ORDER BY c.calendar_date)::FLOAT AS net_price_tool\n",
    "\n",
    "\n",
    "FROM calendar c\n",
    "CROSS JOIN (SELECT DISTINCT source_id FROM info) s\n",
    "LEFT JOIN info i ON c.calendar_date = i.created_at-1 AND s.source_id = i.source_id\n",
    ")\n",
    "\n",
    "SELECT *\n",
    "FROM done\n",
    "WHERE net_price_tool IS NOT NULL\n",
    " AND quotation_date >= '2024-05-01'\n",
    "\"\"\".format(skus=tuple(df_bench.source_id.unique()))\n",
    "df = run_read_prod_query(query)  \n",
    "df['quotation_date'] = pd.to_datetime(df['quotation_date'])"
   ]
  },
  {
   "cell_type": "code",
   "execution_count": 8,
   "metadata": {},
   "outputs": [],
   "source": [
    "df = pd.merge(df_bench, df, left_on=['source_id','quotation_date'], right_on=['source_id','quotation_date'], how='inner')"
   ]
  },
  {
   "cell_type": "code",
   "execution_count": 9,
   "metadata": {},
   "outputs": [],
   "source": [
    "query = \"\"\"\n",
    "WITH clients AS (\n",
    "SELECT\n",
    "    s.identifier_value AS site_code,\n",
    "    TO_CHAR(DATE(fs.order_submitted_date),'YYYY-WW') AS week,\n",
    "    DATE(fs.order_submitted_date) AS quotation_date,\n",
    "    COUNT(DISTINCT fs.dim_customer)::FLOAT AS customers\n",
    "\n",
    "FROM dpr_sales.fact_sales                   fs\n",
    "INNER JOIN dpr_shared.dim_site              s   ON s.site_id = fs.dim_site\n",
    "INNER JOIN dpr_shared.dim_product           dp  ON dp.product_id = fs.dim_product\n",
    "INNER JOIN dpr_shared.dim_category          cat ON cat.category_id = dp.category_id\n",
    "\n",
    "WHERE \n",
    "    fs.gmv_enabled = TRUE\n",
    "    AND fulfillment_order_status NOT IN ('CANCELLED', 'ARCHIVED','No value')\n",
    "    AND fs.fb_order_status_id IN (1,6,7,8)\n",
    "    AND fs.is_deleted = FALSE\n",
    "    AND cat.parent_description = 'Bebidas'\n",
    "    AND fs.dim_status = 1\n",
    "    AND dp.is_slot = 'false'\n",
    "    AND fs.gmv_pxq_local > 0\n",
    "    AND s.identifier_value IN ('SPO')\n",
    "    AND DATE(fs.order_submitted_date) >= '2024-05-01'\n",
    "GROUP BY 1,2,3\n",
    ")\n",
    "\n",
    "\n",
    "SELECT\n",
    "    s.identifier_value AS site_code,\n",
    "    DATE(fs.order_submitted_date) AS quotation_date,\n",
    "    TO_CHAR(DATE(fs.order_submitted_date),'YYYY-WW') AS week,\n",
    "    cat.parent_description AS cat,\n",
    "    sup.source_id,\n",
    "    sup.description,\n",
    "    clt.customers as clients,\n",
    "    COUNT(DISTINCT fs.dim_customer)::FLOAT AS customers,\n",
    "    SUM(fs.product_quantity_x_step_unit)::FLOAT AS cant,\n",
    "    (SUM(fs.gmv_pxq_local)/4.75)::FLOAT AS gmv_usd,\n",
    "    SUM(fs.product_price*fs.product_quantity_x_step_unit)/cant AS product_price,\n",
    "    SUM(fs.product_price_discount*fs.product_quantity_x_step_unit)/cant AS product_price_discount,\n",
    "    gmv_usd/SUM(gmv_usd) OVER (PARTITION BY s.identifier_value)::FLOAT AS gmv_mix,\n",
    "    AVG(CASE WHEN dtd.dtd_cost_local = 0 THEN m.inventory_p_fin ELSE dtd.dtd_cost_local END)::float as costo\n",
    "\n",
    "FROM dpr_sales.fact_sales                   fs\n",
    "INNER JOIN dpr_shared.dim_site              s   ON s.site_id = fs.dim_site\n",
    "INNER JOIN dpr_shared.dim_product           dp  ON dp.product_id = fs.dim_product\n",
    "INNER JOIN dpr_shared.dim_category          cat ON cat.category_id = dp.category_id\n",
    "INNER JOIN dpr_shared.dim_stock_unit        su  ON su.product_id = fs.dim_product\n",
    "INNER JOIN dpr_shared.dim_stock_unit        sup  ON nvl(nullif(su.source_parent_id,0),su.source_id) = sup.source_id\n",
    "LEFT JOIN dpr_cross_business.int_dtd_cost   dtd ON DATE(fs.order_submitted_date)-1 = to_date(dtd.dim_date_dtd::text,'YYYYMMDD')  and sup.stock_unit_id = dtd.dim_stock_unit\n",
    "LEFT JOIN dpr_cross_business.fact_cross_business_insights m ON m.dim_stock_unit = sup.stock_unit_id AND m.dim_date = fs.dim_submitted_date\n",
    "INNER JOIN clients                          clt ON clt.site_code = s.identifier_value and TO_CHAR(DATE(fs.order_submitted_date),'YYYY-WW') = clt.week\n",
    "WHERE \n",
    "    fs.gmv_enabled = TRUE\n",
    "    AND fulfillment_order_status NOT IN ('CANCELLED', 'ARCHIVED','No value')\n",
    "    AND fs.fb_order_status_id IN (1,6,7,8)\n",
    "    AND fs.is_deleted = FALSE\n",
    "    AND cat.super_category = 'Multicategoría'\n",
    "    AND fs.dim_status = 1\n",
    "    AND dp.is_slot = 'false'\n",
    "    AND fs.gmv_pxq_local > 0\n",
    "    AND s.identifier_value IN ('SPO')\n",
    "    AND DATE(fs.order_submitted_date) >= '2024-05-01'\n",
    "    --AND DATE(fs.order_submitted_date) <= '2023-11-30'\n",
    "GROUP BY 1,2,3,4,5,6,7\n",
    "HAVING costo > 0\n",
    "\"\"\"\n",
    "df_gmv = run_read_dwd_query(query)\n",
    "df_gmv['quotation_date'] = pd.to_datetime(df_gmv['quotation_date'])"
   ]
  },
  {
   "cell_type": "code",
   "execution_count": 10,
   "metadata": {},
   "outputs": [],
   "source": [
    "query = \"\"\"\n",
    " SELECT \n",
    "        sup.source_id,\n",
    "        type AS cluster,\n",
    "        cat.parent_description AS cat,\n",
    "        ROW_NUMBER() OVER (PARTITION BY sup.source_id ORDER BY c.last_modified_at DESC, cluster DESC) AS rn\n",
    "    FROM \n",
    "        dpr_product_pricing.dim_sku_cluster_period c\n",
    "     INNER JOIN dpr_shared.dim_stock_unit        su  ON su.sku = c.sku\n",
    "     INNER JOIN dpr_shared.dim_stock_unit        sup  ON nvl(nullif(su.source_parent_id,0),su.source_id) = sup.source_id\n",
    "     INNER JOIN dpr_shared.dim_category          cat  ON cat.category_id = sup.category_id\n",
    "    where \n",
    "        c.site_id in (4,6,9,11)\n",
    "\"\"\"\n",
    "df_type = run_read_dwd_query(query)\n",
    "df_type = df_type.loc[df_type.rn == 1,['source_id','cluster']].copy()"
   ]
  },
  {
   "cell_type": "code",
   "execution_count": 11,
   "metadata": {},
   "outputs": [],
   "source": [
    "df_gmv = pd.merge(df_gmv, df_type, left_on=['source_id'], right_on=['source_id'], how='left')\n",
    "df_gmv['cluster'] = df_gmv['cluster'].fillna('TAIL')"
   ]
  },
  {
   "cell_type": "code",
   "execution_count": 12,
   "metadata": {},
   "outputs": [],
   "source": [
    "df = df.loc[df.source_id.isin(df_gmv.loc[df_gmv.cat == 'Bebidas'].source_id.unique())].reset_index(drop=True).copy()\n",
    "df_gmv = df_gmv.loc[df_gmv.source_id.isin(df_gmv.loc[df_gmv.cat == 'Bebidas'].source_id.unique())].reset_index(drop=True).copy()"
   ]
  },
  {
   "cell_type": "code",
   "execution_count": 13,
   "metadata": {},
   "outputs": [],
   "source": [
    "import pandas as pd\n",
    "\n",
    "# Supongamos que 'df' es tu DataFrame original\n",
    "# Agrupamos por 'source_id' y 'quotation_date'\n",
    "grouped = df.groupby(['source_id', 'quotation_date'])\n",
    "\n",
    "# Aplicamos las funciones de agregación, incluyendo los percentiles de 'price' y los promedios de 'p_price_tool' y 'net_price_tool'\n",
    "aggregated = grouped.agg({\n",
    "    'price': [\n",
    "        ('min', 'min'),\n",
    "        ('p10', lambda x: x.quantile(0.10)),\n",
    "        ('p25', lambda x: x.quantile(0.25)),\n",
    "        ('p50', lambda x: x.quantile(0.50)),\n",
    "        ('p75', lambda x: x.quantile(0.75)),\n",
    "        ('max', 'max')\n",
    "    ],\n",
    "    'p_price_tool': 'mean',\n",
    "    'net_price_tool': 'mean'\n",
    "}).reset_index()\n",
    "\n",
    "# Aplanar las columnas para eliminar la multi-nivel\n",
    "aggregated.columns = ['_'.join(col).strip() if col[1] else col[0] for col in aggregated.columns]"
   ]
  },
  {
   "cell_type": "code",
   "execution_count": 14,
   "metadata": {},
   "outputs": [],
   "source": [
    "df2 = pd.merge(df_gmv,aggregated,left_on=['source_id','quotation_date'],right_on=['source_id','quotation_date'],how='left')\n",
    "\n",
    "df3 = pd.merge(df,df_gmv,left_on=['source_id','quotation_date','site_code'],right_on=['source_id','quotation_date','site_code'],how='left')"
   ]
  },
  {
   "cell_type": "code",
   "execution_count": 15,
   "metadata": {},
   "outputs": [],
   "source": [
    "import pandas as pd\n",
    "import numpy as np\n",
    "from sklearn.linear_model import LinearRegression\n",
    "import matplotlib.pyplot as plt\n",
    "\n",
    "# Asegurarnos de que quotation_date esté en formato numérico (ej. días desde un punto inicial)\n",
    "df2['date_ordinal'] = df2['quotation_date'].map(lambda x: x.toordinal())\n",
    "\n",
    "# Eliminar filas con NaN o valores infinitos en 'gmv_usd'\n",
    "df2_clean = df2[np.isfinite(df2['gmv_usd'])]\n",
    "\n",
    "# Función para calcular la pendiente de GMV vs quotation_date para cada source_id\n",
    "def calculate_slope(group):\n",
    "    X = group['date_ordinal'].values.reshape(-1, 1)\n",
    "    y = group['gmv_usd'].values\n",
    "    reg = LinearRegression().fit(X, y)\n",
    "    return reg.coef_[0]\n",
    "\n",
    "# Calcular la pendiente para cada source_id\n",
    "slopes = df2_clean.groupby('source_id').apply(calculate_slope)\n",
    "slopes_df = slopes.reset_index(name='slope')\n",
    "\n",
    "# Identificar los source_id con mayor caída en GMV\n",
    "top_falling_ids = slopes_df.nsmallest(15, 'slope')['source_id']"
   ]
  },
  {
   "cell_type": "code",
   "execution_count": 16,
   "metadata": {},
   "outputs": [],
   "source": [
    "df3['gpi'] = df3.p_price_tool/df3.price\n",
    "df3['npi'] = df3.net_price_tool/df3.price\n",
    "df3['nmg'] = 1-(df3.costo/df3.net_price_tool)\n",
    "df3['ncash_mg'] = df3.gmv_usd*df3.nmg"
   ]
  },
  {
   "cell_type": "code",
   "execution_count": 17,
   "metadata": {},
   "outputs": [],
   "source": [
    "df2['gpi'] = df2.p_price_tool_mean/df2.price_p50\n",
    "df2['npi'] = df2.net_price_tool_mean/df2.price_p50\n",
    "df2['nmg'] = 1-(df2.costo/df2.net_price_tool_mean)\n",
    "df2['ncash_mg'] = df2.gmv_usd*df2.nmg"
   ]
  },
  {
   "cell_type": "code",
   "execution_count": 18,
   "metadata": {},
   "outputs": [],
   "source": [
    "df_gmv['nmg'] = 1-(df_gmv.costo/df_gmv.product_price_discount)\n",
    "df_gmv['ncash_mg'] = df_gmv.gmv_usd*df_gmv.nmg"
   ]
  },
  {
   "cell_type": "code",
   "execution_count": 31,
   "metadata": {},
   "outputs": [
    {
     "name": "stdout",
     "output_type": "stream",
     "text": [
      "49     452043\n",
      "149    652815\n",
      "12     277871\n",
      "13     277873\n",
      "33     363763\n",
      "10     277866\n",
      "37     363789\n",
      "35     363775\n",
      "74     597183\n",
      "72     580894\n",
      "56     483012\n",
      "46     397323\n",
      "80     614937\n",
      "53     453298\n",
      "28     284046\n",
      "Name: source_id, dtype: int64\n"
     ]
    },
    {
     "data": {
      "application/vnd.plotly.v1+json": {
       "config": {
        "plotlyServerURL": "https://plot.ly"
       },
       "data": [
        {
         "connectgaps": false,
         "hovertemplate": "competitor_name=Akki - Balneário Mar Paulista, Cupecê - Zukkin<br>Fecha=%{x}<br>NPI=%{y}<extra></extra>",
         "legendgroup": "Akki - Balneário Mar Paulista, Cupecê - Zukkin",
         "line": {
          "color": "#636efa",
          "dash": "solid"
         },
         "mode": "lines",
         "name": "Akki - Balneário Mar Paulista, Cupecê - Zukkin",
         "showlegend": true,
         "type": "scattergl",
         "x": [
          "2024-05-07T00:00:00",
          "2024-05-08T00:00:00",
          "2024-05-09T00:00:00",
          "2024-05-10T00:00:00",
          "2024-05-11T00:00:00",
          "2024-05-12T00:00:00",
          "2024-05-13T00:00:00",
          "2024-05-14T00:00:00",
          "2024-05-15T00:00:00",
          "2024-05-16T00:00:00",
          "2024-05-17T00:00:00",
          "2024-05-18T00:00:00",
          "2024-05-19T00:00:00",
          "2024-05-20T00:00:00",
          "2024-05-21T00:00:00",
          "2024-05-22T00:00:00",
          "2024-05-23T00:00:00",
          "2024-05-24T00:00:00",
          "2024-05-28T00:00:00",
          "2024-05-29T00:00:00",
          "2024-05-30T00:00:00",
          "2024-05-31T00:00:00",
          "2024-06-01T00:00:00",
          "2024-06-02T00:00:00",
          "2024-06-03T00:00:00",
          "2024-06-04T00:00:00",
          "2024-06-05T00:00:00",
          "2024-06-06T00:00:00",
          "2024-06-07T00:00:00",
          "2024-06-08T00:00:00",
          "2024-06-09T00:00:00",
          "2024-06-10T00:00:00",
          "2024-06-11T00:00:00",
          "2024-06-12T00:00:00",
          "2024-06-13T00:00:00",
          "2024-06-14T00:00:00",
          "2024-06-15T00:00:00",
          "2024-06-16T00:00:00",
          "2024-06-17T00:00:00",
          "2024-06-18T00:00:00",
          "2024-06-19T00:00:00",
          "2024-06-20T00:00:00",
          "2024-06-21T00:00:00",
          "2024-06-22T00:00:00",
          "2024-06-23T00:00:00",
          "2024-06-24T00:00:00",
          "2024-06-25T00:00:00",
          "2024-06-26T00:00:00",
          "2024-06-27T00:00:00",
          "2024-06-28T00:00:00",
          "2024-06-29T00:00:00",
          "2024-06-30T00:00:00",
          "2024-07-01T00:00:00",
          "2024-07-02T00:00:00",
          "2024-07-03T00:00:00",
          "2024-07-04T00:00:00",
          "2024-07-05T00:00:00",
          "2024-07-06T00:00:00",
          "2024-07-07T00:00:00",
          "2024-07-08T00:00:00",
          "2024-07-09T00:00:00",
          "2024-07-10T00:00:00",
          "2024-07-11T00:00:00",
          "2024-07-12T00:00:00",
          "2024-07-13T00:00:00",
          "2024-07-14T00:00:00",
          "2024-07-15T00:00:00",
          "2024-07-16T00:00:00",
          "2024-07-17T00:00:00",
          "2024-07-18T00:00:00",
          "2024-07-22T00:00:00",
          "2024-07-23T00:00:00",
          "2024-07-24T00:00:00",
          "2024-07-25T00:00:00",
          "2024-07-26T00:00:00",
          "2024-07-27T00:00:00",
          "2024-07-28T00:00:00",
          "2024-07-29T00:00:00",
          "2024-07-30T00:00:00",
          "2024-07-31T00:00:00",
          "2024-08-01T00:00:00",
          "2024-08-08T00:00:00",
          "2024-08-09T00:00:00",
          "2024-08-10T00:00:00",
          "2024-08-11T00:00:00",
          "2024-08-12T00:00:00",
          "2024-08-13T00:00:00",
          "2024-08-14T00:00:00",
          "2024-08-15T00:00:00",
          "2024-08-16T00:00:00",
          "2024-08-17T00:00:00",
          "2024-08-18T00:00:00",
          "2024-08-19T00:00:00",
          "2024-08-20T00:00:00",
          "2024-08-21T00:00:00",
          "2024-08-22T00:00:00",
          "2024-08-23T00:00:00",
          "2024-08-24T00:00:00",
          "2024-08-25T00:00:00",
          "2024-08-26T00:00:00",
          "2024-08-27T00:00:00",
          "2024-08-28T00:00:00",
          "2024-08-29T00:00:00"
         ],
         "xaxis": "x",
         "y": [
          1.0542005420054201,
          1.0542005420054201,
          1.0542005420054201,
          1.0542005420054201,
          1.0542005420054201,
          1.0542005420054201,
          1.043360433604336,
          1.043360433604336,
          1.043360433604336,
          1.043360433604336,
          1.037940379403794,
          1.037940379403794,
          1.037940379403794,
          1.037940379403794,
          1.037940379403794,
          1.037940379403794,
          1.037940379403794,
          1.037940379403794,
          1.037940379403794,
          1.037940379403794,
          1.037940379403794,
          1.005420054200542,
          1.005420054200542,
          1.005420054200542,
          1.005420054200542,
          1.005420054200542,
          1.005420054200542,
          1.02710027100271,
          1.0352303523035231,
          1.0352303523035231,
          1.0352303523035231,
          1.0352303523035231,
          1.0352303523035231,
          0.8904428904428904,
          0.8834498834498834,
          0.8834498834498834,
          0.8834498834498834,
          0.8834498834498834,
          0.8834498834498834,
          0.974293059125964,
          0.974293059125964,
          0.897172236503856,
          0.974293059125964,
          0.974293059125964,
          0.974293059125964,
          0.974293059125964,
          0.8834498834498834,
          0.8834498834498834,
          0.8834498834498834,
          0.8834498834498834,
          0.8834498834498834,
          0.8834498834498834,
          0.8834498834498834,
          0.8834498834498834,
          0.974293059125964,
          0.974293059125964,
          0.974293059125964,
          0.974293059125964,
          0.974293059125964,
          0.974293059125964,
          0.974293059125964,
          0.974293059125964,
          0.974293059125964,
          0.974293059125964,
          0.974293059125964,
          0.974293059125964,
          0.974293059125964,
          1,
          1,
          1,
          0.974937343358396,
          0.974937343358396,
          0.974937343358396,
          0.974937343358396,
          0.974937343358396,
          0.974937343358396,
          0.974937343358396,
          0.974937343358396,
          0.974937343358396,
          0.974937343358396,
          0.974937343358396,
          0.974937343358396,
          0.974937343358396,
          0.974937343358396,
          0.974937343358396,
          0.974937343358396,
          0.974937343358396,
          0.974937343358396,
          0.974937343358396,
          0.974937343358396,
          0.974937343358396,
          0.974937343358396,
          0.8997493734335839,
          0.8997493734335839,
          0.8997493734335839,
          0.8997493734335839,
          0.9624060150375939,
          0.9624060150375939,
          0.9624060150375939,
          0.9624060150375939,
          0.9624060150375939,
          0.9624060150375939,
          0.9624060150375939
         ],
         "yaxis": "y"
        },
        {
         "connectgaps": false,
         "hovertemplate": "competitor_name=Akki - Socorro - Zukkin<br>Fecha=%{x}<br>NPI=%{y}<extra></extra>",
         "legendgroup": "Akki - Socorro - Zukkin",
         "line": {
          "color": "#EF553B",
          "dash": "solid"
         },
         "mode": "lines",
         "name": "Akki - Socorro - Zukkin",
         "showlegend": true,
         "type": "scattergl",
         "x": [
          "2024-05-01T00:00:00",
          "2024-05-02T00:00:00",
          "2024-05-03T00:00:00",
          "2024-05-04T00:00:00",
          "2024-05-05T00:00:00",
          "2024-05-06T00:00:00",
          "2024-05-07T00:00:00",
          "2024-05-08T00:00:00",
          "2024-05-09T00:00:00",
          "2024-05-10T00:00:00",
          "2024-05-11T00:00:00",
          "2024-05-12T00:00:00",
          "2024-05-13T00:00:00",
          "2024-05-14T00:00:00",
          "2024-05-15T00:00:00",
          "2024-05-16T00:00:00",
          "2024-05-17T00:00:00",
          "2024-05-18T00:00:00",
          "2024-05-19T00:00:00",
          "2024-05-20T00:00:00",
          "2024-05-21T00:00:00",
          "2024-05-22T00:00:00",
          "2024-05-23T00:00:00",
          "2024-05-24T00:00:00",
          "2024-05-25T00:00:00",
          "2024-05-26T00:00:00",
          "2024-05-27T00:00:00",
          "2024-05-28T00:00:00",
          "2024-05-29T00:00:00",
          "2024-05-30T00:00:00",
          "2024-07-24T00:00:00",
          "2024-07-25T00:00:00",
          "2024-07-26T00:00:00",
          "2024-07-27T00:00:00",
          "2024-07-28T00:00:00",
          "2024-07-29T00:00:00",
          "2024-07-30T00:00:00",
          "2024-07-31T00:00:00",
          "2024-08-01T00:00:00",
          "2024-08-02T00:00:00",
          "2024-08-03T00:00:00",
          "2024-08-04T00:00:00",
          "2024-08-05T00:00:00",
          "2024-08-06T00:00:00",
          "2024-08-07T00:00:00",
          "2024-08-08T00:00:00",
          "2024-08-09T00:00:00",
          "2024-08-10T00:00:00",
          "2024-08-11T00:00:00",
          "2024-08-12T00:00:00",
          "2024-08-13T00:00:00",
          "2024-08-14T00:00:00",
          "2024-08-15T00:00:00",
          "2024-08-22T00:00:00",
          "2024-08-23T00:00:00",
          "2024-08-24T00:00:00",
          "2024-08-25T00:00:00",
          "2024-08-26T00:00:00",
          "2024-08-27T00:00:00",
          "2024-08-28T00:00:00",
          "2024-08-29T00:00:00"
         ],
         "xaxis": "x",
         "y": [
          0.9323308270676691,
          0.9323308270676691,
          0.9624060150375939,
          0.9624060150375939,
          0.9624060150375939,
          0.974937343358396,
          0.974937343358396,
          1.0542005420054201,
          1.0542005420054201,
          1.0542005420054201,
          1.0542005420054201,
          1.0542005420054201,
          1.043360433604336,
          1.043360433604336,
          1.043360433604336,
          1.043360433604336,
          1.037940379403794,
          1.037940379403794,
          1.037940379403794,
          1.037940379403794,
          1.037940379403794,
          1.037940379403794,
          1.037940379403794,
          1.037940379403794,
          1.037940379403794,
          1.037940379403794,
          1.037940379403794,
          1.037940379403794,
          1.037940379403794,
          1.037940379403794,
          0.974937343358396,
          0.974937343358396,
          0.974937343358396,
          0.974937343358396,
          0.974937343358396,
          0.974937343358396,
          0.974937343358396,
          0.974937343358396,
          0.974937343358396,
          0.974937343358396,
          0.974937343358396,
          0.974937343358396,
          0.974937343358396,
          0.974937343358396,
          1,
          1,
          1,
          1,
          1,
          1,
          1,
          1,
          1,
          0.8997493734335839,
          0.9624060150375939,
          0.9624060150375939,
          0.9624060150375939,
          0.9624060150375939,
          0.9624060150375939,
          0.9624060150375939,
          0.9624060150375939
         ],
         "yaxis": "y"
        },
        {
         "connectgaps": false,
         "hovertemplate": "competitor_name=Assaí - Jd. Santa Francisca - Zukkin<br>Fecha=%{x}<br>NPI=%{y}<extra></extra>",
         "legendgroup": "Assaí - Jd. Santa Francisca - Zukkin",
         "line": {
          "color": "#00cc96",
          "dash": "solid"
         },
         "mode": "lines",
         "name": "Assaí - Jd. Santa Francisca - Zukkin",
         "showlegend": true,
         "type": "scattergl",
         "x": [
          "2024-05-28T00:00:00",
          "2024-05-29T00:00:00",
          "2024-05-30T00:00:00",
          "2024-05-31T00:00:00",
          "2024-06-01T00:00:00",
          "2024-06-02T00:00:00",
          "2024-06-03T00:00:00",
          "2024-06-04T00:00:00",
          "2024-06-05T00:00:00",
          "2024-06-06T00:00:00",
          "2024-06-07T00:00:00",
          "2024-06-08T00:00:00",
          "2024-06-09T00:00:00",
          "2024-06-10T00:00:00",
          "2024-06-11T00:00:00",
          "2024-06-12T00:00:00",
          "2024-06-13T00:00:00",
          "2024-06-14T00:00:00",
          "2024-06-15T00:00:00",
          "2024-06-16T00:00:00",
          "2024-06-17T00:00:00",
          "2024-06-18T00:00:00",
          "2024-06-19T00:00:00",
          "2024-06-20T00:00:00",
          "2024-06-21T00:00:00",
          "2024-06-22T00:00:00",
          "2024-06-23T00:00:00",
          "2024-06-24T00:00:00",
          "2024-06-25T00:00:00",
          "2024-06-26T00:00:00",
          "2024-06-27T00:00:00",
          "2024-06-28T00:00:00",
          "2024-06-29T00:00:00",
          "2024-06-30T00:00:00",
          "2024-07-01T00:00:00",
          "2024-07-02T00:00:00",
          "2024-07-03T00:00:00",
          "2024-07-04T00:00:00",
          "2024-07-05T00:00:00",
          "2024-07-06T00:00:00",
          "2024-07-07T00:00:00",
          "2024-07-08T00:00:00",
          "2024-07-09T00:00:00",
          "2024-07-10T00:00:00",
          "2024-07-11T00:00:00",
          "2024-07-12T00:00:00",
          "2024-07-13T00:00:00",
          "2024-07-14T00:00:00",
          "2024-07-15T00:00:00",
          "2024-07-16T00:00:00",
          "2024-07-17T00:00:00",
          "2024-07-18T00:00:00",
          "2024-07-19T00:00:00",
          "2024-07-20T00:00:00",
          "2024-07-21T00:00:00",
          "2024-07-22T00:00:00",
          "2024-07-23T00:00:00",
          "2024-07-24T00:00:00",
          "2024-07-25T00:00:00",
          "2024-07-26T00:00:00",
          "2024-07-27T00:00:00",
          "2024-07-28T00:00:00",
          "2024-07-29T00:00:00",
          "2024-07-30T00:00:00",
          "2024-07-31T00:00:00",
          "2024-08-01T00:00:00",
          "2024-08-02T00:00:00",
          "2024-08-03T00:00:00",
          "2024-08-04T00:00:00",
          "2024-08-05T00:00:00",
          "2024-08-06T00:00:00",
          "2024-08-07T00:00:00",
          "2024-08-08T00:00:00",
          "2024-08-09T00:00:00",
          "2024-08-10T00:00:00",
          "2024-08-11T00:00:00",
          "2024-08-12T00:00:00",
          "2024-08-13T00:00:00",
          "2024-08-14T00:00:00",
          "2024-08-15T00:00:00",
          "2024-08-16T00:00:00",
          "2024-08-17T00:00:00",
          "2024-08-18T00:00:00",
          "2024-08-19T00:00:00",
          "2024-08-20T00:00:00",
          "2024-08-21T00:00:00",
          "2024-08-22T00:00:00",
          "2024-08-23T00:00:00",
          "2024-08-24T00:00:00",
          "2024-08-25T00:00:00",
          "2024-08-26T00:00:00",
          "2024-08-27T00:00:00",
          "2024-08-28T00:00:00",
          "2024-08-29T00:00:00"
         ],
         "xaxis": "x",
         "y": [
          1.0668523676880224,
          1.0668523676880224,
          1.0668523676880224,
          1.033426183844011,
          1.033426183844011,
          1.033426183844011,
          1.033426183844011,
          1.033426183844011,
          1.033426183844011,
          1.0557103064066853,
          1.064066852367688,
          1.064066852367688,
          1.064066852367688,
          1.064066852367688,
          1.064066852367688,
          1.064066852367688,
          1.0557103064066853,
          1.0557103064066853,
          1.0557103064066853,
          1.0557103064066853,
          1.0557103064066853,
          1.0557103064066853,
          1.0557103064066853,
          0.9721448467966575,
          1.0557103064066853,
          1.0557103064066853,
          1.0557103064066853,
          1.0557103064066853,
          1.0557103064066853,
          1.0557103064066853,
          1.0557103064066853,
          1.0557103064066853,
          1.0557103064066853,
          1.0557103064066853,
          1.0557103064066853,
          1.0557103064066853,
          1.0557103064066853,
          1.0557103064066853,
          1.0557103064066853,
          1.0557103064066853,
          1.0557103064066853,
          1.0557103064066853,
          1.0557103064066853,
          1.0557103064066853,
          1.0557103064066853,
          1.0557103064066853,
          1.0557103064066853,
          1.0557103064066853,
          1.0557103064066853,
          1.083565459610028,
          1.083565459610028,
          1.083565459610028,
          1.083565459610028,
          1.083565459610028,
          1.083565459610028,
          1.083565459610028,
          1.083565459610028,
          1.083565459610028,
          1.083565459610028,
          1.083565459610028,
          1.083565459610028,
          1.083565459610028,
          1.083565459610028,
          1.083565459610028,
          1.083565459610028,
          1.083565459610028,
          1.083565459610028,
          1.083565459610028,
          1.083565459610028,
          1.083565459610028,
          1.083565459610028,
          1.083565459610028,
          1.083565459610028,
          1.083565459610028,
          1.083565459610028,
          1.083565459610028,
          1.083565459610028,
          1.083565459610028,
          1.083565459610028,
          1.083565459610028,
          1.083565459610028,
          1.083565459610028,
          1.083565459610028,
          1,
          0.9472295514511873,
          0.9472295514511873,
          0.9472295514511873,
          1.013192612137203,
          1.013192612137203,
          1.013192612137203,
          1.013192612137203,
          1.013192612137203,
          1.013192612137203,
          1.013192612137203
         ],
         "yaxis": "y"
        },
        {
         "connectgaps": false,
         "hovertemplate": "competitor_name=Assaí - Osasco - Zukkin<br>Fecha=%{x}<br>NPI=%{y}<extra></extra>",
         "legendgroup": "Assaí - Osasco - Zukkin",
         "line": {
          "color": "#ab63fa",
          "dash": "solid"
         },
         "mode": "lines",
         "name": "Assaí - Osasco - Zukkin",
         "showlegend": true,
         "type": "scattergl",
         "x": [
          "2024-06-13T00:00:00",
          "2024-06-14T00:00:00",
          "2024-06-15T00:00:00",
          "2024-06-16T00:00:00",
          "2024-06-17T00:00:00",
          "2024-06-18T00:00:00",
          "2024-06-19T00:00:00",
          "2024-06-20T00:00:00",
          "2024-06-21T00:00:00",
          "2024-07-03T00:00:00",
          "2024-07-04T00:00:00",
          "2024-07-05T00:00:00",
          "2024-07-06T00:00:00",
          "2024-07-07T00:00:00",
          "2024-07-08T00:00:00",
          "2024-07-09T00:00:00",
          "2024-07-10T00:00:00",
          "2024-07-11T00:00:00",
          "2024-07-12T00:00:00",
          "2024-07-13T00:00:00",
          "2024-07-14T00:00:00",
          "2024-07-15T00:00:00",
          "2024-07-16T00:00:00",
          "2024-07-17T00:00:00",
          "2024-07-18T00:00:00",
          "2024-07-19T00:00:00",
          "2024-07-20T00:00:00",
          "2024-07-21T00:00:00",
          "2024-07-22T00:00:00",
          "2024-07-23T00:00:00",
          "2024-07-24T00:00:00",
          "2024-07-25T00:00:00",
          "2024-07-26T00:00:00",
          "2024-07-27T00:00:00",
          "2024-07-28T00:00:00",
          "2024-07-29T00:00:00",
          "2024-07-30T00:00:00",
          "2024-07-31T00:00:00",
          "2024-08-01T00:00:00",
          "2024-08-02T00:00:00",
          "2024-08-03T00:00:00",
          "2024-08-04T00:00:00",
          "2024-08-05T00:00:00",
          "2024-08-06T00:00:00",
          "2024-08-07T00:00:00",
          "2024-08-08T00:00:00",
          "2024-08-09T00:00:00",
          "2024-08-10T00:00:00",
          "2024-08-11T00:00:00",
          "2024-08-12T00:00:00",
          "2024-08-13T00:00:00",
          "2024-08-14T00:00:00",
          "2024-08-15T00:00:00",
          "2024-08-16T00:00:00",
          "2024-08-17T00:00:00",
          "2024-08-18T00:00:00",
          "2024-08-19T00:00:00",
          "2024-08-20T00:00:00",
          "2024-08-21T00:00:00",
          "2024-08-22T00:00:00",
          "2024-08-23T00:00:00",
          "2024-08-24T00:00:00",
          "2024-08-25T00:00:00",
          "2024-08-26T00:00:00",
          "2024-08-27T00:00:00",
          "2024-08-28T00:00:00",
          "2024-08-29T00:00:00"
         ],
         "xaxis": "x",
         "y": [
          1.0106666666666666,
          1.0106666666666666,
          1.0106666666666666,
          1.0106666666666666,
          1.0106666666666666,
          1.0106666666666666,
          1.0106666666666666,
          0.9306666666666668,
          1.0106666666666666,
          1.0106666666666666,
          1.0106666666666666,
          1.0106666666666666,
          1.0106666666666666,
          1.0106666666666666,
          1.0106666666666666,
          1.0106666666666666,
          0.9844155844155844,
          0.9844155844155844,
          0.9844155844155844,
          0.9844155844155844,
          0.9844155844155844,
          0.9844155844155844,
          1.0103896103896104,
          1.0373333333333334,
          1.0373333333333334,
          1.0373333333333334,
          1.0373333333333334,
          1.0373333333333334,
          1.0373333333333334,
          1.0373333333333334,
          1.0373333333333334,
          1.0373333333333334,
          1.0373333333333334,
          1.0373333333333334,
          1.0373333333333334,
          1.0373333333333334,
          1.0373333333333334,
          1.0373333333333334,
          1.0373333333333334,
          1.0373333333333334,
          1.0373333333333334,
          1.0373333333333334,
          1.0373333333333334,
          1.0373333333333334,
          1.0373333333333334,
          1.0373333333333334,
          1.0373333333333334,
          1.0373333333333334,
          1.0373333333333334,
          1.0373333333333334,
          1.0373333333333334,
          1.0373333333333334,
          1.0373333333333334,
          1.0373333333333334,
          1.0373333333333334,
          1.0373333333333334,
          0.9573333333333333,
          0.9573333333333333,
          0.9573333333333333,
          0.9324675324675324,
          0.9974025974025973,
          0.9974025974025973,
          0.9974025974025973,
          0.9974025974025973,
          0.9974025974025973,
          0.9974025974025973,
          0.9974025974025973
         ],
         "yaxis": "y"
        },
        {
         "connectgaps": false,
         "hovertemplate": "competitor_name=Assaí - Santo André - Zukkin<br>Fecha=%{x}<br>NPI=%{y}<extra></extra>",
         "legendgroup": "Assaí - Santo André - Zukkin",
         "line": {
          "color": "#FFA15A",
          "dash": "solid"
         },
         "mode": "lines",
         "name": "Assaí - Santo André - Zukkin",
         "showlegend": true,
         "type": "scattergl",
         "x": [
          "2024-06-06T00:00:00",
          "2024-06-07T00:00:00",
          "2024-06-08T00:00:00",
          "2024-06-09T00:00:00",
          "2024-06-10T00:00:00",
          "2024-06-11T00:00:00",
          "2024-06-12T00:00:00",
          "2024-06-13T00:00:00",
          "2024-06-14T00:00:00",
          "2024-06-21T00:00:00",
          "2024-06-22T00:00:00",
          "2024-06-23T00:00:00",
          "2024-06-24T00:00:00",
          "2024-06-25T00:00:00",
          "2024-06-26T00:00:00",
          "2024-06-27T00:00:00",
          "2024-06-28T00:00:00",
          "2024-06-29T00:00:00",
          "2024-06-30T00:00:00",
          "2024-07-01T00:00:00",
          "2024-07-02T00:00:00",
          "2024-07-03T00:00:00",
          "2024-07-04T00:00:00",
          "2024-07-05T00:00:00",
          "2024-07-06T00:00:00",
          "2024-07-07T00:00:00",
          "2024-07-08T00:00:00",
          "2024-07-09T00:00:00",
          "2024-07-10T00:00:00",
          "2024-07-11T00:00:00",
          "2024-07-12T00:00:00",
          "2024-07-13T00:00:00",
          "2024-07-14T00:00:00",
          "2024-07-15T00:00:00",
          "2024-07-16T00:00:00",
          "2024-07-17T00:00:00",
          "2024-07-18T00:00:00",
          "2024-07-19T00:00:00",
          "2024-07-20T00:00:00",
          "2024-07-21T00:00:00",
          "2024-07-22T00:00:00",
          "2024-07-23T00:00:00",
          "2024-07-24T00:00:00",
          "2024-07-25T00:00:00",
          "2024-07-26T00:00:00",
          "2024-07-27T00:00:00",
          "2024-07-28T00:00:00",
          "2024-07-29T00:00:00",
          "2024-07-30T00:00:00",
          "2024-07-31T00:00:00",
          "2024-08-01T00:00:00",
          "2024-08-02T00:00:00",
          "2024-08-03T00:00:00",
          "2024-08-04T00:00:00",
          "2024-08-05T00:00:00",
          "2024-08-06T00:00:00",
          "2024-08-07T00:00:00",
          "2024-08-08T00:00:00",
          "2024-08-09T00:00:00",
          "2024-08-10T00:00:00",
          "2024-08-11T00:00:00",
          "2024-08-12T00:00:00",
          "2024-08-13T00:00:00",
          "2024-08-14T00:00:00",
          "2024-08-15T00:00:00",
          "2024-08-16T00:00:00",
          "2024-08-17T00:00:00",
          "2024-08-18T00:00:00",
          "2024-08-19T00:00:00",
          "2024-08-20T00:00:00",
          "2024-08-21T00:00:00",
          "2024-08-22T00:00:00",
          "2024-08-23T00:00:00",
          "2024-08-24T00:00:00",
          "2024-08-25T00:00:00",
          "2024-08-26T00:00:00",
          "2024-08-27T00:00:00",
          "2024-08-28T00:00:00",
          "2024-08-29T00:00:00"
         ],
         "xaxis": "x",
         "y": [
          1.02710027100271,
          1.0352303523035231,
          1.0352303523035231,
          1.0352303523035231,
          1.0352303523035231,
          1.0352303523035231,
          1.0352303523035231,
          1.02710027100271,
          1.02710027100271,
          1.02710027100271,
          1.02710027100271,
          1.02710027100271,
          1.02710027100271,
          1.02710027100271,
          1.02710027100271,
          1.02710027100271,
          1.0106666666666666,
          1.0106666666666666,
          1.0106666666666666,
          1.0106666666666666,
          1.0106666666666666,
          1.0557103064066853,
          1.0557103064066853,
          1.0557103064066853,
          1.0557103064066853,
          1.0557103064066853,
          1.02710027100271,
          1.02710027100271,
          1.02710027100271,
          1.02710027100271,
          1.02710027100271,
          1.02710027100271,
          1.02710027100271,
          1.02710027100271,
          1.0542005420054201,
          1.0542005420054201,
          1.0542005420054201,
          1.0542005420054201,
          1.0542005420054201,
          1.0542005420054201,
          1.0542005420054201,
          1.0542005420054201,
          1.0542005420054201,
          1.0542005420054201,
          1.0542005420054201,
          1.0542005420054201,
          1.0542005420054201,
          1.0542005420054201,
          1.0542005420054201,
          1.0542005420054201,
          1.0542005420054201,
          1.0542005420054201,
          1.0542005420054201,
          1.0542005420054201,
          1.0542005420054201,
          1.0542005420054201,
          1.0542005420054201,
          1.0542005420054201,
          1.0542005420054201,
          1.0542005420054201,
          1.0542005420054201,
          1.0542005420054201,
          1.0542005420054201,
          1.0542005420054201,
          1.0542005420054201,
          1.0542005420054201,
          1.0542005420054201,
          1.0542005420054201,
          0.9728997289972899,
          0.9728997289972899,
          0.9324675324675324,
          0.9324675324675324,
          0.9974025974025973,
          0.9974025974025973,
          0.9974025974025973,
          0.9974025974025973,
          0.9974025974025973,
          0.9974025974025973,
          0.9974025974025973
         ],
         "yaxis": "y"
        },
        {
         "connectgaps": false,
         "hovertemplate": "competitor_name=Assaí - Tatuapé - Zukkin<br>Fecha=%{x}<br>NPI=%{y}<extra></extra>",
         "legendgroup": "Assaí - Tatuapé - Zukkin",
         "line": {
          "color": "#19d3f3",
          "dash": "solid"
         },
         "mode": "lines",
         "name": "Assaí - Tatuapé - Zukkin",
         "showlegend": true,
         "type": "scattergl",
         "x": [
          "2024-05-24T00:00:00",
          "2024-05-25T00:00:00",
          "2024-05-26T00:00:00",
          "2024-05-27T00:00:00",
          "2024-05-28T00:00:00",
          "2024-05-29T00:00:00",
          "2024-05-30T00:00:00",
          "2024-05-31T00:00:00",
          "2024-06-01T00:00:00",
          "2024-06-11T00:00:00",
          "2024-06-12T00:00:00",
          "2024-06-13T00:00:00",
          "2024-06-14T00:00:00",
          "2024-06-15T00:00:00",
          "2024-06-16T00:00:00",
          "2024-06-17T00:00:00",
          "2024-06-18T00:00:00",
          "2024-06-19T00:00:00",
          "2024-07-30T00:00:00",
          "2024-07-31T00:00:00",
          "2024-08-01T00:00:00",
          "2024-08-02T00:00:00",
          "2024-08-03T00:00:00",
          "2024-08-04T00:00:00",
          "2024-08-05T00:00:00",
          "2024-08-06T00:00:00",
          "2024-08-07T00:00:00",
          "2024-08-09T00:00:00",
          "2024-08-10T00:00:00",
          "2024-08-11T00:00:00",
          "2024-08-12T00:00:00",
          "2024-08-13T00:00:00",
          "2024-08-14T00:00:00",
          "2024-08-15T00:00:00",
          "2024-08-16T00:00:00",
          "2024-08-17T00:00:00",
          "2024-08-18T00:00:00",
          "2024-08-19T00:00:00",
          "2024-08-20T00:00:00",
          "2024-08-21T00:00:00",
          "2024-08-22T00:00:00",
          "2024-08-23T00:00:00",
          "2024-08-24T00:00:00",
          "2024-08-25T00:00:00",
          "2024-08-26T00:00:00",
          "2024-08-27T00:00:00",
          "2024-08-28T00:00:00",
          "2024-08-29T00:00:00"
         ],
         "xaxis": "x",
         "y": [
          1.0213333333333334,
          1.0213333333333334,
          1.0213333333333334,
          1.0213333333333334,
          1.0213333333333334,
          1.0213333333333334,
          1.0213333333333334,
          0.9893333333333333,
          0.9893333333333333,
          0.9573934837092731,
          0.9573934837092731,
          0.949874686716792,
          0.949874686716792,
          0.949874686716792,
          0.949874686716792,
          0.949874686716792,
          0.949874686716792,
          0.949874686716792,
          1.0373333333333334,
          1.0373333333333334,
          1.0373333333333334,
          1.0373333333333334,
          1.0373333333333334,
          1.0373333333333334,
          1.0373333333333334,
          1.0373333333333334,
          1.0373333333333334,
          1.0373333333333334,
          1.0373333333333334,
          1.0373333333333334,
          1.0373333333333334,
          1.0373333333333334,
          1.0373333333333334,
          1.0373333333333334,
          1.0373333333333334,
          1.0373333333333334,
          1.0373333333333334,
          0.9573333333333333,
          0.9573333333333333,
          0.9573333333333333,
          1,
          1.0696378830083566,
          1.0696378830083566,
          1.0696378830083566,
          1.0696378830083566,
          1.0696378830083566,
          1.0696378830083566,
          1.0696378830083566
         ],
         "yaxis": "y"
        },
        {
         "connectgaps": false,
         "hovertemplate": "competitor_name=Assaí - Vila Sonia - Zukkin<br>Fecha=%{x}<br>NPI=%{y}<extra></extra>",
         "legendgroup": "Assaí - Vila Sonia - Zukkin",
         "line": {
          "color": "#FF6692",
          "dash": "solid"
         },
         "mode": "lines",
         "name": "Assaí - Vila Sonia - Zukkin",
         "showlegend": true,
         "type": "scattergl",
         "x": [
          "2024-05-28T00:00:00",
          "2024-05-29T00:00:00",
          "2024-05-30T00:00:00",
          "2024-05-31T00:00:00",
          "2024-06-01T00:00:00",
          "2024-06-02T00:00:00",
          "2024-06-03T00:00:00",
          "2024-06-04T00:00:00",
          "2024-06-05T00:00:00",
          "2024-06-06T00:00:00",
          "2024-06-07T00:00:00",
          "2024-06-08T00:00:00",
          "2024-06-09T00:00:00",
          "2024-06-10T00:00:00",
          "2024-06-11T00:00:00",
          "2024-06-12T00:00:00",
          "2024-06-13T00:00:00",
          "2024-06-14T00:00:00",
          "2024-06-15T00:00:00",
          "2024-06-16T00:00:00",
          "2024-06-17T00:00:00",
          "2024-06-18T00:00:00",
          "2024-06-19T00:00:00",
          "2024-06-20T00:00:00",
          "2024-06-21T00:00:00",
          "2024-06-22T00:00:00",
          "2024-06-23T00:00:00",
          "2024-06-24T00:00:00",
          "2024-06-25T00:00:00",
          "2024-06-26T00:00:00",
          "2024-06-27T00:00:00",
          "2024-06-28T00:00:00",
          "2024-06-29T00:00:00",
          "2024-06-30T00:00:00",
          "2024-07-01T00:00:00",
          "2024-07-02T00:00:00",
          "2024-07-03T00:00:00",
          "2024-07-04T00:00:00",
          "2024-07-05T00:00:00",
          "2024-07-06T00:00:00",
          "2024-07-07T00:00:00",
          "2024-07-08T00:00:00",
          "2024-07-09T00:00:00",
          "2024-07-10T00:00:00",
          "2024-07-11T00:00:00",
          "2024-07-12T00:00:00",
          "2024-07-13T00:00:00",
          "2024-07-14T00:00:00",
          "2024-07-15T00:00:00",
          "2024-07-16T00:00:00",
          "2024-07-17T00:00:00",
          "2024-07-18T00:00:00",
          "2024-07-19T00:00:00",
          "2024-07-20T00:00:00",
          "2024-07-21T00:00:00",
          "2024-07-22T00:00:00",
          "2024-07-23T00:00:00",
          "2024-07-24T00:00:00",
          "2024-07-25T00:00:00",
          "2024-07-26T00:00:00",
          "2024-07-27T00:00:00",
          "2024-07-28T00:00:00",
          "2024-07-29T00:00:00",
          "2024-07-30T00:00:00",
          "2024-07-31T00:00:00",
          "2024-08-01T00:00:00",
          "2024-08-02T00:00:00",
          "2024-08-03T00:00:00",
          "2024-08-04T00:00:00",
          "2024-08-05T00:00:00",
          "2024-08-06T00:00:00",
          "2024-08-07T00:00:00",
          "2024-08-08T00:00:00",
          "2024-08-09T00:00:00",
          "2024-08-10T00:00:00",
          "2024-08-11T00:00:00",
          "2024-08-12T00:00:00",
          "2024-08-13T00:00:00",
          "2024-08-14T00:00:00",
          "2024-08-15T00:00:00",
          "2024-08-16T00:00:00",
          "2024-08-17T00:00:00",
          "2024-08-18T00:00:00",
          "2024-08-19T00:00:00",
          "2024-08-20T00:00:00",
          "2024-08-21T00:00:00",
          "2024-08-22T00:00:00",
          "2024-08-23T00:00:00",
          "2024-08-24T00:00:00",
          "2024-08-25T00:00:00",
          "2024-08-26T00:00:00",
          "2024-08-27T00:00:00",
          "2024-08-28T00:00:00",
          "2024-08-29T00:00:00"
         ],
         "xaxis": "x",
         "y": [
          1.037940379403794,
          1.037940379403794,
          1.037940379403794,
          1.005420054200542,
          1.005420054200542,
          1.005420054200542,
          1.005420054200542,
          1.005420054200542,
          1.005420054200542,
          1.02710027100271,
          1.0352303523035231,
          1.0352303523035231,
          1.0352303523035231,
          1.0352303523035231,
          1.0352303523035231,
          1.0352303523035231,
          1.02710027100271,
          1.02710027100271,
          1.02710027100271,
          1.02710027100271,
          1.02710027100271,
          1.02710027100271,
          1.02710027100271,
          0.94579945799458,
          1.02710027100271,
          1.02710027100271,
          1.02710027100271,
          1.02710027100271,
          1,
          1,
          1,
          1,
          1,
          1,
          1,
          1.02710027100271,
          1.02710027100271,
          1.02710027100271,
          1.02710027100271,
          1.02710027100271,
          1.02710027100271,
          1.02710027100271,
          1.02710027100271,
          1.02710027100271,
          1.02710027100271,
          1.02710027100271,
          1.02710027100271,
          1.02710027100271,
          1.02710027100271,
          1.0542005420054201,
          1.0542005420054201,
          1.0542005420054201,
          1.0542005420054201,
          1.0542005420054201,
          1.0542005420054201,
          1.0542005420054201,
          1.0542005420054201,
          1.0542005420054201,
          1.0542005420054201,
          1.0542005420054201,
          1.0542005420054201,
          1.0542005420054201,
          1.0542005420054201,
          1.0542005420054201,
          1.0542005420054201,
          1.0542005420054201,
          1.0542005420054201,
          1.0542005420054201,
          1.0542005420054201,
          1.0542005420054201,
          1.0542005420054201,
          1.0542005420054201,
          1.0542005420054201,
          1.0542005420054201,
          1.0542005420054201,
          1.0542005420054201,
          1.0542005420054201,
          1.0542005420054201,
          1.0542005420054201,
          1.0542005420054201,
          1.0542005420054201,
          1.0542005420054201,
          1.0542005420054201,
          0.9728997289972899,
          0.9728997289972899,
          1,
          1,
          1.0696378830083566,
          1.0696378830083566,
          1.0696378830083566,
          1.0696378830083566,
          1.0696378830083566,
          1.013192612137203,
          1.013192612137203
         ],
         "yaxis": "y"
        },
        {
         "connectgaps": false,
         "hovertemplate": "competitor_name=Atacadão - Centro - Zukkin<br>Fecha=%{x}<br>NPI=%{y}<extra></extra>",
         "legendgroup": "Atacadão - Centro - Zukkin",
         "line": {
          "color": "#B6E880",
          "dash": "solid"
         },
         "mode": "lines",
         "name": "Atacadão - Centro - Zukkin",
         "showlegend": true,
         "type": "scattergl",
         "x": [
          "2024-06-06T00:00:00",
          "2024-06-07T00:00:00",
          "2024-06-08T00:00:00",
          "2024-06-09T00:00:00",
          "2024-06-10T00:00:00",
          "2024-06-11T00:00:00",
          "2024-06-12T00:00:00",
          "2024-06-13T00:00:00",
          "2024-06-14T00:00:00",
          "2024-06-15T00:00:00",
          "2024-06-16T00:00:00",
          "2024-06-17T00:00:00",
          "2024-06-18T00:00:00",
          "2024-06-19T00:00:00",
          "2024-06-20T00:00:00",
          "2024-06-21T00:00:00",
          "2024-06-22T00:00:00",
          "2024-06-23T00:00:00",
          "2024-06-24T00:00:00",
          "2024-06-25T00:00:00",
          "2024-06-26T00:00:00",
          "2024-06-27T00:00:00",
          "2024-06-28T00:00:00",
          "2024-06-29T00:00:00",
          "2024-06-30T00:00:00",
          "2024-07-01T00:00:00",
          "2024-07-02T00:00:00",
          "2024-07-09T00:00:00",
          "2024-07-10T00:00:00",
          "2024-07-11T00:00:00",
          "2024-07-12T00:00:00",
          "2024-07-13T00:00:00",
          "2024-07-14T00:00:00",
          "2024-07-15T00:00:00",
          "2024-07-16T00:00:00",
          "2024-07-17T00:00:00",
          "2024-07-18T00:00:00",
          "2024-07-19T00:00:00",
          "2024-07-20T00:00:00",
          "2024-07-21T00:00:00",
          "2024-07-22T00:00:00",
          "2024-07-23T00:00:00",
          "2024-07-24T00:00:00",
          "2024-07-25T00:00:00",
          "2024-07-26T00:00:00",
          "2024-07-27T00:00:00",
          "2024-07-28T00:00:00",
          "2024-07-29T00:00:00",
          "2024-07-30T00:00:00",
          "2024-07-31T00:00:00",
          "2024-08-01T00:00:00",
          "2024-08-02T00:00:00",
          "2024-08-03T00:00:00",
          "2024-08-04T00:00:00",
          "2024-08-05T00:00:00",
          "2024-08-06T00:00:00",
          "2024-08-07T00:00:00",
          "2024-08-08T00:00:00",
          "2024-08-09T00:00:00",
          "2024-08-10T00:00:00",
          "2024-08-11T00:00:00",
          "2024-08-12T00:00:00",
          "2024-08-13T00:00:00",
          "2024-08-14T00:00:00",
          "2024-08-15T00:00:00",
          "2024-08-16T00:00:00",
          "2024-08-17T00:00:00",
          "2024-08-18T00:00:00",
          "2024-08-19T00:00:00",
          "2024-08-20T00:00:00",
          "2024-08-21T00:00:00",
          "2024-08-22T00:00:00",
          "2024-08-23T00:00:00",
          "2024-08-24T00:00:00",
          "2024-08-25T00:00:00",
          "2024-08-26T00:00:00",
          "2024-08-27T00:00:00",
          "2024-08-28T00:00:00",
          "2024-08-29T00:00:00"
         ],
         "xaxis": "x",
         "y": [
          0.959493670886076,
          0.9670886075949366,
          0.9670886075949366,
          0.9670886075949366,
          0.9670886075949366,
          0.9670886075949366,
          0.9670886075949366,
          0.959493670886076,
          0.959493670886076,
          0.959493670886076,
          0.959493670886076,
          0.9266503667481663,
          0.9266503667481663,
          0.9266503667481663,
          0.8533007334963326,
          0.9266503667481663,
          0.9266503667481663,
          0.9266503667481663,
          0.9266503667481663,
          0.9266503667481663,
          0.9266503667481663,
          0.9266503667481663,
          0.9266503667481663,
          0.9266503667481663,
          0.9266503667481663,
          0.9266503667481663,
          0.9266503667481663,
          0.9266503667481663,
          0.9266503667481663,
          0.9266503667481663,
          0.9266503667481663,
          0.9266503667481663,
          0.9266503667481663,
          0.9266503667481663,
          0.9511002444987776,
          0.9511002444987776,
          0.9511002444987776,
          0.9511002444987776,
          0.9511002444987776,
          0.9511002444987776,
          0.9511002444987776,
          0.9511002444987776,
          0.9511002444987776,
          0.9511002444987776,
          0.9511002444987776,
          0.9511002444987776,
          0.9511002444987776,
          0.9511002444987776,
          0.9511002444987776,
          0.9511002444987776,
          0.9511002444987776,
          0.9511002444987776,
          0.9511002444987776,
          0.9511002444987776,
          0.9511002444987776,
          0.9511002444987776,
          0.9511002444987776,
          0.9511002444987776,
          0.9511002444987776,
          0.9511002444987776,
          0.9511002444987776,
          0.9511002444987776,
          0.9511002444987776,
          0.9511002444987776,
          0.9511002444987776,
          0.9511002444987776,
          0.9511002444987776,
          0.9511002444987776,
          0.8777506112469438,
          0.9228791773778919,
          0.9228791773778919,
          0.9228791773778919,
          0.987146529562982,
          0.987146529562982,
          0.987146529562982,
          0.987146529562982,
          0.987146529562982,
          0.987146529562982,
          0.987146529562982
         ],
         "yaxis": "y"
        },
        {
         "connectgaps": false,
         "hovertemplate": "competitor_name=Atacadão - Granja Viana - Zukkin<br>Fecha=%{x}<br>NPI=%{y}<extra></extra>",
         "legendgroup": "Atacadão - Granja Viana - Zukkin",
         "line": {
          "color": "#FF97FF",
          "dash": "solid"
         },
         "mode": "lines",
         "name": "Atacadão - Granja Viana - Zukkin",
         "showlegend": true,
         "type": "scattergl",
         "x": [
          "2024-05-01T00:00:00",
          "2024-05-02T00:00:00",
          "2024-05-03T00:00:00",
          "2024-05-04T00:00:00",
          "2024-05-05T00:00:00",
          "2024-05-06T00:00:00",
          "2024-05-07T00:00:00",
          "2024-05-08T00:00:00",
          "2024-05-09T00:00:00",
          "2024-05-10T00:00:00",
          "2024-05-11T00:00:00",
          "2024-05-12T00:00:00",
          "2024-05-13T00:00:00",
          "2024-05-14T00:00:00",
          "2024-05-15T00:00:00",
          "2024-05-16T00:00:00",
          "2024-05-17T00:00:00",
          "2024-05-18T00:00:00",
          "2024-05-19T00:00:00",
          "2024-05-20T00:00:00",
          "2024-05-21T00:00:00",
          "2024-05-22T00:00:00",
          "2024-05-23T00:00:00",
          "2024-06-06T00:00:00",
          "2024-06-07T00:00:00",
          "2024-06-08T00:00:00",
          "2024-06-09T00:00:00",
          "2024-06-10T00:00:00",
          "2024-06-11T00:00:00",
          "2024-06-12T00:00:00",
          "2024-06-13T00:00:00",
          "2024-06-14T00:00:00",
          "2024-06-20T00:00:00",
          "2024-06-21T00:00:00",
          "2024-06-22T00:00:00",
          "2024-06-23T00:00:00",
          "2024-06-24T00:00:00",
          "2024-06-25T00:00:00",
          "2024-06-26T00:00:00",
          "2024-06-27T00:00:00",
          "2024-06-28T00:00:00",
          "2024-06-29T00:00:00",
          "2024-06-30T00:00:00",
          "2024-07-01T00:00:00",
          "2024-07-02T00:00:00",
          "2024-07-03T00:00:00",
          "2024-07-04T00:00:00",
          "2024-07-10T00:00:00",
          "2024-07-11T00:00:00",
          "2024-07-12T00:00:00",
          "2024-07-13T00:00:00",
          "2024-07-14T00:00:00",
          "2024-07-15T00:00:00",
          "2024-07-16T00:00:00",
          "2024-07-17T00:00:00",
          "2024-07-18T00:00:00",
          "2024-07-19T00:00:00",
          "2024-07-20T00:00:00",
          "2024-07-21T00:00:00",
          "2024-07-22T00:00:00",
          "2024-07-23T00:00:00",
          "2024-07-24T00:00:00",
          "2024-07-25T00:00:00",
          "2024-07-26T00:00:00",
          "2024-07-27T00:00:00",
          "2024-07-28T00:00:00",
          "2024-07-29T00:00:00",
          "2024-07-30T00:00:00",
          "2024-07-31T00:00:00",
          "2024-08-01T00:00:00",
          "2024-08-02T00:00:00",
          "2024-08-03T00:00:00",
          "2024-08-04T00:00:00",
          "2024-08-05T00:00:00",
          "2024-08-06T00:00:00",
          "2024-08-07T00:00:00",
          "2024-08-08T00:00:00",
          "2024-08-09T00:00:00",
          "2024-08-10T00:00:00",
          "2024-08-11T00:00:00",
          "2024-08-12T00:00:00",
          "2024-08-13T00:00:00",
          "2024-08-14T00:00:00",
          "2024-08-15T00:00:00",
          "2024-08-16T00:00:00",
          "2024-08-17T00:00:00",
          "2024-08-18T00:00:00",
          "2024-08-19T00:00:00",
          "2024-08-20T00:00:00",
          "2024-08-21T00:00:00",
          "2024-08-22T00:00:00",
          "2024-08-23T00:00:00",
          "2024-08-24T00:00:00",
          "2024-08-25T00:00:00",
          "2024-08-26T00:00:00",
          "2024-08-27T00:00:00",
          "2024-08-28T00:00:00",
          "2024-08-29T00:00:00"
         ],
         "xaxis": "x",
         "y": [
          1.7971014492753625,
          1.7971014492753625,
          1.855072463768116,
          1.855072463768116,
          1.855072463768116,
          1.8792270531400967,
          1.8792270531400967,
          1.0373333333333334,
          1.0373333333333334,
          1.0373333333333334,
          1.0373333333333334,
          1.0373333333333334,
          1.0266666666666666,
          1.0266666666666666,
          1.0266666666666666,
          1.0266666666666666,
          1.0213333333333334,
          1.0213333333333334,
          1.0213333333333334,
          1.0213333333333334,
          1.0213333333333334,
          1.0213333333333334,
          1.0213333333333334,
          0.959493670886076,
          0.9670886075949366,
          0.9670886075949366,
          0.9670886075949366,
          0.9670886075949366,
          0.9670886075949366,
          0.9670886075949366,
          0.959493670886076,
          0.959493670886076,
          0.8533007334963326,
          0.9266503667481663,
          0.9266503667481663,
          0.9266503667481663,
          0.9266503667481663,
          0.9266503667481663,
          0.974293059125964,
          0.974293059125964,
          0.974293059125964,
          0.974293059125964,
          0.974293059125964,
          0.974293059125964,
          0.974293059125964,
          0.974293059125964,
          0.974293059125964,
          0.974293059125964,
          0.974293059125964,
          0.974293059125964,
          0.974293059125964,
          0.974293059125964,
          0.974293059125964,
          1,
          1,
          1,
          1,
          1,
          1,
          1,
          1,
          1,
          1,
          1,
          1,
          1,
          1,
          1,
          1,
          1,
          1,
          1,
          1,
          1,
          1,
          1,
          1,
          1,
          1,
          1,
          1,
          1,
          1,
          1,
          1,
          1,
          1,
          0.9228791773778919,
          0.9228791773778919,
          0.9228791773778919,
          0.9228791773778919,
          0.987146529562982,
          0.987146529562982,
          0.987146529562982,
          0.987146529562982,
          0.987146529562982,
          0.987146529562982,
          0.987146529562982
         ],
         "yaxis": "y"
        },
        {
         "connectgaps": false,
         "hovertemplate": "competitor_name=Atacadão - Industrial Autonomistas - Zukkin<br>Fecha=%{x}<br>NPI=%{y}<extra></extra>",
         "legendgroup": "Atacadão - Industrial Autonomistas - Zukkin",
         "line": {
          "color": "#FECB52",
          "dash": "solid"
         },
         "mode": "lines",
         "name": "Atacadão - Industrial Autonomistas - Zukkin",
         "showlegend": true,
         "type": "scattergl",
         "x": [
          "2024-05-21T00:00:00",
          "2024-05-22T00:00:00",
          "2024-05-23T00:00:00",
          "2024-05-24T00:00:00",
          "2024-05-25T00:00:00",
          "2024-05-26T00:00:00",
          "2024-05-27T00:00:00",
          "2024-05-28T00:00:00",
          "2024-05-29T00:00:00",
          "2024-06-03T00:00:00",
          "2024-06-04T00:00:00",
          "2024-06-05T00:00:00",
          "2024-06-06T00:00:00",
          "2024-06-07T00:00:00",
          "2024-06-08T00:00:00",
          "2024-06-09T00:00:00",
          "2024-06-10T00:00:00",
          "2024-06-11T00:00:00",
          "2024-06-12T00:00:00",
          "2024-06-13T00:00:00",
          "2024-06-14T00:00:00",
          "2024-06-15T00:00:00",
          "2024-06-16T00:00:00",
          "2024-06-17T00:00:00",
          "2024-06-18T00:00:00",
          "2024-06-19T00:00:00",
          "2024-06-27T00:00:00",
          "2024-06-28T00:00:00",
          "2024-06-29T00:00:00",
          "2024-06-30T00:00:00",
          "2024-07-01T00:00:00",
          "2024-07-02T00:00:00",
          "2024-07-03T00:00:00",
          "2024-07-04T00:00:00",
          "2024-07-05T00:00:00",
          "2024-07-06T00:00:00",
          "2024-07-07T00:00:00",
          "2024-07-08T00:00:00",
          "2024-07-09T00:00:00",
          "2024-07-10T00:00:00"
         ],
         "xaxis": "x",
         "y": [
          0.9696202531645569,
          0.9696202531645569,
          0.9696202531645569,
          0.9696202531645569,
          0.9696202531645569,
          0.9696202531645569,
          0.9696202531645569,
          0.9696202531645569,
          0.9696202531645569,
          0.9893333333333333,
          0.9893333333333333,
          0.9893333333333333,
          1.0106666666666666,
          1.0186666666666666,
          1.0186666666666666,
          1.0186666666666666,
          1.0186666666666666,
          0.9670886075949366,
          0.9670886075949366,
          0.959493670886076,
          0.959493670886076,
          0.959493670886076,
          0.959493670886076,
          0.959493670886076,
          0.959493670886076,
          0.959493670886076,
          0.9266503667481663,
          0.9266503667481663,
          0.9266503667481663,
          0.9266503667481663,
          0.9266503667481663,
          0.9266503667481663,
          0.9266503667481663,
          0.9266503667481663,
          0.9266503667481663,
          0.9266503667481663,
          0.9266503667481663,
          0.9266503667481663,
          0.9266503667481663,
          0.9266503667481663
         ],
         "yaxis": "y"
        },
        {
         "connectgaps": false,
         "hovertemplate": "competitor_name=Atacadão - Jardim São Geraldo - Zukkin<br>Fecha=%{x}<br>NPI=%{y}<extra></extra>",
         "legendgroup": "Atacadão - Jardim São Geraldo - Zukkin",
         "line": {
          "color": "#636efa",
          "dash": "solid"
         },
         "mode": "lines",
         "name": "Atacadão - Jardim São Geraldo - Zukkin",
         "showlegend": true,
         "type": "scattergl",
         "x": [
          "2024-05-01T00:00:00",
          "2024-05-02T00:00:00",
          "2024-05-03T00:00:00",
          "2024-05-04T00:00:00",
          "2024-05-05T00:00:00",
          "2024-05-06T00:00:00",
          "2024-05-07T00:00:00",
          "2024-05-08T00:00:00",
          "2024-05-09T00:00:00",
          "2024-05-10T00:00:00",
          "2024-05-11T00:00:00",
          "2024-05-12T00:00:00",
          "2024-05-13T00:00:00",
          "2024-05-14T00:00:00",
          "2024-05-15T00:00:00",
          "2024-05-16T00:00:00",
          "2024-05-17T00:00:00",
          "2024-05-18T00:00:00",
          "2024-05-19T00:00:00",
          "2024-05-20T00:00:00",
          "2024-05-21T00:00:00",
          "2024-05-22T00:00:00",
          "2024-05-23T00:00:00",
          "2024-05-24T00:00:00",
          "2024-05-25T00:00:00",
          "2024-05-26T00:00:00",
          "2024-05-27T00:00:00",
          "2024-05-28T00:00:00",
          "2024-05-29T00:00:00",
          "2024-05-30T00:00:00",
          "2024-06-12T00:00:00",
          "2024-06-13T00:00:00",
          "2024-06-14T00:00:00",
          "2024-06-15T00:00:00",
          "2024-06-16T00:00:00",
          "2024-06-17T00:00:00",
          "2024-06-18T00:00:00",
          "2024-06-19T00:00:00",
          "2024-06-20T00:00:00",
          "2024-06-21T00:00:00",
          "2024-06-22T00:00:00",
          "2024-06-23T00:00:00",
          "2024-06-24T00:00:00",
          "2024-06-25T00:00:00",
          "2024-06-26T00:00:00",
          "2024-06-27T00:00:00",
          "2024-06-28T00:00:00",
          "2024-06-29T00:00:00",
          "2024-06-30T00:00:00",
          "2024-07-01T00:00:00",
          "2024-07-02T00:00:00",
          "2024-07-03T00:00:00",
          "2024-07-04T00:00:00",
          "2024-07-05T00:00:00",
          "2024-07-06T00:00:00",
          "2024-07-07T00:00:00",
          "2024-07-08T00:00:00",
          "2024-07-09T00:00:00",
          "2024-07-10T00:00:00",
          "2024-07-11T00:00:00",
          "2024-07-12T00:00:00",
          "2024-07-13T00:00:00",
          "2024-07-14T00:00:00",
          "2024-07-15T00:00:00",
          "2024-07-16T00:00:00",
          "2024-07-17T00:00:00",
          "2024-07-18T00:00:00",
          "2024-07-19T00:00:00",
          "2024-07-20T00:00:00",
          "2024-07-21T00:00:00",
          "2024-07-22T00:00:00",
          "2024-07-23T00:00:00",
          "2024-07-24T00:00:00",
          "2024-07-25T00:00:00",
          "2024-07-26T00:00:00",
          "2024-07-27T00:00:00",
          "2024-07-28T00:00:00",
          "2024-07-29T00:00:00",
          "2024-07-30T00:00:00",
          "2024-07-31T00:00:00",
          "2024-08-01T00:00:00",
          "2024-08-02T00:00:00",
          "2024-08-03T00:00:00",
          "2024-08-04T00:00:00",
          "2024-08-05T00:00:00",
          "2024-08-06T00:00:00",
          "2024-08-07T00:00:00",
          "2024-08-08T00:00:00",
          "2024-08-09T00:00:00",
          "2024-08-10T00:00:00",
          "2024-08-11T00:00:00",
          "2024-08-12T00:00:00",
          "2024-08-13T00:00:00",
          "2024-08-14T00:00:00",
          "2024-08-15T00:00:00",
          "2024-08-16T00:00:00",
          "2024-08-17T00:00:00",
          "2024-08-18T00:00:00",
          "2024-08-19T00:00:00",
          "2024-08-20T00:00:00",
          "2024-08-21T00:00:00",
          "2024-08-22T00:00:00",
          "2024-08-23T00:00:00",
          "2024-08-24T00:00:00",
          "2024-08-25T00:00:00",
          "2024-08-26T00:00:00",
          "2024-08-27T00:00:00",
          "2024-08-28T00:00:00",
          "2024-08-29T00:00:00"
         ],
         "xaxis": "x",
         "y": [
          0.9920000000000001,
          0.9920000000000001,
          1.024,
          1.024,
          1.024,
          1.0373333333333334,
          1.0373333333333334,
          1.0373333333333334,
          1.0373333333333334,
          1.0373333333333334,
          1.0373333333333334,
          1.0373333333333334,
          1.0266666666666666,
          1.0266666666666666,
          1.5587044534412955,
          1.5587044534412955,
          1.5506072874493926,
          1.5506072874493926,
          1.5506072874493926,
          1.5506072874493926,
          1.5506072874493926,
          1.0213333333333334,
          1.0213333333333334,
          1.0213333333333334,
          1.0213333333333334,
          1.0213333333333334,
          1.0213333333333334,
          1.0213333333333334,
          1.0213333333333334,
          1.0213333333333334,
          1.0186666666666666,
          1.0106666666666666,
          1.0106666666666666,
          1.0106666666666666,
          1.0106666666666666,
          1.0106666666666666,
          1.0106666666666666,
          0.974293059125964,
          0.897172236503856,
          0.974293059125964,
          0.974293059125964,
          0.974293059125964,
          0.974293059125964,
          0.974293059125964,
          0.974293059125964,
          0.974293059125964,
          0.974293059125964,
          0.974293059125964,
          0.974293059125964,
          0.974293059125964,
          0.974293059125964,
          0.974293059125964,
          0.974293059125964,
          0.974293059125964,
          0.974293059125964,
          0.974293059125964,
          0.974293059125964,
          0.974293059125964,
          0.974293059125964,
          0.974293059125964,
          0.974293059125964,
          0.974293059125964,
          0.974293059125964,
          0.974293059125964,
          1,
          1,
          1,
          1,
          1,
          1,
          1,
          1,
          1,
          1,
          1,
          1,
          1,
          1,
          1,
          1,
          1,
          1,
          1,
          1,
          1,
          1,
          1,
          1,
          1,
          1,
          1,
          1,
          1,
          1,
          1,
          1,
          1,
          1,
          0.9228791773778919,
          0.9228791773778919,
          0.9228791773778919,
          0.9228791773778919,
          0.987146529562982,
          0.987146529562982,
          0.987146529562982,
          0.987146529562982,
          0.987146529562982,
          0.987146529562982,
          0.987146529562982
         ],
         "yaxis": "y"
        },
        {
         "connectgaps": false,
         "hovertemplate": "competitor_name=Atacadão - Vila Maria. - Zukkin<br>Fecha=%{x}<br>NPI=%{y}<extra></extra>",
         "legendgroup": "Atacadão - Vila Maria. - Zukkin",
         "line": {
          "color": "#EF553B",
          "dash": "solid"
         },
         "mode": "lines",
         "name": "Atacadão - Vila Maria. - Zukkin",
         "showlegend": true,
         "type": "scattergl",
         "x": [
          "2024-05-28T00:00:00",
          "2024-05-29T00:00:00",
          "2024-05-30T00:00:00",
          "2024-05-31T00:00:00",
          "2024-06-01T00:00:00",
          "2024-06-02T00:00:00",
          "2024-06-03T00:00:00",
          "2024-06-04T00:00:00",
          "2024-06-05T00:00:00",
          "2024-07-02T00:00:00",
          "2024-07-03T00:00:00",
          "2024-07-04T00:00:00",
          "2024-07-05T00:00:00",
          "2024-07-06T00:00:00",
          "2024-07-07T00:00:00",
          "2024-07-08T00:00:00",
          "2024-07-09T00:00:00",
          "2024-07-10T00:00:00",
          "2024-07-16T00:00:00",
          "2024-07-17T00:00:00",
          "2024-07-18T00:00:00",
          "2024-07-19T00:00:00",
          "2024-07-20T00:00:00",
          "2024-07-21T00:00:00",
          "2024-07-22T00:00:00",
          "2024-07-23T00:00:00",
          "2024-07-24T00:00:00",
          "2024-07-25T00:00:00",
          "2024-07-26T00:00:00",
          "2024-07-27T00:00:00",
          "2024-07-28T00:00:00",
          "2024-07-29T00:00:00",
          "2024-07-30T00:00:00",
          "2024-07-31T00:00:00",
          "2024-08-01T00:00:00",
          "2024-08-02T00:00:00",
          "2024-08-03T00:00:00",
          "2024-08-04T00:00:00",
          "2024-08-05T00:00:00",
          "2024-08-06T00:00:00",
          "2024-08-07T00:00:00",
          "2024-08-08T00:00:00",
          "2024-08-09T00:00:00",
          "2024-08-10T00:00:00",
          "2024-08-11T00:00:00",
          "2024-08-12T00:00:00",
          "2024-08-13T00:00:00",
          "2024-08-14T00:00:00",
          "2024-08-15T00:00:00",
          "2024-08-16T00:00:00",
          "2024-08-17T00:00:00",
          "2024-08-18T00:00:00",
          "2024-08-19T00:00:00",
          "2024-08-20T00:00:00",
          "2024-08-21T00:00:00",
          "2024-08-22T00:00:00",
          "2024-08-27T00:00:00",
          "2024-08-28T00:00:00",
          "2024-08-29T00:00:00"
         ],
         "xaxis": "x",
         "y": [
          1.0213333333333334,
          1.0213333333333334,
          1.0213333333333334,
          0.9893333333333333,
          0.9893333333333333,
          0.9893333333333333,
          0.9893333333333333,
          0.9893333333333333,
          0.9893333333333333,
          0.9266503667481663,
          0.9266503667481663,
          0.9266503667481663,
          0.9266503667481663,
          0.9266503667481663,
          0.9266503667481663,
          0.9266503667481663,
          0.9266503667481663,
          0.9266503667481663,
          1,
          1,
          1,
          1,
          1,
          1,
          1,
          1,
          1,
          1,
          1,
          1,
          1,
          1,
          1,
          1,
          1,
          1,
          1,
          1,
          1,
          1,
          1,
          1,
          1,
          1,
          1,
          1,
          1,
          1,
          1,
          1,
          1,
          1,
          0.9228791773778919,
          0.9228791773778919,
          0.9228791773778919,
          0.9228791773778919,
          0.9388753056234719,
          0.9388753056234719,
          0.9388753056234719
         ],
         "yaxis": "y"
        },
        {
         "connectgaps": false,
         "hovertemplate": "competitor_name=Giga Atacado - Guarulhos - Zukkin<br>Fecha=%{x}<br>NPI=%{y}<extra></extra>",
         "legendgroup": "Giga Atacado - Guarulhos - Zukkin",
         "line": {
          "color": "#00cc96",
          "dash": "solid"
         },
         "mode": "lines",
         "name": "Giga Atacado - Guarulhos - Zukkin",
         "showlegend": true,
         "type": "scattergl",
         "x": [
          "2024-05-02T00:00:00",
          "2024-05-03T00:00:00",
          "2024-05-04T00:00:00",
          "2024-05-05T00:00:00",
          "2024-05-06T00:00:00",
          "2024-05-07T00:00:00",
          "2024-05-08T00:00:00",
          "2024-05-09T00:00:00",
          "2024-05-10T00:00:00",
          "2024-05-11T00:00:00",
          "2024-05-12T00:00:00",
          "2024-05-13T00:00:00",
          "2024-05-14T00:00:00",
          "2024-05-15T00:00:00",
          "2024-05-16T00:00:00",
          "2024-05-17T00:00:00",
          "2024-05-18T00:00:00",
          "2024-05-19T00:00:00",
          "2024-05-20T00:00:00",
          "2024-05-21T00:00:00",
          "2024-05-22T00:00:00",
          "2024-05-23T00:00:00",
          "2024-05-24T00:00:00",
          "2024-05-25T00:00:00",
          "2024-05-26T00:00:00",
          "2024-05-27T00:00:00",
          "2024-05-28T00:00:00",
          "2024-05-29T00:00:00",
          "2024-05-30T00:00:00",
          "2024-06-27T00:00:00",
          "2024-06-28T00:00:00",
          "2024-06-29T00:00:00",
          "2024-06-30T00:00:00",
          "2024-07-01T00:00:00",
          "2024-07-02T00:00:00",
          "2024-07-03T00:00:00",
          "2024-07-04T00:00:00",
          "2024-07-05T00:00:00",
          "2024-07-06T00:00:00",
          "2024-07-07T00:00:00",
          "2024-07-08T00:00:00",
          "2024-07-09T00:00:00",
          "2024-07-10T00:00:00",
          "2024-07-11T00:00:00",
          "2024-07-12T00:00:00",
          "2024-07-13T00:00:00",
          "2024-07-14T00:00:00",
          "2024-07-15T00:00:00",
          "2024-07-16T00:00:00",
          "2024-07-17T00:00:00",
          "2024-07-18T00:00:00",
          "2024-07-19T00:00:00",
          "2024-08-01T00:00:00",
          "2024-08-02T00:00:00",
          "2024-08-03T00:00:00",
          "2024-08-04T00:00:00",
          "2024-08-05T00:00:00",
          "2024-08-06T00:00:00",
          "2024-08-07T00:00:00",
          "2024-08-08T00:00:00",
          "2024-08-09T00:00:00",
          "2024-08-16T00:00:00",
          "2024-08-17T00:00:00",
          "2024-08-18T00:00:00",
          "2024-08-19T00:00:00",
          "2024-08-20T00:00:00",
          "2024-08-21T00:00:00",
          "2024-08-22T00:00:00",
          "2024-08-23T00:00:00",
          "2024-08-24T00:00:00",
          "2024-08-25T00:00:00",
          "2024-08-26T00:00:00",
          "2024-08-27T00:00:00",
          "2024-08-28T00:00:00",
          "2024-08-29T00:00:00"
         ],
         "xaxis": "x",
         "y": [
          0.9815303430079156,
          1.013192612137203,
          1.013192612137203,
          1.013192612137203,
          1.0263852242744063,
          1.0263852242744063,
          1.0263852242744063,
          1.0263852242744063,
          1.0263852242744063,
          1.0263852242744063,
          1.0263852242744063,
          1.0158311345646438,
          1.0158311345646438,
          1.0158311345646438,
          1.0158311345646438,
          1.0105540897097625,
          1.0105540897097625,
          1.0105540897097625,
          1.0105540897097625,
          1.0105540897097625,
          1.0105540897097625,
          1.0105540897097625,
          1.0105540897097625,
          1.0105540897097625,
          1.0105540897097625,
          1.0105540897097625,
          1.0105540897097625,
          1.0105540897097625,
          1.0105540897097625,
          1.1519756838905775,
          1.1519756838905775,
          1.1519756838905775,
          1.1519756838905775,
          1.1519756838905775,
          1.1519756838905775,
          1.1519756838905775,
          1.0557103064066853,
          1.0557103064066853,
          1.0557103064066853,
          1.0557103064066853,
          1.0557103064066853,
          1.0557103064066853,
          1.0557103064066853,
          1.0557103064066853,
          1.0557103064066853,
          1.0557103064066853,
          1.0557103064066853,
          1.0557103064066853,
          1.083565459610028,
          1.083565459610028,
          1.083565459610028,
          1.083565459610028,
          1.1146131805157593,
          1.1146131805157593,
          1.1146131805157593,
          1.1146131805157593,
          1.1146131805157593,
          1.1146131805157593,
          1.1146131805157593,
          1.1146131805157593,
          1.1146131805157593,
          1.0345744680851066,
          1.0345744680851066,
          1.0345744680851066,
          0.9547872340425532,
          0.9547872340425532,
          0.9547872340425532,
          1.0589970501474926,
          1.1327433628318584,
          1.1327433628318584,
          1.1327433628318584,
          1.1327433628318584,
          1.1327433628318584,
          1.1327433628318584,
          1.1327433628318584
         ],
         "yaxis": "y"
        },
        {
         "connectgaps": false,
         "hovertemplate": "competitor_name=Giga Atacado - São Paulo - Zukkin<br>Fecha=%{x}<br>NPI=%{y}<extra></extra>",
         "legendgroup": "Giga Atacado - São Paulo - Zukkin",
         "line": {
          "color": "#ab63fa",
          "dash": "solid"
         },
         "mode": "lines",
         "name": "Giga Atacado - São Paulo - Zukkin",
         "showlegend": true,
         "type": "scattergl",
         "x": [
          "2024-06-12T00:00:00",
          "2024-06-13T00:00:00",
          "2024-06-14T00:00:00",
          "2024-06-15T00:00:00",
          "2024-06-16T00:00:00",
          "2024-06-17T00:00:00",
          "2024-06-18T00:00:00",
          "2024-06-19T00:00:00",
          "2024-06-20T00:00:00",
          "2024-06-21T00:00:00",
          "2024-06-22T00:00:00",
          "2024-06-23T00:00:00",
          "2024-06-24T00:00:00",
          "2024-06-25T00:00:00",
          "2024-06-26T00:00:00",
          "2024-06-27T00:00:00",
          "2024-06-28T00:00:00",
          "2024-06-29T00:00:00",
          "2024-06-30T00:00:00",
          "2024-07-01T00:00:00",
          "2024-07-02T00:00:00",
          "2024-07-03T00:00:00",
          "2024-07-04T00:00:00",
          "2024-07-05T00:00:00",
          "2024-07-06T00:00:00",
          "2024-07-07T00:00:00",
          "2024-07-08T00:00:00",
          "2024-07-09T00:00:00",
          "2024-07-10T00:00:00",
          "2024-07-11T00:00:00",
          "2024-07-12T00:00:00",
          "2024-07-13T00:00:00",
          "2024-07-14T00:00:00",
          "2024-07-15T00:00:00",
          "2024-07-16T00:00:00",
          "2024-07-17T00:00:00",
          "2024-07-18T00:00:00",
          "2024-07-19T00:00:00",
          "2024-07-20T00:00:00",
          "2024-07-21T00:00:00",
          "2024-07-22T00:00:00",
          "2024-07-23T00:00:00",
          "2024-07-24T00:00:00",
          "2024-07-25T00:00:00",
          "2024-07-26T00:00:00",
          "2024-07-27T00:00:00",
          "2024-07-28T00:00:00",
          "2024-07-29T00:00:00",
          "2024-07-30T00:00:00",
          "2024-07-31T00:00:00",
          "2024-08-01T00:00:00",
          "2024-08-02T00:00:00",
          "2024-08-03T00:00:00",
          "2024-08-04T00:00:00",
          "2024-08-05T00:00:00",
          "2024-08-06T00:00:00",
          "2024-08-07T00:00:00",
          "2024-08-08T00:00:00",
          "2024-08-09T00:00:00",
          "2024-08-10T00:00:00",
          "2024-08-11T00:00:00",
          "2024-08-12T00:00:00",
          "2024-08-13T00:00:00",
          "2024-08-14T00:00:00",
          "2024-08-15T00:00:00",
          "2024-08-16T00:00:00",
          "2024-08-17T00:00:00",
          "2024-08-18T00:00:00",
          "2024-08-19T00:00:00",
          "2024-08-20T00:00:00",
          "2024-08-21T00:00:00",
          "2024-08-22T00:00:00",
          "2024-08-23T00:00:00",
          "2024-08-24T00:00:00",
          "2024-08-25T00:00:00",
          "2024-08-26T00:00:00",
          "2024-08-27T00:00:00",
          "2024-08-28T00:00:00",
          "2024-08-29T00:00:00"
         ],
         "xaxis": "x",
         "y": [
          0.9820051413881747,
          0.974293059125964,
          0.974293059125964,
          0.974293059125964,
          0.974293059125964,
          0.974293059125964,
          0.974293059125964,
          0.974293059125964,
          0.897172236503856,
          0.974293059125964,
          0.974293059125964,
          0.974293059125964,
          0.974293059125964,
          0.974293059125964,
          0.974293059125964,
          0.974293059125964,
          0.974293059125964,
          0.974293059125964,
          0.974293059125964,
          0.974293059125964,
          0.974293059125964,
          0.974293059125964,
          0.974293059125964,
          0.974293059125964,
          0.974293059125964,
          0.974293059125964,
          0.974293059125964,
          0.974293059125964,
          0.974293059125964,
          0.974293059125964,
          0.974293059125964,
          0.974293059125964,
          0.974293059125964,
          0.974293059125964,
          1,
          1,
          1,
          1,
          1,
          1,
          1,
          1,
          1,
          1,
          1,
          1,
          1,
          1,
          1,
          1.1146131805157593,
          1.1146131805157593,
          1.1146131805157593,
          1.1146131805157593,
          1.1146131805157593,
          1.1146131805157593,
          1.1146131805157593,
          1.0373333333333334,
          1.0373333333333334,
          1.0373333333333334,
          1.0373333333333334,
          1.0373333333333334,
          1.0373333333333334,
          1.0373333333333334,
          1.0373333333333334,
          1.0373333333333334,
          1.0373333333333334,
          1.0373333333333334,
          1.0373333333333334,
          0.9573333333333333,
          0.9573333333333333,
          1.0589970501474926,
          1.0589970501474926,
          1.1327433628318584,
          1.1327433628318584,
          1.1327433628318584,
          1.1327433628318584,
          1.1327433628318584,
          0.9974025974025973,
          0.9974025974025973
         ],
         "yaxis": "y"
        },
        {
         "connectgaps": false,
         "hovertemplate": "competitor_name=Mercadão Atacadista - Pirajussara - Zukkin<br>Fecha=%{x}<br>NPI=%{y}<extra></extra>",
         "legendgroup": "Mercadão Atacadista - Pirajussara - Zukkin",
         "line": {
          "color": "#FFA15A",
          "dash": "solid"
         },
         "mode": "lines",
         "name": "Mercadão Atacadista - Pirajussara - Zukkin",
         "showlegend": true,
         "type": "scattergl",
         "x": [
          "2024-06-04T00:00:00",
          "2024-06-05T00:00:00",
          "2024-06-06T00:00:00",
          "2024-06-07T00:00:00",
          "2024-06-08T00:00:00",
          "2024-06-09T00:00:00",
          "2024-06-10T00:00:00",
          "2024-06-11T00:00:00",
          "2024-06-12T00:00:00",
          "2024-06-13T00:00:00",
          "2024-06-14T00:00:00",
          "2024-06-15T00:00:00",
          "2024-06-16T00:00:00",
          "2024-06-17T00:00:00",
          "2024-06-18T00:00:00",
          "2024-06-19T00:00:00",
          "2024-06-20T00:00:00",
          "2024-06-21T00:00:00",
          "2024-06-22T00:00:00",
          "2024-06-23T00:00:00",
          "2024-06-24T00:00:00",
          "2024-06-25T00:00:00",
          "2024-06-26T00:00:00",
          "2024-06-27T00:00:00",
          "2024-06-28T00:00:00",
          "2024-06-29T00:00:00",
          "2024-06-30T00:00:00",
          "2024-07-01T00:00:00",
          "2024-07-02T00:00:00",
          "2024-07-03T00:00:00",
          "2024-07-04T00:00:00",
          "2024-07-05T00:00:00",
          "2024-07-06T00:00:00",
          "2024-07-07T00:00:00",
          "2024-07-08T00:00:00",
          "2024-07-09T00:00:00",
          "2024-07-10T00:00:00",
          "2024-07-11T00:00:00",
          "2024-07-12T00:00:00",
          "2024-07-13T00:00:00",
          "2024-07-14T00:00:00",
          "2024-07-15T00:00:00",
          "2024-07-16T00:00:00",
          "2024-07-17T00:00:00",
          "2024-07-18T00:00:00",
          "2024-07-19T00:00:00",
          "2024-07-20T00:00:00",
          "2024-07-21T00:00:00",
          "2024-07-22T00:00:00",
          "2024-07-23T00:00:00",
          "2024-07-24T00:00:00",
          "2024-07-25T00:00:00",
          "2024-07-26T00:00:00",
          "2024-07-27T00:00:00",
          "2024-07-28T00:00:00",
          "2024-07-29T00:00:00",
          "2024-07-30T00:00:00",
          "2024-07-31T00:00:00",
          "2024-08-06T00:00:00",
          "2024-08-07T00:00:00",
          "2024-08-08T00:00:00",
          "2024-08-09T00:00:00",
          "2024-08-10T00:00:00",
          "2024-08-11T00:00:00",
          "2024-08-12T00:00:00",
          "2024-08-13T00:00:00",
          "2024-08-14T00:00:00",
          "2024-08-15T00:00:00",
          "2024-08-16T00:00:00",
          "2024-08-17T00:00:00",
          "2024-08-18T00:00:00",
          "2024-08-19T00:00:00",
          "2024-08-20T00:00:00",
          "2024-08-21T00:00:00",
          "2024-08-22T00:00:00",
          "2024-08-23T00:00:00",
          "2024-08-24T00:00:00",
          "2024-08-25T00:00:00",
          "2024-08-26T00:00:00",
          "2024-08-27T00:00:00",
          "2024-08-28T00:00:00",
          "2024-08-29T00:00:00"
         ],
         "xaxis": "x",
         "y": [
          0.8262806236080178,
          0.8262806236080178,
          0.844097995545657,
          0.8507795100222716,
          0.8507795100222716,
          0.8507795100222716,
          0.8507795100222716,
          0.9573934837092731,
          0.9573934837092731,
          0.949874686716792,
          0.949874686716792,
          0.949874686716792,
          0.949874686716792,
          0.949874686716792,
          0.949874686716792,
          0.949874686716792,
          0.87468671679198,
          0.949874686716792,
          0.949874686716792,
          0.949874686716792,
          0.949874686716792,
          0.949874686716792,
          0.949874686716792,
          0.949874686716792,
          0.949874686716792,
          0.949874686716792,
          0.949874686716792,
          0.949874686716792,
          0.949874686716792,
          0.949874686716792,
          0.949874686716792,
          0.949874686716792,
          0.949874686716792,
          0.949874686716792,
          0.949874686716792,
          0.949874686716792,
          0.949874686716792,
          0.949874686716792,
          0.949874686716792,
          0.949874686716792,
          0.949874686716792,
          0.949874686716792,
          0.974937343358396,
          0.974937343358396,
          0.974937343358396,
          0.974937343358396,
          0.974937343358396,
          0.974937343358396,
          0.974937343358396,
          0.974937343358396,
          0.974937343358396,
          0.974937343358396,
          0.974937343358396,
          0.974937343358396,
          0.974937343358396,
          0.974937343358396,
          0.974937343358396,
          0.974937343358396,
          0.974937343358396,
          0.974937343358396,
          0.974937343358396,
          0.974937343358396,
          0.974937343358396,
          0.974937343358396,
          0.974937343358396,
          0.974937343358396,
          0.974937343358396,
          0.974937343358396,
          0.974937343358396,
          0.974937343358396,
          0.974937343358396,
          0.8997493734335839,
          0.8997493734335839,
          0.8997493734335839,
          0.8997493734335839,
          0.9624060150375939,
          0.9624060150375939,
          0.9624060150375939,
          0.9624060150375939,
          0.9624060150375939,
          0.9624060150375939,
          0.9624060150375939
         ],
         "yaxis": "y"
        },
        {
         "connectgaps": false,
         "hovertemplate": "competitor_name=Roldão - Guarulhos - Zukkin<br>Fecha=%{x}<br>NPI=%{y}<extra></extra>",
         "legendgroup": "Roldão - Guarulhos - Zukkin",
         "line": {
          "color": "#19d3f3",
          "dash": "solid"
         },
         "mode": "lines",
         "name": "Roldão - Guarulhos - Zukkin",
         "showlegend": true,
         "type": "scattergl",
         "x": [
          "2024-05-29T00:00:00",
          "2024-05-30T00:00:00",
          "2024-05-31T00:00:00",
          "2024-06-01T00:00:00",
          "2024-06-02T00:00:00",
          "2024-06-03T00:00:00",
          "2024-06-04T00:00:00",
          "2024-06-05T00:00:00",
          "2024-06-06T00:00:00",
          "2024-06-12T00:00:00",
          "2024-06-13T00:00:00",
          "2024-06-14T00:00:00",
          "2024-06-15T00:00:00",
          "2024-06-16T00:00:00",
          "2024-06-17T00:00:00",
          "2024-06-18T00:00:00",
          "2024-06-19T00:00:00",
          "2024-06-20T00:00:00",
          "2024-07-10T00:00:00",
          "2024-07-11T00:00:00",
          "2024-07-12T00:00:00",
          "2024-07-13T00:00:00",
          "2024-07-14T00:00:00",
          "2024-07-15T00:00:00",
          "2024-07-16T00:00:00",
          "2024-07-17T00:00:00",
          "2024-07-18T00:00:00",
          "2024-07-19T00:00:00",
          "2024-07-20T00:00:00",
          "2024-07-21T00:00:00",
          "2024-07-22T00:00:00",
          "2024-07-23T00:00:00",
          "2024-07-24T00:00:00",
          "2024-07-25T00:00:00",
          "2024-07-26T00:00:00",
          "2024-07-27T00:00:00",
          "2024-07-28T00:00:00",
          "2024-07-29T00:00:00",
          "2024-07-30T00:00:00",
          "2024-07-31T00:00:00",
          "2024-08-01T00:00:00",
          "2024-08-02T00:00:00",
          "2024-08-03T00:00:00",
          "2024-08-04T00:00:00",
          "2024-08-05T00:00:00",
          "2024-08-06T00:00:00",
          "2024-08-07T00:00:00",
          "2024-08-08T00:00:00",
          "2024-08-09T00:00:00",
          "2024-08-10T00:00:00",
          "2024-08-11T00:00:00",
          "2024-08-12T00:00:00",
          "2024-08-13T00:00:00",
          "2024-08-14T00:00:00",
          "2024-08-15T00:00:00",
          "2024-08-16T00:00:00",
          "2024-08-17T00:00:00",
          "2024-08-18T00:00:00",
          "2024-08-19T00:00:00",
          "2024-08-20T00:00:00",
          "2024-08-21T00:00:00",
          "2024-08-22T00:00:00",
          "2024-08-23T00:00:00",
          "2024-08-24T00:00:00",
          "2024-08-25T00:00:00",
          "2024-08-26T00:00:00",
          "2024-08-27T00:00:00",
          "2024-08-28T00:00:00",
          "2024-08-29T00:00:00"
         ],
         "xaxis": "x",
         "y": [
          0.9845758354755784,
          0.9845758354755784,
          0.9537275064267352,
          0.9537275064267352,
          0.9537275064267352,
          0.9537275064267352,
          0.9537275064267352,
          0.9537275064267352,
          0.974293059125964,
          0.8904428904428904,
          0.8834498834498834,
          0.8834498834498834,
          0.8834498834498834,
          0.8834498834498834,
          0.8834498834498834,
          0.8834498834498834,
          0.8834498834498834,
          0.8135198135198136,
          0.8834498834498834,
          0.8834498834498834,
          0.8834498834498834,
          0.8834498834498834,
          0.8834498834498834,
          0.8834498834498834,
          0.9067599067599068,
          0.9067599067599068,
          0.9067599067599068,
          0.9067599067599068,
          0.9067599067599068,
          0.9067599067599068,
          0.9067599067599068,
          0.9067599067599068,
          0.9067599067599068,
          0.9067599067599068,
          0.9067599067599068,
          0.9067599067599068,
          0.9067599067599068,
          0.9067599067599068,
          0.9067599067599068,
          0.974937343358396,
          0.974937343358396,
          0.974937343358396,
          0.974937343358396,
          0.974937343358396,
          0.974937343358396,
          0.974937343358396,
          0.9067599067599068,
          0.9067599067599068,
          0.9067599067599068,
          0.9067599067599068,
          0.9067599067599068,
          0.9067599067599068,
          0.9067599067599068,
          0.9067599067599068,
          0.9067599067599068,
          0.9067599067599068,
          0.9067599067599068,
          0.9067599067599068,
          0.8368298368298368,
          0.8368298368298368,
          0.8368298368298368,
          0.8368298368298368,
          0.8951048951048951,
          0.8951048951048951,
          0.8951048951048951,
          0.8951048951048951,
          0.8951048951048951,
          0.8951048951048951,
          0.8951048951048951
         ],
         "yaxis": "y"
        },
        {
         "connectgaps": false,
         "hovertemplate": "competitor_name=Tenda - Socorro - Zukkin<br>Fecha=%{x}<br>NPI=%{y}<extra></extra>",
         "legendgroup": "Tenda - Socorro - Zukkin",
         "line": {
          "color": "#FF6692",
          "dash": "solid"
         },
         "mode": "lines",
         "name": "Tenda - Socorro - Zukkin",
         "showlegend": true,
         "type": "scattergl",
         "x": [
          "2024-06-11T00:00:00",
          "2024-06-12T00:00:00",
          "2024-06-13T00:00:00",
          "2024-06-14T00:00:00",
          "2024-06-15T00:00:00",
          "2024-06-16T00:00:00",
          "2024-06-17T00:00:00",
          "2024-06-18T00:00:00",
          "2024-06-19T00:00:00",
          "2024-06-25T00:00:00",
          "2024-06-26T00:00:00",
          "2024-06-27T00:00:00",
          "2024-06-28T00:00:00",
          "2024-06-29T00:00:00",
          "2024-06-30T00:00:00",
          "2024-07-01T00:00:00",
          "2024-07-02T00:00:00",
          "2024-07-03T00:00:00",
          "2024-07-04T00:00:00",
          "2024-07-05T00:00:00",
          "2024-07-06T00:00:00",
          "2024-07-07T00:00:00",
          "2024-07-08T00:00:00",
          "2024-07-09T00:00:00",
          "2024-07-10T00:00:00",
          "2024-07-23T00:00:00",
          "2024-07-24T00:00:00",
          "2024-07-25T00:00:00",
          "2024-07-26T00:00:00",
          "2024-07-27T00:00:00",
          "2024-07-28T00:00:00",
          "2024-07-29T00:00:00",
          "2024-07-30T00:00:00",
          "2024-07-31T00:00:00",
          "2024-08-01T00:00:00",
          "2024-08-02T00:00:00",
          "2024-08-03T00:00:00",
          "2024-08-04T00:00:00",
          "2024-08-05T00:00:00",
          "2024-08-06T00:00:00",
          "2024-08-07T00:00:00",
          "2024-08-08T00:00:00",
          "2024-08-09T00:00:00",
          "2024-08-10T00:00:00",
          "2024-08-11T00:00:00",
          "2024-08-12T00:00:00",
          "2024-08-13T00:00:00",
          "2024-08-14T00:00:00",
          "2024-08-15T00:00:00",
          "2024-08-16T00:00:00",
          "2024-08-17T00:00:00",
          "2024-08-18T00:00:00",
          "2024-08-19T00:00:00",
          "2024-08-20T00:00:00",
          "2024-08-21T00:00:00",
          "2024-08-22T00:00:00",
          "2024-08-23T00:00:00",
          "2024-08-24T00:00:00",
          "2024-08-25T00:00:00",
          "2024-08-26T00:00:00",
          "2024-08-27T00:00:00",
          "2024-08-28T00:00:00",
          "2024-08-29T00:00:00"
         ],
         "xaxis": "x",
         "y": [
          0.9573934837092731,
          0.9573934837092731,
          0.949874686716792,
          0.949874686716792,
          0.949874686716792,
          0.949874686716792,
          0.949874686716792,
          0.949874686716792,
          0.949874686716792,
          0.949874686716792,
          0.949874686716792,
          0.949874686716792,
          0.949874686716792,
          0.949874686716792,
          0.949874686716792,
          0.949874686716792,
          0.949874686716792,
          0.949874686716792,
          0.949874686716792,
          0.949874686716792,
          0.949874686716792,
          0.949874686716792,
          0.949874686716792,
          0.949874686716792,
          0.949874686716792,
          0.9284009546539379,
          0.9284009546539379,
          0.9284009546539379,
          0.9284009546539379,
          0.9284009546539379,
          0.9284009546539379,
          0.9284009546539379,
          0.9284009546539379,
          1.0373333333333334,
          1.0373333333333334,
          1.0373333333333334,
          1.0373333333333334,
          1.0373333333333334,
          1.0373333333333334,
          1,
          1,
          1,
          1,
          1,
          1,
          1,
          1,
          1,
          1,
          1,
          1,
          1,
          0.9228791773778919,
          0.9228791773778919,
          0.9228791773778919,
          0.9228791773778919,
          0.987146529562982,
          0.987146529562982,
          0.987146529562982,
          0.987146529562982,
          0.987146529562982,
          0.987146529562982,
          0.987146529562982
         ],
         "yaxis": "y"
        }
       ],
       "layout": {
        "height": 600,
        "legend": {
         "title": {
          "text": "competitor_name"
         },
         "tracegroupgap": 0
        },
        "template": {
         "data": {
          "bar": [
           {
            "error_x": {
             "color": "#2a3f5f"
            },
            "error_y": {
             "color": "#2a3f5f"
            },
            "marker": {
             "line": {
              "color": "#E5ECF6",
              "width": 0.5
             }
            },
            "type": "bar"
           }
          ],
          "barpolar": [
           {
            "marker": {
             "line": {
              "color": "#E5ECF6",
              "width": 0.5
             }
            },
            "type": "barpolar"
           }
          ],
          "carpet": [
           {
            "aaxis": {
             "endlinecolor": "#2a3f5f",
             "gridcolor": "white",
             "linecolor": "white",
             "minorgridcolor": "white",
             "startlinecolor": "#2a3f5f"
            },
            "baxis": {
             "endlinecolor": "#2a3f5f",
             "gridcolor": "white",
             "linecolor": "white",
             "minorgridcolor": "white",
             "startlinecolor": "#2a3f5f"
            },
            "type": "carpet"
           }
          ],
          "choropleth": [
           {
            "colorbar": {
             "outlinewidth": 0,
             "ticks": ""
            },
            "type": "choropleth"
           }
          ],
          "contour": [
           {
            "colorbar": {
             "outlinewidth": 0,
             "ticks": ""
            },
            "colorscale": [
             [
              0,
              "#0d0887"
             ],
             [
              0.1111111111111111,
              "#46039f"
             ],
             [
              0.2222222222222222,
              "#7201a8"
             ],
             [
              0.3333333333333333,
              "#9c179e"
             ],
             [
              0.4444444444444444,
              "#bd3786"
             ],
             [
              0.5555555555555556,
              "#d8576b"
             ],
             [
              0.6666666666666666,
              "#ed7953"
             ],
             [
              0.7777777777777778,
              "#fb9f3a"
             ],
             [
              0.8888888888888888,
              "#fdca26"
             ],
             [
              1,
              "#f0f921"
             ]
            ],
            "type": "contour"
           }
          ],
          "contourcarpet": [
           {
            "colorbar": {
             "outlinewidth": 0,
             "ticks": ""
            },
            "type": "contourcarpet"
           }
          ],
          "heatmap": [
           {
            "colorbar": {
             "outlinewidth": 0,
             "ticks": ""
            },
            "colorscale": [
             [
              0,
              "#0d0887"
             ],
             [
              0.1111111111111111,
              "#46039f"
             ],
             [
              0.2222222222222222,
              "#7201a8"
             ],
             [
              0.3333333333333333,
              "#9c179e"
             ],
             [
              0.4444444444444444,
              "#bd3786"
             ],
             [
              0.5555555555555556,
              "#d8576b"
             ],
             [
              0.6666666666666666,
              "#ed7953"
             ],
             [
              0.7777777777777778,
              "#fb9f3a"
             ],
             [
              0.8888888888888888,
              "#fdca26"
             ],
             [
              1,
              "#f0f921"
             ]
            ],
            "type": "heatmap"
           }
          ],
          "heatmapgl": [
           {
            "colorbar": {
             "outlinewidth": 0,
             "ticks": ""
            },
            "colorscale": [
             [
              0,
              "#0d0887"
             ],
             [
              0.1111111111111111,
              "#46039f"
             ],
             [
              0.2222222222222222,
              "#7201a8"
             ],
             [
              0.3333333333333333,
              "#9c179e"
             ],
             [
              0.4444444444444444,
              "#bd3786"
             ],
             [
              0.5555555555555556,
              "#d8576b"
             ],
             [
              0.6666666666666666,
              "#ed7953"
             ],
             [
              0.7777777777777778,
              "#fb9f3a"
             ],
             [
              0.8888888888888888,
              "#fdca26"
             ],
             [
              1,
              "#f0f921"
             ]
            ],
            "type": "heatmapgl"
           }
          ],
          "histogram": [
           {
            "marker": {
             "colorbar": {
              "outlinewidth": 0,
              "ticks": ""
             }
            },
            "type": "histogram"
           }
          ],
          "histogram2d": [
           {
            "colorbar": {
             "outlinewidth": 0,
             "ticks": ""
            },
            "colorscale": [
             [
              0,
              "#0d0887"
             ],
             [
              0.1111111111111111,
              "#46039f"
             ],
             [
              0.2222222222222222,
              "#7201a8"
             ],
             [
              0.3333333333333333,
              "#9c179e"
             ],
             [
              0.4444444444444444,
              "#bd3786"
             ],
             [
              0.5555555555555556,
              "#d8576b"
             ],
             [
              0.6666666666666666,
              "#ed7953"
             ],
             [
              0.7777777777777778,
              "#fb9f3a"
             ],
             [
              0.8888888888888888,
              "#fdca26"
             ],
             [
              1,
              "#f0f921"
             ]
            ],
            "type": "histogram2d"
           }
          ],
          "histogram2dcontour": [
           {
            "colorbar": {
             "outlinewidth": 0,
             "ticks": ""
            },
            "colorscale": [
             [
              0,
              "#0d0887"
             ],
             [
              0.1111111111111111,
              "#46039f"
             ],
             [
              0.2222222222222222,
              "#7201a8"
             ],
             [
              0.3333333333333333,
              "#9c179e"
             ],
             [
              0.4444444444444444,
              "#bd3786"
             ],
             [
              0.5555555555555556,
              "#d8576b"
             ],
             [
              0.6666666666666666,
              "#ed7953"
             ],
             [
              0.7777777777777778,
              "#fb9f3a"
             ],
             [
              0.8888888888888888,
              "#fdca26"
             ],
             [
              1,
              "#f0f921"
             ]
            ],
            "type": "histogram2dcontour"
           }
          ],
          "mesh3d": [
           {
            "colorbar": {
             "outlinewidth": 0,
             "ticks": ""
            },
            "type": "mesh3d"
           }
          ],
          "parcoords": [
           {
            "line": {
             "colorbar": {
              "outlinewidth": 0,
              "ticks": ""
             }
            },
            "type": "parcoords"
           }
          ],
          "pie": [
           {
            "automargin": true,
            "type": "pie"
           }
          ],
          "scatter": [
           {
            "marker": {
             "colorbar": {
              "outlinewidth": 0,
              "ticks": ""
             }
            },
            "type": "scatter"
           }
          ],
          "scatter3d": [
           {
            "line": {
             "colorbar": {
              "outlinewidth": 0,
              "ticks": ""
             }
            },
            "marker": {
             "colorbar": {
              "outlinewidth": 0,
              "ticks": ""
             }
            },
            "type": "scatter3d"
           }
          ],
          "scattercarpet": [
           {
            "marker": {
             "colorbar": {
              "outlinewidth": 0,
              "ticks": ""
             }
            },
            "type": "scattercarpet"
           }
          ],
          "scattergeo": [
           {
            "marker": {
             "colorbar": {
              "outlinewidth": 0,
              "ticks": ""
             }
            },
            "type": "scattergeo"
           }
          ],
          "scattergl": [
           {
            "marker": {
             "colorbar": {
              "outlinewidth": 0,
              "ticks": ""
             }
            },
            "type": "scattergl"
           }
          ],
          "scattermapbox": [
           {
            "marker": {
             "colorbar": {
              "outlinewidth": 0,
              "ticks": ""
             }
            },
            "type": "scattermapbox"
           }
          ],
          "scatterpolar": [
           {
            "marker": {
             "colorbar": {
              "outlinewidth": 0,
              "ticks": ""
             }
            },
            "type": "scatterpolar"
           }
          ],
          "scatterpolargl": [
           {
            "marker": {
             "colorbar": {
              "outlinewidth": 0,
              "ticks": ""
             }
            },
            "type": "scatterpolargl"
           }
          ],
          "scatterternary": [
           {
            "marker": {
             "colorbar": {
              "outlinewidth": 0,
              "ticks": ""
             }
            },
            "type": "scatterternary"
           }
          ],
          "surface": [
           {
            "colorbar": {
             "outlinewidth": 0,
             "ticks": ""
            },
            "colorscale": [
             [
              0,
              "#0d0887"
             ],
             [
              0.1111111111111111,
              "#46039f"
             ],
             [
              0.2222222222222222,
              "#7201a8"
             ],
             [
              0.3333333333333333,
              "#9c179e"
             ],
             [
              0.4444444444444444,
              "#bd3786"
             ],
             [
              0.5555555555555556,
              "#d8576b"
             ],
             [
              0.6666666666666666,
              "#ed7953"
             ],
             [
              0.7777777777777778,
              "#fb9f3a"
             ],
             [
              0.8888888888888888,
              "#fdca26"
             ],
             [
              1,
              "#f0f921"
             ]
            ],
            "type": "surface"
           }
          ],
          "table": [
           {
            "cells": {
             "fill": {
              "color": "#EBF0F8"
             },
             "line": {
              "color": "white"
             }
            },
            "header": {
             "fill": {
              "color": "#C8D4E3"
             },
             "line": {
              "color": "white"
             }
            },
            "type": "table"
           }
          ]
         },
         "layout": {
          "annotationdefaults": {
           "arrowcolor": "#2a3f5f",
           "arrowhead": 0,
           "arrowwidth": 1
          },
          "autotypenumbers": "strict",
          "coloraxis": {
           "colorbar": {
            "outlinewidth": 0,
            "ticks": ""
           }
          },
          "colorscale": {
           "diverging": [
            [
             0,
             "#8e0152"
            ],
            [
             0.1,
             "#c51b7d"
            ],
            [
             0.2,
             "#de77ae"
            ],
            [
             0.3,
             "#f1b6da"
            ],
            [
             0.4,
             "#fde0ef"
            ],
            [
             0.5,
             "#f7f7f7"
            ],
            [
             0.6,
             "#e6f5d0"
            ],
            [
             0.7,
             "#b8e186"
            ],
            [
             0.8,
             "#7fbc41"
            ],
            [
             0.9,
             "#4d9221"
            ],
            [
             1,
             "#276419"
            ]
           ],
           "sequential": [
            [
             0,
             "#0d0887"
            ],
            [
             0.1111111111111111,
             "#46039f"
            ],
            [
             0.2222222222222222,
             "#7201a8"
            ],
            [
             0.3333333333333333,
             "#9c179e"
            ],
            [
             0.4444444444444444,
             "#bd3786"
            ],
            [
             0.5555555555555556,
             "#d8576b"
            ],
            [
             0.6666666666666666,
             "#ed7953"
            ],
            [
             0.7777777777777778,
             "#fb9f3a"
            ],
            [
             0.8888888888888888,
             "#fdca26"
            ],
            [
             1,
             "#f0f921"
            ]
           ],
           "sequentialminus": [
            [
             0,
             "#0d0887"
            ],
            [
             0.1111111111111111,
             "#46039f"
            ],
            [
             0.2222222222222222,
             "#7201a8"
            ],
            [
             0.3333333333333333,
             "#9c179e"
            ],
            [
             0.4444444444444444,
             "#bd3786"
            ],
            [
             0.5555555555555556,
             "#d8576b"
            ],
            [
             0.6666666666666666,
             "#ed7953"
            ],
            [
             0.7777777777777778,
             "#fb9f3a"
            ],
            [
             0.8888888888888888,
             "#fdca26"
            ],
            [
             1,
             "#f0f921"
            ]
           ]
          },
          "colorway": [
           "#636efa",
           "#EF553B",
           "#00cc96",
           "#ab63fa",
           "#FFA15A",
           "#19d3f3",
           "#FF6692",
           "#B6E880",
           "#FF97FF",
           "#FECB52"
          ],
          "font": {
           "color": "#2a3f5f"
          },
          "geo": {
           "bgcolor": "white",
           "lakecolor": "white",
           "landcolor": "#E5ECF6",
           "showlakes": true,
           "showland": true,
           "subunitcolor": "white"
          },
          "hoverlabel": {
           "align": "left"
          },
          "hovermode": "closest",
          "mapbox": {
           "style": "light"
          },
          "paper_bgcolor": "white",
          "plot_bgcolor": "#E5ECF6",
          "polar": {
           "angularaxis": {
            "gridcolor": "white",
            "linecolor": "white",
            "ticks": ""
           },
           "bgcolor": "#E5ECF6",
           "radialaxis": {
            "gridcolor": "white",
            "linecolor": "white",
            "ticks": ""
           }
          },
          "scene": {
           "xaxis": {
            "backgroundcolor": "#E5ECF6",
            "gridcolor": "white",
            "gridwidth": 2,
            "linecolor": "white",
            "showbackground": true,
            "ticks": "",
            "zerolinecolor": "white"
           },
           "yaxis": {
            "backgroundcolor": "#E5ECF6",
            "gridcolor": "white",
            "gridwidth": 2,
            "linecolor": "white",
            "showbackground": true,
            "ticks": "",
            "zerolinecolor": "white"
           },
           "zaxis": {
            "backgroundcolor": "#E5ECF6",
            "gridcolor": "white",
            "gridwidth": 2,
            "linecolor": "white",
            "showbackground": true,
            "ticks": "",
            "zerolinecolor": "white"
           }
          },
          "shapedefaults": {
           "line": {
            "color": "#2a3f5f"
           }
          },
          "ternary": {
           "aaxis": {
            "gridcolor": "white",
            "linecolor": "white",
            "ticks": ""
           },
           "baxis": {
            "gridcolor": "white",
            "linecolor": "white",
            "ticks": ""
           },
           "bgcolor": "#E5ECF6",
           "caxis": {
            "gridcolor": "white",
            "linecolor": "white",
            "ticks": ""
           }
          },
          "title": {
           "x": 0.05
          },
          "xaxis": {
           "automargin": true,
           "gridcolor": "white",
           "linecolor": "white",
           "ticks": "",
           "title": {
            "standoff": 15
           },
           "zerolinecolor": "white",
           "zerolinewidth": 2
          },
          "yaxis": {
           "automargin": true,
           "gridcolor": "white",
           "linecolor": "white",
           "ticks": "",
           "title": {
            "standoff": 15
           },
           "zerolinecolor": "white",
           "zerolinewidth": 2
          }
         }
        },
        "title": {
         "text": "NPI por Competitor Name"
        },
        "xaxis": {
         "anchor": "y",
         "domain": [
          0,
          1
         ],
         "title": {
          "text": "Fecha"
         }
        },
        "yaxis": {
         "anchor": "x",
         "domain": [
          0,
          1
         ],
         "title": {
          "text": "NPI"
         }
        }
       }
      },
      "text/html": [
       "<div>                            <div id=\"1a1b31d4-9c5f-4f60-b7f4-b3a3e19324f7\" class=\"plotly-graph-div\" style=\"height:600px; width:100%;\"></div>            <script type=\"text/javascript\">                require([\"plotly\"], function(Plotly) {                    window.PLOTLYENV=window.PLOTLYENV || {};                                    if (document.getElementById(\"1a1b31d4-9c5f-4f60-b7f4-b3a3e19324f7\")) {                    Plotly.newPlot(                        \"1a1b31d4-9c5f-4f60-b7f4-b3a3e19324f7\",                        [{\"connectgaps\": false, \"hovertemplate\": \"competitor_name=Akki - Balne\\u00e1rio Mar Paulista, Cupec\\u00ea - Zukkin<br>Fecha=%{x}<br>NPI=%{y}<extra></extra>\", \"legendgroup\": \"Akki - Balne\\u00e1rio Mar Paulista, Cupec\\u00ea - Zukkin\", \"line\": {\"color\": \"#636efa\", \"dash\": \"solid\"}, \"mode\": \"lines\", \"name\": \"Akki - Balne\\u00e1rio Mar Paulista, Cupec\\u00ea - Zukkin\", \"showlegend\": true, \"type\": \"scattergl\", \"x\": [\"2024-05-07T00:00:00\", \"2024-05-08T00:00:00\", \"2024-05-09T00:00:00\", \"2024-05-10T00:00:00\", \"2024-05-11T00:00:00\", \"2024-05-12T00:00:00\", \"2024-05-13T00:00:00\", \"2024-05-14T00:00:00\", \"2024-05-15T00:00:00\", \"2024-05-16T00:00:00\", \"2024-05-17T00:00:00\", \"2024-05-18T00:00:00\", \"2024-05-19T00:00:00\", \"2024-05-20T00:00:00\", \"2024-05-21T00:00:00\", \"2024-05-22T00:00:00\", \"2024-05-23T00:00:00\", \"2024-05-24T00:00:00\", \"2024-05-28T00:00:00\", \"2024-05-29T00:00:00\", \"2024-05-30T00:00:00\", \"2024-05-31T00:00:00\", \"2024-06-01T00:00:00\", \"2024-06-02T00:00:00\", \"2024-06-03T00:00:00\", \"2024-06-04T00:00:00\", \"2024-06-05T00:00:00\", \"2024-06-06T00:00:00\", \"2024-06-07T00:00:00\", \"2024-06-08T00:00:00\", \"2024-06-09T00:00:00\", \"2024-06-10T00:00:00\", \"2024-06-11T00:00:00\", \"2024-06-12T00:00:00\", \"2024-06-13T00:00:00\", \"2024-06-14T00:00:00\", \"2024-06-15T00:00:00\", \"2024-06-16T00:00:00\", \"2024-06-17T00:00:00\", \"2024-06-18T00:00:00\", \"2024-06-19T00:00:00\", \"2024-06-20T00:00:00\", \"2024-06-21T00:00:00\", \"2024-06-22T00:00:00\", \"2024-06-23T00:00:00\", \"2024-06-24T00:00:00\", \"2024-06-25T00:00:00\", \"2024-06-26T00:00:00\", \"2024-06-27T00:00:00\", \"2024-06-28T00:00:00\", \"2024-06-29T00:00:00\", \"2024-06-30T00:00:00\", \"2024-07-01T00:00:00\", \"2024-07-02T00:00:00\", \"2024-07-03T00:00:00\", \"2024-07-04T00:00:00\", \"2024-07-05T00:00:00\", \"2024-07-06T00:00:00\", \"2024-07-07T00:00:00\", \"2024-07-08T00:00:00\", \"2024-07-09T00:00:00\", \"2024-07-10T00:00:00\", \"2024-07-11T00:00:00\", \"2024-07-12T00:00:00\", \"2024-07-13T00:00:00\", \"2024-07-14T00:00:00\", \"2024-07-15T00:00:00\", \"2024-07-16T00:00:00\", \"2024-07-17T00:00:00\", \"2024-07-18T00:00:00\", \"2024-07-22T00:00:00\", \"2024-07-23T00:00:00\", \"2024-07-24T00:00:00\", \"2024-07-25T00:00:00\", \"2024-07-26T00:00:00\", \"2024-07-27T00:00:00\", \"2024-07-28T00:00:00\", \"2024-07-29T00:00:00\", \"2024-07-30T00:00:00\", \"2024-07-31T00:00:00\", \"2024-08-01T00:00:00\", \"2024-08-08T00:00:00\", \"2024-08-09T00:00:00\", \"2024-08-10T00:00:00\", \"2024-08-11T00:00:00\", \"2024-08-12T00:00:00\", \"2024-08-13T00:00:00\", \"2024-08-14T00:00:00\", \"2024-08-15T00:00:00\", \"2024-08-16T00:00:00\", \"2024-08-17T00:00:00\", \"2024-08-18T00:00:00\", \"2024-08-19T00:00:00\", \"2024-08-20T00:00:00\", \"2024-08-21T00:00:00\", \"2024-08-22T00:00:00\", \"2024-08-23T00:00:00\", \"2024-08-24T00:00:00\", \"2024-08-25T00:00:00\", \"2024-08-26T00:00:00\", \"2024-08-27T00:00:00\", \"2024-08-28T00:00:00\", \"2024-08-29T00:00:00\"], \"xaxis\": \"x\", \"y\": [1.0542005420054201, 1.0542005420054201, 1.0542005420054201, 1.0542005420054201, 1.0542005420054201, 1.0542005420054201, 1.043360433604336, 1.043360433604336, 1.043360433604336, 1.043360433604336, 1.037940379403794, 1.037940379403794, 1.037940379403794, 1.037940379403794, 1.037940379403794, 1.037940379403794, 1.037940379403794, 1.037940379403794, 1.037940379403794, 1.037940379403794, 1.037940379403794, 1.005420054200542, 1.005420054200542, 1.005420054200542, 1.005420054200542, 1.005420054200542, 1.005420054200542, 1.02710027100271, 1.0352303523035231, 1.0352303523035231, 1.0352303523035231, 1.0352303523035231, 1.0352303523035231, 0.8904428904428904, 0.8834498834498834, 0.8834498834498834, 0.8834498834498834, 0.8834498834498834, 0.8834498834498834, 0.974293059125964, 0.974293059125964, 0.897172236503856, 0.974293059125964, 0.974293059125964, 0.974293059125964, 0.974293059125964, 0.8834498834498834, 0.8834498834498834, 0.8834498834498834, 0.8834498834498834, 0.8834498834498834, 0.8834498834498834, 0.8834498834498834, 0.8834498834498834, 0.974293059125964, 0.974293059125964, 0.974293059125964, 0.974293059125964, 0.974293059125964, 0.974293059125964, 0.974293059125964, 0.974293059125964, 0.974293059125964, 0.974293059125964, 0.974293059125964, 0.974293059125964, 0.974293059125964, 1.0, 1.0, 1.0, 0.974937343358396, 0.974937343358396, 0.974937343358396, 0.974937343358396, 0.974937343358396, 0.974937343358396, 0.974937343358396, 0.974937343358396, 0.974937343358396, 0.974937343358396, 0.974937343358396, 0.974937343358396, 0.974937343358396, 0.974937343358396, 0.974937343358396, 0.974937343358396, 0.974937343358396, 0.974937343358396, 0.974937343358396, 0.974937343358396, 0.974937343358396, 0.974937343358396, 0.8997493734335839, 0.8997493734335839, 0.8997493734335839, 0.8997493734335839, 0.9624060150375939, 0.9624060150375939, 0.9624060150375939, 0.9624060150375939, 0.9624060150375939, 0.9624060150375939, 0.9624060150375939], \"yaxis\": \"y\"}, {\"connectgaps\": false, \"hovertemplate\": \"competitor_name=Akki - Socorro - Zukkin<br>Fecha=%{x}<br>NPI=%{y}<extra></extra>\", \"legendgroup\": \"Akki - Socorro - Zukkin\", \"line\": {\"color\": \"#EF553B\", \"dash\": \"solid\"}, \"mode\": \"lines\", \"name\": \"Akki - Socorro - Zukkin\", \"showlegend\": true, \"type\": \"scattergl\", \"x\": [\"2024-05-01T00:00:00\", \"2024-05-02T00:00:00\", \"2024-05-03T00:00:00\", \"2024-05-04T00:00:00\", \"2024-05-05T00:00:00\", \"2024-05-06T00:00:00\", \"2024-05-07T00:00:00\", \"2024-05-08T00:00:00\", \"2024-05-09T00:00:00\", \"2024-05-10T00:00:00\", \"2024-05-11T00:00:00\", \"2024-05-12T00:00:00\", \"2024-05-13T00:00:00\", \"2024-05-14T00:00:00\", \"2024-05-15T00:00:00\", \"2024-05-16T00:00:00\", \"2024-05-17T00:00:00\", \"2024-05-18T00:00:00\", \"2024-05-19T00:00:00\", \"2024-05-20T00:00:00\", \"2024-05-21T00:00:00\", \"2024-05-22T00:00:00\", \"2024-05-23T00:00:00\", \"2024-05-24T00:00:00\", \"2024-05-25T00:00:00\", \"2024-05-26T00:00:00\", \"2024-05-27T00:00:00\", \"2024-05-28T00:00:00\", \"2024-05-29T00:00:00\", \"2024-05-30T00:00:00\", \"2024-07-24T00:00:00\", \"2024-07-25T00:00:00\", \"2024-07-26T00:00:00\", \"2024-07-27T00:00:00\", \"2024-07-28T00:00:00\", \"2024-07-29T00:00:00\", \"2024-07-30T00:00:00\", \"2024-07-31T00:00:00\", \"2024-08-01T00:00:00\", \"2024-08-02T00:00:00\", \"2024-08-03T00:00:00\", \"2024-08-04T00:00:00\", \"2024-08-05T00:00:00\", \"2024-08-06T00:00:00\", \"2024-08-07T00:00:00\", \"2024-08-08T00:00:00\", \"2024-08-09T00:00:00\", \"2024-08-10T00:00:00\", \"2024-08-11T00:00:00\", \"2024-08-12T00:00:00\", \"2024-08-13T00:00:00\", \"2024-08-14T00:00:00\", \"2024-08-15T00:00:00\", \"2024-08-22T00:00:00\", \"2024-08-23T00:00:00\", \"2024-08-24T00:00:00\", \"2024-08-25T00:00:00\", \"2024-08-26T00:00:00\", \"2024-08-27T00:00:00\", \"2024-08-28T00:00:00\", \"2024-08-29T00:00:00\"], \"xaxis\": \"x\", \"y\": [0.9323308270676691, 0.9323308270676691, 0.9624060150375939, 0.9624060150375939, 0.9624060150375939, 0.974937343358396, 0.974937343358396, 1.0542005420054201, 1.0542005420054201, 1.0542005420054201, 1.0542005420054201, 1.0542005420054201, 1.043360433604336, 1.043360433604336, 1.043360433604336, 1.043360433604336, 1.037940379403794, 1.037940379403794, 1.037940379403794, 1.037940379403794, 1.037940379403794, 1.037940379403794, 1.037940379403794, 1.037940379403794, 1.037940379403794, 1.037940379403794, 1.037940379403794, 1.037940379403794, 1.037940379403794, 1.037940379403794, 0.974937343358396, 0.974937343358396, 0.974937343358396, 0.974937343358396, 0.974937343358396, 0.974937343358396, 0.974937343358396, 0.974937343358396, 0.974937343358396, 0.974937343358396, 0.974937343358396, 0.974937343358396, 0.974937343358396, 0.974937343358396, 1.0, 1.0, 1.0, 1.0, 1.0, 1.0, 1.0, 1.0, 1.0, 0.8997493734335839, 0.9624060150375939, 0.9624060150375939, 0.9624060150375939, 0.9624060150375939, 0.9624060150375939, 0.9624060150375939, 0.9624060150375939], \"yaxis\": \"y\"}, {\"connectgaps\": false, \"hovertemplate\": \"competitor_name=Assa\\u00ed - Jd. Santa Francisca - Zukkin<br>Fecha=%{x}<br>NPI=%{y}<extra></extra>\", \"legendgroup\": \"Assa\\u00ed - Jd. Santa Francisca - Zukkin\", \"line\": {\"color\": \"#00cc96\", \"dash\": \"solid\"}, \"mode\": \"lines\", \"name\": \"Assa\\u00ed - Jd. Santa Francisca - Zukkin\", \"showlegend\": true, \"type\": \"scattergl\", \"x\": [\"2024-05-28T00:00:00\", \"2024-05-29T00:00:00\", \"2024-05-30T00:00:00\", \"2024-05-31T00:00:00\", \"2024-06-01T00:00:00\", \"2024-06-02T00:00:00\", \"2024-06-03T00:00:00\", \"2024-06-04T00:00:00\", \"2024-06-05T00:00:00\", \"2024-06-06T00:00:00\", \"2024-06-07T00:00:00\", \"2024-06-08T00:00:00\", \"2024-06-09T00:00:00\", \"2024-06-10T00:00:00\", \"2024-06-11T00:00:00\", \"2024-06-12T00:00:00\", \"2024-06-13T00:00:00\", \"2024-06-14T00:00:00\", \"2024-06-15T00:00:00\", \"2024-06-16T00:00:00\", \"2024-06-17T00:00:00\", \"2024-06-18T00:00:00\", \"2024-06-19T00:00:00\", \"2024-06-20T00:00:00\", \"2024-06-21T00:00:00\", \"2024-06-22T00:00:00\", \"2024-06-23T00:00:00\", \"2024-06-24T00:00:00\", \"2024-06-25T00:00:00\", \"2024-06-26T00:00:00\", \"2024-06-27T00:00:00\", \"2024-06-28T00:00:00\", \"2024-06-29T00:00:00\", \"2024-06-30T00:00:00\", \"2024-07-01T00:00:00\", \"2024-07-02T00:00:00\", \"2024-07-03T00:00:00\", \"2024-07-04T00:00:00\", \"2024-07-05T00:00:00\", \"2024-07-06T00:00:00\", \"2024-07-07T00:00:00\", \"2024-07-08T00:00:00\", \"2024-07-09T00:00:00\", \"2024-07-10T00:00:00\", \"2024-07-11T00:00:00\", \"2024-07-12T00:00:00\", \"2024-07-13T00:00:00\", \"2024-07-14T00:00:00\", \"2024-07-15T00:00:00\", \"2024-07-16T00:00:00\", \"2024-07-17T00:00:00\", \"2024-07-18T00:00:00\", \"2024-07-19T00:00:00\", \"2024-07-20T00:00:00\", \"2024-07-21T00:00:00\", \"2024-07-22T00:00:00\", \"2024-07-23T00:00:00\", \"2024-07-24T00:00:00\", \"2024-07-25T00:00:00\", \"2024-07-26T00:00:00\", \"2024-07-27T00:00:00\", \"2024-07-28T00:00:00\", \"2024-07-29T00:00:00\", \"2024-07-30T00:00:00\", \"2024-07-31T00:00:00\", \"2024-08-01T00:00:00\", \"2024-08-02T00:00:00\", \"2024-08-03T00:00:00\", \"2024-08-04T00:00:00\", \"2024-08-05T00:00:00\", \"2024-08-06T00:00:00\", \"2024-08-07T00:00:00\", \"2024-08-08T00:00:00\", \"2024-08-09T00:00:00\", \"2024-08-10T00:00:00\", \"2024-08-11T00:00:00\", \"2024-08-12T00:00:00\", \"2024-08-13T00:00:00\", \"2024-08-14T00:00:00\", \"2024-08-15T00:00:00\", \"2024-08-16T00:00:00\", \"2024-08-17T00:00:00\", \"2024-08-18T00:00:00\", \"2024-08-19T00:00:00\", \"2024-08-20T00:00:00\", \"2024-08-21T00:00:00\", \"2024-08-22T00:00:00\", \"2024-08-23T00:00:00\", \"2024-08-24T00:00:00\", \"2024-08-25T00:00:00\", \"2024-08-26T00:00:00\", \"2024-08-27T00:00:00\", \"2024-08-28T00:00:00\", \"2024-08-29T00:00:00\"], \"xaxis\": \"x\", \"y\": [1.0668523676880224, 1.0668523676880224, 1.0668523676880224, 1.033426183844011, 1.033426183844011, 1.033426183844011, 1.033426183844011, 1.033426183844011, 1.033426183844011, 1.0557103064066853, 1.064066852367688, 1.064066852367688, 1.064066852367688, 1.064066852367688, 1.064066852367688, 1.064066852367688, 1.0557103064066853, 1.0557103064066853, 1.0557103064066853, 1.0557103064066853, 1.0557103064066853, 1.0557103064066853, 1.0557103064066853, 0.9721448467966575, 1.0557103064066853, 1.0557103064066853, 1.0557103064066853, 1.0557103064066853, 1.0557103064066853, 1.0557103064066853, 1.0557103064066853, 1.0557103064066853, 1.0557103064066853, 1.0557103064066853, 1.0557103064066853, 1.0557103064066853, 1.0557103064066853, 1.0557103064066853, 1.0557103064066853, 1.0557103064066853, 1.0557103064066853, 1.0557103064066853, 1.0557103064066853, 1.0557103064066853, 1.0557103064066853, 1.0557103064066853, 1.0557103064066853, 1.0557103064066853, 1.0557103064066853, 1.083565459610028, 1.083565459610028, 1.083565459610028, 1.083565459610028, 1.083565459610028, 1.083565459610028, 1.083565459610028, 1.083565459610028, 1.083565459610028, 1.083565459610028, 1.083565459610028, 1.083565459610028, 1.083565459610028, 1.083565459610028, 1.083565459610028, 1.083565459610028, 1.083565459610028, 1.083565459610028, 1.083565459610028, 1.083565459610028, 1.083565459610028, 1.083565459610028, 1.083565459610028, 1.083565459610028, 1.083565459610028, 1.083565459610028, 1.083565459610028, 1.083565459610028, 1.083565459610028, 1.083565459610028, 1.083565459610028, 1.083565459610028, 1.083565459610028, 1.083565459610028, 1.0, 0.9472295514511873, 0.9472295514511873, 0.9472295514511873, 1.013192612137203, 1.013192612137203, 1.013192612137203, 1.013192612137203, 1.013192612137203, 1.013192612137203, 1.013192612137203], \"yaxis\": \"y\"}, {\"connectgaps\": false, \"hovertemplate\": \"competitor_name=Assa\\u00ed - Osasco - Zukkin<br>Fecha=%{x}<br>NPI=%{y}<extra></extra>\", \"legendgroup\": \"Assa\\u00ed - Osasco - Zukkin\", \"line\": {\"color\": \"#ab63fa\", \"dash\": \"solid\"}, \"mode\": \"lines\", \"name\": \"Assa\\u00ed - Osasco - Zukkin\", \"showlegend\": true, \"type\": \"scattergl\", \"x\": [\"2024-06-13T00:00:00\", \"2024-06-14T00:00:00\", \"2024-06-15T00:00:00\", \"2024-06-16T00:00:00\", \"2024-06-17T00:00:00\", \"2024-06-18T00:00:00\", \"2024-06-19T00:00:00\", \"2024-06-20T00:00:00\", \"2024-06-21T00:00:00\", \"2024-07-03T00:00:00\", \"2024-07-04T00:00:00\", \"2024-07-05T00:00:00\", \"2024-07-06T00:00:00\", \"2024-07-07T00:00:00\", \"2024-07-08T00:00:00\", \"2024-07-09T00:00:00\", \"2024-07-10T00:00:00\", \"2024-07-11T00:00:00\", \"2024-07-12T00:00:00\", \"2024-07-13T00:00:00\", \"2024-07-14T00:00:00\", \"2024-07-15T00:00:00\", \"2024-07-16T00:00:00\", \"2024-07-17T00:00:00\", \"2024-07-18T00:00:00\", \"2024-07-19T00:00:00\", \"2024-07-20T00:00:00\", \"2024-07-21T00:00:00\", \"2024-07-22T00:00:00\", \"2024-07-23T00:00:00\", \"2024-07-24T00:00:00\", \"2024-07-25T00:00:00\", \"2024-07-26T00:00:00\", \"2024-07-27T00:00:00\", \"2024-07-28T00:00:00\", \"2024-07-29T00:00:00\", \"2024-07-30T00:00:00\", \"2024-07-31T00:00:00\", \"2024-08-01T00:00:00\", \"2024-08-02T00:00:00\", \"2024-08-03T00:00:00\", \"2024-08-04T00:00:00\", \"2024-08-05T00:00:00\", \"2024-08-06T00:00:00\", \"2024-08-07T00:00:00\", \"2024-08-08T00:00:00\", \"2024-08-09T00:00:00\", \"2024-08-10T00:00:00\", \"2024-08-11T00:00:00\", \"2024-08-12T00:00:00\", \"2024-08-13T00:00:00\", \"2024-08-14T00:00:00\", \"2024-08-15T00:00:00\", \"2024-08-16T00:00:00\", \"2024-08-17T00:00:00\", \"2024-08-18T00:00:00\", \"2024-08-19T00:00:00\", \"2024-08-20T00:00:00\", \"2024-08-21T00:00:00\", \"2024-08-22T00:00:00\", \"2024-08-23T00:00:00\", \"2024-08-24T00:00:00\", \"2024-08-25T00:00:00\", \"2024-08-26T00:00:00\", \"2024-08-27T00:00:00\", \"2024-08-28T00:00:00\", \"2024-08-29T00:00:00\"], \"xaxis\": \"x\", \"y\": [1.0106666666666666, 1.0106666666666666, 1.0106666666666666, 1.0106666666666666, 1.0106666666666666, 1.0106666666666666, 1.0106666666666666, 0.9306666666666668, 1.0106666666666666, 1.0106666666666666, 1.0106666666666666, 1.0106666666666666, 1.0106666666666666, 1.0106666666666666, 1.0106666666666666, 1.0106666666666666, 0.9844155844155844, 0.9844155844155844, 0.9844155844155844, 0.9844155844155844, 0.9844155844155844, 0.9844155844155844, 1.0103896103896104, 1.0373333333333334, 1.0373333333333334, 1.0373333333333334, 1.0373333333333334, 1.0373333333333334, 1.0373333333333334, 1.0373333333333334, 1.0373333333333334, 1.0373333333333334, 1.0373333333333334, 1.0373333333333334, 1.0373333333333334, 1.0373333333333334, 1.0373333333333334, 1.0373333333333334, 1.0373333333333334, 1.0373333333333334, 1.0373333333333334, 1.0373333333333334, 1.0373333333333334, 1.0373333333333334, 1.0373333333333334, 1.0373333333333334, 1.0373333333333334, 1.0373333333333334, 1.0373333333333334, 1.0373333333333334, 1.0373333333333334, 1.0373333333333334, 1.0373333333333334, 1.0373333333333334, 1.0373333333333334, 1.0373333333333334, 0.9573333333333333, 0.9573333333333333, 0.9573333333333333, 0.9324675324675324, 0.9974025974025973, 0.9974025974025973, 0.9974025974025973, 0.9974025974025973, 0.9974025974025973, 0.9974025974025973, 0.9974025974025973], \"yaxis\": \"y\"}, {\"connectgaps\": false, \"hovertemplate\": \"competitor_name=Assa\\u00ed - Santo Andr\\u00e9 - Zukkin<br>Fecha=%{x}<br>NPI=%{y}<extra></extra>\", \"legendgroup\": \"Assa\\u00ed - Santo Andr\\u00e9 - Zukkin\", \"line\": {\"color\": \"#FFA15A\", \"dash\": \"solid\"}, \"mode\": \"lines\", \"name\": \"Assa\\u00ed - Santo Andr\\u00e9 - Zukkin\", \"showlegend\": true, \"type\": \"scattergl\", \"x\": [\"2024-06-06T00:00:00\", \"2024-06-07T00:00:00\", \"2024-06-08T00:00:00\", \"2024-06-09T00:00:00\", \"2024-06-10T00:00:00\", \"2024-06-11T00:00:00\", \"2024-06-12T00:00:00\", \"2024-06-13T00:00:00\", \"2024-06-14T00:00:00\", \"2024-06-21T00:00:00\", \"2024-06-22T00:00:00\", \"2024-06-23T00:00:00\", \"2024-06-24T00:00:00\", \"2024-06-25T00:00:00\", \"2024-06-26T00:00:00\", \"2024-06-27T00:00:00\", \"2024-06-28T00:00:00\", \"2024-06-29T00:00:00\", \"2024-06-30T00:00:00\", \"2024-07-01T00:00:00\", \"2024-07-02T00:00:00\", \"2024-07-03T00:00:00\", \"2024-07-04T00:00:00\", \"2024-07-05T00:00:00\", \"2024-07-06T00:00:00\", \"2024-07-07T00:00:00\", \"2024-07-08T00:00:00\", \"2024-07-09T00:00:00\", \"2024-07-10T00:00:00\", \"2024-07-11T00:00:00\", \"2024-07-12T00:00:00\", \"2024-07-13T00:00:00\", \"2024-07-14T00:00:00\", \"2024-07-15T00:00:00\", \"2024-07-16T00:00:00\", \"2024-07-17T00:00:00\", \"2024-07-18T00:00:00\", \"2024-07-19T00:00:00\", \"2024-07-20T00:00:00\", \"2024-07-21T00:00:00\", \"2024-07-22T00:00:00\", \"2024-07-23T00:00:00\", \"2024-07-24T00:00:00\", \"2024-07-25T00:00:00\", \"2024-07-26T00:00:00\", \"2024-07-27T00:00:00\", \"2024-07-28T00:00:00\", \"2024-07-29T00:00:00\", \"2024-07-30T00:00:00\", \"2024-07-31T00:00:00\", \"2024-08-01T00:00:00\", \"2024-08-02T00:00:00\", \"2024-08-03T00:00:00\", \"2024-08-04T00:00:00\", \"2024-08-05T00:00:00\", \"2024-08-06T00:00:00\", \"2024-08-07T00:00:00\", \"2024-08-08T00:00:00\", \"2024-08-09T00:00:00\", \"2024-08-10T00:00:00\", \"2024-08-11T00:00:00\", \"2024-08-12T00:00:00\", \"2024-08-13T00:00:00\", \"2024-08-14T00:00:00\", \"2024-08-15T00:00:00\", \"2024-08-16T00:00:00\", \"2024-08-17T00:00:00\", \"2024-08-18T00:00:00\", \"2024-08-19T00:00:00\", \"2024-08-20T00:00:00\", \"2024-08-21T00:00:00\", \"2024-08-22T00:00:00\", \"2024-08-23T00:00:00\", \"2024-08-24T00:00:00\", \"2024-08-25T00:00:00\", \"2024-08-26T00:00:00\", \"2024-08-27T00:00:00\", \"2024-08-28T00:00:00\", \"2024-08-29T00:00:00\"], \"xaxis\": \"x\", \"y\": [1.02710027100271, 1.0352303523035231, 1.0352303523035231, 1.0352303523035231, 1.0352303523035231, 1.0352303523035231, 1.0352303523035231, 1.02710027100271, 1.02710027100271, 1.02710027100271, 1.02710027100271, 1.02710027100271, 1.02710027100271, 1.02710027100271, 1.02710027100271, 1.02710027100271, 1.0106666666666666, 1.0106666666666666, 1.0106666666666666, 1.0106666666666666, 1.0106666666666666, 1.0557103064066853, 1.0557103064066853, 1.0557103064066853, 1.0557103064066853, 1.0557103064066853, 1.02710027100271, 1.02710027100271, 1.02710027100271, 1.02710027100271, 1.02710027100271, 1.02710027100271, 1.02710027100271, 1.02710027100271, 1.0542005420054201, 1.0542005420054201, 1.0542005420054201, 1.0542005420054201, 1.0542005420054201, 1.0542005420054201, 1.0542005420054201, 1.0542005420054201, 1.0542005420054201, 1.0542005420054201, 1.0542005420054201, 1.0542005420054201, 1.0542005420054201, 1.0542005420054201, 1.0542005420054201, 1.0542005420054201, 1.0542005420054201, 1.0542005420054201, 1.0542005420054201, 1.0542005420054201, 1.0542005420054201, 1.0542005420054201, 1.0542005420054201, 1.0542005420054201, 1.0542005420054201, 1.0542005420054201, 1.0542005420054201, 1.0542005420054201, 1.0542005420054201, 1.0542005420054201, 1.0542005420054201, 1.0542005420054201, 1.0542005420054201, 1.0542005420054201, 0.9728997289972899, 0.9728997289972899, 0.9324675324675324, 0.9324675324675324, 0.9974025974025973, 0.9974025974025973, 0.9974025974025973, 0.9974025974025973, 0.9974025974025973, 0.9974025974025973, 0.9974025974025973], \"yaxis\": \"y\"}, {\"connectgaps\": false, \"hovertemplate\": \"competitor_name=Assa\\u00ed - Tatuap\\u00e9 - Zukkin<br>Fecha=%{x}<br>NPI=%{y}<extra></extra>\", \"legendgroup\": \"Assa\\u00ed - Tatuap\\u00e9 - Zukkin\", \"line\": {\"color\": \"#19d3f3\", \"dash\": \"solid\"}, \"mode\": \"lines\", \"name\": \"Assa\\u00ed - Tatuap\\u00e9 - Zukkin\", \"showlegend\": true, \"type\": \"scattergl\", \"x\": [\"2024-05-24T00:00:00\", \"2024-05-25T00:00:00\", \"2024-05-26T00:00:00\", \"2024-05-27T00:00:00\", \"2024-05-28T00:00:00\", \"2024-05-29T00:00:00\", \"2024-05-30T00:00:00\", \"2024-05-31T00:00:00\", \"2024-06-01T00:00:00\", \"2024-06-11T00:00:00\", \"2024-06-12T00:00:00\", \"2024-06-13T00:00:00\", \"2024-06-14T00:00:00\", \"2024-06-15T00:00:00\", \"2024-06-16T00:00:00\", \"2024-06-17T00:00:00\", \"2024-06-18T00:00:00\", \"2024-06-19T00:00:00\", \"2024-07-30T00:00:00\", \"2024-07-31T00:00:00\", \"2024-08-01T00:00:00\", \"2024-08-02T00:00:00\", \"2024-08-03T00:00:00\", \"2024-08-04T00:00:00\", \"2024-08-05T00:00:00\", \"2024-08-06T00:00:00\", \"2024-08-07T00:00:00\", \"2024-08-09T00:00:00\", \"2024-08-10T00:00:00\", \"2024-08-11T00:00:00\", \"2024-08-12T00:00:00\", \"2024-08-13T00:00:00\", \"2024-08-14T00:00:00\", \"2024-08-15T00:00:00\", \"2024-08-16T00:00:00\", \"2024-08-17T00:00:00\", \"2024-08-18T00:00:00\", \"2024-08-19T00:00:00\", \"2024-08-20T00:00:00\", \"2024-08-21T00:00:00\", \"2024-08-22T00:00:00\", \"2024-08-23T00:00:00\", \"2024-08-24T00:00:00\", \"2024-08-25T00:00:00\", \"2024-08-26T00:00:00\", \"2024-08-27T00:00:00\", \"2024-08-28T00:00:00\", \"2024-08-29T00:00:00\"], \"xaxis\": \"x\", \"y\": [1.0213333333333334, 1.0213333333333334, 1.0213333333333334, 1.0213333333333334, 1.0213333333333334, 1.0213333333333334, 1.0213333333333334, 0.9893333333333333, 0.9893333333333333, 0.9573934837092731, 0.9573934837092731, 0.949874686716792, 0.949874686716792, 0.949874686716792, 0.949874686716792, 0.949874686716792, 0.949874686716792, 0.949874686716792, 1.0373333333333334, 1.0373333333333334, 1.0373333333333334, 1.0373333333333334, 1.0373333333333334, 1.0373333333333334, 1.0373333333333334, 1.0373333333333334, 1.0373333333333334, 1.0373333333333334, 1.0373333333333334, 1.0373333333333334, 1.0373333333333334, 1.0373333333333334, 1.0373333333333334, 1.0373333333333334, 1.0373333333333334, 1.0373333333333334, 1.0373333333333334, 0.9573333333333333, 0.9573333333333333, 0.9573333333333333, 1.0, 1.0696378830083566, 1.0696378830083566, 1.0696378830083566, 1.0696378830083566, 1.0696378830083566, 1.0696378830083566, 1.0696378830083566], \"yaxis\": \"y\"}, {\"connectgaps\": false, \"hovertemplate\": \"competitor_name=Assa\\u00ed - Vila Sonia - Zukkin<br>Fecha=%{x}<br>NPI=%{y}<extra></extra>\", \"legendgroup\": \"Assa\\u00ed - Vila Sonia - Zukkin\", \"line\": {\"color\": \"#FF6692\", \"dash\": \"solid\"}, \"mode\": \"lines\", \"name\": \"Assa\\u00ed - Vila Sonia - Zukkin\", \"showlegend\": true, \"type\": \"scattergl\", \"x\": [\"2024-05-28T00:00:00\", \"2024-05-29T00:00:00\", \"2024-05-30T00:00:00\", \"2024-05-31T00:00:00\", \"2024-06-01T00:00:00\", \"2024-06-02T00:00:00\", \"2024-06-03T00:00:00\", \"2024-06-04T00:00:00\", \"2024-06-05T00:00:00\", \"2024-06-06T00:00:00\", \"2024-06-07T00:00:00\", \"2024-06-08T00:00:00\", \"2024-06-09T00:00:00\", \"2024-06-10T00:00:00\", \"2024-06-11T00:00:00\", \"2024-06-12T00:00:00\", \"2024-06-13T00:00:00\", \"2024-06-14T00:00:00\", \"2024-06-15T00:00:00\", \"2024-06-16T00:00:00\", \"2024-06-17T00:00:00\", \"2024-06-18T00:00:00\", \"2024-06-19T00:00:00\", \"2024-06-20T00:00:00\", \"2024-06-21T00:00:00\", \"2024-06-22T00:00:00\", \"2024-06-23T00:00:00\", \"2024-06-24T00:00:00\", \"2024-06-25T00:00:00\", \"2024-06-26T00:00:00\", \"2024-06-27T00:00:00\", \"2024-06-28T00:00:00\", \"2024-06-29T00:00:00\", \"2024-06-30T00:00:00\", \"2024-07-01T00:00:00\", \"2024-07-02T00:00:00\", \"2024-07-03T00:00:00\", \"2024-07-04T00:00:00\", \"2024-07-05T00:00:00\", \"2024-07-06T00:00:00\", \"2024-07-07T00:00:00\", \"2024-07-08T00:00:00\", \"2024-07-09T00:00:00\", \"2024-07-10T00:00:00\", \"2024-07-11T00:00:00\", \"2024-07-12T00:00:00\", \"2024-07-13T00:00:00\", \"2024-07-14T00:00:00\", \"2024-07-15T00:00:00\", \"2024-07-16T00:00:00\", \"2024-07-17T00:00:00\", \"2024-07-18T00:00:00\", \"2024-07-19T00:00:00\", \"2024-07-20T00:00:00\", \"2024-07-21T00:00:00\", \"2024-07-22T00:00:00\", \"2024-07-23T00:00:00\", \"2024-07-24T00:00:00\", \"2024-07-25T00:00:00\", \"2024-07-26T00:00:00\", \"2024-07-27T00:00:00\", \"2024-07-28T00:00:00\", \"2024-07-29T00:00:00\", \"2024-07-30T00:00:00\", \"2024-07-31T00:00:00\", \"2024-08-01T00:00:00\", \"2024-08-02T00:00:00\", \"2024-08-03T00:00:00\", \"2024-08-04T00:00:00\", \"2024-08-05T00:00:00\", \"2024-08-06T00:00:00\", \"2024-08-07T00:00:00\", \"2024-08-08T00:00:00\", \"2024-08-09T00:00:00\", \"2024-08-10T00:00:00\", \"2024-08-11T00:00:00\", \"2024-08-12T00:00:00\", \"2024-08-13T00:00:00\", \"2024-08-14T00:00:00\", \"2024-08-15T00:00:00\", \"2024-08-16T00:00:00\", \"2024-08-17T00:00:00\", \"2024-08-18T00:00:00\", \"2024-08-19T00:00:00\", \"2024-08-20T00:00:00\", \"2024-08-21T00:00:00\", \"2024-08-22T00:00:00\", \"2024-08-23T00:00:00\", \"2024-08-24T00:00:00\", \"2024-08-25T00:00:00\", \"2024-08-26T00:00:00\", \"2024-08-27T00:00:00\", \"2024-08-28T00:00:00\", \"2024-08-29T00:00:00\"], \"xaxis\": \"x\", \"y\": [1.037940379403794, 1.037940379403794, 1.037940379403794, 1.005420054200542, 1.005420054200542, 1.005420054200542, 1.005420054200542, 1.005420054200542, 1.005420054200542, 1.02710027100271, 1.0352303523035231, 1.0352303523035231, 1.0352303523035231, 1.0352303523035231, 1.0352303523035231, 1.0352303523035231, 1.02710027100271, 1.02710027100271, 1.02710027100271, 1.02710027100271, 1.02710027100271, 1.02710027100271, 1.02710027100271, 0.94579945799458, 1.02710027100271, 1.02710027100271, 1.02710027100271, 1.02710027100271, 1.0, 1.0, 1.0, 1.0, 1.0, 1.0, 1.0, 1.02710027100271, 1.02710027100271, 1.02710027100271, 1.02710027100271, 1.02710027100271, 1.02710027100271, 1.02710027100271, 1.02710027100271, 1.02710027100271, 1.02710027100271, 1.02710027100271, 1.02710027100271, 1.02710027100271, 1.02710027100271, 1.0542005420054201, 1.0542005420054201, 1.0542005420054201, 1.0542005420054201, 1.0542005420054201, 1.0542005420054201, 1.0542005420054201, 1.0542005420054201, 1.0542005420054201, 1.0542005420054201, 1.0542005420054201, 1.0542005420054201, 1.0542005420054201, 1.0542005420054201, 1.0542005420054201, 1.0542005420054201, 1.0542005420054201, 1.0542005420054201, 1.0542005420054201, 1.0542005420054201, 1.0542005420054201, 1.0542005420054201, 1.0542005420054201, 1.0542005420054201, 1.0542005420054201, 1.0542005420054201, 1.0542005420054201, 1.0542005420054201, 1.0542005420054201, 1.0542005420054201, 1.0542005420054201, 1.0542005420054201, 1.0542005420054201, 1.0542005420054201, 0.9728997289972899, 0.9728997289972899, 1.0, 1.0, 1.0696378830083566, 1.0696378830083566, 1.0696378830083566, 1.0696378830083566, 1.0696378830083566, 1.013192612137203, 1.013192612137203], \"yaxis\": \"y\"}, {\"connectgaps\": false, \"hovertemplate\": \"competitor_name=Atacad\\u00e3o - Centro - Zukkin<br>Fecha=%{x}<br>NPI=%{y}<extra></extra>\", \"legendgroup\": \"Atacad\\u00e3o - Centro - Zukkin\", \"line\": {\"color\": \"#B6E880\", \"dash\": \"solid\"}, \"mode\": \"lines\", \"name\": \"Atacad\\u00e3o - Centro - Zukkin\", \"showlegend\": true, \"type\": \"scattergl\", \"x\": [\"2024-06-06T00:00:00\", \"2024-06-07T00:00:00\", \"2024-06-08T00:00:00\", \"2024-06-09T00:00:00\", \"2024-06-10T00:00:00\", \"2024-06-11T00:00:00\", \"2024-06-12T00:00:00\", \"2024-06-13T00:00:00\", \"2024-06-14T00:00:00\", \"2024-06-15T00:00:00\", \"2024-06-16T00:00:00\", \"2024-06-17T00:00:00\", \"2024-06-18T00:00:00\", \"2024-06-19T00:00:00\", \"2024-06-20T00:00:00\", \"2024-06-21T00:00:00\", \"2024-06-22T00:00:00\", \"2024-06-23T00:00:00\", \"2024-06-24T00:00:00\", \"2024-06-25T00:00:00\", \"2024-06-26T00:00:00\", \"2024-06-27T00:00:00\", \"2024-06-28T00:00:00\", \"2024-06-29T00:00:00\", \"2024-06-30T00:00:00\", \"2024-07-01T00:00:00\", \"2024-07-02T00:00:00\", \"2024-07-09T00:00:00\", \"2024-07-10T00:00:00\", \"2024-07-11T00:00:00\", \"2024-07-12T00:00:00\", \"2024-07-13T00:00:00\", \"2024-07-14T00:00:00\", \"2024-07-15T00:00:00\", \"2024-07-16T00:00:00\", \"2024-07-17T00:00:00\", \"2024-07-18T00:00:00\", \"2024-07-19T00:00:00\", \"2024-07-20T00:00:00\", \"2024-07-21T00:00:00\", \"2024-07-22T00:00:00\", \"2024-07-23T00:00:00\", \"2024-07-24T00:00:00\", \"2024-07-25T00:00:00\", \"2024-07-26T00:00:00\", \"2024-07-27T00:00:00\", \"2024-07-28T00:00:00\", \"2024-07-29T00:00:00\", \"2024-07-30T00:00:00\", \"2024-07-31T00:00:00\", \"2024-08-01T00:00:00\", \"2024-08-02T00:00:00\", \"2024-08-03T00:00:00\", \"2024-08-04T00:00:00\", \"2024-08-05T00:00:00\", \"2024-08-06T00:00:00\", \"2024-08-07T00:00:00\", \"2024-08-08T00:00:00\", \"2024-08-09T00:00:00\", \"2024-08-10T00:00:00\", \"2024-08-11T00:00:00\", \"2024-08-12T00:00:00\", \"2024-08-13T00:00:00\", \"2024-08-14T00:00:00\", \"2024-08-15T00:00:00\", \"2024-08-16T00:00:00\", \"2024-08-17T00:00:00\", \"2024-08-18T00:00:00\", \"2024-08-19T00:00:00\", \"2024-08-20T00:00:00\", \"2024-08-21T00:00:00\", \"2024-08-22T00:00:00\", \"2024-08-23T00:00:00\", \"2024-08-24T00:00:00\", \"2024-08-25T00:00:00\", \"2024-08-26T00:00:00\", \"2024-08-27T00:00:00\", \"2024-08-28T00:00:00\", \"2024-08-29T00:00:00\"], \"xaxis\": \"x\", \"y\": [0.959493670886076, 0.9670886075949366, 0.9670886075949366, 0.9670886075949366, 0.9670886075949366, 0.9670886075949366, 0.9670886075949366, 0.959493670886076, 0.959493670886076, 0.959493670886076, 0.959493670886076, 0.9266503667481663, 0.9266503667481663, 0.9266503667481663, 0.8533007334963326, 0.9266503667481663, 0.9266503667481663, 0.9266503667481663, 0.9266503667481663, 0.9266503667481663, 0.9266503667481663, 0.9266503667481663, 0.9266503667481663, 0.9266503667481663, 0.9266503667481663, 0.9266503667481663, 0.9266503667481663, 0.9266503667481663, 0.9266503667481663, 0.9266503667481663, 0.9266503667481663, 0.9266503667481663, 0.9266503667481663, 0.9266503667481663, 0.9511002444987776, 0.9511002444987776, 0.9511002444987776, 0.9511002444987776, 0.9511002444987776, 0.9511002444987776, 0.9511002444987776, 0.9511002444987776, 0.9511002444987776, 0.9511002444987776, 0.9511002444987776, 0.9511002444987776, 0.9511002444987776, 0.9511002444987776, 0.9511002444987776, 0.9511002444987776, 0.9511002444987776, 0.9511002444987776, 0.9511002444987776, 0.9511002444987776, 0.9511002444987776, 0.9511002444987776, 0.9511002444987776, 0.9511002444987776, 0.9511002444987776, 0.9511002444987776, 0.9511002444987776, 0.9511002444987776, 0.9511002444987776, 0.9511002444987776, 0.9511002444987776, 0.9511002444987776, 0.9511002444987776, 0.9511002444987776, 0.8777506112469438, 0.9228791773778919, 0.9228791773778919, 0.9228791773778919, 0.987146529562982, 0.987146529562982, 0.987146529562982, 0.987146529562982, 0.987146529562982, 0.987146529562982, 0.987146529562982], \"yaxis\": \"y\"}, {\"connectgaps\": false, \"hovertemplate\": \"competitor_name=Atacad\\u00e3o - Granja Viana - Zukkin<br>Fecha=%{x}<br>NPI=%{y}<extra></extra>\", \"legendgroup\": \"Atacad\\u00e3o - Granja Viana - Zukkin\", \"line\": {\"color\": \"#FF97FF\", \"dash\": \"solid\"}, \"mode\": \"lines\", \"name\": \"Atacad\\u00e3o - Granja Viana - Zukkin\", \"showlegend\": true, \"type\": \"scattergl\", \"x\": [\"2024-05-01T00:00:00\", \"2024-05-02T00:00:00\", \"2024-05-03T00:00:00\", \"2024-05-04T00:00:00\", \"2024-05-05T00:00:00\", \"2024-05-06T00:00:00\", \"2024-05-07T00:00:00\", \"2024-05-08T00:00:00\", \"2024-05-09T00:00:00\", \"2024-05-10T00:00:00\", \"2024-05-11T00:00:00\", \"2024-05-12T00:00:00\", \"2024-05-13T00:00:00\", \"2024-05-14T00:00:00\", \"2024-05-15T00:00:00\", \"2024-05-16T00:00:00\", \"2024-05-17T00:00:00\", \"2024-05-18T00:00:00\", \"2024-05-19T00:00:00\", \"2024-05-20T00:00:00\", \"2024-05-21T00:00:00\", \"2024-05-22T00:00:00\", \"2024-05-23T00:00:00\", \"2024-06-06T00:00:00\", \"2024-06-07T00:00:00\", \"2024-06-08T00:00:00\", \"2024-06-09T00:00:00\", \"2024-06-10T00:00:00\", \"2024-06-11T00:00:00\", \"2024-06-12T00:00:00\", \"2024-06-13T00:00:00\", \"2024-06-14T00:00:00\", \"2024-06-20T00:00:00\", \"2024-06-21T00:00:00\", \"2024-06-22T00:00:00\", \"2024-06-23T00:00:00\", \"2024-06-24T00:00:00\", \"2024-06-25T00:00:00\", \"2024-06-26T00:00:00\", \"2024-06-27T00:00:00\", \"2024-06-28T00:00:00\", \"2024-06-29T00:00:00\", \"2024-06-30T00:00:00\", \"2024-07-01T00:00:00\", \"2024-07-02T00:00:00\", \"2024-07-03T00:00:00\", \"2024-07-04T00:00:00\", \"2024-07-10T00:00:00\", \"2024-07-11T00:00:00\", \"2024-07-12T00:00:00\", \"2024-07-13T00:00:00\", \"2024-07-14T00:00:00\", \"2024-07-15T00:00:00\", \"2024-07-16T00:00:00\", \"2024-07-17T00:00:00\", \"2024-07-18T00:00:00\", \"2024-07-19T00:00:00\", \"2024-07-20T00:00:00\", \"2024-07-21T00:00:00\", \"2024-07-22T00:00:00\", \"2024-07-23T00:00:00\", \"2024-07-24T00:00:00\", \"2024-07-25T00:00:00\", \"2024-07-26T00:00:00\", \"2024-07-27T00:00:00\", \"2024-07-28T00:00:00\", \"2024-07-29T00:00:00\", \"2024-07-30T00:00:00\", \"2024-07-31T00:00:00\", \"2024-08-01T00:00:00\", \"2024-08-02T00:00:00\", \"2024-08-03T00:00:00\", \"2024-08-04T00:00:00\", \"2024-08-05T00:00:00\", \"2024-08-06T00:00:00\", \"2024-08-07T00:00:00\", \"2024-08-08T00:00:00\", \"2024-08-09T00:00:00\", \"2024-08-10T00:00:00\", \"2024-08-11T00:00:00\", \"2024-08-12T00:00:00\", \"2024-08-13T00:00:00\", \"2024-08-14T00:00:00\", \"2024-08-15T00:00:00\", \"2024-08-16T00:00:00\", \"2024-08-17T00:00:00\", \"2024-08-18T00:00:00\", \"2024-08-19T00:00:00\", \"2024-08-20T00:00:00\", \"2024-08-21T00:00:00\", \"2024-08-22T00:00:00\", \"2024-08-23T00:00:00\", \"2024-08-24T00:00:00\", \"2024-08-25T00:00:00\", \"2024-08-26T00:00:00\", \"2024-08-27T00:00:00\", \"2024-08-28T00:00:00\", \"2024-08-29T00:00:00\"], \"xaxis\": \"x\", \"y\": [1.7971014492753625, 1.7971014492753625, 1.855072463768116, 1.855072463768116, 1.855072463768116, 1.8792270531400967, 1.8792270531400967, 1.0373333333333334, 1.0373333333333334, 1.0373333333333334, 1.0373333333333334, 1.0373333333333334, 1.0266666666666666, 1.0266666666666666, 1.0266666666666666, 1.0266666666666666, 1.0213333333333334, 1.0213333333333334, 1.0213333333333334, 1.0213333333333334, 1.0213333333333334, 1.0213333333333334, 1.0213333333333334, 0.959493670886076, 0.9670886075949366, 0.9670886075949366, 0.9670886075949366, 0.9670886075949366, 0.9670886075949366, 0.9670886075949366, 0.959493670886076, 0.959493670886076, 0.8533007334963326, 0.9266503667481663, 0.9266503667481663, 0.9266503667481663, 0.9266503667481663, 0.9266503667481663, 0.974293059125964, 0.974293059125964, 0.974293059125964, 0.974293059125964, 0.974293059125964, 0.974293059125964, 0.974293059125964, 0.974293059125964, 0.974293059125964, 0.974293059125964, 0.974293059125964, 0.974293059125964, 0.974293059125964, 0.974293059125964, 0.974293059125964, 1.0, 1.0, 1.0, 1.0, 1.0, 1.0, 1.0, 1.0, 1.0, 1.0, 1.0, 1.0, 1.0, 1.0, 1.0, 1.0, 1.0, 1.0, 1.0, 1.0, 1.0, 1.0, 1.0, 1.0, 1.0, 1.0, 1.0, 1.0, 1.0, 1.0, 1.0, 1.0, 1.0, 1.0, 0.9228791773778919, 0.9228791773778919, 0.9228791773778919, 0.9228791773778919, 0.987146529562982, 0.987146529562982, 0.987146529562982, 0.987146529562982, 0.987146529562982, 0.987146529562982, 0.987146529562982], \"yaxis\": \"y\"}, {\"connectgaps\": false, \"hovertemplate\": \"competitor_name=Atacad\\u00e3o - Industrial Autonomistas - Zukkin<br>Fecha=%{x}<br>NPI=%{y}<extra></extra>\", \"legendgroup\": \"Atacad\\u00e3o - Industrial Autonomistas - Zukkin\", \"line\": {\"color\": \"#FECB52\", \"dash\": \"solid\"}, \"mode\": \"lines\", \"name\": \"Atacad\\u00e3o - Industrial Autonomistas - Zukkin\", \"showlegend\": true, \"type\": \"scattergl\", \"x\": [\"2024-05-21T00:00:00\", \"2024-05-22T00:00:00\", \"2024-05-23T00:00:00\", \"2024-05-24T00:00:00\", \"2024-05-25T00:00:00\", \"2024-05-26T00:00:00\", \"2024-05-27T00:00:00\", \"2024-05-28T00:00:00\", \"2024-05-29T00:00:00\", \"2024-06-03T00:00:00\", \"2024-06-04T00:00:00\", \"2024-06-05T00:00:00\", \"2024-06-06T00:00:00\", \"2024-06-07T00:00:00\", \"2024-06-08T00:00:00\", \"2024-06-09T00:00:00\", \"2024-06-10T00:00:00\", \"2024-06-11T00:00:00\", \"2024-06-12T00:00:00\", \"2024-06-13T00:00:00\", \"2024-06-14T00:00:00\", \"2024-06-15T00:00:00\", \"2024-06-16T00:00:00\", \"2024-06-17T00:00:00\", \"2024-06-18T00:00:00\", \"2024-06-19T00:00:00\", \"2024-06-27T00:00:00\", \"2024-06-28T00:00:00\", \"2024-06-29T00:00:00\", \"2024-06-30T00:00:00\", \"2024-07-01T00:00:00\", \"2024-07-02T00:00:00\", \"2024-07-03T00:00:00\", \"2024-07-04T00:00:00\", \"2024-07-05T00:00:00\", \"2024-07-06T00:00:00\", \"2024-07-07T00:00:00\", \"2024-07-08T00:00:00\", \"2024-07-09T00:00:00\", \"2024-07-10T00:00:00\"], \"xaxis\": \"x\", \"y\": [0.9696202531645569, 0.9696202531645569, 0.9696202531645569, 0.9696202531645569, 0.9696202531645569, 0.9696202531645569, 0.9696202531645569, 0.9696202531645569, 0.9696202531645569, 0.9893333333333333, 0.9893333333333333, 0.9893333333333333, 1.0106666666666666, 1.0186666666666666, 1.0186666666666666, 1.0186666666666666, 1.0186666666666666, 0.9670886075949366, 0.9670886075949366, 0.959493670886076, 0.959493670886076, 0.959493670886076, 0.959493670886076, 0.959493670886076, 0.959493670886076, 0.959493670886076, 0.9266503667481663, 0.9266503667481663, 0.9266503667481663, 0.9266503667481663, 0.9266503667481663, 0.9266503667481663, 0.9266503667481663, 0.9266503667481663, 0.9266503667481663, 0.9266503667481663, 0.9266503667481663, 0.9266503667481663, 0.9266503667481663, 0.9266503667481663], \"yaxis\": \"y\"}, {\"connectgaps\": false, \"hovertemplate\": \"competitor_name=Atacad\\u00e3o - Jardim S\\u00e3o Geraldo - Zukkin<br>Fecha=%{x}<br>NPI=%{y}<extra></extra>\", \"legendgroup\": \"Atacad\\u00e3o - Jardim S\\u00e3o Geraldo - Zukkin\", \"line\": {\"color\": \"#636efa\", \"dash\": \"solid\"}, \"mode\": \"lines\", \"name\": \"Atacad\\u00e3o - Jardim S\\u00e3o Geraldo - Zukkin\", \"showlegend\": true, \"type\": \"scattergl\", \"x\": [\"2024-05-01T00:00:00\", \"2024-05-02T00:00:00\", \"2024-05-03T00:00:00\", \"2024-05-04T00:00:00\", \"2024-05-05T00:00:00\", \"2024-05-06T00:00:00\", \"2024-05-07T00:00:00\", \"2024-05-08T00:00:00\", \"2024-05-09T00:00:00\", \"2024-05-10T00:00:00\", \"2024-05-11T00:00:00\", \"2024-05-12T00:00:00\", \"2024-05-13T00:00:00\", \"2024-05-14T00:00:00\", \"2024-05-15T00:00:00\", \"2024-05-16T00:00:00\", \"2024-05-17T00:00:00\", \"2024-05-18T00:00:00\", \"2024-05-19T00:00:00\", \"2024-05-20T00:00:00\", \"2024-05-21T00:00:00\", \"2024-05-22T00:00:00\", \"2024-05-23T00:00:00\", \"2024-05-24T00:00:00\", \"2024-05-25T00:00:00\", \"2024-05-26T00:00:00\", \"2024-05-27T00:00:00\", \"2024-05-28T00:00:00\", \"2024-05-29T00:00:00\", \"2024-05-30T00:00:00\", \"2024-06-12T00:00:00\", \"2024-06-13T00:00:00\", \"2024-06-14T00:00:00\", \"2024-06-15T00:00:00\", \"2024-06-16T00:00:00\", \"2024-06-17T00:00:00\", \"2024-06-18T00:00:00\", \"2024-06-19T00:00:00\", \"2024-06-20T00:00:00\", \"2024-06-21T00:00:00\", \"2024-06-22T00:00:00\", \"2024-06-23T00:00:00\", \"2024-06-24T00:00:00\", \"2024-06-25T00:00:00\", \"2024-06-26T00:00:00\", \"2024-06-27T00:00:00\", \"2024-06-28T00:00:00\", \"2024-06-29T00:00:00\", \"2024-06-30T00:00:00\", \"2024-07-01T00:00:00\", \"2024-07-02T00:00:00\", \"2024-07-03T00:00:00\", \"2024-07-04T00:00:00\", \"2024-07-05T00:00:00\", \"2024-07-06T00:00:00\", \"2024-07-07T00:00:00\", \"2024-07-08T00:00:00\", \"2024-07-09T00:00:00\", \"2024-07-10T00:00:00\", \"2024-07-11T00:00:00\", \"2024-07-12T00:00:00\", \"2024-07-13T00:00:00\", \"2024-07-14T00:00:00\", \"2024-07-15T00:00:00\", \"2024-07-16T00:00:00\", \"2024-07-17T00:00:00\", \"2024-07-18T00:00:00\", \"2024-07-19T00:00:00\", \"2024-07-20T00:00:00\", \"2024-07-21T00:00:00\", \"2024-07-22T00:00:00\", \"2024-07-23T00:00:00\", \"2024-07-24T00:00:00\", \"2024-07-25T00:00:00\", \"2024-07-26T00:00:00\", \"2024-07-27T00:00:00\", \"2024-07-28T00:00:00\", \"2024-07-29T00:00:00\", \"2024-07-30T00:00:00\", \"2024-07-31T00:00:00\", \"2024-08-01T00:00:00\", \"2024-08-02T00:00:00\", \"2024-08-03T00:00:00\", \"2024-08-04T00:00:00\", \"2024-08-05T00:00:00\", \"2024-08-06T00:00:00\", \"2024-08-07T00:00:00\", \"2024-08-08T00:00:00\", \"2024-08-09T00:00:00\", \"2024-08-10T00:00:00\", \"2024-08-11T00:00:00\", \"2024-08-12T00:00:00\", \"2024-08-13T00:00:00\", \"2024-08-14T00:00:00\", \"2024-08-15T00:00:00\", \"2024-08-16T00:00:00\", \"2024-08-17T00:00:00\", \"2024-08-18T00:00:00\", \"2024-08-19T00:00:00\", \"2024-08-20T00:00:00\", \"2024-08-21T00:00:00\", \"2024-08-22T00:00:00\", \"2024-08-23T00:00:00\", \"2024-08-24T00:00:00\", \"2024-08-25T00:00:00\", \"2024-08-26T00:00:00\", \"2024-08-27T00:00:00\", \"2024-08-28T00:00:00\", \"2024-08-29T00:00:00\"], \"xaxis\": \"x\", \"y\": [0.9920000000000001, 0.9920000000000001, 1.024, 1.024, 1.024, 1.0373333333333334, 1.0373333333333334, 1.0373333333333334, 1.0373333333333334, 1.0373333333333334, 1.0373333333333334, 1.0373333333333334, 1.0266666666666666, 1.0266666666666666, 1.5587044534412955, 1.5587044534412955, 1.5506072874493926, 1.5506072874493926, 1.5506072874493926, 1.5506072874493926, 1.5506072874493926, 1.0213333333333334, 1.0213333333333334, 1.0213333333333334, 1.0213333333333334, 1.0213333333333334, 1.0213333333333334, 1.0213333333333334, 1.0213333333333334, 1.0213333333333334, 1.0186666666666666, 1.0106666666666666, 1.0106666666666666, 1.0106666666666666, 1.0106666666666666, 1.0106666666666666, 1.0106666666666666, 0.974293059125964, 0.897172236503856, 0.974293059125964, 0.974293059125964, 0.974293059125964, 0.974293059125964, 0.974293059125964, 0.974293059125964, 0.974293059125964, 0.974293059125964, 0.974293059125964, 0.974293059125964, 0.974293059125964, 0.974293059125964, 0.974293059125964, 0.974293059125964, 0.974293059125964, 0.974293059125964, 0.974293059125964, 0.974293059125964, 0.974293059125964, 0.974293059125964, 0.974293059125964, 0.974293059125964, 0.974293059125964, 0.974293059125964, 0.974293059125964, 1.0, 1.0, 1.0, 1.0, 1.0, 1.0, 1.0, 1.0, 1.0, 1.0, 1.0, 1.0, 1.0, 1.0, 1.0, 1.0, 1.0, 1.0, 1.0, 1.0, 1.0, 1.0, 1.0, 1.0, 1.0, 1.0, 1.0, 1.0, 1.0, 1.0, 1.0, 1.0, 1.0, 1.0, 0.9228791773778919, 0.9228791773778919, 0.9228791773778919, 0.9228791773778919, 0.987146529562982, 0.987146529562982, 0.987146529562982, 0.987146529562982, 0.987146529562982, 0.987146529562982, 0.987146529562982], \"yaxis\": \"y\"}, {\"connectgaps\": false, \"hovertemplate\": \"competitor_name=Atacad\\u00e3o - Vila Maria. - Zukkin<br>Fecha=%{x}<br>NPI=%{y}<extra></extra>\", \"legendgroup\": \"Atacad\\u00e3o - Vila Maria. - Zukkin\", \"line\": {\"color\": \"#EF553B\", \"dash\": \"solid\"}, \"mode\": \"lines\", \"name\": \"Atacad\\u00e3o - Vila Maria. - Zukkin\", \"showlegend\": true, \"type\": \"scattergl\", \"x\": [\"2024-05-28T00:00:00\", \"2024-05-29T00:00:00\", \"2024-05-30T00:00:00\", \"2024-05-31T00:00:00\", \"2024-06-01T00:00:00\", \"2024-06-02T00:00:00\", \"2024-06-03T00:00:00\", \"2024-06-04T00:00:00\", \"2024-06-05T00:00:00\", \"2024-07-02T00:00:00\", \"2024-07-03T00:00:00\", \"2024-07-04T00:00:00\", \"2024-07-05T00:00:00\", \"2024-07-06T00:00:00\", \"2024-07-07T00:00:00\", \"2024-07-08T00:00:00\", \"2024-07-09T00:00:00\", \"2024-07-10T00:00:00\", \"2024-07-16T00:00:00\", \"2024-07-17T00:00:00\", \"2024-07-18T00:00:00\", \"2024-07-19T00:00:00\", \"2024-07-20T00:00:00\", \"2024-07-21T00:00:00\", \"2024-07-22T00:00:00\", \"2024-07-23T00:00:00\", \"2024-07-24T00:00:00\", \"2024-07-25T00:00:00\", \"2024-07-26T00:00:00\", \"2024-07-27T00:00:00\", \"2024-07-28T00:00:00\", \"2024-07-29T00:00:00\", \"2024-07-30T00:00:00\", \"2024-07-31T00:00:00\", \"2024-08-01T00:00:00\", \"2024-08-02T00:00:00\", \"2024-08-03T00:00:00\", \"2024-08-04T00:00:00\", \"2024-08-05T00:00:00\", \"2024-08-06T00:00:00\", \"2024-08-07T00:00:00\", \"2024-08-08T00:00:00\", \"2024-08-09T00:00:00\", \"2024-08-10T00:00:00\", \"2024-08-11T00:00:00\", \"2024-08-12T00:00:00\", \"2024-08-13T00:00:00\", \"2024-08-14T00:00:00\", \"2024-08-15T00:00:00\", \"2024-08-16T00:00:00\", \"2024-08-17T00:00:00\", \"2024-08-18T00:00:00\", \"2024-08-19T00:00:00\", \"2024-08-20T00:00:00\", \"2024-08-21T00:00:00\", \"2024-08-22T00:00:00\", \"2024-08-27T00:00:00\", \"2024-08-28T00:00:00\", \"2024-08-29T00:00:00\"], \"xaxis\": \"x\", \"y\": [1.0213333333333334, 1.0213333333333334, 1.0213333333333334, 0.9893333333333333, 0.9893333333333333, 0.9893333333333333, 0.9893333333333333, 0.9893333333333333, 0.9893333333333333, 0.9266503667481663, 0.9266503667481663, 0.9266503667481663, 0.9266503667481663, 0.9266503667481663, 0.9266503667481663, 0.9266503667481663, 0.9266503667481663, 0.9266503667481663, 1.0, 1.0, 1.0, 1.0, 1.0, 1.0, 1.0, 1.0, 1.0, 1.0, 1.0, 1.0, 1.0, 1.0, 1.0, 1.0, 1.0, 1.0, 1.0, 1.0, 1.0, 1.0, 1.0, 1.0, 1.0, 1.0, 1.0, 1.0, 1.0, 1.0, 1.0, 1.0, 1.0, 1.0, 0.9228791773778919, 0.9228791773778919, 0.9228791773778919, 0.9228791773778919, 0.9388753056234719, 0.9388753056234719, 0.9388753056234719], \"yaxis\": \"y\"}, {\"connectgaps\": false, \"hovertemplate\": \"competitor_name=Giga Atacado - Guarulhos - Zukkin<br>Fecha=%{x}<br>NPI=%{y}<extra></extra>\", \"legendgroup\": \"Giga Atacado - Guarulhos - Zukkin\", \"line\": {\"color\": \"#00cc96\", \"dash\": \"solid\"}, \"mode\": \"lines\", \"name\": \"Giga Atacado - Guarulhos - Zukkin\", \"showlegend\": true, \"type\": \"scattergl\", \"x\": [\"2024-05-02T00:00:00\", \"2024-05-03T00:00:00\", \"2024-05-04T00:00:00\", \"2024-05-05T00:00:00\", \"2024-05-06T00:00:00\", \"2024-05-07T00:00:00\", \"2024-05-08T00:00:00\", \"2024-05-09T00:00:00\", \"2024-05-10T00:00:00\", \"2024-05-11T00:00:00\", \"2024-05-12T00:00:00\", \"2024-05-13T00:00:00\", \"2024-05-14T00:00:00\", \"2024-05-15T00:00:00\", \"2024-05-16T00:00:00\", \"2024-05-17T00:00:00\", \"2024-05-18T00:00:00\", \"2024-05-19T00:00:00\", \"2024-05-20T00:00:00\", \"2024-05-21T00:00:00\", \"2024-05-22T00:00:00\", \"2024-05-23T00:00:00\", \"2024-05-24T00:00:00\", \"2024-05-25T00:00:00\", \"2024-05-26T00:00:00\", \"2024-05-27T00:00:00\", \"2024-05-28T00:00:00\", \"2024-05-29T00:00:00\", \"2024-05-30T00:00:00\", \"2024-06-27T00:00:00\", \"2024-06-28T00:00:00\", \"2024-06-29T00:00:00\", \"2024-06-30T00:00:00\", \"2024-07-01T00:00:00\", \"2024-07-02T00:00:00\", \"2024-07-03T00:00:00\", \"2024-07-04T00:00:00\", \"2024-07-05T00:00:00\", \"2024-07-06T00:00:00\", \"2024-07-07T00:00:00\", \"2024-07-08T00:00:00\", \"2024-07-09T00:00:00\", \"2024-07-10T00:00:00\", \"2024-07-11T00:00:00\", \"2024-07-12T00:00:00\", \"2024-07-13T00:00:00\", \"2024-07-14T00:00:00\", \"2024-07-15T00:00:00\", \"2024-07-16T00:00:00\", \"2024-07-17T00:00:00\", \"2024-07-18T00:00:00\", \"2024-07-19T00:00:00\", \"2024-08-01T00:00:00\", \"2024-08-02T00:00:00\", \"2024-08-03T00:00:00\", \"2024-08-04T00:00:00\", \"2024-08-05T00:00:00\", \"2024-08-06T00:00:00\", \"2024-08-07T00:00:00\", \"2024-08-08T00:00:00\", \"2024-08-09T00:00:00\", \"2024-08-16T00:00:00\", \"2024-08-17T00:00:00\", \"2024-08-18T00:00:00\", \"2024-08-19T00:00:00\", \"2024-08-20T00:00:00\", \"2024-08-21T00:00:00\", \"2024-08-22T00:00:00\", \"2024-08-23T00:00:00\", \"2024-08-24T00:00:00\", \"2024-08-25T00:00:00\", \"2024-08-26T00:00:00\", \"2024-08-27T00:00:00\", \"2024-08-28T00:00:00\", \"2024-08-29T00:00:00\"], \"xaxis\": \"x\", \"y\": [0.9815303430079156, 1.013192612137203, 1.013192612137203, 1.013192612137203, 1.0263852242744063, 1.0263852242744063, 1.0263852242744063, 1.0263852242744063, 1.0263852242744063, 1.0263852242744063, 1.0263852242744063, 1.0158311345646438, 1.0158311345646438, 1.0158311345646438, 1.0158311345646438, 1.0105540897097625, 1.0105540897097625, 1.0105540897097625, 1.0105540897097625, 1.0105540897097625, 1.0105540897097625, 1.0105540897097625, 1.0105540897097625, 1.0105540897097625, 1.0105540897097625, 1.0105540897097625, 1.0105540897097625, 1.0105540897097625, 1.0105540897097625, 1.1519756838905775, 1.1519756838905775, 1.1519756838905775, 1.1519756838905775, 1.1519756838905775, 1.1519756838905775, 1.1519756838905775, 1.0557103064066853, 1.0557103064066853, 1.0557103064066853, 1.0557103064066853, 1.0557103064066853, 1.0557103064066853, 1.0557103064066853, 1.0557103064066853, 1.0557103064066853, 1.0557103064066853, 1.0557103064066853, 1.0557103064066853, 1.083565459610028, 1.083565459610028, 1.083565459610028, 1.083565459610028, 1.1146131805157593, 1.1146131805157593, 1.1146131805157593, 1.1146131805157593, 1.1146131805157593, 1.1146131805157593, 1.1146131805157593, 1.1146131805157593, 1.1146131805157593, 1.0345744680851066, 1.0345744680851066, 1.0345744680851066, 0.9547872340425532, 0.9547872340425532, 0.9547872340425532, 1.0589970501474926, 1.1327433628318584, 1.1327433628318584, 1.1327433628318584, 1.1327433628318584, 1.1327433628318584, 1.1327433628318584, 1.1327433628318584], \"yaxis\": \"y\"}, {\"connectgaps\": false, \"hovertemplate\": \"competitor_name=Giga Atacado - S\\u00e3o Paulo - Zukkin<br>Fecha=%{x}<br>NPI=%{y}<extra></extra>\", \"legendgroup\": \"Giga Atacado - S\\u00e3o Paulo - Zukkin\", \"line\": {\"color\": \"#ab63fa\", \"dash\": \"solid\"}, \"mode\": \"lines\", \"name\": \"Giga Atacado - S\\u00e3o Paulo - Zukkin\", \"showlegend\": true, \"type\": \"scattergl\", \"x\": [\"2024-06-12T00:00:00\", \"2024-06-13T00:00:00\", \"2024-06-14T00:00:00\", \"2024-06-15T00:00:00\", \"2024-06-16T00:00:00\", \"2024-06-17T00:00:00\", \"2024-06-18T00:00:00\", \"2024-06-19T00:00:00\", \"2024-06-20T00:00:00\", \"2024-06-21T00:00:00\", \"2024-06-22T00:00:00\", \"2024-06-23T00:00:00\", \"2024-06-24T00:00:00\", \"2024-06-25T00:00:00\", \"2024-06-26T00:00:00\", \"2024-06-27T00:00:00\", \"2024-06-28T00:00:00\", \"2024-06-29T00:00:00\", \"2024-06-30T00:00:00\", \"2024-07-01T00:00:00\", \"2024-07-02T00:00:00\", \"2024-07-03T00:00:00\", \"2024-07-04T00:00:00\", \"2024-07-05T00:00:00\", \"2024-07-06T00:00:00\", \"2024-07-07T00:00:00\", \"2024-07-08T00:00:00\", \"2024-07-09T00:00:00\", \"2024-07-10T00:00:00\", \"2024-07-11T00:00:00\", \"2024-07-12T00:00:00\", \"2024-07-13T00:00:00\", \"2024-07-14T00:00:00\", \"2024-07-15T00:00:00\", \"2024-07-16T00:00:00\", \"2024-07-17T00:00:00\", \"2024-07-18T00:00:00\", \"2024-07-19T00:00:00\", \"2024-07-20T00:00:00\", \"2024-07-21T00:00:00\", \"2024-07-22T00:00:00\", \"2024-07-23T00:00:00\", \"2024-07-24T00:00:00\", \"2024-07-25T00:00:00\", \"2024-07-26T00:00:00\", \"2024-07-27T00:00:00\", \"2024-07-28T00:00:00\", \"2024-07-29T00:00:00\", \"2024-07-30T00:00:00\", \"2024-07-31T00:00:00\", \"2024-08-01T00:00:00\", \"2024-08-02T00:00:00\", \"2024-08-03T00:00:00\", \"2024-08-04T00:00:00\", \"2024-08-05T00:00:00\", \"2024-08-06T00:00:00\", \"2024-08-07T00:00:00\", \"2024-08-08T00:00:00\", \"2024-08-09T00:00:00\", \"2024-08-10T00:00:00\", \"2024-08-11T00:00:00\", \"2024-08-12T00:00:00\", \"2024-08-13T00:00:00\", \"2024-08-14T00:00:00\", \"2024-08-15T00:00:00\", \"2024-08-16T00:00:00\", \"2024-08-17T00:00:00\", \"2024-08-18T00:00:00\", \"2024-08-19T00:00:00\", \"2024-08-20T00:00:00\", \"2024-08-21T00:00:00\", \"2024-08-22T00:00:00\", \"2024-08-23T00:00:00\", \"2024-08-24T00:00:00\", \"2024-08-25T00:00:00\", \"2024-08-26T00:00:00\", \"2024-08-27T00:00:00\", \"2024-08-28T00:00:00\", \"2024-08-29T00:00:00\"], \"xaxis\": \"x\", \"y\": [0.9820051413881747, 0.974293059125964, 0.974293059125964, 0.974293059125964, 0.974293059125964, 0.974293059125964, 0.974293059125964, 0.974293059125964, 0.897172236503856, 0.974293059125964, 0.974293059125964, 0.974293059125964, 0.974293059125964, 0.974293059125964, 0.974293059125964, 0.974293059125964, 0.974293059125964, 0.974293059125964, 0.974293059125964, 0.974293059125964, 0.974293059125964, 0.974293059125964, 0.974293059125964, 0.974293059125964, 0.974293059125964, 0.974293059125964, 0.974293059125964, 0.974293059125964, 0.974293059125964, 0.974293059125964, 0.974293059125964, 0.974293059125964, 0.974293059125964, 0.974293059125964, 1.0, 1.0, 1.0, 1.0, 1.0, 1.0, 1.0, 1.0, 1.0, 1.0, 1.0, 1.0, 1.0, 1.0, 1.0, 1.1146131805157593, 1.1146131805157593, 1.1146131805157593, 1.1146131805157593, 1.1146131805157593, 1.1146131805157593, 1.1146131805157593, 1.0373333333333334, 1.0373333333333334, 1.0373333333333334, 1.0373333333333334, 1.0373333333333334, 1.0373333333333334, 1.0373333333333334, 1.0373333333333334, 1.0373333333333334, 1.0373333333333334, 1.0373333333333334, 1.0373333333333334, 0.9573333333333333, 0.9573333333333333, 1.0589970501474926, 1.0589970501474926, 1.1327433628318584, 1.1327433628318584, 1.1327433628318584, 1.1327433628318584, 1.1327433628318584, 0.9974025974025973, 0.9974025974025973], \"yaxis\": \"y\"}, {\"connectgaps\": false, \"hovertemplate\": \"competitor_name=Mercad\\u00e3o Atacadista - Pirajussara - Zukkin<br>Fecha=%{x}<br>NPI=%{y}<extra></extra>\", \"legendgroup\": \"Mercad\\u00e3o Atacadista - Pirajussara - Zukkin\", \"line\": {\"color\": \"#FFA15A\", \"dash\": \"solid\"}, \"mode\": \"lines\", \"name\": \"Mercad\\u00e3o Atacadista - Pirajussara - Zukkin\", \"showlegend\": true, \"type\": \"scattergl\", \"x\": [\"2024-06-04T00:00:00\", \"2024-06-05T00:00:00\", \"2024-06-06T00:00:00\", \"2024-06-07T00:00:00\", \"2024-06-08T00:00:00\", \"2024-06-09T00:00:00\", \"2024-06-10T00:00:00\", \"2024-06-11T00:00:00\", \"2024-06-12T00:00:00\", \"2024-06-13T00:00:00\", \"2024-06-14T00:00:00\", \"2024-06-15T00:00:00\", \"2024-06-16T00:00:00\", \"2024-06-17T00:00:00\", \"2024-06-18T00:00:00\", \"2024-06-19T00:00:00\", \"2024-06-20T00:00:00\", \"2024-06-21T00:00:00\", \"2024-06-22T00:00:00\", \"2024-06-23T00:00:00\", \"2024-06-24T00:00:00\", \"2024-06-25T00:00:00\", \"2024-06-26T00:00:00\", \"2024-06-27T00:00:00\", \"2024-06-28T00:00:00\", \"2024-06-29T00:00:00\", \"2024-06-30T00:00:00\", \"2024-07-01T00:00:00\", \"2024-07-02T00:00:00\", \"2024-07-03T00:00:00\", \"2024-07-04T00:00:00\", \"2024-07-05T00:00:00\", \"2024-07-06T00:00:00\", \"2024-07-07T00:00:00\", \"2024-07-08T00:00:00\", \"2024-07-09T00:00:00\", \"2024-07-10T00:00:00\", \"2024-07-11T00:00:00\", \"2024-07-12T00:00:00\", \"2024-07-13T00:00:00\", \"2024-07-14T00:00:00\", \"2024-07-15T00:00:00\", \"2024-07-16T00:00:00\", \"2024-07-17T00:00:00\", \"2024-07-18T00:00:00\", \"2024-07-19T00:00:00\", \"2024-07-20T00:00:00\", \"2024-07-21T00:00:00\", \"2024-07-22T00:00:00\", \"2024-07-23T00:00:00\", \"2024-07-24T00:00:00\", \"2024-07-25T00:00:00\", \"2024-07-26T00:00:00\", \"2024-07-27T00:00:00\", \"2024-07-28T00:00:00\", \"2024-07-29T00:00:00\", \"2024-07-30T00:00:00\", \"2024-07-31T00:00:00\", \"2024-08-06T00:00:00\", \"2024-08-07T00:00:00\", \"2024-08-08T00:00:00\", \"2024-08-09T00:00:00\", \"2024-08-10T00:00:00\", \"2024-08-11T00:00:00\", \"2024-08-12T00:00:00\", \"2024-08-13T00:00:00\", \"2024-08-14T00:00:00\", \"2024-08-15T00:00:00\", \"2024-08-16T00:00:00\", \"2024-08-17T00:00:00\", \"2024-08-18T00:00:00\", \"2024-08-19T00:00:00\", \"2024-08-20T00:00:00\", \"2024-08-21T00:00:00\", \"2024-08-22T00:00:00\", \"2024-08-23T00:00:00\", \"2024-08-24T00:00:00\", \"2024-08-25T00:00:00\", \"2024-08-26T00:00:00\", \"2024-08-27T00:00:00\", \"2024-08-28T00:00:00\", \"2024-08-29T00:00:00\"], \"xaxis\": \"x\", \"y\": [0.8262806236080178, 0.8262806236080178, 0.844097995545657, 0.8507795100222716, 0.8507795100222716, 0.8507795100222716, 0.8507795100222716, 0.9573934837092731, 0.9573934837092731, 0.949874686716792, 0.949874686716792, 0.949874686716792, 0.949874686716792, 0.949874686716792, 0.949874686716792, 0.949874686716792, 0.87468671679198, 0.949874686716792, 0.949874686716792, 0.949874686716792, 0.949874686716792, 0.949874686716792, 0.949874686716792, 0.949874686716792, 0.949874686716792, 0.949874686716792, 0.949874686716792, 0.949874686716792, 0.949874686716792, 0.949874686716792, 0.949874686716792, 0.949874686716792, 0.949874686716792, 0.949874686716792, 0.949874686716792, 0.949874686716792, 0.949874686716792, 0.949874686716792, 0.949874686716792, 0.949874686716792, 0.949874686716792, 0.949874686716792, 0.974937343358396, 0.974937343358396, 0.974937343358396, 0.974937343358396, 0.974937343358396, 0.974937343358396, 0.974937343358396, 0.974937343358396, 0.974937343358396, 0.974937343358396, 0.974937343358396, 0.974937343358396, 0.974937343358396, 0.974937343358396, 0.974937343358396, 0.974937343358396, 0.974937343358396, 0.974937343358396, 0.974937343358396, 0.974937343358396, 0.974937343358396, 0.974937343358396, 0.974937343358396, 0.974937343358396, 0.974937343358396, 0.974937343358396, 0.974937343358396, 0.974937343358396, 0.974937343358396, 0.8997493734335839, 0.8997493734335839, 0.8997493734335839, 0.8997493734335839, 0.9624060150375939, 0.9624060150375939, 0.9624060150375939, 0.9624060150375939, 0.9624060150375939, 0.9624060150375939, 0.9624060150375939], \"yaxis\": \"y\"}, {\"connectgaps\": false, \"hovertemplate\": \"competitor_name=Rold\\u00e3o - Guarulhos - Zukkin<br>Fecha=%{x}<br>NPI=%{y}<extra></extra>\", \"legendgroup\": \"Rold\\u00e3o - Guarulhos - Zukkin\", \"line\": {\"color\": \"#19d3f3\", \"dash\": \"solid\"}, \"mode\": \"lines\", \"name\": \"Rold\\u00e3o - Guarulhos - Zukkin\", \"showlegend\": true, \"type\": \"scattergl\", \"x\": [\"2024-05-29T00:00:00\", \"2024-05-30T00:00:00\", \"2024-05-31T00:00:00\", \"2024-06-01T00:00:00\", \"2024-06-02T00:00:00\", \"2024-06-03T00:00:00\", \"2024-06-04T00:00:00\", \"2024-06-05T00:00:00\", \"2024-06-06T00:00:00\", \"2024-06-12T00:00:00\", \"2024-06-13T00:00:00\", \"2024-06-14T00:00:00\", \"2024-06-15T00:00:00\", \"2024-06-16T00:00:00\", \"2024-06-17T00:00:00\", \"2024-06-18T00:00:00\", \"2024-06-19T00:00:00\", \"2024-06-20T00:00:00\", \"2024-07-10T00:00:00\", \"2024-07-11T00:00:00\", \"2024-07-12T00:00:00\", \"2024-07-13T00:00:00\", \"2024-07-14T00:00:00\", \"2024-07-15T00:00:00\", \"2024-07-16T00:00:00\", \"2024-07-17T00:00:00\", \"2024-07-18T00:00:00\", \"2024-07-19T00:00:00\", \"2024-07-20T00:00:00\", \"2024-07-21T00:00:00\", \"2024-07-22T00:00:00\", \"2024-07-23T00:00:00\", \"2024-07-24T00:00:00\", \"2024-07-25T00:00:00\", \"2024-07-26T00:00:00\", \"2024-07-27T00:00:00\", \"2024-07-28T00:00:00\", \"2024-07-29T00:00:00\", \"2024-07-30T00:00:00\", \"2024-07-31T00:00:00\", \"2024-08-01T00:00:00\", \"2024-08-02T00:00:00\", \"2024-08-03T00:00:00\", \"2024-08-04T00:00:00\", \"2024-08-05T00:00:00\", \"2024-08-06T00:00:00\", \"2024-08-07T00:00:00\", \"2024-08-08T00:00:00\", \"2024-08-09T00:00:00\", \"2024-08-10T00:00:00\", \"2024-08-11T00:00:00\", \"2024-08-12T00:00:00\", \"2024-08-13T00:00:00\", \"2024-08-14T00:00:00\", \"2024-08-15T00:00:00\", \"2024-08-16T00:00:00\", \"2024-08-17T00:00:00\", \"2024-08-18T00:00:00\", \"2024-08-19T00:00:00\", \"2024-08-20T00:00:00\", \"2024-08-21T00:00:00\", \"2024-08-22T00:00:00\", \"2024-08-23T00:00:00\", \"2024-08-24T00:00:00\", \"2024-08-25T00:00:00\", \"2024-08-26T00:00:00\", \"2024-08-27T00:00:00\", \"2024-08-28T00:00:00\", \"2024-08-29T00:00:00\"], \"xaxis\": \"x\", \"y\": [0.9845758354755784, 0.9845758354755784, 0.9537275064267352, 0.9537275064267352, 0.9537275064267352, 0.9537275064267352, 0.9537275064267352, 0.9537275064267352, 0.974293059125964, 0.8904428904428904, 0.8834498834498834, 0.8834498834498834, 0.8834498834498834, 0.8834498834498834, 0.8834498834498834, 0.8834498834498834, 0.8834498834498834, 0.8135198135198136, 0.8834498834498834, 0.8834498834498834, 0.8834498834498834, 0.8834498834498834, 0.8834498834498834, 0.8834498834498834, 0.9067599067599068, 0.9067599067599068, 0.9067599067599068, 0.9067599067599068, 0.9067599067599068, 0.9067599067599068, 0.9067599067599068, 0.9067599067599068, 0.9067599067599068, 0.9067599067599068, 0.9067599067599068, 0.9067599067599068, 0.9067599067599068, 0.9067599067599068, 0.9067599067599068, 0.974937343358396, 0.974937343358396, 0.974937343358396, 0.974937343358396, 0.974937343358396, 0.974937343358396, 0.974937343358396, 0.9067599067599068, 0.9067599067599068, 0.9067599067599068, 0.9067599067599068, 0.9067599067599068, 0.9067599067599068, 0.9067599067599068, 0.9067599067599068, 0.9067599067599068, 0.9067599067599068, 0.9067599067599068, 0.9067599067599068, 0.8368298368298368, 0.8368298368298368, 0.8368298368298368, 0.8368298368298368, 0.8951048951048951, 0.8951048951048951, 0.8951048951048951, 0.8951048951048951, 0.8951048951048951, 0.8951048951048951, 0.8951048951048951], \"yaxis\": \"y\"}, {\"connectgaps\": false, \"hovertemplate\": \"competitor_name=Tenda - Socorro - Zukkin<br>Fecha=%{x}<br>NPI=%{y}<extra></extra>\", \"legendgroup\": \"Tenda - Socorro - Zukkin\", \"line\": {\"color\": \"#FF6692\", \"dash\": \"solid\"}, \"mode\": \"lines\", \"name\": \"Tenda - Socorro - Zukkin\", \"showlegend\": true, \"type\": \"scattergl\", \"x\": [\"2024-06-11T00:00:00\", \"2024-06-12T00:00:00\", \"2024-06-13T00:00:00\", \"2024-06-14T00:00:00\", \"2024-06-15T00:00:00\", \"2024-06-16T00:00:00\", \"2024-06-17T00:00:00\", \"2024-06-18T00:00:00\", \"2024-06-19T00:00:00\", \"2024-06-25T00:00:00\", \"2024-06-26T00:00:00\", \"2024-06-27T00:00:00\", \"2024-06-28T00:00:00\", \"2024-06-29T00:00:00\", \"2024-06-30T00:00:00\", \"2024-07-01T00:00:00\", \"2024-07-02T00:00:00\", \"2024-07-03T00:00:00\", \"2024-07-04T00:00:00\", \"2024-07-05T00:00:00\", \"2024-07-06T00:00:00\", \"2024-07-07T00:00:00\", \"2024-07-08T00:00:00\", \"2024-07-09T00:00:00\", \"2024-07-10T00:00:00\", \"2024-07-23T00:00:00\", \"2024-07-24T00:00:00\", \"2024-07-25T00:00:00\", \"2024-07-26T00:00:00\", \"2024-07-27T00:00:00\", \"2024-07-28T00:00:00\", \"2024-07-29T00:00:00\", \"2024-07-30T00:00:00\", \"2024-07-31T00:00:00\", \"2024-08-01T00:00:00\", \"2024-08-02T00:00:00\", \"2024-08-03T00:00:00\", \"2024-08-04T00:00:00\", \"2024-08-05T00:00:00\", \"2024-08-06T00:00:00\", \"2024-08-07T00:00:00\", \"2024-08-08T00:00:00\", \"2024-08-09T00:00:00\", \"2024-08-10T00:00:00\", \"2024-08-11T00:00:00\", \"2024-08-12T00:00:00\", \"2024-08-13T00:00:00\", \"2024-08-14T00:00:00\", \"2024-08-15T00:00:00\", \"2024-08-16T00:00:00\", \"2024-08-17T00:00:00\", \"2024-08-18T00:00:00\", \"2024-08-19T00:00:00\", \"2024-08-20T00:00:00\", \"2024-08-21T00:00:00\", \"2024-08-22T00:00:00\", \"2024-08-23T00:00:00\", \"2024-08-24T00:00:00\", \"2024-08-25T00:00:00\", \"2024-08-26T00:00:00\", \"2024-08-27T00:00:00\", \"2024-08-28T00:00:00\", \"2024-08-29T00:00:00\"], \"xaxis\": \"x\", \"y\": [0.9573934837092731, 0.9573934837092731, 0.949874686716792, 0.949874686716792, 0.949874686716792, 0.949874686716792, 0.949874686716792, 0.949874686716792, 0.949874686716792, 0.949874686716792, 0.949874686716792, 0.949874686716792, 0.949874686716792, 0.949874686716792, 0.949874686716792, 0.949874686716792, 0.949874686716792, 0.949874686716792, 0.949874686716792, 0.949874686716792, 0.949874686716792, 0.949874686716792, 0.949874686716792, 0.949874686716792, 0.949874686716792, 0.9284009546539379, 0.9284009546539379, 0.9284009546539379, 0.9284009546539379, 0.9284009546539379, 0.9284009546539379, 0.9284009546539379, 0.9284009546539379, 1.0373333333333334, 1.0373333333333334, 1.0373333333333334, 1.0373333333333334, 1.0373333333333334, 1.0373333333333334, 1.0, 1.0, 1.0, 1.0, 1.0, 1.0, 1.0, 1.0, 1.0, 1.0, 1.0, 1.0, 1.0, 0.9228791773778919, 0.9228791773778919, 0.9228791773778919, 0.9228791773778919, 0.987146529562982, 0.987146529562982, 0.987146529562982, 0.987146529562982, 0.987146529562982, 0.987146529562982, 0.987146529562982], \"yaxis\": \"y\"}],                        {\"height\": 600, \"legend\": {\"title\": {\"text\": \"competitor_name\"}, \"tracegroupgap\": 0}, \"template\": {\"data\": {\"bar\": [{\"error_x\": {\"color\": \"#2a3f5f\"}, \"error_y\": {\"color\": \"#2a3f5f\"}, \"marker\": {\"line\": {\"color\": \"#E5ECF6\", \"width\": 0.5}}, \"type\": \"bar\"}], \"barpolar\": [{\"marker\": {\"line\": {\"color\": \"#E5ECF6\", \"width\": 0.5}}, \"type\": \"barpolar\"}], \"carpet\": [{\"aaxis\": {\"endlinecolor\": \"#2a3f5f\", \"gridcolor\": \"white\", \"linecolor\": \"white\", \"minorgridcolor\": \"white\", \"startlinecolor\": \"#2a3f5f\"}, \"baxis\": {\"endlinecolor\": \"#2a3f5f\", \"gridcolor\": \"white\", \"linecolor\": \"white\", \"minorgridcolor\": \"white\", \"startlinecolor\": \"#2a3f5f\"}, \"type\": \"carpet\"}], \"choropleth\": [{\"colorbar\": {\"outlinewidth\": 0, \"ticks\": \"\"}, \"type\": \"choropleth\"}], \"contour\": [{\"colorbar\": {\"outlinewidth\": 0, \"ticks\": \"\"}, \"colorscale\": [[0.0, \"#0d0887\"], [0.1111111111111111, \"#46039f\"], [0.2222222222222222, \"#7201a8\"], [0.3333333333333333, \"#9c179e\"], [0.4444444444444444, \"#bd3786\"], [0.5555555555555556, \"#d8576b\"], [0.6666666666666666, \"#ed7953\"], [0.7777777777777778, \"#fb9f3a\"], [0.8888888888888888, \"#fdca26\"], [1.0, \"#f0f921\"]], \"type\": \"contour\"}], \"contourcarpet\": [{\"colorbar\": {\"outlinewidth\": 0, \"ticks\": \"\"}, \"type\": \"contourcarpet\"}], \"heatmap\": [{\"colorbar\": {\"outlinewidth\": 0, \"ticks\": \"\"}, \"colorscale\": [[0.0, \"#0d0887\"], [0.1111111111111111, \"#46039f\"], [0.2222222222222222, \"#7201a8\"], [0.3333333333333333, \"#9c179e\"], [0.4444444444444444, \"#bd3786\"], [0.5555555555555556, \"#d8576b\"], [0.6666666666666666, \"#ed7953\"], [0.7777777777777778, \"#fb9f3a\"], [0.8888888888888888, \"#fdca26\"], [1.0, \"#f0f921\"]], \"type\": \"heatmap\"}], \"heatmapgl\": [{\"colorbar\": {\"outlinewidth\": 0, \"ticks\": \"\"}, \"colorscale\": [[0.0, \"#0d0887\"], [0.1111111111111111, \"#46039f\"], [0.2222222222222222, \"#7201a8\"], [0.3333333333333333, \"#9c179e\"], [0.4444444444444444, \"#bd3786\"], [0.5555555555555556, \"#d8576b\"], [0.6666666666666666, \"#ed7953\"], [0.7777777777777778, \"#fb9f3a\"], [0.8888888888888888, \"#fdca26\"], [1.0, \"#f0f921\"]], \"type\": \"heatmapgl\"}], \"histogram\": [{\"marker\": {\"colorbar\": {\"outlinewidth\": 0, \"ticks\": \"\"}}, \"type\": \"histogram\"}], \"histogram2d\": [{\"colorbar\": {\"outlinewidth\": 0, \"ticks\": \"\"}, \"colorscale\": [[0.0, \"#0d0887\"], [0.1111111111111111, \"#46039f\"], [0.2222222222222222, \"#7201a8\"], [0.3333333333333333, \"#9c179e\"], [0.4444444444444444, \"#bd3786\"], [0.5555555555555556, \"#d8576b\"], [0.6666666666666666, \"#ed7953\"], [0.7777777777777778, \"#fb9f3a\"], [0.8888888888888888, \"#fdca26\"], [1.0, \"#f0f921\"]], \"type\": \"histogram2d\"}], \"histogram2dcontour\": [{\"colorbar\": {\"outlinewidth\": 0, \"ticks\": \"\"}, \"colorscale\": [[0.0, \"#0d0887\"], [0.1111111111111111, \"#46039f\"], [0.2222222222222222, \"#7201a8\"], [0.3333333333333333, \"#9c179e\"], [0.4444444444444444, \"#bd3786\"], [0.5555555555555556, \"#d8576b\"], [0.6666666666666666, \"#ed7953\"], [0.7777777777777778, \"#fb9f3a\"], [0.8888888888888888, \"#fdca26\"], [1.0, \"#f0f921\"]], \"type\": \"histogram2dcontour\"}], \"mesh3d\": [{\"colorbar\": {\"outlinewidth\": 0, \"ticks\": \"\"}, \"type\": \"mesh3d\"}], \"parcoords\": [{\"line\": {\"colorbar\": {\"outlinewidth\": 0, \"ticks\": \"\"}}, \"type\": \"parcoords\"}], \"pie\": [{\"automargin\": true, \"type\": \"pie\"}], \"scatter\": [{\"marker\": {\"colorbar\": {\"outlinewidth\": 0, \"ticks\": \"\"}}, \"type\": \"scatter\"}], \"scatter3d\": [{\"line\": {\"colorbar\": {\"outlinewidth\": 0, \"ticks\": \"\"}}, \"marker\": {\"colorbar\": {\"outlinewidth\": 0, \"ticks\": \"\"}}, \"type\": \"scatter3d\"}], \"scattercarpet\": [{\"marker\": {\"colorbar\": {\"outlinewidth\": 0, \"ticks\": \"\"}}, \"type\": \"scattercarpet\"}], \"scattergeo\": [{\"marker\": {\"colorbar\": {\"outlinewidth\": 0, \"ticks\": \"\"}}, \"type\": \"scattergeo\"}], \"scattergl\": [{\"marker\": {\"colorbar\": {\"outlinewidth\": 0, \"ticks\": \"\"}}, \"type\": \"scattergl\"}], \"scattermapbox\": [{\"marker\": {\"colorbar\": {\"outlinewidth\": 0, \"ticks\": \"\"}}, \"type\": \"scattermapbox\"}], \"scatterpolar\": [{\"marker\": {\"colorbar\": {\"outlinewidth\": 0, \"ticks\": \"\"}}, \"type\": \"scatterpolar\"}], \"scatterpolargl\": [{\"marker\": {\"colorbar\": {\"outlinewidth\": 0, \"ticks\": \"\"}}, \"type\": \"scatterpolargl\"}], \"scatterternary\": [{\"marker\": {\"colorbar\": {\"outlinewidth\": 0, \"ticks\": \"\"}}, \"type\": \"scatterternary\"}], \"surface\": [{\"colorbar\": {\"outlinewidth\": 0, \"ticks\": \"\"}, \"colorscale\": [[0.0, \"#0d0887\"], [0.1111111111111111, \"#46039f\"], [0.2222222222222222, \"#7201a8\"], [0.3333333333333333, \"#9c179e\"], [0.4444444444444444, \"#bd3786\"], [0.5555555555555556, \"#d8576b\"], [0.6666666666666666, \"#ed7953\"], [0.7777777777777778, \"#fb9f3a\"], [0.8888888888888888, \"#fdca26\"], [1.0, \"#f0f921\"]], \"type\": \"surface\"}], \"table\": [{\"cells\": {\"fill\": {\"color\": \"#EBF0F8\"}, \"line\": {\"color\": \"white\"}}, \"header\": {\"fill\": {\"color\": \"#C8D4E3\"}, \"line\": {\"color\": \"white\"}}, \"type\": \"table\"}]}, \"layout\": {\"annotationdefaults\": {\"arrowcolor\": \"#2a3f5f\", \"arrowhead\": 0, \"arrowwidth\": 1}, \"autotypenumbers\": \"strict\", \"coloraxis\": {\"colorbar\": {\"outlinewidth\": 0, \"ticks\": \"\"}}, \"colorscale\": {\"diverging\": [[0, \"#8e0152\"], [0.1, \"#c51b7d\"], [0.2, \"#de77ae\"], [0.3, \"#f1b6da\"], [0.4, \"#fde0ef\"], [0.5, \"#f7f7f7\"], [0.6, \"#e6f5d0\"], [0.7, \"#b8e186\"], [0.8, \"#7fbc41\"], [0.9, \"#4d9221\"], [1, \"#276419\"]], \"sequential\": [[0.0, \"#0d0887\"], [0.1111111111111111, \"#46039f\"], [0.2222222222222222, \"#7201a8\"], [0.3333333333333333, \"#9c179e\"], [0.4444444444444444, \"#bd3786\"], [0.5555555555555556, \"#d8576b\"], [0.6666666666666666, \"#ed7953\"], [0.7777777777777778, \"#fb9f3a\"], [0.8888888888888888, \"#fdca26\"], [1.0, \"#f0f921\"]], \"sequentialminus\": [[0.0, \"#0d0887\"], [0.1111111111111111, \"#46039f\"], [0.2222222222222222, \"#7201a8\"], [0.3333333333333333, \"#9c179e\"], [0.4444444444444444, \"#bd3786\"], [0.5555555555555556, \"#d8576b\"], [0.6666666666666666, \"#ed7953\"], [0.7777777777777778, \"#fb9f3a\"], [0.8888888888888888, \"#fdca26\"], [1.0, \"#f0f921\"]]}, \"colorway\": [\"#636efa\", \"#EF553B\", \"#00cc96\", \"#ab63fa\", \"#FFA15A\", \"#19d3f3\", \"#FF6692\", \"#B6E880\", \"#FF97FF\", \"#FECB52\"], \"font\": {\"color\": \"#2a3f5f\"}, \"geo\": {\"bgcolor\": \"white\", \"lakecolor\": \"white\", \"landcolor\": \"#E5ECF6\", \"showlakes\": true, \"showland\": true, \"subunitcolor\": \"white\"}, \"hoverlabel\": {\"align\": \"left\"}, \"hovermode\": \"closest\", \"mapbox\": {\"style\": \"light\"}, \"paper_bgcolor\": \"white\", \"plot_bgcolor\": \"#E5ECF6\", \"polar\": {\"angularaxis\": {\"gridcolor\": \"white\", \"linecolor\": \"white\", \"ticks\": \"\"}, \"bgcolor\": \"#E5ECF6\", \"radialaxis\": {\"gridcolor\": \"white\", \"linecolor\": \"white\", \"ticks\": \"\"}}, \"scene\": {\"xaxis\": {\"backgroundcolor\": \"#E5ECF6\", \"gridcolor\": \"white\", \"gridwidth\": 2, \"linecolor\": \"white\", \"showbackground\": true, \"ticks\": \"\", \"zerolinecolor\": \"white\"}, \"yaxis\": {\"backgroundcolor\": \"#E5ECF6\", \"gridcolor\": \"white\", \"gridwidth\": 2, \"linecolor\": \"white\", \"showbackground\": true, \"ticks\": \"\", \"zerolinecolor\": \"white\"}, \"zaxis\": {\"backgroundcolor\": \"#E5ECF6\", \"gridcolor\": \"white\", \"gridwidth\": 2, \"linecolor\": \"white\", \"showbackground\": true, \"ticks\": \"\", \"zerolinecolor\": \"white\"}}, \"shapedefaults\": {\"line\": {\"color\": \"#2a3f5f\"}}, \"ternary\": {\"aaxis\": {\"gridcolor\": \"white\", \"linecolor\": \"white\", \"ticks\": \"\"}, \"baxis\": {\"gridcolor\": \"white\", \"linecolor\": \"white\", \"ticks\": \"\"}, \"bgcolor\": \"#E5ECF6\", \"caxis\": {\"gridcolor\": \"white\", \"linecolor\": \"white\", \"ticks\": \"\"}}, \"title\": {\"x\": 0.05}, \"xaxis\": {\"automargin\": true, \"gridcolor\": \"white\", \"linecolor\": \"white\", \"ticks\": \"\", \"title\": {\"standoff\": 15}, \"zerolinecolor\": \"white\", \"zerolinewidth\": 2}, \"yaxis\": {\"automargin\": true, \"gridcolor\": \"white\", \"linecolor\": \"white\", \"ticks\": \"\", \"title\": {\"standoff\": 15}, \"zerolinecolor\": \"white\", \"zerolinewidth\": 2}}}, \"title\": {\"text\": \"NPI por Competitor Name\"}, \"xaxis\": {\"anchor\": \"y\", \"domain\": [0.0, 1.0], \"title\": {\"text\": \"Fecha\"}}, \"yaxis\": {\"anchor\": \"x\", \"domain\": [0.0, 1.0], \"title\": {\"text\": \"NPI\"}}},                        {\"responsive\": true}                    ).then(function(){\n",
       "                            \n",
       "var gd = document.getElementById('1a1b31d4-9c5f-4f60-b7f4-b3a3e19324f7');\n",
       "var x = new MutationObserver(function (mutations, observer) {{\n",
       "        var display = window.getComputedStyle(gd).display;\n",
       "        if (!display || display === 'none') {{\n",
       "            console.log([gd, 'removed!']);\n",
       "            Plotly.purge(gd);\n",
       "            observer.disconnect();\n",
       "        }}\n",
       "}});\n",
       "\n",
       "// Listen for the removal of the full notebook cells\n",
       "var notebookContainer = gd.closest('#notebook-container');\n",
       "if (notebookContainer) {{\n",
       "    x.observe(notebookContainer, {childList: true});\n",
       "}}\n",
       "\n",
       "// Listen for the clearing of the current output cell\n",
       "var outputEl = gd.closest('.output');\n",
       "if (outputEl) {{\n",
       "    x.observe(outputEl, {childList: true});\n",
       "}}\n",
       "\n",
       "                        })                };                });            </script>        </div>"
      ]
     },
     "metadata": {},
     "output_type": "display_data"
    },
    {
     "data": {
      "application/vnd.plotly.v1+json": {
       "config": {
        "plotlyServerURL": "https://plot.ly"
       },
       "data": [
        {
         "alignmentgroup": "True",
         "hovertemplate": "Fecha=%{x}<br>Cantidad=%{y}<extra></extra>",
         "legendgroup": "",
         "marker": {
          "color": "#636efa"
         },
         "name": "",
         "offsetgroup": "",
         "orientation": "v",
         "showlegend": false,
         "textposition": "auto",
         "type": "bar",
         "x": [
          "2024-05-01T00:00:00",
          "2024-05-01T00:00:00",
          "2024-05-01T00:00:00",
          "2024-05-01T00:00:00",
          "2024-05-01T00:00:00",
          "2024-05-02T00:00:00",
          "2024-05-02T00:00:00",
          "2024-05-02T00:00:00",
          "2024-05-02T00:00:00",
          "2024-05-02T00:00:00",
          "2024-05-03T00:00:00",
          "2024-05-03T00:00:00",
          "2024-05-03T00:00:00",
          "2024-05-03T00:00:00",
          "2024-05-03T00:00:00",
          "2024-05-04T00:00:00",
          "2024-05-04T00:00:00",
          "2024-05-04T00:00:00",
          "2024-05-04T00:00:00",
          "2024-05-04T00:00:00",
          "2024-05-05T00:00:00",
          "2024-05-05T00:00:00",
          "2024-05-05T00:00:00",
          "2024-05-05T00:00:00",
          "2024-05-05T00:00:00",
          "2024-05-13T00:00:00",
          "2024-05-13T00:00:00",
          "2024-05-13T00:00:00",
          "2024-05-13T00:00:00",
          "2024-05-13T00:00:00",
          "2024-05-13T00:00:00",
          "2024-05-13T00:00:00",
          "2024-05-15T00:00:00",
          "2024-05-15T00:00:00",
          "2024-05-15T00:00:00",
          "2024-05-15T00:00:00",
          "2024-05-15T00:00:00",
          "2024-05-15T00:00:00",
          "2024-05-15T00:00:00",
          "2024-05-25T00:00:00",
          "2024-05-25T00:00:00",
          "2024-05-25T00:00:00",
          "2024-05-25T00:00:00",
          "2024-05-25T00:00:00",
          "2024-05-25T00:00:00",
          "2024-05-25T00:00:00",
          "2024-05-26T00:00:00",
          "2024-05-26T00:00:00",
          "2024-05-26T00:00:00",
          "2024-05-26T00:00:00",
          "2024-05-26T00:00:00",
          "2024-05-26T00:00:00",
          "2024-05-26T00:00:00",
          "2024-05-27T00:00:00",
          "2024-05-27T00:00:00",
          "2024-05-27T00:00:00",
          "2024-05-27T00:00:00",
          "2024-05-27T00:00:00",
          "2024-05-27T00:00:00",
          "2024-05-27T00:00:00",
          "2024-05-28T00:00:00",
          "2024-05-28T00:00:00",
          "2024-05-28T00:00:00",
          "2024-05-28T00:00:00",
          "2024-05-28T00:00:00",
          "2024-05-28T00:00:00",
          "2024-05-28T00:00:00",
          "2024-05-29T00:00:00",
          "2024-05-29T00:00:00",
          "2024-05-29T00:00:00",
          "2024-05-29T00:00:00",
          "2024-05-29T00:00:00",
          "2024-05-29T00:00:00",
          "2024-05-29T00:00:00",
          "2024-05-30T00:00:00",
          "2024-05-30T00:00:00",
          "2024-05-30T00:00:00",
          "2024-05-30T00:00:00",
          "2024-05-30T00:00:00",
          "2024-05-30T00:00:00",
          "2024-05-30T00:00:00",
          "2024-05-31T00:00:00",
          "2024-05-31T00:00:00",
          "2024-05-31T00:00:00",
          "2024-05-31T00:00:00",
          "2024-05-31T00:00:00",
          "2024-05-31T00:00:00",
          "2024-05-31T00:00:00",
          "2024-06-01T00:00:00",
          "2024-06-01T00:00:00",
          "2024-06-01T00:00:00",
          "2024-06-01T00:00:00",
          "2024-06-01T00:00:00",
          "2024-06-01T00:00:00",
          "2024-06-01T00:00:00",
          "2024-06-02T00:00:00",
          "2024-06-02T00:00:00",
          "2024-06-02T00:00:00",
          "2024-06-02T00:00:00",
          "2024-06-02T00:00:00",
          "2024-06-02T00:00:00",
          "2024-06-02T00:00:00",
          "2024-06-03T00:00:00",
          "2024-06-03T00:00:00",
          "2024-06-03T00:00:00",
          "2024-06-03T00:00:00",
          "2024-06-03T00:00:00",
          "2024-06-03T00:00:00",
          "2024-06-03T00:00:00",
          "2024-06-04T00:00:00",
          "2024-06-04T00:00:00",
          "2024-06-04T00:00:00",
          "2024-06-04T00:00:00",
          "2024-06-04T00:00:00",
          "2024-06-04T00:00:00",
          "2024-06-04T00:00:00",
          "2024-06-05T00:00:00",
          "2024-06-05T00:00:00",
          "2024-06-05T00:00:00",
          "2024-06-05T00:00:00",
          "2024-06-05T00:00:00",
          "2024-06-05T00:00:00",
          "2024-06-05T00:00:00",
          "2024-07-12T00:00:00",
          "2024-07-12T00:00:00",
          "2024-07-12T00:00:00",
          "2024-07-12T00:00:00",
          "2024-07-12T00:00:00",
          "2024-07-12T00:00:00",
          "2024-07-12T00:00:00",
          "2024-07-13T00:00:00",
          "2024-07-13T00:00:00",
          "2024-07-13T00:00:00",
          "2024-07-13T00:00:00",
          "2024-07-13T00:00:00",
          "2024-07-13T00:00:00",
          "2024-07-13T00:00:00",
          "2024-07-14T00:00:00",
          "2024-07-14T00:00:00",
          "2024-07-14T00:00:00",
          "2024-07-14T00:00:00",
          "2024-07-14T00:00:00",
          "2024-07-14T00:00:00",
          "2024-07-14T00:00:00",
          "2024-07-15T00:00:00",
          "2024-07-15T00:00:00",
          "2024-07-15T00:00:00",
          "2024-07-15T00:00:00",
          "2024-07-15T00:00:00",
          "2024-07-15T00:00:00",
          "2024-07-15T00:00:00",
          "2024-07-16T00:00:00",
          "2024-07-16T00:00:00",
          "2024-07-16T00:00:00",
          "2024-07-16T00:00:00",
          "2024-07-16T00:00:00",
          "2024-07-16T00:00:00",
          "2024-07-16T00:00:00",
          "2024-07-17T00:00:00",
          "2024-07-17T00:00:00",
          "2024-07-17T00:00:00",
          "2024-07-17T00:00:00",
          "2024-07-17T00:00:00",
          "2024-07-17T00:00:00",
          "2024-07-17T00:00:00",
          "2024-07-18T00:00:00",
          "2024-07-18T00:00:00",
          "2024-07-18T00:00:00",
          "2024-07-18T00:00:00",
          "2024-07-18T00:00:00",
          "2024-07-18T00:00:00",
          "2024-07-18T00:00:00",
          "2024-07-19T00:00:00",
          "2024-07-19T00:00:00",
          "2024-07-19T00:00:00",
          "2024-07-19T00:00:00",
          "2024-07-19T00:00:00",
          "2024-07-19T00:00:00",
          "2024-07-19T00:00:00",
          "2024-07-20T00:00:00",
          "2024-07-20T00:00:00",
          "2024-07-20T00:00:00",
          "2024-07-20T00:00:00",
          "2024-07-20T00:00:00",
          "2024-07-20T00:00:00",
          "2024-07-20T00:00:00",
          "2024-07-21T00:00:00",
          "2024-07-21T00:00:00",
          "2024-07-21T00:00:00",
          "2024-07-21T00:00:00",
          "2024-07-21T00:00:00",
          "2024-07-21T00:00:00",
          "2024-07-21T00:00:00",
          "2024-07-22T00:00:00",
          "2024-07-22T00:00:00",
          "2024-07-22T00:00:00",
          "2024-07-22T00:00:00",
          "2024-07-22T00:00:00",
          "2024-07-22T00:00:00",
          "2024-07-22T00:00:00",
          "2024-07-23T00:00:00",
          "2024-07-23T00:00:00",
          "2024-07-23T00:00:00",
          "2024-07-23T00:00:00",
          "2024-07-23T00:00:00",
          "2024-07-23T00:00:00",
          "2024-07-23T00:00:00",
          "2024-07-24T00:00:00",
          "2024-07-24T00:00:00",
          "2024-07-24T00:00:00",
          "2024-07-24T00:00:00",
          "2024-07-24T00:00:00",
          "2024-07-24T00:00:00",
          "2024-07-24T00:00:00",
          "2024-07-25T00:00:00",
          "2024-07-25T00:00:00",
          "2024-07-25T00:00:00",
          "2024-07-25T00:00:00",
          "2024-07-25T00:00:00",
          "2024-07-25T00:00:00",
          "2024-07-25T00:00:00",
          "2024-07-26T00:00:00",
          "2024-07-26T00:00:00",
          "2024-07-26T00:00:00",
          "2024-07-26T00:00:00",
          "2024-07-26T00:00:00",
          "2024-07-26T00:00:00",
          "2024-07-26T00:00:00",
          "2024-07-27T00:00:00",
          "2024-07-27T00:00:00",
          "2024-07-27T00:00:00",
          "2024-07-27T00:00:00",
          "2024-07-27T00:00:00",
          "2024-07-27T00:00:00",
          "2024-07-27T00:00:00",
          "2024-07-28T00:00:00",
          "2024-07-28T00:00:00",
          "2024-07-28T00:00:00",
          "2024-07-28T00:00:00",
          "2024-07-28T00:00:00",
          "2024-07-28T00:00:00",
          "2024-07-28T00:00:00",
          "2024-07-29T00:00:00",
          "2024-07-29T00:00:00",
          "2024-07-29T00:00:00",
          "2024-07-29T00:00:00",
          "2024-07-29T00:00:00",
          "2024-07-29T00:00:00",
          "2024-07-29T00:00:00",
          "2024-07-30T00:00:00",
          "2024-07-30T00:00:00",
          "2024-07-30T00:00:00",
          "2024-07-30T00:00:00",
          "2024-07-30T00:00:00",
          "2024-07-30T00:00:00",
          "2024-07-30T00:00:00",
          "2024-07-31T00:00:00",
          "2024-07-31T00:00:00",
          "2024-07-31T00:00:00",
          "2024-07-31T00:00:00",
          "2024-07-31T00:00:00",
          "2024-07-31T00:00:00",
          "2024-07-31T00:00:00",
          "2024-08-01T00:00:00",
          "2024-08-01T00:00:00",
          "2024-08-01T00:00:00",
          "2024-08-01T00:00:00",
          "2024-08-01T00:00:00",
          "2024-08-01T00:00:00",
          "2024-08-01T00:00:00",
          "2024-08-02T00:00:00",
          "2024-08-02T00:00:00",
          "2024-08-02T00:00:00",
          "2024-08-02T00:00:00",
          "2024-08-02T00:00:00",
          "2024-08-02T00:00:00",
          "2024-08-02T00:00:00",
          "2024-08-03T00:00:00",
          "2024-08-03T00:00:00",
          "2024-08-03T00:00:00",
          "2024-08-03T00:00:00",
          "2024-08-03T00:00:00",
          "2024-08-03T00:00:00",
          "2024-08-03T00:00:00",
          "2024-08-04T00:00:00",
          "2024-08-04T00:00:00",
          "2024-08-04T00:00:00",
          "2024-08-04T00:00:00",
          "2024-08-04T00:00:00",
          "2024-08-04T00:00:00",
          "2024-08-04T00:00:00",
          "2024-08-05T00:00:00",
          "2024-08-05T00:00:00",
          "2024-08-05T00:00:00",
          "2024-08-05T00:00:00",
          "2024-08-05T00:00:00",
          "2024-08-05T00:00:00",
          "2024-08-05T00:00:00",
          "2024-08-06T00:00:00",
          "2024-08-06T00:00:00",
          "2024-08-06T00:00:00",
          "2024-08-06T00:00:00",
          "2024-08-06T00:00:00",
          "2024-08-06T00:00:00",
          "2024-08-06T00:00:00",
          "2024-08-07T00:00:00",
          "2024-08-07T00:00:00",
          "2024-08-07T00:00:00",
          "2024-08-07T00:00:00",
          "2024-08-07T00:00:00",
          "2024-08-07T00:00:00",
          "2024-08-07T00:00:00",
          "2024-08-08T00:00:00",
          "2024-08-08T00:00:00",
          "2024-08-08T00:00:00",
          "2024-08-08T00:00:00",
          "2024-08-08T00:00:00",
          "2024-08-08T00:00:00",
          "2024-08-08T00:00:00",
          "2024-08-09T00:00:00",
          "2024-08-09T00:00:00",
          "2024-08-09T00:00:00",
          "2024-08-09T00:00:00",
          "2024-08-09T00:00:00",
          "2024-08-09T00:00:00",
          "2024-08-09T00:00:00",
          "2024-08-10T00:00:00",
          "2024-08-10T00:00:00",
          "2024-08-10T00:00:00",
          "2024-08-10T00:00:00",
          "2024-08-10T00:00:00",
          "2024-08-10T00:00:00",
          "2024-08-10T00:00:00",
          "2024-08-11T00:00:00",
          "2024-08-11T00:00:00",
          "2024-08-11T00:00:00",
          "2024-08-11T00:00:00",
          "2024-08-11T00:00:00",
          "2024-08-11T00:00:00",
          "2024-08-11T00:00:00",
          "2024-08-12T00:00:00",
          "2024-08-12T00:00:00",
          "2024-08-12T00:00:00",
          "2024-08-12T00:00:00",
          "2024-08-12T00:00:00",
          "2024-08-12T00:00:00",
          "2024-08-12T00:00:00",
          "2024-08-13T00:00:00",
          "2024-08-13T00:00:00",
          "2024-08-13T00:00:00",
          "2024-08-13T00:00:00",
          "2024-08-13T00:00:00",
          "2024-08-13T00:00:00",
          "2024-08-13T00:00:00",
          "2024-08-14T00:00:00",
          "2024-08-14T00:00:00",
          "2024-08-14T00:00:00",
          "2024-08-14T00:00:00",
          "2024-08-14T00:00:00",
          "2024-08-14T00:00:00",
          "2024-08-14T00:00:00",
          "2024-08-15T00:00:00",
          "2024-08-15T00:00:00",
          "2024-08-15T00:00:00",
          "2024-08-15T00:00:00",
          "2024-08-15T00:00:00",
          "2024-08-15T00:00:00",
          "2024-08-15T00:00:00",
          "2024-08-16T00:00:00",
          "2024-08-16T00:00:00",
          "2024-08-16T00:00:00",
          "2024-08-16T00:00:00",
          "2024-08-16T00:00:00",
          "2024-08-16T00:00:00",
          "2024-08-16T00:00:00",
          "2024-08-17T00:00:00",
          "2024-08-17T00:00:00",
          "2024-08-17T00:00:00",
          "2024-08-17T00:00:00",
          "2024-08-17T00:00:00",
          "2024-08-17T00:00:00",
          "2024-08-17T00:00:00",
          "2024-08-18T00:00:00",
          "2024-08-18T00:00:00",
          "2024-08-18T00:00:00",
          "2024-08-18T00:00:00",
          "2024-08-18T00:00:00",
          "2024-08-18T00:00:00",
          "2024-08-18T00:00:00",
          "2024-08-19T00:00:00",
          "2024-08-19T00:00:00",
          "2024-08-19T00:00:00",
          "2024-08-19T00:00:00",
          "2024-08-19T00:00:00",
          "2024-08-19T00:00:00",
          "2024-08-19T00:00:00",
          "2024-08-20T00:00:00",
          "2024-08-20T00:00:00",
          "2024-08-20T00:00:00",
          "2024-08-20T00:00:00",
          "2024-08-20T00:00:00",
          "2024-08-20T00:00:00",
          "2024-08-20T00:00:00",
          "2024-08-21T00:00:00",
          "2024-08-21T00:00:00",
          "2024-08-21T00:00:00",
          "2024-08-21T00:00:00",
          "2024-08-21T00:00:00",
          "2024-08-21T00:00:00",
          "2024-08-21T00:00:00",
          "2024-08-22T00:00:00",
          "2024-08-22T00:00:00",
          "2024-08-22T00:00:00",
          "2024-08-22T00:00:00",
          "2024-08-22T00:00:00",
          "2024-08-22T00:00:00",
          "2024-08-22T00:00:00",
          "2024-08-23T00:00:00",
          "2024-08-23T00:00:00",
          "2024-08-23T00:00:00",
          "2024-08-23T00:00:00",
          "2024-08-23T00:00:00",
          "2024-08-23T00:00:00",
          "2024-08-23T00:00:00",
          "2024-08-24T00:00:00",
          "2024-08-24T00:00:00",
          "2024-08-24T00:00:00",
          "2024-08-24T00:00:00",
          "2024-08-24T00:00:00",
          "2024-08-24T00:00:00",
          "2024-08-24T00:00:00",
          "2024-08-25T00:00:00",
          "2024-08-25T00:00:00",
          "2024-08-25T00:00:00",
          "2024-08-25T00:00:00",
          "2024-08-25T00:00:00",
          "2024-08-25T00:00:00",
          "2024-08-25T00:00:00",
          "2024-08-26T00:00:00",
          "2024-08-26T00:00:00",
          "2024-08-26T00:00:00",
          "2024-08-26T00:00:00",
          "2024-08-27T00:00:00",
          "2024-08-27T00:00:00",
          "2024-08-27T00:00:00",
          "2024-08-27T00:00:00",
          "2024-08-28T00:00:00",
          "2024-08-28T00:00:00",
          "2024-08-28T00:00:00",
          "2024-08-28T00:00:00",
          "2024-08-29T00:00:00",
          "2024-08-29T00:00:00",
          "2024-08-29T00:00:00",
          "2024-08-29T00:00:00"
         ],
         "xaxis": "x",
         "y": [
          612,
          612,
          612,
          612,
          612,
          2496,
          2496,
          2496,
          2496,
          2496,
          432,
          432,
          432,
          432,
          432,
          48,
          48,
          48,
          48,
          48,
          24,
          24,
          24,
          24,
          24,
          996,
          996,
          996,
          996,
          996,
          996,
          996,
          12,
          12,
          12,
          12,
          12,
          12,
          12,
          228,
          228,
          228,
          228,
          228,
          228,
          228,
          708,
          708,
          708,
          708,
          708,
          708,
          708,
          1800,
          1800,
          1800,
          1800,
          1800,
          1800,
          1800,
          1176,
          1176,
          1176,
          1176,
          1176,
          1176,
          1176,
          852,
          852,
          852,
          852,
          852,
          852,
          852,
          480,
          480,
          480,
          480,
          480,
          480,
          480,
          1104,
          1104,
          1104,
          1104,
          1104,
          1104,
          1104,
          420,
          420,
          420,
          420,
          420,
          420,
          420,
          372,
          372,
          372,
          372,
          372,
          372,
          372,
          347,
          347,
          347,
          347,
          347,
          347,
          347,
          24,
          24,
          24,
          24,
          24,
          24,
          24,
          84,
          84,
          84,
          84,
          84,
          84,
          84,
          1224,
          1224,
          1224,
          1224,
          1224,
          1224,
          1224,
          924,
          924,
          924,
          924,
          924,
          924,
          924,
          420,
          420,
          420,
          420,
          420,
          420,
          420,
          2220,
          2220,
          2220,
          2220,
          2220,
          2220,
          2220,
          1596,
          1596,
          1596,
          1596,
          1596,
          1596,
          1596,
          1500,
          1500,
          1500,
          1500,
          1500,
          1500,
          1500,
          1884,
          1884,
          1884,
          1884,
          1884,
          1884,
          1884,
          1032,
          1032,
          1032,
          1032,
          1032,
          1032,
          1032,
          432,
          432,
          432,
          432,
          432,
          432,
          432,
          228,
          228,
          228,
          228,
          228,
          228,
          228,
          1536,
          1536,
          1536,
          1536,
          1536,
          1536,
          1536,
          1932,
          1932,
          1932,
          1932,
          1932,
          1932,
          1932,
          2172,
          2172,
          2172,
          2172,
          2172,
          2172,
          2172,
          1872,
          1872,
          1872,
          1872,
          1872,
          1872,
          1872,
          1968,
          1968,
          1968,
          1968,
          1968,
          1968,
          1968,
          276,
          276,
          276,
          276,
          276,
          276,
          276,
          732,
          732,
          732,
          732,
          732,
          732,
          732,
          3000,
          3000,
          3000,
          3000,
          3000,
          3000,
          3000,
          1596,
          1596,
          1596,
          1596,
          1596,
          1596,
          1596,
          1404,
          1404,
          1404,
          1404,
          1404,
          1404,
          1404,
          2052,
          2052,
          2052,
          2052,
          2052,
          2052,
          2052,
          1416,
          1416,
          1416,
          1416,
          1416,
          1416,
          1416,
          612,
          612,
          612,
          612,
          612,
          612,
          612,
          768,
          768,
          768,
          768,
          768,
          768,
          768,
          3264,
          3264,
          3264,
          3264,
          3264,
          3264,
          3264,
          1860,
          1860,
          1860,
          1860,
          1860,
          1860,
          1860,
          2052,
          2052,
          2052,
          2052,
          2052,
          2052,
          2052,
          2472,
          2472,
          2472,
          2472,
          2472,
          2472,
          2472,
          1824,
          1824,
          1824,
          1824,
          1824,
          1824,
          1824,
          480,
          480,
          480,
          480,
          480,
          480,
          480,
          564,
          564,
          564,
          564,
          564,
          564,
          564,
          1920,
          1920,
          1920,
          1920,
          1920,
          1920,
          1920,
          1284,
          1284,
          1284,
          1284,
          1284,
          1284,
          1284,
          1368,
          1368,
          1368,
          1368,
          1368,
          1368,
          1368,
          2028,
          2028,
          2028,
          2028,
          2028,
          2028,
          2028,
          1320,
          1320,
          1320,
          1320,
          1320,
          1320,
          1320,
          564,
          564,
          564,
          564,
          564,
          564,
          564,
          660,
          660,
          660,
          660,
          660,
          660,
          660,
          2412,
          2412,
          2412,
          2412,
          2412,
          2412,
          2412,
          2592,
          2592,
          2592,
          2592,
          2592,
          2592,
          2592,
          1812,
          1812,
          1812,
          1812,
          1812,
          1812,
          1812,
          2976,
          2976,
          2976,
          2976,
          2976,
          2976,
          2976,
          1032,
          1032,
          1032,
          1032,
          1032,
          1032,
          1032,
          324,
          324,
          324,
          324,
          324,
          324,
          324,
          480,
          480,
          480,
          480,
          480,
          480,
          480,
          1236,
          1236,
          1236,
          1236,
          1572,
          1572,
          1572,
          1572,
          1716,
          1716,
          1716,
          1716,
          456,
          456,
          456,
          456
         ],
         "yaxis": "y"
        },
        {
         "mode": "lines+markers",
         "name": "Clientes",
         "type": "scatter",
         "x": [
          "2024-05-01T00:00:00",
          "2024-05-01T00:00:00",
          "2024-05-01T00:00:00",
          "2024-05-01T00:00:00",
          "2024-05-01T00:00:00",
          "2024-05-02T00:00:00",
          "2024-05-02T00:00:00",
          "2024-05-02T00:00:00",
          "2024-05-02T00:00:00",
          "2024-05-02T00:00:00",
          "2024-05-03T00:00:00",
          "2024-05-03T00:00:00",
          "2024-05-03T00:00:00",
          "2024-05-03T00:00:00",
          "2024-05-03T00:00:00",
          "2024-05-04T00:00:00",
          "2024-05-04T00:00:00",
          "2024-05-04T00:00:00",
          "2024-05-04T00:00:00",
          "2024-05-04T00:00:00",
          "2024-05-05T00:00:00",
          "2024-05-05T00:00:00",
          "2024-05-05T00:00:00",
          "2024-05-05T00:00:00",
          "2024-05-05T00:00:00",
          "2024-05-13T00:00:00",
          "2024-05-13T00:00:00",
          "2024-05-13T00:00:00",
          "2024-05-13T00:00:00",
          "2024-05-13T00:00:00",
          "2024-05-13T00:00:00",
          "2024-05-13T00:00:00",
          "2024-05-15T00:00:00",
          "2024-05-15T00:00:00",
          "2024-05-15T00:00:00",
          "2024-05-15T00:00:00",
          "2024-05-15T00:00:00",
          "2024-05-15T00:00:00",
          "2024-05-15T00:00:00",
          "2024-05-25T00:00:00",
          "2024-05-25T00:00:00",
          "2024-05-25T00:00:00",
          "2024-05-25T00:00:00",
          "2024-05-25T00:00:00",
          "2024-05-25T00:00:00",
          "2024-05-25T00:00:00",
          "2024-05-26T00:00:00",
          "2024-05-26T00:00:00",
          "2024-05-26T00:00:00",
          "2024-05-26T00:00:00",
          "2024-05-26T00:00:00",
          "2024-05-26T00:00:00",
          "2024-05-26T00:00:00",
          "2024-05-27T00:00:00",
          "2024-05-27T00:00:00",
          "2024-05-27T00:00:00",
          "2024-05-27T00:00:00",
          "2024-05-27T00:00:00",
          "2024-05-27T00:00:00",
          "2024-05-27T00:00:00",
          "2024-05-28T00:00:00",
          "2024-05-28T00:00:00",
          "2024-05-28T00:00:00",
          "2024-05-28T00:00:00",
          "2024-05-28T00:00:00",
          "2024-05-28T00:00:00",
          "2024-05-28T00:00:00",
          "2024-05-29T00:00:00",
          "2024-05-29T00:00:00",
          "2024-05-29T00:00:00",
          "2024-05-29T00:00:00",
          "2024-05-29T00:00:00",
          "2024-05-29T00:00:00",
          "2024-05-29T00:00:00",
          "2024-05-30T00:00:00",
          "2024-05-30T00:00:00",
          "2024-05-30T00:00:00",
          "2024-05-30T00:00:00",
          "2024-05-30T00:00:00",
          "2024-05-30T00:00:00",
          "2024-05-30T00:00:00",
          "2024-05-31T00:00:00",
          "2024-05-31T00:00:00",
          "2024-05-31T00:00:00",
          "2024-05-31T00:00:00",
          "2024-05-31T00:00:00",
          "2024-05-31T00:00:00",
          "2024-05-31T00:00:00",
          "2024-06-01T00:00:00",
          "2024-06-01T00:00:00",
          "2024-06-01T00:00:00",
          "2024-06-01T00:00:00",
          "2024-06-01T00:00:00",
          "2024-06-01T00:00:00",
          "2024-06-01T00:00:00",
          "2024-06-02T00:00:00",
          "2024-06-02T00:00:00",
          "2024-06-02T00:00:00",
          "2024-06-02T00:00:00",
          "2024-06-02T00:00:00",
          "2024-06-02T00:00:00",
          "2024-06-02T00:00:00",
          "2024-06-03T00:00:00",
          "2024-06-03T00:00:00",
          "2024-06-03T00:00:00",
          "2024-06-03T00:00:00",
          "2024-06-03T00:00:00",
          "2024-06-03T00:00:00",
          "2024-06-03T00:00:00",
          "2024-06-04T00:00:00",
          "2024-06-04T00:00:00",
          "2024-06-04T00:00:00",
          "2024-06-04T00:00:00",
          "2024-06-04T00:00:00",
          "2024-06-04T00:00:00",
          "2024-06-04T00:00:00",
          "2024-06-05T00:00:00",
          "2024-06-05T00:00:00",
          "2024-06-05T00:00:00",
          "2024-06-05T00:00:00",
          "2024-06-05T00:00:00",
          "2024-06-05T00:00:00",
          "2024-06-05T00:00:00",
          "2024-07-12T00:00:00",
          "2024-07-12T00:00:00",
          "2024-07-12T00:00:00",
          "2024-07-12T00:00:00",
          "2024-07-12T00:00:00",
          "2024-07-12T00:00:00",
          "2024-07-12T00:00:00",
          "2024-07-13T00:00:00",
          "2024-07-13T00:00:00",
          "2024-07-13T00:00:00",
          "2024-07-13T00:00:00",
          "2024-07-13T00:00:00",
          "2024-07-13T00:00:00",
          "2024-07-13T00:00:00",
          "2024-07-14T00:00:00",
          "2024-07-14T00:00:00",
          "2024-07-14T00:00:00",
          "2024-07-14T00:00:00",
          "2024-07-14T00:00:00",
          "2024-07-14T00:00:00",
          "2024-07-14T00:00:00",
          "2024-07-15T00:00:00",
          "2024-07-15T00:00:00",
          "2024-07-15T00:00:00",
          "2024-07-15T00:00:00",
          "2024-07-15T00:00:00",
          "2024-07-15T00:00:00",
          "2024-07-15T00:00:00",
          "2024-07-16T00:00:00",
          "2024-07-16T00:00:00",
          "2024-07-16T00:00:00",
          "2024-07-16T00:00:00",
          "2024-07-16T00:00:00",
          "2024-07-16T00:00:00",
          "2024-07-16T00:00:00",
          "2024-07-17T00:00:00",
          "2024-07-17T00:00:00",
          "2024-07-17T00:00:00",
          "2024-07-17T00:00:00",
          "2024-07-17T00:00:00",
          "2024-07-17T00:00:00",
          "2024-07-17T00:00:00",
          "2024-07-18T00:00:00",
          "2024-07-18T00:00:00",
          "2024-07-18T00:00:00",
          "2024-07-18T00:00:00",
          "2024-07-18T00:00:00",
          "2024-07-18T00:00:00",
          "2024-07-18T00:00:00",
          "2024-07-19T00:00:00",
          "2024-07-19T00:00:00",
          "2024-07-19T00:00:00",
          "2024-07-19T00:00:00",
          "2024-07-19T00:00:00",
          "2024-07-19T00:00:00",
          "2024-07-19T00:00:00",
          "2024-07-20T00:00:00",
          "2024-07-20T00:00:00",
          "2024-07-20T00:00:00",
          "2024-07-20T00:00:00",
          "2024-07-20T00:00:00",
          "2024-07-20T00:00:00",
          "2024-07-20T00:00:00",
          "2024-07-21T00:00:00",
          "2024-07-21T00:00:00",
          "2024-07-21T00:00:00",
          "2024-07-21T00:00:00",
          "2024-07-21T00:00:00",
          "2024-07-21T00:00:00",
          "2024-07-21T00:00:00",
          "2024-07-22T00:00:00",
          "2024-07-22T00:00:00",
          "2024-07-22T00:00:00",
          "2024-07-22T00:00:00",
          "2024-07-22T00:00:00",
          "2024-07-22T00:00:00",
          "2024-07-22T00:00:00",
          "2024-07-23T00:00:00",
          "2024-07-23T00:00:00",
          "2024-07-23T00:00:00",
          "2024-07-23T00:00:00",
          "2024-07-23T00:00:00",
          "2024-07-23T00:00:00",
          "2024-07-23T00:00:00",
          "2024-07-24T00:00:00",
          "2024-07-24T00:00:00",
          "2024-07-24T00:00:00",
          "2024-07-24T00:00:00",
          "2024-07-24T00:00:00",
          "2024-07-24T00:00:00",
          "2024-07-24T00:00:00",
          "2024-07-25T00:00:00",
          "2024-07-25T00:00:00",
          "2024-07-25T00:00:00",
          "2024-07-25T00:00:00",
          "2024-07-25T00:00:00",
          "2024-07-25T00:00:00",
          "2024-07-25T00:00:00",
          "2024-07-26T00:00:00",
          "2024-07-26T00:00:00",
          "2024-07-26T00:00:00",
          "2024-07-26T00:00:00",
          "2024-07-26T00:00:00",
          "2024-07-26T00:00:00",
          "2024-07-26T00:00:00",
          "2024-07-27T00:00:00",
          "2024-07-27T00:00:00",
          "2024-07-27T00:00:00",
          "2024-07-27T00:00:00",
          "2024-07-27T00:00:00",
          "2024-07-27T00:00:00",
          "2024-07-27T00:00:00",
          "2024-07-28T00:00:00",
          "2024-07-28T00:00:00",
          "2024-07-28T00:00:00",
          "2024-07-28T00:00:00",
          "2024-07-28T00:00:00",
          "2024-07-28T00:00:00",
          "2024-07-28T00:00:00",
          "2024-07-29T00:00:00",
          "2024-07-29T00:00:00",
          "2024-07-29T00:00:00",
          "2024-07-29T00:00:00",
          "2024-07-29T00:00:00",
          "2024-07-29T00:00:00",
          "2024-07-29T00:00:00",
          "2024-07-30T00:00:00",
          "2024-07-30T00:00:00",
          "2024-07-30T00:00:00",
          "2024-07-30T00:00:00",
          "2024-07-30T00:00:00",
          "2024-07-30T00:00:00",
          "2024-07-30T00:00:00",
          "2024-07-31T00:00:00",
          "2024-07-31T00:00:00",
          "2024-07-31T00:00:00",
          "2024-07-31T00:00:00",
          "2024-07-31T00:00:00",
          "2024-07-31T00:00:00",
          "2024-07-31T00:00:00",
          "2024-08-01T00:00:00",
          "2024-08-01T00:00:00",
          "2024-08-01T00:00:00",
          "2024-08-01T00:00:00",
          "2024-08-01T00:00:00",
          "2024-08-01T00:00:00",
          "2024-08-01T00:00:00",
          "2024-08-02T00:00:00",
          "2024-08-02T00:00:00",
          "2024-08-02T00:00:00",
          "2024-08-02T00:00:00",
          "2024-08-02T00:00:00",
          "2024-08-02T00:00:00",
          "2024-08-02T00:00:00",
          "2024-08-03T00:00:00",
          "2024-08-03T00:00:00",
          "2024-08-03T00:00:00",
          "2024-08-03T00:00:00",
          "2024-08-03T00:00:00",
          "2024-08-03T00:00:00",
          "2024-08-03T00:00:00",
          "2024-08-04T00:00:00",
          "2024-08-04T00:00:00",
          "2024-08-04T00:00:00",
          "2024-08-04T00:00:00",
          "2024-08-04T00:00:00",
          "2024-08-04T00:00:00",
          "2024-08-04T00:00:00",
          "2024-08-05T00:00:00",
          "2024-08-05T00:00:00",
          "2024-08-05T00:00:00",
          "2024-08-05T00:00:00",
          "2024-08-05T00:00:00",
          "2024-08-05T00:00:00",
          "2024-08-05T00:00:00",
          "2024-08-06T00:00:00",
          "2024-08-06T00:00:00",
          "2024-08-06T00:00:00",
          "2024-08-06T00:00:00",
          "2024-08-06T00:00:00",
          "2024-08-06T00:00:00",
          "2024-08-06T00:00:00",
          "2024-08-07T00:00:00",
          "2024-08-07T00:00:00",
          "2024-08-07T00:00:00",
          "2024-08-07T00:00:00",
          "2024-08-07T00:00:00",
          "2024-08-07T00:00:00",
          "2024-08-07T00:00:00",
          "2024-08-08T00:00:00",
          "2024-08-08T00:00:00",
          "2024-08-08T00:00:00",
          "2024-08-08T00:00:00",
          "2024-08-08T00:00:00",
          "2024-08-08T00:00:00",
          "2024-08-08T00:00:00",
          "2024-08-09T00:00:00",
          "2024-08-09T00:00:00",
          "2024-08-09T00:00:00",
          "2024-08-09T00:00:00",
          "2024-08-09T00:00:00",
          "2024-08-09T00:00:00",
          "2024-08-09T00:00:00",
          "2024-08-10T00:00:00",
          "2024-08-10T00:00:00",
          "2024-08-10T00:00:00",
          "2024-08-10T00:00:00",
          "2024-08-10T00:00:00",
          "2024-08-10T00:00:00",
          "2024-08-10T00:00:00",
          "2024-08-11T00:00:00",
          "2024-08-11T00:00:00",
          "2024-08-11T00:00:00",
          "2024-08-11T00:00:00",
          "2024-08-11T00:00:00",
          "2024-08-11T00:00:00",
          "2024-08-11T00:00:00",
          "2024-08-12T00:00:00",
          "2024-08-12T00:00:00",
          "2024-08-12T00:00:00",
          "2024-08-12T00:00:00",
          "2024-08-12T00:00:00",
          "2024-08-12T00:00:00",
          "2024-08-12T00:00:00",
          "2024-08-13T00:00:00",
          "2024-08-13T00:00:00",
          "2024-08-13T00:00:00",
          "2024-08-13T00:00:00",
          "2024-08-13T00:00:00",
          "2024-08-13T00:00:00",
          "2024-08-13T00:00:00",
          "2024-08-14T00:00:00",
          "2024-08-14T00:00:00",
          "2024-08-14T00:00:00",
          "2024-08-14T00:00:00",
          "2024-08-14T00:00:00",
          "2024-08-14T00:00:00",
          "2024-08-14T00:00:00",
          "2024-08-15T00:00:00",
          "2024-08-15T00:00:00",
          "2024-08-15T00:00:00",
          "2024-08-15T00:00:00",
          "2024-08-15T00:00:00",
          "2024-08-15T00:00:00",
          "2024-08-15T00:00:00",
          "2024-08-16T00:00:00",
          "2024-08-16T00:00:00",
          "2024-08-16T00:00:00",
          "2024-08-16T00:00:00",
          "2024-08-16T00:00:00",
          "2024-08-16T00:00:00",
          "2024-08-16T00:00:00",
          "2024-08-17T00:00:00",
          "2024-08-17T00:00:00",
          "2024-08-17T00:00:00",
          "2024-08-17T00:00:00",
          "2024-08-17T00:00:00",
          "2024-08-17T00:00:00",
          "2024-08-17T00:00:00",
          "2024-08-18T00:00:00",
          "2024-08-18T00:00:00",
          "2024-08-18T00:00:00",
          "2024-08-18T00:00:00",
          "2024-08-18T00:00:00",
          "2024-08-18T00:00:00",
          "2024-08-18T00:00:00",
          "2024-08-19T00:00:00",
          "2024-08-19T00:00:00",
          "2024-08-19T00:00:00",
          "2024-08-19T00:00:00",
          "2024-08-19T00:00:00",
          "2024-08-19T00:00:00",
          "2024-08-19T00:00:00",
          "2024-08-20T00:00:00",
          "2024-08-20T00:00:00",
          "2024-08-20T00:00:00",
          "2024-08-20T00:00:00",
          "2024-08-20T00:00:00",
          "2024-08-20T00:00:00",
          "2024-08-20T00:00:00",
          "2024-08-21T00:00:00",
          "2024-08-21T00:00:00",
          "2024-08-21T00:00:00",
          "2024-08-21T00:00:00",
          "2024-08-21T00:00:00",
          "2024-08-21T00:00:00",
          "2024-08-21T00:00:00",
          "2024-08-22T00:00:00",
          "2024-08-22T00:00:00",
          "2024-08-22T00:00:00",
          "2024-08-22T00:00:00",
          "2024-08-22T00:00:00",
          "2024-08-22T00:00:00",
          "2024-08-22T00:00:00",
          "2024-08-23T00:00:00",
          "2024-08-23T00:00:00",
          "2024-08-23T00:00:00",
          "2024-08-23T00:00:00",
          "2024-08-23T00:00:00",
          "2024-08-23T00:00:00",
          "2024-08-23T00:00:00",
          "2024-08-24T00:00:00",
          "2024-08-24T00:00:00",
          "2024-08-24T00:00:00",
          "2024-08-24T00:00:00",
          "2024-08-24T00:00:00",
          "2024-08-24T00:00:00",
          "2024-08-24T00:00:00",
          "2024-08-25T00:00:00",
          "2024-08-25T00:00:00",
          "2024-08-25T00:00:00",
          "2024-08-25T00:00:00",
          "2024-08-25T00:00:00",
          "2024-08-25T00:00:00",
          "2024-08-25T00:00:00",
          "2024-08-26T00:00:00",
          "2024-08-26T00:00:00",
          "2024-08-26T00:00:00",
          "2024-08-26T00:00:00",
          "2024-08-27T00:00:00",
          "2024-08-27T00:00:00",
          "2024-08-27T00:00:00",
          "2024-08-27T00:00:00",
          "2024-08-28T00:00:00",
          "2024-08-28T00:00:00",
          "2024-08-28T00:00:00",
          "2024-08-28T00:00:00",
          "2024-08-29T00:00:00",
          "2024-08-29T00:00:00",
          "2024-08-29T00:00:00",
          "2024-08-29T00:00:00"
         ],
         "y": [
          23,
          23,
          23,
          23,
          23,
          81,
          81,
          81,
          81,
          81,
          16,
          16,
          16,
          16,
          16,
          4,
          4,
          4,
          4,
          4,
          2,
          2,
          2,
          2,
          2,
          29,
          29,
          29,
          29,
          29,
          29,
          29,
          1,
          1,
          1,
          1,
          1,
          1,
          1,
          6,
          6,
          6,
          6,
          6,
          6,
          6,
          24,
          24,
          24,
          24,
          24,
          24,
          24,
          51,
          51,
          51,
          51,
          51,
          51,
          51,
          50,
          50,
          50,
          50,
          50,
          50,
          50,
          30,
          30,
          30,
          30,
          30,
          30,
          30,
          15,
          15,
          15,
          15,
          15,
          15,
          15,
          45,
          45,
          45,
          45,
          45,
          45,
          45,
          12,
          12,
          12,
          12,
          12,
          12,
          12,
          15,
          15,
          15,
          15,
          15,
          15,
          15,
          14,
          14,
          14,
          14,
          14,
          14,
          14,
          2,
          2,
          2,
          2,
          2,
          2,
          2,
          2,
          2,
          2,
          2,
          2,
          2,
          2,
          39,
          39,
          39,
          39,
          39,
          39,
          39,
          25,
          25,
          25,
          25,
          25,
          25,
          25,
          19,
          19,
          19,
          19,
          19,
          19,
          19,
          85,
          85,
          85,
          85,
          85,
          85,
          85,
          56,
          56,
          56,
          56,
          56,
          56,
          56,
          52,
          52,
          52,
          52,
          52,
          52,
          52,
          67,
          67,
          67,
          67,
          67,
          67,
          67,
          41,
          41,
          41,
          41,
          41,
          41,
          41,
          14,
          14,
          14,
          14,
          14,
          14,
          14,
          11,
          11,
          11,
          11,
          11,
          11,
          11,
          56,
          56,
          56,
          56,
          56,
          56,
          56,
          65,
          65,
          65,
          65,
          65,
          65,
          65,
          87,
          87,
          87,
          87,
          87,
          87,
          87,
          79,
          79,
          79,
          79,
          79,
          79,
          79,
          67,
          67,
          67,
          67,
          67,
          67,
          67,
          12,
          12,
          12,
          12,
          12,
          12,
          12,
          23,
          23,
          23,
          23,
          23,
          23,
          23,
          96,
          96,
          96,
          96,
          96,
          96,
          96,
          82,
          82,
          82,
          82,
          82,
          82,
          82,
          63,
          63,
          63,
          63,
          63,
          63,
          63,
          86,
          86,
          86,
          86,
          86,
          86,
          86,
          70,
          70,
          70,
          70,
          70,
          70,
          70,
          23,
          23,
          23,
          23,
          23,
          23,
          23,
          35,
          35,
          35,
          35,
          35,
          35,
          35,
          104,
          104,
          104,
          104,
          104,
          104,
          104,
          77,
          77,
          77,
          77,
          77,
          77,
          77,
          85,
          85,
          85,
          85,
          85,
          85,
          85,
          106,
          106,
          106,
          106,
          106,
          106,
          106,
          70,
          70,
          70,
          70,
          70,
          70,
          70,
          17,
          17,
          17,
          17,
          17,
          17,
          17,
          24,
          24,
          24,
          24,
          24,
          24,
          24,
          72,
          72,
          72,
          72,
          72,
          72,
          72,
          50,
          50,
          50,
          50,
          50,
          50,
          50,
          61,
          61,
          61,
          61,
          61,
          61,
          61,
          77,
          77,
          77,
          77,
          77,
          77,
          77,
          62,
          62,
          62,
          62,
          62,
          62,
          62,
          25,
          25,
          25,
          25,
          25,
          25,
          25,
          33,
          33,
          33,
          33,
          33,
          33,
          33,
          104,
          104,
          104,
          104,
          104,
          104,
          104,
          97,
          97,
          97,
          97,
          97,
          97,
          97,
          88,
          88,
          88,
          88,
          88,
          88,
          88,
          119,
          119,
          119,
          119,
          119,
          119,
          119,
          50,
          50,
          50,
          50,
          50,
          50,
          50,
          12,
          12,
          12,
          12,
          12,
          12,
          12,
          21,
          21,
          21,
          21,
          21,
          21,
          21,
          62,
          62,
          62,
          62,
          65,
          65,
          65,
          65,
          77,
          77,
          77,
          77,
          15,
          15,
          15,
          15
         ],
         "yaxis": "y2"
        }
       ],
       "layout": {
        "barmode": "relative",
        "legend": {
         "tracegroupgap": 0
        },
        "template": {
         "data": {
          "bar": [
           {
            "error_x": {
             "color": "#2a3f5f"
            },
            "error_y": {
             "color": "#2a3f5f"
            },
            "marker": {
             "line": {
              "color": "#E5ECF6",
              "width": 0.5
             }
            },
            "type": "bar"
           }
          ],
          "barpolar": [
           {
            "marker": {
             "line": {
              "color": "#E5ECF6",
              "width": 0.5
             }
            },
            "type": "barpolar"
           }
          ],
          "carpet": [
           {
            "aaxis": {
             "endlinecolor": "#2a3f5f",
             "gridcolor": "white",
             "linecolor": "white",
             "minorgridcolor": "white",
             "startlinecolor": "#2a3f5f"
            },
            "baxis": {
             "endlinecolor": "#2a3f5f",
             "gridcolor": "white",
             "linecolor": "white",
             "minorgridcolor": "white",
             "startlinecolor": "#2a3f5f"
            },
            "type": "carpet"
           }
          ],
          "choropleth": [
           {
            "colorbar": {
             "outlinewidth": 0,
             "ticks": ""
            },
            "type": "choropleth"
           }
          ],
          "contour": [
           {
            "colorbar": {
             "outlinewidth": 0,
             "ticks": ""
            },
            "colorscale": [
             [
              0,
              "#0d0887"
             ],
             [
              0.1111111111111111,
              "#46039f"
             ],
             [
              0.2222222222222222,
              "#7201a8"
             ],
             [
              0.3333333333333333,
              "#9c179e"
             ],
             [
              0.4444444444444444,
              "#bd3786"
             ],
             [
              0.5555555555555556,
              "#d8576b"
             ],
             [
              0.6666666666666666,
              "#ed7953"
             ],
             [
              0.7777777777777778,
              "#fb9f3a"
             ],
             [
              0.8888888888888888,
              "#fdca26"
             ],
             [
              1,
              "#f0f921"
             ]
            ],
            "type": "contour"
           }
          ],
          "contourcarpet": [
           {
            "colorbar": {
             "outlinewidth": 0,
             "ticks": ""
            },
            "type": "contourcarpet"
           }
          ],
          "heatmap": [
           {
            "colorbar": {
             "outlinewidth": 0,
             "ticks": ""
            },
            "colorscale": [
             [
              0,
              "#0d0887"
             ],
             [
              0.1111111111111111,
              "#46039f"
             ],
             [
              0.2222222222222222,
              "#7201a8"
             ],
             [
              0.3333333333333333,
              "#9c179e"
             ],
             [
              0.4444444444444444,
              "#bd3786"
             ],
             [
              0.5555555555555556,
              "#d8576b"
             ],
             [
              0.6666666666666666,
              "#ed7953"
             ],
             [
              0.7777777777777778,
              "#fb9f3a"
             ],
             [
              0.8888888888888888,
              "#fdca26"
             ],
             [
              1,
              "#f0f921"
             ]
            ],
            "type": "heatmap"
           }
          ],
          "heatmapgl": [
           {
            "colorbar": {
             "outlinewidth": 0,
             "ticks": ""
            },
            "colorscale": [
             [
              0,
              "#0d0887"
             ],
             [
              0.1111111111111111,
              "#46039f"
             ],
             [
              0.2222222222222222,
              "#7201a8"
             ],
             [
              0.3333333333333333,
              "#9c179e"
             ],
             [
              0.4444444444444444,
              "#bd3786"
             ],
             [
              0.5555555555555556,
              "#d8576b"
             ],
             [
              0.6666666666666666,
              "#ed7953"
             ],
             [
              0.7777777777777778,
              "#fb9f3a"
             ],
             [
              0.8888888888888888,
              "#fdca26"
             ],
             [
              1,
              "#f0f921"
             ]
            ],
            "type": "heatmapgl"
           }
          ],
          "histogram": [
           {
            "marker": {
             "colorbar": {
              "outlinewidth": 0,
              "ticks": ""
             }
            },
            "type": "histogram"
           }
          ],
          "histogram2d": [
           {
            "colorbar": {
             "outlinewidth": 0,
             "ticks": ""
            },
            "colorscale": [
             [
              0,
              "#0d0887"
             ],
             [
              0.1111111111111111,
              "#46039f"
             ],
             [
              0.2222222222222222,
              "#7201a8"
             ],
             [
              0.3333333333333333,
              "#9c179e"
             ],
             [
              0.4444444444444444,
              "#bd3786"
             ],
             [
              0.5555555555555556,
              "#d8576b"
             ],
             [
              0.6666666666666666,
              "#ed7953"
             ],
             [
              0.7777777777777778,
              "#fb9f3a"
             ],
             [
              0.8888888888888888,
              "#fdca26"
             ],
             [
              1,
              "#f0f921"
             ]
            ],
            "type": "histogram2d"
           }
          ],
          "histogram2dcontour": [
           {
            "colorbar": {
             "outlinewidth": 0,
             "ticks": ""
            },
            "colorscale": [
             [
              0,
              "#0d0887"
             ],
             [
              0.1111111111111111,
              "#46039f"
             ],
             [
              0.2222222222222222,
              "#7201a8"
             ],
             [
              0.3333333333333333,
              "#9c179e"
             ],
             [
              0.4444444444444444,
              "#bd3786"
             ],
             [
              0.5555555555555556,
              "#d8576b"
             ],
             [
              0.6666666666666666,
              "#ed7953"
             ],
             [
              0.7777777777777778,
              "#fb9f3a"
             ],
             [
              0.8888888888888888,
              "#fdca26"
             ],
             [
              1,
              "#f0f921"
             ]
            ],
            "type": "histogram2dcontour"
           }
          ],
          "mesh3d": [
           {
            "colorbar": {
             "outlinewidth": 0,
             "ticks": ""
            },
            "type": "mesh3d"
           }
          ],
          "parcoords": [
           {
            "line": {
             "colorbar": {
              "outlinewidth": 0,
              "ticks": ""
             }
            },
            "type": "parcoords"
           }
          ],
          "pie": [
           {
            "automargin": true,
            "type": "pie"
           }
          ],
          "scatter": [
           {
            "marker": {
             "colorbar": {
              "outlinewidth": 0,
              "ticks": ""
             }
            },
            "type": "scatter"
           }
          ],
          "scatter3d": [
           {
            "line": {
             "colorbar": {
              "outlinewidth": 0,
              "ticks": ""
             }
            },
            "marker": {
             "colorbar": {
              "outlinewidth": 0,
              "ticks": ""
             }
            },
            "type": "scatter3d"
           }
          ],
          "scattercarpet": [
           {
            "marker": {
             "colorbar": {
              "outlinewidth": 0,
              "ticks": ""
             }
            },
            "type": "scattercarpet"
           }
          ],
          "scattergeo": [
           {
            "marker": {
             "colorbar": {
              "outlinewidth": 0,
              "ticks": ""
             }
            },
            "type": "scattergeo"
           }
          ],
          "scattergl": [
           {
            "marker": {
             "colorbar": {
              "outlinewidth": 0,
              "ticks": ""
             }
            },
            "type": "scattergl"
           }
          ],
          "scattermapbox": [
           {
            "marker": {
             "colorbar": {
              "outlinewidth": 0,
              "ticks": ""
             }
            },
            "type": "scattermapbox"
           }
          ],
          "scatterpolar": [
           {
            "marker": {
             "colorbar": {
              "outlinewidth": 0,
              "ticks": ""
             }
            },
            "type": "scatterpolar"
           }
          ],
          "scatterpolargl": [
           {
            "marker": {
             "colorbar": {
              "outlinewidth": 0,
              "ticks": ""
             }
            },
            "type": "scatterpolargl"
           }
          ],
          "scatterternary": [
           {
            "marker": {
             "colorbar": {
              "outlinewidth": 0,
              "ticks": ""
             }
            },
            "type": "scatterternary"
           }
          ],
          "surface": [
           {
            "colorbar": {
             "outlinewidth": 0,
             "ticks": ""
            },
            "colorscale": [
             [
              0,
              "#0d0887"
             ],
             [
              0.1111111111111111,
              "#46039f"
             ],
             [
              0.2222222222222222,
              "#7201a8"
             ],
             [
              0.3333333333333333,
              "#9c179e"
             ],
             [
              0.4444444444444444,
              "#bd3786"
             ],
             [
              0.5555555555555556,
              "#d8576b"
             ],
             [
              0.6666666666666666,
              "#ed7953"
             ],
             [
              0.7777777777777778,
              "#fb9f3a"
             ],
             [
              0.8888888888888888,
              "#fdca26"
             ],
             [
              1,
              "#f0f921"
             ]
            ],
            "type": "surface"
           }
          ],
          "table": [
           {
            "cells": {
             "fill": {
              "color": "#EBF0F8"
             },
             "line": {
              "color": "white"
             }
            },
            "header": {
             "fill": {
              "color": "#C8D4E3"
             },
             "line": {
              "color": "white"
             }
            },
            "type": "table"
           }
          ]
         },
         "layout": {
          "annotationdefaults": {
           "arrowcolor": "#2a3f5f",
           "arrowhead": 0,
           "arrowwidth": 1
          },
          "autotypenumbers": "strict",
          "coloraxis": {
           "colorbar": {
            "outlinewidth": 0,
            "ticks": ""
           }
          },
          "colorscale": {
           "diverging": [
            [
             0,
             "#8e0152"
            ],
            [
             0.1,
             "#c51b7d"
            ],
            [
             0.2,
             "#de77ae"
            ],
            [
             0.3,
             "#f1b6da"
            ],
            [
             0.4,
             "#fde0ef"
            ],
            [
             0.5,
             "#f7f7f7"
            ],
            [
             0.6,
             "#e6f5d0"
            ],
            [
             0.7,
             "#b8e186"
            ],
            [
             0.8,
             "#7fbc41"
            ],
            [
             0.9,
             "#4d9221"
            ],
            [
             1,
             "#276419"
            ]
           ],
           "sequential": [
            [
             0,
             "#0d0887"
            ],
            [
             0.1111111111111111,
             "#46039f"
            ],
            [
             0.2222222222222222,
             "#7201a8"
            ],
            [
             0.3333333333333333,
             "#9c179e"
            ],
            [
             0.4444444444444444,
             "#bd3786"
            ],
            [
             0.5555555555555556,
             "#d8576b"
            ],
            [
             0.6666666666666666,
             "#ed7953"
            ],
            [
             0.7777777777777778,
             "#fb9f3a"
            ],
            [
             0.8888888888888888,
             "#fdca26"
            ],
            [
             1,
             "#f0f921"
            ]
           ],
           "sequentialminus": [
            [
             0,
             "#0d0887"
            ],
            [
             0.1111111111111111,
             "#46039f"
            ],
            [
             0.2222222222222222,
             "#7201a8"
            ],
            [
             0.3333333333333333,
             "#9c179e"
            ],
            [
             0.4444444444444444,
             "#bd3786"
            ],
            [
             0.5555555555555556,
             "#d8576b"
            ],
            [
             0.6666666666666666,
             "#ed7953"
            ],
            [
             0.7777777777777778,
             "#fb9f3a"
            ],
            [
             0.8888888888888888,
             "#fdca26"
            ],
            [
             1,
             "#f0f921"
            ]
           ]
          },
          "colorway": [
           "#636efa",
           "#EF553B",
           "#00cc96",
           "#ab63fa",
           "#FFA15A",
           "#19d3f3",
           "#FF6692",
           "#B6E880",
           "#FF97FF",
           "#FECB52"
          ],
          "font": {
           "color": "#2a3f5f"
          },
          "geo": {
           "bgcolor": "white",
           "lakecolor": "white",
           "landcolor": "#E5ECF6",
           "showlakes": true,
           "showland": true,
           "subunitcolor": "white"
          },
          "hoverlabel": {
           "align": "left"
          },
          "hovermode": "closest",
          "mapbox": {
           "style": "light"
          },
          "paper_bgcolor": "white",
          "plot_bgcolor": "#E5ECF6",
          "polar": {
           "angularaxis": {
            "gridcolor": "white",
            "linecolor": "white",
            "ticks": ""
           },
           "bgcolor": "#E5ECF6",
           "radialaxis": {
            "gridcolor": "white",
            "linecolor": "white",
            "ticks": ""
           }
          },
          "scene": {
           "xaxis": {
            "backgroundcolor": "#E5ECF6",
            "gridcolor": "white",
            "gridwidth": 2,
            "linecolor": "white",
            "showbackground": true,
            "ticks": "",
            "zerolinecolor": "white"
           },
           "yaxis": {
            "backgroundcolor": "#E5ECF6",
            "gridcolor": "white",
            "gridwidth": 2,
            "linecolor": "white",
            "showbackground": true,
            "ticks": "",
            "zerolinecolor": "white"
           },
           "zaxis": {
            "backgroundcolor": "#E5ECF6",
            "gridcolor": "white",
            "gridwidth": 2,
            "linecolor": "white",
            "showbackground": true,
            "ticks": "",
            "zerolinecolor": "white"
           }
          },
          "shapedefaults": {
           "line": {
            "color": "#2a3f5f"
           }
          },
          "ternary": {
           "aaxis": {
            "gridcolor": "white",
            "linecolor": "white",
            "ticks": ""
           },
           "baxis": {
            "gridcolor": "white",
            "linecolor": "white",
            "ticks": ""
           },
           "bgcolor": "#E5ECF6",
           "caxis": {
            "gridcolor": "white",
            "linecolor": "white",
            "ticks": ""
           }
          },
          "title": {
           "x": 0.05
          },
          "xaxis": {
           "automargin": true,
           "gridcolor": "white",
           "linecolor": "white",
           "ticks": "",
           "title": {
            "standoff": 15
           },
           "zerolinecolor": "white",
           "zerolinewidth": 2
          },
          "yaxis": {
           "automargin": true,
           "gridcolor": "white",
           "linecolor": "white",
           "ticks": "",
           "title": {
            "standoff": 15
           },
           "zerolinecolor": "white",
           "zerolinewidth": 2
          }
         }
        },
        "title": {
         "text": "Cantidad y Clientes"
        },
        "xaxis": {
         "anchor": "y",
         "domain": [
          0,
          1
         ],
         "title": {
          "text": "Fecha"
         }
        },
        "yaxis": {
         "anchor": "x",
         "domain": [
          0,
          1
         ],
         "title": {
          "text": "Cantidad"
         }
        },
        "yaxis2": {
         "overlaying": "y",
         "side": "right",
         "title": {
          "text": "Clientes"
         }
        }
       }
      },
      "text/html": [
       "<div>                            <div id=\"0602ecca-a358-4d59-89d0-20542e14196a\" class=\"plotly-graph-div\" style=\"height:525px; width:100%;\"></div>            <script type=\"text/javascript\">                require([\"plotly\"], function(Plotly) {                    window.PLOTLYENV=window.PLOTLYENV || {};                                    if (document.getElementById(\"0602ecca-a358-4d59-89d0-20542e14196a\")) {                    Plotly.newPlot(                        \"0602ecca-a358-4d59-89d0-20542e14196a\",                        [{\"alignmentgroup\": \"True\", \"hovertemplate\": \"Fecha=%{x}<br>Cantidad=%{y}<extra></extra>\", \"legendgroup\": \"\", \"marker\": {\"color\": \"#636efa\"}, \"name\": \"\", \"offsetgroup\": \"\", \"orientation\": \"v\", \"showlegend\": false, \"textposition\": \"auto\", \"type\": \"bar\", \"x\": [\"2024-05-01T00:00:00\", \"2024-05-01T00:00:00\", \"2024-05-01T00:00:00\", \"2024-05-01T00:00:00\", \"2024-05-01T00:00:00\", \"2024-05-02T00:00:00\", \"2024-05-02T00:00:00\", \"2024-05-02T00:00:00\", \"2024-05-02T00:00:00\", \"2024-05-02T00:00:00\", \"2024-05-03T00:00:00\", \"2024-05-03T00:00:00\", \"2024-05-03T00:00:00\", \"2024-05-03T00:00:00\", \"2024-05-03T00:00:00\", \"2024-05-04T00:00:00\", \"2024-05-04T00:00:00\", \"2024-05-04T00:00:00\", \"2024-05-04T00:00:00\", \"2024-05-04T00:00:00\", \"2024-05-05T00:00:00\", \"2024-05-05T00:00:00\", \"2024-05-05T00:00:00\", \"2024-05-05T00:00:00\", \"2024-05-05T00:00:00\", \"2024-05-13T00:00:00\", \"2024-05-13T00:00:00\", \"2024-05-13T00:00:00\", \"2024-05-13T00:00:00\", \"2024-05-13T00:00:00\", \"2024-05-13T00:00:00\", \"2024-05-13T00:00:00\", \"2024-05-15T00:00:00\", \"2024-05-15T00:00:00\", \"2024-05-15T00:00:00\", \"2024-05-15T00:00:00\", \"2024-05-15T00:00:00\", \"2024-05-15T00:00:00\", \"2024-05-15T00:00:00\", \"2024-05-25T00:00:00\", \"2024-05-25T00:00:00\", \"2024-05-25T00:00:00\", \"2024-05-25T00:00:00\", \"2024-05-25T00:00:00\", \"2024-05-25T00:00:00\", \"2024-05-25T00:00:00\", \"2024-05-26T00:00:00\", \"2024-05-26T00:00:00\", \"2024-05-26T00:00:00\", \"2024-05-26T00:00:00\", \"2024-05-26T00:00:00\", \"2024-05-26T00:00:00\", \"2024-05-26T00:00:00\", \"2024-05-27T00:00:00\", \"2024-05-27T00:00:00\", \"2024-05-27T00:00:00\", \"2024-05-27T00:00:00\", \"2024-05-27T00:00:00\", \"2024-05-27T00:00:00\", \"2024-05-27T00:00:00\", \"2024-05-28T00:00:00\", \"2024-05-28T00:00:00\", \"2024-05-28T00:00:00\", \"2024-05-28T00:00:00\", \"2024-05-28T00:00:00\", \"2024-05-28T00:00:00\", \"2024-05-28T00:00:00\", \"2024-05-29T00:00:00\", \"2024-05-29T00:00:00\", \"2024-05-29T00:00:00\", \"2024-05-29T00:00:00\", \"2024-05-29T00:00:00\", \"2024-05-29T00:00:00\", \"2024-05-29T00:00:00\", \"2024-05-30T00:00:00\", \"2024-05-30T00:00:00\", \"2024-05-30T00:00:00\", \"2024-05-30T00:00:00\", \"2024-05-30T00:00:00\", \"2024-05-30T00:00:00\", \"2024-05-30T00:00:00\", \"2024-05-31T00:00:00\", \"2024-05-31T00:00:00\", \"2024-05-31T00:00:00\", \"2024-05-31T00:00:00\", \"2024-05-31T00:00:00\", \"2024-05-31T00:00:00\", \"2024-05-31T00:00:00\", \"2024-06-01T00:00:00\", \"2024-06-01T00:00:00\", \"2024-06-01T00:00:00\", \"2024-06-01T00:00:00\", \"2024-06-01T00:00:00\", \"2024-06-01T00:00:00\", \"2024-06-01T00:00:00\", \"2024-06-02T00:00:00\", \"2024-06-02T00:00:00\", \"2024-06-02T00:00:00\", \"2024-06-02T00:00:00\", \"2024-06-02T00:00:00\", \"2024-06-02T00:00:00\", \"2024-06-02T00:00:00\", \"2024-06-03T00:00:00\", \"2024-06-03T00:00:00\", \"2024-06-03T00:00:00\", \"2024-06-03T00:00:00\", \"2024-06-03T00:00:00\", \"2024-06-03T00:00:00\", \"2024-06-03T00:00:00\", \"2024-06-04T00:00:00\", \"2024-06-04T00:00:00\", \"2024-06-04T00:00:00\", \"2024-06-04T00:00:00\", \"2024-06-04T00:00:00\", \"2024-06-04T00:00:00\", \"2024-06-04T00:00:00\", \"2024-06-05T00:00:00\", \"2024-06-05T00:00:00\", \"2024-06-05T00:00:00\", \"2024-06-05T00:00:00\", \"2024-06-05T00:00:00\", \"2024-06-05T00:00:00\", \"2024-06-05T00:00:00\", \"2024-07-12T00:00:00\", \"2024-07-12T00:00:00\", \"2024-07-12T00:00:00\", \"2024-07-12T00:00:00\", \"2024-07-12T00:00:00\", \"2024-07-12T00:00:00\", \"2024-07-12T00:00:00\", \"2024-07-13T00:00:00\", \"2024-07-13T00:00:00\", \"2024-07-13T00:00:00\", \"2024-07-13T00:00:00\", \"2024-07-13T00:00:00\", \"2024-07-13T00:00:00\", \"2024-07-13T00:00:00\", \"2024-07-14T00:00:00\", \"2024-07-14T00:00:00\", \"2024-07-14T00:00:00\", \"2024-07-14T00:00:00\", \"2024-07-14T00:00:00\", \"2024-07-14T00:00:00\", \"2024-07-14T00:00:00\", \"2024-07-15T00:00:00\", \"2024-07-15T00:00:00\", \"2024-07-15T00:00:00\", \"2024-07-15T00:00:00\", \"2024-07-15T00:00:00\", \"2024-07-15T00:00:00\", \"2024-07-15T00:00:00\", \"2024-07-16T00:00:00\", \"2024-07-16T00:00:00\", \"2024-07-16T00:00:00\", \"2024-07-16T00:00:00\", \"2024-07-16T00:00:00\", \"2024-07-16T00:00:00\", \"2024-07-16T00:00:00\", \"2024-07-17T00:00:00\", \"2024-07-17T00:00:00\", \"2024-07-17T00:00:00\", \"2024-07-17T00:00:00\", \"2024-07-17T00:00:00\", \"2024-07-17T00:00:00\", \"2024-07-17T00:00:00\", \"2024-07-18T00:00:00\", \"2024-07-18T00:00:00\", \"2024-07-18T00:00:00\", \"2024-07-18T00:00:00\", \"2024-07-18T00:00:00\", \"2024-07-18T00:00:00\", \"2024-07-18T00:00:00\", \"2024-07-19T00:00:00\", \"2024-07-19T00:00:00\", \"2024-07-19T00:00:00\", \"2024-07-19T00:00:00\", \"2024-07-19T00:00:00\", \"2024-07-19T00:00:00\", \"2024-07-19T00:00:00\", \"2024-07-20T00:00:00\", \"2024-07-20T00:00:00\", \"2024-07-20T00:00:00\", \"2024-07-20T00:00:00\", \"2024-07-20T00:00:00\", \"2024-07-20T00:00:00\", \"2024-07-20T00:00:00\", \"2024-07-21T00:00:00\", \"2024-07-21T00:00:00\", \"2024-07-21T00:00:00\", \"2024-07-21T00:00:00\", \"2024-07-21T00:00:00\", \"2024-07-21T00:00:00\", \"2024-07-21T00:00:00\", \"2024-07-22T00:00:00\", \"2024-07-22T00:00:00\", \"2024-07-22T00:00:00\", \"2024-07-22T00:00:00\", \"2024-07-22T00:00:00\", \"2024-07-22T00:00:00\", \"2024-07-22T00:00:00\", \"2024-07-23T00:00:00\", \"2024-07-23T00:00:00\", \"2024-07-23T00:00:00\", \"2024-07-23T00:00:00\", \"2024-07-23T00:00:00\", \"2024-07-23T00:00:00\", \"2024-07-23T00:00:00\", \"2024-07-24T00:00:00\", \"2024-07-24T00:00:00\", \"2024-07-24T00:00:00\", \"2024-07-24T00:00:00\", \"2024-07-24T00:00:00\", \"2024-07-24T00:00:00\", \"2024-07-24T00:00:00\", \"2024-07-25T00:00:00\", \"2024-07-25T00:00:00\", \"2024-07-25T00:00:00\", \"2024-07-25T00:00:00\", \"2024-07-25T00:00:00\", \"2024-07-25T00:00:00\", \"2024-07-25T00:00:00\", \"2024-07-26T00:00:00\", \"2024-07-26T00:00:00\", \"2024-07-26T00:00:00\", \"2024-07-26T00:00:00\", \"2024-07-26T00:00:00\", \"2024-07-26T00:00:00\", \"2024-07-26T00:00:00\", \"2024-07-27T00:00:00\", \"2024-07-27T00:00:00\", \"2024-07-27T00:00:00\", \"2024-07-27T00:00:00\", \"2024-07-27T00:00:00\", \"2024-07-27T00:00:00\", \"2024-07-27T00:00:00\", \"2024-07-28T00:00:00\", \"2024-07-28T00:00:00\", \"2024-07-28T00:00:00\", \"2024-07-28T00:00:00\", \"2024-07-28T00:00:00\", \"2024-07-28T00:00:00\", \"2024-07-28T00:00:00\", \"2024-07-29T00:00:00\", \"2024-07-29T00:00:00\", \"2024-07-29T00:00:00\", \"2024-07-29T00:00:00\", \"2024-07-29T00:00:00\", \"2024-07-29T00:00:00\", \"2024-07-29T00:00:00\", \"2024-07-30T00:00:00\", \"2024-07-30T00:00:00\", \"2024-07-30T00:00:00\", \"2024-07-30T00:00:00\", \"2024-07-30T00:00:00\", \"2024-07-30T00:00:00\", \"2024-07-30T00:00:00\", \"2024-07-31T00:00:00\", \"2024-07-31T00:00:00\", \"2024-07-31T00:00:00\", \"2024-07-31T00:00:00\", \"2024-07-31T00:00:00\", \"2024-07-31T00:00:00\", \"2024-07-31T00:00:00\", \"2024-08-01T00:00:00\", \"2024-08-01T00:00:00\", \"2024-08-01T00:00:00\", \"2024-08-01T00:00:00\", \"2024-08-01T00:00:00\", \"2024-08-01T00:00:00\", \"2024-08-01T00:00:00\", \"2024-08-02T00:00:00\", \"2024-08-02T00:00:00\", \"2024-08-02T00:00:00\", \"2024-08-02T00:00:00\", \"2024-08-02T00:00:00\", \"2024-08-02T00:00:00\", \"2024-08-02T00:00:00\", \"2024-08-03T00:00:00\", \"2024-08-03T00:00:00\", \"2024-08-03T00:00:00\", \"2024-08-03T00:00:00\", \"2024-08-03T00:00:00\", \"2024-08-03T00:00:00\", \"2024-08-03T00:00:00\", \"2024-08-04T00:00:00\", \"2024-08-04T00:00:00\", \"2024-08-04T00:00:00\", \"2024-08-04T00:00:00\", \"2024-08-04T00:00:00\", \"2024-08-04T00:00:00\", \"2024-08-04T00:00:00\", \"2024-08-05T00:00:00\", \"2024-08-05T00:00:00\", \"2024-08-05T00:00:00\", \"2024-08-05T00:00:00\", \"2024-08-05T00:00:00\", \"2024-08-05T00:00:00\", \"2024-08-05T00:00:00\", \"2024-08-06T00:00:00\", \"2024-08-06T00:00:00\", \"2024-08-06T00:00:00\", \"2024-08-06T00:00:00\", \"2024-08-06T00:00:00\", \"2024-08-06T00:00:00\", \"2024-08-06T00:00:00\", \"2024-08-07T00:00:00\", \"2024-08-07T00:00:00\", \"2024-08-07T00:00:00\", \"2024-08-07T00:00:00\", \"2024-08-07T00:00:00\", \"2024-08-07T00:00:00\", \"2024-08-07T00:00:00\", \"2024-08-08T00:00:00\", \"2024-08-08T00:00:00\", \"2024-08-08T00:00:00\", \"2024-08-08T00:00:00\", \"2024-08-08T00:00:00\", \"2024-08-08T00:00:00\", \"2024-08-08T00:00:00\", \"2024-08-09T00:00:00\", \"2024-08-09T00:00:00\", \"2024-08-09T00:00:00\", \"2024-08-09T00:00:00\", \"2024-08-09T00:00:00\", \"2024-08-09T00:00:00\", \"2024-08-09T00:00:00\", \"2024-08-10T00:00:00\", \"2024-08-10T00:00:00\", \"2024-08-10T00:00:00\", \"2024-08-10T00:00:00\", \"2024-08-10T00:00:00\", \"2024-08-10T00:00:00\", \"2024-08-10T00:00:00\", \"2024-08-11T00:00:00\", \"2024-08-11T00:00:00\", \"2024-08-11T00:00:00\", \"2024-08-11T00:00:00\", \"2024-08-11T00:00:00\", \"2024-08-11T00:00:00\", \"2024-08-11T00:00:00\", \"2024-08-12T00:00:00\", \"2024-08-12T00:00:00\", \"2024-08-12T00:00:00\", \"2024-08-12T00:00:00\", \"2024-08-12T00:00:00\", \"2024-08-12T00:00:00\", \"2024-08-12T00:00:00\", \"2024-08-13T00:00:00\", \"2024-08-13T00:00:00\", \"2024-08-13T00:00:00\", \"2024-08-13T00:00:00\", \"2024-08-13T00:00:00\", \"2024-08-13T00:00:00\", \"2024-08-13T00:00:00\", \"2024-08-14T00:00:00\", \"2024-08-14T00:00:00\", \"2024-08-14T00:00:00\", \"2024-08-14T00:00:00\", \"2024-08-14T00:00:00\", \"2024-08-14T00:00:00\", \"2024-08-14T00:00:00\", \"2024-08-15T00:00:00\", \"2024-08-15T00:00:00\", \"2024-08-15T00:00:00\", \"2024-08-15T00:00:00\", \"2024-08-15T00:00:00\", \"2024-08-15T00:00:00\", \"2024-08-15T00:00:00\", \"2024-08-16T00:00:00\", \"2024-08-16T00:00:00\", \"2024-08-16T00:00:00\", \"2024-08-16T00:00:00\", \"2024-08-16T00:00:00\", \"2024-08-16T00:00:00\", \"2024-08-16T00:00:00\", \"2024-08-17T00:00:00\", \"2024-08-17T00:00:00\", \"2024-08-17T00:00:00\", \"2024-08-17T00:00:00\", \"2024-08-17T00:00:00\", \"2024-08-17T00:00:00\", \"2024-08-17T00:00:00\", \"2024-08-18T00:00:00\", \"2024-08-18T00:00:00\", \"2024-08-18T00:00:00\", \"2024-08-18T00:00:00\", \"2024-08-18T00:00:00\", \"2024-08-18T00:00:00\", \"2024-08-18T00:00:00\", \"2024-08-19T00:00:00\", \"2024-08-19T00:00:00\", \"2024-08-19T00:00:00\", \"2024-08-19T00:00:00\", \"2024-08-19T00:00:00\", \"2024-08-19T00:00:00\", \"2024-08-19T00:00:00\", \"2024-08-20T00:00:00\", \"2024-08-20T00:00:00\", \"2024-08-20T00:00:00\", \"2024-08-20T00:00:00\", \"2024-08-20T00:00:00\", \"2024-08-20T00:00:00\", \"2024-08-20T00:00:00\", \"2024-08-21T00:00:00\", \"2024-08-21T00:00:00\", \"2024-08-21T00:00:00\", \"2024-08-21T00:00:00\", \"2024-08-21T00:00:00\", \"2024-08-21T00:00:00\", \"2024-08-21T00:00:00\", \"2024-08-22T00:00:00\", \"2024-08-22T00:00:00\", \"2024-08-22T00:00:00\", \"2024-08-22T00:00:00\", \"2024-08-22T00:00:00\", \"2024-08-22T00:00:00\", \"2024-08-22T00:00:00\", \"2024-08-23T00:00:00\", \"2024-08-23T00:00:00\", \"2024-08-23T00:00:00\", \"2024-08-23T00:00:00\", \"2024-08-23T00:00:00\", \"2024-08-23T00:00:00\", \"2024-08-23T00:00:00\", \"2024-08-24T00:00:00\", \"2024-08-24T00:00:00\", \"2024-08-24T00:00:00\", \"2024-08-24T00:00:00\", \"2024-08-24T00:00:00\", \"2024-08-24T00:00:00\", \"2024-08-24T00:00:00\", \"2024-08-25T00:00:00\", \"2024-08-25T00:00:00\", \"2024-08-25T00:00:00\", \"2024-08-25T00:00:00\", \"2024-08-25T00:00:00\", \"2024-08-25T00:00:00\", \"2024-08-25T00:00:00\", \"2024-08-26T00:00:00\", \"2024-08-26T00:00:00\", \"2024-08-26T00:00:00\", \"2024-08-26T00:00:00\", \"2024-08-27T00:00:00\", \"2024-08-27T00:00:00\", \"2024-08-27T00:00:00\", \"2024-08-27T00:00:00\", \"2024-08-28T00:00:00\", \"2024-08-28T00:00:00\", \"2024-08-28T00:00:00\", \"2024-08-28T00:00:00\", \"2024-08-29T00:00:00\", \"2024-08-29T00:00:00\", \"2024-08-29T00:00:00\", \"2024-08-29T00:00:00\"], \"xaxis\": \"x\", \"y\": [612.0, 612.0, 612.0, 612.0, 612.0, 2496.0, 2496.0, 2496.0, 2496.0, 2496.0, 432.0, 432.0, 432.0, 432.0, 432.0, 48.0, 48.0, 48.0, 48.0, 48.0, 24.0, 24.0, 24.0, 24.0, 24.0, 996.0, 996.0, 996.0, 996.0, 996.0, 996.0, 996.0, 12.0, 12.0, 12.0, 12.0, 12.0, 12.0, 12.0, 228.0, 228.0, 228.0, 228.0, 228.0, 228.0, 228.0, 708.0, 708.0, 708.0, 708.0, 708.0, 708.0, 708.0, 1800.0, 1800.0, 1800.0, 1800.0, 1800.0, 1800.0, 1800.0, 1176.0, 1176.0, 1176.0, 1176.0, 1176.0, 1176.0, 1176.0, 852.0, 852.0, 852.0, 852.0, 852.0, 852.0, 852.0, 480.0, 480.0, 480.0, 480.0, 480.0, 480.0, 480.0, 1104.0, 1104.0, 1104.0, 1104.0, 1104.0, 1104.0, 1104.0, 420.0, 420.0, 420.0, 420.0, 420.0, 420.0, 420.0, 372.0, 372.0, 372.0, 372.0, 372.0, 372.0, 372.0, 347.0, 347.0, 347.0, 347.0, 347.0, 347.0, 347.0, 24.0, 24.0, 24.0, 24.0, 24.0, 24.0, 24.0, 84.0, 84.0, 84.0, 84.0, 84.0, 84.0, 84.0, 1224.0, 1224.0, 1224.0, 1224.0, 1224.0, 1224.0, 1224.0, 924.0, 924.0, 924.0, 924.0, 924.0, 924.0, 924.0, 420.0, 420.0, 420.0, 420.0, 420.0, 420.0, 420.0, 2220.0, 2220.0, 2220.0, 2220.0, 2220.0, 2220.0, 2220.0, 1596.0, 1596.0, 1596.0, 1596.0, 1596.0, 1596.0, 1596.0, 1500.0, 1500.0, 1500.0, 1500.0, 1500.0, 1500.0, 1500.0, 1884.0, 1884.0, 1884.0, 1884.0, 1884.0, 1884.0, 1884.0, 1032.0, 1032.0, 1032.0, 1032.0, 1032.0, 1032.0, 1032.0, 432.0, 432.0, 432.0, 432.0, 432.0, 432.0, 432.0, 228.0, 228.0, 228.0, 228.0, 228.0, 228.0, 228.0, 1536.0, 1536.0, 1536.0, 1536.0, 1536.0, 1536.0, 1536.0, 1932.0, 1932.0, 1932.0, 1932.0, 1932.0, 1932.0, 1932.0, 2172.0, 2172.0, 2172.0, 2172.0, 2172.0, 2172.0, 2172.0, 1872.0, 1872.0, 1872.0, 1872.0, 1872.0, 1872.0, 1872.0, 1968.0, 1968.0, 1968.0, 1968.0, 1968.0, 1968.0, 1968.0, 276.0, 276.0, 276.0, 276.0, 276.0, 276.0, 276.0, 732.0, 732.0, 732.0, 732.0, 732.0, 732.0, 732.0, 3000.0, 3000.0, 3000.0, 3000.0, 3000.0, 3000.0, 3000.0, 1596.0, 1596.0, 1596.0, 1596.0, 1596.0, 1596.0, 1596.0, 1404.0, 1404.0, 1404.0, 1404.0, 1404.0, 1404.0, 1404.0, 2052.0, 2052.0, 2052.0, 2052.0, 2052.0, 2052.0, 2052.0, 1416.0, 1416.0, 1416.0, 1416.0, 1416.0, 1416.0, 1416.0, 612.0, 612.0, 612.0, 612.0, 612.0, 612.0, 612.0, 768.0, 768.0, 768.0, 768.0, 768.0, 768.0, 768.0, 3264.0, 3264.0, 3264.0, 3264.0, 3264.0, 3264.0, 3264.0, 1860.0, 1860.0, 1860.0, 1860.0, 1860.0, 1860.0, 1860.0, 2052.0, 2052.0, 2052.0, 2052.0, 2052.0, 2052.0, 2052.0, 2472.0, 2472.0, 2472.0, 2472.0, 2472.0, 2472.0, 2472.0, 1824.0, 1824.0, 1824.0, 1824.0, 1824.0, 1824.0, 1824.0, 480.0, 480.0, 480.0, 480.0, 480.0, 480.0, 480.0, 564.0, 564.0, 564.0, 564.0, 564.0, 564.0, 564.0, 1920.0, 1920.0, 1920.0, 1920.0, 1920.0, 1920.0, 1920.0, 1284.0, 1284.0, 1284.0, 1284.0, 1284.0, 1284.0, 1284.0, 1368.0, 1368.0, 1368.0, 1368.0, 1368.0, 1368.0, 1368.0, 2028.0, 2028.0, 2028.0, 2028.0, 2028.0, 2028.0, 2028.0, 1320.0, 1320.0, 1320.0, 1320.0, 1320.0, 1320.0, 1320.0, 564.0, 564.0, 564.0, 564.0, 564.0, 564.0, 564.0, 660.0, 660.0, 660.0, 660.0, 660.0, 660.0, 660.0, 2412.0, 2412.0, 2412.0, 2412.0, 2412.0, 2412.0, 2412.0, 2592.0, 2592.0, 2592.0, 2592.0, 2592.0, 2592.0, 2592.0, 1812.0, 1812.0, 1812.0, 1812.0, 1812.0, 1812.0, 1812.0, 2976.0, 2976.0, 2976.0, 2976.0, 2976.0, 2976.0, 2976.0, 1032.0, 1032.0, 1032.0, 1032.0, 1032.0, 1032.0, 1032.0, 324.0, 324.0, 324.0, 324.0, 324.0, 324.0, 324.0, 480.0, 480.0, 480.0, 480.0, 480.0, 480.0, 480.0, 1236.0, 1236.0, 1236.0, 1236.0, 1572.0, 1572.0, 1572.0, 1572.0, 1716.0, 1716.0, 1716.0, 1716.0, 456.0, 456.0, 456.0, 456.0], \"yaxis\": \"y\"}, {\"mode\": \"lines+markers\", \"name\": \"Clientes\", \"type\": \"scatter\", \"x\": [\"2024-05-01T00:00:00\", \"2024-05-01T00:00:00\", \"2024-05-01T00:00:00\", \"2024-05-01T00:00:00\", \"2024-05-01T00:00:00\", \"2024-05-02T00:00:00\", \"2024-05-02T00:00:00\", \"2024-05-02T00:00:00\", \"2024-05-02T00:00:00\", \"2024-05-02T00:00:00\", \"2024-05-03T00:00:00\", \"2024-05-03T00:00:00\", \"2024-05-03T00:00:00\", \"2024-05-03T00:00:00\", \"2024-05-03T00:00:00\", \"2024-05-04T00:00:00\", \"2024-05-04T00:00:00\", \"2024-05-04T00:00:00\", \"2024-05-04T00:00:00\", \"2024-05-04T00:00:00\", \"2024-05-05T00:00:00\", \"2024-05-05T00:00:00\", \"2024-05-05T00:00:00\", \"2024-05-05T00:00:00\", \"2024-05-05T00:00:00\", \"2024-05-13T00:00:00\", \"2024-05-13T00:00:00\", \"2024-05-13T00:00:00\", \"2024-05-13T00:00:00\", \"2024-05-13T00:00:00\", \"2024-05-13T00:00:00\", \"2024-05-13T00:00:00\", \"2024-05-15T00:00:00\", \"2024-05-15T00:00:00\", \"2024-05-15T00:00:00\", \"2024-05-15T00:00:00\", \"2024-05-15T00:00:00\", \"2024-05-15T00:00:00\", \"2024-05-15T00:00:00\", \"2024-05-25T00:00:00\", \"2024-05-25T00:00:00\", \"2024-05-25T00:00:00\", \"2024-05-25T00:00:00\", \"2024-05-25T00:00:00\", \"2024-05-25T00:00:00\", \"2024-05-25T00:00:00\", \"2024-05-26T00:00:00\", \"2024-05-26T00:00:00\", \"2024-05-26T00:00:00\", \"2024-05-26T00:00:00\", \"2024-05-26T00:00:00\", \"2024-05-26T00:00:00\", \"2024-05-26T00:00:00\", \"2024-05-27T00:00:00\", \"2024-05-27T00:00:00\", \"2024-05-27T00:00:00\", \"2024-05-27T00:00:00\", \"2024-05-27T00:00:00\", \"2024-05-27T00:00:00\", \"2024-05-27T00:00:00\", \"2024-05-28T00:00:00\", \"2024-05-28T00:00:00\", \"2024-05-28T00:00:00\", \"2024-05-28T00:00:00\", \"2024-05-28T00:00:00\", \"2024-05-28T00:00:00\", \"2024-05-28T00:00:00\", \"2024-05-29T00:00:00\", \"2024-05-29T00:00:00\", \"2024-05-29T00:00:00\", \"2024-05-29T00:00:00\", \"2024-05-29T00:00:00\", \"2024-05-29T00:00:00\", \"2024-05-29T00:00:00\", \"2024-05-30T00:00:00\", \"2024-05-30T00:00:00\", \"2024-05-30T00:00:00\", \"2024-05-30T00:00:00\", \"2024-05-30T00:00:00\", \"2024-05-30T00:00:00\", \"2024-05-30T00:00:00\", \"2024-05-31T00:00:00\", \"2024-05-31T00:00:00\", \"2024-05-31T00:00:00\", \"2024-05-31T00:00:00\", \"2024-05-31T00:00:00\", \"2024-05-31T00:00:00\", \"2024-05-31T00:00:00\", \"2024-06-01T00:00:00\", \"2024-06-01T00:00:00\", \"2024-06-01T00:00:00\", \"2024-06-01T00:00:00\", \"2024-06-01T00:00:00\", \"2024-06-01T00:00:00\", \"2024-06-01T00:00:00\", \"2024-06-02T00:00:00\", \"2024-06-02T00:00:00\", \"2024-06-02T00:00:00\", \"2024-06-02T00:00:00\", \"2024-06-02T00:00:00\", \"2024-06-02T00:00:00\", \"2024-06-02T00:00:00\", \"2024-06-03T00:00:00\", \"2024-06-03T00:00:00\", \"2024-06-03T00:00:00\", \"2024-06-03T00:00:00\", \"2024-06-03T00:00:00\", \"2024-06-03T00:00:00\", \"2024-06-03T00:00:00\", \"2024-06-04T00:00:00\", \"2024-06-04T00:00:00\", \"2024-06-04T00:00:00\", \"2024-06-04T00:00:00\", \"2024-06-04T00:00:00\", \"2024-06-04T00:00:00\", \"2024-06-04T00:00:00\", \"2024-06-05T00:00:00\", \"2024-06-05T00:00:00\", \"2024-06-05T00:00:00\", \"2024-06-05T00:00:00\", \"2024-06-05T00:00:00\", \"2024-06-05T00:00:00\", \"2024-06-05T00:00:00\", \"2024-07-12T00:00:00\", \"2024-07-12T00:00:00\", \"2024-07-12T00:00:00\", \"2024-07-12T00:00:00\", \"2024-07-12T00:00:00\", \"2024-07-12T00:00:00\", \"2024-07-12T00:00:00\", \"2024-07-13T00:00:00\", \"2024-07-13T00:00:00\", \"2024-07-13T00:00:00\", \"2024-07-13T00:00:00\", \"2024-07-13T00:00:00\", \"2024-07-13T00:00:00\", \"2024-07-13T00:00:00\", \"2024-07-14T00:00:00\", \"2024-07-14T00:00:00\", \"2024-07-14T00:00:00\", \"2024-07-14T00:00:00\", \"2024-07-14T00:00:00\", \"2024-07-14T00:00:00\", \"2024-07-14T00:00:00\", \"2024-07-15T00:00:00\", \"2024-07-15T00:00:00\", \"2024-07-15T00:00:00\", \"2024-07-15T00:00:00\", \"2024-07-15T00:00:00\", \"2024-07-15T00:00:00\", \"2024-07-15T00:00:00\", \"2024-07-16T00:00:00\", \"2024-07-16T00:00:00\", \"2024-07-16T00:00:00\", \"2024-07-16T00:00:00\", \"2024-07-16T00:00:00\", \"2024-07-16T00:00:00\", \"2024-07-16T00:00:00\", \"2024-07-17T00:00:00\", \"2024-07-17T00:00:00\", \"2024-07-17T00:00:00\", \"2024-07-17T00:00:00\", \"2024-07-17T00:00:00\", \"2024-07-17T00:00:00\", \"2024-07-17T00:00:00\", \"2024-07-18T00:00:00\", \"2024-07-18T00:00:00\", \"2024-07-18T00:00:00\", \"2024-07-18T00:00:00\", \"2024-07-18T00:00:00\", \"2024-07-18T00:00:00\", \"2024-07-18T00:00:00\", \"2024-07-19T00:00:00\", \"2024-07-19T00:00:00\", \"2024-07-19T00:00:00\", \"2024-07-19T00:00:00\", \"2024-07-19T00:00:00\", \"2024-07-19T00:00:00\", \"2024-07-19T00:00:00\", \"2024-07-20T00:00:00\", \"2024-07-20T00:00:00\", \"2024-07-20T00:00:00\", \"2024-07-20T00:00:00\", \"2024-07-20T00:00:00\", \"2024-07-20T00:00:00\", \"2024-07-20T00:00:00\", \"2024-07-21T00:00:00\", \"2024-07-21T00:00:00\", \"2024-07-21T00:00:00\", \"2024-07-21T00:00:00\", \"2024-07-21T00:00:00\", \"2024-07-21T00:00:00\", \"2024-07-21T00:00:00\", \"2024-07-22T00:00:00\", \"2024-07-22T00:00:00\", \"2024-07-22T00:00:00\", \"2024-07-22T00:00:00\", \"2024-07-22T00:00:00\", \"2024-07-22T00:00:00\", \"2024-07-22T00:00:00\", \"2024-07-23T00:00:00\", \"2024-07-23T00:00:00\", \"2024-07-23T00:00:00\", \"2024-07-23T00:00:00\", \"2024-07-23T00:00:00\", \"2024-07-23T00:00:00\", \"2024-07-23T00:00:00\", \"2024-07-24T00:00:00\", \"2024-07-24T00:00:00\", \"2024-07-24T00:00:00\", \"2024-07-24T00:00:00\", \"2024-07-24T00:00:00\", \"2024-07-24T00:00:00\", \"2024-07-24T00:00:00\", \"2024-07-25T00:00:00\", \"2024-07-25T00:00:00\", \"2024-07-25T00:00:00\", \"2024-07-25T00:00:00\", \"2024-07-25T00:00:00\", \"2024-07-25T00:00:00\", \"2024-07-25T00:00:00\", \"2024-07-26T00:00:00\", \"2024-07-26T00:00:00\", \"2024-07-26T00:00:00\", \"2024-07-26T00:00:00\", \"2024-07-26T00:00:00\", \"2024-07-26T00:00:00\", \"2024-07-26T00:00:00\", \"2024-07-27T00:00:00\", \"2024-07-27T00:00:00\", \"2024-07-27T00:00:00\", \"2024-07-27T00:00:00\", \"2024-07-27T00:00:00\", \"2024-07-27T00:00:00\", \"2024-07-27T00:00:00\", \"2024-07-28T00:00:00\", \"2024-07-28T00:00:00\", \"2024-07-28T00:00:00\", \"2024-07-28T00:00:00\", \"2024-07-28T00:00:00\", \"2024-07-28T00:00:00\", \"2024-07-28T00:00:00\", \"2024-07-29T00:00:00\", \"2024-07-29T00:00:00\", \"2024-07-29T00:00:00\", \"2024-07-29T00:00:00\", \"2024-07-29T00:00:00\", \"2024-07-29T00:00:00\", \"2024-07-29T00:00:00\", \"2024-07-30T00:00:00\", \"2024-07-30T00:00:00\", \"2024-07-30T00:00:00\", \"2024-07-30T00:00:00\", \"2024-07-30T00:00:00\", \"2024-07-30T00:00:00\", \"2024-07-30T00:00:00\", \"2024-07-31T00:00:00\", \"2024-07-31T00:00:00\", \"2024-07-31T00:00:00\", \"2024-07-31T00:00:00\", \"2024-07-31T00:00:00\", \"2024-07-31T00:00:00\", \"2024-07-31T00:00:00\", \"2024-08-01T00:00:00\", \"2024-08-01T00:00:00\", \"2024-08-01T00:00:00\", \"2024-08-01T00:00:00\", \"2024-08-01T00:00:00\", \"2024-08-01T00:00:00\", \"2024-08-01T00:00:00\", \"2024-08-02T00:00:00\", \"2024-08-02T00:00:00\", \"2024-08-02T00:00:00\", \"2024-08-02T00:00:00\", \"2024-08-02T00:00:00\", \"2024-08-02T00:00:00\", \"2024-08-02T00:00:00\", \"2024-08-03T00:00:00\", \"2024-08-03T00:00:00\", \"2024-08-03T00:00:00\", \"2024-08-03T00:00:00\", \"2024-08-03T00:00:00\", \"2024-08-03T00:00:00\", \"2024-08-03T00:00:00\", \"2024-08-04T00:00:00\", \"2024-08-04T00:00:00\", \"2024-08-04T00:00:00\", \"2024-08-04T00:00:00\", \"2024-08-04T00:00:00\", \"2024-08-04T00:00:00\", \"2024-08-04T00:00:00\", \"2024-08-05T00:00:00\", \"2024-08-05T00:00:00\", \"2024-08-05T00:00:00\", \"2024-08-05T00:00:00\", \"2024-08-05T00:00:00\", \"2024-08-05T00:00:00\", \"2024-08-05T00:00:00\", \"2024-08-06T00:00:00\", \"2024-08-06T00:00:00\", \"2024-08-06T00:00:00\", \"2024-08-06T00:00:00\", \"2024-08-06T00:00:00\", \"2024-08-06T00:00:00\", \"2024-08-06T00:00:00\", \"2024-08-07T00:00:00\", \"2024-08-07T00:00:00\", \"2024-08-07T00:00:00\", \"2024-08-07T00:00:00\", \"2024-08-07T00:00:00\", \"2024-08-07T00:00:00\", \"2024-08-07T00:00:00\", \"2024-08-08T00:00:00\", \"2024-08-08T00:00:00\", \"2024-08-08T00:00:00\", \"2024-08-08T00:00:00\", \"2024-08-08T00:00:00\", \"2024-08-08T00:00:00\", \"2024-08-08T00:00:00\", \"2024-08-09T00:00:00\", \"2024-08-09T00:00:00\", \"2024-08-09T00:00:00\", \"2024-08-09T00:00:00\", \"2024-08-09T00:00:00\", \"2024-08-09T00:00:00\", \"2024-08-09T00:00:00\", \"2024-08-10T00:00:00\", \"2024-08-10T00:00:00\", \"2024-08-10T00:00:00\", \"2024-08-10T00:00:00\", \"2024-08-10T00:00:00\", \"2024-08-10T00:00:00\", \"2024-08-10T00:00:00\", \"2024-08-11T00:00:00\", \"2024-08-11T00:00:00\", \"2024-08-11T00:00:00\", \"2024-08-11T00:00:00\", \"2024-08-11T00:00:00\", \"2024-08-11T00:00:00\", \"2024-08-11T00:00:00\", \"2024-08-12T00:00:00\", \"2024-08-12T00:00:00\", \"2024-08-12T00:00:00\", \"2024-08-12T00:00:00\", \"2024-08-12T00:00:00\", \"2024-08-12T00:00:00\", \"2024-08-12T00:00:00\", \"2024-08-13T00:00:00\", \"2024-08-13T00:00:00\", \"2024-08-13T00:00:00\", \"2024-08-13T00:00:00\", \"2024-08-13T00:00:00\", \"2024-08-13T00:00:00\", \"2024-08-13T00:00:00\", \"2024-08-14T00:00:00\", \"2024-08-14T00:00:00\", \"2024-08-14T00:00:00\", \"2024-08-14T00:00:00\", \"2024-08-14T00:00:00\", \"2024-08-14T00:00:00\", \"2024-08-14T00:00:00\", \"2024-08-15T00:00:00\", \"2024-08-15T00:00:00\", \"2024-08-15T00:00:00\", \"2024-08-15T00:00:00\", \"2024-08-15T00:00:00\", \"2024-08-15T00:00:00\", \"2024-08-15T00:00:00\", \"2024-08-16T00:00:00\", \"2024-08-16T00:00:00\", \"2024-08-16T00:00:00\", \"2024-08-16T00:00:00\", \"2024-08-16T00:00:00\", \"2024-08-16T00:00:00\", \"2024-08-16T00:00:00\", \"2024-08-17T00:00:00\", \"2024-08-17T00:00:00\", \"2024-08-17T00:00:00\", \"2024-08-17T00:00:00\", \"2024-08-17T00:00:00\", \"2024-08-17T00:00:00\", \"2024-08-17T00:00:00\", \"2024-08-18T00:00:00\", \"2024-08-18T00:00:00\", \"2024-08-18T00:00:00\", \"2024-08-18T00:00:00\", \"2024-08-18T00:00:00\", \"2024-08-18T00:00:00\", \"2024-08-18T00:00:00\", \"2024-08-19T00:00:00\", \"2024-08-19T00:00:00\", \"2024-08-19T00:00:00\", \"2024-08-19T00:00:00\", \"2024-08-19T00:00:00\", \"2024-08-19T00:00:00\", \"2024-08-19T00:00:00\", \"2024-08-20T00:00:00\", \"2024-08-20T00:00:00\", \"2024-08-20T00:00:00\", \"2024-08-20T00:00:00\", \"2024-08-20T00:00:00\", \"2024-08-20T00:00:00\", \"2024-08-20T00:00:00\", \"2024-08-21T00:00:00\", \"2024-08-21T00:00:00\", \"2024-08-21T00:00:00\", \"2024-08-21T00:00:00\", \"2024-08-21T00:00:00\", \"2024-08-21T00:00:00\", \"2024-08-21T00:00:00\", \"2024-08-22T00:00:00\", \"2024-08-22T00:00:00\", \"2024-08-22T00:00:00\", \"2024-08-22T00:00:00\", \"2024-08-22T00:00:00\", \"2024-08-22T00:00:00\", \"2024-08-22T00:00:00\", \"2024-08-23T00:00:00\", \"2024-08-23T00:00:00\", \"2024-08-23T00:00:00\", \"2024-08-23T00:00:00\", \"2024-08-23T00:00:00\", \"2024-08-23T00:00:00\", \"2024-08-23T00:00:00\", \"2024-08-24T00:00:00\", \"2024-08-24T00:00:00\", \"2024-08-24T00:00:00\", \"2024-08-24T00:00:00\", \"2024-08-24T00:00:00\", \"2024-08-24T00:00:00\", \"2024-08-24T00:00:00\", \"2024-08-25T00:00:00\", \"2024-08-25T00:00:00\", \"2024-08-25T00:00:00\", \"2024-08-25T00:00:00\", \"2024-08-25T00:00:00\", \"2024-08-25T00:00:00\", \"2024-08-25T00:00:00\", \"2024-08-26T00:00:00\", \"2024-08-26T00:00:00\", \"2024-08-26T00:00:00\", \"2024-08-26T00:00:00\", \"2024-08-27T00:00:00\", \"2024-08-27T00:00:00\", \"2024-08-27T00:00:00\", \"2024-08-27T00:00:00\", \"2024-08-28T00:00:00\", \"2024-08-28T00:00:00\", \"2024-08-28T00:00:00\", \"2024-08-28T00:00:00\", \"2024-08-29T00:00:00\", \"2024-08-29T00:00:00\", \"2024-08-29T00:00:00\", \"2024-08-29T00:00:00\"], \"y\": [23.0, 23.0, 23.0, 23.0, 23.0, 81.0, 81.0, 81.0, 81.0, 81.0, 16.0, 16.0, 16.0, 16.0, 16.0, 4.0, 4.0, 4.0, 4.0, 4.0, 2.0, 2.0, 2.0, 2.0, 2.0, 29.0, 29.0, 29.0, 29.0, 29.0, 29.0, 29.0, 1.0, 1.0, 1.0, 1.0, 1.0, 1.0, 1.0, 6.0, 6.0, 6.0, 6.0, 6.0, 6.0, 6.0, 24.0, 24.0, 24.0, 24.0, 24.0, 24.0, 24.0, 51.0, 51.0, 51.0, 51.0, 51.0, 51.0, 51.0, 50.0, 50.0, 50.0, 50.0, 50.0, 50.0, 50.0, 30.0, 30.0, 30.0, 30.0, 30.0, 30.0, 30.0, 15.0, 15.0, 15.0, 15.0, 15.0, 15.0, 15.0, 45.0, 45.0, 45.0, 45.0, 45.0, 45.0, 45.0, 12.0, 12.0, 12.0, 12.0, 12.0, 12.0, 12.0, 15.0, 15.0, 15.0, 15.0, 15.0, 15.0, 15.0, 14.0, 14.0, 14.0, 14.0, 14.0, 14.0, 14.0, 2.0, 2.0, 2.0, 2.0, 2.0, 2.0, 2.0, 2.0, 2.0, 2.0, 2.0, 2.0, 2.0, 2.0, 39.0, 39.0, 39.0, 39.0, 39.0, 39.0, 39.0, 25.0, 25.0, 25.0, 25.0, 25.0, 25.0, 25.0, 19.0, 19.0, 19.0, 19.0, 19.0, 19.0, 19.0, 85.0, 85.0, 85.0, 85.0, 85.0, 85.0, 85.0, 56.0, 56.0, 56.0, 56.0, 56.0, 56.0, 56.0, 52.0, 52.0, 52.0, 52.0, 52.0, 52.0, 52.0, 67.0, 67.0, 67.0, 67.0, 67.0, 67.0, 67.0, 41.0, 41.0, 41.0, 41.0, 41.0, 41.0, 41.0, 14.0, 14.0, 14.0, 14.0, 14.0, 14.0, 14.0, 11.0, 11.0, 11.0, 11.0, 11.0, 11.0, 11.0, 56.0, 56.0, 56.0, 56.0, 56.0, 56.0, 56.0, 65.0, 65.0, 65.0, 65.0, 65.0, 65.0, 65.0, 87.0, 87.0, 87.0, 87.0, 87.0, 87.0, 87.0, 79.0, 79.0, 79.0, 79.0, 79.0, 79.0, 79.0, 67.0, 67.0, 67.0, 67.0, 67.0, 67.0, 67.0, 12.0, 12.0, 12.0, 12.0, 12.0, 12.0, 12.0, 23.0, 23.0, 23.0, 23.0, 23.0, 23.0, 23.0, 96.0, 96.0, 96.0, 96.0, 96.0, 96.0, 96.0, 82.0, 82.0, 82.0, 82.0, 82.0, 82.0, 82.0, 63.0, 63.0, 63.0, 63.0, 63.0, 63.0, 63.0, 86.0, 86.0, 86.0, 86.0, 86.0, 86.0, 86.0, 70.0, 70.0, 70.0, 70.0, 70.0, 70.0, 70.0, 23.0, 23.0, 23.0, 23.0, 23.0, 23.0, 23.0, 35.0, 35.0, 35.0, 35.0, 35.0, 35.0, 35.0, 104.0, 104.0, 104.0, 104.0, 104.0, 104.0, 104.0, 77.0, 77.0, 77.0, 77.0, 77.0, 77.0, 77.0, 85.0, 85.0, 85.0, 85.0, 85.0, 85.0, 85.0, 106.0, 106.0, 106.0, 106.0, 106.0, 106.0, 106.0, 70.0, 70.0, 70.0, 70.0, 70.0, 70.0, 70.0, 17.0, 17.0, 17.0, 17.0, 17.0, 17.0, 17.0, 24.0, 24.0, 24.0, 24.0, 24.0, 24.0, 24.0, 72.0, 72.0, 72.0, 72.0, 72.0, 72.0, 72.0, 50.0, 50.0, 50.0, 50.0, 50.0, 50.0, 50.0, 61.0, 61.0, 61.0, 61.0, 61.0, 61.0, 61.0, 77.0, 77.0, 77.0, 77.0, 77.0, 77.0, 77.0, 62.0, 62.0, 62.0, 62.0, 62.0, 62.0, 62.0, 25.0, 25.0, 25.0, 25.0, 25.0, 25.0, 25.0, 33.0, 33.0, 33.0, 33.0, 33.0, 33.0, 33.0, 104.0, 104.0, 104.0, 104.0, 104.0, 104.0, 104.0, 97.0, 97.0, 97.0, 97.0, 97.0, 97.0, 97.0, 88.0, 88.0, 88.0, 88.0, 88.0, 88.0, 88.0, 119.0, 119.0, 119.0, 119.0, 119.0, 119.0, 119.0, 50.0, 50.0, 50.0, 50.0, 50.0, 50.0, 50.0, 12.0, 12.0, 12.0, 12.0, 12.0, 12.0, 12.0, 21.0, 21.0, 21.0, 21.0, 21.0, 21.0, 21.0, 62.0, 62.0, 62.0, 62.0, 65.0, 65.0, 65.0, 65.0, 77.0, 77.0, 77.0, 77.0, 15.0, 15.0, 15.0, 15.0], \"yaxis\": \"y2\"}],                        {\"barmode\": \"relative\", \"legend\": {\"tracegroupgap\": 0}, \"template\": {\"data\": {\"bar\": [{\"error_x\": {\"color\": \"#2a3f5f\"}, \"error_y\": {\"color\": \"#2a3f5f\"}, \"marker\": {\"line\": {\"color\": \"#E5ECF6\", \"width\": 0.5}}, \"type\": \"bar\"}], \"barpolar\": [{\"marker\": {\"line\": {\"color\": \"#E5ECF6\", \"width\": 0.5}}, \"type\": \"barpolar\"}], \"carpet\": [{\"aaxis\": {\"endlinecolor\": \"#2a3f5f\", \"gridcolor\": \"white\", \"linecolor\": \"white\", \"minorgridcolor\": \"white\", \"startlinecolor\": \"#2a3f5f\"}, \"baxis\": {\"endlinecolor\": \"#2a3f5f\", \"gridcolor\": \"white\", \"linecolor\": \"white\", \"minorgridcolor\": \"white\", \"startlinecolor\": \"#2a3f5f\"}, \"type\": \"carpet\"}], \"choropleth\": [{\"colorbar\": {\"outlinewidth\": 0, \"ticks\": \"\"}, \"type\": \"choropleth\"}], \"contour\": [{\"colorbar\": {\"outlinewidth\": 0, \"ticks\": \"\"}, \"colorscale\": [[0.0, \"#0d0887\"], [0.1111111111111111, \"#46039f\"], [0.2222222222222222, \"#7201a8\"], [0.3333333333333333, \"#9c179e\"], [0.4444444444444444, \"#bd3786\"], [0.5555555555555556, \"#d8576b\"], [0.6666666666666666, \"#ed7953\"], [0.7777777777777778, \"#fb9f3a\"], [0.8888888888888888, \"#fdca26\"], [1.0, \"#f0f921\"]], \"type\": \"contour\"}], \"contourcarpet\": [{\"colorbar\": {\"outlinewidth\": 0, \"ticks\": \"\"}, \"type\": \"contourcarpet\"}], \"heatmap\": [{\"colorbar\": {\"outlinewidth\": 0, \"ticks\": \"\"}, \"colorscale\": [[0.0, \"#0d0887\"], [0.1111111111111111, \"#46039f\"], [0.2222222222222222, \"#7201a8\"], [0.3333333333333333, \"#9c179e\"], [0.4444444444444444, \"#bd3786\"], [0.5555555555555556, \"#d8576b\"], [0.6666666666666666, \"#ed7953\"], [0.7777777777777778, \"#fb9f3a\"], [0.8888888888888888, \"#fdca26\"], [1.0, \"#f0f921\"]], \"type\": \"heatmap\"}], \"heatmapgl\": [{\"colorbar\": {\"outlinewidth\": 0, \"ticks\": \"\"}, \"colorscale\": [[0.0, \"#0d0887\"], [0.1111111111111111, \"#46039f\"], [0.2222222222222222, \"#7201a8\"], [0.3333333333333333, \"#9c179e\"], [0.4444444444444444, \"#bd3786\"], [0.5555555555555556, \"#d8576b\"], [0.6666666666666666, \"#ed7953\"], [0.7777777777777778, \"#fb9f3a\"], [0.8888888888888888, \"#fdca26\"], [1.0, \"#f0f921\"]], \"type\": \"heatmapgl\"}], \"histogram\": [{\"marker\": {\"colorbar\": {\"outlinewidth\": 0, \"ticks\": \"\"}}, \"type\": \"histogram\"}], \"histogram2d\": [{\"colorbar\": {\"outlinewidth\": 0, \"ticks\": \"\"}, \"colorscale\": [[0.0, \"#0d0887\"], [0.1111111111111111, \"#46039f\"], [0.2222222222222222, \"#7201a8\"], [0.3333333333333333, \"#9c179e\"], [0.4444444444444444, \"#bd3786\"], [0.5555555555555556, \"#d8576b\"], [0.6666666666666666, \"#ed7953\"], [0.7777777777777778, \"#fb9f3a\"], [0.8888888888888888, \"#fdca26\"], [1.0, \"#f0f921\"]], \"type\": \"histogram2d\"}], \"histogram2dcontour\": [{\"colorbar\": {\"outlinewidth\": 0, \"ticks\": \"\"}, \"colorscale\": [[0.0, \"#0d0887\"], [0.1111111111111111, \"#46039f\"], [0.2222222222222222, \"#7201a8\"], [0.3333333333333333, \"#9c179e\"], [0.4444444444444444, \"#bd3786\"], [0.5555555555555556, \"#d8576b\"], [0.6666666666666666, \"#ed7953\"], [0.7777777777777778, \"#fb9f3a\"], [0.8888888888888888, \"#fdca26\"], [1.0, \"#f0f921\"]], \"type\": \"histogram2dcontour\"}], \"mesh3d\": [{\"colorbar\": {\"outlinewidth\": 0, \"ticks\": \"\"}, \"type\": \"mesh3d\"}], \"parcoords\": [{\"line\": {\"colorbar\": {\"outlinewidth\": 0, \"ticks\": \"\"}}, \"type\": \"parcoords\"}], \"pie\": [{\"automargin\": true, \"type\": \"pie\"}], \"scatter\": [{\"marker\": {\"colorbar\": {\"outlinewidth\": 0, \"ticks\": \"\"}}, \"type\": \"scatter\"}], \"scatter3d\": [{\"line\": {\"colorbar\": {\"outlinewidth\": 0, \"ticks\": \"\"}}, \"marker\": {\"colorbar\": {\"outlinewidth\": 0, \"ticks\": \"\"}}, \"type\": \"scatter3d\"}], \"scattercarpet\": [{\"marker\": {\"colorbar\": {\"outlinewidth\": 0, \"ticks\": \"\"}}, \"type\": \"scattercarpet\"}], \"scattergeo\": [{\"marker\": {\"colorbar\": {\"outlinewidth\": 0, \"ticks\": \"\"}}, \"type\": \"scattergeo\"}], \"scattergl\": [{\"marker\": {\"colorbar\": {\"outlinewidth\": 0, \"ticks\": \"\"}}, \"type\": \"scattergl\"}], \"scattermapbox\": [{\"marker\": {\"colorbar\": {\"outlinewidth\": 0, \"ticks\": \"\"}}, \"type\": \"scattermapbox\"}], \"scatterpolar\": [{\"marker\": {\"colorbar\": {\"outlinewidth\": 0, \"ticks\": \"\"}}, \"type\": \"scatterpolar\"}], \"scatterpolargl\": [{\"marker\": {\"colorbar\": {\"outlinewidth\": 0, \"ticks\": \"\"}}, \"type\": \"scatterpolargl\"}], \"scatterternary\": [{\"marker\": {\"colorbar\": {\"outlinewidth\": 0, \"ticks\": \"\"}}, \"type\": \"scatterternary\"}], \"surface\": [{\"colorbar\": {\"outlinewidth\": 0, \"ticks\": \"\"}, \"colorscale\": [[0.0, \"#0d0887\"], [0.1111111111111111, \"#46039f\"], [0.2222222222222222, \"#7201a8\"], [0.3333333333333333, \"#9c179e\"], [0.4444444444444444, \"#bd3786\"], [0.5555555555555556, \"#d8576b\"], [0.6666666666666666, \"#ed7953\"], [0.7777777777777778, \"#fb9f3a\"], [0.8888888888888888, \"#fdca26\"], [1.0, \"#f0f921\"]], \"type\": \"surface\"}], \"table\": [{\"cells\": {\"fill\": {\"color\": \"#EBF0F8\"}, \"line\": {\"color\": \"white\"}}, \"header\": {\"fill\": {\"color\": \"#C8D4E3\"}, \"line\": {\"color\": \"white\"}}, \"type\": \"table\"}]}, \"layout\": {\"annotationdefaults\": {\"arrowcolor\": \"#2a3f5f\", \"arrowhead\": 0, \"arrowwidth\": 1}, \"autotypenumbers\": \"strict\", \"coloraxis\": {\"colorbar\": {\"outlinewidth\": 0, \"ticks\": \"\"}}, \"colorscale\": {\"diverging\": [[0, \"#8e0152\"], [0.1, \"#c51b7d\"], [0.2, \"#de77ae\"], [0.3, \"#f1b6da\"], [0.4, \"#fde0ef\"], [0.5, \"#f7f7f7\"], [0.6, \"#e6f5d0\"], [0.7, \"#b8e186\"], [0.8, \"#7fbc41\"], [0.9, \"#4d9221\"], [1, \"#276419\"]], \"sequential\": [[0.0, \"#0d0887\"], [0.1111111111111111, \"#46039f\"], [0.2222222222222222, \"#7201a8\"], [0.3333333333333333, \"#9c179e\"], [0.4444444444444444, \"#bd3786\"], [0.5555555555555556, \"#d8576b\"], [0.6666666666666666, \"#ed7953\"], [0.7777777777777778, \"#fb9f3a\"], [0.8888888888888888, \"#fdca26\"], [1.0, \"#f0f921\"]], \"sequentialminus\": [[0.0, \"#0d0887\"], [0.1111111111111111, \"#46039f\"], [0.2222222222222222, \"#7201a8\"], [0.3333333333333333, \"#9c179e\"], [0.4444444444444444, \"#bd3786\"], [0.5555555555555556, \"#d8576b\"], [0.6666666666666666, \"#ed7953\"], [0.7777777777777778, \"#fb9f3a\"], [0.8888888888888888, \"#fdca26\"], [1.0, \"#f0f921\"]]}, \"colorway\": [\"#636efa\", \"#EF553B\", \"#00cc96\", \"#ab63fa\", \"#FFA15A\", \"#19d3f3\", \"#FF6692\", \"#B6E880\", \"#FF97FF\", \"#FECB52\"], \"font\": {\"color\": \"#2a3f5f\"}, \"geo\": {\"bgcolor\": \"white\", \"lakecolor\": \"white\", \"landcolor\": \"#E5ECF6\", \"showlakes\": true, \"showland\": true, \"subunitcolor\": \"white\"}, \"hoverlabel\": {\"align\": \"left\"}, \"hovermode\": \"closest\", \"mapbox\": {\"style\": \"light\"}, \"paper_bgcolor\": \"white\", \"plot_bgcolor\": \"#E5ECF6\", \"polar\": {\"angularaxis\": {\"gridcolor\": \"white\", \"linecolor\": \"white\", \"ticks\": \"\"}, \"bgcolor\": \"#E5ECF6\", \"radialaxis\": {\"gridcolor\": \"white\", \"linecolor\": \"white\", \"ticks\": \"\"}}, \"scene\": {\"xaxis\": {\"backgroundcolor\": \"#E5ECF6\", \"gridcolor\": \"white\", \"gridwidth\": 2, \"linecolor\": \"white\", \"showbackground\": true, \"ticks\": \"\", \"zerolinecolor\": \"white\"}, \"yaxis\": {\"backgroundcolor\": \"#E5ECF6\", \"gridcolor\": \"white\", \"gridwidth\": 2, \"linecolor\": \"white\", \"showbackground\": true, \"ticks\": \"\", \"zerolinecolor\": \"white\"}, \"zaxis\": {\"backgroundcolor\": \"#E5ECF6\", \"gridcolor\": \"white\", \"gridwidth\": 2, \"linecolor\": \"white\", \"showbackground\": true, \"ticks\": \"\", \"zerolinecolor\": \"white\"}}, \"shapedefaults\": {\"line\": {\"color\": \"#2a3f5f\"}}, \"ternary\": {\"aaxis\": {\"gridcolor\": \"white\", \"linecolor\": \"white\", \"ticks\": \"\"}, \"baxis\": {\"gridcolor\": \"white\", \"linecolor\": \"white\", \"ticks\": \"\"}, \"bgcolor\": \"#E5ECF6\", \"caxis\": {\"gridcolor\": \"white\", \"linecolor\": \"white\", \"ticks\": \"\"}}, \"title\": {\"x\": 0.05}, \"xaxis\": {\"automargin\": true, \"gridcolor\": \"white\", \"linecolor\": \"white\", \"ticks\": \"\", \"title\": {\"standoff\": 15}, \"zerolinecolor\": \"white\", \"zerolinewidth\": 2}, \"yaxis\": {\"automargin\": true, \"gridcolor\": \"white\", \"linecolor\": \"white\", \"ticks\": \"\", \"title\": {\"standoff\": 15}, \"zerolinecolor\": \"white\", \"zerolinewidth\": 2}}}, \"title\": {\"text\": \"Cantidad y Clientes\"}, \"xaxis\": {\"anchor\": \"y\", \"domain\": [0.0, 1.0], \"title\": {\"text\": \"Fecha\"}}, \"yaxis\": {\"anchor\": \"x\", \"domain\": [0.0, 1.0], \"title\": {\"text\": \"Cantidad\"}}, \"yaxis2\": {\"overlaying\": \"y\", \"side\": \"right\", \"title\": {\"text\": \"Clientes\"}}},                        {\"responsive\": true}                    ).then(function(){\n",
       "                            \n",
       "var gd = document.getElementById('0602ecca-a358-4d59-89d0-20542e14196a');\n",
       "var x = new MutationObserver(function (mutations, observer) {{\n",
       "        var display = window.getComputedStyle(gd).display;\n",
       "        if (!display || display === 'none') {{\n",
       "            console.log([gd, 'removed!']);\n",
       "            Plotly.purge(gd);\n",
       "            observer.disconnect();\n",
       "        }}\n",
       "}});\n",
       "\n",
       "// Listen for the removal of the full notebook cells\n",
       "var notebookContainer = gd.closest('#notebook-container');\n",
       "if (notebookContainer) {{\n",
       "    x.observe(notebookContainer, {childList: true});\n",
       "}}\n",
       "\n",
       "// Listen for the clearing of the current output cell\n",
       "var outputEl = gd.closest('.output');\n",
       "if (outputEl) {{\n",
       "    x.observe(outputEl, {childList: true});\n",
       "}}\n",
       "\n",
       "                        })                };                });            </script>        </div>"
      ]
     },
     "metadata": {},
     "output_type": "display_data"
    },
    {
     "data": {
      "application/vnd.plotly.v1+json": {
       "config": {
        "plotlyServerURL": "https://plot.ly"
       },
       "data": [
        {
         "alignmentgroup": "True",
         "hovertemplate": "Semana=%{x}<br>Cantidad=%{y}<extra></extra>",
         "legendgroup": "",
         "marker": {
          "color": "#636efa"
         },
         "name": "",
         "offsetgroup": "",
         "orientation": "v",
         "showlegend": false,
         "textposition": "auto",
         "type": "bar",
         "x": [
          "2024-04-29T00:00:00",
          "2024-05-13T00:00:00",
          "2024-05-20T00:00:00",
          "2024-05-27T00:00:00",
          "2024-06-03T00:00:00",
          "2024-07-08T00:00:00",
          "2024-07-15T00:00:00",
          "2024-07-22T00:00:00",
          "2024-07-29T00:00:00",
          "2024-08-05T00:00:00",
          "2024-08-12T00:00:00",
          "2024-08-19T00:00:00",
          "2024-08-26T00:00:00"
         ],
         "xaxis": "x",
         "y": [
          18060,
          7056,
          6552,
          43428,
          3185,
          17976,
          62244,
          73416,
          75936,
          87612,
          64008,
          81396,
          19920
         ],
         "yaxis": "y"
        },
        {
         "mode": "lines+markers",
         "name": "Clientes",
         "type": "scatter",
         "x": [
          "2024-04-29T00:00:00",
          "2024-05-13T00:00:00",
          "2024-05-20T00:00:00",
          "2024-05-27T00:00:00",
          "2024-06-03T00:00:00",
          "2024-07-08T00:00:00",
          "2024-07-15T00:00:00",
          "2024-07-22T00:00:00",
          "2024-07-29T00:00:00",
          "2024-08-05T00:00:00",
          "2024-08-12T00:00:00",
          "2024-08-19T00:00:00",
          "2024-08-26T00:00:00"
         ],
         "y": [
          630,
          210,
          210,
          1526,
          126,
          581,
          2282,
          2723,
          3185,
          3381,
          2660,
          3437,
          876
         ],
         "yaxis": "y2"
        }
       ],
       "layout": {
        "barmode": "relative",
        "legend": {
         "tracegroupgap": 0
        },
        "template": {
         "data": {
          "bar": [
           {
            "error_x": {
             "color": "#2a3f5f"
            },
            "error_y": {
             "color": "#2a3f5f"
            },
            "marker": {
             "line": {
              "color": "#E5ECF6",
              "width": 0.5
             }
            },
            "type": "bar"
           }
          ],
          "barpolar": [
           {
            "marker": {
             "line": {
              "color": "#E5ECF6",
              "width": 0.5
             }
            },
            "type": "barpolar"
           }
          ],
          "carpet": [
           {
            "aaxis": {
             "endlinecolor": "#2a3f5f",
             "gridcolor": "white",
             "linecolor": "white",
             "minorgridcolor": "white",
             "startlinecolor": "#2a3f5f"
            },
            "baxis": {
             "endlinecolor": "#2a3f5f",
             "gridcolor": "white",
             "linecolor": "white",
             "minorgridcolor": "white",
             "startlinecolor": "#2a3f5f"
            },
            "type": "carpet"
           }
          ],
          "choropleth": [
           {
            "colorbar": {
             "outlinewidth": 0,
             "ticks": ""
            },
            "type": "choropleth"
           }
          ],
          "contour": [
           {
            "colorbar": {
             "outlinewidth": 0,
             "ticks": ""
            },
            "colorscale": [
             [
              0,
              "#0d0887"
             ],
             [
              0.1111111111111111,
              "#46039f"
             ],
             [
              0.2222222222222222,
              "#7201a8"
             ],
             [
              0.3333333333333333,
              "#9c179e"
             ],
             [
              0.4444444444444444,
              "#bd3786"
             ],
             [
              0.5555555555555556,
              "#d8576b"
             ],
             [
              0.6666666666666666,
              "#ed7953"
             ],
             [
              0.7777777777777778,
              "#fb9f3a"
             ],
             [
              0.8888888888888888,
              "#fdca26"
             ],
             [
              1,
              "#f0f921"
             ]
            ],
            "type": "contour"
           }
          ],
          "contourcarpet": [
           {
            "colorbar": {
             "outlinewidth": 0,
             "ticks": ""
            },
            "type": "contourcarpet"
           }
          ],
          "heatmap": [
           {
            "colorbar": {
             "outlinewidth": 0,
             "ticks": ""
            },
            "colorscale": [
             [
              0,
              "#0d0887"
             ],
             [
              0.1111111111111111,
              "#46039f"
             ],
             [
              0.2222222222222222,
              "#7201a8"
             ],
             [
              0.3333333333333333,
              "#9c179e"
             ],
             [
              0.4444444444444444,
              "#bd3786"
             ],
             [
              0.5555555555555556,
              "#d8576b"
             ],
             [
              0.6666666666666666,
              "#ed7953"
             ],
             [
              0.7777777777777778,
              "#fb9f3a"
             ],
             [
              0.8888888888888888,
              "#fdca26"
             ],
             [
              1,
              "#f0f921"
             ]
            ],
            "type": "heatmap"
           }
          ],
          "heatmapgl": [
           {
            "colorbar": {
             "outlinewidth": 0,
             "ticks": ""
            },
            "colorscale": [
             [
              0,
              "#0d0887"
             ],
             [
              0.1111111111111111,
              "#46039f"
             ],
             [
              0.2222222222222222,
              "#7201a8"
             ],
             [
              0.3333333333333333,
              "#9c179e"
             ],
             [
              0.4444444444444444,
              "#bd3786"
             ],
             [
              0.5555555555555556,
              "#d8576b"
             ],
             [
              0.6666666666666666,
              "#ed7953"
             ],
             [
              0.7777777777777778,
              "#fb9f3a"
             ],
             [
              0.8888888888888888,
              "#fdca26"
             ],
             [
              1,
              "#f0f921"
             ]
            ],
            "type": "heatmapgl"
           }
          ],
          "histogram": [
           {
            "marker": {
             "colorbar": {
              "outlinewidth": 0,
              "ticks": ""
             }
            },
            "type": "histogram"
           }
          ],
          "histogram2d": [
           {
            "colorbar": {
             "outlinewidth": 0,
             "ticks": ""
            },
            "colorscale": [
             [
              0,
              "#0d0887"
             ],
             [
              0.1111111111111111,
              "#46039f"
             ],
             [
              0.2222222222222222,
              "#7201a8"
             ],
             [
              0.3333333333333333,
              "#9c179e"
             ],
             [
              0.4444444444444444,
              "#bd3786"
             ],
             [
              0.5555555555555556,
              "#d8576b"
             ],
             [
              0.6666666666666666,
              "#ed7953"
             ],
             [
              0.7777777777777778,
              "#fb9f3a"
             ],
             [
              0.8888888888888888,
              "#fdca26"
             ],
             [
              1,
              "#f0f921"
             ]
            ],
            "type": "histogram2d"
           }
          ],
          "histogram2dcontour": [
           {
            "colorbar": {
             "outlinewidth": 0,
             "ticks": ""
            },
            "colorscale": [
             [
              0,
              "#0d0887"
             ],
             [
              0.1111111111111111,
              "#46039f"
             ],
             [
              0.2222222222222222,
              "#7201a8"
             ],
             [
              0.3333333333333333,
              "#9c179e"
             ],
             [
              0.4444444444444444,
              "#bd3786"
             ],
             [
              0.5555555555555556,
              "#d8576b"
             ],
             [
              0.6666666666666666,
              "#ed7953"
             ],
             [
              0.7777777777777778,
              "#fb9f3a"
             ],
             [
              0.8888888888888888,
              "#fdca26"
             ],
             [
              1,
              "#f0f921"
             ]
            ],
            "type": "histogram2dcontour"
           }
          ],
          "mesh3d": [
           {
            "colorbar": {
             "outlinewidth": 0,
             "ticks": ""
            },
            "type": "mesh3d"
           }
          ],
          "parcoords": [
           {
            "line": {
             "colorbar": {
              "outlinewidth": 0,
              "ticks": ""
             }
            },
            "type": "parcoords"
           }
          ],
          "pie": [
           {
            "automargin": true,
            "type": "pie"
           }
          ],
          "scatter": [
           {
            "marker": {
             "colorbar": {
              "outlinewidth": 0,
              "ticks": ""
             }
            },
            "type": "scatter"
           }
          ],
          "scatter3d": [
           {
            "line": {
             "colorbar": {
              "outlinewidth": 0,
              "ticks": ""
             }
            },
            "marker": {
             "colorbar": {
              "outlinewidth": 0,
              "ticks": ""
             }
            },
            "type": "scatter3d"
           }
          ],
          "scattercarpet": [
           {
            "marker": {
             "colorbar": {
              "outlinewidth": 0,
              "ticks": ""
             }
            },
            "type": "scattercarpet"
           }
          ],
          "scattergeo": [
           {
            "marker": {
             "colorbar": {
              "outlinewidth": 0,
              "ticks": ""
             }
            },
            "type": "scattergeo"
           }
          ],
          "scattergl": [
           {
            "marker": {
             "colorbar": {
              "outlinewidth": 0,
              "ticks": ""
             }
            },
            "type": "scattergl"
           }
          ],
          "scattermapbox": [
           {
            "marker": {
             "colorbar": {
              "outlinewidth": 0,
              "ticks": ""
             }
            },
            "type": "scattermapbox"
           }
          ],
          "scatterpolar": [
           {
            "marker": {
             "colorbar": {
              "outlinewidth": 0,
              "ticks": ""
             }
            },
            "type": "scatterpolar"
           }
          ],
          "scatterpolargl": [
           {
            "marker": {
             "colorbar": {
              "outlinewidth": 0,
              "ticks": ""
             }
            },
            "type": "scatterpolargl"
           }
          ],
          "scatterternary": [
           {
            "marker": {
             "colorbar": {
              "outlinewidth": 0,
              "ticks": ""
             }
            },
            "type": "scatterternary"
           }
          ],
          "surface": [
           {
            "colorbar": {
             "outlinewidth": 0,
             "ticks": ""
            },
            "colorscale": [
             [
              0,
              "#0d0887"
             ],
             [
              0.1111111111111111,
              "#46039f"
             ],
             [
              0.2222222222222222,
              "#7201a8"
             ],
             [
              0.3333333333333333,
              "#9c179e"
             ],
             [
              0.4444444444444444,
              "#bd3786"
             ],
             [
              0.5555555555555556,
              "#d8576b"
             ],
             [
              0.6666666666666666,
              "#ed7953"
             ],
             [
              0.7777777777777778,
              "#fb9f3a"
             ],
             [
              0.8888888888888888,
              "#fdca26"
             ],
             [
              1,
              "#f0f921"
             ]
            ],
            "type": "surface"
           }
          ],
          "table": [
           {
            "cells": {
             "fill": {
              "color": "#EBF0F8"
             },
             "line": {
              "color": "white"
             }
            },
            "header": {
             "fill": {
              "color": "#C8D4E3"
             },
             "line": {
              "color": "white"
             }
            },
            "type": "table"
           }
          ]
         },
         "layout": {
          "annotationdefaults": {
           "arrowcolor": "#2a3f5f",
           "arrowhead": 0,
           "arrowwidth": 1
          },
          "autotypenumbers": "strict",
          "coloraxis": {
           "colorbar": {
            "outlinewidth": 0,
            "ticks": ""
           }
          },
          "colorscale": {
           "diverging": [
            [
             0,
             "#8e0152"
            ],
            [
             0.1,
             "#c51b7d"
            ],
            [
             0.2,
             "#de77ae"
            ],
            [
             0.3,
             "#f1b6da"
            ],
            [
             0.4,
             "#fde0ef"
            ],
            [
             0.5,
             "#f7f7f7"
            ],
            [
             0.6,
             "#e6f5d0"
            ],
            [
             0.7,
             "#b8e186"
            ],
            [
             0.8,
             "#7fbc41"
            ],
            [
             0.9,
             "#4d9221"
            ],
            [
             1,
             "#276419"
            ]
           ],
           "sequential": [
            [
             0,
             "#0d0887"
            ],
            [
             0.1111111111111111,
             "#46039f"
            ],
            [
             0.2222222222222222,
             "#7201a8"
            ],
            [
             0.3333333333333333,
             "#9c179e"
            ],
            [
             0.4444444444444444,
             "#bd3786"
            ],
            [
             0.5555555555555556,
             "#d8576b"
            ],
            [
             0.6666666666666666,
             "#ed7953"
            ],
            [
             0.7777777777777778,
             "#fb9f3a"
            ],
            [
             0.8888888888888888,
             "#fdca26"
            ],
            [
             1,
             "#f0f921"
            ]
           ],
           "sequentialminus": [
            [
             0,
             "#0d0887"
            ],
            [
             0.1111111111111111,
             "#46039f"
            ],
            [
             0.2222222222222222,
             "#7201a8"
            ],
            [
             0.3333333333333333,
             "#9c179e"
            ],
            [
             0.4444444444444444,
             "#bd3786"
            ],
            [
             0.5555555555555556,
             "#d8576b"
            ],
            [
             0.6666666666666666,
             "#ed7953"
            ],
            [
             0.7777777777777778,
             "#fb9f3a"
            ],
            [
             0.8888888888888888,
             "#fdca26"
            ],
            [
             1,
             "#f0f921"
            ]
           ]
          },
          "colorway": [
           "#636efa",
           "#EF553B",
           "#00cc96",
           "#ab63fa",
           "#FFA15A",
           "#19d3f3",
           "#FF6692",
           "#B6E880",
           "#FF97FF",
           "#FECB52"
          ],
          "font": {
           "color": "#2a3f5f"
          },
          "geo": {
           "bgcolor": "white",
           "lakecolor": "white",
           "landcolor": "#E5ECF6",
           "showlakes": true,
           "showland": true,
           "subunitcolor": "white"
          },
          "hoverlabel": {
           "align": "left"
          },
          "hovermode": "closest",
          "mapbox": {
           "style": "light"
          },
          "paper_bgcolor": "white",
          "plot_bgcolor": "#E5ECF6",
          "polar": {
           "angularaxis": {
            "gridcolor": "white",
            "linecolor": "white",
            "ticks": ""
           },
           "bgcolor": "#E5ECF6",
           "radialaxis": {
            "gridcolor": "white",
            "linecolor": "white",
            "ticks": ""
           }
          },
          "scene": {
           "xaxis": {
            "backgroundcolor": "#E5ECF6",
            "gridcolor": "white",
            "gridwidth": 2,
            "linecolor": "white",
            "showbackground": true,
            "ticks": "",
            "zerolinecolor": "white"
           },
           "yaxis": {
            "backgroundcolor": "#E5ECF6",
            "gridcolor": "white",
            "gridwidth": 2,
            "linecolor": "white",
            "showbackground": true,
            "ticks": "",
            "zerolinecolor": "white"
           },
           "zaxis": {
            "backgroundcolor": "#E5ECF6",
            "gridcolor": "white",
            "gridwidth": 2,
            "linecolor": "white",
            "showbackground": true,
            "ticks": "",
            "zerolinecolor": "white"
           }
          },
          "shapedefaults": {
           "line": {
            "color": "#2a3f5f"
           }
          },
          "ternary": {
           "aaxis": {
            "gridcolor": "white",
            "linecolor": "white",
            "ticks": ""
           },
           "baxis": {
            "gridcolor": "white",
            "linecolor": "white",
            "ticks": ""
           },
           "bgcolor": "#E5ECF6",
           "caxis": {
            "gridcolor": "white",
            "linecolor": "white",
            "ticks": ""
           }
          },
          "title": {
           "x": 0.05
          },
          "xaxis": {
           "automargin": true,
           "gridcolor": "white",
           "linecolor": "white",
           "ticks": "",
           "title": {
            "standoff": 15
           },
           "zerolinecolor": "white",
           "zerolinewidth": 2
          },
          "yaxis": {
           "automargin": true,
           "gridcolor": "white",
           "linecolor": "white",
           "ticks": "",
           "title": {
            "standoff": 15
           },
           "zerolinecolor": "white",
           "zerolinewidth": 2
          }
         }
        },
        "title": {
         "text": "Cantidad y Clientes por Semana"
        },
        "xaxis": {
         "anchor": "y",
         "domain": [
          0,
          1
         ],
         "title": {
          "text": "Semana"
         }
        },
        "yaxis": {
         "anchor": "x",
         "domain": [
          0,
          1
         ],
         "title": {
          "text": "Cantidad"
         }
        },
        "yaxis2": {
         "overlaying": "y",
         "side": "right",
         "title": {
          "text": "Clientes"
         }
        }
       }
      },
      "text/html": [
       "<div>                            <div id=\"22bf0d78-2edb-4b85-8f23-33fe49bc08e4\" class=\"plotly-graph-div\" style=\"height:525px; width:100%;\"></div>            <script type=\"text/javascript\">                require([\"plotly\"], function(Plotly) {                    window.PLOTLYENV=window.PLOTLYENV || {};                                    if (document.getElementById(\"22bf0d78-2edb-4b85-8f23-33fe49bc08e4\")) {                    Plotly.newPlot(                        \"22bf0d78-2edb-4b85-8f23-33fe49bc08e4\",                        [{\"alignmentgroup\": \"True\", \"hovertemplate\": \"Semana=%{x}<br>Cantidad=%{y}<extra></extra>\", \"legendgroup\": \"\", \"marker\": {\"color\": \"#636efa\"}, \"name\": \"\", \"offsetgroup\": \"\", \"orientation\": \"v\", \"showlegend\": false, \"textposition\": \"auto\", \"type\": \"bar\", \"x\": [\"2024-04-29T00:00:00\", \"2024-05-13T00:00:00\", \"2024-05-20T00:00:00\", \"2024-05-27T00:00:00\", \"2024-06-03T00:00:00\", \"2024-07-08T00:00:00\", \"2024-07-15T00:00:00\", \"2024-07-22T00:00:00\", \"2024-07-29T00:00:00\", \"2024-08-05T00:00:00\", \"2024-08-12T00:00:00\", \"2024-08-19T00:00:00\", \"2024-08-26T00:00:00\"], \"xaxis\": \"x\", \"y\": [18060.0, 7056.0, 6552.0, 43428.0, 3185.0, 17976.0, 62244.0, 73416.0, 75936.0, 87612.0, 64008.0, 81396.0, 19920.0], \"yaxis\": \"y\"}, {\"mode\": \"lines+markers\", \"name\": \"Clientes\", \"type\": \"scatter\", \"x\": [\"2024-04-29T00:00:00\", \"2024-05-13T00:00:00\", \"2024-05-20T00:00:00\", \"2024-05-27T00:00:00\", \"2024-06-03T00:00:00\", \"2024-07-08T00:00:00\", \"2024-07-15T00:00:00\", \"2024-07-22T00:00:00\", \"2024-07-29T00:00:00\", \"2024-08-05T00:00:00\", \"2024-08-12T00:00:00\", \"2024-08-19T00:00:00\", \"2024-08-26T00:00:00\"], \"y\": [630.0, 210.0, 210.0, 1526.0, 126.0, 581.0, 2282.0, 2723.0, 3185.0, 3381.0, 2660.0, 3437.0, 876.0], \"yaxis\": \"y2\"}],                        {\"barmode\": \"relative\", \"legend\": {\"tracegroupgap\": 0}, \"template\": {\"data\": {\"bar\": [{\"error_x\": {\"color\": \"#2a3f5f\"}, \"error_y\": {\"color\": \"#2a3f5f\"}, \"marker\": {\"line\": {\"color\": \"#E5ECF6\", \"width\": 0.5}}, \"type\": \"bar\"}], \"barpolar\": [{\"marker\": {\"line\": {\"color\": \"#E5ECF6\", \"width\": 0.5}}, \"type\": \"barpolar\"}], \"carpet\": [{\"aaxis\": {\"endlinecolor\": \"#2a3f5f\", \"gridcolor\": \"white\", \"linecolor\": \"white\", \"minorgridcolor\": \"white\", \"startlinecolor\": \"#2a3f5f\"}, \"baxis\": {\"endlinecolor\": \"#2a3f5f\", \"gridcolor\": \"white\", \"linecolor\": \"white\", \"minorgridcolor\": \"white\", \"startlinecolor\": \"#2a3f5f\"}, \"type\": \"carpet\"}], \"choropleth\": [{\"colorbar\": {\"outlinewidth\": 0, \"ticks\": \"\"}, \"type\": \"choropleth\"}], \"contour\": [{\"colorbar\": {\"outlinewidth\": 0, \"ticks\": \"\"}, \"colorscale\": [[0.0, \"#0d0887\"], [0.1111111111111111, \"#46039f\"], [0.2222222222222222, \"#7201a8\"], [0.3333333333333333, \"#9c179e\"], [0.4444444444444444, \"#bd3786\"], [0.5555555555555556, \"#d8576b\"], [0.6666666666666666, \"#ed7953\"], [0.7777777777777778, \"#fb9f3a\"], [0.8888888888888888, \"#fdca26\"], [1.0, \"#f0f921\"]], \"type\": \"contour\"}], \"contourcarpet\": [{\"colorbar\": {\"outlinewidth\": 0, \"ticks\": \"\"}, \"type\": \"contourcarpet\"}], \"heatmap\": [{\"colorbar\": {\"outlinewidth\": 0, \"ticks\": \"\"}, \"colorscale\": [[0.0, \"#0d0887\"], [0.1111111111111111, \"#46039f\"], [0.2222222222222222, \"#7201a8\"], [0.3333333333333333, \"#9c179e\"], [0.4444444444444444, \"#bd3786\"], [0.5555555555555556, \"#d8576b\"], [0.6666666666666666, \"#ed7953\"], [0.7777777777777778, \"#fb9f3a\"], [0.8888888888888888, \"#fdca26\"], [1.0, \"#f0f921\"]], \"type\": \"heatmap\"}], \"heatmapgl\": [{\"colorbar\": {\"outlinewidth\": 0, \"ticks\": \"\"}, \"colorscale\": [[0.0, \"#0d0887\"], [0.1111111111111111, \"#46039f\"], [0.2222222222222222, \"#7201a8\"], [0.3333333333333333, \"#9c179e\"], [0.4444444444444444, \"#bd3786\"], [0.5555555555555556, \"#d8576b\"], [0.6666666666666666, \"#ed7953\"], [0.7777777777777778, \"#fb9f3a\"], [0.8888888888888888, \"#fdca26\"], [1.0, \"#f0f921\"]], \"type\": \"heatmapgl\"}], \"histogram\": [{\"marker\": {\"colorbar\": {\"outlinewidth\": 0, \"ticks\": \"\"}}, \"type\": \"histogram\"}], \"histogram2d\": [{\"colorbar\": {\"outlinewidth\": 0, \"ticks\": \"\"}, \"colorscale\": [[0.0, \"#0d0887\"], [0.1111111111111111, \"#46039f\"], [0.2222222222222222, \"#7201a8\"], [0.3333333333333333, \"#9c179e\"], [0.4444444444444444, \"#bd3786\"], [0.5555555555555556, \"#d8576b\"], [0.6666666666666666, \"#ed7953\"], [0.7777777777777778, \"#fb9f3a\"], [0.8888888888888888, \"#fdca26\"], [1.0, \"#f0f921\"]], \"type\": \"histogram2d\"}], \"histogram2dcontour\": [{\"colorbar\": {\"outlinewidth\": 0, \"ticks\": \"\"}, \"colorscale\": [[0.0, \"#0d0887\"], [0.1111111111111111, \"#46039f\"], [0.2222222222222222, \"#7201a8\"], [0.3333333333333333, \"#9c179e\"], [0.4444444444444444, \"#bd3786\"], [0.5555555555555556, \"#d8576b\"], [0.6666666666666666, \"#ed7953\"], [0.7777777777777778, \"#fb9f3a\"], [0.8888888888888888, \"#fdca26\"], [1.0, \"#f0f921\"]], \"type\": \"histogram2dcontour\"}], \"mesh3d\": [{\"colorbar\": {\"outlinewidth\": 0, \"ticks\": \"\"}, \"type\": \"mesh3d\"}], \"parcoords\": [{\"line\": {\"colorbar\": {\"outlinewidth\": 0, \"ticks\": \"\"}}, \"type\": \"parcoords\"}], \"pie\": [{\"automargin\": true, \"type\": \"pie\"}], \"scatter\": [{\"marker\": {\"colorbar\": {\"outlinewidth\": 0, \"ticks\": \"\"}}, \"type\": \"scatter\"}], \"scatter3d\": [{\"line\": {\"colorbar\": {\"outlinewidth\": 0, \"ticks\": \"\"}}, \"marker\": {\"colorbar\": {\"outlinewidth\": 0, \"ticks\": \"\"}}, \"type\": \"scatter3d\"}], \"scattercarpet\": [{\"marker\": {\"colorbar\": {\"outlinewidth\": 0, \"ticks\": \"\"}}, \"type\": \"scattercarpet\"}], \"scattergeo\": [{\"marker\": {\"colorbar\": {\"outlinewidth\": 0, \"ticks\": \"\"}}, \"type\": \"scattergeo\"}], \"scattergl\": [{\"marker\": {\"colorbar\": {\"outlinewidth\": 0, \"ticks\": \"\"}}, \"type\": \"scattergl\"}], \"scattermapbox\": [{\"marker\": {\"colorbar\": {\"outlinewidth\": 0, \"ticks\": \"\"}}, \"type\": \"scattermapbox\"}], \"scatterpolar\": [{\"marker\": {\"colorbar\": {\"outlinewidth\": 0, \"ticks\": \"\"}}, \"type\": \"scatterpolar\"}], \"scatterpolargl\": [{\"marker\": {\"colorbar\": {\"outlinewidth\": 0, \"ticks\": \"\"}}, \"type\": \"scatterpolargl\"}], \"scatterternary\": [{\"marker\": {\"colorbar\": {\"outlinewidth\": 0, \"ticks\": \"\"}}, \"type\": \"scatterternary\"}], \"surface\": [{\"colorbar\": {\"outlinewidth\": 0, \"ticks\": \"\"}, \"colorscale\": [[0.0, \"#0d0887\"], [0.1111111111111111, \"#46039f\"], [0.2222222222222222, \"#7201a8\"], [0.3333333333333333, \"#9c179e\"], [0.4444444444444444, \"#bd3786\"], [0.5555555555555556, \"#d8576b\"], [0.6666666666666666, \"#ed7953\"], [0.7777777777777778, \"#fb9f3a\"], [0.8888888888888888, \"#fdca26\"], [1.0, \"#f0f921\"]], \"type\": \"surface\"}], \"table\": [{\"cells\": {\"fill\": {\"color\": \"#EBF0F8\"}, \"line\": {\"color\": \"white\"}}, \"header\": {\"fill\": {\"color\": \"#C8D4E3\"}, \"line\": {\"color\": \"white\"}}, \"type\": \"table\"}]}, \"layout\": {\"annotationdefaults\": {\"arrowcolor\": \"#2a3f5f\", \"arrowhead\": 0, \"arrowwidth\": 1}, \"autotypenumbers\": \"strict\", \"coloraxis\": {\"colorbar\": {\"outlinewidth\": 0, \"ticks\": \"\"}}, \"colorscale\": {\"diverging\": [[0, \"#8e0152\"], [0.1, \"#c51b7d\"], [0.2, \"#de77ae\"], [0.3, \"#f1b6da\"], [0.4, \"#fde0ef\"], [0.5, \"#f7f7f7\"], [0.6, \"#e6f5d0\"], [0.7, \"#b8e186\"], [0.8, \"#7fbc41\"], [0.9, \"#4d9221\"], [1, \"#276419\"]], \"sequential\": [[0.0, \"#0d0887\"], [0.1111111111111111, \"#46039f\"], [0.2222222222222222, \"#7201a8\"], [0.3333333333333333, \"#9c179e\"], [0.4444444444444444, \"#bd3786\"], [0.5555555555555556, \"#d8576b\"], [0.6666666666666666, \"#ed7953\"], [0.7777777777777778, \"#fb9f3a\"], [0.8888888888888888, \"#fdca26\"], [1.0, \"#f0f921\"]], \"sequentialminus\": [[0.0, \"#0d0887\"], [0.1111111111111111, \"#46039f\"], [0.2222222222222222, \"#7201a8\"], [0.3333333333333333, \"#9c179e\"], [0.4444444444444444, \"#bd3786\"], [0.5555555555555556, \"#d8576b\"], [0.6666666666666666, \"#ed7953\"], [0.7777777777777778, \"#fb9f3a\"], [0.8888888888888888, \"#fdca26\"], [1.0, \"#f0f921\"]]}, \"colorway\": [\"#636efa\", \"#EF553B\", \"#00cc96\", \"#ab63fa\", \"#FFA15A\", \"#19d3f3\", \"#FF6692\", \"#B6E880\", \"#FF97FF\", \"#FECB52\"], \"font\": {\"color\": \"#2a3f5f\"}, \"geo\": {\"bgcolor\": \"white\", \"lakecolor\": \"white\", \"landcolor\": \"#E5ECF6\", \"showlakes\": true, \"showland\": true, \"subunitcolor\": \"white\"}, \"hoverlabel\": {\"align\": \"left\"}, \"hovermode\": \"closest\", \"mapbox\": {\"style\": \"light\"}, \"paper_bgcolor\": \"white\", \"plot_bgcolor\": \"#E5ECF6\", \"polar\": {\"angularaxis\": {\"gridcolor\": \"white\", \"linecolor\": \"white\", \"ticks\": \"\"}, \"bgcolor\": \"#E5ECF6\", \"radialaxis\": {\"gridcolor\": \"white\", \"linecolor\": \"white\", \"ticks\": \"\"}}, \"scene\": {\"xaxis\": {\"backgroundcolor\": \"#E5ECF6\", \"gridcolor\": \"white\", \"gridwidth\": 2, \"linecolor\": \"white\", \"showbackground\": true, \"ticks\": \"\", \"zerolinecolor\": \"white\"}, \"yaxis\": {\"backgroundcolor\": \"#E5ECF6\", \"gridcolor\": \"white\", \"gridwidth\": 2, \"linecolor\": \"white\", \"showbackground\": true, \"ticks\": \"\", \"zerolinecolor\": \"white\"}, \"zaxis\": {\"backgroundcolor\": \"#E5ECF6\", \"gridcolor\": \"white\", \"gridwidth\": 2, \"linecolor\": \"white\", \"showbackground\": true, \"ticks\": \"\", \"zerolinecolor\": \"white\"}}, \"shapedefaults\": {\"line\": {\"color\": \"#2a3f5f\"}}, \"ternary\": {\"aaxis\": {\"gridcolor\": \"white\", \"linecolor\": \"white\", \"ticks\": \"\"}, \"baxis\": {\"gridcolor\": \"white\", \"linecolor\": \"white\", \"ticks\": \"\"}, \"bgcolor\": \"#E5ECF6\", \"caxis\": {\"gridcolor\": \"white\", \"linecolor\": \"white\", \"ticks\": \"\"}}, \"title\": {\"x\": 0.05}, \"xaxis\": {\"automargin\": true, \"gridcolor\": \"white\", \"linecolor\": \"white\", \"ticks\": \"\", \"title\": {\"standoff\": 15}, \"zerolinecolor\": \"white\", \"zerolinewidth\": 2}, \"yaxis\": {\"automargin\": true, \"gridcolor\": \"white\", \"linecolor\": \"white\", \"ticks\": \"\", \"title\": {\"standoff\": 15}, \"zerolinecolor\": \"white\", \"zerolinewidth\": 2}}}, \"title\": {\"text\": \"Cantidad y Clientes por Semana\"}, \"xaxis\": {\"anchor\": \"y\", \"domain\": [0.0, 1.0], \"title\": {\"text\": \"Semana\"}}, \"yaxis\": {\"anchor\": \"x\", \"domain\": [0.0, 1.0], \"title\": {\"text\": \"Cantidad\"}}, \"yaxis2\": {\"overlaying\": \"y\", \"side\": \"right\", \"title\": {\"text\": \"Clientes\"}}},                        {\"responsive\": true}                    ).then(function(){\n",
       "                            \n",
       "var gd = document.getElementById('22bf0d78-2edb-4b85-8f23-33fe49bc08e4');\n",
       "var x = new MutationObserver(function (mutations, observer) {{\n",
       "        var display = window.getComputedStyle(gd).display;\n",
       "        if (!display || display === 'none') {{\n",
       "            console.log([gd, 'removed!']);\n",
       "            Plotly.purge(gd);\n",
       "            observer.disconnect();\n",
       "        }}\n",
       "}});\n",
       "\n",
       "// Listen for the removal of the full notebook cells\n",
       "var notebookContainer = gd.closest('#notebook-container');\n",
       "if (notebookContainer) {{\n",
       "    x.observe(notebookContainer, {childList: true});\n",
       "}}\n",
       "\n",
       "// Listen for the clearing of the current output cell\n",
       "var outputEl = gd.closest('.output');\n",
       "if (outputEl) {{\n",
       "    x.observe(outputEl, {childList: true});\n",
       "}}\n",
       "\n",
       "                        })                };                });            </script>        </div>"
      ]
     },
     "metadata": {},
     "output_type": "display_data"
    },
    {
     "data": {
      "application/vnd.plotly.v1+json": {
       "config": {
        "plotlyServerURL": "https://plot.ly"
       },
       "data": [
        {
         "connectgaps": false,
         "hovertemplate": "competitor_name=Akki - Balneário Mar Paulista, Cupecê - Zukkin<br>Fecha=%{x}<br>GPI=%{y}<extra></extra>",
         "legendgroup": "Akki - Balneário Mar Paulista, Cupecê - Zukkin",
         "line": {
          "color": "#636efa",
          "dash": "solid"
         },
         "mode": "lines",
         "name": "Akki - Balneário Mar Paulista, Cupecê - Zukkin",
         "showlegend": true,
         "type": "scattergl",
         "x": [
          "2024-05-07T00:00:00",
          "2024-05-08T00:00:00",
          "2024-05-09T00:00:00",
          "2024-05-10T00:00:00",
          "2024-05-11T00:00:00",
          "2024-05-12T00:00:00",
          "2024-05-13T00:00:00",
          "2024-05-14T00:00:00",
          "2024-05-15T00:00:00",
          "2024-05-16T00:00:00",
          "2024-05-17T00:00:00",
          "2024-05-18T00:00:00",
          "2024-05-19T00:00:00",
          "2024-05-20T00:00:00",
          "2024-05-21T00:00:00",
          "2024-05-22T00:00:00",
          "2024-05-23T00:00:00",
          "2024-05-24T00:00:00",
          "2024-05-28T00:00:00",
          "2024-05-29T00:00:00",
          "2024-05-30T00:00:00",
          "2024-05-31T00:00:00",
          "2024-06-01T00:00:00",
          "2024-06-02T00:00:00",
          "2024-06-03T00:00:00",
          "2024-06-04T00:00:00",
          "2024-06-05T00:00:00",
          "2024-06-06T00:00:00",
          "2024-06-07T00:00:00",
          "2024-06-08T00:00:00",
          "2024-06-09T00:00:00",
          "2024-06-10T00:00:00",
          "2024-06-11T00:00:00",
          "2024-06-12T00:00:00",
          "2024-06-13T00:00:00",
          "2024-06-14T00:00:00",
          "2024-06-15T00:00:00",
          "2024-06-16T00:00:00",
          "2024-06-17T00:00:00",
          "2024-06-18T00:00:00",
          "2024-06-19T00:00:00",
          "2024-06-20T00:00:00",
          "2024-06-21T00:00:00",
          "2024-06-22T00:00:00",
          "2024-06-23T00:00:00",
          "2024-06-24T00:00:00",
          "2024-06-25T00:00:00",
          "2024-06-26T00:00:00",
          "2024-06-27T00:00:00",
          "2024-06-28T00:00:00",
          "2024-06-29T00:00:00",
          "2024-06-30T00:00:00",
          "2024-07-01T00:00:00",
          "2024-07-02T00:00:00",
          "2024-07-03T00:00:00",
          "2024-07-04T00:00:00",
          "2024-07-05T00:00:00",
          "2024-07-06T00:00:00",
          "2024-07-07T00:00:00",
          "2024-07-08T00:00:00",
          "2024-07-09T00:00:00",
          "2024-07-10T00:00:00",
          "2024-07-11T00:00:00",
          "2024-07-12T00:00:00",
          "2024-07-13T00:00:00",
          "2024-07-14T00:00:00",
          "2024-07-15T00:00:00",
          "2024-07-16T00:00:00",
          "2024-07-17T00:00:00",
          "2024-07-18T00:00:00",
          "2024-07-22T00:00:00",
          "2024-07-23T00:00:00",
          "2024-07-24T00:00:00",
          "2024-07-25T00:00:00",
          "2024-07-26T00:00:00",
          "2024-07-27T00:00:00",
          "2024-07-28T00:00:00",
          "2024-07-29T00:00:00",
          "2024-07-30T00:00:00",
          "2024-07-31T00:00:00",
          "2024-08-01T00:00:00",
          "2024-08-08T00:00:00",
          "2024-08-09T00:00:00",
          "2024-08-10T00:00:00",
          "2024-08-11T00:00:00",
          "2024-08-12T00:00:00",
          "2024-08-13T00:00:00",
          "2024-08-14T00:00:00",
          "2024-08-15T00:00:00",
          "2024-08-16T00:00:00",
          "2024-08-17T00:00:00",
          "2024-08-18T00:00:00",
          "2024-08-19T00:00:00",
          "2024-08-20T00:00:00",
          "2024-08-21T00:00:00",
          "2024-08-22T00:00:00",
          "2024-08-23T00:00:00",
          "2024-08-24T00:00:00",
          "2024-08-25T00:00:00",
          "2024-08-26T00:00:00",
          "2024-08-27T00:00:00",
          "2024-08-28T00:00:00",
          "2024-08-29T00:00:00"
         ],
         "xaxis": "x",
         "y": [
          1.0542005420054201,
          1.0542005420054201,
          1.0542005420054201,
          1.0542005420054201,
          1.0542005420054201,
          1.0542005420054201,
          1.043360433604336,
          1.043360433604336,
          1.043360433604336,
          1.043360433604336,
          1.037940379403794,
          1.037940379403794,
          1.037940379403794,
          1.037940379403794,
          1.037940379403794,
          1.037940379403794,
          1.037940379403794,
          1.037940379403794,
          1.037940379403794,
          1.037940379403794,
          1.037940379403794,
          1.005420054200542,
          1.005420054200542,
          1.005420054200542,
          1.005420054200542,
          1.005420054200542,
          1.005420054200542,
          1.02710027100271,
          1.0352303523035231,
          1.0352303523035231,
          1.0352303523035231,
          1.0352303523035231,
          1.0352303523035231,
          0.8904428904428904,
          0.8834498834498834,
          0.8834498834498834,
          0.8834498834498834,
          0.8834498834498834,
          0.8834498834498834,
          0.974293059125964,
          0.974293059125964,
          0.974293059125964,
          0.974293059125964,
          0.974293059125964,
          0.974293059125964,
          0.974293059125964,
          0.8834498834498834,
          0.8834498834498834,
          0.8834498834498834,
          0.8834498834498834,
          0.8834498834498834,
          0.8834498834498834,
          0.8834498834498834,
          0.8834498834498834,
          0.974293059125964,
          0.974293059125964,
          0.974293059125964,
          0.974293059125964,
          0.974293059125964,
          0.974293059125964,
          0.974293059125964,
          0.974293059125964,
          0.974293059125964,
          0.974293059125964,
          0.974293059125964,
          0.974293059125964,
          0.974293059125964,
          1,
          1,
          1,
          0.974937343358396,
          0.974937343358396,
          0.974937343358396,
          0.974937343358396,
          0.974937343358396,
          0.974937343358396,
          0.974937343358396,
          0.974937343358396,
          0.974937343358396,
          0.974937343358396,
          0.974937343358396,
          0.974937343358396,
          0.974937343358396,
          0.974937343358396,
          0.974937343358396,
          0.974937343358396,
          0.974937343358396,
          0.974937343358396,
          0.974937343358396,
          0.974937343358396,
          0.974937343358396,
          0.974937343358396,
          0.8997493734335839,
          0.8997493734335839,
          0.8997493734335839,
          0.8997493734335839,
          0.9624060150375939,
          0.9624060150375939,
          0.9624060150375939,
          0.9624060150375939,
          0.9624060150375939,
          0.9624060150375939,
          0.9624060150375939
         ],
         "yaxis": "y"
        },
        {
         "connectgaps": false,
         "hovertemplate": "competitor_name=Akki - Socorro - Zukkin<br>Fecha=%{x}<br>GPI=%{y}<extra></extra>",
         "legendgroup": "Akki - Socorro - Zukkin",
         "line": {
          "color": "#EF553B",
          "dash": "solid"
         },
         "mode": "lines",
         "name": "Akki - Socorro - Zukkin",
         "showlegend": true,
         "type": "scattergl",
         "x": [
          "2024-05-01T00:00:00",
          "2024-05-02T00:00:00",
          "2024-05-03T00:00:00",
          "2024-05-04T00:00:00",
          "2024-05-05T00:00:00",
          "2024-05-06T00:00:00",
          "2024-05-07T00:00:00",
          "2024-05-08T00:00:00",
          "2024-05-09T00:00:00",
          "2024-05-10T00:00:00",
          "2024-05-11T00:00:00",
          "2024-05-12T00:00:00",
          "2024-05-13T00:00:00",
          "2024-05-14T00:00:00",
          "2024-05-15T00:00:00",
          "2024-05-16T00:00:00",
          "2024-05-17T00:00:00",
          "2024-05-18T00:00:00",
          "2024-05-19T00:00:00",
          "2024-05-20T00:00:00",
          "2024-05-21T00:00:00",
          "2024-05-22T00:00:00",
          "2024-05-23T00:00:00",
          "2024-05-24T00:00:00",
          "2024-05-25T00:00:00",
          "2024-05-26T00:00:00",
          "2024-05-27T00:00:00",
          "2024-05-28T00:00:00",
          "2024-05-29T00:00:00",
          "2024-05-30T00:00:00",
          "2024-07-24T00:00:00",
          "2024-07-25T00:00:00",
          "2024-07-26T00:00:00",
          "2024-07-27T00:00:00",
          "2024-07-28T00:00:00",
          "2024-07-29T00:00:00",
          "2024-07-30T00:00:00",
          "2024-07-31T00:00:00",
          "2024-08-01T00:00:00",
          "2024-08-02T00:00:00",
          "2024-08-03T00:00:00",
          "2024-08-04T00:00:00",
          "2024-08-05T00:00:00",
          "2024-08-06T00:00:00",
          "2024-08-07T00:00:00",
          "2024-08-08T00:00:00",
          "2024-08-09T00:00:00",
          "2024-08-10T00:00:00",
          "2024-08-11T00:00:00",
          "2024-08-12T00:00:00",
          "2024-08-13T00:00:00",
          "2024-08-14T00:00:00",
          "2024-08-15T00:00:00",
          "2024-08-22T00:00:00",
          "2024-08-23T00:00:00",
          "2024-08-24T00:00:00",
          "2024-08-25T00:00:00",
          "2024-08-26T00:00:00",
          "2024-08-27T00:00:00",
          "2024-08-28T00:00:00",
          "2024-08-29T00:00:00"
         ],
         "xaxis": "x",
         "y": [
          0.9323308270676691,
          0.9323308270676691,
          0.9624060150375939,
          0.9624060150375939,
          0.9624060150375939,
          0.974937343358396,
          0.974937343358396,
          1.0542005420054201,
          1.0542005420054201,
          1.0542005420054201,
          1.0542005420054201,
          1.0542005420054201,
          1.043360433604336,
          1.043360433604336,
          1.043360433604336,
          1.043360433604336,
          1.037940379403794,
          1.037940379403794,
          1.037940379403794,
          1.037940379403794,
          1.037940379403794,
          1.037940379403794,
          1.037940379403794,
          1.037940379403794,
          1.037940379403794,
          1.037940379403794,
          1.037940379403794,
          1.037940379403794,
          1.037940379403794,
          1.037940379403794,
          0.974937343358396,
          0.974937343358396,
          0.974937343358396,
          0.974937343358396,
          0.974937343358396,
          0.974937343358396,
          0.974937343358396,
          0.974937343358396,
          0.974937343358396,
          0.974937343358396,
          0.974937343358396,
          0.974937343358396,
          0.974937343358396,
          0.974937343358396,
          1,
          1,
          1,
          1,
          1,
          1,
          1,
          1,
          1,
          0.8997493734335839,
          0.9624060150375939,
          0.9624060150375939,
          0.9624060150375939,
          0.9624060150375939,
          0.9624060150375939,
          0.9624060150375939,
          0.9624060150375939
         ],
         "yaxis": "y"
        },
        {
         "connectgaps": false,
         "hovertemplate": "competitor_name=Assaí - Jd. Santa Francisca - Zukkin<br>Fecha=%{x}<br>GPI=%{y}<extra></extra>",
         "legendgroup": "Assaí - Jd. Santa Francisca - Zukkin",
         "line": {
          "color": "#00cc96",
          "dash": "solid"
         },
         "mode": "lines",
         "name": "Assaí - Jd. Santa Francisca - Zukkin",
         "showlegend": true,
         "type": "scattergl",
         "x": [
          "2024-05-28T00:00:00",
          "2024-05-29T00:00:00",
          "2024-05-30T00:00:00",
          "2024-05-31T00:00:00",
          "2024-06-01T00:00:00",
          "2024-06-02T00:00:00",
          "2024-06-03T00:00:00",
          "2024-06-04T00:00:00",
          "2024-06-05T00:00:00",
          "2024-06-06T00:00:00",
          "2024-06-07T00:00:00",
          "2024-06-08T00:00:00",
          "2024-06-09T00:00:00",
          "2024-06-10T00:00:00",
          "2024-06-11T00:00:00",
          "2024-06-12T00:00:00",
          "2024-06-13T00:00:00",
          "2024-06-14T00:00:00",
          "2024-06-15T00:00:00",
          "2024-06-16T00:00:00",
          "2024-06-17T00:00:00",
          "2024-06-18T00:00:00",
          "2024-06-19T00:00:00",
          "2024-06-20T00:00:00",
          "2024-06-21T00:00:00",
          "2024-06-22T00:00:00",
          "2024-06-23T00:00:00",
          "2024-06-24T00:00:00",
          "2024-06-25T00:00:00",
          "2024-06-26T00:00:00",
          "2024-06-27T00:00:00",
          "2024-06-28T00:00:00",
          "2024-06-29T00:00:00",
          "2024-06-30T00:00:00",
          "2024-07-01T00:00:00",
          "2024-07-02T00:00:00",
          "2024-07-03T00:00:00",
          "2024-07-04T00:00:00",
          "2024-07-05T00:00:00",
          "2024-07-06T00:00:00",
          "2024-07-07T00:00:00",
          "2024-07-08T00:00:00",
          "2024-07-09T00:00:00",
          "2024-07-10T00:00:00",
          "2024-07-11T00:00:00",
          "2024-07-12T00:00:00",
          "2024-07-13T00:00:00",
          "2024-07-14T00:00:00",
          "2024-07-15T00:00:00",
          "2024-07-16T00:00:00",
          "2024-07-17T00:00:00",
          "2024-07-18T00:00:00",
          "2024-07-19T00:00:00",
          "2024-07-20T00:00:00",
          "2024-07-21T00:00:00",
          "2024-07-22T00:00:00",
          "2024-07-23T00:00:00",
          "2024-07-24T00:00:00",
          "2024-07-25T00:00:00",
          "2024-07-26T00:00:00",
          "2024-07-27T00:00:00",
          "2024-07-28T00:00:00",
          "2024-07-29T00:00:00",
          "2024-07-30T00:00:00",
          "2024-07-31T00:00:00",
          "2024-08-01T00:00:00",
          "2024-08-02T00:00:00",
          "2024-08-03T00:00:00",
          "2024-08-04T00:00:00",
          "2024-08-05T00:00:00",
          "2024-08-06T00:00:00",
          "2024-08-07T00:00:00",
          "2024-08-08T00:00:00",
          "2024-08-09T00:00:00",
          "2024-08-10T00:00:00",
          "2024-08-11T00:00:00",
          "2024-08-12T00:00:00",
          "2024-08-13T00:00:00",
          "2024-08-14T00:00:00",
          "2024-08-15T00:00:00",
          "2024-08-16T00:00:00",
          "2024-08-17T00:00:00",
          "2024-08-18T00:00:00",
          "2024-08-19T00:00:00",
          "2024-08-20T00:00:00",
          "2024-08-21T00:00:00",
          "2024-08-22T00:00:00",
          "2024-08-23T00:00:00",
          "2024-08-24T00:00:00",
          "2024-08-25T00:00:00",
          "2024-08-26T00:00:00",
          "2024-08-27T00:00:00",
          "2024-08-28T00:00:00",
          "2024-08-29T00:00:00"
         ],
         "xaxis": "x",
         "y": [
          1.0668523676880224,
          1.0668523676880224,
          1.0668523676880224,
          1.033426183844011,
          1.033426183844011,
          1.033426183844011,
          1.033426183844011,
          1.033426183844011,
          1.033426183844011,
          1.0557103064066853,
          1.064066852367688,
          1.064066852367688,
          1.064066852367688,
          1.064066852367688,
          1.064066852367688,
          1.064066852367688,
          1.0557103064066853,
          1.0557103064066853,
          1.0557103064066853,
          1.0557103064066853,
          1.0557103064066853,
          1.0557103064066853,
          1.0557103064066853,
          1.0557103064066853,
          1.0557103064066853,
          1.0557103064066853,
          1.0557103064066853,
          1.0557103064066853,
          1.0557103064066853,
          1.0557103064066853,
          1.0557103064066853,
          1.0557103064066853,
          1.0557103064066853,
          1.0557103064066853,
          1.0557103064066853,
          1.0557103064066853,
          1.0557103064066853,
          1.0557103064066853,
          1.0557103064066853,
          1.0557103064066853,
          1.0557103064066853,
          1.0557103064066853,
          1.0557103064066853,
          1.0557103064066853,
          1.0557103064066853,
          1.0557103064066853,
          1.0557103064066853,
          1.0557103064066853,
          1.0557103064066853,
          1.083565459610028,
          1.083565459610028,
          1.083565459610028,
          1.083565459610028,
          1.083565459610028,
          1.083565459610028,
          1.083565459610028,
          1.083565459610028,
          1.083565459610028,
          1.083565459610028,
          1.083565459610028,
          1.083565459610028,
          1.083565459610028,
          1.083565459610028,
          1.083565459610028,
          1.083565459610028,
          1.083565459610028,
          1.083565459610028,
          1.083565459610028,
          1.083565459610028,
          1.083565459610028,
          1.083565459610028,
          1.083565459610028,
          1.083565459610028,
          1.083565459610028,
          1.083565459610028,
          1.083565459610028,
          1.083565459610028,
          1.083565459610028,
          1.083565459610028,
          1.083565459610028,
          1.083565459610028,
          1.083565459610028,
          1.083565459610028,
          1,
          0.9472295514511873,
          0.9472295514511873,
          0.9472295514511873,
          1.013192612137203,
          1.013192612137203,
          1.013192612137203,
          1.013192612137203,
          1.013192612137203,
          1.013192612137203,
          1.013192612137203
         ],
         "yaxis": "y"
        },
        {
         "connectgaps": false,
         "hovertemplate": "competitor_name=Assaí - Osasco - Zukkin<br>Fecha=%{x}<br>GPI=%{y}<extra></extra>",
         "legendgroup": "Assaí - Osasco - Zukkin",
         "line": {
          "color": "#ab63fa",
          "dash": "solid"
         },
         "mode": "lines",
         "name": "Assaí - Osasco - Zukkin",
         "showlegend": true,
         "type": "scattergl",
         "x": [
          "2024-06-13T00:00:00",
          "2024-06-14T00:00:00",
          "2024-06-15T00:00:00",
          "2024-06-16T00:00:00",
          "2024-06-17T00:00:00",
          "2024-06-18T00:00:00",
          "2024-06-19T00:00:00",
          "2024-06-20T00:00:00",
          "2024-06-21T00:00:00",
          "2024-07-03T00:00:00",
          "2024-07-04T00:00:00",
          "2024-07-05T00:00:00",
          "2024-07-06T00:00:00",
          "2024-07-07T00:00:00",
          "2024-07-08T00:00:00",
          "2024-07-09T00:00:00",
          "2024-07-10T00:00:00",
          "2024-07-11T00:00:00",
          "2024-07-12T00:00:00",
          "2024-07-13T00:00:00",
          "2024-07-14T00:00:00",
          "2024-07-15T00:00:00",
          "2024-07-16T00:00:00",
          "2024-07-17T00:00:00",
          "2024-07-18T00:00:00",
          "2024-07-19T00:00:00",
          "2024-07-20T00:00:00",
          "2024-07-21T00:00:00",
          "2024-07-22T00:00:00",
          "2024-07-23T00:00:00",
          "2024-07-24T00:00:00",
          "2024-07-25T00:00:00",
          "2024-07-26T00:00:00",
          "2024-07-27T00:00:00",
          "2024-07-28T00:00:00",
          "2024-07-29T00:00:00",
          "2024-07-30T00:00:00",
          "2024-07-31T00:00:00",
          "2024-08-01T00:00:00",
          "2024-08-02T00:00:00",
          "2024-08-03T00:00:00",
          "2024-08-04T00:00:00",
          "2024-08-05T00:00:00",
          "2024-08-06T00:00:00",
          "2024-08-07T00:00:00",
          "2024-08-08T00:00:00",
          "2024-08-09T00:00:00",
          "2024-08-10T00:00:00",
          "2024-08-11T00:00:00",
          "2024-08-12T00:00:00",
          "2024-08-13T00:00:00",
          "2024-08-14T00:00:00",
          "2024-08-15T00:00:00",
          "2024-08-16T00:00:00",
          "2024-08-17T00:00:00",
          "2024-08-18T00:00:00",
          "2024-08-19T00:00:00",
          "2024-08-20T00:00:00",
          "2024-08-21T00:00:00",
          "2024-08-22T00:00:00",
          "2024-08-23T00:00:00",
          "2024-08-24T00:00:00",
          "2024-08-25T00:00:00",
          "2024-08-26T00:00:00",
          "2024-08-27T00:00:00",
          "2024-08-28T00:00:00",
          "2024-08-29T00:00:00"
         ],
         "xaxis": "x",
         "y": [
          1.0106666666666666,
          1.0106666666666666,
          1.0106666666666666,
          1.0106666666666666,
          1.0106666666666666,
          1.0106666666666666,
          1.0106666666666666,
          1.0106666666666666,
          1.0106666666666666,
          1.0106666666666666,
          1.0106666666666666,
          1.0106666666666666,
          1.0106666666666666,
          1.0106666666666666,
          1.0106666666666666,
          1.0106666666666666,
          0.9844155844155844,
          0.9844155844155844,
          0.9844155844155844,
          0.9844155844155844,
          0.9844155844155844,
          0.9844155844155844,
          1.0103896103896104,
          1.0373333333333334,
          1.0373333333333334,
          1.0373333333333334,
          1.0373333333333334,
          1.0373333333333334,
          1.0373333333333334,
          1.0373333333333334,
          1.0373333333333334,
          1.0373333333333334,
          1.0373333333333334,
          1.0373333333333334,
          1.0373333333333334,
          1.0373333333333334,
          1.0373333333333334,
          1.0373333333333334,
          1.0373333333333334,
          1.0373333333333334,
          1.0373333333333334,
          1.0373333333333334,
          1.0373333333333334,
          1.0373333333333334,
          1.0373333333333334,
          1.0373333333333334,
          1.0373333333333334,
          1.0373333333333334,
          1.0373333333333334,
          1.0373333333333334,
          1.0373333333333334,
          1.0373333333333334,
          1.0373333333333334,
          1.0373333333333334,
          1.0373333333333334,
          1.0373333333333334,
          0.9573333333333333,
          0.9573333333333333,
          0.9573333333333333,
          0.9324675324675324,
          0.9974025974025973,
          0.9974025974025973,
          0.9974025974025973,
          0.9974025974025973,
          0.9974025974025973,
          0.9974025974025973,
          0.9974025974025973
         ],
         "yaxis": "y"
        },
        {
         "connectgaps": false,
         "hovertemplate": "competitor_name=Assaí - Santo André - Zukkin<br>Fecha=%{x}<br>GPI=%{y}<extra></extra>",
         "legendgroup": "Assaí - Santo André - Zukkin",
         "line": {
          "color": "#FFA15A",
          "dash": "solid"
         },
         "mode": "lines",
         "name": "Assaí - Santo André - Zukkin",
         "showlegend": true,
         "type": "scattergl",
         "x": [
          "2024-06-06T00:00:00",
          "2024-06-07T00:00:00",
          "2024-06-08T00:00:00",
          "2024-06-09T00:00:00",
          "2024-06-10T00:00:00",
          "2024-06-11T00:00:00",
          "2024-06-12T00:00:00",
          "2024-06-13T00:00:00",
          "2024-06-14T00:00:00",
          "2024-06-21T00:00:00",
          "2024-06-22T00:00:00",
          "2024-06-23T00:00:00",
          "2024-06-24T00:00:00",
          "2024-06-25T00:00:00",
          "2024-06-26T00:00:00",
          "2024-06-27T00:00:00",
          "2024-06-28T00:00:00",
          "2024-06-29T00:00:00",
          "2024-06-30T00:00:00",
          "2024-07-01T00:00:00",
          "2024-07-02T00:00:00",
          "2024-07-03T00:00:00",
          "2024-07-04T00:00:00",
          "2024-07-05T00:00:00",
          "2024-07-06T00:00:00",
          "2024-07-07T00:00:00",
          "2024-07-08T00:00:00",
          "2024-07-09T00:00:00",
          "2024-07-10T00:00:00",
          "2024-07-11T00:00:00",
          "2024-07-12T00:00:00",
          "2024-07-13T00:00:00",
          "2024-07-14T00:00:00",
          "2024-07-15T00:00:00",
          "2024-07-16T00:00:00",
          "2024-07-17T00:00:00",
          "2024-07-18T00:00:00",
          "2024-07-19T00:00:00",
          "2024-07-20T00:00:00",
          "2024-07-21T00:00:00",
          "2024-07-22T00:00:00",
          "2024-07-23T00:00:00",
          "2024-07-24T00:00:00",
          "2024-07-25T00:00:00",
          "2024-07-26T00:00:00",
          "2024-07-27T00:00:00",
          "2024-07-28T00:00:00",
          "2024-07-29T00:00:00",
          "2024-07-30T00:00:00",
          "2024-07-31T00:00:00",
          "2024-08-01T00:00:00",
          "2024-08-02T00:00:00",
          "2024-08-03T00:00:00",
          "2024-08-04T00:00:00",
          "2024-08-05T00:00:00",
          "2024-08-06T00:00:00",
          "2024-08-07T00:00:00",
          "2024-08-08T00:00:00",
          "2024-08-09T00:00:00",
          "2024-08-10T00:00:00",
          "2024-08-11T00:00:00",
          "2024-08-12T00:00:00",
          "2024-08-13T00:00:00",
          "2024-08-14T00:00:00",
          "2024-08-15T00:00:00",
          "2024-08-16T00:00:00",
          "2024-08-17T00:00:00",
          "2024-08-18T00:00:00",
          "2024-08-19T00:00:00",
          "2024-08-20T00:00:00",
          "2024-08-21T00:00:00",
          "2024-08-22T00:00:00",
          "2024-08-23T00:00:00",
          "2024-08-24T00:00:00",
          "2024-08-25T00:00:00",
          "2024-08-26T00:00:00",
          "2024-08-27T00:00:00",
          "2024-08-28T00:00:00",
          "2024-08-29T00:00:00"
         ],
         "xaxis": "x",
         "y": [
          1.02710027100271,
          1.0352303523035231,
          1.0352303523035231,
          1.0352303523035231,
          1.0352303523035231,
          1.0352303523035231,
          1.0352303523035231,
          1.02710027100271,
          1.02710027100271,
          1.02710027100271,
          1.02710027100271,
          1.02710027100271,
          1.02710027100271,
          1.02710027100271,
          1.02710027100271,
          1.02710027100271,
          1.0106666666666666,
          1.0106666666666666,
          1.0106666666666666,
          1.0106666666666666,
          1.0106666666666666,
          1.0557103064066853,
          1.0557103064066853,
          1.0557103064066853,
          1.0557103064066853,
          1.0557103064066853,
          1.02710027100271,
          1.02710027100271,
          1.02710027100271,
          1.02710027100271,
          1.02710027100271,
          1.02710027100271,
          1.02710027100271,
          1.02710027100271,
          1.0542005420054201,
          1.0542005420054201,
          1.0542005420054201,
          1.0542005420054201,
          1.0542005420054201,
          1.0542005420054201,
          1.0542005420054201,
          1.0542005420054201,
          1.0542005420054201,
          1.0542005420054201,
          1.0542005420054201,
          1.0542005420054201,
          1.0542005420054201,
          1.0542005420054201,
          1.0542005420054201,
          1.0542005420054201,
          1.0542005420054201,
          1.0542005420054201,
          1.0542005420054201,
          1.0542005420054201,
          1.0542005420054201,
          1.0542005420054201,
          1.0542005420054201,
          1.0542005420054201,
          1.0542005420054201,
          1.0542005420054201,
          1.0542005420054201,
          1.0542005420054201,
          1.0542005420054201,
          1.0542005420054201,
          1.0542005420054201,
          1.0542005420054201,
          1.0542005420054201,
          1.0542005420054201,
          0.9728997289972899,
          0.9728997289972899,
          0.9324675324675324,
          0.9324675324675324,
          0.9974025974025973,
          0.9974025974025973,
          0.9974025974025973,
          0.9974025974025973,
          0.9974025974025973,
          0.9974025974025973,
          0.9974025974025973
         ],
         "yaxis": "y"
        },
        {
         "connectgaps": false,
         "hovertemplate": "competitor_name=Assaí - Tatuapé - Zukkin<br>Fecha=%{x}<br>GPI=%{y}<extra></extra>",
         "legendgroup": "Assaí - Tatuapé - Zukkin",
         "line": {
          "color": "#19d3f3",
          "dash": "solid"
         },
         "mode": "lines",
         "name": "Assaí - Tatuapé - Zukkin",
         "showlegend": true,
         "type": "scattergl",
         "x": [
          "2024-05-24T00:00:00",
          "2024-05-25T00:00:00",
          "2024-05-26T00:00:00",
          "2024-05-27T00:00:00",
          "2024-05-28T00:00:00",
          "2024-05-29T00:00:00",
          "2024-05-30T00:00:00",
          "2024-05-31T00:00:00",
          "2024-06-01T00:00:00",
          "2024-06-11T00:00:00",
          "2024-06-12T00:00:00",
          "2024-06-13T00:00:00",
          "2024-06-14T00:00:00",
          "2024-06-15T00:00:00",
          "2024-06-16T00:00:00",
          "2024-06-17T00:00:00",
          "2024-06-18T00:00:00",
          "2024-06-19T00:00:00",
          "2024-07-30T00:00:00",
          "2024-07-31T00:00:00",
          "2024-08-01T00:00:00",
          "2024-08-02T00:00:00",
          "2024-08-03T00:00:00",
          "2024-08-04T00:00:00",
          "2024-08-05T00:00:00",
          "2024-08-06T00:00:00",
          "2024-08-07T00:00:00",
          "2024-08-09T00:00:00",
          "2024-08-10T00:00:00",
          "2024-08-11T00:00:00",
          "2024-08-12T00:00:00",
          "2024-08-13T00:00:00",
          "2024-08-14T00:00:00",
          "2024-08-15T00:00:00",
          "2024-08-16T00:00:00",
          "2024-08-17T00:00:00",
          "2024-08-18T00:00:00",
          "2024-08-19T00:00:00",
          "2024-08-20T00:00:00",
          "2024-08-21T00:00:00",
          "2024-08-22T00:00:00",
          "2024-08-23T00:00:00",
          "2024-08-24T00:00:00",
          "2024-08-25T00:00:00",
          "2024-08-26T00:00:00",
          "2024-08-27T00:00:00",
          "2024-08-28T00:00:00",
          "2024-08-29T00:00:00"
         ],
         "xaxis": "x",
         "y": [
          1.0213333333333334,
          1.0213333333333334,
          1.0213333333333334,
          1.0213333333333334,
          1.0213333333333334,
          1.0213333333333334,
          1.0213333333333334,
          0.9893333333333333,
          0.9893333333333333,
          0.9573934837092731,
          0.9573934837092731,
          0.949874686716792,
          0.949874686716792,
          0.949874686716792,
          0.949874686716792,
          0.949874686716792,
          0.949874686716792,
          0.949874686716792,
          1.0373333333333334,
          1.0373333333333334,
          1.0373333333333334,
          1.0373333333333334,
          1.0373333333333334,
          1.0373333333333334,
          1.0373333333333334,
          1.0373333333333334,
          1.0373333333333334,
          1.0373333333333334,
          1.0373333333333334,
          1.0373333333333334,
          1.0373333333333334,
          1.0373333333333334,
          1.0373333333333334,
          1.0373333333333334,
          1.0373333333333334,
          1.0373333333333334,
          1.0373333333333334,
          0.9573333333333333,
          0.9573333333333333,
          0.9573333333333333,
          1,
          1.0696378830083566,
          1.0696378830083566,
          1.0696378830083566,
          1.0696378830083566,
          1.0696378830083566,
          1.0696378830083566,
          1.0696378830083566
         ],
         "yaxis": "y"
        },
        {
         "connectgaps": false,
         "hovertemplate": "competitor_name=Assaí - Vila Sonia - Zukkin<br>Fecha=%{x}<br>GPI=%{y}<extra></extra>",
         "legendgroup": "Assaí - Vila Sonia - Zukkin",
         "line": {
          "color": "#FF6692",
          "dash": "solid"
         },
         "mode": "lines",
         "name": "Assaí - Vila Sonia - Zukkin",
         "showlegend": true,
         "type": "scattergl",
         "x": [
          "2024-05-28T00:00:00",
          "2024-05-29T00:00:00",
          "2024-05-30T00:00:00",
          "2024-05-31T00:00:00",
          "2024-06-01T00:00:00",
          "2024-06-02T00:00:00",
          "2024-06-03T00:00:00",
          "2024-06-04T00:00:00",
          "2024-06-05T00:00:00",
          "2024-06-06T00:00:00",
          "2024-06-07T00:00:00",
          "2024-06-08T00:00:00",
          "2024-06-09T00:00:00",
          "2024-06-10T00:00:00",
          "2024-06-11T00:00:00",
          "2024-06-12T00:00:00",
          "2024-06-13T00:00:00",
          "2024-06-14T00:00:00",
          "2024-06-15T00:00:00",
          "2024-06-16T00:00:00",
          "2024-06-17T00:00:00",
          "2024-06-18T00:00:00",
          "2024-06-19T00:00:00",
          "2024-06-20T00:00:00",
          "2024-06-21T00:00:00",
          "2024-06-22T00:00:00",
          "2024-06-23T00:00:00",
          "2024-06-24T00:00:00",
          "2024-06-25T00:00:00",
          "2024-06-26T00:00:00",
          "2024-06-27T00:00:00",
          "2024-06-28T00:00:00",
          "2024-06-29T00:00:00",
          "2024-06-30T00:00:00",
          "2024-07-01T00:00:00",
          "2024-07-02T00:00:00",
          "2024-07-03T00:00:00",
          "2024-07-04T00:00:00",
          "2024-07-05T00:00:00",
          "2024-07-06T00:00:00",
          "2024-07-07T00:00:00",
          "2024-07-08T00:00:00",
          "2024-07-09T00:00:00",
          "2024-07-10T00:00:00",
          "2024-07-11T00:00:00",
          "2024-07-12T00:00:00",
          "2024-07-13T00:00:00",
          "2024-07-14T00:00:00",
          "2024-07-15T00:00:00",
          "2024-07-16T00:00:00",
          "2024-07-17T00:00:00",
          "2024-07-18T00:00:00",
          "2024-07-19T00:00:00",
          "2024-07-20T00:00:00",
          "2024-07-21T00:00:00",
          "2024-07-22T00:00:00",
          "2024-07-23T00:00:00",
          "2024-07-24T00:00:00",
          "2024-07-25T00:00:00",
          "2024-07-26T00:00:00",
          "2024-07-27T00:00:00",
          "2024-07-28T00:00:00",
          "2024-07-29T00:00:00",
          "2024-07-30T00:00:00",
          "2024-07-31T00:00:00",
          "2024-08-01T00:00:00",
          "2024-08-02T00:00:00",
          "2024-08-03T00:00:00",
          "2024-08-04T00:00:00",
          "2024-08-05T00:00:00",
          "2024-08-06T00:00:00",
          "2024-08-07T00:00:00",
          "2024-08-08T00:00:00",
          "2024-08-09T00:00:00",
          "2024-08-10T00:00:00",
          "2024-08-11T00:00:00",
          "2024-08-12T00:00:00",
          "2024-08-13T00:00:00",
          "2024-08-14T00:00:00",
          "2024-08-15T00:00:00",
          "2024-08-16T00:00:00",
          "2024-08-17T00:00:00",
          "2024-08-18T00:00:00",
          "2024-08-19T00:00:00",
          "2024-08-20T00:00:00",
          "2024-08-21T00:00:00",
          "2024-08-22T00:00:00",
          "2024-08-23T00:00:00",
          "2024-08-24T00:00:00",
          "2024-08-25T00:00:00",
          "2024-08-26T00:00:00",
          "2024-08-27T00:00:00",
          "2024-08-28T00:00:00",
          "2024-08-29T00:00:00"
         ],
         "xaxis": "x",
         "y": [
          1.037940379403794,
          1.037940379403794,
          1.037940379403794,
          1.005420054200542,
          1.005420054200542,
          1.005420054200542,
          1.005420054200542,
          1.005420054200542,
          1.005420054200542,
          1.02710027100271,
          1.0352303523035231,
          1.0352303523035231,
          1.0352303523035231,
          1.0352303523035231,
          1.0352303523035231,
          1.0352303523035231,
          1.02710027100271,
          1.02710027100271,
          1.02710027100271,
          1.02710027100271,
          1.02710027100271,
          1.02710027100271,
          1.02710027100271,
          1.02710027100271,
          1.02710027100271,
          1.02710027100271,
          1.02710027100271,
          1.02710027100271,
          1,
          1,
          1,
          1,
          1,
          1,
          1,
          1.02710027100271,
          1.02710027100271,
          1.02710027100271,
          1.02710027100271,
          1.02710027100271,
          1.02710027100271,
          1.02710027100271,
          1.02710027100271,
          1.02710027100271,
          1.02710027100271,
          1.02710027100271,
          1.02710027100271,
          1.02710027100271,
          1.02710027100271,
          1.0542005420054201,
          1.0542005420054201,
          1.0542005420054201,
          1.0542005420054201,
          1.0542005420054201,
          1.0542005420054201,
          1.0542005420054201,
          1.0542005420054201,
          1.0542005420054201,
          1.0542005420054201,
          1.0542005420054201,
          1.0542005420054201,
          1.0542005420054201,
          1.0542005420054201,
          1.0542005420054201,
          1.0542005420054201,
          1.0542005420054201,
          1.0542005420054201,
          1.0542005420054201,
          1.0542005420054201,
          1.0542005420054201,
          1.0542005420054201,
          1.0542005420054201,
          1.0542005420054201,
          1.0542005420054201,
          1.0542005420054201,
          1.0542005420054201,
          1.0542005420054201,
          1.0542005420054201,
          1.0542005420054201,
          1.0542005420054201,
          1.0542005420054201,
          1.0542005420054201,
          1.0542005420054201,
          0.9728997289972899,
          0.9728997289972899,
          1,
          1,
          1.0696378830083566,
          1.0696378830083566,
          1.0696378830083566,
          1.0696378830083566,
          1.0696378830083566,
          1.013192612137203,
          1.013192612137203
         ],
         "yaxis": "y"
        },
        {
         "connectgaps": false,
         "hovertemplate": "competitor_name=Atacadão - Centro - Zukkin<br>Fecha=%{x}<br>GPI=%{y}<extra></extra>",
         "legendgroup": "Atacadão - Centro - Zukkin",
         "line": {
          "color": "#B6E880",
          "dash": "solid"
         },
         "mode": "lines",
         "name": "Atacadão - Centro - Zukkin",
         "showlegend": true,
         "type": "scattergl",
         "x": [
          "2024-06-06T00:00:00",
          "2024-06-07T00:00:00",
          "2024-06-08T00:00:00",
          "2024-06-09T00:00:00",
          "2024-06-10T00:00:00",
          "2024-06-11T00:00:00",
          "2024-06-12T00:00:00",
          "2024-06-13T00:00:00",
          "2024-06-14T00:00:00",
          "2024-06-15T00:00:00",
          "2024-06-16T00:00:00",
          "2024-06-17T00:00:00",
          "2024-06-18T00:00:00",
          "2024-06-19T00:00:00",
          "2024-06-20T00:00:00",
          "2024-06-21T00:00:00",
          "2024-06-22T00:00:00",
          "2024-06-23T00:00:00",
          "2024-06-24T00:00:00",
          "2024-06-25T00:00:00",
          "2024-06-26T00:00:00",
          "2024-06-27T00:00:00",
          "2024-06-28T00:00:00",
          "2024-06-29T00:00:00",
          "2024-06-30T00:00:00",
          "2024-07-01T00:00:00",
          "2024-07-02T00:00:00",
          "2024-07-09T00:00:00",
          "2024-07-10T00:00:00",
          "2024-07-11T00:00:00",
          "2024-07-12T00:00:00",
          "2024-07-13T00:00:00",
          "2024-07-14T00:00:00",
          "2024-07-15T00:00:00",
          "2024-07-16T00:00:00",
          "2024-07-17T00:00:00",
          "2024-07-18T00:00:00",
          "2024-07-19T00:00:00",
          "2024-07-20T00:00:00",
          "2024-07-21T00:00:00",
          "2024-07-22T00:00:00",
          "2024-07-23T00:00:00",
          "2024-07-24T00:00:00",
          "2024-07-25T00:00:00",
          "2024-07-26T00:00:00",
          "2024-07-27T00:00:00",
          "2024-07-28T00:00:00",
          "2024-07-29T00:00:00",
          "2024-07-30T00:00:00",
          "2024-07-31T00:00:00",
          "2024-08-01T00:00:00",
          "2024-08-02T00:00:00",
          "2024-08-03T00:00:00",
          "2024-08-04T00:00:00",
          "2024-08-05T00:00:00",
          "2024-08-06T00:00:00",
          "2024-08-07T00:00:00",
          "2024-08-08T00:00:00",
          "2024-08-09T00:00:00",
          "2024-08-10T00:00:00",
          "2024-08-11T00:00:00",
          "2024-08-12T00:00:00",
          "2024-08-13T00:00:00",
          "2024-08-14T00:00:00",
          "2024-08-15T00:00:00",
          "2024-08-16T00:00:00",
          "2024-08-17T00:00:00",
          "2024-08-18T00:00:00",
          "2024-08-19T00:00:00",
          "2024-08-20T00:00:00",
          "2024-08-21T00:00:00",
          "2024-08-22T00:00:00",
          "2024-08-23T00:00:00",
          "2024-08-24T00:00:00",
          "2024-08-25T00:00:00",
          "2024-08-26T00:00:00",
          "2024-08-27T00:00:00",
          "2024-08-28T00:00:00",
          "2024-08-29T00:00:00"
         ],
         "xaxis": "x",
         "y": [
          0.959493670886076,
          0.9670886075949366,
          0.9670886075949366,
          0.9670886075949366,
          0.9670886075949366,
          0.9670886075949366,
          0.9670886075949366,
          0.959493670886076,
          0.959493670886076,
          0.959493670886076,
          0.959493670886076,
          0.9266503667481663,
          0.9266503667481663,
          0.9266503667481663,
          0.9266503667481663,
          0.9266503667481663,
          0.9266503667481663,
          0.9266503667481663,
          0.9266503667481663,
          0.9266503667481663,
          0.9266503667481663,
          0.9266503667481663,
          0.9266503667481663,
          0.9266503667481663,
          0.9266503667481663,
          0.9266503667481663,
          0.9266503667481663,
          0.9266503667481663,
          0.9266503667481663,
          0.9266503667481663,
          0.9266503667481663,
          0.9266503667481663,
          0.9266503667481663,
          0.9266503667481663,
          0.9511002444987776,
          0.9511002444987776,
          0.9511002444987776,
          0.9511002444987776,
          0.9511002444987776,
          0.9511002444987776,
          0.9511002444987776,
          0.9511002444987776,
          0.9511002444987776,
          0.9511002444987776,
          0.9511002444987776,
          0.9511002444987776,
          0.9511002444987776,
          0.9511002444987776,
          0.9511002444987776,
          0.9511002444987776,
          0.9511002444987776,
          0.9511002444987776,
          0.9511002444987776,
          0.9511002444987776,
          0.9511002444987776,
          0.9511002444987776,
          0.9511002444987776,
          0.9511002444987776,
          0.9511002444987776,
          0.9511002444987776,
          0.9511002444987776,
          0.9511002444987776,
          0.9511002444987776,
          0.9511002444987776,
          0.9511002444987776,
          0.9511002444987776,
          0.9511002444987776,
          0.9511002444987776,
          0.8777506112469438,
          0.9228791773778919,
          0.9228791773778919,
          0.9228791773778919,
          0.987146529562982,
          0.987146529562982,
          0.987146529562982,
          0.987146529562982,
          0.987146529562982,
          0.987146529562982,
          0.987146529562982
         ],
         "yaxis": "y"
        },
        {
         "connectgaps": false,
         "hovertemplate": "competitor_name=Atacadão - Granja Viana - Zukkin<br>Fecha=%{x}<br>GPI=%{y}<extra></extra>",
         "legendgroup": "Atacadão - Granja Viana - Zukkin",
         "line": {
          "color": "#FF97FF",
          "dash": "solid"
         },
         "mode": "lines",
         "name": "Atacadão - Granja Viana - Zukkin",
         "showlegend": true,
         "type": "scattergl",
         "x": [
          "2024-05-01T00:00:00",
          "2024-05-02T00:00:00",
          "2024-05-03T00:00:00",
          "2024-05-04T00:00:00",
          "2024-05-05T00:00:00",
          "2024-05-06T00:00:00",
          "2024-05-07T00:00:00",
          "2024-05-08T00:00:00",
          "2024-05-09T00:00:00",
          "2024-05-10T00:00:00",
          "2024-05-11T00:00:00",
          "2024-05-12T00:00:00",
          "2024-05-13T00:00:00",
          "2024-05-14T00:00:00",
          "2024-05-15T00:00:00",
          "2024-05-16T00:00:00",
          "2024-05-17T00:00:00",
          "2024-05-18T00:00:00",
          "2024-05-19T00:00:00",
          "2024-05-20T00:00:00",
          "2024-05-21T00:00:00",
          "2024-05-22T00:00:00",
          "2024-05-23T00:00:00",
          "2024-06-06T00:00:00",
          "2024-06-07T00:00:00",
          "2024-06-08T00:00:00",
          "2024-06-09T00:00:00",
          "2024-06-10T00:00:00",
          "2024-06-11T00:00:00",
          "2024-06-12T00:00:00",
          "2024-06-13T00:00:00",
          "2024-06-14T00:00:00",
          "2024-06-20T00:00:00",
          "2024-06-21T00:00:00",
          "2024-06-22T00:00:00",
          "2024-06-23T00:00:00",
          "2024-06-24T00:00:00",
          "2024-06-25T00:00:00",
          "2024-06-26T00:00:00",
          "2024-06-27T00:00:00",
          "2024-06-28T00:00:00",
          "2024-06-29T00:00:00",
          "2024-06-30T00:00:00",
          "2024-07-01T00:00:00",
          "2024-07-02T00:00:00",
          "2024-07-03T00:00:00",
          "2024-07-04T00:00:00",
          "2024-07-10T00:00:00",
          "2024-07-11T00:00:00",
          "2024-07-12T00:00:00",
          "2024-07-13T00:00:00",
          "2024-07-14T00:00:00",
          "2024-07-15T00:00:00",
          "2024-07-16T00:00:00",
          "2024-07-17T00:00:00",
          "2024-07-18T00:00:00",
          "2024-07-19T00:00:00",
          "2024-07-20T00:00:00",
          "2024-07-21T00:00:00",
          "2024-07-22T00:00:00",
          "2024-07-23T00:00:00",
          "2024-07-24T00:00:00",
          "2024-07-25T00:00:00",
          "2024-07-26T00:00:00",
          "2024-07-27T00:00:00",
          "2024-07-28T00:00:00",
          "2024-07-29T00:00:00",
          "2024-07-30T00:00:00",
          "2024-07-31T00:00:00",
          "2024-08-01T00:00:00",
          "2024-08-02T00:00:00",
          "2024-08-03T00:00:00",
          "2024-08-04T00:00:00",
          "2024-08-05T00:00:00",
          "2024-08-06T00:00:00",
          "2024-08-07T00:00:00",
          "2024-08-08T00:00:00",
          "2024-08-09T00:00:00",
          "2024-08-10T00:00:00",
          "2024-08-11T00:00:00",
          "2024-08-12T00:00:00",
          "2024-08-13T00:00:00",
          "2024-08-14T00:00:00",
          "2024-08-15T00:00:00",
          "2024-08-16T00:00:00",
          "2024-08-17T00:00:00",
          "2024-08-18T00:00:00",
          "2024-08-19T00:00:00",
          "2024-08-20T00:00:00",
          "2024-08-21T00:00:00",
          "2024-08-22T00:00:00",
          "2024-08-23T00:00:00",
          "2024-08-24T00:00:00",
          "2024-08-25T00:00:00",
          "2024-08-26T00:00:00",
          "2024-08-27T00:00:00",
          "2024-08-28T00:00:00",
          "2024-08-29T00:00:00"
         ],
         "xaxis": "x",
         "y": [
          1.7971014492753625,
          1.7971014492753625,
          1.855072463768116,
          1.855072463768116,
          1.855072463768116,
          1.8792270531400967,
          1.8792270531400967,
          1.0373333333333334,
          1.0373333333333334,
          1.0373333333333334,
          1.0373333333333334,
          1.0373333333333334,
          1.0266666666666666,
          1.0266666666666666,
          1.0266666666666666,
          1.0266666666666666,
          1.0213333333333334,
          1.0213333333333334,
          1.0213333333333334,
          1.0213333333333334,
          1.0213333333333334,
          1.0213333333333334,
          1.0213333333333334,
          0.959493670886076,
          0.9670886075949366,
          0.9670886075949366,
          0.9670886075949366,
          0.9670886075949366,
          0.9670886075949366,
          0.9670886075949366,
          0.959493670886076,
          0.959493670886076,
          0.9266503667481663,
          0.9266503667481663,
          0.9266503667481663,
          0.9266503667481663,
          0.9266503667481663,
          0.9266503667481663,
          0.974293059125964,
          0.974293059125964,
          0.974293059125964,
          0.974293059125964,
          0.974293059125964,
          0.974293059125964,
          0.974293059125964,
          0.974293059125964,
          0.974293059125964,
          0.974293059125964,
          0.974293059125964,
          0.974293059125964,
          0.974293059125964,
          0.974293059125964,
          0.974293059125964,
          1,
          1,
          1,
          1,
          1,
          1,
          1,
          1,
          1,
          1,
          1,
          1,
          1,
          1,
          1,
          1,
          1,
          1,
          1,
          1,
          1,
          1,
          1,
          1,
          1,
          1,
          1,
          1,
          1,
          1,
          1,
          1,
          1,
          1,
          0.9228791773778919,
          0.9228791773778919,
          0.9228791773778919,
          0.9228791773778919,
          0.987146529562982,
          0.987146529562982,
          0.987146529562982,
          0.987146529562982,
          0.987146529562982,
          0.987146529562982,
          0.987146529562982
         ],
         "yaxis": "y"
        },
        {
         "connectgaps": false,
         "hovertemplate": "competitor_name=Atacadão - Industrial Autonomistas - Zukkin<br>Fecha=%{x}<br>GPI=%{y}<extra></extra>",
         "legendgroup": "Atacadão - Industrial Autonomistas - Zukkin",
         "line": {
          "color": "#FECB52",
          "dash": "solid"
         },
         "mode": "lines",
         "name": "Atacadão - Industrial Autonomistas - Zukkin",
         "showlegend": true,
         "type": "scattergl",
         "x": [
          "2024-05-21T00:00:00",
          "2024-05-22T00:00:00",
          "2024-05-23T00:00:00",
          "2024-05-24T00:00:00",
          "2024-05-25T00:00:00",
          "2024-05-26T00:00:00",
          "2024-05-27T00:00:00",
          "2024-05-28T00:00:00",
          "2024-05-29T00:00:00",
          "2024-06-03T00:00:00",
          "2024-06-04T00:00:00",
          "2024-06-05T00:00:00",
          "2024-06-06T00:00:00",
          "2024-06-07T00:00:00",
          "2024-06-08T00:00:00",
          "2024-06-09T00:00:00",
          "2024-06-10T00:00:00",
          "2024-06-11T00:00:00",
          "2024-06-12T00:00:00",
          "2024-06-13T00:00:00",
          "2024-06-14T00:00:00",
          "2024-06-15T00:00:00",
          "2024-06-16T00:00:00",
          "2024-06-17T00:00:00",
          "2024-06-18T00:00:00",
          "2024-06-19T00:00:00",
          "2024-06-27T00:00:00",
          "2024-06-28T00:00:00",
          "2024-06-29T00:00:00",
          "2024-06-30T00:00:00",
          "2024-07-01T00:00:00",
          "2024-07-02T00:00:00",
          "2024-07-03T00:00:00",
          "2024-07-04T00:00:00",
          "2024-07-05T00:00:00",
          "2024-07-06T00:00:00",
          "2024-07-07T00:00:00",
          "2024-07-08T00:00:00",
          "2024-07-09T00:00:00",
          "2024-07-10T00:00:00"
         ],
         "xaxis": "x",
         "y": [
          0.9696202531645569,
          0.9696202531645569,
          0.9696202531645569,
          0.9696202531645569,
          0.9696202531645569,
          0.9696202531645569,
          0.9696202531645569,
          0.9696202531645569,
          0.9696202531645569,
          0.9893333333333333,
          0.9893333333333333,
          0.9893333333333333,
          1.0106666666666666,
          1.0186666666666666,
          1.0186666666666666,
          1.0186666666666666,
          1.0186666666666666,
          0.9670886075949366,
          0.9670886075949366,
          0.959493670886076,
          0.959493670886076,
          0.959493670886076,
          0.959493670886076,
          0.959493670886076,
          0.959493670886076,
          0.959493670886076,
          0.9266503667481663,
          0.9266503667481663,
          0.9266503667481663,
          0.9266503667481663,
          0.9266503667481663,
          0.9266503667481663,
          0.9266503667481663,
          0.9266503667481663,
          0.9266503667481663,
          0.9266503667481663,
          0.9266503667481663,
          0.9266503667481663,
          0.9266503667481663,
          0.9266503667481663
         ],
         "yaxis": "y"
        },
        {
         "connectgaps": false,
         "hovertemplate": "competitor_name=Atacadão - Jardim São Geraldo - Zukkin<br>Fecha=%{x}<br>GPI=%{y}<extra></extra>",
         "legendgroup": "Atacadão - Jardim São Geraldo - Zukkin",
         "line": {
          "color": "#636efa",
          "dash": "solid"
         },
         "mode": "lines",
         "name": "Atacadão - Jardim São Geraldo - Zukkin",
         "showlegend": true,
         "type": "scattergl",
         "x": [
          "2024-05-01T00:00:00",
          "2024-05-02T00:00:00",
          "2024-05-03T00:00:00",
          "2024-05-04T00:00:00",
          "2024-05-05T00:00:00",
          "2024-05-06T00:00:00",
          "2024-05-07T00:00:00",
          "2024-05-08T00:00:00",
          "2024-05-09T00:00:00",
          "2024-05-10T00:00:00",
          "2024-05-11T00:00:00",
          "2024-05-12T00:00:00",
          "2024-05-13T00:00:00",
          "2024-05-14T00:00:00",
          "2024-05-15T00:00:00",
          "2024-05-16T00:00:00",
          "2024-05-17T00:00:00",
          "2024-05-18T00:00:00",
          "2024-05-19T00:00:00",
          "2024-05-20T00:00:00",
          "2024-05-21T00:00:00",
          "2024-05-22T00:00:00",
          "2024-05-23T00:00:00",
          "2024-05-24T00:00:00",
          "2024-05-25T00:00:00",
          "2024-05-26T00:00:00",
          "2024-05-27T00:00:00",
          "2024-05-28T00:00:00",
          "2024-05-29T00:00:00",
          "2024-05-30T00:00:00",
          "2024-06-12T00:00:00",
          "2024-06-13T00:00:00",
          "2024-06-14T00:00:00",
          "2024-06-15T00:00:00",
          "2024-06-16T00:00:00",
          "2024-06-17T00:00:00",
          "2024-06-18T00:00:00",
          "2024-06-19T00:00:00",
          "2024-06-20T00:00:00",
          "2024-06-21T00:00:00",
          "2024-06-22T00:00:00",
          "2024-06-23T00:00:00",
          "2024-06-24T00:00:00",
          "2024-06-25T00:00:00",
          "2024-06-26T00:00:00",
          "2024-06-27T00:00:00",
          "2024-06-28T00:00:00",
          "2024-06-29T00:00:00",
          "2024-06-30T00:00:00",
          "2024-07-01T00:00:00",
          "2024-07-02T00:00:00",
          "2024-07-03T00:00:00",
          "2024-07-04T00:00:00",
          "2024-07-05T00:00:00",
          "2024-07-06T00:00:00",
          "2024-07-07T00:00:00",
          "2024-07-08T00:00:00",
          "2024-07-09T00:00:00",
          "2024-07-10T00:00:00",
          "2024-07-11T00:00:00",
          "2024-07-12T00:00:00",
          "2024-07-13T00:00:00",
          "2024-07-14T00:00:00",
          "2024-07-15T00:00:00",
          "2024-07-16T00:00:00",
          "2024-07-17T00:00:00",
          "2024-07-18T00:00:00",
          "2024-07-19T00:00:00",
          "2024-07-20T00:00:00",
          "2024-07-21T00:00:00",
          "2024-07-22T00:00:00",
          "2024-07-23T00:00:00",
          "2024-07-24T00:00:00",
          "2024-07-25T00:00:00",
          "2024-07-26T00:00:00",
          "2024-07-27T00:00:00",
          "2024-07-28T00:00:00",
          "2024-07-29T00:00:00",
          "2024-07-30T00:00:00",
          "2024-07-31T00:00:00",
          "2024-08-01T00:00:00",
          "2024-08-02T00:00:00",
          "2024-08-03T00:00:00",
          "2024-08-04T00:00:00",
          "2024-08-05T00:00:00",
          "2024-08-06T00:00:00",
          "2024-08-07T00:00:00",
          "2024-08-08T00:00:00",
          "2024-08-09T00:00:00",
          "2024-08-10T00:00:00",
          "2024-08-11T00:00:00",
          "2024-08-12T00:00:00",
          "2024-08-13T00:00:00",
          "2024-08-14T00:00:00",
          "2024-08-15T00:00:00",
          "2024-08-16T00:00:00",
          "2024-08-17T00:00:00",
          "2024-08-18T00:00:00",
          "2024-08-19T00:00:00",
          "2024-08-20T00:00:00",
          "2024-08-21T00:00:00",
          "2024-08-22T00:00:00",
          "2024-08-23T00:00:00",
          "2024-08-24T00:00:00",
          "2024-08-25T00:00:00",
          "2024-08-26T00:00:00",
          "2024-08-27T00:00:00",
          "2024-08-28T00:00:00",
          "2024-08-29T00:00:00"
         ],
         "xaxis": "x",
         "y": [
          0.9920000000000001,
          0.9920000000000001,
          1.024,
          1.024,
          1.024,
          1.0373333333333334,
          1.0373333333333334,
          1.0373333333333334,
          1.0373333333333334,
          1.0373333333333334,
          1.0373333333333334,
          1.0373333333333334,
          1.0266666666666666,
          1.0266666666666666,
          1.5587044534412955,
          1.5587044534412955,
          1.5506072874493926,
          1.5506072874493926,
          1.5506072874493926,
          1.5506072874493926,
          1.5506072874493926,
          1.0213333333333334,
          1.0213333333333334,
          1.0213333333333334,
          1.0213333333333334,
          1.0213333333333334,
          1.0213333333333334,
          1.0213333333333334,
          1.0213333333333334,
          1.0213333333333334,
          1.0186666666666666,
          1.0106666666666666,
          1.0106666666666666,
          1.0106666666666666,
          1.0106666666666666,
          1.0106666666666666,
          1.0106666666666666,
          0.974293059125964,
          0.974293059125964,
          0.974293059125964,
          0.974293059125964,
          0.974293059125964,
          0.974293059125964,
          0.974293059125964,
          0.974293059125964,
          0.974293059125964,
          0.974293059125964,
          0.974293059125964,
          0.974293059125964,
          0.974293059125964,
          0.974293059125964,
          0.974293059125964,
          0.974293059125964,
          0.974293059125964,
          0.974293059125964,
          0.974293059125964,
          0.974293059125964,
          0.974293059125964,
          0.974293059125964,
          0.974293059125964,
          0.974293059125964,
          0.974293059125964,
          0.974293059125964,
          0.974293059125964,
          1,
          1,
          1,
          1,
          1,
          1,
          1,
          1,
          1,
          1,
          1,
          1,
          1,
          1,
          1,
          1,
          1,
          1,
          1,
          1,
          1,
          1,
          1,
          1,
          1,
          1,
          1,
          1,
          1,
          1,
          1,
          1,
          1,
          1,
          0.9228791773778919,
          0.9228791773778919,
          0.9228791773778919,
          0.9228791773778919,
          0.987146529562982,
          0.987146529562982,
          0.987146529562982,
          0.987146529562982,
          0.987146529562982,
          0.987146529562982,
          0.987146529562982
         ],
         "yaxis": "y"
        },
        {
         "connectgaps": false,
         "hovertemplate": "competitor_name=Atacadão - Vila Maria. - Zukkin<br>Fecha=%{x}<br>GPI=%{y}<extra></extra>",
         "legendgroup": "Atacadão - Vila Maria. - Zukkin",
         "line": {
          "color": "#EF553B",
          "dash": "solid"
         },
         "mode": "lines",
         "name": "Atacadão - Vila Maria. - Zukkin",
         "showlegend": true,
         "type": "scattergl",
         "x": [
          "2024-05-28T00:00:00",
          "2024-05-29T00:00:00",
          "2024-05-30T00:00:00",
          "2024-05-31T00:00:00",
          "2024-06-01T00:00:00",
          "2024-06-02T00:00:00",
          "2024-06-03T00:00:00",
          "2024-06-04T00:00:00",
          "2024-06-05T00:00:00",
          "2024-07-02T00:00:00",
          "2024-07-03T00:00:00",
          "2024-07-04T00:00:00",
          "2024-07-05T00:00:00",
          "2024-07-06T00:00:00",
          "2024-07-07T00:00:00",
          "2024-07-08T00:00:00",
          "2024-07-09T00:00:00",
          "2024-07-10T00:00:00",
          "2024-07-16T00:00:00",
          "2024-07-17T00:00:00",
          "2024-07-18T00:00:00",
          "2024-07-19T00:00:00",
          "2024-07-20T00:00:00",
          "2024-07-21T00:00:00",
          "2024-07-22T00:00:00",
          "2024-07-23T00:00:00",
          "2024-07-24T00:00:00",
          "2024-07-25T00:00:00",
          "2024-07-26T00:00:00",
          "2024-07-27T00:00:00",
          "2024-07-28T00:00:00",
          "2024-07-29T00:00:00",
          "2024-07-30T00:00:00",
          "2024-07-31T00:00:00",
          "2024-08-01T00:00:00",
          "2024-08-02T00:00:00",
          "2024-08-03T00:00:00",
          "2024-08-04T00:00:00",
          "2024-08-05T00:00:00",
          "2024-08-06T00:00:00",
          "2024-08-07T00:00:00",
          "2024-08-08T00:00:00",
          "2024-08-09T00:00:00",
          "2024-08-10T00:00:00",
          "2024-08-11T00:00:00",
          "2024-08-12T00:00:00",
          "2024-08-13T00:00:00",
          "2024-08-14T00:00:00",
          "2024-08-15T00:00:00",
          "2024-08-16T00:00:00",
          "2024-08-17T00:00:00",
          "2024-08-18T00:00:00",
          "2024-08-19T00:00:00",
          "2024-08-20T00:00:00",
          "2024-08-21T00:00:00",
          "2024-08-22T00:00:00",
          "2024-08-27T00:00:00",
          "2024-08-28T00:00:00",
          "2024-08-29T00:00:00"
         ],
         "xaxis": "x",
         "y": [
          1.0213333333333334,
          1.0213333333333334,
          1.0213333333333334,
          0.9893333333333333,
          0.9893333333333333,
          0.9893333333333333,
          0.9893333333333333,
          0.9893333333333333,
          0.9893333333333333,
          0.9266503667481663,
          0.9266503667481663,
          0.9266503667481663,
          0.9266503667481663,
          0.9266503667481663,
          0.9266503667481663,
          0.9266503667481663,
          0.9266503667481663,
          0.9266503667481663,
          1,
          1,
          1,
          1,
          1,
          1,
          1,
          1,
          1,
          1,
          1,
          1,
          1,
          1,
          1,
          1,
          1,
          1,
          1,
          1,
          1,
          1,
          1,
          1,
          1,
          1,
          1,
          1,
          1,
          1,
          1,
          1,
          1,
          1,
          0.9228791773778919,
          0.9228791773778919,
          0.9228791773778919,
          0.9228791773778919,
          0.9388753056234719,
          0.9388753056234719,
          0.9388753056234719
         ],
         "yaxis": "y"
        },
        {
         "connectgaps": false,
         "hovertemplate": "competitor_name=Giga Atacado - Guarulhos - Zukkin<br>Fecha=%{x}<br>GPI=%{y}<extra></extra>",
         "legendgroup": "Giga Atacado - Guarulhos - Zukkin",
         "line": {
          "color": "#00cc96",
          "dash": "solid"
         },
         "mode": "lines",
         "name": "Giga Atacado - Guarulhos - Zukkin",
         "showlegend": true,
         "type": "scattergl",
         "x": [
          "2024-05-02T00:00:00",
          "2024-05-03T00:00:00",
          "2024-05-04T00:00:00",
          "2024-05-05T00:00:00",
          "2024-05-06T00:00:00",
          "2024-05-07T00:00:00",
          "2024-05-08T00:00:00",
          "2024-05-09T00:00:00",
          "2024-05-10T00:00:00",
          "2024-05-11T00:00:00",
          "2024-05-12T00:00:00",
          "2024-05-13T00:00:00",
          "2024-05-14T00:00:00",
          "2024-05-15T00:00:00",
          "2024-05-16T00:00:00",
          "2024-05-17T00:00:00",
          "2024-05-18T00:00:00",
          "2024-05-19T00:00:00",
          "2024-05-20T00:00:00",
          "2024-05-21T00:00:00",
          "2024-05-22T00:00:00",
          "2024-05-23T00:00:00",
          "2024-05-24T00:00:00",
          "2024-05-25T00:00:00",
          "2024-05-26T00:00:00",
          "2024-05-27T00:00:00",
          "2024-05-28T00:00:00",
          "2024-05-29T00:00:00",
          "2024-05-30T00:00:00",
          "2024-06-27T00:00:00",
          "2024-06-28T00:00:00",
          "2024-06-29T00:00:00",
          "2024-06-30T00:00:00",
          "2024-07-01T00:00:00",
          "2024-07-02T00:00:00",
          "2024-07-03T00:00:00",
          "2024-07-04T00:00:00",
          "2024-07-05T00:00:00",
          "2024-07-06T00:00:00",
          "2024-07-07T00:00:00",
          "2024-07-08T00:00:00",
          "2024-07-09T00:00:00",
          "2024-07-10T00:00:00",
          "2024-07-11T00:00:00",
          "2024-07-12T00:00:00",
          "2024-07-13T00:00:00",
          "2024-07-14T00:00:00",
          "2024-07-15T00:00:00",
          "2024-07-16T00:00:00",
          "2024-07-17T00:00:00",
          "2024-07-18T00:00:00",
          "2024-07-19T00:00:00",
          "2024-08-01T00:00:00",
          "2024-08-02T00:00:00",
          "2024-08-03T00:00:00",
          "2024-08-04T00:00:00",
          "2024-08-05T00:00:00",
          "2024-08-06T00:00:00",
          "2024-08-07T00:00:00",
          "2024-08-08T00:00:00",
          "2024-08-09T00:00:00",
          "2024-08-16T00:00:00",
          "2024-08-17T00:00:00",
          "2024-08-18T00:00:00",
          "2024-08-19T00:00:00",
          "2024-08-20T00:00:00",
          "2024-08-21T00:00:00",
          "2024-08-22T00:00:00",
          "2024-08-23T00:00:00",
          "2024-08-24T00:00:00",
          "2024-08-25T00:00:00",
          "2024-08-26T00:00:00",
          "2024-08-27T00:00:00",
          "2024-08-28T00:00:00",
          "2024-08-29T00:00:00"
         ],
         "xaxis": "x",
         "y": [
          0.9815303430079156,
          1.013192612137203,
          1.013192612137203,
          1.013192612137203,
          1.0263852242744063,
          1.0263852242744063,
          1.0263852242744063,
          1.0263852242744063,
          1.0263852242744063,
          1.0263852242744063,
          1.0263852242744063,
          1.0158311345646438,
          1.0158311345646438,
          1.0158311345646438,
          1.0158311345646438,
          1.0105540897097625,
          1.0105540897097625,
          1.0105540897097625,
          1.0105540897097625,
          1.0105540897097625,
          1.0105540897097625,
          1.0105540897097625,
          1.0105540897097625,
          1.0105540897097625,
          1.0105540897097625,
          1.0105540897097625,
          1.0105540897097625,
          1.0105540897097625,
          1.0105540897097625,
          1.1519756838905775,
          1.1519756838905775,
          1.1519756838905775,
          1.1519756838905775,
          1.1519756838905775,
          1.1519756838905775,
          1.1519756838905775,
          1.0557103064066853,
          1.0557103064066853,
          1.0557103064066853,
          1.0557103064066853,
          1.0557103064066853,
          1.0557103064066853,
          1.0557103064066853,
          1.0557103064066853,
          1.0557103064066853,
          1.0557103064066853,
          1.0557103064066853,
          1.0557103064066853,
          1.083565459610028,
          1.083565459610028,
          1.083565459610028,
          1.083565459610028,
          1.1146131805157593,
          1.1146131805157593,
          1.1146131805157593,
          1.1146131805157593,
          1.1146131805157593,
          1.1146131805157593,
          1.1146131805157593,
          1.1146131805157593,
          1.1146131805157593,
          1.0345744680851066,
          1.0345744680851066,
          1.0345744680851066,
          0.9547872340425532,
          0.9547872340425532,
          0.9547872340425532,
          1.0589970501474926,
          1.1327433628318584,
          1.1327433628318584,
          1.1327433628318584,
          1.1327433628318584,
          1.1327433628318584,
          1.1327433628318584,
          1.1327433628318584
         ],
         "yaxis": "y"
        },
        {
         "connectgaps": false,
         "hovertemplate": "competitor_name=Giga Atacado - São Paulo - Zukkin<br>Fecha=%{x}<br>GPI=%{y}<extra></extra>",
         "legendgroup": "Giga Atacado - São Paulo - Zukkin",
         "line": {
          "color": "#ab63fa",
          "dash": "solid"
         },
         "mode": "lines",
         "name": "Giga Atacado - São Paulo - Zukkin",
         "showlegend": true,
         "type": "scattergl",
         "x": [
          "2024-06-12T00:00:00",
          "2024-06-13T00:00:00",
          "2024-06-14T00:00:00",
          "2024-06-15T00:00:00",
          "2024-06-16T00:00:00",
          "2024-06-17T00:00:00",
          "2024-06-18T00:00:00",
          "2024-06-19T00:00:00",
          "2024-06-20T00:00:00",
          "2024-06-21T00:00:00",
          "2024-06-22T00:00:00",
          "2024-06-23T00:00:00",
          "2024-06-24T00:00:00",
          "2024-06-25T00:00:00",
          "2024-06-26T00:00:00",
          "2024-06-27T00:00:00",
          "2024-06-28T00:00:00",
          "2024-06-29T00:00:00",
          "2024-06-30T00:00:00",
          "2024-07-01T00:00:00",
          "2024-07-02T00:00:00",
          "2024-07-03T00:00:00",
          "2024-07-04T00:00:00",
          "2024-07-05T00:00:00",
          "2024-07-06T00:00:00",
          "2024-07-07T00:00:00",
          "2024-07-08T00:00:00",
          "2024-07-09T00:00:00",
          "2024-07-10T00:00:00",
          "2024-07-11T00:00:00",
          "2024-07-12T00:00:00",
          "2024-07-13T00:00:00",
          "2024-07-14T00:00:00",
          "2024-07-15T00:00:00",
          "2024-07-16T00:00:00",
          "2024-07-17T00:00:00",
          "2024-07-18T00:00:00",
          "2024-07-19T00:00:00",
          "2024-07-20T00:00:00",
          "2024-07-21T00:00:00",
          "2024-07-22T00:00:00",
          "2024-07-23T00:00:00",
          "2024-07-24T00:00:00",
          "2024-07-25T00:00:00",
          "2024-07-26T00:00:00",
          "2024-07-27T00:00:00",
          "2024-07-28T00:00:00",
          "2024-07-29T00:00:00",
          "2024-07-30T00:00:00",
          "2024-07-31T00:00:00",
          "2024-08-01T00:00:00",
          "2024-08-02T00:00:00",
          "2024-08-03T00:00:00",
          "2024-08-04T00:00:00",
          "2024-08-05T00:00:00",
          "2024-08-06T00:00:00",
          "2024-08-07T00:00:00",
          "2024-08-08T00:00:00",
          "2024-08-09T00:00:00",
          "2024-08-10T00:00:00",
          "2024-08-11T00:00:00",
          "2024-08-12T00:00:00",
          "2024-08-13T00:00:00",
          "2024-08-14T00:00:00",
          "2024-08-15T00:00:00",
          "2024-08-16T00:00:00",
          "2024-08-17T00:00:00",
          "2024-08-18T00:00:00",
          "2024-08-19T00:00:00",
          "2024-08-20T00:00:00",
          "2024-08-21T00:00:00",
          "2024-08-22T00:00:00",
          "2024-08-23T00:00:00",
          "2024-08-24T00:00:00",
          "2024-08-25T00:00:00",
          "2024-08-26T00:00:00",
          "2024-08-27T00:00:00",
          "2024-08-28T00:00:00",
          "2024-08-29T00:00:00"
         ],
         "xaxis": "x",
         "y": [
          0.9820051413881747,
          0.974293059125964,
          0.974293059125964,
          0.974293059125964,
          0.974293059125964,
          0.974293059125964,
          0.974293059125964,
          0.974293059125964,
          0.974293059125964,
          0.974293059125964,
          0.974293059125964,
          0.974293059125964,
          0.974293059125964,
          0.974293059125964,
          0.974293059125964,
          0.974293059125964,
          0.974293059125964,
          0.974293059125964,
          0.974293059125964,
          0.974293059125964,
          0.974293059125964,
          0.974293059125964,
          0.974293059125964,
          0.974293059125964,
          0.974293059125964,
          0.974293059125964,
          0.974293059125964,
          0.974293059125964,
          0.974293059125964,
          0.974293059125964,
          0.974293059125964,
          0.974293059125964,
          0.974293059125964,
          0.974293059125964,
          1,
          1,
          1,
          1,
          1,
          1,
          1,
          1,
          1,
          1,
          1,
          1,
          1,
          1,
          1,
          1.1146131805157593,
          1.1146131805157593,
          1.1146131805157593,
          1.1146131805157593,
          1.1146131805157593,
          1.1146131805157593,
          1.1146131805157593,
          1.0373333333333334,
          1.0373333333333334,
          1.0373333333333334,
          1.0373333333333334,
          1.0373333333333334,
          1.0373333333333334,
          1.0373333333333334,
          1.0373333333333334,
          1.0373333333333334,
          1.0373333333333334,
          1.0373333333333334,
          1.0373333333333334,
          0.9573333333333333,
          0.9573333333333333,
          1.0589970501474926,
          1.0589970501474926,
          1.1327433628318584,
          1.1327433628318584,
          1.1327433628318584,
          1.1327433628318584,
          1.1327433628318584,
          0.9974025974025973,
          0.9974025974025973
         ],
         "yaxis": "y"
        },
        {
         "connectgaps": false,
         "hovertemplate": "competitor_name=Mercadão Atacadista - Pirajussara - Zukkin<br>Fecha=%{x}<br>GPI=%{y}<extra></extra>",
         "legendgroup": "Mercadão Atacadista - Pirajussara - Zukkin",
         "line": {
          "color": "#FFA15A",
          "dash": "solid"
         },
         "mode": "lines",
         "name": "Mercadão Atacadista - Pirajussara - Zukkin",
         "showlegend": true,
         "type": "scattergl",
         "x": [
          "2024-06-04T00:00:00",
          "2024-06-05T00:00:00",
          "2024-06-06T00:00:00",
          "2024-06-07T00:00:00",
          "2024-06-08T00:00:00",
          "2024-06-09T00:00:00",
          "2024-06-10T00:00:00",
          "2024-06-11T00:00:00",
          "2024-06-12T00:00:00",
          "2024-06-13T00:00:00",
          "2024-06-14T00:00:00",
          "2024-06-15T00:00:00",
          "2024-06-16T00:00:00",
          "2024-06-17T00:00:00",
          "2024-06-18T00:00:00",
          "2024-06-19T00:00:00",
          "2024-06-20T00:00:00",
          "2024-06-21T00:00:00",
          "2024-06-22T00:00:00",
          "2024-06-23T00:00:00",
          "2024-06-24T00:00:00",
          "2024-06-25T00:00:00",
          "2024-06-26T00:00:00",
          "2024-06-27T00:00:00",
          "2024-06-28T00:00:00",
          "2024-06-29T00:00:00",
          "2024-06-30T00:00:00",
          "2024-07-01T00:00:00",
          "2024-07-02T00:00:00",
          "2024-07-03T00:00:00",
          "2024-07-04T00:00:00",
          "2024-07-05T00:00:00",
          "2024-07-06T00:00:00",
          "2024-07-07T00:00:00",
          "2024-07-08T00:00:00",
          "2024-07-09T00:00:00",
          "2024-07-10T00:00:00",
          "2024-07-11T00:00:00",
          "2024-07-12T00:00:00",
          "2024-07-13T00:00:00",
          "2024-07-14T00:00:00",
          "2024-07-15T00:00:00",
          "2024-07-16T00:00:00",
          "2024-07-17T00:00:00",
          "2024-07-18T00:00:00",
          "2024-07-19T00:00:00",
          "2024-07-20T00:00:00",
          "2024-07-21T00:00:00",
          "2024-07-22T00:00:00",
          "2024-07-23T00:00:00",
          "2024-07-24T00:00:00",
          "2024-07-25T00:00:00",
          "2024-07-26T00:00:00",
          "2024-07-27T00:00:00",
          "2024-07-28T00:00:00",
          "2024-07-29T00:00:00",
          "2024-07-30T00:00:00",
          "2024-07-31T00:00:00",
          "2024-08-06T00:00:00",
          "2024-08-07T00:00:00",
          "2024-08-08T00:00:00",
          "2024-08-09T00:00:00",
          "2024-08-10T00:00:00",
          "2024-08-11T00:00:00",
          "2024-08-12T00:00:00",
          "2024-08-13T00:00:00",
          "2024-08-14T00:00:00",
          "2024-08-15T00:00:00",
          "2024-08-16T00:00:00",
          "2024-08-17T00:00:00",
          "2024-08-18T00:00:00",
          "2024-08-19T00:00:00",
          "2024-08-20T00:00:00",
          "2024-08-21T00:00:00",
          "2024-08-22T00:00:00",
          "2024-08-23T00:00:00",
          "2024-08-24T00:00:00",
          "2024-08-25T00:00:00",
          "2024-08-26T00:00:00",
          "2024-08-27T00:00:00",
          "2024-08-28T00:00:00",
          "2024-08-29T00:00:00"
         ],
         "xaxis": "x",
         "y": [
          0.8262806236080178,
          0.8262806236080178,
          0.844097995545657,
          0.8507795100222716,
          0.8507795100222716,
          0.8507795100222716,
          0.8507795100222716,
          0.9573934837092731,
          0.9573934837092731,
          0.949874686716792,
          0.949874686716792,
          0.949874686716792,
          0.949874686716792,
          0.949874686716792,
          0.949874686716792,
          0.949874686716792,
          0.949874686716792,
          0.949874686716792,
          0.949874686716792,
          0.949874686716792,
          0.949874686716792,
          0.949874686716792,
          0.949874686716792,
          0.949874686716792,
          0.949874686716792,
          0.949874686716792,
          0.949874686716792,
          0.949874686716792,
          0.949874686716792,
          0.949874686716792,
          0.949874686716792,
          0.949874686716792,
          0.949874686716792,
          0.949874686716792,
          0.949874686716792,
          0.949874686716792,
          0.949874686716792,
          0.949874686716792,
          0.949874686716792,
          0.949874686716792,
          0.949874686716792,
          0.949874686716792,
          0.974937343358396,
          0.974937343358396,
          0.974937343358396,
          0.974937343358396,
          0.974937343358396,
          0.974937343358396,
          0.974937343358396,
          0.974937343358396,
          0.974937343358396,
          0.974937343358396,
          0.974937343358396,
          0.974937343358396,
          0.974937343358396,
          0.974937343358396,
          0.974937343358396,
          0.974937343358396,
          0.974937343358396,
          0.974937343358396,
          0.974937343358396,
          0.974937343358396,
          0.974937343358396,
          0.974937343358396,
          0.974937343358396,
          0.974937343358396,
          0.974937343358396,
          0.974937343358396,
          0.974937343358396,
          0.974937343358396,
          0.974937343358396,
          0.8997493734335839,
          0.8997493734335839,
          0.8997493734335839,
          0.8997493734335839,
          0.9624060150375939,
          0.9624060150375939,
          0.9624060150375939,
          0.9624060150375939,
          0.9624060150375939,
          0.9624060150375939,
          0.9624060150375939
         ],
         "yaxis": "y"
        },
        {
         "connectgaps": false,
         "hovertemplate": "competitor_name=Roldão - Guarulhos - Zukkin<br>Fecha=%{x}<br>GPI=%{y}<extra></extra>",
         "legendgroup": "Roldão - Guarulhos - Zukkin",
         "line": {
          "color": "#19d3f3",
          "dash": "solid"
         },
         "mode": "lines",
         "name": "Roldão - Guarulhos - Zukkin",
         "showlegend": true,
         "type": "scattergl",
         "x": [
          "2024-05-29T00:00:00",
          "2024-05-30T00:00:00",
          "2024-05-31T00:00:00",
          "2024-06-01T00:00:00",
          "2024-06-02T00:00:00",
          "2024-06-03T00:00:00",
          "2024-06-04T00:00:00",
          "2024-06-05T00:00:00",
          "2024-06-06T00:00:00",
          "2024-06-12T00:00:00",
          "2024-06-13T00:00:00",
          "2024-06-14T00:00:00",
          "2024-06-15T00:00:00",
          "2024-06-16T00:00:00",
          "2024-06-17T00:00:00",
          "2024-06-18T00:00:00",
          "2024-06-19T00:00:00",
          "2024-06-20T00:00:00",
          "2024-07-10T00:00:00",
          "2024-07-11T00:00:00",
          "2024-07-12T00:00:00",
          "2024-07-13T00:00:00",
          "2024-07-14T00:00:00",
          "2024-07-15T00:00:00",
          "2024-07-16T00:00:00",
          "2024-07-17T00:00:00",
          "2024-07-18T00:00:00",
          "2024-07-19T00:00:00",
          "2024-07-20T00:00:00",
          "2024-07-21T00:00:00",
          "2024-07-22T00:00:00",
          "2024-07-23T00:00:00",
          "2024-07-24T00:00:00",
          "2024-07-25T00:00:00",
          "2024-07-26T00:00:00",
          "2024-07-27T00:00:00",
          "2024-07-28T00:00:00",
          "2024-07-29T00:00:00",
          "2024-07-30T00:00:00",
          "2024-07-31T00:00:00",
          "2024-08-01T00:00:00",
          "2024-08-02T00:00:00",
          "2024-08-03T00:00:00",
          "2024-08-04T00:00:00",
          "2024-08-05T00:00:00",
          "2024-08-06T00:00:00",
          "2024-08-07T00:00:00",
          "2024-08-08T00:00:00",
          "2024-08-09T00:00:00",
          "2024-08-10T00:00:00",
          "2024-08-11T00:00:00",
          "2024-08-12T00:00:00",
          "2024-08-13T00:00:00",
          "2024-08-14T00:00:00",
          "2024-08-15T00:00:00",
          "2024-08-16T00:00:00",
          "2024-08-17T00:00:00",
          "2024-08-18T00:00:00",
          "2024-08-19T00:00:00",
          "2024-08-20T00:00:00",
          "2024-08-21T00:00:00",
          "2024-08-22T00:00:00",
          "2024-08-23T00:00:00",
          "2024-08-24T00:00:00",
          "2024-08-25T00:00:00",
          "2024-08-26T00:00:00",
          "2024-08-27T00:00:00",
          "2024-08-28T00:00:00",
          "2024-08-29T00:00:00"
         ],
         "xaxis": "x",
         "y": [
          0.9845758354755784,
          0.9845758354755784,
          0.9537275064267352,
          0.9537275064267352,
          0.9537275064267352,
          0.9537275064267352,
          0.9537275064267352,
          0.9537275064267352,
          0.974293059125964,
          0.8904428904428904,
          0.8834498834498834,
          0.8834498834498834,
          0.8834498834498834,
          0.8834498834498834,
          0.8834498834498834,
          0.8834498834498834,
          0.8834498834498834,
          0.8834498834498834,
          0.8834498834498834,
          0.8834498834498834,
          0.8834498834498834,
          0.8834498834498834,
          0.8834498834498834,
          0.8834498834498834,
          0.9067599067599068,
          0.9067599067599068,
          0.9067599067599068,
          0.9067599067599068,
          0.9067599067599068,
          0.9067599067599068,
          0.9067599067599068,
          0.9067599067599068,
          0.9067599067599068,
          0.9067599067599068,
          0.9067599067599068,
          0.9067599067599068,
          0.9067599067599068,
          0.9067599067599068,
          0.9067599067599068,
          0.974937343358396,
          0.974937343358396,
          0.974937343358396,
          0.974937343358396,
          0.974937343358396,
          0.974937343358396,
          0.974937343358396,
          0.9067599067599068,
          0.9067599067599068,
          0.9067599067599068,
          0.9067599067599068,
          0.9067599067599068,
          0.9067599067599068,
          0.9067599067599068,
          0.9067599067599068,
          0.9067599067599068,
          0.9067599067599068,
          0.9067599067599068,
          0.9067599067599068,
          0.8368298368298368,
          0.8368298368298368,
          0.8368298368298368,
          0.8368298368298368,
          0.8951048951048951,
          0.8951048951048951,
          0.8951048951048951,
          0.8951048951048951,
          0.8951048951048951,
          0.8951048951048951,
          0.8951048951048951
         ],
         "yaxis": "y"
        },
        {
         "connectgaps": false,
         "hovertemplate": "competitor_name=Tenda - Socorro - Zukkin<br>Fecha=%{x}<br>GPI=%{y}<extra></extra>",
         "legendgroup": "Tenda - Socorro - Zukkin",
         "line": {
          "color": "#FF6692",
          "dash": "solid"
         },
         "mode": "lines",
         "name": "Tenda - Socorro - Zukkin",
         "showlegend": true,
         "type": "scattergl",
         "x": [
          "2024-06-11T00:00:00",
          "2024-06-12T00:00:00",
          "2024-06-13T00:00:00",
          "2024-06-14T00:00:00",
          "2024-06-15T00:00:00",
          "2024-06-16T00:00:00",
          "2024-06-17T00:00:00",
          "2024-06-18T00:00:00",
          "2024-06-19T00:00:00",
          "2024-06-25T00:00:00",
          "2024-06-26T00:00:00",
          "2024-06-27T00:00:00",
          "2024-06-28T00:00:00",
          "2024-06-29T00:00:00",
          "2024-06-30T00:00:00",
          "2024-07-01T00:00:00",
          "2024-07-02T00:00:00",
          "2024-07-03T00:00:00",
          "2024-07-04T00:00:00",
          "2024-07-05T00:00:00",
          "2024-07-06T00:00:00",
          "2024-07-07T00:00:00",
          "2024-07-08T00:00:00",
          "2024-07-09T00:00:00",
          "2024-07-10T00:00:00",
          "2024-07-23T00:00:00",
          "2024-07-24T00:00:00",
          "2024-07-25T00:00:00",
          "2024-07-26T00:00:00",
          "2024-07-27T00:00:00",
          "2024-07-28T00:00:00",
          "2024-07-29T00:00:00",
          "2024-07-30T00:00:00",
          "2024-07-31T00:00:00",
          "2024-08-01T00:00:00",
          "2024-08-02T00:00:00",
          "2024-08-03T00:00:00",
          "2024-08-04T00:00:00",
          "2024-08-05T00:00:00",
          "2024-08-06T00:00:00",
          "2024-08-07T00:00:00",
          "2024-08-08T00:00:00",
          "2024-08-09T00:00:00",
          "2024-08-10T00:00:00",
          "2024-08-11T00:00:00",
          "2024-08-12T00:00:00",
          "2024-08-13T00:00:00",
          "2024-08-14T00:00:00",
          "2024-08-15T00:00:00",
          "2024-08-16T00:00:00",
          "2024-08-17T00:00:00",
          "2024-08-18T00:00:00",
          "2024-08-19T00:00:00",
          "2024-08-20T00:00:00",
          "2024-08-21T00:00:00",
          "2024-08-22T00:00:00",
          "2024-08-23T00:00:00",
          "2024-08-24T00:00:00",
          "2024-08-25T00:00:00",
          "2024-08-26T00:00:00",
          "2024-08-27T00:00:00",
          "2024-08-28T00:00:00",
          "2024-08-29T00:00:00"
         ],
         "xaxis": "x",
         "y": [
          0.9573934837092731,
          0.9573934837092731,
          0.949874686716792,
          0.949874686716792,
          0.949874686716792,
          0.949874686716792,
          0.949874686716792,
          0.949874686716792,
          0.949874686716792,
          0.949874686716792,
          0.949874686716792,
          0.949874686716792,
          0.949874686716792,
          0.949874686716792,
          0.949874686716792,
          0.949874686716792,
          0.949874686716792,
          0.949874686716792,
          0.949874686716792,
          0.949874686716792,
          0.949874686716792,
          0.949874686716792,
          0.949874686716792,
          0.949874686716792,
          0.949874686716792,
          0.9284009546539379,
          0.9284009546539379,
          0.9284009546539379,
          0.9284009546539379,
          0.9284009546539379,
          0.9284009546539379,
          0.9284009546539379,
          0.9284009546539379,
          1.0373333333333334,
          1.0373333333333334,
          1.0373333333333334,
          1.0373333333333334,
          1.0373333333333334,
          1.0373333333333334,
          1,
          1,
          1,
          1,
          1,
          1,
          1,
          1,
          1,
          1,
          1,
          1,
          1,
          0.9228791773778919,
          0.9228791773778919,
          0.9228791773778919,
          0.9228791773778919,
          0.987146529562982,
          0.987146529562982,
          0.987146529562982,
          0.987146529562982,
          0.987146529562982,
          0.987146529562982,
          0.987146529562982
         ],
         "yaxis": "y"
        }
       ],
       "layout": {
        "height": 600,
        "legend": {
         "title": {
          "text": "competitor_name"
         },
         "tracegroupgap": 0
        },
        "template": {
         "data": {
          "bar": [
           {
            "error_x": {
             "color": "#2a3f5f"
            },
            "error_y": {
             "color": "#2a3f5f"
            },
            "marker": {
             "line": {
              "color": "#E5ECF6",
              "width": 0.5
             }
            },
            "type": "bar"
           }
          ],
          "barpolar": [
           {
            "marker": {
             "line": {
              "color": "#E5ECF6",
              "width": 0.5
             }
            },
            "type": "barpolar"
           }
          ],
          "carpet": [
           {
            "aaxis": {
             "endlinecolor": "#2a3f5f",
             "gridcolor": "white",
             "linecolor": "white",
             "minorgridcolor": "white",
             "startlinecolor": "#2a3f5f"
            },
            "baxis": {
             "endlinecolor": "#2a3f5f",
             "gridcolor": "white",
             "linecolor": "white",
             "minorgridcolor": "white",
             "startlinecolor": "#2a3f5f"
            },
            "type": "carpet"
           }
          ],
          "choropleth": [
           {
            "colorbar": {
             "outlinewidth": 0,
             "ticks": ""
            },
            "type": "choropleth"
           }
          ],
          "contour": [
           {
            "colorbar": {
             "outlinewidth": 0,
             "ticks": ""
            },
            "colorscale": [
             [
              0,
              "#0d0887"
             ],
             [
              0.1111111111111111,
              "#46039f"
             ],
             [
              0.2222222222222222,
              "#7201a8"
             ],
             [
              0.3333333333333333,
              "#9c179e"
             ],
             [
              0.4444444444444444,
              "#bd3786"
             ],
             [
              0.5555555555555556,
              "#d8576b"
             ],
             [
              0.6666666666666666,
              "#ed7953"
             ],
             [
              0.7777777777777778,
              "#fb9f3a"
             ],
             [
              0.8888888888888888,
              "#fdca26"
             ],
             [
              1,
              "#f0f921"
             ]
            ],
            "type": "contour"
           }
          ],
          "contourcarpet": [
           {
            "colorbar": {
             "outlinewidth": 0,
             "ticks": ""
            },
            "type": "contourcarpet"
           }
          ],
          "heatmap": [
           {
            "colorbar": {
             "outlinewidth": 0,
             "ticks": ""
            },
            "colorscale": [
             [
              0,
              "#0d0887"
             ],
             [
              0.1111111111111111,
              "#46039f"
             ],
             [
              0.2222222222222222,
              "#7201a8"
             ],
             [
              0.3333333333333333,
              "#9c179e"
             ],
             [
              0.4444444444444444,
              "#bd3786"
             ],
             [
              0.5555555555555556,
              "#d8576b"
             ],
             [
              0.6666666666666666,
              "#ed7953"
             ],
             [
              0.7777777777777778,
              "#fb9f3a"
             ],
             [
              0.8888888888888888,
              "#fdca26"
             ],
             [
              1,
              "#f0f921"
             ]
            ],
            "type": "heatmap"
           }
          ],
          "heatmapgl": [
           {
            "colorbar": {
             "outlinewidth": 0,
             "ticks": ""
            },
            "colorscale": [
             [
              0,
              "#0d0887"
             ],
             [
              0.1111111111111111,
              "#46039f"
             ],
             [
              0.2222222222222222,
              "#7201a8"
             ],
             [
              0.3333333333333333,
              "#9c179e"
             ],
             [
              0.4444444444444444,
              "#bd3786"
             ],
             [
              0.5555555555555556,
              "#d8576b"
             ],
             [
              0.6666666666666666,
              "#ed7953"
             ],
             [
              0.7777777777777778,
              "#fb9f3a"
             ],
             [
              0.8888888888888888,
              "#fdca26"
             ],
             [
              1,
              "#f0f921"
             ]
            ],
            "type": "heatmapgl"
           }
          ],
          "histogram": [
           {
            "marker": {
             "colorbar": {
              "outlinewidth": 0,
              "ticks": ""
             }
            },
            "type": "histogram"
           }
          ],
          "histogram2d": [
           {
            "colorbar": {
             "outlinewidth": 0,
             "ticks": ""
            },
            "colorscale": [
             [
              0,
              "#0d0887"
             ],
             [
              0.1111111111111111,
              "#46039f"
             ],
             [
              0.2222222222222222,
              "#7201a8"
             ],
             [
              0.3333333333333333,
              "#9c179e"
             ],
             [
              0.4444444444444444,
              "#bd3786"
             ],
             [
              0.5555555555555556,
              "#d8576b"
             ],
             [
              0.6666666666666666,
              "#ed7953"
             ],
             [
              0.7777777777777778,
              "#fb9f3a"
             ],
             [
              0.8888888888888888,
              "#fdca26"
             ],
             [
              1,
              "#f0f921"
             ]
            ],
            "type": "histogram2d"
           }
          ],
          "histogram2dcontour": [
           {
            "colorbar": {
             "outlinewidth": 0,
             "ticks": ""
            },
            "colorscale": [
             [
              0,
              "#0d0887"
             ],
             [
              0.1111111111111111,
              "#46039f"
             ],
             [
              0.2222222222222222,
              "#7201a8"
             ],
             [
              0.3333333333333333,
              "#9c179e"
             ],
             [
              0.4444444444444444,
              "#bd3786"
             ],
             [
              0.5555555555555556,
              "#d8576b"
             ],
             [
              0.6666666666666666,
              "#ed7953"
             ],
             [
              0.7777777777777778,
              "#fb9f3a"
             ],
             [
              0.8888888888888888,
              "#fdca26"
             ],
             [
              1,
              "#f0f921"
             ]
            ],
            "type": "histogram2dcontour"
           }
          ],
          "mesh3d": [
           {
            "colorbar": {
             "outlinewidth": 0,
             "ticks": ""
            },
            "type": "mesh3d"
           }
          ],
          "parcoords": [
           {
            "line": {
             "colorbar": {
              "outlinewidth": 0,
              "ticks": ""
             }
            },
            "type": "parcoords"
           }
          ],
          "pie": [
           {
            "automargin": true,
            "type": "pie"
           }
          ],
          "scatter": [
           {
            "marker": {
             "colorbar": {
              "outlinewidth": 0,
              "ticks": ""
             }
            },
            "type": "scatter"
           }
          ],
          "scatter3d": [
           {
            "line": {
             "colorbar": {
              "outlinewidth": 0,
              "ticks": ""
             }
            },
            "marker": {
             "colorbar": {
              "outlinewidth": 0,
              "ticks": ""
             }
            },
            "type": "scatter3d"
           }
          ],
          "scattercarpet": [
           {
            "marker": {
             "colorbar": {
              "outlinewidth": 0,
              "ticks": ""
             }
            },
            "type": "scattercarpet"
           }
          ],
          "scattergeo": [
           {
            "marker": {
             "colorbar": {
              "outlinewidth": 0,
              "ticks": ""
             }
            },
            "type": "scattergeo"
           }
          ],
          "scattergl": [
           {
            "marker": {
             "colorbar": {
              "outlinewidth": 0,
              "ticks": ""
             }
            },
            "type": "scattergl"
           }
          ],
          "scattermapbox": [
           {
            "marker": {
             "colorbar": {
              "outlinewidth": 0,
              "ticks": ""
             }
            },
            "type": "scattermapbox"
           }
          ],
          "scatterpolar": [
           {
            "marker": {
             "colorbar": {
              "outlinewidth": 0,
              "ticks": ""
             }
            },
            "type": "scatterpolar"
           }
          ],
          "scatterpolargl": [
           {
            "marker": {
             "colorbar": {
              "outlinewidth": 0,
              "ticks": ""
             }
            },
            "type": "scatterpolargl"
           }
          ],
          "scatterternary": [
           {
            "marker": {
             "colorbar": {
              "outlinewidth": 0,
              "ticks": ""
             }
            },
            "type": "scatterternary"
           }
          ],
          "surface": [
           {
            "colorbar": {
             "outlinewidth": 0,
             "ticks": ""
            },
            "colorscale": [
             [
              0,
              "#0d0887"
             ],
             [
              0.1111111111111111,
              "#46039f"
             ],
             [
              0.2222222222222222,
              "#7201a8"
             ],
             [
              0.3333333333333333,
              "#9c179e"
             ],
             [
              0.4444444444444444,
              "#bd3786"
             ],
             [
              0.5555555555555556,
              "#d8576b"
             ],
             [
              0.6666666666666666,
              "#ed7953"
             ],
             [
              0.7777777777777778,
              "#fb9f3a"
             ],
             [
              0.8888888888888888,
              "#fdca26"
             ],
             [
              1,
              "#f0f921"
             ]
            ],
            "type": "surface"
           }
          ],
          "table": [
           {
            "cells": {
             "fill": {
              "color": "#EBF0F8"
             },
             "line": {
              "color": "white"
             }
            },
            "header": {
             "fill": {
              "color": "#C8D4E3"
             },
             "line": {
              "color": "white"
             }
            },
            "type": "table"
           }
          ]
         },
         "layout": {
          "annotationdefaults": {
           "arrowcolor": "#2a3f5f",
           "arrowhead": 0,
           "arrowwidth": 1
          },
          "autotypenumbers": "strict",
          "coloraxis": {
           "colorbar": {
            "outlinewidth": 0,
            "ticks": ""
           }
          },
          "colorscale": {
           "diverging": [
            [
             0,
             "#8e0152"
            ],
            [
             0.1,
             "#c51b7d"
            ],
            [
             0.2,
             "#de77ae"
            ],
            [
             0.3,
             "#f1b6da"
            ],
            [
             0.4,
             "#fde0ef"
            ],
            [
             0.5,
             "#f7f7f7"
            ],
            [
             0.6,
             "#e6f5d0"
            ],
            [
             0.7,
             "#b8e186"
            ],
            [
             0.8,
             "#7fbc41"
            ],
            [
             0.9,
             "#4d9221"
            ],
            [
             1,
             "#276419"
            ]
           ],
           "sequential": [
            [
             0,
             "#0d0887"
            ],
            [
             0.1111111111111111,
             "#46039f"
            ],
            [
             0.2222222222222222,
             "#7201a8"
            ],
            [
             0.3333333333333333,
             "#9c179e"
            ],
            [
             0.4444444444444444,
             "#bd3786"
            ],
            [
             0.5555555555555556,
             "#d8576b"
            ],
            [
             0.6666666666666666,
             "#ed7953"
            ],
            [
             0.7777777777777778,
             "#fb9f3a"
            ],
            [
             0.8888888888888888,
             "#fdca26"
            ],
            [
             1,
             "#f0f921"
            ]
           ],
           "sequentialminus": [
            [
             0,
             "#0d0887"
            ],
            [
             0.1111111111111111,
             "#46039f"
            ],
            [
             0.2222222222222222,
             "#7201a8"
            ],
            [
             0.3333333333333333,
             "#9c179e"
            ],
            [
             0.4444444444444444,
             "#bd3786"
            ],
            [
             0.5555555555555556,
             "#d8576b"
            ],
            [
             0.6666666666666666,
             "#ed7953"
            ],
            [
             0.7777777777777778,
             "#fb9f3a"
            ],
            [
             0.8888888888888888,
             "#fdca26"
            ],
            [
             1,
             "#f0f921"
            ]
           ]
          },
          "colorway": [
           "#636efa",
           "#EF553B",
           "#00cc96",
           "#ab63fa",
           "#FFA15A",
           "#19d3f3",
           "#FF6692",
           "#B6E880",
           "#FF97FF",
           "#FECB52"
          ],
          "font": {
           "color": "#2a3f5f"
          },
          "geo": {
           "bgcolor": "white",
           "lakecolor": "white",
           "landcolor": "#E5ECF6",
           "showlakes": true,
           "showland": true,
           "subunitcolor": "white"
          },
          "hoverlabel": {
           "align": "left"
          },
          "hovermode": "closest",
          "mapbox": {
           "style": "light"
          },
          "paper_bgcolor": "white",
          "plot_bgcolor": "#E5ECF6",
          "polar": {
           "angularaxis": {
            "gridcolor": "white",
            "linecolor": "white",
            "ticks": ""
           },
           "bgcolor": "#E5ECF6",
           "radialaxis": {
            "gridcolor": "white",
            "linecolor": "white",
            "ticks": ""
           }
          },
          "scene": {
           "xaxis": {
            "backgroundcolor": "#E5ECF6",
            "gridcolor": "white",
            "gridwidth": 2,
            "linecolor": "white",
            "showbackground": true,
            "ticks": "",
            "zerolinecolor": "white"
           },
           "yaxis": {
            "backgroundcolor": "#E5ECF6",
            "gridcolor": "white",
            "gridwidth": 2,
            "linecolor": "white",
            "showbackground": true,
            "ticks": "",
            "zerolinecolor": "white"
           },
           "zaxis": {
            "backgroundcolor": "#E5ECF6",
            "gridcolor": "white",
            "gridwidth": 2,
            "linecolor": "white",
            "showbackground": true,
            "ticks": "",
            "zerolinecolor": "white"
           }
          },
          "shapedefaults": {
           "line": {
            "color": "#2a3f5f"
           }
          },
          "ternary": {
           "aaxis": {
            "gridcolor": "white",
            "linecolor": "white",
            "ticks": ""
           },
           "baxis": {
            "gridcolor": "white",
            "linecolor": "white",
            "ticks": ""
           },
           "bgcolor": "#E5ECF6",
           "caxis": {
            "gridcolor": "white",
            "linecolor": "white",
            "ticks": ""
           }
          },
          "title": {
           "x": 0.05
          },
          "xaxis": {
           "automargin": true,
           "gridcolor": "white",
           "linecolor": "white",
           "ticks": "",
           "title": {
            "standoff": 15
           },
           "zerolinecolor": "white",
           "zerolinewidth": 2
          },
          "yaxis": {
           "automargin": true,
           "gridcolor": "white",
           "linecolor": "white",
           "ticks": "",
           "title": {
            "standoff": 15
           },
           "zerolinecolor": "white",
           "zerolinewidth": 2
          }
         }
        },
        "title": {
         "text": "GPI por Competitor Name"
        },
        "xaxis": {
         "anchor": "y",
         "domain": [
          0,
          1
         ],
         "title": {
          "text": "Fecha"
         }
        },
        "yaxis": {
         "anchor": "x",
         "domain": [
          0,
          1
         ],
         "title": {
          "text": "GPI"
         }
        }
       }
      },
      "text/html": [
       "<div>                            <div id=\"71f2bba6-3eed-457b-b779-87310ccd3a3a\" class=\"plotly-graph-div\" style=\"height:600px; width:100%;\"></div>            <script type=\"text/javascript\">                require([\"plotly\"], function(Plotly) {                    window.PLOTLYENV=window.PLOTLYENV || {};                                    if (document.getElementById(\"71f2bba6-3eed-457b-b779-87310ccd3a3a\")) {                    Plotly.newPlot(                        \"71f2bba6-3eed-457b-b779-87310ccd3a3a\",                        [{\"connectgaps\": false, \"hovertemplate\": \"competitor_name=Akki - Balne\\u00e1rio Mar Paulista, Cupec\\u00ea - Zukkin<br>Fecha=%{x}<br>GPI=%{y}<extra></extra>\", \"legendgroup\": \"Akki - Balne\\u00e1rio Mar Paulista, Cupec\\u00ea - Zukkin\", \"line\": {\"color\": \"#636efa\", \"dash\": \"solid\"}, \"mode\": \"lines\", \"name\": \"Akki - Balne\\u00e1rio Mar Paulista, Cupec\\u00ea - Zukkin\", \"showlegend\": true, \"type\": \"scattergl\", \"x\": [\"2024-05-07T00:00:00\", \"2024-05-08T00:00:00\", \"2024-05-09T00:00:00\", \"2024-05-10T00:00:00\", \"2024-05-11T00:00:00\", \"2024-05-12T00:00:00\", \"2024-05-13T00:00:00\", \"2024-05-14T00:00:00\", \"2024-05-15T00:00:00\", \"2024-05-16T00:00:00\", \"2024-05-17T00:00:00\", \"2024-05-18T00:00:00\", \"2024-05-19T00:00:00\", \"2024-05-20T00:00:00\", \"2024-05-21T00:00:00\", \"2024-05-22T00:00:00\", \"2024-05-23T00:00:00\", \"2024-05-24T00:00:00\", \"2024-05-28T00:00:00\", \"2024-05-29T00:00:00\", \"2024-05-30T00:00:00\", \"2024-05-31T00:00:00\", \"2024-06-01T00:00:00\", \"2024-06-02T00:00:00\", \"2024-06-03T00:00:00\", \"2024-06-04T00:00:00\", \"2024-06-05T00:00:00\", \"2024-06-06T00:00:00\", \"2024-06-07T00:00:00\", \"2024-06-08T00:00:00\", \"2024-06-09T00:00:00\", \"2024-06-10T00:00:00\", \"2024-06-11T00:00:00\", \"2024-06-12T00:00:00\", \"2024-06-13T00:00:00\", \"2024-06-14T00:00:00\", \"2024-06-15T00:00:00\", \"2024-06-16T00:00:00\", \"2024-06-17T00:00:00\", \"2024-06-18T00:00:00\", \"2024-06-19T00:00:00\", \"2024-06-20T00:00:00\", \"2024-06-21T00:00:00\", \"2024-06-22T00:00:00\", \"2024-06-23T00:00:00\", \"2024-06-24T00:00:00\", \"2024-06-25T00:00:00\", \"2024-06-26T00:00:00\", \"2024-06-27T00:00:00\", \"2024-06-28T00:00:00\", \"2024-06-29T00:00:00\", \"2024-06-30T00:00:00\", \"2024-07-01T00:00:00\", \"2024-07-02T00:00:00\", \"2024-07-03T00:00:00\", \"2024-07-04T00:00:00\", \"2024-07-05T00:00:00\", \"2024-07-06T00:00:00\", \"2024-07-07T00:00:00\", \"2024-07-08T00:00:00\", \"2024-07-09T00:00:00\", \"2024-07-10T00:00:00\", \"2024-07-11T00:00:00\", \"2024-07-12T00:00:00\", \"2024-07-13T00:00:00\", \"2024-07-14T00:00:00\", \"2024-07-15T00:00:00\", \"2024-07-16T00:00:00\", \"2024-07-17T00:00:00\", \"2024-07-18T00:00:00\", \"2024-07-22T00:00:00\", \"2024-07-23T00:00:00\", \"2024-07-24T00:00:00\", \"2024-07-25T00:00:00\", \"2024-07-26T00:00:00\", \"2024-07-27T00:00:00\", \"2024-07-28T00:00:00\", \"2024-07-29T00:00:00\", \"2024-07-30T00:00:00\", \"2024-07-31T00:00:00\", \"2024-08-01T00:00:00\", \"2024-08-08T00:00:00\", \"2024-08-09T00:00:00\", \"2024-08-10T00:00:00\", \"2024-08-11T00:00:00\", \"2024-08-12T00:00:00\", \"2024-08-13T00:00:00\", \"2024-08-14T00:00:00\", \"2024-08-15T00:00:00\", \"2024-08-16T00:00:00\", \"2024-08-17T00:00:00\", \"2024-08-18T00:00:00\", \"2024-08-19T00:00:00\", \"2024-08-20T00:00:00\", \"2024-08-21T00:00:00\", \"2024-08-22T00:00:00\", \"2024-08-23T00:00:00\", \"2024-08-24T00:00:00\", \"2024-08-25T00:00:00\", \"2024-08-26T00:00:00\", \"2024-08-27T00:00:00\", \"2024-08-28T00:00:00\", \"2024-08-29T00:00:00\"], \"xaxis\": \"x\", \"y\": [1.0542005420054201, 1.0542005420054201, 1.0542005420054201, 1.0542005420054201, 1.0542005420054201, 1.0542005420054201, 1.043360433604336, 1.043360433604336, 1.043360433604336, 1.043360433604336, 1.037940379403794, 1.037940379403794, 1.037940379403794, 1.037940379403794, 1.037940379403794, 1.037940379403794, 1.037940379403794, 1.037940379403794, 1.037940379403794, 1.037940379403794, 1.037940379403794, 1.005420054200542, 1.005420054200542, 1.005420054200542, 1.005420054200542, 1.005420054200542, 1.005420054200542, 1.02710027100271, 1.0352303523035231, 1.0352303523035231, 1.0352303523035231, 1.0352303523035231, 1.0352303523035231, 0.8904428904428904, 0.8834498834498834, 0.8834498834498834, 0.8834498834498834, 0.8834498834498834, 0.8834498834498834, 0.974293059125964, 0.974293059125964, 0.974293059125964, 0.974293059125964, 0.974293059125964, 0.974293059125964, 0.974293059125964, 0.8834498834498834, 0.8834498834498834, 0.8834498834498834, 0.8834498834498834, 0.8834498834498834, 0.8834498834498834, 0.8834498834498834, 0.8834498834498834, 0.974293059125964, 0.974293059125964, 0.974293059125964, 0.974293059125964, 0.974293059125964, 0.974293059125964, 0.974293059125964, 0.974293059125964, 0.974293059125964, 0.974293059125964, 0.974293059125964, 0.974293059125964, 0.974293059125964, 1.0, 1.0, 1.0, 0.974937343358396, 0.974937343358396, 0.974937343358396, 0.974937343358396, 0.974937343358396, 0.974937343358396, 0.974937343358396, 0.974937343358396, 0.974937343358396, 0.974937343358396, 0.974937343358396, 0.974937343358396, 0.974937343358396, 0.974937343358396, 0.974937343358396, 0.974937343358396, 0.974937343358396, 0.974937343358396, 0.974937343358396, 0.974937343358396, 0.974937343358396, 0.974937343358396, 0.8997493734335839, 0.8997493734335839, 0.8997493734335839, 0.8997493734335839, 0.9624060150375939, 0.9624060150375939, 0.9624060150375939, 0.9624060150375939, 0.9624060150375939, 0.9624060150375939, 0.9624060150375939], \"yaxis\": \"y\"}, {\"connectgaps\": false, \"hovertemplate\": \"competitor_name=Akki - Socorro - Zukkin<br>Fecha=%{x}<br>GPI=%{y}<extra></extra>\", \"legendgroup\": \"Akki - Socorro - Zukkin\", \"line\": {\"color\": \"#EF553B\", \"dash\": \"solid\"}, \"mode\": \"lines\", \"name\": \"Akki - Socorro - Zukkin\", \"showlegend\": true, \"type\": \"scattergl\", \"x\": [\"2024-05-01T00:00:00\", \"2024-05-02T00:00:00\", \"2024-05-03T00:00:00\", \"2024-05-04T00:00:00\", \"2024-05-05T00:00:00\", \"2024-05-06T00:00:00\", \"2024-05-07T00:00:00\", \"2024-05-08T00:00:00\", \"2024-05-09T00:00:00\", \"2024-05-10T00:00:00\", \"2024-05-11T00:00:00\", \"2024-05-12T00:00:00\", \"2024-05-13T00:00:00\", \"2024-05-14T00:00:00\", \"2024-05-15T00:00:00\", \"2024-05-16T00:00:00\", \"2024-05-17T00:00:00\", \"2024-05-18T00:00:00\", \"2024-05-19T00:00:00\", \"2024-05-20T00:00:00\", \"2024-05-21T00:00:00\", \"2024-05-22T00:00:00\", \"2024-05-23T00:00:00\", \"2024-05-24T00:00:00\", \"2024-05-25T00:00:00\", \"2024-05-26T00:00:00\", \"2024-05-27T00:00:00\", \"2024-05-28T00:00:00\", \"2024-05-29T00:00:00\", \"2024-05-30T00:00:00\", \"2024-07-24T00:00:00\", \"2024-07-25T00:00:00\", \"2024-07-26T00:00:00\", \"2024-07-27T00:00:00\", \"2024-07-28T00:00:00\", \"2024-07-29T00:00:00\", \"2024-07-30T00:00:00\", \"2024-07-31T00:00:00\", \"2024-08-01T00:00:00\", \"2024-08-02T00:00:00\", \"2024-08-03T00:00:00\", \"2024-08-04T00:00:00\", \"2024-08-05T00:00:00\", \"2024-08-06T00:00:00\", \"2024-08-07T00:00:00\", \"2024-08-08T00:00:00\", \"2024-08-09T00:00:00\", \"2024-08-10T00:00:00\", \"2024-08-11T00:00:00\", \"2024-08-12T00:00:00\", \"2024-08-13T00:00:00\", \"2024-08-14T00:00:00\", \"2024-08-15T00:00:00\", \"2024-08-22T00:00:00\", \"2024-08-23T00:00:00\", \"2024-08-24T00:00:00\", \"2024-08-25T00:00:00\", \"2024-08-26T00:00:00\", \"2024-08-27T00:00:00\", \"2024-08-28T00:00:00\", \"2024-08-29T00:00:00\"], \"xaxis\": \"x\", \"y\": [0.9323308270676691, 0.9323308270676691, 0.9624060150375939, 0.9624060150375939, 0.9624060150375939, 0.974937343358396, 0.974937343358396, 1.0542005420054201, 1.0542005420054201, 1.0542005420054201, 1.0542005420054201, 1.0542005420054201, 1.043360433604336, 1.043360433604336, 1.043360433604336, 1.043360433604336, 1.037940379403794, 1.037940379403794, 1.037940379403794, 1.037940379403794, 1.037940379403794, 1.037940379403794, 1.037940379403794, 1.037940379403794, 1.037940379403794, 1.037940379403794, 1.037940379403794, 1.037940379403794, 1.037940379403794, 1.037940379403794, 0.974937343358396, 0.974937343358396, 0.974937343358396, 0.974937343358396, 0.974937343358396, 0.974937343358396, 0.974937343358396, 0.974937343358396, 0.974937343358396, 0.974937343358396, 0.974937343358396, 0.974937343358396, 0.974937343358396, 0.974937343358396, 1.0, 1.0, 1.0, 1.0, 1.0, 1.0, 1.0, 1.0, 1.0, 0.8997493734335839, 0.9624060150375939, 0.9624060150375939, 0.9624060150375939, 0.9624060150375939, 0.9624060150375939, 0.9624060150375939, 0.9624060150375939], \"yaxis\": \"y\"}, {\"connectgaps\": false, \"hovertemplate\": \"competitor_name=Assa\\u00ed - Jd. Santa Francisca - Zukkin<br>Fecha=%{x}<br>GPI=%{y}<extra></extra>\", \"legendgroup\": \"Assa\\u00ed - Jd. Santa Francisca - Zukkin\", \"line\": {\"color\": \"#00cc96\", \"dash\": \"solid\"}, \"mode\": \"lines\", \"name\": \"Assa\\u00ed - Jd. Santa Francisca - Zukkin\", \"showlegend\": true, \"type\": \"scattergl\", \"x\": [\"2024-05-28T00:00:00\", \"2024-05-29T00:00:00\", \"2024-05-30T00:00:00\", \"2024-05-31T00:00:00\", \"2024-06-01T00:00:00\", \"2024-06-02T00:00:00\", \"2024-06-03T00:00:00\", \"2024-06-04T00:00:00\", \"2024-06-05T00:00:00\", \"2024-06-06T00:00:00\", \"2024-06-07T00:00:00\", \"2024-06-08T00:00:00\", \"2024-06-09T00:00:00\", \"2024-06-10T00:00:00\", \"2024-06-11T00:00:00\", \"2024-06-12T00:00:00\", \"2024-06-13T00:00:00\", \"2024-06-14T00:00:00\", \"2024-06-15T00:00:00\", \"2024-06-16T00:00:00\", \"2024-06-17T00:00:00\", \"2024-06-18T00:00:00\", \"2024-06-19T00:00:00\", \"2024-06-20T00:00:00\", \"2024-06-21T00:00:00\", \"2024-06-22T00:00:00\", \"2024-06-23T00:00:00\", \"2024-06-24T00:00:00\", \"2024-06-25T00:00:00\", \"2024-06-26T00:00:00\", \"2024-06-27T00:00:00\", \"2024-06-28T00:00:00\", \"2024-06-29T00:00:00\", \"2024-06-30T00:00:00\", \"2024-07-01T00:00:00\", \"2024-07-02T00:00:00\", \"2024-07-03T00:00:00\", \"2024-07-04T00:00:00\", \"2024-07-05T00:00:00\", \"2024-07-06T00:00:00\", \"2024-07-07T00:00:00\", \"2024-07-08T00:00:00\", \"2024-07-09T00:00:00\", \"2024-07-10T00:00:00\", \"2024-07-11T00:00:00\", \"2024-07-12T00:00:00\", \"2024-07-13T00:00:00\", \"2024-07-14T00:00:00\", \"2024-07-15T00:00:00\", \"2024-07-16T00:00:00\", \"2024-07-17T00:00:00\", \"2024-07-18T00:00:00\", \"2024-07-19T00:00:00\", \"2024-07-20T00:00:00\", \"2024-07-21T00:00:00\", \"2024-07-22T00:00:00\", \"2024-07-23T00:00:00\", \"2024-07-24T00:00:00\", \"2024-07-25T00:00:00\", \"2024-07-26T00:00:00\", \"2024-07-27T00:00:00\", \"2024-07-28T00:00:00\", \"2024-07-29T00:00:00\", \"2024-07-30T00:00:00\", \"2024-07-31T00:00:00\", \"2024-08-01T00:00:00\", \"2024-08-02T00:00:00\", \"2024-08-03T00:00:00\", \"2024-08-04T00:00:00\", \"2024-08-05T00:00:00\", \"2024-08-06T00:00:00\", \"2024-08-07T00:00:00\", \"2024-08-08T00:00:00\", \"2024-08-09T00:00:00\", \"2024-08-10T00:00:00\", \"2024-08-11T00:00:00\", \"2024-08-12T00:00:00\", \"2024-08-13T00:00:00\", \"2024-08-14T00:00:00\", \"2024-08-15T00:00:00\", \"2024-08-16T00:00:00\", \"2024-08-17T00:00:00\", \"2024-08-18T00:00:00\", \"2024-08-19T00:00:00\", \"2024-08-20T00:00:00\", \"2024-08-21T00:00:00\", \"2024-08-22T00:00:00\", \"2024-08-23T00:00:00\", \"2024-08-24T00:00:00\", \"2024-08-25T00:00:00\", \"2024-08-26T00:00:00\", \"2024-08-27T00:00:00\", \"2024-08-28T00:00:00\", \"2024-08-29T00:00:00\"], \"xaxis\": \"x\", \"y\": [1.0668523676880224, 1.0668523676880224, 1.0668523676880224, 1.033426183844011, 1.033426183844011, 1.033426183844011, 1.033426183844011, 1.033426183844011, 1.033426183844011, 1.0557103064066853, 1.064066852367688, 1.064066852367688, 1.064066852367688, 1.064066852367688, 1.064066852367688, 1.064066852367688, 1.0557103064066853, 1.0557103064066853, 1.0557103064066853, 1.0557103064066853, 1.0557103064066853, 1.0557103064066853, 1.0557103064066853, 1.0557103064066853, 1.0557103064066853, 1.0557103064066853, 1.0557103064066853, 1.0557103064066853, 1.0557103064066853, 1.0557103064066853, 1.0557103064066853, 1.0557103064066853, 1.0557103064066853, 1.0557103064066853, 1.0557103064066853, 1.0557103064066853, 1.0557103064066853, 1.0557103064066853, 1.0557103064066853, 1.0557103064066853, 1.0557103064066853, 1.0557103064066853, 1.0557103064066853, 1.0557103064066853, 1.0557103064066853, 1.0557103064066853, 1.0557103064066853, 1.0557103064066853, 1.0557103064066853, 1.083565459610028, 1.083565459610028, 1.083565459610028, 1.083565459610028, 1.083565459610028, 1.083565459610028, 1.083565459610028, 1.083565459610028, 1.083565459610028, 1.083565459610028, 1.083565459610028, 1.083565459610028, 1.083565459610028, 1.083565459610028, 1.083565459610028, 1.083565459610028, 1.083565459610028, 1.083565459610028, 1.083565459610028, 1.083565459610028, 1.083565459610028, 1.083565459610028, 1.083565459610028, 1.083565459610028, 1.083565459610028, 1.083565459610028, 1.083565459610028, 1.083565459610028, 1.083565459610028, 1.083565459610028, 1.083565459610028, 1.083565459610028, 1.083565459610028, 1.083565459610028, 1.0, 0.9472295514511873, 0.9472295514511873, 0.9472295514511873, 1.013192612137203, 1.013192612137203, 1.013192612137203, 1.013192612137203, 1.013192612137203, 1.013192612137203, 1.013192612137203], \"yaxis\": \"y\"}, {\"connectgaps\": false, \"hovertemplate\": \"competitor_name=Assa\\u00ed - Osasco - Zukkin<br>Fecha=%{x}<br>GPI=%{y}<extra></extra>\", \"legendgroup\": \"Assa\\u00ed - Osasco - Zukkin\", \"line\": {\"color\": \"#ab63fa\", \"dash\": \"solid\"}, \"mode\": \"lines\", \"name\": \"Assa\\u00ed - Osasco - Zukkin\", \"showlegend\": true, \"type\": \"scattergl\", \"x\": [\"2024-06-13T00:00:00\", \"2024-06-14T00:00:00\", \"2024-06-15T00:00:00\", \"2024-06-16T00:00:00\", \"2024-06-17T00:00:00\", \"2024-06-18T00:00:00\", \"2024-06-19T00:00:00\", \"2024-06-20T00:00:00\", \"2024-06-21T00:00:00\", \"2024-07-03T00:00:00\", \"2024-07-04T00:00:00\", \"2024-07-05T00:00:00\", \"2024-07-06T00:00:00\", \"2024-07-07T00:00:00\", \"2024-07-08T00:00:00\", \"2024-07-09T00:00:00\", \"2024-07-10T00:00:00\", \"2024-07-11T00:00:00\", \"2024-07-12T00:00:00\", \"2024-07-13T00:00:00\", \"2024-07-14T00:00:00\", \"2024-07-15T00:00:00\", \"2024-07-16T00:00:00\", \"2024-07-17T00:00:00\", \"2024-07-18T00:00:00\", \"2024-07-19T00:00:00\", \"2024-07-20T00:00:00\", \"2024-07-21T00:00:00\", \"2024-07-22T00:00:00\", \"2024-07-23T00:00:00\", \"2024-07-24T00:00:00\", \"2024-07-25T00:00:00\", \"2024-07-26T00:00:00\", \"2024-07-27T00:00:00\", \"2024-07-28T00:00:00\", \"2024-07-29T00:00:00\", \"2024-07-30T00:00:00\", \"2024-07-31T00:00:00\", \"2024-08-01T00:00:00\", \"2024-08-02T00:00:00\", \"2024-08-03T00:00:00\", \"2024-08-04T00:00:00\", \"2024-08-05T00:00:00\", \"2024-08-06T00:00:00\", \"2024-08-07T00:00:00\", \"2024-08-08T00:00:00\", \"2024-08-09T00:00:00\", \"2024-08-10T00:00:00\", \"2024-08-11T00:00:00\", \"2024-08-12T00:00:00\", \"2024-08-13T00:00:00\", \"2024-08-14T00:00:00\", \"2024-08-15T00:00:00\", \"2024-08-16T00:00:00\", \"2024-08-17T00:00:00\", \"2024-08-18T00:00:00\", \"2024-08-19T00:00:00\", \"2024-08-20T00:00:00\", \"2024-08-21T00:00:00\", \"2024-08-22T00:00:00\", \"2024-08-23T00:00:00\", \"2024-08-24T00:00:00\", \"2024-08-25T00:00:00\", \"2024-08-26T00:00:00\", \"2024-08-27T00:00:00\", \"2024-08-28T00:00:00\", \"2024-08-29T00:00:00\"], \"xaxis\": \"x\", \"y\": [1.0106666666666666, 1.0106666666666666, 1.0106666666666666, 1.0106666666666666, 1.0106666666666666, 1.0106666666666666, 1.0106666666666666, 1.0106666666666666, 1.0106666666666666, 1.0106666666666666, 1.0106666666666666, 1.0106666666666666, 1.0106666666666666, 1.0106666666666666, 1.0106666666666666, 1.0106666666666666, 0.9844155844155844, 0.9844155844155844, 0.9844155844155844, 0.9844155844155844, 0.9844155844155844, 0.9844155844155844, 1.0103896103896104, 1.0373333333333334, 1.0373333333333334, 1.0373333333333334, 1.0373333333333334, 1.0373333333333334, 1.0373333333333334, 1.0373333333333334, 1.0373333333333334, 1.0373333333333334, 1.0373333333333334, 1.0373333333333334, 1.0373333333333334, 1.0373333333333334, 1.0373333333333334, 1.0373333333333334, 1.0373333333333334, 1.0373333333333334, 1.0373333333333334, 1.0373333333333334, 1.0373333333333334, 1.0373333333333334, 1.0373333333333334, 1.0373333333333334, 1.0373333333333334, 1.0373333333333334, 1.0373333333333334, 1.0373333333333334, 1.0373333333333334, 1.0373333333333334, 1.0373333333333334, 1.0373333333333334, 1.0373333333333334, 1.0373333333333334, 0.9573333333333333, 0.9573333333333333, 0.9573333333333333, 0.9324675324675324, 0.9974025974025973, 0.9974025974025973, 0.9974025974025973, 0.9974025974025973, 0.9974025974025973, 0.9974025974025973, 0.9974025974025973], \"yaxis\": \"y\"}, {\"connectgaps\": false, \"hovertemplate\": \"competitor_name=Assa\\u00ed - Santo Andr\\u00e9 - Zukkin<br>Fecha=%{x}<br>GPI=%{y}<extra></extra>\", \"legendgroup\": \"Assa\\u00ed - Santo Andr\\u00e9 - Zukkin\", \"line\": {\"color\": \"#FFA15A\", \"dash\": \"solid\"}, \"mode\": \"lines\", \"name\": \"Assa\\u00ed - Santo Andr\\u00e9 - Zukkin\", \"showlegend\": true, \"type\": \"scattergl\", \"x\": [\"2024-06-06T00:00:00\", \"2024-06-07T00:00:00\", \"2024-06-08T00:00:00\", \"2024-06-09T00:00:00\", \"2024-06-10T00:00:00\", \"2024-06-11T00:00:00\", \"2024-06-12T00:00:00\", \"2024-06-13T00:00:00\", \"2024-06-14T00:00:00\", \"2024-06-21T00:00:00\", \"2024-06-22T00:00:00\", \"2024-06-23T00:00:00\", \"2024-06-24T00:00:00\", \"2024-06-25T00:00:00\", \"2024-06-26T00:00:00\", \"2024-06-27T00:00:00\", \"2024-06-28T00:00:00\", \"2024-06-29T00:00:00\", \"2024-06-30T00:00:00\", \"2024-07-01T00:00:00\", \"2024-07-02T00:00:00\", \"2024-07-03T00:00:00\", \"2024-07-04T00:00:00\", \"2024-07-05T00:00:00\", \"2024-07-06T00:00:00\", \"2024-07-07T00:00:00\", \"2024-07-08T00:00:00\", \"2024-07-09T00:00:00\", \"2024-07-10T00:00:00\", \"2024-07-11T00:00:00\", \"2024-07-12T00:00:00\", \"2024-07-13T00:00:00\", \"2024-07-14T00:00:00\", \"2024-07-15T00:00:00\", \"2024-07-16T00:00:00\", \"2024-07-17T00:00:00\", \"2024-07-18T00:00:00\", \"2024-07-19T00:00:00\", \"2024-07-20T00:00:00\", \"2024-07-21T00:00:00\", \"2024-07-22T00:00:00\", \"2024-07-23T00:00:00\", \"2024-07-24T00:00:00\", \"2024-07-25T00:00:00\", \"2024-07-26T00:00:00\", \"2024-07-27T00:00:00\", \"2024-07-28T00:00:00\", \"2024-07-29T00:00:00\", \"2024-07-30T00:00:00\", \"2024-07-31T00:00:00\", \"2024-08-01T00:00:00\", \"2024-08-02T00:00:00\", \"2024-08-03T00:00:00\", \"2024-08-04T00:00:00\", \"2024-08-05T00:00:00\", \"2024-08-06T00:00:00\", \"2024-08-07T00:00:00\", \"2024-08-08T00:00:00\", \"2024-08-09T00:00:00\", \"2024-08-10T00:00:00\", \"2024-08-11T00:00:00\", \"2024-08-12T00:00:00\", \"2024-08-13T00:00:00\", \"2024-08-14T00:00:00\", \"2024-08-15T00:00:00\", \"2024-08-16T00:00:00\", \"2024-08-17T00:00:00\", \"2024-08-18T00:00:00\", \"2024-08-19T00:00:00\", \"2024-08-20T00:00:00\", \"2024-08-21T00:00:00\", \"2024-08-22T00:00:00\", \"2024-08-23T00:00:00\", \"2024-08-24T00:00:00\", \"2024-08-25T00:00:00\", \"2024-08-26T00:00:00\", \"2024-08-27T00:00:00\", \"2024-08-28T00:00:00\", \"2024-08-29T00:00:00\"], \"xaxis\": \"x\", \"y\": [1.02710027100271, 1.0352303523035231, 1.0352303523035231, 1.0352303523035231, 1.0352303523035231, 1.0352303523035231, 1.0352303523035231, 1.02710027100271, 1.02710027100271, 1.02710027100271, 1.02710027100271, 1.02710027100271, 1.02710027100271, 1.02710027100271, 1.02710027100271, 1.02710027100271, 1.0106666666666666, 1.0106666666666666, 1.0106666666666666, 1.0106666666666666, 1.0106666666666666, 1.0557103064066853, 1.0557103064066853, 1.0557103064066853, 1.0557103064066853, 1.0557103064066853, 1.02710027100271, 1.02710027100271, 1.02710027100271, 1.02710027100271, 1.02710027100271, 1.02710027100271, 1.02710027100271, 1.02710027100271, 1.0542005420054201, 1.0542005420054201, 1.0542005420054201, 1.0542005420054201, 1.0542005420054201, 1.0542005420054201, 1.0542005420054201, 1.0542005420054201, 1.0542005420054201, 1.0542005420054201, 1.0542005420054201, 1.0542005420054201, 1.0542005420054201, 1.0542005420054201, 1.0542005420054201, 1.0542005420054201, 1.0542005420054201, 1.0542005420054201, 1.0542005420054201, 1.0542005420054201, 1.0542005420054201, 1.0542005420054201, 1.0542005420054201, 1.0542005420054201, 1.0542005420054201, 1.0542005420054201, 1.0542005420054201, 1.0542005420054201, 1.0542005420054201, 1.0542005420054201, 1.0542005420054201, 1.0542005420054201, 1.0542005420054201, 1.0542005420054201, 0.9728997289972899, 0.9728997289972899, 0.9324675324675324, 0.9324675324675324, 0.9974025974025973, 0.9974025974025973, 0.9974025974025973, 0.9974025974025973, 0.9974025974025973, 0.9974025974025973, 0.9974025974025973], \"yaxis\": \"y\"}, {\"connectgaps\": false, \"hovertemplate\": \"competitor_name=Assa\\u00ed - Tatuap\\u00e9 - Zukkin<br>Fecha=%{x}<br>GPI=%{y}<extra></extra>\", \"legendgroup\": \"Assa\\u00ed - Tatuap\\u00e9 - Zukkin\", \"line\": {\"color\": \"#19d3f3\", \"dash\": \"solid\"}, \"mode\": \"lines\", \"name\": \"Assa\\u00ed - Tatuap\\u00e9 - Zukkin\", \"showlegend\": true, \"type\": \"scattergl\", \"x\": [\"2024-05-24T00:00:00\", \"2024-05-25T00:00:00\", \"2024-05-26T00:00:00\", \"2024-05-27T00:00:00\", \"2024-05-28T00:00:00\", \"2024-05-29T00:00:00\", \"2024-05-30T00:00:00\", \"2024-05-31T00:00:00\", \"2024-06-01T00:00:00\", \"2024-06-11T00:00:00\", \"2024-06-12T00:00:00\", \"2024-06-13T00:00:00\", \"2024-06-14T00:00:00\", \"2024-06-15T00:00:00\", \"2024-06-16T00:00:00\", \"2024-06-17T00:00:00\", \"2024-06-18T00:00:00\", \"2024-06-19T00:00:00\", \"2024-07-30T00:00:00\", \"2024-07-31T00:00:00\", \"2024-08-01T00:00:00\", \"2024-08-02T00:00:00\", \"2024-08-03T00:00:00\", \"2024-08-04T00:00:00\", \"2024-08-05T00:00:00\", \"2024-08-06T00:00:00\", \"2024-08-07T00:00:00\", \"2024-08-09T00:00:00\", \"2024-08-10T00:00:00\", \"2024-08-11T00:00:00\", \"2024-08-12T00:00:00\", \"2024-08-13T00:00:00\", \"2024-08-14T00:00:00\", \"2024-08-15T00:00:00\", \"2024-08-16T00:00:00\", \"2024-08-17T00:00:00\", \"2024-08-18T00:00:00\", \"2024-08-19T00:00:00\", \"2024-08-20T00:00:00\", \"2024-08-21T00:00:00\", \"2024-08-22T00:00:00\", \"2024-08-23T00:00:00\", \"2024-08-24T00:00:00\", \"2024-08-25T00:00:00\", \"2024-08-26T00:00:00\", \"2024-08-27T00:00:00\", \"2024-08-28T00:00:00\", \"2024-08-29T00:00:00\"], \"xaxis\": \"x\", \"y\": [1.0213333333333334, 1.0213333333333334, 1.0213333333333334, 1.0213333333333334, 1.0213333333333334, 1.0213333333333334, 1.0213333333333334, 0.9893333333333333, 0.9893333333333333, 0.9573934837092731, 0.9573934837092731, 0.949874686716792, 0.949874686716792, 0.949874686716792, 0.949874686716792, 0.949874686716792, 0.949874686716792, 0.949874686716792, 1.0373333333333334, 1.0373333333333334, 1.0373333333333334, 1.0373333333333334, 1.0373333333333334, 1.0373333333333334, 1.0373333333333334, 1.0373333333333334, 1.0373333333333334, 1.0373333333333334, 1.0373333333333334, 1.0373333333333334, 1.0373333333333334, 1.0373333333333334, 1.0373333333333334, 1.0373333333333334, 1.0373333333333334, 1.0373333333333334, 1.0373333333333334, 0.9573333333333333, 0.9573333333333333, 0.9573333333333333, 1.0, 1.0696378830083566, 1.0696378830083566, 1.0696378830083566, 1.0696378830083566, 1.0696378830083566, 1.0696378830083566, 1.0696378830083566], \"yaxis\": \"y\"}, {\"connectgaps\": false, \"hovertemplate\": \"competitor_name=Assa\\u00ed - Vila Sonia - Zukkin<br>Fecha=%{x}<br>GPI=%{y}<extra></extra>\", \"legendgroup\": \"Assa\\u00ed - Vila Sonia - Zukkin\", \"line\": {\"color\": \"#FF6692\", \"dash\": \"solid\"}, \"mode\": \"lines\", \"name\": \"Assa\\u00ed - Vila Sonia - Zukkin\", \"showlegend\": true, \"type\": \"scattergl\", \"x\": [\"2024-05-28T00:00:00\", \"2024-05-29T00:00:00\", \"2024-05-30T00:00:00\", \"2024-05-31T00:00:00\", \"2024-06-01T00:00:00\", \"2024-06-02T00:00:00\", \"2024-06-03T00:00:00\", \"2024-06-04T00:00:00\", \"2024-06-05T00:00:00\", \"2024-06-06T00:00:00\", \"2024-06-07T00:00:00\", \"2024-06-08T00:00:00\", \"2024-06-09T00:00:00\", \"2024-06-10T00:00:00\", \"2024-06-11T00:00:00\", \"2024-06-12T00:00:00\", \"2024-06-13T00:00:00\", \"2024-06-14T00:00:00\", \"2024-06-15T00:00:00\", \"2024-06-16T00:00:00\", \"2024-06-17T00:00:00\", \"2024-06-18T00:00:00\", \"2024-06-19T00:00:00\", \"2024-06-20T00:00:00\", \"2024-06-21T00:00:00\", \"2024-06-22T00:00:00\", \"2024-06-23T00:00:00\", \"2024-06-24T00:00:00\", \"2024-06-25T00:00:00\", \"2024-06-26T00:00:00\", \"2024-06-27T00:00:00\", \"2024-06-28T00:00:00\", \"2024-06-29T00:00:00\", \"2024-06-30T00:00:00\", \"2024-07-01T00:00:00\", \"2024-07-02T00:00:00\", \"2024-07-03T00:00:00\", \"2024-07-04T00:00:00\", \"2024-07-05T00:00:00\", \"2024-07-06T00:00:00\", \"2024-07-07T00:00:00\", \"2024-07-08T00:00:00\", \"2024-07-09T00:00:00\", \"2024-07-10T00:00:00\", \"2024-07-11T00:00:00\", \"2024-07-12T00:00:00\", \"2024-07-13T00:00:00\", \"2024-07-14T00:00:00\", \"2024-07-15T00:00:00\", \"2024-07-16T00:00:00\", \"2024-07-17T00:00:00\", \"2024-07-18T00:00:00\", \"2024-07-19T00:00:00\", \"2024-07-20T00:00:00\", \"2024-07-21T00:00:00\", \"2024-07-22T00:00:00\", \"2024-07-23T00:00:00\", \"2024-07-24T00:00:00\", \"2024-07-25T00:00:00\", \"2024-07-26T00:00:00\", \"2024-07-27T00:00:00\", \"2024-07-28T00:00:00\", \"2024-07-29T00:00:00\", \"2024-07-30T00:00:00\", \"2024-07-31T00:00:00\", \"2024-08-01T00:00:00\", \"2024-08-02T00:00:00\", \"2024-08-03T00:00:00\", \"2024-08-04T00:00:00\", \"2024-08-05T00:00:00\", \"2024-08-06T00:00:00\", \"2024-08-07T00:00:00\", \"2024-08-08T00:00:00\", \"2024-08-09T00:00:00\", \"2024-08-10T00:00:00\", \"2024-08-11T00:00:00\", \"2024-08-12T00:00:00\", \"2024-08-13T00:00:00\", \"2024-08-14T00:00:00\", \"2024-08-15T00:00:00\", \"2024-08-16T00:00:00\", \"2024-08-17T00:00:00\", \"2024-08-18T00:00:00\", \"2024-08-19T00:00:00\", \"2024-08-20T00:00:00\", \"2024-08-21T00:00:00\", \"2024-08-22T00:00:00\", \"2024-08-23T00:00:00\", \"2024-08-24T00:00:00\", \"2024-08-25T00:00:00\", \"2024-08-26T00:00:00\", \"2024-08-27T00:00:00\", \"2024-08-28T00:00:00\", \"2024-08-29T00:00:00\"], \"xaxis\": \"x\", \"y\": [1.037940379403794, 1.037940379403794, 1.037940379403794, 1.005420054200542, 1.005420054200542, 1.005420054200542, 1.005420054200542, 1.005420054200542, 1.005420054200542, 1.02710027100271, 1.0352303523035231, 1.0352303523035231, 1.0352303523035231, 1.0352303523035231, 1.0352303523035231, 1.0352303523035231, 1.02710027100271, 1.02710027100271, 1.02710027100271, 1.02710027100271, 1.02710027100271, 1.02710027100271, 1.02710027100271, 1.02710027100271, 1.02710027100271, 1.02710027100271, 1.02710027100271, 1.02710027100271, 1.0, 1.0, 1.0, 1.0, 1.0, 1.0, 1.0, 1.02710027100271, 1.02710027100271, 1.02710027100271, 1.02710027100271, 1.02710027100271, 1.02710027100271, 1.02710027100271, 1.02710027100271, 1.02710027100271, 1.02710027100271, 1.02710027100271, 1.02710027100271, 1.02710027100271, 1.02710027100271, 1.0542005420054201, 1.0542005420054201, 1.0542005420054201, 1.0542005420054201, 1.0542005420054201, 1.0542005420054201, 1.0542005420054201, 1.0542005420054201, 1.0542005420054201, 1.0542005420054201, 1.0542005420054201, 1.0542005420054201, 1.0542005420054201, 1.0542005420054201, 1.0542005420054201, 1.0542005420054201, 1.0542005420054201, 1.0542005420054201, 1.0542005420054201, 1.0542005420054201, 1.0542005420054201, 1.0542005420054201, 1.0542005420054201, 1.0542005420054201, 1.0542005420054201, 1.0542005420054201, 1.0542005420054201, 1.0542005420054201, 1.0542005420054201, 1.0542005420054201, 1.0542005420054201, 1.0542005420054201, 1.0542005420054201, 1.0542005420054201, 0.9728997289972899, 0.9728997289972899, 1.0, 1.0, 1.0696378830083566, 1.0696378830083566, 1.0696378830083566, 1.0696378830083566, 1.0696378830083566, 1.013192612137203, 1.013192612137203], \"yaxis\": \"y\"}, {\"connectgaps\": false, \"hovertemplate\": \"competitor_name=Atacad\\u00e3o - Centro - Zukkin<br>Fecha=%{x}<br>GPI=%{y}<extra></extra>\", \"legendgroup\": \"Atacad\\u00e3o - Centro - Zukkin\", \"line\": {\"color\": \"#B6E880\", \"dash\": \"solid\"}, \"mode\": \"lines\", \"name\": \"Atacad\\u00e3o - Centro - Zukkin\", \"showlegend\": true, \"type\": \"scattergl\", \"x\": [\"2024-06-06T00:00:00\", \"2024-06-07T00:00:00\", \"2024-06-08T00:00:00\", \"2024-06-09T00:00:00\", \"2024-06-10T00:00:00\", \"2024-06-11T00:00:00\", \"2024-06-12T00:00:00\", \"2024-06-13T00:00:00\", \"2024-06-14T00:00:00\", \"2024-06-15T00:00:00\", \"2024-06-16T00:00:00\", \"2024-06-17T00:00:00\", \"2024-06-18T00:00:00\", \"2024-06-19T00:00:00\", \"2024-06-20T00:00:00\", \"2024-06-21T00:00:00\", \"2024-06-22T00:00:00\", \"2024-06-23T00:00:00\", \"2024-06-24T00:00:00\", \"2024-06-25T00:00:00\", \"2024-06-26T00:00:00\", \"2024-06-27T00:00:00\", \"2024-06-28T00:00:00\", \"2024-06-29T00:00:00\", \"2024-06-30T00:00:00\", \"2024-07-01T00:00:00\", \"2024-07-02T00:00:00\", \"2024-07-09T00:00:00\", \"2024-07-10T00:00:00\", \"2024-07-11T00:00:00\", \"2024-07-12T00:00:00\", \"2024-07-13T00:00:00\", \"2024-07-14T00:00:00\", \"2024-07-15T00:00:00\", \"2024-07-16T00:00:00\", \"2024-07-17T00:00:00\", \"2024-07-18T00:00:00\", \"2024-07-19T00:00:00\", \"2024-07-20T00:00:00\", \"2024-07-21T00:00:00\", \"2024-07-22T00:00:00\", \"2024-07-23T00:00:00\", \"2024-07-24T00:00:00\", \"2024-07-25T00:00:00\", \"2024-07-26T00:00:00\", \"2024-07-27T00:00:00\", \"2024-07-28T00:00:00\", \"2024-07-29T00:00:00\", \"2024-07-30T00:00:00\", \"2024-07-31T00:00:00\", \"2024-08-01T00:00:00\", \"2024-08-02T00:00:00\", \"2024-08-03T00:00:00\", \"2024-08-04T00:00:00\", \"2024-08-05T00:00:00\", \"2024-08-06T00:00:00\", \"2024-08-07T00:00:00\", \"2024-08-08T00:00:00\", \"2024-08-09T00:00:00\", \"2024-08-10T00:00:00\", \"2024-08-11T00:00:00\", \"2024-08-12T00:00:00\", \"2024-08-13T00:00:00\", \"2024-08-14T00:00:00\", \"2024-08-15T00:00:00\", \"2024-08-16T00:00:00\", \"2024-08-17T00:00:00\", \"2024-08-18T00:00:00\", \"2024-08-19T00:00:00\", \"2024-08-20T00:00:00\", \"2024-08-21T00:00:00\", \"2024-08-22T00:00:00\", \"2024-08-23T00:00:00\", \"2024-08-24T00:00:00\", \"2024-08-25T00:00:00\", \"2024-08-26T00:00:00\", \"2024-08-27T00:00:00\", \"2024-08-28T00:00:00\", \"2024-08-29T00:00:00\"], \"xaxis\": \"x\", \"y\": [0.959493670886076, 0.9670886075949366, 0.9670886075949366, 0.9670886075949366, 0.9670886075949366, 0.9670886075949366, 0.9670886075949366, 0.959493670886076, 0.959493670886076, 0.959493670886076, 0.959493670886076, 0.9266503667481663, 0.9266503667481663, 0.9266503667481663, 0.9266503667481663, 0.9266503667481663, 0.9266503667481663, 0.9266503667481663, 0.9266503667481663, 0.9266503667481663, 0.9266503667481663, 0.9266503667481663, 0.9266503667481663, 0.9266503667481663, 0.9266503667481663, 0.9266503667481663, 0.9266503667481663, 0.9266503667481663, 0.9266503667481663, 0.9266503667481663, 0.9266503667481663, 0.9266503667481663, 0.9266503667481663, 0.9266503667481663, 0.9511002444987776, 0.9511002444987776, 0.9511002444987776, 0.9511002444987776, 0.9511002444987776, 0.9511002444987776, 0.9511002444987776, 0.9511002444987776, 0.9511002444987776, 0.9511002444987776, 0.9511002444987776, 0.9511002444987776, 0.9511002444987776, 0.9511002444987776, 0.9511002444987776, 0.9511002444987776, 0.9511002444987776, 0.9511002444987776, 0.9511002444987776, 0.9511002444987776, 0.9511002444987776, 0.9511002444987776, 0.9511002444987776, 0.9511002444987776, 0.9511002444987776, 0.9511002444987776, 0.9511002444987776, 0.9511002444987776, 0.9511002444987776, 0.9511002444987776, 0.9511002444987776, 0.9511002444987776, 0.9511002444987776, 0.9511002444987776, 0.8777506112469438, 0.9228791773778919, 0.9228791773778919, 0.9228791773778919, 0.987146529562982, 0.987146529562982, 0.987146529562982, 0.987146529562982, 0.987146529562982, 0.987146529562982, 0.987146529562982], \"yaxis\": \"y\"}, {\"connectgaps\": false, \"hovertemplate\": \"competitor_name=Atacad\\u00e3o - Granja Viana - Zukkin<br>Fecha=%{x}<br>GPI=%{y}<extra></extra>\", \"legendgroup\": \"Atacad\\u00e3o - Granja Viana - Zukkin\", \"line\": {\"color\": \"#FF97FF\", \"dash\": \"solid\"}, \"mode\": \"lines\", \"name\": \"Atacad\\u00e3o - Granja Viana - Zukkin\", \"showlegend\": true, \"type\": \"scattergl\", \"x\": [\"2024-05-01T00:00:00\", \"2024-05-02T00:00:00\", \"2024-05-03T00:00:00\", \"2024-05-04T00:00:00\", \"2024-05-05T00:00:00\", \"2024-05-06T00:00:00\", \"2024-05-07T00:00:00\", \"2024-05-08T00:00:00\", \"2024-05-09T00:00:00\", \"2024-05-10T00:00:00\", \"2024-05-11T00:00:00\", \"2024-05-12T00:00:00\", \"2024-05-13T00:00:00\", \"2024-05-14T00:00:00\", \"2024-05-15T00:00:00\", \"2024-05-16T00:00:00\", \"2024-05-17T00:00:00\", \"2024-05-18T00:00:00\", \"2024-05-19T00:00:00\", \"2024-05-20T00:00:00\", \"2024-05-21T00:00:00\", \"2024-05-22T00:00:00\", \"2024-05-23T00:00:00\", \"2024-06-06T00:00:00\", \"2024-06-07T00:00:00\", \"2024-06-08T00:00:00\", \"2024-06-09T00:00:00\", \"2024-06-10T00:00:00\", \"2024-06-11T00:00:00\", \"2024-06-12T00:00:00\", \"2024-06-13T00:00:00\", \"2024-06-14T00:00:00\", \"2024-06-20T00:00:00\", \"2024-06-21T00:00:00\", \"2024-06-22T00:00:00\", \"2024-06-23T00:00:00\", \"2024-06-24T00:00:00\", \"2024-06-25T00:00:00\", \"2024-06-26T00:00:00\", \"2024-06-27T00:00:00\", \"2024-06-28T00:00:00\", \"2024-06-29T00:00:00\", \"2024-06-30T00:00:00\", \"2024-07-01T00:00:00\", \"2024-07-02T00:00:00\", \"2024-07-03T00:00:00\", \"2024-07-04T00:00:00\", \"2024-07-10T00:00:00\", \"2024-07-11T00:00:00\", \"2024-07-12T00:00:00\", \"2024-07-13T00:00:00\", \"2024-07-14T00:00:00\", \"2024-07-15T00:00:00\", \"2024-07-16T00:00:00\", \"2024-07-17T00:00:00\", \"2024-07-18T00:00:00\", \"2024-07-19T00:00:00\", \"2024-07-20T00:00:00\", \"2024-07-21T00:00:00\", \"2024-07-22T00:00:00\", \"2024-07-23T00:00:00\", \"2024-07-24T00:00:00\", \"2024-07-25T00:00:00\", \"2024-07-26T00:00:00\", \"2024-07-27T00:00:00\", \"2024-07-28T00:00:00\", \"2024-07-29T00:00:00\", \"2024-07-30T00:00:00\", \"2024-07-31T00:00:00\", \"2024-08-01T00:00:00\", \"2024-08-02T00:00:00\", \"2024-08-03T00:00:00\", \"2024-08-04T00:00:00\", \"2024-08-05T00:00:00\", \"2024-08-06T00:00:00\", \"2024-08-07T00:00:00\", \"2024-08-08T00:00:00\", \"2024-08-09T00:00:00\", \"2024-08-10T00:00:00\", \"2024-08-11T00:00:00\", \"2024-08-12T00:00:00\", \"2024-08-13T00:00:00\", \"2024-08-14T00:00:00\", \"2024-08-15T00:00:00\", \"2024-08-16T00:00:00\", \"2024-08-17T00:00:00\", \"2024-08-18T00:00:00\", \"2024-08-19T00:00:00\", \"2024-08-20T00:00:00\", \"2024-08-21T00:00:00\", \"2024-08-22T00:00:00\", \"2024-08-23T00:00:00\", \"2024-08-24T00:00:00\", \"2024-08-25T00:00:00\", \"2024-08-26T00:00:00\", \"2024-08-27T00:00:00\", \"2024-08-28T00:00:00\", \"2024-08-29T00:00:00\"], \"xaxis\": \"x\", \"y\": [1.7971014492753625, 1.7971014492753625, 1.855072463768116, 1.855072463768116, 1.855072463768116, 1.8792270531400967, 1.8792270531400967, 1.0373333333333334, 1.0373333333333334, 1.0373333333333334, 1.0373333333333334, 1.0373333333333334, 1.0266666666666666, 1.0266666666666666, 1.0266666666666666, 1.0266666666666666, 1.0213333333333334, 1.0213333333333334, 1.0213333333333334, 1.0213333333333334, 1.0213333333333334, 1.0213333333333334, 1.0213333333333334, 0.959493670886076, 0.9670886075949366, 0.9670886075949366, 0.9670886075949366, 0.9670886075949366, 0.9670886075949366, 0.9670886075949366, 0.959493670886076, 0.959493670886076, 0.9266503667481663, 0.9266503667481663, 0.9266503667481663, 0.9266503667481663, 0.9266503667481663, 0.9266503667481663, 0.974293059125964, 0.974293059125964, 0.974293059125964, 0.974293059125964, 0.974293059125964, 0.974293059125964, 0.974293059125964, 0.974293059125964, 0.974293059125964, 0.974293059125964, 0.974293059125964, 0.974293059125964, 0.974293059125964, 0.974293059125964, 0.974293059125964, 1.0, 1.0, 1.0, 1.0, 1.0, 1.0, 1.0, 1.0, 1.0, 1.0, 1.0, 1.0, 1.0, 1.0, 1.0, 1.0, 1.0, 1.0, 1.0, 1.0, 1.0, 1.0, 1.0, 1.0, 1.0, 1.0, 1.0, 1.0, 1.0, 1.0, 1.0, 1.0, 1.0, 1.0, 0.9228791773778919, 0.9228791773778919, 0.9228791773778919, 0.9228791773778919, 0.987146529562982, 0.987146529562982, 0.987146529562982, 0.987146529562982, 0.987146529562982, 0.987146529562982, 0.987146529562982], \"yaxis\": \"y\"}, {\"connectgaps\": false, \"hovertemplate\": \"competitor_name=Atacad\\u00e3o - Industrial Autonomistas - Zukkin<br>Fecha=%{x}<br>GPI=%{y}<extra></extra>\", \"legendgroup\": \"Atacad\\u00e3o - Industrial Autonomistas - Zukkin\", \"line\": {\"color\": \"#FECB52\", \"dash\": \"solid\"}, \"mode\": \"lines\", \"name\": \"Atacad\\u00e3o - Industrial Autonomistas - Zukkin\", \"showlegend\": true, \"type\": \"scattergl\", \"x\": [\"2024-05-21T00:00:00\", \"2024-05-22T00:00:00\", \"2024-05-23T00:00:00\", \"2024-05-24T00:00:00\", \"2024-05-25T00:00:00\", \"2024-05-26T00:00:00\", \"2024-05-27T00:00:00\", \"2024-05-28T00:00:00\", \"2024-05-29T00:00:00\", \"2024-06-03T00:00:00\", \"2024-06-04T00:00:00\", \"2024-06-05T00:00:00\", \"2024-06-06T00:00:00\", \"2024-06-07T00:00:00\", \"2024-06-08T00:00:00\", \"2024-06-09T00:00:00\", \"2024-06-10T00:00:00\", \"2024-06-11T00:00:00\", \"2024-06-12T00:00:00\", \"2024-06-13T00:00:00\", \"2024-06-14T00:00:00\", \"2024-06-15T00:00:00\", \"2024-06-16T00:00:00\", \"2024-06-17T00:00:00\", \"2024-06-18T00:00:00\", \"2024-06-19T00:00:00\", \"2024-06-27T00:00:00\", \"2024-06-28T00:00:00\", \"2024-06-29T00:00:00\", \"2024-06-30T00:00:00\", \"2024-07-01T00:00:00\", \"2024-07-02T00:00:00\", \"2024-07-03T00:00:00\", \"2024-07-04T00:00:00\", \"2024-07-05T00:00:00\", \"2024-07-06T00:00:00\", \"2024-07-07T00:00:00\", \"2024-07-08T00:00:00\", \"2024-07-09T00:00:00\", \"2024-07-10T00:00:00\"], \"xaxis\": \"x\", \"y\": [0.9696202531645569, 0.9696202531645569, 0.9696202531645569, 0.9696202531645569, 0.9696202531645569, 0.9696202531645569, 0.9696202531645569, 0.9696202531645569, 0.9696202531645569, 0.9893333333333333, 0.9893333333333333, 0.9893333333333333, 1.0106666666666666, 1.0186666666666666, 1.0186666666666666, 1.0186666666666666, 1.0186666666666666, 0.9670886075949366, 0.9670886075949366, 0.959493670886076, 0.959493670886076, 0.959493670886076, 0.959493670886076, 0.959493670886076, 0.959493670886076, 0.959493670886076, 0.9266503667481663, 0.9266503667481663, 0.9266503667481663, 0.9266503667481663, 0.9266503667481663, 0.9266503667481663, 0.9266503667481663, 0.9266503667481663, 0.9266503667481663, 0.9266503667481663, 0.9266503667481663, 0.9266503667481663, 0.9266503667481663, 0.9266503667481663], \"yaxis\": \"y\"}, {\"connectgaps\": false, \"hovertemplate\": \"competitor_name=Atacad\\u00e3o - Jardim S\\u00e3o Geraldo - Zukkin<br>Fecha=%{x}<br>GPI=%{y}<extra></extra>\", \"legendgroup\": \"Atacad\\u00e3o - Jardim S\\u00e3o Geraldo - Zukkin\", \"line\": {\"color\": \"#636efa\", \"dash\": \"solid\"}, \"mode\": \"lines\", \"name\": \"Atacad\\u00e3o - Jardim S\\u00e3o Geraldo - Zukkin\", \"showlegend\": true, \"type\": \"scattergl\", \"x\": [\"2024-05-01T00:00:00\", \"2024-05-02T00:00:00\", \"2024-05-03T00:00:00\", \"2024-05-04T00:00:00\", \"2024-05-05T00:00:00\", \"2024-05-06T00:00:00\", \"2024-05-07T00:00:00\", \"2024-05-08T00:00:00\", \"2024-05-09T00:00:00\", \"2024-05-10T00:00:00\", \"2024-05-11T00:00:00\", \"2024-05-12T00:00:00\", \"2024-05-13T00:00:00\", \"2024-05-14T00:00:00\", \"2024-05-15T00:00:00\", \"2024-05-16T00:00:00\", \"2024-05-17T00:00:00\", \"2024-05-18T00:00:00\", \"2024-05-19T00:00:00\", \"2024-05-20T00:00:00\", \"2024-05-21T00:00:00\", \"2024-05-22T00:00:00\", \"2024-05-23T00:00:00\", \"2024-05-24T00:00:00\", \"2024-05-25T00:00:00\", \"2024-05-26T00:00:00\", \"2024-05-27T00:00:00\", \"2024-05-28T00:00:00\", \"2024-05-29T00:00:00\", \"2024-05-30T00:00:00\", \"2024-06-12T00:00:00\", \"2024-06-13T00:00:00\", \"2024-06-14T00:00:00\", \"2024-06-15T00:00:00\", \"2024-06-16T00:00:00\", \"2024-06-17T00:00:00\", \"2024-06-18T00:00:00\", \"2024-06-19T00:00:00\", \"2024-06-20T00:00:00\", \"2024-06-21T00:00:00\", \"2024-06-22T00:00:00\", \"2024-06-23T00:00:00\", \"2024-06-24T00:00:00\", \"2024-06-25T00:00:00\", \"2024-06-26T00:00:00\", \"2024-06-27T00:00:00\", \"2024-06-28T00:00:00\", \"2024-06-29T00:00:00\", \"2024-06-30T00:00:00\", \"2024-07-01T00:00:00\", \"2024-07-02T00:00:00\", \"2024-07-03T00:00:00\", \"2024-07-04T00:00:00\", \"2024-07-05T00:00:00\", \"2024-07-06T00:00:00\", \"2024-07-07T00:00:00\", \"2024-07-08T00:00:00\", \"2024-07-09T00:00:00\", \"2024-07-10T00:00:00\", \"2024-07-11T00:00:00\", \"2024-07-12T00:00:00\", \"2024-07-13T00:00:00\", \"2024-07-14T00:00:00\", \"2024-07-15T00:00:00\", \"2024-07-16T00:00:00\", \"2024-07-17T00:00:00\", \"2024-07-18T00:00:00\", \"2024-07-19T00:00:00\", \"2024-07-20T00:00:00\", \"2024-07-21T00:00:00\", \"2024-07-22T00:00:00\", \"2024-07-23T00:00:00\", \"2024-07-24T00:00:00\", \"2024-07-25T00:00:00\", \"2024-07-26T00:00:00\", \"2024-07-27T00:00:00\", \"2024-07-28T00:00:00\", \"2024-07-29T00:00:00\", \"2024-07-30T00:00:00\", \"2024-07-31T00:00:00\", \"2024-08-01T00:00:00\", \"2024-08-02T00:00:00\", \"2024-08-03T00:00:00\", \"2024-08-04T00:00:00\", \"2024-08-05T00:00:00\", \"2024-08-06T00:00:00\", \"2024-08-07T00:00:00\", \"2024-08-08T00:00:00\", \"2024-08-09T00:00:00\", \"2024-08-10T00:00:00\", \"2024-08-11T00:00:00\", \"2024-08-12T00:00:00\", \"2024-08-13T00:00:00\", \"2024-08-14T00:00:00\", \"2024-08-15T00:00:00\", \"2024-08-16T00:00:00\", \"2024-08-17T00:00:00\", \"2024-08-18T00:00:00\", \"2024-08-19T00:00:00\", \"2024-08-20T00:00:00\", \"2024-08-21T00:00:00\", \"2024-08-22T00:00:00\", \"2024-08-23T00:00:00\", \"2024-08-24T00:00:00\", \"2024-08-25T00:00:00\", \"2024-08-26T00:00:00\", \"2024-08-27T00:00:00\", \"2024-08-28T00:00:00\", \"2024-08-29T00:00:00\"], \"xaxis\": \"x\", \"y\": [0.9920000000000001, 0.9920000000000001, 1.024, 1.024, 1.024, 1.0373333333333334, 1.0373333333333334, 1.0373333333333334, 1.0373333333333334, 1.0373333333333334, 1.0373333333333334, 1.0373333333333334, 1.0266666666666666, 1.0266666666666666, 1.5587044534412955, 1.5587044534412955, 1.5506072874493926, 1.5506072874493926, 1.5506072874493926, 1.5506072874493926, 1.5506072874493926, 1.0213333333333334, 1.0213333333333334, 1.0213333333333334, 1.0213333333333334, 1.0213333333333334, 1.0213333333333334, 1.0213333333333334, 1.0213333333333334, 1.0213333333333334, 1.0186666666666666, 1.0106666666666666, 1.0106666666666666, 1.0106666666666666, 1.0106666666666666, 1.0106666666666666, 1.0106666666666666, 0.974293059125964, 0.974293059125964, 0.974293059125964, 0.974293059125964, 0.974293059125964, 0.974293059125964, 0.974293059125964, 0.974293059125964, 0.974293059125964, 0.974293059125964, 0.974293059125964, 0.974293059125964, 0.974293059125964, 0.974293059125964, 0.974293059125964, 0.974293059125964, 0.974293059125964, 0.974293059125964, 0.974293059125964, 0.974293059125964, 0.974293059125964, 0.974293059125964, 0.974293059125964, 0.974293059125964, 0.974293059125964, 0.974293059125964, 0.974293059125964, 1.0, 1.0, 1.0, 1.0, 1.0, 1.0, 1.0, 1.0, 1.0, 1.0, 1.0, 1.0, 1.0, 1.0, 1.0, 1.0, 1.0, 1.0, 1.0, 1.0, 1.0, 1.0, 1.0, 1.0, 1.0, 1.0, 1.0, 1.0, 1.0, 1.0, 1.0, 1.0, 1.0, 1.0, 0.9228791773778919, 0.9228791773778919, 0.9228791773778919, 0.9228791773778919, 0.987146529562982, 0.987146529562982, 0.987146529562982, 0.987146529562982, 0.987146529562982, 0.987146529562982, 0.987146529562982], \"yaxis\": \"y\"}, {\"connectgaps\": false, \"hovertemplate\": \"competitor_name=Atacad\\u00e3o - Vila Maria. - Zukkin<br>Fecha=%{x}<br>GPI=%{y}<extra></extra>\", \"legendgroup\": \"Atacad\\u00e3o - Vila Maria. - Zukkin\", \"line\": {\"color\": \"#EF553B\", \"dash\": \"solid\"}, \"mode\": \"lines\", \"name\": \"Atacad\\u00e3o - Vila Maria. - Zukkin\", \"showlegend\": true, \"type\": \"scattergl\", \"x\": [\"2024-05-28T00:00:00\", \"2024-05-29T00:00:00\", \"2024-05-30T00:00:00\", \"2024-05-31T00:00:00\", \"2024-06-01T00:00:00\", \"2024-06-02T00:00:00\", \"2024-06-03T00:00:00\", \"2024-06-04T00:00:00\", \"2024-06-05T00:00:00\", \"2024-07-02T00:00:00\", \"2024-07-03T00:00:00\", \"2024-07-04T00:00:00\", \"2024-07-05T00:00:00\", \"2024-07-06T00:00:00\", \"2024-07-07T00:00:00\", \"2024-07-08T00:00:00\", \"2024-07-09T00:00:00\", \"2024-07-10T00:00:00\", \"2024-07-16T00:00:00\", \"2024-07-17T00:00:00\", \"2024-07-18T00:00:00\", \"2024-07-19T00:00:00\", \"2024-07-20T00:00:00\", \"2024-07-21T00:00:00\", \"2024-07-22T00:00:00\", \"2024-07-23T00:00:00\", \"2024-07-24T00:00:00\", \"2024-07-25T00:00:00\", \"2024-07-26T00:00:00\", \"2024-07-27T00:00:00\", \"2024-07-28T00:00:00\", \"2024-07-29T00:00:00\", \"2024-07-30T00:00:00\", \"2024-07-31T00:00:00\", \"2024-08-01T00:00:00\", \"2024-08-02T00:00:00\", \"2024-08-03T00:00:00\", \"2024-08-04T00:00:00\", \"2024-08-05T00:00:00\", \"2024-08-06T00:00:00\", \"2024-08-07T00:00:00\", \"2024-08-08T00:00:00\", \"2024-08-09T00:00:00\", \"2024-08-10T00:00:00\", \"2024-08-11T00:00:00\", \"2024-08-12T00:00:00\", \"2024-08-13T00:00:00\", \"2024-08-14T00:00:00\", \"2024-08-15T00:00:00\", \"2024-08-16T00:00:00\", \"2024-08-17T00:00:00\", \"2024-08-18T00:00:00\", \"2024-08-19T00:00:00\", \"2024-08-20T00:00:00\", \"2024-08-21T00:00:00\", \"2024-08-22T00:00:00\", \"2024-08-27T00:00:00\", \"2024-08-28T00:00:00\", \"2024-08-29T00:00:00\"], \"xaxis\": \"x\", \"y\": [1.0213333333333334, 1.0213333333333334, 1.0213333333333334, 0.9893333333333333, 0.9893333333333333, 0.9893333333333333, 0.9893333333333333, 0.9893333333333333, 0.9893333333333333, 0.9266503667481663, 0.9266503667481663, 0.9266503667481663, 0.9266503667481663, 0.9266503667481663, 0.9266503667481663, 0.9266503667481663, 0.9266503667481663, 0.9266503667481663, 1.0, 1.0, 1.0, 1.0, 1.0, 1.0, 1.0, 1.0, 1.0, 1.0, 1.0, 1.0, 1.0, 1.0, 1.0, 1.0, 1.0, 1.0, 1.0, 1.0, 1.0, 1.0, 1.0, 1.0, 1.0, 1.0, 1.0, 1.0, 1.0, 1.0, 1.0, 1.0, 1.0, 1.0, 0.9228791773778919, 0.9228791773778919, 0.9228791773778919, 0.9228791773778919, 0.9388753056234719, 0.9388753056234719, 0.9388753056234719], \"yaxis\": \"y\"}, {\"connectgaps\": false, \"hovertemplate\": \"competitor_name=Giga Atacado - Guarulhos - Zukkin<br>Fecha=%{x}<br>GPI=%{y}<extra></extra>\", \"legendgroup\": \"Giga Atacado - Guarulhos - Zukkin\", \"line\": {\"color\": \"#00cc96\", \"dash\": \"solid\"}, \"mode\": \"lines\", \"name\": \"Giga Atacado - Guarulhos - Zukkin\", \"showlegend\": true, \"type\": \"scattergl\", \"x\": [\"2024-05-02T00:00:00\", \"2024-05-03T00:00:00\", \"2024-05-04T00:00:00\", \"2024-05-05T00:00:00\", \"2024-05-06T00:00:00\", \"2024-05-07T00:00:00\", \"2024-05-08T00:00:00\", \"2024-05-09T00:00:00\", \"2024-05-10T00:00:00\", \"2024-05-11T00:00:00\", \"2024-05-12T00:00:00\", \"2024-05-13T00:00:00\", \"2024-05-14T00:00:00\", \"2024-05-15T00:00:00\", \"2024-05-16T00:00:00\", \"2024-05-17T00:00:00\", \"2024-05-18T00:00:00\", \"2024-05-19T00:00:00\", \"2024-05-20T00:00:00\", \"2024-05-21T00:00:00\", \"2024-05-22T00:00:00\", \"2024-05-23T00:00:00\", \"2024-05-24T00:00:00\", \"2024-05-25T00:00:00\", \"2024-05-26T00:00:00\", \"2024-05-27T00:00:00\", \"2024-05-28T00:00:00\", \"2024-05-29T00:00:00\", \"2024-05-30T00:00:00\", \"2024-06-27T00:00:00\", \"2024-06-28T00:00:00\", \"2024-06-29T00:00:00\", \"2024-06-30T00:00:00\", \"2024-07-01T00:00:00\", \"2024-07-02T00:00:00\", \"2024-07-03T00:00:00\", \"2024-07-04T00:00:00\", \"2024-07-05T00:00:00\", \"2024-07-06T00:00:00\", \"2024-07-07T00:00:00\", \"2024-07-08T00:00:00\", \"2024-07-09T00:00:00\", \"2024-07-10T00:00:00\", \"2024-07-11T00:00:00\", \"2024-07-12T00:00:00\", \"2024-07-13T00:00:00\", \"2024-07-14T00:00:00\", \"2024-07-15T00:00:00\", \"2024-07-16T00:00:00\", \"2024-07-17T00:00:00\", \"2024-07-18T00:00:00\", \"2024-07-19T00:00:00\", \"2024-08-01T00:00:00\", \"2024-08-02T00:00:00\", \"2024-08-03T00:00:00\", \"2024-08-04T00:00:00\", \"2024-08-05T00:00:00\", \"2024-08-06T00:00:00\", \"2024-08-07T00:00:00\", \"2024-08-08T00:00:00\", \"2024-08-09T00:00:00\", \"2024-08-16T00:00:00\", \"2024-08-17T00:00:00\", \"2024-08-18T00:00:00\", \"2024-08-19T00:00:00\", \"2024-08-20T00:00:00\", \"2024-08-21T00:00:00\", \"2024-08-22T00:00:00\", \"2024-08-23T00:00:00\", \"2024-08-24T00:00:00\", \"2024-08-25T00:00:00\", \"2024-08-26T00:00:00\", \"2024-08-27T00:00:00\", \"2024-08-28T00:00:00\", \"2024-08-29T00:00:00\"], \"xaxis\": \"x\", \"y\": [0.9815303430079156, 1.013192612137203, 1.013192612137203, 1.013192612137203, 1.0263852242744063, 1.0263852242744063, 1.0263852242744063, 1.0263852242744063, 1.0263852242744063, 1.0263852242744063, 1.0263852242744063, 1.0158311345646438, 1.0158311345646438, 1.0158311345646438, 1.0158311345646438, 1.0105540897097625, 1.0105540897097625, 1.0105540897097625, 1.0105540897097625, 1.0105540897097625, 1.0105540897097625, 1.0105540897097625, 1.0105540897097625, 1.0105540897097625, 1.0105540897097625, 1.0105540897097625, 1.0105540897097625, 1.0105540897097625, 1.0105540897097625, 1.1519756838905775, 1.1519756838905775, 1.1519756838905775, 1.1519756838905775, 1.1519756838905775, 1.1519756838905775, 1.1519756838905775, 1.0557103064066853, 1.0557103064066853, 1.0557103064066853, 1.0557103064066853, 1.0557103064066853, 1.0557103064066853, 1.0557103064066853, 1.0557103064066853, 1.0557103064066853, 1.0557103064066853, 1.0557103064066853, 1.0557103064066853, 1.083565459610028, 1.083565459610028, 1.083565459610028, 1.083565459610028, 1.1146131805157593, 1.1146131805157593, 1.1146131805157593, 1.1146131805157593, 1.1146131805157593, 1.1146131805157593, 1.1146131805157593, 1.1146131805157593, 1.1146131805157593, 1.0345744680851066, 1.0345744680851066, 1.0345744680851066, 0.9547872340425532, 0.9547872340425532, 0.9547872340425532, 1.0589970501474926, 1.1327433628318584, 1.1327433628318584, 1.1327433628318584, 1.1327433628318584, 1.1327433628318584, 1.1327433628318584, 1.1327433628318584], \"yaxis\": \"y\"}, {\"connectgaps\": false, \"hovertemplate\": \"competitor_name=Giga Atacado - S\\u00e3o Paulo - Zukkin<br>Fecha=%{x}<br>GPI=%{y}<extra></extra>\", \"legendgroup\": \"Giga Atacado - S\\u00e3o Paulo - Zukkin\", \"line\": {\"color\": \"#ab63fa\", \"dash\": \"solid\"}, \"mode\": \"lines\", \"name\": \"Giga Atacado - S\\u00e3o Paulo - Zukkin\", \"showlegend\": true, \"type\": \"scattergl\", \"x\": [\"2024-06-12T00:00:00\", \"2024-06-13T00:00:00\", \"2024-06-14T00:00:00\", \"2024-06-15T00:00:00\", \"2024-06-16T00:00:00\", \"2024-06-17T00:00:00\", \"2024-06-18T00:00:00\", \"2024-06-19T00:00:00\", \"2024-06-20T00:00:00\", \"2024-06-21T00:00:00\", \"2024-06-22T00:00:00\", \"2024-06-23T00:00:00\", \"2024-06-24T00:00:00\", \"2024-06-25T00:00:00\", \"2024-06-26T00:00:00\", \"2024-06-27T00:00:00\", \"2024-06-28T00:00:00\", \"2024-06-29T00:00:00\", \"2024-06-30T00:00:00\", \"2024-07-01T00:00:00\", \"2024-07-02T00:00:00\", \"2024-07-03T00:00:00\", \"2024-07-04T00:00:00\", \"2024-07-05T00:00:00\", \"2024-07-06T00:00:00\", \"2024-07-07T00:00:00\", \"2024-07-08T00:00:00\", \"2024-07-09T00:00:00\", \"2024-07-10T00:00:00\", \"2024-07-11T00:00:00\", \"2024-07-12T00:00:00\", \"2024-07-13T00:00:00\", \"2024-07-14T00:00:00\", \"2024-07-15T00:00:00\", \"2024-07-16T00:00:00\", \"2024-07-17T00:00:00\", \"2024-07-18T00:00:00\", \"2024-07-19T00:00:00\", \"2024-07-20T00:00:00\", \"2024-07-21T00:00:00\", \"2024-07-22T00:00:00\", \"2024-07-23T00:00:00\", \"2024-07-24T00:00:00\", \"2024-07-25T00:00:00\", \"2024-07-26T00:00:00\", \"2024-07-27T00:00:00\", \"2024-07-28T00:00:00\", \"2024-07-29T00:00:00\", \"2024-07-30T00:00:00\", \"2024-07-31T00:00:00\", \"2024-08-01T00:00:00\", \"2024-08-02T00:00:00\", \"2024-08-03T00:00:00\", \"2024-08-04T00:00:00\", \"2024-08-05T00:00:00\", \"2024-08-06T00:00:00\", \"2024-08-07T00:00:00\", \"2024-08-08T00:00:00\", \"2024-08-09T00:00:00\", \"2024-08-10T00:00:00\", \"2024-08-11T00:00:00\", \"2024-08-12T00:00:00\", \"2024-08-13T00:00:00\", \"2024-08-14T00:00:00\", \"2024-08-15T00:00:00\", \"2024-08-16T00:00:00\", \"2024-08-17T00:00:00\", \"2024-08-18T00:00:00\", \"2024-08-19T00:00:00\", \"2024-08-20T00:00:00\", \"2024-08-21T00:00:00\", \"2024-08-22T00:00:00\", \"2024-08-23T00:00:00\", \"2024-08-24T00:00:00\", \"2024-08-25T00:00:00\", \"2024-08-26T00:00:00\", \"2024-08-27T00:00:00\", \"2024-08-28T00:00:00\", \"2024-08-29T00:00:00\"], \"xaxis\": \"x\", \"y\": [0.9820051413881747, 0.974293059125964, 0.974293059125964, 0.974293059125964, 0.974293059125964, 0.974293059125964, 0.974293059125964, 0.974293059125964, 0.974293059125964, 0.974293059125964, 0.974293059125964, 0.974293059125964, 0.974293059125964, 0.974293059125964, 0.974293059125964, 0.974293059125964, 0.974293059125964, 0.974293059125964, 0.974293059125964, 0.974293059125964, 0.974293059125964, 0.974293059125964, 0.974293059125964, 0.974293059125964, 0.974293059125964, 0.974293059125964, 0.974293059125964, 0.974293059125964, 0.974293059125964, 0.974293059125964, 0.974293059125964, 0.974293059125964, 0.974293059125964, 0.974293059125964, 1.0, 1.0, 1.0, 1.0, 1.0, 1.0, 1.0, 1.0, 1.0, 1.0, 1.0, 1.0, 1.0, 1.0, 1.0, 1.1146131805157593, 1.1146131805157593, 1.1146131805157593, 1.1146131805157593, 1.1146131805157593, 1.1146131805157593, 1.1146131805157593, 1.0373333333333334, 1.0373333333333334, 1.0373333333333334, 1.0373333333333334, 1.0373333333333334, 1.0373333333333334, 1.0373333333333334, 1.0373333333333334, 1.0373333333333334, 1.0373333333333334, 1.0373333333333334, 1.0373333333333334, 0.9573333333333333, 0.9573333333333333, 1.0589970501474926, 1.0589970501474926, 1.1327433628318584, 1.1327433628318584, 1.1327433628318584, 1.1327433628318584, 1.1327433628318584, 0.9974025974025973, 0.9974025974025973], \"yaxis\": \"y\"}, {\"connectgaps\": false, \"hovertemplate\": \"competitor_name=Mercad\\u00e3o Atacadista - Pirajussara - Zukkin<br>Fecha=%{x}<br>GPI=%{y}<extra></extra>\", \"legendgroup\": \"Mercad\\u00e3o Atacadista - Pirajussara - Zukkin\", \"line\": {\"color\": \"#FFA15A\", \"dash\": \"solid\"}, \"mode\": \"lines\", \"name\": \"Mercad\\u00e3o Atacadista - Pirajussara - Zukkin\", \"showlegend\": true, \"type\": \"scattergl\", \"x\": [\"2024-06-04T00:00:00\", \"2024-06-05T00:00:00\", \"2024-06-06T00:00:00\", \"2024-06-07T00:00:00\", \"2024-06-08T00:00:00\", \"2024-06-09T00:00:00\", \"2024-06-10T00:00:00\", \"2024-06-11T00:00:00\", \"2024-06-12T00:00:00\", \"2024-06-13T00:00:00\", \"2024-06-14T00:00:00\", \"2024-06-15T00:00:00\", \"2024-06-16T00:00:00\", \"2024-06-17T00:00:00\", \"2024-06-18T00:00:00\", \"2024-06-19T00:00:00\", \"2024-06-20T00:00:00\", \"2024-06-21T00:00:00\", \"2024-06-22T00:00:00\", \"2024-06-23T00:00:00\", \"2024-06-24T00:00:00\", \"2024-06-25T00:00:00\", \"2024-06-26T00:00:00\", \"2024-06-27T00:00:00\", \"2024-06-28T00:00:00\", \"2024-06-29T00:00:00\", \"2024-06-30T00:00:00\", \"2024-07-01T00:00:00\", \"2024-07-02T00:00:00\", \"2024-07-03T00:00:00\", \"2024-07-04T00:00:00\", \"2024-07-05T00:00:00\", \"2024-07-06T00:00:00\", \"2024-07-07T00:00:00\", \"2024-07-08T00:00:00\", \"2024-07-09T00:00:00\", \"2024-07-10T00:00:00\", \"2024-07-11T00:00:00\", \"2024-07-12T00:00:00\", \"2024-07-13T00:00:00\", \"2024-07-14T00:00:00\", \"2024-07-15T00:00:00\", \"2024-07-16T00:00:00\", \"2024-07-17T00:00:00\", \"2024-07-18T00:00:00\", \"2024-07-19T00:00:00\", \"2024-07-20T00:00:00\", \"2024-07-21T00:00:00\", \"2024-07-22T00:00:00\", \"2024-07-23T00:00:00\", \"2024-07-24T00:00:00\", \"2024-07-25T00:00:00\", \"2024-07-26T00:00:00\", \"2024-07-27T00:00:00\", \"2024-07-28T00:00:00\", \"2024-07-29T00:00:00\", \"2024-07-30T00:00:00\", \"2024-07-31T00:00:00\", \"2024-08-06T00:00:00\", \"2024-08-07T00:00:00\", \"2024-08-08T00:00:00\", \"2024-08-09T00:00:00\", \"2024-08-10T00:00:00\", \"2024-08-11T00:00:00\", \"2024-08-12T00:00:00\", \"2024-08-13T00:00:00\", \"2024-08-14T00:00:00\", \"2024-08-15T00:00:00\", \"2024-08-16T00:00:00\", \"2024-08-17T00:00:00\", \"2024-08-18T00:00:00\", \"2024-08-19T00:00:00\", \"2024-08-20T00:00:00\", \"2024-08-21T00:00:00\", \"2024-08-22T00:00:00\", \"2024-08-23T00:00:00\", \"2024-08-24T00:00:00\", \"2024-08-25T00:00:00\", \"2024-08-26T00:00:00\", \"2024-08-27T00:00:00\", \"2024-08-28T00:00:00\", \"2024-08-29T00:00:00\"], \"xaxis\": \"x\", \"y\": [0.8262806236080178, 0.8262806236080178, 0.844097995545657, 0.8507795100222716, 0.8507795100222716, 0.8507795100222716, 0.8507795100222716, 0.9573934837092731, 0.9573934837092731, 0.949874686716792, 0.949874686716792, 0.949874686716792, 0.949874686716792, 0.949874686716792, 0.949874686716792, 0.949874686716792, 0.949874686716792, 0.949874686716792, 0.949874686716792, 0.949874686716792, 0.949874686716792, 0.949874686716792, 0.949874686716792, 0.949874686716792, 0.949874686716792, 0.949874686716792, 0.949874686716792, 0.949874686716792, 0.949874686716792, 0.949874686716792, 0.949874686716792, 0.949874686716792, 0.949874686716792, 0.949874686716792, 0.949874686716792, 0.949874686716792, 0.949874686716792, 0.949874686716792, 0.949874686716792, 0.949874686716792, 0.949874686716792, 0.949874686716792, 0.974937343358396, 0.974937343358396, 0.974937343358396, 0.974937343358396, 0.974937343358396, 0.974937343358396, 0.974937343358396, 0.974937343358396, 0.974937343358396, 0.974937343358396, 0.974937343358396, 0.974937343358396, 0.974937343358396, 0.974937343358396, 0.974937343358396, 0.974937343358396, 0.974937343358396, 0.974937343358396, 0.974937343358396, 0.974937343358396, 0.974937343358396, 0.974937343358396, 0.974937343358396, 0.974937343358396, 0.974937343358396, 0.974937343358396, 0.974937343358396, 0.974937343358396, 0.974937343358396, 0.8997493734335839, 0.8997493734335839, 0.8997493734335839, 0.8997493734335839, 0.9624060150375939, 0.9624060150375939, 0.9624060150375939, 0.9624060150375939, 0.9624060150375939, 0.9624060150375939, 0.9624060150375939], \"yaxis\": \"y\"}, {\"connectgaps\": false, \"hovertemplate\": \"competitor_name=Rold\\u00e3o - Guarulhos - Zukkin<br>Fecha=%{x}<br>GPI=%{y}<extra></extra>\", \"legendgroup\": \"Rold\\u00e3o - Guarulhos - Zukkin\", \"line\": {\"color\": \"#19d3f3\", \"dash\": \"solid\"}, \"mode\": \"lines\", \"name\": \"Rold\\u00e3o - Guarulhos - Zukkin\", \"showlegend\": true, \"type\": \"scattergl\", \"x\": [\"2024-05-29T00:00:00\", \"2024-05-30T00:00:00\", \"2024-05-31T00:00:00\", \"2024-06-01T00:00:00\", \"2024-06-02T00:00:00\", \"2024-06-03T00:00:00\", \"2024-06-04T00:00:00\", \"2024-06-05T00:00:00\", \"2024-06-06T00:00:00\", \"2024-06-12T00:00:00\", \"2024-06-13T00:00:00\", \"2024-06-14T00:00:00\", \"2024-06-15T00:00:00\", \"2024-06-16T00:00:00\", \"2024-06-17T00:00:00\", \"2024-06-18T00:00:00\", \"2024-06-19T00:00:00\", \"2024-06-20T00:00:00\", \"2024-07-10T00:00:00\", \"2024-07-11T00:00:00\", \"2024-07-12T00:00:00\", \"2024-07-13T00:00:00\", \"2024-07-14T00:00:00\", \"2024-07-15T00:00:00\", \"2024-07-16T00:00:00\", \"2024-07-17T00:00:00\", \"2024-07-18T00:00:00\", \"2024-07-19T00:00:00\", \"2024-07-20T00:00:00\", \"2024-07-21T00:00:00\", \"2024-07-22T00:00:00\", \"2024-07-23T00:00:00\", \"2024-07-24T00:00:00\", \"2024-07-25T00:00:00\", \"2024-07-26T00:00:00\", \"2024-07-27T00:00:00\", \"2024-07-28T00:00:00\", \"2024-07-29T00:00:00\", \"2024-07-30T00:00:00\", \"2024-07-31T00:00:00\", \"2024-08-01T00:00:00\", \"2024-08-02T00:00:00\", \"2024-08-03T00:00:00\", \"2024-08-04T00:00:00\", \"2024-08-05T00:00:00\", \"2024-08-06T00:00:00\", \"2024-08-07T00:00:00\", \"2024-08-08T00:00:00\", \"2024-08-09T00:00:00\", \"2024-08-10T00:00:00\", \"2024-08-11T00:00:00\", \"2024-08-12T00:00:00\", \"2024-08-13T00:00:00\", \"2024-08-14T00:00:00\", \"2024-08-15T00:00:00\", \"2024-08-16T00:00:00\", \"2024-08-17T00:00:00\", \"2024-08-18T00:00:00\", \"2024-08-19T00:00:00\", \"2024-08-20T00:00:00\", \"2024-08-21T00:00:00\", \"2024-08-22T00:00:00\", \"2024-08-23T00:00:00\", \"2024-08-24T00:00:00\", \"2024-08-25T00:00:00\", \"2024-08-26T00:00:00\", \"2024-08-27T00:00:00\", \"2024-08-28T00:00:00\", \"2024-08-29T00:00:00\"], \"xaxis\": \"x\", \"y\": [0.9845758354755784, 0.9845758354755784, 0.9537275064267352, 0.9537275064267352, 0.9537275064267352, 0.9537275064267352, 0.9537275064267352, 0.9537275064267352, 0.974293059125964, 0.8904428904428904, 0.8834498834498834, 0.8834498834498834, 0.8834498834498834, 0.8834498834498834, 0.8834498834498834, 0.8834498834498834, 0.8834498834498834, 0.8834498834498834, 0.8834498834498834, 0.8834498834498834, 0.8834498834498834, 0.8834498834498834, 0.8834498834498834, 0.8834498834498834, 0.9067599067599068, 0.9067599067599068, 0.9067599067599068, 0.9067599067599068, 0.9067599067599068, 0.9067599067599068, 0.9067599067599068, 0.9067599067599068, 0.9067599067599068, 0.9067599067599068, 0.9067599067599068, 0.9067599067599068, 0.9067599067599068, 0.9067599067599068, 0.9067599067599068, 0.974937343358396, 0.974937343358396, 0.974937343358396, 0.974937343358396, 0.974937343358396, 0.974937343358396, 0.974937343358396, 0.9067599067599068, 0.9067599067599068, 0.9067599067599068, 0.9067599067599068, 0.9067599067599068, 0.9067599067599068, 0.9067599067599068, 0.9067599067599068, 0.9067599067599068, 0.9067599067599068, 0.9067599067599068, 0.9067599067599068, 0.8368298368298368, 0.8368298368298368, 0.8368298368298368, 0.8368298368298368, 0.8951048951048951, 0.8951048951048951, 0.8951048951048951, 0.8951048951048951, 0.8951048951048951, 0.8951048951048951, 0.8951048951048951], \"yaxis\": \"y\"}, {\"connectgaps\": false, \"hovertemplate\": \"competitor_name=Tenda - Socorro - Zukkin<br>Fecha=%{x}<br>GPI=%{y}<extra></extra>\", \"legendgroup\": \"Tenda - Socorro - Zukkin\", \"line\": {\"color\": \"#FF6692\", \"dash\": \"solid\"}, \"mode\": \"lines\", \"name\": \"Tenda - Socorro - Zukkin\", \"showlegend\": true, \"type\": \"scattergl\", \"x\": [\"2024-06-11T00:00:00\", \"2024-06-12T00:00:00\", \"2024-06-13T00:00:00\", \"2024-06-14T00:00:00\", \"2024-06-15T00:00:00\", \"2024-06-16T00:00:00\", \"2024-06-17T00:00:00\", \"2024-06-18T00:00:00\", \"2024-06-19T00:00:00\", \"2024-06-25T00:00:00\", \"2024-06-26T00:00:00\", \"2024-06-27T00:00:00\", \"2024-06-28T00:00:00\", \"2024-06-29T00:00:00\", \"2024-06-30T00:00:00\", \"2024-07-01T00:00:00\", \"2024-07-02T00:00:00\", \"2024-07-03T00:00:00\", \"2024-07-04T00:00:00\", \"2024-07-05T00:00:00\", \"2024-07-06T00:00:00\", \"2024-07-07T00:00:00\", \"2024-07-08T00:00:00\", \"2024-07-09T00:00:00\", \"2024-07-10T00:00:00\", \"2024-07-23T00:00:00\", \"2024-07-24T00:00:00\", \"2024-07-25T00:00:00\", \"2024-07-26T00:00:00\", \"2024-07-27T00:00:00\", \"2024-07-28T00:00:00\", \"2024-07-29T00:00:00\", \"2024-07-30T00:00:00\", \"2024-07-31T00:00:00\", \"2024-08-01T00:00:00\", \"2024-08-02T00:00:00\", \"2024-08-03T00:00:00\", \"2024-08-04T00:00:00\", \"2024-08-05T00:00:00\", \"2024-08-06T00:00:00\", \"2024-08-07T00:00:00\", \"2024-08-08T00:00:00\", \"2024-08-09T00:00:00\", \"2024-08-10T00:00:00\", \"2024-08-11T00:00:00\", \"2024-08-12T00:00:00\", \"2024-08-13T00:00:00\", \"2024-08-14T00:00:00\", \"2024-08-15T00:00:00\", \"2024-08-16T00:00:00\", \"2024-08-17T00:00:00\", \"2024-08-18T00:00:00\", \"2024-08-19T00:00:00\", \"2024-08-20T00:00:00\", \"2024-08-21T00:00:00\", \"2024-08-22T00:00:00\", \"2024-08-23T00:00:00\", \"2024-08-24T00:00:00\", \"2024-08-25T00:00:00\", \"2024-08-26T00:00:00\", \"2024-08-27T00:00:00\", \"2024-08-28T00:00:00\", \"2024-08-29T00:00:00\"], \"xaxis\": \"x\", \"y\": [0.9573934837092731, 0.9573934837092731, 0.949874686716792, 0.949874686716792, 0.949874686716792, 0.949874686716792, 0.949874686716792, 0.949874686716792, 0.949874686716792, 0.949874686716792, 0.949874686716792, 0.949874686716792, 0.949874686716792, 0.949874686716792, 0.949874686716792, 0.949874686716792, 0.949874686716792, 0.949874686716792, 0.949874686716792, 0.949874686716792, 0.949874686716792, 0.949874686716792, 0.949874686716792, 0.949874686716792, 0.949874686716792, 0.9284009546539379, 0.9284009546539379, 0.9284009546539379, 0.9284009546539379, 0.9284009546539379, 0.9284009546539379, 0.9284009546539379, 0.9284009546539379, 1.0373333333333334, 1.0373333333333334, 1.0373333333333334, 1.0373333333333334, 1.0373333333333334, 1.0373333333333334, 1.0, 1.0, 1.0, 1.0, 1.0, 1.0, 1.0, 1.0, 1.0, 1.0, 1.0, 1.0, 1.0, 0.9228791773778919, 0.9228791773778919, 0.9228791773778919, 0.9228791773778919, 0.987146529562982, 0.987146529562982, 0.987146529562982, 0.987146529562982, 0.987146529562982, 0.987146529562982, 0.987146529562982], \"yaxis\": \"y\"}],                        {\"height\": 600, \"legend\": {\"title\": {\"text\": \"competitor_name\"}, \"tracegroupgap\": 0}, \"template\": {\"data\": {\"bar\": [{\"error_x\": {\"color\": \"#2a3f5f\"}, \"error_y\": {\"color\": \"#2a3f5f\"}, \"marker\": {\"line\": {\"color\": \"#E5ECF6\", \"width\": 0.5}}, \"type\": \"bar\"}], \"barpolar\": [{\"marker\": {\"line\": {\"color\": \"#E5ECF6\", \"width\": 0.5}}, \"type\": \"barpolar\"}], \"carpet\": [{\"aaxis\": {\"endlinecolor\": \"#2a3f5f\", \"gridcolor\": \"white\", \"linecolor\": \"white\", \"minorgridcolor\": \"white\", \"startlinecolor\": \"#2a3f5f\"}, \"baxis\": {\"endlinecolor\": \"#2a3f5f\", \"gridcolor\": \"white\", \"linecolor\": \"white\", \"minorgridcolor\": \"white\", \"startlinecolor\": \"#2a3f5f\"}, \"type\": \"carpet\"}], \"choropleth\": [{\"colorbar\": {\"outlinewidth\": 0, \"ticks\": \"\"}, \"type\": \"choropleth\"}], \"contour\": [{\"colorbar\": {\"outlinewidth\": 0, \"ticks\": \"\"}, \"colorscale\": [[0.0, \"#0d0887\"], [0.1111111111111111, \"#46039f\"], [0.2222222222222222, \"#7201a8\"], [0.3333333333333333, \"#9c179e\"], [0.4444444444444444, \"#bd3786\"], [0.5555555555555556, \"#d8576b\"], [0.6666666666666666, \"#ed7953\"], [0.7777777777777778, \"#fb9f3a\"], [0.8888888888888888, \"#fdca26\"], [1.0, \"#f0f921\"]], \"type\": \"contour\"}], \"contourcarpet\": [{\"colorbar\": {\"outlinewidth\": 0, \"ticks\": \"\"}, \"type\": \"contourcarpet\"}], \"heatmap\": [{\"colorbar\": {\"outlinewidth\": 0, \"ticks\": \"\"}, \"colorscale\": [[0.0, \"#0d0887\"], [0.1111111111111111, \"#46039f\"], [0.2222222222222222, \"#7201a8\"], [0.3333333333333333, \"#9c179e\"], [0.4444444444444444, \"#bd3786\"], [0.5555555555555556, \"#d8576b\"], [0.6666666666666666, \"#ed7953\"], [0.7777777777777778, \"#fb9f3a\"], [0.8888888888888888, \"#fdca26\"], [1.0, \"#f0f921\"]], \"type\": \"heatmap\"}], \"heatmapgl\": [{\"colorbar\": {\"outlinewidth\": 0, \"ticks\": \"\"}, \"colorscale\": [[0.0, \"#0d0887\"], [0.1111111111111111, \"#46039f\"], [0.2222222222222222, \"#7201a8\"], [0.3333333333333333, \"#9c179e\"], [0.4444444444444444, \"#bd3786\"], [0.5555555555555556, \"#d8576b\"], [0.6666666666666666, \"#ed7953\"], [0.7777777777777778, \"#fb9f3a\"], [0.8888888888888888, \"#fdca26\"], [1.0, \"#f0f921\"]], \"type\": \"heatmapgl\"}], \"histogram\": [{\"marker\": {\"colorbar\": {\"outlinewidth\": 0, \"ticks\": \"\"}}, \"type\": \"histogram\"}], \"histogram2d\": [{\"colorbar\": {\"outlinewidth\": 0, \"ticks\": \"\"}, \"colorscale\": [[0.0, \"#0d0887\"], [0.1111111111111111, \"#46039f\"], [0.2222222222222222, \"#7201a8\"], [0.3333333333333333, \"#9c179e\"], [0.4444444444444444, \"#bd3786\"], [0.5555555555555556, \"#d8576b\"], [0.6666666666666666, \"#ed7953\"], [0.7777777777777778, \"#fb9f3a\"], [0.8888888888888888, \"#fdca26\"], [1.0, \"#f0f921\"]], \"type\": \"histogram2d\"}], \"histogram2dcontour\": [{\"colorbar\": {\"outlinewidth\": 0, \"ticks\": \"\"}, \"colorscale\": [[0.0, \"#0d0887\"], [0.1111111111111111, \"#46039f\"], [0.2222222222222222, \"#7201a8\"], [0.3333333333333333, \"#9c179e\"], [0.4444444444444444, \"#bd3786\"], [0.5555555555555556, \"#d8576b\"], [0.6666666666666666, \"#ed7953\"], [0.7777777777777778, \"#fb9f3a\"], [0.8888888888888888, \"#fdca26\"], [1.0, \"#f0f921\"]], \"type\": \"histogram2dcontour\"}], \"mesh3d\": [{\"colorbar\": {\"outlinewidth\": 0, \"ticks\": \"\"}, \"type\": \"mesh3d\"}], \"parcoords\": [{\"line\": {\"colorbar\": {\"outlinewidth\": 0, \"ticks\": \"\"}}, \"type\": \"parcoords\"}], \"pie\": [{\"automargin\": true, \"type\": \"pie\"}], \"scatter\": [{\"marker\": {\"colorbar\": {\"outlinewidth\": 0, \"ticks\": \"\"}}, \"type\": \"scatter\"}], \"scatter3d\": [{\"line\": {\"colorbar\": {\"outlinewidth\": 0, \"ticks\": \"\"}}, \"marker\": {\"colorbar\": {\"outlinewidth\": 0, \"ticks\": \"\"}}, \"type\": \"scatter3d\"}], \"scattercarpet\": [{\"marker\": {\"colorbar\": {\"outlinewidth\": 0, \"ticks\": \"\"}}, \"type\": \"scattercarpet\"}], \"scattergeo\": [{\"marker\": {\"colorbar\": {\"outlinewidth\": 0, \"ticks\": \"\"}}, \"type\": \"scattergeo\"}], \"scattergl\": [{\"marker\": {\"colorbar\": {\"outlinewidth\": 0, \"ticks\": \"\"}}, \"type\": \"scattergl\"}], \"scattermapbox\": [{\"marker\": {\"colorbar\": {\"outlinewidth\": 0, \"ticks\": \"\"}}, \"type\": \"scattermapbox\"}], \"scatterpolar\": [{\"marker\": {\"colorbar\": {\"outlinewidth\": 0, \"ticks\": \"\"}}, \"type\": \"scatterpolar\"}], \"scatterpolargl\": [{\"marker\": {\"colorbar\": {\"outlinewidth\": 0, \"ticks\": \"\"}}, \"type\": \"scatterpolargl\"}], \"scatterternary\": [{\"marker\": {\"colorbar\": {\"outlinewidth\": 0, \"ticks\": \"\"}}, \"type\": \"scatterternary\"}], \"surface\": [{\"colorbar\": {\"outlinewidth\": 0, \"ticks\": \"\"}, \"colorscale\": [[0.0, \"#0d0887\"], [0.1111111111111111, \"#46039f\"], [0.2222222222222222, \"#7201a8\"], [0.3333333333333333, \"#9c179e\"], [0.4444444444444444, \"#bd3786\"], [0.5555555555555556, \"#d8576b\"], [0.6666666666666666, \"#ed7953\"], [0.7777777777777778, \"#fb9f3a\"], [0.8888888888888888, \"#fdca26\"], [1.0, \"#f0f921\"]], \"type\": \"surface\"}], \"table\": [{\"cells\": {\"fill\": {\"color\": \"#EBF0F8\"}, \"line\": {\"color\": \"white\"}}, \"header\": {\"fill\": {\"color\": \"#C8D4E3\"}, \"line\": {\"color\": \"white\"}}, \"type\": \"table\"}]}, \"layout\": {\"annotationdefaults\": {\"arrowcolor\": \"#2a3f5f\", \"arrowhead\": 0, \"arrowwidth\": 1}, \"autotypenumbers\": \"strict\", \"coloraxis\": {\"colorbar\": {\"outlinewidth\": 0, \"ticks\": \"\"}}, \"colorscale\": {\"diverging\": [[0, \"#8e0152\"], [0.1, \"#c51b7d\"], [0.2, \"#de77ae\"], [0.3, \"#f1b6da\"], [0.4, \"#fde0ef\"], [0.5, \"#f7f7f7\"], [0.6, \"#e6f5d0\"], [0.7, \"#b8e186\"], [0.8, \"#7fbc41\"], [0.9, \"#4d9221\"], [1, \"#276419\"]], \"sequential\": [[0.0, \"#0d0887\"], [0.1111111111111111, \"#46039f\"], [0.2222222222222222, \"#7201a8\"], [0.3333333333333333, \"#9c179e\"], [0.4444444444444444, \"#bd3786\"], [0.5555555555555556, \"#d8576b\"], [0.6666666666666666, \"#ed7953\"], [0.7777777777777778, \"#fb9f3a\"], [0.8888888888888888, \"#fdca26\"], [1.0, \"#f0f921\"]], \"sequentialminus\": [[0.0, \"#0d0887\"], [0.1111111111111111, \"#46039f\"], [0.2222222222222222, \"#7201a8\"], [0.3333333333333333, \"#9c179e\"], [0.4444444444444444, \"#bd3786\"], [0.5555555555555556, \"#d8576b\"], [0.6666666666666666, \"#ed7953\"], [0.7777777777777778, \"#fb9f3a\"], [0.8888888888888888, \"#fdca26\"], [1.0, \"#f0f921\"]]}, \"colorway\": [\"#636efa\", \"#EF553B\", \"#00cc96\", \"#ab63fa\", \"#FFA15A\", \"#19d3f3\", \"#FF6692\", \"#B6E880\", \"#FF97FF\", \"#FECB52\"], \"font\": {\"color\": \"#2a3f5f\"}, \"geo\": {\"bgcolor\": \"white\", \"lakecolor\": \"white\", \"landcolor\": \"#E5ECF6\", \"showlakes\": true, \"showland\": true, \"subunitcolor\": \"white\"}, \"hoverlabel\": {\"align\": \"left\"}, \"hovermode\": \"closest\", \"mapbox\": {\"style\": \"light\"}, \"paper_bgcolor\": \"white\", \"plot_bgcolor\": \"#E5ECF6\", \"polar\": {\"angularaxis\": {\"gridcolor\": \"white\", \"linecolor\": \"white\", \"ticks\": \"\"}, \"bgcolor\": \"#E5ECF6\", \"radialaxis\": {\"gridcolor\": \"white\", \"linecolor\": \"white\", \"ticks\": \"\"}}, \"scene\": {\"xaxis\": {\"backgroundcolor\": \"#E5ECF6\", \"gridcolor\": \"white\", \"gridwidth\": 2, \"linecolor\": \"white\", \"showbackground\": true, \"ticks\": \"\", \"zerolinecolor\": \"white\"}, \"yaxis\": {\"backgroundcolor\": \"#E5ECF6\", \"gridcolor\": \"white\", \"gridwidth\": 2, \"linecolor\": \"white\", \"showbackground\": true, \"ticks\": \"\", \"zerolinecolor\": \"white\"}, \"zaxis\": {\"backgroundcolor\": \"#E5ECF6\", \"gridcolor\": \"white\", \"gridwidth\": 2, \"linecolor\": \"white\", \"showbackground\": true, \"ticks\": \"\", \"zerolinecolor\": \"white\"}}, \"shapedefaults\": {\"line\": {\"color\": \"#2a3f5f\"}}, \"ternary\": {\"aaxis\": {\"gridcolor\": \"white\", \"linecolor\": \"white\", \"ticks\": \"\"}, \"baxis\": {\"gridcolor\": \"white\", \"linecolor\": \"white\", \"ticks\": \"\"}, \"bgcolor\": \"#E5ECF6\", \"caxis\": {\"gridcolor\": \"white\", \"linecolor\": \"white\", \"ticks\": \"\"}}, \"title\": {\"x\": 0.05}, \"xaxis\": {\"automargin\": true, \"gridcolor\": \"white\", \"linecolor\": \"white\", \"ticks\": \"\", \"title\": {\"standoff\": 15}, \"zerolinecolor\": \"white\", \"zerolinewidth\": 2}, \"yaxis\": {\"automargin\": true, \"gridcolor\": \"white\", \"linecolor\": \"white\", \"ticks\": \"\", \"title\": {\"standoff\": 15}, \"zerolinecolor\": \"white\", \"zerolinewidth\": 2}}}, \"title\": {\"text\": \"GPI por Competitor Name\"}, \"xaxis\": {\"anchor\": \"y\", \"domain\": [0.0, 1.0], \"title\": {\"text\": \"Fecha\"}}, \"yaxis\": {\"anchor\": \"x\", \"domain\": [0.0, 1.0], \"title\": {\"text\": \"GPI\"}}},                        {\"responsive\": true}                    ).then(function(){\n",
       "                            \n",
       "var gd = document.getElementById('71f2bba6-3eed-457b-b779-87310ccd3a3a');\n",
       "var x = new MutationObserver(function (mutations, observer) {{\n",
       "        var display = window.getComputedStyle(gd).display;\n",
       "        if (!display || display === 'none') {{\n",
       "            console.log([gd, 'removed!']);\n",
       "            Plotly.purge(gd);\n",
       "            observer.disconnect();\n",
       "        }}\n",
       "}});\n",
       "\n",
       "// Listen for the removal of the full notebook cells\n",
       "var notebookContainer = gd.closest('#notebook-container');\n",
       "if (notebookContainer) {{\n",
       "    x.observe(notebookContainer, {childList: true});\n",
       "}}\n",
       "\n",
       "// Listen for the clearing of the current output cell\n",
       "var outputEl = gd.closest('.output');\n",
       "if (outputEl) {{\n",
       "    x.observe(outputEl, {childList: true});\n",
       "}}\n",
       "\n",
       "                        })                };                });            </script>        </div>"
      ]
     },
     "metadata": {},
     "output_type": "display_data"
    },
    {
     "data": {
      "text/plain": [
       "580894"
      ]
     },
     "execution_count": 31,
     "metadata": {},
     "output_type": "execute_result"
    }
   ],
   "source": [
    "import pandas as pd\n",
    "import plotly.express as px\n",
    "\n",
    "# Supongamos que tu DataFrame se llama df3\n",
    "\n",
    "# Obtener los valores únicos para el dropdown\n",
    "source_id_options = df3['source_id'].unique()\n",
    "source_id_options = sorted(source_id_options)\n",
    "\n",
    "# Crear el gráfico 1: Línea para cada `competitor_name` donde x es `quotation_date` y y es `npi`\n",
    "def create_plot1(source_id):\n",
    "    df_filtered = df3[df3['source_id'] == source_id]\n",
    "\n",
    "    # Eliminar filas donde 'quotation_date' o 'competitor_name' son NaN\n",
    "    df_filtered = df_filtered.dropna(subset=['quotation_date', 'competitor_name'])\n",
    "\n",
    "    # Crear un rango completo de fechas desde la mínima hasta la máxima fecha en el DataFrame\n",
    "    all_dates = pd.date_range(start=df_filtered['quotation_date'].min(), \n",
    "                              end=df_filtered['quotation_date'].max())\n",
    "\n",
    "    # Asegurarse de que todas las fechas están en el DataFrame y rellenar los días faltantes con NaN\n",
    "    df_filtered.set_index('quotation_date', inplace=True)\n",
    "    \n",
    "    # Reindexar solo la fecha para cada grupo\n",
    "    df_complete = df_filtered.groupby('competitor_name').apply(\n",
    "        lambda group: group[~group.index.duplicated(keep='first')].reindex(all_dates, fill_value=None)\n",
    "    ).reset_index(level=1, drop=False)\n",
    "\n",
    "    \n",
    "    # Renombrar las columnas correctamente\n",
    "    df_complete.rename(columns={'level_1': 'quotation_date'}, inplace=True)\n",
    "\n",
    "    # Eliminar filas donde 'npi' es NaN\n",
    "    df_complete = df_complete.dropna(subset=['npi'])\n",
    "    \n",
    "    # Crear el gráfico usando plotly.express\n",
    "    fig1 = px.line(df_complete, x='quotation_date', y='npi', color='competitor_name',\n",
    "                   title='NPI por Competitor Name', labels={'quotation_date': 'Fecha', 'npi': 'NPI'})\n",
    "    \n",
    "    # Asegurarse de que los gaps no se conecten\n",
    "    fig1.update_traces(connectgaps=False)\n",
    "    \n",
    "    # Ajustar el tamaño del gráfico, en este caso, aumentando la altura\n",
    "    fig1.update_layout(\n",
    "        height=600  # Puedes cambiar este valor para ajustar la altura según lo necesites\n",
    "    )\n",
    "\n",
    "    # Crear el gráfico usando plotly.express\n",
    "    fig4 = px.line(df_complete, x='quotation_date', y='gpi', color='competitor_name',\n",
    "                   title='GPI por Competitor Name', labels={'quotation_date': 'Fecha', 'gpi': 'GPI'})\n",
    "    \n",
    "    # Asegurarse de que los gaps no se conecten\n",
    "    fig4.update_traces(connectgaps=False)\n",
    "    \n",
    "    # Ajustar el tamaño del gráfico, en este caso, aumentando la altura\n",
    "    fig4.update_layout(\n",
    "        height=600  # Puedes cambiar este valor para ajustar la altura según lo necesites\n",
    "    )\n",
    "    \n",
    "    return fig1,fig4\n",
    "\n",
    "\n",
    "# Crear el gráfico 2: Barras para `cant` y `customers` en dos ejes Y diferentes\n",
    "import pandas as pd\n",
    "\n",
    "def create_plot2(source_id):\n",
    "    df_filtered = df_gmv[df_gmv['source_id'] == source_id]\n",
    "    df_filtered = df_filtered.sort_values(by='quotation_date')\n",
    "\n",
    "    # Gráfico diario\n",
    "    fig2 = px.bar(df_filtered, x='quotation_date', y='cant', \n",
    "                  title='Cantidad y Clientes', labels={'quotation_date': 'Fecha', 'cant': 'Cantidad'})\n",
    "    \n",
    "    fig2.add_scatter(x=df_filtered['quotation_date'], y=df_filtered['customers'],\n",
    "                     mode='lines+markers', name='Clientes', yaxis='y2')\n",
    "\n",
    "    fig2.update_layout(\n",
    "        yaxis2=dict(\n",
    "            title='Clientes',\n",
    "            overlaying='y',\n",
    "            side='right'\n",
    "        )\n",
    "    )\n",
    "\n",
    "    # Crear una nueva columna con la semana\n",
    "    df_filtered['week'] = df_filtered['quotation_date'].dt.to_period('W').apply(lambda r: r.start_time)\n",
    "\n",
    "    # Agrupar por semana y sumar los valores\n",
    "    df_weekly = df_filtered.groupby('week').agg({'cant': 'sum', 'customers': 'sum'}).reset_index()\n",
    "\n",
    "    # Gráfico semanal\n",
    "    fig3 = px.bar(df_weekly, x='week', y='cant', \n",
    "                  title='Cantidad y Clientes por Semana', labels={'week': 'Semana', 'cant': 'Cantidad'})\n",
    "\n",
    "    fig3.add_scatter(x=df_weekly['week'], y=df_weekly['customers'],\n",
    "                     mode='lines+markers', name='Clientes', yaxis='y2')\n",
    "\n",
    "    fig3.update_layout(\n",
    "        yaxis2=dict(\n",
    "            title='Clientes',\n",
    "            overlaying='y',\n",
    "            side='right'\n",
    "        )\n",
    "    )\n",
    "\n",
    "    return fig2, fig3\n",
    "\n",
    "sku = 363767\n",
    "# Crear gráficos iniciales\n",
    "fig1,fig4 = create_plot1(sku)\n",
    "fig2,fig3 = create_plot2(sku)\n",
    "\n",
    "print(top_falling_ids)\n",
    "# Mostrar gráficos\n",
    "fig1.show()\n",
    "fig2.show()\n",
    "fig3.show()\n",
    "fig4.show()\n",
    "\n",
    "452043 #ESTEE ES GRAVE index 90\n",
    "363763 #ESTEE NO ENTIENDO PORQUE CAYO este ya mg 5%\n",
    "277866 #ESTE VENIA MAL DESDE HACE RATO\n",
    "363789 #VIENE CAYENDO DESDE JUN 16 NO ES POR PRICING\n",
    "363775 #mirar caida, ver sandra\n",
    "614937 #y si le bajo el rpecio?\n",
    "\n",
    "#yo veo que todas las cervezas caen con margen 5% seria irse a margen 2%\n",
    "\n",
    "580894 #muy buen ejemplo\n"
   ]
  },
  {
   "cell_type": "code",
   "execution_count": 20,
   "metadata": {},
   "outputs": [],
   "source": [
    "# Define a function to apply the custom aggregation\n",
    "def custom_ventas(group, column):\n",
    "    return (100.00 * group[column] * group['gmv_usd']).sum()/group['gmv_usd'].sum()\n",
    "\n",
    "\n",
    "# df_final = df2.groupby(['cat','quotation_date']).apply(lambda group: pd.Series({\n",
    "#     'gmv_mix': 100.00*group['gmv_mix'].sum(),  # Compute sum of gmv_mix directly\n",
    "#     'clients': group['clients'].mean(),\n",
    "#     'gmv_usd': group['gmv_usd'].sum(),\n",
    "#     'ncash_mg': group['ncash_mg'].sum(),\n",
    "#     'npi': custom_ventas(group, 'npi')\n",
    "# })).reset_index()\n",
    "\n",
    "\n",
    "df_final2 = df2.groupby(['cat','week']).apply(lambda group: pd.Series({\n",
    "    'gmv_mix': 100.00*group['gmv_mix'].sum(),  # Compute sum of gmv_mix directly\n",
    "    'clients': group['clients'].mean(),\n",
    "    'gmv_usd': group['gmv_usd'].sum(),\n",
    "    'ncash_mg': group['ncash_mg'].sum(),\n",
    "    'cant': group['cant'].sum(),\n",
    "    'npi': custom_ventas(group, 'npi'),\n",
    "    'gpi': custom_ventas(group, 'gpi')\n",
    "\n",
    "})).reset_index()"
   ]
  },
  {
   "cell_type": "code",
   "execution_count": 21,
   "metadata": {},
   "outputs": [
    {
     "name": "stdout",
     "output_type": "stream",
     "text": [
      "<class 'pandas.core.frame.DataFrame'>\n",
      "Int64Index: 89680 entries, 0 to 89679\n",
      "Data columns (total 28 columns):\n",
      " #   Column                  Non-Null Count  Dtype         \n",
      "---  ------                  --------------  -----         \n",
      " 0   site_code               89680 non-null  object        \n",
      " 1   quotation_date          89680 non-null  datetime64[ns]\n",
      " 2   week                    89680 non-null  object        \n",
      " 3   cat                     89680 non-null  object        \n",
      " 4   source_id               89680 non-null  int64         \n",
      " 5   description             89680 non-null  object        \n",
      " 6   clients                 89680 non-null  float64       \n",
      " 7   customers               89680 non-null  float64       \n",
      " 8   cant                    89680 non-null  float64       \n",
      " 9   gmv_usd                 89680 non-null  float64       \n",
      " 10  product_price           89680 non-null  float64       \n",
      " 11  product_price_discount  89680 non-null  float64       \n",
      " 12  gmv_mix                 89680 non-null  float64       \n",
      " 13  costo                   89680 non-null  float64       \n",
      " 14  cluster                 89680 non-null  object        \n",
      " 15  price_min               83643 non-null  float64       \n",
      " 16  price_p10               83643 non-null  float64       \n",
      " 17  price_p25               83643 non-null  float64       \n",
      " 18  price_p50               83643 non-null  float64       \n",
      " 19  price_p75               83643 non-null  float64       \n",
      " 20  price_max               83643 non-null  float64       \n",
      " 21  p_price_tool_mean       83643 non-null  float64       \n",
      " 22  net_price_tool_mean     83643 non-null  float64       \n",
      " 23  date_ordinal            89680 non-null  int64         \n",
      " 24  gpi                     83643 non-null  float64       \n",
      " 25  npi                     83643 non-null  float64       \n",
      " 26  nmg                     83643 non-null  float64       \n",
      " 27  ncash_mg                83643 non-null  float64       \n",
      "dtypes: datetime64[ns](1), float64(20), int64(2), object(5)\n",
      "memory usage: 19.8+ MB\n"
     ]
    }
   ],
   "source": [
    "df2.info()"
   ]
  },
  {
   "cell_type": "code",
   "execution_count": 22,
   "metadata": {},
   "outputs": [
    {
     "name": "stdout",
     "output_type": "stream",
     "text": [
      "49     452043\n",
      "149    652815\n",
      "12     277871\n",
      "13     277873\n",
      "33     363763\n",
      "10     277866\n",
      "37     363789\n",
      "35     363775\n",
      "74     597183\n",
      "72     580894\n",
      "56     483012\n",
      "46     397323\n",
      "80     614937\n",
      "53     453298\n",
      "28     284046\n",
      "Name: source_id, dtype: int64\n"
     ]
    },
    {
     "data": {
      "application/vnd.plotly.v1+json": {
       "config": {
        "plotlyServerURL": "https://plot.ly"
       },
       "data": [
        {
         "connectgaps": false,
         "hovertemplate": "Fecha=%{x}<br>NPI=%{y}<extra></extra>",
         "legendgroup": "",
         "line": {
          "color": "#636efa",
          "dash": "solid"
         },
         "mode": "lines",
         "name": "",
         "orientation": "v",
         "showlegend": false,
         "type": "scatter",
         "x": [
          "2024-18",
          "2024-19",
          "2024-20",
          "2024-21",
          "2024-22",
          "2024-23",
          "2024-24",
          "2024-25",
          "2024-26",
          "2024-27",
          "2024-28",
          "2024-29",
          "2024-30",
          "2024-31",
          "2024-32",
          "2024-33",
          "2024-34",
          "2024-35"
         ],
         "xaxis": "x",
         "y": [
          92.26106872532596,
          91.85560483200274,
          92.83143230279244,
          91.3349596041452,
          92.96711489393996,
          93.53388705390958,
          94.11200628028338,
          93.72786154961372,
          94.24419487465062,
          94.06113476714295,
          94.07212782384384,
          94.4478815004111,
          94.79655767486848,
          96.62707854987234,
          96.25678068751586,
          99.92995706477791,
          96.90318650856474,
          94.12636553915787
         ],
         "yaxis": "y"
        }
       ],
       "layout": {
        "height": 600,
        "legend": {
         "tracegroupgap": 0
        },
        "template": {
         "data": {
          "bar": [
           {
            "error_x": {
             "color": "#2a3f5f"
            },
            "error_y": {
             "color": "#2a3f5f"
            },
            "marker": {
             "line": {
              "color": "#E5ECF6",
              "width": 0.5
             }
            },
            "type": "bar"
           }
          ],
          "barpolar": [
           {
            "marker": {
             "line": {
              "color": "#E5ECF6",
              "width": 0.5
             }
            },
            "type": "barpolar"
           }
          ],
          "carpet": [
           {
            "aaxis": {
             "endlinecolor": "#2a3f5f",
             "gridcolor": "white",
             "linecolor": "white",
             "minorgridcolor": "white",
             "startlinecolor": "#2a3f5f"
            },
            "baxis": {
             "endlinecolor": "#2a3f5f",
             "gridcolor": "white",
             "linecolor": "white",
             "minorgridcolor": "white",
             "startlinecolor": "#2a3f5f"
            },
            "type": "carpet"
           }
          ],
          "choropleth": [
           {
            "colorbar": {
             "outlinewidth": 0,
             "ticks": ""
            },
            "type": "choropleth"
           }
          ],
          "contour": [
           {
            "colorbar": {
             "outlinewidth": 0,
             "ticks": ""
            },
            "colorscale": [
             [
              0,
              "#0d0887"
             ],
             [
              0.1111111111111111,
              "#46039f"
             ],
             [
              0.2222222222222222,
              "#7201a8"
             ],
             [
              0.3333333333333333,
              "#9c179e"
             ],
             [
              0.4444444444444444,
              "#bd3786"
             ],
             [
              0.5555555555555556,
              "#d8576b"
             ],
             [
              0.6666666666666666,
              "#ed7953"
             ],
             [
              0.7777777777777778,
              "#fb9f3a"
             ],
             [
              0.8888888888888888,
              "#fdca26"
             ],
             [
              1,
              "#f0f921"
             ]
            ],
            "type": "contour"
           }
          ],
          "contourcarpet": [
           {
            "colorbar": {
             "outlinewidth": 0,
             "ticks": ""
            },
            "type": "contourcarpet"
           }
          ],
          "heatmap": [
           {
            "colorbar": {
             "outlinewidth": 0,
             "ticks": ""
            },
            "colorscale": [
             [
              0,
              "#0d0887"
             ],
             [
              0.1111111111111111,
              "#46039f"
             ],
             [
              0.2222222222222222,
              "#7201a8"
             ],
             [
              0.3333333333333333,
              "#9c179e"
             ],
             [
              0.4444444444444444,
              "#bd3786"
             ],
             [
              0.5555555555555556,
              "#d8576b"
             ],
             [
              0.6666666666666666,
              "#ed7953"
             ],
             [
              0.7777777777777778,
              "#fb9f3a"
             ],
             [
              0.8888888888888888,
              "#fdca26"
             ],
             [
              1,
              "#f0f921"
             ]
            ],
            "type": "heatmap"
           }
          ],
          "heatmapgl": [
           {
            "colorbar": {
             "outlinewidth": 0,
             "ticks": ""
            },
            "colorscale": [
             [
              0,
              "#0d0887"
             ],
             [
              0.1111111111111111,
              "#46039f"
             ],
             [
              0.2222222222222222,
              "#7201a8"
             ],
             [
              0.3333333333333333,
              "#9c179e"
             ],
             [
              0.4444444444444444,
              "#bd3786"
             ],
             [
              0.5555555555555556,
              "#d8576b"
             ],
             [
              0.6666666666666666,
              "#ed7953"
             ],
             [
              0.7777777777777778,
              "#fb9f3a"
             ],
             [
              0.8888888888888888,
              "#fdca26"
             ],
             [
              1,
              "#f0f921"
             ]
            ],
            "type": "heatmapgl"
           }
          ],
          "histogram": [
           {
            "marker": {
             "colorbar": {
              "outlinewidth": 0,
              "ticks": ""
             }
            },
            "type": "histogram"
           }
          ],
          "histogram2d": [
           {
            "colorbar": {
             "outlinewidth": 0,
             "ticks": ""
            },
            "colorscale": [
             [
              0,
              "#0d0887"
             ],
             [
              0.1111111111111111,
              "#46039f"
             ],
             [
              0.2222222222222222,
              "#7201a8"
             ],
             [
              0.3333333333333333,
              "#9c179e"
             ],
             [
              0.4444444444444444,
              "#bd3786"
             ],
             [
              0.5555555555555556,
              "#d8576b"
             ],
             [
              0.6666666666666666,
              "#ed7953"
             ],
             [
              0.7777777777777778,
              "#fb9f3a"
             ],
             [
              0.8888888888888888,
              "#fdca26"
             ],
             [
              1,
              "#f0f921"
             ]
            ],
            "type": "histogram2d"
           }
          ],
          "histogram2dcontour": [
           {
            "colorbar": {
             "outlinewidth": 0,
             "ticks": ""
            },
            "colorscale": [
             [
              0,
              "#0d0887"
             ],
             [
              0.1111111111111111,
              "#46039f"
             ],
             [
              0.2222222222222222,
              "#7201a8"
             ],
             [
              0.3333333333333333,
              "#9c179e"
             ],
             [
              0.4444444444444444,
              "#bd3786"
             ],
             [
              0.5555555555555556,
              "#d8576b"
             ],
             [
              0.6666666666666666,
              "#ed7953"
             ],
             [
              0.7777777777777778,
              "#fb9f3a"
             ],
             [
              0.8888888888888888,
              "#fdca26"
             ],
             [
              1,
              "#f0f921"
             ]
            ],
            "type": "histogram2dcontour"
           }
          ],
          "mesh3d": [
           {
            "colorbar": {
             "outlinewidth": 0,
             "ticks": ""
            },
            "type": "mesh3d"
           }
          ],
          "parcoords": [
           {
            "line": {
             "colorbar": {
              "outlinewidth": 0,
              "ticks": ""
             }
            },
            "type": "parcoords"
           }
          ],
          "pie": [
           {
            "automargin": true,
            "type": "pie"
           }
          ],
          "scatter": [
           {
            "marker": {
             "colorbar": {
              "outlinewidth": 0,
              "ticks": ""
             }
            },
            "type": "scatter"
           }
          ],
          "scatter3d": [
           {
            "line": {
             "colorbar": {
              "outlinewidth": 0,
              "ticks": ""
             }
            },
            "marker": {
             "colorbar": {
              "outlinewidth": 0,
              "ticks": ""
             }
            },
            "type": "scatter3d"
           }
          ],
          "scattercarpet": [
           {
            "marker": {
             "colorbar": {
              "outlinewidth": 0,
              "ticks": ""
             }
            },
            "type": "scattercarpet"
           }
          ],
          "scattergeo": [
           {
            "marker": {
             "colorbar": {
              "outlinewidth": 0,
              "ticks": ""
             }
            },
            "type": "scattergeo"
           }
          ],
          "scattergl": [
           {
            "marker": {
             "colorbar": {
              "outlinewidth": 0,
              "ticks": ""
             }
            },
            "type": "scattergl"
           }
          ],
          "scattermapbox": [
           {
            "marker": {
             "colorbar": {
              "outlinewidth": 0,
              "ticks": ""
             }
            },
            "type": "scattermapbox"
           }
          ],
          "scatterpolar": [
           {
            "marker": {
             "colorbar": {
              "outlinewidth": 0,
              "ticks": ""
             }
            },
            "type": "scatterpolar"
           }
          ],
          "scatterpolargl": [
           {
            "marker": {
             "colorbar": {
              "outlinewidth": 0,
              "ticks": ""
             }
            },
            "type": "scatterpolargl"
           }
          ],
          "scatterternary": [
           {
            "marker": {
             "colorbar": {
              "outlinewidth": 0,
              "ticks": ""
             }
            },
            "type": "scatterternary"
           }
          ],
          "surface": [
           {
            "colorbar": {
             "outlinewidth": 0,
             "ticks": ""
            },
            "colorscale": [
             [
              0,
              "#0d0887"
             ],
             [
              0.1111111111111111,
              "#46039f"
             ],
             [
              0.2222222222222222,
              "#7201a8"
             ],
             [
              0.3333333333333333,
              "#9c179e"
             ],
             [
              0.4444444444444444,
              "#bd3786"
             ],
             [
              0.5555555555555556,
              "#d8576b"
             ],
             [
              0.6666666666666666,
              "#ed7953"
             ],
             [
              0.7777777777777778,
              "#fb9f3a"
             ],
             [
              0.8888888888888888,
              "#fdca26"
             ],
             [
              1,
              "#f0f921"
             ]
            ],
            "type": "surface"
           }
          ],
          "table": [
           {
            "cells": {
             "fill": {
              "color": "#EBF0F8"
             },
             "line": {
              "color": "white"
             }
            },
            "header": {
             "fill": {
              "color": "#C8D4E3"
             },
             "line": {
              "color": "white"
             }
            },
            "type": "table"
           }
          ]
         },
         "layout": {
          "annotationdefaults": {
           "arrowcolor": "#2a3f5f",
           "arrowhead": 0,
           "arrowwidth": 1
          },
          "autotypenumbers": "strict",
          "coloraxis": {
           "colorbar": {
            "outlinewidth": 0,
            "ticks": ""
           }
          },
          "colorscale": {
           "diverging": [
            [
             0,
             "#8e0152"
            ],
            [
             0.1,
             "#c51b7d"
            ],
            [
             0.2,
             "#de77ae"
            ],
            [
             0.3,
             "#f1b6da"
            ],
            [
             0.4,
             "#fde0ef"
            ],
            [
             0.5,
             "#f7f7f7"
            ],
            [
             0.6,
             "#e6f5d0"
            ],
            [
             0.7,
             "#b8e186"
            ],
            [
             0.8,
             "#7fbc41"
            ],
            [
             0.9,
             "#4d9221"
            ],
            [
             1,
             "#276419"
            ]
           ],
           "sequential": [
            [
             0,
             "#0d0887"
            ],
            [
             0.1111111111111111,
             "#46039f"
            ],
            [
             0.2222222222222222,
             "#7201a8"
            ],
            [
             0.3333333333333333,
             "#9c179e"
            ],
            [
             0.4444444444444444,
             "#bd3786"
            ],
            [
             0.5555555555555556,
             "#d8576b"
            ],
            [
             0.6666666666666666,
             "#ed7953"
            ],
            [
             0.7777777777777778,
             "#fb9f3a"
            ],
            [
             0.8888888888888888,
             "#fdca26"
            ],
            [
             1,
             "#f0f921"
            ]
           ],
           "sequentialminus": [
            [
             0,
             "#0d0887"
            ],
            [
             0.1111111111111111,
             "#46039f"
            ],
            [
             0.2222222222222222,
             "#7201a8"
            ],
            [
             0.3333333333333333,
             "#9c179e"
            ],
            [
             0.4444444444444444,
             "#bd3786"
            ],
            [
             0.5555555555555556,
             "#d8576b"
            ],
            [
             0.6666666666666666,
             "#ed7953"
            ],
            [
             0.7777777777777778,
             "#fb9f3a"
            ],
            [
             0.8888888888888888,
             "#fdca26"
            ],
            [
             1,
             "#f0f921"
            ]
           ]
          },
          "colorway": [
           "#636efa",
           "#EF553B",
           "#00cc96",
           "#ab63fa",
           "#FFA15A",
           "#19d3f3",
           "#FF6692",
           "#B6E880",
           "#FF97FF",
           "#FECB52"
          ],
          "font": {
           "color": "#2a3f5f"
          },
          "geo": {
           "bgcolor": "white",
           "lakecolor": "white",
           "landcolor": "#E5ECF6",
           "showlakes": true,
           "showland": true,
           "subunitcolor": "white"
          },
          "hoverlabel": {
           "align": "left"
          },
          "hovermode": "closest",
          "mapbox": {
           "style": "light"
          },
          "paper_bgcolor": "white",
          "plot_bgcolor": "#E5ECF6",
          "polar": {
           "angularaxis": {
            "gridcolor": "white",
            "linecolor": "white",
            "ticks": ""
           },
           "bgcolor": "#E5ECF6",
           "radialaxis": {
            "gridcolor": "white",
            "linecolor": "white",
            "ticks": ""
           }
          },
          "scene": {
           "xaxis": {
            "backgroundcolor": "#E5ECF6",
            "gridcolor": "white",
            "gridwidth": 2,
            "linecolor": "white",
            "showbackground": true,
            "ticks": "",
            "zerolinecolor": "white"
           },
           "yaxis": {
            "backgroundcolor": "#E5ECF6",
            "gridcolor": "white",
            "gridwidth": 2,
            "linecolor": "white",
            "showbackground": true,
            "ticks": "",
            "zerolinecolor": "white"
           },
           "zaxis": {
            "backgroundcolor": "#E5ECF6",
            "gridcolor": "white",
            "gridwidth": 2,
            "linecolor": "white",
            "showbackground": true,
            "ticks": "",
            "zerolinecolor": "white"
           }
          },
          "shapedefaults": {
           "line": {
            "color": "#2a3f5f"
           }
          },
          "ternary": {
           "aaxis": {
            "gridcolor": "white",
            "linecolor": "white",
            "ticks": ""
           },
           "baxis": {
            "gridcolor": "white",
            "linecolor": "white",
            "ticks": ""
           },
           "bgcolor": "#E5ECF6",
           "caxis": {
            "gridcolor": "white",
            "linecolor": "white",
            "ticks": ""
           }
          },
          "title": {
           "x": 0.05
          },
          "xaxis": {
           "automargin": true,
           "gridcolor": "white",
           "linecolor": "white",
           "ticks": "",
           "title": {
            "standoff": 15
           },
           "zerolinecolor": "white",
           "zerolinewidth": 2
          },
          "yaxis": {
           "automargin": true,
           "gridcolor": "white",
           "linecolor": "white",
           "ticks": "",
           "title": {
            "standoff": 15
           },
           "zerolinecolor": "white",
           "zerolinewidth": 2
          }
         }
        },
        "title": {
         "text": "NPI por Competitor Name"
        },
        "xaxis": {
         "anchor": "y",
         "domain": [
          0,
          1
         ],
         "title": {
          "text": "Fecha"
         }
        },
        "yaxis": {
         "anchor": "x",
         "domain": [
          0,
          1
         ],
         "title": {
          "text": "NPI"
         }
        }
       }
      },
      "text/html": [
       "<div>                            <div id=\"9a443dc3-1a93-4722-b7ac-f4313ae34cdd\" class=\"plotly-graph-div\" style=\"height:600px; width:100%;\"></div>            <script type=\"text/javascript\">                require([\"plotly\"], function(Plotly) {                    window.PLOTLYENV=window.PLOTLYENV || {};                                    if (document.getElementById(\"9a443dc3-1a93-4722-b7ac-f4313ae34cdd\")) {                    Plotly.newPlot(                        \"9a443dc3-1a93-4722-b7ac-f4313ae34cdd\",                        [{\"connectgaps\": false, \"hovertemplate\": \"Fecha=%{x}<br>NPI=%{y}<extra></extra>\", \"legendgroup\": \"\", \"line\": {\"color\": \"#636efa\", \"dash\": \"solid\"}, \"mode\": \"lines\", \"name\": \"\", \"orientation\": \"v\", \"showlegend\": false, \"type\": \"scatter\", \"x\": [\"2024-18\", \"2024-19\", \"2024-20\", \"2024-21\", \"2024-22\", \"2024-23\", \"2024-24\", \"2024-25\", \"2024-26\", \"2024-27\", \"2024-28\", \"2024-29\", \"2024-30\", \"2024-31\", \"2024-32\", \"2024-33\", \"2024-34\", \"2024-35\"], \"xaxis\": \"x\", \"y\": [92.26106872532596, 91.85560483200274, 92.83143230279244, 91.3349596041452, 92.96711489393996, 93.53388705390958, 94.11200628028338, 93.72786154961372, 94.24419487465062, 94.06113476714295, 94.07212782384384, 94.4478815004111, 94.79655767486848, 96.62707854987234, 96.25678068751586, 99.92995706477791, 96.90318650856474, 94.12636553915787], \"yaxis\": \"y\"}],                        {\"height\": 600, \"legend\": {\"tracegroupgap\": 0}, \"template\": {\"data\": {\"bar\": [{\"error_x\": {\"color\": \"#2a3f5f\"}, \"error_y\": {\"color\": \"#2a3f5f\"}, \"marker\": {\"line\": {\"color\": \"#E5ECF6\", \"width\": 0.5}}, \"type\": \"bar\"}], \"barpolar\": [{\"marker\": {\"line\": {\"color\": \"#E5ECF6\", \"width\": 0.5}}, \"type\": \"barpolar\"}], \"carpet\": [{\"aaxis\": {\"endlinecolor\": \"#2a3f5f\", \"gridcolor\": \"white\", \"linecolor\": \"white\", \"minorgridcolor\": \"white\", \"startlinecolor\": \"#2a3f5f\"}, \"baxis\": {\"endlinecolor\": \"#2a3f5f\", \"gridcolor\": \"white\", \"linecolor\": \"white\", \"minorgridcolor\": \"white\", \"startlinecolor\": \"#2a3f5f\"}, \"type\": \"carpet\"}], \"choropleth\": [{\"colorbar\": {\"outlinewidth\": 0, \"ticks\": \"\"}, \"type\": \"choropleth\"}], \"contour\": [{\"colorbar\": {\"outlinewidth\": 0, \"ticks\": \"\"}, \"colorscale\": [[0.0, \"#0d0887\"], [0.1111111111111111, \"#46039f\"], [0.2222222222222222, \"#7201a8\"], [0.3333333333333333, \"#9c179e\"], [0.4444444444444444, \"#bd3786\"], [0.5555555555555556, \"#d8576b\"], [0.6666666666666666, \"#ed7953\"], [0.7777777777777778, \"#fb9f3a\"], [0.8888888888888888, \"#fdca26\"], [1.0, \"#f0f921\"]], \"type\": \"contour\"}], \"contourcarpet\": [{\"colorbar\": {\"outlinewidth\": 0, \"ticks\": \"\"}, \"type\": \"contourcarpet\"}], \"heatmap\": [{\"colorbar\": {\"outlinewidth\": 0, \"ticks\": \"\"}, \"colorscale\": [[0.0, \"#0d0887\"], [0.1111111111111111, \"#46039f\"], [0.2222222222222222, \"#7201a8\"], [0.3333333333333333, \"#9c179e\"], [0.4444444444444444, \"#bd3786\"], [0.5555555555555556, \"#d8576b\"], [0.6666666666666666, \"#ed7953\"], [0.7777777777777778, \"#fb9f3a\"], [0.8888888888888888, \"#fdca26\"], [1.0, \"#f0f921\"]], \"type\": \"heatmap\"}], \"heatmapgl\": [{\"colorbar\": {\"outlinewidth\": 0, \"ticks\": \"\"}, \"colorscale\": [[0.0, \"#0d0887\"], [0.1111111111111111, \"#46039f\"], [0.2222222222222222, \"#7201a8\"], [0.3333333333333333, \"#9c179e\"], [0.4444444444444444, \"#bd3786\"], [0.5555555555555556, \"#d8576b\"], [0.6666666666666666, \"#ed7953\"], [0.7777777777777778, \"#fb9f3a\"], [0.8888888888888888, \"#fdca26\"], [1.0, \"#f0f921\"]], \"type\": \"heatmapgl\"}], \"histogram\": [{\"marker\": {\"colorbar\": {\"outlinewidth\": 0, \"ticks\": \"\"}}, \"type\": \"histogram\"}], \"histogram2d\": [{\"colorbar\": {\"outlinewidth\": 0, \"ticks\": \"\"}, \"colorscale\": [[0.0, \"#0d0887\"], [0.1111111111111111, \"#46039f\"], [0.2222222222222222, \"#7201a8\"], [0.3333333333333333, \"#9c179e\"], [0.4444444444444444, \"#bd3786\"], [0.5555555555555556, \"#d8576b\"], [0.6666666666666666, \"#ed7953\"], [0.7777777777777778, \"#fb9f3a\"], [0.8888888888888888, \"#fdca26\"], [1.0, \"#f0f921\"]], \"type\": \"histogram2d\"}], \"histogram2dcontour\": [{\"colorbar\": {\"outlinewidth\": 0, \"ticks\": \"\"}, \"colorscale\": [[0.0, \"#0d0887\"], [0.1111111111111111, \"#46039f\"], [0.2222222222222222, \"#7201a8\"], [0.3333333333333333, \"#9c179e\"], [0.4444444444444444, \"#bd3786\"], [0.5555555555555556, \"#d8576b\"], [0.6666666666666666, \"#ed7953\"], [0.7777777777777778, \"#fb9f3a\"], [0.8888888888888888, \"#fdca26\"], [1.0, \"#f0f921\"]], \"type\": \"histogram2dcontour\"}], \"mesh3d\": [{\"colorbar\": {\"outlinewidth\": 0, \"ticks\": \"\"}, \"type\": \"mesh3d\"}], \"parcoords\": [{\"line\": {\"colorbar\": {\"outlinewidth\": 0, \"ticks\": \"\"}}, \"type\": \"parcoords\"}], \"pie\": [{\"automargin\": true, \"type\": \"pie\"}], \"scatter\": [{\"marker\": {\"colorbar\": {\"outlinewidth\": 0, \"ticks\": \"\"}}, \"type\": \"scatter\"}], \"scatter3d\": [{\"line\": {\"colorbar\": {\"outlinewidth\": 0, \"ticks\": \"\"}}, \"marker\": {\"colorbar\": {\"outlinewidth\": 0, \"ticks\": \"\"}}, \"type\": \"scatter3d\"}], \"scattercarpet\": [{\"marker\": {\"colorbar\": {\"outlinewidth\": 0, \"ticks\": \"\"}}, \"type\": \"scattercarpet\"}], \"scattergeo\": [{\"marker\": {\"colorbar\": {\"outlinewidth\": 0, \"ticks\": \"\"}}, \"type\": \"scattergeo\"}], \"scattergl\": [{\"marker\": {\"colorbar\": {\"outlinewidth\": 0, \"ticks\": \"\"}}, \"type\": \"scattergl\"}], \"scattermapbox\": [{\"marker\": {\"colorbar\": {\"outlinewidth\": 0, \"ticks\": \"\"}}, \"type\": \"scattermapbox\"}], \"scatterpolar\": [{\"marker\": {\"colorbar\": {\"outlinewidth\": 0, \"ticks\": \"\"}}, \"type\": \"scatterpolar\"}], \"scatterpolargl\": [{\"marker\": {\"colorbar\": {\"outlinewidth\": 0, \"ticks\": \"\"}}, \"type\": \"scatterpolargl\"}], \"scatterternary\": [{\"marker\": {\"colorbar\": {\"outlinewidth\": 0, \"ticks\": \"\"}}, \"type\": \"scatterternary\"}], \"surface\": [{\"colorbar\": {\"outlinewidth\": 0, \"ticks\": \"\"}, \"colorscale\": [[0.0, \"#0d0887\"], [0.1111111111111111, \"#46039f\"], [0.2222222222222222, \"#7201a8\"], [0.3333333333333333, \"#9c179e\"], [0.4444444444444444, \"#bd3786\"], [0.5555555555555556, \"#d8576b\"], [0.6666666666666666, \"#ed7953\"], [0.7777777777777778, \"#fb9f3a\"], [0.8888888888888888, \"#fdca26\"], [1.0, \"#f0f921\"]], \"type\": \"surface\"}], \"table\": [{\"cells\": {\"fill\": {\"color\": \"#EBF0F8\"}, \"line\": {\"color\": \"white\"}}, \"header\": {\"fill\": {\"color\": \"#C8D4E3\"}, \"line\": {\"color\": \"white\"}}, \"type\": \"table\"}]}, \"layout\": {\"annotationdefaults\": {\"arrowcolor\": \"#2a3f5f\", \"arrowhead\": 0, \"arrowwidth\": 1}, \"autotypenumbers\": \"strict\", \"coloraxis\": {\"colorbar\": {\"outlinewidth\": 0, \"ticks\": \"\"}}, \"colorscale\": {\"diverging\": [[0, \"#8e0152\"], [0.1, \"#c51b7d\"], [0.2, \"#de77ae\"], [0.3, \"#f1b6da\"], [0.4, \"#fde0ef\"], [0.5, \"#f7f7f7\"], [0.6, \"#e6f5d0\"], [0.7, \"#b8e186\"], [0.8, \"#7fbc41\"], [0.9, \"#4d9221\"], [1, \"#276419\"]], \"sequential\": [[0.0, \"#0d0887\"], [0.1111111111111111, \"#46039f\"], [0.2222222222222222, \"#7201a8\"], [0.3333333333333333, \"#9c179e\"], [0.4444444444444444, \"#bd3786\"], [0.5555555555555556, \"#d8576b\"], [0.6666666666666666, \"#ed7953\"], [0.7777777777777778, \"#fb9f3a\"], [0.8888888888888888, \"#fdca26\"], [1.0, \"#f0f921\"]], \"sequentialminus\": [[0.0, \"#0d0887\"], [0.1111111111111111, \"#46039f\"], [0.2222222222222222, \"#7201a8\"], [0.3333333333333333, \"#9c179e\"], [0.4444444444444444, \"#bd3786\"], [0.5555555555555556, \"#d8576b\"], [0.6666666666666666, \"#ed7953\"], [0.7777777777777778, \"#fb9f3a\"], [0.8888888888888888, \"#fdca26\"], [1.0, \"#f0f921\"]]}, \"colorway\": [\"#636efa\", \"#EF553B\", \"#00cc96\", \"#ab63fa\", \"#FFA15A\", \"#19d3f3\", \"#FF6692\", \"#B6E880\", \"#FF97FF\", \"#FECB52\"], \"font\": {\"color\": \"#2a3f5f\"}, \"geo\": {\"bgcolor\": \"white\", \"lakecolor\": \"white\", \"landcolor\": \"#E5ECF6\", \"showlakes\": true, \"showland\": true, \"subunitcolor\": \"white\"}, \"hoverlabel\": {\"align\": \"left\"}, \"hovermode\": \"closest\", \"mapbox\": {\"style\": \"light\"}, \"paper_bgcolor\": \"white\", \"plot_bgcolor\": \"#E5ECF6\", \"polar\": {\"angularaxis\": {\"gridcolor\": \"white\", \"linecolor\": \"white\", \"ticks\": \"\"}, \"bgcolor\": \"#E5ECF6\", \"radialaxis\": {\"gridcolor\": \"white\", \"linecolor\": \"white\", \"ticks\": \"\"}}, \"scene\": {\"xaxis\": {\"backgroundcolor\": \"#E5ECF6\", \"gridcolor\": \"white\", \"gridwidth\": 2, \"linecolor\": \"white\", \"showbackground\": true, \"ticks\": \"\", \"zerolinecolor\": \"white\"}, \"yaxis\": {\"backgroundcolor\": \"#E5ECF6\", \"gridcolor\": \"white\", \"gridwidth\": 2, \"linecolor\": \"white\", \"showbackground\": true, \"ticks\": \"\", \"zerolinecolor\": \"white\"}, \"zaxis\": {\"backgroundcolor\": \"#E5ECF6\", \"gridcolor\": \"white\", \"gridwidth\": 2, \"linecolor\": \"white\", \"showbackground\": true, \"ticks\": \"\", \"zerolinecolor\": \"white\"}}, \"shapedefaults\": {\"line\": {\"color\": \"#2a3f5f\"}}, \"ternary\": {\"aaxis\": {\"gridcolor\": \"white\", \"linecolor\": \"white\", \"ticks\": \"\"}, \"baxis\": {\"gridcolor\": \"white\", \"linecolor\": \"white\", \"ticks\": \"\"}, \"bgcolor\": \"#E5ECF6\", \"caxis\": {\"gridcolor\": \"white\", \"linecolor\": \"white\", \"ticks\": \"\"}}, \"title\": {\"x\": 0.05}, \"xaxis\": {\"automargin\": true, \"gridcolor\": \"white\", \"linecolor\": \"white\", \"ticks\": \"\", \"title\": {\"standoff\": 15}, \"zerolinecolor\": \"white\", \"zerolinewidth\": 2}, \"yaxis\": {\"automargin\": true, \"gridcolor\": \"white\", \"linecolor\": \"white\", \"ticks\": \"\", \"title\": {\"standoff\": 15}, \"zerolinecolor\": \"white\", \"zerolinewidth\": 2}}}, \"title\": {\"text\": \"NPI por Competitor Name\"}, \"xaxis\": {\"anchor\": \"y\", \"domain\": [0.0, 1.0], \"title\": {\"text\": \"Fecha\"}}, \"yaxis\": {\"anchor\": \"x\", \"domain\": [0.0, 1.0], \"title\": {\"text\": \"NPI\"}}},                        {\"responsive\": true}                    ).then(function(){\n",
       "                            \n",
       "var gd = document.getElementById('9a443dc3-1a93-4722-b7ac-f4313ae34cdd');\n",
       "var x = new MutationObserver(function (mutations, observer) {{\n",
       "        var display = window.getComputedStyle(gd).display;\n",
       "        if (!display || display === 'none') {{\n",
       "            console.log([gd, 'removed!']);\n",
       "            Plotly.purge(gd);\n",
       "            observer.disconnect();\n",
       "        }}\n",
       "}});\n",
       "\n",
       "// Listen for the removal of the full notebook cells\n",
       "var notebookContainer = gd.closest('#notebook-container');\n",
       "if (notebookContainer) {{\n",
       "    x.observe(notebookContainer, {childList: true});\n",
       "}}\n",
       "\n",
       "// Listen for the clearing of the current output cell\n",
       "var outputEl = gd.closest('.output');\n",
       "if (outputEl) {{\n",
       "    x.observe(outputEl, {childList: true});\n",
       "}}\n",
       "\n",
       "                        })                };                });            </script>        </div>"
      ]
     },
     "metadata": {},
     "output_type": "display_data"
    },
    {
     "data": {
      "application/vnd.plotly.v1+json": {
       "config": {
        "plotlyServerURL": "https://plot.ly"
       },
       "data": [
        {
         "alignmentgroup": "True",
         "hovertemplate": "Fecha=%{x}<br>gmv_usdidad=%{y}<extra></extra>",
         "legendgroup": "",
         "marker": {
          "color": "#636efa"
         },
         "name": "",
         "offsetgroup": "",
         "orientation": "v",
         "showlegend": false,
         "textposition": "auto",
         "type": "bar",
         "x": [
          "2024-18",
          "2024-19",
          "2024-20",
          "2024-21",
          "2024-22",
          "2024-23",
          "2024-24",
          "2024-25",
          "2024-26",
          "2024-27",
          "2024-28",
          "2024-29",
          "2024-30",
          "2024-31",
          "2024-32",
          "2024-33",
          "2024-34",
          "2024-35"
         ],
         "xaxis": "x",
         "y": [
          1138628.876,
          2549260.5453000003,
          2399334.1533000004,
          2367150.1014,
          1560485.7534,
          1973128.8633,
          2381783.4537000004,
          2208951.2893000003,
          1991203.2154,
          1918587.1796,
          1840902.1792000001,
          1912406.3125999998,
          1818829.1891,
          1876763.5341,
          1934220.8381999999,
          1557013.5959,
          1771133.2527,
          528005.5896000001
         ],
         "yaxis": "y"
        },
        {
         "mode": "lines+markers",
         "name": "Clientes",
         "type": "scatter",
         "x": [
          "2024-18",
          "2024-19",
          "2024-20",
          "2024-21",
          "2024-22",
          "2024-23",
          "2024-24",
          "2024-25",
          "2024-26",
          "2024-27",
          "2024-28",
          "2024-29",
          "2024-30",
          "2024-31",
          "2024-32",
          "2024-33",
          "2024-34",
          "2024-35"
         ],
         "y": [
          911.4,
          1079.7142857142858,
          986.5714285714286,
          1028.2857142857142,
          673,
          868.7142857142857,
          943.5714285714286,
          926,
          848.1428571428571,
          824,
          734.4285714285714,
          780.7142857142857,
          773.2857142857143,
          763,
          789.4285714285714,
          650.2857142857143,
          760.2857142857143,
          691.5
         ],
         "yaxis": "y2"
        }
       ],
       "layout": {
        "barmode": "relative",
        "legend": {
         "tracegroupgap": 0
        },
        "template": {
         "data": {
          "bar": [
           {
            "error_x": {
             "color": "#2a3f5f"
            },
            "error_y": {
             "color": "#2a3f5f"
            },
            "marker": {
             "line": {
              "color": "#E5ECF6",
              "width": 0.5
             }
            },
            "type": "bar"
           }
          ],
          "barpolar": [
           {
            "marker": {
             "line": {
              "color": "#E5ECF6",
              "width": 0.5
             }
            },
            "type": "barpolar"
           }
          ],
          "carpet": [
           {
            "aaxis": {
             "endlinecolor": "#2a3f5f",
             "gridcolor": "white",
             "linecolor": "white",
             "minorgridcolor": "white",
             "startlinecolor": "#2a3f5f"
            },
            "baxis": {
             "endlinecolor": "#2a3f5f",
             "gridcolor": "white",
             "linecolor": "white",
             "minorgridcolor": "white",
             "startlinecolor": "#2a3f5f"
            },
            "type": "carpet"
           }
          ],
          "choropleth": [
           {
            "colorbar": {
             "outlinewidth": 0,
             "ticks": ""
            },
            "type": "choropleth"
           }
          ],
          "contour": [
           {
            "colorbar": {
             "outlinewidth": 0,
             "ticks": ""
            },
            "colorscale": [
             [
              0,
              "#0d0887"
             ],
             [
              0.1111111111111111,
              "#46039f"
             ],
             [
              0.2222222222222222,
              "#7201a8"
             ],
             [
              0.3333333333333333,
              "#9c179e"
             ],
             [
              0.4444444444444444,
              "#bd3786"
             ],
             [
              0.5555555555555556,
              "#d8576b"
             ],
             [
              0.6666666666666666,
              "#ed7953"
             ],
             [
              0.7777777777777778,
              "#fb9f3a"
             ],
             [
              0.8888888888888888,
              "#fdca26"
             ],
             [
              1,
              "#f0f921"
             ]
            ],
            "type": "contour"
           }
          ],
          "contourcarpet": [
           {
            "colorbar": {
             "outlinewidth": 0,
             "ticks": ""
            },
            "type": "contourcarpet"
           }
          ],
          "heatmap": [
           {
            "colorbar": {
             "outlinewidth": 0,
             "ticks": ""
            },
            "colorscale": [
             [
              0,
              "#0d0887"
             ],
             [
              0.1111111111111111,
              "#46039f"
             ],
             [
              0.2222222222222222,
              "#7201a8"
             ],
             [
              0.3333333333333333,
              "#9c179e"
             ],
             [
              0.4444444444444444,
              "#bd3786"
             ],
             [
              0.5555555555555556,
              "#d8576b"
             ],
             [
              0.6666666666666666,
              "#ed7953"
             ],
             [
              0.7777777777777778,
              "#fb9f3a"
             ],
             [
              0.8888888888888888,
              "#fdca26"
             ],
             [
              1,
              "#f0f921"
             ]
            ],
            "type": "heatmap"
           }
          ],
          "heatmapgl": [
           {
            "colorbar": {
             "outlinewidth": 0,
             "ticks": ""
            },
            "colorscale": [
             [
              0,
              "#0d0887"
             ],
             [
              0.1111111111111111,
              "#46039f"
             ],
             [
              0.2222222222222222,
              "#7201a8"
             ],
             [
              0.3333333333333333,
              "#9c179e"
             ],
             [
              0.4444444444444444,
              "#bd3786"
             ],
             [
              0.5555555555555556,
              "#d8576b"
             ],
             [
              0.6666666666666666,
              "#ed7953"
             ],
             [
              0.7777777777777778,
              "#fb9f3a"
             ],
             [
              0.8888888888888888,
              "#fdca26"
             ],
             [
              1,
              "#f0f921"
             ]
            ],
            "type": "heatmapgl"
           }
          ],
          "histogram": [
           {
            "marker": {
             "colorbar": {
              "outlinewidth": 0,
              "ticks": ""
             }
            },
            "type": "histogram"
           }
          ],
          "histogram2d": [
           {
            "colorbar": {
             "outlinewidth": 0,
             "ticks": ""
            },
            "colorscale": [
             [
              0,
              "#0d0887"
             ],
             [
              0.1111111111111111,
              "#46039f"
             ],
             [
              0.2222222222222222,
              "#7201a8"
             ],
             [
              0.3333333333333333,
              "#9c179e"
             ],
             [
              0.4444444444444444,
              "#bd3786"
             ],
             [
              0.5555555555555556,
              "#d8576b"
             ],
             [
              0.6666666666666666,
              "#ed7953"
             ],
             [
              0.7777777777777778,
              "#fb9f3a"
             ],
             [
              0.8888888888888888,
              "#fdca26"
             ],
             [
              1,
              "#f0f921"
             ]
            ],
            "type": "histogram2d"
           }
          ],
          "histogram2dcontour": [
           {
            "colorbar": {
             "outlinewidth": 0,
             "ticks": ""
            },
            "colorscale": [
             [
              0,
              "#0d0887"
             ],
             [
              0.1111111111111111,
              "#46039f"
             ],
             [
              0.2222222222222222,
              "#7201a8"
             ],
             [
              0.3333333333333333,
              "#9c179e"
             ],
             [
              0.4444444444444444,
              "#bd3786"
             ],
             [
              0.5555555555555556,
              "#d8576b"
             ],
             [
              0.6666666666666666,
              "#ed7953"
             ],
             [
              0.7777777777777778,
              "#fb9f3a"
             ],
             [
              0.8888888888888888,
              "#fdca26"
             ],
             [
              1,
              "#f0f921"
             ]
            ],
            "type": "histogram2dcontour"
           }
          ],
          "mesh3d": [
           {
            "colorbar": {
             "outlinewidth": 0,
             "ticks": ""
            },
            "type": "mesh3d"
           }
          ],
          "parcoords": [
           {
            "line": {
             "colorbar": {
              "outlinewidth": 0,
              "ticks": ""
             }
            },
            "type": "parcoords"
           }
          ],
          "pie": [
           {
            "automargin": true,
            "type": "pie"
           }
          ],
          "scatter": [
           {
            "marker": {
             "colorbar": {
              "outlinewidth": 0,
              "ticks": ""
             }
            },
            "type": "scatter"
           }
          ],
          "scatter3d": [
           {
            "line": {
             "colorbar": {
              "outlinewidth": 0,
              "ticks": ""
             }
            },
            "marker": {
             "colorbar": {
              "outlinewidth": 0,
              "ticks": ""
             }
            },
            "type": "scatter3d"
           }
          ],
          "scattercarpet": [
           {
            "marker": {
             "colorbar": {
              "outlinewidth": 0,
              "ticks": ""
             }
            },
            "type": "scattercarpet"
           }
          ],
          "scattergeo": [
           {
            "marker": {
             "colorbar": {
              "outlinewidth": 0,
              "ticks": ""
             }
            },
            "type": "scattergeo"
           }
          ],
          "scattergl": [
           {
            "marker": {
             "colorbar": {
              "outlinewidth": 0,
              "ticks": ""
             }
            },
            "type": "scattergl"
           }
          ],
          "scattermapbox": [
           {
            "marker": {
             "colorbar": {
              "outlinewidth": 0,
              "ticks": ""
             }
            },
            "type": "scattermapbox"
           }
          ],
          "scatterpolar": [
           {
            "marker": {
             "colorbar": {
              "outlinewidth": 0,
              "ticks": ""
             }
            },
            "type": "scatterpolar"
           }
          ],
          "scatterpolargl": [
           {
            "marker": {
             "colorbar": {
              "outlinewidth": 0,
              "ticks": ""
             }
            },
            "type": "scatterpolargl"
           }
          ],
          "scatterternary": [
           {
            "marker": {
             "colorbar": {
              "outlinewidth": 0,
              "ticks": ""
             }
            },
            "type": "scatterternary"
           }
          ],
          "surface": [
           {
            "colorbar": {
             "outlinewidth": 0,
             "ticks": ""
            },
            "colorscale": [
             [
              0,
              "#0d0887"
             ],
             [
              0.1111111111111111,
              "#46039f"
             ],
             [
              0.2222222222222222,
              "#7201a8"
             ],
             [
              0.3333333333333333,
              "#9c179e"
             ],
             [
              0.4444444444444444,
              "#bd3786"
             ],
             [
              0.5555555555555556,
              "#d8576b"
             ],
             [
              0.6666666666666666,
              "#ed7953"
             ],
             [
              0.7777777777777778,
              "#fb9f3a"
             ],
             [
              0.8888888888888888,
              "#fdca26"
             ],
             [
              1,
              "#f0f921"
             ]
            ],
            "type": "surface"
           }
          ],
          "table": [
           {
            "cells": {
             "fill": {
              "color": "#EBF0F8"
             },
             "line": {
              "color": "white"
             }
            },
            "header": {
             "fill": {
              "color": "#C8D4E3"
             },
             "line": {
              "color": "white"
             }
            },
            "type": "table"
           }
          ]
         },
         "layout": {
          "annotationdefaults": {
           "arrowcolor": "#2a3f5f",
           "arrowhead": 0,
           "arrowwidth": 1
          },
          "autotypenumbers": "strict",
          "coloraxis": {
           "colorbar": {
            "outlinewidth": 0,
            "ticks": ""
           }
          },
          "colorscale": {
           "diverging": [
            [
             0,
             "#8e0152"
            ],
            [
             0.1,
             "#c51b7d"
            ],
            [
             0.2,
             "#de77ae"
            ],
            [
             0.3,
             "#f1b6da"
            ],
            [
             0.4,
             "#fde0ef"
            ],
            [
             0.5,
             "#f7f7f7"
            ],
            [
             0.6,
             "#e6f5d0"
            ],
            [
             0.7,
             "#b8e186"
            ],
            [
             0.8,
             "#7fbc41"
            ],
            [
             0.9,
             "#4d9221"
            ],
            [
             1,
             "#276419"
            ]
           ],
           "sequential": [
            [
             0,
             "#0d0887"
            ],
            [
             0.1111111111111111,
             "#46039f"
            ],
            [
             0.2222222222222222,
             "#7201a8"
            ],
            [
             0.3333333333333333,
             "#9c179e"
            ],
            [
             0.4444444444444444,
             "#bd3786"
            ],
            [
             0.5555555555555556,
             "#d8576b"
            ],
            [
             0.6666666666666666,
             "#ed7953"
            ],
            [
             0.7777777777777778,
             "#fb9f3a"
            ],
            [
             0.8888888888888888,
             "#fdca26"
            ],
            [
             1,
             "#f0f921"
            ]
           ],
           "sequentialminus": [
            [
             0,
             "#0d0887"
            ],
            [
             0.1111111111111111,
             "#46039f"
            ],
            [
             0.2222222222222222,
             "#7201a8"
            ],
            [
             0.3333333333333333,
             "#9c179e"
            ],
            [
             0.4444444444444444,
             "#bd3786"
            ],
            [
             0.5555555555555556,
             "#d8576b"
            ],
            [
             0.6666666666666666,
             "#ed7953"
            ],
            [
             0.7777777777777778,
             "#fb9f3a"
            ],
            [
             0.8888888888888888,
             "#fdca26"
            ],
            [
             1,
             "#f0f921"
            ]
           ]
          },
          "colorway": [
           "#636efa",
           "#EF553B",
           "#00cc96",
           "#ab63fa",
           "#FFA15A",
           "#19d3f3",
           "#FF6692",
           "#B6E880",
           "#FF97FF",
           "#FECB52"
          ],
          "font": {
           "color": "#2a3f5f"
          },
          "geo": {
           "bgcolor": "white",
           "lakecolor": "white",
           "landcolor": "#E5ECF6",
           "showlakes": true,
           "showland": true,
           "subunitcolor": "white"
          },
          "hoverlabel": {
           "align": "left"
          },
          "hovermode": "closest",
          "mapbox": {
           "style": "light"
          },
          "paper_bgcolor": "white",
          "plot_bgcolor": "#E5ECF6",
          "polar": {
           "angularaxis": {
            "gridcolor": "white",
            "linecolor": "white",
            "ticks": ""
           },
           "bgcolor": "#E5ECF6",
           "radialaxis": {
            "gridcolor": "white",
            "linecolor": "white",
            "ticks": ""
           }
          },
          "scene": {
           "xaxis": {
            "backgroundcolor": "#E5ECF6",
            "gridcolor": "white",
            "gridwidth": 2,
            "linecolor": "white",
            "showbackground": true,
            "ticks": "",
            "zerolinecolor": "white"
           },
           "yaxis": {
            "backgroundcolor": "#E5ECF6",
            "gridcolor": "white",
            "gridwidth": 2,
            "linecolor": "white",
            "showbackground": true,
            "ticks": "",
            "zerolinecolor": "white"
           },
           "zaxis": {
            "backgroundcolor": "#E5ECF6",
            "gridcolor": "white",
            "gridwidth": 2,
            "linecolor": "white",
            "showbackground": true,
            "ticks": "",
            "zerolinecolor": "white"
           }
          },
          "shapedefaults": {
           "line": {
            "color": "#2a3f5f"
           }
          },
          "ternary": {
           "aaxis": {
            "gridcolor": "white",
            "linecolor": "white",
            "ticks": ""
           },
           "baxis": {
            "gridcolor": "white",
            "linecolor": "white",
            "ticks": ""
           },
           "bgcolor": "#E5ECF6",
           "caxis": {
            "gridcolor": "white",
            "linecolor": "white",
            "ticks": ""
           }
          },
          "title": {
           "x": 0.05
          },
          "xaxis": {
           "automargin": true,
           "gridcolor": "white",
           "linecolor": "white",
           "ticks": "",
           "title": {
            "standoff": 15
           },
           "zerolinecolor": "white",
           "zerolinewidth": 2
          },
          "yaxis": {
           "automargin": true,
           "gridcolor": "white",
           "linecolor": "white",
           "ticks": "",
           "title": {
            "standoff": 15
           },
           "zerolinecolor": "white",
           "zerolinewidth": 2
          }
         }
        },
        "title": {
         "text": "gmv_usdidad y Clientes"
        },
        "xaxis": {
         "anchor": "y",
         "domain": [
          0,
          1
         ],
         "title": {
          "text": "Fecha"
         }
        },
        "yaxis": {
         "anchor": "x",
         "domain": [
          0,
          1
         ],
         "title": {
          "text": "gmv_usdidad"
         }
        },
        "yaxis2": {
         "overlaying": "y",
         "side": "right",
         "title": {
          "text": "Clientes"
         }
        }
       }
      },
      "text/html": [
       "<div>                            <div id=\"dab48a36-bc21-4180-9be5-f6c3e291df7e\" class=\"plotly-graph-div\" style=\"height:525px; width:100%;\"></div>            <script type=\"text/javascript\">                require([\"plotly\"], function(Plotly) {                    window.PLOTLYENV=window.PLOTLYENV || {};                                    if (document.getElementById(\"dab48a36-bc21-4180-9be5-f6c3e291df7e\")) {                    Plotly.newPlot(                        \"dab48a36-bc21-4180-9be5-f6c3e291df7e\",                        [{\"alignmentgroup\": \"True\", \"hovertemplate\": \"Fecha=%{x}<br>gmv_usdidad=%{y}<extra></extra>\", \"legendgroup\": \"\", \"marker\": {\"color\": \"#636efa\"}, \"name\": \"\", \"offsetgroup\": \"\", \"orientation\": \"v\", \"showlegend\": false, \"textposition\": \"auto\", \"type\": \"bar\", \"x\": [\"2024-18\", \"2024-19\", \"2024-20\", \"2024-21\", \"2024-22\", \"2024-23\", \"2024-24\", \"2024-25\", \"2024-26\", \"2024-27\", \"2024-28\", \"2024-29\", \"2024-30\", \"2024-31\", \"2024-32\", \"2024-33\", \"2024-34\", \"2024-35\"], \"xaxis\": \"x\", \"y\": [1138628.876, 2549260.5453000003, 2399334.1533000004, 2367150.1014, 1560485.7534, 1973128.8633, 2381783.4537000004, 2208951.2893000003, 1991203.2154, 1918587.1796, 1840902.1792000001, 1912406.3125999998, 1818829.1891, 1876763.5341, 1934220.8381999999, 1557013.5959, 1771133.2527, 528005.5896000001], \"yaxis\": \"y\"}, {\"mode\": \"lines+markers\", \"name\": \"Clientes\", \"type\": \"scatter\", \"x\": [\"2024-18\", \"2024-19\", \"2024-20\", \"2024-21\", \"2024-22\", \"2024-23\", \"2024-24\", \"2024-25\", \"2024-26\", \"2024-27\", \"2024-28\", \"2024-29\", \"2024-30\", \"2024-31\", \"2024-32\", \"2024-33\", \"2024-34\", \"2024-35\"], \"y\": [911.4, 1079.7142857142858, 986.5714285714286, 1028.2857142857142, 673.0, 868.7142857142857, 943.5714285714286, 926.0, 848.1428571428571, 824.0, 734.4285714285714, 780.7142857142857, 773.2857142857143, 763.0, 789.4285714285714, 650.2857142857143, 760.2857142857143, 691.5], \"yaxis\": \"y2\"}],                        {\"barmode\": \"relative\", \"legend\": {\"tracegroupgap\": 0}, \"template\": {\"data\": {\"bar\": [{\"error_x\": {\"color\": \"#2a3f5f\"}, \"error_y\": {\"color\": \"#2a3f5f\"}, \"marker\": {\"line\": {\"color\": \"#E5ECF6\", \"width\": 0.5}}, \"type\": \"bar\"}], \"barpolar\": [{\"marker\": {\"line\": {\"color\": \"#E5ECF6\", \"width\": 0.5}}, \"type\": \"barpolar\"}], \"carpet\": [{\"aaxis\": {\"endlinecolor\": \"#2a3f5f\", \"gridcolor\": \"white\", \"linecolor\": \"white\", \"minorgridcolor\": \"white\", \"startlinecolor\": \"#2a3f5f\"}, \"baxis\": {\"endlinecolor\": \"#2a3f5f\", \"gridcolor\": \"white\", \"linecolor\": \"white\", \"minorgridcolor\": \"white\", \"startlinecolor\": \"#2a3f5f\"}, \"type\": \"carpet\"}], \"choropleth\": [{\"colorbar\": {\"outlinewidth\": 0, \"ticks\": \"\"}, \"type\": \"choropleth\"}], \"contour\": [{\"colorbar\": {\"outlinewidth\": 0, \"ticks\": \"\"}, \"colorscale\": [[0.0, \"#0d0887\"], [0.1111111111111111, \"#46039f\"], [0.2222222222222222, \"#7201a8\"], [0.3333333333333333, \"#9c179e\"], [0.4444444444444444, \"#bd3786\"], [0.5555555555555556, \"#d8576b\"], [0.6666666666666666, \"#ed7953\"], [0.7777777777777778, \"#fb9f3a\"], [0.8888888888888888, \"#fdca26\"], [1.0, \"#f0f921\"]], \"type\": \"contour\"}], \"contourcarpet\": [{\"colorbar\": {\"outlinewidth\": 0, \"ticks\": \"\"}, \"type\": \"contourcarpet\"}], \"heatmap\": [{\"colorbar\": {\"outlinewidth\": 0, \"ticks\": \"\"}, \"colorscale\": [[0.0, \"#0d0887\"], [0.1111111111111111, \"#46039f\"], [0.2222222222222222, \"#7201a8\"], [0.3333333333333333, \"#9c179e\"], [0.4444444444444444, \"#bd3786\"], [0.5555555555555556, \"#d8576b\"], [0.6666666666666666, \"#ed7953\"], [0.7777777777777778, \"#fb9f3a\"], [0.8888888888888888, \"#fdca26\"], [1.0, \"#f0f921\"]], \"type\": \"heatmap\"}], \"heatmapgl\": [{\"colorbar\": {\"outlinewidth\": 0, \"ticks\": \"\"}, \"colorscale\": [[0.0, \"#0d0887\"], [0.1111111111111111, \"#46039f\"], [0.2222222222222222, \"#7201a8\"], [0.3333333333333333, \"#9c179e\"], [0.4444444444444444, \"#bd3786\"], [0.5555555555555556, \"#d8576b\"], [0.6666666666666666, \"#ed7953\"], [0.7777777777777778, \"#fb9f3a\"], [0.8888888888888888, \"#fdca26\"], [1.0, \"#f0f921\"]], \"type\": \"heatmapgl\"}], \"histogram\": [{\"marker\": {\"colorbar\": {\"outlinewidth\": 0, \"ticks\": \"\"}}, \"type\": \"histogram\"}], \"histogram2d\": [{\"colorbar\": {\"outlinewidth\": 0, \"ticks\": \"\"}, \"colorscale\": [[0.0, \"#0d0887\"], [0.1111111111111111, \"#46039f\"], [0.2222222222222222, \"#7201a8\"], [0.3333333333333333, \"#9c179e\"], [0.4444444444444444, \"#bd3786\"], [0.5555555555555556, \"#d8576b\"], [0.6666666666666666, \"#ed7953\"], [0.7777777777777778, \"#fb9f3a\"], [0.8888888888888888, \"#fdca26\"], [1.0, \"#f0f921\"]], \"type\": \"histogram2d\"}], \"histogram2dcontour\": [{\"colorbar\": {\"outlinewidth\": 0, \"ticks\": \"\"}, \"colorscale\": [[0.0, \"#0d0887\"], [0.1111111111111111, \"#46039f\"], [0.2222222222222222, \"#7201a8\"], [0.3333333333333333, \"#9c179e\"], [0.4444444444444444, \"#bd3786\"], [0.5555555555555556, \"#d8576b\"], [0.6666666666666666, \"#ed7953\"], [0.7777777777777778, \"#fb9f3a\"], [0.8888888888888888, \"#fdca26\"], [1.0, \"#f0f921\"]], \"type\": \"histogram2dcontour\"}], \"mesh3d\": [{\"colorbar\": {\"outlinewidth\": 0, \"ticks\": \"\"}, \"type\": \"mesh3d\"}], \"parcoords\": [{\"line\": {\"colorbar\": {\"outlinewidth\": 0, \"ticks\": \"\"}}, \"type\": \"parcoords\"}], \"pie\": [{\"automargin\": true, \"type\": \"pie\"}], \"scatter\": [{\"marker\": {\"colorbar\": {\"outlinewidth\": 0, \"ticks\": \"\"}}, \"type\": \"scatter\"}], \"scatter3d\": [{\"line\": {\"colorbar\": {\"outlinewidth\": 0, \"ticks\": \"\"}}, \"marker\": {\"colorbar\": {\"outlinewidth\": 0, \"ticks\": \"\"}}, \"type\": \"scatter3d\"}], \"scattercarpet\": [{\"marker\": {\"colorbar\": {\"outlinewidth\": 0, \"ticks\": \"\"}}, \"type\": \"scattercarpet\"}], \"scattergeo\": [{\"marker\": {\"colorbar\": {\"outlinewidth\": 0, \"ticks\": \"\"}}, \"type\": \"scattergeo\"}], \"scattergl\": [{\"marker\": {\"colorbar\": {\"outlinewidth\": 0, \"ticks\": \"\"}}, \"type\": \"scattergl\"}], \"scattermapbox\": [{\"marker\": {\"colorbar\": {\"outlinewidth\": 0, \"ticks\": \"\"}}, \"type\": \"scattermapbox\"}], \"scatterpolar\": [{\"marker\": {\"colorbar\": {\"outlinewidth\": 0, \"ticks\": \"\"}}, \"type\": \"scatterpolar\"}], \"scatterpolargl\": [{\"marker\": {\"colorbar\": {\"outlinewidth\": 0, \"ticks\": \"\"}}, \"type\": \"scatterpolargl\"}], \"scatterternary\": [{\"marker\": {\"colorbar\": {\"outlinewidth\": 0, \"ticks\": \"\"}}, \"type\": \"scatterternary\"}], \"surface\": [{\"colorbar\": {\"outlinewidth\": 0, \"ticks\": \"\"}, \"colorscale\": [[0.0, \"#0d0887\"], [0.1111111111111111, \"#46039f\"], [0.2222222222222222, \"#7201a8\"], [0.3333333333333333, \"#9c179e\"], [0.4444444444444444, \"#bd3786\"], [0.5555555555555556, \"#d8576b\"], [0.6666666666666666, \"#ed7953\"], [0.7777777777777778, \"#fb9f3a\"], [0.8888888888888888, \"#fdca26\"], [1.0, \"#f0f921\"]], \"type\": \"surface\"}], \"table\": [{\"cells\": {\"fill\": {\"color\": \"#EBF0F8\"}, \"line\": {\"color\": \"white\"}}, \"header\": {\"fill\": {\"color\": \"#C8D4E3\"}, \"line\": {\"color\": \"white\"}}, \"type\": \"table\"}]}, \"layout\": {\"annotationdefaults\": {\"arrowcolor\": \"#2a3f5f\", \"arrowhead\": 0, \"arrowwidth\": 1}, \"autotypenumbers\": \"strict\", \"coloraxis\": {\"colorbar\": {\"outlinewidth\": 0, \"ticks\": \"\"}}, \"colorscale\": {\"diverging\": [[0, \"#8e0152\"], [0.1, \"#c51b7d\"], [0.2, \"#de77ae\"], [0.3, \"#f1b6da\"], [0.4, \"#fde0ef\"], [0.5, \"#f7f7f7\"], [0.6, \"#e6f5d0\"], [0.7, \"#b8e186\"], [0.8, \"#7fbc41\"], [0.9, \"#4d9221\"], [1, \"#276419\"]], \"sequential\": [[0.0, \"#0d0887\"], [0.1111111111111111, \"#46039f\"], [0.2222222222222222, \"#7201a8\"], [0.3333333333333333, \"#9c179e\"], [0.4444444444444444, \"#bd3786\"], [0.5555555555555556, \"#d8576b\"], [0.6666666666666666, \"#ed7953\"], [0.7777777777777778, \"#fb9f3a\"], [0.8888888888888888, \"#fdca26\"], [1.0, \"#f0f921\"]], \"sequentialminus\": [[0.0, \"#0d0887\"], [0.1111111111111111, \"#46039f\"], [0.2222222222222222, \"#7201a8\"], [0.3333333333333333, \"#9c179e\"], [0.4444444444444444, \"#bd3786\"], [0.5555555555555556, \"#d8576b\"], [0.6666666666666666, \"#ed7953\"], [0.7777777777777778, \"#fb9f3a\"], [0.8888888888888888, \"#fdca26\"], [1.0, \"#f0f921\"]]}, \"colorway\": [\"#636efa\", \"#EF553B\", \"#00cc96\", \"#ab63fa\", \"#FFA15A\", \"#19d3f3\", \"#FF6692\", \"#B6E880\", \"#FF97FF\", \"#FECB52\"], \"font\": {\"color\": \"#2a3f5f\"}, \"geo\": {\"bgcolor\": \"white\", \"lakecolor\": \"white\", \"landcolor\": \"#E5ECF6\", \"showlakes\": true, \"showland\": true, \"subunitcolor\": \"white\"}, \"hoverlabel\": {\"align\": \"left\"}, \"hovermode\": \"closest\", \"mapbox\": {\"style\": \"light\"}, \"paper_bgcolor\": \"white\", \"plot_bgcolor\": \"#E5ECF6\", \"polar\": {\"angularaxis\": {\"gridcolor\": \"white\", \"linecolor\": \"white\", \"ticks\": \"\"}, \"bgcolor\": \"#E5ECF6\", \"radialaxis\": {\"gridcolor\": \"white\", \"linecolor\": \"white\", \"ticks\": \"\"}}, \"scene\": {\"xaxis\": {\"backgroundcolor\": \"#E5ECF6\", \"gridcolor\": \"white\", \"gridwidth\": 2, \"linecolor\": \"white\", \"showbackground\": true, \"ticks\": \"\", \"zerolinecolor\": \"white\"}, \"yaxis\": {\"backgroundcolor\": \"#E5ECF6\", \"gridcolor\": \"white\", \"gridwidth\": 2, \"linecolor\": \"white\", \"showbackground\": true, \"ticks\": \"\", \"zerolinecolor\": \"white\"}, \"zaxis\": {\"backgroundcolor\": \"#E5ECF6\", \"gridcolor\": \"white\", \"gridwidth\": 2, \"linecolor\": \"white\", \"showbackground\": true, \"ticks\": \"\", \"zerolinecolor\": \"white\"}}, \"shapedefaults\": {\"line\": {\"color\": \"#2a3f5f\"}}, \"ternary\": {\"aaxis\": {\"gridcolor\": \"white\", \"linecolor\": \"white\", \"ticks\": \"\"}, \"baxis\": {\"gridcolor\": \"white\", \"linecolor\": \"white\", \"ticks\": \"\"}, \"bgcolor\": \"#E5ECF6\", \"caxis\": {\"gridcolor\": \"white\", \"linecolor\": \"white\", \"ticks\": \"\"}}, \"title\": {\"x\": 0.05}, \"xaxis\": {\"automargin\": true, \"gridcolor\": \"white\", \"linecolor\": \"white\", \"ticks\": \"\", \"title\": {\"standoff\": 15}, \"zerolinecolor\": \"white\", \"zerolinewidth\": 2}, \"yaxis\": {\"automargin\": true, \"gridcolor\": \"white\", \"linecolor\": \"white\", \"ticks\": \"\", \"title\": {\"standoff\": 15}, \"zerolinecolor\": \"white\", \"zerolinewidth\": 2}}}, \"title\": {\"text\": \"gmv_usdidad y Clientes\"}, \"xaxis\": {\"anchor\": \"y\", \"domain\": [0.0, 1.0], \"title\": {\"text\": \"Fecha\"}}, \"yaxis\": {\"anchor\": \"x\", \"domain\": [0.0, 1.0], \"title\": {\"text\": \"gmv_usdidad\"}}, \"yaxis2\": {\"overlaying\": \"y\", \"side\": \"right\", \"title\": {\"text\": \"Clientes\"}}},                        {\"responsive\": true}                    ).then(function(){\n",
       "                            \n",
       "var gd = document.getElementById('dab48a36-bc21-4180-9be5-f6c3e291df7e');\n",
       "var x = new MutationObserver(function (mutations, observer) {{\n",
       "        var display = window.getComputedStyle(gd).display;\n",
       "        if (!display || display === 'none') {{\n",
       "            console.log([gd, 'removed!']);\n",
       "            Plotly.purge(gd);\n",
       "            observer.disconnect();\n",
       "        }}\n",
       "}});\n",
       "\n",
       "// Listen for the removal of the full notebook cells\n",
       "var notebookContainer = gd.closest('#notebook-container');\n",
       "if (notebookContainer) {{\n",
       "    x.observe(notebookContainer, {childList: true});\n",
       "}}\n",
       "\n",
       "// Listen for the clearing of the current output cell\n",
       "var outputEl = gd.closest('.output');\n",
       "if (outputEl) {{\n",
       "    x.observe(outputEl, {childList: true});\n",
       "}}\n",
       "\n",
       "                        })                };                });            </script>        </div>"
      ]
     },
     "metadata": {},
     "output_type": "display_data"
    },
    {
     "data": {
      "application/vnd.plotly.v1+json": {
       "config": {
        "plotlyServerURL": "https://plot.ly"
       },
       "data": [
        {
         "alignmentgroup": "True",
         "hovertemplate": "Semana=%{x}<br>gmv_usdidad=%{y}<extra></extra>",
         "legendgroup": "",
         "marker": {
          "color": "#636efa"
         },
         "name": "",
         "offsetgroup": "",
         "orientation": "v",
         "showlegend": false,
         "textposition": "auto",
         "type": "bar",
         "x": [
          "2024-18",
          "2024-19",
          "2024-20",
          "2024-21",
          "2024-22",
          "2024-23",
          "2024-24",
          "2024-25",
          "2024-26",
          "2024-27",
          "2024-28",
          "2024-29",
          "2024-30",
          "2024-31",
          "2024-32",
          "2024-33",
          "2024-34",
          "2024-35"
         ],
         "xaxis": "x",
         "y": [
          1138628.876,
          2549260.5453000003,
          2399334.1533000004,
          2367150.1014,
          1560485.7534,
          1973128.8633,
          2381783.4537000004,
          2208951.2893000003,
          1991203.2154,
          1918587.1796,
          1840902.1792000001,
          1912406.3125999998,
          1818829.1891,
          1876763.5341,
          1934220.8381999999,
          1557013.5959,
          1771133.2527,
          528005.5896000001
         ],
         "yaxis": "y"
        },
        {
         "mode": "lines+markers",
         "name": "Clientes",
         "type": "scatter",
         "x": [
          "2024-18",
          "2024-19",
          "2024-20",
          "2024-21",
          "2024-22",
          "2024-23",
          "2024-24",
          "2024-25",
          "2024-26",
          "2024-27",
          "2024-28",
          "2024-29",
          "2024-30",
          "2024-31",
          "2024-32",
          "2024-33",
          "2024-34",
          "2024-35"
         ],
         "y": [
          911.4,
          1079.7142857142858,
          986.5714285714286,
          1028.2857142857142,
          673,
          868.7142857142857,
          943.5714285714286,
          926,
          848.1428571428571,
          824,
          734.4285714285714,
          780.7142857142857,
          773.2857142857143,
          763,
          789.4285714285714,
          650.2857142857143,
          760.2857142857143,
          691.5
         ],
         "yaxis": "y2"
        }
       ],
       "layout": {
        "barmode": "relative",
        "legend": {
         "tracegroupgap": 0
        },
        "template": {
         "data": {
          "bar": [
           {
            "error_x": {
             "color": "#2a3f5f"
            },
            "error_y": {
             "color": "#2a3f5f"
            },
            "marker": {
             "line": {
              "color": "#E5ECF6",
              "width": 0.5
             }
            },
            "type": "bar"
           }
          ],
          "barpolar": [
           {
            "marker": {
             "line": {
              "color": "#E5ECF6",
              "width": 0.5
             }
            },
            "type": "barpolar"
           }
          ],
          "carpet": [
           {
            "aaxis": {
             "endlinecolor": "#2a3f5f",
             "gridcolor": "white",
             "linecolor": "white",
             "minorgridcolor": "white",
             "startlinecolor": "#2a3f5f"
            },
            "baxis": {
             "endlinecolor": "#2a3f5f",
             "gridcolor": "white",
             "linecolor": "white",
             "minorgridcolor": "white",
             "startlinecolor": "#2a3f5f"
            },
            "type": "carpet"
           }
          ],
          "choropleth": [
           {
            "colorbar": {
             "outlinewidth": 0,
             "ticks": ""
            },
            "type": "choropleth"
           }
          ],
          "contour": [
           {
            "colorbar": {
             "outlinewidth": 0,
             "ticks": ""
            },
            "colorscale": [
             [
              0,
              "#0d0887"
             ],
             [
              0.1111111111111111,
              "#46039f"
             ],
             [
              0.2222222222222222,
              "#7201a8"
             ],
             [
              0.3333333333333333,
              "#9c179e"
             ],
             [
              0.4444444444444444,
              "#bd3786"
             ],
             [
              0.5555555555555556,
              "#d8576b"
             ],
             [
              0.6666666666666666,
              "#ed7953"
             ],
             [
              0.7777777777777778,
              "#fb9f3a"
             ],
             [
              0.8888888888888888,
              "#fdca26"
             ],
             [
              1,
              "#f0f921"
             ]
            ],
            "type": "contour"
           }
          ],
          "contourcarpet": [
           {
            "colorbar": {
             "outlinewidth": 0,
             "ticks": ""
            },
            "type": "contourcarpet"
           }
          ],
          "heatmap": [
           {
            "colorbar": {
             "outlinewidth": 0,
             "ticks": ""
            },
            "colorscale": [
             [
              0,
              "#0d0887"
             ],
             [
              0.1111111111111111,
              "#46039f"
             ],
             [
              0.2222222222222222,
              "#7201a8"
             ],
             [
              0.3333333333333333,
              "#9c179e"
             ],
             [
              0.4444444444444444,
              "#bd3786"
             ],
             [
              0.5555555555555556,
              "#d8576b"
             ],
             [
              0.6666666666666666,
              "#ed7953"
             ],
             [
              0.7777777777777778,
              "#fb9f3a"
             ],
             [
              0.8888888888888888,
              "#fdca26"
             ],
             [
              1,
              "#f0f921"
             ]
            ],
            "type": "heatmap"
           }
          ],
          "heatmapgl": [
           {
            "colorbar": {
             "outlinewidth": 0,
             "ticks": ""
            },
            "colorscale": [
             [
              0,
              "#0d0887"
             ],
             [
              0.1111111111111111,
              "#46039f"
             ],
             [
              0.2222222222222222,
              "#7201a8"
             ],
             [
              0.3333333333333333,
              "#9c179e"
             ],
             [
              0.4444444444444444,
              "#bd3786"
             ],
             [
              0.5555555555555556,
              "#d8576b"
             ],
             [
              0.6666666666666666,
              "#ed7953"
             ],
             [
              0.7777777777777778,
              "#fb9f3a"
             ],
             [
              0.8888888888888888,
              "#fdca26"
             ],
             [
              1,
              "#f0f921"
             ]
            ],
            "type": "heatmapgl"
           }
          ],
          "histogram": [
           {
            "marker": {
             "colorbar": {
              "outlinewidth": 0,
              "ticks": ""
             }
            },
            "type": "histogram"
           }
          ],
          "histogram2d": [
           {
            "colorbar": {
             "outlinewidth": 0,
             "ticks": ""
            },
            "colorscale": [
             [
              0,
              "#0d0887"
             ],
             [
              0.1111111111111111,
              "#46039f"
             ],
             [
              0.2222222222222222,
              "#7201a8"
             ],
             [
              0.3333333333333333,
              "#9c179e"
             ],
             [
              0.4444444444444444,
              "#bd3786"
             ],
             [
              0.5555555555555556,
              "#d8576b"
             ],
             [
              0.6666666666666666,
              "#ed7953"
             ],
             [
              0.7777777777777778,
              "#fb9f3a"
             ],
             [
              0.8888888888888888,
              "#fdca26"
             ],
             [
              1,
              "#f0f921"
             ]
            ],
            "type": "histogram2d"
           }
          ],
          "histogram2dcontour": [
           {
            "colorbar": {
             "outlinewidth": 0,
             "ticks": ""
            },
            "colorscale": [
             [
              0,
              "#0d0887"
             ],
             [
              0.1111111111111111,
              "#46039f"
             ],
             [
              0.2222222222222222,
              "#7201a8"
             ],
             [
              0.3333333333333333,
              "#9c179e"
             ],
             [
              0.4444444444444444,
              "#bd3786"
             ],
             [
              0.5555555555555556,
              "#d8576b"
             ],
             [
              0.6666666666666666,
              "#ed7953"
             ],
             [
              0.7777777777777778,
              "#fb9f3a"
             ],
             [
              0.8888888888888888,
              "#fdca26"
             ],
             [
              1,
              "#f0f921"
             ]
            ],
            "type": "histogram2dcontour"
           }
          ],
          "mesh3d": [
           {
            "colorbar": {
             "outlinewidth": 0,
             "ticks": ""
            },
            "type": "mesh3d"
           }
          ],
          "parcoords": [
           {
            "line": {
             "colorbar": {
              "outlinewidth": 0,
              "ticks": ""
             }
            },
            "type": "parcoords"
           }
          ],
          "pie": [
           {
            "automargin": true,
            "type": "pie"
           }
          ],
          "scatter": [
           {
            "marker": {
             "colorbar": {
              "outlinewidth": 0,
              "ticks": ""
             }
            },
            "type": "scatter"
           }
          ],
          "scatter3d": [
           {
            "line": {
             "colorbar": {
              "outlinewidth": 0,
              "ticks": ""
             }
            },
            "marker": {
             "colorbar": {
              "outlinewidth": 0,
              "ticks": ""
             }
            },
            "type": "scatter3d"
           }
          ],
          "scattercarpet": [
           {
            "marker": {
             "colorbar": {
              "outlinewidth": 0,
              "ticks": ""
             }
            },
            "type": "scattercarpet"
           }
          ],
          "scattergeo": [
           {
            "marker": {
             "colorbar": {
              "outlinewidth": 0,
              "ticks": ""
             }
            },
            "type": "scattergeo"
           }
          ],
          "scattergl": [
           {
            "marker": {
             "colorbar": {
              "outlinewidth": 0,
              "ticks": ""
             }
            },
            "type": "scattergl"
           }
          ],
          "scattermapbox": [
           {
            "marker": {
             "colorbar": {
              "outlinewidth": 0,
              "ticks": ""
             }
            },
            "type": "scattermapbox"
           }
          ],
          "scatterpolar": [
           {
            "marker": {
             "colorbar": {
              "outlinewidth": 0,
              "ticks": ""
             }
            },
            "type": "scatterpolar"
           }
          ],
          "scatterpolargl": [
           {
            "marker": {
             "colorbar": {
              "outlinewidth": 0,
              "ticks": ""
             }
            },
            "type": "scatterpolargl"
           }
          ],
          "scatterternary": [
           {
            "marker": {
             "colorbar": {
              "outlinewidth": 0,
              "ticks": ""
             }
            },
            "type": "scatterternary"
           }
          ],
          "surface": [
           {
            "colorbar": {
             "outlinewidth": 0,
             "ticks": ""
            },
            "colorscale": [
             [
              0,
              "#0d0887"
             ],
             [
              0.1111111111111111,
              "#46039f"
             ],
             [
              0.2222222222222222,
              "#7201a8"
             ],
             [
              0.3333333333333333,
              "#9c179e"
             ],
             [
              0.4444444444444444,
              "#bd3786"
             ],
             [
              0.5555555555555556,
              "#d8576b"
             ],
             [
              0.6666666666666666,
              "#ed7953"
             ],
             [
              0.7777777777777778,
              "#fb9f3a"
             ],
             [
              0.8888888888888888,
              "#fdca26"
             ],
             [
              1,
              "#f0f921"
             ]
            ],
            "type": "surface"
           }
          ],
          "table": [
           {
            "cells": {
             "fill": {
              "color": "#EBF0F8"
             },
             "line": {
              "color": "white"
             }
            },
            "header": {
             "fill": {
              "color": "#C8D4E3"
             },
             "line": {
              "color": "white"
             }
            },
            "type": "table"
           }
          ]
         },
         "layout": {
          "annotationdefaults": {
           "arrowcolor": "#2a3f5f",
           "arrowhead": 0,
           "arrowwidth": 1
          },
          "autotypenumbers": "strict",
          "coloraxis": {
           "colorbar": {
            "outlinewidth": 0,
            "ticks": ""
           }
          },
          "colorscale": {
           "diverging": [
            [
             0,
             "#8e0152"
            ],
            [
             0.1,
             "#c51b7d"
            ],
            [
             0.2,
             "#de77ae"
            ],
            [
             0.3,
             "#f1b6da"
            ],
            [
             0.4,
             "#fde0ef"
            ],
            [
             0.5,
             "#f7f7f7"
            ],
            [
             0.6,
             "#e6f5d0"
            ],
            [
             0.7,
             "#b8e186"
            ],
            [
             0.8,
             "#7fbc41"
            ],
            [
             0.9,
             "#4d9221"
            ],
            [
             1,
             "#276419"
            ]
           ],
           "sequential": [
            [
             0,
             "#0d0887"
            ],
            [
             0.1111111111111111,
             "#46039f"
            ],
            [
             0.2222222222222222,
             "#7201a8"
            ],
            [
             0.3333333333333333,
             "#9c179e"
            ],
            [
             0.4444444444444444,
             "#bd3786"
            ],
            [
             0.5555555555555556,
             "#d8576b"
            ],
            [
             0.6666666666666666,
             "#ed7953"
            ],
            [
             0.7777777777777778,
             "#fb9f3a"
            ],
            [
             0.8888888888888888,
             "#fdca26"
            ],
            [
             1,
             "#f0f921"
            ]
           ],
           "sequentialminus": [
            [
             0,
             "#0d0887"
            ],
            [
             0.1111111111111111,
             "#46039f"
            ],
            [
             0.2222222222222222,
             "#7201a8"
            ],
            [
             0.3333333333333333,
             "#9c179e"
            ],
            [
             0.4444444444444444,
             "#bd3786"
            ],
            [
             0.5555555555555556,
             "#d8576b"
            ],
            [
             0.6666666666666666,
             "#ed7953"
            ],
            [
             0.7777777777777778,
             "#fb9f3a"
            ],
            [
             0.8888888888888888,
             "#fdca26"
            ],
            [
             1,
             "#f0f921"
            ]
           ]
          },
          "colorway": [
           "#636efa",
           "#EF553B",
           "#00cc96",
           "#ab63fa",
           "#FFA15A",
           "#19d3f3",
           "#FF6692",
           "#B6E880",
           "#FF97FF",
           "#FECB52"
          ],
          "font": {
           "color": "#2a3f5f"
          },
          "geo": {
           "bgcolor": "white",
           "lakecolor": "white",
           "landcolor": "#E5ECF6",
           "showlakes": true,
           "showland": true,
           "subunitcolor": "white"
          },
          "hoverlabel": {
           "align": "left"
          },
          "hovermode": "closest",
          "mapbox": {
           "style": "light"
          },
          "paper_bgcolor": "white",
          "plot_bgcolor": "#E5ECF6",
          "polar": {
           "angularaxis": {
            "gridcolor": "white",
            "linecolor": "white",
            "ticks": ""
           },
           "bgcolor": "#E5ECF6",
           "radialaxis": {
            "gridcolor": "white",
            "linecolor": "white",
            "ticks": ""
           }
          },
          "scene": {
           "xaxis": {
            "backgroundcolor": "#E5ECF6",
            "gridcolor": "white",
            "gridwidth": 2,
            "linecolor": "white",
            "showbackground": true,
            "ticks": "",
            "zerolinecolor": "white"
           },
           "yaxis": {
            "backgroundcolor": "#E5ECF6",
            "gridcolor": "white",
            "gridwidth": 2,
            "linecolor": "white",
            "showbackground": true,
            "ticks": "",
            "zerolinecolor": "white"
           },
           "zaxis": {
            "backgroundcolor": "#E5ECF6",
            "gridcolor": "white",
            "gridwidth": 2,
            "linecolor": "white",
            "showbackground": true,
            "ticks": "",
            "zerolinecolor": "white"
           }
          },
          "shapedefaults": {
           "line": {
            "color": "#2a3f5f"
           }
          },
          "ternary": {
           "aaxis": {
            "gridcolor": "white",
            "linecolor": "white",
            "ticks": ""
           },
           "baxis": {
            "gridcolor": "white",
            "linecolor": "white",
            "ticks": ""
           },
           "bgcolor": "#E5ECF6",
           "caxis": {
            "gridcolor": "white",
            "linecolor": "white",
            "ticks": ""
           }
          },
          "title": {
           "x": 0.05
          },
          "xaxis": {
           "automargin": true,
           "gridcolor": "white",
           "linecolor": "white",
           "ticks": "",
           "title": {
            "standoff": 15
           },
           "zerolinecolor": "white",
           "zerolinewidth": 2
          },
          "yaxis": {
           "automargin": true,
           "gridcolor": "white",
           "linecolor": "white",
           "ticks": "",
           "title": {
            "standoff": 15
           },
           "zerolinecolor": "white",
           "zerolinewidth": 2
          }
         }
        },
        "title": {
         "text": "gmv_usdidad y Clientes por Semana"
        },
        "xaxis": {
         "anchor": "y",
         "domain": [
          0,
          1
         ],
         "title": {
          "text": "Semana"
         }
        },
        "yaxis": {
         "anchor": "x",
         "domain": [
          0,
          1
         ],
         "title": {
          "text": "gmv_usdidad"
         }
        },
        "yaxis2": {
         "overlaying": "y",
         "side": "right",
         "title": {
          "text": "Clientes"
         }
        }
       }
      },
      "text/html": [
       "<div>                            <div id=\"d67a7a7c-a825-4624-95ee-a128d1df9962\" class=\"plotly-graph-div\" style=\"height:525px; width:100%;\"></div>            <script type=\"text/javascript\">                require([\"plotly\"], function(Plotly) {                    window.PLOTLYENV=window.PLOTLYENV || {};                                    if (document.getElementById(\"d67a7a7c-a825-4624-95ee-a128d1df9962\")) {                    Plotly.newPlot(                        \"d67a7a7c-a825-4624-95ee-a128d1df9962\",                        [{\"alignmentgroup\": \"True\", \"hovertemplate\": \"Semana=%{x}<br>gmv_usdidad=%{y}<extra></extra>\", \"legendgroup\": \"\", \"marker\": {\"color\": \"#636efa\"}, \"name\": \"\", \"offsetgroup\": \"\", \"orientation\": \"v\", \"showlegend\": false, \"textposition\": \"auto\", \"type\": \"bar\", \"x\": [\"2024-18\", \"2024-19\", \"2024-20\", \"2024-21\", \"2024-22\", \"2024-23\", \"2024-24\", \"2024-25\", \"2024-26\", \"2024-27\", \"2024-28\", \"2024-29\", \"2024-30\", \"2024-31\", \"2024-32\", \"2024-33\", \"2024-34\", \"2024-35\"], \"xaxis\": \"x\", \"y\": [1138628.876, 2549260.5453000003, 2399334.1533000004, 2367150.1014, 1560485.7534, 1973128.8633, 2381783.4537000004, 2208951.2893000003, 1991203.2154, 1918587.1796, 1840902.1792000001, 1912406.3125999998, 1818829.1891, 1876763.5341, 1934220.8381999999, 1557013.5959, 1771133.2527, 528005.5896000001], \"yaxis\": \"y\"}, {\"mode\": \"lines+markers\", \"name\": \"Clientes\", \"type\": \"scatter\", \"x\": [\"2024-18\", \"2024-19\", \"2024-20\", \"2024-21\", \"2024-22\", \"2024-23\", \"2024-24\", \"2024-25\", \"2024-26\", \"2024-27\", \"2024-28\", \"2024-29\", \"2024-30\", \"2024-31\", \"2024-32\", \"2024-33\", \"2024-34\", \"2024-35\"], \"y\": [911.4, 1079.7142857142858, 986.5714285714286, 1028.2857142857142, 673.0, 868.7142857142857, 943.5714285714286, 926.0, 848.1428571428571, 824.0, 734.4285714285714, 780.7142857142857, 773.2857142857143, 763.0, 789.4285714285714, 650.2857142857143, 760.2857142857143, 691.5], \"yaxis\": \"y2\"}],                        {\"barmode\": \"relative\", \"legend\": {\"tracegroupgap\": 0}, \"template\": {\"data\": {\"bar\": [{\"error_x\": {\"color\": \"#2a3f5f\"}, \"error_y\": {\"color\": \"#2a3f5f\"}, \"marker\": {\"line\": {\"color\": \"#E5ECF6\", \"width\": 0.5}}, \"type\": \"bar\"}], \"barpolar\": [{\"marker\": {\"line\": {\"color\": \"#E5ECF6\", \"width\": 0.5}}, \"type\": \"barpolar\"}], \"carpet\": [{\"aaxis\": {\"endlinecolor\": \"#2a3f5f\", \"gridcolor\": \"white\", \"linecolor\": \"white\", \"minorgridcolor\": \"white\", \"startlinecolor\": \"#2a3f5f\"}, \"baxis\": {\"endlinecolor\": \"#2a3f5f\", \"gridcolor\": \"white\", \"linecolor\": \"white\", \"minorgridcolor\": \"white\", \"startlinecolor\": \"#2a3f5f\"}, \"type\": \"carpet\"}], \"choropleth\": [{\"colorbar\": {\"outlinewidth\": 0, \"ticks\": \"\"}, \"type\": \"choropleth\"}], \"contour\": [{\"colorbar\": {\"outlinewidth\": 0, \"ticks\": \"\"}, \"colorscale\": [[0.0, \"#0d0887\"], [0.1111111111111111, \"#46039f\"], [0.2222222222222222, \"#7201a8\"], [0.3333333333333333, \"#9c179e\"], [0.4444444444444444, \"#bd3786\"], [0.5555555555555556, \"#d8576b\"], [0.6666666666666666, \"#ed7953\"], [0.7777777777777778, \"#fb9f3a\"], [0.8888888888888888, \"#fdca26\"], [1.0, \"#f0f921\"]], \"type\": \"contour\"}], \"contourcarpet\": [{\"colorbar\": {\"outlinewidth\": 0, \"ticks\": \"\"}, \"type\": \"contourcarpet\"}], \"heatmap\": [{\"colorbar\": {\"outlinewidth\": 0, \"ticks\": \"\"}, \"colorscale\": [[0.0, \"#0d0887\"], [0.1111111111111111, \"#46039f\"], [0.2222222222222222, \"#7201a8\"], [0.3333333333333333, \"#9c179e\"], [0.4444444444444444, \"#bd3786\"], [0.5555555555555556, \"#d8576b\"], [0.6666666666666666, \"#ed7953\"], [0.7777777777777778, \"#fb9f3a\"], [0.8888888888888888, \"#fdca26\"], [1.0, \"#f0f921\"]], \"type\": \"heatmap\"}], \"heatmapgl\": [{\"colorbar\": {\"outlinewidth\": 0, \"ticks\": \"\"}, \"colorscale\": [[0.0, \"#0d0887\"], [0.1111111111111111, \"#46039f\"], [0.2222222222222222, \"#7201a8\"], [0.3333333333333333, \"#9c179e\"], [0.4444444444444444, \"#bd3786\"], [0.5555555555555556, \"#d8576b\"], [0.6666666666666666, \"#ed7953\"], [0.7777777777777778, \"#fb9f3a\"], [0.8888888888888888, \"#fdca26\"], [1.0, \"#f0f921\"]], \"type\": \"heatmapgl\"}], \"histogram\": [{\"marker\": {\"colorbar\": {\"outlinewidth\": 0, \"ticks\": \"\"}}, \"type\": \"histogram\"}], \"histogram2d\": [{\"colorbar\": {\"outlinewidth\": 0, \"ticks\": \"\"}, \"colorscale\": [[0.0, \"#0d0887\"], [0.1111111111111111, \"#46039f\"], [0.2222222222222222, \"#7201a8\"], [0.3333333333333333, \"#9c179e\"], [0.4444444444444444, \"#bd3786\"], [0.5555555555555556, \"#d8576b\"], [0.6666666666666666, \"#ed7953\"], [0.7777777777777778, \"#fb9f3a\"], [0.8888888888888888, \"#fdca26\"], [1.0, \"#f0f921\"]], \"type\": \"histogram2d\"}], \"histogram2dcontour\": [{\"colorbar\": {\"outlinewidth\": 0, \"ticks\": \"\"}, \"colorscale\": [[0.0, \"#0d0887\"], [0.1111111111111111, \"#46039f\"], [0.2222222222222222, \"#7201a8\"], [0.3333333333333333, \"#9c179e\"], [0.4444444444444444, \"#bd3786\"], [0.5555555555555556, \"#d8576b\"], [0.6666666666666666, \"#ed7953\"], [0.7777777777777778, \"#fb9f3a\"], [0.8888888888888888, \"#fdca26\"], [1.0, \"#f0f921\"]], \"type\": \"histogram2dcontour\"}], \"mesh3d\": [{\"colorbar\": {\"outlinewidth\": 0, \"ticks\": \"\"}, \"type\": \"mesh3d\"}], \"parcoords\": [{\"line\": {\"colorbar\": {\"outlinewidth\": 0, \"ticks\": \"\"}}, \"type\": \"parcoords\"}], \"pie\": [{\"automargin\": true, \"type\": \"pie\"}], \"scatter\": [{\"marker\": {\"colorbar\": {\"outlinewidth\": 0, \"ticks\": \"\"}}, \"type\": \"scatter\"}], \"scatter3d\": [{\"line\": {\"colorbar\": {\"outlinewidth\": 0, \"ticks\": \"\"}}, \"marker\": {\"colorbar\": {\"outlinewidth\": 0, \"ticks\": \"\"}}, \"type\": \"scatter3d\"}], \"scattercarpet\": [{\"marker\": {\"colorbar\": {\"outlinewidth\": 0, \"ticks\": \"\"}}, \"type\": \"scattercarpet\"}], \"scattergeo\": [{\"marker\": {\"colorbar\": {\"outlinewidth\": 0, \"ticks\": \"\"}}, \"type\": \"scattergeo\"}], \"scattergl\": [{\"marker\": {\"colorbar\": {\"outlinewidth\": 0, \"ticks\": \"\"}}, \"type\": \"scattergl\"}], \"scattermapbox\": [{\"marker\": {\"colorbar\": {\"outlinewidth\": 0, \"ticks\": \"\"}}, \"type\": \"scattermapbox\"}], \"scatterpolar\": [{\"marker\": {\"colorbar\": {\"outlinewidth\": 0, \"ticks\": \"\"}}, \"type\": \"scatterpolar\"}], \"scatterpolargl\": [{\"marker\": {\"colorbar\": {\"outlinewidth\": 0, \"ticks\": \"\"}}, \"type\": \"scatterpolargl\"}], \"scatterternary\": [{\"marker\": {\"colorbar\": {\"outlinewidth\": 0, \"ticks\": \"\"}}, \"type\": \"scatterternary\"}], \"surface\": [{\"colorbar\": {\"outlinewidth\": 0, \"ticks\": \"\"}, \"colorscale\": [[0.0, \"#0d0887\"], [0.1111111111111111, \"#46039f\"], [0.2222222222222222, \"#7201a8\"], [0.3333333333333333, \"#9c179e\"], [0.4444444444444444, \"#bd3786\"], [0.5555555555555556, \"#d8576b\"], [0.6666666666666666, \"#ed7953\"], [0.7777777777777778, \"#fb9f3a\"], [0.8888888888888888, \"#fdca26\"], [1.0, \"#f0f921\"]], \"type\": \"surface\"}], \"table\": [{\"cells\": {\"fill\": {\"color\": \"#EBF0F8\"}, \"line\": {\"color\": \"white\"}}, \"header\": {\"fill\": {\"color\": \"#C8D4E3\"}, \"line\": {\"color\": \"white\"}}, \"type\": \"table\"}]}, \"layout\": {\"annotationdefaults\": {\"arrowcolor\": \"#2a3f5f\", \"arrowhead\": 0, \"arrowwidth\": 1}, \"autotypenumbers\": \"strict\", \"coloraxis\": {\"colorbar\": {\"outlinewidth\": 0, \"ticks\": \"\"}}, \"colorscale\": {\"diverging\": [[0, \"#8e0152\"], [0.1, \"#c51b7d\"], [0.2, \"#de77ae\"], [0.3, \"#f1b6da\"], [0.4, \"#fde0ef\"], [0.5, \"#f7f7f7\"], [0.6, \"#e6f5d0\"], [0.7, \"#b8e186\"], [0.8, \"#7fbc41\"], [0.9, \"#4d9221\"], [1, \"#276419\"]], \"sequential\": [[0.0, \"#0d0887\"], [0.1111111111111111, \"#46039f\"], [0.2222222222222222, \"#7201a8\"], [0.3333333333333333, \"#9c179e\"], [0.4444444444444444, \"#bd3786\"], [0.5555555555555556, \"#d8576b\"], [0.6666666666666666, \"#ed7953\"], [0.7777777777777778, \"#fb9f3a\"], [0.8888888888888888, \"#fdca26\"], [1.0, \"#f0f921\"]], \"sequentialminus\": [[0.0, \"#0d0887\"], [0.1111111111111111, \"#46039f\"], [0.2222222222222222, \"#7201a8\"], [0.3333333333333333, \"#9c179e\"], [0.4444444444444444, \"#bd3786\"], [0.5555555555555556, \"#d8576b\"], [0.6666666666666666, \"#ed7953\"], [0.7777777777777778, \"#fb9f3a\"], [0.8888888888888888, \"#fdca26\"], [1.0, \"#f0f921\"]]}, \"colorway\": [\"#636efa\", \"#EF553B\", \"#00cc96\", \"#ab63fa\", \"#FFA15A\", \"#19d3f3\", \"#FF6692\", \"#B6E880\", \"#FF97FF\", \"#FECB52\"], \"font\": {\"color\": \"#2a3f5f\"}, \"geo\": {\"bgcolor\": \"white\", \"lakecolor\": \"white\", \"landcolor\": \"#E5ECF6\", \"showlakes\": true, \"showland\": true, \"subunitcolor\": \"white\"}, \"hoverlabel\": {\"align\": \"left\"}, \"hovermode\": \"closest\", \"mapbox\": {\"style\": \"light\"}, \"paper_bgcolor\": \"white\", \"plot_bgcolor\": \"#E5ECF6\", \"polar\": {\"angularaxis\": {\"gridcolor\": \"white\", \"linecolor\": \"white\", \"ticks\": \"\"}, \"bgcolor\": \"#E5ECF6\", \"radialaxis\": {\"gridcolor\": \"white\", \"linecolor\": \"white\", \"ticks\": \"\"}}, \"scene\": {\"xaxis\": {\"backgroundcolor\": \"#E5ECF6\", \"gridcolor\": \"white\", \"gridwidth\": 2, \"linecolor\": \"white\", \"showbackground\": true, \"ticks\": \"\", \"zerolinecolor\": \"white\"}, \"yaxis\": {\"backgroundcolor\": \"#E5ECF6\", \"gridcolor\": \"white\", \"gridwidth\": 2, \"linecolor\": \"white\", \"showbackground\": true, \"ticks\": \"\", \"zerolinecolor\": \"white\"}, \"zaxis\": {\"backgroundcolor\": \"#E5ECF6\", \"gridcolor\": \"white\", \"gridwidth\": 2, \"linecolor\": \"white\", \"showbackground\": true, \"ticks\": \"\", \"zerolinecolor\": \"white\"}}, \"shapedefaults\": {\"line\": {\"color\": \"#2a3f5f\"}}, \"ternary\": {\"aaxis\": {\"gridcolor\": \"white\", \"linecolor\": \"white\", \"ticks\": \"\"}, \"baxis\": {\"gridcolor\": \"white\", \"linecolor\": \"white\", \"ticks\": \"\"}, \"bgcolor\": \"#E5ECF6\", \"caxis\": {\"gridcolor\": \"white\", \"linecolor\": \"white\", \"ticks\": \"\"}}, \"title\": {\"x\": 0.05}, \"xaxis\": {\"automargin\": true, \"gridcolor\": \"white\", \"linecolor\": \"white\", \"ticks\": \"\", \"title\": {\"standoff\": 15}, \"zerolinecolor\": \"white\", \"zerolinewidth\": 2}, \"yaxis\": {\"automargin\": true, \"gridcolor\": \"white\", \"linecolor\": \"white\", \"ticks\": \"\", \"title\": {\"standoff\": 15}, \"zerolinecolor\": \"white\", \"zerolinewidth\": 2}}}, \"title\": {\"text\": \"gmv_usdidad y Clientes por Semana\"}, \"xaxis\": {\"anchor\": \"y\", \"domain\": [0.0, 1.0], \"title\": {\"text\": \"Semana\"}}, \"yaxis\": {\"anchor\": \"x\", \"domain\": [0.0, 1.0], \"title\": {\"text\": \"gmv_usdidad\"}}, \"yaxis2\": {\"overlaying\": \"y\", \"side\": \"right\", \"title\": {\"text\": \"Clientes\"}}},                        {\"responsive\": true}                    ).then(function(){\n",
       "                            \n",
       "var gd = document.getElementById('d67a7a7c-a825-4624-95ee-a128d1df9962');\n",
       "var x = new MutationObserver(function (mutations, observer) {{\n",
       "        var display = window.getComputedStyle(gd).display;\n",
       "        if (!display || display === 'none') {{\n",
       "            console.log([gd, 'removed!']);\n",
       "            Plotly.purge(gd);\n",
       "            observer.disconnect();\n",
       "        }}\n",
       "}});\n",
       "\n",
       "// Listen for the removal of the full notebook cells\n",
       "var notebookContainer = gd.closest('#notebook-container');\n",
       "if (notebookContainer) {{\n",
       "    x.observe(notebookContainer, {childList: true});\n",
       "}}\n",
       "\n",
       "// Listen for the clearing of the current output cell\n",
       "var outputEl = gd.closest('.output');\n",
       "if (outputEl) {{\n",
       "    x.observe(outputEl, {childList: true});\n",
       "}}\n",
       "\n",
       "                        })                };                });            </script>        </div>"
      ]
     },
     "metadata": {},
     "output_type": "display_data"
    },
    {
     "data": {
      "application/vnd.plotly.v1+json": {
       "config": {
        "plotlyServerURL": "https://plot.ly"
       },
       "data": [
        {
         "connectgaps": false,
         "hovertemplate": "Fecha=%{x}<br>GPI=%{y}<extra></extra>",
         "legendgroup": "",
         "line": {
          "color": "#636efa",
          "dash": "solid"
         },
         "mode": "lines",
         "name": "",
         "orientation": "v",
         "showlegend": false,
         "type": "scatter",
         "x": [
          "2024-18",
          "2024-19",
          "2024-20",
          "2024-21",
          "2024-22",
          "2024-23",
          "2024-24",
          "2024-25",
          "2024-26",
          "2024-27",
          "2024-28",
          "2024-29",
          "2024-30",
          "2024-31",
          "2024-32",
          "2024-33",
          "2024-34",
          "2024-35"
         ],
         "xaxis": "x",
         "y": [
          93.5755821297418,
          93.00618261597394,
          94.73937738107607,
          93.3263130742196,
          94.57703322147363,
          94.82950218336565,
          95.73974949733471,
          95.57390454037181,
          96.57900585508496,
          96.89532902131535,
          98.96206077602022,
          101.08522439794704,
          100.48728659489518,
          99.1692051434135,
          98.24578707138981,
          102.408036076242,
          98.74191411234666,
          96.11650032872052
         ],
         "yaxis": "y"
        }
       ],
       "layout": {
        "height": 600,
        "legend": {
         "tracegroupgap": 0
        },
        "template": {
         "data": {
          "bar": [
           {
            "error_x": {
             "color": "#2a3f5f"
            },
            "error_y": {
             "color": "#2a3f5f"
            },
            "marker": {
             "line": {
              "color": "#E5ECF6",
              "width": 0.5
             }
            },
            "type": "bar"
           }
          ],
          "barpolar": [
           {
            "marker": {
             "line": {
              "color": "#E5ECF6",
              "width": 0.5
             }
            },
            "type": "barpolar"
           }
          ],
          "carpet": [
           {
            "aaxis": {
             "endlinecolor": "#2a3f5f",
             "gridcolor": "white",
             "linecolor": "white",
             "minorgridcolor": "white",
             "startlinecolor": "#2a3f5f"
            },
            "baxis": {
             "endlinecolor": "#2a3f5f",
             "gridcolor": "white",
             "linecolor": "white",
             "minorgridcolor": "white",
             "startlinecolor": "#2a3f5f"
            },
            "type": "carpet"
           }
          ],
          "choropleth": [
           {
            "colorbar": {
             "outlinewidth": 0,
             "ticks": ""
            },
            "type": "choropleth"
           }
          ],
          "contour": [
           {
            "colorbar": {
             "outlinewidth": 0,
             "ticks": ""
            },
            "colorscale": [
             [
              0,
              "#0d0887"
             ],
             [
              0.1111111111111111,
              "#46039f"
             ],
             [
              0.2222222222222222,
              "#7201a8"
             ],
             [
              0.3333333333333333,
              "#9c179e"
             ],
             [
              0.4444444444444444,
              "#bd3786"
             ],
             [
              0.5555555555555556,
              "#d8576b"
             ],
             [
              0.6666666666666666,
              "#ed7953"
             ],
             [
              0.7777777777777778,
              "#fb9f3a"
             ],
             [
              0.8888888888888888,
              "#fdca26"
             ],
             [
              1,
              "#f0f921"
             ]
            ],
            "type": "contour"
           }
          ],
          "contourcarpet": [
           {
            "colorbar": {
             "outlinewidth": 0,
             "ticks": ""
            },
            "type": "contourcarpet"
           }
          ],
          "heatmap": [
           {
            "colorbar": {
             "outlinewidth": 0,
             "ticks": ""
            },
            "colorscale": [
             [
              0,
              "#0d0887"
             ],
             [
              0.1111111111111111,
              "#46039f"
             ],
             [
              0.2222222222222222,
              "#7201a8"
             ],
             [
              0.3333333333333333,
              "#9c179e"
             ],
             [
              0.4444444444444444,
              "#bd3786"
             ],
             [
              0.5555555555555556,
              "#d8576b"
             ],
             [
              0.6666666666666666,
              "#ed7953"
             ],
             [
              0.7777777777777778,
              "#fb9f3a"
             ],
             [
              0.8888888888888888,
              "#fdca26"
             ],
             [
              1,
              "#f0f921"
             ]
            ],
            "type": "heatmap"
           }
          ],
          "heatmapgl": [
           {
            "colorbar": {
             "outlinewidth": 0,
             "ticks": ""
            },
            "colorscale": [
             [
              0,
              "#0d0887"
             ],
             [
              0.1111111111111111,
              "#46039f"
             ],
             [
              0.2222222222222222,
              "#7201a8"
             ],
             [
              0.3333333333333333,
              "#9c179e"
             ],
             [
              0.4444444444444444,
              "#bd3786"
             ],
             [
              0.5555555555555556,
              "#d8576b"
             ],
             [
              0.6666666666666666,
              "#ed7953"
             ],
             [
              0.7777777777777778,
              "#fb9f3a"
             ],
             [
              0.8888888888888888,
              "#fdca26"
             ],
             [
              1,
              "#f0f921"
             ]
            ],
            "type": "heatmapgl"
           }
          ],
          "histogram": [
           {
            "marker": {
             "colorbar": {
              "outlinewidth": 0,
              "ticks": ""
             }
            },
            "type": "histogram"
           }
          ],
          "histogram2d": [
           {
            "colorbar": {
             "outlinewidth": 0,
             "ticks": ""
            },
            "colorscale": [
             [
              0,
              "#0d0887"
             ],
             [
              0.1111111111111111,
              "#46039f"
             ],
             [
              0.2222222222222222,
              "#7201a8"
             ],
             [
              0.3333333333333333,
              "#9c179e"
             ],
             [
              0.4444444444444444,
              "#bd3786"
             ],
             [
              0.5555555555555556,
              "#d8576b"
             ],
             [
              0.6666666666666666,
              "#ed7953"
             ],
             [
              0.7777777777777778,
              "#fb9f3a"
             ],
             [
              0.8888888888888888,
              "#fdca26"
             ],
             [
              1,
              "#f0f921"
             ]
            ],
            "type": "histogram2d"
           }
          ],
          "histogram2dcontour": [
           {
            "colorbar": {
             "outlinewidth": 0,
             "ticks": ""
            },
            "colorscale": [
             [
              0,
              "#0d0887"
             ],
             [
              0.1111111111111111,
              "#46039f"
             ],
             [
              0.2222222222222222,
              "#7201a8"
             ],
             [
              0.3333333333333333,
              "#9c179e"
             ],
             [
              0.4444444444444444,
              "#bd3786"
             ],
             [
              0.5555555555555556,
              "#d8576b"
             ],
             [
              0.6666666666666666,
              "#ed7953"
             ],
             [
              0.7777777777777778,
              "#fb9f3a"
             ],
             [
              0.8888888888888888,
              "#fdca26"
             ],
             [
              1,
              "#f0f921"
             ]
            ],
            "type": "histogram2dcontour"
           }
          ],
          "mesh3d": [
           {
            "colorbar": {
             "outlinewidth": 0,
             "ticks": ""
            },
            "type": "mesh3d"
           }
          ],
          "parcoords": [
           {
            "line": {
             "colorbar": {
              "outlinewidth": 0,
              "ticks": ""
             }
            },
            "type": "parcoords"
           }
          ],
          "pie": [
           {
            "automargin": true,
            "type": "pie"
           }
          ],
          "scatter": [
           {
            "marker": {
             "colorbar": {
              "outlinewidth": 0,
              "ticks": ""
             }
            },
            "type": "scatter"
           }
          ],
          "scatter3d": [
           {
            "line": {
             "colorbar": {
              "outlinewidth": 0,
              "ticks": ""
             }
            },
            "marker": {
             "colorbar": {
              "outlinewidth": 0,
              "ticks": ""
             }
            },
            "type": "scatter3d"
           }
          ],
          "scattercarpet": [
           {
            "marker": {
             "colorbar": {
              "outlinewidth": 0,
              "ticks": ""
             }
            },
            "type": "scattercarpet"
           }
          ],
          "scattergeo": [
           {
            "marker": {
             "colorbar": {
              "outlinewidth": 0,
              "ticks": ""
             }
            },
            "type": "scattergeo"
           }
          ],
          "scattergl": [
           {
            "marker": {
             "colorbar": {
              "outlinewidth": 0,
              "ticks": ""
             }
            },
            "type": "scattergl"
           }
          ],
          "scattermapbox": [
           {
            "marker": {
             "colorbar": {
              "outlinewidth": 0,
              "ticks": ""
             }
            },
            "type": "scattermapbox"
           }
          ],
          "scatterpolar": [
           {
            "marker": {
             "colorbar": {
              "outlinewidth": 0,
              "ticks": ""
             }
            },
            "type": "scatterpolar"
           }
          ],
          "scatterpolargl": [
           {
            "marker": {
             "colorbar": {
              "outlinewidth": 0,
              "ticks": ""
             }
            },
            "type": "scatterpolargl"
           }
          ],
          "scatterternary": [
           {
            "marker": {
             "colorbar": {
              "outlinewidth": 0,
              "ticks": ""
             }
            },
            "type": "scatterternary"
           }
          ],
          "surface": [
           {
            "colorbar": {
             "outlinewidth": 0,
             "ticks": ""
            },
            "colorscale": [
             [
              0,
              "#0d0887"
             ],
             [
              0.1111111111111111,
              "#46039f"
             ],
             [
              0.2222222222222222,
              "#7201a8"
             ],
             [
              0.3333333333333333,
              "#9c179e"
             ],
             [
              0.4444444444444444,
              "#bd3786"
             ],
             [
              0.5555555555555556,
              "#d8576b"
             ],
             [
              0.6666666666666666,
              "#ed7953"
             ],
             [
              0.7777777777777778,
              "#fb9f3a"
             ],
             [
              0.8888888888888888,
              "#fdca26"
             ],
             [
              1,
              "#f0f921"
             ]
            ],
            "type": "surface"
           }
          ],
          "table": [
           {
            "cells": {
             "fill": {
              "color": "#EBF0F8"
             },
             "line": {
              "color": "white"
             }
            },
            "header": {
             "fill": {
              "color": "#C8D4E3"
             },
             "line": {
              "color": "white"
             }
            },
            "type": "table"
           }
          ]
         },
         "layout": {
          "annotationdefaults": {
           "arrowcolor": "#2a3f5f",
           "arrowhead": 0,
           "arrowwidth": 1
          },
          "autotypenumbers": "strict",
          "coloraxis": {
           "colorbar": {
            "outlinewidth": 0,
            "ticks": ""
           }
          },
          "colorscale": {
           "diverging": [
            [
             0,
             "#8e0152"
            ],
            [
             0.1,
             "#c51b7d"
            ],
            [
             0.2,
             "#de77ae"
            ],
            [
             0.3,
             "#f1b6da"
            ],
            [
             0.4,
             "#fde0ef"
            ],
            [
             0.5,
             "#f7f7f7"
            ],
            [
             0.6,
             "#e6f5d0"
            ],
            [
             0.7,
             "#b8e186"
            ],
            [
             0.8,
             "#7fbc41"
            ],
            [
             0.9,
             "#4d9221"
            ],
            [
             1,
             "#276419"
            ]
           ],
           "sequential": [
            [
             0,
             "#0d0887"
            ],
            [
             0.1111111111111111,
             "#46039f"
            ],
            [
             0.2222222222222222,
             "#7201a8"
            ],
            [
             0.3333333333333333,
             "#9c179e"
            ],
            [
             0.4444444444444444,
             "#bd3786"
            ],
            [
             0.5555555555555556,
             "#d8576b"
            ],
            [
             0.6666666666666666,
             "#ed7953"
            ],
            [
             0.7777777777777778,
             "#fb9f3a"
            ],
            [
             0.8888888888888888,
             "#fdca26"
            ],
            [
             1,
             "#f0f921"
            ]
           ],
           "sequentialminus": [
            [
             0,
             "#0d0887"
            ],
            [
             0.1111111111111111,
             "#46039f"
            ],
            [
             0.2222222222222222,
             "#7201a8"
            ],
            [
             0.3333333333333333,
             "#9c179e"
            ],
            [
             0.4444444444444444,
             "#bd3786"
            ],
            [
             0.5555555555555556,
             "#d8576b"
            ],
            [
             0.6666666666666666,
             "#ed7953"
            ],
            [
             0.7777777777777778,
             "#fb9f3a"
            ],
            [
             0.8888888888888888,
             "#fdca26"
            ],
            [
             1,
             "#f0f921"
            ]
           ]
          },
          "colorway": [
           "#636efa",
           "#EF553B",
           "#00cc96",
           "#ab63fa",
           "#FFA15A",
           "#19d3f3",
           "#FF6692",
           "#B6E880",
           "#FF97FF",
           "#FECB52"
          ],
          "font": {
           "color": "#2a3f5f"
          },
          "geo": {
           "bgcolor": "white",
           "lakecolor": "white",
           "landcolor": "#E5ECF6",
           "showlakes": true,
           "showland": true,
           "subunitcolor": "white"
          },
          "hoverlabel": {
           "align": "left"
          },
          "hovermode": "closest",
          "mapbox": {
           "style": "light"
          },
          "paper_bgcolor": "white",
          "plot_bgcolor": "#E5ECF6",
          "polar": {
           "angularaxis": {
            "gridcolor": "white",
            "linecolor": "white",
            "ticks": ""
           },
           "bgcolor": "#E5ECF6",
           "radialaxis": {
            "gridcolor": "white",
            "linecolor": "white",
            "ticks": ""
           }
          },
          "scene": {
           "xaxis": {
            "backgroundcolor": "#E5ECF6",
            "gridcolor": "white",
            "gridwidth": 2,
            "linecolor": "white",
            "showbackground": true,
            "ticks": "",
            "zerolinecolor": "white"
           },
           "yaxis": {
            "backgroundcolor": "#E5ECF6",
            "gridcolor": "white",
            "gridwidth": 2,
            "linecolor": "white",
            "showbackground": true,
            "ticks": "",
            "zerolinecolor": "white"
           },
           "zaxis": {
            "backgroundcolor": "#E5ECF6",
            "gridcolor": "white",
            "gridwidth": 2,
            "linecolor": "white",
            "showbackground": true,
            "ticks": "",
            "zerolinecolor": "white"
           }
          },
          "shapedefaults": {
           "line": {
            "color": "#2a3f5f"
           }
          },
          "ternary": {
           "aaxis": {
            "gridcolor": "white",
            "linecolor": "white",
            "ticks": ""
           },
           "baxis": {
            "gridcolor": "white",
            "linecolor": "white",
            "ticks": ""
           },
           "bgcolor": "#E5ECF6",
           "caxis": {
            "gridcolor": "white",
            "linecolor": "white",
            "ticks": ""
           }
          },
          "title": {
           "x": 0.05
          },
          "xaxis": {
           "automargin": true,
           "gridcolor": "white",
           "linecolor": "white",
           "ticks": "",
           "title": {
            "standoff": 15
           },
           "zerolinecolor": "white",
           "zerolinewidth": 2
          },
          "yaxis": {
           "automargin": true,
           "gridcolor": "white",
           "linecolor": "white",
           "ticks": "",
           "title": {
            "standoff": 15
           },
           "zerolinecolor": "white",
           "zerolinewidth": 2
          }
         }
        },
        "title": {
         "text": "GPI por Competitor Name"
        },
        "xaxis": {
         "anchor": "y",
         "domain": [
          0,
          1
         ],
         "title": {
          "text": "Fecha"
         }
        },
        "yaxis": {
         "anchor": "x",
         "domain": [
          0,
          1
         ],
         "title": {
          "text": "GPI"
         }
        }
       }
      },
      "text/html": [
       "<div>                            <div id=\"18a56410-295f-4c11-af75-4d3653d5f828\" class=\"plotly-graph-div\" style=\"height:600px; width:100%;\"></div>            <script type=\"text/javascript\">                require([\"plotly\"], function(Plotly) {                    window.PLOTLYENV=window.PLOTLYENV || {};                                    if (document.getElementById(\"18a56410-295f-4c11-af75-4d3653d5f828\")) {                    Plotly.newPlot(                        \"18a56410-295f-4c11-af75-4d3653d5f828\",                        [{\"connectgaps\": false, \"hovertemplate\": \"Fecha=%{x}<br>GPI=%{y}<extra></extra>\", \"legendgroup\": \"\", \"line\": {\"color\": \"#636efa\", \"dash\": \"solid\"}, \"mode\": \"lines\", \"name\": \"\", \"orientation\": \"v\", \"showlegend\": false, \"type\": \"scatter\", \"x\": [\"2024-18\", \"2024-19\", \"2024-20\", \"2024-21\", \"2024-22\", \"2024-23\", \"2024-24\", \"2024-25\", \"2024-26\", \"2024-27\", \"2024-28\", \"2024-29\", \"2024-30\", \"2024-31\", \"2024-32\", \"2024-33\", \"2024-34\", \"2024-35\"], \"xaxis\": \"x\", \"y\": [93.5755821297418, 93.00618261597394, 94.73937738107607, 93.3263130742196, 94.57703322147363, 94.82950218336565, 95.73974949733471, 95.57390454037181, 96.57900585508496, 96.89532902131535, 98.96206077602022, 101.08522439794704, 100.48728659489518, 99.1692051434135, 98.24578707138981, 102.408036076242, 98.74191411234666, 96.11650032872052], \"yaxis\": \"y\"}],                        {\"height\": 600, \"legend\": {\"tracegroupgap\": 0}, \"template\": {\"data\": {\"bar\": [{\"error_x\": {\"color\": \"#2a3f5f\"}, \"error_y\": {\"color\": \"#2a3f5f\"}, \"marker\": {\"line\": {\"color\": \"#E5ECF6\", \"width\": 0.5}}, \"type\": \"bar\"}], \"barpolar\": [{\"marker\": {\"line\": {\"color\": \"#E5ECF6\", \"width\": 0.5}}, \"type\": \"barpolar\"}], \"carpet\": [{\"aaxis\": {\"endlinecolor\": \"#2a3f5f\", \"gridcolor\": \"white\", \"linecolor\": \"white\", \"minorgridcolor\": \"white\", \"startlinecolor\": \"#2a3f5f\"}, \"baxis\": {\"endlinecolor\": \"#2a3f5f\", \"gridcolor\": \"white\", \"linecolor\": \"white\", \"minorgridcolor\": \"white\", \"startlinecolor\": \"#2a3f5f\"}, \"type\": \"carpet\"}], \"choropleth\": [{\"colorbar\": {\"outlinewidth\": 0, \"ticks\": \"\"}, \"type\": \"choropleth\"}], \"contour\": [{\"colorbar\": {\"outlinewidth\": 0, \"ticks\": \"\"}, \"colorscale\": [[0.0, \"#0d0887\"], [0.1111111111111111, \"#46039f\"], [0.2222222222222222, \"#7201a8\"], [0.3333333333333333, \"#9c179e\"], [0.4444444444444444, \"#bd3786\"], [0.5555555555555556, \"#d8576b\"], [0.6666666666666666, \"#ed7953\"], [0.7777777777777778, \"#fb9f3a\"], [0.8888888888888888, \"#fdca26\"], [1.0, \"#f0f921\"]], \"type\": \"contour\"}], \"contourcarpet\": [{\"colorbar\": {\"outlinewidth\": 0, \"ticks\": \"\"}, \"type\": \"contourcarpet\"}], \"heatmap\": [{\"colorbar\": {\"outlinewidth\": 0, \"ticks\": \"\"}, \"colorscale\": [[0.0, \"#0d0887\"], [0.1111111111111111, \"#46039f\"], [0.2222222222222222, \"#7201a8\"], [0.3333333333333333, \"#9c179e\"], [0.4444444444444444, \"#bd3786\"], [0.5555555555555556, \"#d8576b\"], [0.6666666666666666, \"#ed7953\"], [0.7777777777777778, \"#fb9f3a\"], [0.8888888888888888, \"#fdca26\"], [1.0, \"#f0f921\"]], \"type\": \"heatmap\"}], \"heatmapgl\": [{\"colorbar\": {\"outlinewidth\": 0, \"ticks\": \"\"}, \"colorscale\": [[0.0, \"#0d0887\"], [0.1111111111111111, \"#46039f\"], [0.2222222222222222, \"#7201a8\"], [0.3333333333333333, \"#9c179e\"], [0.4444444444444444, \"#bd3786\"], [0.5555555555555556, \"#d8576b\"], [0.6666666666666666, \"#ed7953\"], [0.7777777777777778, \"#fb9f3a\"], [0.8888888888888888, \"#fdca26\"], [1.0, \"#f0f921\"]], \"type\": \"heatmapgl\"}], \"histogram\": [{\"marker\": {\"colorbar\": {\"outlinewidth\": 0, \"ticks\": \"\"}}, \"type\": \"histogram\"}], \"histogram2d\": [{\"colorbar\": {\"outlinewidth\": 0, \"ticks\": \"\"}, \"colorscale\": [[0.0, \"#0d0887\"], [0.1111111111111111, \"#46039f\"], [0.2222222222222222, \"#7201a8\"], [0.3333333333333333, \"#9c179e\"], [0.4444444444444444, \"#bd3786\"], [0.5555555555555556, \"#d8576b\"], [0.6666666666666666, \"#ed7953\"], [0.7777777777777778, \"#fb9f3a\"], [0.8888888888888888, \"#fdca26\"], [1.0, \"#f0f921\"]], \"type\": \"histogram2d\"}], \"histogram2dcontour\": [{\"colorbar\": {\"outlinewidth\": 0, \"ticks\": \"\"}, \"colorscale\": [[0.0, \"#0d0887\"], [0.1111111111111111, \"#46039f\"], [0.2222222222222222, \"#7201a8\"], [0.3333333333333333, \"#9c179e\"], [0.4444444444444444, \"#bd3786\"], [0.5555555555555556, \"#d8576b\"], [0.6666666666666666, \"#ed7953\"], [0.7777777777777778, \"#fb9f3a\"], [0.8888888888888888, \"#fdca26\"], [1.0, \"#f0f921\"]], \"type\": \"histogram2dcontour\"}], \"mesh3d\": [{\"colorbar\": {\"outlinewidth\": 0, \"ticks\": \"\"}, \"type\": \"mesh3d\"}], \"parcoords\": [{\"line\": {\"colorbar\": {\"outlinewidth\": 0, \"ticks\": \"\"}}, \"type\": \"parcoords\"}], \"pie\": [{\"automargin\": true, \"type\": \"pie\"}], \"scatter\": [{\"marker\": {\"colorbar\": {\"outlinewidth\": 0, \"ticks\": \"\"}}, \"type\": \"scatter\"}], \"scatter3d\": [{\"line\": {\"colorbar\": {\"outlinewidth\": 0, \"ticks\": \"\"}}, \"marker\": {\"colorbar\": {\"outlinewidth\": 0, \"ticks\": \"\"}}, \"type\": \"scatter3d\"}], \"scattercarpet\": [{\"marker\": {\"colorbar\": {\"outlinewidth\": 0, \"ticks\": \"\"}}, \"type\": \"scattercarpet\"}], \"scattergeo\": [{\"marker\": {\"colorbar\": {\"outlinewidth\": 0, \"ticks\": \"\"}}, \"type\": \"scattergeo\"}], \"scattergl\": [{\"marker\": {\"colorbar\": {\"outlinewidth\": 0, \"ticks\": \"\"}}, \"type\": \"scattergl\"}], \"scattermapbox\": [{\"marker\": {\"colorbar\": {\"outlinewidth\": 0, \"ticks\": \"\"}}, \"type\": \"scattermapbox\"}], \"scatterpolar\": [{\"marker\": {\"colorbar\": {\"outlinewidth\": 0, \"ticks\": \"\"}}, \"type\": \"scatterpolar\"}], \"scatterpolargl\": [{\"marker\": {\"colorbar\": {\"outlinewidth\": 0, \"ticks\": \"\"}}, \"type\": \"scatterpolargl\"}], \"scatterternary\": [{\"marker\": {\"colorbar\": {\"outlinewidth\": 0, \"ticks\": \"\"}}, \"type\": \"scatterternary\"}], \"surface\": [{\"colorbar\": {\"outlinewidth\": 0, \"ticks\": \"\"}, \"colorscale\": [[0.0, \"#0d0887\"], [0.1111111111111111, \"#46039f\"], [0.2222222222222222, \"#7201a8\"], [0.3333333333333333, \"#9c179e\"], [0.4444444444444444, \"#bd3786\"], [0.5555555555555556, \"#d8576b\"], [0.6666666666666666, \"#ed7953\"], [0.7777777777777778, \"#fb9f3a\"], [0.8888888888888888, \"#fdca26\"], [1.0, \"#f0f921\"]], \"type\": \"surface\"}], \"table\": [{\"cells\": {\"fill\": {\"color\": \"#EBF0F8\"}, \"line\": {\"color\": \"white\"}}, \"header\": {\"fill\": {\"color\": \"#C8D4E3\"}, \"line\": {\"color\": \"white\"}}, \"type\": \"table\"}]}, \"layout\": {\"annotationdefaults\": {\"arrowcolor\": \"#2a3f5f\", \"arrowhead\": 0, \"arrowwidth\": 1}, \"autotypenumbers\": \"strict\", \"coloraxis\": {\"colorbar\": {\"outlinewidth\": 0, \"ticks\": \"\"}}, \"colorscale\": {\"diverging\": [[0, \"#8e0152\"], [0.1, \"#c51b7d\"], [0.2, \"#de77ae\"], [0.3, \"#f1b6da\"], [0.4, \"#fde0ef\"], [0.5, \"#f7f7f7\"], [0.6, \"#e6f5d0\"], [0.7, \"#b8e186\"], [0.8, \"#7fbc41\"], [0.9, \"#4d9221\"], [1, \"#276419\"]], \"sequential\": [[0.0, \"#0d0887\"], [0.1111111111111111, \"#46039f\"], [0.2222222222222222, \"#7201a8\"], [0.3333333333333333, \"#9c179e\"], [0.4444444444444444, \"#bd3786\"], [0.5555555555555556, \"#d8576b\"], [0.6666666666666666, \"#ed7953\"], [0.7777777777777778, \"#fb9f3a\"], [0.8888888888888888, \"#fdca26\"], [1.0, \"#f0f921\"]], \"sequentialminus\": [[0.0, \"#0d0887\"], [0.1111111111111111, \"#46039f\"], [0.2222222222222222, \"#7201a8\"], [0.3333333333333333, \"#9c179e\"], [0.4444444444444444, \"#bd3786\"], [0.5555555555555556, \"#d8576b\"], [0.6666666666666666, \"#ed7953\"], [0.7777777777777778, \"#fb9f3a\"], [0.8888888888888888, \"#fdca26\"], [1.0, \"#f0f921\"]]}, \"colorway\": [\"#636efa\", \"#EF553B\", \"#00cc96\", \"#ab63fa\", \"#FFA15A\", \"#19d3f3\", \"#FF6692\", \"#B6E880\", \"#FF97FF\", \"#FECB52\"], \"font\": {\"color\": \"#2a3f5f\"}, \"geo\": {\"bgcolor\": \"white\", \"lakecolor\": \"white\", \"landcolor\": \"#E5ECF6\", \"showlakes\": true, \"showland\": true, \"subunitcolor\": \"white\"}, \"hoverlabel\": {\"align\": \"left\"}, \"hovermode\": \"closest\", \"mapbox\": {\"style\": \"light\"}, \"paper_bgcolor\": \"white\", \"plot_bgcolor\": \"#E5ECF6\", \"polar\": {\"angularaxis\": {\"gridcolor\": \"white\", \"linecolor\": \"white\", \"ticks\": \"\"}, \"bgcolor\": \"#E5ECF6\", \"radialaxis\": {\"gridcolor\": \"white\", \"linecolor\": \"white\", \"ticks\": \"\"}}, \"scene\": {\"xaxis\": {\"backgroundcolor\": \"#E5ECF6\", \"gridcolor\": \"white\", \"gridwidth\": 2, \"linecolor\": \"white\", \"showbackground\": true, \"ticks\": \"\", \"zerolinecolor\": \"white\"}, \"yaxis\": {\"backgroundcolor\": \"#E5ECF6\", \"gridcolor\": \"white\", \"gridwidth\": 2, \"linecolor\": \"white\", \"showbackground\": true, \"ticks\": \"\", \"zerolinecolor\": \"white\"}, \"zaxis\": {\"backgroundcolor\": \"#E5ECF6\", \"gridcolor\": \"white\", \"gridwidth\": 2, \"linecolor\": \"white\", \"showbackground\": true, \"ticks\": \"\", \"zerolinecolor\": \"white\"}}, \"shapedefaults\": {\"line\": {\"color\": \"#2a3f5f\"}}, \"ternary\": {\"aaxis\": {\"gridcolor\": \"white\", \"linecolor\": \"white\", \"ticks\": \"\"}, \"baxis\": {\"gridcolor\": \"white\", \"linecolor\": \"white\", \"ticks\": \"\"}, \"bgcolor\": \"#E5ECF6\", \"caxis\": {\"gridcolor\": \"white\", \"linecolor\": \"white\", \"ticks\": \"\"}}, \"title\": {\"x\": 0.05}, \"xaxis\": {\"automargin\": true, \"gridcolor\": \"white\", \"linecolor\": \"white\", \"ticks\": \"\", \"title\": {\"standoff\": 15}, \"zerolinecolor\": \"white\", \"zerolinewidth\": 2}, \"yaxis\": {\"automargin\": true, \"gridcolor\": \"white\", \"linecolor\": \"white\", \"ticks\": \"\", \"title\": {\"standoff\": 15}, \"zerolinecolor\": \"white\", \"zerolinewidth\": 2}}}, \"title\": {\"text\": \"GPI por Competitor Name\"}, \"xaxis\": {\"anchor\": \"y\", \"domain\": [0.0, 1.0], \"title\": {\"text\": \"Fecha\"}}, \"yaxis\": {\"anchor\": \"x\", \"domain\": [0.0, 1.0], \"title\": {\"text\": \"GPI\"}}},                        {\"responsive\": true}                    ).then(function(){\n",
       "                            \n",
       "var gd = document.getElementById('18a56410-295f-4c11-af75-4d3653d5f828');\n",
       "var x = new MutationObserver(function (mutations, observer) {{\n",
       "        var display = window.getComputedStyle(gd).display;\n",
       "        if (!display || display === 'none') {{\n",
       "            console.log([gd, 'removed!']);\n",
       "            Plotly.purge(gd);\n",
       "            observer.disconnect();\n",
       "        }}\n",
       "}});\n",
       "\n",
       "// Listen for the removal of the full notebook cells\n",
       "var notebookContainer = gd.closest('#notebook-container');\n",
       "if (notebookContainer) {{\n",
       "    x.observe(notebookContainer, {childList: true});\n",
       "}}\n",
       "\n",
       "// Listen for the clearing of the current output cell\n",
       "var outputEl = gd.closest('.output');\n",
       "if (outputEl) {{\n",
       "    x.observe(outputEl, {childList: true});\n",
       "}}\n",
       "\n",
       "                        })                };                });            </script>        </div>"
      ]
     },
     "metadata": {},
     "output_type": "display_data"
    },
    {
     "data": {
      "text/plain": [
       "580894"
      ]
     },
     "execution_count": 22,
     "metadata": {},
     "output_type": "execute_result"
    }
   ],
   "source": [
    "import pandas as pd\n",
    "import plotly.express as px\n",
    "\n",
    "# Supongamos que tu DataFrame se llama df_final2\n",
    "\n",
    "# Obtener los valores únicos para el dropdown\n",
    "cat_options = df_final2['cat'].unique()\n",
    "cat_options = sorted(cat_options)\n",
    "\n",
    "# Crear el gráfico 1: Línea para cada `competitor_name` donde x es `week` y y es `npi`\n",
    "def create_plot1(cat):\n",
    "    df_filtered = df_final2[df_final2['cat'] == cat]\n",
    "\n",
    "    # Eliminar filas donde 'week' o 'competitor_name' son NaN\n",
    "    # df_filtered = df_filtered.dropna(subset=['week', 'competitor_name'])\n",
    "\n",
    "    # # Crear un rango completo de fechas desde la mínima hasta la máxima fecha en el DataFrame\n",
    "    # all_dates = pd.date_range(start=df_filtered['week'].min(), \n",
    "    #                           end=df_filtered['week'].max())\n",
    "\n",
    "    # # Asegurarse de que todas las fechas están en el DataFrame y rellenar los días faltantes con NaN\n",
    "    # df_filtered.set_index('week', inplace=True)\n",
    "    \n",
    "    # # Reindexar solo la fecha para cada grupo\n",
    "    # df_complete = df_filtered.groupby('competitor_name').apply(\n",
    "    #     lambda group: group.reindex(all_dates, fill_value=None)\n",
    "    # ).reset_index(level=1, drop=False)\n",
    "    \n",
    "    # # Renombrar las columnas correctamente\n",
    "    # df_complete.rename(columns={'level_1': 'week'}, inplace=True)\n",
    "\n",
    "    # # Eliminar filas donde 'npi' es NaN\n",
    "    # df_complete = df_complete.dropna(subset=['npi'])\n",
    "    \n",
    "    # Crear el gráfico usando plotly.express\n",
    "    fig1 = px.line(df_filtered, x='week', y='npi',\n",
    "                   title='NPI por Competitor Name', labels={'week': 'Fecha', 'npi': 'NPI'})\n",
    "    \n",
    "    # Asegurarse de que los gaps no se conecten\n",
    "    fig1.update_traces(connectgaps=False)\n",
    "    \n",
    "    # Ajustar el tamaño del gráfico, en este caso, aumentando la altura\n",
    "    fig1.update_layout(\n",
    "        height=600  # Puedes cambiar este valor para ajustar la altura según lo necesites\n",
    "    )\n",
    "\n",
    "    # Crear el gráfico usando plotly.express\n",
    "    fig4 = px.line(df_filtered, x='week', y='gpi',\n",
    "                   title='GPI por Competitor Name', labels={'week': 'Fecha', 'gpi': 'GPI'})\n",
    "    \n",
    "    # Asegurarse de que los gaps no se conecten\n",
    "    fig4.update_traces(connectgaps=False)\n",
    "    \n",
    "    # Ajustar el tamaño del gráfico, en este caso, aumentando la altura\n",
    "    fig4.update_layout(\n",
    "        height=600  # Puedes cambiar este valor para ajustar la altura según lo necesites\n",
    "    )\n",
    "    \n",
    "    return fig1,fig4\n",
    "\n",
    "\n",
    "# Crear el gráfico 2: Barras para `gmv_usd` y `clients` en dos ejes Y diferentes\n",
    "import pandas as pd\n",
    "\n",
    "def create_plot2(cat):\n",
    "    df_filtered = df_final2[df_final2['cat'] == cat]\n",
    "    df_filtered = df_filtered.sort_values(by='week')\n",
    "\n",
    "    # Gráfico diario\n",
    "    fig2 = px.bar(df_filtered, x='week', y='gmv_usd', \n",
    "                  title='gmv_usdidad y Clientes', labels={'week': 'Fecha', 'gmv_usd': 'gmv_usdidad'})\n",
    "    \n",
    "    fig2.add_scatter(x=df_filtered['week'], y=df_filtered['clients'],\n",
    "                     mode='lines+markers', name='Clientes', yaxis='y2')\n",
    "\n",
    "    fig2.update_layout(\n",
    "        yaxis2=dict(\n",
    "            title='Clientes',\n",
    "            overlaying='y',\n",
    "            side='right'\n",
    "        )\n",
    "    )\n",
    "\n",
    "    # Crear una nueva columna con la semana\n",
    "    #df_filtered['week'] = df_filtered['week'].dt.to_period('W').apply(lambda r: r.start_time)\n",
    "\n",
    "    # Agrupar por semana y sumar los valores\n",
    "    #df_weekly = df_filtered.groupby('week').agg({'gmv_usd': 'sum', 'clients': 'sum'}).reset_index()\n",
    "\n",
    "    # Gráfico semanal\n",
    "    fig3 = px.bar(df_filtered, x='week', y='gmv_usd', \n",
    "                  title='gmv_usdidad y Clientes por Semana', labels={'week': 'Semana', 'gmv_usd': 'gmv_usdidad'})\n",
    "\n",
    "    fig3.add_scatter(x=df_filtered['week'], y=df_filtered['clients'],\n",
    "                     mode='lines+markers', name='Clientes', yaxis='y2')\n",
    "\n",
    "    fig3.update_layout(\n",
    "        yaxis2=dict(\n",
    "            title='Clientes',\n",
    "            overlaying='y',\n",
    "            side='right'\n",
    "        )\n",
    "    )\n",
    "\n",
    "    return fig2, fig3\n",
    "\n",
    "sku = 'Bebidas'\n",
    "# Crear gráficos iniciales\n",
    "fig1,fig4 = create_plot1(sku)\n",
    "fig2,fig3 = create_plot2(sku)\n",
    "\n",
    "print(top_falling_ids)\n",
    "# Mostrar gráficos\n",
    "fig1.show()\n",
    "fig2.show()\n",
    "fig3.show()\n",
    "fig4.show()\n",
    "\n",
    "452043 #ESTEE ES GRAVE index 90\n",
    "363763 #ESTEE NO ENTIENDO PORQUE CAYO este ya mg 5%\n",
    "277866 #ESTE VENIA MAL DESDE HACE RATO\n",
    "363789 #VIENE CAYENDO DESDE JUN 16 NO ES POR PRICING\n",
    "363775 #mirar caida, ver sandra\n",
    "614937 #y si le bajo el rpecio?\n",
    "\n",
    "#yo veo que todas las cervezas caen con margen 5% seria irse a margen 2%\n",
    "\n",
    "580894 #muy buen ejemplo\n"
   ]
  },
  {
   "cell_type": "code",
   "execution_count": 23,
   "metadata": {},
   "outputs": [],
   "source": [
    "#df3.to_excel(\"info.xlsx\")"
   ]
  }
 ],
 "metadata": {
  "kernelspec": {
   "display_name": "Python 3",
   "language": "python",
   "name": "python3"
  }
 },
 "nbformat": 4,
 "nbformat_minor": 2
}
