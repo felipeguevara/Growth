{
 "cells": [
  {
   "cell_type": "code",
   "execution_count": 1,
   "metadata": {},
   "outputs": [],
   "source": [
    "#//----------------------------\n",
    "#//LIBRARIES\n",
    "    #Math\n",
    "import math\n",
    "    #Numeric Python\n",
    "import numpy as np\n",
    "    #Pandas (dataframes)\n",
    "import pandas as pd\n",
    "    #datetime for fate manipulation\n",
    "from datetime import date, datetime, timedelta  \n",
    "    #Regex for advanced string matching\n",
    "import re\n",
    "    #for time related stuff\n",
    "import time \n",
    "    #json library\n",
    "import json\n",
    "    #Analyst tools\n",
    "import sys\n",
    "sys.path.append('../')\n",
    "from analysts_tools.growth import *\n",
    "    #Procurement tools\n",
    "from procurement_lib import send_slack_notification\n",
    "from procurement_lib import redash\n",
    "from analysts_tools.redash_methods import *\n",
    "from analystcommunity.read_connection_data_warehouse import run_read_dwd_query\n",
    "\n",
    "import random\n",
    "import time\n",
    "import datetime\n",
    "\n",
    "import seaborn as sns\n",
    "import matplotlib.pyplot as plt\n",
    "from scipy import stats\n",
    "\n",
    "from procurement_lib import GoogleSheet"
   ]
  },
  {
   "cell_type": "code",
   "execution_count": 2,
   "metadata": {},
   "outputs": [],
   "source": [
    "todays_date = datetime.datetime.today().strftime('%Y-%m-%d')"
   ]
  },
  {
   "cell_type": "code",
   "execution_count": 3,
   "metadata": {},
   "outputs": [],
   "source": [
    "query = \"\"\"\n",
    "select\n",
    "    competitor.competitor_name,\n",
    "    site.identifier_value as site_code,\n",
    "    quotation_date.full_date AS quotation_date,\n",
    "    su.source_id,\n",
    "    ROUND(AVG(cpp.product_selected_price),2)::float as price\n",
    "from dpr_product_pricing.fact_collected_product_prices cpp\n",
    "    inner join dpr_shared.dim_date quotation_date\n",
    "        on cpp.dim_quotation_date = quotation_date.date_id\n",
    "    inner join dpr_shared.dim_time quotation_time\n",
    "        on cpp.dim_quotation_time = quotation_time.time_id\n",
    "    inner join dpr_shared.dim_site site\n",
    "        on cpp.dim_site = site.site_id\n",
    "    inner join dpr_shared.dim_category cat\n",
    "        on cpp.dim_category = cat.category_id\n",
    "    inner join dpr_product_pricing.dim_product_outlier_type outlier_type\n",
    "        on cpp.dim_outlier_type = outlier_type.outlier_type_id\n",
    "    inner join dpr_product_pricing.dim_product_source_type source_type\n",
    "        on cpp.dim_source_type = source_type.source_type_id\n",
    "    inner join dpr_product_pricing.dim_product_competitor competitor\n",
    "        on cpp.dim_competitor = competitor.competitor_id\n",
    "    inner join dpr_product_pricing.dim_product_competitor_type competitor_type\n",
    "        on(\n",
    "            case\n",
    "                when cpp.super_category = 'Fruver'\n",
    "                    then competitor.product_competitor_type_id_fruver = competitor_type.competitor_type_id\n",
    "                when cpp.super_category = 'Multicategoría'\n",
    "                    then competitor.product_competitor_type_id_multicategoria = competitor_type.competitor_type_id\n",
    "            end\n",
    "        )\n",
    "    inner join dpr_shared.dim_stock_unit su\n",
    "        on cpp.dim_stock_unit = su.stock_unit_id\n",
    "where quotation_date.full_date >= '2023-12-15'\n",
    "    AND competitor.competitor_name NOT ILIKE '%cayena%'\n",
    "    AND site.identifier_value IN ('SPO','CWB','VCP','BHZ')\n",
    "GROUP BY 1,2,3,4\n",
    "\"\"\"\n",
    "df_zkkkkk = run_read_dwd_query(query)\n",
    "\n",
    "df_zkkkkk = df_zkkkkk.dropna().reset_index(drop=True)\n",
    "df_zkkkkk['lifetime'] = 8"
   ]
  },
  {
   "cell_type": "code",
   "execution_count": 4,
   "metadata": {},
   "outputs": [],
   "source": [
    "# Ensure dataframe is sorted by 'quotation_date'\n",
    "df_zkkkkk = df_zkkkkk.sort_values(by='quotation_date')\n",
    "\n",
    "# Generate the required rows for missing dates\n",
    "new_rows = []\n",
    "\n",
    "for (competitor, source_id), group in df_zkkkkk.groupby(['competitor_name', 'source_id']):\n",
    "    group = group.sort_values(by='quotation_date')\n",
    "    last_known_price = None\n",
    "    last_known_date = None\n",
    "    lifetime = 8\n",
    "    \n",
    "    for current_index in range(len(group)):\n",
    "        current_date = group.iloc[current_index]['quotation_date']\n",
    "        price = group.iloc[current_index]['price']\n",
    "        \n",
    "        # If this is not the first iteration, fill in missing dates\n",
    "        if last_known_date is not None:\n",
    "            days_diff = (current_date - last_known_date).days\n",
    "            if days_diff > 1:\n",
    "                for j in range(1, min(days_diff, lifetime + 1)):\n",
    "                    new_date = last_known_date + timedelta(days=j)\n",
    "                    new_row = {\n",
    "                        'site_code': group.iloc[current_index]['site_code'],\n",
    "                        'quotation_date': new_date,\n",
    "                        'competitor_name': competitor,\n",
    "                        'source_id': source_id,\n",
    "                        'price': last_known_price,\n",
    "                        'lifetime': lifetime - j\n",
    "                    }\n",
    "                    new_rows.append(new_row)\n",
    "                    \n",
    "                    # Stop if we reach a new datapoint date\n",
    "                    if new_date + timedelta(days=1) == current_date:\n",
    "                        break\n",
    "        \n",
    "        # Update the last known values and reset lifetime\n",
    "        last_known_price = price\n",
    "        last_known_date = current_date\n",
    "        lifetime = 8  # Reset lifetime\n",
    "\n",
    "    # After processing all known dates for the group, continue generating rows until lifetime reaches 0\n",
    "    while lifetime > 0:\n",
    "        last_known_date += timedelta(days=1)\n",
    "        new_row = {\n",
    "            'site_code': group.iloc[-1]['site_code'],\n",
    "            'quotation_date': last_known_date,\n",
    "            'competitor_name': competitor,\n",
    "            'source_id': source_id,\n",
    "            'price': last_known_price,\n",
    "            'lifetime': lifetime - 1\n",
    "        }\n",
    "        new_rows.append(new_row)\n",
    "        lifetime -= 1\n",
    "\n",
    "# Append new rows to the dataframe\n",
    "df_zkkkkk = df_zkkkkk.append(new_rows, ignore_index=True)\n",
    "\n",
    "# Sort the final dataframe\n",
    "df_zkkkkk = df_zkkkkk.sort_values(by=['competitor_name', 'source_id', 'quotation_date'])\n",
    "df_zkkkkk['replica'] = df_zkkkkk['lifetime'] == 8"
   ]
  },
  {
   "cell_type": "code",
   "execution_count": 5,
   "metadata": {},
   "outputs": [],
   "source": [
    "df_bench = df_zkkkkk.copy()\n",
    "df_bench['quotation_date'] = pd.to_datetime(df_bench['quotation_date'])"
   ]
  },
  {
   "cell_type": "code",
   "execution_count": 6,
   "metadata": {},
   "outputs": [],
   "source": [
    "def q1(x):\n",
    "    return x.quantile(0.25)"
   ]
  },
  {
   "cell_type": "code",
   "execution_count": 21,
   "metadata": {},
   "outputs": [],
   "source": [
    "df_c = df_bench.groupby(['quotation_date',\"source_id\"]).agg(competitors=('competitor_name',lambda x: x.nunique()),\n",
    "                                                            q0_bench=('price', np.min),\n",
    "                                                            q1_bench=('price', q1)).reset_index()"
   ]
  },
  {
   "cell_type": "code",
   "execution_count": 22,
   "metadata": {},
   "outputs": [],
   "source": [
    "query = \"\"\"\n",
    "WITH RECURSIVE calendar(calendar_date) AS (\n",
    "  SELECT DATE_TRUNC('day', DATE(GETDATE()) - INTERVAL '300 day')\n",
    "  UNION ALL\n",
    "  SELECT calendar_date + INTERVAL '1 day'\n",
    "  FROM calendar\n",
    "  WHERE calendar_date BETWEEN DATE_TRUNC('day', DATE(GETDATE()) - INTERVAL '300 day') AND DATE(GETDATE() - 1) \n",
    "),\n",
    "\n",
    "info AS (\n",
    "SELECT\n",
    "    DATE(coalesce(prices.last_modified_at, prices.created_at)) as created_at,\n",
    "    --p.region_code as region,\n",
    "    --pp.name as parent_product_name,\n",
    "    pp.frida_id as sku_id,\n",
    "    MIN(coalesce(tiers.tax_price, prices.tax_price)) as price, \n",
    "    min(coalesce(tiers.sale_price,prices.sale_price)) as net_price\n",
    "    \n",
    "\n",
    "FROM postgres_growth.\"growth_pricing.prices_history\" prices\n",
    "LEFT JOIN postgres_growth.\"growth_pricing.price_tiers_history\" tiers ON prices.id = tiers.price_history_id\n",
    "--LEFT JOIN postgres_growth.\"growth_pricing.price_discount_history\" dct ON prices.id = dct.price_history_id\n",
    "LEFT JOIN postgres_growth.\"growth_pricing.skus\" skus ON prices.sku_id = skus.id\n",
    "LEFT JOIN postgres_main_co.\"purchase_orders.products\" p ON skus.sku_id = p.frida_id\n",
    "LEFT JOIN postgres_main_co.\"purchase_orders.products\" pp ON COALESCE(p.parent_id, p.id) = pp.id\n",
    "\n",
    "WHERE DATE(prices.created_at) >= DATE_TRUNC('day', DATE(GETDATE()) - INTERVAL '300 day')\n",
    " AND p.region_code IN ('SPO','CWB','VCP','BHZ')\n",
    " AND p.deleted_at IS NULL\n",
    " AND prices.created_by NOT ILIKE '%CATALOG%'\n",
    " AND pp.product_category_id IN (5,6,7,8,9,10,13,18) -- 1 ES FRUVER\n",
    "GROUP BY 1,2--,3,4\n",
    "),\n",
    "\n",
    "done AS (\n",
    "SELECT\n",
    "  DATE(c.calendar_date) AS quotation_date,\n",
    "  --s.region,\n",
    "  --s.parent_product_name,\n",
    "  (s.sku_id)::int as source_id,\n",
    "  LAG(i.price IGNORE NULLS) OVER (PARTITION BY s.sku_id ORDER BY c.calendar_date)::FLOAT AS precio,\n",
    "  LAG(i.net_price IGNORE NULLS) OVER (PARTITION BY s.sku_id ORDER BY c.calendar_date)::FLOAT AS precio_neto\n",
    "\n",
    "FROM calendar c\n",
    "CROSS JOIN (SELECT DISTINCT sku_id FROM info) s\n",
    "LEFT JOIN info i ON c.calendar_date = i.created_at-1 AND s.sku_id = i.sku_id\n",
    ")\n",
    "\n",
    "SELECT *\n",
    "FROM done\n",
    "WHERE precio IS NOT NULL\n",
    "AND quotation_date >= '2024-01-01'\n",
    "\"\"\"\n",
    "df = read_connection_data_warehouse.runQuery(query)  \n",
    "df['quotation_date'] = pd.to_datetime(df['quotation_date'])"
   ]
  },
  {
   "cell_type": "code",
   "execution_count": 9,
   "metadata": {},
   "outputs": [],
   "source": [
    "query = \"\"\"\n",
    "SELECT \n",
    "su.source_id,\n",
    "b.benchmark_date as quotation_date,\n",
    "b.min_price::FLOAT AS min_bench\n",
    "\n",
    "FROM dpr_product_pricing.obt_benchmark_product_prices b\n",
    "INNER JOIN dpr_shared.dim_stock_unit su on b.stock_unit_id = su.stock_unit_id\n",
    "\n",
    "WHERE su.source_id in {skus}\n",
    " AND b.benchmark_date >= '2024-01-01'\n",
    "\"\"\".format(skus=tuple(df.source_id.unique()))\n",
    "\n",
    "df_b = run_read_dwd_query(query)\n",
    "df_b['quotation_date'] = pd.to_datetime(df_b['quotation_date'])"
   ]
  },
  {
   "cell_type": "code",
   "execution_count": 10,
   "metadata": {},
   "outputs": [],
   "source": [
    "query = \"\"\"\n",
    "SELECT \n",
    "su.source_id,\n",
    "DATE(to_date(c.dim_date_dtd::TEXT, 'YYYYMMDD') + INTERVAL '1 day') AS quotation_date,\n",
    "(CASE WHEN c.dtd_cost_local = 0 THEN m.inventory_p_fin ELSE c.dtd_cost_local END)::FLOAT  AS costo\n",
    "\n",
    "FROM dpr_cross_business.int_dtd_cost c \n",
    "INNER JOIN dpr_shared.dim_stock_unit su on c.dim_stock_unit = su.stock_unit_id\n",
    "left join dpr_cross_business.fact_cross_business_insights m  on m.dim_stock_unit = su.stock_unit_id AND m.dim_date = c.dim_date_dtd\n",
    "WHERE su.source_id in {skus}\n",
    " AND c.dim_date_dtd >= 20231231\n",
    " AND costo > 0\n",
    "\"\"\".format(skus=tuple(df.source_id.unique()))\n",
    "\n",
    "df_d = run_read_dwd_query(query)\n",
    "df_d['quotation_date'] = pd.to_datetime(df_d['quotation_date'])"
   ]
  },
  {
   "cell_type": "code",
   "execution_count": 23,
   "metadata": {},
   "outputs": [],
   "source": [
    "df = pd.merge(df, df_c, left_on=['quotation_date',\"source_id\"], right_on=['quotation_date',\"source_id\"], how='left')\n",
    "df = pd.merge(df, df_b, left_on=['quotation_date',\"source_id\"], right_on=['quotation_date',\"source_id\"], how='left')\n",
    "df = pd.merge(df, df_d, left_on=['quotation_date',\"source_id\"], right_on=['quotation_date',\"source_id\"], how='left')"
   ]
  },
  {
   "cell_type": "code",
   "execution_count": 24,
   "metadata": {},
   "outputs": [],
   "source": [
    "df['mg'] = (1-df.costo/df.precio)\n",
    "df['nmg'] = (1-df.costo/df.precio_neto)\n",
    "\n",
    "df['comp_min'] = (1-df.costo/df.min_bench)\n",
    "df['comp_q0'] = (1-df.costo/df.q0_bench)\n",
    "df['comp_q1'] = (1-df.costo/df.q1_bench)\n",
    "\n",
    "df['pi_min'] = df.precio/df.min_bench\n",
    "df['npi_min'] = df.precio_neto/df.min_bench\n",
    "\n",
    "df['pi_q0'] = df.precio/df.q0_bench\n",
    "df['npi_q0'] = df.precio_neto/df.q0_bench\n",
    "\n",
    "df['pi_q1'] = df.precio/df.q1_bench\n",
    "df['npi_q1'] = df.precio_neto/df.q1_bench"
   ]
  },
  {
   "cell_type": "code",
   "execution_count": 25,
   "metadata": {},
   "outputs": [],
   "source": [
    "query = \"\"\"\n",
    "SELECT\n",
    "    s.identifier_value AS city,\n",
    "    DATE(fs.order_submitted_date) AS quotation_date,\n",
    "    --cat.parent_description AS cat,\n",
    "    sup.source_id,\n",
    "    --s.identifier_value || ' || ' || sup.card_description AS product_name,\n",
    "    (SUM(fs.gmv_pxq_local)/4.75)::FLOAT AS gmv_usd\n",
    "FROM dpr_sales.fact_sales                   fs\n",
    "INNER JOIN dpr_shared.dim_site              s   ON s.site_id = fs.dim_site\n",
    "INNER JOIN dpr_shared.dim_product           dp  ON dp.product_id = fs.dim_product\n",
    "INNER JOIN dpr_shared.dim_category          cat ON cat.category_id = dp.category_id\n",
    "INNER JOIN dpr_shared.dim_stock_unit        su  ON su.product_id = fs.dim_product\n",
    "INNER JOIN dpr_shared.dim_stock_unit        sup  ON nvl(nullif(su.source_parent_id,0),su.source_id) = sup.source_id\n",
    "\n",
    "WHERE \n",
    "    fs.gmv_enabled = TRUE\n",
    "    AND fulfillment_order_status NOT IN ('CANCELLED', 'ARCHIVED','No value')\n",
    "    AND fs.fb_order_status_id IN (1,6,7,8)\n",
    "    AND fs.is_deleted = FALSE\n",
    "    AND cat.super_category = 'Multicategoría'\n",
    "    AND fs.dim_status = 1\n",
    "    AND dp.is_slot = 'false'\n",
    "    AND fs.gmv_pxq_local > 0\n",
    "    AND s.identifier_value IN ('SPO','CWB','VCP','BHZ')\n",
    "    AND DATE(fs.order_submitted_date) >= '2024-01-01'\n",
    "GROUP BY 1,2,3--,4,5\n",
    "\"\"\"\n",
    "df_gmv = run_read_dwd_query(query)\n",
    "df_gmv['quotation_date'] = pd.to_datetime(df_gmv['quotation_date'])"
   ]
  },
  {
   "cell_type": "code",
   "execution_count": 26,
   "metadata": {},
   "outputs": [],
   "source": [
    "merge_df = pd.merge(df_gmv, df, left_on=['quotation_date',\"source_id\"], right_on=['quotation_date',\"source_id\"], how='left')"
   ]
  },
  {
   "cell_type": "code",
   "execution_count": 27,
   "metadata": {},
   "outputs": [],
   "source": [
    "merge_df['year_week'] = merge_df['quotation_date'].dt.strftime('%Y-%U')"
   ]
  },
  {
   "cell_type": "code",
   "execution_count": 28,
   "metadata": {},
   "outputs": [],
   "source": [
    "merge_df['gmv_mix'] = merge_df['gmv_usd'] / merge_df.groupby(['year_week', 'city'])['gmv_usd'].transform('sum')"
   ]
  },
  {
   "cell_type": "code",
   "execution_count": 43,
   "metadata": {},
   "outputs": [],
   "source": [
    "# Define a function to apply the custom aggregation\n",
    "def custom_ventas(group, column):\n",
    "    return (group[column] * group['gmv_mix']).sum()\n",
    "# Group by 'city' and 'year_week', aggregate multiple columns with custom aggregation\n",
    "df_final = merge_df.groupby(['city', 'year_week']).apply(lambda group: pd.Series({\n",
    "    'gmv_mix': group['gmv_mix'].sum(),  # Compute sum of gmv_mix directly\n",
    "    'mg': custom_ventas(group, 'mg'),\n",
    "    'nmg': custom_ventas(group, 'nmg'),\n",
    "    'comp_min': custom_ventas(group, 'comp_min'),\n",
    "    'comp_q0': custom_ventas(group, 'comp_q0'),\n",
    "    'comp_q1': custom_ventas(group, 'comp_q1'),\n",
    "    'pi_min': custom_ventas(group, 'pi_min'),\n",
    "    'npi_min': custom_ventas(group, 'npi_min'),\n",
    "    'pi_q0': custom_ventas(group, 'pi_q0'),\n",
    "    'npi_q0': custom_ventas(group, 'npi_q0'),\n",
    "    'pi_q1': custom_ventas(group, 'pi_q1'),\n",
    "    'npi_q1': custom_ventas(group, 'npi_q1')\n",
    "})).reset_index()"
   ]
  },
  {
   "cell_type": "code",
   "execution_count": 44,
   "metadata": {},
   "outputs": [],
   "source": [
    "# Define a function to apply the custom aggregation\n",
    "def custom_ventas2(group, column):\n",
    "    return (group[column] * group['gmv_mix']).sum()/group['gmv_mix'].sum()\n",
    "merge_df2 = merge_df.dropna(how='any')\n",
    "# Group by 'city' and 'year_week', aggregate multiple columns with custom aggregation\n",
    "df_final2 = merge_df2.groupby(['city', 'year_week']).apply(lambda group: pd.Series({\n",
    "    'gmv_mix': group['gmv_mix'].sum(),  # Compute sum of gmv_mix directly\n",
    "    'mg': custom_ventas(group, 'mg'),\n",
    "    'nmg': custom_ventas(group, 'nmg'),\n",
    "    'comp_min': custom_ventas(group, 'comp_min'),\n",
    "    'comp_q0': custom_ventas(group, 'comp_q0'),\n",
    "    'comp_q1': custom_ventas(group, 'comp_q1'),\n",
    "    'pi_min': custom_ventas(group, 'pi_min'),\n",
    "    'npi_min': custom_ventas(group, 'npi_min'),\n",
    "    'pi_q0': custom_ventas(group, 'pi_q0'),\n",
    "    'npi_q0': custom_ventas(group, 'npi_q0'),\n",
    "    'pi_q1': custom_ventas(group, 'pi_q1'),\n",
    "    'npi_q1': custom_ventas(group, 'npi_q1')\n",
    "})).reset_index()"
   ]
  },
  {
   "cell_type": "code",
   "execution_count": 42,
   "metadata": {},
   "outputs": [
    {
     "data": {
      "application/vnd.jupyter.widget-view+json": {
       "model_id": "cee6cfd0b7804da393caaba0574e27bf",
       "version_major": 2,
       "version_minor": 0
      },
      "text/plain": [
       "interactive(children=(Dropdown(description='Select City:', options=('BHZ', 'CWB', 'SPO', 'VCP'), value='BHZ'),…"
      ]
     },
     "metadata": {},
     "output_type": "display_data"
    },
    {
     "data": {
      "application/vnd.plotly.v1+json": {
       "config": {
        "plotlyServerURL": "https://plot.ly"
       },
       "data": [
        {
         "hovertemplate": "Variables=gmv_mix<br>Year-Week=%{x}<br>Values=%{y}<extra></extra>",
         "legendgroup": "gmv_mix",
         "line": {
          "color": "#636efa",
          "dash": "solid"
         },
         "mode": "lines",
         "name": "gmv_mix",
         "orientation": "v",
         "showlegend": true,
         "type": "scatter",
         "x": [
          "2024-00",
          "2024-01",
          "2024-02",
          "2024-03",
          "2024-04",
          "2024-05",
          "2024-06",
          "2024-07",
          "2024-08",
          "2024-09",
          "2024-10",
          "2024-11",
          "2024-12",
          "2024-13",
          "2024-14",
          "2024-15",
          "2024-16",
          "2024-17",
          "2024-18",
          "2024-19",
          "2024-20",
          "2024-21",
          "2024-22",
          "2024-23",
          "2024-24"
         ],
         "xaxis": "x",
         "y": [
          0.8755728517085771,
          0.892181074178355,
          0.8989172208881089,
          0.8902236031451823,
          0.921887657342908,
          0.9260191752147306,
          0.9095010635150784,
          0.9048829995075353,
          0.8888103449277034,
          0.904195732743392,
          0.908724743482639,
          0.9060649581953498,
          0.8992980208881396,
          0.8749887820405762,
          0.8822070908806245,
          0.9022779241299521,
          0.920297627380664,
          0.9122808726795693,
          0.8895467527787124,
          0.9182233743259154,
          0.9002123005229388,
          0.8732998700487964,
          0.8861956568996845,
          0.8688176958766334,
          0.888023586277668
         ],
         "yaxis": "y"
        },
        {
         "hovertemplate": "Variables=mg<br>Year-Week=%{x}<br>Values=%{y}<extra></extra>",
         "legendgroup": "mg",
         "line": {
          "color": "#EF553B",
          "dash": "solid"
         },
         "mode": "lines",
         "name": "mg",
         "orientation": "v",
         "showlegend": true,
         "type": "scatter",
         "x": [
          "2024-00",
          "2024-01",
          "2024-02",
          "2024-03",
          "2024-04",
          "2024-05",
          "2024-06",
          "2024-07",
          "2024-08",
          "2024-09",
          "2024-10",
          "2024-11",
          "2024-12",
          "2024-13",
          "2024-14",
          "2024-15",
          "2024-16",
          "2024-17",
          "2024-18",
          "2024-19",
          "2024-20",
          "2024-21",
          "2024-22",
          "2024-23",
          "2024-24"
         ],
         "xaxis": "x",
         "y": [
          0.09390552319364404,
          0.0914015029600315,
          0.08807212370664652,
          0.08241900168502492,
          0.09268894660805357,
          0.09475162365016848,
          0.09825308742178095,
          0.09496614132421491,
          0.09765337452537909,
          0.08692538041245218,
          0.0917073564862301,
          0.09153782873160292,
          0.09107527834914722,
          0.09018708302770576,
          0.09724627415836326,
          0.0923949114461928,
          0.0870934868685572,
          0.0867640831593385,
          0.09224952950616004,
          0.09796836992440752,
          0.10671991049378203,
          0.10747821860351758,
          0.10049929986623216,
          0.09480564087244281,
          0.09622255778197712
         ],
         "yaxis": "y"
        },
        {
         "hovertemplate": "Variables=nmg<br>Year-Week=%{x}<br>Values=%{y}<extra></extra>",
         "legendgroup": "nmg",
         "line": {
          "color": "#00cc96",
          "dash": "solid"
         },
         "mode": "lines",
         "name": "nmg",
         "orientation": "v",
         "showlegend": true,
         "type": "scatter",
         "x": [
          "2024-00",
          "2024-01",
          "2024-02",
          "2024-03",
          "2024-04",
          "2024-05",
          "2024-06",
          "2024-07",
          "2024-08",
          "2024-09",
          "2024-10",
          "2024-11",
          "2024-12",
          "2024-13",
          "2024-14",
          "2024-15",
          "2024-16",
          "2024-17",
          "2024-18",
          "2024-19",
          "2024-20",
          "2024-21",
          "2024-22",
          "2024-23",
          "2024-24"
         ],
         "xaxis": "x",
         "y": [
          0.05587591955891681,
          0.058399653178686714,
          0.049422375613461675,
          0.05282748166623127,
          0.037599932537988816,
          0.061516449931639114,
          0.061143180427199365,
          0.05055305149725203,
          0.054960134748990315,
          0.05011960002576196,
          0.05392443831484406,
          0.05056806153722663,
          0.047425812946770146,
          0.0479627312835373,
          0.054500220700057604,
          0.04894317197366413,
          0.04845662196817532,
          0.057002348098692,
          0.06053142753111558,
          0.0503951174206496,
          0.06925825279096456,
          0.07174398561415268,
          0.0763156027863349,
          0.0759889212127934,
          0.07972693017996486
         ],
         "yaxis": "y"
        },
        {
         "hovertemplate": "Variables=comp_min<br>Year-Week=%{x}<br>Values=%{y}<extra></extra>",
         "legendgroup": "comp_min",
         "line": {
          "color": "#ab63fa",
          "dash": "solid"
         },
         "mode": "lines",
         "name": "comp_min",
         "orientation": "v",
         "showlegend": true,
         "type": "scatter",
         "x": [
          "2024-00",
          "2024-01",
          "2024-02",
          "2024-03",
          "2024-04",
          "2024-05",
          "2024-06",
          "2024-07",
          "2024-08",
          "2024-09",
          "2024-10",
          "2024-11",
          "2024-12",
          "2024-13",
          "2024-14",
          "2024-15",
          "2024-16",
          "2024-17",
          "2024-18",
          "2024-19",
          "2024-20",
          "2024-21",
          "2024-22",
          "2024-23",
          "2024-24"
         ],
         "xaxis": "x",
         "y": [
          0.05719753555260767,
          0.0631248305530115,
          0.06684427568245471,
          0.06482791146459488,
          0.059957303333698905,
          0.051227704257824774,
          0.045255374634889864,
          0.03392356057852476,
          0.05089986734779888,
          0.0554952600362596,
          0.06150442453952203,
          0.05571152463869556,
          0.05758569843480594,
          0.054361323739560555,
          0.05637945063605014,
          0.05217662493521748,
          0.04821051427762907,
          0.058093557794759165,
          0.061404630675175986,
          0.06831258680805662,
          0.07762661366433565,
          0.07920694929599023,
          0.08894785925010176,
          0.08660585435465482,
          0.07254994319668147
         ],
         "yaxis": "y"
        },
        {
         "hovertemplate": "Variables=comp_q0<br>Year-Week=%{x}<br>Values=%{y}<extra></extra>",
         "legendgroup": "comp_q0",
         "line": {
          "color": "#FFA15A",
          "dash": "solid"
         },
         "mode": "lines",
         "name": "comp_q0",
         "orientation": "v",
         "showlegend": true,
         "type": "scatter",
         "x": [
          "2024-00",
          "2024-01",
          "2024-02",
          "2024-03",
          "2024-04",
          "2024-05",
          "2024-06",
          "2024-07",
          "2024-08",
          "2024-09",
          "2024-10",
          "2024-11",
          "2024-12",
          "2024-13",
          "2024-14",
          "2024-15",
          "2024-16",
          "2024-17",
          "2024-18",
          "2024-19",
          "2024-20",
          "2024-21",
          "2024-22",
          "2024-23",
          "2024-24"
         ],
         "xaxis": "x",
         "y": [
          0.031234653618106657,
          0.03180455634213518,
          0.03980169757544445,
          0.04138625726186176,
          0.03436235693071977,
          0.03187512389506923,
          0.013726014598697427,
          0.0011556073935914662,
          -0.24015345984466746,
          0.02337827625481078,
          0.03441110956251038,
          0.032653065773458875,
          0.02796276963806232,
          0.028390661311660858,
          0.032752892741508444,
          0.0260572533133467,
          0.03215402221427406,
          0.02989522143401511,
          0.03256855789842003,
          0.03706644727403562,
          0.05577511276834698,
          0.05568519869258065,
          0.0606975270748374,
          0.05817293706638235,
          0.06257363524431407
         ],
         "yaxis": "y"
        },
        {
         "hovertemplate": "Variables=comp_q1<br>Year-Week=%{x}<br>Values=%{y}<extra></extra>",
         "legendgroup": "comp_q1",
         "line": {
          "color": "#19d3f3",
          "dash": "solid"
         },
         "mode": "lines",
         "name": "comp_q1",
         "orientation": "v",
         "showlegend": true,
         "type": "scatter",
         "x": [
          "2024-00",
          "2024-01",
          "2024-02",
          "2024-03",
          "2024-04",
          "2024-05",
          "2024-06",
          "2024-07",
          "2024-08",
          "2024-09",
          "2024-10",
          "2024-11",
          "2024-12",
          "2024-13",
          "2024-14",
          "2024-15",
          "2024-16",
          "2024-17",
          "2024-18",
          "2024-19",
          "2024-20",
          "2024-21",
          "2024-22",
          "2024-23",
          "2024-24"
         ],
         "xaxis": "x",
         "y": [
          0.07655553586199386,
          0.08092883200281464,
          0.08063981378506355,
          0.0786787573569266,
          0.07510118501861647,
          0.07575641326076596,
          0.06599090205556547,
          0.06008596951431987,
          0.06930298611408145,
          0.07561108777192575,
          0.07185133182471613,
          0.06701714443575554,
          0.069825154540747,
          0.06426181827157769,
          0.07111529688925272,
          0.0683429565786606,
          0.07081501557768254,
          0.06957396032024145,
          0.07320399168329005,
          0.0826413048523338,
          0.08749064637035261,
          0.08584327069903125,
          0.08957868226967121,
          0.09003760393279991,
          0.08728847287097138
         ],
         "yaxis": "y"
        },
        {
         "hovertemplate": "Variables=pi_min<br>Year-Week=%{x}<br>Values=%{y}<extra></extra>",
         "legendgroup": "pi_min",
         "line": {
          "color": "#FF6692",
          "dash": "solid"
         },
         "mode": "lines",
         "name": "pi_min",
         "orientation": "v",
         "showlegend": true,
         "type": "scatter",
         "x": [
          "2024-00",
          "2024-01",
          "2024-02",
          "2024-03",
          "2024-04",
          "2024-05",
          "2024-06",
          "2024-07",
          "2024-08",
          "2024-09",
          "2024-10",
          "2024-11",
          "2024-12",
          "2024-13",
          "2024-14",
          "2024-15",
          "2024-16",
          "2024-17",
          "2024-18",
          "2024-19",
          "2024-20",
          "2024-21",
          "2024-22",
          "2024-23",
          "2024-24"
         ],
         "xaxis": "x",
         "y": [
          0.9167022878058362,
          0.9238559271184614,
          0.9226340786865317,
          0.9100437806433022,
          0.9579733535799769,
          0.9735524743742988,
          0.9673663360322955,
          0.9696322378313555,
          0.9413761654395852,
          0.9386836684913406,
          0.9425692519229881,
          0.9463231341382443,
          0.9381948174978558,
          0.9161358481183819,
          0.9293777445347062,
          0.9479825129241983,
          0.963826280883772,
          0.9453857161434573,
          0.9253912880538121,
          0.9520677740080847,
          0.9346748716669089,
          0.9071129146174182,
          0.8991647419387344,
          0.8773655411515009,
          0.9140473818194318
         ],
         "yaxis": "y"
        },
        {
         "hovertemplate": "Variables=npi_min<br>Year-Week=%{x}<br>Values=%{y}<extra></extra>",
         "legendgroup": "npi_min",
         "line": {
          "color": "#B6E880",
          "dash": "solid"
         },
         "mode": "lines",
         "name": "npi_min",
         "orientation": "v",
         "showlegend": true,
         "type": "scatter",
         "x": [
          "2024-00",
          "2024-01",
          "2024-02",
          "2024-03",
          "2024-04",
          "2024-05",
          "2024-06",
          "2024-07",
          "2024-08",
          "2024-09",
          "2024-10",
          "2024-11",
          "2024-12",
          "2024-13",
          "2024-14",
          "2024-15",
          "2024-16",
          "2024-17",
          "2024-18",
          "2024-19",
          "2024-20",
          "2024-21",
          "2024-22",
          "2024-23",
          "2024-24"
         ],
         "xaxis": "x",
         "y": [
          0.8755878970890418,
          0.8896394510910738,
          0.8851626561399015,
          0.8786824012551109,
          0.907244843936266,
          0.937245737808734,
          0.9271330001636107,
          0.9209661680128146,
          0.8954611322898862,
          0.9009604509146232,
          0.9035954017748011,
          0.9046723643261741,
          0.8946233477366006,
          0.87233838898314,
          0.8850286989129623,
          0.9035096365383356,
          0.9235820627648557,
          0.9145794648609604,
          0.8920492272450573,
          0.9038495261678727,
          0.8952647191754687,
          0.8692605464708765,
          0.8749366574420918,
          0.8588583576896037,
          0.8973099585330859
         ],
         "yaxis": "y"
        },
        {
         "hovertemplate": "Variables=pi_q0<br>Year-Week=%{x}<br>Values=%{y}<extra></extra>",
         "legendgroup": "pi_q0",
         "line": {
          "color": "#FF97FF",
          "dash": "solid"
         },
         "mode": "lines",
         "name": "pi_q0",
         "orientation": "v",
         "showlegend": true,
         "type": "scatter",
         "x": [
          "2024-00",
          "2024-01",
          "2024-02",
          "2024-03",
          "2024-04",
          "2024-05",
          "2024-06",
          "2024-07",
          "2024-08",
          "2024-09",
          "2024-10",
          "2024-11",
          "2024-12",
          "2024-13",
          "2024-14",
          "2024-15",
          "2024-16",
          "2024-17",
          "2024-18",
          "2024-19",
          "2024-20",
          "2024-21",
          "2024-22",
          "2024-23",
          "2024-24"
         ],
         "xaxis": "x",
         "y": [
          0.9458953588484178,
          0.9599826603958362,
          0.9535050113932801,
          0.9360921934597043,
          0.987393957078401,
          0.9958182062986481,
          1.0023871367586084,
          1.0060868223413162,
          1.2570867677400361,
          0.9737076236366904,
          0.972955332974556,
          0.972521317637765,
          0.9716930144535296,
          0.9451156858759276,
          0.9557461506725564,
          0.9768868183619797,
          0.9823099364164608,
          0.9764372465115103,
          0.956908624437215,
          0.9864980337621536,
          0.9590589943088027,
          0.933581058494748,
          0.9312898477581517,
          0.9091032713435012,
          0.9252026864964202
         ],
         "yaxis": "y"
        },
        {
         "hovertemplate": "Variables=npi_q0<br>Year-Week=%{x}<br>Values=%{y}<extra></extra>",
         "legendgroup": "npi_q0",
         "line": {
          "color": "#FECB52",
          "dash": "solid"
         },
         "mode": "lines",
         "name": "npi_q0",
         "orientation": "v",
         "showlegend": true,
         "type": "scatter",
         "x": [
          "2024-00",
          "2024-01",
          "2024-02",
          "2024-03",
          "2024-04",
          "2024-05",
          "2024-06",
          "2024-07",
          "2024-08",
          "2024-09",
          "2024-10",
          "2024-11",
          "2024-12",
          "2024-13",
          "2024-14",
          "2024-15",
          "2024-16",
          "2024-17",
          "2024-18",
          "2024-19",
          "2024-20",
          "2024-21",
          "2024-22",
          "2024-23",
          "2024-24"
         ],
         "xaxis": "x",
         "y": [
          0.9037770556522569,
          0.9244290645403277,
          0.9146041919361207,
          0.9040098144404985,
          0.9360155192186326,
          0.9589492262081314,
          0.9613134258461433,
          0.9569741631728745,
          1.1872809323507378,
          0.9342147111686856,
          0.932639395554764,
          0.9295224960421411,
          0.9257982690622533,
          0.8998119199131176,
          0.9094562989354527,
          0.9303899608133139,
          0.9410392294646791,
          0.9441273284318349,
          0.9227262046312424,
          0.9365059280374226,
          0.9189376674971726,
          0.8951235035289081,
          0.9065317803478945,
          0.8897814335713565,
          0.9080951827019104
         ],
         "yaxis": "y"
        },
        {
         "hovertemplate": "Variables=pi_q1<br>Year-Week=%{x}<br>Values=%{y}<extra></extra>",
         "legendgroup": "pi_q1",
         "line": {
          "color": "#636efa",
          "dash": "solid"
         },
         "mode": "lines",
         "name": "pi_q1",
         "orientation": "v",
         "showlegend": true,
         "type": "scatter",
         "x": [
          "2024-00",
          "2024-01",
          "2024-02",
          "2024-03",
          "2024-04",
          "2024-05",
          "2024-06",
          "2024-07",
          "2024-08",
          "2024-09",
          "2024-10",
          "2024-11",
          "2024-12",
          "2024-13",
          "2024-14",
          "2024-15",
          "2024-16",
          "2024-17",
          "2024-18",
          "2024-19",
          "2024-20",
          "2024-21",
          "2024-22",
          "2024-23",
          "2024-24"
         ],
         "xaxis": "x",
         "y": [
          0.8943152163319894,
          0.9036594711432724,
          0.9069138738120269,
          0.8940887829597726,
          0.9408328518026683,
          0.9462625533903911,
          0.9437759936320519,
          0.9407410013427054,
          0.9203798180883834,
          0.9156968002173189,
          0.930489254810388,
          0.9334666166640974,
          0.9239091438115241,
          0.9041880808995939,
          0.9116271093960505,
          0.9296819107456816,
          0.9390249016783367,
          0.9321206148425848,
          0.9114319282459626,
          0.9355649375079635,
          0.9230053730923221,
          0.899378255337327,
          0.8989486533566091,
          0.8733840467256055,
          0.8972321442306614
         ],
         "yaxis": "y"
        },
        {
         "hovertemplate": "Variables=npi_q1<br>Year-Week=%{x}<br>Values=%{y}<extra></extra>",
         "legendgroup": "npi_q1",
         "line": {
          "color": "#EF553B",
          "dash": "solid"
         },
         "mode": "lines",
         "name": "npi_q1",
         "orientation": "v",
         "showlegend": true,
         "type": "scatter",
         "x": [
          "2024-00",
          "2024-01",
          "2024-02",
          "2024-03",
          "2024-04",
          "2024-05",
          "2024-06",
          "2024-07",
          "2024-08",
          "2024-09",
          "2024-10",
          "2024-11",
          "2024-12",
          "2024-13",
          "2024-14",
          "2024-15",
          "2024-16",
          "2024-17",
          "2024-18",
          "2024-19",
          "2024-20",
          "2024-21",
          "2024-22",
          "2024-23",
          "2024-24"
         ],
         "xaxis": "x",
         "y": [
          0.8541433719598889,
          0.8703401860195931,
          0.869816371479633,
          0.8632647255810985,
          0.8908960223290023,
          0.9109650593399813,
          0.9043016992721025,
          0.8937332073596669,
          0.8758115096798561,
          0.8790885060754376,
          0.8918021507077692,
          0.8921385713561925,
          0.8808300298374516,
          0.8610543438073553,
          0.8679052026062823,
          0.8857972160139929,
          0.899659235278509,
          0.9013098491020213,
          0.8786361295772278,
          0.8882484403498913,
          0.8842043040754992,
          0.8618537730667345,
          0.8746181571528021,
          0.8547764021745674,
          0.8806136017171718
         ],
         "yaxis": "y"
        }
       ],
       "layout": {
        "legend": {
         "title": {
          "text": "Variables"
         },
         "tracegroupgap": 0
        },
        "template": {
         "data": {
          "bar": [
           {
            "error_x": {
             "color": "#2a3f5f"
            },
            "error_y": {
             "color": "#2a3f5f"
            },
            "marker": {
             "line": {
              "color": "#E5ECF6",
              "width": 0.5
             }
            },
            "type": "bar"
           }
          ],
          "barpolar": [
           {
            "marker": {
             "line": {
              "color": "#E5ECF6",
              "width": 0.5
             }
            },
            "type": "barpolar"
           }
          ],
          "carpet": [
           {
            "aaxis": {
             "endlinecolor": "#2a3f5f",
             "gridcolor": "white",
             "linecolor": "white",
             "minorgridcolor": "white",
             "startlinecolor": "#2a3f5f"
            },
            "baxis": {
             "endlinecolor": "#2a3f5f",
             "gridcolor": "white",
             "linecolor": "white",
             "minorgridcolor": "white",
             "startlinecolor": "#2a3f5f"
            },
            "type": "carpet"
           }
          ],
          "choropleth": [
           {
            "colorbar": {
             "outlinewidth": 0,
             "ticks": ""
            },
            "type": "choropleth"
           }
          ],
          "contour": [
           {
            "colorbar": {
             "outlinewidth": 0,
             "ticks": ""
            },
            "colorscale": [
             [
              0,
              "#0d0887"
             ],
             [
              0.1111111111111111,
              "#46039f"
             ],
             [
              0.2222222222222222,
              "#7201a8"
             ],
             [
              0.3333333333333333,
              "#9c179e"
             ],
             [
              0.4444444444444444,
              "#bd3786"
             ],
             [
              0.5555555555555556,
              "#d8576b"
             ],
             [
              0.6666666666666666,
              "#ed7953"
             ],
             [
              0.7777777777777778,
              "#fb9f3a"
             ],
             [
              0.8888888888888888,
              "#fdca26"
             ],
             [
              1,
              "#f0f921"
             ]
            ],
            "type": "contour"
           }
          ],
          "contourcarpet": [
           {
            "colorbar": {
             "outlinewidth": 0,
             "ticks": ""
            },
            "type": "contourcarpet"
           }
          ],
          "heatmap": [
           {
            "colorbar": {
             "outlinewidth": 0,
             "ticks": ""
            },
            "colorscale": [
             [
              0,
              "#0d0887"
             ],
             [
              0.1111111111111111,
              "#46039f"
             ],
             [
              0.2222222222222222,
              "#7201a8"
             ],
             [
              0.3333333333333333,
              "#9c179e"
             ],
             [
              0.4444444444444444,
              "#bd3786"
             ],
             [
              0.5555555555555556,
              "#d8576b"
             ],
             [
              0.6666666666666666,
              "#ed7953"
             ],
             [
              0.7777777777777778,
              "#fb9f3a"
             ],
             [
              0.8888888888888888,
              "#fdca26"
             ],
             [
              1,
              "#f0f921"
             ]
            ],
            "type": "heatmap"
           }
          ],
          "heatmapgl": [
           {
            "colorbar": {
             "outlinewidth": 0,
             "ticks": ""
            },
            "colorscale": [
             [
              0,
              "#0d0887"
             ],
             [
              0.1111111111111111,
              "#46039f"
             ],
             [
              0.2222222222222222,
              "#7201a8"
             ],
             [
              0.3333333333333333,
              "#9c179e"
             ],
             [
              0.4444444444444444,
              "#bd3786"
             ],
             [
              0.5555555555555556,
              "#d8576b"
             ],
             [
              0.6666666666666666,
              "#ed7953"
             ],
             [
              0.7777777777777778,
              "#fb9f3a"
             ],
             [
              0.8888888888888888,
              "#fdca26"
             ],
             [
              1,
              "#f0f921"
             ]
            ],
            "type": "heatmapgl"
           }
          ],
          "histogram": [
           {
            "marker": {
             "colorbar": {
              "outlinewidth": 0,
              "ticks": ""
             }
            },
            "type": "histogram"
           }
          ],
          "histogram2d": [
           {
            "colorbar": {
             "outlinewidth": 0,
             "ticks": ""
            },
            "colorscale": [
             [
              0,
              "#0d0887"
             ],
             [
              0.1111111111111111,
              "#46039f"
             ],
             [
              0.2222222222222222,
              "#7201a8"
             ],
             [
              0.3333333333333333,
              "#9c179e"
             ],
             [
              0.4444444444444444,
              "#bd3786"
             ],
             [
              0.5555555555555556,
              "#d8576b"
             ],
             [
              0.6666666666666666,
              "#ed7953"
             ],
             [
              0.7777777777777778,
              "#fb9f3a"
             ],
             [
              0.8888888888888888,
              "#fdca26"
             ],
             [
              1,
              "#f0f921"
             ]
            ],
            "type": "histogram2d"
           }
          ],
          "histogram2dcontour": [
           {
            "colorbar": {
             "outlinewidth": 0,
             "ticks": ""
            },
            "colorscale": [
             [
              0,
              "#0d0887"
             ],
             [
              0.1111111111111111,
              "#46039f"
             ],
             [
              0.2222222222222222,
              "#7201a8"
             ],
             [
              0.3333333333333333,
              "#9c179e"
             ],
             [
              0.4444444444444444,
              "#bd3786"
             ],
             [
              0.5555555555555556,
              "#d8576b"
             ],
             [
              0.6666666666666666,
              "#ed7953"
             ],
             [
              0.7777777777777778,
              "#fb9f3a"
             ],
             [
              0.8888888888888888,
              "#fdca26"
             ],
             [
              1,
              "#f0f921"
             ]
            ],
            "type": "histogram2dcontour"
           }
          ],
          "mesh3d": [
           {
            "colorbar": {
             "outlinewidth": 0,
             "ticks": ""
            },
            "type": "mesh3d"
           }
          ],
          "parcoords": [
           {
            "line": {
             "colorbar": {
              "outlinewidth": 0,
              "ticks": ""
             }
            },
            "type": "parcoords"
           }
          ],
          "pie": [
           {
            "automargin": true,
            "type": "pie"
           }
          ],
          "scatter": [
           {
            "marker": {
             "colorbar": {
              "outlinewidth": 0,
              "ticks": ""
             }
            },
            "type": "scatter"
           }
          ],
          "scatter3d": [
           {
            "line": {
             "colorbar": {
              "outlinewidth": 0,
              "ticks": ""
             }
            },
            "marker": {
             "colorbar": {
              "outlinewidth": 0,
              "ticks": ""
             }
            },
            "type": "scatter3d"
           }
          ],
          "scattercarpet": [
           {
            "marker": {
             "colorbar": {
              "outlinewidth": 0,
              "ticks": ""
             }
            },
            "type": "scattercarpet"
           }
          ],
          "scattergeo": [
           {
            "marker": {
             "colorbar": {
              "outlinewidth": 0,
              "ticks": ""
             }
            },
            "type": "scattergeo"
           }
          ],
          "scattergl": [
           {
            "marker": {
             "colorbar": {
              "outlinewidth": 0,
              "ticks": ""
             }
            },
            "type": "scattergl"
           }
          ],
          "scattermapbox": [
           {
            "marker": {
             "colorbar": {
              "outlinewidth": 0,
              "ticks": ""
             }
            },
            "type": "scattermapbox"
           }
          ],
          "scatterpolar": [
           {
            "marker": {
             "colorbar": {
              "outlinewidth": 0,
              "ticks": ""
             }
            },
            "type": "scatterpolar"
           }
          ],
          "scatterpolargl": [
           {
            "marker": {
             "colorbar": {
              "outlinewidth": 0,
              "ticks": ""
             }
            },
            "type": "scatterpolargl"
           }
          ],
          "scatterternary": [
           {
            "marker": {
             "colorbar": {
              "outlinewidth": 0,
              "ticks": ""
             }
            },
            "type": "scatterternary"
           }
          ],
          "surface": [
           {
            "colorbar": {
             "outlinewidth": 0,
             "ticks": ""
            },
            "colorscale": [
             [
              0,
              "#0d0887"
             ],
             [
              0.1111111111111111,
              "#46039f"
             ],
             [
              0.2222222222222222,
              "#7201a8"
             ],
             [
              0.3333333333333333,
              "#9c179e"
             ],
             [
              0.4444444444444444,
              "#bd3786"
             ],
             [
              0.5555555555555556,
              "#d8576b"
             ],
             [
              0.6666666666666666,
              "#ed7953"
             ],
             [
              0.7777777777777778,
              "#fb9f3a"
             ],
             [
              0.8888888888888888,
              "#fdca26"
             ],
             [
              1,
              "#f0f921"
             ]
            ],
            "type": "surface"
           }
          ],
          "table": [
           {
            "cells": {
             "fill": {
              "color": "#EBF0F8"
             },
             "line": {
              "color": "white"
             }
            },
            "header": {
             "fill": {
              "color": "#C8D4E3"
             },
             "line": {
              "color": "white"
             }
            },
            "type": "table"
           }
          ]
         },
         "layout": {
          "annotationdefaults": {
           "arrowcolor": "#2a3f5f",
           "arrowhead": 0,
           "arrowwidth": 1
          },
          "autotypenumbers": "strict",
          "coloraxis": {
           "colorbar": {
            "outlinewidth": 0,
            "ticks": ""
           }
          },
          "colorscale": {
           "diverging": [
            [
             0,
             "#8e0152"
            ],
            [
             0.1,
             "#c51b7d"
            ],
            [
             0.2,
             "#de77ae"
            ],
            [
             0.3,
             "#f1b6da"
            ],
            [
             0.4,
             "#fde0ef"
            ],
            [
             0.5,
             "#f7f7f7"
            ],
            [
             0.6,
             "#e6f5d0"
            ],
            [
             0.7,
             "#b8e186"
            ],
            [
             0.8,
             "#7fbc41"
            ],
            [
             0.9,
             "#4d9221"
            ],
            [
             1,
             "#276419"
            ]
           ],
           "sequential": [
            [
             0,
             "#0d0887"
            ],
            [
             0.1111111111111111,
             "#46039f"
            ],
            [
             0.2222222222222222,
             "#7201a8"
            ],
            [
             0.3333333333333333,
             "#9c179e"
            ],
            [
             0.4444444444444444,
             "#bd3786"
            ],
            [
             0.5555555555555556,
             "#d8576b"
            ],
            [
             0.6666666666666666,
             "#ed7953"
            ],
            [
             0.7777777777777778,
             "#fb9f3a"
            ],
            [
             0.8888888888888888,
             "#fdca26"
            ],
            [
             1,
             "#f0f921"
            ]
           ],
           "sequentialminus": [
            [
             0,
             "#0d0887"
            ],
            [
             0.1111111111111111,
             "#46039f"
            ],
            [
             0.2222222222222222,
             "#7201a8"
            ],
            [
             0.3333333333333333,
             "#9c179e"
            ],
            [
             0.4444444444444444,
             "#bd3786"
            ],
            [
             0.5555555555555556,
             "#d8576b"
            ],
            [
             0.6666666666666666,
             "#ed7953"
            ],
            [
             0.7777777777777778,
             "#fb9f3a"
            ],
            [
             0.8888888888888888,
             "#fdca26"
            ],
            [
             1,
             "#f0f921"
            ]
           ]
          },
          "colorway": [
           "#636efa",
           "#EF553B",
           "#00cc96",
           "#ab63fa",
           "#FFA15A",
           "#19d3f3",
           "#FF6692",
           "#B6E880",
           "#FF97FF",
           "#FECB52"
          ],
          "font": {
           "color": "#2a3f5f"
          },
          "geo": {
           "bgcolor": "white",
           "lakecolor": "white",
           "landcolor": "#E5ECF6",
           "showlakes": true,
           "showland": true,
           "subunitcolor": "white"
          },
          "hoverlabel": {
           "align": "left"
          },
          "hovermode": "closest",
          "mapbox": {
           "style": "light"
          },
          "paper_bgcolor": "white",
          "plot_bgcolor": "#E5ECF6",
          "polar": {
           "angularaxis": {
            "gridcolor": "white",
            "linecolor": "white",
            "ticks": ""
           },
           "bgcolor": "#E5ECF6",
           "radialaxis": {
            "gridcolor": "white",
            "linecolor": "white",
            "ticks": ""
           }
          },
          "scene": {
           "xaxis": {
            "backgroundcolor": "#E5ECF6",
            "gridcolor": "white",
            "gridwidth": 2,
            "linecolor": "white",
            "showbackground": true,
            "ticks": "",
            "zerolinecolor": "white"
           },
           "yaxis": {
            "backgroundcolor": "#E5ECF6",
            "gridcolor": "white",
            "gridwidth": 2,
            "linecolor": "white",
            "showbackground": true,
            "ticks": "",
            "zerolinecolor": "white"
           },
           "zaxis": {
            "backgroundcolor": "#E5ECF6",
            "gridcolor": "white",
            "gridwidth": 2,
            "linecolor": "white",
            "showbackground": true,
            "ticks": "",
            "zerolinecolor": "white"
           }
          },
          "shapedefaults": {
           "line": {
            "color": "#2a3f5f"
           }
          },
          "ternary": {
           "aaxis": {
            "gridcolor": "white",
            "linecolor": "white",
            "ticks": ""
           },
           "baxis": {
            "gridcolor": "white",
            "linecolor": "white",
            "ticks": ""
           },
           "bgcolor": "#E5ECF6",
           "caxis": {
            "gridcolor": "white",
            "linecolor": "white",
            "ticks": ""
           }
          },
          "title": {
           "x": 0.05
          },
          "xaxis": {
           "automargin": true,
           "gridcolor": "white",
           "linecolor": "white",
           "ticks": "",
           "title": {
            "standoff": 15
           },
           "zerolinecolor": "white",
           "zerolinewidth": 2
          },
          "yaxis": {
           "automargin": true,
           "gridcolor": "white",
           "linecolor": "white",
           "ticks": "",
           "title": {
            "standoff": 15
           },
           "zerolinecolor": "white",
           "zerolinewidth": 2
          }
         }
        },
        "title": {
         "text": "Data for BHZ"
        },
        "xaxis": {
         "anchor": "y",
         "categoryarray": [
          "2024-00",
          "2024-01",
          "2024-02",
          "2024-03",
          "2024-04",
          "2024-05",
          "2024-06",
          "2024-07",
          "2024-08",
          "2024-09",
          "2024-10",
          "2024-11",
          "2024-12",
          "2024-13",
          "2024-14",
          "2024-15",
          "2024-16",
          "2024-17",
          "2024-18",
          "2024-19",
          "2024-20",
          "2024-21",
          "2024-22",
          "2024-23",
          "2024-24"
         ],
         "categoryorder": "array",
         "domain": [
          0,
          1
         ],
         "title": {
          "text": "Year-Week"
         }
        },
        "yaxis": {
         "anchor": "x",
         "domain": [
          0,
          1
         ],
         "title": {
          "text": "Values"
         }
        }
       }
      },
      "text/html": [
       "<div>                            <div id=\"80d00aa8-95b3-4fa2-9975-b65491d42ab5\" class=\"plotly-graph-div\" style=\"height:525px; width:100%;\"></div>            <script type=\"text/javascript\">                require([\"plotly\"], function(Plotly) {                    window.PLOTLYENV=window.PLOTLYENV || {};                                    if (document.getElementById(\"80d00aa8-95b3-4fa2-9975-b65491d42ab5\")) {                    Plotly.newPlot(                        \"80d00aa8-95b3-4fa2-9975-b65491d42ab5\",                        [{\"hovertemplate\": \"Variables=gmv_mix<br>Year-Week=%{x}<br>Values=%{y}<extra></extra>\", \"legendgroup\": \"gmv_mix\", \"line\": {\"color\": \"#636efa\", \"dash\": \"solid\"}, \"mode\": \"lines\", \"name\": \"gmv_mix\", \"orientation\": \"v\", \"showlegend\": true, \"type\": \"scatter\", \"x\": [\"2024-00\", \"2024-01\", \"2024-02\", \"2024-03\", \"2024-04\", \"2024-05\", \"2024-06\", \"2024-07\", \"2024-08\", \"2024-09\", \"2024-10\", \"2024-11\", \"2024-12\", \"2024-13\", \"2024-14\", \"2024-15\", \"2024-16\", \"2024-17\", \"2024-18\", \"2024-19\", \"2024-20\", \"2024-21\", \"2024-22\", \"2024-23\", \"2024-24\"], \"xaxis\": \"x\", \"y\": [0.8755728517085771, 0.892181074178355, 0.8989172208881089, 0.8902236031451823, 0.921887657342908, 0.9260191752147306, 0.9095010635150784, 0.9048829995075353, 0.8888103449277034, 0.904195732743392, 0.908724743482639, 0.9060649581953498, 0.8992980208881396, 0.8749887820405762, 0.8822070908806245, 0.9022779241299521, 0.920297627380664, 0.9122808726795693, 0.8895467527787124, 0.9182233743259154, 0.9002123005229388, 0.8732998700487964, 0.8861956568996845, 0.8688176958766334, 0.888023586277668], \"yaxis\": \"y\"}, {\"hovertemplate\": \"Variables=mg<br>Year-Week=%{x}<br>Values=%{y}<extra></extra>\", \"legendgroup\": \"mg\", \"line\": {\"color\": \"#EF553B\", \"dash\": \"solid\"}, \"mode\": \"lines\", \"name\": \"mg\", \"orientation\": \"v\", \"showlegend\": true, \"type\": \"scatter\", \"x\": [\"2024-00\", \"2024-01\", \"2024-02\", \"2024-03\", \"2024-04\", \"2024-05\", \"2024-06\", \"2024-07\", \"2024-08\", \"2024-09\", \"2024-10\", \"2024-11\", \"2024-12\", \"2024-13\", \"2024-14\", \"2024-15\", \"2024-16\", \"2024-17\", \"2024-18\", \"2024-19\", \"2024-20\", \"2024-21\", \"2024-22\", \"2024-23\", \"2024-24\"], \"xaxis\": \"x\", \"y\": [0.09390552319364404, 0.0914015029600315, 0.08807212370664652, 0.08241900168502492, 0.09268894660805357, 0.09475162365016848, 0.09825308742178095, 0.09496614132421491, 0.09765337452537909, 0.08692538041245218, 0.0917073564862301, 0.09153782873160292, 0.09107527834914722, 0.09018708302770576, 0.09724627415836326, 0.0923949114461928, 0.0870934868685572, 0.0867640831593385, 0.09224952950616004, 0.09796836992440752, 0.10671991049378203, 0.10747821860351758, 0.10049929986623216, 0.09480564087244281, 0.09622255778197712], \"yaxis\": \"y\"}, {\"hovertemplate\": \"Variables=nmg<br>Year-Week=%{x}<br>Values=%{y}<extra></extra>\", \"legendgroup\": \"nmg\", \"line\": {\"color\": \"#00cc96\", \"dash\": \"solid\"}, \"mode\": \"lines\", \"name\": \"nmg\", \"orientation\": \"v\", \"showlegend\": true, \"type\": \"scatter\", \"x\": [\"2024-00\", \"2024-01\", \"2024-02\", \"2024-03\", \"2024-04\", \"2024-05\", \"2024-06\", \"2024-07\", \"2024-08\", \"2024-09\", \"2024-10\", \"2024-11\", \"2024-12\", \"2024-13\", \"2024-14\", \"2024-15\", \"2024-16\", \"2024-17\", \"2024-18\", \"2024-19\", \"2024-20\", \"2024-21\", \"2024-22\", \"2024-23\", \"2024-24\"], \"xaxis\": \"x\", \"y\": [0.05587591955891681, 0.058399653178686714, 0.049422375613461675, 0.05282748166623127, 0.037599932537988816, 0.061516449931639114, 0.061143180427199365, 0.05055305149725203, 0.054960134748990315, 0.05011960002576196, 0.05392443831484406, 0.05056806153722663, 0.047425812946770146, 0.0479627312835373, 0.054500220700057604, 0.04894317197366413, 0.04845662196817532, 0.057002348098692, 0.06053142753111558, 0.0503951174206496, 0.06925825279096456, 0.07174398561415268, 0.0763156027863349, 0.0759889212127934, 0.07972693017996486], \"yaxis\": \"y\"}, {\"hovertemplate\": \"Variables=comp_min<br>Year-Week=%{x}<br>Values=%{y}<extra></extra>\", \"legendgroup\": \"comp_min\", \"line\": {\"color\": \"#ab63fa\", \"dash\": \"solid\"}, \"mode\": \"lines\", \"name\": \"comp_min\", \"orientation\": \"v\", \"showlegend\": true, \"type\": \"scatter\", \"x\": [\"2024-00\", \"2024-01\", \"2024-02\", \"2024-03\", \"2024-04\", \"2024-05\", \"2024-06\", \"2024-07\", \"2024-08\", \"2024-09\", \"2024-10\", \"2024-11\", \"2024-12\", \"2024-13\", \"2024-14\", \"2024-15\", \"2024-16\", \"2024-17\", \"2024-18\", \"2024-19\", \"2024-20\", \"2024-21\", \"2024-22\", \"2024-23\", \"2024-24\"], \"xaxis\": \"x\", \"y\": [0.05719753555260767, 0.0631248305530115, 0.06684427568245471, 0.06482791146459488, 0.059957303333698905, 0.051227704257824774, 0.045255374634889864, 0.03392356057852476, 0.05089986734779888, 0.0554952600362596, 0.06150442453952203, 0.05571152463869556, 0.05758569843480594, 0.054361323739560555, 0.05637945063605014, 0.05217662493521748, 0.04821051427762907, 0.058093557794759165, 0.061404630675175986, 0.06831258680805662, 0.07762661366433565, 0.07920694929599023, 0.08894785925010176, 0.08660585435465482, 0.07254994319668147], \"yaxis\": \"y\"}, {\"hovertemplate\": \"Variables=comp_q0<br>Year-Week=%{x}<br>Values=%{y}<extra></extra>\", \"legendgroup\": \"comp_q0\", \"line\": {\"color\": \"#FFA15A\", \"dash\": \"solid\"}, \"mode\": \"lines\", \"name\": \"comp_q0\", \"orientation\": \"v\", \"showlegend\": true, \"type\": \"scatter\", \"x\": [\"2024-00\", \"2024-01\", \"2024-02\", \"2024-03\", \"2024-04\", \"2024-05\", \"2024-06\", \"2024-07\", \"2024-08\", \"2024-09\", \"2024-10\", \"2024-11\", \"2024-12\", \"2024-13\", \"2024-14\", \"2024-15\", \"2024-16\", \"2024-17\", \"2024-18\", \"2024-19\", \"2024-20\", \"2024-21\", \"2024-22\", \"2024-23\", \"2024-24\"], \"xaxis\": \"x\", \"y\": [0.031234653618106657, 0.03180455634213518, 0.03980169757544445, 0.04138625726186176, 0.03436235693071977, 0.03187512389506923, 0.013726014598697427, 0.0011556073935914662, -0.24015345984466746, 0.02337827625481078, 0.03441110956251038, 0.032653065773458875, 0.02796276963806232, 0.028390661311660858, 0.032752892741508444, 0.0260572533133467, 0.03215402221427406, 0.02989522143401511, 0.03256855789842003, 0.03706644727403562, 0.05577511276834698, 0.05568519869258065, 0.0606975270748374, 0.05817293706638235, 0.06257363524431407], \"yaxis\": \"y\"}, {\"hovertemplate\": \"Variables=comp_q1<br>Year-Week=%{x}<br>Values=%{y}<extra></extra>\", \"legendgroup\": \"comp_q1\", \"line\": {\"color\": \"#19d3f3\", \"dash\": \"solid\"}, \"mode\": \"lines\", \"name\": \"comp_q1\", \"orientation\": \"v\", \"showlegend\": true, \"type\": \"scatter\", \"x\": [\"2024-00\", \"2024-01\", \"2024-02\", \"2024-03\", \"2024-04\", \"2024-05\", \"2024-06\", \"2024-07\", \"2024-08\", \"2024-09\", \"2024-10\", \"2024-11\", \"2024-12\", \"2024-13\", \"2024-14\", \"2024-15\", \"2024-16\", \"2024-17\", \"2024-18\", \"2024-19\", \"2024-20\", \"2024-21\", \"2024-22\", \"2024-23\", \"2024-24\"], \"xaxis\": \"x\", \"y\": [0.07655553586199386, 0.08092883200281464, 0.08063981378506355, 0.0786787573569266, 0.07510118501861647, 0.07575641326076596, 0.06599090205556547, 0.06008596951431987, 0.06930298611408145, 0.07561108777192575, 0.07185133182471613, 0.06701714443575554, 0.069825154540747, 0.06426181827157769, 0.07111529688925272, 0.0683429565786606, 0.07081501557768254, 0.06957396032024145, 0.07320399168329005, 0.0826413048523338, 0.08749064637035261, 0.08584327069903125, 0.08957868226967121, 0.09003760393279991, 0.08728847287097138], \"yaxis\": \"y\"}, {\"hovertemplate\": \"Variables=pi_min<br>Year-Week=%{x}<br>Values=%{y}<extra></extra>\", \"legendgroup\": \"pi_min\", \"line\": {\"color\": \"#FF6692\", \"dash\": \"solid\"}, \"mode\": \"lines\", \"name\": \"pi_min\", \"orientation\": \"v\", \"showlegend\": true, \"type\": \"scatter\", \"x\": [\"2024-00\", \"2024-01\", \"2024-02\", \"2024-03\", \"2024-04\", \"2024-05\", \"2024-06\", \"2024-07\", \"2024-08\", \"2024-09\", \"2024-10\", \"2024-11\", \"2024-12\", \"2024-13\", \"2024-14\", \"2024-15\", \"2024-16\", \"2024-17\", \"2024-18\", \"2024-19\", \"2024-20\", \"2024-21\", \"2024-22\", \"2024-23\", \"2024-24\"], \"xaxis\": \"x\", \"y\": [0.9167022878058362, 0.9238559271184614, 0.9226340786865317, 0.9100437806433022, 0.9579733535799769, 0.9735524743742988, 0.9673663360322955, 0.9696322378313555, 0.9413761654395852, 0.9386836684913406, 0.9425692519229881, 0.9463231341382443, 0.9381948174978558, 0.9161358481183819, 0.9293777445347062, 0.9479825129241983, 0.963826280883772, 0.9453857161434573, 0.9253912880538121, 0.9520677740080847, 0.9346748716669089, 0.9071129146174182, 0.8991647419387344, 0.8773655411515009, 0.9140473818194318], \"yaxis\": \"y\"}, {\"hovertemplate\": \"Variables=npi_min<br>Year-Week=%{x}<br>Values=%{y}<extra></extra>\", \"legendgroup\": \"npi_min\", \"line\": {\"color\": \"#B6E880\", \"dash\": \"solid\"}, \"mode\": \"lines\", \"name\": \"npi_min\", \"orientation\": \"v\", \"showlegend\": true, \"type\": \"scatter\", \"x\": [\"2024-00\", \"2024-01\", \"2024-02\", \"2024-03\", \"2024-04\", \"2024-05\", \"2024-06\", \"2024-07\", \"2024-08\", \"2024-09\", \"2024-10\", \"2024-11\", \"2024-12\", \"2024-13\", \"2024-14\", \"2024-15\", \"2024-16\", \"2024-17\", \"2024-18\", \"2024-19\", \"2024-20\", \"2024-21\", \"2024-22\", \"2024-23\", \"2024-24\"], \"xaxis\": \"x\", \"y\": [0.8755878970890418, 0.8896394510910738, 0.8851626561399015, 0.8786824012551109, 0.907244843936266, 0.937245737808734, 0.9271330001636107, 0.9209661680128146, 0.8954611322898862, 0.9009604509146232, 0.9035954017748011, 0.9046723643261741, 0.8946233477366006, 0.87233838898314, 0.8850286989129623, 0.9035096365383356, 0.9235820627648557, 0.9145794648609604, 0.8920492272450573, 0.9038495261678727, 0.8952647191754687, 0.8692605464708765, 0.8749366574420918, 0.8588583576896037, 0.8973099585330859], \"yaxis\": \"y\"}, {\"hovertemplate\": \"Variables=pi_q0<br>Year-Week=%{x}<br>Values=%{y}<extra></extra>\", \"legendgroup\": \"pi_q0\", \"line\": {\"color\": \"#FF97FF\", \"dash\": \"solid\"}, \"mode\": \"lines\", \"name\": \"pi_q0\", \"orientation\": \"v\", \"showlegend\": true, \"type\": \"scatter\", \"x\": [\"2024-00\", \"2024-01\", \"2024-02\", \"2024-03\", \"2024-04\", \"2024-05\", \"2024-06\", \"2024-07\", \"2024-08\", \"2024-09\", \"2024-10\", \"2024-11\", \"2024-12\", \"2024-13\", \"2024-14\", \"2024-15\", \"2024-16\", \"2024-17\", \"2024-18\", \"2024-19\", \"2024-20\", \"2024-21\", \"2024-22\", \"2024-23\", \"2024-24\"], \"xaxis\": \"x\", \"y\": [0.9458953588484178, 0.9599826603958362, 0.9535050113932801, 0.9360921934597043, 0.987393957078401, 0.9958182062986481, 1.0023871367586084, 1.0060868223413162, 1.2570867677400361, 0.9737076236366904, 0.972955332974556, 0.972521317637765, 0.9716930144535296, 0.9451156858759276, 0.9557461506725564, 0.9768868183619797, 0.9823099364164608, 0.9764372465115103, 0.956908624437215, 0.9864980337621536, 0.9590589943088027, 0.933581058494748, 0.9312898477581517, 0.9091032713435012, 0.9252026864964202], \"yaxis\": \"y\"}, {\"hovertemplate\": \"Variables=npi_q0<br>Year-Week=%{x}<br>Values=%{y}<extra></extra>\", \"legendgroup\": \"npi_q0\", \"line\": {\"color\": \"#FECB52\", \"dash\": \"solid\"}, \"mode\": \"lines\", \"name\": \"npi_q0\", \"orientation\": \"v\", \"showlegend\": true, \"type\": \"scatter\", \"x\": [\"2024-00\", \"2024-01\", \"2024-02\", \"2024-03\", \"2024-04\", \"2024-05\", \"2024-06\", \"2024-07\", \"2024-08\", \"2024-09\", \"2024-10\", \"2024-11\", \"2024-12\", \"2024-13\", \"2024-14\", \"2024-15\", \"2024-16\", \"2024-17\", \"2024-18\", \"2024-19\", \"2024-20\", \"2024-21\", \"2024-22\", \"2024-23\", \"2024-24\"], \"xaxis\": \"x\", \"y\": [0.9037770556522569, 0.9244290645403277, 0.9146041919361207, 0.9040098144404985, 0.9360155192186326, 0.9589492262081314, 0.9613134258461433, 0.9569741631728745, 1.1872809323507378, 0.9342147111686856, 0.932639395554764, 0.9295224960421411, 0.9257982690622533, 0.8998119199131176, 0.9094562989354527, 0.9303899608133139, 0.9410392294646791, 0.9441273284318349, 0.9227262046312424, 0.9365059280374226, 0.9189376674971726, 0.8951235035289081, 0.9065317803478945, 0.8897814335713565, 0.9080951827019104], \"yaxis\": \"y\"}, {\"hovertemplate\": \"Variables=pi_q1<br>Year-Week=%{x}<br>Values=%{y}<extra></extra>\", \"legendgroup\": \"pi_q1\", \"line\": {\"color\": \"#636efa\", \"dash\": \"solid\"}, \"mode\": \"lines\", \"name\": \"pi_q1\", \"orientation\": \"v\", \"showlegend\": true, \"type\": \"scatter\", \"x\": [\"2024-00\", \"2024-01\", \"2024-02\", \"2024-03\", \"2024-04\", \"2024-05\", \"2024-06\", \"2024-07\", \"2024-08\", \"2024-09\", \"2024-10\", \"2024-11\", \"2024-12\", \"2024-13\", \"2024-14\", \"2024-15\", \"2024-16\", \"2024-17\", \"2024-18\", \"2024-19\", \"2024-20\", \"2024-21\", \"2024-22\", \"2024-23\", \"2024-24\"], \"xaxis\": \"x\", \"y\": [0.8943152163319894, 0.9036594711432724, 0.9069138738120269, 0.8940887829597726, 0.9408328518026683, 0.9462625533903911, 0.9437759936320519, 0.9407410013427054, 0.9203798180883834, 0.9156968002173189, 0.930489254810388, 0.9334666166640974, 0.9239091438115241, 0.9041880808995939, 0.9116271093960505, 0.9296819107456816, 0.9390249016783367, 0.9321206148425848, 0.9114319282459626, 0.9355649375079635, 0.9230053730923221, 0.899378255337327, 0.8989486533566091, 0.8733840467256055, 0.8972321442306614], \"yaxis\": \"y\"}, {\"hovertemplate\": \"Variables=npi_q1<br>Year-Week=%{x}<br>Values=%{y}<extra></extra>\", \"legendgroup\": \"npi_q1\", \"line\": {\"color\": \"#EF553B\", \"dash\": \"solid\"}, \"mode\": \"lines\", \"name\": \"npi_q1\", \"orientation\": \"v\", \"showlegend\": true, \"type\": \"scatter\", \"x\": [\"2024-00\", \"2024-01\", \"2024-02\", \"2024-03\", \"2024-04\", \"2024-05\", \"2024-06\", \"2024-07\", \"2024-08\", \"2024-09\", \"2024-10\", \"2024-11\", \"2024-12\", \"2024-13\", \"2024-14\", \"2024-15\", \"2024-16\", \"2024-17\", \"2024-18\", \"2024-19\", \"2024-20\", \"2024-21\", \"2024-22\", \"2024-23\", \"2024-24\"], \"xaxis\": \"x\", \"y\": [0.8541433719598889, 0.8703401860195931, 0.869816371479633, 0.8632647255810985, 0.8908960223290023, 0.9109650593399813, 0.9043016992721025, 0.8937332073596669, 0.8758115096798561, 0.8790885060754376, 0.8918021507077692, 0.8921385713561925, 0.8808300298374516, 0.8610543438073553, 0.8679052026062823, 0.8857972160139929, 0.899659235278509, 0.9013098491020213, 0.8786361295772278, 0.8882484403498913, 0.8842043040754992, 0.8618537730667345, 0.8746181571528021, 0.8547764021745674, 0.8806136017171718], \"yaxis\": \"y\"}],                        {\"legend\": {\"title\": {\"text\": \"Variables\"}, \"tracegroupgap\": 0}, \"template\": {\"data\": {\"bar\": [{\"error_x\": {\"color\": \"#2a3f5f\"}, \"error_y\": {\"color\": \"#2a3f5f\"}, \"marker\": {\"line\": {\"color\": \"#E5ECF6\", \"width\": 0.5}}, \"type\": \"bar\"}], \"barpolar\": [{\"marker\": {\"line\": {\"color\": \"#E5ECF6\", \"width\": 0.5}}, \"type\": \"barpolar\"}], \"carpet\": [{\"aaxis\": {\"endlinecolor\": \"#2a3f5f\", \"gridcolor\": \"white\", \"linecolor\": \"white\", \"minorgridcolor\": \"white\", \"startlinecolor\": \"#2a3f5f\"}, \"baxis\": {\"endlinecolor\": \"#2a3f5f\", \"gridcolor\": \"white\", \"linecolor\": \"white\", \"minorgridcolor\": \"white\", \"startlinecolor\": \"#2a3f5f\"}, \"type\": \"carpet\"}], \"choropleth\": [{\"colorbar\": {\"outlinewidth\": 0, \"ticks\": \"\"}, \"type\": \"choropleth\"}], \"contour\": [{\"colorbar\": {\"outlinewidth\": 0, \"ticks\": \"\"}, \"colorscale\": [[0.0, \"#0d0887\"], [0.1111111111111111, \"#46039f\"], [0.2222222222222222, \"#7201a8\"], [0.3333333333333333, \"#9c179e\"], [0.4444444444444444, \"#bd3786\"], [0.5555555555555556, \"#d8576b\"], [0.6666666666666666, \"#ed7953\"], [0.7777777777777778, \"#fb9f3a\"], [0.8888888888888888, \"#fdca26\"], [1.0, \"#f0f921\"]], \"type\": \"contour\"}], \"contourcarpet\": [{\"colorbar\": {\"outlinewidth\": 0, \"ticks\": \"\"}, \"type\": \"contourcarpet\"}], \"heatmap\": [{\"colorbar\": {\"outlinewidth\": 0, \"ticks\": \"\"}, \"colorscale\": [[0.0, \"#0d0887\"], [0.1111111111111111, \"#46039f\"], [0.2222222222222222, \"#7201a8\"], [0.3333333333333333, \"#9c179e\"], [0.4444444444444444, \"#bd3786\"], [0.5555555555555556, \"#d8576b\"], [0.6666666666666666, \"#ed7953\"], [0.7777777777777778, \"#fb9f3a\"], [0.8888888888888888, \"#fdca26\"], [1.0, \"#f0f921\"]], \"type\": \"heatmap\"}], \"heatmapgl\": [{\"colorbar\": {\"outlinewidth\": 0, \"ticks\": \"\"}, \"colorscale\": [[0.0, \"#0d0887\"], [0.1111111111111111, \"#46039f\"], [0.2222222222222222, \"#7201a8\"], [0.3333333333333333, \"#9c179e\"], [0.4444444444444444, \"#bd3786\"], [0.5555555555555556, \"#d8576b\"], [0.6666666666666666, \"#ed7953\"], [0.7777777777777778, \"#fb9f3a\"], [0.8888888888888888, \"#fdca26\"], [1.0, \"#f0f921\"]], \"type\": \"heatmapgl\"}], \"histogram\": [{\"marker\": {\"colorbar\": {\"outlinewidth\": 0, \"ticks\": \"\"}}, \"type\": \"histogram\"}], \"histogram2d\": [{\"colorbar\": {\"outlinewidth\": 0, \"ticks\": \"\"}, \"colorscale\": [[0.0, \"#0d0887\"], [0.1111111111111111, \"#46039f\"], [0.2222222222222222, \"#7201a8\"], [0.3333333333333333, \"#9c179e\"], [0.4444444444444444, \"#bd3786\"], [0.5555555555555556, \"#d8576b\"], [0.6666666666666666, \"#ed7953\"], [0.7777777777777778, \"#fb9f3a\"], [0.8888888888888888, \"#fdca26\"], [1.0, \"#f0f921\"]], \"type\": \"histogram2d\"}], \"histogram2dcontour\": [{\"colorbar\": {\"outlinewidth\": 0, \"ticks\": \"\"}, \"colorscale\": [[0.0, \"#0d0887\"], [0.1111111111111111, \"#46039f\"], [0.2222222222222222, \"#7201a8\"], [0.3333333333333333, \"#9c179e\"], [0.4444444444444444, \"#bd3786\"], [0.5555555555555556, \"#d8576b\"], [0.6666666666666666, \"#ed7953\"], [0.7777777777777778, \"#fb9f3a\"], [0.8888888888888888, \"#fdca26\"], [1.0, \"#f0f921\"]], \"type\": \"histogram2dcontour\"}], \"mesh3d\": [{\"colorbar\": {\"outlinewidth\": 0, \"ticks\": \"\"}, \"type\": \"mesh3d\"}], \"parcoords\": [{\"line\": {\"colorbar\": {\"outlinewidth\": 0, \"ticks\": \"\"}}, \"type\": \"parcoords\"}], \"pie\": [{\"automargin\": true, \"type\": \"pie\"}], \"scatter\": [{\"marker\": {\"colorbar\": {\"outlinewidth\": 0, \"ticks\": \"\"}}, \"type\": \"scatter\"}], \"scatter3d\": [{\"line\": {\"colorbar\": {\"outlinewidth\": 0, \"ticks\": \"\"}}, \"marker\": {\"colorbar\": {\"outlinewidth\": 0, \"ticks\": \"\"}}, \"type\": \"scatter3d\"}], \"scattercarpet\": [{\"marker\": {\"colorbar\": {\"outlinewidth\": 0, \"ticks\": \"\"}}, \"type\": \"scattercarpet\"}], \"scattergeo\": [{\"marker\": {\"colorbar\": {\"outlinewidth\": 0, \"ticks\": \"\"}}, \"type\": \"scattergeo\"}], \"scattergl\": [{\"marker\": {\"colorbar\": {\"outlinewidth\": 0, \"ticks\": \"\"}}, \"type\": \"scattergl\"}], \"scattermapbox\": [{\"marker\": {\"colorbar\": {\"outlinewidth\": 0, \"ticks\": \"\"}}, \"type\": \"scattermapbox\"}], \"scatterpolar\": [{\"marker\": {\"colorbar\": {\"outlinewidth\": 0, \"ticks\": \"\"}}, \"type\": \"scatterpolar\"}], \"scatterpolargl\": [{\"marker\": {\"colorbar\": {\"outlinewidth\": 0, \"ticks\": \"\"}}, \"type\": \"scatterpolargl\"}], \"scatterternary\": [{\"marker\": {\"colorbar\": {\"outlinewidth\": 0, \"ticks\": \"\"}}, \"type\": \"scatterternary\"}], \"surface\": [{\"colorbar\": {\"outlinewidth\": 0, \"ticks\": \"\"}, \"colorscale\": [[0.0, \"#0d0887\"], [0.1111111111111111, \"#46039f\"], [0.2222222222222222, \"#7201a8\"], [0.3333333333333333, \"#9c179e\"], [0.4444444444444444, \"#bd3786\"], [0.5555555555555556, \"#d8576b\"], [0.6666666666666666, \"#ed7953\"], [0.7777777777777778, \"#fb9f3a\"], [0.8888888888888888, \"#fdca26\"], [1.0, \"#f0f921\"]], \"type\": \"surface\"}], \"table\": [{\"cells\": {\"fill\": {\"color\": \"#EBF0F8\"}, \"line\": {\"color\": \"white\"}}, \"header\": {\"fill\": {\"color\": \"#C8D4E3\"}, \"line\": {\"color\": \"white\"}}, \"type\": \"table\"}]}, \"layout\": {\"annotationdefaults\": {\"arrowcolor\": \"#2a3f5f\", \"arrowhead\": 0, \"arrowwidth\": 1}, \"autotypenumbers\": \"strict\", \"coloraxis\": {\"colorbar\": {\"outlinewidth\": 0, \"ticks\": \"\"}}, \"colorscale\": {\"diverging\": [[0, \"#8e0152\"], [0.1, \"#c51b7d\"], [0.2, \"#de77ae\"], [0.3, \"#f1b6da\"], [0.4, \"#fde0ef\"], [0.5, \"#f7f7f7\"], [0.6, \"#e6f5d0\"], [0.7, \"#b8e186\"], [0.8, \"#7fbc41\"], [0.9, \"#4d9221\"], [1, \"#276419\"]], \"sequential\": [[0.0, \"#0d0887\"], [0.1111111111111111, \"#46039f\"], [0.2222222222222222, \"#7201a8\"], [0.3333333333333333, \"#9c179e\"], [0.4444444444444444, \"#bd3786\"], [0.5555555555555556, \"#d8576b\"], [0.6666666666666666, \"#ed7953\"], [0.7777777777777778, \"#fb9f3a\"], [0.8888888888888888, \"#fdca26\"], [1.0, \"#f0f921\"]], \"sequentialminus\": [[0.0, \"#0d0887\"], [0.1111111111111111, \"#46039f\"], [0.2222222222222222, \"#7201a8\"], [0.3333333333333333, \"#9c179e\"], [0.4444444444444444, \"#bd3786\"], [0.5555555555555556, \"#d8576b\"], [0.6666666666666666, \"#ed7953\"], [0.7777777777777778, \"#fb9f3a\"], [0.8888888888888888, \"#fdca26\"], [1.0, \"#f0f921\"]]}, \"colorway\": [\"#636efa\", \"#EF553B\", \"#00cc96\", \"#ab63fa\", \"#FFA15A\", \"#19d3f3\", \"#FF6692\", \"#B6E880\", \"#FF97FF\", \"#FECB52\"], \"font\": {\"color\": \"#2a3f5f\"}, \"geo\": {\"bgcolor\": \"white\", \"lakecolor\": \"white\", \"landcolor\": \"#E5ECF6\", \"showlakes\": true, \"showland\": true, \"subunitcolor\": \"white\"}, \"hoverlabel\": {\"align\": \"left\"}, \"hovermode\": \"closest\", \"mapbox\": {\"style\": \"light\"}, \"paper_bgcolor\": \"white\", \"plot_bgcolor\": \"#E5ECF6\", \"polar\": {\"angularaxis\": {\"gridcolor\": \"white\", \"linecolor\": \"white\", \"ticks\": \"\"}, \"bgcolor\": \"#E5ECF6\", \"radialaxis\": {\"gridcolor\": \"white\", \"linecolor\": \"white\", \"ticks\": \"\"}}, \"scene\": {\"xaxis\": {\"backgroundcolor\": \"#E5ECF6\", \"gridcolor\": \"white\", \"gridwidth\": 2, \"linecolor\": \"white\", \"showbackground\": true, \"ticks\": \"\", \"zerolinecolor\": \"white\"}, \"yaxis\": {\"backgroundcolor\": \"#E5ECF6\", \"gridcolor\": \"white\", \"gridwidth\": 2, \"linecolor\": \"white\", \"showbackground\": true, \"ticks\": \"\", \"zerolinecolor\": \"white\"}, \"zaxis\": {\"backgroundcolor\": \"#E5ECF6\", \"gridcolor\": \"white\", \"gridwidth\": 2, \"linecolor\": \"white\", \"showbackground\": true, \"ticks\": \"\", \"zerolinecolor\": \"white\"}}, \"shapedefaults\": {\"line\": {\"color\": \"#2a3f5f\"}}, \"ternary\": {\"aaxis\": {\"gridcolor\": \"white\", \"linecolor\": \"white\", \"ticks\": \"\"}, \"baxis\": {\"gridcolor\": \"white\", \"linecolor\": \"white\", \"ticks\": \"\"}, \"bgcolor\": \"#E5ECF6\", \"caxis\": {\"gridcolor\": \"white\", \"linecolor\": \"white\", \"ticks\": \"\"}}, \"title\": {\"x\": 0.05}, \"xaxis\": {\"automargin\": true, \"gridcolor\": \"white\", \"linecolor\": \"white\", \"ticks\": \"\", \"title\": {\"standoff\": 15}, \"zerolinecolor\": \"white\", \"zerolinewidth\": 2}, \"yaxis\": {\"automargin\": true, \"gridcolor\": \"white\", \"linecolor\": \"white\", \"ticks\": \"\", \"title\": {\"standoff\": 15}, \"zerolinecolor\": \"white\", \"zerolinewidth\": 2}}}, \"title\": {\"text\": \"Data for BHZ\"}, \"xaxis\": {\"anchor\": \"y\", \"categoryarray\": [\"2024-00\", \"2024-01\", \"2024-02\", \"2024-03\", \"2024-04\", \"2024-05\", \"2024-06\", \"2024-07\", \"2024-08\", \"2024-09\", \"2024-10\", \"2024-11\", \"2024-12\", \"2024-13\", \"2024-14\", \"2024-15\", \"2024-16\", \"2024-17\", \"2024-18\", \"2024-19\", \"2024-20\", \"2024-21\", \"2024-22\", \"2024-23\", \"2024-24\"], \"categoryorder\": \"array\", \"domain\": [0.0, 1.0], \"title\": {\"text\": \"Year-Week\"}}, \"yaxis\": {\"anchor\": \"x\", \"domain\": [0.0, 1.0], \"title\": {\"text\": \"Values\"}}},                        {\"responsive\": true}                    ).then(function(){\n",
       "                            \n",
       "var gd = document.getElementById('80d00aa8-95b3-4fa2-9975-b65491d42ab5');\n",
       "var x = new MutationObserver(function (mutations, observer) {{\n",
       "        var display = window.getComputedStyle(gd).display;\n",
       "        if (!display || display === 'none') {{\n",
       "            console.log([gd, 'removed!']);\n",
       "            Plotly.purge(gd);\n",
       "            observer.disconnect();\n",
       "        }}\n",
       "}});\n",
       "\n",
       "// Listen for the removal of the full notebook cells\n",
       "var notebookContainer = gd.closest('#notebook-container');\n",
       "if (notebookContainer) {{\n",
       "    x.observe(notebookContainer, {childList: true});\n",
       "}}\n",
       "\n",
       "// Listen for the clearing of the current output cell\n",
       "var outputEl = gd.closest('.output');\n",
       "if (outputEl) {{\n",
       "    x.observe(outputEl, {childList: true});\n",
       "}}\n",
       "\n",
       "                        })                };                });            </script>        </div>"
      ]
     },
     "metadata": {},
     "output_type": "display_data"
    },
    {
     "data": {
      "text/plain": [
       "<function __main__.plot_city_data(city)>"
      ]
     },
     "execution_count": 42,
     "metadata": {},
     "output_type": "execute_result"
    }
   ],
   "source": [
    "import pandas as pd\n",
    "import plotly.express as px\n",
    "import ipywidgets as widgets\n",
    "from ipywidgets import interact\n",
    "\n",
    "# Assuming df_final2 is your DataFrame with 'year_week' as a categorical string\n",
    "# Ensure 'year_week' is treated as categorical\n",
    "df_final2['year_week'] = df_final2['year_week'].astype('category')\n",
    "\n",
    "# Function to plot data for a single city with numerical variables\n",
    "def plot_city_data(city):\n",
    "    fig = px.line(df_final2[df_final2['city'] == city], x='year_week',\n",
    "                  y=['gmv_mix', 'mg', 'nmg', 'comp_min', 'comp_q0', 'comp_q1',\n",
    "                     'pi_min', 'npi_min', 'pi_q0', 'npi_q0', 'pi_q1', 'npi_q1'],\n",
    "                  title=f'Data for {city}',\n",
    "                  labels={'value': 'Values', 'variable': 'Variables', 'year_week': 'Year-Week'},\n",
    "                  category_orders={'year_week': df_final2['year_week'].unique()})\n",
    "\n",
    "    fig.update_layout(xaxis_title='Year-Week', yaxis_title='Values')\n",
    "\n",
    "    fig.show()\n",
    "\n",
    "# Get unique city names\n",
    "city_names = pd.Series(df_final2.city.unique()).sort_values()\n",
    "\n",
    "# Create dropdown widget\n",
    "dropdown = widgets.Dropdown(options=city_names, description='Select City:')\n",
    "\n",
    "# Interact function to update plot based on dropdown selection\n",
    "interact(plot_city_data, city=dropdown)\n"
   ]
  },
  {
   "cell_type": "code",
   "execution_count": 31,
   "metadata": {},
   "outputs": [],
   "source": [
    "df_final.to_excel(\"info_w.xlsx\")"
   ]
  },
  {
   "cell_type": "code",
   "execution_count": 32,
   "metadata": {},
   "outputs": [],
   "source": [
    "df_final2.to_excel(\"info_w2.xlsx\")"
   ]
  }
 ],
 "metadata": {
  "kernelspec": {
   "display_name": "Python 3",
   "language": "python",
   "name": "python3"
  },
  "language_info": {
   "codemirror_mode": {
    "name": "ipython",
    "version": 3
   },
   "file_extension": ".py",
   "mimetype": "text/x-python",
   "name": "python",
   "nbconvert_exporter": "python",
   "pygments_lexer": "ipython3",
   "version": "3.7.9"
  }
 },
 "nbformat": 4,
 "nbformat_minor": 2
}
