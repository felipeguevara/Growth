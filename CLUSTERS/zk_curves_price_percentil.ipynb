{
 "cells": [
  {
   "cell_type": "code",
   "execution_count": 1,
   "metadata": {},
   "outputs": [],
   "source": [
    "#//----------------------------\n",
    "#//LIBRARIES\n",
    "    #Math\n",
    "import math\n",
    "    #Numeric Python\n",
    "import numpy as np\n",
    "    #Pandas (dataframes)\n",
    "import pandas as pd\n",
    "    #datetime for fate manipulation\n",
    "from datetime import date, datetime, timedelta  \n",
    "    #Regex for advanced string matching\n",
    "import re\n",
    "    #for time related stuff\n",
    "import time \n",
    "    #json library\n",
    "import json\n",
    "    #Analyst tools\n",
    "import sys\n",
    "sys.path.append('../')\n",
    "from analysts_tools.growth import *\n",
    "    #Procurement tools\n",
    "from procurement_lib import send_slack_notification\n",
    "from procurement_lib import redash\n",
    "from analysts_tools.redash_methods import *\n",
    "from analystcommunity.read_connection_data_warehouse import run_read_dwd_query\n",
    "\n",
    "import random\n",
    "import time\n",
    "import datetime\n",
    "\n",
    "import seaborn as sns\n",
    "import matplotlib.pyplot as plt\n",
    "from scipy import stats\n",
    "\n",
    "from procurement_lib import GoogleSheet"
   ]
  },
  {
   "cell_type": "code",
   "execution_count": 34,
   "metadata": {},
   "outputs": [],
   "source": [
    "df_gtin = GoogleSheet(\"1TBAwmxAoqg6FX79d7wLu3DVtIiOb6gRfkN5fMA_tLNc\")\n",
    "df_gtin = df_gtin.get_as_dataframe('Hoja 1')"
   ]
  },
  {
   "cell_type": "code",
   "execution_count": 36,
   "metadata": {},
   "outputs": [],
   "source": [
    "query = \"\"\"\n",
    "select\n",
    "    competitor.competitor_name,\n",
    "    site.identifier_value as site_code,\n",
    "    quotation_date.full_date AS quotation_date,\n",
    "    su.source_id,\n",
    "    ROUND(AVG(cpp.product_selected_price),2)::float as price\n",
    "from dpr_product_pricing.fact_collected_product_prices cpp\n",
    "    inner join dpr_shared.dim_date quotation_date\n",
    "        on cpp.dim_quotation_date = quotation_date.date_id\n",
    "    inner join dpr_shared.dim_time quotation_time\n",
    "        on cpp.dim_quotation_time = quotation_time.time_id\n",
    "    inner join dpr_shared.dim_site site\n",
    "        on cpp.dim_site = site.site_id\n",
    "    inner join dpr_shared.dim_category cat\n",
    "        on cpp.dim_category = cat.category_id\n",
    "    inner join dpr_product_pricing.dim_product_outlier_type outlier_type\n",
    "        on cpp.dim_outlier_type = outlier_type.outlier_type_id\n",
    "    inner join dpr_product_pricing.dim_product_source_type source_type\n",
    "        on cpp.dim_source_type = source_type.source_type_id\n",
    "    inner join dpr_product_pricing.dim_product_competitor competitor\n",
    "        on cpp.dim_competitor = competitor.competitor_id\n",
    "    inner join dpr_product_pricing.dim_product_competitor_type competitor_type\n",
    "        on(\n",
    "            case\n",
    "                when cpp.super_category = 'Fruver'\n",
    "                    then competitor.product_competitor_type_id_fruver = competitor_type.competitor_type_id\n",
    "                when cpp.super_category = 'Multicategoría'\n",
    "                    then competitor.product_competitor_type_id_multicategoria = competitor_type.competitor_type_id\n",
    "            end\n",
    "        )\n",
    "    inner join dpr_shared.dim_stock_unit su\n",
    "        on cpp.dim_stock_unit = su.stock_unit_id\n",
    "where quotation_date.full_date >= '2023-11-01'\n",
    "    AND quotation_date.full_date < '2024-06-01'\n",
    "    AND competitor.competitor_name NOT ILIKE '%cayena%'\n",
    "    AND su.source_id IN {skus}\n",
    "    AND site.identifier_value IN ('SPO','CWB','VCP','BHZ')\n",
    "GROUP BY 1,2,3,4\n",
    "\"\"\".format(skus=tuple(df_gtin.source_id.unique()))\n",
    "df_zkkkkk = run_read_dwd_query(query)"
   ]
  },
  {
   "cell_type": "code",
   "execution_count": 37,
   "metadata": {},
   "outputs": [],
   "source": [
    "df_zkkkkk = pd.merge(df_zkkkkk, df_gtin, left_on=['source_id','site_code'], right_on=['source_id','city'], how='left')\n",
    "df_zkkkkk = df_zkkkkk.drop(['city', 'GTIN'], axis=1)\n",
    "df_zkkkkk = df_zkkkkk.dropna().reset_index(drop=True)\n",
    "\n",
    "df_zkkkkk['lifetime'] = 8"
   ]
  },
  {
   "cell_type": "code",
   "execution_count": 38,
   "metadata": {},
   "outputs": [],
   "source": [
    "# Ensure dataframe is sorted by 'quotation_date'\n",
    "df_zkkkkk = df_zkkkkk.sort_values(by='quotation_date')\n",
    "\n",
    "# Generate the required rows for missing dates\n",
    "new_rows = []\n",
    "\n",
    "for (competitor, source_id), group in df_zkkkkk.groupby(['competitor_name', 'source_id']):\n",
    "    group = group.sort_values(by='quotation_date')\n",
    "    last_known_price = None\n",
    "    last_known_date = None\n",
    "    lifetime = 8\n",
    "    \n",
    "    for current_index in range(len(group)):\n",
    "        current_date = group.iloc[current_index]['quotation_date']\n",
    "        price = group.iloc[current_index]['price']\n",
    "        \n",
    "        # If this is not the first iteration, fill in missing dates\n",
    "        if last_known_date is not None:\n",
    "            days_diff = (current_date - last_known_date).days\n",
    "            if days_diff > 1:\n",
    "                for j in range(1, min(days_diff, lifetime + 1)):\n",
    "                    new_date = last_known_date + timedelta(days=j)\n",
    "                    new_row = {\n",
    "                        'site_code': group.iloc[current_index]['site_code'],\n",
    "                        'quotation_date': new_date,\n",
    "                        'competitor_name': competitor,\n",
    "                        'source_id': source_id,\n",
    "                        'product_name': group.iloc[current_index]['product_name'],\n",
    "                        'price': last_known_price,\n",
    "                        'lifetime': lifetime - j\n",
    "                    }\n",
    "                    new_rows.append(new_row)\n",
    "                    \n",
    "                    # Stop if we reach a new datapoint date\n",
    "                    if new_date + timedelta(days=1) == current_date:\n",
    "                        break\n",
    "        \n",
    "        # Update the last known values and reset lifetime\n",
    "        last_known_price = price\n",
    "        last_known_date = current_date\n",
    "        lifetime = 8  # Reset lifetime\n",
    "\n",
    "    # After processing all known dates for the group, continue generating rows until lifetime reaches 0\n",
    "    while lifetime > 0:\n",
    "        last_known_date += timedelta(days=1)\n",
    "        new_row = {\n",
    "            'site_code': group.iloc[-1]['site_code'],\n",
    "            'quotation_date': last_known_date,\n",
    "            'competitor_name': competitor,\n",
    "            'source_id': source_id,\n",
    "            'product_name': group.iloc[-1]['product_name'],\n",
    "            'price': last_known_price,\n",
    "            'lifetime': lifetime - 1\n",
    "        }\n",
    "        new_rows.append(new_row)\n",
    "        lifetime -= 1\n",
    "\n",
    "# Append new rows to the dataframe\n",
    "df_zkkkkk = df_zkkkkk.append(new_rows, ignore_index=True)\n",
    "\n",
    "# Sort the final dataframe\n",
    "df_zkkkkk = df_zkkkkk.sort_values(by=['competitor_name', 'source_id', 'quotation_date'])\n",
    "df_zkkkkk['replica'] = df_zkkkkk['lifetime'] == 8"
   ]
  },
  {
   "cell_type": "code",
   "execution_count": 42,
   "metadata": {},
   "outputs": [],
   "source": [
    "#df_zkkkkk.to_csv(\"info_zk_estadistic.csv\",index=False)"
   ]
  },
  {
   "cell_type": "code",
   "execution_count": 16,
   "metadata": {},
   "outputs": [],
   "source": [
    "df_bench = pd.read_csv(\"info_zk_estadistic.csv\")\n",
    "df_bench['quotation_date'] = pd.to_datetime(df_bench['quotation_date'])"
   ]
  },
  {
   "cell_type": "code",
   "execution_count": 21,
   "metadata": {},
   "outputs": [],
   "source": [
    "df_bench.groupby('source_id').agg({'competitor_name': lambda x: x.nunique()}).reset_index().to_excel(\"competidores_zk.xlsx\")"
   ]
  },
  {
   "cell_type": "code",
   "execution_count": 40,
   "metadata": {},
   "outputs": [],
   "source": [
    "query = \"\"\"\n",
    "SELECT\n",
    "    s.identifier_value AS region_code,\n",
    "    DATE(fs.order_submitted_date) AS quotation_date,\n",
    "    cat.parent_description AS cat,\n",
    "    sup.source_id,\n",
    "    sup.description AS product_name,\n",
    "    SUM(fs.product_quantity_x_step_unit) AS cant,\n",
    "    (SUM(fs.product_price*fs.product_quantity_x_step_unit)/cant)::float AS precio,\n",
    "    (SUM(fs.product_price_discount*fs.product_quantity_x_step_unit)/cant)::float AS precio_neto,\n",
    "    SUM(gmv_pxq)::float AS gmv_usd\n",
    "\n",
    "\n",
    "FROM dpr_sales.fact_sales                   fs\n",
    "INNER JOIN dpr_shared.dim_site              s   ON s.site_id = fs.dim_site\n",
    "INNER JOIN dpr_shared.dim_product           dp  ON dp.product_id = fs.dim_product\n",
    "INNER JOIN dpr_shared.dim_category          cat ON cat.category_id = dp.category_id\n",
    "LEFT JOIN dpr_sales.fact_sales_discounts    fsd ON fs.order_item_id = fsd.order_item_id \n",
    "INNER JOIN dpr_shared.dim_stock_unit        su  ON su.product_id = fs.dim_product\n",
    "INNER JOIN dpr_shared.dim_stock_unit        sup  ON nvl(nullif(su.source_parent_id,0),su.source_id) = sup.source_id\n",
    "\n",
    "WHERE \n",
    "    fs.gmv_enabled = TRUE\n",
    "    AND fulfillment_order_status NOT IN ('CANCELLED', 'ARCHIVED','No value')\n",
    "    AND fs.fb_order_status_id IN (1,6,7,8)\n",
    "    AND fs.is_deleted = FALSE\n",
    "    AND fs.dim_status = 1\n",
    "    AND dp.is_slot = 'false'\n",
    "    AND fs.gmv_pxq_local > 0\n",
    "    AND sup.source_id IN {skus}\n",
    "    AND cat.super_category <> 'Fruver'\n",
    "    AND s.identifier_value IN ('SPO','CWB','VCP','BHZ')\n",
    "    AND DATE(fs.order_submitted_date) >= '2023-11-01'\n",
    "    AND DATE(fs.order_submitted_date) < '2024-06-01'\n",
    "\n",
    "GROUP BY 1,2,3,4,5\n",
    "\"\"\".format(skus=tuple(df.source_id.unique()))\n",
    "df = run_read_dwd_query(query)\n",
    "df['quotation_date'] = pd.to_datetime(df['quotation_date'])"
   ]
  },
  {
   "cell_type": "code",
   "execution_count": 45,
   "metadata": {},
   "outputs": [],
   "source": [
    "# Función para calcular el percentil\n",
    "def calcular_percentil(row, bench_df):\n",
    "    source_id = row['source_id']\n",
    "    quotation_date = row['quotation_date']\n",
    "    precio = row['precio_neto']\n",
    "    \n",
    "    # Filtrar precios de referencia por source_id y quotation_date\n",
    "    bench_precios = bench_df[(bench_df['source_id'] == source_id) & (bench_df['quotation_date'] == quotation_date)]['price']\n",
    "    \n",
    "    # Si no hay datos de referencia para ese source_id y quotation_date, devolver NaN\n",
    "    if bench_precios.empty:\n",
    "        return np.nan\n",
    "    \n",
    "    # Convertir a un array de numpy\n",
    "    bench_precios = bench_precios.to_numpy(dtype=np.float64)\n",
    "    \n",
    "    # Manejo de valores por encima del máximo y por debajo del mínimo\n",
    "    if precio < np.min(bench_precios):\n",
    "        return -100*(1-(precio/np.min(bench_precios))) # Percentil mínimo\n",
    "    elif precio > np.max(bench_precios):\n",
    "        return 100*(precio/np.max(bench_precios)) # Percentil maximo\n",
    "    \n",
    "    # Calcular el percentil\n",
    "    percentil = stats.percentileofscore(bench_precios, precio)\n",
    "    return percentil\n",
    "\n",
    "# Aplicar la función a cada fila de df\n",
    "df['percentil'] = df.apply(calcular_percentil, axis=1, bench_df=df_bench)"
   ]
  },
  {
   "cell_type": "code",
   "execution_count": 46,
   "metadata": {},
   "outputs": [],
   "source": [
    "df = df.dropna().reset_index(drop=True)"
   ]
  },
  {
   "cell_type": "code",
   "execution_count": 47,
   "metadata": {},
   "outputs": [],
   "source": [
    "# df.to_csv(\"all_percentile_data.csv\", index=False)"
   ]
  },
  {
   "cell_type": "code",
   "execution_count": 15,
   "metadata": {},
   "outputs": [],
   "source": [
    "query = \"\"\"\n",
    "SELECT\n",
    "    DATE(fs.order_submitted_date) AS quotation_date,\n",
    "    sup.source_id,\n",
    "    SUM(fs.gmv_pxq) AS gmv_usd,\n",
    "    SUM(COALESCE(fsd.product_discount,0))/4.75 AS discount_applied,\n",
    "    ((1-(SUM(inventory_p_fin*fs.product_quantity_x_step_unit)/gmv_usd))*100.00)::float AS margin,\n",
    "    (margin-(100.00*discount_applied/gmv_usd))::float AS net_margin\n",
    "    \n",
    "FROM dpr_sales.fact_sales                   fs\n",
    "INNER JOIN dpr_shared.dim_site              s   ON s.site_id = fs.dim_site\n",
    "INNER JOIN dpr_shared.dim_product           dp  ON dp.product_id = fs.dim_product\n",
    "INNER JOIN dpr_shared.dim_category          cat ON cat.category_id = dp.category_id\n",
    "LEFT JOIN dpr_sales.fact_sales_discounts    fsd ON fs.order_item_id = fsd.order_item_id \n",
    "INNER JOIN dpr_shared.dim_stock_unit        su  ON su.product_id = fs.dim_product\n",
    "INNER JOIN dpr_shared.dim_stock_unit        sup  ON nvl(nullif(su.source_parent_id,0),su.source_id) = sup.source_id\n",
    "LEFT JOIN dpr_cross_business.obt_cross_business m ON m.stock_unit_id = sup.stock_unit_id AND DATE(m.close_date-1) = DATE(fs.order_submitted_date)\n",
    "\n",
    "WHERE \n",
    "    fs.gmv_enabled = TRUE\n",
    "    AND fulfillment_order_status NOT IN ('CANCELLED', 'ARCHIVED','No value')\n",
    "    AND fs.fb_order_status_id IN (1,6,7,8)\n",
    "    AND fs.is_deleted = FALSE\n",
    "    AND fs.dim_status = 1\n",
    "    AND dp.is_slot = 'false'\n",
    "    AND sup.source_id IN {skus}\n",
    "    AND cat.super_category = 'Multicategoría'\n",
    "    AND m.inventory_p_fin > 0\n",
    "    AND fs.gmv_pxq_local > 0\n",
    "    AND s.identifier_value IN ('SPO','CWB','VCP','BHZ')\n",
    "    AND fs.order_submitted_date >= '2023-11-01'\n",
    "    AND fs.order_submitted_date < '2024-06-01'\n",
    "GROUP BY 1,2\n",
    "\"\"\".format(skus=tuple(df.source_id.unique()))\n",
    "\n",
    "dfm = run_read_dwd_query(query)\n",
    "dfm['quotation_date'] = pd.to_datetime(dfm['quotation_date'])"
   ]
  },
  {
   "cell_type": "code",
   "execution_count": 17,
   "metadata": {},
   "outputs": [],
   "source": [
    "df4 = pd.merge(df, dfm[['quotation_date', 'source_id','margin','net_margin']], left_on=['quotation_date', 'source_id'], right_on=['quotation_date', 'source_id'], how='left')"
   ]
  },
  {
   "cell_type": "code",
   "execution_count": 18,
   "metadata": {},
   "outputs": [],
   "source": [
    "df4['cash_margin'] = df4.gmv_usd * df4.margin / 100.00\n",
    "df4['net_cash_margin'] = df4.gmv_usd * df4.net_margin / 100.00"
   ]
  },
  {
   "cell_type": "code",
   "execution_count": 20,
   "metadata": {},
   "outputs": [],
   "source": [
    "# df4.to_csv(\"all_percentile_data_margin.csv\", index=False)"
   ]
  },
  {
   "cell_type": "code",
   "execution_count": 2,
   "metadata": {},
   "outputs": [],
   "source": [
    "df = pd.read_csv(\"all_percentile_data_margin.csv\")\n",
    "df['quotation_date'] = pd.to_datetime(df['quotation_date'])"
   ]
  },
  {
   "cell_type": "code",
   "execution_count": 3,
   "metadata": {},
   "outputs": [],
   "source": [
    "# Calculate weighted average percentil\n",
    "weighted_avg_percentil = (\n",
    "    df.assign(weighted_percentil=df['percentil'] * df['gmv_usd'])\n",
    "    .groupby(['region_code','cat','source_id','product_name'])\n",
    "    .agg(weighted_sum=('weighted_percentil', 'sum'), gmv_usd_sum=('gmv_usd', 'sum'))\n",
    "    .assign(weighted_avg_percentil=lambda x: x['weighted_sum'] / x['gmv_usd_sum'])\n",
    "    .reset_index()\n",
    "    [['region_code','cat','source_id','product_name','gmv_usd_sum','weighted_avg_percentil']]\n",
    ")"
   ]
  },
  {
   "cell_type": "code",
   "execution_count": 12,
   "metadata": {},
   "outputs": [],
   "source": [
    "# weighted_avg_percentil.to_excel(\"percentilecity.xlsx\")"
   ]
  },
  {
   "cell_type": "code",
   "execution_count": 4,
   "metadata": {},
   "outputs": [],
   "source": [
    "df_B = pd.read_csv(\"grafica_B_zk.csv\")\n",
    "df_B['quotation_date'] = pd.to_datetime(df_B['quotation_date'])"
   ]
  },
  {
   "cell_type": "code",
   "execution_count": 5,
   "metadata": {},
   "outputs": [],
   "source": [
    "# Merge the DataFrames\n",
    "merged_df = pd.merge(df_B, df, left_on=['quotation_date', 'source_id'], right_on=['quotation_date', 'source_id'], how='left')\n",
    "merged_df['product_name'] = merged_df['region_code'] + ' || ' + merged_df['product_name_x']"
   ]
  },
  {
   "cell_type": "code",
   "execution_count": 6,
   "metadata": {},
   "outputs": [],
   "source": [
    "merged_df.to_excel(\"info_compete_zk.xlsx\",index=False)"
   ]
  },
  {
   "cell_type": "code",
   "execution_count": 22,
   "metadata": {},
   "outputs": [
    {
     "data": {
      "application/vnd.jupyter.widget-view+json": {
       "model_id": "271ecbe3fec644bda14797c8e943964a",
       "version_major": 2,
       "version_minor": 0
      },
      "text/plain": [
       "interactive(children=(Dropdown(description='Product Name:', options=('BHZ || Achocolatado em Pó Nescau 2.0 Sac…"
      ]
     },
     "metadata": {},
     "output_type": "display_data"
    },
    {
     "data": {
      "application/vnd.plotly.v1+json": {
       "config": {
        "plotlyServerURL": "https://plot.ly"
       },
       "data": [
        {
         "mode": "lines",
         "name": "Min",
         "type": "scatter",
         "x": [
          "2024-02-12T00:00:00",
          "2024-02-15T00:00:00",
          "2024-02-16T00:00:00",
          "2024-02-20T00:00:00",
          "2024-02-22T00:00:00",
          "2024-02-26T00:00:00",
          "2024-02-27T00:00:00",
          "2024-03-04T00:00:00",
          "2024-03-05T00:00:00",
          "2024-03-06T00:00:00",
          "2024-03-11T00:00:00",
          "2024-03-13T00:00:00",
          "2024-03-18T00:00:00",
          "2024-03-19T00:00:00",
          "2024-03-20T00:00:00",
          "2024-03-22T00:00:00",
          "2024-03-25T00:00:00",
          "2024-04-01T00:00:00",
          "2024-04-05T00:00:00",
          "2024-04-08T00:00:00",
          "2024-04-09T00:00:00",
          "2024-04-11T00:00:00",
          "2024-04-12T00:00:00",
          "2024-04-14T00:00:00",
          "2024-04-15T00:00:00",
          "2024-04-16T00:00:00",
          "2024-04-19T00:00:00",
          "2024-04-23T00:00:00",
          "2024-04-25T00:00:00",
          "2024-04-29T00:00:00",
          "2024-05-01T00:00:00",
          "2024-05-02T00:00:00",
          "2024-05-03T00:00:00",
          "2024-05-06T00:00:00",
          "2024-05-07T00:00:00",
          "2024-05-08T00:00:00",
          "2024-05-09T00:00:00",
          "2024-05-11T00:00:00",
          "2024-05-15T00:00:00",
          "2024-05-16T00:00:00",
          "2024-05-20T00:00:00",
          "2024-05-21T00:00:00",
          "2024-05-22T00:00:00",
          "2024-05-28T00:00:00",
          "2024-05-29T00:00:00"
         ],
         "y": [
          20.5,
          20.5,
          20.5,
          19.98,
          14.9,
          14.9,
          14.9,
          15.99,
          19.9,
          19.9,
          19.9,
          19.98,
          20.9,
          20.9,
          18.99,
          18.99,
          18.99,
          20.9,
          19.9,
          17.99,
          17.99,
          17.99,
          17.99,
          17.99,
          19.9,
          19.99,
          19.99,
          19.9,
          19.9,
          19.9,
          19.9,
          19.9,
          19.9,
          19.9,
          19.9,
          19.9,
          19.9,
          19.99,
          19.9,
          19.9,
          19.9,
          16.9,
          16.9,
          16.9,
          15.39
         ]
        },
        {
         "mode": "lines",
         "name": "Q1",
         "type": "scatter",
         "x": [
          "2024-02-12T00:00:00",
          "2024-02-15T00:00:00",
          "2024-02-16T00:00:00",
          "2024-02-20T00:00:00",
          "2024-02-22T00:00:00",
          "2024-02-26T00:00:00",
          "2024-02-27T00:00:00",
          "2024-03-04T00:00:00",
          "2024-03-05T00:00:00",
          "2024-03-06T00:00:00",
          "2024-03-11T00:00:00",
          "2024-03-13T00:00:00",
          "2024-03-18T00:00:00",
          "2024-03-19T00:00:00",
          "2024-03-20T00:00:00",
          "2024-03-22T00:00:00",
          "2024-03-25T00:00:00",
          "2024-04-01T00:00:00",
          "2024-04-05T00:00:00",
          "2024-04-08T00:00:00",
          "2024-04-09T00:00:00",
          "2024-04-11T00:00:00",
          "2024-04-12T00:00:00",
          "2024-04-14T00:00:00",
          "2024-04-15T00:00:00",
          "2024-04-16T00:00:00",
          "2024-04-19T00:00:00",
          "2024-04-23T00:00:00",
          "2024-04-25T00:00:00",
          "2024-04-29T00:00:00",
          "2024-05-01T00:00:00",
          "2024-05-02T00:00:00",
          "2024-05-03T00:00:00",
          "2024-05-06T00:00:00",
          "2024-05-07T00:00:00",
          "2024-05-08T00:00:00",
          "2024-05-09T00:00:00",
          "2024-05-11T00:00:00",
          "2024-05-15T00:00:00",
          "2024-05-16T00:00:00",
          "2024-05-20T00:00:00",
          "2024-05-21T00:00:00",
          "2024-05-22T00:00:00",
          "2024-05-28T00:00:00",
          "2024-05-29T00:00:00"
         ],
         "y": [
          20.7925,
          20.89,
          20.89,
          20.9,
          18.71,
          14.9,
          16.15,
          19.9,
          20.89,
          20.89,
          19.98,
          20.9,
          21.89,
          21.89,
          20.9,
          20.9,
          20.9,
          21.98,
          20.9,
          19.9,
          19.9,
          19.9,
          19.9,
          19.9,
          19.99,
          20.9,
          20.9,
          19.99,
          19.99,
          19.99,
          19.99,
          19.99,
          19.99,
          19.99,
          19.9,
          19.99,
          19.99,
          19.99,
          19.99,
          19.99,
          19.99,
          21.9,
          21.9,
          21.9,
          21.9
         ]
        },
        {
         "mode": "lines",
         "name": "P10",
         "type": "scatter",
         "x": [
          "2024-02-12T00:00:00",
          "2024-02-15T00:00:00",
          "2024-02-16T00:00:00",
          "2024-02-20T00:00:00",
          "2024-02-22T00:00:00",
          "2024-02-26T00:00:00",
          "2024-02-27T00:00:00",
          "2024-03-04T00:00:00",
          "2024-03-05T00:00:00",
          "2024-03-06T00:00:00",
          "2024-03-11T00:00:00",
          "2024-03-13T00:00:00",
          "2024-03-18T00:00:00",
          "2024-03-19T00:00:00",
          "2024-03-20T00:00:00",
          "2024-03-22T00:00:00",
          "2024-03-25T00:00:00",
          "2024-04-01T00:00:00",
          "2024-04-05T00:00:00",
          "2024-04-08T00:00:00",
          "2024-04-09T00:00:00",
          "2024-04-11T00:00:00",
          "2024-04-12T00:00:00",
          "2024-04-14T00:00:00",
          "2024-04-15T00:00:00",
          "2024-04-16T00:00:00",
          "2024-04-19T00:00:00",
          "2024-04-23T00:00:00",
          "2024-04-25T00:00:00",
          "2024-04-29T00:00:00",
          "2024-05-01T00:00:00",
          "2024-05-02T00:00:00",
          "2024-05-03T00:00:00",
          "2024-05-06T00:00:00",
          "2024-05-07T00:00:00",
          "2024-05-08T00:00:00",
          "2024-05-09T00:00:00",
          "2024-05-11T00:00:00",
          "2024-05-15T00:00:00",
          "2024-05-16T00:00:00",
          "2024-05-20T00:00:00",
          "2024-05-21T00:00:00",
          "2024-05-22T00:00:00",
          "2024-05-28T00:00:00",
          "2024-05-29T00:00:00"
         ],
         "y": [
          20.617,
          20.656,
          20.656,
          20.348,
          16.424,
          14.9,
          14.9,
          17.554,
          20.296,
          20.296,
          19.932,
          20.348,
          21.296,
          21.296,
          19.754,
          19.754,
          19.754,
          21.332,
          20.3,
          18.754,
          18.754,
          18.754,
          18.754,
          18.754,
          19.936,
          20.354,
          20.354,
          19.936,
          19.936,
          19.936,
          19.936,
          19.936,
          19.936,
          19.936,
          19.9,
          19.936,
          19.936,
          19.99,
          19.936,
          19.936,
          19.936,
          18.9,
          18.9,
          18.9,
          17.994
         ]
        },
        {
         "mode": "lines",
         "name": "Median",
         "type": "scatter",
         "x": [
          "2024-02-12T00:00:00",
          "2024-02-15T00:00:00",
          "2024-02-16T00:00:00",
          "2024-02-20T00:00:00",
          "2024-02-22T00:00:00",
          "2024-02-26T00:00:00",
          "2024-02-27T00:00:00",
          "2024-03-04T00:00:00",
          "2024-03-05T00:00:00",
          "2024-03-06T00:00:00",
          "2024-03-11T00:00:00",
          "2024-03-13T00:00:00",
          "2024-03-18T00:00:00",
          "2024-03-19T00:00:00",
          "2024-03-20T00:00:00",
          "2024-03-22T00:00:00",
          "2024-03-25T00:00:00",
          "2024-04-01T00:00:00",
          "2024-04-05T00:00:00",
          "2024-04-08T00:00:00",
          "2024-04-09T00:00:00",
          "2024-04-11T00:00:00",
          "2024-04-12T00:00:00",
          "2024-04-14T00:00:00",
          "2024-04-15T00:00:00",
          "2024-04-16T00:00:00",
          "2024-04-19T00:00:00",
          "2024-04-23T00:00:00",
          "2024-04-25T00:00:00",
          "2024-04-29T00:00:00",
          "2024-05-01T00:00:00",
          "2024-05-02T00:00:00",
          "2024-05-03T00:00:00",
          "2024-05-06T00:00:00",
          "2024-05-07T00:00:00",
          "2024-05-08T00:00:00",
          "2024-05-09T00:00:00",
          "2024-05-11T00:00:00",
          "2024-05-15T00:00:00",
          "2024-05-16T00:00:00",
          "2024-05-20T00:00:00",
          "2024-05-21T00:00:00",
          "2024-05-22T00:00:00",
          "2024-05-28T00:00:00",
          "2024-05-29T00:00:00"
         ],
         "y": [
          20.895,
          20.9,
          20.9,
          22.5,
          20.44,
          20.89,
          20.395,
          20.89,
          20.9,
          20.9,
          20.9,
          22.79,
          22.79,
          22.79,
          21.89,
          21.98,
          21.98,
          22.79,
          21.39,
          20.9,
          20.9,
          20.9,
          20.9,
          20.9,
          20.9,
          21.98,
          21.98,
          20.9,
          20.9,
          19.99,
          19.99,
          20.9,
          20.9,
          20.9,
          19.99,
          21.9,
          21.9,
          21.9,
          19.99,
          19.99,
          21.9,
          21.98,
          21.98,
          21.98,
          21.98
         ]
        },
        {
         "mode": "lines",
         "name": "Q3",
         "type": "scatter",
         "x": [
          "2024-02-12T00:00:00",
          "2024-02-15T00:00:00",
          "2024-02-16T00:00:00",
          "2024-02-20T00:00:00",
          "2024-02-22T00:00:00",
          "2024-02-26T00:00:00",
          "2024-02-27T00:00:00",
          "2024-03-04T00:00:00",
          "2024-03-05T00:00:00",
          "2024-03-06T00:00:00",
          "2024-03-11T00:00:00",
          "2024-03-13T00:00:00",
          "2024-03-18T00:00:00",
          "2024-03-19T00:00:00",
          "2024-03-20T00:00:00",
          "2024-03-22T00:00:00",
          "2024-03-25T00:00:00",
          "2024-04-01T00:00:00",
          "2024-04-05T00:00:00",
          "2024-04-08T00:00:00",
          "2024-04-09T00:00:00",
          "2024-04-11T00:00:00",
          "2024-04-12T00:00:00",
          "2024-04-14T00:00:00",
          "2024-04-15T00:00:00",
          "2024-04-16T00:00:00",
          "2024-04-19T00:00:00",
          "2024-04-23T00:00:00",
          "2024-04-25T00:00:00",
          "2024-04-29T00:00:00",
          "2024-05-01T00:00:00",
          "2024-05-02T00:00:00",
          "2024-05-03T00:00:00",
          "2024-05-06T00:00:00",
          "2024-05-07T00:00:00",
          "2024-05-08T00:00:00",
          "2024-05-09T00:00:00",
          "2024-05-11T00:00:00",
          "2024-05-15T00:00:00",
          "2024-05-16T00:00:00",
          "2024-05-20T00:00:00",
          "2024-05-21T00:00:00",
          "2024-05-22T00:00:00",
          "2024-05-28T00:00:00",
          "2024-05-29T00:00:00"
         ],
         "y": [
          21.3725,
          22.5,
          22.5,
          22.79,
          21.625,
          20.9,
          20.8975,
          20.9,
          22.79,
          22.79,
          22.79,
          22.9,
          22.9,
          22.9,
          22.79,
          22.79,
          22.79,
          22.9,
          21.98,
          21.98,
          21.98,
          21.98,
          21.98,
          21.98,
          21.98,
          22.9,
          22.9,
          21.98,
          21.98,
          20.9,
          20.9,
          21.98,
          21.98,
          21.98,
          21.9,
          21.9,
          21.9,
          21.9,
          21.9,
          21.9,
          21.98,
          22.5,
          22.5,
          22.5,
          22.5
         ]
        },
        {
         "mode": "lines",
         "name": "Max",
         "type": "scatter",
         "x": [
          "2024-02-12T00:00:00",
          "2024-02-15T00:00:00",
          "2024-02-16T00:00:00",
          "2024-02-20T00:00:00",
          "2024-02-22T00:00:00",
          "2024-02-26T00:00:00",
          "2024-02-27T00:00:00",
          "2024-03-04T00:00:00",
          "2024-03-05T00:00:00",
          "2024-03-06T00:00:00",
          "2024-03-11T00:00:00",
          "2024-03-13T00:00:00",
          "2024-03-18T00:00:00",
          "2024-03-19T00:00:00",
          "2024-03-20T00:00:00",
          "2024-03-22T00:00:00",
          "2024-03-25T00:00:00",
          "2024-04-01T00:00:00",
          "2024-04-05T00:00:00",
          "2024-04-08T00:00:00",
          "2024-04-09T00:00:00",
          "2024-04-11T00:00:00",
          "2024-04-12T00:00:00",
          "2024-04-14T00:00:00",
          "2024-04-15T00:00:00",
          "2024-04-16T00:00:00",
          "2024-04-19T00:00:00",
          "2024-04-23T00:00:00",
          "2024-04-25T00:00:00",
          "2024-04-29T00:00:00",
          "2024-05-01T00:00:00",
          "2024-05-02T00:00:00",
          "2024-05-03T00:00:00",
          "2024-05-06T00:00:00",
          "2024-05-07T00:00:00",
          "2024-05-08T00:00:00",
          "2024-05-09T00:00:00",
          "2024-05-11T00:00:00",
          "2024-05-15T00:00:00",
          "2024-05-16T00:00:00",
          "2024-05-20T00:00:00",
          "2024-05-21T00:00:00",
          "2024-05-22T00:00:00",
          "2024-05-28T00:00:00",
          "2024-05-29T00:00:00"
         ],
         "y": [
          22.79,
          22.79,
          22.79,
          23.8,
          23.8,
          23.8,
          23.8,
          23.8,
          23.8,
          23.8,
          23.8,
          23.8,
          23.8,
          23.8,
          23.8,
          23.8,
          23.8,
          23.8,
          23.8,
          23.8,
          23.8,
          22.9,
          22.9,
          22.9,
          22.9,
          22.9,
          22.9,
          22.9,
          22.9,
          22.9,
          22.9,
          22.9,
          22.9,
          22.9,
          22.9,
          22.9,
          22.9,
          22.9,
          22.5,
          22.5,
          22.5,
          22.99,
          22.99,
          22.99,
          22.99
         ]
        },
        {
         "connectgaps": true,
         "line": {
          "dash": "dash"
         },
         "marker": {
          "symbol": "circle"
         },
         "mode": "markers+lines",
         "name": "Sale Price",
         "type": "scatter",
         "x": [
          "2024-02-12T00:00:00",
          "2024-02-15T00:00:00",
          "2024-02-16T00:00:00",
          "2024-02-20T00:00:00",
          "2024-02-22T00:00:00",
          "2024-02-26T00:00:00",
          "2024-02-27T00:00:00",
          "2024-03-04T00:00:00",
          "2024-03-05T00:00:00",
          "2024-03-06T00:00:00",
          "2024-03-11T00:00:00",
          "2024-03-13T00:00:00",
          "2024-03-18T00:00:00",
          "2024-03-19T00:00:00",
          "2024-03-20T00:00:00",
          "2024-03-22T00:00:00",
          "2024-03-25T00:00:00",
          "2024-04-01T00:00:00",
          "2024-04-05T00:00:00",
          "2024-04-08T00:00:00",
          "2024-04-09T00:00:00",
          "2024-04-11T00:00:00",
          "2024-04-12T00:00:00",
          "2024-04-14T00:00:00",
          "2024-04-15T00:00:00",
          "2024-04-16T00:00:00",
          "2024-04-19T00:00:00",
          "2024-04-23T00:00:00",
          "2024-04-25T00:00:00",
          "2024-04-29T00:00:00",
          "2024-05-01T00:00:00",
          "2024-05-02T00:00:00",
          "2024-05-03T00:00:00",
          "2024-05-06T00:00:00",
          "2024-05-07T00:00:00",
          "2024-05-08T00:00:00",
          "2024-05-09T00:00:00",
          "2024-05-11T00:00:00",
          "2024-05-15T00:00:00",
          "2024-05-16T00:00:00",
          "2024-05-20T00:00:00",
          "2024-05-21T00:00:00",
          "2024-05-22T00:00:00",
          "2024-05-28T00:00:00",
          "2024-05-29T00:00:00"
         ],
         "y": [
          20.85,
          20.85,
          20.85,
          20.85,
          20.354,
          19.85,
          20.85,
          20.85,
          20.85,
          20.85,
          20.85,
          20.85,
          19.6,
          20.85,
          19.7388,
          20.85,
          19.7388,
          19.6,
          20.85,
          19.6961,
          20.85,
          19.7388,
          20.85,
          20.85,
          20.85,
          20.4366,
          20.85,
          20.85,
          20.85,
          19.6,
          19.6,
          20.85,
          20.85,
          20.354,
          20.85,
          20.85,
          20.85,
          23.4,
          23.4,
          23.4,
          23.4,
          23.4,
          22.7,
          24.11,
          24.11
         ]
        },
        {
         "connectgaps": true,
         "line": {
          "dash": "dash"
         },
         "marker": {
          "symbol": "circle"
         },
         "mode": "markers+lines",
         "name": "NET Sale Price",
         "type": "scatter",
         "x": [
          "2024-02-12T00:00:00",
          "2024-02-15T00:00:00",
          "2024-02-16T00:00:00",
          "2024-02-20T00:00:00",
          "2024-02-22T00:00:00",
          "2024-02-26T00:00:00",
          "2024-02-27T00:00:00",
          "2024-03-04T00:00:00",
          "2024-03-05T00:00:00",
          "2024-03-06T00:00:00",
          "2024-03-11T00:00:00",
          "2024-03-13T00:00:00",
          "2024-03-18T00:00:00",
          "2024-03-19T00:00:00",
          "2024-03-20T00:00:00",
          "2024-03-22T00:00:00",
          "2024-03-25T00:00:00",
          "2024-04-01T00:00:00",
          "2024-04-05T00:00:00",
          "2024-04-08T00:00:00",
          "2024-04-09T00:00:00",
          "2024-04-11T00:00:00",
          "2024-04-12T00:00:00",
          "2024-04-14T00:00:00",
          "2024-04-15T00:00:00",
          "2024-04-16T00:00:00",
          "2024-04-19T00:00:00",
          "2024-04-23T00:00:00",
          "2024-04-25T00:00:00",
          "2024-04-29T00:00:00",
          "2024-05-01T00:00:00",
          "2024-05-02T00:00:00",
          "2024-05-03T00:00:00",
          "2024-05-06T00:00:00",
          "2024-05-07T00:00:00",
          "2024-05-08T00:00:00",
          "2024-05-09T00:00:00",
          "2024-05-11T00:00:00",
          "2024-05-15T00:00:00",
          "2024-05-16T00:00:00",
          "2024-05-20T00:00:00",
          "2024-05-21T00:00:00",
          "2024-05-22T00:00:00",
          "2024-05-28T00:00:00",
          "2024-05-29T00:00:00"
         ],
         "y": [
          20.85,
          20.85,
          20.85,
          20.85,
          20.354,
          19.85,
          20.85,
          20.85,
          20.85,
          20.85,
          20.85,
          20.85,
          19.6,
          20.85,
          19.7388,
          20.85,
          19.7388,
          19.6,
          20.85,
          19.6961,
          20.85,
          19.7388,
          20.85,
          20.85,
          20.85,
          20.4366,
          20.85,
          20.85,
          20.85,
          19.6,
          19.6,
          20.85,
          20.85,
          20.354,
          20.85,
          20.85,
          20.85,
          23.4,
          23.4,
          23.4,
          23.4,
          23.4,
          22.7,
          24.11,
          24.11
         ]
        }
       ],
       "layout": {
        "height": 800,
        "legend": {
         "title": {
          "text": "Metrics"
         }
        },
        "template": {
         "data": {
          "bar": [
           {
            "error_x": {
             "color": "#2a3f5f"
            },
            "error_y": {
             "color": "#2a3f5f"
            },
            "marker": {
             "line": {
              "color": "white",
              "width": 0.5
             }
            },
            "type": "bar"
           }
          ],
          "barpolar": [
           {
            "marker": {
             "line": {
              "color": "white",
              "width": 0.5
             }
            },
            "type": "barpolar"
           }
          ],
          "carpet": [
           {
            "aaxis": {
             "endlinecolor": "#2a3f5f",
             "gridcolor": "#C8D4E3",
             "linecolor": "#C8D4E3",
             "minorgridcolor": "#C8D4E3",
             "startlinecolor": "#2a3f5f"
            },
            "baxis": {
             "endlinecolor": "#2a3f5f",
             "gridcolor": "#C8D4E3",
             "linecolor": "#C8D4E3",
             "minorgridcolor": "#C8D4E3",
             "startlinecolor": "#2a3f5f"
            },
            "type": "carpet"
           }
          ],
          "choropleth": [
           {
            "colorbar": {
             "outlinewidth": 0,
             "ticks": ""
            },
            "type": "choropleth"
           }
          ],
          "contour": [
           {
            "colorbar": {
             "outlinewidth": 0,
             "ticks": ""
            },
            "colorscale": [
             [
              0,
              "#0d0887"
             ],
             [
              0.1111111111111111,
              "#46039f"
             ],
             [
              0.2222222222222222,
              "#7201a8"
             ],
             [
              0.3333333333333333,
              "#9c179e"
             ],
             [
              0.4444444444444444,
              "#bd3786"
             ],
             [
              0.5555555555555556,
              "#d8576b"
             ],
             [
              0.6666666666666666,
              "#ed7953"
             ],
             [
              0.7777777777777778,
              "#fb9f3a"
             ],
             [
              0.8888888888888888,
              "#fdca26"
             ],
             [
              1,
              "#f0f921"
             ]
            ],
            "type": "contour"
           }
          ],
          "contourcarpet": [
           {
            "colorbar": {
             "outlinewidth": 0,
             "ticks": ""
            },
            "type": "contourcarpet"
           }
          ],
          "heatmap": [
           {
            "colorbar": {
             "outlinewidth": 0,
             "ticks": ""
            },
            "colorscale": [
             [
              0,
              "#0d0887"
             ],
             [
              0.1111111111111111,
              "#46039f"
             ],
             [
              0.2222222222222222,
              "#7201a8"
             ],
             [
              0.3333333333333333,
              "#9c179e"
             ],
             [
              0.4444444444444444,
              "#bd3786"
             ],
             [
              0.5555555555555556,
              "#d8576b"
             ],
             [
              0.6666666666666666,
              "#ed7953"
             ],
             [
              0.7777777777777778,
              "#fb9f3a"
             ],
             [
              0.8888888888888888,
              "#fdca26"
             ],
             [
              1,
              "#f0f921"
             ]
            ],
            "type": "heatmap"
           }
          ],
          "heatmapgl": [
           {
            "colorbar": {
             "outlinewidth": 0,
             "ticks": ""
            },
            "colorscale": [
             [
              0,
              "#0d0887"
             ],
             [
              0.1111111111111111,
              "#46039f"
             ],
             [
              0.2222222222222222,
              "#7201a8"
             ],
             [
              0.3333333333333333,
              "#9c179e"
             ],
             [
              0.4444444444444444,
              "#bd3786"
             ],
             [
              0.5555555555555556,
              "#d8576b"
             ],
             [
              0.6666666666666666,
              "#ed7953"
             ],
             [
              0.7777777777777778,
              "#fb9f3a"
             ],
             [
              0.8888888888888888,
              "#fdca26"
             ],
             [
              1,
              "#f0f921"
             ]
            ],
            "type": "heatmapgl"
           }
          ],
          "histogram": [
           {
            "marker": {
             "colorbar": {
              "outlinewidth": 0,
              "ticks": ""
             }
            },
            "type": "histogram"
           }
          ],
          "histogram2d": [
           {
            "colorbar": {
             "outlinewidth": 0,
             "ticks": ""
            },
            "colorscale": [
             [
              0,
              "#0d0887"
             ],
             [
              0.1111111111111111,
              "#46039f"
             ],
             [
              0.2222222222222222,
              "#7201a8"
             ],
             [
              0.3333333333333333,
              "#9c179e"
             ],
             [
              0.4444444444444444,
              "#bd3786"
             ],
             [
              0.5555555555555556,
              "#d8576b"
             ],
             [
              0.6666666666666666,
              "#ed7953"
             ],
             [
              0.7777777777777778,
              "#fb9f3a"
             ],
             [
              0.8888888888888888,
              "#fdca26"
             ],
             [
              1,
              "#f0f921"
             ]
            ],
            "type": "histogram2d"
           }
          ],
          "histogram2dcontour": [
           {
            "colorbar": {
             "outlinewidth": 0,
             "ticks": ""
            },
            "colorscale": [
             [
              0,
              "#0d0887"
             ],
             [
              0.1111111111111111,
              "#46039f"
             ],
             [
              0.2222222222222222,
              "#7201a8"
             ],
             [
              0.3333333333333333,
              "#9c179e"
             ],
             [
              0.4444444444444444,
              "#bd3786"
             ],
             [
              0.5555555555555556,
              "#d8576b"
             ],
             [
              0.6666666666666666,
              "#ed7953"
             ],
             [
              0.7777777777777778,
              "#fb9f3a"
             ],
             [
              0.8888888888888888,
              "#fdca26"
             ],
             [
              1,
              "#f0f921"
             ]
            ],
            "type": "histogram2dcontour"
           }
          ],
          "mesh3d": [
           {
            "colorbar": {
             "outlinewidth": 0,
             "ticks": ""
            },
            "type": "mesh3d"
           }
          ],
          "parcoords": [
           {
            "line": {
             "colorbar": {
              "outlinewidth": 0,
              "ticks": ""
             }
            },
            "type": "parcoords"
           }
          ],
          "pie": [
           {
            "automargin": true,
            "type": "pie"
           }
          ],
          "scatter": [
           {
            "marker": {
             "colorbar": {
              "outlinewidth": 0,
              "ticks": ""
             }
            },
            "type": "scatter"
           }
          ],
          "scatter3d": [
           {
            "line": {
             "colorbar": {
              "outlinewidth": 0,
              "ticks": ""
             }
            },
            "marker": {
             "colorbar": {
              "outlinewidth": 0,
              "ticks": ""
             }
            },
            "type": "scatter3d"
           }
          ],
          "scattercarpet": [
           {
            "marker": {
             "colorbar": {
              "outlinewidth": 0,
              "ticks": ""
             }
            },
            "type": "scattercarpet"
           }
          ],
          "scattergeo": [
           {
            "marker": {
             "colorbar": {
              "outlinewidth": 0,
              "ticks": ""
             }
            },
            "type": "scattergeo"
           }
          ],
          "scattergl": [
           {
            "marker": {
             "colorbar": {
              "outlinewidth": 0,
              "ticks": ""
             }
            },
            "type": "scattergl"
           }
          ],
          "scattermapbox": [
           {
            "marker": {
             "colorbar": {
              "outlinewidth": 0,
              "ticks": ""
             }
            },
            "type": "scattermapbox"
           }
          ],
          "scatterpolar": [
           {
            "marker": {
             "colorbar": {
              "outlinewidth": 0,
              "ticks": ""
             }
            },
            "type": "scatterpolar"
           }
          ],
          "scatterpolargl": [
           {
            "marker": {
             "colorbar": {
              "outlinewidth": 0,
              "ticks": ""
             }
            },
            "type": "scatterpolargl"
           }
          ],
          "scatterternary": [
           {
            "marker": {
             "colorbar": {
              "outlinewidth": 0,
              "ticks": ""
             }
            },
            "type": "scatterternary"
           }
          ],
          "surface": [
           {
            "colorbar": {
             "outlinewidth": 0,
             "ticks": ""
            },
            "colorscale": [
             [
              0,
              "#0d0887"
             ],
             [
              0.1111111111111111,
              "#46039f"
             ],
             [
              0.2222222222222222,
              "#7201a8"
             ],
             [
              0.3333333333333333,
              "#9c179e"
             ],
             [
              0.4444444444444444,
              "#bd3786"
             ],
             [
              0.5555555555555556,
              "#d8576b"
             ],
             [
              0.6666666666666666,
              "#ed7953"
             ],
             [
              0.7777777777777778,
              "#fb9f3a"
             ],
             [
              0.8888888888888888,
              "#fdca26"
             ],
             [
              1,
              "#f0f921"
             ]
            ],
            "type": "surface"
           }
          ],
          "table": [
           {
            "cells": {
             "fill": {
              "color": "#EBF0F8"
             },
             "line": {
              "color": "white"
             }
            },
            "header": {
             "fill": {
              "color": "#C8D4E3"
             },
             "line": {
              "color": "white"
             }
            },
            "type": "table"
           }
          ]
         },
         "layout": {
          "annotationdefaults": {
           "arrowcolor": "#2a3f5f",
           "arrowhead": 0,
           "arrowwidth": 1
          },
          "autotypenumbers": "strict",
          "coloraxis": {
           "colorbar": {
            "outlinewidth": 0,
            "ticks": ""
           }
          },
          "colorscale": {
           "diverging": [
            [
             0,
             "#8e0152"
            ],
            [
             0.1,
             "#c51b7d"
            ],
            [
             0.2,
             "#de77ae"
            ],
            [
             0.3,
             "#f1b6da"
            ],
            [
             0.4,
             "#fde0ef"
            ],
            [
             0.5,
             "#f7f7f7"
            ],
            [
             0.6,
             "#e6f5d0"
            ],
            [
             0.7,
             "#b8e186"
            ],
            [
             0.8,
             "#7fbc41"
            ],
            [
             0.9,
             "#4d9221"
            ],
            [
             1,
             "#276419"
            ]
           ],
           "sequential": [
            [
             0,
             "#0d0887"
            ],
            [
             0.1111111111111111,
             "#46039f"
            ],
            [
             0.2222222222222222,
             "#7201a8"
            ],
            [
             0.3333333333333333,
             "#9c179e"
            ],
            [
             0.4444444444444444,
             "#bd3786"
            ],
            [
             0.5555555555555556,
             "#d8576b"
            ],
            [
             0.6666666666666666,
             "#ed7953"
            ],
            [
             0.7777777777777778,
             "#fb9f3a"
            ],
            [
             0.8888888888888888,
             "#fdca26"
            ],
            [
             1,
             "#f0f921"
            ]
           ],
           "sequentialminus": [
            [
             0,
             "#0d0887"
            ],
            [
             0.1111111111111111,
             "#46039f"
            ],
            [
             0.2222222222222222,
             "#7201a8"
            ],
            [
             0.3333333333333333,
             "#9c179e"
            ],
            [
             0.4444444444444444,
             "#bd3786"
            ],
            [
             0.5555555555555556,
             "#d8576b"
            ],
            [
             0.6666666666666666,
             "#ed7953"
            ],
            [
             0.7777777777777778,
             "#fb9f3a"
            ],
            [
             0.8888888888888888,
             "#fdca26"
            ],
            [
             1,
             "#f0f921"
            ]
           ]
          },
          "colorway": [
           "#636efa",
           "#EF553B",
           "#00cc96",
           "#ab63fa",
           "#FFA15A",
           "#19d3f3",
           "#FF6692",
           "#B6E880",
           "#FF97FF",
           "#FECB52"
          ],
          "font": {
           "color": "#2a3f5f"
          },
          "geo": {
           "bgcolor": "white",
           "lakecolor": "white",
           "landcolor": "white",
           "showlakes": true,
           "showland": true,
           "subunitcolor": "#C8D4E3"
          },
          "hoverlabel": {
           "align": "left"
          },
          "hovermode": "closest",
          "mapbox": {
           "style": "light"
          },
          "paper_bgcolor": "white",
          "plot_bgcolor": "white",
          "polar": {
           "angularaxis": {
            "gridcolor": "#EBF0F8",
            "linecolor": "#EBF0F8",
            "ticks": ""
           },
           "bgcolor": "white",
           "radialaxis": {
            "gridcolor": "#EBF0F8",
            "linecolor": "#EBF0F8",
            "ticks": ""
           }
          },
          "scene": {
           "xaxis": {
            "backgroundcolor": "white",
            "gridcolor": "#DFE8F3",
            "gridwidth": 2,
            "linecolor": "#EBF0F8",
            "showbackground": true,
            "ticks": "",
            "zerolinecolor": "#EBF0F8"
           },
           "yaxis": {
            "backgroundcolor": "white",
            "gridcolor": "#DFE8F3",
            "gridwidth": 2,
            "linecolor": "#EBF0F8",
            "showbackground": true,
            "ticks": "",
            "zerolinecolor": "#EBF0F8"
           },
           "zaxis": {
            "backgroundcolor": "white",
            "gridcolor": "#DFE8F3",
            "gridwidth": 2,
            "linecolor": "#EBF0F8",
            "showbackground": true,
            "ticks": "",
            "zerolinecolor": "#EBF0F8"
           }
          },
          "shapedefaults": {
           "line": {
            "color": "#2a3f5f"
           }
          },
          "ternary": {
           "aaxis": {
            "gridcolor": "#DFE8F3",
            "linecolor": "#A2B1C6",
            "ticks": ""
           },
           "baxis": {
            "gridcolor": "#DFE8F3",
            "linecolor": "#A2B1C6",
            "ticks": ""
           },
           "bgcolor": "white",
           "caxis": {
            "gridcolor": "#DFE8F3",
            "linecolor": "#A2B1C6",
            "ticks": ""
           }
          },
          "title": {
           "x": 0.05
          },
          "xaxis": {
           "automargin": true,
           "gridcolor": "#EBF0F8",
           "linecolor": "#EBF0F8",
           "ticks": "",
           "title": {
            "standoff": 15
           },
           "zerolinecolor": "#EBF0F8",
           "zerolinewidth": 2
          },
          "yaxis": {
           "automargin": true,
           "gridcolor": "#EBF0F8",
           "linecolor": "#EBF0F8",
           "ticks": "",
           "title": {
            "standoff": 15
           },
           "zerolinecolor": "#EBF0F8",
           "zerolinewidth": 2
          }
         }
        },
        "title": {
         "text": "Price Summary and Additional Metrics for Product ID: BHZ || Achocolatado em Pó Nescau 2.0 Sachê 1,2Kg"
        },
        "xaxis": {
         "title": {
          "text": "Date"
         }
        },
        "yaxis": {
         "title": {
          "text": "Price"
         }
        }
       }
      },
      "text/html": [
       "<div>                            <div id=\"ac6c62be-3ed2-4f69-8eda-704c5731652c\" class=\"plotly-graph-div\" style=\"height:800px; width:100%;\"></div>            <script type=\"text/javascript\">                require([\"plotly\"], function(Plotly) {                    window.PLOTLYENV=window.PLOTLYENV || {};                                    if (document.getElementById(\"ac6c62be-3ed2-4f69-8eda-704c5731652c\")) {                    Plotly.newPlot(                        \"ac6c62be-3ed2-4f69-8eda-704c5731652c\",                        [{\"mode\": \"lines\", \"name\": \"Min\", \"type\": \"scatter\", \"x\": [\"2024-02-12T00:00:00\", \"2024-02-15T00:00:00\", \"2024-02-16T00:00:00\", \"2024-02-20T00:00:00\", \"2024-02-22T00:00:00\", \"2024-02-26T00:00:00\", \"2024-02-27T00:00:00\", \"2024-03-04T00:00:00\", \"2024-03-05T00:00:00\", \"2024-03-06T00:00:00\", \"2024-03-11T00:00:00\", \"2024-03-13T00:00:00\", \"2024-03-18T00:00:00\", \"2024-03-19T00:00:00\", \"2024-03-20T00:00:00\", \"2024-03-22T00:00:00\", \"2024-03-25T00:00:00\", \"2024-04-01T00:00:00\", \"2024-04-05T00:00:00\", \"2024-04-08T00:00:00\", \"2024-04-09T00:00:00\", \"2024-04-11T00:00:00\", \"2024-04-12T00:00:00\", \"2024-04-14T00:00:00\", \"2024-04-15T00:00:00\", \"2024-04-16T00:00:00\", \"2024-04-19T00:00:00\", \"2024-04-23T00:00:00\", \"2024-04-25T00:00:00\", \"2024-04-29T00:00:00\", \"2024-05-01T00:00:00\", \"2024-05-02T00:00:00\", \"2024-05-03T00:00:00\", \"2024-05-06T00:00:00\", \"2024-05-07T00:00:00\", \"2024-05-08T00:00:00\", \"2024-05-09T00:00:00\", \"2024-05-11T00:00:00\", \"2024-05-15T00:00:00\", \"2024-05-16T00:00:00\", \"2024-05-20T00:00:00\", \"2024-05-21T00:00:00\", \"2024-05-22T00:00:00\", \"2024-05-28T00:00:00\", \"2024-05-29T00:00:00\"], \"y\": [20.5, 20.5, 20.5, 19.98, 14.9, 14.9, 14.9, 15.99, 19.9, 19.9, 19.9, 19.98, 20.9, 20.9, 18.99, 18.99, 18.99, 20.9, 19.9, 17.99, 17.99, 17.99, 17.99, 17.99, 19.9, 19.99, 19.99, 19.9, 19.9, 19.9, 19.9, 19.9, 19.9, 19.9, 19.9, 19.9, 19.9, 19.99, 19.9, 19.9, 19.9, 16.9, 16.9, 16.9, 15.39]}, {\"mode\": \"lines\", \"name\": \"Q1\", \"type\": \"scatter\", \"x\": [\"2024-02-12T00:00:00\", \"2024-02-15T00:00:00\", \"2024-02-16T00:00:00\", \"2024-02-20T00:00:00\", \"2024-02-22T00:00:00\", \"2024-02-26T00:00:00\", \"2024-02-27T00:00:00\", \"2024-03-04T00:00:00\", \"2024-03-05T00:00:00\", \"2024-03-06T00:00:00\", \"2024-03-11T00:00:00\", \"2024-03-13T00:00:00\", \"2024-03-18T00:00:00\", \"2024-03-19T00:00:00\", \"2024-03-20T00:00:00\", \"2024-03-22T00:00:00\", \"2024-03-25T00:00:00\", \"2024-04-01T00:00:00\", \"2024-04-05T00:00:00\", \"2024-04-08T00:00:00\", \"2024-04-09T00:00:00\", \"2024-04-11T00:00:00\", \"2024-04-12T00:00:00\", \"2024-04-14T00:00:00\", \"2024-04-15T00:00:00\", \"2024-04-16T00:00:00\", \"2024-04-19T00:00:00\", \"2024-04-23T00:00:00\", \"2024-04-25T00:00:00\", \"2024-04-29T00:00:00\", \"2024-05-01T00:00:00\", \"2024-05-02T00:00:00\", \"2024-05-03T00:00:00\", \"2024-05-06T00:00:00\", \"2024-05-07T00:00:00\", \"2024-05-08T00:00:00\", \"2024-05-09T00:00:00\", \"2024-05-11T00:00:00\", \"2024-05-15T00:00:00\", \"2024-05-16T00:00:00\", \"2024-05-20T00:00:00\", \"2024-05-21T00:00:00\", \"2024-05-22T00:00:00\", \"2024-05-28T00:00:00\", \"2024-05-29T00:00:00\"], \"y\": [20.7925, 20.89, 20.89, 20.9, 18.71, 14.9, 16.15, 19.9, 20.89, 20.89, 19.98, 20.9, 21.89, 21.89, 20.9, 20.9, 20.9, 21.98, 20.9, 19.9, 19.9, 19.9, 19.9, 19.9, 19.99, 20.9, 20.9, 19.99, 19.99, 19.99, 19.99, 19.99, 19.99, 19.99, 19.9, 19.99, 19.99, 19.99, 19.99, 19.99, 19.99, 21.9, 21.9, 21.9, 21.9]}, {\"mode\": \"lines\", \"name\": \"P10\", \"type\": \"scatter\", \"x\": [\"2024-02-12T00:00:00\", \"2024-02-15T00:00:00\", \"2024-02-16T00:00:00\", \"2024-02-20T00:00:00\", \"2024-02-22T00:00:00\", \"2024-02-26T00:00:00\", \"2024-02-27T00:00:00\", \"2024-03-04T00:00:00\", \"2024-03-05T00:00:00\", \"2024-03-06T00:00:00\", \"2024-03-11T00:00:00\", \"2024-03-13T00:00:00\", \"2024-03-18T00:00:00\", \"2024-03-19T00:00:00\", \"2024-03-20T00:00:00\", \"2024-03-22T00:00:00\", \"2024-03-25T00:00:00\", \"2024-04-01T00:00:00\", \"2024-04-05T00:00:00\", \"2024-04-08T00:00:00\", \"2024-04-09T00:00:00\", \"2024-04-11T00:00:00\", \"2024-04-12T00:00:00\", \"2024-04-14T00:00:00\", \"2024-04-15T00:00:00\", \"2024-04-16T00:00:00\", \"2024-04-19T00:00:00\", \"2024-04-23T00:00:00\", \"2024-04-25T00:00:00\", \"2024-04-29T00:00:00\", \"2024-05-01T00:00:00\", \"2024-05-02T00:00:00\", \"2024-05-03T00:00:00\", \"2024-05-06T00:00:00\", \"2024-05-07T00:00:00\", \"2024-05-08T00:00:00\", \"2024-05-09T00:00:00\", \"2024-05-11T00:00:00\", \"2024-05-15T00:00:00\", \"2024-05-16T00:00:00\", \"2024-05-20T00:00:00\", \"2024-05-21T00:00:00\", \"2024-05-22T00:00:00\", \"2024-05-28T00:00:00\", \"2024-05-29T00:00:00\"], \"y\": [20.617, 20.656, 20.656, 20.348, 16.424, 14.9, 14.9, 17.554, 20.296, 20.296, 19.932, 20.348, 21.296, 21.296, 19.754, 19.754, 19.754, 21.332, 20.3, 18.754, 18.754, 18.754, 18.754, 18.754, 19.936, 20.354, 20.354, 19.936, 19.936, 19.936, 19.936, 19.936, 19.936, 19.936, 19.9, 19.936, 19.936, 19.99, 19.936, 19.936, 19.936, 18.9, 18.9, 18.9, 17.994]}, {\"mode\": \"lines\", \"name\": \"Median\", \"type\": \"scatter\", \"x\": [\"2024-02-12T00:00:00\", \"2024-02-15T00:00:00\", \"2024-02-16T00:00:00\", \"2024-02-20T00:00:00\", \"2024-02-22T00:00:00\", \"2024-02-26T00:00:00\", \"2024-02-27T00:00:00\", \"2024-03-04T00:00:00\", \"2024-03-05T00:00:00\", \"2024-03-06T00:00:00\", \"2024-03-11T00:00:00\", \"2024-03-13T00:00:00\", \"2024-03-18T00:00:00\", \"2024-03-19T00:00:00\", \"2024-03-20T00:00:00\", \"2024-03-22T00:00:00\", \"2024-03-25T00:00:00\", \"2024-04-01T00:00:00\", \"2024-04-05T00:00:00\", \"2024-04-08T00:00:00\", \"2024-04-09T00:00:00\", \"2024-04-11T00:00:00\", \"2024-04-12T00:00:00\", \"2024-04-14T00:00:00\", \"2024-04-15T00:00:00\", \"2024-04-16T00:00:00\", \"2024-04-19T00:00:00\", \"2024-04-23T00:00:00\", \"2024-04-25T00:00:00\", \"2024-04-29T00:00:00\", \"2024-05-01T00:00:00\", \"2024-05-02T00:00:00\", \"2024-05-03T00:00:00\", \"2024-05-06T00:00:00\", \"2024-05-07T00:00:00\", \"2024-05-08T00:00:00\", \"2024-05-09T00:00:00\", \"2024-05-11T00:00:00\", \"2024-05-15T00:00:00\", \"2024-05-16T00:00:00\", \"2024-05-20T00:00:00\", \"2024-05-21T00:00:00\", \"2024-05-22T00:00:00\", \"2024-05-28T00:00:00\", \"2024-05-29T00:00:00\"], \"y\": [20.895, 20.9, 20.9, 22.5, 20.44, 20.89, 20.395, 20.89, 20.9, 20.9, 20.9, 22.79, 22.79, 22.79, 21.89, 21.98, 21.98, 22.79, 21.39, 20.9, 20.9, 20.9, 20.9, 20.9, 20.9, 21.98, 21.98, 20.9, 20.9, 19.99, 19.99, 20.9, 20.9, 20.9, 19.99, 21.9, 21.9, 21.9, 19.99, 19.99, 21.9, 21.98, 21.98, 21.98, 21.98]}, {\"mode\": \"lines\", \"name\": \"Q3\", \"type\": \"scatter\", \"x\": [\"2024-02-12T00:00:00\", \"2024-02-15T00:00:00\", \"2024-02-16T00:00:00\", \"2024-02-20T00:00:00\", \"2024-02-22T00:00:00\", \"2024-02-26T00:00:00\", \"2024-02-27T00:00:00\", \"2024-03-04T00:00:00\", \"2024-03-05T00:00:00\", \"2024-03-06T00:00:00\", \"2024-03-11T00:00:00\", \"2024-03-13T00:00:00\", \"2024-03-18T00:00:00\", \"2024-03-19T00:00:00\", \"2024-03-20T00:00:00\", \"2024-03-22T00:00:00\", \"2024-03-25T00:00:00\", \"2024-04-01T00:00:00\", \"2024-04-05T00:00:00\", \"2024-04-08T00:00:00\", \"2024-04-09T00:00:00\", \"2024-04-11T00:00:00\", \"2024-04-12T00:00:00\", \"2024-04-14T00:00:00\", \"2024-04-15T00:00:00\", \"2024-04-16T00:00:00\", \"2024-04-19T00:00:00\", \"2024-04-23T00:00:00\", \"2024-04-25T00:00:00\", \"2024-04-29T00:00:00\", \"2024-05-01T00:00:00\", \"2024-05-02T00:00:00\", \"2024-05-03T00:00:00\", \"2024-05-06T00:00:00\", \"2024-05-07T00:00:00\", \"2024-05-08T00:00:00\", \"2024-05-09T00:00:00\", \"2024-05-11T00:00:00\", \"2024-05-15T00:00:00\", \"2024-05-16T00:00:00\", \"2024-05-20T00:00:00\", \"2024-05-21T00:00:00\", \"2024-05-22T00:00:00\", \"2024-05-28T00:00:00\", \"2024-05-29T00:00:00\"], \"y\": [21.3725, 22.5, 22.5, 22.79, 21.625, 20.9, 20.8975, 20.9, 22.79, 22.79, 22.79, 22.9, 22.9, 22.9, 22.79, 22.79, 22.79, 22.9, 21.98, 21.98, 21.98, 21.98, 21.98, 21.98, 21.98, 22.9, 22.9, 21.98, 21.98, 20.9, 20.9, 21.98, 21.98, 21.98, 21.9, 21.9, 21.9, 21.9, 21.9, 21.9, 21.98, 22.5, 22.5, 22.5, 22.5]}, {\"mode\": \"lines\", \"name\": \"Max\", \"type\": \"scatter\", \"x\": [\"2024-02-12T00:00:00\", \"2024-02-15T00:00:00\", \"2024-02-16T00:00:00\", \"2024-02-20T00:00:00\", \"2024-02-22T00:00:00\", \"2024-02-26T00:00:00\", \"2024-02-27T00:00:00\", \"2024-03-04T00:00:00\", \"2024-03-05T00:00:00\", \"2024-03-06T00:00:00\", \"2024-03-11T00:00:00\", \"2024-03-13T00:00:00\", \"2024-03-18T00:00:00\", \"2024-03-19T00:00:00\", \"2024-03-20T00:00:00\", \"2024-03-22T00:00:00\", \"2024-03-25T00:00:00\", \"2024-04-01T00:00:00\", \"2024-04-05T00:00:00\", \"2024-04-08T00:00:00\", \"2024-04-09T00:00:00\", \"2024-04-11T00:00:00\", \"2024-04-12T00:00:00\", \"2024-04-14T00:00:00\", \"2024-04-15T00:00:00\", \"2024-04-16T00:00:00\", \"2024-04-19T00:00:00\", \"2024-04-23T00:00:00\", \"2024-04-25T00:00:00\", \"2024-04-29T00:00:00\", \"2024-05-01T00:00:00\", \"2024-05-02T00:00:00\", \"2024-05-03T00:00:00\", \"2024-05-06T00:00:00\", \"2024-05-07T00:00:00\", \"2024-05-08T00:00:00\", \"2024-05-09T00:00:00\", \"2024-05-11T00:00:00\", \"2024-05-15T00:00:00\", \"2024-05-16T00:00:00\", \"2024-05-20T00:00:00\", \"2024-05-21T00:00:00\", \"2024-05-22T00:00:00\", \"2024-05-28T00:00:00\", \"2024-05-29T00:00:00\"], \"y\": [22.79, 22.79, 22.79, 23.8, 23.8, 23.8, 23.8, 23.8, 23.8, 23.8, 23.8, 23.8, 23.8, 23.8, 23.8, 23.8, 23.8, 23.8, 23.8, 23.8, 23.8, 22.9, 22.9, 22.9, 22.9, 22.9, 22.9, 22.9, 22.9, 22.9, 22.9, 22.9, 22.9, 22.9, 22.9, 22.9, 22.9, 22.9, 22.5, 22.5, 22.5, 22.99, 22.99, 22.99, 22.99]}, {\"connectgaps\": true, \"line\": {\"dash\": \"dash\"}, \"marker\": {\"symbol\": \"circle\"}, \"mode\": \"markers+lines\", \"name\": \"Sale Price\", \"type\": \"scatter\", \"x\": [\"2024-02-12T00:00:00\", \"2024-02-15T00:00:00\", \"2024-02-16T00:00:00\", \"2024-02-20T00:00:00\", \"2024-02-22T00:00:00\", \"2024-02-26T00:00:00\", \"2024-02-27T00:00:00\", \"2024-03-04T00:00:00\", \"2024-03-05T00:00:00\", \"2024-03-06T00:00:00\", \"2024-03-11T00:00:00\", \"2024-03-13T00:00:00\", \"2024-03-18T00:00:00\", \"2024-03-19T00:00:00\", \"2024-03-20T00:00:00\", \"2024-03-22T00:00:00\", \"2024-03-25T00:00:00\", \"2024-04-01T00:00:00\", \"2024-04-05T00:00:00\", \"2024-04-08T00:00:00\", \"2024-04-09T00:00:00\", \"2024-04-11T00:00:00\", \"2024-04-12T00:00:00\", \"2024-04-14T00:00:00\", \"2024-04-15T00:00:00\", \"2024-04-16T00:00:00\", \"2024-04-19T00:00:00\", \"2024-04-23T00:00:00\", \"2024-04-25T00:00:00\", \"2024-04-29T00:00:00\", \"2024-05-01T00:00:00\", \"2024-05-02T00:00:00\", \"2024-05-03T00:00:00\", \"2024-05-06T00:00:00\", \"2024-05-07T00:00:00\", \"2024-05-08T00:00:00\", \"2024-05-09T00:00:00\", \"2024-05-11T00:00:00\", \"2024-05-15T00:00:00\", \"2024-05-16T00:00:00\", \"2024-05-20T00:00:00\", \"2024-05-21T00:00:00\", \"2024-05-22T00:00:00\", \"2024-05-28T00:00:00\", \"2024-05-29T00:00:00\"], \"y\": [20.85, 20.85, 20.85, 20.85, 20.354, 19.85, 20.85, 20.85, 20.85, 20.85, 20.85, 20.85, 19.6, 20.85, 19.7388, 20.85, 19.7388, 19.6, 20.85, 19.6961, 20.85, 19.7388, 20.85, 20.85, 20.85, 20.4366, 20.85, 20.85, 20.85, 19.6, 19.6, 20.85, 20.85, 20.354, 20.85, 20.85, 20.85, 23.4, 23.4, 23.4, 23.4, 23.4, 22.7, 24.11, 24.11]}, {\"connectgaps\": true, \"line\": {\"dash\": \"dash\"}, \"marker\": {\"symbol\": \"circle\"}, \"mode\": \"markers+lines\", \"name\": \"NET Sale Price\", \"type\": \"scatter\", \"x\": [\"2024-02-12T00:00:00\", \"2024-02-15T00:00:00\", \"2024-02-16T00:00:00\", \"2024-02-20T00:00:00\", \"2024-02-22T00:00:00\", \"2024-02-26T00:00:00\", \"2024-02-27T00:00:00\", \"2024-03-04T00:00:00\", \"2024-03-05T00:00:00\", \"2024-03-06T00:00:00\", \"2024-03-11T00:00:00\", \"2024-03-13T00:00:00\", \"2024-03-18T00:00:00\", \"2024-03-19T00:00:00\", \"2024-03-20T00:00:00\", \"2024-03-22T00:00:00\", \"2024-03-25T00:00:00\", \"2024-04-01T00:00:00\", \"2024-04-05T00:00:00\", \"2024-04-08T00:00:00\", \"2024-04-09T00:00:00\", \"2024-04-11T00:00:00\", \"2024-04-12T00:00:00\", \"2024-04-14T00:00:00\", \"2024-04-15T00:00:00\", \"2024-04-16T00:00:00\", \"2024-04-19T00:00:00\", \"2024-04-23T00:00:00\", \"2024-04-25T00:00:00\", \"2024-04-29T00:00:00\", \"2024-05-01T00:00:00\", \"2024-05-02T00:00:00\", \"2024-05-03T00:00:00\", \"2024-05-06T00:00:00\", \"2024-05-07T00:00:00\", \"2024-05-08T00:00:00\", \"2024-05-09T00:00:00\", \"2024-05-11T00:00:00\", \"2024-05-15T00:00:00\", \"2024-05-16T00:00:00\", \"2024-05-20T00:00:00\", \"2024-05-21T00:00:00\", \"2024-05-22T00:00:00\", \"2024-05-28T00:00:00\", \"2024-05-29T00:00:00\"], \"y\": [20.85, 20.85, 20.85, 20.85, 20.354, 19.85, 20.85, 20.85, 20.85, 20.85, 20.85, 20.85, 19.6, 20.85, 19.7388, 20.85, 19.7388, 19.6, 20.85, 19.6961, 20.85, 19.7388, 20.85, 20.85, 20.85, 20.4366, 20.85, 20.85, 20.85, 19.6, 19.6, 20.85, 20.85, 20.354, 20.85, 20.85, 20.85, 23.4, 23.4, 23.4, 23.4, 23.4, 22.7, 24.11, 24.11]}],                        {\"height\": 800, \"legend\": {\"title\": {\"text\": \"Metrics\"}}, \"template\": {\"data\": {\"bar\": [{\"error_x\": {\"color\": \"#2a3f5f\"}, \"error_y\": {\"color\": \"#2a3f5f\"}, \"marker\": {\"line\": {\"color\": \"white\", \"width\": 0.5}}, \"type\": \"bar\"}], \"barpolar\": [{\"marker\": {\"line\": {\"color\": \"white\", \"width\": 0.5}}, \"type\": \"barpolar\"}], \"carpet\": [{\"aaxis\": {\"endlinecolor\": \"#2a3f5f\", \"gridcolor\": \"#C8D4E3\", \"linecolor\": \"#C8D4E3\", \"minorgridcolor\": \"#C8D4E3\", \"startlinecolor\": \"#2a3f5f\"}, \"baxis\": {\"endlinecolor\": \"#2a3f5f\", \"gridcolor\": \"#C8D4E3\", \"linecolor\": \"#C8D4E3\", \"minorgridcolor\": \"#C8D4E3\", \"startlinecolor\": \"#2a3f5f\"}, \"type\": \"carpet\"}], \"choropleth\": [{\"colorbar\": {\"outlinewidth\": 0, \"ticks\": \"\"}, \"type\": \"choropleth\"}], \"contour\": [{\"colorbar\": {\"outlinewidth\": 0, \"ticks\": \"\"}, \"colorscale\": [[0.0, \"#0d0887\"], [0.1111111111111111, \"#46039f\"], [0.2222222222222222, \"#7201a8\"], [0.3333333333333333, \"#9c179e\"], [0.4444444444444444, \"#bd3786\"], [0.5555555555555556, \"#d8576b\"], [0.6666666666666666, \"#ed7953\"], [0.7777777777777778, \"#fb9f3a\"], [0.8888888888888888, \"#fdca26\"], [1.0, \"#f0f921\"]], \"type\": \"contour\"}], \"contourcarpet\": [{\"colorbar\": {\"outlinewidth\": 0, \"ticks\": \"\"}, \"type\": \"contourcarpet\"}], \"heatmap\": [{\"colorbar\": {\"outlinewidth\": 0, \"ticks\": \"\"}, \"colorscale\": [[0.0, \"#0d0887\"], [0.1111111111111111, \"#46039f\"], [0.2222222222222222, \"#7201a8\"], [0.3333333333333333, \"#9c179e\"], [0.4444444444444444, \"#bd3786\"], [0.5555555555555556, \"#d8576b\"], [0.6666666666666666, \"#ed7953\"], [0.7777777777777778, \"#fb9f3a\"], [0.8888888888888888, \"#fdca26\"], [1.0, \"#f0f921\"]], \"type\": \"heatmap\"}], \"heatmapgl\": [{\"colorbar\": {\"outlinewidth\": 0, \"ticks\": \"\"}, \"colorscale\": [[0.0, \"#0d0887\"], [0.1111111111111111, \"#46039f\"], [0.2222222222222222, \"#7201a8\"], [0.3333333333333333, \"#9c179e\"], [0.4444444444444444, \"#bd3786\"], [0.5555555555555556, \"#d8576b\"], [0.6666666666666666, \"#ed7953\"], [0.7777777777777778, \"#fb9f3a\"], [0.8888888888888888, \"#fdca26\"], [1.0, \"#f0f921\"]], \"type\": \"heatmapgl\"}], \"histogram\": [{\"marker\": {\"colorbar\": {\"outlinewidth\": 0, \"ticks\": \"\"}}, \"type\": \"histogram\"}], \"histogram2d\": [{\"colorbar\": {\"outlinewidth\": 0, \"ticks\": \"\"}, \"colorscale\": [[0.0, \"#0d0887\"], [0.1111111111111111, \"#46039f\"], [0.2222222222222222, \"#7201a8\"], [0.3333333333333333, \"#9c179e\"], [0.4444444444444444, \"#bd3786\"], [0.5555555555555556, \"#d8576b\"], [0.6666666666666666, \"#ed7953\"], [0.7777777777777778, \"#fb9f3a\"], [0.8888888888888888, \"#fdca26\"], [1.0, \"#f0f921\"]], \"type\": \"histogram2d\"}], \"histogram2dcontour\": [{\"colorbar\": {\"outlinewidth\": 0, \"ticks\": \"\"}, \"colorscale\": [[0.0, \"#0d0887\"], [0.1111111111111111, \"#46039f\"], [0.2222222222222222, \"#7201a8\"], [0.3333333333333333, \"#9c179e\"], [0.4444444444444444, \"#bd3786\"], [0.5555555555555556, \"#d8576b\"], [0.6666666666666666, \"#ed7953\"], [0.7777777777777778, \"#fb9f3a\"], [0.8888888888888888, \"#fdca26\"], [1.0, \"#f0f921\"]], \"type\": \"histogram2dcontour\"}], \"mesh3d\": [{\"colorbar\": {\"outlinewidth\": 0, \"ticks\": \"\"}, \"type\": \"mesh3d\"}], \"parcoords\": [{\"line\": {\"colorbar\": {\"outlinewidth\": 0, \"ticks\": \"\"}}, \"type\": \"parcoords\"}], \"pie\": [{\"automargin\": true, \"type\": \"pie\"}], \"scatter\": [{\"marker\": {\"colorbar\": {\"outlinewidth\": 0, \"ticks\": \"\"}}, \"type\": \"scatter\"}], \"scatter3d\": [{\"line\": {\"colorbar\": {\"outlinewidth\": 0, \"ticks\": \"\"}}, \"marker\": {\"colorbar\": {\"outlinewidth\": 0, \"ticks\": \"\"}}, \"type\": \"scatter3d\"}], \"scattercarpet\": [{\"marker\": {\"colorbar\": {\"outlinewidth\": 0, \"ticks\": \"\"}}, \"type\": \"scattercarpet\"}], \"scattergeo\": [{\"marker\": {\"colorbar\": {\"outlinewidth\": 0, \"ticks\": \"\"}}, \"type\": \"scattergeo\"}], \"scattergl\": [{\"marker\": {\"colorbar\": {\"outlinewidth\": 0, \"ticks\": \"\"}}, \"type\": \"scattergl\"}], \"scattermapbox\": [{\"marker\": {\"colorbar\": {\"outlinewidth\": 0, \"ticks\": \"\"}}, \"type\": \"scattermapbox\"}], \"scatterpolar\": [{\"marker\": {\"colorbar\": {\"outlinewidth\": 0, \"ticks\": \"\"}}, \"type\": \"scatterpolar\"}], \"scatterpolargl\": [{\"marker\": {\"colorbar\": {\"outlinewidth\": 0, \"ticks\": \"\"}}, \"type\": \"scatterpolargl\"}], \"scatterternary\": [{\"marker\": {\"colorbar\": {\"outlinewidth\": 0, \"ticks\": \"\"}}, \"type\": \"scatterternary\"}], \"surface\": [{\"colorbar\": {\"outlinewidth\": 0, \"ticks\": \"\"}, \"colorscale\": [[0.0, \"#0d0887\"], [0.1111111111111111, \"#46039f\"], [0.2222222222222222, \"#7201a8\"], [0.3333333333333333, \"#9c179e\"], [0.4444444444444444, \"#bd3786\"], [0.5555555555555556, \"#d8576b\"], [0.6666666666666666, \"#ed7953\"], [0.7777777777777778, \"#fb9f3a\"], [0.8888888888888888, \"#fdca26\"], [1.0, \"#f0f921\"]], \"type\": \"surface\"}], \"table\": [{\"cells\": {\"fill\": {\"color\": \"#EBF0F8\"}, \"line\": {\"color\": \"white\"}}, \"header\": {\"fill\": {\"color\": \"#C8D4E3\"}, \"line\": {\"color\": \"white\"}}, \"type\": \"table\"}]}, \"layout\": {\"annotationdefaults\": {\"arrowcolor\": \"#2a3f5f\", \"arrowhead\": 0, \"arrowwidth\": 1}, \"autotypenumbers\": \"strict\", \"coloraxis\": {\"colorbar\": {\"outlinewidth\": 0, \"ticks\": \"\"}}, \"colorscale\": {\"diverging\": [[0, \"#8e0152\"], [0.1, \"#c51b7d\"], [0.2, \"#de77ae\"], [0.3, \"#f1b6da\"], [0.4, \"#fde0ef\"], [0.5, \"#f7f7f7\"], [0.6, \"#e6f5d0\"], [0.7, \"#b8e186\"], [0.8, \"#7fbc41\"], [0.9, \"#4d9221\"], [1, \"#276419\"]], \"sequential\": [[0.0, \"#0d0887\"], [0.1111111111111111, \"#46039f\"], [0.2222222222222222, \"#7201a8\"], [0.3333333333333333, \"#9c179e\"], [0.4444444444444444, \"#bd3786\"], [0.5555555555555556, \"#d8576b\"], [0.6666666666666666, \"#ed7953\"], [0.7777777777777778, \"#fb9f3a\"], [0.8888888888888888, \"#fdca26\"], [1.0, \"#f0f921\"]], \"sequentialminus\": [[0.0, \"#0d0887\"], [0.1111111111111111, \"#46039f\"], [0.2222222222222222, \"#7201a8\"], [0.3333333333333333, \"#9c179e\"], [0.4444444444444444, \"#bd3786\"], [0.5555555555555556, \"#d8576b\"], [0.6666666666666666, \"#ed7953\"], [0.7777777777777778, \"#fb9f3a\"], [0.8888888888888888, \"#fdca26\"], [1.0, \"#f0f921\"]]}, \"colorway\": [\"#636efa\", \"#EF553B\", \"#00cc96\", \"#ab63fa\", \"#FFA15A\", \"#19d3f3\", \"#FF6692\", \"#B6E880\", \"#FF97FF\", \"#FECB52\"], \"font\": {\"color\": \"#2a3f5f\"}, \"geo\": {\"bgcolor\": \"white\", \"lakecolor\": \"white\", \"landcolor\": \"white\", \"showlakes\": true, \"showland\": true, \"subunitcolor\": \"#C8D4E3\"}, \"hoverlabel\": {\"align\": \"left\"}, \"hovermode\": \"closest\", \"mapbox\": {\"style\": \"light\"}, \"paper_bgcolor\": \"white\", \"plot_bgcolor\": \"white\", \"polar\": {\"angularaxis\": {\"gridcolor\": \"#EBF0F8\", \"linecolor\": \"#EBF0F8\", \"ticks\": \"\"}, \"bgcolor\": \"white\", \"radialaxis\": {\"gridcolor\": \"#EBF0F8\", \"linecolor\": \"#EBF0F8\", \"ticks\": \"\"}}, \"scene\": {\"xaxis\": {\"backgroundcolor\": \"white\", \"gridcolor\": \"#DFE8F3\", \"gridwidth\": 2, \"linecolor\": \"#EBF0F8\", \"showbackground\": true, \"ticks\": \"\", \"zerolinecolor\": \"#EBF0F8\"}, \"yaxis\": {\"backgroundcolor\": \"white\", \"gridcolor\": \"#DFE8F3\", \"gridwidth\": 2, \"linecolor\": \"#EBF0F8\", \"showbackground\": true, \"ticks\": \"\", \"zerolinecolor\": \"#EBF0F8\"}, \"zaxis\": {\"backgroundcolor\": \"white\", \"gridcolor\": \"#DFE8F3\", \"gridwidth\": 2, \"linecolor\": \"#EBF0F8\", \"showbackground\": true, \"ticks\": \"\", \"zerolinecolor\": \"#EBF0F8\"}}, \"shapedefaults\": {\"line\": {\"color\": \"#2a3f5f\"}}, \"ternary\": {\"aaxis\": {\"gridcolor\": \"#DFE8F3\", \"linecolor\": \"#A2B1C6\", \"ticks\": \"\"}, \"baxis\": {\"gridcolor\": \"#DFE8F3\", \"linecolor\": \"#A2B1C6\", \"ticks\": \"\"}, \"bgcolor\": \"white\", \"caxis\": {\"gridcolor\": \"#DFE8F3\", \"linecolor\": \"#A2B1C6\", \"ticks\": \"\"}}, \"title\": {\"x\": 0.05}, \"xaxis\": {\"automargin\": true, \"gridcolor\": \"#EBF0F8\", \"linecolor\": \"#EBF0F8\", \"ticks\": \"\", \"title\": {\"standoff\": 15}, \"zerolinecolor\": \"#EBF0F8\", \"zerolinewidth\": 2}, \"yaxis\": {\"automargin\": true, \"gridcolor\": \"#EBF0F8\", \"linecolor\": \"#EBF0F8\", \"ticks\": \"\", \"title\": {\"standoff\": 15}, \"zerolinecolor\": \"#EBF0F8\", \"zerolinewidth\": 2}}}, \"title\": {\"text\": \"Price Summary and Additional Metrics for Product ID: BHZ || Achocolatado em P\\u00f3 Nescau 2.0 Sach\\u00ea 1,2Kg\"}, \"xaxis\": {\"title\": {\"text\": \"Date\"}}, \"yaxis\": {\"title\": {\"text\": \"Price\"}}},                        {\"responsive\": true}                    ).then(function(){\n",
       "                            \n",
       "var gd = document.getElementById('ac6c62be-3ed2-4f69-8eda-704c5731652c');\n",
       "var x = new MutationObserver(function (mutations, observer) {{\n",
       "        var display = window.getComputedStyle(gd).display;\n",
       "        if (!display || display === 'none') {{\n",
       "            console.log([gd, 'removed!']);\n",
       "            Plotly.purge(gd);\n",
       "            observer.disconnect();\n",
       "        }}\n",
       "}});\n",
       "\n",
       "// Listen for the removal of the full notebook cells\n",
       "var notebookContainer = gd.closest('#notebook-container');\n",
       "if (notebookContainer) {{\n",
       "    x.observe(notebookContainer, {childList: true});\n",
       "}}\n",
       "\n",
       "// Listen for the clearing of the current output cell\n",
       "var outputEl = gd.closest('.output');\n",
       "if (outputEl) {{\n",
       "    x.observe(outputEl, {childList: true});\n",
       "}}\n",
       "\n",
       "                        })                };                });            </script>        </div>"
      ]
     },
     "metadata": {},
     "output_type": "display_data"
    },
    {
     "data": {
      "text/plain": [
       "<function __main__.plot_product_prices_with_complement(product_name)>"
      ]
     },
     "execution_count": 22,
     "metadata": {},
     "output_type": "execute_result"
    }
   ],
   "source": [
    "import plotly.express as px\n",
    "import plotly.graph_objects as go\n",
    "import ipywidgets as widgets\n",
    "from ipywidgets import interact\n",
    "\n",
    "# Function to plot data for a single product with additional metrics\n",
    "def plot_product_prices_with_complement(product_name):\n",
    "    product_data = merged_df[merged_df['product_name'] == product_name]\n",
    "\n",
    "    fig = go.Figure()\n",
    "\n",
    "    # Plot the summary statistics\n",
    "    fig.add_trace(go.Scatter(x=product_data['quotation_date'], y=product_data['min'], mode='lines', name='Min'))\n",
    "    fig.add_trace(go.Scatter(x=product_data['quotation_date'], y=product_data['q1'], mode='lines', name='Q1'))\n",
    "    fig.add_trace(go.Scatter(x=product_data['quotation_date'], y=product_data['p10'], mode='lines', name='P10'))\n",
    "    fig.add_trace(go.Scatter(x=product_data['quotation_date'], y=product_data['median'], mode='lines', name='Median'))\n",
    "    fig.add_trace(go.Scatter(x=product_data['quotation_date'], y=product_data['q3'], mode='lines', name='Q3'))\n",
    "    fig.add_trace(go.Scatter(x=product_data['quotation_date'], y=product_data['max'], mode='lines', name='Max'))\n",
    "    \n",
    "    # Plot the additional values with connectgaps=True\n",
    "    fig.add_trace(go.Scatter(x=product_data['quotation_date'], y=product_data['precio'], mode='markers+lines', name='Sale Price', line=dict(dash='dash'), marker=dict(symbol='circle'), connectgaps=True))\n",
    "    fig.add_trace(go.Scatter(x=product_data['quotation_date'], y=product_data['precio_neto'], mode='markers+lines', name='NET Sale Price', line=dict(dash='dash'), marker=dict(symbol='circle'), connectgaps=True))\n",
    "\n",
    "    fig.update_layout(\n",
    "        title=f'Price Summary and Additional Metrics for Product ID: {product_name}',\n",
    "        xaxis_title='Date',\n",
    "        yaxis_title='Price',\n",
    "        legend_title='Metrics',\n",
    "        height=800,\n",
    "        template='plotly_white'\n",
    "    )\n",
    "\n",
    "    fig.show()\n",
    "\n",
    "# Get unique product IDs\n",
    "product_names = pd.Series(merged_df.product_name.unique()).sort_values()\n",
    "\n",
    "# Create dropdown widget\n",
    "dropdown = widgets.Dropdown(options=product_names, description='Product Name:')\n",
    "\n",
    "# Interact function to update plot based on dropdown selection\n",
    "interact(plot_product_prices_with_complement, product_name=dropdown)"
   ]
  },
  {
   "cell_type": "code",
   "execution_count": 7,
   "metadata": {},
   "outputs": [],
   "source": [
    "df['product_name'] = df.region_code + ' || ' + df.product_name"
   ]
  },
  {
   "cell_type": "code",
   "execution_count": 8,
   "metadata": {},
   "outputs": [],
   "source": [
    "df2 = df[['quotation_date','source_id','product_name','gmv_usd','percentil', 'cash_margin','net_cash_margin']].copy()"
   ]
  },
  {
   "cell_type": "code",
   "execution_count": 9,
   "metadata": {},
   "outputs": [],
   "source": [
    "# Assuming df2 is your DataFrame\n",
    "# Ensure 'quotation_date' is in datetime format\n",
    "df2['quotation_date'] = pd.to_datetime(df2['quotation_date'])\n",
    "\n",
    "# Create a new column for the start of the week\n",
    "df2['week_start'] = df2['quotation_date'] - pd.to_timedelta(df2['quotation_date'].dt.weekday, unit='d')\n",
    "\n",
    "# Group by the start of the week, source_id, and product_name\n",
    "weekly_group = df2.groupby(['week_start', 'source_id', 'product_name'])\n",
    "\n",
    "# Calculate the sum of 'gmv_usd' for each group\n",
    "weekly_gmv_sum = weekly_group['gmv_usd'].sum().reset_index(name='weekly_gmv_sum')\n",
    "\n",
    "# Calculate the sum of 'cash_margin' for each group\n",
    "weekly_cm_sum = weekly_group['cash_margin'].sum().reset_index(name='weekly_cm_sum')\n",
    "\n",
    "# Calculate the sum of 'net_cash_margin' for each group\n",
    "weekly_ncm_sum = weekly_group['net_cash_margin'].sum().reset_index(name='weekly_ncm_sum')\n",
    "\n",
    "# Calculate the weighted percentile for each group\n",
    "weekly_weighted_percentil = weekly_group.apply(\n",
    "    lambda x: (x['percentil'] * x['gmv_usd']).sum() / x['gmv_usd'].sum()\n",
    ").reset_index(name='weighted_percentil')\n",
    "\n",
    "# Merge the results\n",
    "weekly_summary = pd.merge(weekly_gmv_sum, weekly_weighted_percentil, on=['week_start', 'source_id', 'product_name'])\n",
    "weekly_summary = pd.merge(weekly_summary, weekly_cm_sum, on=['week_start', 'source_id', 'product_name'])\n",
    "weekly_summary = pd.merge(weekly_summary, weekly_ncm_sum, on=['week_start', 'source_id', 'product_name'])"
   ]
  },
  {
   "cell_type": "code",
   "execution_count": 10,
   "metadata": {},
   "outputs": [
    {
     "data": {
      "text/html": [
       "<div>\n",
       "<style scoped>\n",
       "    .dataframe tbody tr th:only-of-type {\n",
       "        vertical-align: middle;\n",
       "    }\n",
       "\n",
       "    .dataframe tbody tr th {\n",
       "        vertical-align: top;\n",
       "    }\n",
       "\n",
       "    .dataframe thead th {\n",
       "        text-align: right;\n",
       "    }\n",
       "</style>\n",
       "<table border=\"1\" class=\"dataframe\">\n",
       "  <thead>\n",
       "    <tr style=\"text-align: right;\">\n",
       "      <th></th>\n",
       "      <th>week_start</th>\n",
       "      <th>source_id</th>\n",
       "      <th>product_name</th>\n",
       "      <th>weekly_gmv_sum</th>\n",
       "      <th>weighted_percentil</th>\n",
       "      <th>weekly_cm_sum</th>\n",
       "      <th>weekly_ncm_sum</th>\n",
       "    </tr>\n",
       "  </thead>\n",
       "  <tbody>\n",
       "    <tr>\n",
       "      <th>0</th>\n",
       "      <td>2023-10-30</td>\n",
       "      <td>72318</td>\n",
       "      <td>SPO || Feijão Preto Camil 1Kg Pacote de 1kg Un...</td>\n",
       "      <td>6072.41619</td>\n",
       "      <td>47.345912</td>\n",
       "      <td>-44.319862</td>\n",
       "      <td>-44.319862</td>\n",
       "    </tr>\n",
       "    <tr>\n",
       "      <th>1</th>\n",
       "      <td>2023-10-30</td>\n",
       "      <td>72329</td>\n",
       "      <td>SPO || Feijão Preto Kicaldo 1Kg Pacote de 1kg ...</td>\n",
       "      <td>3461.75462</td>\n",
       "      <td>37.828775</td>\n",
       "      <td>104.305740</td>\n",
       "      <td>104.305740</td>\n",
       "    </tr>\n",
       "    <tr>\n",
       "      <th>2</th>\n",
       "      <td>2023-10-30</td>\n",
       "      <td>72488</td>\n",
       "      <td>SPO || Feijão Carioca Camil 1Kg Pacote de 1kg ...</td>\n",
       "      <td>15953.34433</td>\n",
       "      <td>71.882425</td>\n",
       "      <td>422.672407</td>\n",
       "      <td>-683.835936</td>\n",
       "    </tr>\n",
       "    <tr>\n",
       "      <th>3</th>\n",
       "      <td>2023-10-30</td>\n",
       "      <td>72497</td>\n",
       "      <td>SPO || Feijão Carioca Kicaldo 1Kg Pacote de 1k...</td>\n",
       "      <td>12110.66844</td>\n",
       "      <td>78.022707</td>\n",
       "      <td>577.079537</td>\n",
       "      <td>169.094374</td>\n",
       "    </tr>\n",
       "    <tr>\n",
       "      <th>4</th>\n",
       "      <td>2023-10-30</td>\n",
       "      <td>73456</td>\n",
       "      <td>SPO || Açúcar Refinado União 1Kg Pacote de 1kg...</td>\n",
       "      <td>5903.36729</td>\n",
       "      <td>12.758196</td>\n",
       "      <td>188.688225</td>\n",
       "      <td>89.218627</td>\n",
       "    </tr>\n",
       "    <tr>\n",
       "      <th>...</th>\n",
       "      <td>...</td>\n",
       "      <td>...</td>\n",
       "      <td>...</td>\n",
       "      <td>...</td>\n",
       "      <td>...</td>\n",
       "      <td>...</td>\n",
       "      <td>...</td>\n",
       "    </tr>\n",
       "    <tr>\n",
       "      <th>46018</th>\n",
       "      <td>2024-05-27</td>\n",
       "      <td>652383</td>\n",
       "      <td>CWB || Sassami de Frango Envelopado CX 20Kg - ...</td>\n",
       "      <td>467.03158</td>\n",
       "      <td>31.453300</td>\n",
       "      <td>44.004643</td>\n",
       "      <td>44.004643</td>\n",
       "    </tr>\n",
       "    <tr>\n",
       "      <th>46019</th>\n",
       "      <td>2024-05-27</td>\n",
       "      <td>652431</td>\n",
       "      <td>VCP || Sabão em pó Triex Flowers 800g Pacote d...</td>\n",
       "      <td>15.83998</td>\n",
       "      <td>210.548757</td>\n",
       "      <td>2.469580</td>\n",
       "      <td>2.469580</td>\n",
       "    </tr>\n",
       "    <tr>\n",
       "      <th>46020</th>\n",
       "      <td>2024-05-27</td>\n",
       "      <td>652441</td>\n",
       "      <td>SPO || Sassami de Frango Envelopado CX 20Kg - ...</td>\n",
       "      <td>1546.23151</td>\n",
       "      <td>15.826519</td>\n",
       "      <td>198.683360</td>\n",
       "      <td>198.683360</td>\n",
       "    </tr>\n",
       "    <tr>\n",
       "      <th>46021</th>\n",
       "      <td>2024-05-27</td>\n",
       "      <td>652453</td>\n",
       "      <td>BHZ || Filé de Peito de Frango Envelopado CX 2...</td>\n",
       "      <td>5443.74724</td>\n",
       "      <td>56.713513</td>\n",
       "      <td>637.179024</td>\n",
       "      <td>401.056087</td>\n",
       "    </tr>\n",
       "    <tr>\n",
       "      <th>46022</th>\n",
       "      <td>2024-05-27</td>\n",
       "      <td>653339</td>\n",
       "      <td>BHZ || Filé de Peito de Frango c/ Sassami Enve...</td>\n",
       "      <td>3865.22092</td>\n",
       "      <td>22.311245</td>\n",
       "      <td>434.484228</td>\n",
       "      <td>357.012984</td>\n",
       "    </tr>\n",
       "  </tbody>\n",
       "</table>\n",
       "<p>46023 rows × 7 columns</p>\n",
       "</div>"
      ],
      "text/plain": [
       "      week_start  source_id  \\\n",
       "0     2023-10-30      72318   \n",
       "1     2023-10-30      72329   \n",
       "2     2023-10-30      72488   \n",
       "3     2023-10-30      72497   \n",
       "4     2023-10-30      73456   \n",
       "...          ...        ...   \n",
       "46018 2024-05-27     652383   \n",
       "46019 2024-05-27     652431   \n",
       "46020 2024-05-27     652441   \n",
       "46021 2024-05-27     652453   \n",
       "46022 2024-05-27     653339   \n",
       "\n",
       "                                            product_name  weekly_gmv_sum  \\\n",
       "0      SPO || Feijão Preto Camil 1Kg Pacote de 1kg Un...      6072.41619   \n",
       "1      SPO || Feijão Preto Kicaldo 1Kg Pacote de 1kg ...      3461.75462   \n",
       "2      SPO || Feijão Carioca Camil 1Kg Pacote de 1kg ...     15953.34433   \n",
       "3      SPO || Feijão Carioca Kicaldo 1Kg Pacote de 1k...     12110.66844   \n",
       "4      SPO || Açúcar Refinado União 1Kg Pacote de 1kg...      5903.36729   \n",
       "...                                                  ...             ...   \n",
       "46018  CWB || Sassami de Frango Envelopado CX 20Kg - ...       467.03158   \n",
       "46019  VCP || Sabão em pó Triex Flowers 800g Pacote d...        15.83998   \n",
       "46020  SPO || Sassami de Frango Envelopado CX 20Kg - ...      1546.23151   \n",
       "46021  BHZ || Filé de Peito de Frango Envelopado CX 2...      5443.74724   \n",
       "46022  BHZ || Filé de Peito de Frango c/ Sassami Enve...      3865.22092   \n",
       "\n",
       "       weighted_percentil  weekly_cm_sum  weekly_ncm_sum  \n",
       "0               47.345912     -44.319862      -44.319862  \n",
       "1               37.828775     104.305740      104.305740  \n",
       "2               71.882425     422.672407     -683.835936  \n",
       "3               78.022707     577.079537      169.094374  \n",
       "4               12.758196     188.688225       89.218627  \n",
       "...                   ...            ...             ...  \n",
       "46018           31.453300      44.004643       44.004643  \n",
       "46019          210.548757       2.469580        2.469580  \n",
       "46020           15.826519     198.683360      198.683360  \n",
       "46021           56.713513     637.179024      401.056087  \n",
       "46022           22.311245     434.484228      357.012984  \n",
       "\n",
       "[46023 rows x 7 columns]"
      ]
     },
     "execution_count": 10,
     "metadata": {},
     "output_type": "execute_result"
    }
   ],
   "source": [
    "weekly_summary"
   ]
  },
  {
   "cell_type": "code",
   "execution_count": 13,
   "metadata": {},
   "outputs": [
    {
     "data": {
      "application/vnd.jupyter.widget-view+json": {
       "model_id": "113889aaf40d40519e6c1caba0697039",
       "version_major": 2,
       "version_minor": 0
      },
      "text/plain": [
       "interactive(children=(Dropdown(description='Product Name:', options=('BHZ || Achocolatado em Pó Nescau 2.0 Sac…"
      ]
     },
     "metadata": {},
     "output_type": "display_data"
    },
    {
     "data": {
      "application/vnd.plotly.v1+json": {
       "config": {
        "plotlyServerURL": "https://plot.ly"
       },
       "data": [
        {
         "connectgaps": true,
         "line": {
          "dash": "dash"
         },
         "marker": {
          "symbol": "circle"
         },
         "mode": "markers+lines",
         "name": "Percentil",
         "type": "scatter",
         "x": [
          "2023-10-30T00:00:00",
          "2023-11-06T00:00:00",
          "2023-11-13T00:00:00",
          "2023-11-20T00:00:00",
          "2023-11-27T00:00:00",
          "2023-12-04T00:00:00",
          "2023-12-11T00:00:00",
          "2023-12-18T00:00:00",
          "2023-12-25T00:00:00",
          "2024-01-01T00:00:00",
          "2024-01-08T00:00:00",
          "2024-01-15T00:00:00",
          "2024-01-22T00:00:00",
          "2024-01-29T00:00:00",
          "2024-02-05T00:00:00",
          "2024-02-12T00:00:00",
          "2024-02-19T00:00:00",
          "2024-02-26T00:00:00",
          "2024-03-04T00:00:00",
          "2024-03-11T00:00:00",
          "2024-03-18T00:00:00",
          "2024-03-25T00:00:00",
          "2024-04-01T00:00:00",
          "2024-04-08T00:00:00",
          "2024-04-15T00:00:00",
          "2024-04-22T00:00:00",
          "2024-04-29T00:00:00",
          "2024-05-06T00:00:00",
          "2024-05-13T00:00:00",
          "2024-05-20T00:00:00",
          "2024-05-27T00:00:00"
         ],
         "y": [
          8.305675013721126,
          11.025175282627956,
          8.26358834623554,
          5.661573417355915,
          3.7390326725238574,
          7.916183845992577,
          7.831743035699603,
          33.18194384485261,
          76.03463628241585,
          80.22508641998095,
          51.520449493188,
          33.512718929415,
          35.06513321448238,
          33.35673981593923,
          45.09314921701571,
          64.43375985228568,
          35.240211626993116,
          40.14680044397317,
          40.746561435784294,
          17.881142943593105,
          18.821512816855783,
          37.099750733116494,
          56.683690091779326,
          56.656752039640665,
          28.247577266600985,
          32.308423762620336,
          26.83587740707277,
          20.207306982243328,
          11.4310943755307,
          17.914588857003565,
          17.980246696470115
         ]
        },
        {
         "mode": "lines",
         "name": "GMV",
         "type": "scatter",
         "x": [
          "2023-10-30T00:00:00",
          "2023-11-06T00:00:00",
          "2023-11-13T00:00:00",
          "2023-11-20T00:00:00",
          "2023-11-27T00:00:00",
          "2023-12-04T00:00:00",
          "2023-12-11T00:00:00",
          "2023-12-18T00:00:00",
          "2023-12-25T00:00:00",
          "2024-01-01T00:00:00",
          "2024-01-08T00:00:00",
          "2024-01-15T00:00:00",
          "2024-01-22T00:00:00",
          "2024-01-29T00:00:00",
          "2024-02-05T00:00:00",
          "2024-02-12T00:00:00",
          "2024-02-19T00:00:00",
          "2024-02-26T00:00:00",
          "2024-03-04T00:00:00",
          "2024-03-11T00:00:00",
          "2024-03-18T00:00:00",
          "2024-03-25T00:00:00",
          "2024-04-01T00:00:00",
          "2024-04-08T00:00:00",
          "2024-04-15T00:00:00",
          "2024-04-22T00:00:00",
          "2024-04-29T00:00:00",
          "2024-05-06T00:00:00",
          "2024-05-13T00:00:00",
          "2024-05-20T00:00:00",
          "2024-05-27T00:00:00"
         ],
         "y": [
          93197.13312,
          216670.08828,
          184809.69272,
          167708.068,
          215011.3454,
          218738.08254,
          209255.03754,
          194174.19608999998,
          119980.18286,
          118504.56402,
          185246.31326,
          187110.2097,
          174300.4187,
          175296.88306999998,
          175222.32065,
          136287.76533999998,
          197302.06355,
          163626.79669000002,
          172987.93864,
          160014.96875,
          143976.54516,
          153820.45726,
          166493.86204,
          91845.99995,
          136486.91585,
          70716.96085,
          145024.30976,
          231349.04665,
          192800.61594,
          174079.805,
          150768.2027
         ],
         "yaxis": "y2"
        },
        {
         "mode": "lines",
         "name": "CM",
         "type": "scatter",
         "x": [
          "2023-10-30T00:00:00",
          "2023-11-06T00:00:00",
          "2023-11-13T00:00:00",
          "2023-11-20T00:00:00",
          "2023-11-27T00:00:00",
          "2023-12-04T00:00:00",
          "2023-12-11T00:00:00",
          "2023-12-18T00:00:00",
          "2023-12-25T00:00:00",
          "2024-01-01T00:00:00",
          "2024-01-08T00:00:00",
          "2024-01-15T00:00:00",
          "2024-01-22T00:00:00",
          "2024-01-29T00:00:00",
          "2024-02-05T00:00:00",
          "2024-02-12T00:00:00",
          "2024-02-19T00:00:00",
          "2024-02-26T00:00:00",
          "2024-03-04T00:00:00",
          "2024-03-11T00:00:00",
          "2024-03-18T00:00:00",
          "2024-03-25T00:00:00",
          "2024-04-01T00:00:00",
          "2024-04-08T00:00:00",
          "2024-04-15T00:00:00",
          "2024-04-22T00:00:00",
          "2024-04-29T00:00:00",
          "2024-05-06T00:00:00",
          "2024-05-13T00:00:00",
          "2024-05-20T00:00:00",
          "2024-05-27T00:00:00"
         ],
         "y": [
          6317.798627544675,
          14739.831878089582,
          13174.585916905782,
          14944.352724204973,
          18589.24869764788,
          18286.173736788507,
          16521.735650865518,
          22408.650500892076,
          23194.947444938938,
          16671.930900674943,
          21166.56332077263,
          17388.268008174415,
          13914.734887319657,
          13435.753301109027,
          15622.926809988663,
          11830.41944772639,
          16859.23949989954,
          14318.097150799591,
          14664.232511207196,
          15493.130074095483,
          14452.750517995355,
          17192.460610419126,
          18324.811567898047,
          9502.075939641634,
          10309.642252161973,
          5772.103468063669,
          13949.135795792521,
          21378.369551653046,
          20257.68507310536,
          22326.853872403244,
          21051.57685720992
         ],
         "yaxis": "y2"
        },
        {
         "mode": "lines",
         "name": "NCM",
         "type": "scatter",
         "x": [
          "2023-10-30T00:00:00",
          "2023-11-06T00:00:00",
          "2023-11-13T00:00:00",
          "2023-11-20T00:00:00",
          "2023-11-27T00:00:00",
          "2023-12-04T00:00:00",
          "2023-12-11T00:00:00",
          "2023-12-18T00:00:00",
          "2023-12-25T00:00:00",
          "2024-01-01T00:00:00",
          "2024-01-08T00:00:00",
          "2024-01-15T00:00:00",
          "2024-01-22T00:00:00",
          "2024-01-29T00:00:00",
          "2024-02-05T00:00:00",
          "2024-02-12T00:00:00",
          "2024-02-19T00:00:00",
          "2024-02-26T00:00:00",
          "2024-03-04T00:00:00",
          "2024-03-11T00:00:00",
          "2024-03-18T00:00:00",
          "2024-03-25T00:00:00",
          "2024-04-01T00:00:00",
          "2024-04-08T00:00:00",
          "2024-04-15T00:00:00",
          "2024-04-22T00:00:00",
          "2024-04-29T00:00:00",
          "2024-05-06T00:00:00",
          "2024-05-13T00:00:00",
          "2024-05-20T00:00:00",
          "2024-05-27T00:00:00"
         ],
         "y": [
          1317.0545779679442,
          3601.936897626044,
          3856.0064601216422,
          6906.772174645813,
          9266.97203265073,
          7911.471661752115,
          8016.983799908877,
          12251.648763697454,
          10449.814468129367,
          10698.21769900429,
          11665.63271168429,
          7975.835958562793,
          5884.164581365607,
          6002.389593151477,
          6365.038010098343,
          3674.886224639709,
          -1371.3665569114978,
          -1823.9712553140307,
          5990.3769896730955,
          7449.741137676802,
          6935.667697700694,
          9049.388490059986,
          10031.810086785936,
          4796.092858115843,
          4545.175070989902,
          3700.8089299122,
          5669.03956839501,
          7835.859571147407,
          9460.11335217387,
          12076.253995570652,
          10727.156121677117
         ],
         "yaxis": "y2"
        }
       ],
       "layout": {
        "height": 800,
        "legend": {
         "title": {
          "text": "Metrics"
         }
        },
        "template": {
         "data": {
          "bar": [
           {
            "error_x": {
             "color": "#2a3f5f"
            },
            "error_y": {
             "color": "#2a3f5f"
            },
            "marker": {
             "line": {
              "color": "white",
              "width": 0.5
             }
            },
            "type": "bar"
           }
          ],
          "barpolar": [
           {
            "marker": {
             "line": {
              "color": "white",
              "width": 0.5
             }
            },
            "type": "barpolar"
           }
          ],
          "carpet": [
           {
            "aaxis": {
             "endlinecolor": "#2a3f5f",
             "gridcolor": "#C8D4E3",
             "linecolor": "#C8D4E3",
             "minorgridcolor": "#C8D4E3",
             "startlinecolor": "#2a3f5f"
            },
            "baxis": {
             "endlinecolor": "#2a3f5f",
             "gridcolor": "#C8D4E3",
             "linecolor": "#C8D4E3",
             "minorgridcolor": "#C8D4E3",
             "startlinecolor": "#2a3f5f"
            },
            "type": "carpet"
           }
          ],
          "choropleth": [
           {
            "colorbar": {
             "outlinewidth": 0,
             "ticks": ""
            },
            "type": "choropleth"
           }
          ],
          "contour": [
           {
            "colorbar": {
             "outlinewidth": 0,
             "ticks": ""
            },
            "colorscale": [
             [
              0,
              "#0d0887"
             ],
             [
              0.1111111111111111,
              "#46039f"
             ],
             [
              0.2222222222222222,
              "#7201a8"
             ],
             [
              0.3333333333333333,
              "#9c179e"
             ],
             [
              0.4444444444444444,
              "#bd3786"
             ],
             [
              0.5555555555555556,
              "#d8576b"
             ],
             [
              0.6666666666666666,
              "#ed7953"
             ],
             [
              0.7777777777777778,
              "#fb9f3a"
             ],
             [
              0.8888888888888888,
              "#fdca26"
             ],
             [
              1,
              "#f0f921"
             ]
            ],
            "type": "contour"
           }
          ],
          "contourcarpet": [
           {
            "colorbar": {
             "outlinewidth": 0,
             "ticks": ""
            },
            "type": "contourcarpet"
           }
          ],
          "heatmap": [
           {
            "colorbar": {
             "outlinewidth": 0,
             "ticks": ""
            },
            "colorscale": [
             [
              0,
              "#0d0887"
             ],
             [
              0.1111111111111111,
              "#46039f"
             ],
             [
              0.2222222222222222,
              "#7201a8"
             ],
             [
              0.3333333333333333,
              "#9c179e"
             ],
             [
              0.4444444444444444,
              "#bd3786"
             ],
             [
              0.5555555555555556,
              "#d8576b"
             ],
             [
              0.6666666666666666,
              "#ed7953"
             ],
             [
              0.7777777777777778,
              "#fb9f3a"
             ],
             [
              0.8888888888888888,
              "#fdca26"
             ],
             [
              1,
              "#f0f921"
             ]
            ],
            "type": "heatmap"
           }
          ],
          "heatmapgl": [
           {
            "colorbar": {
             "outlinewidth": 0,
             "ticks": ""
            },
            "colorscale": [
             [
              0,
              "#0d0887"
             ],
             [
              0.1111111111111111,
              "#46039f"
             ],
             [
              0.2222222222222222,
              "#7201a8"
             ],
             [
              0.3333333333333333,
              "#9c179e"
             ],
             [
              0.4444444444444444,
              "#bd3786"
             ],
             [
              0.5555555555555556,
              "#d8576b"
             ],
             [
              0.6666666666666666,
              "#ed7953"
             ],
             [
              0.7777777777777778,
              "#fb9f3a"
             ],
             [
              0.8888888888888888,
              "#fdca26"
             ],
             [
              1,
              "#f0f921"
             ]
            ],
            "type": "heatmapgl"
           }
          ],
          "histogram": [
           {
            "marker": {
             "colorbar": {
              "outlinewidth": 0,
              "ticks": ""
             }
            },
            "type": "histogram"
           }
          ],
          "histogram2d": [
           {
            "colorbar": {
             "outlinewidth": 0,
             "ticks": ""
            },
            "colorscale": [
             [
              0,
              "#0d0887"
             ],
             [
              0.1111111111111111,
              "#46039f"
             ],
             [
              0.2222222222222222,
              "#7201a8"
             ],
             [
              0.3333333333333333,
              "#9c179e"
             ],
             [
              0.4444444444444444,
              "#bd3786"
             ],
             [
              0.5555555555555556,
              "#d8576b"
             ],
             [
              0.6666666666666666,
              "#ed7953"
             ],
             [
              0.7777777777777778,
              "#fb9f3a"
             ],
             [
              0.8888888888888888,
              "#fdca26"
             ],
             [
              1,
              "#f0f921"
             ]
            ],
            "type": "histogram2d"
           }
          ],
          "histogram2dcontour": [
           {
            "colorbar": {
             "outlinewidth": 0,
             "ticks": ""
            },
            "colorscale": [
             [
              0,
              "#0d0887"
             ],
             [
              0.1111111111111111,
              "#46039f"
             ],
             [
              0.2222222222222222,
              "#7201a8"
             ],
             [
              0.3333333333333333,
              "#9c179e"
             ],
             [
              0.4444444444444444,
              "#bd3786"
             ],
             [
              0.5555555555555556,
              "#d8576b"
             ],
             [
              0.6666666666666666,
              "#ed7953"
             ],
             [
              0.7777777777777778,
              "#fb9f3a"
             ],
             [
              0.8888888888888888,
              "#fdca26"
             ],
             [
              1,
              "#f0f921"
             ]
            ],
            "type": "histogram2dcontour"
           }
          ],
          "mesh3d": [
           {
            "colorbar": {
             "outlinewidth": 0,
             "ticks": ""
            },
            "type": "mesh3d"
           }
          ],
          "parcoords": [
           {
            "line": {
             "colorbar": {
              "outlinewidth": 0,
              "ticks": ""
             }
            },
            "type": "parcoords"
           }
          ],
          "pie": [
           {
            "automargin": true,
            "type": "pie"
           }
          ],
          "scatter": [
           {
            "marker": {
             "colorbar": {
              "outlinewidth": 0,
              "ticks": ""
             }
            },
            "type": "scatter"
           }
          ],
          "scatter3d": [
           {
            "line": {
             "colorbar": {
              "outlinewidth": 0,
              "ticks": ""
             }
            },
            "marker": {
             "colorbar": {
              "outlinewidth": 0,
              "ticks": ""
             }
            },
            "type": "scatter3d"
           }
          ],
          "scattercarpet": [
           {
            "marker": {
             "colorbar": {
              "outlinewidth": 0,
              "ticks": ""
             }
            },
            "type": "scattercarpet"
           }
          ],
          "scattergeo": [
           {
            "marker": {
             "colorbar": {
              "outlinewidth": 0,
              "ticks": ""
             }
            },
            "type": "scattergeo"
           }
          ],
          "scattergl": [
           {
            "marker": {
             "colorbar": {
              "outlinewidth": 0,
              "ticks": ""
             }
            },
            "type": "scattergl"
           }
          ],
          "scattermapbox": [
           {
            "marker": {
             "colorbar": {
              "outlinewidth": 0,
              "ticks": ""
             }
            },
            "type": "scattermapbox"
           }
          ],
          "scatterpolar": [
           {
            "marker": {
             "colorbar": {
              "outlinewidth": 0,
              "ticks": ""
             }
            },
            "type": "scatterpolar"
           }
          ],
          "scatterpolargl": [
           {
            "marker": {
             "colorbar": {
              "outlinewidth": 0,
              "ticks": ""
             }
            },
            "type": "scatterpolargl"
           }
          ],
          "scatterternary": [
           {
            "marker": {
             "colorbar": {
              "outlinewidth": 0,
              "ticks": ""
             }
            },
            "type": "scatterternary"
           }
          ],
          "surface": [
           {
            "colorbar": {
             "outlinewidth": 0,
             "ticks": ""
            },
            "colorscale": [
             [
              0,
              "#0d0887"
             ],
             [
              0.1111111111111111,
              "#46039f"
             ],
             [
              0.2222222222222222,
              "#7201a8"
             ],
             [
              0.3333333333333333,
              "#9c179e"
             ],
             [
              0.4444444444444444,
              "#bd3786"
             ],
             [
              0.5555555555555556,
              "#d8576b"
             ],
             [
              0.6666666666666666,
              "#ed7953"
             ],
             [
              0.7777777777777778,
              "#fb9f3a"
             ],
             [
              0.8888888888888888,
              "#fdca26"
             ],
             [
              1,
              "#f0f921"
             ]
            ],
            "type": "surface"
           }
          ],
          "table": [
           {
            "cells": {
             "fill": {
              "color": "#EBF0F8"
             },
             "line": {
              "color": "white"
             }
            },
            "header": {
             "fill": {
              "color": "#C8D4E3"
             },
             "line": {
              "color": "white"
             }
            },
            "type": "table"
           }
          ]
         },
         "layout": {
          "annotationdefaults": {
           "arrowcolor": "#2a3f5f",
           "arrowhead": 0,
           "arrowwidth": 1
          },
          "autotypenumbers": "strict",
          "coloraxis": {
           "colorbar": {
            "outlinewidth": 0,
            "ticks": ""
           }
          },
          "colorscale": {
           "diverging": [
            [
             0,
             "#8e0152"
            ],
            [
             0.1,
             "#c51b7d"
            ],
            [
             0.2,
             "#de77ae"
            ],
            [
             0.3,
             "#f1b6da"
            ],
            [
             0.4,
             "#fde0ef"
            ],
            [
             0.5,
             "#f7f7f7"
            ],
            [
             0.6,
             "#e6f5d0"
            ],
            [
             0.7,
             "#b8e186"
            ],
            [
             0.8,
             "#7fbc41"
            ],
            [
             0.9,
             "#4d9221"
            ],
            [
             1,
             "#276419"
            ]
           ],
           "sequential": [
            [
             0,
             "#0d0887"
            ],
            [
             0.1111111111111111,
             "#46039f"
            ],
            [
             0.2222222222222222,
             "#7201a8"
            ],
            [
             0.3333333333333333,
             "#9c179e"
            ],
            [
             0.4444444444444444,
             "#bd3786"
            ],
            [
             0.5555555555555556,
             "#d8576b"
            ],
            [
             0.6666666666666666,
             "#ed7953"
            ],
            [
             0.7777777777777778,
             "#fb9f3a"
            ],
            [
             0.8888888888888888,
             "#fdca26"
            ],
            [
             1,
             "#f0f921"
            ]
           ],
           "sequentialminus": [
            [
             0,
             "#0d0887"
            ],
            [
             0.1111111111111111,
             "#46039f"
            ],
            [
             0.2222222222222222,
             "#7201a8"
            ],
            [
             0.3333333333333333,
             "#9c179e"
            ],
            [
             0.4444444444444444,
             "#bd3786"
            ],
            [
             0.5555555555555556,
             "#d8576b"
            ],
            [
             0.6666666666666666,
             "#ed7953"
            ],
            [
             0.7777777777777778,
             "#fb9f3a"
            ],
            [
             0.8888888888888888,
             "#fdca26"
            ],
            [
             1,
             "#f0f921"
            ]
           ]
          },
          "colorway": [
           "#636efa",
           "#EF553B",
           "#00cc96",
           "#ab63fa",
           "#FFA15A",
           "#19d3f3",
           "#FF6692",
           "#B6E880",
           "#FF97FF",
           "#FECB52"
          ],
          "font": {
           "color": "#2a3f5f"
          },
          "geo": {
           "bgcolor": "white",
           "lakecolor": "white",
           "landcolor": "white",
           "showlakes": true,
           "showland": true,
           "subunitcolor": "#C8D4E3"
          },
          "hoverlabel": {
           "align": "left"
          },
          "hovermode": "closest",
          "mapbox": {
           "style": "light"
          },
          "paper_bgcolor": "white",
          "plot_bgcolor": "white",
          "polar": {
           "angularaxis": {
            "gridcolor": "#EBF0F8",
            "linecolor": "#EBF0F8",
            "ticks": ""
           },
           "bgcolor": "white",
           "radialaxis": {
            "gridcolor": "#EBF0F8",
            "linecolor": "#EBF0F8",
            "ticks": ""
           }
          },
          "scene": {
           "xaxis": {
            "backgroundcolor": "white",
            "gridcolor": "#DFE8F3",
            "gridwidth": 2,
            "linecolor": "#EBF0F8",
            "showbackground": true,
            "ticks": "",
            "zerolinecolor": "#EBF0F8"
           },
           "yaxis": {
            "backgroundcolor": "white",
            "gridcolor": "#DFE8F3",
            "gridwidth": 2,
            "linecolor": "#EBF0F8",
            "showbackground": true,
            "ticks": "",
            "zerolinecolor": "#EBF0F8"
           },
           "zaxis": {
            "backgroundcolor": "white",
            "gridcolor": "#DFE8F3",
            "gridwidth": 2,
            "linecolor": "#EBF0F8",
            "showbackground": true,
            "ticks": "",
            "zerolinecolor": "#EBF0F8"
           }
          },
          "shapedefaults": {
           "line": {
            "color": "#2a3f5f"
           }
          },
          "ternary": {
           "aaxis": {
            "gridcolor": "#DFE8F3",
            "linecolor": "#A2B1C6",
            "ticks": ""
           },
           "baxis": {
            "gridcolor": "#DFE8F3",
            "linecolor": "#A2B1C6",
            "ticks": ""
           },
           "bgcolor": "white",
           "caxis": {
            "gridcolor": "#DFE8F3",
            "linecolor": "#A2B1C6",
            "ticks": ""
           }
          },
          "title": {
           "x": 0.05
          },
          "xaxis": {
           "automargin": true,
           "gridcolor": "#EBF0F8",
           "linecolor": "#EBF0F8",
           "ticks": "",
           "title": {
            "standoff": 15
           },
           "zerolinecolor": "#EBF0F8",
           "zerolinewidth": 2
          },
          "yaxis": {
           "automargin": true,
           "gridcolor": "#EBF0F8",
           "linecolor": "#EBF0F8",
           "ticks": "",
           "title": {
            "standoff": 15
           },
           "zerolinecolor": "#EBF0F8",
           "zerolinewidth": 2
          }
         }
        },
        "title": {
         "text": "Price Summary and Additional Metrics for Product ID: SPO || Óleo Vitaliv 900ml PET 900ml Unidade"
        },
        "xaxis": {
         "title": {
          "text": "Date"
         }
        },
        "yaxis": {
         "title": {
          "text": "Percentile"
         }
        },
        "yaxis2": {
         "overlaying": "y",
         "side": "right",
         "title": {
          "text": "GMV"
         }
        }
       }
      },
      "text/html": [
       "<div>                            <div id=\"e63cdacc-da15-4b1e-8105-8a774e33afe7\" class=\"plotly-graph-div\" style=\"height:800px; width:100%;\"></div>            <script type=\"text/javascript\">                require([\"plotly\"], function(Plotly) {                    window.PLOTLYENV=window.PLOTLYENV || {};                                    if (document.getElementById(\"e63cdacc-da15-4b1e-8105-8a774e33afe7\")) {                    Plotly.newPlot(                        \"e63cdacc-da15-4b1e-8105-8a774e33afe7\",                        [{\"connectgaps\": true, \"line\": {\"dash\": \"dash\"}, \"marker\": {\"symbol\": \"circle\"}, \"mode\": \"markers+lines\", \"name\": \"Percentil\", \"type\": \"scatter\", \"x\": [\"2023-10-30T00:00:00\", \"2023-11-06T00:00:00\", \"2023-11-13T00:00:00\", \"2023-11-20T00:00:00\", \"2023-11-27T00:00:00\", \"2023-12-04T00:00:00\", \"2023-12-11T00:00:00\", \"2023-12-18T00:00:00\", \"2023-12-25T00:00:00\", \"2024-01-01T00:00:00\", \"2024-01-08T00:00:00\", \"2024-01-15T00:00:00\", \"2024-01-22T00:00:00\", \"2024-01-29T00:00:00\", \"2024-02-05T00:00:00\", \"2024-02-12T00:00:00\", \"2024-02-19T00:00:00\", \"2024-02-26T00:00:00\", \"2024-03-04T00:00:00\", \"2024-03-11T00:00:00\", \"2024-03-18T00:00:00\", \"2024-03-25T00:00:00\", \"2024-04-01T00:00:00\", \"2024-04-08T00:00:00\", \"2024-04-15T00:00:00\", \"2024-04-22T00:00:00\", \"2024-04-29T00:00:00\", \"2024-05-06T00:00:00\", \"2024-05-13T00:00:00\", \"2024-05-20T00:00:00\", \"2024-05-27T00:00:00\"], \"y\": [8.305675013721126, 11.025175282627956, 8.26358834623554, 5.661573417355915, 3.7390326725238574, 7.916183845992577, 7.831743035699603, 33.18194384485261, 76.03463628241585, 80.22508641998095, 51.520449493188, 33.512718929415, 35.06513321448238, 33.35673981593923, 45.09314921701571, 64.43375985228568, 35.240211626993116, 40.14680044397317, 40.746561435784294, 17.881142943593105, 18.821512816855783, 37.099750733116494, 56.683690091779326, 56.656752039640665, 28.247577266600985, 32.308423762620336, 26.83587740707277, 20.207306982243328, 11.4310943755307, 17.914588857003565, 17.980246696470115]}, {\"mode\": \"lines\", \"name\": \"GMV\", \"type\": \"scatter\", \"x\": [\"2023-10-30T00:00:00\", \"2023-11-06T00:00:00\", \"2023-11-13T00:00:00\", \"2023-11-20T00:00:00\", \"2023-11-27T00:00:00\", \"2023-12-04T00:00:00\", \"2023-12-11T00:00:00\", \"2023-12-18T00:00:00\", \"2023-12-25T00:00:00\", \"2024-01-01T00:00:00\", \"2024-01-08T00:00:00\", \"2024-01-15T00:00:00\", \"2024-01-22T00:00:00\", \"2024-01-29T00:00:00\", \"2024-02-05T00:00:00\", \"2024-02-12T00:00:00\", \"2024-02-19T00:00:00\", \"2024-02-26T00:00:00\", \"2024-03-04T00:00:00\", \"2024-03-11T00:00:00\", \"2024-03-18T00:00:00\", \"2024-03-25T00:00:00\", \"2024-04-01T00:00:00\", \"2024-04-08T00:00:00\", \"2024-04-15T00:00:00\", \"2024-04-22T00:00:00\", \"2024-04-29T00:00:00\", \"2024-05-06T00:00:00\", \"2024-05-13T00:00:00\", \"2024-05-20T00:00:00\", \"2024-05-27T00:00:00\"], \"y\": [93197.13312, 216670.08828, 184809.69272, 167708.068, 215011.3454, 218738.08254, 209255.03754, 194174.19608999998, 119980.18286, 118504.56402, 185246.31326, 187110.2097, 174300.4187, 175296.88306999998, 175222.32065, 136287.76533999998, 197302.06355, 163626.79669000002, 172987.93864, 160014.96875, 143976.54516, 153820.45726, 166493.86204, 91845.99995, 136486.91585, 70716.96085, 145024.30976, 231349.04665, 192800.61594, 174079.805, 150768.2027], \"yaxis\": \"y2\"}, {\"mode\": \"lines\", \"name\": \"CM\", \"type\": \"scatter\", \"x\": [\"2023-10-30T00:00:00\", \"2023-11-06T00:00:00\", \"2023-11-13T00:00:00\", \"2023-11-20T00:00:00\", \"2023-11-27T00:00:00\", \"2023-12-04T00:00:00\", \"2023-12-11T00:00:00\", \"2023-12-18T00:00:00\", \"2023-12-25T00:00:00\", \"2024-01-01T00:00:00\", \"2024-01-08T00:00:00\", \"2024-01-15T00:00:00\", \"2024-01-22T00:00:00\", \"2024-01-29T00:00:00\", \"2024-02-05T00:00:00\", \"2024-02-12T00:00:00\", \"2024-02-19T00:00:00\", \"2024-02-26T00:00:00\", \"2024-03-04T00:00:00\", \"2024-03-11T00:00:00\", \"2024-03-18T00:00:00\", \"2024-03-25T00:00:00\", \"2024-04-01T00:00:00\", \"2024-04-08T00:00:00\", \"2024-04-15T00:00:00\", \"2024-04-22T00:00:00\", \"2024-04-29T00:00:00\", \"2024-05-06T00:00:00\", \"2024-05-13T00:00:00\", \"2024-05-20T00:00:00\", \"2024-05-27T00:00:00\"], \"y\": [6317.798627544675, 14739.831878089582, 13174.585916905782, 14944.352724204973, 18589.24869764788, 18286.173736788507, 16521.735650865518, 22408.650500892076, 23194.947444938938, 16671.930900674943, 21166.56332077263, 17388.268008174415, 13914.734887319657, 13435.753301109027, 15622.926809988663, 11830.41944772639, 16859.23949989954, 14318.097150799591, 14664.232511207196, 15493.130074095483, 14452.750517995355, 17192.460610419126, 18324.811567898047, 9502.075939641634, 10309.642252161973, 5772.103468063669, 13949.135795792521, 21378.369551653046, 20257.68507310536, 22326.853872403244, 21051.57685720992], \"yaxis\": \"y2\"}, {\"mode\": \"lines\", \"name\": \"NCM\", \"type\": \"scatter\", \"x\": [\"2023-10-30T00:00:00\", \"2023-11-06T00:00:00\", \"2023-11-13T00:00:00\", \"2023-11-20T00:00:00\", \"2023-11-27T00:00:00\", \"2023-12-04T00:00:00\", \"2023-12-11T00:00:00\", \"2023-12-18T00:00:00\", \"2023-12-25T00:00:00\", \"2024-01-01T00:00:00\", \"2024-01-08T00:00:00\", \"2024-01-15T00:00:00\", \"2024-01-22T00:00:00\", \"2024-01-29T00:00:00\", \"2024-02-05T00:00:00\", \"2024-02-12T00:00:00\", \"2024-02-19T00:00:00\", \"2024-02-26T00:00:00\", \"2024-03-04T00:00:00\", \"2024-03-11T00:00:00\", \"2024-03-18T00:00:00\", \"2024-03-25T00:00:00\", \"2024-04-01T00:00:00\", \"2024-04-08T00:00:00\", \"2024-04-15T00:00:00\", \"2024-04-22T00:00:00\", \"2024-04-29T00:00:00\", \"2024-05-06T00:00:00\", \"2024-05-13T00:00:00\", \"2024-05-20T00:00:00\", \"2024-05-27T00:00:00\"], \"y\": [1317.0545779679442, 3601.936897626044, 3856.0064601216422, 6906.772174645813, 9266.97203265073, 7911.471661752115, 8016.983799908877, 12251.648763697454, 10449.814468129367, 10698.21769900429, 11665.63271168429, 7975.835958562793, 5884.164581365607, 6002.389593151477, 6365.038010098343, 3674.886224639709, -1371.3665569114978, -1823.9712553140307, 5990.3769896730955, 7449.741137676802, 6935.667697700694, 9049.388490059986, 10031.810086785936, 4796.092858115843, 4545.175070989902, 3700.8089299122, 5669.03956839501, 7835.859571147407, 9460.11335217387, 12076.253995570652, 10727.156121677117], \"yaxis\": \"y2\"}],                        {\"height\": 800, \"legend\": {\"title\": {\"text\": \"Metrics\"}}, \"template\": {\"data\": {\"bar\": [{\"error_x\": {\"color\": \"#2a3f5f\"}, \"error_y\": {\"color\": \"#2a3f5f\"}, \"marker\": {\"line\": {\"color\": \"white\", \"width\": 0.5}}, \"type\": \"bar\"}], \"barpolar\": [{\"marker\": {\"line\": {\"color\": \"white\", \"width\": 0.5}}, \"type\": \"barpolar\"}], \"carpet\": [{\"aaxis\": {\"endlinecolor\": \"#2a3f5f\", \"gridcolor\": \"#C8D4E3\", \"linecolor\": \"#C8D4E3\", \"minorgridcolor\": \"#C8D4E3\", \"startlinecolor\": \"#2a3f5f\"}, \"baxis\": {\"endlinecolor\": \"#2a3f5f\", \"gridcolor\": \"#C8D4E3\", \"linecolor\": \"#C8D4E3\", \"minorgridcolor\": \"#C8D4E3\", \"startlinecolor\": \"#2a3f5f\"}, \"type\": \"carpet\"}], \"choropleth\": [{\"colorbar\": {\"outlinewidth\": 0, \"ticks\": \"\"}, \"type\": \"choropleth\"}], \"contour\": [{\"colorbar\": {\"outlinewidth\": 0, \"ticks\": \"\"}, \"colorscale\": [[0.0, \"#0d0887\"], [0.1111111111111111, \"#46039f\"], [0.2222222222222222, \"#7201a8\"], [0.3333333333333333, \"#9c179e\"], [0.4444444444444444, \"#bd3786\"], [0.5555555555555556, \"#d8576b\"], [0.6666666666666666, \"#ed7953\"], [0.7777777777777778, \"#fb9f3a\"], [0.8888888888888888, \"#fdca26\"], [1.0, \"#f0f921\"]], \"type\": \"contour\"}], \"contourcarpet\": [{\"colorbar\": {\"outlinewidth\": 0, \"ticks\": \"\"}, \"type\": \"contourcarpet\"}], \"heatmap\": [{\"colorbar\": {\"outlinewidth\": 0, \"ticks\": \"\"}, \"colorscale\": [[0.0, \"#0d0887\"], [0.1111111111111111, \"#46039f\"], [0.2222222222222222, \"#7201a8\"], [0.3333333333333333, \"#9c179e\"], [0.4444444444444444, \"#bd3786\"], [0.5555555555555556, \"#d8576b\"], [0.6666666666666666, \"#ed7953\"], [0.7777777777777778, \"#fb9f3a\"], [0.8888888888888888, \"#fdca26\"], [1.0, \"#f0f921\"]], \"type\": \"heatmap\"}], \"heatmapgl\": [{\"colorbar\": {\"outlinewidth\": 0, \"ticks\": \"\"}, \"colorscale\": [[0.0, \"#0d0887\"], [0.1111111111111111, \"#46039f\"], [0.2222222222222222, \"#7201a8\"], [0.3333333333333333, \"#9c179e\"], [0.4444444444444444, \"#bd3786\"], [0.5555555555555556, \"#d8576b\"], [0.6666666666666666, \"#ed7953\"], [0.7777777777777778, \"#fb9f3a\"], [0.8888888888888888, \"#fdca26\"], [1.0, \"#f0f921\"]], \"type\": \"heatmapgl\"}], \"histogram\": [{\"marker\": {\"colorbar\": {\"outlinewidth\": 0, \"ticks\": \"\"}}, \"type\": \"histogram\"}], \"histogram2d\": [{\"colorbar\": {\"outlinewidth\": 0, \"ticks\": \"\"}, \"colorscale\": [[0.0, \"#0d0887\"], [0.1111111111111111, \"#46039f\"], [0.2222222222222222, \"#7201a8\"], [0.3333333333333333, \"#9c179e\"], [0.4444444444444444, \"#bd3786\"], [0.5555555555555556, \"#d8576b\"], [0.6666666666666666, \"#ed7953\"], [0.7777777777777778, \"#fb9f3a\"], [0.8888888888888888, \"#fdca26\"], [1.0, \"#f0f921\"]], \"type\": \"histogram2d\"}], \"histogram2dcontour\": [{\"colorbar\": {\"outlinewidth\": 0, \"ticks\": \"\"}, \"colorscale\": [[0.0, \"#0d0887\"], [0.1111111111111111, \"#46039f\"], [0.2222222222222222, \"#7201a8\"], [0.3333333333333333, \"#9c179e\"], [0.4444444444444444, \"#bd3786\"], [0.5555555555555556, \"#d8576b\"], [0.6666666666666666, \"#ed7953\"], [0.7777777777777778, \"#fb9f3a\"], [0.8888888888888888, \"#fdca26\"], [1.0, \"#f0f921\"]], \"type\": \"histogram2dcontour\"}], \"mesh3d\": [{\"colorbar\": {\"outlinewidth\": 0, \"ticks\": \"\"}, \"type\": \"mesh3d\"}], \"parcoords\": [{\"line\": {\"colorbar\": {\"outlinewidth\": 0, \"ticks\": \"\"}}, \"type\": \"parcoords\"}], \"pie\": [{\"automargin\": true, \"type\": \"pie\"}], \"scatter\": [{\"marker\": {\"colorbar\": {\"outlinewidth\": 0, \"ticks\": \"\"}}, \"type\": \"scatter\"}], \"scatter3d\": [{\"line\": {\"colorbar\": {\"outlinewidth\": 0, \"ticks\": \"\"}}, \"marker\": {\"colorbar\": {\"outlinewidth\": 0, \"ticks\": \"\"}}, \"type\": \"scatter3d\"}], \"scattercarpet\": [{\"marker\": {\"colorbar\": {\"outlinewidth\": 0, \"ticks\": \"\"}}, \"type\": \"scattercarpet\"}], \"scattergeo\": [{\"marker\": {\"colorbar\": {\"outlinewidth\": 0, \"ticks\": \"\"}}, \"type\": \"scattergeo\"}], \"scattergl\": [{\"marker\": {\"colorbar\": {\"outlinewidth\": 0, \"ticks\": \"\"}}, \"type\": \"scattergl\"}], \"scattermapbox\": [{\"marker\": {\"colorbar\": {\"outlinewidth\": 0, \"ticks\": \"\"}}, \"type\": \"scattermapbox\"}], \"scatterpolar\": [{\"marker\": {\"colorbar\": {\"outlinewidth\": 0, \"ticks\": \"\"}}, \"type\": \"scatterpolar\"}], \"scatterpolargl\": [{\"marker\": {\"colorbar\": {\"outlinewidth\": 0, \"ticks\": \"\"}}, \"type\": \"scatterpolargl\"}], \"scatterternary\": [{\"marker\": {\"colorbar\": {\"outlinewidth\": 0, \"ticks\": \"\"}}, \"type\": \"scatterternary\"}], \"surface\": [{\"colorbar\": {\"outlinewidth\": 0, \"ticks\": \"\"}, \"colorscale\": [[0.0, \"#0d0887\"], [0.1111111111111111, \"#46039f\"], [0.2222222222222222, \"#7201a8\"], [0.3333333333333333, \"#9c179e\"], [0.4444444444444444, \"#bd3786\"], [0.5555555555555556, \"#d8576b\"], [0.6666666666666666, \"#ed7953\"], [0.7777777777777778, \"#fb9f3a\"], [0.8888888888888888, \"#fdca26\"], [1.0, \"#f0f921\"]], \"type\": \"surface\"}], \"table\": [{\"cells\": {\"fill\": {\"color\": \"#EBF0F8\"}, \"line\": {\"color\": \"white\"}}, \"header\": {\"fill\": {\"color\": \"#C8D4E3\"}, \"line\": {\"color\": \"white\"}}, \"type\": \"table\"}]}, \"layout\": {\"annotationdefaults\": {\"arrowcolor\": \"#2a3f5f\", \"arrowhead\": 0, \"arrowwidth\": 1}, \"autotypenumbers\": \"strict\", \"coloraxis\": {\"colorbar\": {\"outlinewidth\": 0, \"ticks\": \"\"}}, \"colorscale\": {\"diverging\": [[0, \"#8e0152\"], [0.1, \"#c51b7d\"], [0.2, \"#de77ae\"], [0.3, \"#f1b6da\"], [0.4, \"#fde0ef\"], [0.5, \"#f7f7f7\"], [0.6, \"#e6f5d0\"], [0.7, \"#b8e186\"], [0.8, \"#7fbc41\"], [0.9, \"#4d9221\"], [1, \"#276419\"]], \"sequential\": [[0.0, \"#0d0887\"], [0.1111111111111111, \"#46039f\"], [0.2222222222222222, \"#7201a8\"], [0.3333333333333333, \"#9c179e\"], [0.4444444444444444, \"#bd3786\"], [0.5555555555555556, \"#d8576b\"], [0.6666666666666666, \"#ed7953\"], [0.7777777777777778, \"#fb9f3a\"], [0.8888888888888888, \"#fdca26\"], [1.0, \"#f0f921\"]], \"sequentialminus\": [[0.0, \"#0d0887\"], [0.1111111111111111, \"#46039f\"], [0.2222222222222222, \"#7201a8\"], [0.3333333333333333, \"#9c179e\"], [0.4444444444444444, \"#bd3786\"], [0.5555555555555556, \"#d8576b\"], [0.6666666666666666, \"#ed7953\"], [0.7777777777777778, \"#fb9f3a\"], [0.8888888888888888, \"#fdca26\"], [1.0, \"#f0f921\"]]}, \"colorway\": [\"#636efa\", \"#EF553B\", \"#00cc96\", \"#ab63fa\", \"#FFA15A\", \"#19d3f3\", \"#FF6692\", \"#B6E880\", \"#FF97FF\", \"#FECB52\"], \"font\": {\"color\": \"#2a3f5f\"}, \"geo\": {\"bgcolor\": \"white\", \"lakecolor\": \"white\", \"landcolor\": \"white\", \"showlakes\": true, \"showland\": true, \"subunitcolor\": \"#C8D4E3\"}, \"hoverlabel\": {\"align\": \"left\"}, \"hovermode\": \"closest\", \"mapbox\": {\"style\": \"light\"}, \"paper_bgcolor\": \"white\", \"plot_bgcolor\": \"white\", \"polar\": {\"angularaxis\": {\"gridcolor\": \"#EBF0F8\", \"linecolor\": \"#EBF0F8\", \"ticks\": \"\"}, \"bgcolor\": \"white\", \"radialaxis\": {\"gridcolor\": \"#EBF0F8\", \"linecolor\": \"#EBF0F8\", \"ticks\": \"\"}}, \"scene\": {\"xaxis\": {\"backgroundcolor\": \"white\", \"gridcolor\": \"#DFE8F3\", \"gridwidth\": 2, \"linecolor\": \"#EBF0F8\", \"showbackground\": true, \"ticks\": \"\", \"zerolinecolor\": \"#EBF0F8\"}, \"yaxis\": {\"backgroundcolor\": \"white\", \"gridcolor\": \"#DFE8F3\", \"gridwidth\": 2, \"linecolor\": \"#EBF0F8\", \"showbackground\": true, \"ticks\": \"\", \"zerolinecolor\": \"#EBF0F8\"}, \"zaxis\": {\"backgroundcolor\": \"white\", \"gridcolor\": \"#DFE8F3\", \"gridwidth\": 2, \"linecolor\": \"#EBF0F8\", \"showbackground\": true, \"ticks\": \"\", \"zerolinecolor\": \"#EBF0F8\"}}, \"shapedefaults\": {\"line\": {\"color\": \"#2a3f5f\"}}, \"ternary\": {\"aaxis\": {\"gridcolor\": \"#DFE8F3\", \"linecolor\": \"#A2B1C6\", \"ticks\": \"\"}, \"baxis\": {\"gridcolor\": \"#DFE8F3\", \"linecolor\": \"#A2B1C6\", \"ticks\": \"\"}, \"bgcolor\": \"white\", \"caxis\": {\"gridcolor\": \"#DFE8F3\", \"linecolor\": \"#A2B1C6\", \"ticks\": \"\"}}, \"title\": {\"x\": 0.05}, \"xaxis\": {\"automargin\": true, \"gridcolor\": \"#EBF0F8\", \"linecolor\": \"#EBF0F8\", \"ticks\": \"\", \"title\": {\"standoff\": 15}, \"zerolinecolor\": \"#EBF0F8\", \"zerolinewidth\": 2}, \"yaxis\": {\"automargin\": true, \"gridcolor\": \"#EBF0F8\", \"linecolor\": \"#EBF0F8\", \"ticks\": \"\", \"title\": {\"standoff\": 15}, \"zerolinecolor\": \"#EBF0F8\", \"zerolinewidth\": 2}}}, \"title\": {\"text\": \"Price Summary and Additional Metrics for Product ID: SPO || \\u00d3leo Vitaliv 900ml PET 900ml Unidade\"}, \"xaxis\": {\"title\": {\"text\": \"Date\"}}, \"yaxis\": {\"title\": {\"text\": \"Percentile\"}}, \"yaxis2\": {\"overlaying\": \"y\", \"side\": \"right\", \"title\": {\"text\": \"GMV\"}}},                        {\"responsive\": true}                    ).then(function(){\n",
       "                            \n",
       "var gd = document.getElementById('e63cdacc-da15-4b1e-8105-8a774e33afe7');\n",
       "var x = new MutationObserver(function (mutations, observer) {{\n",
       "        var display = window.getComputedStyle(gd).display;\n",
       "        if (!display || display === 'none') {{\n",
       "            console.log([gd, 'removed!']);\n",
       "            Plotly.purge(gd);\n",
       "            observer.disconnect();\n",
       "        }}\n",
       "}});\n",
       "\n",
       "// Listen for the removal of the full notebook cells\n",
       "var notebookContainer = gd.closest('#notebook-container');\n",
       "if (notebookContainer) {{\n",
       "    x.observe(notebookContainer, {childList: true});\n",
       "}}\n",
       "\n",
       "// Listen for the clearing of the current output cell\n",
       "var outputEl = gd.closest('.output');\n",
       "if (outputEl) {{\n",
       "    x.observe(outputEl, {childList: true});\n",
       "}}\n",
       "\n",
       "                        })                };                });            </script>        </div>"
      ]
     },
     "metadata": {},
     "output_type": "display_data"
    },
    {
     "data": {
      "text/plain": [
       "<function __main__.plot_product_prices_with_complement(product_name)>"
      ]
     },
     "execution_count": 13,
     "metadata": {},
     "output_type": "execute_result"
    }
   ],
   "source": [
    "# Function to plot data for a single product with additional metrics\n",
    "def plot_product_prices_with_complement(product_name):\n",
    "    product_data = weekly_summary[weekly_summary['product_name'] == product_name]\n",
    "\n",
    "    fig = go.Figure()\n",
    "\n",
    "    # Plot the summary statistics\n",
    "    fig.add_trace(go.Scatter(x=product_data['week_start'], y=product_data['weighted_percentil'], mode='markers+lines', name='Percentil', line=dict(dash='dash'), marker=dict(symbol='circle'), connectgaps=True))\n",
    "    # Plot the GMV on the secondary y-axis\n",
    "    fig.add_trace(go.Scatter(x=product_data['week_start'], y=product_data['weekly_gmv_sum'], mode='lines', name='GMV', yaxis='y2'))\n",
    "    fig.add_trace(go.Scatter(x=product_data['week_start'], y=product_data['weekly_cm_sum'], mode='lines', name='CM', yaxis='y2'))\n",
    "    fig.add_trace(go.Scatter(x=product_data['week_start'], y=product_data['weekly_ncm_sum'], mode='lines', name='NCM', yaxis='y2'))\n",
    "    \n",
    "    # Update layout to add secondary y-axis\n",
    "    fig.update_layout(\n",
    "        title=f'Price Summary and Additional Metrics for Product ID: {product_name}',\n",
    "        xaxis_title='Date',\n",
    "        yaxis_title='Percentile',\n",
    "        yaxis2=dict(\n",
    "            title='GMV',\n",
    "            overlaying='y',\n",
    "            side='right'\n",
    "        ),\n",
    "        legend_title='Metrics',\n",
    "        height=800,\n",
    "        template='plotly_white'\n",
    "    )\n",
    "\n",
    "    fig.show()\n",
    "\n",
    "# Get unique product IDs\n",
    "product_names = pd.Series(weekly_summary.product_name.unique()).sort_values()\n",
    "\n",
    "# Create dropdown widget\n",
    "dropdown = widgets.Dropdown(options=product_names, description='Product Name:')\n",
    "\n",
    "# Interact function to update plot based on dropdown selection\n",
    "interact(plot_product_prices_with_complement, product_name=dropdown)"
   ]
  }
 ],
 "metadata": {
  "kernelspec": {
   "display_name": "Python 3",
   "language": "python",
   "name": "python3"
  },
  "language_info": {
   "codemirror_mode": {
    "name": "ipython",
    "version": 3
   },
   "file_extension": ".py",
   "mimetype": "text/x-python",
   "name": "python",
   "nbconvert_exporter": "python",
   "pygments_lexer": "ipython3",
   "version": "3.7.9"
  }
 },
 "nbformat": 4,
 "nbformat_minor": 2
}
