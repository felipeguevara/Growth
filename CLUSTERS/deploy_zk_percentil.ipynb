{
 "cells": [
  {
   "cell_type": "code",
   "execution_count": 1,
   "metadata": {},
   "outputs": [],
   "source": [
    "#//----------------------------\n",
    "#//LIBRARIES\n",
    "    #Math\n",
    "import math\n",
    "    #Numeric Python\n",
    "import numpy as np\n",
    "    #Pandas (dataframes)\n",
    "import pandas as pd\n",
    "    #datetime for fate manipulation\n",
    "from datetime import date, datetime, timedelta  \n",
    "    #Regex for advanced string matching\n",
    "import re\n",
    "    #for time related stuff\n",
    "import time \n",
    "    #json library\n",
    "import json\n",
    "    #Analyst tools\n",
    "import sys\n",
    "sys.path.append('../')\n",
    "from analysts_tools.growth import *\n",
    "    #Procurement tools\n",
    "from procurement_lib import send_slack_notification\n",
    "from procurement_lib import redash\n",
    "from analysts_tools.redash_methods import *\n",
    "from analystcommunity.read_connection_data_warehouse import run_read_dwd_query\n",
    "\n",
    "import random\n",
    "import time\n",
    "import datetime\n",
    "\n",
    "import seaborn as sns\n",
    "import matplotlib.pyplot as plt\n",
    "from scipy import stats\n",
    "\n",
    "from procurement_lib import GoogleSheet"
   ]
  },
  {
   "cell_type": "code",
   "execution_count": 3,
   "metadata": {},
   "outputs": [],
   "source": [
    "todays_date = datetime.datetime.today().strftime('%Y-%m-%d')"
   ]
  },
  {
   "cell_type": "code",
   "execution_count": 4,
   "metadata": {},
   "outputs": [],
   "source": [
    "query = \"\"\"\n",
    "select\n",
    "    competitor.competitor_name,\n",
    "    site.identifier_value as site_code,\n",
    "    quotation_date.full_date AS quotation_date,\n",
    "    su.source_id,\n",
    "    ROUND(AVG(cpp.product_selected_price),2)::float as price\n",
    "from dpr_product_pricing.fact_collected_product_prices cpp\n",
    "    inner join dpr_shared.dim_date quotation_date\n",
    "        on cpp.dim_quotation_date = quotation_date.date_id\n",
    "    inner join dpr_shared.dim_time quotation_time\n",
    "        on cpp.dim_quotation_time = quotation_time.time_id\n",
    "    inner join dpr_shared.dim_site site\n",
    "        on cpp.dim_site = site.site_id\n",
    "    inner join dpr_shared.dim_category cat\n",
    "        on cpp.dim_category = cat.category_id\n",
    "    inner join dpr_product_pricing.dim_product_outlier_type outlier_type\n",
    "        on cpp.dim_outlier_type = outlier_type.outlier_type_id\n",
    "    inner join dpr_product_pricing.dim_product_source_type source_type\n",
    "        on cpp.dim_source_type = source_type.source_type_id\n",
    "    inner join dpr_product_pricing.dim_product_competitor competitor\n",
    "        on cpp.dim_competitor = competitor.competitor_id\n",
    "    inner join dpr_product_pricing.dim_product_competitor_type competitor_type\n",
    "        on(\n",
    "            case\n",
    "                when cpp.super_category = 'Fruver'\n",
    "                    then competitor.product_competitor_type_id_fruver = competitor_type.competitor_type_id\n",
    "                when cpp.super_category = 'Multicategoría'\n",
    "                    then competitor.product_competitor_type_id_multicategoria = competitor_type.competitor_type_id\n",
    "            end\n",
    "        )\n",
    "    inner join dpr_shared.dim_stock_unit su\n",
    "        on cpp.dim_stock_unit = su.stock_unit_id\n",
    "where quotation_date.full_date >= current_date - 10\n",
    "    AND competitor.competitor_name NOT ILIKE '%cayena%'\n",
    "    AND site.identifier_value IN ('SPO','CWB','VCP','BHZ')\n",
    "GROUP BY 1,2,3,4\n",
    "\"\"\"\n",
    "df_zkkkkk = run_read_dwd_query(query)\n",
    "\n",
    "df_zkkkkk = df_zkkkkk.dropna().reset_index(drop=True)\n",
    "df_zkkkkk['lifetime'] = 8"
   ]
  },
  {
   "cell_type": "code",
   "execution_count": 5,
   "metadata": {},
   "outputs": [],
   "source": [
    "# Ensure dataframe is sorted by 'quotation_date'\n",
    "df_zkkkkk = df_zkkkkk.sort_values(by='quotation_date')\n",
    "\n",
    "# Generate the required rows for missing dates\n",
    "new_rows = []\n",
    "\n",
    "for (competitor, source_id), group in df_zkkkkk.groupby(['competitor_name', 'source_id']):\n",
    "    group = group.sort_values(by='quotation_date')\n",
    "    last_known_price = None\n",
    "    last_known_date = None\n",
    "    lifetime = 8\n",
    "    \n",
    "    for current_index in range(len(group)):\n",
    "        current_date = group.iloc[current_index]['quotation_date']\n",
    "        price = group.iloc[current_index]['price']\n",
    "        \n",
    "        # If this is not the first iteration, fill in missing dates\n",
    "        if last_known_date is not None:\n",
    "            days_diff = (current_date - last_known_date).days\n",
    "            if days_diff > 1:\n",
    "                for j in range(1, min(days_diff, lifetime + 1)):\n",
    "                    new_date = last_known_date + timedelta(days=j)\n",
    "                    new_row = {\n",
    "                        'site_code': group.iloc[current_index]['site_code'],\n",
    "                        'quotation_date': new_date,\n",
    "                        'competitor_name': competitor,\n",
    "                        'source_id': source_id,\n",
    "                        'price': last_known_price,\n",
    "                        'lifetime': lifetime - j\n",
    "                    }\n",
    "                    new_rows.append(new_row)\n",
    "                    \n",
    "                    # Stop if we reach a new datapoint date\n",
    "                    if new_date + timedelta(days=1) == current_date:\n",
    "                        break\n",
    "        \n",
    "        # Update the last known values and reset lifetime\n",
    "        last_known_price = price\n",
    "        last_known_date = current_date\n",
    "        lifetime = 8  # Reset lifetime\n",
    "\n",
    "    # After processing all known dates for the group, continue generating rows until lifetime reaches 0\n",
    "    while lifetime > 0:\n",
    "        last_known_date += timedelta(days=1)\n",
    "        new_row = {\n",
    "            'site_code': group.iloc[-1]['site_code'],\n",
    "            'quotation_date': last_known_date,\n",
    "            'competitor_name': competitor,\n",
    "            'source_id': source_id,\n",
    "            'price': last_known_price,\n",
    "            'lifetime': lifetime - 1\n",
    "        }\n",
    "        new_rows.append(new_row)\n",
    "        lifetime -= 1\n",
    "\n",
    "# Append new rows to the dataframe\n",
    "df_zkkkkk = df_zkkkkk.append(new_rows, ignore_index=True)\n",
    "\n",
    "# Sort the final dataframe\n",
    "df_zkkkkk = df_zkkkkk.sort_values(by=['competitor_name', 'source_id', 'quotation_date'])\n",
    "df_zkkkkk['replica'] = df_zkkkkk['lifetime'] == 8"
   ]
  },
  {
   "cell_type": "code",
   "execution_count": 6,
   "metadata": {},
   "outputs": [],
   "source": [
    "df_bench = df_zkkkkk.copy()\n",
    "df_bench['quotation_date'] = pd.to_datetime(df_bench['quotation_date'])"
   ]
  },
  {
   "cell_type": "code",
   "execution_count": 7,
   "metadata": {},
   "outputs": [],
   "source": [
    "df_c = df_bench.loc[df_bench.quotation_date == todays_date].groupby(\"source_id\").agg(competitors=('competitor_name',lambda x: x.nunique())).reset_index()"
   ]
  },
  {
   "cell_type": "code",
   "execution_count": 8,
   "metadata": {},
   "outputs": [],
   "source": [
    "query = \"\"\"\n",
    "with all_prices as(\n",
    "    select\n",
    "        date.full_date as fecha,\n",
    "        site.identifier_value as region,\n",
    "        sup.source_id as product_ids,\n",
    "        sup.description as product_name,\n",
    "        min_base_price as price,\n",
    "        min_sale_price as sale_price,\n",
    "        min_pricing_price as price_hook_acmktpl,\n",
    "        -- pp.product_price_id,\n",
    "        row_number() over(partition by sup.source_id,date_created_at_id,time_created_at_id order by su.min_weight_unit desc, price asc) as family_order\n",
    "    from dpr_product_pricing.dim_product_current_price pp\n",
    "        inner join dpr_shared.dim_stock_unit su\n",
    "            on pp.stock_unit_id = su.stock_unit_id\n",
    "        inner join dpr_shared.dim_stock_unit sup\n",
    "            on nvl(nullif(su.source_parent_id,0),su.source_id) = sup.source_id\n",
    "        inner join dpr_shared.dim_date date\n",
    "            on pp.date_created_at_id = date.date_id\n",
    "        inner join dpr_shared.dim_site site\n",
    "            on su.site_id = site.site_id\n",
    "        inner join dpr_shared.dim_category cat\n",
    "            on sup.category_id = cat.category_id\n",
    "    where date.full_date >= current_date - 60\n",
    "        and date.full_date <= current_date\n",
    "        and su.description not like '%(S - I)%'\n",
    "        and cat.super_category = 'Multicategoría'\n",
    "        and su.active = 1\n",
    "        and su.description not like '%( S - I)%'\n",
    "        and su.description not like '%FDL%'\n",
    "        and su.description not like '%Robin-Food%'\n",
    "        and su.description not like '%Robin Food%'\n",
    "        and su.description not like '%RF%'\n",
    "        and su.description not like '%PPY%'\n",
    "        and su.description not like '%KAM%'\n",
    "        and su.description not like '%SIN IVA%'\n",
    "        and su.description not like '%Oakberry%'\n",
    "),\n",
    "\n",
    "clusters as (\n",
    " SELECT \n",
    "        batch_id,\n",
    "        created_at,\n",
    "        last_modified_at,\n",
    "        sku,\n",
    "        stock_unit_id,\n",
    "        source_id,\n",
    "        type AS cluster,\n",
    "        site_id,\n",
    "        ROW_NUMBER() OVER (PARTITION BY sku ORDER BY last_modified_at DESC, cluster DESC) AS rn\n",
    "    FROM \n",
    "        dpr_product_pricing.dim_sku_cluster_period\n",
    "    where \n",
    "        site_id in (4,6,9,11)\n",
    ")\n",
    "\n",
    "\n",
    "Select\n",
    "    fecha.full_date as quotation_date,\n",
    "    all_prices.region,\n",
    "    su.source_id,\n",
    "    --su.description as product_name,\n",
    "    clusters.cluster,\n",
    "    price::FLOAT AS price,\n",
    "    sale_price::FLOAT AS sale_price,\n",
    "    price_hook_acmktpl::FLOAT AS precio_neto,\n",
    "    (CASE WHEN c.dtd_cost_local = 0 THEN m.inventory_p_fin ELSE c.dtd_cost_local END)::FLOAT  AS costo,\n",
    "    min_price::FLOAT AS bench\n",
    "    \n",
    "from all_prices\n",
    "    inner join dpr_shared.dim_stock_unit su \n",
    "        on all_prices.product_ids = su.source_id\n",
    "        \n",
    "    left join dpr_cross_business.int_dtd_cost c \n",
    "        on c.dim_stock_unit = su.stock_unit_id\n",
    "    \n",
    "    inner join dpr_shared.dim_date fecha_id \n",
    "        on c.dim_date_dtd = fecha_id.date_id\n",
    "    inner join dpr_shared.dim_date fecha \n",
    "        on fecha_id.full_date+1 = fecha.full_date\n",
    "\n",
    "    left join dpr_cross_business.fact_cross_business_insights m \n",
    "        on m.dim_stock_unit = su.stock_unit_id AND m.dim_date = fecha.date_id\n",
    "    \n",
    "    left join clusters on clusters.sku = su.sku\n",
    "    \n",
    "    left join dpr_product_pricing.obt_benchmark_product_prices b\n",
    "        on b.stock_unit_id = su.stock_unit_id AND b.benchmark_date = fecha.full_date\n",
    "\n",
    "where current_date = fecha.full_date\n",
    "and family_order = 1\n",
    "and rn = 1\n",
    "\"\"\"\n",
    "df = run_read_dwd_query(query)  \n",
    "df['quotation_date'] = pd.to_datetime(df['quotation_date'])"
   ]
  },
  {
   "cell_type": "code",
   "execution_count": 9,
   "metadata": {},
   "outputs": [],
   "source": [
    "df = pd.merge(df, df_c, left_on=['source_id'], right_on=['source_id'], how='left')"
   ]
  },
  {
   "cell_type": "code",
   "execution_count": 11,
   "metadata": {},
   "outputs": [],
   "source": [
    "# Función para calcular el percentil\n",
    "def calcular_percentil(row, bench_df):\n",
    "    source_id = row['source_id']\n",
    "    quotation_date = row['quotation_date']\n",
    "    precio = row['precio_neto']\n",
    "    \n",
    "    # Filtrar precios de referencia por source_id y quotation_date\n",
    "    bench_precios = bench_df[(bench_df['source_id'] == source_id) & (bench_df['quotation_date'] == quotation_date)]['price']\n",
    "    \n",
    "    # Si no hay datos de referencia para ese source_id y quotation_date, devolver NaN\n",
    "    if bench_precios.empty:\n",
    "        return np.nan\n",
    "    \n",
    "    # Convertir a un array de numpy\n",
    "    bench_precios = bench_precios.to_numpy(dtype=np.float64)\n",
    "    \n",
    "    # Manejo de valores por encima del máximo y por debajo del mínimo\n",
    "    if precio < np.min(bench_precios):\n",
    "        return -100*(1-(precio/np.min(bench_precios))) # Percentil mínimo\n",
    "    elif precio > np.max(bench_precios):\n",
    "        return 100*(precio/np.max(bench_precios)) # Percentil maximo\n",
    "    \n",
    "    # Calcular el percentil\n",
    "    percentil = stats.percentileofscore(bench_precios, precio)\n",
    "    return percentil\n",
    "\n",
    "# Aplicar la función a cada fila de df\n",
    "df['percentil'] = df.apply(calcular_percentil, axis=1, bench_df=df_bench)"
   ]
  },
  {
   "cell_type": "code",
   "execution_count": 13,
   "metadata": {},
   "outputs": [],
   "source": [
    "def calcular_precio_por_percentil_row(row, bench_df, desired_percentil):\n",
    "    source_id = row['source_id']\n",
    "    quotation_date = row['quotation_date']\n",
    "    \n",
    "    # Filtrar precios de referencia por source_id y quotation_date\n",
    "    bench_precios = bench_df[(bench_df['source_id'] == source_id) & (bench_df['quotation_date'] == quotation_date)]['price']\n",
    "    \n",
    "    # Si no hay datos de referencia para ese source_id y quotation_date, devolver NaN\n",
    "    if bench_precios.empty:\n",
    "        return np.nan\n",
    "    \n",
    "    # Convertir a un array de numpy y ordenar los precios\n",
    "    bench_precios = bench_precios.to_numpy(dtype=np.float64)\n",
    "    bench_precios.sort()\n",
    "    \n",
    "    # Calcular el precio correspondiente al percentil deseado\n",
    "    precio = np.percentile(bench_precios, desired_percentil)\n",
    "    \n",
    "    return precio"
   ]
  },
  {
   "cell_type": "code",
   "execution_count": 14,
   "metadata": {},
   "outputs": [],
   "source": [
    "# Desired percentile (e.g., 25th percentile)\n",
    "desired_percentil = 25\n",
    "\n",
    "# Apply the function to each row in df\n",
    "df['p25'] = df.apply(lambda row: calcular_precio_por_percentil_row(row, df_bench, desired_percentil), axis=1)"
   ]
  },
  {
   "cell_type": "code",
   "execution_count": 16,
   "metadata": {},
   "outputs": [],
   "source": [
    "df['mg'] = (1-df.costo/df.precio_neto)\n",
    "df['mg_p25'] = (1-df.costo/df.p25)"
   ]
  },
  {
   "cell_type": "code",
   "execution_count": 17,
   "metadata": {},
   "outputs": [],
   "source": [
    "query = \"\"\"\n",
    "SELECT\n",
    "    s.identifier_value AS city,\n",
    "    cat.parent_description AS cat,\n",
    "    sup.source_id,\n",
    "    s.identifier_value || ' || ' || sup.card_description AS product_name,\n",
    "    (SUM(fs.gmv_pxq_local)/4.75)::FLOAT AS gmv_usd\n",
    "FROM dpr_sales.fact_sales                   fs\n",
    "INNER JOIN dpr_shared.dim_site              s   ON s.site_id = fs.dim_site\n",
    "INNER JOIN dpr_shared.dim_product           dp  ON dp.product_id = fs.dim_product\n",
    "INNER JOIN dpr_shared.dim_category          cat ON cat.category_id = dp.category_id\n",
    "INNER JOIN dpr_shared.dim_stock_unit        su  ON su.product_id = fs.dim_product\n",
    "INNER JOIN dpr_shared.dim_stock_unit        sup  ON nvl(nullif(su.source_parent_id,0),su.source_id) = sup.source_id\n",
    "\n",
    "WHERE \n",
    "    fs.gmv_enabled = TRUE\n",
    "    AND fulfillment_order_status NOT IN ('CANCELLED', 'ARCHIVED','No value')\n",
    "    AND fs.fb_order_status_id IN (1,6,7,8)\n",
    "    AND fs.is_deleted = FALSE\n",
    "    AND cat.super_category = 'Multicategoría'\n",
    "    AND fs.dim_status = 1\n",
    "    AND dp.is_slot = 'false'\n",
    "    AND fs.gmv_pxq_local > 0\n",
    "    AND s.identifier_value IN ('SPO','CWB','VCP','BHZ')\n",
    "    AND DATE(fs.order_submitted_date) >= CURRENT_DATE - 15\n",
    "GROUP BY 1,2,3,4\n",
    "\"\"\"\n",
    "df_gmv = run_read_dwd_query(query)"
   ]
  },
  {
   "cell_type": "code",
   "execution_count": 18,
   "metadata": {},
   "outputs": [],
   "source": [
    "merge_df = pd.merge(df_gmv, df, left_on=['source_id'], right_on=['source_id'], how='left')\n",
    "\n",
    "merge_df['gmv_mix'] = merge_df['gmv_usd'] / merge_df.groupby('city')['gmv_usd'].transform('sum')\n",
    "\n",
    "merge_df = merge_df[['city', 'quotation_date', 'cat', 'source_id', 'cluster', 'product_name', 'competitors','gmv_usd', 'gmv_mix',\n",
    "       'price', 'sale_price', 'precio_neto', 'bench', 'costo', 'percentil', 'p25', 'mg', 'mg_p25', ]]"
   ]
  },
  {
   "cell_type": "code",
   "execution_count": 19,
   "metadata": {},
   "outputs": [],
   "source": [
    "merge_df['uplift'] = 100.00*((merge_df.p25/merge_df.precio_neto)-1) #es cuanto deberia subir mi precion en %\n",
    "merge_df['npi'] = merge_df.precio_neto/merge_df.bench\n",
    "merge_df['npi_p'] = merge_df.p25/merge_df.bench"
   ]
  },
  {
   "cell_type": "code",
   "execution_count": 20,
   "metadata": {},
   "outputs": [
    {
     "data": {
      "text/plain": [
       "city\n",
       "BHZ    0.373028\n",
       "CWB    0.280513\n",
       "SPO    0.322843\n",
       "VCP    0.304743\n",
       "Name: gmv_mix, dtype: float64"
      ]
     },
     "execution_count": 20,
     "metadata": {},
     "output_type": "execute_result"
    }
   ],
   "source": [
    "# Tiene que tener al menos 5 competidores y estar abajo del percentil 25 !!\n",
    "merge_df.loc[(merge_df.competitors >= 5) & (merge_df.percentil <= 25)].groupby(\"city\").gmv_mix.sum()"
   ]
  },
  {
   "cell_type": "code",
   "execution_count": 62,
   "metadata": {},
   "outputs": [
    {
     "data": {
      "text/plain": [
       "city\n",
       "BHZ     80\n",
       "CWB     52\n",
       "SPO    204\n",
       "VCP     33\n",
       "Name: source_id, dtype: int64"
      ]
     },
     "execution_count": 62,
     "metadata": {},
     "output_type": "execute_result"
    }
   ],
   "source": [
    "# Tiene que tener al menos 5 competidores y estar abajo del percentil 25 !!\n",
    "merge_df.loc[(merge_df.competitors >= 5) & (merge_df.percentil <= 25)].groupby(\"city\").source_id.count()"
   ]
  },
  {
   "cell_type": "code",
   "execution_count": 63,
   "metadata": {},
   "outputs": [
    {
     "data": {
      "text/plain": [
       "city\n",
       "BHZ    26\n",
       "CWB    26\n",
       "SPO    63\n",
       "VCP    15\n",
       "Name: source_id, dtype: int64"
      ]
     },
     "execution_count": 63,
     "metadata": {},
     "output_type": "execute_result"
    }
   ],
   "source": [
    "# Tiene que tener al menos 5 competidores y estar abajo del percentil 25 !!\n",
    "merge_df.loc[(merge_df.competitors >= 5) & (merge_df.percentil <= 25) & (merge_df.cluster == 'KVI')].groupby(\"city\").source_id.count()"
   ]
  },
  {
   "cell_type": "code",
   "execution_count": 21,
   "metadata": {},
   "outputs": [],
   "source": [
    "df_x = merge_df.loc[(merge_df.competitors >= 5) & (merge_df.percentil <= 25)].copy()"
   ]
  },
  {
   "cell_type": "markdown",
   "metadata": {},
   "source": [
    "# Gaby elasticidades code"
   ]
  },
  {
   "cell_type": "code",
   "execution_count": 27,
   "metadata": {},
   "outputs": [],
   "source": [
    "from analystcommunity.read_connection_data_warehouse import run_read_dwd_query, run_read_prod_query\n",
    "import pandas as pd\n",
    "from decimal import Decimal\n",
    "\n",
    "def get_fruver_frida_id(region_code: str) -> pd.DataFrame:\n",
    "\n",
    "    query = f\"\"\"\n",
    "        SELECT\n",
    "            source_id\n",
    "                as source_id\n",
    "        FROM\n",
    "            dpr_shared.dim_category c\n",
    "            INNER JOIN dpr_shared.dim_site s\n",
    "                ON c.site_id = s.site_id\n",
    "        WHERE\n",
    "            1=1\n",
    "            AND s.identifier_value = '{region_code}'\n",
    "            AND c.super_category = 'Fruver'\n",
    "            AND c.source_parent_id = c.source_id\n",
    "        \"\"\"\n",
    "\n",
    "    result = run_read_dwd_query(query).squeeze()\n",
    "    return result\n",
    "\n",
    "def get_available_elasticity_products(region_code: str) -> pd.DataFrame:\n",
    "\n",
    "    # First we get the ID of fruver category to use it as filter later\n",
    "    fruver_category_ids = get_fruver_frida_id(region_code=region_code)\n",
    "    fruver_category_ids_str = ','.join([str(id) for id in fruver_category_ids])\n",
    "\n",
    "    # Defining fruver filter to get only multicategory products\n",
    "    fruver_filter = f'AND category_id not in ({fruver_category_ids_str})'\n",
    "\n",
    "    # Check if there are current estimations for the products.\n",
    "\n",
    "    query = f\"\"\"\n",
    "                SELECT DISTINCT\n",
    "                    product_sku\n",
    "                    , model_mape\n",
    "                    , category_id\n",
    "                    , sub_category_id\n",
    "                    , product_participation\n",
    "                    , created_at\n",
    "                FROM\n",
    "                    lnd_ops.product_price_demand_estimations\n",
    "                WHERE\n",
    "                    1=1\n",
    "                    AND region = '{region_code}'\n",
    "                    {fruver_filter}\n",
    "                    AND (\n",
    "                        elasticity_batch_uuid is not null\n",
    "                        OR elasticity_batch_uuid != ''\n",
    "                    )\n",
    "                \"\"\"\n",
    "\n",
    "    records = run_read_prod_query(query)\n",
    "\n",
    "    return records\n",
    "\n",
    "\n",
    "def get_product_sensibility(product_sku: str) -> pd.DataFrame:\n",
    "\n",
    "    sensibility_sql = f\"\"\"\n",
    "        WITH\n",
    "            estimation_differences AS (\n",
    "                SELECT\n",
    "                    ROW_NUMBER()\n",
    "                        OVER(\n",
    "                        ORDER BY product_participation DESC, reference_variation ASC\n",
    "                    )\n",
    "                        as row\n",
    "                    , product_sku\n",
    "                    , model_mape\n",
    "                    , estimated_demand\n",
    "                    , reference_variation\n",
    "                    , local_price\n",
    "                    , COALESCE(LAG(estimated_demand, 1)\n",
    "                            OVER (\n",
    "                                ORDER BY product_participation DESC, reference_variation ASC\n",
    "                        ), 0)\n",
    "                        AS estimated_demand_pre\n",
    "                    , ABS(\n",
    "                        COALESCE(estimated_demand - LAG(estimated_demand, 1)\n",
    "                            OVER (\n",
    "                                ORDER BY product_participation DESC, reference_variation ASC\n",
    "                        ), 0)\n",
    "                    )\n",
    "                        AS estimated_demand_diff_pre\n",
    "                    , ABS(\n",
    "                        COALESCE(estimated_demand - LEAD(estimated_demand, 1)\n",
    "                            OVER (\n",
    "                                ORDER BY product_participation DESC, reference_variation ASC\n",
    "                        ), 0)\n",
    "                    )\n",
    "                        AS estimated_demand_diff_post\n",
    "                    , COALESCE(estimated_demand_diff_pre/estimated_demand, 0)\n",
    "                        AS estimated_demand_percentual_variation_pre\n",
    "                    , COALESCE(estimated_demand_diff_post/estimated_demand, 0)\n",
    "                        AS estimated_demand_percentual_variation_post\n",
    "                    , (estimated_demand_percentual_variation_pre+estimated_demand_percentual_variation_post)/2.0\n",
    "                        AS estimated_demand_percentual_variation\n",
    "                    -- , count(*)\n",
    "                    --     AS row_len\n",
    "                FROM\n",
    "                    lnd_ops.product_price_demand_estimations\n",
    "                WHERE\n",
    "                    1=1\n",
    "                    AND product_sku = '{product_sku}'\n",
    "                    AND estimated_demand > 0\n",
    "                -- GROUP BY\n",
    "                --     1,2,3,4,5,6,7,8,9,10,11,12\n",
    "                ORDER BY\n",
    "                    product_participation DESC,\n",
    "                    reference_variation ASC\n",
    "            ),\n",
    "\n",
    "            row_stats AS (\n",
    "                SELECT\n",
    "                    COUNT(*)\n",
    "                        as row_count\n",
    "                FROM\n",
    "                    estimation_differences\n",
    "            )\n",
    "\n",
    "        SELECT\n",
    "            product_sku\n",
    "            , model_mape\n",
    "            , AVG(estimated_demand_percentual_variation)\n",
    "                AS mean_estimated_demand_percentual_variation\n",
    "            -- , CASE\n",
    "            --     WHEN mean_estimated_demand_percentual_variation > 0.05 THEN 'VERY ELASTIC'\n",
    "            --     WHEN mean_estimated_demand_percentual_variation > 0.01 THEN 'ELASTIC'\n",
    "            --     WHEN mean_estimated_demand_percentual_variation = 0.01 THEN 'UNITARY'\n",
    "            --     ELSE 'INELASTIC'\n",
    "            -- END\n",
    "            --    AS elasticity_type\n",
    "        FROM\n",
    "            estimation_differences\n",
    "        WHERE\n",
    "            row > 1\n",
    "            and row < (select row_count from row_stats)\n",
    "        GROUP BY\n",
    "            1,2\n",
    "    \"\"\"\n",
    "\n",
    "    product_sensibility = run_read_prod_query(sensibility_sql)\n",
    "\n",
    "    return product_sensibility"
   ]
  },
  {
   "cell_type": "code",
   "execution_count": 28,
   "metadata": {},
   "outputs": [],
   "source": [
    "final_elasticity = []\n",
    "\n",
    "for city in ['SPO', 'BHZ', 'CWB', 'VCP']:\n",
    "    region_code = city  # Assuming region_code should be the same as city code\n",
    "    available_products = get_available_elasticity_products(region_code=region_code)\n",
    "    \n",
    "    sensibilities = []\n",
    "    for product_sku in available_products['product_sku'].unique():\n",
    "        product_sensibility = get_product_sensibility(product_sku=product_sku)\n",
    "        sensibilities.append(product_sensibility)\n",
    "    \n",
    "    all_sensibilities = pd.concat(sensibilities, ignore_index=True)\n",
    "    \n",
    "    full_sensibilities = pd.merge(\n",
    "        all_sensibilities[['product_sku', 'mean_estimated_demand_percentual_variation']],\n",
    "        available_products,\n",
    "        on='product_sku',\n",
    "        how='inner'\n",
    "    )\n",
    "    \n",
    "    full_sensibilities.rename(columns={'mean_estimated_demand_percentual_variation': 'mean_edpv'}, inplace=True)\n",
    "    full_sensibilities['mean_edpv'] = full_sensibilities['mean_edpv'].astype('float')\n",
    "    \n",
    "    final_elasticity.append(full_sensibilities)\n",
    "\n",
    "# Concatenate all cities' data into a single DataFrame\n",
    "final_elasticity_df = pd.concat(final_elasticity, ignore_index=True)"
   ]
  },
  {
   "cell_type": "code",
   "execution_count": 29,
   "metadata": {},
   "outputs": [],
   "source": [
    "query = \"\"\"\n",
    "SELECT\n",
    "sku AS product_sku,\n",
    "source_id\n",
    "FROM dpr_shared.dim_stock_unit \n",
    "WHERE sku in {skus}\n",
    "\"\"\".format(skus=tuple(final_elasticity_df.product_sku.unique()))\n",
    "\n",
    "df_s = run_read_dwd_query(query)"
   ]
  },
  {
   "cell_type": "code",
   "execution_count": 32,
   "metadata": {},
   "outputs": [],
   "source": [
    "dfg = pd.merge(final_elasticity_df,df_s, left_on=['product_sku'],right_on=['product_sku'],how='left')\n",
    "\n",
    "dfg = dfg[['source_id','mean_edpv']]"
   ]
  },
  {
   "cell_type": "code",
   "execution_count": 33,
   "metadata": {},
   "outputs": [],
   "source": [
    "df3 = pd.merge(df_x, dfg, left_on=['source_id'], right_on=['source_id'], how='left')"
   ]
  },
  {
   "cell_type": "markdown",
   "metadata": {},
   "source": [
    "# New price"
   ]
  },
  {
   "cell_type": "code",
   "execution_count": 42,
   "metadata": {},
   "outputs": [],
   "source": [
    "from scipy.stats import percentileofscore\n",
    "\n",
    "# Function to calculate new_uplift for each city\n",
    "def calculate_new_uplift(df):\n",
    "    # Calculate percentiles for each value in the mean_edpv column\n",
    "    percentiles = df['mean_edpv'].apply(lambda x: percentileofscore(df['mean_edpv'], x) / 100.0)\n",
    "    \n",
    "    # Apply the transformation (1 - percentile) and map it to the range [2, 10]\n",
    "    mapped_values = 2 + (1 - percentiles) * (10 - 2)\n",
    "    \n",
    "    # Calculate new_uplift as the minimum between the mapped value and uplift\n",
    "    df['new_uplift'] = np.minimum(mapped_values, df['uplift'])\n",
    "    \n",
    "    return df\n",
    "\n",
    "# Apply the calculation for each city separately\n",
    "df3 = df3.groupby('city').apply(calculate_new_uplift)\n",
    "\n",
    "# Handle rows with NaN in mean_edpv separately if needed\n",
    "df3_na = df3[df3['mean_edpv'].isna()].copy()\n",
    "\n",
    "# Assign new_uplift for NaN mean_edpv based on cluster logic\n",
    "df3_na['new_uplift'] = np.where(df3_na.cluster == 'KVI', np.minimum(5, df3_na.uplift),\n",
    "                       np.where(df3_na.cluster == 'MID', np.minimum(7, df3_na.uplift),\n",
    "                       np.minimum(10, df3_na.uplift)))\n",
    "\n",
    "# Update the original DataFrame with new_uplift for NaN mean_edpv\n",
    "df3.loc[df3_na.index, 'new_uplift'] = df3_na['new_uplift']"
   ]
  },
  {
   "cell_type": "code",
   "execution_count": 47,
   "metadata": {},
   "outputs": [],
   "source": [
    "# Función para calcular el percentil\n",
    "def calcular_percentil2(row, bench_df):\n",
    "    source_id = row['source_id']\n",
    "    quotation_date = row['quotation_date']\n",
    "    precio = row['new_price']\n",
    "    \n",
    "    # Filtrar precios de referencia por source_id y quotation_date\n",
    "    bench_precios = bench_df[(bench_df['source_id'] == source_id) & (bench_df['quotation_date'] == quotation_date)]['price']\n",
    "    \n",
    "    # Si no hay datos de referencia para ese source_id y quotation_date, devolver NaN\n",
    "    if bench_precios.empty:\n",
    "        return np.nan\n",
    "    \n",
    "    # Convertir a un array de numpy\n",
    "    bench_precios = bench_precios.to_numpy(dtype=np.float64)\n",
    "    \n",
    "    # Manejo de valores por encima del máximo y por debajo del mínimo\n",
    "    if precio < np.min(bench_precios):\n",
    "        return -100*(1-(precio/np.min(bench_precios))) # Percentil mínimo\n",
    "    elif precio > np.max(bench_precios):\n",
    "        return 100*(precio/np.max(bench_precios)) # Percentil maximo\n",
    "    \n",
    "    # Calcular el percentil\n",
    "    percentil = stats.percentileofscore(bench_precios, precio)\n",
    "    return percentil"
   ]
  },
  {
   "cell_type": "code",
   "execution_count": 48,
   "metadata": {},
   "outputs": [],
   "source": [
    "df3['new_price'] = df3.precio_neto*(1+df3.new_uplift/100)\n",
    "df3['new_npi'] = df3.new_price/df3.bench\n",
    "df3['new_mg'] = 1-(df3.costo/df3.new_price)\n",
    "df3['new_percentil'] = df3.apply(calcular_percentil2,axis=1,bench_df=df_bench)"
   ]
  },
  {
   "cell_type": "code",
   "execution_count": 61,
   "metadata": {},
   "outputs": [
    {
     "data": {
      "application/vnd.plotly.v1+json": {
       "config": {
        "plotlyServerURL": "https://plot.ly"
       },
       "data": [
        {
         "alignmentgroup": "True",
         "hovertemplate": "price=%{y}<extra></extra>",
         "legendgroup": "",
         "marker": {
          "color": "#636efa"
         },
         "name": "",
         "notched": false,
         "offsetgroup": "",
         "orientation": "v",
         "showlegend": false,
         "type": "box",
         "x0": " ",
         "xaxis": "x",
         "y": [
          2.79,
          2.85,
          2.98,
          3.18,
          2.99,
          2.55
         ],
         "y0": " ",
         "yaxis": "y"
        }
       ],
       "layout": {
        "boxmode": "group",
        "legend": {
         "tracegroupgap": 0
        },
        "template": {
         "data": {
          "bar": [
           {
            "error_x": {
             "color": "#2a3f5f"
            },
            "error_y": {
             "color": "#2a3f5f"
            },
            "marker": {
             "line": {
              "color": "#E5ECF6",
              "width": 0.5
             }
            },
            "type": "bar"
           }
          ],
          "barpolar": [
           {
            "marker": {
             "line": {
              "color": "#E5ECF6",
              "width": 0.5
             }
            },
            "type": "barpolar"
           }
          ],
          "carpet": [
           {
            "aaxis": {
             "endlinecolor": "#2a3f5f",
             "gridcolor": "white",
             "linecolor": "white",
             "minorgridcolor": "white",
             "startlinecolor": "#2a3f5f"
            },
            "baxis": {
             "endlinecolor": "#2a3f5f",
             "gridcolor": "white",
             "linecolor": "white",
             "minorgridcolor": "white",
             "startlinecolor": "#2a3f5f"
            },
            "type": "carpet"
           }
          ],
          "choropleth": [
           {
            "colorbar": {
             "outlinewidth": 0,
             "ticks": ""
            },
            "type": "choropleth"
           }
          ],
          "contour": [
           {
            "colorbar": {
             "outlinewidth": 0,
             "ticks": ""
            },
            "colorscale": [
             [
              0,
              "#0d0887"
             ],
             [
              0.1111111111111111,
              "#46039f"
             ],
             [
              0.2222222222222222,
              "#7201a8"
             ],
             [
              0.3333333333333333,
              "#9c179e"
             ],
             [
              0.4444444444444444,
              "#bd3786"
             ],
             [
              0.5555555555555556,
              "#d8576b"
             ],
             [
              0.6666666666666666,
              "#ed7953"
             ],
             [
              0.7777777777777778,
              "#fb9f3a"
             ],
             [
              0.8888888888888888,
              "#fdca26"
             ],
             [
              1,
              "#f0f921"
             ]
            ],
            "type": "contour"
           }
          ],
          "contourcarpet": [
           {
            "colorbar": {
             "outlinewidth": 0,
             "ticks": ""
            },
            "type": "contourcarpet"
           }
          ],
          "heatmap": [
           {
            "colorbar": {
             "outlinewidth": 0,
             "ticks": ""
            },
            "colorscale": [
             [
              0,
              "#0d0887"
             ],
             [
              0.1111111111111111,
              "#46039f"
             ],
             [
              0.2222222222222222,
              "#7201a8"
             ],
             [
              0.3333333333333333,
              "#9c179e"
             ],
             [
              0.4444444444444444,
              "#bd3786"
             ],
             [
              0.5555555555555556,
              "#d8576b"
             ],
             [
              0.6666666666666666,
              "#ed7953"
             ],
             [
              0.7777777777777778,
              "#fb9f3a"
             ],
             [
              0.8888888888888888,
              "#fdca26"
             ],
             [
              1,
              "#f0f921"
             ]
            ],
            "type": "heatmap"
           }
          ],
          "heatmapgl": [
           {
            "colorbar": {
             "outlinewidth": 0,
             "ticks": ""
            },
            "colorscale": [
             [
              0,
              "#0d0887"
             ],
             [
              0.1111111111111111,
              "#46039f"
             ],
             [
              0.2222222222222222,
              "#7201a8"
             ],
             [
              0.3333333333333333,
              "#9c179e"
             ],
             [
              0.4444444444444444,
              "#bd3786"
             ],
             [
              0.5555555555555556,
              "#d8576b"
             ],
             [
              0.6666666666666666,
              "#ed7953"
             ],
             [
              0.7777777777777778,
              "#fb9f3a"
             ],
             [
              0.8888888888888888,
              "#fdca26"
             ],
             [
              1,
              "#f0f921"
             ]
            ],
            "type": "heatmapgl"
           }
          ],
          "histogram": [
           {
            "marker": {
             "colorbar": {
              "outlinewidth": 0,
              "ticks": ""
             }
            },
            "type": "histogram"
           }
          ],
          "histogram2d": [
           {
            "colorbar": {
             "outlinewidth": 0,
             "ticks": ""
            },
            "colorscale": [
             [
              0,
              "#0d0887"
             ],
             [
              0.1111111111111111,
              "#46039f"
             ],
             [
              0.2222222222222222,
              "#7201a8"
             ],
             [
              0.3333333333333333,
              "#9c179e"
             ],
             [
              0.4444444444444444,
              "#bd3786"
             ],
             [
              0.5555555555555556,
              "#d8576b"
             ],
             [
              0.6666666666666666,
              "#ed7953"
             ],
             [
              0.7777777777777778,
              "#fb9f3a"
             ],
             [
              0.8888888888888888,
              "#fdca26"
             ],
             [
              1,
              "#f0f921"
             ]
            ],
            "type": "histogram2d"
           }
          ],
          "histogram2dcontour": [
           {
            "colorbar": {
             "outlinewidth": 0,
             "ticks": ""
            },
            "colorscale": [
             [
              0,
              "#0d0887"
             ],
             [
              0.1111111111111111,
              "#46039f"
             ],
             [
              0.2222222222222222,
              "#7201a8"
             ],
             [
              0.3333333333333333,
              "#9c179e"
             ],
             [
              0.4444444444444444,
              "#bd3786"
             ],
             [
              0.5555555555555556,
              "#d8576b"
             ],
             [
              0.6666666666666666,
              "#ed7953"
             ],
             [
              0.7777777777777778,
              "#fb9f3a"
             ],
             [
              0.8888888888888888,
              "#fdca26"
             ],
             [
              1,
              "#f0f921"
             ]
            ],
            "type": "histogram2dcontour"
           }
          ],
          "mesh3d": [
           {
            "colorbar": {
             "outlinewidth": 0,
             "ticks": ""
            },
            "type": "mesh3d"
           }
          ],
          "parcoords": [
           {
            "line": {
             "colorbar": {
              "outlinewidth": 0,
              "ticks": ""
             }
            },
            "type": "parcoords"
           }
          ],
          "pie": [
           {
            "automargin": true,
            "type": "pie"
           }
          ],
          "scatter": [
           {
            "marker": {
             "colorbar": {
              "outlinewidth": 0,
              "ticks": ""
             }
            },
            "type": "scatter"
           }
          ],
          "scatter3d": [
           {
            "line": {
             "colorbar": {
              "outlinewidth": 0,
              "ticks": ""
             }
            },
            "marker": {
             "colorbar": {
              "outlinewidth": 0,
              "ticks": ""
             }
            },
            "type": "scatter3d"
           }
          ],
          "scattercarpet": [
           {
            "marker": {
             "colorbar": {
              "outlinewidth": 0,
              "ticks": ""
             }
            },
            "type": "scattercarpet"
           }
          ],
          "scattergeo": [
           {
            "marker": {
             "colorbar": {
              "outlinewidth": 0,
              "ticks": ""
             }
            },
            "type": "scattergeo"
           }
          ],
          "scattergl": [
           {
            "marker": {
             "colorbar": {
              "outlinewidth": 0,
              "ticks": ""
             }
            },
            "type": "scattergl"
           }
          ],
          "scattermapbox": [
           {
            "marker": {
             "colorbar": {
              "outlinewidth": 0,
              "ticks": ""
             }
            },
            "type": "scattermapbox"
           }
          ],
          "scatterpolar": [
           {
            "marker": {
             "colorbar": {
              "outlinewidth": 0,
              "ticks": ""
             }
            },
            "type": "scatterpolar"
           }
          ],
          "scatterpolargl": [
           {
            "marker": {
             "colorbar": {
              "outlinewidth": 0,
              "ticks": ""
             }
            },
            "type": "scatterpolargl"
           }
          ],
          "scatterternary": [
           {
            "marker": {
             "colorbar": {
              "outlinewidth": 0,
              "ticks": ""
             }
            },
            "type": "scatterternary"
           }
          ],
          "surface": [
           {
            "colorbar": {
             "outlinewidth": 0,
             "ticks": ""
            },
            "colorscale": [
             [
              0,
              "#0d0887"
             ],
             [
              0.1111111111111111,
              "#46039f"
             ],
             [
              0.2222222222222222,
              "#7201a8"
             ],
             [
              0.3333333333333333,
              "#9c179e"
             ],
             [
              0.4444444444444444,
              "#bd3786"
             ],
             [
              0.5555555555555556,
              "#d8576b"
             ],
             [
              0.6666666666666666,
              "#ed7953"
             ],
             [
              0.7777777777777778,
              "#fb9f3a"
             ],
             [
              0.8888888888888888,
              "#fdca26"
             ],
             [
              1,
              "#f0f921"
             ]
            ],
            "type": "surface"
           }
          ],
          "table": [
           {
            "cells": {
             "fill": {
              "color": "#EBF0F8"
             },
             "line": {
              "color": "white"
             }
            },
            "header": {
             "fill": {
              "color": "#C8D4E3"
             },
             "line": {
              "color": "white"
             }
            },
            "type": "table"
           }
          ]
         },
         "layout": {
          "annotationdefaults": {
           "arrowcolor": "#2a3f5f",
           "arrowhead": 0,
           "arrowwidth": 1
          },
          "autotypenumbers": "strict",
          "coloraxis": {
           "colorbar": {
            "outlinewidth": 0,
            "ticks": ""
           }
          },
          "colorscale": {
           "diverging": [
            [
             0,
             "#8e0152"
            ],
            [
             0.1,
             "#c51b7d"
            ],
            [
             0.2,
             "#de77ae"
            ],
            [
             0.3,
             "#f1b6da"
            ],
            [
             0.4,
             "#fde0ef"
            ],
            [
             0.5,
             "#f7f7f7"
            ],
            [
             0.6,
             "#e6f5d0"
            ],
            [
             0.7,
             "#b8e186"
            ],
            [
             0.8,
             "#7fbc41"
            ],
            [
             0.9,
             "#4d9221"
            ],
            [
             1,
             "#276419"
            ]
           ],
           "sequential": [
            [
             0,
             "#0d0887"
            ],
            [
             0.1111111111111111,
             "#46039f"
            ],
            [
             0.2222222222222222,
             "#7201a8"
            ],
            [
             0.3333333333333333,
             "#9c179e"
            ],
            [
             0.4444444444444444,
             "#bd3786"
            ],
            [
             0.5555555555555556,
             "#d8576b"
            ],
            [
             0.6666666666666666,
             "#ed7953"
            ],
            [
             0.7777777777777778,
             "#fb9f3a"
            ],
            [
             0.8888888888888888,
             "#fdca26"
            ],
            [
             1,
             "#f0f921"
            ]
           ],
           "sequentialminus": [
            [
             0,
             "#0d0887"
            ],
            [
             0.1111111111111111,
             "#46039f"
            ],
            [
             0.2222222222222222,
             "#7201a8"
            ],
            [
             0.3333333333333333,
             "#9c179e"
            ],
            [
             0.4444444444444444,
             "#bd3786"
            ],
            [
             0.5555555555555556,
             "#d8576b"
            ],
            [
             0.6666666666666666,
             "#ed7953"
            ],
            [
             0.7777777777777778,
             "#fb9f3a"
            ],
            [
             0.8888888888888888,
             "#fdca26"
            ],
            [
             1,
             "#f0f921"
            ]
           ]
          },
          "colorway": [
           "#636efa",
           "#EF553B",
           "#00cc96",
           "#ab63fa",
           "#FFA15A",
           "#19d3f3",
           "#FF6692",
           "#B6E880",
           "#FF97FF",
           "#FECB52"
          ],
          "font": {
           "color": "#2a3f5f"
          },
          "geo": {
           "bgcolor": "white",
           "lakecolor": "white",
           "landcolor": "#E5ECF6",
           "showlakes": true,
           "showland": true,
           "subunitcolor": "white"
          },
          "hoverlabel": {
           "align": "left"
          },
          "hovermode": "closest",
          "mapbox": {
           "style": "light"
          },
          "paper_bgcolor": "white",
          "plot_bgcolor": "#E5ECF6",
          "polar": {
           "angularaxis": {
            "gridcolor": "white",
            "linecolor": "white",
            "ticks": ""
           },
           "bgcolor": "#E5ECF6",
           "radialaxis": {
            "gridcolor": "white",
            "linecolor": "white",
            "ticks": ""
           }
          },
          "scene": {
           "xaxis": {
            "backgroundcolor": "#E5ECF6",
            "gridcolor": "white",
            "gridwidth": 2,
            "linecolor": "white",
            "showbackground": true,
            "ticks": "",
            "zerolinecolor": "white"
           },
           "yaxis": {
            "backgroundcolor": "#E5ECF6",
            "gridcolor": "white",
            "gridwidth": 2,
            "linecolor": "white",
            "showbackground": true,
            "ticks": "",
            "zerolinecolor": "white"
           },
           "zaxis": {
            "backgroundcolor": "#E5ECF6",
            "gridcolor": "white",
            "gridwidth": 2,
            "linecolor": "white",
            "showbackground": true,
            "ticks": "",
            "zerolinecolor": "white"
           }
          },
          "shapedefaults": {
           "line": {
            "color": "#2a3f5f"
           }
          },
          "ternary": {
           "aaxis": {
            "gridcolor": "white",
            "linecolor": "white",
            "ticks": ""
           },
           "baxis": {
            "gridcolor": "white",
            "linecolor": "white",
            "ticks": ""
           },
           "bgcolor": "#E5ECF6",
           "caxis": {
            "gridcolor": "white",
            "linecolor": "white",
            "ticks": ""
           }
          },
          "title": {
           "x": 0.05
          },
          "xaxis": {
           "automargin": true,
           "gridcolor": "white",
           "linecolor": "white",
           "ticks": "",
           "title": {
            "standoff": 15
           },
           "zerolinecolor": "white",
           "zerolinewidth": 2
          },
          "yaxis": {
           "automargin": true,
           "gridcolor": "white",
           "linecolor": "white",
           "ticks": "",
           "title": {
            "standoff": 15
           },
           "zerolinecolor": "white",
           "zerolinewidth": 2
          }
         }
        },
        "title": {
         "text": "Boxplot of Prices on 2024-06-18 for Source ID 108420"
        },
        "xaxis": {
         "anchor": "y",
         "domain": [
          0,
          1
         ]
        },
        "yaxis": {
         "anchor": "x",
         "domain": [
          0,
          1
         ],
         "title": {
          "text": "price"
         }
        }
       }
      },
      "text/html": [
       "<div>                            <div id=\"96ade5a3-2be7-4d91-bb8f-c14b4ad07c23\" class=\"plotly-graph-div\" style=\"height:525px; width:100%;\"></div>            <script type=\"text/javascript\">                require([\"plotly\"], function(Plotly) {                    window.PLOTLYENV=window.PLOTLYENV || {};                                    if (document.getElementById(\"96ade5a3-2be7-4d91-bb8f-c14b4ad07c23\")) {                    Plotly.newPlot(                        \"96ade5a3-2be7-4d91-bb8f-c14b4ad07c23\",                        [{\"alignmentgroup\": \"True\", \"hovertemplate\": \"price=%{y}<extra></extra>\", \"legendgroup\": \"\", \"marker\": {\"color\": \"#636efa\"}, \"name\": \"\", \"notched\": false, \"offsetgroup\": \"\", \"orientation\": \"v\", \"showlegend\": false, \"type\": \"box\", \"x0\": \" \", \"xaxis\": \"x\", \"y\": [2.79, 2.85, 2.98, 3.18, 2.99, 2.55], \"y0\": \" \", \"yaxis\": \"y\"}],                        {\"boxmode\": \"group\", \"legend\": {\"tracegroupgap\": 0}, \"template\": {\"data\": {\"bar\": [{\"error_x\": {\"color\": \"#2a3f5f\"}, \"error_y\": {\"color\": \"#2a3f5f\"}, \"marker\": {\"line\": {\"color\": \"#E5ECF6\", \"width\": 0.5}}, \"type\": \"bar\"}], \"barpolar\": [{\"marker\": {\"line\": {\"color\": \"#E5ECF6\", \"width\": 0.5}}, \"type\": \"barpolar\"}], \"carpet\": [{\"aaxis\": {\"endlinecolor\": \"#2a3f5f\", \"gridcolor\": \"white\", \"linecolor\": \"white\", \"minorgridcolor\": \"white\", \"startlinecolor\": \"#2a3f5f\"}, \"baxis\": {\"endlinecolor\": \"#2a3f5f\", \"gridcolor\": \"white\", \"linecolor\": \"white\", \"minorgridcolor\": \"white\", \"startlinecolor\": \"#2a3f5f\"}, \"type\": \"carpet\"}], \"choropleth\": [{\"colorbar\": {\"outlinewidth\": 0, \"ticks\": \"\"}, \"type\": \"choropleth\"}], \"contour\": [{\"colorbar\": {\"outlinewidth\": 0, \"ticks\": \"\"}, \"colorscale\": [[0.0, \"#0d0887\"], [0.1111111111111111, \"#46039f\"], [0.2222222222222222, \"#7201a8\"], [0.3333333333333333, \"#9c179e\"], [0.4444444444444444, \"#bd3786\"], [0.5555555555555556, \"#d8576b\"], [0.6666666666666666, \"#ed7953\"], [0.7777777777777778, \"#fb9f3a\"], [0.8888888888888888, \"#fdca26\"], [1.0, \"#f0f921\"]], \"type\": \"contour\"}], \"contourcarpet\": [{\"colorbar\": {\"outlinewidth\": 0, \"ticks\": \"\"}, \"type\": \"contourcarpet\"}], \"heatmap\": [{\"colorbar\": {\"outlinewidth\": 0, \"ticks\": \"\"}, \"colorscale\": [[0.0, \"#0d0887\"], [0.1111111111111111, \"#46039f\"], [0.2222222222222222, \"#7201a8\"], [0.3333333333333333, \"#9c179e\"], [0.4444444444444444, \"#bd3786\"], [0.5555555555555556, \"#d8576b\"], [0.6666666666666666, \"#ed7953\"], [0.7777777777777778, \"#fb9f3a\"], [0.8888888888888888, \"#fdca26\"], [1.0, \"#f0f921\"]], \"type\": \"heatmap\"}], \"heatmapgl\": [{\"colorbar\": {\"outlinewidth\": 0, \"ticks\": \"\"}, \"colorscale\": [[0.0, \"#0d0887\"], [0.1111111111111111, \"#46039f\"], [0.2222222222222222, \"#7201a8\"], [0.3333333333333333, \"#9c179e\"], [0.4444444444444444, \"#bd3786\"], [0.5555555555555556, \"#d8576b\"], [0.6666666666666666, \"#ed7953\"], [0.7777777777777778, \"#fb9f3a\"], [0.8888888888888888, \"#fdca26\"], [1.0, \"#f0f921\"]], \"type\": \"heatmapgl\"}], \"histogram\": [{\"marker\": {\"colorbar\": {\"outlinewidth\": 0, \"ticks\": \"\"}}, \"type\": \"histogram\"}], \"histogram2d\": [{\"colorbar\": {\"outlinewidth\": 0, \"ticks\": \"\"}, \"colorscale\": [[0.0, \"#0d0887\"], [0.1111111111111111, \"#46039f\"], [0.2222222222222222, \"#7201a8\"], [0.3333333333333333, \"#9c179e\"], [0.4444444444444444, \"#bd3786\"], [0.5555555555555556, \"#d8576b\"], [0.6666666666666666, \"#ed7953\"], [0.7777777777777778, \"#fb9f3a\"], [0.8888888888888888, \"#fdca26\"], [1.0, \"#f0f921\"]], \"type\": \"histogram2d\"}], \"histogram2dcontour\": [{\"colorbar\": {\"outlinewidth\": 0, \"ticks\": \"\"}, \"colorscale\": [[0.0, \"#0d0887\"], [0.1111111111111111, \"#46039f\"], [0.2222222222222222, \"#7201a8\"], [0.3333333333333333, \"#9c179e\"], [0.4444444444444444, \"#bd3786\"], [0.5555555555555556, \"#d8576b\"], [0.6666666666666666, \"#ed7953\"], [0.7777777777777778, \"#fb9f3a\"], [0.8888888888888888, \"#fdca26\"], [1.0, \"#f0f921\"]], \"type\": \"histogram2dcontour\"}], \"mesh3d\": [{\"colorbar\": {\"outlinewidth\": 0, \"ticks\": \"\"}, \"type\": \"mesh3d\"}], \"parcoords\": [{\"line\": {\"colorbar\": {\"outlinewidth\": 0, \"ticks\": \"\"}}, \"type\": \"parcoords\"}], \"pie\": [{\"automargin\": true, \"type\": \"pie\"}], \"scatter\": [{\"marker\": {\"colorbar\": {\"outlinewidth\": 0, \"ticks\": \"\"}}, \"type\": \"scatter\"}], \"scatter3d\": [{\"line\": {\"colorbar\": {\"outlinewidth\": 0, \"ticks\": \"\"}}, \"marker\": {\"colorbar\": {\"outlinewidth\": 0, \"ticks\": \"\"}}, \"type\": \"scatter3d\"}], \"scattercarpet\": [{\"marker\": {\"colorbar\": {\"outlinewidth\": 0, \"ticks\": \"\"}}, \"type\": \"scattercarpet\"}], \"scattergeo\": [{\"marker\": {\"colorbar\": {\"outlinewidth\": 0, \"ticks\": \"\"}}, \"type\": \"scattergeo\"}], \"scattergl\": [{\"marker\": {\"colorbar\": {\"outlinewidth\": 0, \"ticks\": \"\"}}, \"type\": \"scattergl\"}], \"scattermapbox\": [{\"marker\": {\"colorbar\": {\"outlinewidth\": 0, \"ticks\": \"\"}}, \"type\": \"scattermapbox\"}], \"scatterpolar\": [{\"marker\": {\"colorbar\": {\"outlinewidth\": 0, \"ticks\": \"\"}}, \"type\": \"scatterpolar\"}], \"scatterpolargl\": [{\"marker\": {\"colorbar\": {\"outlinewidth\": 0, \"ticks\": \"\"}}, \"type\": \"scatterpolargl\"}], \"scatterternary\": [{\"marker\": {\"colorbar\": {\"outlinewidth\": 0, \"ticks\": \"\"}}, \"type\": \"scatterternary\"}], \"surface\": [{\"colorbar\": {\"outlinewidth\": 0, \"ticks\": \"\"}, \"colorscale\": [[0.0, \"#0d0887\"], [0.1111111111111111, \"#46039f\"], [0.2222222222222222, \"#7201a8\"], [0.3333333333333333, \"#9c179e\"], [0.4444444444444444, \"#bd3786\"], [0.5555555555555556, \"#d8576b\"], [0.6666666666666666, \"#ed7953\"], [0.7777777777777778, \"#fb9f3a\"], [0.8888888888888888, \"#fdca26\"], [1.0, \"#f0f921\"]], \"type\": \"surface\"}], \"table\": [{\"cells\": {\"fill\": {\"color\": \"#EBF0F8\"}, \"line\": {\"color\": \"white\"}}, \"header\": {\"fill\": {\"color\": \"#C8D4E3\"}, \"line\": {\"color\": \"white\"}}, \"type\": \"table\"}]}, \"layout\": {\"annotationdefaults\": {\"arrowcolor\": \"#2a3f5f\", \"arrowhead\": 0, \"arrowwidth\": 1}, \"autotypenumbers\": \"strict\", \"coloraxis\": {\"colorbar\": {\"outlinewidth\": 0, \"ticks\": \"\"}}, \"colorscale\": {\"diverging\": [[0, \"#8e0152\"], [0.1, \"#c51b7d\"], [0.2, \"#de77ae\"], [0.3, \"#f1b6da\"], [0.4, \"#fde0ef\"], [0.5, \"#f7f7f7\"], [0.6, \"#e6f5d0\"], [0.7, \"#b8e186\"], [0.8, \"#7fbc41\"], [0.9, \"#4d9221\"], [1, \"#276419\"]], \"sequential\": [[0.0, \"#0d0887\"], [0.1111111111111111, \"#46039f\"], [0.2222222222222222, \"#7201a8\"], [0.3333333333333333, \"#9c179e\"], [0.4444444444444444, \"#bd3786\"], [0.5555555555555556, \"#d8576b\"], [0.6666666666666666, \"#ed7953\"], [0.7777777777777778, \"#fb9f3a\"], [0.8888888888888888, \"#fdca26\"], [1.0, \"#f0f921\"]], \"sequentialminus\": [[0.0, \"#0d0887\"], [0.1111111111111111, \"#46039f\"], [0.2222222222222222, \"#7201a8\"], [0.3333333333333333, \"#9c179e\"], [0.4444444444444444, \"#bd3786\"], [0.5555555555555556, \"#d8576b\"], [0.6666666666666666, \"#ed7953\"], [0.7777777777777778, \"#fb9f3a\"], [0.8888888888888888, \"#fdca26\"], [1.0, \"#f0f921\"]]}, \"colorway\": [\"#636efa\", \"#EF553B\", \"#00cc96\", \"#ab63fa\", \"#FFA15A\", \"#19d3f3\", \"#FF6692\", \"#B6E880\", \"#FF97FF\", \"#FECB52\"], \"font\": {\"color\": \"#2a3f5f\"}, \"geo\": {\"bgcolor\": \"white\", \"lakecolor\": \"white\", \"landcolor\": \"#E5ECF6\", \"showlakes\": true, \"showland\": true, \"subunitcolor\": \"white\"}, \"hoverlabel\": {\"align\": \"left\"}, \"hovermode\": \"closest\", \"mapbox\": {\"style\": \"light\"}, \"paper_bgcolor\": \"white\", \"plot_bgcolor\": \"#E5ECF6\", \"polar\": {\"angularaxis\": {\"gridcolor\": \"white\", \"linecolor\": \"white\", \"ticks\": \"\"}, \"bgcolor\": \"#E5ECF6\", \"radialaxis\": {\"gridcolor\": \"white\", \"linecolor\": \"white\", \"ticks\": \"\"}}, \"scene\": {\"xaxis\": {\"backgroundcolor\": \"#E5ECF6\", \"gridcolor\": \"white\", \"gridwidth\": 2, \"linecolor\": \"white\", \"showbackground\": true, \"ticks\": \"\", \"zerolinecolor\": \"white\"}, \"yaxis\": {\"backgroundcolor\": \"#E5ECF6\", \"gridcolor\": \"white\", \"gridwidth\": 2, \"linecolor\": \"white\", \"showbackground\": true, \"ticks\": \"\", \"zerolinecolor\": \"white\"}, \"zaxis\": {\"backgroundcolor\": \"#E5ECF6\", \"gridcolor\": \"white\", \"gridwidth\": 2, \"linecolor\": \"white\", \"showbackground\": true, \"ticks\": \"\", \"zerolinecolor\": \"white\"}}, \"shapedefaults\": {\"line\": {\"color\": \"#2a3f5f\"}}, \"ternary\": {\"aaxis\": {\"gridcolor\": \"white\", \"linecolor\": \"white\", \"ticks\": \"\"}, \"baxis\": {\"gridcolor\": \"white\", \"linecolor\": \"white\", \"ticks\": \"\"}, \"bgcolor\": \"#E5ECF6\", \"caxis\": {\"gridcolor\": \"white\", \"linecolor\": \"white\", \"ticks\": \"\"}}, \"title\": {\"x\": 0.05}, \"xaxis\": {\"automargin\": true, \"gridcolor\": \"white\", \"linecolor\": \"white\", \"ticks\": \"\", \"title\": {\"standoff\": 15}, \"zerolinecolor\": \"white\", \"zerolinewidth\": 2}, \"yaxis\": {\"automargin\": true, \"gridcolor\": \"white\", \"linecolor\": \"white\", \"ticks\": \"\", \"title\": {\"standoff\": 15}, \"zerolinecolor\": \"white\", \"zerolinewidth\": 2}}}, \"title\": {\"text\": \"Boxplot of Prices on 2024-06-18 for Source ID 108420\"}, \"xaxis\": {\"anchor\": \"y\", \"domain\": [0.0, 1.0]}, \"yaxis\": {\"anchor\": \"x\", \"domain\": [0.0, 1.0], \"title\": {\"text\": \"price\"}}},                        {\"responsive\": true}                    ).then(function(){\n",
       "                            \n",
       "var gd = document.getElementById('96ade5a3-2be7-4d91-bb8f-c14b4ad07c23');\n",
       "var x = new MutationObserver(function (mutations, observer) {{\n",
       "        var display = window.getComputedStyle(gd).display;\n",
       "        if (!display || display === 'none') {{\n",
       "            console.log([gd, 'removed!']);\n",
       "            Plotly.purge(gd);\n",
       "            observer.disconnect();\n",
       "        }}\n",
       "}});\n",
       "\n",
       "// Listen for the removal of the full notebook cells\n",
       "var notebookContainer = gd.closest('#notebook-container');\n",
       "if (notebookContainer) {{\n",
       "    x.observe(notebookContainer, {childList: true});\n",
       "}}\n",
       "\n",
       "// Listen for the clearing of the current output cell\n",
       "var outputEl = gd.closest('.output');\n",
       "if (outputEl) {{\n",
       "    x.observe(outputEl, {childList: true});\n",
       "}}\n",
       "\n",
       "                        })                };                });            </script>        </div>"
      ]
     },
     "metadata": {},
     "output_type": "display_data"
    }
   ],
   "source": [
    "# Assuming df_bench is your DataFrame\n",
    "filtered_data = df_bench[(df_bench['source_id'] == 285599) & (df_bench['quotation_date'] == '2024-06-18')]\n",
    "\n",
    "# Extract the 'price' column from filtered_data\n",
    "prices = filtered_data['price']\n",
    "\n",
    "# Create a boxplot using Plotly Express\n",
    "fig = px.box(prices, y=\"price\", title=\"Boxplot of Prices on 2024-06-18 for Source ID 108420\")\n",
    "\n",
    "# Show the plot\n",
    "fig.show()"
   ]
  },
  {
   "cell_type": "code",
   "execution_count": 50,
   "metadata": {},
   "outputs": [],
   "source": [
    "df3.to_excel('a.xlsx')"
   ]
  }
 ],
 "metadata": {
  "kernelspec": {
   "display_name": "Python 3",
   "language": "python",
   "name": "python3"
  }
 },
 "nbformat": 4,
 "nbformat_minor": 2
}
