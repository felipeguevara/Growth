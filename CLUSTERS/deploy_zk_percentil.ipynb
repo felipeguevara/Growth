{
 "cells": [
  {
   "cell_type": "code",
   "execution_count": 30,
   "metadata": {},
   "outputs": [],
   "source": [
    "#//----------------------------\n",
    "#//LIBRARIES\n",
    "    #Math\n",
    "import math\n",
    "    #Numeric Python\n",
    "import numpy as np\n",
    "    #Pandas (dataframes)\n",
    "import pandas as pd\n",
    "    #datetime for fate manipulation\n",
    "from datetime import date, datetime, timedelta  \n",
    "    #Regex for advanced string matching\n",
    "import re\n",
    "    #for time related stuff\n",
    "import time \n",
    "    #json library\n",
    "import json\n",
    "    #Analyst tools\n",
    "import sys\n",
    "sys.path.append('../')\n",
    "from analysts_tools.growth import *\n",
    "    #Procurement tools\n",
    "from procurement_lib import send_slack_notification\n",
    "from procurement_lib import redash\n",
    "from analysts_tools.redash_methods import *\n",
    "from analystcommunity.read_connection_data_warehouse import run_read_dwd_query\n",
    "\n",
    "import random\n",
    "import time\n",
    "import datetime\n",
    "\n",
    "import seaborn as sns\n",
    "import matplotlib.pyplot as plt\n",
    "from scipy import stats\n",
    "\n",
    "from procurement_lib import GoogleSheet"
   ]
  },
  {
   "cell_type": "code",
   "execution_count": 31,
   "metadata": {},
   "outputs": [],
   "source": [
    "todays_date = datetime.datetime.today().strftime('%Y-%m-%d')"
   ]
  },
  {
   "cell_type": "code",
   "execution_count": 32,
   "metadata": {},
   "outputs": [],
   "source": [
    "query = \"\"\"\n",
    "select\n",
    "    competitor.competitor_name,\n",
    "    site.identifier_value as site_code,\n",
    "    quotation_date.full_date AS quotation_date,\n",
    "    su.source_id,\n",
    "    ROUND(AVG(cpp.product_selected_price),2)::float as price\n",
    "from dpr_product_pricing.fact_collected_product_prices cpp\n",
    "    inner join dpr_shared.dim_date quotation_date\n",
    "        on cpp.dim_quotation_date = quotation_date.date_id\n",
    "    inner join dpr_shared.dim_time quotation_time\n",
    "        on cpp.dim_quotation_time = quotation_time.time_id\n",
    "    inner join dpr_shared.dim_site site\n",
    "        on cpp.dim_site = site.site_id\n",
    "    inner join dpr_shared.dim_category cat\n",
    "        on cpp.dim_category = cat.category_id\n",
    "    inner join dpr_product_pricing.dim_product_outlier_type outlier_type\n",
    "        on cpp.dim_outlier_type = outlier_type.outlier_type_id\n",
    "    inner join dpr_product_pricing.dim_product_source_type source_type\n",
    "        on cpp.dim_source_type = source_type.source_type_id\n",
    "    inner join dpr_product_pricing.dim_product_competitor competitor\n",
    "        on cpp.dim_competitor = competitor.competitor_id\n",
    "    inner join dpr_product_pricing.dim_product_competitor_type competitor_type\n",
    "        on(\n",
    "            case\n",
    "                when cpp.super_category = 'Fruver'\n",
    "                    then competitor.product_competitor_type_id_fruver = competitor_type.competitor_type_id\n",
    "                when cpp.super_category = 'Multicategoría'\n",
    "                    then competitor.product_competitor_type_id_multicategoria = competitor_type.competitor_type_id\n",
    "            end\n",
    "        )\n",
    "    inner join dpr_shared.dim_stock_unit su\n",
    "        on cpp.dim_stock_unit = su.stock_unit_id\n",
    "where quotation_date.full_date >= current_date - 10\n",
    "    AND competitor.competitor_name NOT ILIKE '%cayena%'\n",
    "    AND site.identifier_value IN ('SPO','CWB','VCP','BHZ')\n",
    "GROUP BY 1,2,3,4\n",
    "\"\"\"\n",
    "df_zkkkkk = run_read_dwd_query(query)\n",
    "\n",
    "df_zkkkkk = df_zkkkkk.dropna().reset_index(drop=True)\n",
    "df_zkkkkk['lifetime'] = 8"
   ]
  },
  {
   "cell_type": "code",
   "execution_count": 33,
   "metadata": {},
   "outputs": [],
   "source": [
    "# Ensure dataframe is sorted by 'quotation_date'\n",
    "df_zkkkkk = df_zkkkkk.sort_values(by='quotation_date')\n",
    "\n",
    "# Generate the required rows for missing dates\n",
    "new_rows = []\n",
    "\n",
    "for (competitor, source_id), group in df_zkkkkk.groupby(['competitor_name', 'source_id']):\n",
    "    group = group.sort_values(by='quotation_date')\n",
    "    last_known_price = None\n",
    "    last_known_date = None\n",
    "    lifetime = 8\n",
    "    \n",
    "    for current_index in range(len(group)):\n",
    "        current_date = group.iloc[current_index]['quotation_date']\n",
    "        price = group.iloc[current_index]['price']\n",
    "        \n",
    "        # If this is not the first iteration, fill in missing dates\n",
    "        if last_known_date is not None:\n",
    "            days_diff = (current_date - last_known_date).days\n",
    "            if days_diff > 1:\n",
    "                for j in range(1, min(days_diff, lifetime + 1)):\n",
    "                    new_date = last_known_date + timedelta(days=j)\n",
    "                    new_row = {\n",
    "                        'site_code': group.iloc[current_index]['site_code'],\n",
    "                        'quotation_date': new_date,\n",
    "                        'competitor_name': competitor,\n",
    "                        'source_id': source_id,\n",
    "                        'price': last_known_price,\n",
    "                        'lifetime': lifetime - j\n",
    "                    }\n",
    "                    new_rows.append(new_row)\n",
    "                    \n",
    "                    # Stop if we reach a new datapoint date\n",
    "                    if new_date + timedelta(days=1) == current_date:\n",
    "                        break\n",
    "        \n",
    "        # Update the last known values and reset lifetime\n",
    "        last_known_price = price\n",
    "        last_known_date = current_date\n",
    "        lifetime = 8  # Reset lifetime\n",
    "\n",
    "    # After processing all known dates for the group, continue generating rows until lifetime reaches 0\n",
    "    while lifetime > 0:\n",
    "        last_known_date += timedelta(days=1)\n",
    "        new_row = {\n",
    "            'site_code': group.iloc[-1]['site_code'],\n",
    "            'quotation_date': last_known_date,\n",
    "            'competitor_name': competitor,\n",
    "            'source_id': source_id,\n",
    "            'price': last_known_price,\n",
    "            'lifetime': lifetime - 1\n",
    "        }\n",
    "        new_rows.append(new_row)\n",
    "        lifetime -= 1\n",
    "\n",
    "# Append new rows to the dataframe\n",
    "df_zkkkkk = df_zkkkkk.append(new_rows, ignore_index=True)\n",
    "\n",
    "# Sort the final dataframe\n",
    "df_zkkkkk = df_zkkkkk.sort_values(by=['competitor_name', 'source_id', 'quotation_date'])\n",
    "df_zkkkkk['replica'] = df_zkkkkk['lifetime'] == 8"
   ]
  },
  {
   "cell_type": "code",
   "execution_count": 34,
   "metadata": {},
   "outputs": [],
   "source": [
    "df_bench = df_zkkkkk.copy()\n",
    "df_bench['quotation_date'] = pd.to_datetime(df_bench['quotation_date'])"
   ]
  },
  {
   "cell_type": "code",
   "execution_count": 35,
   "metadata": {},
   "outputs": [],
   "source": [
    "df_c = df_bench.loc[df_bench.quotation_date == todays_date].groupby(\"source_id\").agg(competitors=('competitor_name',lambda x: x.nunique())).reset_index()"
   ]
  },
  {
   "cell_type": "code",
   "execution_count": 36,
   "metadata": {},
   "outputs": [],
   "source": [
    "query = \"\"\"\n",
    "with all_prices as(\n",
    "    select\n",
    "        date.full_date as fecha,\n",
    "        site.identifier_value as region,\n",
    "        sup.source_id as product_ids,\n",
    "        sup.description as product_name,\n",
    "        min_base_price as price,\n",
    "        min_sale_price as sale_price,\n",
    "        min_pricing_price as price_hook_acmktpl,\n",
    "        -- pp.product_price_id,\n",
    "        row_number() over(partition by sup.source_id,date_created_at_id,time_created_at_id order by su.min_weight_unit desc, price asc) as family_order\n",
    "    from dpr_product_pricing.dim_product_current_price pp\n",
    "        inner join dpr_shared.dim_stock_unit su\n",
    "            on pp.stock_unit_id = su.stock_unit_id\n",
    "        inner join dpr_shared.dim_stock_unit sup\n",
    "            on nvl(nullif(su.source_parent_id,0),su.source_id) = sup.source_id\n",
    "        inner join dpr_shared.dim_date date\n",
    "            on pp.date_created_at_id = date.date_id\n",
    "        inner join dpr_shared.dim_site site\n",
    "            on su.site_id = site.site_id\n",
    "        inner join dpr_shared.dim_category cat\n",
    "            on sup.category_id = cat.category_id\n",
    "    where date.full_date >= current_date - 60\n",
    "        and date.full_date <= current_date\n",
    "        and su.description not like '%(S - I)%'\n",
    "        and cat.super_category = 'Multicategoría'\n",
    "        and su.active = 1\n",
    "        and su.description not like '%( S - I)%'\n",
    "        and su.description not like '%FDL%'\n",
    "        and su.description not like '%Robin-Food%'\n",
    "        and su.description not like '%Robin Food%'\n",
    "        and su.description not like '%RF%'\n",
    "        and su.description not like '%PPY%'\n",
    "        and su.description not like '%KAM%'\n",
    "        and su.description not like '%SIN IVA%'\n",
    "        and su.description not like '%Oakberry%'\n",
    "),\n",
    "\n",
    "clusters as (\n",
    " SELECT \n",
    "        batch_id,\n",
    "        created_at,\n",
    "        last_modified_at,\n",
    "        sku,\n",
    "        stock_unit_id,\n",
    "        source_id,\n",
    "        type AS cluster,\n",
    "        site_id,\n",
    "        ROW_NUMBER() OVER (PARTITION BY sku ORDER BY last_modified_at DESC, cluster DESC) AS rn\n",
    "    FROM \n",
    "        dpr_product_pricing.dim_sku_cluster_period\n",
    "    where \n",
    "        site_id in (4,6,9,11)\n",
    ")\n",
    "\n",
    "\n",
    "Select\n",
    "    fecha.full_date as quotation_date,\n",
    "    all_prices.region,\n",
    "    su.source_id,\n",
    "    --su.description as product_name,\n",
    "    clusters.cluster,\n",
    "    price::FLOAT AS price,\n",
    "    sale_price::FLOAT AS sale_price,\n",
    "    price_hook_acmktpl::FLOAT AS precio_neto,\n",
    "    (CASE WHEN c.dtd_cost_local = 0 THEN m.inventory_p_fin ELSE c.dtd_cost_local END)::FLOAT  AS costo,\n",
    "    min_price::FLOAT AS bench\n",
    "    \n",
    "from all_prices\n",
    "    inner join dpr_shared.dim_stock_unit su \n",
    "        on all_prices.product_ids = su.source_id\n",
    "        \n",
    "    left join dpr_cross_business.int_dtd_cost c \n",
    "        on c.dim_stock_unit = su.stock_unit_id\n",
    "    \n",
    "    inner join dpr_shared.dim_date fecha_id \n",
    "        on c.dim_date_dtd = fecha_id.date_id\n",
    "    inner join dpr_shared.dim_date fecha \n",
    "        on fecha_id.full_date+1 = fecha.full_date\n",
    "\n",
    "    left join dpr_cross_business.fact_cross_business_insights m \n",
    "        on m.dim_stock_unit = su.stock_unit_id AND m.dim_date = fecha.date_id\n",
    "    \n",
    "    left join clusters on clusters.sku = su.sku\n",
    "    \n",
    "    left join dpr_product_pricing.obt_benchmark_product_prices b\n",
    "        on b.stock_unit_id = su.stock_unit_id AND b.benchmark_date = fecha.full_date\n",
    "\n",
    "where current_date = fecha.full_date\n",
    "and family_order = 1\n",
    "and rn = 1\n",
    "\"\"\"\n",
    "df = run_read_dwd_query(query)\n",
    "df['quotation_date'] = pd.to_datetime(df['quotation_date'])"
   ]
  },
  {
   "cell_type": "code",
   "execution_count": 37,
   "metadata": {},
   "outputs": [],
   "source": [
    "df = pd.merge(df, df_c, left_on=['source_id'], right_on=['source_id'], how='left')"
   ]
  },
  {
   "cell_type": "code",
   "execution_count": 38,
   "metadata": {},
   "outputs": [
    {
     "data": {
      "text/html": [
       "<div>\n",
       "<style scoped>\n",
       "    .dataframe tbody tr th:only-of-type {\n",
       "        vertical-align: middle;\n",
       "    }\n",
       "\n",
       "    .dataframe tbody tr th {\n",
       "        vertical-align: top;\n",
       "    }\n",
       "\n",
       "    .dataframe thead th {\n",
       "        text-align: right;\n",
       "    }\n",
       "</style>\n",
       "<table border=\"1\" class=\"dataframe\">\n",
       "  <thead>\n",
       "    <tr style=\"text-align: right;\">\n",
       "      <th></th>\n",
       "      <th>quotation_date</th>\n",
       "      <th>region</th>\n",
       "      <th>source_id</th>\n",
       "      <th>cluster</th>\n",
       "      <th>price</th>\n",
       "      <th>sale_price</th>\n",
       "      <th>precio_neto</th>\n",
       "      <th>costo</th>\n",
       "      <th>bench</th>\n",
       "      <th>competitors</th>\n",
       "    </tr>\n",
       "  </thead>\n",
       "  <tbody>\n",
       "    <tr>\n",
       "      <th>0</th>\n",
       "      <td>2024-06-17</td>\n",
       "      <td>SPO</td>\n",
       "      <td>633105</td>\n",
       "      <td>TAIL</td>\n",
       "      <td>52.04</td>\n",
       "      <td>52.04</td>\n",
       "      <td>52.04</td>\n",
       "      <td>32.0625</td>\n",
       "      <td>NaN</td>\n",
       "      <td>NaN</td>\n",
       "    </tr>\n",
       "    <tr>\n",
       "      <th>1</th>\n",
       "      <td>2024-06-17</td>\n",
       "      <td>VCP</td>\n",
       "      <td>632885</td>\n",
       "      <td>TAIL</td>\n",
       "      <td>41.88</td>\n",
       "      <td>41.88</td>\n",
       "      <td>41.88</td>\n",
       "      <td>33.9600</td>\n",
       "      <td>NaN</td>\n",
       "      <td>NaN</td>\n",
       "    </tr>\n",
       "    <tr>\n",
       "      <th>2</th>\n",
       "      <td>2024-06-17</td>\n",
       "      <td>VCP</td>\n",
       "      <td>476889</td>\n",
       "      <td>MID</td>\n",
       "      <td>15.35</td>\n",
       "      <td>15.35</td>\n",
       "      <td>15.35</td>\n",
       "      <td>12.6890</td>\n",
       "      <td>14.30</td>\n",
       "      <td>1.0</td>\n",
       "    </tr>\n",
       "    <tr>\n",
       "      <th>3</th>\n",
       "      <td>2024-06-17</td>\n",
       "      <td>SPO</td>\n",
       "      <td>73465</td>\n",
       "      <td>KVI</td>\n",
       "      <td>4.89</td>\n",
       "      <td>4.89</td>\n",
       "      <td>4.89</td>\n",
       "      <td>4.1027</td>\n",
       "      <td>4.89</td>\n",
       "      <td>17.0</td>\n",
       "    </tr>\n",
       "    <tr>\n",
       "      <th>4</th>\n",
       "      <td>2024-06-17</td>\n",
       "      <td>BHZ</td>\n",
       "      <td>641000</td>\n",
       "      <td>KVI</td>\n",
       "      <td>12.28</td>\n",
       "      <td>12.28</td>\n",
       "      <td>12.28</td>\n",
       "      <td>10.4908</td>\n",
       "      <td>NaN</td>\n",
       "      <td>NaN</td>\n",
       "    </tr>\n",
       "  </tbody>\n",
       "</table>\n",
       "</div>"
      ],
      "text/plain": [
       "  quotation_date region  source_id cluster  price  sale_price  precio_neto  \\\n",
       "0     2024-06-17    SPO     633105    TAIL  52.04       52.04        52.04   \n",
       "1     2024-06-17    VCP     632885    TAIL  41.88       41.88        41.88   \n",
       "2     2024-06-17    VCP     476889     MID  15.35       15.35        15.35   \n",
       "3     2024-06-17    SPO      73465     KVI   4.89        4.89         4.89   \n",
       "4     2024-06-17    BHZ     641000     KVI  12.28       12.28        12.28   \n",
       "\n",
       "     costo  bench  competitors  \n",
       "0  32.0625    NaN          NaN  \n",
       "1  33.9600    NaN          NaN  \n",
       "2  12.6890  14.30          1.0  \n",
       "3   4.1027   4.89         17.0  \n",
       "4  10.4908    NaN          NaN  "
      ]
     },
     "execution_count": 38,
     "metadata": {},
     "output_type": "execute_result"
    }
   ],
   "source": [
    "df.head()"
   ]
  },
  {
   "cell_type": "code",
   "execution_count": 39,
   "metadata": {},
   "outputs": [],
   "source": [
    "# Función para calcular el percentil\n",
    "def calcular_percentil(row, bench_df):\n",
    "    source_id = row['source_id']\n",
    "    quotation_date = row['quotation_date']\n",
    "    precio = row['precio_neto']\n",
    "    \n",
    "    # Filtrar precios de referencia por source_id y quotation_date\n",
    "    bench_precios = bench_df[(bench_df['source_id'] == source_id) & (bench_df['quotation_date'] == quotation_date)]['price']\n",
    "    \n",
    "    # Si no hay datos de referencia para ese source_id y quotation_date, devolver NaN\n",
    "    if bench_precios.empty:\n",
    "        return np.nan\n",
    "    \n",
    "    # Convertir a un array de numpy\n",
    "    bench_precios = bench_precios.to_numpy(dtype=np.float64)\n",
    "    \n",
    "    # Manejo de valores por encima del máximo y por debajo del mínimo\n",
    "    if precio < np.min(bench_precios):\n",
    "        return -100*(1-(precio/np.min(bench_precios))) # Percentil mínimo\n",
    "    elif precio > np.max(bench_precios):\n",
    "        return 100*(precio/np.max(bench_precios)) # Percentil maximo\n",
    "    \n",
    "    # Calcular el percentil\n",
    "    percentil = stats.percentileofscore(bench_precios, precio)\n",
    "    return percentil\n",
    "\n",
    "# Aplicar la función a cada fila de df\n",
    "df['percentil'] = df.apply(calcular_percentil, axis=1, bench_df=df_bench)"
   ]
  },
  {
   "cell_type": "code",
   "execution_count": 40,
   "metadata": {},
   "outputs": [
    {
     "data": {
      "text/html": [
       "<div>\n",
       "<style scoped>\n",
       "    .dataframe tbody tr th:only-of-type {\n",
       "        vertical-align: middle;\n",
       "    }\n",
       "\n",
       "    .dataframe tbody tr th {\n",
       "        vertical-align: top;\n",
       "    }\n",
       "\n",
       "    .dataframe thead th {\n",
       "        text-align: right;\n",
       "    }\n",
       "</style>\n",
       "<table border=\"1\" class=\"dataframe\">\n",
       "  <thead>\n",
       "    <tr style=\"text-align: right;\">\n",
       "      <th></th>\n",
       "      <th>quotation_date</th>\n",
       "      <th>region</th>\n",
       "      <th>source_id</th>\n",
       "      <th>cluster</th>\n",
       "      <th>price</th>\n",
       "      <th>sale_price</th>\n",
       "      <th>precio_neto</th>\n",
       "      <th>costo</th>\n",
       "      <th>bench</th>\n",
       "      <th>competitors</th>\n",
       "      <th>percentil</th>\n",
       "    </tr>\n",
       "  </thead>\n",
       "  <tbody>\n",
       "    <tr>\n",
       "      <th>0</th>\n",
       "      <td>2024-06-17</td>\n",
       "      <td>SPO</td>\n",
       "      <td>633105</td>\n",
       "      <td>TAIL</td>\n",
       "      <td>52.04</td>\n",
       "      <td>52.04</td>\n",
       "      <td>52.04</td>\n",
       "      <td>32.0625</td>\n",
       "      <td>NaN</td>\n",
       "      <td>NaN</td>\n",
       "      <td>NaN</td>\n",
       "    </tr>\n",
       "    <tr>\n",
       "      <th>1</th>\n",
       "      <td>2024-06-17</td>\n",
       "      <td>VCP</td>\n",
       "      <td>632885</td>\n",
       "      <td>TAIL</td>\n",
       "      <td>41.88</td>\n",
       "      <td>41.88</td>\n",
       "      <td>41.88</td>\n",
       "      <td>33.9600</td>\n",
       "      <td>NaN</td>\n",
       "      <td>NaN</td>\n",
       "      <td>NaN</td>\n",
       "    </tr>\n",
       "    <tr>\n",
       "      <th>2</th>\n",
       "      <td>2024-06-17</td>\n",
       "      <td>VCP</td>\n",
       "      <td>476889</td>\n",
       "      <td>MID</td>\n",
       "      <td>15.35</td>\n",
       "      <td>15.35</td>\n",
       "      <td>15.35</td>\n",
       "      <td>12.6890</td>\n",
       "      <td>14.30</td>\n",
       "      <td>1.0</td>\n",
       "      <td>107.342657</td>\n",
       "    </tr>\n",
       "    <tr>\n",
       "      <th>3</th>\n",
       "      <td>2024-06-17</td>\n",
       "      <td>SPO</td>\n",
       "      <td>73465</td>\n",
       "      <td>KVI</td>\n",
       "      <td>4.89</td>\n",
       "      <td>4.89</td>\n",
       "      <td>4.89</td>\n",
       "      <td>4.1027</td>\n",
       "      <td>4.89</td>\n",
       "      <td>17.0</td>\n",
       "      <td>8.823529</td>\n",
       "    </tr>\n",
       "    <tr>\n",
       "      <th>4</th>\n",
       "      <td>2024-06-17</td>\n",
       "      <td>BHZ</td>\n",
       "      <td>641000</td>\n",
       "      <td>KVI</td>\n",
       "      <td>12.28</td>\n",
       "      <td>12.28</td>\n",
       "      <td>12.28</td>\n",
       "      <td>10.4908</td>\n",
       "      <td>NaN</td>\n",
       "      <td>NaN</td>\n",
       "      <td>NaN</td>\n",
       "    </tr>\n",
       "  </tbody>\n",
       "</table>\n",
       "</div>"
      ],
      "text/plain": [
       "  quotation_date region  source_id cluster  price  sale_price  precio_neto  \\\n",
       "0     2024-06-17    SPO     633105    TAIL  52.04       52.04        52.04   \n",
       "1     2024-06-17    VCP     632885    TAIL  41.88       41.88        41.88   \n",
       "2     2024-06-17    VCP     476889     MID  15.35       15.35        15.35   \n",
       "3     2024-06-17    SPO      73465     KVI   4.89        4.89         4.89   \n",
       "4     2024-06-17    BHZ     641000     KVI  12.28       12.28        12.28   \n",
       "\n",
       "     costo  bench  competitors   percentil  \n",
       "0  32.0625    NaN          NaN         NaN  \n",
       "1  33.9600    NaN          NaN         NaN  \n",
       "2  12.6890  14.30          1.0  107.342657  \n",
       "3   4.1027   4.89         17.0    8.823529  \n",
       "4  10.4908    NaN          NaN         NaN  "
      ]
     },
     "execution_count": 40,
     "metadata": {},
     "output_type": "execute_result"
    }
   ],
   "source": [
    "df.head()"
   ]
  },
  {
   "cell_type": "code",
   "execution_count": 41,
   "metadata": {},
   "outputs": [],
   "source": [
    "def calcular_precio_por_percentil_row(row, bench_df, desired_percentil):\n",
    "    source_id = row['source_id']\n",
    "    quotation_date = row['quotation_date']\n",
    "    \n",
    "    # Filtrar precios de referencia por source_id y quotation_date\n",
    "    bench_precios = bench_df[(bench_df['source_id'] == source_id) & (bench_df['quotation_date'] == quotation_date)]['price']\n",
    "    \n",
    "    # Si no hay datos de referencia para ese source_id y quotation_date, devolver NaN\n",
    "    if bench_precios.empty:\n",
    "        return np.nan\n",
    "    \n",
    "    # Convertir a un array de numpy y ordenar los precios\n",
    "    bench_precios = bench_precios.to_numpy(dtype=np.float64)\n",
    "    bench_precios.sort()\n",
    "    \n",
    "    # Calcular el precio correspondiente al percentil deseado\n",
    "    precio = np.percentile(bench_precios, desired_percentil)\n",
    "    \n",
    "    return precio"
   ]
  },
  {
   "cell_type": "code",
   "execution_count": 42,
   "metadata": {},
   "outputs": [],
   "source": [
    "# Desired percentile (e.g., 25th percentile)\n",
    "desired_percentil = 25\n",
    "\n",
    "# Apply the function to each row in df\n",
    "df['p25'] = df.apply(lambda row: calcular_precio_por_percentil_row(row, df_bench, desired_percentil), axis=1)"
   ]
  },
  {
   "cell_type": "code",
   "execution_count": 43,
   "metadata": {},
   "outputs": [
    {
     "data": {
      "text/html": [
       "<div>\n",
       "<style scoped>\n",
       "    .dataframe tbody tr th:only-of-type {\n",
       "        vertical-align: middle;\n",
       "    }\n",
       "\n",
       "    .dataframe tbody tr th {\n",
       "        vertical-align: top;\n",
       "    }\n",
       "\n",
       "    .dataframe thead th {\n",
       "        text-align: right;\n",
       "    }\n",
       "</style>\n",
       "<table border=\"1\" class=\"dataframe\">\n",
       "  <thead>\n",
       "    <tr style=\"text-align: right;\">\n",
       "      <th></th>\n",
       "      <th>quotation_date</th>\n",
       "      <th>region</th>\n",
       "      <th>source_id</th>\n",
       "      <th>cluster</th>\n",
       "      <th>price</th>\n",
       "      <th>sale_price</th>\n",
       "      <th>precio_neto</th>\n",
       "      <th>costo</th>\n",
       "      <th>bench</th>\n",
       "      <th>competitors</th>\n",
       "      <th>percentil</th>\n",
       "      <th>p25</th>\n",
       "    </tr>\n",
       "  </thead>\n",
       "  <tbody>\n",
       "    <tr>\n",
       "      <th>0</th>\n",
       "      <td>2024-06-17</td>\n",
       "      <td>SPO</td>\n",
       "      <td>633105</td>\n",
       "      <td>TAIL</td>\n",
       "      <td>52.04</td>\n",
       "      <td>52.04</td>\n",
       "      <td>52.04</td>\n",
       "      <td>32.0625</td>\n",
       "      <td>NaN</td>\n",
       "      <td>NaN</td>\n",
       "      <td>NaN</td>\n",
       "      <td>NaN</td>\n",
       "    </tr>\n",
       "    <tr>\n",
       "      <th>1</th>\n",
       "      <td>2024-06-17</td>\n",
       "      <td>VCP</td>\n",
       "      <td>632885</td>\n",
       "      <td>TAIL</td>\n",
       "      <td>41.88</td>\n",
       "      <td>41.88</td>\n",
       "      <td>41.88</td>\n",
       "      <td>33.9600</td>\n",
       "      <td>NaN</td>\n",
       "      <td>NaN</td>\n",
       "      <td>NaN</td>\n",
       "      <td>NaN</td>\n",
       "    </tr>\n",
       "    <tr>\n",
       "      <th>2</th>\n",
       "      <td>2024-06-17</td>\n",
       "      <td>VCP</td>\n",
       "      <td>476889</td>\n",
       "      <td>MID</td>\n",
       "      <td>15.35</td>\n",
       "      <td>15.35</td>\n",
       "      <td>15.35</td>\n",
       "      <td>12.6890</td>\n",
       "      <td>14.30</td>\n",
       "      <td>1.0</td>\n",
       "      <td>107.342657</td>\n",
       "      <td>14.30</td>\n",
       "    </tr>\n",
       "    <tr>\n",
       "      <th>3</th>\n",
       "      <td>2024-06-17</td>\n",
       "      <td>SPO</td>\n",
       "      <td>73465</td>\n",
       "      <td>KVI</td>\n",
       "      <td>4.89</td>\n",
       "      <td>4.89</td>\n",
       "      <td>4.89</td>\n",
       "      <td>4.1027</td>\n",
       "      <td>4.89</td>\n",
       "      <td>17.0</td>\n",
       "      <td>8.823529</td>\n",
       "      <td>4.99</td>\n",
       "    </tr>\n",
       "    <tr>\n",
       "      <th>4</th>\n",
       "      <td>2024-06-17</td>\n",
       "      <td>BHZ</td>\n",
       "      <td>641000</td>\n",
       "      <td>KVI</td>\n",
       "      <td>12.28</td>\n",
       "      <td>12.28</td>\n",
       "      <td>12.28</td>\n",
       "      <td>10.4908</td>\n",
       "      <td>NaN</td>\n",
       "      <td>NaN</td>\n",
       "      <td>NaN</td>\n",
       "      <td>NaN</td>\n",
       "    </tr>\n",
       "  </tbody>\n",
       "</table>\n",
       "</div>"
      ],
      "text/plain": [
       "  quotation_date region  source_id cluster  price  sale_price  precio_neto  \\\n",
       "0     2024-06-17    SPO     633105    TAIL  52.04       52.04        52.04   \n",
       "1     2024-06-17    VCP     632885    TAIL  41.88       41.88        41.88   \n",
       "2     2024-06-17    VCP     476889     MID  15.35       15.35        15.35   \n",
       "3     2024-06-17    SPO      73465     KVI   4.89        4.89         4.89   \n",
       "4     2024-06-17    BHZ     641000     KVI  12.28       12.28        12.28   \n",
       "\n",
       "     costo  bench  competitors   percentil    p25  \n",
       "0  32.0625    NaN          NaN         NaN    NaN  \n",
       "1  33.9600    NaN          NaN         NaN    NaN  \n",
       "2  12.6890  14.30          1.0  107.342657  14.30  \n",
       "3   4.1027   4.89         17.0    8.823529   4.99  \n",
       "4  10.4908    NaN          NaN         NaN    NaN  "
      ]
     },
     "execution_count": 43,
     "metadata": {},
     "output_type": "execute_result"
    }
   ],
   "source": [
    "df.head()"
   ]
  },
  {
   "cell_type": "code",
   "execution_count": 44,
   "metadata": {},
   "outputs": [],
   "source": [
    "df['mg'] = (1-df.costo/df.precio_neto)\n",
    "df['mg_p25'] = (1-df.costo/df.p25)"
   ]
  },
  {
   "cell_type": "code",
   "execution_count": 45,
   "metadata": {},
   "outputs": [],
   "source": [
    "query = \"\"\"\n",
    "SELECT\n",
    "    s.identifier_value AS city,\n",
    "    cat.parent_description AS cat,\n",
    "    sup.source_id,\n",
    "    s.identifier_value || ' || ' || sup.card_description AS product_name,\n",
    "    (SUM(fs.gmv_pxq_local)/4.75)::FLOAT AS gmv_usd\n",
    "FROM dpr_sales.fact_sales                   fs\n",
    "INNER JOIN dpr_shared.dim_site              s   ON s.site_id = fs.dim_site\n",
    "INNER JOIN dpr_shared.dim_product           dp  ON dp.product_id = fs.dim_product\n",
    "INNER JOIN dpr_shared.dim_category          cat ON cat.category_id = dp.category_id\n",
    "INNER JOIN dpr_shared.dim_stock_unit        su  ON su.product_id = fs.dim_product\n",
    "INNER JOIN dpr_shared.dim_stock_unit        sup  ON nvl(nullif(su.source_parent_id,0),su.source_id) = sup.source_id\n",
    "\n",
    "WHERE \n",
    "    fs.gmv_enabled = TRUE\n",
    "    AND fulfillment_order_status NOT IN ('CANCELLED', 'ARCHIVED','No value')\n",
    "    AND fs.fb_order_status_id IN (1,6,7,8)\n",
    "    AND fs.is_deleted = FALSE\n",
    "    AND cat.super_category = 'Multicategoría'\n",
    "    AND fs.dim_status = 1\n",
    "    AND dp.is_slot = 'false'\n",
    "    AND fs.gmv_pxq_local > 0\n",
    "    AND s.identifier_value IN ('SPO','CWB','VCP','BHZ')\n",
    "    AND DATE(fs.order_submitted_date) >= CURRENT_DATE - 15\n",
    "GROUP BY 1,2,3,4\n",
    "\"\"\"\n",
    "df_gmv = run_read_dwd_query(query)"
   ]
  },
  {
   "cell_type": "code",
   "execution_count": 46,
   "metadata": {},
   "outputs": [],
   "source": [
    "merge_df = pd.merge(df_gmv, df, left_on=['source_id'], right_on=['source_id'], how='left')\n",
    "\n",
    "merge_df['gmv_mix'] = merge_df['gmv_usd'] / merge_df.groupby('city')['gmv_usd'].transform('sum')\n",
    "\n",
    "merge_df = merge_df[['city', 'quotation_date', 'cat', 'source_id', 'cluster', 'product_name', 'competitors','gmv_usd', 'gmv_mix',\n",
    "       'price', 'sale_price', 'precio_neto', 'bench', 'costo', 'percentil', 'p25', 'mg', 'mg_p25', ]]"
   ]
  },
  {
   "cell_type": "code",
   "execution_count": 47,
   "metadata": {},
   "outputs": [],
   "source": [
    "merge_df['uplift'] = 100.00*((merge_df.p25/merge_df.precio_neto)-1) #es cuanto deberia subir mi precion en %\n",
    "merge_df['npi'] = merge_df.precio_neto/merge_df.bench\n",
    "merge_df['npi_p'] = merge_df.p25/merge_df.bench"
   ]
  },
  {
   "cell_type": "code",
   "execution_count": 48,
   "metadata": {},
   "outputs": [
    {
     "data": {
      "text/plain": [
       "city\n",
       "BHZ    0.364609\n",
       "CWB    0.265797\n",
       "SPO    0.400690\n",
       "VCP    0.271372\n",
       "Name: gmv_mix, dtype: float64"
      ]
     },
     "execution_count": 48,
     "metadata": {},
     "output_type": "execute_result"
    }
   ],
   "source": [
    "# Tiene que tener al menos 5 competidores y estar abajo del percentil 25 !!\n",
    "merge_df.loc[(merge_df.competitors >= 5) & (merge_df.percentil <= 25)].groupby(\"city\").gmv_mix.sum()"
   ]
  },
  {
   "cell_type": "code",
   "execution_count": 49,
   "metadata": {},
   "outputs": [],
   "source": [
    "df_x = merge_df.loc[(merge_df.competitors >= 5) & (merge_df.percentil <= 25)].copy()"
   ]
  },
  {
   "cell_type": "code",
   "execution_count": 50,
   "metadata": {},
   "outputs": [],
   "source": [
    "import matplotlib.pyplot as plt\n",
    "import seaborn as sns\n",
    "import plotly.express as px"
   ]
  },
  {
   "cell_type": "code",
   "execution_count": 51,
   "metadata": {},
   "outputs": [
    {
     "data": {
      "application/vnd.plotly.v1+json": {
       "config": {
        "plotlyServerURL": "https://plot.ly"
       },
       "data": [
        {
         "alignmentgroup": "True",
         "bingroup": "x",
         "hovertemplate": "Uplift=%{x}<br>count=%{y}<extra></extra>",
         "legendgroup": "",
         "marker": {
          "color": "blue"
         },
         "name": "",
         "nbinsx": 20,
         "offsetgroup": "",
         "orientation": "v",
         "showlegend": false,
         "type": "histogram",
         "x": [
          4.756407296236431,
          4.863221884498481,
          1.2674271229404344,
          1.1267605633802802,
          2.61841718152398,
          6.688963210702337,
          2.0876826722338038,
          8.586626139817621,
          2.287021154945701,
          6.896551724137945,
          2.55281690140845,
          4.522613065326642,
          2.4622716441620396,
          2.2271714922048824,
          7.153075822603716,
          4.053318824809571,
          6.417112299465244,
          8.560794044665009,
          0.25188916876572875,
          1.4749262536873253,
          6.194137133570843,
          10.365853658536594,
          1.5662650602409567,
          3.5885167464114742,
          2.086956521739136,
          5.159474671669773,
          13.104838709677423,
          1.1267605633802802,
          1.5197568389057725,
          7.878787878787885,
          2.409638554216853,
          14.388489208633114,
          3.6152356358941207,
          0.5780346820809301,
          3.4782608695652195,
          9.734513274336297,
          2.482142857142855,
          1.403508771929829,
          8.875552747946935,
          3.3414337788578274,
          7.762557077625587,
          4.278074866310155,
          4.175824175824183,
          7.50507099391482,
          7.07182320441988,
          5.196451204055763,
          2.580645161290329,
          0.652045050385297,
          1.9169329073482455,
          1.1603375527426074,
          3.039288361749448,
          8.857844642308876,
          0.32017075773747017,
          6.389157792836397,
          6.694560669456062,
          33.12101910828025,
          2.006688963210679,
          6.747709654686407,
          5.285234899328861,
          8.237232289950569,
          1.7857142857143016,
          1.829573934837092,
          4.932735426008961,
          5.825242718446599,
          1.3559322033898313,
          8.987269618088533,
          4.269801980198018,
          2.5510204081632626,
          1.978021978021971,
          13.291139240506332,
          12.58036236119231,
          4.7911547911547725,
          0.3401360544217802,
          0.8771929824561431,
          0.7390202702702631,
          1.359953703703698,
          1.2891344383057168,
          3.930635838150298,
          0.3355704697986628,
          2.4299065420560817,
          4.784688995215314,
          1.8156424581005526,
          4.784688995215314,
          6.826568265682664,
          0.08103727714747766,
          1.8255578093306246,
          -1.058201058201047,
          11.838006230529597,
          6.785714285714284,
          3.5087719298245723,
          6.976744186046502,
          302.7932960893855,
          1.747572815533971,
          5.97439544807965,
          3.066914498141271,
          5.558643690939413,
          7.409031126698817,
          6.688963210702337,
          2.2740193291642896,
          11.302847282139773,
          2.3405500292568604,
          2.9498525073746285,
          7.272727272727275,
          7.751937984496116,
          3.2090199479618553,
          3.9597315436241676,
          3.495440729483268,
          0.5065123010130179,
          5.629139072847678,
          7.837837837837847,
          14.147909967845651,
          7.944915254237284,
          2.6315789473684292,
          3.1016042780748654,
          16.68839634941328,
          0.7923930269413626,
          1.4513788098693858,
          0.8408071748878809,
          5.872756933115819,
          1.1123470522803158,
          1.0638297872340496,
          0.32015590200444866,
          2.0177494976557186,
          7.30593607305936,
          9.29951690821258,
          1.2842465753424737,
          1.2891344383057168,
          0.6504065040650486,
          6.5326633165829096,
          3.7431765011697316,
          19.428571428571416,
          1.2958963282937441,
          5.586592178770933,
          1.273885350318471,
          1.697792869269965,
          34.22370617696158,
          5.025125628140703,
          12.210293115201099,
          14.736842105263182,
          3.949447077409163,
          2.522522522522541,
          1.0273972602739878,
          1.3402061855670278,
          1.6949152542372836,
          7.30593607305936,
          11.782032400589104,
          3.744628606507061,
          3.9597315436241676,
          7.683741648106901,
          4.534005037783362,
          8.160421183028799,
          7.395498392282951,
          5.2795031055900665,
          6.079027355623112,
          12.792642140468224,
          2.9121863799283165,
          5.014326647564449,
          4.157736819545654,
          5.405405405405395,
          6.295399515738498,
          0.32379924446841457,
          4.9342105263157965,
          3.1894934333958735,
          2.5735294117646967,
          13.104838709677423,
          9.795918367346923,
          6.034482758620685,
          6.547619047619024,
          1.921368280764102,
          0.96735187424426,
          1.821493624772308,
          3.244837758112107,
          5.049088359046294,
          5.920074349442395,
          10.71428571428572,
          8.075532342306136,
          4.555808656036442,
          2.1544715447154417,
          3.6446469248291535,
          9.664496745117667,
          1.674641148325362,
          0.962000962000964,
          1.54034791938078,
          5.025125628140703,
          3.613777526821016,
          9.02777777777779,
          4.607508532423199,
          19.49860724233985,
          0.5037783375314797,
          27.395715896279604,
          18.867924528301884,
          11.194029850746269,
          3.1796502384737746,
          4.776194048512128,
          5.558643690939413,
          6.68449197860963,
          4.181184668989557,
          1.823708206686936,
          5.733662145499374,
          6.959314775160608,
          2.28013029315961,
          4.563894523326573,
          5.374280230326289,
          3.312412831241285,
          4.121475054229928,
          4.825090470446325,
          3.8985616956850766,
          0.9195402298850519,
          1.2039127163280705,
          0.5966587112171684,
          5.460750853242313,
          2.6717557251908275,
          9.099181073703377,
          4.057971014492745,
          -1.0233918128654929,
          0.8771929824561431,
          6.486486486486487,
          10.342442061570377,
          2.110022607385087,
          9.1324200913242,
          0.11135857461024301,
          3.1894934333958735,
          4.835766423357657,
          6.368186874304782,
          7.809523809523822,
          8.770883054892597,
          4.749568221070799,
          2.6666666666666616,
          14.525139664804488,
          3.438831405964704,
          3.946666666666654,
          275.39062499999994,
          9.526699029126217,
          4.532775453277549,
          2.6168224299065512,
          3.103180760279267,
          2.4793388429751984,
          11.421319796954311,
          6.070713809206141,
          6.055363321799301,
          7.620199576655584,
          0.6191950464396356,
          2.6666666666666616,
          1.5706806282722585,
          6.970509383378021,
          4.407294832826758,
          13.676600767187974,
          3.493449781659397,
          12.797374897456937,
          9.266600594648168,
          4.446914952751535,
          4.774370481176771,
          4.405286343612325,
          1.0135135135135087,
          3.6144578313253017,
          5.505415162454863,
          4.016064257028096,
          6.473533619456351,
          15.200109649122817,
          11.266620013995809,
          2.126436781609198,
          3.974397142006536,
          4.499999999999993,
          2.9498525073746285,
          1.0994263862332598,
          0.9536082474226992,
          1.011235955056189,
          0.1603849238171584,
          7.704160246533132,
          0,
          5.067985166872679,
          10.674157303370801,
          4.402515723270417,
          1.7071569271175369,
          1.217038539553772,
          8.08646917534026,
          5.344152210408493,
          2.4189397838394244,
          5.30012771392081,
          6.865912762520199,
          8.032128514056215,
          1.0894941634241206,
          3.9231385108086547,
          98.42105263157895,
          10.244988864142535,
          1.8255578093306246,
          2.240143369175618,
          5.025125628140703,
          3.8610038610038755,
          12.643847742696956,
          0.16722408026754731,
          4.449938195302838,
          1.1267605633802802,
          3.495440729483268,
          6.743421052631571,
          5.714285714285694,
          3.8610038610038755,
          9.268292682926859,
          1.1450381679389166,
          4.499999999999993,
          16.114285714285703,
          0.5950019833399489,
          0.7575757575757569,
          4.484304932735417,
          3.8610038610038755,
          -1.2349588347055018,
          11.447473937449871,
          1.1267605633802802,
          5.025125628140703,
          2.4844720496894235,
          9.733124018838302,
          2.386451116243271,
          5.031446540880502,
          42.97994269340975,
          31.42059553349874,
          2.1164021164021163,
          4.458598726114649,
          0.4383218534752542,
          0.3420752565564511,
          4.534005037783362,
          10.64506797801561,
          6.428571428571428,
          2.865329512893977,
          6.239870340356579,
          4.0979381443299046,
          2.9498525073746285,
          4.499999999999993,
          13.27433628318584,
          10.093896713615047,
          1.407506702412853,
          4.530201342281881,
          2.646239554317531,
          10.582010582010582,
          9.698996655518389,
          6.079027355623112,
          2.0449897750511425,
          14.328657314629245,
          7.924263674614318,
          8.557347670250891,
          7.322325915290739,
          2.0581113801452666,
          1.2820512820512775,
          12.765957446808507,
          13.104838709677423,
          1.6233766233766156,
          2.4340770791074995,
          4.508196721311464,
          1.8821603927986708,
          4.902416356877337,
          10.472279260780294,
          4.366812227074246,
          6.318681318681318,
          1.1272141706924366,
          3.7878787878787845,
          3.472222222222232,
          0.3024193548387011,
          6.357142857142861,
          1.77121771217712,
          3.144016227180524
         ],
         "xaxis": "x",
         "yaxis": "y"
        },
        {
         "alignmentgroup": "True",
         "hovertemplate": "Uplift=%{x}<extra></extra>",
         "legendgroup": "",
         "marker": {
          "color": "blue"
         },
         "name": "",
         "notched": true,
         "offsetgroup": "",
         "showlegend": false,
         "type": "box",
         "x": [
          4.756407296236431,
          4.863221884498481,
          1.2674271229404344,
          1.1267605633802802,
          2.61841718152398,
          6.688963210702337,
          2.0876826722338038,
          8.586626139817621,
          2.287021154945701,
          6.896551724137945,
          2.55281690140845,
          4.522613065326642,
          2.4622716441620396,
          2.2271714922048824,
          7.153075822603716,
          4.053318824809571,
          6.417112299465244,
          8.560794044665009,
          0.25188916876572875,
          1.4749262536873253,
          6.194137133570843,
          10.365853658536594,
          1.5662650602409567,
          3.5885167464114742,
          2.086956521739136,
          5.159474671669773,
          13.104838709677423,
          1.1267605633802802,
          1.5197568389057725,
          7.878787878787885,
          2.409638554216853,
          14.388489208633114,
          3.6152356358941207,
          0.5780346820809301,
          3.4782608695652195,
          9.734513274336297,
          2.482142857142855,
          1.403508771929829,
          8.875552747946935,
          3.3414337788578274,
          7.762557077625587,
          4.278074866310155,
          4.175824175824183,
          7.50507099391482,
          7.07182320441988,
          5.196451204055763,
          2.580645161290329,
          0.652045050385297,
          1.9169329073482455,
          1.1603375527426074,
          3.039288361749448,
          8.857844642308876,
          0.32017075773747017,
          6.389157792836397,
          6.694560669456062,
          33.12101910828025,
          2.006688963210679,
          6.747709654686407,
          5.285234899328861,
          8.237232289950569,
          1.7857142857143016,
          1.829573934837092,
          4.932735426008961,
          5.825242718446599,
          1.3559322033898313,
          8.987269618088533,
          4.269801980198018,
          2.5510204081632626,
          1.978021978021971,
          13.291139240506332,
          12.58036236119231,
          4.7911547911547725,
          0.3401360544217802,
          0.8771929824561431,
          0.7390202702702631,
          1.359953703703698,
          1.2891344383057168,
          3.930635838150298,
          0.3355704697986628,
          2.4299065420560817,
          4.784688995215314,
          1.8156424581005526,
          4.784688995215314,
          6.826568265682664,
          0.08103727714747766,
          1.8255578093306246,
          -1.058201058201047,
          11.838006230529597,
          6.785714285714284,
          3.5087719298245723,
          6.976744186046502,
          302.7932960893855,
          1.747572815533971,
          5.97439544807965,
          3.066914498141271,
          5.558643690939413,
          7.409031126698817,
          6.688963210702337,
          2.2740193291642896,
          11.302847282139773,
          2.3405500292568604,
          2.9498525073746285,
          7.272727272727275,
          7.751937984496116,
          3.2090199479618553,
          3.9597315436241676,
          3.495440729483268,
          0.5065123010130179,
          5.629139072847678,
          7.837837837837847,
          14.147909967845651,
          7.944915254237284,
          2.6315789473684292,
          3.1016042780748654,
          16.68839634941328,
          0.7923930269413626,
          1.4513788098693858,
          0.8408071748878809,
          5.872756933115819,
          1.1123470522803158,
          1.0638297872340496,
          0.32015590200444866,
          2.0177494976557186,
          7.30593607305936,
          9.29951690821258,
          1.2842465753424737,
          1.2891344383057168,
          0.6504065040650486,
          6.5326633165829096,
          3.7431765011697316,
          19.428571428571416,
          1.2958963282937441,
          5.586592178770933,
          1.273885350318471,
          1.697792869269965,
          34.22370617696158,
          5.025125628140703,
          12.210293115201099,
          14.736842105263182,
          3.949447077409163,
          2.522522522522541,
          1.0273972602739878,
          1.3402061855670278,
          1.6949152542372836,
          7.30593607305936,
          11.782032400589104,
          3.744628606507061,
          3.9597315436241676,
          7.683741648106901,
          4.534005037783362,
          8.160421183028799,
          7.395498392282951,
          5.2795031055900665,
          6.079027355623112,
          12.792642140468224,
          2.9121863799283165,
          5.014326647564449,
          4.157736819545654,
          5.405405405405395,
          6.295399515738498,
          0.32379924446841457,
          4.9342105263157965,
          3.1894934333958735,
          2.5735294117646967,
          13.104838709677423,
          9.795918367346923,
          6.034482758620685,
          6.547619047619024,
          1.921368280764102,
          0.96735187424426,
          1.821493624772308,
          3.244837758112107,
          5.049088359046294,
          5.920074349442395,
          10.71428571428572,
          8.075532342306136,
          4.555808656036442,
          2.1544715447154417,
          3.6446469248291535,
          9.664496745117667,
          1.674641148325362,
          0.962000962000964,
          1.54034791938078,
          5.025125628140703,
          3.613777526821016,
          9.02777777777779,
          4.607508532423199,
          19.49860724233985,
          0.5037783375314797,
          27.395715896279604,
          18.867924528301884,
          11.194029850746269,
          3.1796502384737746,
          4.776194048512128,
          5.558643690939413,
          6.68449197860963,
          4.181184668989557,
          1.823708206686936,
          5.733662145499374,
          6.959314775160608,
          2.28013029315961,
          4.563894523326573,
          5.374280230326289,
          3.312412831241285,
          4.121475054229928,
          4.825090470446325,
          3.8985616956850766,
          0.9195402298850519,
          1.2039127163280705,
          0.5966587112171684,
          5.460750853242313,
          2.6717557251908275,
          9.099181073703377,
          4.057971014492745,
          -1.0233918128654929,
          0.8771929824561431,
          6.486486486486487,
          10.342442061570377,
          2.110022607385087,
          9.1324200913242,
          0.11135857461024301,
          3.1894934333958735,
          4.835766423357657,
          6.368186874304782,
          7.809523809523822,
          8.770883054892597,
          4.749568221070799,
          2.6666666666666616,
          14.525139664804488,
          3.438831405964704,
          3.946666666666654,
          275.39062499999994,
          9.526699029126217,
          4.532775453277549,
          2.6168224299065512,
          3.103180760279267,
          2.4793388429751984,
          11.421319796954311,
          6.070713809206141,
          6.055363321799301,
          7.620199576655584,
          0.6191950464396356,
          2.6666666666666616,
          1.5706806282722585,
          6.970509383378021,
          4.407294832826758,
          13.676600767187974,
          3.493449781659397,
          12.797374897456937,
          9.266600594648168,
          4.446914952751535,
          4.774370481176771,
          4.405286343612325,
          1.0135135135135087,
          3.6144578313253017,
          5.505415162454863,
          4.016064257028096,
          6.473533619456351,
          15.200109649122817,
          11.266620013995809,
          2.126436781609198,
          3.974397142006536,
          4.499999999999993,
          2.9498525073746285,
          1.0994263862332598,
          0.9536082474226992,
          1.011235955056189,
          0.1603849238171584,
          7.704160246533132,
          0,
          5.067985166872679,
          10.674157303370801,
          4.402515723270417,
          1.7071569271175369,
          1.217038539553772,
          8.08646917534026,
          5.344152210408493,
          2.4189397838394244,
          5.30012771392081,
          6.865912762520199,
          8.032128514056215,
          1.0894941634241206,
          3.9231385108086547,
          98.42105263157895,
          10.244988864142535,
          1.8255578093306246,
          2.240143369175618,
          5.025125628140703,
          3.8610038610038755,
          12.643847742696956,
          0.16722408026754731,
          4.449938195302838,
          1.1267605633802802,
          3.495440729483268,
          6.743421052631571,
          5.714285714285694,
          3.8610038610038755,
          9.268292682926859,
          1.1450381679389166,
          4.499999999999993,
          16.114285714285703,
          0.5950019833399489,
          0.7575757575757569,
          4.484304932735417,
          3.8610038610038755,
          -1.2349588347055018,
          11.447473937449871,
          1.1267605633802802,
          5.025125628140703,
          2.4844720496894235,
          9.733124018838302,
          2.386451116243271,
          5.031446540880502,
          42.97994269340975,
          31.42059553349874,
          2.1164021164021163,
          4.458598726114649,
          0.4383218534752542,
          0.3420752565564511,
          4.534005037783362,
          10.64506797801561,
          6.428571428571428,
          2.865329512893977,
          6.239870340356579,
          4.0979381443299046,
          2.9498525073746285,
          4.499999999999993,
          13.27433628318584,
          10.093896713615047,
          1.407506702412853,
          4.530201342281881,
          2.646239554317531,
          10.582010582010582,
          9.698996655518389,
          6.079027355623112,
          2.0449897750511425,
          14.328657314629245,
          7.924263674614318,
          8.557347670250891,
          7.322325915290739,
          2.0581113801452666,
          1.2820512820512775,
          12.765957446808507,
          13.104838709677423,
          1.6233766233766156,
          2.4340770791074995,
          4.508196721311464,
          1.8821603927986708,
          4.902416356877337,
          10.472279260780294,
          4.366812227074246,
          6.318681318681318,
          1.1272141706924366,
          3.7878787878787845,
          3.472222222222232,
          0.3024193548387011,
          6.357142857142861,
          1.77121771217712,
          3.144016227180524
         ],
         "xaxis": "x2",
         "yaxis": "y2"
        }
       ],
       "layout": {
        "bargap": 0.3,
        "barmode": "relative",
        "legend": {
         "tracegroupgap": 0
        },
        "template": {
         "data": {
          "bar": [
           {
            "error_x": {
             "color": "#2a3f5f"
            },
            "error_y": {
             "color": "#2a3f5f"
            },
            "marker": {
             "line": {
              "color": "#E5ECF6",
              "width": 0.5
             }
            },
            "type": "bar"
           }
          ],
          "barpolar": [
           {
            "marker": {
             "line": {
              "color": "#E5ECF6",
              "width": 0.5
             }
            },
            "type": "barpolar"
           }
          ],
          "carpet": [
           {
            "aaxis": {
             "endlinecolor": "#2a3f5f",
             "gridcolor": "white",
             "linecolor": "white",
             "minorgridcolor": "white",
             "startlinecolor": "#2a3f5f"
            },
            "baxis": {
             "endlinecolor": "#2a3f5f",
             "gridcolor": "white",
             "linecolor": "white",
             "minorgridcolor": "white",
             "startlinecolor": "#2a3f5f"
            },
            "type": "carpet"
           }
          ],
          "choropleth": [
           {
            "colorbar": {
             "outlinewidth": 0,
             "ticks": ""
            },
            "type": "choropleth"
           }
          ],
          "contour": [
           {
            "colorbar": {
             "outlinewidth": 0,
             "ticks": ""
            },
            "colorscale": [
             [
              0,
              "#0d0887"
             ],
             [
              0.1111111111111111,
              "#46039f"
             ],
             [
              0.2222222222222222,
              "#7201a8"
             ],
             [
              0.3333333333333333,
              "#9c179e"
             ],
             [
              0.4444444444444444,
              "#bd3786"
             ],
             [
              0.5555555555555556,
              "#d8576b"
             ],
             [
              0.6666666666666666,
              "#ed7953"
             ],
             [
              0.7777777777777778,
              "#fb9f3a"
             ],
             [
              0.8888888888888888,
              "#fdca26"
             ],
             [
              1,
              "#f0f921"
             ]
            ],
            "type": "contour"
           }
          ],
          "contourcarpet": [
           {
            "colorbar": {
             "outlinewidth": 0,
             "ticks": ""
            },
            "type": "contourcarpet"
           }
          ],
          "heatmap": [
           {
            "colorbar": {
             "outlinewidth": 0,
             "ticks": ""
            },
            "colorscale": [
             [
              0,
              "#0d0887"
             ],
             [
              0.1111111111111111,
              "#46039f"
             ],
             [
              0.2222222222222222,
              "#7201a8"
             ],
             [
              0.3333333333333333,
              "#9c179e"
             ],
             [
              0.4444444444444444,
              "#bd3786"
             ],
             [
              0.5555555555555556,
              "#d8576b"
             ],
             [
              0.6666666666666666,
              "#ed7953"
             ],
             [
              0.7777777777777778,
              "#fb9f3a"
             ],
             [
              0.8888888888888888,
              "#fdca26"
             ],
             [
              1,
              "#f0f921"
             ]
            ],
            "type": "heatmap"
           }
          ],
          "heatmapgl": [
           {
            "colorbar": {
             "outlinewidth": 0,
             "ticks": ""
            },
            "colorscale": [
             [
              0,
              "#0d0887"
             ],
             [
              0.1111111111111111,
              "#46039f"
             ],
             [
              0.2222222222222222,
              "#7201a8"
             ],
             [
              0.3333333333333333,
              "#9c179e"
             ],
             [
              0.4444444444444444,
              "#bd3786"
             ],
             [
              0.5555555555555556,
              "#d8576b"
             ],
             [
              0.6666666666666666,
              "#ed7953"
             ],
             [
              0.7777777777777778,
              "#fb9f3a"
             ],
             [
              0.8888888888888888,
              "#fdca26"
             ],
             [
              1,
              "#f0f921"
             ]
            ],
            "type": "heatmapgl"
           }
          ],
          "histogram": [
           {
            "marker": {
             "colorbar": {
              "outlinewidth": 0,
              "ticks": ""
             }
            },
            "type": "histogram"
           }
          ],
          "histogram2d": [
           {
            "colorbar": {
             "outlinewidth": 0,
             "ticks": ""
            },
            "colorscale": [
             [
              0,
              "#0d0887"
             ],
             [
              0.1111111111111111,
              "#46039f"
             ],
             [
              0.2222222222222222,
              "#7201a8"
             ],
             [
              0.3333333333333333,
              "#9c179e"
             ],
             [
              0.4444444444444444,
              "#bd3786"
             ],
             [
              0.5555555555555556,
              "#d8576b"
             ],
             [
              0.6666666666666666,
              "#ed7953"
             ],
             [
              0.7777777777777778,
              "#fb9f3a"
             ],
             [
              0.8888888888888888,
              "#fdca26"
             ],
             [
              1,
              "#f0f921"
             ]
            ],
            "type": "histogram2d"
           }
          ],
          "histogram2dcontour": [
           {
            "colorbar": {
             "outlinewidth": 0,
             "ticks": ""
            },
            "colorscale": [
             [
              0,
              "#0d0887"
             ],
             [
              0.1111111111111111,
              "#46039f"
             ],
             [
              0.2222222222222222,
              "#7201a8"
             ],
             [
              0.3333333333333333,
              "#9c179e"
             ],
             [
              0.4444444444444444,
              "#bd3786"
             ],
             [
              0.5555555555555556,
              "#d8576b"
             ],
             [
              0.6666666666666666,
              "#ed7953"
             ],
             [
              0.7777777777777778,
              "#fb9f3a"
             ],
             [
              0.8888888888888888,
              "#fdca26"
             ],
             [
              1,
              "#f0f921"
             ]
            ],
            "type": "histogram2dcontour"
           }
          ],
          "mesh3d": [
           {
            "colorbar": {
             "outlinewidth": 0,
             "ticks": ""
            },
            "type": "mesh3d"
           }
          ],
          "parcoords": [
           {
            "line": {
             "colorbar": {
              "outlinewidth": 0,
              "ticks": ""
             }
            },
            "type": "parcoords"
           }
          ],
          "pie": [
           {
            "automargin": true,
            "type": "pie"
           }
          ],
          "scatter": [
           {
            "marker": {
             "colorbar": {
              "outlinewidth": 0,
              "ticks": ""
             }
            },
            "type": "scatter"
           }
          ],
          "scatter3d": [
           {
            "line": {
             "colorbar": {
              "outlinewidth": 0,
              "ticks": ""
             }
            },
            "marker": {
             "colorbar": {
              "outlinewidth": 0,
              "ticks": ""
             }
            },
            "type": "scatter3d"
           }
          ],
          "scattercarpet": [
           {
            "marker": {
             "colorbar": {
              "outlinewidth": 0,
              "ticks": ""
             }
            },
            "type": "scattercarpet"
           }
          ],
          "scattergeo": [
           {
            "marker": {
             "colorbar": {
              "outlinewidth": 0,
              "ticks": ""
             }
            },
            "type": "scattergeo"
           }
          ],
          "scattergl": [
           {
            "marker": {
             "colorbar": {
              "outlinewidth": 0,
              "ticks": ""
             }
            },
            "type": "scattergl"
           }
          ],
          "scattermapbox": [
           {
            "marker": {
             "colorbar": {
              "outlinewidth": 0,
              "ticks": ""
             }
            },
            "type": "scattermapbox"
           }
          ],
          "scatterpolar": [
           {
            "marker": {
             "colorbar": {
              "outlinewidth": 0,
              "ticks": ""
             }
            },
            "type": "scatterpolar"
           }
          ],
          "scatterpolargl": [
           {
            "marker": {
             "colorbar": {
              "outlinewidth": 0,
              "ticks": ""
             }
            },
            "type": "scatterpolargl"
           }
          ],
          "scatterternary": [
           {
            "marker": {
             "colorbar": {
              "outlinewidth": 0,
              "ticks": ""
             }
            },
            "type": "scatterternary"
           }
          ],
          "surface": [
           {
            "colorbar": {
             "outlinewidth": 0,
             "ticks": ""
            },
            "colorscale": [
             [
              0,
              "#0d0887"
             ],
             [
              0.1111111111111111,
              "#46039f"
             ],
             [
              0.2222222222222222,
              "#7201a8"
             ],
             [
              0.3333333333333333,
              "#9c179e"
             ],
             [
              0.4444444444444444,
              "#bd3786"
             ],
             [
              0.5555555555555556,
              "#d8576b"
             ],
             [
              0.6666666666666666,
              "#ed7953"
             ],
             [
              0.7777777777777778,
              "#fb9f3a"
             ],
             [
              0.8888888888888888,
              "#fdca26"
             ],
             [
              1,
              "#f0f921"
             ]
            ],
            "type": "surface"
           }
          ],
          "table": [
           {
            "cells": {
             "fill": {
              "color": "#EBF0F8"
             },
             "line": {
              "color": "white"
             }
            },
            "header": {
             "fill": {
              "color": "#C8D4E3"
             },
             "line": {
              "color": "white"
             }
            },
            "type": "table"
           }
          ]
         },
         "layout": {
          "annotationdefaults": {
           "arrowcolor": "#2a3f5f",
           "arrowhead": 0,
           "arrowwidth": 1
          },
          "autotypenumbers": "strict",
          "coloraxis": {
           "colorbar": {
            "outlinewidth": 0,
            "ticks": ""
           }
          },
          "colorscale": {
           "diverging": [
            [
             0,
             "#8e0152"
            ],
            [
             0.1,
             "#c51b7d"
            ],
            [
             0.2,
             "#de77ae"
            ],
            [
             0.3,
             "#f1b6da"
            ],
            [
             0.4,
             "#fde0ef"
            ],
            [
             0.5,
             "#f7f7f7"
            ],
            [
             0.6,
             "#e6f5d0"
            ],
            [
             0.7,
             "#b8e186"
            ],
            [
             0.8,
             "#7fbc41"
            ],
            [
             0.9,
             "#4d9221"
            ],
            [
             1,
             "#276419"
            ]
           ],
           "sequential": [
            [
             0,
             "#0d0887"
            ],
            [
             0.1111111111111111,
             "#46039f"
            ],
            [
             0.2222222222222222,
             "#7201a8"
            ],
            [
             0.3333333333333333,
             "#9c179e"
            ],
            [
             0.4444444444444444,
             "#bd3786"
            ],
            [
             0.5555555555555556,
             "#d8576b"
            ],
            [
             0.6666666666666666,
             "#ed7953"
            ],
            [
             0.7777777777777778,
             "#fb9f3a"
            ],
            [
             0.8888888888888888,
             "#fdca26"
            ],
            [
             1,
             "#f0f921"
            ]
           ],
           "sequentialminus": [
            [
             0,
             "#0d0887"
            ],
            [
             0.1111111111111111,
             "#46039f"
            ],
            [
             0.2222222222222222,
             "#7201a8"
            ],
            [
             0.3333333333333333,
             "#9c179e"
            ],
            [
             0.4444444444444444,
             "#bd3786"
            ],
            [
             0.5555555555555556,
             "#d8576b"
            ],
            [
             0.6666666666666666,
             "#ed7953"
            ],
            [
             0.7777777777777778,
             "#fb9f3a"
            ],
            [
             0.8888888888888888,
             "#fdca26"
            ],
            [
             1,
             "#f0f921"
            ]
           ]
          },
          "colorway": [
           "#636efa",
           "#EF553B",
           "#00cc96",
           "#ab63fa",
           "#FFA15A",
           "#19d3f3",
           "#FF6692",
           "#B6E880",
           "#FF97FF",
           "#FECB52"
          ],
          "font": {
           "color": "#2a3f5f"
          },
          "geo": {
           "bgcolor": "white",
           "lakecolor": "white",
           "landcolor": "#E5ECF6",
           "showlakes": true,
           "showland": true,
           "subunitcolor": "white"
          },
          "hoverlabel": {
           "align": "left"
          },
          "hovermode": "closest",
          "mapbox": {
           "style": "light"
          },
          "paper_bgcolor": "white",
          "plot_bgcolor": "#E5ECF6",
          "polar": {
           "angularaxis": {
            "gridcolor": "white",
            "linecolor": "white",
            "ticks": ""
           },
           "bgcolor": "#E5ECF6",
           "radialaxis": {
            "gridcolor": "white",
            "linecolor": "white",
            "ticks": ""
           }
          },
          "scene": {
           "xaxis": {
            "backgroundcolor": "#E5ECF6",
            "gridcolor": "white",
            "gridwidth": 2,
            "linecolor": "white",
            "showbackground": true,
            "ticks": "",
            "zerolinecolor": "white"
           },
           "yaxis": {
            "backgroundcolor": "#E5ECF6",
            "gridcolor": "white",
            "gridwidth": 2,
            "linecolor": "white",
            "showbackground": true,
            "ticks": "",
            "zerolinecolor": "white"
           },
           "zaxis": {
            "backgroundcolor": "#E5ECF6",
            "gridcolor": "white",
            "gridwidth": 2,
            "linecolor": "white",
            "showbackground": true,
            "ticks": "",
            "zerolinecolor": "white"
           }
          },
          "shapedefaults": {
           "line": {
            "color": "#2a3f5f"
           }
          },
          "ternary": {
           "aaxis": {
            "gridcolor": "white",
            "linecolor": "white",
            "ticks": ""
           },
           "baxis": {
            "gridcolor": "white",
            "linecolor": "white",
            "ticks": ""
           },
           "bgcolor": "#E5ECF6",
           "caxis": {
            "gridcolor": "white",
            "linecolor": "white",
            "ticks": ""
           }
          },
          "title": {
           "x": 0.05
          },
          "xaxis": {
           "automargin": true,
           "gridcolor": "white",
           "linecolor": "white",
           "ticks": "",
           "title": {
            "standoff": 15
           },
           "zerolinecolor": "white",
           "zerolinewidth": 2
          },
          "yaxis": {
           "automargin": true,
           "gridcolor": "white",
           "linecolor": "white",
           "ticks": "",
           "title": {
            "standoff": 15
           },
           "zerolinecolor": "white",
           "zerolinewidth": 2
          }
         }
        },
        "title": {
         "font": {
          "size": 20
         },
         "text": "Distribution of Uplift"
        },
        "xaxis": {
         "anchor": "y",
         "domain": [
          0,
          1
         ],
         "title": {
          "font": {
           "size": 16
          },
          "text": "Uplift"
         }
        },
        "xaxis2": {
         "anchor": "y2",
         "domain": [
          0,
          1
         ],
         "matches": "x",
         "showgrid": true,
         "showticklabels": false
        },
        "yaxis": {
         "anchor": "x",
         "domain": [
          0,
          0.8316
         ],
         "title": {
          "font": {
           "size": 16
          },
          "text": "Frequency"
         }
        },
        "yaxis2": {
         "anchor": "x2",
         "domain": [
          0.8416,
          1
         ],
         "matches": "y2",
         "showgrid": false,
         "showline": false,
         "showticklabels": false,
         "ticks": ""
        }
       }
      },
      "text/html": [
       "<div>                            <div id=\"114bd01a-ceb6-4b7d-ba88-cb81d24a35a9\" class=\"plotly-graph-div\" style=\"height:525px; width:100%;\"></div>            <script type=\"text/javascript\">                require([\"plotly\"], function(Plotly) {                    window.PLOTLYENV=window.PLOTLYENV || {};                                    if (document.getElementById(\"114bd01a-ceb6-4b7d-ba88-cb81d24a35a9\")) {                    Plotly.newPlot(                        \"114bd01a-ceb6-4b7d-ba88-cb81d24a35a9\",                        [{\"alignmentgroup\": \"True\", \"bingroup\": \"x\", \"hovertemplate\": \"Uplift=%{x}<br>count=%{y}<extra></extra>\", \"legendgroup\": \"\", \"marker\": {\"color\": \"blue\"}, \"name\": \"\", \"nbinsx\": 20, \"offsetgroup\": \"\", \"orientation\": \"v\", \"showlegend\": false, \"type\": \"histogram\", \"x\": [4.756407296236431, 4.863221884498481, 1.2674271229404344, 1.1267605633802802, 2.61841718152398, 6.688963210702337, 2.0876826722338038, 8.586626139817621, 2.287021154945701, 6.896551724137945, 2.55281690140845, 4.522613065326642, 2.4622716441620396, 2.2271714922048824, 7.153075822603716, 4.053318824809571, 6.417112299465244, 8.560794044665009, 0.25188916876572875, 1.4749262536873253, 6.194137133570843, 10.365853658536594, 1.5662650602409567, 3.5885167464114742, 2.086956521739136, 5.159474671669773, 13.104838709677423, 1.1267605633802802, 1.5197568389057725, 7.878787878787885, 2.409638554216853, 14.388489208633114, 3.6152356358941207, 0.5780346820809301, 3.4782608695652195, 9.734513274336297, 2.482142857142855, 1.403508771929829, 8.875552747946935, 3.3414337788578274, 7.762557077625587, 4.278074866310155, 4.175824175824183, 7.50507099391482, 7.07182320441988, 5.196451204055763, 2.580645161290329, 0.652045050385297, 1.9169329073482455, 1.1603375527426074, 3.039288361749448, 8.857844642308876, 0.32017075773747017, 6.389157792836397, 6.694560669456062, 33.12101910828025, 2.006688963210679, 6.747709654686407, 5.285234899328861, 8.237232289950569, 1.7857142857143016, 1.829573934837092, 4.932735426008961, 5.825242718446599, 1.3559322033898313, 8.987269618088533, 4.269801980198018, 2.5510204081632626, 1.978021978021971, 13.291139240506332, 12.58036236119231, 4.7911547911547725, 0.3401360544217802, 0.8771929824561431, 0.7390202702702631, 1.359953703703698, 1.2891344383057168, 3.930635838150298, 0.3355704697986628, 2.4299065420560817, 4.784688995215314, 1.8156424581005526, 4.784688995215314, 6.826568265682664, 0.08103727714747766, 1.8255578093306246, -1.058201058201047, 11.838006230529597, 6.785714285714284, 3.5087719298245723, 6.976744186046502, 302.7932960893855, 1.747572815533971, 5.97439544807965, 3.066914498141271, 5.558643690939413, 7.409031126698817, 6.688963210702337, 2.2740193291642896, 11.302847282139773, 2.3405500292568604, 2.9498525073746285, 7.272727272727275, 7.751937984496116, 3.2090199479618553, 3.9597315436241676, 3.495440729483268, 0.5065123010130179, 5.629139072847678, 7.837837837837847, 14.147909967845651, 7.944915254237284, 2.6315789473684292, 3.1016042780748654, 16.68839634941328, 0.7923930269413626, 1.4513788098693858, 0.8408071748878809, 5.872756933115819, 1.1123470522803158, 1.0638297872340496, 0.32015590200444866, 2.0177494976557186, 7.30593607305936, 9.29951690821258, 1.2842465753424737, 1.2891344383057168, 0.6504065040650486, 6.5326633165829096, 3.7431765011697316, 19.428571428571416, 1.2958963282937441, 5.586592178770933, 1.273885350318471, 1.697792869269965, 34.22370617696158, 5.025125628140703, 12.210293115201099, 14.736842105263182, 3.949447077409163, 2.522522522522541, 1.0273972602739878, 1.3402061855670278, 1.6949152542372836, 7.30593607305936, 11.782032400589104, 3.744628606507061, 3.9597315436241676, 7.683741648106901, 4.534005037783362, 8.160421183028799, 7.395498392282951, 5.2795031055900665, 6.079027355623112, 12.792642140468224, 2.9121863799283165, 5.014326647564449, 4.157736819545654, 5.405405405405395, 6.295399515738498, 0.32379924446841457, 4.9342105263157965, 3.1894934333958735, 2.5735294117646967, 13.104838709677423, 9.795918367346923, 6.034482758620685, 6.547619047619024, 1.921368280764102, 0.96735187424426, 1.821493624772308, 3.244837758112107, 5.049088359046294, 5.920074349442395, 10.71428571428572, 8.075532342306136, 4.555808656036442, 2.1544715447154417, 3.6446469248291535, 9.664496745117667, 1.674641148325362, 0.962000962000964, 1.54034791938078, 5.025125628140703, 3.613777526821016, 9.02777777777779, 4.607508532423199, 19.49860724233985, 0.5037783375314797, 27.395715896279604, 18.867924528301884, 11.194029850746269, 3.1796502384737746, 4.776194048512128, 5.558643690939413, 6.68449197860963, 4.181184668989557, 1.823708206686936, 5.733662145499374, 6.959314775160608, 2.28013029315961, 4.563894523326573, 5.374280230326289, 3.312412831241285, 4.121475054229928, 4.825090470446325, 3.8985616956850766, 0.9195402298850519, 1.2039127163280705, 0.5966587112171684, 5.460750853242313, 2.6717557251908275, 9.099181073703377, 4.057971014492745, -1.0233918128654929, 0.8771929824561431, 6.486486486486487, 10.342442061570377, 2.110022607385087, 9.1324200913242, 0.11135857461024301, 3.1894934333958735, 4.835766423357657, 6.368186874304782, 7.809523809523822, 8.770883054892597, 4.749568221070799, 2.6666666666666616, 14.525139664804488, 3.438831405964704, 3.946666666666654, 275.39062499999994, 9.526699029126217, 4.532775453277549, 2.6168224299065512, 3.103180760279267, 2.4793388429751984, 11.421319796954311, 6.070713809206141, 6.055363321799301, 7.620199576655584, 0.6191950464396356, 2.6666666666666616, 1.5706806282722585, 6.970509383378021, 4.407294832826758, 13.676600767187974, 3.493449781659397, 12.797374897456937, 9.266600594648168, 4.446914952751535, 4.774370481176771, 4.405286343612325, 1.0135135135135087, 3.6144578313253017, 5.505415162454863, 4.016064257028096, 6.473533619456351, 15.200109649122817, 11.266620013995809, 2.126436781609198, 3.974397142006536, 4.499999999999993, 2.9498525073746285, 1.0994263862332598, 0.9536082474226992, 1.011235955056189, 0.1603849238171584, 7.704160246533132, 0.0, 5.067985166872679, 10.674157303370801, 4.402515723270417, 1.7071569271175369, 1.217038539553772, 8.08646917534026, 5.344152210408493, 2.4189397838394244, 5.30012771392081, 6.865912762520199, 8.032128514056215, 1.0894941634241206, 3.9231385108086547, 98.42105263157895, 10.244988864142535, 1.8255578093306246, 2.240143369175618, 5.025125628140703, 3.8610038610038755, 12.643847742696956, 0.16722408026754731, 4.449938195302838, 1.1267605633802802, 3.495440729483268, 6.743421052631571, 5.714285714285694, 3.8610038610038755, 9.268292682926859, 1.1450381679389166, 4.499999999999993, 16.114285714285703, 0.5950019833399489, 0.7575757575757569, 4.484304932735417, 3.8610038610038755, -1.2349588347055018, 11.447473937449871, 1.1267605633802802, 5.025125628140703, 2.4844720496894235, 9.733124018838302, 2.386451116243271, 5.031446540880502, 42.97994269340975, 31.42059553349874, 2.1164021164021163, 4.458598726114649, 0.4383218534752542, 0.3420752565564511, 4.534005037783362, 10.64506797801561, 6.428571428571428, 2.865329512893977, 6.239870340356579, 4.0979381443299046, 2.9498525073746285, 4.499999999999993, 13.27433628318584, 10.093896713615047, 1.407506702412853, 4.530201342281881, 2.646239554317531, 10.582010582010582, 9.698996655518389, 6.079027355623112, 2.0449897750511425, 14.328657314629245, 7.924263674614318, 8.557347670250891, 7.322325915290739, 2.0581113801452666, 1.2820512820512775, 12.765957446808507, 13.104838709677423, 1.6233766233766156, 2.4340770791074995, 4.508196721311464, 1.8821603927986708, 4.902416356877337, 10.472279260780294, 4.366812227074246, 6.318681318681318, 1.1272141706924366, 3.7878787878787845, 3.472222222222232, 0.3024193548387011, 6.357142857142861, 1.77121771217712, 3.144016227180524], \"xaxis\": \"x\", \"yaxis\": \"y\"}, {\"alignmentgroup\": \"True\", \"hovertemplate\": \"Uplift=%{x}<extra></extra>\", \"legendgroup\": \"\", \"marker\": {\"color\": \"blue\"}, \"name\": \"\", \"notched\": true, \"offsetgroup\": \"\", \"showlegend\": false, \"type\": \"box\", \"x\": [4.756407296236431, 4.863221884498481, 1.2674271229404344, 1.1267605633802802, 2.61841718152398, 6.688963210702337, 2.0876826722338038, 8.586626139817621, 2.287021154945701, 6.896551724137945, 2.55281690140845, 4.522613065326642, 2.4622716441620396, 2.2271714922048824, 7.153075822603716, 4.053318824809571, 6.417112299465244, 8.560794044665009, 0.25188916876572875, 1.4749262536873253, 6.194137133570843, 10.365853658536594, 1.5662650602409567, 3.5885167464114742, 2.086956521739136, 5.159474671669773, 13.104838709677423, 1.1267605633802802, 1.5197568389057725, 7.878787878787885, 2.409638554216853, 14.388489208633114, 3.6152356358941207, 0.5780346820809301, 3.4782608695652195, 9.734513274336297, 2.482142857142855, 1.403508771929829, 8.875552747946935, 3.3414337788578274, 7.762557077625587, 4.278074866310155, 4.175824175824183, 7.50507099391482, 7.07182320441988, 5.196451204055763, 2.580645161290329, 0.652045050385297, 1.9169329073482455, 1.1603375527426074, 3.039288361749448, 8.857844642308876, 0.32017075773747017, 6.389157792836397, 6.694560669456062, 33.12101910828025, 2.006688963210679, 6.747709654686407, 5.285234899328861, 8.237232289950569, 1.7857142857143016, 1.829573934837092, 4.932735426008961, 5.825242718446599, 1.3559322033898313, 8.987269618088533, 4.269801980198018, 2.5510204081632626, 1.978021978021971, 13.291139240506332, 12.58036236119231, 4.7911547911547725, 0.3401360544217802, 0.8771929824561431, 0.7390202702702631, 1.359953703703698, 1.2891344383057168, 3.930635838150298, 0.3355704697986628, 2.4299065420560817, 4.784688995215314, 1.8156424581005526, 4.784688995215314, 6.826568265682664, 0.08103727714747766, 1.8255578093306246, -1.058201058201047, 11.838006230529597, 6.785714285714284, 3.5087719298245723, 6.976744186046502, 302.7932960893855, 1.747572815533971, 5.97439544807965, 3.066914498141271, 5.558643690939413, 7.409031126698817, 6.688963210702337, 2.2740193291642896, 11.302847282139773, 2.3405500292568604, 2.9498525073746285, 7.272727272727275, 7.751937984496116, 3.2090199479618553, 3.9597315436241676, 3.495440729483268, 0.5065123010130179, 5.629139072847678, 7.837837837837847, 14.147909967845651, 7.944915254237284, 2.6315789473684292, 3.1016042780748654, 16.68839634941328, 0.7923930269413626, 1.4513788098693858, 0.8408071748878809, 5.872756933115819, 1.1123470522803158, 1.0638297872340496, 0.32015590200444866, 2.0177494976557186, 7.30593607305936, 9.29951690821258, 1.2842465753424737, 1.2891344383057168, 0.6504065040650486, 6.5326633165829096, 3.7431765011697316, 19.428571428571416, 1.2958963282937441, 5.586592178770933, 1.273885350318471, 1.697792869269965, 34.22370617696158, 5.025125628140703, 12.210293115201099, 14.736842105263182, 3.949447077409163, 2.522522522522541, 1.0273972602739878, 1.3402061855670278, 1.6949152542372836, 7.30593607305936, 11.782032400589104, 3.744628606507061, 3.9597315436241676, 7.683741648106901, 4.534005037783362, 8.160421183028799, 7.395498392282951, 5.2795031055900665, 6.079027355623112, 12.792642140468224, 2.9121863799283165, 5.014326647564449, 4.157736819545654, 5.405405405405395, 6.295399515738498, 0.32379924446841457, 4.9342105263157965, 3.1894934333958735, 2.5735294117646967, 13.104838709677423, 9.795918367346923, 6.034482758620685, 6.547619047619024, 1.921368280764102, 0.96735187424426, 1.821493624772308, 3.244837758112107, 5.049088359046294, 5.920074349442395, 10.71428571428572, 8.075532342306136, 4.555808656036442, 2.1544715447154417, 3.6446469248291535, 9.664496745117667, 1.674641148325362, 0.962000962000964, 1.54034791938078, 5.025125628140703, 3.613777526821016, 9.02777777777779, 4.607508532423199, 19.49860724233985, 0.5037783375314797, 27.395715896279604, 18.867924528301884, 11.194029850746269, 3.1796502384737746, 4.776194048512128, 5.558643690939413, 6.68449197860963, 4.181184668989557, 1.823708206686936, 5.733662145499374, 6.959314775160608, 2.28013029315961, 4.563894523326573, 5.374280230326289, 3.312412831241285, 4.121475054229928, 4.825090470446325, 3.8985616956850766, 0.9195402298850519, 1.2039127163280705, 0.5966587112171684, 5.460750853242313, 2.6717557251908275, 9.099181073703377, 4.057971014492745, -1.0233918128654929, 0.8771929824561431, 6.486486486486487, 10.342442061570377, 2.110022607385087, 9.1324200913242, 0.11135857461024301, 3.1894934333958735, 4.835766423357657, 6.368186874304782, 7.809523809523822, 8.770883054892597, 4.749568221070799, 2.6666666666666616, 14.525139664804488, 3.438831405964704, 3.946666666666654, 275.39062499999994, 9.526699029126217, 4.532775453277549, 2.6168224299065512, 3.103180760279267, 2.4793388429751984, 11.421319796954311, 6.070713809206141, 6.055363321799301, 7.620199576655584, 0.6191950464396356, 2.6666666666666616, 1.5706806282722585, 6.970509383378021, 4.407294832826758, 13.676600767187974, 3.493449781659397, 12.797374897456937, 9.266600594648168, 4.446914952751535, 4.774370481176771, 4.405286343612325, 1.0135135135135087, 3.6144578313253017, 5.505415162454863, 4.016064257028096, 6.473533619456351, 15.200109649122817, 11.266620013995809, 2.126436781609198, 3.974397142006536, 4.499999999999993, 2.9498525073746285, 1.0994263862332598, 0.9536082474226992, 1.011235955056189, 0.1603849238171584, 7.704160246533132, 0.0, 5.067985166872679, 10.674157303370801, 4.402515723270417, 1.7071569271175369, 1.217038539553772, 8.08646917534026, 5.344152210408493, 2.4189397838394244, 5.30012771392081, 6.865912762520199, 8.032128514056215, 1.0894941634241206, 3.9231385108086547, 98.42105263157895, 10.244988864142535, 1.8255578093306246, 2.240143369175618, 5.025125628140703, 3.8610038610038755, 12.643847742696956, 0.16722408026754731, 4.449938195302838, 1.1267605633802802, 3.495440729483268, 6.743421052631571, 5.714285714285694, 3.8610038610038755, 9.268292682926859, 1.1450381679389166, 4.499999999999993, 16.114285714285703, 0.5950019833399489, 0.7575757575757569, 4.484304932735417, 3.8610038610038755, -1.2349588347055018, 11.447473937449871, 1.1267605633802802, 5.025125628140703, 2.4844720496894235, 9.733124018838302, 2.386451116243271, 5.031446540880502, 42.97994269340975, 31.42059553349874, 2.1164021164021163, 4.458598726114649, 0.4383218534752542, 0.3420752565564511, 4.534005037783362, 10.64506797801561, 6.428571428571428, 2.865329512893977, 6.239870340356579, 4.0979381443299046, 2.9498525073746285, 4.499999999999993, 13.27433628318584, 10.093896713615047, 1.407506702412853, 4.530201342281881, 2.646239554317531, 10.582010582010582, 9.698996655518389, 6.079027355623112, 2.0449897750511425, 14.328657314629245, 7.924263674614318, 8.557347670250891, 7.322325915290739, 2.0581113801452666, 1.2820512820512775, 12.765957446808507, 13.104838709677423, 1.6233766233766156, 2.4340770791074995, 4.508196721311464, 1.8821603927986708, 4.902416356877337, 10.472279260780294, 4.366812227074246, 6.318681318681318, 1.1272141706924366, 3.7878787878787845, 3.472222222222232, 0.3024193548387011, 6.357142857142861, 1.77121771217712, 3.144016227180524], \"xaxis\": \"x2\", \"yaxis\": \"y2\"}],                        {\"bargap\": 0.3, \"barmode\": \"relative\", \"legend\": {\"tracegroupgap\": 0}, \"template\": {\"data\": {\"bar\": [{\"error_x\": {\"color\": \"#2a3f5f\"}, \"error_y\": {\"color\": \"#2a3f5f\"}, \"marker\": {\"line\": {\"color\": \"#E5ECF6\", \"width\": 0.5}}, \"type\": \"bar\"}], \"barpolar\": [{\"marker\": {\"line\": {\"color\": \"#E5ECF6\", \"width\": 0.5}}, \"type\": \"barpolar\"}], \"carpet\": [{\"aaxis\": {\"endlinecolor\": \"#2a3f5f\", \"gridcolor\": \"white\", \"linecolor\": \"white\", \"minorgridcolor\": \"white\", \"startlinecolor\": \"#2a3f5f\"}, \"baxis\": {\"endlinecolor\": \"#2a3f5f\", \"gridcolor\": \"white\", \"linecolor\": \"white\", \"minorgridcolor\": \"white\", \"startlinecolor\": \"#2a3f5f\"}, \"type\": \"carpet\"}], \"choropleth\": [{\"colorbar\": {\"outlinewidth\": 0, \"ticks\": \"\"}, \"type\": \"choropleth\"}], \"contour\": [{\"colorbar\": {\"outlinewidth\": 0, \"ticks\": \"\"}, \"colorscale\": [[0.0, \"#0d0887\"], [0.1111111111111111, \"#46039f\"], [0.2222222222222222, \"#7201a8\"], [0.3333333333333333, \"#9c179e\"], [0.4444444444444444, \"#bd3786\"], [0.5555555555555556, \"#d8576b\"], [0.6666666666666666, \"#ed7953\"], [0.7777777777777778, \"#fb9f3a\"], [0.8888888888888888, \"#fdca26\"], [1.0, \"#f0f921\"]], \"type\": \"contour\"}], \"contourcarpet\": [{\"colorbar\": {\"outlinewidth\": 0, \"ticks\": \"\"}, \"type\": \"contourcarpet\"}], \"heatmap\": [{\"colorbar\": {\"outlinewidth\": 0, \"ticks\": \"\"}, \"colorscale\": [[0.0, \"#0d0887\"], [0.1111111111111111, \"#46039f\"], [0.2222222222222222, \"#7201a8\"], [0.3333333333333333, \"#9c179e\"], [0.4444444444444444, \"#bd3786\"], [0.5555555555555556, \"#d8576b\"], [0.6666666666666666, \"#ed7953\"], [0.7777777777777778, \"#fb9f3a\"], [0.8888888888888888, \"#fdca26\"], [1.0, \"#f0f921\"]], \"type\": \"heatmap\"}], \"heatmapgl\": [{\"colorbar\": {\"outlinewidth\": 0, \"ticks\": \"\"}, \"colorscale\": [[0.0, \"#0d0887\"], [0.1111111111111111, \"#46039f\"], [0.2222222222222222, \"#7201a8\"], [0.3333333333333333, \"#9c179e\"], [0.4444444444444444, \"#bd3786\"], [0.5555555555555556, \"#d8576b\"], [0.6666666666666666, \"#ed7953\"], [0.7777777777777778, \"#fb9f3a\"], [0.8888888888888888, \"#fdca26\"], [1.0, \"#f0f921\"]], \"type\": \"heatmapgl\"}], \"histogram\": [{\"marker\": {\"colorbar\": {\"outlinewidth\": 0, \"ticks\": \"\"}}, \"type\": \"histogram\"}], \"histogram2d\": [{\"colorbar\": {\"outlinewidth\": 0, \"ticks\": \"\"}, \"colorscale\": [[0.0, \"#0d0887\"], [0.1111111111111111, \"#46039f\"], [0.2222222222222222, \"#7201a8\"], [0.3333333333333333, \"#9c179e\"], [0.4444444444444444, \"#bd3786\"], [0.5555555555555556, \"#d8576b\"], [0.6666666666666666, \"#ed7953\"], [0.7777777777777778, \"#fb9f3a\"], [0.8888888888888888, \"#fdca26\"], [1.0, \"#f0f921\"]], \"type\": \"histogram2d\"}], \"histogram2dcontour\": [{\"colorbar\": {\"outlinewidth\": 0, \"ticks\": \"\"}, \"colorscale\": [[0.0, \"#0d0887\"], [0.1111111111111111, \"#46039f\"], [0.2222222222222222, \"#7201a8\"], [0.3333333333333333, \"#9c179e\"], [0.4444444444444444, \"#bd3786\"], [0.5555555555555556, \"#d8576b\"], [0.6666666666666666, \"#ed7953\"], [0.7777777777777778, \"#fb9f3a\"], [0.8888888888888888, \"#fdca26\"], [1.0, \"#f0f921\"]], \"type\": \"histogram2dcontour\"}], \"mesh3d\": [{\"colorbar\": {\"outlinewidth\": 0, \"ticks\": \"\"}, \"type\": \"mesh3d\"}], \"parcoords\": [{\"line\": {\"colorbar\": {\"outlinewidth\": 0, \"ticks\": \"\"}}, \"type\": \"parcoords\"}], \"pie\": [{\"automargin\": true, \"type\": \"pie\"}], \"scatter\": [{\"marker\": {\"colorbar\": {\"outlinewidth\": 0, \"ticks\": \"\"}}, \"type\": \"scatter\"}], \"scatter3d\": [{\"line\": {\"colorbar\": {\"outlinewidth\": 0, \"ticks\": \"\"}}, \"marker\": {\"colorbar\": {\"outlinewidth\": 0, \"ticks\": \"\"}}, \"type\": \"scatter3d\"}], \"scattercarpet\": [{\"marker\": {\"colorbar\": {\"outlinewidth\": 0, \"ticks\": \"\"}}, \"type\": \"scattercarpet\"}], \"scattergeo\": [{\"marker\": {\"colorbar\": {\"outlinewidth\": 0, \"ticks\": \"\"}}, \"type\": \"scattergeo\"}], \"scattergl\": [{\"marker\": {\"colorbar\": {\"outlinewidth\": 0, \"ticks\": \"\"}}, \"type\": \"scattergl\"}], \"scattermapbox\": [{\"marker\": {\"colorbar\": {\"outlinewidth\": 0, \"ticks\": \"\"}}, \"type\": \"scattermapbox\"}], \"scatterpolar\": [{\"marker\": {\"colorbar\": {\"outlinewidth\": 0, \"ticks\": \"\"}}, \"type\": \"scatterpolar\"}], \"scatterpolargl\": [{\"marker\": {\"colorbar\": {\"outlinewidth\": 0, \"ticks\": \"\"}}, \"type\": \"scatterpolargl\"}], \"scatterternary\": [{\"marker\": {\"colorbar\": {\"outlinewidth\": 0, \"ticks\": \"\"}}, \"type\": \"scatterternary\"}], \"surface\": [{\"colorbar\": {\"outlinewidth\": 0, \"ticks\": \"\"}, \"colorscale\": [[0.0, \"#0d0887\"], [0.1111111111111111, \"#46039f\"], [0.2222222222222222, \"#7201a8\"], [0.3333333333333333, \"#9c179e\"], [0.4444444444444444, \"#bd3786\"], [0.5555555555555556, \"#d8576b\"], [0.6666666666666666, \"#ed7953\"], [0.7777777777777778, \"#fb9f3a\"], [0.8888888888888888, \"#fdca26\"], [1.0, \"#f0f921\"]], \"type\": \"surface\"}], \"table\": [{\"cells\": {\"fill\": {\"color\": \"#EBF0F8\"}, \"line\": {\"color\": \"white\"}}, \"header\": {\"fill\": {\"color\": \"#C8D4E3\"}, \"line\": {\"color\": \"white\"}}, \"type\": \"table\"}]}, \"layout\": {\"annotationdefaults\": {\"arrowcolor\": \"#2a3f5f\", \"arrowhead\": 0, \"arrowwidth\": 1}, \"autotypenumbers\": \"strict\", \"coloraxis\": {\"colorbar\": {\"outlinewidth\": 0, \"ticks\": \"\"}}, \"colorscale\": {\"diverging\": [[0, \"#8e0152\"], [0.1, \"#c51b7d\"], [0.2, \"#de77ae\"], [0.3, \"#f1b6da\"], [0.4, \"#fde0ef\"], [0.5, \"#f7f7f7\"], [0.6, \"#e6f5d0\"], [0.7, \"#b8e186\"], [0.8, \"#7fbc41\"], [0.9, \"#4d9221\"], [1, \"#276419\"]], \"sequential\": [[0.0, \"#0d0887\"], [0.1111111111111111, \"#46039f\"], [0.2222222222222222, \"#7201a8\"], [0.3333333333333333, \"#9c179e\"], [0.4444444444444444, \"#bd3786\"], [0.5555555555555556, \"#d8576b\"], [0.6666666666666666, \"#ed7953\"], [0.7777777777777778, \"#fb9f3a\"], [0.8888888888888888, \"#fdca26\"], [1.0, \"#f0f921\"]], \"sequentialminus\": [[0.0, \"#0d0887\"], [0.1111111111111111, \"#46039f\"], [0.2222222222222222, \"#7201a8\"], [0.3333333333333333, \"#9c179e\"], [0.4444444444444444, \"#bd3786\"], [0.5555555555555556, \"#d8576b\"], [0.6666666666666666, \"#ed7953\"], [0.7777777777777778, \"#fb9f3a\"], [0.8888888888888888, \"#fdca26\"], [1.0, \"#f0f921\"]]}, \"colorway\": [\"#636efa\", \"#EF553B\", \"#00cc96\", \"#ab63fa\", \"#FFA15A\", \"#19d3f3\", \"#FF6692\", \"#B6E880\", \"#FF97FF\", \"#FECB52\"], \"font\": {\"color\": \"#2a3f5f\"}, \"geo\": {\"bgcolor\": \"white\", \"lakecolor\": \"white\", \"landcolor\": \"#E5ECF6\", \"showlakes\": true, \"showland\": true, \"subunitcolor\": \"white\"}, \"hoverlabel\": {\"align\": \"left\"}, \"hovermode\": \"closest\", \"mapbox\": {\"style\": \"light\"}, \"paper_bgcolor\": \"white\", \"plot_bgcolor\": \"#E5ECF6\", \"polar\": {\"angularaxis\": {\"gridcolor\": \"white\", \"linecolor\": \"white\", \"ticks\": \"\"}, \"bgcolor\": \"#E5ECF6\", \"radialaxis\": {\"gridcolor\": \"white\", \"linecolor\": \"white\", \"ticks\": \"\"}}, \"scene\": {\"xaxis\": {\"backgroundcolor\": \"#E5ECF6\", \"gridcolor\": \"white\", \"gridwidth\": 2, \"linecolor\": \"white\", \"showbackground\": true, \"ticks\": \"\", \"zerolinecolor\": \"white\"}, \"yaxis\": {\"backgroundcolor\": \"#E5ECF6\", \"gridcolor\": \"white\", \"gridwidth\": 2, \"linecolor\": \"white\", \"showbackground\": true, \"ticks\": \"\", \"zerolinecolor\": \"white\"}, \"zaxis\": {\"backgroundcolor\": \"#E5ECF6\", \"gridcolor\": \"white\", \"gridwidth\": 2, \"linecolor\": \"white\", \"showbackground\": true, \"ticks\": \"\", \"zerolinecolor\": \"white\"}}, \"shapedefaults\": {\"line\": {\"color\": \"#2a3f5f\"}}, \"ternary\": {\"aaxis\": {\"gridcolor\": \"white\", \"linecolor\": \"white\", \"ticks\": \"\"}, \"baxis\": {\"gridcolor\": \"white\", \"linecolor\": \"white\", \"ticks\": \"\"}, \"bgcolor\": \"#E5ECF6\", \"caxis\": {\"gridcolor\": \"white\", \"linecolor\": \"white\", \"ticks\": \"\"}}, \"title\": {\"x\": 0.05}, \"xaxis\": {\"automargin\": true, \"gridcolor\": \"white\", \"linecolor\": \"white\", \"ticks\": \"\", \"title\": {\"standoff\": 15}, \"zerolinecolor\": \"white\", \"zerolinewidth\": 2}, \"yaxis\": {\"automargin\": true, \"gridcolor\": \"white\", \"linecolor\": \"white\", \"ticks\": \"\", \"title\": {\"standoff\": 15}, \"zerolinecolor\": \"white\", \"zerolinewidth\": 2}}}, \"title\": {\"font\": {\"size\": 20}, \"text\": \"Distribution of Uplift\"}, \"xaxis\": {\"anchor\": \"y\", \"domain\": [0.0, 1.0], \"title\": {\"font\": {\"size\": 16}, \"text\": \"Uplift\"}}, \"xaxis2\": {\"anchor\": \"y2\", \"domain\": [0.0, 1.0], \"matches\": \"x\", \"showgrid\": true, \"showticklabels\": false}, \"yaxis\": {\"anchor\": \"x\", \"domain\": [0.0, 0.8316], \"title\": {\"font\": {\"size\": 16}, \"text\": \"Frequency\"}}, \"yaxis2\": {\"anchor\": \"x2\", \"domain\": [0.8416, 1.0], \"matches\": \"y2\", \"showgrid\": false, \"showline\": false, \"showticklabels\": false, \"ticks\": \"\"}},                        {\"responsive\": true}                    ).then(function(){\n",
       "                            \n",
       "var gd = document.getElementById('114bd01a-ceb6-4b7d-ba88-cb81d24a35a9');\n",
       "var x = new MutationObserver(function (mutations, observer) {{\n",
       "        var display = window.getComputedStyle(gd).display;\n",
       "        if (!display || display === 'none') {{\n",
       "            console.log([gd, 'removed!']);\n",
       "            Plotly.purge(gd);\n",
       "            observer.disconnect();\n",
       "        }}\n",
       "}});\n",
       "\n",
       "// Listen for the removal of the full notebook cells\n",
       "var notebookContainer = gd.closest('#notebook-container');\n",
       "if (notebookContainer) {{\n",
       "    x.observe(notebookContainer, {childList: true});\n",
       "}}\n",
       "\n",
       "// Listen for the clearing of the current output cell\n",
       "var outputEl = gd.closest('.output');\n",
       "if (outputEl) {{\n",
       "    x.observe(outputEl, {childList: true});\n",
       "}}\n",
       "\n",
       "                        })                };                });            </script>        </div>"
      ]
     },
     "metadata": {},
     "output_type": "display_data"
    }
   ],
   "source": [
    "# Create the histogram\n",
    "fig = px.histogram(df_x, x='uplift', nbins=20, marginal='box', \n",
    "                   title='Distribution of Uplift',\n",
    "                   labels={'uplift': 'Uplift'},\n",
    "                   color_discrete_sequence=['blue'])\n",
    "\n",
    "# Update layout for better aesthetics\n",
    "fig.update_layout(\n",
    "    xaxis_title='Uplift',\n",
    "    yaxis_title='Frequency',\n",
    "    title_font_size=20,\n",
    "    xaxis_title_font_size=16,\n",
    "    yaxis_title_font_size=16,\n",
    "    bargap=0.3\n",
    ")\n",
    "\n",
    "# Show the plot\n",
    "fig.show()"
   ]
  },
  {
   "cell_type": "code",
   "execution_count": 52,
   "metadata": {},
   "outputs": [],
   "source": [
    "# df_x.to_excel(\"info_pipe_filter.xlsx\",index=False)"
   ]
  },
  {
   "cell_type": "code",
   "execution_count": 53,
   "metadata": {},
   "outputs": [],
   "source": [
    "dfg = pd.read_csv(\"info_gaby.csv\")"
   ]
  },
  {
   "cell_type": "code",
   "execution_count": 54,
   "metadata": {},
   "outputs": [],
   "source": [
    "df_x = pd.merge(df_x, dfg, left_on=['source_id'], right_on=['source_id'], how='left')"
   ]
  },
  {
   "cell_type": "code",
   "execution_count": 55,
   "metadata": {},
   "outputs": [
    {
     "data": {
      "text/html": [
       "<div>\n",
       "<style scoped>\n",
       "    .dataframe tbody tr th:only-of-type {\n",
       "        vertical-align: middle;\n",
       "    }\n",
       "\n",
       "    .dataframe tbody tr th {\n",
       "        vertical-align: top;\n",
       "    }\n",
       "\n",
       "    .dataframe thead th {\n",
       "        text-align: right;\n",
       "    }\n",
       "</style>\n",
       "<table border=\"1\" class=\"dataframe\">\n",
       "  <thead>\n",
       "    <tr style=\"text-align: right;\">\n",
       "      <th></th>\n",
       "      <th>city</th>\n",
       "      <th>quotation_date</th>\n",
       "      <th>cat</th>\n",
       "      <th>source_id</th>\n",
       "      <th>cluster</th>\n",
       "      <th>product_name</th>\n",
       "      <th>competitors</th>\n",
       "      <th>gmv_usd</th>\n",
       "      <th>gmv_mix</th>\n",
       "      <th>price</th>\n",
       "      <th>...</th>\n",
       "      <th>costo</th>\n",
       "      <th>percentil</th>\n",
       "      <th>p25</th>\n",
       "      <th>mg</th>\n",
       "      <th>mg_p25</th>\n",
       "      <th>uplift</th>\n",
       "      <th>npi</th>\n",
       "      <th>npi_p</th>\n",
       "      <th>mean_edpv</th>\n",
       "      <th>elasticity</th>\n",
       "    </tr>\n",
       "  </thead>\n",
       "  <tbody>\n",
       "    <tr>\n",
       "      <th>0</th>\n",
       "      <td>SPO</td>\n",
       "      <td>2024-06-17</td>\n",
       "      <td>Laticínios e ovos</td>\n",
       "      <td>606541</td>\n",
       "      <td>MID</td>\n",
       "      <td>SPO || Requeijão Cremoso 1.5kg - Tirolez</td>\n",
       "      <td>12.0</td>\n",
       "      <td>16057.8863</td>\n",
       "      <td>0.003574</td>\n",
       "      <td>43.31</td>\n",
       "      <td>...</td>\n",
       "      <td>38.9840</td>\n",
       "      <td>25.000000</td>\n",
       "      <td>45.37</td>\n",
       "      <td>0.099885</td>\n",
       "      <td>0.140754</td>\n",
       "      <td>4.756407</td>\n",
       "      <td>1.031682</td>\n",
       "      <td>1.080753</td>\n",
       "      <td>0.065041</td>\n",
       "      <td>sup. elastic</td>\n",
       "    </tr>\n",
       "    <tr>\n",
       "      <th>1</th>\n",
       "      <td>SPO</td>\n",
       "      <td>2024-06-17</td>\n",
       "      <td>Bebidas</td>\n",
       "      <td>277873</td>\n",
       "      <td>KVI</td>\n",
       "      <td>SPO || Coca-Cola 350ml</td>\n",
       "      <td>17.0</td>\n",
       "      <td>64871.4084</td>\n",
       "      <td>0.014437</td>\n",
       "      <td>3.29</td>\n",
       "      <td>...</td>\n",
       "      <td>2.5232</td>\n",
       "      <td>17.647059</td>\n",
       "      <td>3.45</td>\n",
       "      <td>0.233070</td>\n",
       "      <td>0.268638</td>\n",
       "      <td>4.863222</td>\n",
       "      <td>0.953623</td>\n",
       "      <td>1.000000</td>\n",
       "      <td>0.028826</td>\n",
       "      <td>elastic</td>\n",
       "    </tr>\n",
       "    <tr>\n",
       "      <th>2</th>\n",
       "      <td>SPO</td>\n",
       "      <td>2024-06-17</td>\n",
       "      <td>Bebidas</td>\n",
       "      <td>614937</td>\n",
       "      <td>MID</td>\n",
       "      <td>SPO || Energético Red Bull 250ml</td>\n",
       "      <td>16.0</td>\n",
       "      <td>13156.9347</td>\n",
       "      <td>0.002928</td>\n",
       "      <td>7.89</td>\n",
       "      <td>...</td>\n",
       "      <td>6.6399</td>\n",
       "      <td>18.750000</td>\n",
       "      <td>7.99</td>\n",
       "      <td>0.158441</td>\n",
       "      <td>0.168974</td>\n",
       "      <td>1.267427</td>\n",
       "      <td>1.012837</td>\n",
       "      <td>1.025674</td>\n",
       "      <td>0.098756</td>\n",
       "      <td>sup. elastic</td>\n",
       "    </tr>\n",
       "    <tr>\n",
       "      <th>3</th>\n",
       "      <td>SPO</td>\n",
       "      <td>2024-06-17</td>\n",
       "      <td>Mercearia</td>\n",
       "      <td>632839</td>\n",
       "      <td>TAIL</td>\n",
       "      <td>SPO || Açúcar Cristal Caravelas 1kg</td>\n",
       "      <td>9.0</td>\n",
       "      <td>7052.5536</td>\n",
       "      <td>0.001570</td>\n",
       "      <td>3.55</td>\n",
       "      <td>...</td>\n",
       "      <td>3.2000</td>\n",
       "      <td>11.111111</td>\n",
       "      <td>3.59</td>\n",
       "      <td>0.098592</td>\n",
       "      <td>0.108635</td>\n",
       "      <td>1.126761</td>\n",
       "      <td>0.988858</td>\n",
       "      <td>1.000000</td>\n",
       "      <td>0.104263</td>\n",
       "      <td>sup. elastic</td>\n",
       "    </tr>\n",
       "    <tr>\n",
       "      <th>4</th>\n",
       "      <td>SPO</td>\n",
       "      <td>2024-06-17</td>\n",
       "      <td>Congelados</td>\n",
       "      <td>243663</td>\n",
       "      <td>KVI</td>\n",
       "      <td>SPO || Batata Pré-Frita Corte Tradicional 2.5k...</td>\n",
       "      <td>17.0</td>\n",
       "      <td>15743.8126</td>\n",
       "      <td>0.003504</td>\n",
       "      <td>33.99</td>\n",
       "      <td>...</td>\n",
       "      <td>31.1610</td>\n",
       "      <td>23.529412</td>\n",
       "      <td>34.88</td>\n",
       "      <td>0.083230</td>\n",
       "      <td>0.106623</td>\n",
       "      <td>2.618417</td>\n",
       "      <td>1.010855</td>\n",
       "      <td>1.037323</td>\n",
       "      <td>0.046539</td>\n",
       "      <td>elastic</td>\n",
       "    </tr>\n",
       "  </tbody>\n",
       "</table>\n",
       "<p>5 rows × 23 columns</p>\n",
       "</div>"
      ],
      "text/plain": [
       "  city quotation_date                cat  source_id cluster  \\\n",
       "0  SPO     2024-06-17  Laticínios e ovos     606541     MID   \n",
       "1  SPO     2024-06-17            Bebidas     277873     KVI   \n",
       "2  SPO     2024-06-17            Bebidas     614937     MID   \n",
       "3  SPO     2024-06-17          Mercearia     632839    TAIL   \n",
       "4  SPO     2024-06-17         Congelados     243663     KVI   \n",
       "\n",
       "                                        product_name  competitors     gmv_usd  \\\n",
       "0           SPO || Requeijão Cremoso 1.5kg - Tirolez         12.0  16057.8863   \n",
       "1                             SPO || Coca-Cola 350ml         17.0  64871.4084   \n",
       "2                   SPO || Energético Red Bull 250ml         16.0  13156.9347   \n",
       "3                SPO || Açúcar Cristal Caravelas 1kg          9.0   7052.5536   \n",
       "4  SPO || Batata Pré-Frita Corte Tradicional 2.5k...         17.0  15743.8126   \n",
       "\n",
       "    gmv_mix  price  ...    costo  percentil    p25        mg    mg_p25  \\\n",
       "0  0.003574  43.31  ...  38.9840  25.000000  45.37  0.099885  0.140754   \n",
       "1  0.014437   3.29  ...   2.5232  17.647059   3.45  0.233070  0.268638   \n",
       "2  0.002928   7.89  ...   6.6399  18.750000   7.99  0.158441  0.168974   \n",
       "3  0.001570   3.55  ...   3.2000  11.111111   3.59  0.098592  0.108635   \n",
       "4  0.003504  33.99  ...  31.1610  23.529412  34.88  0.083230  0.106623   \n",
       "\n",
       "     uplift       npi     npi_p  mean_edpv    elasticity  \n",
       "0  4.756407  1.031682  1.080753   0.065041  sup. elastic  \n",
       "1  4.863222  0.953623  1.000000   0.028826       elastic  \n",
       "2  1.267427  1.012837  1.025674   0.098756  sup. elastic  \n",
       "3  1.126761  0.988858  1.000000   0.104263  sup. elastic  \n",
       "4  2.618417  1.010855  1.037323   0.046539       elastic  \n",
       "\n",
       "[5 rows x 23 columns]"
      ]
     },
     "execution_count": 55,
     "metadata": {},
     "output_type": "execute_result"
    }
   ],
   "source": [
    "df_x.head()"
   ]
  },
  {
   "cell_type": "code",
   "execution_count": 56,
   "metadata": {},
   "outputs": [
    {
     "data": {
      "application/vnd.plotly.v1+json": {
       "config": {
        "plotlyServerURL": "https://plot.ly"
       },
       "data": [
        {
         "alignmentgroup": "True",
         "hovertemplate": "uplift Amount=%{y}<extra></extra>",
         "legendgroup": "",
         "marker": {
          "color": "#636efa"
         },
         "name": "",
         "notched": false,
         "offsetgroup": "",
         "orientation": "v",
         "showlegend": false,
         "type": "box",
         "x0": " ",
         "xaxis": "x",
         "y": [
          4.756407296236431,
          4.863221884498481,
          1.2674271229404344,
          1.1267605633802802,
          2.61841718152398,
          6.688963210702337,
          2.0876826722338038,
          8.586626139817621,
          2.287021154945701,
          6.896551724137945,
          2.55281690140845,
          4.522613065326642,
          2.4622716441620396,
          2.2271714922048824,
          7.153075822603716,
          4.053318824809571,
          6.417112299465244,
          8.560794044665009,
          0.25188916876572875,
          1.4749262536873253,
          6.194137133570843,
          10.365853658536594,
          1.5662650602409567,
          3.5885167464114742,
          2.086956521739136,
          5.159474671669773,
          13.104838709677423,
          1.1267605633802802,
          1.5197568389057725,
          7.878787878787885,
          2.409638554216853,
          14.388489208633114,
          3.6152356358941207,
          0.5780346820809301,
          3.4782608695652195,
          9.734513274336297,
          2.482142857142855,
          1.403508771929829,
          8.875552747946935,
          3.3414337788578274,
          7.762557077625587,
          4.278074866310155,
          4.175824175824183,
          7.50507099391482,
          7.07182320441988,
          5.196451204055763,
          2.580645161290329,
          0.652045050385297,
          1.9169329073482455,
          1.1603375527426074,
          3.039288361749448,
          8.857844642308876,
          0.32017075773747017,
          6.389157792836397,
          6.694560669456062,
          33.12101910828025,
          2.006688963210679,
          6.747709654686407,
          5.285234899328861,
          8.237232289950569,
          1.7857142857143016,
          1.829573934837092,
          4.932735426008961,
          5.825242718446599,
          1.3559322033898313,
          8.987269618088533,
          4.269801980198018,
          2.5510204081632626,
          1.978021978021971,
          13.291139240506332,
          12.58036236119231,
          4.7911547911547725,
          0.3401360544217802,
          0.8771929824561431,
          0.7390202702702631,
          1.359953703703698,
          1.2891344383057168,
          3.930635838150298,
          0.3355704697986628,
          2.4299065420560817,
          4.784688995215314,
          1.8156424581005526,
          4.784688995215314,
          6.826568265682664,
          0.08103727714747766,
          1.8255578093306246,
          -1.058201058201047,
          11.838006230529597,
          6.785714285714284,
          3.5087719298245723,
          6.976744186046502,
          302.7932960893855,
          1.747572815533971,
          5.97439544807965,
          3.066914498141271,
          5.558643690939413,
          7.409031126698817,
          6.688963210702337,
          2.2740193291642896,
          11.302847282139773,
          2.3405500292568604,
          2.9498525073746285,
          7.272727272727275,
          7.751937984496116,
          3.2090199479618553,
          3.9597315436241676,
          3.495440729483268,
          0.5065123010130179,
          5.629139072847678,
          7.837837837837847,
          14.147909967845651,
          7.944915254237284,
          2.6315789473684292,
          3.1016042780748654,
          16.68839634941328,
          0.7923930269413626,
          1.4513788098693858,
          0.8408071748878809,
          5.872756933115819,
          1.1123470522803158,
          1.0638297872340496,
          0.32015590200444866,
          2.0177494976557186,
          7.30593607305936,
          9.29951690821258,
          1.2842465753424737,
          1.2891344383057168,
          0.6504065040650486,
          6.5326633165829096,
          3.7431765011697316,
          19.428571428571416,
          1.2958963282937441,
          5.586592178770933,
          1.273885350318471,
          1.697792869269965,
          34.22370617696158,
          5.025125628140703,
          12.210293115201099,
          14.736842105263182,
          3.949447077409163,
          2.522522522522541,
          1.0273972602739878,
          1.3402061855670278,
          1.6949152542372836,
          7.30593607305936,
          11.782032400589104,
          3.744628606507061,
          3.9597315436241676,
          7.683741648106901,
          4.534005037783362,
          8.160421183028799,
          7.395498392282951,
          5.2795031055900665,
          6.079027355623112,
          12.792642140468224,
          2.9121863799283165,
          5.014326647564449,
          4.157736819545654,
          5.405405405405395,
          6.295399515738498,
          0.32379924446841457,
          4.9342105263157965,
          3.1894934333958735,
          2.5735294117646967,
          13.104838709677423,
          9.795918367346923,
          6.034482758620685,
          6.547619047619024,
          1.921368280764102,
          0.96735187424426,
          1.821493624772308,
          3.244837758112107,
          5.049088359046294,
          5.920074349442395,
          10.71428571428572,
          8.075532342306136,
          4.555808656036442,
          2.1544715447154417,
          3.6446469248291535,
          9.664496745117667,
          1.674641148325362,
          0.962000962000964,
          1.54034791938078,
          5.025125628140703,
          3.613777526821016,
          9.02777777777779,
          4.607508532423199,
          19.49860724233985,
          0.5037783375314797,
          27.395715896279604,
          18.867924528301884,
          11.194029850746269,
          3.1796502384737746,
          4.776194048512128,
          5.558643690939413,
          6.68449197860963,
          4.181184668989557,
          1.823708206686936,
          5.733662145499374,
          6.959314775160608,
          2.28013029315961,
          4.563894523326573,
          5.374280230326289,
          3.312412831241285,
          4.121475054229928,
          4.825090470446325,
          3.8985616956850766,
          0.9195402298850519,
          1.2039127163280705,
          0.5966587112171684,
          5.460750853242313,
          2.6717557251908275,
          9.099181073703377,
          4.057971014492745,
          -1.0233918128654929,
          0.8771929824561431,
          6.486486486486487,
          10.342442061570377,
          2.110022607385087,
          9.1324200913242,
          0.11135857461024301,
          3.1894934333958735,
          4.835766423357657,
          6.368186874304782,
          7.809523809523822,
          8.770883054892597,
          4.749568221070799,
          2.6666666666666616,
          14.525139664804488,
          3.438831405964704,
          3.946666666666654,
          275.39062499999994,
          9.526699029126217,
          4.532775453277549,
          2.6168224299065512,
          3.103180760279267,
          2.4793388429751984,
          11.421319796954311,
          6.070713809206141,
          6.055363321799301,
          7.620199576655584,
          0.6191950464396356,
          2.6666666666666616,
          1.5706806282722585,
          6.970509383378021,
          4.407294832826758,
          13.676600767187974,
          3.493449781659397,
          12.797374897456937,
          9.266600594648168,
          4.446914952751535,
          4.774370481176771,
          4.405286343612325,
          1.0135135135135087,
          3.6144578313253017,
          5.505415162454863,
          4.016064257028096,
          6.473533619456351,
          15.200109649122817,
          11.266620013995809,
          2.126436781609198,
          3.974397142006536,
          4.499999999999993,
          2.9498525073746285,
          1.0994263862332598,
          0.9536082474226992,
          1.011235955056189,
          0.1603849238171584,
          7.704160246533132,
          0,
          5.067985166872679,
          10.674157303370801,
          4.402515723270417,
          1.7071569271175369,
          1.217038539553772,
          8.08646917534026,
          5.344152210408493,
          2.4189397838394244,
          5.30012771392081,
          6.865912762520199,
          8.032128514056215,
          1.0894941634241206,
          3.9231385108086547,
          98.42105263157895,
          10.244988864142535,
          1.8255578093306246,
          2.240143369175618,
          5.025125628140703,
          3.8610038610038755,
          12.643847742696956,
          0.16722408026754731,
          4.449938195302838,
          1.1267605633802802,
          3.495440729483268,
          6.743421052631571,
          5.714285714285694,
          3.8610038610038755,
          9.268292682926859,
          1.1450381679389166,
          4.499999999999993,
          16.114285714285703,
          0.5950019833399489,
          0.7575757575757569,
          4.484304932735417,
          3.8610038610038755,
          -1.2349588347055018,
          11.447473937449871,
          1.1267605633802802,
          5.025125628140703,
          2.4844720496894235,
          9.733124018838302,
          2.386451116243271,
          5.031446540880502,
          42.97994269340975,
          31.42059553349874,
          2.1164021164021163,
          4.458598726114649,
          0.4383218534752542,
          0.3420752565564511,
          4.534005037783362,
          10.64506797801561,
          6.428571428571428,
          2.865329512893977,
          6.239870340356579,
          4.0979381443299046,
          2.9498525073746285,
          4.499999999999993,
          13.27433628318584,
          10.093896713615047,
          1.407506702412853,
          4.530201342281881,
          2.646239554317531,
          10.582010582010582,
          9.698996655518389,
          6.079027355623112,
          2.0449897750511425,
          14.328657314629245,
          7.924263674614318,
          8.557347670250891,
          7.322325915290739,
          2.0581113801452666,
          1.2820512820512775,
          12.765957446808507,
          13.104838709677423,
          1.6233766233766156,
          2.4340770791074995,
          4.508196721311464,
          1.8821603927986708,
          4.902416356877337,
          10.472279260780294,
          4.366812227074246,
          6.318681318681318,
          1.1272141706924366,
          3.7878787878787845,
          3.472222222222232,
          0.3024193548387011,
          6.357142857142861,
          1.77121771217712,
          3.144016227180524
         ],
         "y0": " ",
         "yaxis": "y"
        }
       ],
       "layout": {
        "boxmode": "group",
        "legend": {
         "tracegroupgap": 0
        },
        "template": {
         "data": {
          "bar": [
           {
            "error_x": {
             "color": "#2a3f5f"
            },
            "error_y": {
             "color": "#2a3f5f"
            },
            "marker": {
             "line": {
              "color": "#E5ECF6",
              "width": 0.5
             }
            },
            "type": "bar"
           }
          ],
          "barpolar": [
           {
            "marker": {
             "line": {
              "color": "#E5ECF6",
              "width": 0.5
             }
            },
            "type": "barpolar"
           }
          ],
          "carpet": [
           {
            "aaxis": {
             "endlinecolor": "#2a3f5f",
             "gridcolor": "white",
             "linecolor": "white",
             "minorgridcolor": "white",
             "startlinecolor": "#2a3f5f"
            },
            "baxis": {
             "endlinecolor": "#2a3f5f",
             "gridcolor": "white",
             "linecolor": "white",
             "minorgridcolor": "white",
             "startlinecolor": "#2a3f5f"
            },
            "type": "carpet"
           }
          ],
          "choropleth": [
           {
            "colorbar": {
             "outlinewidth": 0,
             "ticks": ""
            },
            "type": "choropleth"
           }
          ],
          "contour": [
           {
            "colorbar": {
             "outlinewidth": 0,
             "ticks": ""
            },
            "colorscale": [
             [
              0,
              "#0d0887"
             ],
             [
              0.1111111111111111,
              "#46039f"
             ],
             [
              0.2222222222222222,
              "#7201a8"
             ],
             [
              0.3333333333333333,
              "#9c179e"
             ],
             [
              0.4444444444444444,
              "#bd3786"
             ],
             [
              0.5555555555555556,
              "#d8576b"
             ],
             [
              0.6666666666666666,
              "#ed7953"
             ],
             [
              0.7777777777777778,
              "#fb9f3a"
             ],
             [
              0.8888888888888888,
              "#fdca26"
             ],
             [
              1,
              "#f0f921"
             ]
            ],
            "type": "contour"
           }
          ],
          "contourcarpet": [
           {
            "colorbar": {
             "outlinewidth": 0,
             "ticks": ""
            },
            "type": "contourcarpet"
           }
          ],
          "heatmap": [
           {
            "colorbar": {
             "outlinewidth": 0,
             "ticks": ""
            },
            "colorscale": [
             [
              0,
              "#0d0887"
             ],
             [
              0.1111111111111111,
              "#46039f"
             ],
             [
              0.2222222222222222,
              "#7201a8"
             ],
             [
              0.3333333333333333,
              "#9c179e"
             ],
             [
              0.4444444444444444,
              "#bd3786"
             ],
             [
              0.5555555555555556,
              "#d8576b"
             ],
             [
              0.6666666666666666,
              "#ed7953"
             ],
             [
              0.7777777777777778,
              "#fb9f3a"
             ],
             [
              0.8888888888888888,
              "#fdca26"
             ],
             [
              1,
              "#f0f921"
             ]
            ],
            "type": "heatmap"
           }
          ],
          "heatmapgl": [
           {
            "colorbar": {
             "outlinewidth": 0,
             "ticks": ""
            },
            "colorscale": [
             [
              0,
              "#0d0887"
             ],
             [
              0.1111111111111111,
              "#46039f"
             ],
             [
              0.2222222222222222,
              "#7201a8"
             ],
             [
              0.3333333333333333,
              "#9c179e"
             ],
             [
              0.4444444444444444,
              "#bd3786"
             ],
             [
              0.5555555555555556,
              "#d8576b"
             ],
             [
              0.6666666666666666,
              "#ed7953"
             ],
             [
              0.7777777777777778,
              "#fb9f3a"
             ],
             [
              0.8888888888888888,
              "#fdca26"
             ],
             [
              1,
              "#f0f921"
             ]
            ],
            "type": "heatmapgl"
           }
          ],
          "histogram": [
           {
            "marker": {
             "colorbar": {
              "outlinewidth": 0,
              "ticks": ""
             }
            },
            "type": "histogram"
           }
          ],
          "histogram2d": [
           {
            "colorbar": {
             "outlinewidth": 0,
             "ticks": ""
            },
            "colorscale": [
             [
              0,
              "#0d0887"
             ],
             [
              0.1111111111111111,
              "#46039f"
             ],
             [
              0.2222222222222222,
              "#7201a8"
             ],
             [
              0.3333333333333333,
              "#9c179e"
             ],
             [
              0.4444444444444444,
              "#bd3786"
             ],
             [
              0.5555555555555556,
              "#d8576b"
             ],
             [
              0.6666666666666666,
              "#ed7953"
             ],
             [
              0.7777777777777778,
              "#fb9f3a"
             ],
             [
              0.8888888888888888,
              "#fdca26"
             ],
             [
              1,
              "#f0f921"
             ]
            ],
            "type": "histogram2d"
           }
          ],
          "histogram2dcontour": [
           {
            "colorbar": {
             "outlinewidth": 0,
             "ticks": ""
            },
            "colorscale": [
             [
              0,
              "#0d0887"
             ],
             [
              0.1111111111111111,
              "#46039f"
             ],
             [
              0.2222222222222222,
              "#7201a8"
             ],
             [
              0.3333333333333333,
              "#9c179e"
             ],
             [
              0.4444444444444444,
              "#bd3786"
             ],
             [
              0.5555555555555556,
              "#d8576b"
             ],
             [
              0.6666666666666666,
              "#ed7953"
             ],
             [
              0.7777777777777778,
              "#fb9f3a"
             ],
             [
              0.8888888888888888,
              "#fdca26"
             ],
             [
              1,
              "#f0f921"
             ]
            ],
            "type": "histogram2dcontour"
           }
          ],
          "mesh3d": [
           {
            "colorbar": {
             "outlinewidth": 0,
             "ticks": ""
            },
            "type": "mesh3d"
           }
          ],
          "parcoords": [
           {
            "line": {
             "colorbar": {
              "outlinewidth": 0,
              "ticks": ""
             }
            },
            "type": "parcoords"
           }
          ],
          "pie": [
           {
            "automargin": true,
            "type": "pie"
           }
          ],
          "scatter": [
           {
            "marker": {
             "colorbar": {
              "outlinewidth": 0,
              "ticks": ""
             }
            },
            "type": "scatter"
           }
          ],
          "scatter3d": [
           {
            "line": {
             "colorbar": {
              "outlinewidth": 0,
              "ticks": ""
             }
            },
            "marker": {
             "colorbar": {
              "outlinewidth": 0,
              "ticks": ""
             }
            },
            "type": "scatter3d"
           }
          ],
          "scattercarpet": [
           {
            "marker": {
             "colorbar": {
              "outlinewidth": 0,
              "ticks": ""
             }
            },
            "type": "scattercarpet"
           }
          ],
          "scattergeo": [
           {
            "marker": {
             "colorbar": {
              "outlinewidth": 0,
              "ticks": ""
             }
            },
            "type": "scattergeo"
           }
          ],
          "scattergl": [
           {
            "marker": {
             "colorbar": {
              "outlinewidth": 0,
              "ticks": ""
             }
            },
            "type": "scattergl"
           }
          ],
          "scattermapbox": [
           {
            "marker": {
             "colorbar": {
              "outlinewidth": 0,
              "ticks": ""
             }
            },
            "type": "scattermapbox"
           }
          ],
          "scatterpolar": [
           {
            "marker": {
             "colorbar": {
              "outlinewidth": 0,
              "ticks": ""
             }
            },
            "type": "scatterpolar"
           }
          ],
          "scatterpolargl": [
           {
            "marker": {
             "colorbar": {
              "outlinewidth": 0,
              "ticks": ""
             }
            },
            "type": "scatterpolargl"
           }
          ],
          "scatterternary": [
           {
            "marker": {
             "colorbar": {
              "outlinewidth": 0,
              "ticks": ""
             }
            },
            "type": "scatterternary"
           }
          ],
          "surface": [
           {
            "colorbar": {
             "outlinewidth": 0,
             "ticks": ""
            },
            "colorscale": [
             [
              0,
              "#0d0887"
             ],
             [
              0.1111111111111111,
              "#46039f"
             ],
             [
              0.2222222222222222,
              "#7201a8"
             ],
             [
              0.3333333333333333,
              "#9c179e"
             ],
             [
              0.4444444444444444,
              "#bd3786"
             ],
             [
              0.5555555555555556,
              "#d8576b"
             ],
             [
              0.6666666666666666,
              "#ed7953"
             ],
             [
              0.7777777777777778,
              "#fb9f3a"
             ],
             [
              0.8888888888888888,
              "#fdca26"
             ],
             [
              1,
              "#f0f921"
             ]
            ],
            "type": "surface"
           }
          ],
          "table": [
           {
            "cells": {
             "fill": {
              "color": "#EBF0F8"
             },
             "line": {
              "color": "white"
             }
            },
            "header": {
             "fill": {
              "color": "#C8D4E3"
             },
             "line": {
              "color": "white"
             }
            },
            "type": "table"
           }
          ]
         },
         "layout": {
          "annotationdefaults": {
           "arrowcolor": "#2a3f5f",
           "arrowhead": 0,
           "arrowwidth": 1
          },
          "autotypenumbers": "strict",
          "coloraxis": {
           "colorbar": {
            "outlinewidth": 0,
            "ticks": ""
           }
          },
          "colorscale": {
           "diverging": [
            [
             0,
             "#8e0152"
            ],
            [
             0.1,
             "#c51b7d"
            ],
            [
             0.2,
             "#de77ae"
            ],
            [
             0.3,
             "#f1b6da"
            ],
            [
             0.4,
             "#fde0ef"
            ],
            [
             0.5,
             "#f7f7f7"
            ],
            [
             0.6,
             "#e6f5d0"
            ],
            [
             0.7,
             "#b8e186"
            ],
            [
             0.8,
             "#7fbc41"
            ],
            [
             0.9,
             "#4d9221"
            ],
            [
             1,
             "#276419"
            ]
           ],
           "sequential": [
            [
             0,
             "#0d0887"
            ],
            [
             0.1111111111111111,
             "#46039f"
            ],
            [
             0.2222222222222222,
             "#7201a8"
            ],
            [
             0.3333333333333333,
             "#9c179e"
            ],
            [
             0.4444444444444444,
             "#bd3786"
            ],
            [
             0.5555555555555556,
             "#d8576b"
            ],
            [
             0.6666666666666666,
             "#ed7953"
            ],
            [
             0.7777777777777778,
             "#fb9f3a"
            ],
            [
             0.8888888888888888,
             "#fdca26"
            ],
            [
             1,
             "#f0f921"
            ]
           ],
           "sequentialminus": [
            [
             0,
             "#0d0887"
            ],
            [
             0.1111111111111111,
             "#46039f"
            ],
            [
             0.2222222222222222,
             "#7201a8"
            ],
            [
             0.3333333333333333,
             "#9c179e"
            ],
            [
             0.4444444444444444,
             "#bd3786"
            ],
            [
             0.5555555555555556,
             "#d8576b"
            ],
            [
             0.6666666666666666,
             "#ed7953"
            ],
            [
             0.7777777777777778,
             "#fb9f3a"
            ],
            [
             0.8888888888888888,
             "#fdca26"
            ],
            [
             1,
             "#f0f921"
            ]
           ]
          },
          "colorway": [
           "#636efa",
           "#EF553B",
           "#00cc96",
           "#ab63fa",
           "#FFA15A",
           "#19d3f3",
           "#FF6692",
           "#B6E880",
           "#FF97FF",
           "#FECB52"
          ],
          "font": {
           "color": "#2a3f5f"
          },
          "geo": {
           "bgcolor": "white",
           "lakecolor": "white",
           "landcolor": "#E5ECF6",
           "showlakes": true,
           "showland": true,
           "subunitcolor": "white"
          },
          "hoverlabel": {
           "align": "left"
          },
          "hovermode": "closest",
          "mapbox": {
           "style": "light"
          },
          "paper_bgcolor": "white",
          "plot_bgcolor": "#E5ECF6",
          "polar": {
           "angularaxis": {
            "gridcolor": "white",
            "linecolor": "white",
            "ticks": ""
           },
           "bgcolor": "#E5ECF6",
           "radialaxis": {
            "gridcolor": "white",
            "linecolor": "white",
            "ticks": ""
           }
          },
          "scene": {
           "xaxis": {
            "backgroundcolor": "#E5ECF6",
            "gridcolor": "white",
            "gridwidth": 2,
            "linecolor": "white",
            "showbackground": true,
            "ticks": "",
            "zerolinecolor": "white"
           },
           "yaxis": {
            "backgroundcolor": "#E5ECF6",
            "gridcolor": "white",
            "gridwidth": 2,
            "linecolor": "white",
            "showbackground": true,
            "ticks": "",
            "zerolinecolor": "white"
           },
           "zaxis": {
            "backgroundcolor": "#E5ECF6",
            "gridcolor": "white",
            "gridwidth": 2,
            "linecolor": "white",
            "showbackground": true,
            "ticks": "",
            "zerolinecolor": "white"
           }
          },
          "shapedefaults": {
           "line": {
            "color": "#2a3f5f"
           }
          },
          "ternary": {
           "aaxis": {
            "gridcolor": "white",
            "linecolor": "white",
            "ticks": ""
           },
           "baxis": {
            "gridcolor": "white",
            "linecolor": "white",
            "ticks": ""
           },
           "bgcolor": "#E5ECF6",
           "caxis": {
            "gridcolor": "white",
            "linecolor": "white",
            "ticks": ""
           }
          },
          "title": {
           "x": 0.05
          },
          "xaxis": {
           "automargin": true,
           "gridcolor": "white",
           "linecolor": "white",
           "ticks": "",
           "title": {
            "standoff": 15
           },
           "zerolinecolor": "white",
           "zerolinewidth": 2
          },
          "yaxis": {
           "automargin": true,
           "gridcolor": "white",
           "linecolor": "white",
           "ticks": "",
           "title": {
            "standoff": 15
           },
           "zerolinecolor": "white",
           "zerolinewidth": 2
          }
         }
        },
        "title": {
         "text": "uplift Boxplot"
        },
        "xaxis": {
         "anchor": "y",
         "domain": [
          0,
          1
         ]
        },
        "yaxis": {
         "anchor": "x",
         "domain": [
          0,
          1
         ],
         "title": {
          "text": "uplift Amount"
         }
        }
       }
      },
      "text/html": [
       "<div>                            <div id=\"1eef8a5f-dc28-4039-90f0-a6f622d3b98c\" class=\"plotly-graph-div\" style=\"height:525px; width:100%;\"></div>            <script type=\"text/javascript\">                require([\"plotly\"], function(Plotly) {                    window.PLOTLYENV=window.PLOTLYENV || {};                                    if (document.getElementById(\"1eef8a5f-dc28-4039-90f0-a6f622d3b98c\")) {                    Plotly.newPlot(                        \"1eef8a5f-dc28-4039-90f0-a6f622d3b98c\",                        [{\"alignmentgroup\": \"True\", \"hovertemplate\": \"uplift Amount=%{y}<extra></extra>\", \"legendgroup\": \"\", \"marker\": {\"color\": \"#636efa\"}, \"name\": \"\", \"notched\": false, \"offsetgroup\": \"\", \"orientation\": \"v\", \"showlegend\": false, \"type\": \"box\", \"x0\": \" \", \"xaxis\": \"x\", \"y\": [4.756407296236431, 4.863221884498481, 1.2674271229404344, 1.1267605633802802, 2.61841718152398, 6.688963210702337, 2.0876826722338038, 8.586626139817621, 2.287021154945701, 6.896551724137945, 2.55281690140845, 4.522613065326642, 2.4622716441620396, 2.2271714922048824, 7.153075822603716, 4.053318824809571, 6.417112299465244, 8.560794044665009, 0.25188916876572875, 1.4749262536873253, 6.194137133570843, 10.365853658536594, 1.5662650602409567, 3.5885167464114742, 2.086956521739136, 5.159474671669773, 13.104838709677423, 1.1267605633802802, 1.5197568389057725, 7.878787878787885, 2.409638554216853, 14.388489208633114, 3.6152356358941207, 0.5780346820809301, 3.4782608695652195, 9.734513274336297, 2.482142857142855, 1.403508771929829, 8.875552747946935, 3.3414337788578274, 7.762557077625587, 4.278074866310155, 4.175824175824183, 7.50507099391482, 7.07182320441988, 5.196451204055763, 2.580645161290329, 0.652045050385297, 1.9169329073482455, 1.1603375527426074, 3.039288361749448, 8.857844642308876, 0.32017075773747017, 6.389157792836397, 6.694560669456062, 33.12101910828025, 2.006688963210679, 6.747709654686407, 5.285234899328861, 8.237232289950569, 1.7857142857143016, 1.829573934837092, 4.932735426008961, 5.825242718446599, 1.3559322033898313, 8.987269618088533, 4.269801980198018, 2.5510204081632626, 1.978021978021971, 13.291139240506332, 12.58036236119231, 4.7911547911547725, 0.3401360544217802, 0.8771929824561431, 0.7390202702702631, 1.359953703703698, 1.2891344383057168, 3.930635838150298, 0.3355704697986628, 2.4299065420560817, 4.784688995215314, 1.8156424581005526, 4.784688995215314, 6.826568265682664, 0.08103727714747766, 1.8255578093306246, -1.058201058201047, 11.838006230529597, 6.785714285714284, 3.5087719298245723, 6.976744186046502, 302.7932960893855, 1.747572815533971, 5.97439544807965, 3.066914498141271, 5.558643690939413, 7.409031126698817, 6.688963210702337, 2.2740193291642896, 11.302847282139773, 2.3405500292568604, 2.9498525073746285, 7.272727272727275, 7.751937984496116, 3.2090199479618553, 3.9597315436241676, 3.495440729483268, 0.5065123010130179, 5.629139072847678, 7.837837837837847, 14.147909967845651, 7.944915254237284, 2.6315789473684292, 3.1016042780748654, 16.68839634941328, 0.7923930269413626, 1.4513788098693858, 0.8408071748878809, 5.872756933115819, 1.1123470522803158, 1.0638297872340496, 0.32015590200444866, 2.0177494976557186, 7.30593607305936, 9.29951690821258, 1.2842465753424737, 1.2891344383057168, 0.6504065040650486, 6.5326633165829096, 3.7431765011697316, 19.428571428571416, 1.2958963282937441, 5.586592178770933, 1.273885350318471, 1.697792869269965, 34.22370617696158, 5.025125628140703, 12.210293115201099, 14.736842105263182, 3.949447077409163, 2.522522522522541, 1.0273972602739878, 1.3402061855670278, 1.6949152542372836, 7.30593607305936, 11.782032400589104, 3.744628606507061, 3.9597315436241676, 7.683741648106901, 4.534005037783362, 8.160421183028799, 7.395498392282951, 5.2795031055900665, 6.079027355623112, 12.792642140468224, 2.9121863799283165, 5.014326647564449, 4.157736819545654, 5.405405405405395, 6.295399515738498, 0.32379924446841457, 4.9342105263157965, 3.1894934333958735, 2.5735294117646967, 13.104838709677423, 9.795918367346923, 6.034482758620685, 6.547619047619024, 1.921368280764102, 0.96735187424426, 1.821493624772308, 3.244837758112107, 5.049088359046294, 5.920074349442395, 10.71428571428572, 8.075532342306136, 4.555808656036442, 2.1544715447154417, 3.6446469248291535, 9.664496745117667, 1.674641148325362, 0.962000962000964, 1.54034791938078, 5.025125628140703, 3.613777526821016, 9.02777777777779, 4.607508532423199, 19.49860724233985, 0.5037783375314797, 27.395715896279604, 18.867924528301884, 11.194029850746269, 3.1796502384737746, 4.776194048512128, 5.558643690939413, 6.68449197860963, 4.181184668989557, 1.823708206686936, 5.733662145499374, 6.959314775160608, 2.28013029315961, 4.563894523326573, 5.374280230326289, 3.312412831241285, 4.121475054229928, 4.825090470446325, 3.8985616956850766, 0.9195402298850519, 1.2039127163280705, 0.5966587112171684, 5.460750853242313, 2.6717557251908275, 9.099181073703377, 4.057971014492745, -1.0233918128654929, 0.8771929824561431, 6.486486486486487, 10.342442061570377, 2.110022607385087, 9.1324200913242, 0.11135857461024301, 3.1894934333958735, 4.835766423357657, 6.368186874304782, 7.809523809523822, 8.770883054892597, 4.749568221070799, 2.6666666666666616, 14.525139664804488, 3.438831405964704, 3.946666666666654, 275.39062499999994, 9.526699029126217, 4.532775453277549, 2.6168224299065512, 3.103180760279267, 2.4793388429751984, 11.421319796954311, 6.070713809206141, 6.055363321799301, 7.620199576655584, 0.6191950464396356, 2.6666666666666616, 1.5706806282722585, 6.970509383378021, 4.407294832826758, 13.676600767187974, 3.493449781659397, 12.797374897456937, 9.266600594648168, 4.446914952751535, 4.774370481176771, 4.405286343612325, 1.0135135135135087, 3.6144578313253017, 5.505415162454863, 4.016064257028096, 6.473533619456351, 15.200109649122817, 11.266620013995809, 2.126436781609198, 3.974397142006536, 4.499999999999993, 2.9498525073746285, 1.0994263862332598, 0.9536082474226992, 1.011235955056189, 0.1603849238171584, 7.704160246533132, 0.0, 5.067985166872679, 10.674157303370801, 4.402515723270417, 1.7071569271175369, 1.217038539553772, 8.08646917534026, 5.344152210408493, 2.4189397838394244, 5.30012771392081, 6.865912762520199, 8.032128514056215, 1.0894941634241206, 3.9231385108086547, 98.42105263157895, 10.244988864142535, 1.8255578093306246, 2.240143369175618, 5.025125628140703, 3.8610038610038755, 12.643847742696956, 0.16722408026754731, 4.449938195302838, 1.1267605633802802, 3.495440729483268, 6.743421052631571, 5.714285714285694, 3.8610038610038755, 9.268292682926859, 1.1450381679389166, 4.499999999999993, 16.114285714285703, 0.5950019833399489, 0.7575757575757569, 4.484304932735417, 3.8610038610038755, -1.2349588347055018, 11.447473937449871, 1.1267605633802802, 5.025125628140703, 2.4844720496894235, 9.733124018838302, 2.386451116243271, 5.031446540880502, 42.97994269340975, 31.42059553349874, 2.1164021164021163, 4.458598726114649, 0.4383218534752542, 0.3420752565564511, 4.534005037783362, 10.64506797801561, 6.428571428571428, 2.865329512893977, 6.239870340356579, 4.0979381443299046, 2.9498525073746285, 4.499999999999993, 13.27433628318584, 10.093896713615047, 1.407506702412853, 4.530201342281881, 2.646239554317531, 10.582010582010582, 9.698996655518389, 6.079027355623112, 2.0449897750511425, 14.328657314629245, 7.924263674614318, 8.557347670250891, 7.322325915290739, 2.0581113801452666, 1.2820512820512775, 12.765957446808507, 13.104838709677423, 1.6233766233766156, 2.4340770791074995, 4.508196721311464, 1.8821603927986708, 4.902416356877337, 10.472279260780294, 4.366812227074246, 6.318681318681318, 1.1272141706924366, 3.7878787878787845, 3.472222222222232, 0.3024193548387011, 6.357142857142861, 1.77121771217712, 3.144016227180524], \"y0\": \" \", \"yaxis\": \"y\"}],                        {\"boxmode\": \"group\", \"legend\": {\"tracegroupgap\": 0}, \"template\": {\"data\": {\"bar\": [{\"error_x\": {\"color\": \"#2a3f5f\"}, \"error_y\": {\"color\": \"#2a3f5f\"}, \"marker\": {\"line\": {\"color\": \"#E5ECF6\", \"width\": 0.5}}, \"type\": \"bar\"}], \"barpolar\": [{\"marker\": {\"line\": {\"color\": \"#E5ECF6\", \"width\": 0.5}}, \"type\": \"barpolar\"}], \"carpet\": [{\"aaxis\": {\"endlinecolor\": \"#2a3f5f\", \"gridcolor\": \"white\", \"linecolor\": \"white\", \"minorgridcolor\": \"white\", \"startlinecolor\": \"#2a3f5f\"}, \"baxis\": {\"endlinecolor\": \"#2a3f5f\", \"gridcolor\": \"white\", \"linecolor\": \"white\", \"minorgridcolor\": \"white\", \"startlinecolor\": \"#2a3f5f\"}, \"type\": \"carpet\"}], \"choropleth\": [{\"colorbar\": {\"outlinewidth\": 0, \"ticks\": \"\"}, \"type\": \"choropleth\"}], \"contour\": [{\"colorbar\": {\"outlinewidth\": 0, \"ticks\": \"\"}, \"colorscale\": [[0.0, \"#0d0887\"], [0.1111111111111111, \"#46039f\"], [0.2222222222222222, \"#7201a8\"], [0.3333333333333333, \"#9c179e\"], [0.4444444444444444, \"#bd3786\"], [0.5555555555555556, \"#d8576b\"], [0.6666666666666666, \"#ed7953\"], [0.7777777777777778, \"#fb9f3a\"], [0.8888888888888888, \"#fdca26\"], [1.0, \"#f0f921\"]], \"type\": \"contour\"}], \"contourcarpet\": [{\"colorbar\": {\"outlinewidth\": 0, \"ticks\": \"\"}, \"type\": \"contourcarpet\"}], \"heatmap\": [{\"colorbar\": {\"outlinewidth\": 0, \"ticks\": \"\"}, \"colorscale\": [[0.0, \"#0d0887\"], [0.1111111111111111, \"#46039f\"], [0.2222222222222222, \"#7201a8\"], [0.3333333333333333, \"#9c179e\"], [0.4444444444444444, \"#bd3786\"], [0.5555555555555556, \"#d8576b\"], [0.6666666666666666, \"#ed7953\"], [0.7777777777777778, \"#fb9f3a\"], [0.8888888888888888, \"#fdca26\"], [1.0, \"#f0f921\"]], \"type\": \"heatmap\"}], \"heatmapgl\": [{\"colorbar\": {\"outlinewidth\": 0, \"ticks\": \"\"}, \"colorscale\": [[0.0, \"#0d0887\"], [0.1111111111111111, \"#46039f\"], [0.2222222222222222, \"#7201a8\"], [0.3333333333333333, \"#9c179e\"], [0.4444444444444444, \"#bd3786\"], [0.5555555555555556, \"#d8576b\"], [0.6666666666666666, \"#ed7953\"], [0.7777777777777778, \"#fb9f3a\"], [0.8888888888888888, \"#fdca26\"], [1.0, \"#f0f921\"]], \"type\": \"heatmapgl\"}], \"histogram\": [{\"marker\": {\"colorbar\": {\"outlinewidth\": 0, \"ticks\": \"\"}}, \"type\": \"histogram\"}], \"histogram2d\": [{\"colorbar\": {\"outlinewidth\": 0, \"ticks\": \"\"}, \"colorscale\": [[0.0, \"#0d0887\"], [0.1111111111111111, \"#46039f\"], [0.2222222222222222, \"#7201a8\"], [0.3333333333333333, \"#9c179e\"], [0.4444444444444444, \"#bd3786\"], [0.5555555555555556, \"#d8576b\"], [0.6666666666666666, \"#ed7953\"], [0.7777777777777778, \"#fb9f3a\"], [0.8888888888888888, \"#fdca26\"], [1.0, \"#f0f921\"]], \"type\": \"histogram2d\"}], \"histogram2dcontour\": [{\"colorbar\": {\"outlinewidth\": 0, \"ticks\": \"\"}, \"colorscale\": [[0.0, \"#0d0887\"], [0.1111111111111111, \"#46039f\"], [0.2222222222222222, \"#7201a8\"], [0.3333333333333333, \"#9c179e\"], [0.4444444444444444, \"#bd3786\"], [0.5555555555555556, \"#d8576b\"], [0.6666666666666666, \"#ed7953\"], [0.7777777777777778, \"#fb9f3a\"], [0.8888888888888888, \"#fdca26\"], [1.0, \"#f0f921\"]], \"type\": \"histogram2dcontour\"}], \"mesh3d\": [{\"colorbar\": {\"outlinewidth\": 0, \"ticks\": \"\"}, \"type\": \"mesh3d\"}], \"parcoords\": [{\"line\": {\"colorbar\": {\"outlinewidth\": 0, \"ticks\": \"\"}}, \"type\": \"parcoords\"}], \"pie\": [{\"automargin\": true, \"type\": \"pie\"}], \"scatter\": [{\"marker\": {\"colorbar\": {\"outlinewidth\": 0, \"ticks\": \"\"}}, \"type\": \"scatter\"}], \"scatter3d\": [{\"line\": {\"colorbar\": {\"outlinewidth\": 0, \"ticks\": \"\"}}, \"marker\": {\"colorbar\": {\"outlinewidth\": 0, \"ticks\": \"\"}}, \"type\": \"scatter3d\"}], \"scattercarpet\": [{\"marker\": {\"colorbar\": {\"outlinewidth\": 0, \"ticks\": \"\"}}, \"type\": \"scattercarpet\"}], \"scattergeo\": [{\"marker\": {\"colorbar\": {\"outlinewidth\": 0, \"ticks\": \"\"}}, \"type\": \"scattergeo\"}], \"scattergl\": [{\"marker\": {\"colorbar\": {\"outlinewidth\": 0, \"ticks\": \"\"}}, \"type\": \"scattergl\"}], \"scattermapbox\": [{\"marker\": {\"colorbar\": {\"outlinewidth\": 0, \"ticks\": \"\"}}, \"type\": \"scattermapbox\"}], \"scatterpolar\": [{\"marker\": {\"colorbar\": {\"outlinewidth\": 0, \"ticks\": \"\"}}, \"type\": \"scatterpolar\"}], \"scatterpolargl\": [{\"marker\": {\"colorbar\": {\"outlinewidth\": 0, \"ticks\": \"\"}}, \"type\": \"scatterpolargl\"}], \"scatterternary\": [{\"marker\": {\"colorbar\": {\"outlinewidth\": 0, \"ticks\": \"\"}}, \"type\": \"scatterternary\"}], \"surface\": [{\"colorbar\": {\"outlinewidth\": 0, \"ticks\": \"\"}, \"colorscale\": [[0.0, \"#0d0887\"], [0.1111111111111111, \"#46039f\"], [0.2222222222222222, \"#7201a8\"], [0.3333333333333333, \"#9c179e\"], [0.4444444444444444, \"#bd3786\"], [0.5555555555555556, \"#d8576b\"], [0.6666666666666666, \"#ed7953\"], [0.7777777777777778, \"#fb9f3a\"], [0.8888888888888888, \"#fdca26\"], [1.0, \"#f0f921\"]], \"type\": \"surface\"}], \"table\": [{\"cells\": {\"fill\": {\"color\": \"#EBF0F8\"}, \"line\": {\"color\": \"white\"}}, \"header\": {\"fill\": {\"color\": \"#C8D4E3\"}, \"line\": {\"color\": \"white\"}}, \"type\": \"table\"}]}, \"layout\": {\"annotationdefaults\": {\"arrowcolor\": \"#2a3f5f\", \"arrowhead\": 0, \"arrowwidth\": 1}, \"autotypenumbers\": \"strict\", \"coloraxis\": {\"colorbar\": {\"outlinewidth\": 0, \"ticks\": \"\"}}, \"colorscale\": {\"diverging\": [[0, \"#8e0152\"], [0.1, \"#c51b7d\"], [0.2, \"#de77ae\"], [0.3, \"#f1b6da\"], [0.4, \"#fde0ef\"], [0.5, \"#f7f7f7\"], [0.6, \"#e6f5d0\"], [0.7, \"#b8e186\"], [0.8, \"#7fbc41\"], [0.9, \"#4d9221\"], [1, \"#276419\"]], \"sequential\": [[0.0, \"#0d0887\"], [0.1111111111111111, \"#46039f\"], [0.2222222222222222, \"#7201a8\"], [0.3333333333333333, \"#9c179e\"], [0.4444444444444444, \"#bd3786\"], [0.5555555555555556, \"#d8576b\"], [0.6666666666666666, \"#ed7953\"], [0.7777777777777778, \"#fb9f3a\"], [0.8888888888888888, \"#fdca26\"], [1.0, \"#f0f921\"]], \"sequentialminus\": [[0.0, \"#0d0887\"], [0.1111111111111111, \"#46039f\"], [0.2222222222222222, \"#7201a8\"], [0.3333333333333333, \"#9c179e\"], [0.4444444444444444, \"#bd3786\"], [0.5555555555555556, \"#d8576b\"], [0.6666666666666666, \"#ed7953\"], [0.7777777777777778, \"#fb9f3a\"], [0.8888888888888888, \"#fdca26\"], [1.0, \"#f0f921\"]]}, \"colorway\": [\"#636efa\", \"#EF553B\", \"#00cc96\", \"#ab63fa\", \"#FFA15A\", \"#19d3f3\", \"#FF6692\", \"#B6E880\", \"#FF97FF\", \"#FECB52\"], \"font\": {\"color\": \"#2a3f5f\"}, \"geo\": {\"bgcolor\": \"white\", \"lakecolor\": \"white\", \"landcolor\": \"#E5ECF6\", \"showlakes\": true, \"showland\": true, \"subunitcolor\": \"white\"}, \"hoverlabel\": {\"align\": \"left\"}, \"hovermode\": \"closest\", \"mapbox\": {\"style\": \"light\"}, \"paper_bgcolor\": \"white\", \"plot_bgcolor\": \"#E5ECF6\", \"polar\": {\"angularaxis\": {\"gridcolor\": \"white\", \"linecolor\": \"white\", \"ticks\": \"\"}, \"bgcolor\": \"#E5ECF6\", \"radialaxis\": {\"gridcolor\": \"white\", \"linecolor\": \"white\", \"ticks\": \"\"}}, \"scene\": {\"xaxis\": {\"backgroundcolor\": \"#E5ECF6\", \"gridcolor\": \"white\", \"gridwidth\": 2, \"linecolor\": \"white\", \"showbackground\": true, \"ticks\": \"\", \"zerolinecolor\": \"white\"}, \"yaxis\": {\"backgroundcolor\": \"#E5ECF6\", \"gridcolor\": \"white\", \"gridwidth\": 2, \"linecolor\": \"white\", \"showbackground\": true, \"ticks\": \"\", \"zerolinecolor\": \"white\"}, \"zaxis\": {\"backgroundcolor\": \"#E5ECF6\", \"gridcolor\": \"white\", \"gridwidth\": 2, \"linecolor\": \"white\", \"showbackground\": true, \"ticks\": \"\", \"zerolinecolor\": \"white\"}}, \"shapedefaults\": {\"line\": {\"color\": \"#2a3f5f\"}}, \"ternary\": {\"aaxis\": {\"gridcolor\": \"white\", \"linecolor\": \"white\", \"ticks\": \"\"}, \"baxis\": {\"gridcolor\": \"white\", \"linecolor\": \"white\", \"ticks\": \"\"}, \"bgcolor\": \"#E5ECF6\", \"caxis\": {\"gridcolor\": \"white\", \"linecolor\": \"white\", \"ticks\": \"\"}}, \"title\": {\"x\": 0.05}, \"xaxis\": {\"automargin\": true, \"gridcolor\": \"white\", \"linecolor\": \"white\", \"ticks\": \"\", \"title\": {\"standoff\": 15}, \"zerolinecolor\": \"white\", \"zerolinewidth\": 2}, \"yaxis\": {\"automargin\": true, \"gridcolor\": \"white\", \"linecolor\": \"white\", \"ticks\": \"\", \"title\": {\"standoff\": 15}, \"zerolinecolor\": \"white\", \"zerolinewidth\": 2}}}, \"title\": {\"text\": \"uplift Boxplot\"}, \"xaxis\": {\"anchor\": \"y\", \"domain\": [0.0, 1.0]}, \"yaxis\": {\"anchor\": \"x\", \"domain\": [0.0, 1.0], \"title\": {\"text\": \"uplift Amount\"}}},                        {\"responsive\": true}                    ).then(function(){\n",
       "                            \n",
       "var gd = document.getElementById('1eef8a5f-dc28-4039-90f0-a6f622d3b98c');\n",
       "var x = new MutationObserver(function (mutations, observer) {{\n",
       "        var display = window.getComputedStyle(gd).display;\n",
       "        if (!display || display === 'none') {{\n",
       "            console.log([gd, 'removed!']);\n",
       "            Plotly.purge(gd);\n",
       "            observer.disconnect();\n",
       "        }}\n",
       "}});\n",
       "\n",
       "// Listen for the removal of the full notebook cells\n",
       "var notebookContainer = gd.closest('#notebook-container');\n",
       "if (notebookContainer) {{\n",
       "    x.observe(notebookContainer, {childList: true});\n",
       "}}\n",
       "\n",
       "// Listen for the clearing of the current output cell\n",
       "var outputEl = gd.closest('.output');\n",
       "if (outputEl) {{\n",
       "    x.observe(outputEl, {childList: true});\n",
       "}}\n",
       "\n",
       "                        })                };                });            </script>        </div>"
      ]
     },
     "metadata": {},
     "output_type": "display_data"
    }
   ],
   "source": [
    "# Create a boxplot\n",
    "fig = px.box(df_x, y='uplift', title='uplift Boxplot', labels={'uplift': 'uplift Amount'})\n",
    "\n",
    "# Show the plot\n",
    "fig.show()"
   ]
  },
  {
   "cell_type": "code",
   "execution_count": 62,
   "metadata": {},
   "outputs": [
    {
     "data": {
      "text/plain": [
       "city\n",
       "BHZ    0.364609\n",
       "CWB    0.265797\n",
       "SPO    0.400690\n",
       "VCP    0.271372\n",
       "Name: gmv_mix, dtype: float64"
      ]
     },
     "execution_count": 62,
     "metadata": {},
     "output_type": "execute_result"
    }
   ],
   "source": [
    "df_x.groupby('city').gmv_mix.sum()"
   ]
  },
  {
   "cell_type": "code",
   "execution_count": 57,
   "metadata": {},
   "outputs": [
    {
     "data": {
      "application/vnd.plotly.v1+json": {
       "config": {
        "plotlyServerURL": "https://plot.ly"
       },
       "data": [
        {
         "alignmentgroup": "True",
         "hovertemplate": "mean_edpv Amount=%{y}<extra></extra>",
         "legendgroup": "",
         "marker": {
          "color": "#636efa"
         },
         "name": "",
         "notched": false,
         "offsetgroup": "",
         "orientation": "v",
         "showlegend": false,
         "type": "box",
         "x0": " ",
         "xaxis": "x",
         "y": [
          0.0650407342209795,
          0.0288262890049118,
          0.0987557056067046,
          0.1042631315388337,
          0.0465387447567414,
          0.0689159938384454,
          0.118922042852673,
          0.0637247025451729,
          0.0933029715391873,
          0.1528957622316146,
          0.0691801001264313,
          0.1337579377263937,
          null,
          null,
          null,
          null,
          null,
          0.0947106506999155,
          null,
          0.1120088578641353,
          null,
          null,
          null,
          null,
          0.179472837358312,
          0.037140661734477,
          null,
          null,
          0.1012901597206739,
          null,
          0.0393103312162757,
          null,
          0.0120865310104572,
          null,
          0.0075809648864583,
          0.0698995536802486,
          null,
          null,
          0.0156280324922541,
          0.0385265959216199,
          null,
          0.0148363210443327,
          0.0143302219773339,
          null,
          0.0996131770567683,
          0.0237542601302521,
          0.0207108716520581,
          null,
          0.1374562721721058,
          0.0388102525343107,
          0.0336585919156289,
          0.0386301204906176,
          0.0258000276548623,
          0.0226106132345841,
          0.0273426292564784,
          0.009025005591803,
          0.0428926245197333,
          null,
          0.0061864499140706,
          0.1063101678755799,
          null,
          null,
          null,
          null,
          0.0279297009557455,
          0.0981545712783899,
          0.0259367941821407,
          null,
          0.0230126015496082,
          null,
          0.0639837040286269,
          0.0651478755020144,
          null,
          0.0383086855451124,
          null,
          null,
          null,
          null,
          0.0732394748327454,
          null,
          null,
          0.0437607834342086,
          null,
          0.0461898588246612,
          null,
          null,
          0.0225602656138716,
          0.0275893515778566,
          null,
          null,
          null,
          null,
          null,
          0.0054685276331446,
          null,
          0.0474282278014726,
          0.0692149447120206,
          0.1440636985936248,
          0.1436800688471547,
          null,
          null,
          null,
          null,
          null,
          null,
          null,
          null,
          null,
          0.1201684745645633,
          0.0055548969973392,
          0.0581247321041202,
          null,
          null,
          null,
          null,
          0.0278996189744656,
          null,
          null,
          null,
          null,
          null,
          null,
          null,
          null,
          null,
          null,
          null,
          null,
          0.0231635180603178,
          0.0571922560181865,
          0.0174668301662426,
          0.0545274900151829,
          0.0607082438600927,
          null,
          null,
          0.0044505955277185,
          0.1246049300627826,
          0.0298230637477217,
          0.0127729637835231,
          0.0659168783915069,
          null,
          null,
          null,
          null,
          null,
          null,
          null,
          null,
          null,
          0.0458636801974572,
          0.1008069598222707,
          0.0396482704158569,
          0.0505921323920367,
          0.0278987867125982,
          0.0135237410841887,
          null,
          null,
          0.0130861036435652,
          0.0012728530187166,
          0.0201672565250721,
          0.0525966883630779,
          0.1396531933561249,
          null,
          null,
          null,
          null,
          0.0585046289497536,
          0.0178622152318085,
          0.0037603510069861,
          0.0191201765574704,
          0.0257218470910543,
          null,
          0.0276708206569454,
          0.0473824095255131,
          0.1221500896248531,
          null,
          0.0407417387886351,
          0.0351591957024828,
          0.0878169619964673,
          0.012124403200282,
          0.0807483402115191,
          0.1018678826953088,
          0.033184791600328,
          0.0357349447691388,
          0.1462632564101952,
          0.0368117152037882,
          0.0635489391495084,
          null,
          0.1365372514351444,
          0.0522039590836664,
          null,
          null,
          0.0166705519940916,
          null,
          0.0161628328637888,
          0.0388225998849688,
          0.0162213850873123,
          0.0447473108951727,
          0.0400467721664165,
          0.0028052699458414,
          0.0996749576693766,
          null,
          null,
          null,
          0.0403328932419392,
          null,
          0.0317445187578576,
          null,
          null,
          null,
          0.1075800768065688,
          null,
          null,
          null,
          0.0280549844367456,
          0.0224583026129524,
          0.0246841342794422,
          null,
          null,
          null,
          null,
          null,
          0.0264476547516766,
          null,
          null,
          null,
          0.0191105418873535,
          null,
          null,
          null,
          null,
          null,
          null,
          null,
          null,
          null,
          0.0594751138866617,
          0.109694266654631,
          null,
          0.0849950098971412,
          0.0198025057229328,
          0.0133847189638588,
          null,
          0.0149455161986495,
          0.0243223088332836,
          null,
          0.0633321637085696,
          0.0138644237085131,
          null,
          null,
          0.1346278298283456,
          0.1483858395327444,
          0.0673973250666806,
          0.0637411921996117,
          0.0359745410921947,
          0.0867136018620263,
          null,
          null,
          0.0610259954992875,
          null,
          null,
          0.1692545329629929,
          null,
          null,
          0.0067471645060413,
          null,
          null,
          null,
          0.0186259995015913,
          0.0305235071035817,
          0.0243386970084265,
          0.0886776952456534,
          0.043800741314318,
          null,
          null,
          null,
          0.0475574528067595,
          null,
          null,
          null,
          null,
          null,
          null,
          null,
          null,
          null,
          null,
          0.15168580753296,
          0.0211730506568648,
          0.0265882774642058,
          null,
          0.0444402517205997,
          null,
          null,
          0.0481672139599278,
          0.0087539043954531,
          0.0181248030820382,
          null,
          0.0502316333338744,
          null,
          0.2396649762699843,
          0.0134744392583216,
          null,
          0.0258211977207085,
          0.1166375558502587,
          null,
          null,
          0.0439664208186003,
          0.1022904766897318,
          0.0341822054065236,
          0.0580048977569558,
          0.1274810922847077,
          null,
          0.0189909400249042,
          0.0164838534730182,
          0.1156738112352123,
          null,
          null,
          null,
          0.0417329451163277,
          0.0617317783210518,
          0.0175382893374418,
          null,
          null,
          null,
          null,
          null,
          null,
          0.0820513388521275,
          null,
          0.0303525635072461,
          0.0147301469437937,
          null,
          null,
          null,
          0.1182098197637291,
          null,
          0.0714268848441767,
          null,
          0.0325396352521809,
          0.0300396838566257,
          null,
          null,
          null,
          null,
          null,
          null,
          0.0655156235775737,
          0.1106059210986722,
          0.0534114303886376,
          null,
          null,
          null,
          null,
          null,
          null,
          null,
          null,
          null
         ],
         "y0": " ",
         "yaxis": "y"
        }
       ],
       "layout": {
        "boxmode": "group",
        "legend": {
         "tracegroupgap": 0
        },
        "template": {
         "data": {
          "bar": [
           {
            "error_x": {
             "color": "#2a3f5f"
            },
            "error_y": {
             "color": "#2a3f5f"
            },
            "marker": {
             "line": {
              "color": "#E5ECF6",
              "width": 0.5
             }
            },
            "type": "bar"
           }
          ],
          "barpolar": [
           {
            "marker": {
             "line": {
              "color": "#E5ECF6",
              "width": 0.5
             }
            },
            "type": "barpolar"
           }
          ],
          "carpet": [
           {
            "aaxis": {
             "endlinecolor": "#2a3f5f",
             "gridcolor": "white",
             "linecolor": "white",
             "minorgridcolor": "white",
             "startlinecolor": "#2a3f5f"
            },
            "baxis": {
             "endlinecolor": "#2a3f5f",
             "gridcolor": "white",
             "linecolor": "white",
             "minorgridcolor": "white",
             "startlinecolor": "#2a3f5f"
            },
            "type": "carpet"
           }
          ],
          "choropleth": [
           {
            "colorbar": {
             "outlinewidth": 0,
             "ticks": ""
            },
            "type": "choropleth"
           }
          ],
          "contour": [
           {
            "colorbar": {
             "outlinewidth": 0,
             "ticks": ""
            },
            "colorscale": [
             [
              0,
              "#0d0887"
             ],
             [
              0.1111111111111111,
              "#46039f"
             ],
             [
              0.2222222222222222,
              "#7201a8"
             ],
             [
              0.3333333333333333,
              "#9c179e"
             ],
             [
              0.4444444444444444,
              "#bd3786"
             ],
             [
              0.5555555555555556,
              "#d8576b"
             ],
             [
              0.6666666666666666,
              "#ed7953"
             ],
             [
              0.7777777777777778,
              "#fb9f3a"
             ],
             [
              0.8888888888888888,
              "#fdca26"
             ],
             [
              1,
              "#f0f921"
             ]
            ],
            "type": "contour"
           }
          ],
          "contourcarpet": [
           {
            "colorbar": {
             "outlinewidth": 0,
             "ticks": ""
            },
            "type": "contourcarpet"
           }
          ],
          "heatmap": [
           {
            "colorbar": {
             "outlinewidth": 0,
             "ticks": ""
            },
            "colorscale": [
             [
              0,
              "#0d0887"
             ],
             [
              0.1111111111111111,
              "#46039f"
             ],
             [
              0.2222222222222222,
              "#7201a8"
             ],
             [
              0.3333333333333333,
              "#9c179e"
             ],
             [
              0.4444444444444444,
              "#bd3786"
             ],
             [
              0.5555555555555556,
              "#d8576b"
             ],
             [
              0.6666666666666666,
              "#ed7953"
             ],
             [
              0.7777777777777778,
              "#fb9f3a"
             ],
             [
              0.8888888888888888,
              "#fdca26"
             ],
             [
              1,
              "#f0f921"
             ]
            ],
            "type": "heatmap"
           }
          ],
          "heatmapgl": [
           {
            "colorbar": {
             "outlinewidth": 0,
             "ticks": ""
            },
            "colorscale": [
             [
              0,
              "#0d0887"
             ],
             [
              0.1111111111111111,
              "#46039f"
             ],
             [
              0.2222222222222222,
              "#7201a8"
             ],
             [
              0.3333333333333333,
              "#9c179e"
             ],
             [
              0.4444444444444444,
              "#bd3786"
             ],
             [
              0.5555555555555556,
              "#d8576b"
             ],
             [
              0.6666666666666666,
              "#ed7953"
             ],
             [
              0.7777777777777778,
              "#fb9f3a"
             ],
             [
              0.8888888888888888,
              "#fdca26"
             ],
             [
              1,
              "#f0f921"
             ]
            ],
            "type": "heatmapgl"
           }
          ],
          "histogram": [
           {
            "marker": {
             "colorbar": {
              "outlinewidth": 0,
              "ticks": ""
             }
            },
            "type": "histogram"
           }
          ],
          "histogram2d": [
           {
            "colorbar": {
             "outlinewidth": 0,
             "ticks": ""
            },
            "colorscale": [
             [
              0,
              "#0d0887"
             ],
             [
              0.1111111111111111,
              "#46039f"
             ],
             [
              0.2222222222222222,
              "#7201a8"
             ],
             [
              0.3333333333333333,
              "#9c179e"
             ],
             [
              0.4444444444444444,
              "#bd3786"
             ],
             [
              0.5555555555555556,
              "#d8576b"
             ],
             [
              0.6666666666666666,
              "#ed7953"
             ],
             [
              0.7777777777777778,
              "#fb9f3a"
             ],
             [
              0.8888888888888888,
              "#fdca26"
             ],
             [
              1,
              "#f0f921"
             ]
            ],
            "type": "histogram2d"
           }
          ],
          "histogram2dcontour": [
           {
            "colorbar": {
             "outlinewidth": 0,
             "ticks": ""
            },
            "colorscale": [
             [
              0,
              "#0d0887"
             ],
             [
              0.1111111111111111,
              "#46039f"
             ],
             [
              0.2222222222222222,
              "#7201a8"
             ],
             [
              0.3333333333333333,
              "#9c179e"
             ],
             [
              0.4444444444444444,
              "#bd3786"
             ],
             [
              0.5555555555555556,
              "#d8576b"
             ],
             [
              0.6666666666666666,
              "#ed7953"
             ],
             [
              0.7777777777777778,
              "#fb9f3a"
             ],
             [
              0.8888888888888888,
              "#fdca26"
             ],
             [
              1,
              "#f0f921"
             ]
            ],
            "type": "histogram2dcontour"
           }
          ],
          "mesh3d": [
           {
            "colorbar": {
             "outlinewidth": 0,
             "ticks": ""
            },
            "type": "mesh3d"
           }
          ],
          "parcoords": [
           {
            "line": {
             "colorbar": {
              "outlinewidth": 0,
              "ticks": ""
             }
            },
            "type": "parcoords"
           }
          ],
          "pie": [
           {
            "automargin": true,
            "type": "pie"
           }
          ],
          "scatter": [
           {
            "marker": {
             "colorbar": {
              "outlinewidth": 0,
              "ticks": ""
             }
            },
            "type": "scatter"
           }
          ],
          "scatter3d": [
           {
            "line": {
             "colorbar": {
              "outlinewidth": 0,
              "ticks": ""
             }
            },
            "marker": {
             "colorbar": {
              "outlinewidth": 0,
              "ticks": ""
             }
            },
            "type": "scatter3d"
           }
          ],
          "scattercarpet": [
           {
            "marker": {
             "colorbar": {
              "outlinewidth": 0,
              "ticks": ""
             }
            },
            "type": "scattercarpet"
           }
          ],
          "scattergeo": [
           {
            "marker": {
             "colorbar": {
              "outlinewidth": 0,
              "ticks": ""
             }
            },
            "type": "scattergeo"
           }
          ],
          "scattergl": [
           {
            "marker": {
             "colorbar": {
              "outlinewidth": 0,
              "ticks": ""
             }
            },
            "type": "scattergl"
           }
          ],
          "scattermapbox": [
           {
            "marker": {
             "colorbar": {
              "outlinewidth": 0,
              "ticks": ""
             }
            },
            "type": "scattermapbox"
           }
          ],
          "scatterpolar": [
           {
            "marker": {
             "colorbar": {
              "outlinewidth": 0,
              "ticks": ""
             }
            },
            "type": "scatterpolar"
           }
          ],
          "scatterpolargl": [
           {
            "marker": {
             "colorbar": {
              "outlinewidth": 0,
              "ticks": ""
             }
            },
            "type": "scatterpolargl"
           }
          ],
          "scatterternary": [
           {
            "marker": {
             "colorbar": {
              "outlinewidth": 0,
              "ticks": ""
             }
            },
            "type": "scatterternary"
           }
          ],
          "surface": [
           {
            "colorbar": {
             "outlinewidth": 0,
             "ticks": ""
            },
            "colorscale": [
             [
              0,
              "#0d0887"
             ],
             [
              0.1111111111111111,
              "#46039f"
             ],
             [
              0.2222222222222222,
              "#7201a8"
             ],
             [
              0.3333333333333333,
              "#9c179e"
             ],
             [
              0.4444444444444444,
              "#bd3786"
             ],
             [
              0.5555555555555556,
              "#d8576b"
             ],
             [
              0.6666666666666666,
              "#ed7953"
             ],
             [
              0.7777777777777778,
              "#fb9f3a"
             ],
             [
              0.8888888888888888,
              "#fdca26"
             ],
             [
              1,
              "#f0f921"
             ]
            ],
            "type": "surface"
           }
          ],
          "table": [
           {
            "cells": {
             "fill": {
              "color": "#EBF0F8"
             },
             "line": {
              "color": "white"
             }
            },
            "header": {
             "fill": {
              "color": "#C8D4E3"
             },
             "line": {
              "color": "white"
             }
            },
            "type": "table"
           }
          ]
         },
         "layout": {
          "annotationdefaults": {
           "arrowcolor": "#2a3f5f",
           "arrowhead": 0,
           "arrowwidth": 1
          },
          "autotypenumbers": "strict",
          "coloraxis": {
           "colorbar": {
            "outlinewidth": 0,
            "ticks": ""
           }
          },
          "colorscale": {
           "diverging": [
            [
             0,
             "#8e0152"
            ],
            [
             0.1,
             "#c51b7d"
            ],
            [
             0.2,
             "#de77ae"
            ],
            [
             0.3,
             "#f1b6da"
            ],
            [
             0.4,
             "#fde0ef"
            ],
            [
             0.5,
             "#f7f7f7"
            ],
            [
             0.6,
             "#e6f5d0"
            ],
            [
             0.7,
             "#b8e186"
            ],
            [
             0.8,
             "#7fbc41"
            ],
            [
             0.9,
             "#4d9221"
            ],
            [
             1,
             "#276419"
            ]
           ],
           "sequential": [
            [
             0,
             "#0d0887"
            ],
            [
             0.1111111111111111,
             "#46039f"
            ],
            [
             0.2222222222222222,
             "#7201a8"
            ],
            [
             0.3333333333333333,
             "#9c179e"
            ],
            [
             0.4444444444444444,
             "#bd3786"
            ],
            [
             0.5555555555555556,
             "#d8576b"
            ],
            [
             0.6666666666666666,
             "#ed7953"
            ],
            [
             0.7777777777777778,
             "#fb9f3a"
            ],
            [
             0.8888888888888888,
             "#fdca26"
            ],
            [
             1,
             "#f0f921"
            ]
           ],
           "sequentialminus": [
            [
             0,
             "#0d0887"
            ],
            [
             0.1111111111111111,
             "#46039f"
            ],
            [
             0.2222222222222222,
             "#7201a8"
            ],
            [
             0.3333333333333333,
             "#9c179e"
            ],
            [
             0.4444444444444444,
             "#bd3786"
            ],
            [
             0.5555555555555556,
             "#d8576b"
            ],
            [
             0.6666666666666666,
             "#ed7953"
            ],
            [
             0.7777777777777778,
             "#fb9f3a"
            ],
            [
             0.8888888888888888,
             "#fdca26"
            ],
            [
             1,
             "#f0f921"
            ]
           ]
          },
          "colorway": [
           "#636efa",
           "#EF553B",
           "#00cc96",
           "#ab63fa",
           "#FFA15A",
           "#19d3f3",
           "#FF6692",
           "#B6E880",
           "#FF97FF",
           "#FECB52"
          ],
          "font": {
           "color": "#2a3f5f"
          },
          "geo": {
           "bgcolor": "white",
           "lakecolor": "white",
           "landcolor": "#E5ECF6",
           "showlakes": true,
           "showland": true,
           "subunitcolor": "white"
          },
          "hoverlabel": {
           "align": "left"
          },
          "hovermode": "closest",
          "mapbox": {
           "style": "light"
          },
          "paper_bgcolor": "white",
          "plot_bgcolor": "#E5ECF6",
          "polar": {
           "angularaxis": {
            "gridcolor": "white",
            "linecolor": "white",
            "ticks": ""
           },
           "bgcolor": "#E5ECF6",
           "radialaxis": {
            "gridcolor": "white",
            "linecolor": "white",
            "ticks": ""
           }
          },
          "scene": {
           "xaxis": {
            "backgroundcolor": "#E5ECF6",
            "gridcolor": "white",
            "gridwidth": 2,
            "linecolor": "white",
            "showbackground": true,
            "ticks": "",
            "zerolinecolor": "white"
           },
           "yaxis": {
            "backgroundcolor": "#E5ECF6",
            "gridcolor": "white",
            "gridwidth": 2,
            "linecolor": "white",
            "showbackground": true,
            "ticks": "",
            "zerolinecolor": "white"
           },
           "zaxis": {
            "backgroundcolor": "#E5ECF6",
            "gridcolor": "white",
            "gridwidth": 2,
            "linecolor": "white",
            "showbackground": true,
            "ticks": "",
            "zerolinecolor": "white"
           }
          },
          "shapedefaults": {
           "line": {
            "color": "#2a3f5f"
           }
          },
          "ternary": {
           "aaxis": {
            "gridcolor": "white",
            "linecolor": "white",
            "ticks": ""
           },
           "baxis": {
            "gridcolor": "white",
            "linecolor": "white",
            "ticks": ""
           },
           "bgcolor": "#E5ECF6",
           "caxis": {
            "gridcolor": "white",
            "linecolor": "white",
            "ticks": ""
           }
          },
          "title": {
           "x": 0.05
          },
          "xaxis": {
           "automargin": true,
           "gridcolor": "white",
           "linecolor": "white",
           "ticks": "",
           "title": {
            "standoff": 15
           },
           "zerolinecolor": "white",
           "zerolinewidth": 2
          },
          "yaxis": {
           "automargin": true,
           "gridcolor": "white",
           "linecolor": "white",
           "ticks": "",
           "title": {
            "standoff": 15
           },
           "zerolinecolor": "white",
           "zerolinewidth": 2
          }
         }
        },
        "title": {
         "text": "mean_edpv Boxplot"
        },
        "xaxis": {
         "anchor": "y",
         "domain": [
          0,
          1
         ]
        },
        "yaxis": {
         "anchor": "x",
         "domain": [
          0,
          1
         ],
         "title": {
          "text": "mean_edpv Amount"
         }
        }
       }
      },
      "text/html": [
       "<div>                            <div id=\"af3a3b02-332a-44c8-9ebb-c6c8a38ceb13\" class=\"plotly-graph-div\" style=\"height:525px; width:100%;\"></div>            <script type=\"text/javascript\">                require([\"plotly\"], function(Plotly) {                    window.PLOTLYENV=window.PLOTLYENV || {};                                    if (document.getElementById(\"af3a3b02-332a-44c8-9ebb-c6c8a38ceb13\")) {                    Plotly.newPlot(                        \"af3a3b02-332a-44c8-9ebb-c6c8a38ceb13\",                        [{\"alignmentgroup\": \"True\", \"hovertemplate\": \"mean_edpv Amount=%{y}<extra></extra>\", \"legendgroup\": \"\", \"marker\": {\"color\": \"#636efa\"}, \"name\": \"\", \"notched\": false, \"offsetgroup\": \"\", \"orientation\": \"v\", \"showlegend\": false, \"type\": \"box\", \"x0\": \" \", \"xaxis\": \"x\", \"y\": [0.0650407342209795, 0.0288262890049118, 0.0987557056067046, 0.1042631315388337, 0.0465387447567414, 0.0689159938384454, 0.118922042852673, 0.0637247025451729, 0.0933029715391873, 0.1528957622316146, 0.0691801001264313, 0.1337579377263937, null, null, null, null, null, 0.0947106506999155, null, 0.1120088578641353, null, null, null, null, 0.179472837358312, 0.037140661734477, null, null, 0.1012901597206739, null, 0.0393103312162757, null, 0.0120865310104572, null, 0.0075809648864583, 0.0698995536802486, null, null, 0.0156280324922541, 0.0385265959216199, null, 0.0148363210443327, 0.0143302219773339, null, 0.0996131770567683, 0.0237542601302521, 0.0207108716520581, null, 0.1374562721721058, 0.0388102525343107, 0.0336585919156289, 0.0386301204906176, 0.0258000276548623, 0.0226106132345841, 0.0273426292564784, 0.009025005591803, 0.0428926245197333, null, 0.0061864499140706, 0.1063101678755799, null, null, null, null, 0.0279297009557455, 0.0981545712783899, 0.0259367941821407, null, 0.0230126015496082, null, 0.0639837040286269, 0.0651478755020144, null, 0.0383086855451124, null, null, null, null, 0.0732394748327454, null, null, 0.0437607834342086, null, 0.0461898588246612, null, null, 0.0225602656138716, 0.0275893515778566, null, null, null, null, null, 0.0054685276331446, null, 0.0474282278014726, 0.0692149447120206, 0.1440636985936248, 0.1436800688471547, null, null, null, null, null, null, null, null, null, 0.1201684745645633, 0.0055548969973392, 0.0581247321041202, null, null, null, null, 0.0278996189744656, null, null, null, null, null, null, null, null, null, null, null, null, 0.0231635180603178, 0.0571922560181865, 0.0174668301662426, 0.0545274900151829, 0.0607082438600927, null, null, 0.0044505955277185, 0.1246049300627826, 0.0298230637477217, 0.0127729637835231, 0.0659168783915069, null, null, null, null, null, null, null, null, null, 0.0458636801974572, 0.1008069598222707, 0.0396482704158569, 0.0505921323920367, 0.0278987867125982, 0.0135237410841887, null, null, 0.0130861036435652, 0.0012728530187166, 0.0201672565250721, 0.0525966883630779, 0.1396531933561249, null, null, null, null, 0.0585046289497536, 0.0178622152318085, 0.0037603510069861, 0.0191201765574704, 0.0257218470910543, null, 0.0276708206569454, 0.0473824095255131, 0.1221500896248531, null, 0.0407417387886351, 0.0351591957024828, 0.0878169619964673, 0.012124403200282, 0.0807483402115191, 0.1018678826953088, 0.033184791600328, 0.0357349447691388, 0.1462632564101952, 0.0368117152037882, 0.0635489391495084, null, 0.1365372514351444, 0.0522039590836664, null, null, 0.0166705519940916, null, 0.0161628328637888, 0.0388225998849688, 0.0162213850873123, 0.0447473108951727, 0.0400467721664165, 0.0028052699458414, 0.0996749576693766, null, null, null, 0.0403328932419392, null, 0.0317445187578576, null, null, null, 0.1075800768065688, null, null, null, 0.0280549844367456, 0.0224583026129524, 0.0246841342794422, null, null, null, null, null, 0.0264476547516766, null, null, null, 0.0191105418873535, null, null, null, null, null, null, null, null, null, 0.0594751138866617, 0.109694266654631, null, 0.0849950098971412, 0.0198025057229328, 0.0133847189638588, null, 0.0149455161986495, 0.0243223088332836, null, 0.0633321637085696, 0.0138644237085131, null, null, 0.1346278298283456, 0.1483858395327444, 0.0673973250666806, 0.0637411921996117, 0.0359745410921947, 0.0867136018620263, null, null, 0.0610259954992875, null, null, 0.1692545329629929, null, null, 0.0067471645060413, null, null, null, 0.0186259995015913, 0.0305235071035817, 0.0243386970084265, 0.0886776952456534, 0.043800741314318, null, null, null, 0.0475574528067595, null, null, null, null, null, null, null, null, null, null, 0.15168580753296, 0.0211730506568648, 0.0265882774642058, null, 0.0444402517205997, null, null, 0.0481672139599278, 0.0087539043954531, 0.0181248030820382, null, 0.0502316333338744, null, 0.2396649762699843, 0.0134744392583216, null, 0.0258211977207085, 0.1166375558502587, null, null, 0.0439664208186003, 0.1022904766897318, 0.0341822054065236, 0.0580048977569558, 0.1274810922847077, null, 0.0189909400249042, 0.0164838534730182, 0.1156738112352123, null, null, null, 0.0417329451163277, 0.0617317783210518, 0.0175382893374418, null, null, null, null, null, null, 0.0820513388521275, null, 0.0303525635072461, 0.0147301469437937, null, null, null, 0.1182098197637291, null, 0.0714268848441767, null, 0.0325396352521809, 0.0300396838566257, null, null, null, null, null, null, 0.0655156235775737, 0.1106059210986722, 0.0534114303886376, null, null, null, null, null, null, null, null, null], \"y0\": \" \", \"yaxis\": \"y\"}],                        {\"boxmode\": \"group\", \"legend\": {\"tracegroupgap\": 0}, \"template\": {\"data\": {\"bar\": [{\"error_x\": {\"color\": \"#2a3f5f\"}, \"error_y\": {\"color\": \"#2a3f5f\"}, \"marker\": {\"line\": {\"color\": \"#E5ECF6\", \"width\": 0.5}}, \"type\": \"bar\"}], \"barpolar\": [{\"marker\": {\"line\": {\"color\": \"#E5ECF6\", \"width\": 0.5}}, \"type\": \"barpolar\"}], \"carpet\": [{\"aaxis\": {\"endlinecolor\": \"#2a3f5f\", \"gridcolor\": \"white\", \"linecolor\": \"white\", \"minorgridcolor\": \"white\", \"startlinecolor\": \"#2a3f5f\"}, \"baxis\": {\"endlinecolor\": \"#2a3f5f\", \"gridcolor\": \"white\", \"linecolor\": \"white\", \"minorgridcolor\": \"white\", \"startlinecolor\": \"#2a3f5f\"}, \"type\": \"carpet\"}], \"choropleth\": [{\"colorbar\": {\"outlinewidth\": 0, \"ticks\": \"\"}, \"type\": \"choropleth\"}], \"contour\": [{\"colorbar\": {\"outlinewidth\": 0, \"ticks\": \"\"}, \"colorscale\": [[0.0, \"#0d0887\"], [0.1111111111111111, \"#46039f\"], [0.2222222222222222, \"#7201a8\"], [0.3333333333333333, \"#9c179e\"], [0.4444444444444444, \"#bd3786\"], [0.5555555555555556, \"#d8576b\"], [0.6666666666666666, \"#ed7953\"], [0.7777777777777778, \"#fb9f3a\"], [0.8888888888888888, \"#fdca26\"], [1.0, \"#f0f921\"]], \"type\": \"contour\"}], \"contourcarpet\": [{\"colorbar\": {\"outlinewidth\": 0, \"ticks\": \"\"}, \"type\": \"contourcarpet\"}], \"heatmap\": [{\"colorbar\": {\"outlinewidth\": 0, \"ticks\": \"\"}, \"colorscale\": [[0.0, \"#0d0887\"], [0.1111111111111111, \"#46039f\"], [0.2222222222222222, \"#7201a8\"], [0.3333333333333333, \"#9c179e\"], [0.4444444444444444, \"#bd3786\"], [0.5555555555555556, \"#d8576b\"], [0.6666666666666666, \"#ed7953\"], [0.7777777777777778, \"#fb9f3a\"], [0.8888888888888888, \"#fdca26\"], [1.0, \"#f0f921\"]], \"type\": \"heatmap\"}], \"heatmapgl\": [{\"colorbar\": {\"outlinewidth\": 0, \"ticks\": \"\"}, \"colorscale\": [[0.0, \"#0d0887\"], [0.1111111111111111, \"#46039f\"], [0.2222222222222222, \"#7201a8\"], [0.3333333333333333, \"#9c179e\"], [0.4444444444444444, \"#bd3786\"], [0.5555555555555556, \"#d8576b\"], [0.6666666666666666, \"#ed7953\"], [0.7777777777777778, \"#fb9f3a\"], [0.8888888888888888, \"#fdca26\"], [1.0, \"#f0f921\"]], \"type\": \"heatmapgl\"}], \"histogram\": [{\"marker\": {\"colorbar\": {\"outlinewidth\": 0, \"ticks\": \"\"}}, \"type\": \"histogram\"}], \"histogram2d\": [{\"colorbar\": {\"outlinewidth\": 0, \"ticks\": \"\"}, \"colorscale\": [[0.0, \"#0d0887\"], [0.1111111111111111, \"#46039f\"], [0.2222222222222222, \"#7201a8\"], [0.3333333333333333, \"#9c179e\"], [0.4444444444444444, \"#bd3786\"], [0.5555555555555556, \"#d8576b\"], [0.6666666666666666, \"#ed7953\"], [0.7777777777777778, \"#fb9f3a\"], [0.8888888888888888, \"#fdca26\"], [1.0, \"#f0f921\"]], \"type\": \"histogram2d\"}], \"histogram2dcontour\": [{\"colorbar\": {\"outlinewidth\": 0, \"ticks\": \"\"}, \"colorscale\": [[0.0, \"#0d0887\"], [0.1111111111111111, \"#46039f\"], [0.2222222222222222, \"#7201a8\"], [0.3333333333333333, \"#9c179e\"], [0.4444444444444444, \"#bd3786\"], [0.5555555555555556, \"#d8576b\"], [0.6666666666666666, \"#ed7953\"], [0.7777777777777778, \"#fb9f3a\"], [0.8888888888888888, \"#fdca26\"], [1.0, \"#f0f921\"]], \"type\": \"histogram2dcontour\"}], \"mesh3d\": [{\"colorbar\": {\"outlinewidth\": 0, \"ticks\": \"\"}, \"type\": \"mesh3d\"}], \"parcoords\": [{\"line\": {\"colorbar\": {\"outlinewidth\": 0, \"ticks\": \"\"}}, \"type\": \"parcoords\"}], \"pie\": [{\"automargin\": true, \"type\": \"pie\"}], \"scatter\": [{\"marker\": {\"colorbar\": {\"outlinewidth\": 0, \"ticks\": \"\"}}, \"type\": \"scatter\"}], \"scatter3d\": [{\"line\": {\"colorbar\": {\"outlinewidth\": 0, \"ticks\": \"\"}}, \"marker\": {\"colorbar\": {\"outlinewidth\": 0, \"ticks\": \"\"}}, \"type\": \"scatter3d\"}], \"scattercarpet\": [{\"marker\": {\"colorbar\": {\"outlinewidth\": 0, \"ticks\": \"\"}}, \"type\": \"scattercarpet\"}], \"scattergeo\": [{\"marker\": {\"colorbar\": {\"outlinewidth\": 0, \"ticks\": \"\"}}, \"type\": \"scattergeo\"}], \"scattergl\": [{\"marker\": {\"colorbar\": {\"outlinewidth\": 0, \"ticks\": \"\"}}, \"type\": \"scattergl\"}], \"scattermapbox\": [{\"marker\": {\"colorbar\": {\"outlinewidth\": 0, \"ticks\": \"\"}}, \"type\": \"scattermapbox\"}], \"scatterpolar\": [{\"marker\": {\"colorbar\": {\"outlinewidth\": 0, \"ticks\": \"\"}}, \"type\": \"scatterpolar\"}], \"scatterpolargl\": [{\"marker\": {\"colorbar\": {\"outlinewidth\": 0, \"ticks\": \"\"}}, \"type\": \"scatterpolargl\"}], \"scatterternary\": [{\"marker\": {\"colorbar\": {\"outlinewidth\": 0, \"ticks\": \"\"}}, \"type\": \"scatterternary\"}], \"surface\": [{\"colorbar\": {\"outlinewidth\": 0, \"ticks\": \"\"}, \"colorscale\": [[0.0, \"#0d0887\"], [0.1111111111111111, \"#46039f\"], [0.2222222222222222, \"#7201a8\"], [0.3333333333333333, \"#9c179e\"], [0.4444444444444444, \"#bd3786\"], [0.5555555555555556, \"#d8576b\"], [0.6666666666666666, \"#ed7953\"], [0.7777777777777778, \"#fb9f3a\"], [0.8888888888888888, \"#fdca26\"], [1.0, \"#f0f921\"]], \"type\": \"surface\"}], \"table\": [{\"cells\": {\"fill\": {\"color\": \"#EBF0F8\"}, \"line\": {\"color\": \"white\"}}, \"header\": {\"fill\": {\"color\": \"#C8D4E3\"}, \"line\": {\"color\": \"white\"}}, \"type\": \"table\"}]}, \"layout\": {\"annotationdefaults\": {\"arrowcolor\": \"#2a3f5f\", \"arrowhead\": 0, \"arrowwidth\": 1}, \"autotypenumbers\": \"strict\", \"coloraxis\": {\"colorbar\": {\"outlinewidth\": 0, \"ticks\": \"\"}}, \"colorscale\": {\"diverging\": [[0, \"#8e0152\"], [0.1, \"#c51b7d\"], [0.2, \"#de77ae\"], [0.3, \"#f1b6da\"], [0.4, \"#fde0ef\"], [0.5, \"#f7f7f7\"], [0.6, \"#e6f5d0\"], [0.7, \"#b8e186\"], [0.8, \"#7fbc41\"], [0.9, \"#4d9221\"], [1, \"#276419\"]], \"sequential\": [[0.0, \"#0d0887\"], [0.1111111111111111, \"#46039f\"], [0.2222222222222222, \"#7201a8\"], [0.3333333333333333, \"#9c179e\"], [0.4444444444444444, \"#bd3786\"], [0.5555555555555556, \"#d8576b\"], [0.6666666666666666, \"#ed7953\"], [0.7777777777777778, \"#fb9f3a\"], [0.8888888888888888, \"#fdca26\"], [1.0, \"#f0f921\"]], \"sequentialminus\": [[0.0, \"#0d0887\"], [0.1111111111111111, \"#46039f\"], [0.2222222222222222, \"#7201a8\"], [0.3333333333333333, \"#9c179e\"], [0.4444444444444444, \"#bd3786\"], [0.5555555555555556, \"#d8576b\"], [0.6666666666666666, \"#ed7953\"], [0.7777777777777778, \"#fb9f3a\"], [0.8888888888888888, \"#fdca26\"], [1.0, \"#f0f921\"]]}, \"colorway\": [\"#636efa\", \"#EF553B\", \"#00cc96\", \"#ab63fa\", \"#FFA15A\", \"#19d3f3\", \"#FF6692\", \"#B6E880\", \"#FF97FF\", \"#FECB52\"], \"font\": {\"color\": \"#2a3f5f\"}, \"geo\": {\"bgcolor\": \"white\", \"lakecolor\": \"white\", \"landcolor\": \"#E5ECF6\", \"showlakes\": true, \"showland\": true, \"subunitcolor\": \"white\"}, \"hoverlabel\": {\"align\": \"left\"}, \"hovermode\": \"closest\", \"mapbox\": {\"style\": \"light\"}, \"paper_bgcolor\": \"white\", \"plot_bgcolor\": \"#E5ECF6\", \"polar\": {\"angularaxis\": {\"gridcolor\": \"white\", \"linecolor\": \"white\", \"ticks\": \"\"}, \"bgcolor\": \"#E5ECF6\", \"radialaxis\": {\"gridcolor\": \"white\", \"linecolor\": \"white\", \"ticks\": \"\"}}, \"scene\": {\"xaxis\": {\"backgroundcolor\": \"#E5ECF6\", \"gridcolor\": \"white\", \"gridwidth\": 2, \"linecolor\": \"white\", \"showbackground\": true, \"ticks\": \"\", \"zerolinecolor\": \"white\"}, \"yaxis\": {\"backgroundcolor\": \"#E5ECF6\", \"gridcolor\": \"white\", \"gridwidth\": 2, \"linecolor\": \"white\", \"showbackground\": true, \"ticks\": \"\", \"zerolinecolor\": \"white\"}, \"zaxis\": {\"backgroundcolor\": \"#E5ECF6\", \"gridcolor\": \"white\", \"gridwidth\": 2, \"linecolor\": \"white\", \"showbackground\": true, \"ticks\": \"\", \"zerolinecolor\": \"white\"}}, \"shapedefaults\": {\"line\": {\"color\": \"#2a3f5f\"}}, \"ternary\": {\"aaxis\": {\"gridcolor\": \"white\", \"linecolor\": \"white\", \"ticks\": \"\"}, \"baxis\": {\"gridcolor\": \"white\", \"linecolor\": \"white\", \"ticks\": \"\"}, \"bgcolor\": \"#E5ECF6\", \"caxis\": {\"gridcolor\": \"white\", \"linecolor\": \"white\", \"ticks\": \"\"}}, \"title\": {\"x\": 0.05}, \"xaxis\": {\"automargin\": true, \"gridcolor\": \"white\", \"linecolor\": \"white\", \"ticks\": \"\", \"title\": {\"standoff\": 15}, \"zerolinecolor\": \"white\", \"zerolinewidth\": 2}, \"yaxis\": {\"automargin\": true, \"gridcolor\": \"white\", \"linecolor\": \"white\", \"ticks\": \"\", \"title\": {\"standoff\": 15}, \"zerolinecolor\": \"white\", \"zerolinewidth\": 2}}}, \"title\": {\"text\": \"mean_edpv Boxplot\"}, \"xaxis\": {\"anchor\": \"y\", \"domain\": [0.0, 1.0]}, \"yaxis\": {\"anchor\": \"x\", \"domain\": [0.0, 1.0], \"title\": {\"text\": \"mean_edpv Amount\"}}},                        {\"responsive\": true}                    ).then(function(){\n",
       "                            \n",
       "var gd = document.getElementById('af3a3b02-332a-44c8-9ebb-c6c8a38ceb13');\n",
       "var x = new MutationObserver(function (mutations, observer) {{\n",
       "        var display = window.getComputedStyle(gd).display;\n",
       "        if (!display || display === 'none') {{\n",
       "            console.log([gd, 'removed!']);\n",
       "            Plotly.purge(gd);\n",
       "            observer.disconnect();\n",
       "        }}\n",
       "}});\n",
       "\n",
       "// Listen for the removal of the full notebook cells\n",
       "var notebookContainer = gd.closest('#notebook-container');\n",
       "if (notebookContainer) {{\n",
       "    x.observe(notebookContainer, {childList: true});\n",
       "}}\n",
       "\n",
       "// Listen for the clearing of the current output cell\n",
       "var outputEl = gd.closest('.output');\n",
       "if (outputEl) {{\n",
       "    x.observe(outputEl, {childList: true});\n",
       "}}\n",
       "\n",
       "                        })                };                });            </script>        </div>"
      ]
     },
     "metadata": {},
     "output_type": "display_data"
    }
   ],
   "source": [
    "# Create a boxplot\n",
    "fig = px.box(df_x, y='mean_edpv', title='mean_edpv Boxplot', labels={'mean_edpv': 'mean_edpv Amount'})\n",
    "\n",
    "# Show the plot\n",
    "fig.show()"
   ]
  },
  {
   "cell_type": "markdown",
   "metadata": {},
   "source": [
    "## FALTA AÑADIR LAS 2 COLUMNAS DEL DE GABY"
   ]
  },
  {
   "cell_type": "markdown",
   "metadata": {},
   "source": [
    "# Falta conectar:\n",
    "\n",
    "hay que hacer match y calcular principalmente:\n",
    "-> percentiles diario de la dispersion del uplift (como un boxplot)\n",
    "-> percentilues diario de la elasticidad gaby (como un boxplot)\n",
    "\n",
    "\n",
    "i.e. El ejemplo de union es a la inversa, es decir imaginemos que el oleo tiene un uplift que esta en el P75 y su elasticidad esta en el P30 que representa \n",
    "\n",
    "\n",
    "nuevos campos:\n",
    "- new price\n",
    "- new percentil\n",
    "- new npi\n",
    "- new margin\n",
    "- new uplift"
   ]
  }
 ],
 "metadata": {
  "kernelspec": {
   "display_name": "Python 3",
   "language": "python",
   "name": "python3"
  }
 },
 "nbformat": 4,
 "nbformat_minor": 2
}
