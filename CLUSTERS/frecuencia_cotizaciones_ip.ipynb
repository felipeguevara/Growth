{
 "cells": [
  {
   "cell_type": "code",
   "execution_count": 1,
   "metadata": {},
   "outputs": [],
   "source": [
    "#//----------------------------\n",
    "#//LIBRARIES\n",
    "    #Math\n",
    "import math\n",
    "    #Numeric Python\n",
    "import numpy as np\n",
    "    #Pandas (dataframes)\n",
    "import pandas as pd\n",
    "    #datetime for fate manipulation\n",
    "from datetime import date, datetime, timedelta  \n",
    "    #Regex for advanced string matching\n",
    "import re\n",
    "    #for time related stuff\n",
    "import time \n",
    "    #json library\n",
    "import json\n",
    "    #Analyst tools\n",
    "import sys\n",
    "sys.path.append('../')\n",
    "from analysts_tools.growth import *\n",
    "    #Procurement tools\n",
    "from procurement_lib import send_slack_notification\n",
    "from procurement_lib import redash\n",
    "from analysts_tools.redash_methods import *\n",
    "from analystcommunity.read_connection_data_warehouse import run_read_dwd_query\n",
    "\n",
    "import random\n",
    "import time\n",
    "import datetime\n",
    "\n",
    "import seaborn as sns\n",
    "import matplotlib.pyplot as plt\n",
    "\n",
    "\n",
    "from procurement_lib import GoogleSheet"
   ]
  },
  {
   "cell_type": "code",
   "execution_count": 2,
   "metadata": {},
   "outputs": [],
   "source": [
    "df_gtin = GoogleSheet(\"1TBAwmxAoqg6FX79d7wLu3DVtIiOb6gRfkN5fMA_tLNc\")\n",
    "df_gtin = df_gtin.get_as_dataframe('Hoja 1')"
   ]
  },
  {
   "cell_type": "code",
   "execution_count": 3,
   "metadata": {},
   "outputs": [],
   "source": [
    "query = \"\"\"\n",
    "SELECT DISTINCT\n",
    "    CASE \n",
    "    WHEN state = 'Grande SP' THEN 'SPO'\n",
    "    WHEN state = 'SP Interior' THEN 'VCP'\n",
    "    WHEN state = 'MG' THEN 'BHZ'\n",
    "    WHEN state = 'PR' THEN 'CWB'\n",
    "    ELSE 'NA' END AS site_code,\n",
    "    i.price_date AS quotation_date,\n",
    "    CAST(REPLACE(i.price_date, '-', '') AS INTEGER) AS dim_quotation_date,\n",
    "    i.store_type || ' - ' || i.store_identifier AS competitor_name,\n",
    "    i.store_type || ' - ' || i.store AS store,\n",
    "    gtin,\n",
    "    ROUND(AVG(COALESCE(\n",
    "        REPLACE(NULLIF(i.regular_price::VARCHAR, ''), ' ', '0')::FLOAT,\n",
    "        REPLACE(NULLIF(i.price_paid::VARCHAR, ''), ' ', '0')::FLOAT,\n",
    "        REPLACE(NULLIF(i.price_paid_per_standard_unit_of_measure::VARCHAR, ''), ' ', '0')::FLOAT,\n",
    "        0.0\n",
    "    )),2)::FLOAT AS price\n",
    "    \n",
    "FROM lnd_ops.infoprice_product_scraper i\n",
    "WHERE store_type IN ('Atacado')\n",
    " AND gtin IN {skus}\n",
    "GROUP BY 1,2,3,4,5,6\n",
    "\"\"\".format(skus=tuple(df_gtin.GTIN.unique().tolist()))\n",
    "\n",
    "df = read_connection_data_warehouse.run_read_prod_query(query)\n",
    "\n",
    "df['quotation_date'] = pd.to_datetime(df['quotation_date'])\n",
    "df[['gtin']] = df[['gtin']].astype('float')"
   ]
  },
  {
   "cell_type": "code",
   "execution_count": 4,
   "metadata": {},
   "outputs": [],
   "source": [
    "df2 = pd.merge(df, df_gtin, left_on=['gtin','site_code'], right_on=['GTIN','city'], how='left')\n",
    "df2 = df2.drop(['city', 'GTIN'], axis=1)\n",
    "df2 = df2.dropna().reset_index(drop=True)\n",
    "\n",
    "df2['lifetime'] = 8"
   ]
  },
  {
   "cell_type": "code",
   "execution_count": 5,
   "metadata": {},
   "outputs": [
    {
     "data": {
      "text/plain": [
       "105599.0    21936\n",
       "124893.0    14208\n",
       "73456.0     13733\n",
       "124405.0    12132\n",
       "217683.0    11866\n",
       "            ...  \n",
       "643817.0        1\n",
       "531043.0        1\n",
       "356957.0        1\n",
       "581671.0        1\n",
       "418949.0        1\n",
       "Name: source_id, Length: 1728, dtype: int64"
      ]
     },
     "execution_count": 5,
     "metadata": {},
     "output_type": "execute_result"
    }
   ],
   "source": [
    "df2.source_id.value_counts()"
   ]
  },
  {
   "cell_type": "code",
   "execution_count": 6,
   "metadata": {},
   "outputs": [
    {
     "data": {
      "text/plain": [
       "<pandas.core.groupby.generic.DataFrameGroupBy object at 0x7f6f5071eb90>"
      ]
     },
     "execution_count": 6,
     "metadata": {},
     "output_type": "execute_result"
    }
   ],
   "source": [
    "# Step 1: Group the data by store, quotation_date, and source_id (product)\n",
    "grouped = df2.groupby(['site_code','store', 'quotation_date', 'source_id'])\n",
    "grouped"
   ]
  },
  {
   "cell_type": "code",
   "execution_count": 7,
   "metadata": {},
   "outputs": [
    {
     "name": "stdout",
     "output_type": "stream",
     "text": [
      "<class 'pandas.core.frame.DataFrame'>\n",
      "RangeIndex: 2290306 entries, 0 to 2290305\n",
      "Data columns (total 10 columns):\n",
      " #   Column              Dtype         \n",
      "---  ------              -----         \n",
      " 0   site_code           object        \n",
      " 1   quotation_date      datetime64[ns]\n",
      " 2   dim_quotation_date  int64         \n",
      " 3   competitor_name     object        \n",
      " 4   store               object        \n",
      " 5   gtin                float64       \n",
      " 6   price               float64       \n",
      " 7   source_id           float64       \n",
      " 8   product_name        object        \n",
      " 9   lifetime            int64         \n",
      "dtypes: datetime64[ns](1), float64(3), int64(2), object(4)\n",
      "memory usage: 174.7+ MB\n"
     ]
    }
   ],
   "source": [
    "df2.info()"
   ]
  },
  {
   "cell_type": "code",
   "execution_count": 8,
   "metadata": {},
   "outputs": [],
   "source": [
    "df3 = df2.groupby(['site_code','store','quotation_date','price','source_id']).count().reset_index()"
   ]
  },
  {
   "cell_type": "code",
   "execution_count": 9,
   "metadata": {},
   "outputs": [],
   "source": [
    "r = (df3.groupby(['site_code','store','quotation_date','source_id']).gtin.max() / df3.groupby(['site_code','store','quotation_date','source_id']).gtin.sum()).reset_index()"
   ]
  },
  {
   "cell_type": "code",
   "execution_count": 10,
   "metadata": {},
   "outputs": [
    {
     "data": {
      "text/html": [
       "<div>\n",
       "<style scoped>\n",
       "    .dataframe tbody tr th:only-of-type {\n",
       "        vertical-align: middle;\n",
       "    }\n",
       "\n",
       "    .dataframe tbody tr th {\n",
       "        vertical-align: top;\n",
       "    }\n",
       "\n",
       "    .dataframe thead th {\n",
       "        text-align: right;\n",
       "    }\n",
       "</style>\n",
       "<table border=\"1\" class=\"dataframe\">\n",
       "  <thead>\n",
       "    <tr style=\"text-align: right;\">\n",
       "      <th></th>\n",
       "      <th>site_code</th>\n",
       "      <th>store</th>\n",
       "      <th>quotation_date</th>\n",
       "      <th>source_id</th>\n",
       "      <th>gtin</th>\n",
       "    </tr>\n",
       "  </thead>\n",
       "  <tbody>\n",
       "    <tr>\n",
       "      <th>73502</th>\n",
       "      <td>SPO</td>\n",
       "      <td>Atacado - Akki Atacadista</td>\n",
       "      <td>2024-02-10</td>\n",
       "      <td>73456.0</td>\n",
       "      <td>0.750000</td>\n",
       "    </tr>\n",
       "    <tr>\n",
       "      <th>80963</th>\n",
       "      <td>SPO</td>\n",
       "      <td>Atacado - Assai Atacadista</td>\n",
       "      <td>2024-02-10</td>\n",
       "      <td>73456.0</td>\n",
       "      <td>0.901961</td>\n",
       "    </tr>\n",
       "    <tr>\n",
       "      <th>110008</th>\n",
       "      <td>SPO</td>\n",
       "      <td>Atacado - Atacadao Dia A Dia</td>\n",
       "      <td>2024-02-10</td>\n",
       "      <td>73456.0</td>\n",
       "      <td>1.000000</td>\n",
       "    </tr>\n",
       "    <tr>\n",
       "      <th>113062</th>\n",
       "      <td>SPO</td>\n",
       "      <td>Atacado - Atacadista Roldao</td>\n",
       "      <td>2024-02-10</td>\n",
       "      <td>73456.0</td>\n",
       "      <td>0.550000</td>\n",
       "    </tr>\n",
       "    <tr>\n",
       "      <th>143454</th>\n",
       "      <td>SPO</td>\n",
       "      <td>Atacado - Atacadão</td>\n",
       "      <td>2024-02-10</td>\n",
       "      <td>73456.0</td>\n",
       "      <td>0.981132</td>\n",
       "    </tr>\n",
       "  </tbody>\n",
       "</table>\n",
       "</div>"
      ],
      "text/plain": [
       "       site_code                         store quotation_date  source_id  \\\n",
       "73502        SPO     Atacado - Akki Atacadista     2024-02-10    73456.0   \n",
       "80963        SPO    Atacado - Assai Atacadista     2024-02-10    73456.0   \n",
       "110008       SPO  Atacado - Atacadao Dia A Dia     2024-02-10    73456.0   \n",
       "113062       SPO   Atacado - Atacadista Roldao     2024-02-10    73456.0   \n",
       "143454       SPO            Atacado - Atacadão     2024-02-10    73456.0   \n",
       "\n",
       "            gtin  \n",
       "73502   0.750000  \n",
       "80963   0.901961  \n",
       "110008  1.000000  \n",
       "113062  0.550000  \n",
       "143454  0.981132  "
      ]
     },
     "execution_count": 10,
     "metadata": {},
     "output_type": "execute_result"
    }
   ],
   "source": [
    "r.loc[(r.source_id == 73456) & (r.quotation_date == '2024-02-10')].head()"
   ]
  },
  {
   "cell_type": "code",
   "execution_count": 11,
   "metadata": {},
   "outputs": [],
   "source": [
    "f = (r.groupby(['site_code','store','source_id']).gtin.mean().reset_index()).groupby(['site_code','store']).gtin.mean().reset_index()"
   ]
  },
  {
   "cell_type": "code",
   "execution_count": 18,
   "metadata": {},
   "outputs": [],
   "source": [
    "df_axu = df2.groupby('store').agg({'competitor_name':lambda x: x.nunique()}).reset_index()"
   ]
  },
  {
   "cell_type": "code",
   "execution_count": 19,
   "metadata": {},
   "outputs": [],
   "source": [
    "df_f = f.merge(df_axu, on=['store'],how='left')"
   ]
  },
  {
   "cell_type": "code",
   "execution_count": 20,
   "metadata": {},
   "outputs": [
    {
     "data": {
      "text/html": [
       "<div>\n",
       "<style scoped>\n",
       "    .dataframe tbody tr th:only-of-type {\n",
       "        vertical-align: middle;\n",
       "    }\n",
       "\n",
       "    .dataframe tbody tr th {\n",
       "        vertical-align: top;\n",
       "    }\n",
       "\n",
       "    .dataframe thead th {\n",
       "        text-align: right;\n",
       "    }\n",
       "</style>\n",
       "<table border=\"1\" class=\"dataframe\">\n",
       "  <thead>\n",
       "    <tr style=\"text-align: right;\">\n",
       "      <th></th>\n",
       "      <th>site_code</th>\n",
       "      <th>store</th>\n",
       "      <th>gtin</th>\n",
       "      <th>competitor_name</th>\n",
       "    </tr>\n",
       "  </thead>\n",
       "  <tbody>\n",
       "    <tr>\n",
       "      <th>0</th>\n",
       "      <td>BHZ</td>\n",
       "      <td>Atacado - Aliar Distribuidora</td>\n",
       "      <td>1.000000</td>\n",
       "      <td>1</td>\n",
       "    </tr>\n",
       "    <tr>\n",
       "      <th>1</th>\n",
       "      <td>BHZ</td>\n",
       "      <td>Atacado - Alimentar Foods Frigorifico</td>\n",
       "      <td>1.000000</td>\n",
       "      <td>1</td>\n",
       "    </tr>\n",
       "    <tr>\n",
       "      <th>2</th>\n",
       "      <td>BHZ</td>\n",
       "      <td>Atacado - Almeida Atacarejo</td>\n",
       "      <td>1.000000</td>\n",
       "      <td>1</td>\n",
       "    </tr>\n",
       "    <tr>\n",
       "      <th>3</th>\n",
       "      <td>BHZ</td>\n",
       "      <td>Atacado - Ambbar Atacadista</td>\n",
       "      <td>1.000000</td>\n",
       "      <td>1</td>\n",
       "    </tr>\n",
       "    <tr>\n",
       "      <th>4</th>\n",
       "      <td>BHZ</td>\n",
       "      <td>Atacado - Apoio Mineiro</td>\n",
       "      <td>0.926860</td>\n",
       "      <td>29</td>\n",
       "    </tr>\n",
       "    <tr>\n",
       "      <th>...</th>\n",
       "      <td>...</td>\n",
       "      <td>...</td>\n",
       "      <td>...</td>\n",
       "      <td>...</td>\n",
       "    </tr>\n",
       "    <tr>\n",
       "      <th>231</th>\n",
       "      <td>VCP</td>\n",
       "      <td>Atacado - Supermercado Leal Do Vale</td>\n",
       "      <td>1.000000</td>\n",
       "      <td>1</td>\n",
       "    </tr>\n",
       "    <tr>\n",
       "      <th>232</th>\n",
       "      <td>VCP</td>\n",
       "      <td>Atacado - Tenda</td>\n",
       "      <td>0.726622</td>\n",
       "      <td>55</td>\n",
       "    </tr>\n",
       "    <tr>\n",
       "      <th>233</th>\n",
       "      <td>VCP</td>\n",
       "      <td>Atacado - Tonin</td>\n",
       "      <td>0.996958</td>\n",
       "      <td>13</td>\n",
       "    </tr>\n",
       "    <tr>\n",
       "      <th>234</th>\n",
       "      <td>VCP</td>\n",
       "      <td>Atacado - Zaragoza</td>\n",
       "      <td>0.996318</td>\n",
       "      <td>4</td>\n",
       "    </tr>\n",
       "    <tr>\n",
       "      <th>235</th>\n",
       "      <td>VCP</td>\n",
       "      <td>Atacado - Águia Frios</td>\n",
       "      <td>1.000000</td>\n",
       "      <td>1</td>\n",
       "    </tr>\n",
       "  </tbody>\n",
       "</table>\n",
       "<p>236 rows × 4 columns</p>\n",
       "</div>"
      ],
      "text/plain": [
       "    site_code                                  store      gtin  \\\n",
       "0         BHZ          Atacado - Aliar Distribuidora  1.000000   \n",
       "1         BHZ  Atacado - Alimentar Foods Frigorifico  1.000000   \n",
       "2         BHZ            Atacado - Almeida Atacarejo  1.000000   \n",
       "3         BHZ            Atacado - Ambbar Atacadista  1.000000   \n",
       "4         BHZ                Atacado - Apoio Mineiro  0.926860   \n",
       "..        ...                                    ...       ...   \n",
       "231       VCP    Atacado - Supermercado Leal Do Vale  1.000000   \n",
       "232       VCP                        Atacado - Tenda  0.726622   \n",
       "233       VCP                        Atacado - Tonin  0.996958   \n",
       "234       VCP                     Atacado - Zaragoza  0.996318   \n",
       "235       VCP                  Atacado - Águia Frios  1.000000   \n",
       "\n",
       "     competitor_name  \n",
       "0                  1  \n",
       "1                  1  \n",
       "2                  1  \n",
       "3                  1  \n",
       "4                 29  \n",
       "..               ...  \n",
       "231                1  \n",
       "232               55  \n",
       "233               13  \n",
       "234                4  \n",
       "235                1  \n",
       "\n",
       "[236 rows x 4 columns]"
      ]
     },
     "execution_count": 20,
     "metadata": {},
     "output_type": "execute_result"
    }
   ],
   "source": [
    "df_f"
   ]
  },
  {
   "cell_type": "code",
   "execution_count": null,
   "metadata": {},
   "outputs": [],
   "source": [
    "\n",
    "# Step 3: Identify the frequency of the most common price for each group\n",
    "max_freq = price_counts.max(axis=1)\n",
    "\n",
    "# Step 4: Calculate the percentage for each group\n",
    "total_counts = grouped.size()\n",
    "percentage_freq = (max_freq / total_counts) * 100\n",
    "\n",
    "# Step 5: Average these percentages for each store\n",
    "average_percentage = percentage_freq.groupby(level=0).mean()\n",
    "\n",
    "# Display the result\n",
    "average_percentage"
   ]
  },
  {
   "cell_type": "code",
   "execution_count": 31,
   "metadata": {},
   "outputs": [
    {
     "data": {
      "application/vnd.jupyter.widget-view+json": {
       "model_id": "a297e92ea69c4ad287245fcf22142c64",
       "version_major": 2,
       "version_minor": 0
      },
      "text/plain": [
       "interactive(children=(Dropdown(description='Date:', options=(datetime.date(2024, 2, 10), datetime.date(2024, 2…"
      ]
     },
     "metadata": {},
     "output_type": "display_data"
    },
    {
     "data": {
      "application/vnd.plotly.v1+json": {
       "config": {
        "plotlyServerURL": "https://plot.ly"
       },
       "data": [
        {
         "name": "Atacado - Assai Atacadista",
         "nbinsx": 30,
         "opacity": 0.75,
         "type": "histogram",
         "x": [
          4.29,
          4.29,
          4.29,
          4.29,
          4.29,
          4.29,
          4.29,
          4.29,
          4.29,
          4.39,
          4.39,
          4.29,
          4.29,
          4.29,
          4.29,
          4.29,
          4.29,
          4.29,
          4.29,
          4.29,
          4.29,
          4.29,
          4.29,
          4.29,
          4.29,
          4.29,
          4.39,
          4.29,
          4.29,
          4.29,
          4.29,
          4.29,
          4.29,
          4.29,
          4.29,
          4.29,
          4.29,
          4.29,
          4.29,
          4.29,
          4.29,
          4.29,
          4.29,
          4.29,
          4.29,
          4.39,
          4.29,
          4.39,
          4.29,
          4.29,
          4.29
         ]
        },
        {
         "name": "Atacado - Comercial Esperança",
         "nbinsx": 30,
         "opacity": 0.75,
         "type": "histogram",
         "x": [
          3.95,
          3.95,
          3.95,
          3.95,
          3.95,
          3.95,
          3.95,
          3.95,
          3.95
         ]
        },
        {
         "name": "Atacado - Atacadão",
         "nbinsx": 30,
         "opacity": 0.75,
         "type": "histogram",
         "x": [
          4.3,
          4.3,
          4.3,
          4.3,
          4.3,
          4.3,
          4.3,
          4.3,
          4.3,
          4.3,
          4.3,
          4.3,
          4.3,
          4.3,
          4.3,
          4.3,
          4.3,
          4.3,
          4.3,
          4.3,
          4.3,
          4.3,
          4.3,
          4.3,
          4.3,
          4.3,
          4.3,
          4.3,
          4.3,
          4.3,
          4.3,
          4.3,
          4.3,
          4.3,
          4.3,
          4.3,
          4.3,
          4.3,
          4.64,
          4.3,
          4.3,
          4.3,
          4.3,
          4.3,
          4.3,
          4.3,
          4.3,
          4.3,
          4.3,
          4.3,
          4.3,
          4.3,
          4.3
         ]
        },
        {
         "name": "Atacado - Spani",
         "nbinsx": 30,
         "opacity": 0.75,
         "type": "histogram",
         "x": [
          4.89,
          4.89,
          4.89,
          4.89,
          4.89,
          4.89,
          4.89,
          4.89,
          4.89,
          4.89,
          4.89,
          4.89,
          4.89
         ]
        },
        {
         "name": "Atacado - Atacadista Roldao",
         "nbinsx": 30,
         "opacity": 0.75,
         "type": "histogram",
         "x": [
          4.51,
          4.51,
          4.51,
          4.51,
          4.51,
          4.51,
          4.32,
          4.55,
          4.51,
          4.51,
          4.32,
          4.51,
          4.32,
          4.32,
          4.51,
          4.55,
          4.51,
          4.55,
          4.32,
          4.55
         ]
        },
        {
         "name": "Atacado - Zaragoza",
         "nbinsx": 30,
         "opacity": 0.75,
         "type": "histogram",
         "x": [
          4.89,
          4.89
         ]
        },
        {
         "name": "Atacado - Poupaki Atacadista",
         "nbinsx": 30,
         "opacity": 0.75,
         "type": "histogram",
         "x": [
          5.18,
          5.18
         ]
        },
        {
         "name": "Atacado - Negreiros",
         "nbinsx": 30,
         "opacity": 0.75,
         "type": "histogram",
         "x": [
          4.29
         ]
        },
        {
         "name": "Atacado - Maxxi",
         "nbinsx": 30,
         "opacity": 0.75,
         "type": "histogram",
         "x": [
          4.3,
          4.3,
          4.64
         ]
        },
        {
         "name": "Atacado - Akki Atacadista",
         "nbinsx": 30,
         "opacity": 0.75,
         "type": "histogram",
         "x": [
          4.79,
          4.79,
          4.39,
          4.79
         ]
        },
        {
         "name": "Atacado - Vale Mais Atacadista",
         "nbinsx": 30,
         "opacity": 0.75,
         "type": "histogram",
         "x": [
          4.49
         ]
        },
        {
         "name": "Atacado - Grupo Camanducaia",
         "nbinsx": 30,
         "opacity": 0.75,
         "type": "histogram",
         "x": [
          5.75
         ]
        },
        {
         "name": "Atacado - Sams Club",
         "nbinsx": 30,
         "opacity": 0.75,
         "type": "histogram",
         "x": [
          3.99,
          3.99,
          3.99,
          3.99
         ]
        },
        {
         "name": "Atacado - Comercial Esperanca Atacadista",
         "nbinsx": 30,
         "opacity": 0.75,
         "type": "histogram",
         "x": [
          3.89
         ]
        },
        {
         "name": "Atacado - Tenda",
         "nbinsx": 30,
         "opacity": 0.75,
         "type": "histogram",
         "x": [
          4.17,
          4.29,
          4.34,
          4.32,
          4.41,
          4.17,
          4.21,
          4.29,
          4.04,
          4.29,
          4.19
         ]
        },
        {
         "name": "Atacado - Atacadao Dia A Dia",
         "nbinsx": 30,
         "opacity": 0.75,
         "type": "histogram",
         "x": [
          5.69
         ]
        },
        {
         "name": "Atacado - Brasileirao Atacado",
         "nbinsx": 30,
         "opacity": 0.75,
         "type": "histogram",
         "x": [
          4.99
         ]
        },
        {
         "name": "Atacado - Peg Pese",
         "nbinsx": 30,
         "opacity": 0.75,
         "type": "histogram",
         "x": [
          5.16,
          5.16
         ]
        },
        {
         "name": "Atacado - Giga Atacado",
         "nbinsx": 30,
         "opacity": 0.75,
         "type": "histogram",
         "x": [
          4.29
         ]
        },
        {
         "name": "Atacado - Comercio Tunis",
         "nbinsx": 30,
         "opacity": 0.75,
         "type": "histogram",
         "x": [
          4.89
         ]
        },
        {
         "name": "Atacado - Max Atacadista",
         "nbinsx": 30,
         "opacity": 0.75,
         "type": "histogram",
         "x": [
          4.19,
          4.39,
          4.2,
          4.71
         ]
        },
        {
         "name": "Atacado - Dica_distribuidora",
         "nbinsx": 30,
         "opacity": 0.75,
         "type": "histogram",
         "x": [
          4.79
         ]
        }
       ],
       "layout": {
        "barmode": "stack",
        "height": 800,
        "legend": {
         "orientation": "h",
         "title": {
          "text": "Store"
         },
         "x": 0.5,
         "xanchor": "center",
         "y": -0.2,
         "yanchor": "top"
        },
        "template": {
         "data": {
          "bar": [
           {
            "error_x": {
             "color": "#2a3f5f"
            },
            "error_y": {
             "color": "#2a3f5f"
            },
            "marker": {
             "line": {
              "color": "#E5ECF6",
              "width": 0.5
             }
            },
            "type": "bar"
           }
          ],
          "barpolar": [
           {
            "marker": {
             "line": {
              "color": "#E5ECF6",
              "width": 0.5
             }
            },
            "type": "barpolar"
           }
          ],
          "carpet": [
           {
            "aaxis": {
             "endlinecolor": "#2a3f5f",
             "gridcolor": "white",
             "linecolor": "white",
             "minorgridcolor": "white",
             "startlinecolor": "#2a3f5f"
            },
            "baxis": {
             "endlinecolor": "#2a3f5f",
             "gridcolor": "white",
             "linecolor": "white",
             "minorgridcolor": "white",
             "startlinecolor": "#2a3f5f"
            },
            "type": "carpet"
           }
          ],
          "choropleth": [
           {
            "colorbar": {
             "outlinewidth": 0,
             "ticks": ""
            },
            "type": "choropleth"
           }
          ],
          "contour": [
           {
            "colorbar": {
             "outlinewidth": 0,
             "ticks": ""
            },
            "colorscale": [
             [
              0,
              "#0d0887"
             ],
             [
              0.1111111111111111,
              "#46039f"
             ],
             [
              0.2222222222222222,
              "#7201a8"
             ],
             [
              0.3333333333333333,
              "#9c179e"
             ],
             [
              0.4444444444444444,
              "#bd3786"
             ],
             [
              0.5555555555555556,
              "#d8576b"
             ],
             [
              0.6666666666666666,
              "#ed7953"
             ],
             [
              0.7777777777777778,
              "#fb9f3a"
             ],
             [
              0.8888888888888888,
              "#fdca26"
             ],
             [
              1,
              "#f0f921"
             ]
            ],
            "type": "contour"
           }
          ],
          "contourcarpet": [
           {
            "colorbar": {
             "outlinewidth": 0,
             "ticks": ""
            },
            "type": "contourcarpet"
           }
          ],
          "heatmap": [
           {
            "colorbar": {
             "outlinewidth": 0,
             "ticks": ""
            },
            "colorscale": [
             [
              0,
              "#0d0887"
             ],
             [
              0.1111111111111111,
              "#46039f"
             ],
             [
              0.2222222222222222,
              "#7201a8"
             ],
             [
              0.3333333333333333,
              "#9c179e"
             ],
             [
              0.4444444444444444,
              "#bd3786"
             ],
             [
              0.5555555555555556,
              "#d8576b"
             ],
             [
              0.6666666666666666,
              "#ed7953"
             ],
             [
              0.7777777777777778,
              "#fb9f3a"
             ],
             [
              0.8888888888888888,
              "#fdca26"
             ],
             [
              1,
              "#f0f921"
             ]
            ],
            "type": "heatmap"
           }
          ],
          "heatmapgl": [
           {
            "colorbar": {
             "outlinewidth": 0,
             "ticks": ""
            },
            "colorscale": [
             [
              0,
              "#0d0887"
             ],
             [
              0.1111111111111111,
              "#46039f"
             ],
             [
              0.2222222222222222,
              "#7201a8"
             ],
             [
              0.3333333333333333,
              "#9c179e"
             ],
             [
              0.4444444444444444,
              "#bd3786"
             ],
             [
              0.5555555555555556,
              "#d8576b"
             ],
             [
              0.6666666666666666,
              "#ed7953"
             ],
             [
              0.7777777777777778,
              "#fb9f3a"
             ],
             [
              0.8888888888888888,
              "#fdca26"
             ],
             [
              1,
              "#f0f921"
             ]
            ],
            "type": "heatmapgl"
           }
          ],
          "histogram": [
           {
            "marker": {
             "colorbar": {
              "outlinewidth": 0,
              "ticks": ""
             }
            },
            "type": "histogram"
           }
          ],
          "histogram2d": [
           {
            "colorbar": {
             "outlinewidth": 0,
             "ticks": ""
            },
            "colorscale": [
             [
              0,
              "#0d0887"
             ],
             [
              0.1111111111111111,
              "#46039f"
             ],
             [
              0.2222222222222222,
              "#7201a8"
             ],
             [
              0.3333333333333333,
              "#9c179e"
             ],
             [
              0.4444444444444444,
              "#bd3786"
             ],
             [
              0.5555555555555556,
              "#d8576b"
             ],
             [
              0.6666666666666666,
              "#ed7953"
             ],
             [
              0.7777777777777778,
              "#fb9f3a"
             ],
             [
              0.8888888888888888,
              "#fdca26"
             ],
             [
              1,
              "#f0f921"
             ]
            ],
            "type": "histogram2d"
           }
          ],
          "histogram2dcontour": [
           {
            "colorbar": {
             "outlinewidth": 0,
             "ticks": ""
            },
            "colorscale": [
             [
              0,
              "#0d0887"
             ],
             [
              0.1111111111111111,
              "#46039f"
             ],
             [
              0.2222222222222222,
              "#7201a8"
             ],
             [
              0.3333333333333333,
              "#9c179e"
             ],
             [
              0.4444444444444444,
              "#bd3786"
             ],
             [
              0.5555555555555556,
              "#d8576b"
             ],
             [
              0.6666666666666666,
              "#ed7953"
             ],
             [
              0.7777777777777778,
              "#fb9f3a"
             ],
             [
              0.8888888888888888,
              "#fdca26"
             ],
             [
              1,
              "#f0f921"
             ]
            ],
            "type": "histogram2dcontour"
           }
          ],
          "mesh3d": [
           {
            "colorbar": {
             "outlinewidth": 0,
             "ticks": ""
            },
            "type": "mesh3d"
           }
          ],
          "parcoords": [
           {
            "line": {
             "colorbar": {
              "outlinewidth": 0,
              "ticks": ""
             }
            },
            "type": "parcoords"
           }
          ],
          "pie": [
           {
            "automargin": true,
            "type": "pie"
           }
          ],
          "scatter": [
           {
            "marker": {
             "colorbar": {
              "outlinewidth": 0,
              "ticks": ""
             }
            },
            "type": "scatter"
           }
          ],
          "scatter3d": [
           {
            "line": {
             "colorbar": {
              "outlinewidth": 0,
              "ticks": ""
             }
            },
            "marker": {
             "colorbar": {
              "outlinewidth": 0,
              "ticks": ""
             }
            },
            "type": "scatter3d"
           }
          ],
          "scattercarpet": [
           {
            "marker": {
             "colorbar": {
              "outlinewidth": 0,
              "ticks": ""
             }
            },
            "type": "scattercarpet"
           }
          ],
          "scattergeo": [
           {
            "marker": {
             "colorbar": {
              "outlinewidth": 0,
              "ticks": ""
             }
            },
            "type": "scattergeo"
           }
          ],
          "scattergl": [
           {
            "marker": {
             "colorbar": {
              "outlinewidth": 0,
              "ticks": ""
             }
            },
            "type": "scattergl"
           }
          ],
          "scattermapbox": [
           {
            "marker": {
             "colorbar": {
              "outlinewidth": 0,
              "ticks": ""
             }
            },
            "type": "scattermapbox"
           }
          ],
          "scatterpolar": [
           {
            "marker": {
             "colorbar": {
              "outlinewidth": 0,
              "ticks": ""
             }
            },
            "type": "scatterpolar"
           }
          ],
          "scatterpolargl": [
           {
            "marker": {
             "colorbar": {
              "outlinewidth": 0,
              "ticks": ""
             }
            },
            "type": "scatterpolargl"
           }
          ],
          "scatterternary": [
           {
            "marker": {
             "colorbar": {
              "outlinewidth": 0,
              "ticks": ""
             }
            },
            "type": "scatterternary"
           }
          ],
          "surface": [
           {
            "colorbar": {
             "outlinewidth": 0,
             "ticks": ""
            },
            "colorscale": [
             [
              0,
              "#0d0887"
             ],
             [
              0.1111111111111111,
              "#46039f"
             ],
             [
              0.2222222222222222,
              "#7201a8"
             ],
             [
              0.3333333333333333,
              "#9c179e"
             ],
             [
              0.4444444444444444,
              "#bd3786"
             ],
             [
              0.5555555555555556,
              "#d8576b"
             ],
             [
              0.6666666666666666,
              "#ed7953"
             ],
             [
              0.7777777777777778,
              "#fb9f3a"
             ],
             [
              0.8888888888888888,
              "#fdca26"
             ],
             [
              1,
              "#f0f921"
             ]
            ],
            "type": "surface"
           }
          ],
          "table": [
           {
            "cells": {
             "fill": {
              "color": "#EBF0F8"
             },
             "line": {
              "color": "white"
             }
            },
            "header": {
             "fill": {
              "color": "#C8D4E3"
             },
             "line": {
              "color": "white"
             }
            },
            "type": "table"
           }
          ]
         },
         "layout": {
          "annotationdefaults": {
           "arrowcolor": "#2a3f5f",
           "arrowhead": 0,
           "arrowwidth": 1
          },
          "autotypenumbers": "strict",
          "coloraxis": {
           "colorbar": {
            "outlinewidth": 0,
            "ticks": ""
           }
          },
          "colorscale": {
           "diverging": [
            [
             0,
             "#8e0152"
            ],
            [
             0.1,
             "#c51b7d"
            ],
            [
             0.2,
             "#de77ae"
            ],
            [
             0.3,
             "#f1b6da"
            ],
            [
             0.4,
             "#fde0ef"
            ],
            [
             0.5,
             "#f7f7f7"
            ],
            [
             0.6,
             "#e6f5d0"
            ],
            [
             0.7,
             "#b8e186"
            ],
            [
             0.8,
             "#7fbc41"
            ],
            [
             0.9,
             "#4d9221"
            ],
            [
             1,
             "#276419"
            ]
           ],
           "sequential": [
            [
             0,
             "#0d0887"
            ],
            [
             0.1111111111111111,
             "#46039f"
            ],
            [
             0.2222222222222222,
             "#7201a8"
            ],
            [
             0.3333333333333333,
             "#9c179e"
            ],
            [
             0.4444444444444444,
             "#bd3786"
            ],
            [
             0.5555555555555556,
             "#d8576b"
            ],
            [
             0.6666666666666666,
             "#ed7953"
            ],
            [
             0.7777777777777778,
             "#fb9f3a"
            ],
            [
             0.8888888888888888,
             "#fdca26"
            ],
            [
             1,
             "#f0f921"
            ]
           ],
           "sequentialminus": [
            [
             0,
             "#0d0887"
            ],
            [
             0.1111111111111111,
             "#46039f"
            ],
            [
             0.2222222222222222,
             "#7201a8"
            ],
            [
             0.3333333333333333,
             "#9c179e"
            ],
            [
             0.4444444444444444,
             "#bd3786"
            ],
            [
             0.5555555555555556,
             "#d8576b"
            ],
            [
             0.6666666666666666,
             "#ed7953"
            ],
            [
             0.7777777777777778,
             "#fb9f3a"
            ],
            [
             0.8888888888888888,
             "#fdca26"
            ],
            [
             1,
             "#f0f921"
            ]
           ]
          },
          "colorway": [
           "#636efa",
           "#EF553B",
           "#00cc96",
           "#ab63fa",
           "#FFA15A",
           "#19d3f3",
           "#FF6692",
           "#B6E880",
           "#FF97FF",
           "#FECB52"
          ],
          "font": {
           "color": "#2a3f5f"
          },
          "geo": {
           "bgcolor": "white",
           "lakecolor": "white",
           "landcolor": "#E5ECF6",
           "showlakes": true,
           "showland": true,
           "subunitcolor": "white"
          },
          "hoverlabel": {
           "align": "left"
          },
          "hovermode": "closest",
          "mapbox": {
           "style": "light"
          },
          "paper_bgcolor": "white",
          "plot_bgcolor": "#E5ECF6",
          "polar": {
           "angularaxis": {
            "gridcolor": "white",
            "linecolor": "white",
            "ticks": ""
           },
           "bgcolor": "#E5ECF6",
           "radialaxis": {
            "gridcolor": "white",
            "linecolor": "white",
            "ticks": ""
           }
          },
          "scene": {
           "xaxis": {
            "backgroundcolor": "#E5ECF6",
            "gridcolor": "white",
            "gridwidth": 2,
            "linecolor": "white",
            "showbackground": true,
            "ticks": "",
            "zerolinecolor": "white"
           },
           "yaxis": {
            "backgroundcolor": "#E5ECF6",
            "gridcolor": "white",
            "gridwidth": 2,
            "linecolor": "white",
            "showbackground": true,
            "ticks": "",
            "zerolinecolor": "white"
           },
           "zaxis": {
            "backgroundcolor": "#E5ECF6",
            "gridcolor": "white",
            "gridwidth": 2,
            "linecolor": "white",
            "showbackground": true,
            "ticks": "",
            "zerolinecolor": "white"
           }
          },
          "shapedefaults": {
           "line": {
            "color": "#2a3f5f"
           }
          },
          "ternary": {
           "aaxis": {
            "gridcolor": "white",
            "linecolor": "white",
            "ticks": ""
           },
           "baxis": {
            "gridcolor": "white",
            "linecolor": "white",
            "ticks": ""
           },
           "bgcolor": "#E5ECF6",
           "caxis": {
            "gridcolor": "white",
            "linecolor": "white",
            "ticks": ""
           }
          },
          "title": {
           "x": 0.05
          },
          "xaxis": {
           "automargin": true,
           "gridcolor": "white",
           "linecolor": "white",
           "ticks": "",
           "title": {
            "standoff": 15
           },
           "zerolinecolor": "white",
           "zerolinewidth": 2
          },
          "yaxis": {
           "automargin": true,
           "gridcolor": "white",
           "linecolor": "white",
           "ticks": "",
           "title": {
            "standoff": 15
           },
           "zerolinecolor": "white",
           "zerolinewidth": 2
          }
         }
        },
        "title": {
         "text": "Price Distribution for 2024-02-10 - Açúcar Refinado União 1Kg"
        },
        "xaxis": {
         "title": {
          "text": "Price"
         }
        },
        "yaxis": {
         "title": {
          "text": "Frequency"
         }
        }
       }
      },
      "text/html": [
       "<div>                            <div id=\"31f85c8f-7e29-4f79-a7a2-6735d0b2cf66\" class=\"plotly-graph-div\" style=\"height:800px; width:100%;\"></div>            <script type=\"text/javascript\">                require([\"plotly\"], function(Plotly) {                    window.PLOTLYENV=window.PLOTLYENV || {};                                    if (document.getElementById(\"31f85c8f-7e29-4f79-a7a2-6735d0b2cf66\")) {                    Plotly.newPlot(                        \"31f85c8f-7e29-4f79-a7a2-6735d0b2cf66\",                        [{\"name\": \"Atacado - Assai Atacadista\", \"nbinsx\": 30, \"opacity\": 0.75, \"type\": \"histogram\", \"x\": [4.29, 4.29, 4.29, 4.29, 4.29, 4.29, 4.29, 4.29, 4.29, 4.39, 4.39, 4.29, 4.29, 4.29, 4.29, 4.29, 4.29, 4.29, 4.29, 4.29, 4.29, 4.29, 4.29, 4.29, 4.29, 4.29, 4.39, 4.29, 4.29, 4.29, 4.29, 4.29, 4.29, 4.29, 4.29, 4.29, 4.29, 4.29, 4.29, 4.29, 4.29, 4.29, 4.29, 4.29, 4.29, 4.39, 4.29, 4.39, 4.29, 4.29, 4.29]}, {\"name\": \"Atacado - Comercial Esperan\\u00e7a\", \"nbinsx\": 30, \"opacity\": 0.75, \"type\": \"histogram\", \"x\": [3.95, 3.95, 3.95, 3.95, 3.95, 3.95, 3.95, 3.95, 3.95]}, {\"name\": \"Atacado - Atacad\\u00e3o\", \"nbinsx\": 30, \"opacity\": 0.75, \"type\": \"histogram\", \"x\": [4.3, 4.3, 4.3, 4.3, 4.3, 4.3, 4.3, 4.3, 4.3, 4.3, 4.3, 4.3, 4.3, 4.3, 4.3, 4.3, 4.3, 4.3, 4.3, 4.3, 4.3, 4.3, 4.3, 4.3, 4.3, 4.3, 4.3, 4.3, 4.3, 4.3, 4.3, 4.3, 4.3, 4.3, 4.3, 4.3, 4.3, 4.3, 4.64, 4.3, 4.3, 4.3, 4.3, 4.3, 4.3, 4.3, 4.3, 4.3, 4.3, 4.3, 4.3, 4.3, 4.3]}, {\"name\": \"Atacado - Spani\", \"nbinsx\": 30, \"opacity\": 0.75, \"type\": \"histogram\", \"x\": [4.89, 4.89, 4.89, 4.89, 4.89, 4.89, 4.89, 4.89, 4.89, 4.89, 4.89, 4.89, 4.89]}, {\"name\": \"Atacado - Atacadista Roldao\", \"nbinsx\": 30, \"opacity\": 0.75, \"type\": \"histogram\", \"x\": [4.51, 4.51, 4.51, 4.51, 4.51, 4.51, 4.32, 4.55, 4.51, 4.51, 4.32, 4.51, 4.32, 4.32, 4.51, 4.55, 4.51, 4.55, 4.32, 4.55]}, {\"name\": \"Atacado - Zaragoza\", \"nbinsx\": 30, \"opacity\": 0.75, \"type\": \"histogram\", \"x\": [4.89, 4.89]}, {\"name\": \"Atacado - Poupaki Atacadista\", \"nbinsx\": 30, \"opacity\": 0.75, \"type\": \"histogram\", \"x\": [5.18, 5.18]}, {\"name\": \"Atacado - Negreiros\", \"nbinsx\": 30, \"opacity\": 0.75, \"type\": \"histogram\", \"x\": [4.29]}, {\"name\": \"Atacado - Maxxi\", \"nbinsx\": 30, \"opacity\": 0.75, \"type\": \"histogram\", \"x\": [4.3, 4.3, 4.64]}, {\"name\": \"Atacado - Akki Atacadista\", \"nbinsx\": 30, \"opacity\": 0.75, \"type\": \"histogram\", \"x\": [4.79, 4.79, 4.39, 4.79]}, {\"name\": \"Atacado - Vale Mais Atacadista\", \"nbinsx\": 30, \"opacity\": 0.75, \"type\": \"histogram\", \"x\": [4.49]}, {\"name\": \"Atacado - Grupo Camanducaia\", \"nbinsx\": 30, \"opacity\": 0.75, \"type\": \"histogram\", \"x\": [5.75]}, {\"name\": \"Atacado - Sams Club\", \"nbinsx\": 30, \"opacity\": 0.75, \"type\": \"histogram\", \"x\": [3.99, 3.99, 3.99, 3.99]}, {\"name\": \"Atacado - Comercial Esperanca Atacadista\", \"nbinsx\": 30, \"opacity\": 0.75, \"type\": \"histogram\", \"x\": [3.89]}, {\"name\": \"Atacado - Tenda\", \"nbinsx\": 30, \"opacity\": 0.75, \"type\": \"histogram\", \"x\": [4.17, 4.29, 4.34, 4.32, 4.41, 4.17, 4.21, 4.29, 4.04, 4.29, 4.19]}, {\"name\": \"Atacado - Atacadao Dia A Dia\", \"nbinsx\": 30, \"opacity\": 0.75, \"type\": \"histogram\", \"x\": [5.69]}, {\"name\": \"Atacado - Brasileirao Atacado\", \"nbinsx\": 30, \"opacity\": 0.75, \"type\": \"histogram\", \"x\": [4.99]}, {\"name\": \"Atacado - Peg Pese\", \"nbinsx\": 30, \"opacity\": 0.75, \"type\": \"histogram\", \"x\": [5.16, 5.16]}, {\"name\": \"Atacado - Giga Atacado\", \"nbinsx\": 30, \"opacity\": 0.75, \"type\": \"histogram\", \"x\": [4.29]}, {\"name\": \"Atacado - Comercio Tunis\", \"nbinsx\": 30, \"opacity\": 0.75, \"type\": \"histogram\", \"x\": [4.89]}, {\"name\": \"Atacado - Max Atacadista\", \"nbinsx\": 30, \"opacity\": 0.75, \"type\": \"histogram\", \"x\": [4.19, 4.39, 4.2, 4.71]}, {\"name\": \"Atacado - Dica_distribuidora\", \"nbinsx\": 30, \"opacity\": 0.75, \"type\": \"histogram\", \"x\": [4.79]}],                        {\"barmode\": \"stack\", \"height\": 800, \"legend\": {\"orientation\": \"h\", \"title\": {\"text\": \"Store\"}, \"x\": 0.5, \"xanchor\": \"center\", \"y\": -0.2, \"yanchor\": \"top\"}, \"template\": {\"data\": {\"bar\": [{\"error_x\": {\"color\": \"#2a3f5f\"}, \"error_y\": {\"color\": \"#2a3f5f\"}, \"marker\": {\"line\": {\"color\": \"#E5ECF6\", \"width\": 0.5}}, \"type\": \"bar\"}], \"barpolar\": [{\"marker\": {\"line\": {\"color\": \"#E5ECF6\", \"width\": 0.5}}, \"type\": \"barpolar\"}], \"carpet\": [{\"aaxis\": {\"endlinecolor\": \"#2a3f5f\", \"gridcolor\": \"white\", \"linecolor\": \"white\", \"minorgridcolor\": \"white\", \"startlinecolor\": \"#2a3f5f\"}, \"baxis\": {\"endlinecolor\": \"#2a3f5f\", \"gridcolor\": \"white\", \"linecolor\": \"white\", \"minorgridcolor\": \"white\", \"startlinecolor\": \"#2a3f5f\"}, \"type\": \"carpet\"}], \"choropleth\": [{\"colorbar\": {\"outlinewidth\": 0, \"ticks\": \"\"}, \"type\": \"choropleth\"}], \"contour\": [{\"colorbar\": {\"outlinewidth\": 0, \"ticks\": \"\"}, \"colorscale\": [[0.0, \"#0d0887\"], [0.1111111111111111, \"#46039f\"], [0.2222222222222222, \"#7201a8\"], [0.3333333333333333, \"#9c179e\"], [0.4444444444444444, \"#bd3786\"], [0.5555555555555556, \"#d8576b\"], [0.6666666666666666, \"#ed7953\"], [0.7777777777777778, \"#fb9f3a\"], [0.8888888888888888, \"#fdca26\"], [1.0, \"#f0f921\"]], \"type\": \"contour\"}], \"contourcarpet\": [{\"colorbar\": {\"outlinewidth\": 0, \"ticks\": \"\"}, \"type\": \"contourcarpet\"}], \"heatmap\": [{\"colorbar\": {\"outlinewidth\": 0, \"ticks\": \"\"}, \"colorscale\": [[0.0, \"#0d0887\"], [0.1111111111111111, \"#46039f\"], [0.2222222222222222, \"#7201a8\"], [0.3333333333333333, \"#9c179e\"], [0.4444444444444444, \"#bd3786\"], [0.5555555555555556, \"#d8576b\"], [0.6666666666666666, \"#ed7953\"], [0.7777777777777778, \"#fb9f3a\"], [0.8888888888888888, \"#fdca26\"], [1.0, \"#f0f921\"]], \"type\": \"heatmap\"}], \"heatmapgl\": [{\"colorbar\": {\"outlinewidth\": 0, \"ticks\": \"\"}, \"colorscale\": [[0.0, \"#0d0887\"], [0.1111111111111111, \"#46039f\"], [0.2222222222222222, \"#7201a8\"], [0.3333333333333333, \"#9c179e\"], [0.4444444444444444, \"#bd3786\"], [0.5555555555555556, \"#d8576b\"], [0.6666666666666666, \"#ed7953\"], [0.7777777777777778, \"#fb9f3a\"], [0.8888888888888888, \"#fdca26\"], [1.0, \"#f0f921\"]], \"type\": \"heatmapgl\"}], \"histogram\": [{\"marker\": {\"colorbar\": {\"outlinewidth\": 0, \"ticks\": \"\"}}, \"type\": \"histogram\"}], \"histogram2d\": [{\"colorbar\": {\"outlinewidth\": 0, \"ticks\": \"\"}, \"colorscale\": [[0.0, \"#0d0887\"], [0.1111111111111111, \"#46039f\"], [0.2222222222222222, \"#7201a8\"], [0.3333333333333333, \"#9c179e\"], [0.4444444444444444, \"#bd3786\"], [0.5555555555555556, \"#d8576b\"], [0.6666666666666666, \"#ed7953\"], [0.7777777777777778, \"#fb9f3a\"], [0.8888888888888888, \"#fdca26\"], [1.0, \"#f0f921\"]], \"type\": \"histogram2d\"}], \"histogram2dcontour\": [{\"colorbar\": {\"outlinewidth\": 0, \"ticks\": \"\"}, \"colorscale\": [[0.0, \"#0d0887\"], [0.1111111111111111, \"#46039f\"], [0.2222222222222222, \"#7201a8\"], [0.3333333333333333, \"#9c179e\"], [0.4444444444444444, \"#bd3786\"], [0.5555555555555556, \"#d8576b\"], [0.6666666666666666, \"#ed7953\"], [0.7777777777777778, \"#fb9f3a\"], [0.8888888888888888, \"#fdca26\"], [1.0, \"#f0f921\"]], \"type\": \"histogram2dcontour\"}], \"mesh3d\": [{\"colorbar\": {\"outlinewidth\": 0, \"ticks\": \"\"}, \"type\": \"mesh3d\"}], \"parcoords\": [{\"line\": {\"colorbar\": {\"outlinewidth\": 0, \"ticks\": \"\"}}, \"type\": \"parcoords\"}], \"pie\": [{\"automargin\": true, \"type\": \"pie\"}], \"scatter\": [{\"marker\": {\"colorbar\": {\"outlinewidth\": 0, \"ticks\": \"\"}}, \"type\": \"scatter\"}], \"scatter3d\": [{\"line\": {\"colorbar\": {\"outlinewidth\": 0, \"ticks\": \"\"}}, \"marker\": {\"colorbar\": {\"outlinewidth\": 0, \"ticks\": \"\"}}, \"type\": \"scatter3d\"}], \"scattercarpet\": [{\"marker\": {\"colorbar\": {\"outlinewidth\": 0, \"ticks\": \"\"}}, \"type\": \"scattercarpet\"}], \"scattergeo\": [{\"marker\": {\"colorbar\": {\"outlinewidth\": 0, \"ticks\": \"\"}}, \"type\": \"scattergeo\"}], \"scattergl\": [{\"marker\": {\"colorbar\": {\"outlinewidth\": 0, \"ticks\": \"\"}}, \"type\": \"scattergl\"}], \"scattermapbox\": [{\"marker\": {\"colorbar\": {\"outlinewidth\": 0, \"ticks\": \"\"}}, \"type\": \"scattermapbox\"}], \"scatterpolar\": [{\"marker\": {\"colorbar\": {\"outlinewidth\": 0, \"ticks\": \"\"}}, \"type\": \"scatterpolar\"}], \"scatterpolargl\": [{\"marker\": {\"colorbar\": {\"outlinewidth\": 0, \"ticks\": \"\"}}, \"type\": \"scatterpolargl\"}], \"scatterternary\": [{\"marker\": {\"colorbar\": {\"outlinewidth\": 0, \"ticks\": \"\"}}, \"type\": \"scatterternary\"}], \"surface\": [{\"colorbar\": {\"outlinewidth\": 0, \"ticks\": \"\"}, \"colorscale\": [[0.0, \"#0d0887\"], [0.1111111111111111, \"#46039f\"], [0.2222222222222222, \"#7201a8\"], [0.3333333333333333, \"#9c179e\"], [0.4444444444444444, \"#bd3786\"], [0.5555555555555556, \"#d8576b\"], [0.6666666666666666, \"#ed7953\"], [0.7777777777777778, \"#fb9f3a\"], [0.8888888888888888, \"#fdca26\"], [1.0, \"#f0f921\"]], \"type\": \"surface\"}], \"table\": [{\"cells\": {\"fill\": {\"color\": \"#EBF0F8\"}, \"line\": {\"color\": \"white\"}}, \"header\": {\"fill\": {\"color\": \"#C8D4E3\"}, \"line\": {\"color\": \"white\"}}, \"type\": \"table\"}]}, \"layout\": {\"annotationdefaults\": {\"arrowcolor\": \"#2a3f5f\", \"arrowhead\": 0, \"arrowwidth\": 1}, \"autotypenumbers\": \"strict\", \"coloraxis\": {\"colorbar\": {\"outlinewidth\": 0, \"ticks\": \"\"}}, \"colorscale\": {\"diverging\": [[0, \"#8e0152\"], [0.1, \"#c51b7d\"], [0.2, \"#de77ae\"], [0.3, \"#f1b6da\"], [0.4, \"#fde0ef\"], [0.5, \"#f7f7f7\"], [0.6, \"#e6f5d0\"], [0.7, \"#b8e186\"], [0.8, \"#7fbc41\"], [0.9, \"#4d9221\"], [1, \"#276419\"]], \"sequential\": [[0.0, \"#0d0887\"], [0.1111111111111111, \"#46039f\"], [0.2222222222222222, \"#7201a8\"], [0.3333333333333333, \"#9c179e\"], [0.4444444444444444, \"#bd3786\"], [0.5555555555555556, \"#d8576b\"], [0.6666666666666666, \"#ed7953\"], [0.7777777777777778, \"#fb9f3a\"], [0.8888888888888888, \"#fdca26\"], [1.0, \"#f0f921\"]], \"sequentialminus\": [[0.0, \"#0d0887\"], [0.1111111111111111, \"#46039f\"], [0.2222222222222222, \"#7201a8\"], [0.3333333333333333, \"#9c179e\"], [0.4444444444444444, \"#bd3786\"], [0.5555555555555556, \"#d8576b\"], [0.6666666666666666, \"#ed7953\"], [0.7777777777777778, \"#fb9f3a\"], [0.8888888888888888, \"#fdca26\"], [1.0, \"#f0f921\"]]}, \"colorway\": [\"#636efa\", \"#EF553B\", \"#00cc96\", \"#ab63fa\", \"#FFA15A\", \"#19d3f3\", \"#FF6692\", \"#B6E880\", \"#FF97FF\", \"#FECB52\"], \"font\": {\"color\": \"#2a3f5f\"}, \"geo\": {\"bgcolor\": \"white\", \"lakecolor\": \"white\", \"landcolor\": \"#E5ECF6\", \"showlakes\": true, \"showland\": true, \"subunitcolor\": \"white\"}, \"hoverlabel\": {\"align\": \"left\"}, \"hovermode\": \"closest\", \"mapbox\": {\"style\": \"light\"}, \"paper_bgcolor\": \"white\", \"plot_bgcolor\": \"#E5ECF6\", \"polar\": {\"angularaxis\": {\"gridcolor\": \"white\", \"linecolor\": \"white\", \"ticks\": \"\"}, \"bgcolor\": \"#E5ECF6\", \"radialaxis\": {\"gridcolor\": \"white\", \"linecolor\": \"white\", \"ticks\": \"\"}}, \"scene\": {\"xaxis\": {\"backgroundcolor\": \"#E5ECF6\", \"gridcolor\": \"white\", \"gridwidth\": 2, \"linecolor\": \"white\", \"showbackground\": true, \"ticks\": \"\", \"zerolinecolor\": \"white\"}, \"yaxis\": {\"backgroundcolor\": \"#E5ECF6\", \"gridcolor\": \"white\", \"gridwidth\": 2, \"linecolor\": \"white\", \"showbackground\": true, \"ticks\": \"\", \"zerolinecolor\": \"white\"}, \"zaxis\": {\"backgroundcolor\": \"#E5ECF6\", \"gridcolor\": \"white\", \"gridwidth\": 2, \"linecolor\": \"white\", \"showbackground\": true, \"ticks\": \"\", \"zerolinecolor\": \"white\"}}, \"shapedefaults\": {\"line\": {\"color\": \"#2a3f5f\"}}, \"ternary\": {\"aaxis\": {\"gridcolor\": \"white\", \"linecolor\": \"white\", \"ticks\": \"\"}, \"baxis\": {\"gridcolor\": \"white\", \"linecolor\": \"white\", \"ticks\": \"\"}, \"bgcolor\": \"#E5ECF6\", \"caxis\": {\"gridcolor\": \"white\", \"linecolor\": \"white\", \"ticks\": \"\"}}, \"title\": {\"x\": 0.05}, \"xaxis\": {\"automargin\": true, \"gridcolor\": \"white\", \"linecolor\": \"white\", \"ticks\": \"\", \"title\": {\"standoff\": 15}, \"zerolinecolor\": \"white\", \"zerolinewidth\": 2}, \"yaxis\": {\"automargin\": true, \"gridcolor\": \"white\", \"linecolor\": \"white\", \"ticks\": \"\", \"title\": {\"standoff\": 15}, \"zerolinecolor\": \"white\", \"zerolinewidth\": 2}}}, \"title\": {\"text\": \"Price Distribution for 2024-02-10 - A\\u00e7\\u00facar Refinado Uni\\u00e3o 1Kg\"}, \"xaxis\": {\"title\": {\"text\": \"Price\"}}, \"yaxis\": {\"title\": {\"text\": \"Frequency\"}}},                        {\"responsive\": true}                    ).then(function(){\n",
       "                            \n",
       "var gd = document.getElementById('31f85c8f-7e29-4f79-a7a2-6735d0b2cf66');\n",
       "var x = new MutationObserver(function (mutations, observer) {{\n",
       "        var display = window.getComputedStyle(gd).display;\n",
       "        if (!display || display === 'none') {{\n",
       "            console.log([gd, 'removed!']);\n",
       "            Plotly.purge(gd);\n",
       "            observer.disconnect();\n",
       "        }}\n",
       "}});\n",
       "\n",
       "// Listen for the removal of the full notebook cells\n",
       "var notebookContainer = gd.closest('#notebook-container');\n",
       "if (notebookContainer) {{\n",
       "    x.observe(notebookContainer, {childList: true});\n",
       "}}\n",
       "\n",
       "// Listen for the clearing of the current output cell\n",
       "var outputEl = gd.closest('.output');\n",
       "if (outputEl) {{\n",
       "    x.observe(outputEl, {childList: true});\n",
       "}}\n",
       "\n",
       "                        })                };                });            </script>        </div>"
      ]
     },
     "metadata": {},
     "output_type": "display_data"
    },
    {
     "data": {
      "text/plain": [
       "<function __main__.plot_price_distribution(selected_date)>"
      ]
     },
     "execution_count": 31,
     "metadata": {},
     "output_type": "execute_result"
    }
   ],
   "source": [
    "import pandas as pd\n",
    "import plotly.express as px\n",
    "import plotly.graph_objects as go\n",
    "import ipywidgets as widgets\n",
    "from IPython.display import display\n",
    "\n",
    "# Load the data (ensure df2 is loaded appropriately)\n",
    "\n",
    "# Convert the 'quotation_date' to datetime if it's not already\n",
    "df2['quotation_date'] = pd.to_datetime(df2['quotation_date'])\n",
    "\n",
    "# Extract the unique quotation dates for the dropdown\n",
    "dates = sorted(df2['quotation_date'].dt.date.unique())\n",
    "\n",
    "# Create a dropdown widget\n",
    "dropdown = widgets.Dropdown(\n",
    "    options=dates,\n",
    "    value=dates[0],\n",
    "    description='Date:',\n",
    "    style={'description_width': 'initial'}\n",
    ")\n",
    "\n",
    "def plot_price_distribution(selected_date):\n",
    "    selected_date = pd.to_datetime(selected_date)\n",
    "    filtered_df2 = df2[(df2['source_id'] == 73456) & (df2['quotation_date'].dt.date == selected_date.date())]\n",
    "    \n",
    "    # Create the figure\n",
    "    fig = go.Figure(layout=go.Layout(height=800))\n",
    "    \n",
    "    # Add histogram traces for each store\n",
    "    for store in filtered_df2['store'].unique():\n",
    "        store_data = filtered_df2[filtered_df2['store'] == store]\n",
    "        fig.add_trace(go.Histogram(\n",
    "            x=store_data['price'],\n",
    "            name=store,\n",
    "            nbinsx=30,\n",
    "            opacity=0.75\n",
    "        ))\n",
    "    \n",
    "    # Update the layout for stacked histogram\n",
    "    fig.update_layout(\n",
    "        barmode='stack',\n",
    "        title=f'Price Distribution for {selected_date.strftime(\"%Y-%m-%d\")} - {filtered_df2.product_name.values[0]}',\n",
    "        xaxis_title='Price',\n",
    "        yaxis_title='Frequency',\n",
    "        legend_title='Store',\n",
    "        legend=dict(orientation=\"h\", yanchor=\"top\", y=-0.2, xanchor=\"center\", x=0.5)\n",
    "    )\n",
    "    \n",
    "    fig.show()\n",
    "\n",
    "# Use the dropdown value to update the plot\n",
    "widgets.interact(plot_price_distribution, selected_date=dropdown)"
   ]
  }
 ],
 "metadata": {
  "kernelspec": {
   "display_name": "Python 3",
   "language": "python",
   "name": "python3"
  },
  "language_info": {
   "codemirror_mode": {
    "name": "ipython",
    "version": 3
   },
   "file_extension": ".py",
   "mimetype": "text/x-python",
   "name": "python",
   "nbconvert_exporter": "python",
   "pygments_lexer": "ipython3",
   "version": "3.7.9"
  }
 },
 "nbformat": 4,
 "nbformat_minor": 2
}
