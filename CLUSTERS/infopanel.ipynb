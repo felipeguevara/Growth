{
 "cells": [
  {
   "cell_type": "code",
   "execution_count": 1,
   "metadata": {},
   "outputs": [],
   "source": [
    "#//LIBRARIES\n",
    "import math\n",
    "import numpy as np\n",
    "import pandas as pd\n",
    "\n",
    "import sys\n",
    "import os \n",
    "sys.path.append(os.path.expanduser('~'))\n",
    "\n",
    "from analysts_tools.growth import *\n",
    "\n",
    "#Procurement tools\n",
    "from procurement_lib import send_slack_notification,GoogleSheet,redash\n",
    "from analystcommunity.read_connection_data_warehouse import run_read_dwd_query\n",
    "\n",
    "from datetime import datetime, timedelta"
   ]
  },
  {
   "cell_type": "code",
   "execution_count": 2,
   "metadata": {},
   "outputs": [],
   "source": [
    "df_sheet=GoogleSheet(\"1mkqot1agSekg1czi6PU8Qv5vS8niK6MQTnSHaBRIqPU\")\n",
    "df_join = df_sheet.get_as_dataframe('60')"
   ]
  },
  {
   "cell_type": "code",
   "execution_count": 3,
   "metadata": {},
   "outputs": [],
   "source": [
    "df_bench_info = pd.read_excel(\"Dados Painel InfoPrice-1731448815934.xlsx\")\n",
    "df_bench_info1 = df_bench_info.merge(df_join, left_on=['Identificador Produto'],right_on='ean',how='inner')\n",
    "df_bench_info1['quotation_date'] = pd.to_datetime(df_bench_info1['quotation_date'], format='%d/%m/%Y').dt.strftime('%Y-%m-%d')"
   ]
  },
  {
   "cell_type": "code",
   "execution_count": 4,
   "metadata": {},
   "outputs": [],
   "source": [
    "# Info bench fru\n",
    "query = \"\"\"\n",
    "select\n",
    "    cpp.collected_product_prices_id,\n",
    "    quotation_date.full_date AS quotation_date,\n",
    "    competitor.competitor_name,\n",
    "    source_type.description as source_type,\n",
    "    cat.parent_description as category,\n",
    "    su.source_id,\n",
    "    su.description,\n",
    "    cpp.product_selected_price::float as price\n",
    "from dpr_product_pricing.fact_collected_product_prices cpp\n",
    "    inner join dpr_shared.dim_date quotation_date\n",
    "        on cpp.dim_quotation_date = quotation_date.date_id\n",
    "    inner join dpr_shared.dim_time quotation_time\n",
    "        on cpp.dim_quotation_time = quotation_time.time_id\n",
    "    inner join dpr_shared.dim_site site\n",
    "        on cpp.dim_site = site.site_id\n",
    "    inner join dpr_shared.dim_category cat\n",
    "        on cpp.dim_category = cat.category_id\n",
    "    inner join dpr_product_pricing.dim_product_outlier_type outlier_type\n",
    "        on cpp.dim_outlier_type = outlier_type.outlier_type_id\n",
    "    inner join dpr_product_pricing.dim_product_source_type source_type\n",
    "        on cpp.dim_source_type = source_type.source_type_id\n",
    "    inner join dpr_product_pricing.dim_product_competitor competitor\n",
    "        on cpp.dim_competitor = competitor.competitor_id\n",
    "   inner join dpr_product_pricing.dim_product_competitor_type competitor_type \n",
    "        on cpp.dim_product_competitor_type = competitor_type.competitor_type_id\n",
    "    inner join dpr_shared.dim_stock_unit su\n",
    "        on cpp.dim_stock_unit = su.stock_unit_id\n",
    "where quotation_date.full_date > '2024-11-12'-30\n",
    "    and site.identifier_value = 'SPO'\n",
    "    AND source_type.description IN ('Zukkin','Scrapers','Infoprice')\n",
    "    AND competitor_type.description='Main_Competitor'\n",
    "    AND (\n",
    "        competitor.competitor_name NOT ILIKE '%cayena%'\n",
    "        AND competitor.competitor_name <> 'Atacadao_V2'\n",
    "    )\n",
    "    and su.source_parent_id = 0\n",
    "    and su.source_id in (483012,105608,633637,653005,363775,73456,363754,363767,277873,452047,452043,277874,165988,284509,278348,153089,72488,154464,173891,173909,572871,648293,648297,296389,235489,72497,72329,278407,168290,284509,105608,632851,73557,124907,124405,93574,384239,277866,597691,356893,588033,597183,105599)\n",
    "\"\"\"\n",
    "df_bench_fru = run_read_dwd_query(query)"
   ]
  },
  {
   "cell_type": "code",
   "execution_count": null,
   "metadata": {},
   "outputs": [],
   "source": [
    "# Function to calculate the required statistics\n",
    "def calculate_statistics(df):\n",
    "    return df.groupby(['quotation_date','source_id'])['price'].agg(\n",
    "        num_data_points='count',\n",
    "        num_competitors=lambda x: df.loc[x.index, 'competitor_name'].nunique(),\n",
    "        min_price='min',\n",
    "        avg_price='mean',\n",
    "        median_price='median',\n",
    "        max_price='max',\n",
    "        #delta_min_max=lambda x: x.max() - x.min()\n",
    "    ).reset_index()"
   ]
  },
  {
   "cell_type": "code",
   "execution_count": 6,
   "metadata": {},
   "outputs": [],
   "source": [
    "def get_info(df_zkkkkk):\n",
    "    # Ensure dataframe is sorted by 'quotation_date'\n",
    "    df_zkkkkk = df_zkkkkk.sort_values(by='quotation_date')\n",
    "    df_zkkkkk['quotation_date'] = pd.to_datetime(df_zkkkkk['quotation_date'], errors='coerce')\n",
    "\n",
    "\n",
    "    # Generate the required rows for missing dates\n",
    "    new_rows = []\n",
    "\n",
    "    for (competitor, source_id), group in df_zkkkkk.groupby(['competitor_name', 'source_id']):\n",
    "        group = group.sort_values(by='quotation_date')\n",
    "        group['quotation_date'] = pd.to_datetime(group['quotation_date'], errors='coerce')\n",
    "        last_known_price = None\n",
    "        last_known_date = None\n",
    "        lifetime = 8\n",
    "        \n",
    "        for current_index in range(len(group)):\n",
    "            current_date = group.iloc[current_index]['quotation_date']\n",
    "            price = group.iloc[current_index]['price']\n",
    "            \n",
    "            # If this is not the first iteration, fill in missing dates\n",
    "            if last_known_date is not None:\n",
    "                days_diff = (current_date - last_known_date).days\n",
    "                if days_diff > 1:\n",
    "                    for j in range(1, min(days_diff, lifetime + 1)):\n",
    "                        new_date = last_known_date + timedelta(days=j)\n",
    "                        new_row = {\n",
    "                            'quotation_date': new_date,\n",
    "                            'competitor_name': competitor,\n",
    "                            'source_id': source_id,\n",
    "                            'price': last_known_price,\n",
    "                            'lifetime': lifetime - j\n",
    "                        }\n",
    "                        new_rows.append(new_row)\n",
    "                        \n",
    "                        # Stop if we reach a new datapoint date\n",
    "                        if new_date + timedelta(days=1) == current_date:\n",
    "                            break\n",
    "            \n",
    "            # Update the last known values and reset lifetime\n",
    "            last_known_price = price\n",
    "            last_known_date = current_date\n",
    "            lifetime = 8  # Reset lifetime\n",
    "\n",
    "        # After processing all known dates for the group, continue generating rows until lifetime reaches 0\n",
    "        while lifetime > 0:\n",
    "            last_known_date += timedelta(days=1)\n",
    "            new_row = {\n",
    "                'quotation_date': last_known_date,\n",
    "                'competitor_name': competitor,\n",
    "                'source_id': source_id,\n",
    "                'price': last_known_price,\n",
    "                'lifetime': lifetime - 1\n",
    "            }\n",
    "            new_rows.append(new_row)\n",
    "            lifetime -= 1\n",
    "\n",
    "    # Append new rows to the dataframe\n",
    "    df_zkkkkk = df_zkkkkk.append(new_rows, ignore_index=True)\n",
    "\n",
    "    df_bench = df_zkkkkk.copy()\n",
    "\n",
    "    # Calculate statistics for all competitors\n",
    "    stats_all = calculate_statistics(df_bench)\n",
    "    stats_all.columns = ['quotation_date','source_id', 'POINTS Med ALL', 'num_competitors_all', 'min_price_all', 'avg_price_all', 'Med ALL', 'max_price_all']\n",
    "\n",
    "    # Filter for competitors that include \"assai\" in their name and calculate statistics\n",
    "    df_assai = df_bench[df_bench['competitor_name'].str.contains(r'assai|assaí', case=False, na=False, regex=True)]\n",
    "    stats_assai = calculate_statistics(df_assai)\n",
    "    stats_assai.columns = ['quotation_date','source_id', 'POINTS Med Assai', 'num_competitors_assai', 'min_price_assai', 'avg_price_assai', 'Med Assai', 'max_price_assai']\n",
    "\n",
    "    # Filter for competitors that include \"atacadao\" or \"atacadão\" in their name and calculate statistics\n",
    "    df_atacadao = df_bench[df_bench['competitor_name'].str.match(r'(?i)^atacad[aã]o') & ~df_bench['competitor_name'].str.contains(r'(?i)^Atacadao_V2$')]\n",
    "    stats_atacadao = calculate_statistics(df_atacadao)\n",
    "    stats_atacadao.columns = ['quotation_date','source_id', 'POINTS Med Atacadao', 'num_competitors_atacadao', 'min_price_atacadao', 'avg_price_atacadao', 'Med Atacadao', 'max_price_atacadao']\n",
    "\n",
    "    # # Filter for competitors that include \"atacadao_v2\" the scrapper\n",
    "    # df_scrapper_atacadao = df_bench[df_bench['competitor_name'].str.contains(r'(?i)^Atacadao_V2$')]\n",
    "    # stats_scrapper_atacadao = calculate_statistics(df_scrapper_atacadao)\n",
    "    # stats_scrapper_atacadao.columns = ['quotation_date','source_id', 'POINTS Scrp. Atacadao', 'num_competitors_atacadao_scrapper', 'Scrp. Atacadao', 'avg_price_atacadao_scrapper', 'Med atacadao_scrapper', 'max_price_atacadao_scrapper']\n",
    "\n",
    "    # Merge the results\n",
    "    bench_df = stats_all.merge(stats_assai, on=['quotation_date','source_id'], how='left').merge(stats_atacadao, on=['quotation_date','source_id'], how='left')#.merge(stats_scrapper_atacadao, on=['quotation_date','source_id'], how='left')\n",
    "\n",
    "    return bench_df,df_zkkkkk[['quotation_date','competitor_name','source_id','price','lifetime']],df_assai"
   ]
  },
  {
   "cell_type": "code",
   "execution_count": 7,
   "metadata": {},
   "outputs": [],
   "source": [
    "bench_fru,check_fru,df_assai2 = get_info(df_bench_fru)"
   ]
  },
  {
   "cell_type": "code",
   "execution_count": 8,
   "metadata": {},
   "outputs": [],
   "source": [
    "bench_info,check_info,df_assai3 = get_info(df_bench_info1)"
   ]
  },
  {
   "cell_type": "code",
   "execution_count": 9,
   "metadata": {},
   "outputs": [
    {
     "data": {
      "text/html": [
       "<div>\n",
       "<style scoped>\n",
       "    .dataframe tbody tr th:only-of-type {\n",
       "        vertical-align: middle;\n",
       "    }\n",
       "\n",
       "    .dataframe tbody tr th {\n",
       "        vertical-align: top;\n",
       "    }\n",
       "\n",
       "    .dataframe thead th {\n",
       "        text-align: right;\n",
       "    }\n",
       "</style>\n",
       "<table border=\"1\" class=\"dataframe\">\n",
       "  <thead>\n",
       "    <tr style=\"text-align: right;\">\n",
       "      <th></th>\n",
       "      <th>source_id</th>\n",
       "      <th>POINTS Med ALL</th>\n",
       "      <th>num_competitors_all</th>\n",
       "      <th>min_price_all</th>\n",
       "      <th>avg_price_all</th>\n",
       "      <th>Med ALL</th>\n",
       "      <th>max_price_all</th>\n",
       "      <th>POINTS Med Assai</th>\n",
       "      <th>num_competitors_assai</th>\n",
       "      <th>min_price_assai</th>\n",
       "      <th>avg_price_assai</th>\n",
       "      <th>Med Assai</th>\n",
       "      <th>max_price_assai</th>\n",
       "      <th>POINTS Med Atacadao</th>\n",
       "      <th>num_competitors_atacadao</th>\n",
       "      <th>min_price_atacadao</th>\n",
       "      <th>avg_price_atacadao</th>\n",
       "      <th>Med Atacadao</th>\n",
       "      <th>max_price_atacadao</th>\n",
       "    </tr>\n",
       "  </thead>\n",
       "  <tbody>\n",
       "    <tr>\n",
       "      <th>count</th>\n",
       "      <td>1516.000000</td>\n",
       "      <td>1516.000000</td>\n",
       "      <td>1516.000000</td>\n",
       "      <td>1516.000000</td>\n",
       "      <td>1516.000000</td>\n",
       "      <td>1516.000000</td>\n",
       "      <td>1516.000000</td>\n",
       "      <td>1128.000000</td>\n",
       "      <td>1128.000000</td>\n",
       "      <td>1128.000000</td>\n",
       "      <td>1128.000000</td>\n",
       "      <td>1128.000000</td>\n",
       "      <td>1128.000000</td>\n",
       "      <td>1065.000000</td>\n",
       "      <td>1065.000000</td>\n",
       "      <td>1065.000000</td>\n",
       "      <td>1065.000000</td>\n",
       "      <td>1065.000000</td>\n",
       "      <td>1065.000000</td>\n",
       "    </tr>\n",
       "    <tr>\n",
       "      <th>mean</th>\n",
       "      <td>314698.087071</td>\n",
       "      <td>102.967018</td>\n",
       "      <td>102.770449</td>\n",
       "      <td>15.637302</td>\n",
       "      <td>19.163227</td>\n",
       "      <td>19.153684</td>\n",
       "      <td>23.626260</td>\n",
       "      <td>52.365248</td>\n",
       "      <td>52.305851</td>\n",
       "      <td>12.653963</td>\n",
       "      <td>14.681182</td>\n",
       "      <td>14.792199</td>\n",
       "      <td>16.513927</td>\n",
       "      <td>29.784038</td>\n",
       "      <td>29.742723</td>\n",
       "      <td>13.186845</td>\n",
       "      <td>15.563251</td>\n",
       "      <td>15.444582</td>\n",
       "      <td>17.428225</td>\n",
       "    </tr>\n",
       "    <tr>\n",
       "      <th>std</th>\n",
       "      <td>197400.292864</td>\n",
       "      <td>80.011709</td>\n",
       "      <td>79.895113</td>\n",
       "      <td>27.242198</td>\n",
       "      <td>30.478996</td>\n",
       "      <td>30.582563</td>\n",
       "      <td>37.782453</td>\n",
       "      <td>35.804328</td>\n",
       "      <td>35.716639</td>\n",
       "      <td>13.949975</td>\n",
       "      <td>17.434720</td>\n",
       "      <td>18.226766</td>\n",
       "      <td>21.050415</td>\n",
       "      <td>19.355264</td>\n",
       "      <td>19.335082</td>\n",
       "      <td>14.878435</td>\n",
       "      <td>18.044033</td>\n",
       "      <td>18.894394</td>\n",
       "      <td>22.619401</td>\n",
       "    </tr>\n",
       "    <tr>\n",
       "      <th>min</th>\n",
       "      <td>72329.000000</td>\n",
       "      <td>1.000000</td>\n",
       "      <td>1.000000</td>\n",
       "      <td>0.750000</td>\n",
       "      <td>0.900000</td>\n",
       "      <td>0.850000</td>\n",
       "      <td>0.900000</td>\n",
       "      <td>1.000000</td>\n",
       "      <td>1.000000</td>\n",
       "      <td>1.190000</td>\n",
       "      <td>1.591587</td>\n",
       "      <td>1.490000</td>\n",
       "      <td>1.690000</td>\n",
       "      <td>1.000000</td>\n",
       "      <td>1.000000</td>\n",
       "      <td>1.890000</td>\n",
       "      <td>1.890000</td>\n",
       "      <td>1.890000</td>\n",
       "      <td>1.890000</td>\n",
       "    </tr>\n",
       "    <tr>\n",
       "      <th>25%</th>\n",
       "      <td>153089.000000</td>\n",
       "      <td>23.000000</td>\n",
       "      <td>23.000000</td>\n",
       "      <td>2.990000</td>\n",
       "      <td>3.880048</td>\n",
       "      <td>3.850000</td>\n",
       "      <td>4.990000</td>\n",
       "      <td>15.750000</td>\n",
       "      <td>15.750000</td>\n",
       "      <td>3.650000</td>\n",
       "      <td>3.840845</td>\n",
       "      <td>3.880000</td>\n",
       "      <td>4.090000</td>\n",
       "      <td>12.000000</td>\n",
       "      <td>12.000000</td>\n",
       "      <td>3.690000</td>\n",
       "      <td>3.859714</td>\n",
       "      <td>3.950000</td>\n",
       "      <td>4.050000</td>\n",
       "    </tr>\n",
       "    <tr>\n",
       "      <th>50%</th>\n",
       "      <td>278348.000000</td>\n",
       "      <td>96.500000</td>\n",
       "      <td>96.500000</td>\n",
       "      <td>5.550000</td>\n",
       "      <td>6.948499</td>\n",
       "      <td>6.995000</td>\n",
       "      <td>8.000000</td>\n",
       "      <td>59.000000</td>\n",
       "      <td>59.000000</td>\n",
       "      <td>6.690000</td>\n",
       "      <td>7.014007</td>\n",
       "      <td>7.080000</td>\n",
       "      <td>7.250000</td>\n",
       "      <td>33.000000</td>\n",
       "      <td>33.000000</td>\n",
       "      <td>6.690000</td>\n",
       "      <td>6.890000</td>\n",
       "      <td>6.890000</td>\n",
       "      <td>7.150000</td>\n",
       "    </tr>\n",
       "    <tr>\n",
       "      <th>75%</th>\n",
       "      <td>452047.000000</td>\n",
       "      <td>172.250000</td>\n",
       "      <td>172.000000</td>\n",
       "      <td>17.900000</td>\n",
       "      <td>24.028164</td>\n",
       "      <td>22.900000</td>\n",
       "      <td>28.542500</td>\n",
       "      <td>70.000000</td>\n",
       "      <td>70.000000</td>\n",
       "      <td>18.300000</td>\n",
       "      <td>20.860647</td>\n",
       "      <td>19.900000</td>\n",
       "      <td>22.890000</td>\n",
       "      <td>44.000000</td>\n",
       "      <td>44.000000</td>\n",
       "      <td>18.480000</td>\n",
       "      <td>20.855435</td>\n",
       "      <td>19.900000</td>\n",
       "      <td>23.280000</td>\n",
       "    </tr>\n",
       "    <tr>\n",
       "      <th>max</th>\n",
       "      <td>653005.000000</td>\n",
       "      <td>292.000000</td>\n",
       "      <td>292.000000</td>\n",
       "      <td>159.900000</td>\n",
       "      <td>174.297500</td>\n",
       "      <td>169.900000</td>\n",
       "      <td>219.990000</td>\n",
       "      <td>117.000000</td>\n",
       "      <td>115.000000</td>\n",
       "      <td>108.480000</td>\n",
       "      <td>108.480000</td>\n",
       "      <td>108.480000</td>\n",
       "      <td>108.480000</td>\n",
       "      <td>81.000000</td>\n",
       "      <td>81.000000</td>\n",
       "      <td>107.400000</td>\n",
       "      <td>107.400000</td>\n",
       "      <td>107.400000</td>\n",
       "      <td>107.400000</td>\n",
       "    </tr>\n",
       "  </tbody>\n",
       "</table>\n",
       "</div>"
      ],
      "text/plain": [
       "           source_id  POINTS Med ALL  num_competitors_all  min_price_all  \\\n",
       "count    1516.000000     1516.000000          1516.000000    1516.000000   \n",
       "mean   314698.087071      102.967018           102.770449      15.637302   \n",
       "std    197400.292864       80.011709            79.895113      27.242198   \n",
       "min     72329.000000        1.000000             1.000000       0.750000   \n",
       "25%    153089.000000       23.000000            23.000000       2.990000   \n",
       "50%    278348.000000       96.500000            96.500000       5.550000   \n",
       "75%    452047.000000      172.250000           172.000000      17.900000   \n",
       "max    653005.000000      292.000000           292.000000     159.900000   \n",
       "\n",
       "       avg_price_all      Med ALL  max_price_all  POINTS Med Assai  \\\n",
       "count    1516.000000  1516.000000    1516.000000       1128.000000   \n",
       "mean       19.163227    19.153684      23.626260         52.365248   \n",
       "std        30.478996    30.582563      37.782453         35.804328   \n",
       "min         0.900000     0.850000       0.900000          1.000000   \n",
       "25%         3.880048     3.850000       4.990000         15.750000   \n",
       "50%         6.948499     6.995000       8.000000         59.000000   \n",
       "75%        24.028164    22.900000      28.542500         70.000000   \n",
       "max       174.297500   169.900000     219.990000        117.000000   \n",
       "\n",
       "       num_competitors_assai  min_price_assai  avg_price_assai    Med Assai  \\\n",
       "count            1128.000000      1128.000000      1128.000000  1128.000000   \n",
       "mean               52.305851        12.653963        14.681182    14.792199   \n",
       "std                35.716639        13.949975        17.434720    18.226766   \n",
       "min                 1.000000         1.190000         1.591587     1.490000   \n",
       "25%                15.750000         3.650000         3.840845     3.880000   \n",
       "50%                59.000000         6.690000         7.014007     7.080000   \n",
       "75%                70.000000        18.300000        20.860647    19.900000   \n",
       "max               115.000000       108.480000       108.480000   108.480000   \n",
       "\n",
       "       max_price_assai  POINTS Med Atacadao  num_competitors_atacadao  \\\n",
       "count      1128.000000          1065.000000               1065.000000   \n",
       "mean         16.513927            29.784038                 29.742723   \n",
       "std          21.050415            19.355264                 19.335082   \n",
       "min           1.690000             1.000000                  1.000000   \n",
       "25%           4.090000            12.000000                 12.000000   \n",
       "50%           7.250000            33.000000                 33.000000   \n",
       "75%          22.890000            44.000000                 44.000000   \n",
       "max         108.480000            81.000000                 81.000000   \n",
       "\n",
       "       min_price_atacadao  avg_price_atacadao  Med Atacadao  \\\n",
       "count         1065.000000         1065.000000   1065.000000   \n",
       "mean            13.186845           15.563251     15.444582   \n",
       "std             14.878435           18.044033     18.894394   \n",
       "min              1.890000            1.890000      1.890000   \n",
       "25%              3.690000            3.859714      3.950000   \n",
       "50%              6.690000            6.890000      6.890000   \n",
       "75%             18.480000           20.855435     19.900000   \n",
       "max            107.400000          107.400000    107.400000   \n",
       "\n",
       "       max_price_atacadao  \n",
       "count         1065.000000  \n",
       "mean            17.428225  \n",
       "std             22.619401  \n",
       "min              1.890000  \n",
       "25%              4.050000  \n",
       "50%              7.150000  \n",
       "75%             23.280000  \n",
       "max            107.400000  "
      ]
     },
     "execution_count": 9,
     "metadata": {},
     "output_type": "execute_result"
    }
   ],
   "source": [
    "bench_info.describe()"
   ]
  },
  {
   "cell_type": "code",
   "execution_count": 10,
   "metadata": {},
   "outputs": [
    {
     "data": {
      "text/html": [
       "<div>\n",
       "<style scoped>\n",
       "    .dataframe tbody tr th:only-of-type {\n",
       "        vertical-align: middle;\n",
       "    }\n",
       "\n",
       "    .dataframe tbody tr th {\n",
       "        vertical-align: top;\n",
       "    }\n",
       "\n",
       "    .dataframe thead th {\n",
       "        text-align: right;\n",
       "    }\n",
       "</style>\n",
       "<table border=\"1\" class=\"dataframe\">\n",
       "  <thead>\n",
       "    <tr style=\"text-align: right;\">\n",
       "      <th></th>\n",
       "      <th>source_id</th>\n",
       "      <th>POINTS Med ALL</th>\n",
       "      <th>num_competitors_all</th>\n",
       "      <th>min_price_all</th>\n",
       "      <th>avg_price_all</th>\n",
       "      <th>Med ALL</th>\n",
       "      <th>max_price_all</th>\n",
       "      <th>POINTS Med Assai</th>\n",
       "      <th>num_competitors_assai</th>\n",
       "      <th>min_price_assai</th>\n",
       "      <th>avg_price_assai</th>\n",
       "      <th>Med Assai</th>\n",
       "      <th>max_price_assai</th>\n",
       "      <th>POINTS Med Atacadao</th>\n",
       "      <th>num_competitors_atacadao</th>\n",
       "      <th>min_price_atacadao</th>\n",
       "      <th>avg_price_atacadao</th>\n",
       "      <th>Med Atacadao</th>\n",
       "      <th>max_price_atacadao</th>\n",
       "    </tr>\n",
       "  </thead>\n",
       "  <tbody>\n",
       "    <tr>\n",
       "      <th>count</th>\n",
       "      <td>1582.000000</td>\n",
       "      <td>1582.000000</td>\n",
       "      <td>1582.000000</td>\n",
       "      <td>1582.000000</td>\n",
       "      <td>1582.000000</td>\n",
       "      <td>1582.000000</td>\n",
       "      <td>1582.000000</td>\n",
       "      <td>1401.000000</td>\n",
       "      <td>1401.000000</td>\n",
       "      <td>1401.000000</td>\n",
       "      <td>1401.000000</td>\n",
       "      <td>1401.000000</td>\n",
       "      <td>1401.000000</td>\n",
       "      <td>1423.000000</td>\n",
       "      <td>1423.000000</td>\n",
       "      <td>1423.000000</td>\n",
       "      <td>1423.000000</td>\n",
       "      <td>1423.000000</td>\n",
       "      <td>1423.000000</td>\n",
       "    </tr>\n",
       "    <tr>\n",
       "      <th>mean</th>\n",
       "      <td>314012.654235</td>\n",
       "      <td>12.537927</td>\n",
       "      <td>12.501264</td>\n",
       "      <td>16.885891</td>\n",
       "      <td>18.616131</td>\n",
       "      <td>18.623758</td>\n",
       "      <td>20.369311</td>\n",
       "      <td>4.173448</td>\n",
       "      <td>4.159172</td>\n",
       "      <td>14.929058</td>\n",
       "      <td>15.523163</td>\n",
       "      <td>15.487288</td>\n",
       "      <td>16.153383</td>\n",
       "      <td>3.973999</td>\n",
       "      <td>3.970485</td>\n",
       "      <td>16.361687</td>\n",
       "      <td>17.076025</td>\n",
       "      <td>17.109993</td>\n",
       "      <td>17.738089</td>\n",
       "    </tr>\n",
       "    <tr>\n",
       "      <th>std</th>\n",
       "      <td>195529.967763</td>\n",
       "      <td>5.423683</td>\n",
       "      <td>5.387190</td>\n",
       "      <td>29.858394</td>\n",
       "      <td>31.442955</td>\n",
       "      <td>31.505327</td>\n",
       "      <td>32.916991</td>\n",
       "      <td>1.379662</td>\n",
       "      <td>1.363165</td>\n",
       "      <td>23.604895</td>\n",
       "      <td>24.475192</td>\n",
       "      <td>24.406310</td>\n",
       "      <td>25.517095</td>\n",
       "      <td>1.542196</td>\n",
       "      <td>1.538708</td>\n",
       "      <td>28.023581</td>\n",
       "      <td>28.633200</td>\n",
       "      <td>28.787245</td>\n",
       "      <td>29.322269</td>\n",
       "    </tr>\n",
       "    <tr>\n",
       "      <th>min</th>\n",
       "      <td>72329.000000</td>\n",
       "      <td>1.000000</td>\n",
       "      <td>1.000000</td>\n",
       "      <td>0.690000</td>\n",
       "      <td>0.856667</td>\n",
       "      <td>0.840000</td>\n",
       "      <td>0.890000</td>\n",
       "      <td>1.000000</td>\n",
       "      <td>1.000000</td>\n",
       "      <td>0.890000</td>\n",
       "      <td>1.161667</td>\n",
       "      <td>1.020000</td>\n",
       "      <td>1.590000</td>\n",
       "      <td>1.000000</td>\n",
       "      <td>1.000000</td>\n",
       "      <td>0.790000</td>\n",
       "      <td>1.430000</td>\n",
       "      <td>1.590000</td>\n",
       "      <td>1.590000</td>\n",
       "    </tr>\n",
       "    <tr>\n",
       "      <th>25%</th>\n",
       "      <td>153089.000000</td>\n",
       "      <td>9.000000</td>\n",
       "      <td>9.000000</td>\n",
       "      <td>3.390000</td>\n",
       "      <td>3.813750</td>\n",
       "      <td>3.890000</td>\n",
       "      <td>4.190000</td>\n",
       "      <td>4.000000</td>\n",
       "      <td>4.000000</td>\n",
       "      <td>3.750000</td>\n",
       "      <td>3.902000</td>\n",
       "      <td>3.890000</td>\n",
       "      <td>3.990000</td>\n",
       "      <td>3.000000</td>\n",
       "      <td>3.000000</td>\n",
       "      <td>3.720000</td>\n",
       "      <td>3.879000</td>\n",
       "      <td>3.890000</td>\n",
       "      <td>3.990000</td>\n",
       "    </tr>\n",
       "    <tr>\n",
       "      <th>50%</th>\n",
       "      <td>278348.000000</td>\n",
       "      <td>14.000000</td>\n",
       "      <td>14.000000</td>\n",
       "      <td>5.950000</td>\n",
       "      <td>6.734118</td>\n",
       "      <td>6.790000</td>\n",
       "      <td>7.490000</td>\n",
       "      <td>5.000000</td>\n",
       "      <td>4.000000</td>\n",
       "      <td>6.090000</td>\n",
       "      <td>6.150000</td>\n",
       "      <td>6.150000</td>\n",
       "      <td>6.590000</td>\n",
       "      <td>4.000000</td>\n",
       "      <td>4.000000</td>\n",
       "      <td>5.990000</td>\n",
       "      <td>6.085000</td>\n",
       "      <td>6.050000</td>\n",
       "      <td>6.690000</td>\n",
       "    </tr>\n",
       "    <tr>\n",
       "      <th>75%</th>\n",
       "      <td>452047.000000</td>\n",
       "      <td>16.000000</td>\n",
       "      <td>16.000000</td>\n",
       "      <td>18.790000</td>\n",
       "      <td>21.973333</td>\n",
       "      <td>20.622500</td>\n",
       "      <td>26.080000</td>\n",
       "      <td>5.000000</td>\n",
       "      <td>5.000000</td>\n",
       "      <td>19.490000</td>\n",
       "      <td>19.900000</td>\n",
       "      <td>19.490000</td>\n",
       "      <td>19.900000</td>\n",
       "      <td>5.000000</td>\n",
       "      <td>5.000000</td>\n",
       "      <td>18.900000</td>\n",
       "      <td>20.190000</td>\n",
       "      <td>19.920000</td>\n",
       "      <td>21.790000</td>\n",
       "    </tr>\n",
       "    <tr>\n",
       "      <th>max</th>\n",
       "      <td>653005.000000</td>\n",
       "      <td>32.000000</td>\n",
       "      <td>32.000000</td>\n",
       "      <td>154.900000</td>\n",
       "      <td>156.566667</td>\n",
       "      <td>154.900000</td>\n",
       "      <td>169.900000</td>\n",
       "      <td>10.000000</td>\n",
       "      <td>10.000000</td>\n",
       "      <td>152.900000</td>\n",
       "      <td>152.900000</td>\n",
       "      <td>152.900000</td>\n",
       "      <td>159.000000</td>\n",
       "      <td>10.000000</td>\n",
       "      <td>10.000000</td>\n",
       "      <td>159.900000</td>\n",
       "      <td>159.900000</td>\n",
       "      <td>159.900000</td>\n",
       "      <td>159.900000</td>\n",
       "    </tr>\n",
       "  </tbody>\n",
       "</table>\n",
       "</div>"
      ],
      "text/plain": [
       "           source_id  POINTS Med ALL  num_competitors_all  min_price_all  \\\n",
       "count    1582.000000     1582.000000          1582.000000    1582.000000   \n",
       "mean   314012.654235       12.537927            12.501264      16.885891   \n",
       "std    195529.967763        5.423683             5.387190      29.858394   \n",
       "min     72329.000000        1.000000             1.000000       0.690000   \n",
       "25%    153089.000000        9.000000             9.000000       3.390000   \n",
       "50%    278348.000000       14.000000            14.000000       5.950000   \n",
       "75%    452047.000000       16.000000            16.000000      18.790000   \n",
       "max    653005.000000       32.000000            32.000000     154.900000   \n",
       "\n",
       "       avg_price_all      Med ALL  max_price_all  POINTS Med Assai  \\\n",
       "count    1582.000000  1582.000000    1582.000000       1401.000000   \n",
       "mean       18.616131    18.623758      20.369311          4.173448   \n",
       "std        31.442955    31.505327      32.916991          1.379662   \n",
       "min         0.856667     0.840000       0.890000          1.000000   \n",
       "25%         3.813750     3.890000       4.190000          4.000000   \n",
       "50%         6.734118     6.790000       7.490000          5.000000   \n",
       "75%        21.973333    20.622500      26.080000          5.000000   \n",
       "max       156.566667   154.900000     169.900000         10.000000   \n",
       "\n",
       "       num_competitors_assai  min_price_assai  avg_price_assai    Med Assai  \\\n",
       "count            1401.000000      1401.000000      1401.000000  1401.000000   \n",
       "mean                4.159172        14.929058        15.523163    15.487288   \n",
       "std                 1.363165        23.604895        24.475192    24.406310   \n",
       "min                 1.000000         0.890000         1.161667     1.020000   \n",
       "25%                 4.000000         3.750000         3.902000     3.890000   \n",
       "50%                 4.000000         6.090000         6.150000     6.150000   \n",
       "75%                 5.000000        19.490000        19.900000    19.490000   \n",
       "max                10.000000       152.900000       152.900000   152.900000   \n",
       "\n",
       "       max_price_assai  POINTS Med Atacadao  num_competitors_atacadao  \\\n",
       "count      1401.000000          1423.000000               1423.000000   \n",
       "mean         16.153383             3.973999                  3.970485   \n",
       "std          25.517095             1.542196                  1.538708   \n",
       "min           1.590000             1.000000                  1.000000   \n",
       "25%           3.990000             3.000000                  3.000000   \n",
       "50%           6.590000             4.000000                  4.000000   \n",
       "75%          19.900000             5.000000                  5.000000   \n",
       "max         159.000000            10.000000                 10.000000   \n",
       "\n",
       "       min_price_atacadao  avg_price_atacadao  Med Atacadao  \\\n",
       "count         1423.000000         1423.000000   1423.000000   \n",
       "mean            16.361687           17.076025     17.109993   \n",
       "std             28.023581           28.633200     28.787245   \n",
       "min              0.790000            1.430000      1.590000   \n",
       "25%              3.720000            3.879000      3.890000   \n",
       "50%              5.990000            6.085000      6.050000   \n",
       "75%             18.900000           20.190000     19.920000   \n",
       "max            159.900000          159.900000    159.900000   \n",
       "\n",
       "       max_price_atacadao  \n",
       "count         1423.000000  \n",
       "mean            17.738089  \n",
       "std             29.322269  \n",
       "min              1.590000  \n",
       "25%              3.990000  \n",
       "50%              6.690000  \n",
       "75%             21.790000  \n",
       "max            159.900000  "
      ]
     },
     "execution_count": 10,
     "metadata": {},
     "output_type": "execute_result"
    }
   ],
   "source": [
    "bench_fru.describe()"
   ]
  },
  {
   "cell_type": "code",
   "execution_count": 11,
   "metadata": {},
   "outputs": [
    {
     "data": {
      "application/vnd.jupyter.widget-view+json": {
       "model_id": "b76c11640325409abc211abcc957211f",
       "version_major": 2,
       "version_minor": 0
      },
      "text/plain": [
       "interactive(children=(Dropdown(description='Source ID:', options=(72329.0, 72488.0, 72497.0, 73456.0, 73557.0,…"
      ]
     },
     "metadata": {},
     "output_type": "display_data"
    },
    {
     "data": {
      "application/vnd.plotly.v1+json": {
       "config": {
        "plotlyServerURL": "https://plot.ly"
       },
       "data": [
        {
         "line": {
          "color": "blue"
         },
         "mode": "lines",
         "name": "Frubana",
         "type": "scatter",
         "x": [
          "2024-10-15T00:00:00",
          "2024-10-16T00:00:00",
          "2024-10-17T00:00:00",
          "2024-10-18T00:00:00",
          "2024-10-19T00:00:00",
          "2024-10-20T00:00:00",
          "2024-10-21T00:00:00",
          "2024-10-22T00:00:00",
          "2024-10-23T00:00:00",
          "2024-10-24T00:00:00",
          "2024-10-25T00:00:00",
          "2024-10-26T00:00:00",
          "2024-10-27T00:00:00",
          "2024-10-28T00:00:00",
          "2024-10-29T00:00:00",
          "2024-10-30T00:00:00",
          "2024-10-31T00:00:00",
          "2024-11-01T00:00:00",
          "2024-11-02T00:00:00",
          "2024-11-03T00:00:00",
          "2024-11-04T00:00:00",
          "2024-11-05T00:00:00",
          "2024-11-06T00:00:00",
          "2024-11-07T00:00:00",
          "2024-11-08T00:00:00",
          "2024-11-09T00:00:00",
          "2024-11-10T00:00:00",
          "2024-11-11T00:00:00",
          "2024-11-12T00:00:00",
          "2024-11-13T00:00:00",
          "2024-11-14T00:00:00",
          "2024-11-15T00:00:00",
          "2024-11-16T00:00:00",
          "2024-11-17T00:00:00",
          "2024-11-18T00:00:00",
          "2024-11-19T00:00:00",
          "2024-11-20T00:00:00",
          "2024-11-21T00:00:00",
          "2024-11-22T00:00:00"
         ],
         "y": [
          8.49,
          8.49,
          8.49,
          8.49,
          8.49,
          8.49,
          8.49,
          8.49,
          8.49,
          8.49,
          8.49,
          8.49,
          8.49,
          8.49,
          8.49,
          8.49,
          8.49,
          8.49,
          8.49,
          8.49,
          8.49,
          8.49,
          8.49,
          8.49,
          8.49,
          8.49,
          8.49,
          8.49,
          8.49,
          8.49,
          8.49,
          8.49,
          8.49,
          8.49,
          8.49,
          8.49,
          8.49,
          8.39,
          8.29
         ]
        },
        {
         "line": {
          "color": "orange"
         },
         "mode": "lines",
         "name": "Infoprice",
         "type": "scatter",
         "x": [
          "2024-10-13T00:00:00",
          "2024-10-14T00:00:00",
          "2024-10-15T00:00:00",
          "2024-10-16T00:00:00",
          "2024-10-17T00:00:00",
          "2024-10-18T00:00:00",
          "2024-10-19T00:00:00",
          "2024-10-20T00:00:00",
          "2024-10-21T00:00:00",
          "2024-10-22T00:00:00",
          "2024-10-23T00:00:00",
          "2024-10-24T00:00:00",
          "2024-10-25T00:00:00",
          "2024-10-26T00:00:00",
          "2024-10-27T00:00:00",
          "2024-10-28T00:00:00",
          "2024-10-29T00:00:00",
          "2024-10-30T00:00:00",
          "2024-10-31T00:00:00",
          "2024-11-01T00:00:00",
          "2024-11-02T00:00:00",
          "2024-11-03T00:00:00",
          "2024-11-04T00:00:00",
          "2024-11-05T00:00:00",
          "2024-11-06T00:00:00",
          "2024-11-07T00:00:00",
          "2024-11-08T00:00:00",
          "2024-11-09T00:00:00",
          "2024-11-10T00:00:00",
          "2024-11-11T00:00:00",
          "2024-11-12T00:00:00",
          "2024-11-13T00:00:00",
          "2024-11-14T00:00:00",
          "2024-11-15T00:00:00",
          "2024-11-16T00:00:00",
          "2024-11-17T00:00:00",
          "2024-11-18T00:00:00",
          "2024-11-19T00:00:00"
         ],
         "y": [
          7.775,
          8.01,
          7.85,
          7.75,
          7.98,
          7.99,
          8.2,
          8.2,
          8.2,
          8.29,
          8.39,
          8.59,
          8.54,
          8.59,
          8.49,
          8.49,
          8.54,
          8.49,
          8.49,
          8.49,
          8.54,
          8.49,
          8.385,
          8.28,
          8.385,
          8.49,
          8.48,
          8.49,
          8.49,
          8.49,
          8.59,
          8.49,
          8.49,
          8.49,
          8.2,
          8.49,
          8.2,
          7.895
         ]
        }
       ],
       "layout": {
        "showlegend": true,
        "template": {
         "data": {
          "bar": [
           {
            "error_x": {
             "color": "#2a3f5f"
            },
            "error_y": {
             "color": "#2a3f5f"
            },
            "marker": {
             "line": {
              "color": "white",
              "width": 0.5
             }
            },
            "type": "bar"
           }
          ],
          "barpolar": [
           {
            "marker": {
             "line": {
              "color": "white",
              "width": 0.5
             }
            },
            "type": "barpolar"
           }
          ],
          "carpet": [
           {
            "aaxis": {
             "endlinecolor": "#2a3f5f",
             "gridcolor": "#C8D4E3",
             "linecolor": "#C8D4E3",
             "minorgridcolor": "#C8D4E3",
             "startlinecolor": "#2a3f5f"
            },
            "baxis": {
             "endlinecolor": "#2a3f5f",
             "gridcolor": "#C8D4E3",
             "linecolor": "#C8D4E3",
             "minorgridcolor": "#C8D4E3",
             "startlinecolor": "#2a3f5f"
            },
            "type": "carpet"
           }
          ],
          "choropleth": [
           {
            "colorbar": {
             "outlinewidth": 0,
             "ticks": ""
            },
            "type": "choropleth"
           }
          ],
          "contour": [
           {
            "colorbar": {
             "outlinewidth": 0,
             "ticks": ""
            },
            "colorscale": [
             [
              0,
              "#0d0887"
             ],
             [
              0.1111111111111111,
              "#46039f"
             ],
             [
              0.2222222222222222,
              "#7201a8"
             ],
             [
              0.3333333333333333,
              "#9c179e"
             ],
             [
              0.4444444444444444,
              "#bd3786"
             ],
             [
              0.5555555555555556,
              "#d8576b"
             ],
             [
              0.6666666666666666,
              "#ed7953"
             ],
             [
              0.7777777777777778,
              "#fb9f3a"
             ],
             [
              0.8888888888888888,
              "#fdca26"
             ],
             [
              1,
              "#f0f921"
             ]
            ],
            "type": "contour"
           }
          ],
          "contourcarpet": [
           {
            "colorbar": {
             "outlinewidth": 0,
             "ticks": ""
            },
            "type": "contourcarpet"
           }
          ],
          "heatmap": [
           {
            "colorbar": {
             "outlinewidth": 0,
             "ticks": ""
            },
            "colorscale": [
             [
              0,
              "#0d0887"
             ],
             [
              0.1111111111111111,
              "#46039f"
             ],
             [
              0.2222222222222222,
              "#7201a8"
             ],
             [
              0.3333333333333333,
              "#9c179e"
             ],
             [
              0.4444444444444444,
              "#bd3786"
             ],
             [
              0.5555555555555556,
              "#d8576b"
             ],
             [
              0.6666666666666666,
              "#ed7953"
             ],
             [
              0.7777777777777778,
              "#fb9f3a"
             ],
             [
              0.8888888888888888,
              "#fdca26"
             ],
             [
              1,
              "#f0f921"
             ]
            ],
            "type": "heatmap"
           }
          ],
          "heatmapgl": [
           {
            "colorbar": {
             "outlinewidth": 0,
             "ticks": ""
            },
            "colorscale": [
             [
              0,
              "#0d0887"
             ],
             [
              0.1111111111111111,
              "#46039f"
             ],
             [
              0.2222222222222222,
              "#7201a8"
             ],
             [
              0.3333333333333333,
              "#9c179e"
             ],
             [
              0.4444444444444444,
              "#bd3786"
             ],
             [
              0.5555555555555556,
              "#d8576b"
             ],
             [
              0.6666666666666666,
              "#ed7953"
             ],
             [
              0.7777777777777778,
              "#fb9f3a"
             ],
             [
              0.8888888888888888,
              "#fdca26"
             ],
             [
              1,
              "#f0f921"
             ]
            ],
            "type": "heatmapgl"
           }
          ],
          "histogram": [
           {
            "marker": {
             "colorbar": {
              "outlinewidth": 0,
              "ticks": ""
             }
            },
            "type": "histogram"
           }
          ],
          "histogram2d": [
           {
            "colorbar": {
             "outlinewidth": 0,
             "ticks": ""
            },
            "colorscale": [
             [
              0,
              "#0d0887"
             ],
             [
              0.1111111111111111,
              "#46039f"
             ],
             [
              0.2222222222222222,
              "#7201a8"
             ],
             [
              0.3333333333333333,
              "#9c179e"
             ],
             [
              0.4444444444444444,
              "#bd3786"
             ],
             [
              0.5555555555555556,
              "#d8576b"
             ],
             [
              0.6666666666666666,
              "#ed7953"
             ],
             [
              0.7777777777777778,
              "#fb9f3a"
             ],
             [
              0.8888888888888888,
              "#fdca26"
             ],
             [
              1,
              "#f0f921"
             ]
            ],
            "type": "histogram2d"
           }
          ],
          "histogram2dcontour": [
           {
            "colorbar": {
             "outlinewidth": 0,
             "ticks": ""
            },
            "colorscale": [
             [
              0,
              "#0d0887"
             ],
             [
              0.1111111111111111,
              "#46039f"
             ],
             [
              0.2222222222222222,
              "#7201a8"
             ],
             [
              0.3333333333333333,
              "#9c179e"
             ],
             [
              0.4444444444444444,
              "#bd3786"
             ],
             [
              0.5555555555555556,
              "#d8576b"
             ],
             [
              0.6666666666666666,
              "#ed7953"
             ],
             [
              0.7777777777777778,
              "#fb9f3a"
             ],
             [
              0.8888888888888888,
              "#fdca26"
             ],
             [
              1,
              "#f0f921"
             ]
            ],
            "type": "histogram2dcontour"
           }
          ],
          "mesh3d": [
           {
            "colorbar": {
             "outlinewidth": 0,
             "ticks": ""
            },
            "type": "mesh3d"
           }
          ],
          "parcoords": [
           {
            "line": {
             "colorbar": {
              "outlinewidth": 0,
              "ticks": ""
             }
            },
            "type": "parcoords"
           }
          ],
          "pie": [
           {
            "automargin": true,
            "type": "pie"
           }
          ],
          "scatter": [
           {
            "marker": {
             "colorbar": {
              "outlinewidth": 0,
              "ticks": ""
             }
            },
            "type": "scatter"
           }
          ],
          "scatter3d": [
           {
            "line": {
             "colorbar": {
              "outlinewidth": 0,
              "ticks": ""
             }
            },
            "marker": {
             "colorbar": {
              "outlinewidth": 0,
              "ticks": ""
             }
            },
            "type": "scatter3d"
           }
          ],
          "scattercarpet": [
           {
            "marker": {
             "colorbar": {
              "outlinewidth": 0,
              "ticks": ""
             }
            },
            "type": "scattercarpet"
           }
          ],
          "scattergeo": [
           {
            "marker": {
             "colorbar": {
              "outlinewidth": 0,
              "ticks": ""
             }
            },
            "type": "scattergeo"
           }
          ],
          "scattergl": [
           {
            "marker": {
             "colorbar": {
              "outlinewidth": 0,
              "ticks": ""
             }
            },
            "type": "scattergl"
           }
          ],
          "scattermapbox": [
           {
            "marker": {
             "colorbar": {
              "outlinewidth": 0,
              "ticks": ""
             }
            },
            "type": "scattermapbox"
           }
          ],
          "scatterpolar": [
           {
            "marker": {
             "colorbar": {
              "outlinewidth": 0,
              "ticks": ""
             }
            },
            "type": "scatterpolar"
           }
          ],
          "scatterpolargl": [
           {
            "marker": {
             "colorbar": {
              "outlinewidth": 0,
              "ticks": ""
             }
            },
            "type": "scatterpolargl"
           }
          ],
          "scatterternary": [
           {
            "marker": {
             "colorbar": {
              "outlinewidth": 0,
              "ticks": ""
             }
            },
            "type": "scatterternary"
           }
          ],
          "surface": [
           {
            "colorbar": {
             "outlinewidth": 0,
             "ticks": ""
            },
            "colorscale": [
             [
              0,
              "#0d0887"
             ],
             [
              0.1111111111111111,
              "#46039f"
             ],
             [
              0.2222222222222222,
              "#7201a8"
             ],
             [
              0.3333333333333333,
              "#9c179e"
             ],
             [
              0.4444444444444444,
              "#bd3786"
             ],
             [
              0.5555555555555556,
              "#d8576b"
             ],
             [
              0.6666666666666666,
              "#ed7953"
             ],
             [
              0.7777777777777778,
              "#fb9f3a"
             ],
             [
              0.8888888888888888,
              "#fdca26"
             ],
             [
              1,
              "#f0f921"
             ]
            ],
            "type": "surface"
           }
          ],
          "table": [
           {
            "cells": {
             "fill": {
              "color": "#EBF0F8"
             },
             "line": {
              "color": "white"
             }
            },
            "header": {
             "fill": {
              "color": "#C8D4E3"
             },
             "line": {
              "color": "white"
             }
            },
            "type": "table"
           }
          ]
         },
         "layout": {
          "annotationdefaults": {
           "arrowcolor": "#2a3f5f",
           "arrowhead": 0,
           "arrowwidth": 1
          },
          "autotypenumbers": "strict",
          "coloraxis": {
           "colorbar": {
            "outlinewidth": 0,
            "ticks": ""
           }
          },
          "colorscale": {
           "diverging": [
            [
             0,
             "#8e0152"
            ],
            [
             0.1,
             "#c51b7d"
            ],
            [
             0.2,
             "#de77ae"
            ],
            [
             0.3,
             "#f1b6da"
            ],
            [
             0.4,
             "#fde0ef"
            ],
            [
             0.5,
             "#f7f7f7"
            ],
            [
             0.6,
             "#e6f5d0"
            ],
            [
             0.7,
             "#b8e186"
            ],
            [
             0.8,
             "#7fbc41"
            ],
            [
             0.9,
             "#4d9221"
            ],
            [
             1,
             "#276419"
            ]
           ],
           "sequential": [
            [
             0,
             "#0d0887"
            ],
            [
             0.1111111111111111,
             "#46039f"
            ],
            [
             0.2222222222222222,
             "#7201a8"
            ],
            [
             0.3333333333333333,
             "#9c179e"
            ],
            [
             0.4444444444444444,
             "#bd3786"
            ],
            [
             0.5555555555555556,
             "#d8576b"
            ],
            [
             0.6666666666666666,
             "#ed7953"
            ],
            [
             0.7777777777777778,
             "#fb9f3a"
            ],
            [
             0.8888888888888888,
             "#fdca26"
            ],
            [
             1,
             "#f0f921"
            ]
           ],
           "sequentialminus": [
            [
             0,
             "#0d0887"
            ],
            [
             0.1111111111111111,
             "#46039f"
            ],
            [
             0.2222222222222222,
             "#7201a8"
            ],
            [
             0.3333333333333333,
             "#9c179e"
            ],
            [
             0.4444444444444444,
             "#bd3786"
            ],
            [
             0.5555555555555556,
             "#d8576b"
            ],
            [
             0.6666666666666666,
             "#ed7953"
            ],
            [
             0.7777777777777778,
             "#fb9f3a"
            ],
            [
             0.8888888888888888,
             "#fdca26"
            ],
            [
             1,
             "#f0f921"
            ]
           ]
          },
          "colorway": [
           "#636efa",
           "#EF553B",
           "#00cc96",
           "#ab63fa",
           "#FFA15A",
           "#19d3f3",
           "#FF6692",
           "#B6E880",
           "#FF97FF",
           "#FECB52"
          ],
          "font": {
           "color": "#2a3f5f"
          },
          "geo": {
           "bgcolor": "white",
           "lakecolor": "white",
           "landcolor": "white",
           "showlakes": true,
           "showland": true,
           "subunitcolor": "#C8D4E3"
          },
          "hoverlabel": {
           "align": "left"
          },
          "hovermode": "closest",
          "mapbox": {
           "style": "light"
          },
          "paper_bgcolor": "white",
          "plot_bgcolor": "white",
          "polar": {
           "angularaxis": {
            "gridcolor": "#EBF0F8",
            "linecolor": "#EBF0F8",
            "ticks": ""
           },
           "bgcolor": "white",
           "radialaxis": {
            "gridcolor": "#EBF0F8",
            "linecolor": "#EBF0F8",
            "ticks": ""
           }
          },
          "scene": {
           "xaxis": {
            "backgroundcolor": "white",
            "gridcolor": "#DFE8F3",
            "gridwidth": 2,
            "linecolor": "#EBF0F8",
            "showbackground": true,
            "ticks": "",
            "zerolinecolor": "#EBF0F8"
           },
           "yaxis": {
            "backgroundcolor": "white",
            "gridcolor": "#DFE8F3",
            "gridwidth": 2,
            "linecolor": "#EBF0F8",
            "showbackground": true,
            "ticks": "",
            "zerolinecolor": "#EBF0F8"
           },
           "zaxis": {
            "backgroundcolor": "white",
            "gridcolor": "#DFE8F3",
            "gridwidth": 2,
            "linecolor": "#EBF0F8",
            "showbackground": true,
            "ticks": "",
            "zerolinecolor": "#EBF0F8"
           }
          },
          "shapedefaults": {
           "line": {
            "color": "#2a3f5f"
           }
          },
          "ternary": {
           "aaxis": {
            "gridcolor": "#DFE8F3",
            "linecolor": "#A2B1C6",
            "ticks": ""
           },
           "baxis": {
            "gridcolor": "#DFE8F3",
            "linecolor": "#A2B1C6",
            "ticks": ""
           },
           "bgcolor": "white",
           "caxis": {
            "gridcolor": "#DFE8F3",
            "linecolor": "#A2B1C6",
            "ticks": ""
           }
          },
          "title": {
           "x": 0.05
          },
          "xaxis": {
           "automargin": true,
           "gridcolor": "#EBF0F8",
           "linecolor": "#EBF0F8",
           "ticks": "",
           "title": {
            "standoff": 15
           },
           "zerolinecolor": "#EBF0F8",
           "zerolinewidth": 2
          },
          "yaxis": {
           "automargin": true,
           "gridcolor": "#EBF0F8",
           "linecolor": "#EBF0F8",
           "ticks": "",
           "title": {
            "standoff": 15
           },
           "zerolinecolor": "#EBF0F8",
           "zerolinewidth": 2
          }
         }
        },
        "title": {
         "text": "Price Trends for Feijão Preto Tipo 1 Kicaldo Pacote 1kg 72329.0 (Med ALL)"
        },
        "xaxis": {
         "title": {
          "text": "Quotation Date"
         }
        },
        "yaxis": {
         "title": {
          "text": "Median Price (Med ALL)"
         }
        }
       }
      },
      "text/html": [
       "<div>                            <div id=\"7914d0d4-45ca-43ce-84d5-f1bdbe1decee\" class=\"plotly-graph-div\" style=\"height:525px; width:100%;\"></div>            <script type=\"text/javascript\">                require([\"plotly\"], function(Plotly) {                    window.PLOTLYENV=window.PLOTLYENV || {};                                    if (document.getElementById(\"7914d0d4-45ca-43ce-84d5-f1bdbe1decee\")) {                    Plotly.newPlot(                        \"7914d0d4-45ca-43ce-84d5-f1bdbe1decee\",                        [{\"line\": {\"color\": \"blue\"}, \"mode\": \"lines\", \"name\": \"Frubana\", \"type\": \"scatter\", \"x\": [\"2024-10-15T00:00:00\", \"2024-10-16T00:00:00\", \"2024-10-17T00:00:00\", \"2024-10-18T00:00:00\", \"2024-10-19T00:00:00\", \"2024-10-20T00:00:00\", \"2024-10-21T00:00:00\", \"2024-10-22T00:00:00\", \"2024-10-23T00:00:00\", \"2024-10-24T00:00:00\", \"2024-10-25T00:00:00\", \"2024-10-26T00:00:00\", \"2024-10-27T00:00:00\", \"2024-10-28T00:00:00\", \"2024-10-29T00:00:00\", \"2024-10-30T00:00:00\", \"2024-10-31T00:00:00\", \"2024-11-01T00:00:00\", \"2024-11-02T00:00:00\", \"2024-11-03T00:00:00\", \"2024-11-04T00:00:00\", \"2024-11-05T00:00:00\", \"2024-11-06T00:00:00\", \"2024-11-07T00:00:00\", \"2024-11-08T00:00:00\", \"2024-11-09T00:00:00\", \"2024-11-10T00:00:00\", \"2024-11-11T00:00:00\", \"2024-11-12T00:00:00\", \"2024-11-13T00:00:00\", \"2024-11-14T00:00:00\", \"2024-11-15T00:00:00\", \"2024-11-16T00:00:00\", \"2024-11-17T00:00:00\", \"2024-11-18T00:00:00\", \"2024-11-19T00:00:00\", \"2024-11-20T00:00:00\", \"2024-11-21T00:00:00\", \"2024-11-22T00:00:00\"], \"y\": [8.49, 8.49, 8.49, 8.49, 8.49, 8.49, 8.49, 8.49, 8.49, 8.49, 8.49, 8.49, 8.49, 8.49, 8.49, 8.49, 8.49, 8.49, 8.49, 8.49, 8.49, 8.49, 8.49, 8.49, 8.49, 8.49, 8.49, 8.49, 8.49, 8.49, 8.49, 8.49, 8.49, 8.49, 8.49, 8.49, 8.49, 8.39, 8.29]}, {\"line\": {\"color\": \"orange\"}, \"mode\": \"lines\", \"name\": \"Infoprice\", \"type\": \"scatter\", \"x\": [\"2024-10-13T00:00:00\", \"2024-10-14T00:00:00\", \"2024-10-15T00:00:00\", \"2024-10-16T00:00:00\", \"2024-10-17T00:00:00\", \"2024-10-18T00:00:00\", \"2024-10-19T00:00:00\", \"2024-10-20T00:00:00\", \"2024-10-21T00:00:00\", \"2024-10-22T00:00:00\", \"2024-10-23T00:00:00\", \"2024-10-24T00:00:00\", \"2024-10-25T00:00:00\", \"2024-10-26T00:00:00\", \"2024-10-27T00:00:00\", \"2024-10-28T00:00:00\", \"2024-10-29T00:00:00\", \"2024-10-30T00:00:00\", \"2024-10-31T00:00:00\", \"2024-11-01T00:00:00\", \"2024-11-02T00:00:00\", \"2024-11-03T00:00:00\", \"2024-11-04T00:00:00\", \"2024-11-05T00:00:00\", \"2024-11-06T00:00:00\", \"2024-11-07T00:00:00\", \"2024-11-08T00:00:00\", \"2024-11-09T00:00:00\", \"2024-11-10T00:00:00\", \"2024-11-11T00:00:00\", \"2024-11-12T00:00:00\", \"2024-11-13T00:00:00\", \"2024-11-14T00:00:00\", \"2024-11-15T00:00:00\", \"2024-11-16T00:00:00\", \"2024-11-17T00:00:00\", \"2024-11-18T00:00:00\", \"2024-11-19T00:00:00\"], \"y\": [7.775, 8.01, 7.85, 7.75, 7.98, 7.99, 8.2, 8.2, 8.2, 8.29, 8.39, 8.59, 8.54, 8.59, 8.49, 8.49, 8.54, 8.49, 8.49, 8.49, 8.54, 8.49, 8.385, 8.28, 8.385, 8.49, 8.48, 8.49, 8.49, 8.49, 8.59, 8.49, 8.49, 8.49, 8.2, 8.49, 8.2, 7.895]}],                        {\"showlegend\": true, \"template\": {\"data\": {\"bar\": [{\"error_x\": {\"color\": \"#2a3f5f\"}, \"error_y\": {\"color\": \"#2a3f5f\"}, \"marker\": {\"line\": {\"color\": \"white\", \"width\": 0.5}}, \"type\": \"bar\"}], \"barpolar\": [{\"marker\": {\"line\": {\"color\": \"white\", \"width\": 0.5}}, \"type\": \"barpolar\"}], \"carpet\": [{\"aaxis\": {\"endlinecolor\": \"#2a3f5f\", \"gridcolor\": \"#C8D4E3\", \"linecolor\": \"#C8D4E3\", \"minorgridcolor\": \"#C8D4E3\", \"startlinecolor\": \"#2a3f5f\"}, \"baxis\": {\"endlinecolor\": \"#2a3f5f\", \"gridcolor\": \"#C8D4E3\", \"linecolor\": \"#C8D4E3\", \"minorgridcolor\": \"#C8D4E3\", \"startlinecolor\": \"#2a3f5f\"}, \"type\": \"carpet\"}], \"choropleth\": [{\"colorbar\": {\"outlinewidth\": 0, \"ticks\": \"\"}, \"type\": \"choropleth\"}], \"contour\": [{\"colorbar\": {\"outlinewidth\": 0, \"ticks\": \"\"}, \"colorscale\": [[0.0, \"#0d0887\"], [0.1111111111111111, \"#46039f\"], [0.2222222222222222, \"#7201a8\"], [0.3333333333333333, \"#9c179e\"], [0.4444444444444444, \"#bd3786\"], [0.5555555555555556, \"#d8576b\"], [0.6666666666666666, \"#ed7953\"], [0.7777777777777778, \"#fb9f3a\"], [0.8888888888888888, \"#fdca26\"], [1.0, \"#f0f921\"]], \"type\": \"contour\"}], \"contourcarpet\": [{\"colorbar\": {\"outlinewidth\": 0, \"ticks\": \"\"}, \"type\": \"contourcarpet\"}], \"heatmap\": [{\"colorbar\": {\"outlinewidth\": 0, \"ticks\": \"\"}, \"colorscale\": [[0.0, \"#0d0887\"], [0.1111111111111111, \"#46039f\"], [0.2222222222222222, \"#7201a8\"], [0.3333333333333333, \"#9c179e\"], [0.4444444444444444, \"#bd3786\"], [0.5555555555555556, \"#d8576b\"], [0.6666666666666666, \"#ed7953\"], [0.7777777777777778, \"#fb9f3a\"], [0.8888888888888888, \"#fdca26\"], [1.0, \"#f0f921\"]], \"type\": \"heatmap\"}], \"heatmapgl\": [{\"colorbar\": {\"outlinewidth\": 0, \"ticks\": \"\"}, \"colorscale\": [[0.0, \"#0d0887\"], [0.1111111111111111, \"#46039f\"], [0.2222222222222222, \"#7201a8\"], [0.3333333333333333, \"#9c179e\"], [0.4444444444444444, \"#bd3786\"], [0.5555555555555556, \"#d8576b\"], [0.6666666666666666, \"#ed7953\"], [0.7777777777777778, \"#fb9f3a\"], [0.8888888888888888, \"#fdca26\"], [1.0, \"#f0f921\"]], \"type\": \"heatmapgl\"}], \"histogram\": [{\"marker\": {\"colorbar\": {\"outlinewidth\": 0, \"ticks\": \"\"}}, \"type\": \"histogram\"}], \"histogram2d\": [{\"colorbar\": {\"outlinewidth\": 0, \"ticks\": \"\"}, \"colorscale\": [[0.0, \"#0d0887\"], [0.1111111111111111, \"#46039f\"], [0.2222222222222222, \"#7201a8\"], [0.3333333333333333, \"#9c179e\"], [0.4444444444444444, \"#bd3786\"], [0.5555555555555556, \"#d8576b\"], [0.6666666666666666, \"#ed7953\"], [0.7777777777777778, \"#fb9f3a\"], [0.8888888888888888, \"#fdca26\"], [1.0, \"#f0f921\"]], \"type\": \"histogram2d\"}], \"histogram2dcontour\": [{\"colorbar\": {\"outlinewidth\": 0, \"ticks\": \"\"}, \"colorscale\": [[0.0, \"#0d0887\"], [0.1111111111111111, \"#46039f\"], [0.2222222222222222, \"#7201a8\"], [0.3333333333333333, \"#9c179e\"], [0.4444444444444444, \"#bd3786\"], [0.5555555555555556, \"#d8576b\"], [0.6666666666666666, \"#ed7953\"], [0.7777777777777778, \"#fb9f3a\"], [0.8888888888888888, \"#fdca26\"], [1.0, \"#f0f921\"]], \"type\": \"histogram2dcontour\"}], \"mesh3d\": [{\"colorbar\": {\"outlinewidth\": 0, \"ticks\": \"\"}, \"type\": \"mesh3d\"}], \"parcoords\": [{\"line\": {\"colorbar\": {\"outlinewidth\": 0, \"ticks\": \"\"}}, \"type\": \"parcoords\"}], \"pie\": [{\"automargin\": true, \"type\": \"pie\"}], \"scatter\": [{\"marker\": {\"colorbar\": {\"outlinewidth\": 0, \"ticks\": \"\"}}, \"type\": \"scatter\"}], \"scatter3d\": [{\"line\": {\"colorbar\": {\"outlinewidth\": 0, \"ticks\": \"\"}}, \"marker\": {\"colorbar\": {\"outlinewidth\": 0, \"ticks\": \"\"}}, \"type\": \"scatter3d\"}], \"scattercarpet\": [{\"marker\": {\"colorbar\": {\"outlinewidth\": 0, \"ticks\": \"\"}}, \"type\": \"scattercarpet\"}], \"scattergeo\": [{\"marker\": {\"colorbar\": {\"outlinewidth\": 0, \"ticks\": \"\"}}, \"type\": \"scattergeo\"}], \"scattergl\": [{\"marker\": {\"colorbar\": {\"outlinewidth\": 0, \"ticks\": \"\"}}, \"type\": \"scattergl\"}], \"scattermapbox\": [{\"marker\": {\"colorbar\": {\"outlinewidth\": 0, \"ticks\": \"\"}}, \"type\": \"scattermapbox\"}], \"scatterpolar\": [{\"marker\": {\"colorbar\": {\"outlinewidth\": 0, \"ticks\": \"\"}}, \"type\": \"scatterpolar\"}], \"scatterpolargl\": [{\"marker\": {\"colorbar\": {\"outlinewidth\": 0, \"ticks\": \"\"}}, \"type\": \"scatterpolargl\"}], \"scatterternary\": [{\"marker\": {\"colorbar\": {\"outlinewidth\": 0, \"ticks\": \"\"}}, \"type\": \"scatterternary\"}], \"surface\": [{\"colorbar\": {\"outlinewidth\": 0, \"ticks\": \"\"}, \"colorscale\": [[0.0, \"#0d0887\"], [0.1111111111111111, \"#46039f\"], [0.2222222222222222, \"#7201a8\"], [0.3333333333333333, \"#9c179e\"], [0.4444444444444444, \"#bd3786\"], [0.5555555555555556, \"#d8576b\"], [0.6666666666666666, \"#ed7953\"], [0.7777777777777778, \"#fb9f3a\"], [0.8888888888888888, \"#fdca26\"], [1.0, \"#f0f921\"]], \"type\": \"surface\"}], \"table\": [{\"cells\": {\"fill\": {\"color\": \"#EBF0F8\"}, \"line\": {\"color\": \"white\"}}, \"header\": {\"fill\": {\"color\": \"#C8D4E3\"}, \"line\": {\"color\": \"white\"}}, \"type\": \"table\"}]}, \"layout\": {\"annotationdefaults\": {\"arrowcolor\": \"#2a3f5f\", \"arrowhead\": 0, \"arrowwidth\": 1}, \"autotypenumbers\": \"strict\", \"coloraxis\": {\"colorbar\": {\"outlinewidth\": 0, \"ticks\": \"\"}}, \"colorscale\": {\"diverging\": [[0, \"#8e0152\"], [0.1, \"#c51b7d\"], [0.2, \"#de77ae\"], [0.3, \"#f1b6da\"], [0.4, \"#fde0ef\"], [0.5, \"#f7f7f7\"], [0.6, \"#e6f5d0\"], [0.7, \"#b8e186\"], [0.8, \"#7fbc41\"], [0.9, \"#4d9221\"], [1, \"#276419\"]], \"sequential\": [[0.0, \"#0d0887\"], [0.1111111111111111, \"#46039f\"], [0.2222222222222222, \"#7201a8\"], [0.3333333333333333, \"#9c179e\"], [0.4444444444444444, \"#bd3786\"], [0.5555555555555556, \"#d8576b\"], [0.6666666666666666, \"#ed7953\"], [0.7777777777777778, \"#fb9f3a\"], [0.8888888888888888, \"#fdca26\"], [1.0, \"#f0f921\"]], \"sequentialminus\": [[0.0, \"#0d0887\"], [0.1111111111111111, \"#46039f\"], [0.2222222222222222, \"#7201a8\"], [0.3333333333333333, \"#9c179e\"], [0.4444444444444444, \"#bd3786\"], [0.5555555555555556, \"#d8576b\"], [0.6666666666666666, \"#ed7953\"], [0.7777777777777778, \"#fb9f3a\"], [0.8888888888888888, \"#fdca26\"], [1.0, \"#f0f921\"]]}, \"colorway\": [\"#636efa\", \"#EF553B\", \"#00cc96\", \"#ab63fa\", \"#FFA15A\", \"#19d3f3\", \"#FF6692\", \"#B6E880\", \"#FF97FF\", \"#FECB52\"], \"font\": {\"color\": \"#2a3f5f\"}, \"geo\": {\"bgcolor\": \"white\", \"lakecolor\": \"white\", \"landcolor\": \"white\", \"showlakes\": true, \"showland\": true, \"subunitcolor\": \"#C8D4E3\"}, \"hoverlabel\": {\"align\": \"left\"}, \"hovermode\": \"closest\", \"mapbox\": {\"style\": \"light\"}, \"paper_bgcolor\": \"white\", \"plot_bgcolor\": \"white\", \"polar\": {\"angularaxis\": {\"gridcolor\": \"#EBF0F8\", \"linecolor\": \"#EBF0F8\", \"ticks\": \"\"}, \"bgcolor\": \"white\", \"radialaxis\": {\"gridcolor\": \"#EBF0F8\", \"linecolor\": \"#EBF0F8\", \"ticks\": \"\"}}, \"scene\": {\"xaxis\": {\"backgroundcolor\": \"white\", \"gridcolor\": \"#DFE8F3\", \"gridwidth\": 2, \"linecolor\": \"#EBF0F8\", \"showbackground\": true, \"ticks\": \"\", \"zerolinecolor\": \"#EBF0F8\"}, \"yaxis\": {\"backgroundcolor\": \"white\", \"gridcolor\": \"#DFE8F3\", \"gridwidth\": 2, \"linecolor\": \"#EBF0F8\", \"showbackground\": true, \"ticks\": \"\", \"zerolinecolor\": \"#EBF0F8\"}, \"zaxis\": {\"backgroundcolor\": \"white\", \"gridcolor\": \"#DFE8F3\", \"gridwidth\": 2, \"linecolor\": \"#EBF0F8\", \"showbackground\": true, \"ticks\": \"\", \"zerolinecolor\": \"#EBF0F8\"}}, \"shapedefaults\": {\"line\": {\"color\": \"#2a3f5f\"}}, \"ternary\": {\"aaxis\": {\"gridcolor\": \"#DFE8F3\", \"linecolor\": \"#A2B1C6\", \"ticks\": \"\"}, \"baxis\": {\"gridcolor\": \"#DFE8F3\", \"linecolor\": \"#A2B1C6\", \"ticks\": \"\"}, \"bgcolor\": \"white\", \"caxis\": {\"gridcolor\": \"#DFE8F3\", \"linecolor\": \"#A2B1C6\", \"ticks\": \"\"}}, \"title\": {\"x\": 0.05}, \"xaxis\": {\"automargin\": true, \"gridcolor\": \"#EBF0F8\", \"linecolor\": \"#EBF0F8\", \"ticks\": \"\", \"title\": {\"standoff\": 15}, \"zerolinecolor\": \"#EBF0F8\", \"zerolinewidth\": 2}, \"yaxis\": {\"automargin\": true, \"gridcolor\": \"#EBF0F8\", \"linecolor\": \"#EBF0F8\", \"ticks\": \"\", \"title\": {\"standoff\": 15}, \"zerolinecolor\": \"#EBF0F8\", \"zerolinewidth\": 2}}}, \"title\": {\"text\": \"Price Trends for Feij\\u00e3o Preto Tipo 1 Kicaldo Pacote 1kg 72329.0 (Med ALL)\"}, \"xaxis\": {\"title\": {\"text\": \"Quotation Date\"}}, \"yaxis\": {\"title\": {\"text\": \"Median Price (Med ALL)\"}}},                        {\"responsive\": true}                    ).then(function(){\n",
       "                            \n",
       "var gd = document.getElementById('7914d0d4-45ca-43ce-84d5-f1bdbe1decee');\n",
       "var x = new MutationObserver(function (mutations, observer) {{\n",
       "        var display = window.getComputedStyle(gd).display;\n",
       "        if (!display || display === 'none') {{\n",
       "            console.log([gd, 'removed!']);\n",
       "            Plotly.purge(gd);\n",
       "            observer.disconnect();\n",
       "        }}\n",
       "}});\n",
       "\n",
       "// Listen for the removal of the full notebook cells\n",
       "var notebookContainer = gd.closest('#notebook-container');\n",
       "if (notebookContainer) {{\n",
       "    x.observe(notebookContainer, {childList: true});\n",
       "}}\n",
       "\n",
       "// Listen for the clearing of the current output cell\n",
       "var outputEl = gd.closest('.output');\n",
       "if (outputEl) {{\n",
       "    x.observe(outputEl, {childList: true});\n",
       "}}\n",
       "\n",
       "                        })                };                });            </script>        </div>"
      ]
     },
     "metadata": {},
     "output_type": "display_data"
    },
    {
     "data": {
      "text/plain": [
       "<function __main__.plot_price_trends(source_id, metric)>"
      ]
     },
     "execution_count": 11,
     "metadata": {},
     "output_type": "execute_result"
    }
   ],
   "source": [
    "import plotly.graph_objects as go\n",
    "import ipywidgets as widgets\n",
    "from ipywidgets import interact\n",
    "\n",
    "# Assuming df1 is bench_fru and df2 is bench_info, we add a 'company' column\n",
    "bench_fru['company'] = 'Frubana'\n",
    "bench_info['company'] = 'Infoprice'\n",
    "\n",
    "# Concatenate both dataframes\n",
    "df = pd.concat([bench_fru, bench_info])\n",
    "\n",
    "# Function to plot the data for a selected source_id and metric\n",
    "def plot_price_trends(source_id, metric):\n",
    "    # Filter data based on the selected source_id\n",
    "    filtered_df = df[df['source_id'] == source_id]\n",
    "\n",
    "    # Create the figure\n",
    "    fig = go.Figure()\n",
    "\n",
    "    # Plot lines for both companies\n",
    "    for company_name, color in [('Frubana', 'blue'), ('Infoprice', 'orange')]:\n",
    "        company_df = filtered_df[filtered_df['company'] == company_name]\n",
    "        fig.add_trace(go.Scatter(\n",
    "            x=company_df['quotation_date'],\n",
    "            y=company_df[metric],\n",
    "            mode='lines',\n",
    "            name=company_name,\n",
    "            line=dict(color=color)\n",
    "        ))\n",
    "\n",
    "    # Update the layout\n",
    "    fig.update_layout(\n",
    "        title=f'Price Trends for {df_join.loc[df_join.source_id==source_id].nombre.values[0]} {source_id} ({metric})',\n",
    "        xaxis_title='Quotation Date',\n",
    "        yaxis_title=f'Median Price ({metric})',\n",
    "        showlegend=True,\n",
    "        template='plotly_white'\n",
    "    )\n",
    "\n",
    "    # Show the figure\n",
    "    fig.show()\n",
    "\n",
    "# Get the unique source_ids from the data\n",
    "source_ids = df['source_id'].unique()\n",
    "\n",
    "# Create dropdown widgets for `source_id` and `metric`\n",
    "source_id_dropdown = widgets.Dropdown(\n",
    "    options=source_ids,\n",
    "    description='Source ID:',\n",
    "    value=source_ids[0]  # Default to the first source_id\n",
    ")\n",
    "\n",
    "metric_dropdown = widgets.Dropdown(\n",
    "    options=['Med ALL', 'Med Assai', 'Med Atacadao'],\n",
    "    description='Metric:',\n",
    "    value='Med ALL'  # Default to 'Med ALL'\n",
    ")\n",
    "\n",
    "# Use the interact function to make the plot interactive\n",
    "interact(plot_price_trends, source_id=source_id_dropdown, metric=metric_dropdown)"
   ]
  },
  {
   "cell_type": "code",
   "execution_count": 12,
   "metadata": {},
   "outputs": [
    {
     "data": {
      "text/html": [
       "<div>\n",
       "<style scoped>\n",
       "    .dataframe tbody tr th:only-of-type {\n",
       "        vertical-align: middle;\n",
       "    }\n",
       "\n",
       "    .dataframe tbody tr th {\n",
       "        vertical-align: top;\n",
       "    }\n",
       "\n",
       "    .dataframe thead tr th {\n",
       "        text-align: left;\n",
       "    }\n",
       "\n",
       "    .dataframe thead tr:last-of-type th {\n",
       "        text-align: right;\n",
       "    }\n",
       "</style>\n",
       "<table border=\"1\" class=\"dataframe\">\n",
       "  <thead>\n",
       "    <tr>\n",
       "      <th></th>\n",
       "      <th></th>\n",
       "      <th colspan=\"8\" halign=\"left\">POINTS Med ALL</th>\n",
       "      <th colspan=\"5\" halign=\"left\">POINTS Med Assai</th>\n",
       "      <th colspan=\"8\" halign=\"left\">POINTS Med Atacadao</th>\n",
       "    </tr>\n",
       "    <tr>\n",
       "      <th></th>\n",
       "      <th></th>\n",
       "      <th>count</th>\n",
       "      <th>mean</th>\n",
       "      <th>std</th>\n",
       "      <th>min</th>\n",
       "      <th>25%</th>\n",
       "      <th>50%</th>\n",
       "      <th>75%</th>\n",
       "      <th>max</th>\n",
       "      <th>count</th>\n",
       "      <th>mean</th>\n",
       "      <th>...</th>\n",
       "      <th>75%</th>\n",
       "      <th>max</th>\n",
       "      <th>count</th>\n",
       "      <th>mean</th>\n",
       "      <th>std</th>\n",
       "      <th>min</th>\n",
       "      <th>25%</th>\n",
       "      <th>50%</th>\n",
       "      <th>75%</th>\n",
       "      <th>max</th>\n",
       "    </tr>\n",
       "    <tr>\n",
       "      <th>source_id</th>\n",
       "      <th>company</th>\n",
       "      <th></th>\n",
       "      <th></th>\n",
       "      <th></th>\n",
       "      <th></th>\n",
       "      <th></th>\n",
       "      <th></th>\n",
       "      <th></th>\n",
       "      <th></th>\n",
       "      <th></th>\n",
       "      <th></th>\n",
       "      <th></th>\n",
       "      <th></th>\n",
       "      <th></th>\n",
       "      <th></th>\n",
       "      <th></th>\n",
       "      <th></th>\n",
       "      <th></th>\n",
       "      <th></th>\n",
       "      <th></th>\n",
       "      <th></th>\n",
       "      <th></th>\n",
       "    </tr>\n",
       "  </thead>\n",
       "  <tbody>\n",
       "    <tr>\n",
       "      <th rowspan=\"2\" valign=\"top\">588033.0</th>\n",
       "      <th>Frubana</th>\n",
       "      <td>39.0</td>\n",
       "      <td>15.820513</td>\n",
       "      <td>2.732570</td>\n",
       "      <td>5.0</td>\n",
       "      <td>16.0</td>\n",
       "      <td>16.0</td>\n",
       "      <td>17.0</td>\n",
       "      <td>22.0</td>\n",
       "      <td>39.0</td>\n",
       "      <td>4.820513</td>\n",
       "      <td>...</td>\n",
       "      <td>5.00</td>\n",
       "      <td>7.0</td>\n",
       "      <td>39.0</td>\n",
       "      <td>4.076923</td>\n",
       "      <td>0.899843</td>\n",
       "      <td>1.0</td>\n",
       "      <td>4.0</td>\n",
       "      <td>4.0</td>\n",
       "      <td>4.0</td>\n",
       "      <td>6.0</td>\n",
       "    </tr>\n",
       "    <tr>\n",
       "      <th>Infoprice</th>\n",
       "      <td>34.0</td>\n",
       "      <td>3.558824</td>\n",
       "      <td>0.746352</td>\n",
       "      <td>1.0</td>\n",
       "      <td>3.0</td>\n",
       "      <td>4.0</td>\n",
       "      <td>4.0</td>\n",
       "      <td>4.0</td>\n",
       "      <td>34.0</td>\n",
       "      <td>2.147059</td>\n",
       "      <td>...</td>\n",
       "      <td>2.75</td>\n",
       "      <td>3.0</td>\n",
       "      <td>0.0</td>\n",
       "      <td>NaN</td>\n",
       "      <td>NaN</td>\n",
       "      <td>NaN</td>\n",
       "      <td>NaN</td>\n",
       "      <td>NaN</td>\n",
       "      <td>NaN</td>\n",
       "      <td>NaN</td>\n",
       "    </tr>\n",
       "  </tbody>\n",
       "</table>\n",
       "<p>2 rows × 24 columns</p>\n",
       "</div>"
      ],
      "text/plain": [
       "                    POINTS Med ALL                                        \\\n",
       "                             count       mean       std  min   25%   50%   \n",
       "source_id company                                                          \n",
       "588033.0  Frubana             39.0  15.820513  2.732570  5.0  16.0  16.0   \n",
       "          Infoprice           34.0   3.558824  0.746352  1.0   3.0   4.0   \n",
       "\n",
       "                                POINTS Med Assai            ...             \\\n",
       "                      75%   max            count      mean  ...   75%  max   \n",
       "source_id company                                           ...              \n",
       "588033.0  Frubana    17.0  22.0             39.0  4.820513  ...  5.00  7.0   \n",
       "          Infoprice   4.0   4.0             34.0  2.147059  ...  2.75  3.0   \n",
       "\n",
       "                    POINTS Med Atacadao                                     \\\n",
       "                                  count      mean       std  min  25%  50%   \n",
       "source_id company                                                            \n",
       "588033.0  Frubana                  39.0  4.076923  0.899843  1.0  4.0  4.0   \n",
       "          Infoprice                 0.0       NaN       NaN  NaN  NaN  NaN   \n",
       "\n",
       "                               \n",
       "                     75%  max  \n",
       "source_id company              \n",
       "588033.0  Frubana    4.0  6.0  \n",
       "          Infoprice  NaN  NaN  \n",
       "\n",
       "[2 rows x 24 columns]"
      ]
     },
     "execution_count": 12,
     "metadata": {},
     "output_type": "execute_result"
    }
   ],
   "source": [
    "df.loc[df.source_id == 588033,['source_id','company','POINTS Med ALL','POINTS Med Assai','POINTS Med Atacadao']].groupby(['source_id','company']).describe().head(60)"
   ]
  }
 ],
 "metadata": {
  "kernelspec": {
   "display_name": "Python 3",
   "language": "python",
   "name": "python3"
  }
 },
 "nbformat": 4,
 "nbformat_minor": 2
}
