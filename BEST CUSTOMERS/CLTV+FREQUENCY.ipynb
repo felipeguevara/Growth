{
 "cells": [
  {
   "cell_type": "code",
   "execution_count": 14,
   "metadata": {},
   "outputs": [],
   "source": [
    "#//----------------------------\n",
    "#//LIBRARIES\n",
    "    #Math\n",
    "import math\n",
    "    #Numeric Python\n",
    "import numpy as np\n",
    "    #Pandas (dataframes)\n",
    "import pandas as pd\n",
    "    #datetime for fate manipulation\n",
    "from datetime import date, datetime, timedelta  \n",
    "    #Regex for advanced string matching\n",
    "import re\n",
    "    #for time related stuff\n",
    "import time\n",
    "    #json library\n",
    "import json\n",
    "    #Analyst tools\n",
    "import sys\n",
    "sys.path.append('../')\n",
    "from analysts_tools.growth import *\n",
    "    #Procurement tools\n",
    "from procurement_lib import send_slack_notification\n",
    "from procurement_lib import redash\n",
    "from analysts_tools.redash_methods import *\n",
    "\n",
    "import random\n",
    "import time\n",
    "import datetime\n",
    "\n",
    "from sklearn.model_selection import train_test_split "
   ]
  },
  {
   "cell_type": "code",
   "execution_count": 15,
   "metadata": {},
   "outputs": [],
   "source": [
    "#//---------------------------------------------------------------------------------------------------------------------------\n",
    "#// Parametros\n",
    "\n",
    "city_code = 'BAQ'\n",
    "\n",
    "skus = [450459,456909]\n",
    "#year-month-day\n",
    "todays_date = datetime.datetime.today().strftime('%Y-%m-%d')\n",
    "\n",
    "dias = 0\n",
    "\n",
    "tasas = {'BOG': 3776,\n",
    "         'BAQ': 3776,\n",
    "         'MDE': 3776,\n",
    "         'CMX': 19.65,\n",
    "         'GDL': 19.65,\n",
    "         'PBC': 19.65,\n",
    "         'SPO': 4.75,\n",
    "         'BHZ': 4.75,\n",
    "         'CWB': 4.75,\n",
    "         'VCP': 4.75}\n",
    "\n",
    "t_cambio = tasas[city_code]"
   ]
  },
  {
   "cell_type": "code",
   "execution_count": 16,
   "metadata": {},
   "outputs": [
    {
     "name": "stdout",
     "output_type": "stream",
     "text": [
      "200\n"
     ]
    }
   ],
   "source": [
    "frida_products = get_fresh_query_result(\"https://internal-redash.federate.frubana.com/\",118629,'SeoGHWmDUaaBi7VXje1s9zYNiMD1VHQ1K1DYOxiF',{},20)"
   ]
  },
  {
   "cell_type": "code",
   "execution_count": 17,
   "metadata": {},
   "outputs": [
    {
     "name": "stdout",
     "output_type": "stream",
     "text": [
      "200\n"
     ]
    }
   ],
   "source": [
    "clients_CLTV = get_fresh_query_result(\"https://internal-redash.federate.frubana.com/\",154541,'SeoGHWmDUaaBi7VXje1s9zYNiMD1VHQ1K1DYOxiF',{},20)"
   ]
  },
  {
   "cell_type": "code",
   "execution_count": 18,
   "metadata": {},
   "outputs": [],
   "source": [
    "best_customers = clients_CLTV.loc[(clients_CLTV.region_code == city_code) & (clients_CLTV.cltv.isin([1,2,3,4,5,6,7,8,9]))].customer_id.unique()"
   ]
  },
  {
   "cell_type": "code",
   "execution_count": 19,
   "metadata": {},
   "outputs": [
    {
     "data": {
      "text/plain": [
       "4466"
      ]
     },
     "execution_count": 19,
     "metadata": {},
     "output_type": "execute_result"
    }
   ],
   "source": [
    "clients_CLTV.loc[(clients_CLTV.region_code == city_code) & (clients_CLTV.cltv.isin([1,2,3,4,5,6,7,8,9]))].customer_id.nunique()"
   ]
  },
  {
   "cell_type": "code",
   "execution_count": 20,
   "metadata": {},
   "outputs": [],
   "source": [
    "query = \"\"\"\n",
    "-- 93058\n",
    "-- Se toma como base el query 2718\n",
    "WITH \n",
    "ful AS (\n",
    "\n",
    "SELECT DISTINCT\n",
    "    bo.order_id,\n",
    "    --ffg.close_date\n",
    "    bo.submit_date\n",
    "    \n",
    "FROM postgres_broadleaf_federate.\"broadleaf.blc_order\" bo\n",
    "INNER JOIN postgres_broadleaf_federate.\"broadleaf.blc_fulfillment_group\" bfg        ON bfg.order_id = bo.order_id\n",
    "INNER JOIN postgres_broadleaf_federate.\"broadleaf.blc_fulfillment_order\" bfo        ON bfo.fulfillment_group_id = bfg.fulfillment_group_id\n",
    "INNER JOIN postgres_broadleaf_federate.\"broadleaf.fb_fulfillment_group\" ffg         ON ffg.fulfillment_group_id = bfg.fulfillment_group_id\n",
    "INNER JOIN postgres_broadleaf_federate.\"broadleaf.fb_order\" fo                      ON fo.order_id = bo.order_id\n",
    "INNER JOIN postgres_broadleaf_federate.\"broadleaf.blc_order_payment\" bop            ON bop.order_id = bo.order_id\n",
    "INNER JOIN postgres_broadleaf_federate.\"broadleaf.blc_site\" s                       ON s.site_id = bo.site_disc\n",
    "LEFT JOIN  postgres_broadleaf_federate.\"broadleaf.fb_order_type\" fot                ON fot.fb_order_type_id=fo.fb_order_type_id\n",
    "\n",
    "WHERE fo.fb_order_status_id IN (1,6,7,8)\n",
    "    AND bo.submit_date >= DATE_TRUNC('day', date(getdate()) - interval '90 day')\n",
    "    AND bo.order_status = 'SUBMITTED'\n",
    "    AND bfo.status NOT IN ('ARCHIVED','CANCELLED')\n",
    "    AND bop.archived = 'N'\n",
    "    AND (fot.name IS NULL OR fot.name <> 'REFUND')\n",
    "    AND s.site_identifier_value = '{ciudad}'\n",
    ")\n",
    "\n",
    "SELECT DISTINCT\n",
    "    s.site_identifier_value AS city,\n",
    "    DATE(bo.submit_date) AS submit_date,\n",
    "    bo.customer_id,\n",
    "    bs2.name,\n",
    "    bs.addl_product_id as padre_sku_id,\n",
    "    --bcat2.name AS category,\n",
    "    --bcat.name AS subcat,\n",
    "    --MIN(bo.submit_date) AS min_date,\n",
    "    --COUNT(DISTINCT bo.order_id) as orders,\n",
    "    CASE WHEN s.site_identifier_value = 'CMX' then SUM ( (boi.quantity * foi.step_unit * boi.sale_price)*1.0/19.65)\n",
    "        WHEN s.site_identifier_value = 'GDL' then SUM ( (boi.quantity * foi.step_unit * boi.sale_price)*1.0/19.65)\n",
    "        WHEN s.site_identifier_value = 'PBC' then SUM ( (boi.quantity * foi.step_unit * boi.sale_price)*1.0/19.65)\n",
    "        WHEN s.site_identifier_value = 'MTY' then SUM ( (boi.quantity * foi.step_unit * boi.sale_price)*1.0/19.65)\n",
    "        WHEN s.site_identifier_value = 'SPO' then SUM ( (boi.quantity * foi.step_unit * boi.sale_price)*1.0/4.75)\n",
    "        WHEN s.site_identifier_value = 'BHZ' then SUM ( (boi.quantity * foi.step_unit * boi.sale_price)*1.0/4.75)\n",
    "        WHEN s.site_identifier_value = 'CWB' then SUM ( (boi.quantity * foi.step_unit * boi.sale_price)*1.0/4.75)\n",
    "        WHEN s.site_identifier_value = 'VCP' then SUM ( (boi.quantity * foi.step_unit * boi.sale_price)*1.0/4.75)\n",
    "    ELSE SUM ( (boi.quantity * foi.step_unit * boi.sale_price)*1.0/3776) END AS gmv_usd,\n",
    "    SUM(boi.quantity* foi.step_unit) as cant\n",
    "\n",
    "FROM postgres_broadleaf_federate.\"broadleaf.blc_order\" bo\n",
    "INNER JOIN postgres_broadleaf_federate.\"broadleaf.blc_site\"                     s       ON s.site_id = bo.site_disc\n",
    "INNER JOIN postgres_broadleaf_federate.\"broadleaf.blc_order_item\"               boi     ON boi.order_id=bo.order_id\n",
    "INNER JOIN postgres_broadleaf_federate.\"broadleaf.fb_order_item\"                foi     ON boi.order_item_id= foi.order_item_id\n",
    "INNER JOIN postgres_broadleaf_federate.\"broadleaf.fb_order\"                     fo      ON fo.order_id = bo.order_id\n",
    "INNER JOIN ful                                                                          ON ful.order_id = bo.order_id\n",
    "INNER JOIN postgres_broadleaf_federate.\"broadleaf.blc_discrete_order_item\"      bdoi    ON bdoi.order_item_id = boi.order_item_id\n",
    "INNER JOIN postgres_broadleaf_federate.\"broadleaf.blc_sku\"                      bs      ON bs.sku_id = bdoi.sku_id\n",
    "INNER JOIN postgres_broadleaf_federate.\"broadleaf.blc_product\"                  bp      ON bs.addl_product_id = bp.product_id\n",
    "INNER JOIN postgres_broadleaf_federate.\"broadleaf.blc_sku\"                      bs2     ON bs2.sku_id = bp.default_sku_id --Conectar la tarjeta con el sku que guarda la info\n",
    "INNER JOIN postgres_broadleaf_federate.\"broadleaf.blc_category\"                 bcat    ON bcat.category_id = bp.default_category_id \n",
    "INNER JOIN postgres_broadleaf_federate.\"broadleaf.blc_category_xref\"            bcx     ON bcx.sub_category_id = bp.default_category_id AND bcx.archived='N' AND bcx.sndbx_tier is NULL\n",
    "INNER JOIN postgres_broadleaf_federate.\"broadleaf.blc_category\"                 bcat2   ON bcx.category_id = bcat2.category_id\n",
    "--INNER JOIN postgres_broadleaf_federate.\"broadleaf.blc_order_item_price_dtl\"     boipd   ON boipd.order_item_id=boi.order_item_id\n",
    "--INNER JOIN postgres_broadleaf_federate.\"broadleaf.blc_order_item_dtl_adj\"       boida   ON boida.order_item_price_dtl_id=boipd.order_item_price_dtl_id\n",
    "\n",
    "WHERE fb_order_status_id IN (1,6,7,8)\n",
    "    AND bo.order_status = 'SUBMITTED'\n",
    "   -- FIX SUPER DESCUENTOS\n",
    "    AND bcat2.category_id not in ('110873','-1000','100768','100765','100815') --ids de super descuentos en cada país\n",
    "    AND bcat.name <> 'Oferton Frubana' AND bcat2.name <> 'Oferton Frubana'\n",
    "    --AND LOWER(boida.adjustment_reason) ILIKE '%merma%'\n",
    "    \n",
    "GROUP BY 1,2,3,4,5\n",
    "ORDER BY 1,3,5,2\n",
    "\"\"\".format(ciudad=city_code)\n",
    "\n",
    "data_ventas_aux = read_connection_data_warehouse.runQuery(query)\n",
    "data_ventas_aux[[\"gmv_usd\",\"cant\"]] = data_ventas_aux[[\"gmv_usd\",\"cant\"]].astype(float)\n",
    "data_ventas_aux[\"submit_date\"] = pd.to_datetime(data_ventas_aux[\"submit_date\"])"
   ]
  },
  {
   "cell_type": "code",
   "execution_count": 21,
   "metadata": {},
   "outputs": [],
   "source": [
    "from sklearn.model_selection import train_test_split \n",
    "\n",
    "def create_groups(time_between_purchases_df,st_time_between_purchases,sku):\n",
    "    \n",
    "    customers = time_between_purchases_df.loc[(time_between_purchases_df.time_between_purchases > st_time_between_purchases.loc[0,['50%']][0]) &\n",
    "                                    (time_between_purchases_df.customer_id.isin(best_customers))].customer_id.unique()\n",
    "\n",
    "    customer_control, customer_test = train_test_split(customers, test_size = 0.80)\n",
    "\n",
    "    alpha=0.01\n",
    "    aux=0\n",
    "    while abs(1-(data_ventas_aux[(data_ventas_aux.customer_id.isin(customer_control)) & (data_ventas_aux.padre_sku_id == sku)]['gmv_usd'].mean()/data_ventas_aux[data_ventas_aux.customer_id.isin(customer_test) & (data_ventas_aux.padre_sku_id == sku)]['gmv_usd'].mean())) > alpha:\n",
    "        customer_control, customer_test = train_test_split(customers, test_size = 0.80)\n",
    "        \n",
    "        aux+=1\n",
    "        if aux == 1000:\n",
    "            alpha+=0.01\n",
    "            aux=0\n",
    "        \n",
    "    return customer_control.tolist(), customer_test.tolist()"
   ]
  },
  {
   "cell_type": "code",
   "execution_count": 22,
   "metadata": {},
   "outputs": [],
   "source": [
    "import seaborn as sns\n",
    "import matplotlib.pyplot as plt\n",
    "\n",
    "def plott(time_between_purchases_df,st_time_between_purchases):\n",
    "    # Set the figure size\n",
    "    plt.figure(figsize=(14, 8))\n",
    "    fig, ax = plt.subplots()\n",
    "\n",
    "    # Extract the 'time_between_purchases' column from the DataFrame\n",
    "    time_between_purchases = time_between_purchases_df['time_between_purchases'].dropna().astype('timedelta64[D]').astype(int)\n",
    "\n",
    "    # Create the histogram with a density curve\n",
    "    sns.histplot(time_between_purchases, kde=True, binwidth=2, ax=ax)\n",
    "\n",
    "    # Add a vertical line at the mean value\n",
    "    mean_val = st_time_between_purchases.loc[0,['mean']][0].total_seconds() / 86400\n",
    "    plt.axvline(x=mean_val, color='red', linestyle='--', label='Median')\n",
    "\n",
    "    # Set the x-axis limits\n",
    "    ax.set_xlim(left=0, right=50)\n",
    "\n",
    "    # Add a legend\n",
    "    ax.legend()\n",
    "\n",
    "    # Show the plot\n",
    "    plt.show()\n",
    "\n",
    "    st_time_between_purchases\n",
    "    \n",
    "    return \"done\""
   ]
  },
  {
   "cell_type": "code",
   "execution_count": 23,
   "metadata": {},
   "outputs": [],
   "source": [
    "def get_data(sku):\n",
    "    grouped_data = data_ventas_aux.loc[data_ventas_aux.padre_sku_id == sku].groupby(['customer_id', 'padre_sku_id'])\n",
    "    time_between_purchases = grouped_data['submit_date'].diff()\n",
    "    time_between_purchases_df = pd.DataFrame({'customer_id': data_ventas_aux.loc[data_ventas_aux.padre_sku_id == sku]['customer_id'],\n",
    "                                            'padre_sku_id': data_ventas_aux.loc[data_ventas_aux.padre_sku_id == sku]['padre_sku_id'],\n",
    "                                            'time_between_purchases': time_between_purchases})\n",
    "    avg_time_between_purchases = time_between_purchases_df.groupby(['padre_sku_id'])['time_between_purchases'].mean()\n",
    "    st_time_between_purchases = time_between_purchases_df.groupby(['padre_sku_id'])['time_between_purchases'].describe().reset_index()\n",
    "    \n",
    "    plott(time_between_purchases_df,st_time_between_purchases)\n",
    "    print(st_time_between_purchases)\n",
    "    control,test = create_groups(time_between_purchases_df,st_time_between_purchases,sku)\n",
    "    return control,test"
   ]
  },
  {
   "cell_type": "code",
   "execution_count": 24,
   "metadata": {},
   "outputs": [
    {
     "data": {
      "text/plain": [
       "<Figure size 1008x576 with 0 Axes>"
      ]
     },
     "metadata": {},
     "output_type": "display_data"
    },
    {
     "data": {
      "image/png": "[encoded data removed]",
      "text/plain": [
       "<Figure size 432x288 with 1 Axes>"
      ]
     },
     "metadata": {
      "needs_background": "light"
     },
     "output_type": "display_data"
    },
    {
     "name": "stdout",
     "output_type": "stream",
     "text": [
      "   padre_sku_id count                       mean                        std  \\\n",
      "0        450459  1031 12 days 01:43:21.357904946 11 days 01:12:04.227004438   \n",
      "\n",
      "     min    25%    50%     75%     max  \n",
      "0 1 days 5 days 8 days 15 days 68 days  \n",
      "450459 CONTROL:  41  TEST:  168\n"
     ]
    },
    {
     "data": {
      "text/plain": [
       "<Figure size 1008x576 with 0 Axes>"
      ]
     },
     "metadata": {},
     "output_type": "display_data"
    },
    {
     "data": {
      "image/png": "[encoded data removed]",
      "text/plain": [
       "<Figure size 432x288 with 1 Axes>"
      ]
     },
     "metadata": {
      "needs_background": "light"
     },
     "output_type": "display_data"
    },
    {
     "name": "stdout",
     "output_type": "stream",
     "text": [
      "   padre_sku_id count                      mean                       std  \\\n",
      "0        456909   126 4 days 07:25:42.857142857 2 days 05:08:41.452400329   \n",
      "\n",
      "     min    25%    50%    75%     max  \n",
      "0 1 days 3 days 4 days 6 days 10 days  \n",
      "456909 CONTROL:  6  TEST:  24\n"
     ]
    }
   ],
   "source": [
    "offer_name = []\n",
    "global_segment_list = [] #//for procesing\n",
    "for sku in skus:\n",
    "    control,test = get_data(sku)\n",
    "\n",
    "    offer_name.append(\"SH_CLTV_\"+todays_date+\"_\"+city_code+\"_\"+str(sku))\n",
    "    d = {'name':\"SH_CLTV_\"+todays_date+\"_\"+city_code+\"_\"+str(sku), 'customersIds': list(test)}\n",
    "    e = {'name':\"SH_CLTV_\"+todays_date+\"_\"+city_code+\"_\"+str(sku)+\"_CONTROL\", 'customersIds': list(control)}\n",
    "    \n",
    "    global_segment_list.append(d)\n",
    "    global_segment_list.append(e)\n",
    "    \n",
    "    print(sku,\"CONTROL: \",len(control), \" TEST: \",len(test))"
   ]
  },
  {
   "cell_type": "code",
   "execution_count": 25,
   "metadata": {},
   "outputs": [],
   "source": [
    "csv_file = {} \n",
    "csv_file['offer_name'] = offer_name\n",
    "csv_file['offer_description'] = None\n",
    "csv_file['discount'] = [6.5,6.5]\n",
    "csv_file['automatically_consider_offer'] = \"true\"\n",
    "csv_file['start_date'] = (datetime.datetime.today() + datetime.timedelta(days=dias)).strftime('%d-%m-%Y')\n",
    "csv_file['end_date'] = (datetime.datetime.today() + datetime.timedelta(days=(dias+15))).strftime('%d-%m-%Y')\n",
    "csv_file['max_uses_per_order'] = [0]*len(offer_name)\n",
    "csv_file['max_uses_per_customer'] = [0]*len(offer_name)\n",
    "csv_file['customer_segment_id'] = [1]*len(offer_name) #[None]\n",
    "csv_file['sku_id'] = [frida_products.loc[frida_products.id_tarjeta == sku,\"skus\"].values[0] for sku in skus]\n",
    "\n",
    "global_offer_csv = pd.DataFrame(csv_file) #, index=[0])"
   ]
  },
  {
   "cell_type": "code",
   "execution_count": 26,
   "metadata": {},
   "outputs": [
    {
     "data": {
      "text/html": [
       "<div>\n",
       "<style scoped>\n",
       "    .dataframe tbody tr th:only-of-type {\n",
       "        vertical-align: middle;\n",
       "    }\n",
       "\n",
       "    .dataframe tbody tr th {\n",
       "        vertical-align: top;\n",
       "    }\n",
       "\n",
       "    .dataframe thead th {\n",
       "        text-align: right;\n",
       "    }\n",
       "</style>\n",
       "<table border=\"1\" class=\"dataframe\">\n",
       "  <thead>\n",
       "    <tr style=\"text-align: right;\">\n",
       "      <th></th>\n",
       "      <th>offer_name</th>\n",
       "      <th>offer_description</th>\n",
       "      <th>discount</th>\n",
       "      <th>automatically_consider_offer</th>\n",
       "      <th>start_date</th>\n",
       "      <th>end_date</th>\n",
       "      <th>max_uses_per_order</th>\n",
       "      <th>max_uses_per_customer</th>\n",
       "      <th>customer_segment_id</th>\n",
       "      <th>sku_id</th>\n",
       "    </tr>\n",
       "  </thead>\n",
       "  <tbody>\n",
       "    <tr>\n",
       "      <th>0</th>\n",
       "      <td>SH_CLTV_2023-05-20_BAQ_450459</td>\n",
       "      <td>None</td>\n",
       "      <td>6.5</td>\n",
       "      <td>true</td>\n",
       "      <td>20-05-2023</td>\n",
       "      <td>04-06-2023</td>\n",
       "      <td>0</td>\n",
       "      <td>0</td>\n",
       "      <td>1</td>\n",
       "      <td>624989</td>\n",
       "    </tr>\n",
       "    <tr>\n",
       "      <th>1</th>\n",
       "      <td>SH_CLTV_2023-05-20_BAQ_456909</td>\n",
       "      <td>None</td>\n",
       "      <td>6.5</td>\n",
       "      <td>true</td>\n",
       "      <td>20-05-2023</td>\n",
       "      <td>04-06-2023</td>\n",
       "      <td>0</td>\n",
       "      <td>0</td>\n",
       "      <td>1</td>\n",
       "      <td>632389</td>\n",
       "    </tr>\n",
       "  </tbody>\n",
       "</table>\n",
       "</div>"
      ],
      "text/plain": [
       "                      offer_name offer_description  discount  \\\n",
       "0  SH_CLTV_2023-05-20_BAQ_450459              None       6.5   \n",
       "1  SH_CLTV_2023-05-20_BAQ_456909              None       6.5   \n",
       "\n",
       "  automatically_consider_offer  start_date    end_date  max_uses_per_order  \\\n",
       "0                         true  20-05-2023  04-06-2023                   0   \n",
       "1                         true  20-05-2023  04-06-2023                   0   \n",
       "\n",
       "   max_uses_per_customer  customer_segment_id  sku_id  \n",
       "0                      0                    1  624989  \n",
       "1                      0                    1  632389  "
      ]
     },
     "execution_count": 26,
     "metadata": {},
     "output_type": "execute_result"
    }
   ],
   "source": [
    "global_offer_csv"
   ]
  },
  {
   "cell_type": "code",
   "execution_count": 27,
   "metadata": {},
   "outputs": [],
   "source": [
    "import requests\n",
    "import json\n",
    "\n",
    "url = f\"https://{city_code}.frubana.com/api/v1/segments/create?api-key=00_growth-team-zzz-qqq_001\"\n",
    "\n",
    "payload = json.dumps(global_segment_list)\n",
    "\n",
    "\n",
    "headers = {\n",
    "  'Cookie': 'AWSALB=WGKrKvA1CFOY0m92xSENGAseuE4LrcfQh9y8jK/loGBJdizNm+FvjOqUqVghxdfLkH6Jsa9sfWft2NELchGAP/LNZMXMYhrOE70qDnUuOHATpdJj1UZBMEUBSIN1; AWSALBCORS=WGKrKvA1CFOY0m92xSENGAseuE4LrcfQh9y8jK/loGBJdizNm+FvjOqUqVghxdfLkH6Jsa9sfWft2NELchGAP/LNZMXMYhrOE70qDnUuOHATpdJj1UZBMEUBSIN1; AWSALB=jLY02FPysvF1vTrKLhXbk3ibzmyiAqFJ1ezYVu5PjodkU2QmPHDpRJhb9CvOlOyQ1Ix0mJR1ig+eH9zwJ9i5EOtgsgx79NSROogQb2Ua6yLX/I3bJJ6xtcVO3puI; AWSALBCORS=jLY02FPysvF1vTrKLhXbk3ibzmyiAqFJ1ezYVu5PjodkU2QmPHDpRJhb9CvOlOyQ1Ix0mJR1ig+eH9zwJ9i5EOtgsgx79NSROogQb2Ua6yLX/I3bJJ6xtcVO3puI',\n",
    "  'Content-Type': 'application/json'\n",
    "}\n",
    "\n",
    "response = requests.request(\"POST\", url, headers=headers, data=payload)"
   ]
  },
  {
   "cell_type": "code",
   "execution_count": 28,
   "metadata": {},
   "outputs": [],
   "source": [
    "sgt = [(int(x[:6]),x[7:]) for x in list(map(str.strip, response.text[32:].strip('][').replace('\"', '').split(',')))]"
   ]
  },
  {
   "cell_type": "code",
   "execution_count": 29,
   "metadata": {},
   "outputs": [],
   "source": [
    "for i in global_offer_csv.offer_name:\n",
    "    for j,z in sgt:\n",
    "        if z==i:\n",
    "            global_offer_csv.loc[global_offer_csv.offer_name == i, ('customer_segment_id')] = j\n",
    "            break"
   ]
  },
  {
   "cell_type": "code",
   "execution_count": 30,
   "metadata": {},
   "outputs": [
    {
     "data": {
      "text/html": [
       "<div>\n",
       "<style scoped>\n",
       "    .dataframe tbody tr th:only-of-type {\n",
       "        vertical-align: middle;\n",
       "    }\n",
       "\n",
       "    .dataframe tbody tr th {\n",
       "        vertical-align: top;\n",
       "    }\n",
       "\n",
       "    .dataframe thead th {\n",
       "        text-align: right;\n",
       "    }\n",
       "</style>\n",
       "<table border=\"1\" class=\"dataframe\">\n",
       "  <thead>\n",
       "    <tr style=\"text-align: right;\">\n",
       "      <th></th>\n",
       "      <th>offer_name</th>\n",
       "      <th>offer_description</th>\n",
       "      <th>discount</th>\n",
       "      <th>automatically_consider_offer</th>\n",
       "      <th>start_date</th>\n",
       "      <th>end_date</th>\n",
       "      <th>max_uses_per_order</th>\n",
       "      <th>max_uses_per_customer</th>\n",
       "      <th>customer_segment_id</th>\n",
       "      <th>sku_id</th>\n",
       "    </tr>\n",
       "  </thead>\n",
       "  <tbody>\n",
       "    <tr>\n",
       "      <th>0</th>\n",
       "      <td>SH_CLTV_2023-05-20_BAQ_450459</td>\n",
       "      <td>None</td>\n",
       "      <td>6.5</td>\n",
       "      <td>true</td>\n",
       "      <td>20-05-2023</td>\n",
       "      <td>04-06-2023</td>\n",
       "      <td>0</td>\n",
       "      <td>0</td>\n",
       "      <td>162309</td>\n",
       "      <td>624989</td>\n",
       "    </tr>\n",
       "    <tr>\n",
       "      <th>1</th>\n",
       "      <td>SH_CLTV_2023-05-20_BAQ_456909</td>\n",
       "      <td>None</td>\n",
       "      <td>6.5</td>\n",
       "      <td>true</td>\n",
       "      <td>20-05-2023</td>\n",
       "      <td>04-06-2023</td>\n",
       "      <td>0</td>\n",
       "      <td>0</td>\n",
       "      <td>162308</td>\n",
       "      <td>632389</td>\n",
       "    </tr>\n",
       "  </tbody>\n",
       "</table>\n",
       "</div>"
      ],
      "text/plain": [
       "                      offer_name offer_description  discount  \\\n",
       "0  SH_CLTV_2023-05-20_BAQ_450459              None       6.5   \n",
       "1  SH_CLTV_2023-05-20_BAQ_456909              None       6.5   \n",
       "\n",
       "  automatically_consider_offer  start_date    end_date  max_uses_per_order  \\\n",
       "0                         true  20-05-2023  04-06-2023                   0   \n",
       "1                         true  20-05-2023  04-06-2023                   0   \n",
       "\n",
       "   max_uses_per_customer  customer_segment_id  sku_id  \n",
       "0                      0               162309  624989  \n",
       "1                      0               162308  632389  "
      ]
     },
     "execution_count": 30,
     "metadata": {},
     "output_type": "execute_result"
    }
   ],
   "source": [
    "global_offer_csv"
   ]
  },
  {
   "cell_type": "code",
   "execution_count": 31,
   "metadata": {},
   "outputs": [],
   "source": [
    "#//--------------------------------------------\n",
    "#//Exporting single file data\n",
    "global_offer_csv.to_csv(f'{todays_date}_EXP_CLTV_{city_code}_OFFER.csv', index = False)"
   ]
  }
 ],
 "metadata": {
  "kernelspec": {
   "display_name": "Python 3 (ipykernel)",
   "language": "python",
   "name": "python3"
  },
  "orig_nbformat": 4
 },
 "nbformat": 4,
 "nbformat_minor": 2
}
