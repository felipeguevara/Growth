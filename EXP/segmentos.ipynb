{
 "cells": [
  {
   "cell_type": "code",
   "execution_count": 1,
   "metadata": {},
   "outputs": [],
   "source": [
    "import math\n",
    "    #Numeric Python\n",
    "import numpy as np\n",
    "    #Pandas (dataframes)\n",
    "import pandas as pd\n",
    "    #datetime for fate manipulation\n",
    "from datetime import date, datetime, timedelta  \n",
    "    #Regex for advanced string matching\n",
    "import re\n",
    "    #for time related stuff\n",
    "import time\n",
    "    #json library\n",
    "import json\n",
    "    #Analyst tools\n",
    "import sys\n",
    "sys.path.append('~')\n",
    "from analysts_tools.growth import *\n",
    "    #Procurement tools\n",
    "from analystcommunity.read_connection_data_warehouse import run_read_dwd_query\n",
    "from procurement_lib import send_slack_notification\n",
    "from procurement_lib import redash\n",
    "from analysts_tools.redash_methods import *\n",
    "\n",
    "import random\n",
    "import time\n",
    "import datetime"
   ]
  },
  {
   "cell_type": "code",
   "execution_count": 6,
   "metadata": {},
   "outputs": [],
   "source": [
    "city = 'BOG'"
   ]
  },
  {
   "cell_type": "code",
   "execution_count": 2,
   "metadata": {},
   "outputs": [],
   "source": [
    "def filter_customers(city, recency_day=20, kam=100, graduate=100, msgt=('ALL'), sgt=('ALL')):\n",
    "    \"\"\"\n",
    "    This function filters the customers that have completed the specified criteria:\n",
    "    city: The city that the customer has been registered -> i.e 'BOG'\n",
    "    recency_day: The limit of days that the customer has completed an order -> 30 means 30 days or less\n",
    "    kam: If the customer is a KAM or No -> {100: ALL, 1: True, 0: False}\n",
    "    graduate: If the customer is GRADUATED or No -> {100: ALL, 1: True, 0: False}\n",
    "    msgt: The microsegment of the customer, this is different based on the city\n",
    "        - If you want to bring all should put as a tuple ('ALL')\n",
    "        - If you want to bring one msgt then i.e ('Fonda')\n",
    "        - If you want to bring more than one msgt then i.e ('Fonda','Corrientazo')\n",
    "    sgt: The segment of the customer\n",
    "        - If you want to bring all should put as a tuple ('ALL')\n",
    "        - If you want to bring one msgt then i.e ('Restaurante')\n",
    "        - If you want to bring more than one msgt then i.e ('Comercio','Restaurante')\n",
    "    \"\"\"\n",
    "    import pandas as pd\n",
    "    from analystcommunity.read_connection_data_warehouse import run_read_dwd_query\n",
    "\n",
    "    if isinstance(msgt, str):\n",
    "        msgt = (msgt,'a')  # Convert the string to a tuple with a single element\n",
    "    if isinstance(sgt, str):\n",
    "        sgt = (sgt,'a')  # Convert the string to a tuple with a single element\n",
    "\n",
    "    query = \"\"\"\n",
    "    SELECT\n",
    "        source_id AS customer_id,\n",
    "        is_kam,\n",
    "        birthday,\n",
    "        last_order_date,\n",
    "        recency_days,\n",
    "        registered_city AS region,\n",
    "        microsegment_name AS microsegment,\n",
    "        business_type AS segment,\n",
    "        is_graduated\n",
    "    FROM dpr_customer.obt_customer\n",
    "\n",
    "    WHERE recency_days <= {days}\n",
    "    ----------------------------------\n",
    "    ----------------------------------\n",
    "    AND \n",
    "    CASE\n",
    "    WHEN '{city}' = 'ALL' THEN 1=1\n",
    "    ELSE registered_city = '{city}'\n",
    "    END\n",
    "    ----------------------------------\n",
    "    ----------------------------------\n",
    "    AND\n",
    "    CASE\n",
    "    WHEN {is_kam} = 100 THEN 1=1\n",
    "    ELSE is_kam = {is_kam}\n",
    "    END\n",
    "    ----------------------------------\n",
    "    ----------------------------------\n",
    "    AND\n",
    "    CASE\n",
    "    WHEN {graduated} = 100 THEN 1=1\n",
    "    ELSE is_graduated = {graduated}\n",
    "    END\n",
    "    ----------------------------------\n",
    "    ----------------------------------\n",
    "    AND \n",
    "    CASE\n",
    "    WHEN 'ALL' IN {microsegment} THEN 1=1\n",
    "    ELSE microsegment_name IN {microsegment}\n",
    "    END\n",
    "    ----------------------------------\n",
    "    ----------------------------------\n",
    "    AND\n",
    "    CASE\n",
    "    WHEN 'ALL' IN {segment} THEN 1=1\n",
    "    ELSE business_type IN {segment}\n",
    "    END\n",
    "    \"\"\".format(days=recency_day,city=city,is_kam=kam,graduated=graduate,microsegment=msgt,segment=sgt)\n",
    "\n",
    "    return run_read_dwd_query(query)"
   ]
  },
  {
   "cell_type": "code",
   "execution_count": 3,
   "metadata": {},
   "outputs": [],
   "source": [
    "def info_sells(city, sells_days_back_start=30, days_end=-1, customer=None):    \n",
    "    \"\"\"\n",
    "    This returns a df with the information of the whole sells order by order based on the restrictions\n",
    "    city: The city that the customer has been registered -> i.e 'BOG'\n",
    "    sells_days_back_start: Since when we want to see the orders information\n",
    "    days_end: Until when we want to see the orders information\n",
    "    \"\"\"    \n",
    "    import pandas as pd\n",
    "    from analystcommunity.read_connection_data_warehouse import run_read_dwd_query\n",
    "    import time\n",
    "    import datetime\n",
    "    \n",
    "    sells_date_inicio = (datetime.datetime.today() - datetime.timedelta(days=sells_days_back_start)).strftime('%Y-%m-%d') #1 months\n",
    "    sells_date_fin = (datetime.datetime.today() - datetime.timedelta(days=days_end)).strftime('%Y-%m-%d') #1 months\n",
    "    \n",
    "    tasas = {'BOG': 3776,\n",
    "            'BAQ': 3776,\n",
    "            'MDE': 3776,\n",
    "            'CMX': 19.65,\n",
    "            'GDL': 19.65,\n",
    "            'PBC': 19.65,\n",
    "            'SPO': 4.75,\n",
    "            'BHZ': 4.75,\n",
    "            'CWB': 4.75,\n",
    "            'VCP': 4.75}\n",
    "\n",
    "    if not isinstance(customer, list):\n",
    "        raise TypeError(\"Customer parameter must be a list.\")\n",
    "    elif customer is None:    \n",
    "        query = \"\"\"\n",
    "        SELECT \n",
    "            s.identifier_value AS region_code,\n",
    "            DATE(fs.order_submitted_date) AS submit_date,\n",
    "            fs.order_close_date AS close_date,\n",
    "            fs.order_id,\n",
    "            dc.source_id AS customer_id,\n",
    "            cat.parent_description as category,\n",
    "            cat.description AS subcategory,\n",
    "            dp.card_id,\n",
    "            dp.source_id AS sku_id,\n",
    "            dp.card_description AS product_name,\n",
    "            fs.product_quantity_x_step_unit AS cant,\n",
    "            fs.gmv_pxq_local/{tasa_cambio} AS gmv_usd,\n",
    "            COALESCE(fsd.product_discount/{tasa_cambio},0) AS discount_applied,\n",
    "            fsd.adjustment_reason,\n",
    "            COALESCE(bo.source_id,NULL) AS offer_id\n",
    "            \n",
    "        FROM dpr_sales.fact_sales                   fs\n",
    "        INNER JOIN dpr_shared.dim_customer          dc  ON dc.customer_id = fs.dim_customer\n",
    "        INNER JOIN dpr_shared.dim_site              s   ON s.site_id = fs.dim_site\n",
    "        INNER JOIN dpr_shared.dim_product           dp  ON dp.product_id = fs.dim_product\n",
    "        INNER JOIN dpr_shared.dim_category          cat ON cat.category_id = dp.category_id\n",
    "        LEFT JOIN dpr_sales.fact_sales_discounts    fsd ON fs.order_item_id = fsd.order_item_id \n",
    "        LEFT JOIN dpr_sales.dim_offer               bo  ON bo.offer_id = fsd.dim_offer     \n",
    "\n",
    "        WHERE \n",
    "            fs.gmv_enabled = TRUE\n",
    "            AND fulfillment_order_status NOT IN ('CANCELLED', 'ARCHIVED','No value')\n",
    "            AND fs.fb_order_status_id  IN (1,6,7,8)\n",
    "            AND fs.is_deleted = FALSE\n",
    "            AND fs.dim_status = 1\n",
    "            AND dp.is_slot = 'false'\n",
    "            --AND fsd.is_enabled = true\n",
    "            AND s.identifier_value = '{ciudad}'\n",
    "            AND DATE(fs.order_submitted_date) between '{Fecha_start}' AND '{Fecha_end}'\n",
    "    \"\"\".format(tasa_cambio = tasas[city], ciudad = city, Fecha_start = sells_date_inicio, Fecha_end = sells_date_fin)\n",
    "    else:\n",
    "        query = \"\"\"\n",
    "        SELECT \n",
    "            s.identifier_value AS region_code,\n",
    "            DATE(fs.order_submitted_date) AS submit_date,\n",
    "            fs.order_close_date AS close_date,\n",
    "            fs.order_id,\n",
    "            dc.source_id AS customer_id,\n",
    "            cat.parent_description as category,\n",
    "            cat.description AS subcategory,\n",
    "            dp.card_id,\n",
    "            dp.source_id AS sku_id,\n",
    "            dp.card_description AS product_name,\n",
    "            fs.product_quantity_x_step_unit AS cant,\n",
    "            fs.gmv_pxq_local/{tasa_cambio} AS gmv_usd,\n",
    "            COALESCE(fsd.product_discount/{tasa_cambio},0) AS discount_applied,\n",
    "            fsd.adjustment_reason,\n",
    "            COALESCE(bo.source_id,NULL) AS offer_id\n",
    "            \n",
    "        FROM dpr_sales.fact_sales                   fs\n",
    "        INNER JOIN dpr_shared.dim_customer          dc  ON dc.customer_id = fs.dim_customer\n",
    "        INNER JOIN dpr_shared.dim_site              s   ON s.site_id = fs.dim_site\n",
    "        INNER JOIN dpr_shared.dim_product           dp  ON dp.product_id = fs.dim_product\n",
    "        INNER JOIN dpr_shared.dim_category          cat ON cat.category_id = dp.category_id\n",
    "        LEFT JOIN dpr_sales.fact_sales_discounts    fsd ON fs.order_item_id = fsd.order_item_id \n",
    "        LEFT JOIN dpr_sales.dim_offer               bo  ON bo.offer_id = fsd.dim_offer     \n",
    "\n",
    "        WHERE \n",
    "            fs.gmv_enabled = TRUE\n",
    "            AND fulfillment_order_status NOT IN ('CANCELLED', 'ARCHIVED','No value')\n",
    "            AND fs.fb_order_status_id  IN (1,6,7,8)\n",
    "            AND fs.is_deleted = FALSE\n",
    "            AND fs.dim_status = 1\n",
    "            AND dp.is_slot = 'false'\n",
    "            --AND fsd.is_enabled = true\n",
    "            AND s.identifier_value = '{ciudad}'\n",
    "            AND DATE(fs.order_submitted_date) between '{Fecha_start}' AND '{Fecha_end}'\n",
    "            AND dc.source_id IN {clientes}\n",
    "    \"\"\".format(tasa_cambio = tasas[city], ciudad = city, Fecha_start = sells_date_inicio, Fecha_end = sells_date_fin,clientes=tuple(set(customer)))   \n",
    "    return run_read_dwd_query(query)"
   ]
  },
  {
   "cell_type": "code",
   "execution_count": 8,
   "metadata": {},
   "outputs": [],
   "source": [
    "group = ('ALL')#,'Pratos/Refeições','Grill/Churrascaria/Espetinho','Padaria/Cafe/Bolos')"
   ]
  },
  {
   "cell_type": "code",
   "execution_count": 13,
   "metadata": {},
   "outputs": [],
   "source": [
    "df_customers = filter_customers(city,60,100,100,group,('ALL')).customer_id.unique() #,'Taquería','Comida Rápida','Panadería/Pastelería'"
   ]
  },
  {
   "cell_type": "code",
   "execution_count": 14,
   "metadata": {},
   "outputs": [
    {
     "data": {
      "text/plain": [
       "array([356307127, 356360311, 356316384, ...,  86975351, 343591007,\n",
       "       270820727])"
      ]
     },
     "execution_count": 14,
     "metadata": {},
     "output_type": "execute_result"
    }
   ],
   "source": [
    "df_customers"
   ]
  },
  {
   "cell_type": "code",
   "execution_count": 21,
   "metadata": {},
   "outputs": [],
   "source": [
    "df_sells = info_sells(city,60,customer=df_customers.tolist())"
   ]
  },
  {
   "cell_type": "code",
   "execution_count": 24,
   "metadata": {},
   "outputs": [],
   "source": [
    "customers = df_sells.loc[~df_sells.customer_id.isin(df_sells.loc[df_sells.card_id == 442768].customer_id.unique())].customer_id.unique().tolist()"
   ]
  },
  {
   "cell_type": "code",
   "execution_count": 33,
   "metadata": {},
   "outputs": [],
   "source": [
    "#customers = df_sells[~df_sells.customer_id.isin(df_sells.loc[df_sells.card_id == 440828].customer_id.unique())].customer_id.unique()\n",
    "customers = df_customers.tolist()"
   ]
  },
  {
   "cell_type": "code",
   "execution_count": 25,
   "metadata": {},
   "outputs": [
    {
     "data": {
      "text/plain": [
       "17293"
      ]
     },
     "execution_count": 25,
     "metadata": {},
     "output_type": "execute_result"
    }
   ],
   "source": [
    "len(customers)"
   ]
  },
  {
   "cell_type": "code",
   "execution_count": 26,
   "metadata": {},
   "outputs": [],
   "source": [
    "list_as_string = str(customers)\n",
    "\n",
    "# Open a text file in write mode\n",
    "with open(\"leita.txt\", \"w\") as file:\n",
    "    # Write the list as a string to the file\n",
    "    file.write(list_as_string)"
   ]
  },
  {
   "cell_type": "code",
   "execution_count": 27,
   "metadata": {},
   "outputs": [
    {
     "name": "stdout",
     "output_type": "stream",
     "text": [
      "Customer segments were created: [354622-BOG_ALL_leita_SEP]\n"
     ]
    }
   ],
   "source": [
    "import requests\n",
    "import json\n",
    "\n",
    "url = f\"https://{city}.frubana.com/api/v1/segments/create?api-key=00_growth-team-zzz-qqq_001\"\n",
    "\n",
    "payload = json.dumps([\n",
    "    {\n",
    "    \"name\": f\"{city}_{group}_leita_SEP\", \n",
    "    \"customersIds\": customers,\n",
    "    \"expiresAt\": \"2023-10-01\"\n",
    "}\n",
    "    ]\n",
    "                     )\n",
    "\n",
    "\n",
    "headers = {\n",
    "  'Cookie': 'AWSALB=WGKrKvA1CFOY0m92xSENGAseuE4LrcfQh9y8jK/loGBJdizNm+FvjOqUqVghxdfLkH6Jsa9sfWft2NELchGAP/LNZMXMYhrOE70qDnUuOHATpdJj1UZBMEUBSIN1; AWSALBCORS=WGKrKvA1CFOY0m92xSENGAseuE4LrcfQh9y8jK/loGBJdizNm+FvjOqUqVghxdfLkH6Jsa9sfWft2NELchGAP/LNZMXMYhrOE70qDnUuOHATpdJj1UZBMEUBSIN1; AWSALB=jLY02FPysvF1vTrKLhXbk3ibzmyiAqFJ1ezYVu5PjodkU2QmPHDpRJhb9CvOlOyQ1Ix0mJR1ig+eH9zwJ9i5EOtgsgx79NSROogQb2Ua6yLX/I3bJJ6xtcVO3puI; AWSALBCORS=jLY02FPysvF1vTrKLhXbk3ibzmyiAqFJ1ezYVu5PjodkU2QmPHDpRJhb9CvOlOyQ1Ix0mJR1ig+eH9zwJ9i5EOtgsgx79NSROogQb2Ua6yLX/I3bJJ6xtcVO3puI',\n",
    "  'Content-Type': 'application/json'\n",
    "}\n",
    "\n",
    "response = requests.request(\"POST\", url, headers=headers, data=payload)\n",
    "\n",
    "print(response.text)"
   ]
  },
  {
   "cell_type": "code",
   "execution_count": 36,
   "metadata": {},
   "outputs": [
    {
     "name": "stdout",
     "output_type": "stream",
     "text": [
      "The massive update process of Customer Segment was created\n"
     ]
    }
   ],
   "source": [
    "import requests\n",
    "import json\n",
    "\n",
    "url = f\"https://{city}.frubana.com/api/v1/segments/massive/update?api-key=00_growth-team-zzz-qqq_001\"\n",
    "\n",
    "payload = json.dumps({\n",
    "  \"customerSegmentId\": 180701,\n",
    "  \"customersIds\": customers\n",
    "})\n",
    "headers = {\n",
    "  'Cookie': 'AWSALB=WGKrKvA1CFOY0m92xSENGAseuE4LrcfQh9y8jK/loGBJdizNm+FvjOqUqVghxdfLkH6Jsa9sfWft2NELchGAP/LNZMXMYhrOE70qDnUuOHATpdJj1UZBMEUBSIN1; AWSALBCORS=WGKrKvA1CFOY0m92xSENGAseuE4LrcfQh9y8jK/loGBJdizNm+FvjOqUqVghxdfLkH6Jsa9sfWft2NELchGAP/LNZMXMYhrOE70qDnUuOHATpdJj1UZBMEUBSIN1',\n",
    "  'Content-Type': 'application/json'\n",
    "}\n",
    "\n",
    "response = requests.request(\"POST\", url, headers=headers, data=payload)\n",
    "\n",
    "print(response.text)"
   ]
  }
 ],
 "metadata": {
  "kernelspec": {
   "display_name": "Python 3",
   "language": "python",
   "name": "python3"
  },
  "orig_nbformat": 4
 },
 "nbformat": 4,
 "nbformat_minor": 2
}
