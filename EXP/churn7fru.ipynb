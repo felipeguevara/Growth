{
 "cells": [
  {
   "cell_type": "code",
   "execution_count": 46,
   "metadata": {},
   "outputs": [],
   "source": [
    "import math\n",
    "    #Numeric Python\n",
    "import numpy as np\n",
    "    #Pandas (dataframes)\n",
    "import pandas as pd\n",
    "    #datetime for fate manipulation\n",
    "from datetime import date, datetime, timedelta  \n",
    "    #Regex for advanced string matching\n",
    "import re\n",
    "    #for time related stuff\n",
    "import time\n",
    "    #json library\n",
    "import json\n",
    "    #Analyst tools\n",
    "import sys\n",
    "sys.path.append('~')\n",
    "from analysts_tools.growth import *\n",
    "    #Procurement tools\n",
    "from analystcommunity.read_connection_data_warehouse import run_read_dwd_query\n",
    "from analysts_tools.redash_methods import *\n",
    "from procurement_lib import redash, dw, send_message, send_slack_notification, GoogleSheet, logging\n",
    "\n",
    "import random\n",
    "import time\n",
    "import datetime"
   ]
  },
  {
   "cell_type": "code",
   "execution_count": 47,
   "metadata": {},
   "outputs": [],
   "source": [
    "### THIS df GENERETE THE WHOLE DATA OF OUR CUSTOMERS TO GET SEGMENTED LATER\n",
    "query = \"\"\"\n",
    "SELECT\n",
    "    last_order_city AS city,\n",
    "    source_id AS customer_id,\n",
    "    recency_days AS recency_days,\n",
    "    DATEDIFF(day, first_submit_date, GETDATE()) AS alive_days,\n",
    "    CASE WHEN microsegment_name IS NULL THEN 'NO' ELSE microsegment_name END AS microsegment,\n",
    "    CASE WHEN business_type IS NULL THEN 'NO' ELSE business_type END AS segment,\n",
    "    CASE \n",
    "        WHEN is_kam_audited = 1 THEN 'KAM' \n",
    "        WHEN is_graduated = 1 THEN 'Grads'\n",
    "        WHEN salesperson_mail <> 'No value' THEN 'Farming'\n",
    "    ELSE 'Other' END AS canal--,\n",
    "    --is_graduated AS grad,\n",
    "    --is_kam_audited AS kam,\n",
    "    --CASE WHEN salesperson_mail <> 'No value' THEN 1 ELSE 0 END AS is_farming\n",
    "FROM dpr_customer.obt_customer\n",
    "\n",
    "WHERE recency_days <= 180\n",
    "\"\"\"\n",
    "df = run_read_dwd_query(query)"
   ]
  },
  {
   "cell_type": "code",
   "execution_count": 48,
   "metadata": {},
   "outputs": [],
   "source": [
    "card_ids = (328555,328623,328538,328532,328542,280014,279981,279987,280041,280016,238287,203020,203019,203017,-202917,-202908,-202950,-202941,-202919)"
   ]
  },
  {
   "cell_type": "code",
   "execution_count": 49,
   "metadata": {},
   "outputs": [],
   "source": [
    "### THIS df GENERETE THE INFO OF THE CARD_IDS\n",
    "query = \"\"\"\n",
    "SELECT \n",
    "    s.identifier_value AS city,\n",
    "    dc.source_id AS customer_id,\n",
    "    dp.card_id,\n",
    "    SUM(CASE WHEN DATE(fs.order_close_date) >= DATE_TRUNC('day', date(CURRENT_DATE) - interval '7 day') THEN 1 ELSE 0 END) AS churn\n",
    "FROM dpr_sales.fact_sales                   fs\n",
    "INNER JOIN dpr_shared.dim_customer          dc  ON dc.customer_id = fs.dim_customer\n",
    "INNER JOIN dpr_shared.dim_site              s   ON s.site_id = fs.dim_site\n",
    "INNER JOIN dpr_shared.dim_product           dp  ON dp.product_id = fs.dim_product\n",
    "INNER JOIN dpr_shared.dim_category          cat ON cat.category_id = dp.category_id\n",
    "\n",
    "WHERE \n",
    "    fs.gmv_enabled = TRUE\n",
    "    AND fulfillment_order_status NOT IN ('CANCELLED', 'ARCHIVED','No value')\n",
    "    AND fs.fb_order_status_id  IN (1,6,7,8)\n",
    "    AND fs.is_deleted = FALSE\n",
    "    AND fs.dim_status = 1\n",
    "    AND dp.is_slot = 'false'\n",
    "    AND dp.card_id IN {skus}\n",
    "    AND DATE(fs.order_close_date) <= DATE_TRUNC('day', date(CURRENT_DATE) - interval '7 day')\n",
    "    AND DATE(fs.order_close_date) >= DATE_TRUNC('day', date(CURRENT_DATE) - interval '60 day')\n",
    "GROUP BY 1,2,3\n",
    "HAVING churn > 0\n",
    "\"\"\".format(skus=card_ids)\n",
    "df2 = run_read_dwd_query(query)"
   ]
  },
  {
   "cell_type": "code",
   "execution_count": 50,
   "metadata": {},
   "outputs": [],
   "source": [
    "### THIS df READS A SHEET TO BRING THE CURRENT SEGMENTS FOR THE CURRENT YEAR\n",
    "df_segments = GoogleSheet(\"1xBW_HK4Gc1z13KbZ9xfC5WF6ozpSlI5dANnSLROTpw4\")\n",
    "df_segments = df_segments.get_as_dataframe('INFO')\n",
    "df_segments['customer_segment_id'] = df_segments['customer_segment_id'].astype(int)"
   ]
  },
  {
   "cell_type": "code",
   "execution_count": 51,
   "metadata": {},
   "outputs": [],
   "source": [
    "def cayena():\n",
    "    df_cayena=GoogleSheet(\"1tQZXQaLQqUF-Y5Ue8yQttcy-i5uiqPSSJpzpm1mS5gY\")\n",
    "    df_cayena = df_cayena.get_as_dataframe('Dados Pedidos')\n",
    "\n",
    "    customers_cayena = df_cayena.loc[df_cayena['Cadastro Frubana?'] == 'Sim','ID'].unique().tolist()\n",
    "    return customers_cayena"
   ]
  },
  {
   "cell_type": "code",
   "execution_count": 52,
   "metadata": {},
   "outputs": [],
   "source": [
    "def rest_kams_extra_inv(city,card_id):\n",
    "    customers =  df.loc[\n",
    "                (df.city == city) &\n",
    "                (df.segment.isin(['Restaurante'])) &\n",
    "                (~df.microsegment.isin(['ALL'])) &\n",
    "                (~df.canal.isin(['ALL'])) &\n",
    "                (df.alive_days <= 10000) &\n",
    "                (df.recency_days <= 60) &\n",
    "                (~df.customer_id.isin(df2.loc[df2.card_id == card_id].customer_id.unique())) \n",
    "            ].customer_id.unique().tolist()\n",
    "    customers_kam =  df.loc[\n",
    "                (df.city == city) &\n",
    "                (~df.segment.isin(['ALL'])) &\n",
    "                (~df.microsegment.isin(['ALL'])) &\n",
    "                (df.canal.isin(['KAM'])) &\n",
    "                (df.alive_days <= 10000) &\n",
    "                (df.recency_days <= 60) &\n",
    "                (~df.customer_id.isin(df2.loc[df2.card_id == card_id].customer_id.unique())) \n",
    "            ].customer_id.unique().tolist()\n",
    "    return list(set(customers + customers_kam))"
   ]
  },
  {
   "cell_type": "code",
   "execution_count": 53,
   "metadata": {},
   "outputs": [],
   "source": [
    "def update_segments(city,customers,customerSegmentId):\n",
    "    url = f\"https://{city}.frubana.com/api/v1/segments/massive/update?api-key=00_growth-team-zzz-qqq_001\"\n",
    "\n",
    "    payload = json.dumps({\n",
    "    \"customerSegmentId\": customerSegmentId,\n",
    "    \"customersIds\": customers\n",
    "    })\n",
    "    headers = {\n",
    "    'Cookie': 'AWSALB=WGKrKvA1CFOY0m92xSENGAseuE4LrcfQh9y8jK/loGBJdizNm+FvjOqUqVghxdfLkH6Jsa9sfWft2NELchGAP/LNZMXMYhrOE70qDnUuOHATpdJj1UZBMEUBSIN1; AWSALBCORS=WGKrKvA1CFOY0m92xSENGAseuE4LrcfQh9y8jK/loGBJdizNm+FvjOqUqVghxdfLkH6Jsa9sfWft2NELchGAP/LNZMXMYhrOE70qDnUuOHATpdJj1UZBMEUBSIN1',\n",
    "    'Content-Type': 'application/json'\n",
    "    }\n",
    "\n",
    "    response = requests.request(\"POST\", url, headers=headers, data=payload)\n",
    "\n",
    "    return response.text"
   ]
  },
  {
   "cell_type": "code",
   "execution_count": 55,
   "metadata": {},
   "outputs": [
    {
     "name": "stdout",
     "output_type": "stream",
     "text": [
      "IT RUNS OK FOR SPO FOR SPO_-202908 -> The massive update process of Customer Segment was created 643051|| TOTAL CUSTOMERS:19931\n",
      "IT RUNS OK FOR SPO FOR SPO_-202919 -> The massive update process of Customer Segment was created 642901|| TOTAL CUSTOMERS:19853\n",
      "IT RUNS OK FOR SPO FOR SPO_-202941 -> The massive update process of Customer Segment was created 642851|| TOTAL CUSTOMERS:19832\n",
      "IT RUNS OK FOR SPO FOR SPO_-202917 -> The massive update process of Customer Segment was created 642951|| TOTAL CUSTOMERS:20036\n",
      "IT RUNS OK FOR SPO FOR SPO_-202950 -> The massive update process of Customer Segment was created 643001|| TOTAL CUSTOMERS:19689\n",
      "IT RUNS OK FOR BHZ FOR BHZ_203017 -> The massive update process of Customer Segment was created 642902|| TOTAL CUSTOMERS:5485\n",
      "IT RUNS OK FOR BHZ FOR BHZ_203019 -> The massive update process of Customer Segment was created 643251|| TOTAL CUSTOMERS:5471\n",
      "IT RUNS OK FOR BHZ FOR BHZ_203020 -> The massive update process of Customer Segment was created 643102|| TOTAL CUSTOMERS:5520\n",
      "IT RUNS OK FOR BHZ FOR BHZ_238287 -> The massive update process of Customer Segment was created 643202|| TOTAL CUSTOMERS:5521\n",
      "IT RUNS OK FOR VCP FOR VCP_328532 -> The massive update process of Customer Segment was created 643253|| TOTAL CUSTOMERS:3145\n",
      "IT RUNS OK FOR VCP FOR VCP_328538 -> The massive update process of Customer Segment was created 643301|| TOTAL CUSTOMERS:3113\n",
      "IT RUNS OK FOR VCP FOR VCP_328542 -> The massive update process of Customer Segment was created 643252|| TOTAL CUSTOMERS:3105\n",
      "IT RUNS OK FOR VCP FOR VCP_328623 -> The massive update process of Customer Segment was created 643003|| TOTAL CUSTOMERS:3095\n",
      "IT RUNS OK FOR VCP FOR VCP_328555 -> The massive update process of Customer Segment was created 643302|| TOTAL CUSTOMERS:3152\n",
      "IT RUNS OK FOR CWB FOR CWB_280014 -> The massive update process of Customer Segment was created 643201|| TOTAL CUSTOMERS:2445\n",
      "IT RUNS OK FOR CWB FOR CWB_280016 -> The massive update process of Customer Segment was created 643002|| TOTAL CUSTOMERS:2441\n",
      "IT RUNS OK FOR CWB FOR CWB_279987 -> The massive update process of Customer Segment was created 643151|| TOTAL CUSTOMERS:2435\n",
      "IT RUNS OK FOR CWB FOR CWB_280041 -> The massive update process of Customer Segment was created 643101|| TOTAL CUSTOMERS:2450\n",
      "IT RUNS OK FOR CWB FOR CWB_279981 -> The massive update process of Customer Segment was created 643152|| TOTAL CUSTOMERS:2453\n"
     ]
    }
   ],
   "source": [
    "for city in df.city.unique():\n",
    "    for card_id in df2.loc[df2.city == city].card_id.unique():\n",
    "        if city == 'SPO':\n",
    "            customerSegmentId = df_segments.loc[(df_segments.city == city) & (df_segments.description == f'{city}_{card_id}'),'customer_segment_id'].values[0]\n",
    "            customers = list(set(rest_kams_extra_inv(city,card_id)) - set(cayena()))\n",
    "        else:\n",
    "            customerSegmentId = df_segments.loc[(df_segments.city == city) & (df_segments.description == f'{city}_{card_id}'),'customer_segment_id'].values[0]\n",
    "            customers = rest_kams_extra_inv(city,card_id)\n",
    "            \n",
    "        try:\n",
    "            response = update_segments(city,customers,int(customerSegmentId))\n",
    "            message = f'IT RUNS OK FOR {city} FOR {city}_{card_id} -> ' + response + ' ' + str(customerSegmentId) + '|| TOTAL CUSTOMERS:' + str(len(customers))\n",
    "            print(message)\n",
    "        except:\n",
    "            message = f\"IT WAS AN ERROR IN {city} FOR {city}_{card_id}, ID: {customerSegmentId} || ERROR: {str(e)}\"\n",
    "            print(message)"
   ]
  }
 ],
 "metadata": {
  "kernelspec": {
   "display_name": "Python 3",
   "language": "python",
   "name": "python3"
  },
  "language_info": {
   "codemirror_mode": {
    "name": "ipython",
    "version": 3
   },
   "file_extension": ".py",
   "mimetype": "text/x-python",
   "name": "python",
   "nbconvert_exporter": "python",
   "pygments_lexer": "ipython3",
   "version": "3.7.9"
  }
 },
 "nbformat": 4,
 "nbformat_minor": 2
}
