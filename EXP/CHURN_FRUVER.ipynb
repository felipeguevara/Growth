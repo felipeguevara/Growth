{
 "cells": [
  {
   "cell_type": "code",
   "execution_count": 1,
   "metadata": {},
   "outputs": [],
   "source": [
    "import math\n",
    "    #Numeric Python\n",
    "import numpy as np\n",
    "    #Pandas (dataframes)\n",
    "import pandas as pd\n",
    "    #datetime for fate manipulation\n",
    "from datetime import date, datetime, timedelta  \n",
    "    #Regex for advanced string matching\n",
    "import re\n",
    "    #for time related stuff\n",
    "import time\n",
    "    #json library\n",
    "import json\n",
    "    #Analyst tools\n",
    "import sys\n",
    "sys.path.append('~')\n",
    "from analysts_tools.growth import *\n",
    "    #Procurement tools\n",
    "from analystcommunity.read_connection_data_warehouse import run_read_dwd_query\n",
    "from procurement_lib import send_slack_notification\n",
    "from procurement_lib import redash\n",
    "from analysts_tools.redash_methods import *\n",
    "\n",
    "import random\n",
    "import time\n",
    "import datetime"
   ]
  },
  {
   "cell_type": "code",
   "execution_count": 2,
   "metadata": {},
   "outputs": [],
   "source": [
    "city = 'SPO'\n",
    "dias = 30\n",
    "dias_churn = 7"
   ]
  },
  {
   "cell_type": "code",
   "execution_count": 32,
   "metadata": {},
   "outputs": [
    {
     "name": "stdout",
     "output_type": "stream",
     "text": [
      "200\n"
     ]
    }
   ],
   "source": [
    "frida_products = get_fresh_query_result(\"https://internal-redash.federate.frubana.com/\",118629,'SeoGHWmDUaaBi7VXje1s9zYNiMD1VHQ1K1DYOxiF',{},20)"
   ]
  },
  {
   "cell_type": "code",
   "execution_count": 3,
   "metadata": {},
   "outputs": [],
   "source": [
    "query = \"\"\"\n",
    "SELECT \n",
    "    s.identifier_value AS region_code,\n",
    "    --DATE(fs.order_submitted_date) AS submit_date,\n",
    "    --cat.parent_description as category,\n",
    "    --cat.description AS subcategory,\n",
    "    --dp.card_id,\n",
    "    --dp.card_description AS product_name,\n",
    "    dc.source_id AS customer_id,\n",
    "    SUM(CASE WHEN cat.super_category = 'Fruver' THEN 1 ELSE 0 END) AS all_view, \n",
    "    SUM(CASE WHEN cat.super_category = 'Fruver' AND DATE(fs.order_submitted_date) >= DATE(current_date - {dias_churn}) THEN 1 ELSE 0 END) AS last_view,\n",
    "    --all_view*last_view AS check,\n",
    "    CASE WHEN all_view > 0 AND last_view = 0 THEN 1 ELSE 0 END AS decision,\n",
    "    COUNT( DISTINCT fs.order_id) AS orders,\n",
    "    SUM(fs.product_quantity_x_step_unit) AS cant,\n",
    "    SUM(fs.gmv_pxq) AS gmv_usd,\n",
    "    \n",
    "\n",
    "FROM dpr_sales.fact_sales                   fs\n",
    "INNER JOIN dpr_shared.dim_customer          dc  ON dc.customer_id = fs.dim_customer\n",
    "INNER JOIN dpr_shared.dim_site              s   ON s.site_id = fs.dim_site\n",
    "INNER JOIN dpr_shared.dim_product           dp  ON dp.product_id = fs.dim_product\n",
    "INNER JOIN dpr_shared.dim_category          cat ON cat.category_id = dp.category_id\n",
    "\n",
    "WHERE \n",
    "    fs.gmv_enabled = TRUE\n",
    "    AND fulfillment_order_status NOT IN ('CANCELLED', 'ARCHIVED','No value')\n",
    "    AND fs.fb_order_status_id  IN (1,6,7,8)\n",
    "    AND fs.is_deleted = FALSE\n",
    "    AND fs.dim_status = 1\n",
    "    AND dp.is_slot = 'false'\n",
    "    AND s.identifier_value = '{ciudad}'\n",
    "    AND DATE(fs.order_submitted_date) > current_date - {dias}\n",
    "GROUP BY 1,2--,3--,4,5,6,7\n",
    "\"\"\".format(ciudad=city,dias=dias,dias_churn=dias_churn)\n",
    "\n",
    "df = run_read_dwd_query(query)"
   ]
  },
  {
   "cell_type": "code",
   "execution_count": 9,
   "metadata": {},
   "outputs": [],
   "source": [
    "query = \"\"\"\n",
    "SELECT \n",
    "    s.identifier_value AS region_code,\n",
    "    --DATE(fs.order_submitted_date) AS submit_date,\n",
    "    cat.parent_description as category,\n",
    "    cat.description AS subcategory,\n",
    "    dp.card_id,\n",
    "    dp.card_description AS product_name,\n",
    "    COUNT(DISTINCT customer_id) AS customers\n",
    "    --,LISTAGG(DISTINCT dc.source_id, ',') AS customer_list\n",
    "    \n",
    "FROM dpr_sales.fact_sales                   fs\n",
    "INNER JOIN dpr_shared.dim_customer          dc  ON dc.customer_id = fs.dim_customer\n",
    "INNER JOIN dpr_shared.dim_site              s   ON s.site_id = fs.dim_site\n",
    "INNER JOIN dpr_shared.dim_product           dp  ON dp.product_id = fs.dim_product\n",
    "INNER JOIN dpr_shared.dim_category          cat ON cat.category_id = dp.category_id\n",
    "\n",
    "WHERE \n",
    "    fs.gmv_enabled = TRUE\n",
    "    AND fulfillment_order_status NOT IN ('CANCELLED', 'ARCHIVED','No value')\n",
    "    AND fs.fb_order_status_id  IN (1,6,7,8)\n",
    "    AND fs.is_deleted = FALSE\n",
    "    AND fs.dim_status = 1\n",
    "    AND dp.is_slot = 'false'\n",
    "    AND s.identifier_value = '{ciudad}'\n",
    "    AND DATE(fs.order_submitted_date) > current_date - {dias}\n",
    "    AND dc.source_id IN {customers}\n",
    "    AND cat.super_category = 'Fruver'\n",
    "GROUP BY 1,2,3,4,5--,6,7\n",
    "ORDER BY 6 DESC\n",
    "\"\"\".format(ciudad=city,dias=dias,customers= tuple(df.loc[df.decision == 1].customer_id.unique()))\n",
    "\n",
    "df2 = run_read_dwd_query(query)"
   ]
  },
  {
   "cell_type": "code",
   "execution_count": 58,
   "metadata": {},
   "outputs": [],
   "source": [
    "def concatenate_skus(card_id):\n",
    "    try:\n",
    "        sku_value = '#'.join(frida_products.loc[frida_products['id_tarjeta'] == card_id, 'skus'].values)\n",
    "    except IndexError:\n",
    "        sku_value = ''\n",
    "    return sku_value"
   ]
  },
  {
   "cell_type": "code",
   "execution_count": 19,
   "metadata": {},
   "outputs": [],
   "source": [
    "from sklearn.model_selection import train_test_split\n",
    "\n",
    "def create_groups(offer):\n",
    "    customers = offer.customer_id.unique()\n",
    "    print(\"Total length: \", len(customers))\n",
    "    \n",
    "    # Split into control, test1, and test2 (1/3 each)\n",
    "    customer_control, customer_test = train_test_split(customers, test_size=0.5)\n",
    "\n",
    "    alpha = 0.0001\n",
    "    aux = 0\n",
    "    \n",
    "    while abs(1 - (offer[offer.customer_id.isin(customer_control)]['gmv_usd'].mean() / offer[offer.customer_id.isin(customer_test)]['gmv_usd'].mean())) > alpha:        \n",
    "        # Re-split if the condition is not met\n",
    "        customer_control, customer_test = train_test_split(customers, test_size=0.5)\n",
    "        \n",
    "        aux += 1\n",
    "        if aux == 10000:\n",
    "            print(abs(1 - (offer[offer.customer_id.isin(customer_control)]['gmv_usd'].mean() / offer[offer.customer_id.isin(customer_test)]['gmv_usd'].mean())))\n",
    "            alpha += 0.01\n",
    "            aux = 0\n",
    "    \n",
    "    print(abs(1 - (offer[offer.customer_id.isin(customer_control)]['gmv_usd'].mean() / offer[offer.customer_id.isin(customer_test)]['gmv_usd'].mean())))\n",
    "    \n",
    "    return customer_control.tolist(), customer_test.tolist()"
   ]
  },
  {
   "cell_type": "code",
   "execution_count": 20,
   "metadata": {},
   "outputs": [
    {
     "name": "stdout",
     "output_type": "stream",
     "text": [
      "Total length:  4266\n",
      "1.2372302957475156e-05\n"
     ]
    }
   ],
   "source": [
    "control,test = create_groups(df.loc[df.decision == 1])"
   ]
  },
  {
   "cell_type": "code",
   "execution_count": 30,
   "metadata": {},
   "outputs": [],
   "source": [
    "global_segment_list = [] #//for procesing\n",
    "\n",
    "d = {'name':\"EXP_CHURN_FRUVER_\"+city+\"_\"+\"_grupo_\"+'_test', 'customersIds': list(test),\"expiresAt\": (datetime.datetime.today() + datetime.timedelta(days=(70))).strftime('%Y-%m-%d')}\n",
    "f = {'name':\"EXP_CHURN_FRUVER_\"+city+\"_\"+\"_grupo_\"+\"_control\", 'customersIds': list(control),\"expiresAt\": (datetime.datetime.today() + datetime.timedelta(days=(70))).strftime('%Y-%m-%d')}\n",
    "\n",
    "global_segment_list.append(d)\n",
    "global_segment_list.append(f) "
   ]
  },
  {
   "cell_type": "code",
   "execution_count": 33,
   "metadata": {},
   "outputs": [],
   "source": [
    "import requests\n",
    "import json\n",
    "\n",
    "url = f\"https://{city}.frubana.com/api/v1/segments/create?api-key=00_growth-team-zzz-qqq_001\"\n",
    "\n",
    "payload = json.dumps(global_segment_list)\n",
    "\n",
    "\n",
    "headers = {\n",
    "  'Cookie': 'AWSALB=WGKrKvA1CFOY0m92xSENGAseuE4LrcfQh9y8jK/loGBJdizNm+FvjOqUqVghxdfLkH6Jsa9sfWft2NELchGAP/LNZMXMYhrOE70qDnUuOHATpdJj1UZBMEUBSIN1; AWSALBCORS=WGKrKvA1CFOY0m92xSENGAseuE4LrcfQh9y8jK/loGBJdizNm+FvjOqUqVghxdfLkH6Jsa9sfWft2NELchGAP/LNZMXMYhrOE70qDnUuOHATpdJj1UZBMEUBSIN1; AWSALB=jLY02FPysvF1vTrKLhXbk3ibzmyiAqFJ1ezYVu5PjodkU2QmPHDpRJhb9CvOlOyQ1Ix0mJR1ig+eH9zwJ9i5EOtgsgx79NSROogQb2Ua6yLX/I3bJJ6xtcVO3puI; AWSALBCORS=jLY02FPysvF1vTrKLhXbk3ibzmyiAqFJ1ezYVu5PjodkU2QmPHDpRJhb9CvOlOyQ1Ix0mJR1ig+eH9zwJ9i5EOtgsgx79NSROogQb2Ua6yLX/I3bJJ6xtcVO3puI',\n",
    "  'Content-Type': 'application/json'\n",
    "}\n",
    "\n",
    "response = requests.request(\"POST\", url, headers=headers, data=payload)"
   ]
  },
  {
   "cell_type": "code",
   "execution_count": 34,
   "metadata": {},
   "outputs": [],
   "source": [
    "sgt = [(int(x[:6]),x[7:]) for x in list(map(str.strip, response.text[32:].strip('][').replace('\"', '').split(',')))]"
   ]
  },
  {
   "cell_type": "code",
   "execution_count": 86,
   "metadata": {},
   "outputs": [
    {
     "data": {
      "text/plain": [
       "[(623402, 'EXP_CHURN_FRUVER_SPO__grupo_test'),\n",
       " (623403, 'EXP_CHURN_FRUVER_SPO__grupo__control')]"
      ]
     },
     "execution_count": 86,
     "metadata": {},
     "output_type": "execute_result"
    }
   ],
   "source": [
    "sgt"
   ]
  },
  {
   "cell_type": "code",
   "execution_count": 27,
   "metadata": {},
   "outputs": [],
   "source": [
    "df2 = df2.iloc[:20,:].reset_index(drop=True)"
   ]
  },
  {
   "cell_type": "code",
   "execution_count": 28,
   "metadata": {},
   "outputs": [],
   "source": [
    "df2[\"offer_name\"] = \"EXP_FRUVER_\"+city+\"_\"+df2.product_name.replace(\" \",\"_\").replace(\",\",\".\")+\"_20%_FEB24\""
   ]
  },
  {
   "cell_type": "code",
   "execution_count": 83,
   "metadata": {},
   "outputs": [],
   "source": [
    "csv_file = {} \n",
    "csv_file['offer_name'] = df2.offer_name\n",
    "csv_file['offer_description'] = None\n",
    "csv_file['discount'] = 20\n",
    "csv_file['automatically_consider_offer'] = \"true\"\n",
    "csv_file['start_date'] = (datetime.datetime.today() + datetime.timedelta(days=0)).strftime('%d-%m-%Y')\n",
    "csv_file['end_date'] = (datetime.datetime.today() + datetime.timedelta(days=(7))).strftime('%d-%m-%Y')\n",
    "csv_file['max_uses_per_order'] = 0\n",
    "csv_file['max_uses_per_customer'] = 0\n",
    "csv_file['customer_segment_id'] = sgt[0][0] #[None]\n",
    "csv_file['sku_id'] = df2['card_id'].apply(concatenate_skus)\n",
    "csv_file['segment_behaviour'] = 'INCLUDED'\n",
    "csv_file['offer_type'] = 'OTHERS'\n",
    "csv_file['supplier_discount'] = 0\n",
    "\n",
    "global_offer_csv = pd.DataFrame(csv_file)\n"
   ]
  },
  {
   "cell_type": "code",
   "execution_count": 85,
   "metadata": {},
   "outputs": [],
   "source": [
    "global_offer_csv.to_csv(\"discount.csv\")"
   ]
  }
 ],
 "metadata": {
  "kernelspec": {
   "display_name": "Python 3",
   "language": "python",
   "name": "python3"
  }
 },
 "nbformat": 4,
 "nbformat_minor": 2
}
