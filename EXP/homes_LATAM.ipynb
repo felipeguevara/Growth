{
 "cells": [
  {
   "cell_type": "code",
   "execution_count": 25,
   "metadata": {},
   "outputs": [],
   "source": [
    "import math\n",
    "    #Numeric Python\n",
    "import numpy as np\n",
    "    #Pandas (dataframes)\n",
    "import pandas as pd\n",
    "    #datetime for fate manipulation\n",
    "from datetime import date, datetime, timedelta  \n",
    "    #Regex for advanced string matching\n",
    "import re\n",
    "    #for time related stuff\n",
    "import time\n",
    "    #json library\n",
    "import json\n",
    "    #Analyst tools\n",
    "import sys\n",
    "sys.path.append('~')\n",
    "from analysts_tools.growth import *\n",
    "    #Procurement tools\n",
    "from analystcommunity.read_connection_data_warehouse import run_read_dwd_query\n",
    "from analysts_tools.redash_methods import *\n",
    "from procurement_lib import redash, dw, send_message, send_slack_notification, GoogleSheet, logging\n",
    "\n",
    "import random\n",
    "import time\n",
    "import datetime"
   ]
  },
  {
   "cell_type": "code",
   "execution_count": 26,
   "metadata": {},
   "outputs": [],
   "source": [
    "query = \"\"\"\n",
    "SELECT\n",
    "    last_order_city AS city,\n",
    "    source_id AS customer_id,\n",
    "    recency_days AS recency_days,\n",
    "    DATEDIFF(day, first_submit_date, GETDATE()) AS alive_days,\n",
    "    CASE WHEN microsegment_name IS NULL THEN 'NO' ELSE microsegment_name END AS microsegment,\n",
    "    CASE WHEN business_type IS NULL THEN 'NO' ELSE business_type END AS segment,\n",
    "    CASE \n",
    "        WHEN is_kam_audited = 1 THEN 'KAM' \n",
    "        WHEN is_graduated = 1 THEN 'Grads'\n",
    "        WHEN salesperson_mail <> 'No value' THEN 'Farming'\n",
    "    ELSE 'Other' END AS canal--,\n",
    "    --is_graduated AS grad,\n",
    "    --is_kam_audited AS kam,\n",
    "    --CASE WHEN salesperson_mail <> 'No value' THEN 1 ELSE 0 END AS is_farming\n",
    "FROM dpr_customer.obt_customer\n",
    "\n",
    "WHERE recency_days <= 180\n",
    "\"\"\"\n",
    "\n",
    "df = run_read_dwd_query(query)"
   ]
  },
  {
   "cell_type": "code",
   "execution_count": 27,
   "metadata": {},
   "outputs": [],
   "source": [
    "def homes(city):\n",
    "    customers =  df.loc[\n",
    "                (df.city == city) &\n",
    "                (df.segment.isin(['Hogar'])) &\n",
    "                (~df.microsegment.isin(['ALL'])) &\n",
    "                (~df.canal.isin(['ALL'])) &\n",
    "                (df.alive_days <= 10000) &\n",
    "                (df.recency_days <= 60) \n",
    "            ].customer_id.unique().tolist()\n",
    "    return customers"
   ]
  },
  {
   "cell_type": "code",
   "execution_count": 28,
   "metadata": {},
   "outputs": [],
   "source": [
    "def create_segment(city,customers,name,date):\n",
    "  import requests\n",
    "  import json\n",
    "\n",
    "  url = f\"https://{city}.frubana.com/api/v1/segments/create?api-key=00_growth-team-zzz-qqq_001\"\n",
    "\n",
    "  payload = json.dumps([\n",
    "      {\n",
    "      \"name\": name, \n",
    "      \"customersIds\": customers,\n",
    "      \"expiresAt\": date\n",
    "  }\n",
    "      ]\n",
    "                      )\n",
    "\n",
    "\n",
    "  headers = {\n",
    "    'Cookie': 'AWSALB=WGKrKvA1CFOY0m92xSENGAseuE4LrcfQh9y8jK/loGBJdizNm+FvjOqUqVghxdfLkH6Jsa9sfWft2NELchGAP/LNZMXMYhrOE70qDnUuOHATpdJj1UZBMEUBSIN1; AWSALBCORS=WGKrKvA1CFOY0m92xSENGAseuE4LrcfQh9y8jK/loGBJdizNm+FvjOqUqVghxdfLkH6Jsa9sfWft2NELchGAP/LNZMXMYhrOE70qDnUuOHATpdJj1UZBMEUBSIN1; AWSALB=jLY02FPysvF1vTrKLhXbk3ibzmyiAqFJ1ezYVu5PjodkU2QmPHDpRJhb9CvOlOyQ1Ix0mJR1ig+eH9zwJ9i5EOtgsgx79NSROogQb2Ua6yLX/I3bJJ6xtcVO3puI; AWSALBCORS=jLY02FPysvF1vTrKLhXbk3ibzmyiAqFJ1ezYVu5PjodkU2QmPHDpRJhb9CvOlOyQ1Ix0mJR1ig+eH9zwJ9i5EOtgsgx79NSROogQb2Ua6yLX/I3bJJ6xtcVO3puI',\n",
    "    'Content-Type': 'application/json'\n",
    "  }\n",
    "\n",
    "  response = requests.request(\"POST\", url, headers=headers, data=payload)\n",
    "\n",
    "  return response.text"
   ]
  },
  {
   "cell_type": "code",
   "execution_count": 29,
   "metadata": {},
   "outputs": [
    {
     "data": {
      "text/plain": [
       "array(['SPO', 'BOG', 'BAQ', 'BHZ', 'CMX', 'MDE', 'VCP', 'CWB'],\n",
       "      dtype=object)"
      ]
     },
     "execution_count": 29,
     "metadata": {},
     "output_type": "execute_result"
    }
   ],
   "source": [
    "df.city.unique()"
   ]
  },
  {
   "cell_type": "code",
   "execution_count": 30,
   "metadata": {},
   "outputs": [],
   "source": [
    "# for city in df.city.unique():\n",
    "#     response = create_segment(city,homes(city),f\"{city}_HOMES_2024\",'2025-01-01')\n",
    "#     print(response)"
   ]
  },
  {
   "cell_type": "code",
   "execution_count": 33,
   "metadata": {},
   "outputs": [],
   "source": [
    "df_cayena=GoogleSheet(\"1tQZXQaLQqUF-Y5Ue8yQttcy-i5uiqPSSJpzpm1mS5gY\")\n",
    "df_cayena = df_cayena.get_as_dataframe('Dados Pedidos')\n",
    "\n",
    "customers_cayena = df_cayena.loc[df_cayena['Cadastro Frubana?'] == 'Sim','ID'].unique().tolist()"
   ]
  },
  {
   "cell_type": "code",
   "execution_count": 32,
   "metadata": {},
   "outputs": [],
   "source": [
    "customers = homes('SPO')"
   ]
  },
  {
   "cell_type": "code",
   "execution_count": 37,
   "metadata": {},
   "outputs": [],
   "source": [
    "result_list = customers + customers_cayena"
   ]
  },
  {
   "cell_type": "code",
   "execution_count": 43,
   "metadata": {},
   "outputs": [
    {
     "data": {
      "text/plain": [
       "1686"
      ]
     },
     "execution_count": 43,
     "metadata": {},
     "output_type": "execute_result"
    }
   ],
   "source": [
    "len(list(set(result_list)))"
   ]
  },
  {
   "cell_type": "code",
   "execution_count": 44,
   "metadata": {},
   "outputs": [],
   "source": [
    "city = 'SPO'"
   ]
  },
  {
   "cell_type": "code",
   "execution_count": 45,
   "metadata": {},
   "outputs": [
    {
     "name": "stdout",
     "output_type": "stream",
     "text": [
      "Customer segments were created: [577202-SPO_HOMES+CAYENA_2024]\n"
     ]
    }
   ],
   "source": [
    "response = create_segment(city,list(set(result_list)),f\"{city}_HOMES+CAYENA_2024\",'2025-01-01')\n",
    "print(response)"
   ]
  },
  {
   "cell_type": "code",
   "execution_count": null,
   "metadata": {},
   "outputs": [],
   "source": [
    "def upload_homes(city,customers,customerSegmentId):\n",
    "  import requests\n",
    "  import json\n",
    "\n",
    "  url = f\"https://{city}.frubana.com/api/v1/segments/massive/update?api-key=00_growth-team-zzz-qqq_001\"\n",
    "\n",
    "  payload = json.dumps({\n",
    "    \"customerSegmentId\": customerSegmentId,\n",
    "    \"customersIds\": customers\n",
    "  })\n",
    "  headers = {\n",
    "    'Cookie': 'AWSALB=WGKrKvA1CFOY0m92xSENGAseuE4LrcfQh9y8jK/loGBJdizNm+FvjOqUqVghxdfLkH6Jsa9sfWft2NELchGAP/LNZMXMYhrOE70qDnUuOHATpdJj1UZBMEUBSIN1; AWSALBCORS=WGKrKvA1CFOY0m92xSENGAseuE4LrcfQh9y8jK/loGBJdizNm+FvjOqUqVghxdfLkH6Jsa9sfWft2NELchGAP/LNZMXMYhrOE70qDnUuOHATpdJj1UZBMEUBSIN1',\n",
    "    'Content-Type': 'application/json'\n",
    "  }\n",
    "\n",
    "  response = requests.request(\"POST\", url, headers=headers, data=payload)\n",
    "\n",
    "  return response.text"
   ]
  },
  {
   "cell_type": "code",
   "execution_count": null,
   "metadata": {},
   "outputs": [],
   "source": [
    "for city in df.city.unique():\n",
    "    response = upload_homes(city,homes(city),1)\n",
    "    print(response)"
   ]
  }
 ],
 "metadata": {
  "kernelspec": {
   "display_name": "Python 3",
   "language": "python",
   "name": "python3"
  },
  "language_info": {
   "codemirror_mode": {
    "name": "ipython",
    "version": 3
   },
   "file_extension": ".py",
   "mimetype": "text/x-python",
   "name": "python",
   "nbconvert_exporter": "python",
   "pygments_lexer": "ipython3",
   "version": "3.7.9"
  }
 },
 "nbformat": 4,
 "nbformat_minor": 2
}
