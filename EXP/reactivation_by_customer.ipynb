{
 "cells": [
  {
   "cell_type": "code",
   "execution_count": 1,
   "metadata": {},
   "outputs": [],
   "source": [
    "#//----------------------------\n",
    "#//LIBRARIES\n",
    "    #Math\n",
    "import math\n",
    "    #Numeric Python\n",
    "import numpy as np\n",
    "    #Pandas (dataframes)\n",
    "import pandas as pd\n",
    "    #datetime for fate manipulation\n",
    "from datetime import date, datetime, timedelta  \n",
    "    #Regex for advanced string matching\n",
    "import re\n",
    "    #for time related stuff\n",
    "import time\n",
    "    #json library\n",
    "import json\n",
    "    #Analyst tools\n",
    "import sys\n",
    "sys.path.append('../')\n",
    "from analysts_tools.growth import *\n",
    "    #Procurement tools\n",
    "from procurement_lib import send_slack_notification\n",
    "from procurement_lib import redash\n",
    "from analysts_tools.redash_methods import *\n",
    "from analystcommunity.read_connection_data_warehouse import run_read_dwd_query\n",
    "\n",
    "import random\n",
    "import time\n",
    "import datetime\n",
    "\n",
    "import seaborn as sns\n",
    "import matplotlib.pyplot as plt\n",
    "\n",
    "\n",
    "from sklearn.model_selection import train_test_split\n",
    "from scipy.signal import savgol_filter\n",
    "import statsmodels.formula.api as smf"
   ]
  },
  {
   "cell_type": "code",
   "execution_count": 2,
   "metadata": {},
   "outputs": [
    {
     "name": "stdout",
     "output_type": "stream",
     "text": [
      "200\n"
     ]
    }
   ],
   "source": [
    "frida_products = get_fresh_query_result(\"https://internal-redash.federate.frubana.com/\",118629,'SeoGHWmDUaaBi7VXje1s9zYNiMD1VHQ1K1DYOxiF',{},20)"
   ]
  },
  {
   "cell_type": "code",
   "execution_count": 3,
   "metadata": {},
   "outputs": [
    {
     "name": "stdout",
     "output_type": "stream",
     "text": [
      "200\n"
     ]
    }
   ],
   "source": [
    "users_eliminar_pro = get_fresh_query_result(\"https://internal-redash.federate.frubana.com/\",206229,'SeoGHWmDUaaBi7VXje1s9zYNiMD1VHQ1K1DYOxiF',{},20)\n",
    "users_eliminar_pro[['user_id']] = users_eliminar_pro[['user_id']].astype(int)"
   ]
  },
  {
   "cell_type": "code",
   "execution_count": 4,
   "metadata": {},
   "outputs": [],
   "source": [
    "custom = pd.read_csv(\"push customers - customers.csv\")"
   ]
  },
  {
   "cell_type": "code",
   "execution_count": 58,
   "metadata": {},
   "outputs": [
    {
     "name": "stdout",
     "output_type": "stream",
     "text": [
      "HOLA VCP\n"
     ]
    }
   ],
   "source": [
    "print(f\"HOLA {city}\")"
   ]
  },
  {
   "cell_type": "code",
   "execution_count": 32,
   "metadata": {},
   "outputs": [],
   "source": [
    "city = 'VCP'\n",
    "\n",
    "#users to delete for security checks\n",
    "users_eliminar = users_eliminar_pro.loc[users_eliminar_pro.region_code == city]['user_id'].unique().tolist()\n",
    "clientes = custom.loc[(custom.city == city) & (~custom.customer_id.isin(users_eliminar))].customer_id.unique().tolist()\n",
    "\n",
    "todays_date = datetime.datetime.today().strftime('%Y-%m-%d')\n",
    "dias = 0 #days to be the offer active"
   ]
  },
  {
   "cell_type": "code",
   "execution_count": 33,
   "metadata": {},
   "outputs": [
    {
     "data": {
      "text/plain": [
       "853"
      ]
     },
     "execution_count": 33,
     "metadata": {},
     "output_type": "execute_result"
    }
   ],
   "source": [
    "len(clientes)"
   ]
  },
  {
   "cell_type": "code",
   "execution_count": 34,
   "metadata": {},
   "outputs": [],
   "source": [
    "query = \"\"\"\n",
    "SELECT\n",
    "    s.identifier_value AS city,\n",
    "    dc.source_id AS customer_id,\n",
    "    dp.card_id,\n",
    "    dp.card_description AS product_name,\n",
    "    COUNT(DISTINCT fs.order_id) AS frequency,\n",
    "    SUM(fs.product_quantity_x_step_unit) AS demand,\n",
    "    SUM(fs.gmv_pxq_local)/4.75 AS gmv_usd,\n",
    "    SUM(COALESCE(fsd.product_discount,0))/4.75 AS discount_applied,\n",
    "    100.00*discount_applied/gmv_usd AS per_dct,\n",
    "    (1-(SUM(cogs_p_mtd*fs.product_quantity_x_step_unit)/SUM(fs.product_price*fs.product_quantity_x_step_unit)))*100.00 AS margin,\n",
    "    gmv_usd*margin/100.00 AS cash_margin,\n",
    "    cash_margin-discount_applied AS net_cash_margin,\n",
    "    100.00*net_cash_margin/gmv_usd AS net_margin\n",
    "    \n",
    "FROM dpr_sales.fact_sales                   fs\n",
    "INNER JOIN dpr_shared.dim_customer          dc  ON dc.customer_id = fs.dim_customer\n",
    "INNER JOIN dpr_shared.dim_site              s   ON s.site_id = fs.dim_site\n",
    "INNER JOIN dpr_shared.dim_product           dp  ON dp.product_id = fs.dim_product\n",
    "INNER JOIN dpr_shared.dim_category          cat ON cat.category_id = dp.category_id\n",
    "LEFT JOIN dpr_sales.fact_sales_discounts    fsd ON fs.order_item_id = fsd.order_item_id \n",
    "INNER JOIN dpr_shared.dim_stock_unit        su  ON su.product_id = fs.dim_product\n",
    "INNER JOIN dpr_shared.dim_stock_unit        sup  ON nvl(nullif(su.source_parent_id,0),su.source_id) = sup.source_id\n",
    "LEFT JOIN dpr_cross_business.fact_cross_business_insights m ON m.dim_stock_unit = sup.stock_unit_id AND m.dim_date = fs.dim_submitted_date\n",
    "\n",
    "WHERE \n",
    "    fs.gmv_enabled = TRUE\n",
    "    AND fulfillment_order_status NOT IN ('CANCELLED', 'ARCHIVED','No value')\n",
    "    AND fs.fb_order_status_id IN (1,6,7,8)\n",
    "    AND fs.is_deleted = FALSE\n",
    "    AND fs.dim_status = 1\n",
    "    AND dp.is_slot = 'false'\n",
    "    AND fs.gmv_pxq_local > 0\n",
    "    AND cogs_p_mtd > 0\n",
    "    AND cat.description NOT IN ('Leite','Arroz')\n",
    "    AND s.identifier_value = '{city}'\n",
    "    AND dc.source_id IN {clientes}\n",
    "    AND DATE(fs.order_submitted_date) > DATE(current_date) - 120\n",
    "\n",
    "    \n",
    "GROUP BY 1,2,3,4\n",
    "\"\"\".format(clientes=tuple(set(clientes)), city = city)\n",
    "\n",
    "data_ventas_aux = run_read_dwd_query(query)\n",
    "data_ventas_aux[[\"frequency\", \"gmv_usd\",\"demand\",\"net_cash_margin\",\"cash_margin\"]] = data_ventas_aux[[\"frequency\", \"gmv_usd\",\"demand\",\"net_cash_margin\",\"cash_margin\"]].astype('float32')"
   ]
  },
  {
   "cell_type": "code",
   "execution_count": 35,
   "metadata": {},
   "outputs": [
    {
     "name": "stdout",
     "output_type": "stream",
     "text": [
      "9230\n"
     ]
    }
   ],
   "source": [
    "# Optional to clean the EagleEye\n",
    "print(len(data_ventas_aux))"
   ]
  },
  {
   "cell_type": "code",
   "execution_count": 36,
   "metadata": {},
   "outputs": [],
   "source": [
    "df_aux1 = data_ventas_aux.groupby('customer_id').agg({'gmv_usd':np.sum,'cash_margin':np.sum, 'net_cash_margin':np.sum}).reset_index()\n",
    "df_aux1['margin'] = df_aux1.cash_margin / df_aux1.gmv_usd\n",
    "df_aux1['net_margin'] = df_aux1.net_cash_margin / df_aux1.gmv_usd"
   ]
  },
  {
   "cell_type": "code",
   "execution_count": 37,
   "metadata": {},
   "outputs": [
    {
     "data": {
      "text/html": [
       "<div>\n",
       "<style scoped>\n",
       "    .dataframe tbody tr th:only-of-type {\n",
       "        vertical-align: middle;\n",
       "    }\n",
       "\n",
       "    .dataframe tbody tr th {\n",
       "        vertical-align: top;\n",
       "    }\n",
       "\n",
       "    .dataframe thead th {\n",
       "        text-align: right;\n",
       "    }\n",
       "</style>\n",
       "<table border=\"1\" class=\"dataframe\">\n",
       "  <thead>\n",
       "    <tr style=\"text-align: right;\">\n",
       "      <th></th>\n",
       "      <th>customer_id</th>\n",
       "      <th>gmv_usd</th>\n",
       "      <th>cash_margin</th>\n",
       "      <th>net_cash_margin</th>\n",
       "      <th>margin</th>\n",
       "      <th>net_margin</th>\n",
       "    </tr>\n",
       "  </thead>\n",
       "  <tbody>\n",
       "    <tr>\n",
       "      <th>count</th>\n",
       "      <td>8.390000e+02</td>\n",
       "      <td>839.000000</td>\n",
       "      <td>839.000000</td>\n",
       "      <td>839.000000</td>\n",
       "      <td>839.000000</td>\n",
       "      <td>839.000000</td>\n",
       "    </tr>\n",
       "    <tr>\n",
       "      <th>mean</th>\n",
       "      <td>3.178285e+08</td>\n",
       "      <td>248.062744</td>\n",
       "      <td>36.228081</td>\n",
       "      <td>29.824835</td>\n",
       "      <td>0.151635</td>\n",
       "      <td>0.126355</td>\n",
       "    </tr>\n",
       "    <tr>\n",
       "      <th>std</th>\n",
       "      <td>7.304522e+07</td>\n",
       "      <td>358.885162</td>\n",
       "      <td>62.136944</td>\n",
       "      <td>53.290073</td>\n",
       "      <td>0.069405</td>\n",
       "      <td>0.073662</td>\n",
       "    </tr>\n",
       "    <tr>\n",
       "      <th>min</th>\n",
       "      <td>1.927888e+07</td>\n",
       "      <td>2.071500</td>\n",
       "      <td>-33.183723</td>\n",
       "      <td>-33.183723</td>\n",
       "      <td>-0.097447</td>\n",
       "      <td>-0.246700</td>\n",
       "    </tr>\n",
       "    <tr>\n",
       "      <th>25%</th>\n",
       "      <td>2.760999e+08</td>\n",
       "      <td>67.845150</td>\n",
       "      <td>9.076836</td>\n",
       "      <td>6.818837</td>\n",
       "      <td>0.102694</td>\n",
       "      <td>0.074563</td>\n",
       "    </tr>\n",
       "    <tr>\n",
       "      <th>50%</th>\n",
       "      <td>3.559479e+08</td>\n",
       "      <td>134.534698</td>\n",
       "      <td>18.091789</td>\n",
       "      <td>14.524164</td>\n",
       "      <td>0.144011</td>\n",
       "      <td>0.118969</td>\n",
       "    </tr>\n",
       "    <tr>\n",
       "      <th>75%</th>\n",
       "      <td>3.699170e+08</td>\n",
       "      <td>276.370941</td>\n",
       "      <td>38.823465</td>\n",
       "      <td>31.778734</td>\n",
       "      <td>0.191443</td>\n",
       "      <td>0.171293</td>\n",
       "    </tr>\n",
       "    <tr>\n",
       "      <th>max</th>\n",
       "      <td>3.725834e+08</td>\n",
       "      <td>3187.364258</td>\n",
       "      <td>704.065674</td>\n",
       "      <td>629.128174</td>\n",
       "      <td>0.581800</td>\n",
       "      <td>0.581800</td>\n",
       "    </tr>\n",
       "  </tbody>\n",
       "</table>\n",
       "</div>"
      ],
      "text/plain": [
       "        customer_id      gmv_usd  cash_margin  net_cash_margin      margin  \\\n",
       "count  8.390000e+02   839.000000   839.000000       839.000000  839.000000   \n",
       "mean   3.178285e+08   248.062744    36.228081        29.824835    0.151635   \n",
       "std    7.304522e+07   358.885162    62.136944        53.290073    0.069405   \n",
       "min    1.927888e+07     2.071500   -33.183723       -33.183723   -0.097447   \n",
       "25%    2.760999e+08    67.845150     9.076836         6.818837    0.102694   \n",
       "50%    3.559479e+08   134.534698    18.091789        14.524164    0.144011   \n",
       "75%    3.699170e+08   276.370941    38.823465        31.778734    0.191443   \n",
       "max    3.725834e+08  3187.364258   704.065674       629.128174    0.581800   \n",
       "\n",
       "       net_margin  \n",
       "count  839.000000  \n",
       "mean     0.126355  \n",
       "std      0.073662  \n",
       "min     -0.246700  \n",
       "25%      0.074563  \n",
       "50%      0.118969  \n",
       "75%      0.171293  \n",
       "max      0.581800  "
      ]
     },
     "execution_count": 37,
     "metadata": {},
     "output_type": "execute_result"
    }
   ],
   "source": [
    "df_aux1.describe()"
   ]
  },
  {
   "cell_type": "code",
   "execution_count": 38,
   "metadata": {},
   "outputs": [],
   "source": [
    "data_ventas_aux = data_ventas_aux.loc[data_ventas_aux.customer_id.isin(df_aux1.loc[df_aux1.net_margin > 0.12].customer_id.unique())].reset_index(drop=True)"
   ]
  },
  {
   "cell_type": "code",
   "execution_count": 39,
   "metadata": {},
   "outputs": [],
   "source": [
    "# Assuming your DataFrame is named 'df'\n",
    "grouped_df = data_ventas_aux.groupby('customer_id').apply(lambda x: x.nlargest(7, ['frequency', 'gmv_usd'])).reset_index(drop=True)\n",
    "\n",
    "result_df = grouped_df.groupby('customer_id').agg({'card_id': list, 'product_name': list, 'frequency': list, 'gmv_usd': np.sum, 'cash_margin': np.sum}).reset_index()\n",
    "\n",
    "result_df[\"margin\"] = 100.00 * result_df.cash_margin / result_df.gmv_usd\n",
    "result_df['margin'] = np.where(0.65*result_df.margin > 8.5, 8.5,0.65*result_df.margin)\n",
    "result_df['margin'] = result_df['margin'].apply(lambda x: round(x, 2))\n",
    "result_df['offer_name'] = [\"SH_GRADS_\"+city+\"_\"+todays_date+\"_\"+str(customer) for customer in result_df.customer_id]\n",
    "\n",
    "result_df = result_df.loc[result_df.margin > 3].copy()"
   ]
  },
  {
   "cell_type": "code",
   "execution_count": 40,
   "metadata": {},
   "outputs": [],
   "source": [
    "# Step 1: Convert 'card_id' column from lists to individual values\n",
    "df_exploded = result_df.explode('card_id')\n",
    "\n",
    "# Step 2: Count the occurrences of each card ID\n",
    "card_id_counts = df_exploded['card_id'].value_counts().reset_index()\n",
    "\n",
    "# Rename columns and set 'card_id' as the index\n",
    "card_id_counts.rename(columns={'index': 'card_id', 'card_id': 'frequency'}, inplace=True)\n",
    "\n",
    "# Calculate cumulative percentage and percentage over the total\n",
    "card_id_counts['cumulative_percentage'] = card_id_counts['frequency'].cumsum() / card_id_counts['frequency'].sum()\n",
    "card_id_counts['percentage_over_total'] = card_id_counts['frequency'] / card_id_counts['frequency'].sum()\n",
    "\n",
    "# Multiply by 100 and round to two decimal places\n",
    "card_id_counts['cumulative_percentage'] = (card_id_counts['cumulative_percentage'] * 100).round(2)\n",
    "card_id_counts['percentage_over_total'] = (card_id_counts['percentage_over_total'] * 100).round(2)"
   ]
  },
  {
   "cell_type": "code",
   "execution_count": 41,
   "metadata": {},
   "outputs": [],
   "source": [
    "def concatenate_skus(card_id_list):\n",
    "    result = []\n",
    "    for sku in card_id_list:\n",
    "        try:\n",
    "            sku_value = frida_products.loc[frida_products['id_tarjeta'] == sku, 'skus'].values[0]\n",
    "            result.append(sku_value)\n",
    "        except IndexError:\n",
    "            result.append('')\n",
    "    return '#'.join(result)"
   ]
  },
  {
   "cell_type": "code",
   "execution_count": 42,
   "metadata": {},
   "outputs": [],
   "source": [
    "from sklearn.model_selection import train_test_split \n",
    "\n",
    "def create_groups(offer):\n",
    "    \n",
    "    #customers = offer.customer_id.unique()\n",
    "    customers = offer.customer_id.unique()\n",
    "    print(\"Total length: \", len(customers))\n",
    "    customer_control, customer_test = train_test_split(customers, test_size = 0.50)\n",
    "    \n",
    "    alpha=0.01\n",
    "    aux=0\n",
    "    while abs(1-(offer[offer.customer_id.isin(customer_control)]['gmv_usd'].mean()/offer[offer.customer_id.isin(customer_test)]['gmv_usd'].mean())) > alpha:\n",
    "        customer_control, customer_test = train_test_split(customers, test_size = 0.50)\n",
    "        \n",
    "        aux+=1\n",
    "        if aux == 1000:\n",
    "            alpha+=0.01\n",
    "            aux=0\n",
    "        \n",
    "    return customer_control.tolist(), customer_test.tolist()"
   ]
  },
  {
   "cell_type": "code",
   "execution_count": 43,
   "metadata": {},
   "outputs": [
    {
     "name": "stdout",
     "output_type": "stream",
     "text": [
      "Total length:  412\n"
     ]
    }
   ],
   "source": [
    "control,test = create_groups(result_df)"
   ]
  },
  {
   "cell_type": "code",
   "execution_count": 44,
   "metadata": {},
   "outputs": [],
   "source": [
    "final_df = pd.concat([\n",
    "    pd.DataFrame({'group': 'control', 'customer_id': control}),\n",
    "    pd.DataFrame({'group': 'test', 'customer_id': test})\n",
    "], ignore_index=True)\n",
    "\n",
    "final_df['city'] = city\n",
    "final_df['todays_date'] = todays_date"
   ]
  },
  {
   "cell_type": "code",
   "execution_count": 45,
   "metadata": {},
   "outputs": [
    {
     "data": {
      "text/plain": [
       "control    206\n",
       "test       206\n",
       "Name: group, dtype: int64"
      ]
     },
     "execution_count": 45,
     "metadata": {},
     "output_type": "execute_result"
    }
   ],
   "source": [
    "final_df.group.value_counts()"
   ]
  },
  {
   "cell_type": "code",
   "execution_count": 46,
   "metadata": {},
   "outputs": [],
   "source": [
    "final_df.to_csv(\"SH_GRADS\"+todays_date+city+\"GROUPS_9a16.csv\", index=False)"
   ]
  },
  {
   "cell_type": "code",
   "execution_count": 47,
   "metadata": {},
   "outputs": [],
   "source": [
    "global_segment_list = []\n",
    "\n",
    "for i in result_df.values:\n",
    "    global_segment_list.append({'name':i[-1], 'customersIds': [i[0]],\"expiresAt\": (datetime.datetime.today() + datetime.timedelta(days=(dias+2))).strftime('%Y-%m-%d')})\n",
    "    \n",
    "result_df = result_df.reset_index(drop=True).copy()"
   ]
  },
  {
   "cell_type": "code",
   "execution_count": 48,
   "metadata": {},
   "outputs": [],
   "source": [
    "csv_file = {} \n",
    "csv_file['offer_name'] = result_df.offer_name\n",
    "csv_file['offer_description'] = None\n",
    "csv_file['discount'] = result_df.margin\n",
    "csv_file['automatically_consider_offer'] = \"true\"\n",
    "csv_file['start_date'] = (datetime.datetime.today() + datetime.timedelta(days=dias)).strftime('%d-%m-%Y')\n",
    "csv_file['end_date'] = (datetime.datetime.today() + datetime.timedelta(days=(dias+2))).strftime('%d-%m-%Y')\n",
    "csv_file['max_uses_per_order'] = 120\n",
    "csv_file['max_uses_per_customer'] = 2\n",
    "csv_file['customer_segment_id'] = [1]*len(result_df.offer_name) #[None]\n",
    "csv_file['sku_id'] = result_df['card_id'].apply(concatenate_skus)\n",
    "csv_file['segment_behaviour'] = 'INCLUDED'\n",
    "csv_file['offer_type'] = 'SUPER_HOOK'\n",
    "csv_file['supplier_discount'] = 0\n",
    "\n",
    "global_offer_csv = pd.DataFrame(csv_file) #, index=[0])"
   ]
  },
  {
   "cell_type": "code",
   "execution_count": 49,
   "metadata": {},
   "outputs": [
    {
     "data": {
      "text/html": [
       "<div>\n",
       "<style scoped>\n",
       "    .dataframe tbody tr th:only-of-type {\n",
       "        vertical-align: middle;\n",
       "    }\n",
       "\n",
       "    .dataframe tbody tr th {\n",
       "        vertical-align: top;\n",
       "    }\n",
       "\n",
       "    .dataframe thead th {\n",
       "        text-align: right;\n",
       "    }\n",
       "</style>\n",
       "<table border=\"1\" class=\"dataframe\">\n",
       "  <thead>\n",
       "    <tr style=\"text-align: right;\">\n",
       "      <th></th>\n",
       "      <th>offer_name</th>\n",
       "      <th>offer_description</th>\n",
       "      <th>discount</th>\n",
       "      <th>automatically_consider_offer</th>\n",
       "      <th>start_date</th>\n",
       "      <th>end_date</th>\n",
       "      <th>max_uses_per_order</th>\n",
       "      <th>max_uses_per_customer</th>\n",
       "      <th>customer_segment_id</th>\n",
       "      <th>sku_id</th>\n",
       "      <th>segment_behaviour</th>\n",
       "      <th>offer_type</th>\n",
       "      <th>supplier_discount</th>\n",
       "    </tr>\n",
       "  </thead>\n",
       "  <tbody>\n",
       "    <tr>\n",
       "      <th>0</th>\n",
       "      <td>SH_GRADS_VCP_2024-06-17_19278883</td>\n",
       "      <td>None</td>\n",
       "      <td>8.50</td>\n",
       "      <td>true</td>\n",
       "      <td>17-06-2024</td>\n",
       "      <td>19-06-2024</td>\n",
       "      <td>120</td>\n",
       "      <td>2</td>\n",
       "      <td>1</td>\n",
       "      <td>441499#601040#441496#430408#441125#435068#455066</td>\n",
       "      <td>INCLUDED</td>\n",
       "      <td>SUPER_HOOK</td>\n",
       "      <td>0</td>\n",
       "    </tr>\n",
       "    <tr>\n",
       "      <th>1</th>\n",
       "      <td>SH_GRADS_VCP_2024-06-17_50908370</td>\n",
       "      <td>None</td>\n",
       "      <td>7.71</td>\n",
       "      <td>true</td>\n",
       "      <td>17-06-2024</td>\n",
       "      <td>19-06-2024</td>\n",
       "      <td>120</td>\n",
       "      <td>2</td>\n",
       "      <td>1</td>\n",
       "      <td>430408#455307#455049#455016#601040#430303#430315</td>\n",
       "      <td>INCLUDED</td>\n",
       "      <td>SUPER_HOOK</td>\n",
       "      <td>0</td>\n",
       "    </tr>\n",
       "    <tr>\n",
       "      <th>2</th>\n",
       "      <td>SH_GRADS_VCP_2024-06-17_80985465</td>\n",
       "      <td>None</td>\n",
       "      <td>8.50</td>\n",
       "      <td>true</td>\n",
       "      <td>17-06-2024</td>\n",
       "      <td>19-06-2024</td>\n",
       "      <td>120</td>\n",
       "      <td>2</td>\n",
       "      <td>1</td>\n",
       "      <td>428399#596031#434903##434929#434957#430898</td>\n",
       "      <td>INCLUDED</td>\n",
       "      <td>SUPER_HOOK</td>\n",
       "      <td>0</td>\n",
       "    </tr>\n",
       "    <tr>\n",
       "      <th>3</th>\n",
       "      <td>SH_GRADS_VCP_2024-06-17_149874519</td>\n",
       "      <td>None</td>\n",
       "      <td>8.50</td>\n",
       "      <td>true</td>\n",
       "      <td>17-06-2024</td>\n",
       "      <td>19-06-2024</td>\n",
       "      <td>120</td>\n",
       "      <td>2</td>\n",
       "      <td>1</td>\n",
       "      <td>532007#601040#435068#434903##633371#484153</td>\n",
       "      <td>INCLUDED</td>\n",
       "      <td>SUPER_HOOK</td>\n",
       "      <td>0</td>\n",
       "    </tr>\n",
       "    <tr>\n",
       "      <th>4</th>\n",
       "      <td>SH_GRADS_VCP_2024-06-17_150793078</td>\n",
       "      <td>None</td>\n",
       "      <td>7.92</td>\n",
       "      <td>true</td>\n",
       "      <td>17-06-2024</td>\n",
       "      <td>19-06-2024</td>\n",
       "      <td>120</td>\n",
       "      <td>2</td>\n",
       "      <td>1</td>\n",
       "      <td>596031#430408#430403#455307#430460#455075#455079</td>\n",
       "      <td>INCLUDED</td>\n",
       "      <td>SUPER_HOOK</td>\n",
       "      <td>0</td>\n",
       "    </tr>\n",
       "  </tbody>\n",
       "</table>\n",
       "</div>"
      ],
      "text/plain": [
       "                          offer_name offer_description  discount  \\\n",
       "0   SH_GRADS_VCP_2024-06-17_19278883              None      8.50   \n",
       "1   SH_GRADS_VCP_2024-06-17_50908370              None      7.71   \n",
       "2   SH_GRADS_VCP_2024-06-17_80985465              None      8.50   \n",
       "3  SH_GRADS_VCP_2024-06-17_149874519              None      8.50   \n",
       "4  SH_GRADS_VCP_2024-06-17_150793078              None      7.92   \n",
       "\n",
       "  automatically_consider_offer  start_date    end_date  max_uses_per_order  \\\n",
       "0                         true  17-06-2024  19-06-2024                 120   \n",
       "1                         true  17-06-2024  19-06-2024                 120   \n",
       "2                         true  17-06-2024  19-06-2024                 120   \n",
       "3                         true  17-06-2024  19-06-2024                 120   \n",
       "4                         true  17-06-2024  19-06-2024                 120   \n",
       "\n",
       "   max_uses_per_customer  customer_segment_id  \\\n",
       "0                      2                    1   \n",
       "1                      2                    1   \n",
       "2                      2                    1   \n",
       "3                      2                    1   \n",
       "4                      2                    1   \n",
       "\n",
       "                                             sku_id segment_behaviour  \\\n",
       "0  441499#601040#441496#430408#441125#435068#455066          INCLUDED   \n",
       "1  430408#455307#455049#455016#601040#430303#430315          INCLUDED   \n",
       "2        428399#596031#434903##434929#434957#430898          INCLUDED   \n",
       "3        532007#601040#435068#434903##633371#484153          INCLUDED   \n",
       "4  596031#430408#430403#455307#430460#455075#455079          INCLUDED   \n",
       "\n",
       "   offer_type  supplier_discount  \n",
       "0  SUPER_HOOK                  0  \n",
       "1  SUPER_HOOK                  0  \n",
       "2  SUPER_HOOK                  0  \n",
       "3  SUPER_HOOK                  0  \n",
       "4  SUPER_HOOK                  0  "
      ]
     },
     "execution_count": 49,
     "metadata": {},
     "output_type": "execute_result"
    }
   ],
   "source": [
    "global_offer_csv.head()"
   ]
  },
  {
   "cell_type": "code",
   "execution_count": 50,
   "metadata": {},
   "outputs": [],
   "source": [
    "# Replace two or three '#' with one '#'\n",
    "global_offer_csv['sku_id'] = global_offer_csv['sku_id'].str.replace('###', '#')\n",
    "global_offer_csv['sku_id'] = global_offer_csv['sku_id'].str.replace('##', '#')\n",
    "    \n",
    "# Replace '#' at the beginning with an empty string\n",
    "global_offer_csv['sku_id'] = global_offer_csv['sku_id'].str.replace('^#', '', regex=True)\n",
    "\n",
    "# Remove rows where the string is empty\n",
    "global_offer_csv = global_offer_csv.loc[global_offer_csv['sku_id'] != \"\"]"
   ]
  },
  {
   "cell_type": "code",
   "execution_count": 51,
   "metadata": {},
   "outputs": [],
   "source": [
    "import requests\n",
    "import json\n",
    "\n",
    "url = f\"https://{city}.frubana.com/api/v1/segments/create?api-key=00_growth-team-zzz-qqq_001\"\n",
    "\n",
    "payload = json.dumps(global_segment_list)\n",
    "\n",
    "\n",
    "headers = {\n",
    "  'Cookie': 'AWSALB=WGKrKvA1CFOY0m92xSENGAseuE4LrcfQh9y8jK/loGBJdizNm+FvjOqUqVghxdfLkH6Jsa9sfWft2NELchGAP/LNZMXMYhrOE70qDnUuOHATpdJj1UZBMEUBSIN1; AWSALBCORS=WGKrKvA1CFOY0m92xSENGAseuE4LrcfQh9y8jK/loGBJdizNm+FvjOqUqVghxdfLkH6Jsa9sfWft2NELchGAP/LNZMXMYhrOE70qDnUuOHATpdJj1UZBMEUBSIN1; AWSALB=jLY02FPysvF1vTrKLhXbk3ibzmyiAqFJ1ezYVu5PjodkU2QmPHDpRJhb9CvOlOyQ1Ix0mJR1ig+eH9zwJ9i5EOtgsgx79NSROogQb2Ua6yLX/I3bJJ6xtcVO3puI; AWSALBCORS=jLY02FPysvF1vTrKLhXbk3ibzmyiAqFJ1ezYVu5PjodkU2QmPHDpRJhb9CvOlOyQ1Ix0mJR1ig+eH9zwJ9i5EOtgsgx79NSROogQb2Ua6yLX/I3bJJ6xtcVO3puI',\n",
    "  'Content-Type': 'application/json'\n",
    "}\n",
    "\n",
    "response = requests.request(\"POST\", url, headers=headers, data=payload)"
   ]
  },
  {
   "cell_type": "code",
   "execution_count": 52,
   "metadata": {},
   "outputs": [
    {
     "data": {
      "text/plain": [
       "'Customer segments were created: [769651-SH_GRADS_VCP_2024-06-17_19278883, 769652-SH_GRADS_VCP_2024-06-17_50908370, 769654-SH_GRADS_VCP_2024-06-17_80985465, 769653-SH_GRADS_VCP_2024-06-17_149874519, 769655-SH_GRADS_VCP_2024-06-17_150793078, 769657-SH_GRADS_VCP_2024-06-17_153998708, 769656-SH_GRADS_VCP_2024-06-17_154117910, 769658-SH_GRADS_VCP_2024-06-17_155217253, 769659-SH_GRADS_VCP_2024-06-17_158198356, 769660-SH_GRADS_VCP_2024-06-17_158263549, 769661-SH_GRADS_VCP_2024-06-17_158354911, 769662-SH_GRADS_VCP_2024-06-17_158433907, 769663-SH_GRADS_VCP_2024-06-17_158442271, 769664-SH_GRADS_VCP_2024-06-17_158453792, 769665-SH_GRADS_VCP_2024-06-17_158514735, 769666-SH_GRADS_VCP_2024-06-17_158920783, 769667-SH_GRADS_VCP_2024-06-17_159405494, 769668-SH_GRADS_VCP_2024-06-17_159449562, 769669-SH_GRADS_VCP_2024-06-17_161277621, 769670-SH_GRADS_VCP_2024-06-17_161296246, 769671-SH_GRADS_VCP_2024-06-17_161320126, 769672-SH_GRADS_VCP_2024-06-17_165311663, 769673-SH_GRADS_VCP_2024-06-17_165362547, 769674-SH_GRADS_VCP_2024-06-17_166934657, 769675-SH_GRADS_VCP_2024-06-17_167243262, 769676-SH_GRADS_VCP_2024-06-17_171172132, 769677-SH_GRADS_VCP_2024-06-17_171472351, 769678-SH_GRADS_VCP_2024-06-17_172703396, 769679-SH_GRADS_VCP_2024-06-17_173434105, 769680-SH_GRADS_VCP_2024-06-17_173998115, 769681-SH_GRADS_VCP_2024-06-17_176861010, 769682-SH_GRADS_VCP_2024-06-17_176945015, 769683-SH_GRADS_VCP_2024-06-17_180923527, 769684-SH_GRADS_VCP_2024-06-17_180943495, 769685-SH_GRADS_VCP_2024-06-17_181165148, 769686-SH_GRADS_VCP_2024-06-17_182038078, 769687-SH_GRADS_VCP_2024-06-17_182038491, 769688-SH_GRADS_VCP_2024-06-17_182133864, 769689-SH_GRADS_VCP_2024-06-17_182195974, 769690-SH_GRADS_VCP_2024-06-17_183101037, 769691-SH_GRADS_VCP_2024-06-17_183214332, 769692-SH_GRADS_VCP_2024-06-17_183572427, 769693-SH_GRADS_VCP_2024-06-17_183632774, 769694-SH_GRADS_VCP_2024-06-17_183929955, 769696-SH_GRADS_VCP_2024-06-17_184192744, 769695-SH_GRADS_VCP_2024-06-17_184432578, 769697-SH_GRADS_VCP_2024-06-17_184496145, 769698-SH_GRADS_VCP_2024-06-17_185302902, 769699-SH_GRADS_VCP_2024-06-17_185933790, 769700-SH_GRADS_VCP_2024-06-17_186086581, 769701-SH_GRADS_VCP_2024-06-17_186824118, 769706-SH_GRADS_VCP_2024-06-17_187149033, 769705-SH_GRADS_VCP_2024-06-17_187197564, 769704-SH_GRADS_VCP_2024-06-17_187236481, 769703-SH_GRADS_VCP_2024-06-17_187592751, 769702-SH_GRADS_VCP_2024-06-17_188677332, 769707-SH_GRADS_VCP_2024-06-17_188872117, 769709-SH_GRADS_VCP_2024-06-17_191037874, 769708-SH_GRADS_VCP_2024-06-17_191040064, 769710-SH_GRADS_VCP_2024-06-17_191090858, 769711-SH_GRADS_VCP_2024-06-17_191654927, 769712-SH_GRADS_VCP_2024-06-17_192568288, 769713-SH_GRADS_VCP_2024-06-17_193837381, 769714-SH_GRADS_VCP_2024-06-17_193844774, 769715-SH_GRADS_VCP_2024-06-17_193946904, 769716-SH_GRADS_VCP_2024-06-17_195840684, 769717-SH_GRADS_VCP_2024-06-17_196497301, 769718-SH_GRADS_VCP_2024-06-17_196696853, 769719-SH_GRADS_VCP_2024-06-17_197625216, 769720-SH_GRADS_VCP_2024-06-17_197811498, 769722-SH_GRADS_VCP_2024-06-17_198142814, 769721-SH_GRADS_VCP_2024-06-17_198205194, 769723-SH_GRADS_VCP_2024-06-17_198477388, 769724-SH_GRADS_VCP_2024-06-17_200052854, 769726-SH_GRADS_VCP_2024-06-17_201706312, 769725-SH_GRADS_VCP_2024-06-17_203398298, 769727-SH_GRADS_VCP_2024-06-17_204172215, 769728-SH_GRADS_VCP_2024-06-17_204560082, 769729-SH_GRADS_VCP_2024-06-17_204583588, 769730-SH_GRADS_VCP_2024-06-17_204616111, 769731-SH_GRADS_VCP_2024-06-17_204679297, 769732-SH_GRADS_VCP_2024-06-17_204735252, 769733-SH_GRADS_VCP_2024-06-17_208686028, 769734-SH_GRADS_VCP_2024-06-17_209264917, 769735-SH_GRADS_VCP_2024-06-17_210280411, 769736-SH_GRADS_VCP_2024-06-17_211490365, 769737-SH_GRADS_VCP_2024-06-17_211582449, 769738-SH_GRADS_VCP_2024-06-17_212228743, 769739-SH_GRADS_VCP_2024-06-17_215229498, 769740-SH_GRADS_VCP_2024-06-17_215274458, 769741-SH_GRADS_VCP_2024-06-17_216003760, 769742-SH_GRADS_VCP_2024-06-17_218640374, 769743-SH_GRADS_VCP_2024-06-17_220402482, 769744-SH_GRADS_VCP_2024-06-17_224152783, 769745-SH_GRADS_VCP_2024-06-17_224566308, 769746-SH_GRADS_VCP_2024-06-17_224577584, 769747-SH_GRADS_VCP_2024-06-17_224742091, 769750-SH_GRADS_VCP_2024-06-17_225253954, 769748-SH_GRADS_VCP_2024-06-17_226967088, 769749-SH_GRADS_VCP_2024-06-17_227807046, 769751-SH_GRADS_VCP_2024-06-17_229061193, 769756-SH_GRADS_VCP_2024-06-17_236584893, 769755-SH_GRADS_VCP_2024-06-17_238287135, 769754-SH_GRADS_VCP_2024-06-17_243090690, 769752-SH_GRADS_VCP_2024-06-17_243933205, 769753-SH_GRADS_VCP_2024-06-17_245504052, 769757-SH_GRADS_VCP_2024-06-17_247513370, 769758-SH_GRADS_VCP_2024-06-17_248506922, 769759-SH_GRADS_VCP_2024-06-17_248594284, 769760-SH_GRADS_VCP_2024-06-17_251014760, 769761-SH_GRADS_VCP_2024-06-17_251726724, 769762-SH_GRADS_VCP_2024-06-17_252472507, 769763-SH_GRADS_VCP_2024-06-17_253167183, 769765-SH_GRADS_VCP_2024-06-17_254863873, 769764-SH_GRADS_VCP_2024-06-17_256315672, 769766-SH_GRADS_VCP_2024-06-17_259003935, 769767-SH_GRADS_VCP_2024-06-17_259802350, 769768-SH_GRADS_VCP_2024-06-17_261170771, 769769-SH_GRADS_VCP_2024-06-17_263755731, 769770-SH_GRADS_VCP_2024-06-17_265076493, 769773-SH_GRADS_VCP_2024-06-17_265537547, 769771-SH_GRADS_VCP_2024-06-17_274335942, 769772-SH_GRADS_VCP_2024-06-17_282659531, 769775-SH_GRADS_VCP_2024-06-17_283596568, 769774-SH_GRADS_VCP_2024-06-17_284537935, 769776-SH_GRADS_VCP_2024-06-17_284859282, 769778-SH_GRADS_VCP_2024-06-17_285609565, 769777-SH_GRADS_VCP_2024-06-17_285917963, 769779-SH_GRADS_VCP_2024-06-17_288314111, 769780-SH_GRADS_VCP_2024-06-17_288447706, 769781-SH_GRADS_VCP_2024-06-17_288888540, 769782-SH_GRADS_VCP_2024-06-17_289327086, 769783-SH_GRADS_VCP_2024-06-17_290863606, 769784-SH_GRADS_VCP_2024-06-17_291922863, 769786-SH_GRADS_VCP_2024-06-17_292498777, 769785-SH_GRADS_VCP_2024-06-17_293454860, 769787-SH_GRADS_VCP_2024-06-17_295932319, 769788-SH_GRADS_VCP_2024-06-17_296892799, 769789-SH_GRADS_VCP_2024-06-17_305073742, 769790-SH_GRADS_VCP_2024-06-17_305802438, 769791-SH_GRADS_VCP_2024-06-17_306003232, 769792-SH_GRADS_VCP_2024-06-17_306413003, 769793-SH_GRADS_VCP_2024-06-17_311149709, 769794-SH_GRADS_VCP_2024-06-17_315316686, 769795-SH_GRADS_VCP_2024-06-17_319536872, 769796-SH_GRADS_VCP_2024-06-17_319609976, 769798-SH_GRADS_VCP_2024-06-17_323731858, 769797-SH_GRADS_VCP_2024-06-17_328230220, 769800-SH_GRADS_VCP_2024-06-17_331017460, 769799-SH_GRADS_VCP_2024-06-17_331044831, 769801-SH_GRADS_VCP_2024-06-17_331596040, 769806-SH_GRADS_VCP_2024-06-17_332218414, 769802-SH_GRADS_VCP_2024-06-17_335534302, 769803-SH_GRADS_VCP_2024-06-17_336144347, 769805-SH_GRADS_VCP_2024-06-17_337043899, 769804-SH_GRADS_VCP_2024-06-17_338303495, 769807-SH_GRADS_VCP_2024-06-17_338889018, 769808-SH_GRADS_VCP_2024-06-17_341103072, 769811-SH_GRADS_VCP_2024-06-17_341267239, 769810-SH_GRADS_VCP_2024-06-17_341736709, 769809-SH_GRADS_VCP_2024-06-17_342752144, 769812-SH_GRADS_VCP_2024-06-17_343149851, 769813-SH_GRADS_VCP_2024-06-17_343360158, 769814-SH_GRADS_VCP_2024-06-17_343456638, 769816-SH_GRADS_VCP_2024-06-17_343886560, 769817-SH_GRADS_VCP_2024-06-17_343954159, 769818-SH_GRADS_VCP_2024-06-17_344126190, 769815-SH_GRADS_VCP_2024-06-17_344170515, 769819-SH_GRADS_VCP_2024-06-17_344251628, 769820-SH_GRADS_VCP_2024-06-17_344436331, 769821-SH_GRADS_VCP_2024-06-17_344675953, 769822-SH_GRADS_VCP_2024-06-17_344772465, 769823-SH_GRADS_VCP_2024-06-17_346353968, 769824-SH_GRADS_VCP_2024-06-17_346484813, 769825-SH_GRADS_VCP_2024-06-17_346496800, 769826-SH_GRADS_VCP_2024-06-17_346730645, 769827-SH_GRADS_VCP_2024-06-17_347172309, 769828-SH_GRADS_VCP_2024-06-17_347406218, 769829-SH_GRADS_VCP_2024-06-17_347608860, 769830-SH_GRADS_VCP_2024-06-17_347740981, 769831-SH_GRADS_VCP_2024-06-17_347770916, 769832-SH_GRADS_VCP_2024-06-17_347826698, 769833-SH_GRADS_VCP_2024-06-17_348689046, 769834-SH_GRADS_VCP_2024-06-17_348981138, 769835-SH_GRADS_VCP_2024-06-17_348992701, 769837-SH_GRADS_VCP_2024-06-17_349016256, 769836-SH_GRADS_VCP_2024-06-17_349055418, 769838-SH_GRADS_VCP_2024-06-17_349496008, 769839-SH_GRADS_VCP_2024-06-17_350095151, 769840-SH_GRADS_VCP_2024-06-17_350212130, 769841-SH_GRADS_VCP_2024-06-17_350383743, 769842-SH_GRADS_VCP_2024-06-17_350461512, 769843-SH_GRADS_VCP_2024-06-17_350857071, 769844-SH_GRADS_VCP_2024-06-17_350861567, 769845-SH_GRADS_VCP_2024-06-17_351083792, 769846-SH_GRADS_VCP_2024-06-17_351100791, 769848-SH_GRADS_VCP_2024-06-17_351224624, 769847-SH_GRADS_VCP_2024-06-17_351535378, 769849-SH_GRADS_VCP_2024-06-17_351920900, 769850-SH_GRADS_VCP_2024-06-17_352135706, 769851-SH_GRADS_VCP_2024-06-17_352268385, 769854-SH_GRADS_VCP_2024-06-17_352505430, 769855-SH_GRADS_VCP_2024-06-17_352514267, 769853-SH_GRADS_VCP_2024-06-17_352530223, 769852-SH_GRADS_VCP_2024-06-17_352768920, 769856-SH_GRADS_VCP_2024-06-17_352874719, 769857-SH_GRADS_VCP_2024-06-17_353538153, 769859-SH_GRADS_VCP_2024-06-17_353682933, 769858-SH_GRADS_VCP_2024-06-17_353734040, 769860-SH_GRADS_VCP_2024-06-17_354097222, 769861-SH_GRADS_VCP_2024-06-17_354099478, 769862-SH_GRADS_VCP_2024-06-17_354135975, 769863-SH_GRADS_VCP_2024-06-17_354199762, 769865-SH_GRADS_VCP_2024-06-17_354334930, 769864-SH_GRADS_VCP_2024-06-17_354456434, 769867-SH_GRADS_VCP_2024-06-17_354748127, 769866-SH_GRADS_VCP_2024-06-17_354831368, 769868-SH_GRADS_VCP_2024-06-17_354834986, 769869-SH_GRADS_VCP_2024-06-17_355051204, 769870-SH_GRADS_VCP_2024-06-17_355102927, 769871-SH_GRADS_VCP_2024-06-17_355213495, 769872-SH_GRADS_VCP_2024-06-17_355247900, 769873-SH_GRADS_VCP_2024-06-17_355635280, 769874-SH_GRADS_VCP_2024-06-17_355640456, 769875-SH_GRADS_VCP_2024-06-17_355741304, 769876-SH_GRADS_VCP_2024-06-17_355947891, 769878-SH_GRADS_VCP_2024-06-17_355995308, 769877-SH_GRADS_VCP_2024-06-17_356203101, 769879-SH_GRADS_VCP_2024-06-17_356421599, 769880-SH_GRADS_VCP_2024-06-17_356642675, 769881-SH_GRADS_VCP_2024-06-17_356956038, 769884-SH_GRADS_VCP_2024-06-17_357028642, 769882-SH_GRADS_VCP_2024-06-17_357415896, 769883-SH_GRADS_VCP_2024-06-17_357584870, 769885-SH_GRADS_VCP_2024-06-17_357619188, 769886-SH_GRADS_VCP_2024-06-17_357784303, 769887-SH_GRADS_VCP_2024-06-17_357923778, 769888-SH_GRADS_VCP_2024-06-17_358777488, 769891-SH_GRADS_VCP_2024-06-17_358964476, 769889-SH_GRADS_VCP_2024-06-17_359312382, 769890-SH_GRADS_VCP_2024-06-17_359468804, 769892-SH_GRADS_VCP_2024-06-17_359724822, 769893-SH_GRADS_VCP_2024-06-17_359911727, 769896-SH_GRADS_VCP_2024-06-17_359955192, 769894-SH_GRADS_VCP_2024-06-17_360105059, 769895-SH_GRADS_VCP_2024-06-17_360494125, 769897-SH_GRADS_VCP_2024-06-17_360859737, 769898-SH_GRADS_VCP_2024-06-17_361137102, 769899-SH_GRADS_VCP_2024-06-17_361165284, 769901-SH_GRADS_VCP_2024-06-17_361206715, 769900-SH_GRADS_VCP_2024-06-17_361261198, 769906-SH_GRADS_VCP_2024-06-17_361278845, 769905-SH_GRADS_VCP_2024-06-17_361292560, 769903-SH_GRADS_VCP_2024-06-17_361723500, 769902-SH_GRADS_VCP_2024-06-17_362055496, 769904-SH_GRADS_VCP_2024-06-17_362428452, 769907-SH_GRADS_VCP_2024-06-17_362581747, 769908-SH_GRADS_VCP_2024-06-17_362636526, 769911-SH_GRADS_VCP_2024-06-17_362676507, 769910-SH_GRADS_VCP_2024-06-17_363212092, 769909-SH_GRADS_VCP_2024-06-17_363217069, 769912-SH_GRADS_VCP_2024-06-17_363902180, 769913-SH_GRADS_VCP_2024-06-17_363960624, 769914-SH_GRADS_VCP_2024-06-17_364156938, 769916-SH_GRADS_VCP_2024-06-17_364578235, 769917-SH_GRADS_VCP_2024-06-17_364596456, 769915-SH_GRADS_VCP_2024-06-17_364675756, 769918-SH_GRADS_VCP_2024-06-17_365249388, 769919-SH_GRADS_VCP_2024-06-17_366032353, 769920-SH_GRADS_VCP_2024-06-17_366140718, 769921-SH_GRADS_VCP_2024-06-17_366510120, 769924-SH_GRADS_VCP_2024-06-17_366587061, 769923-SH_GRADS_VCP_2024-06-17_366601726, 769922-SH_GRADS_VCP_2024-06-17_366832020, 769925-SH_GRADS_VCP_2024-06-17_366863551, 769926-SH_GRADS_VCP_2024-06-17_366920369, 769927-SH_GRADS_VCP_2024-06-17_366957122, 769928-SH_GRADS_VCP_2024-06-17_367979571, 769929-SH_GRADS_VCP_2024-06-17_368538295, 769930-SH_GRADS_VCP_2024-06-17_368716016, 769931-SH_GRADS_VCP_2024-06-17_368841675, 769932-SH_GRADS_VCP_2024-06-17_368933840, 769933-SH_GRADS_VCP_2024-06-17_368998923, 769934-SH_GRADS_VCP_2024-06-17_369047370, 769935-SH_GRADS_VCP_2024-06-17_369267810, 769937-SH_GRADS_VCP_2024-06-17_369287910, 769936-SH_GRADS_VCP_2024-06-17_369804595, 769938-SH_GRADS_VCP_2024-06-17_369823130, 769939-SH_GRADS_VCP_2024-06-17_369866274, 769940-SH_GRADS_VCP_2024-06-17_369867355, 769941-SH_GRADS_VCP_2024-06-17_369877000, 769943-SH_GRADS_VCP_2024-06-17_369895499, 769942-SH_GRADS_VCP_2024-06-17_369938522, 769944-SH_GRADS_VCP_2024-06-17_370000637, 769945-SH_GRADS_VCP_2024-06-17_370021456, 769946-SH_GRADS_VCP_2024-06-17_370223888, 769947-SH_GRADS_VCP_2024-06-17_370229007, 769948-SH_GRADS_VCP_2024-06-17_370253963, 769949-SH_GRADS_VCP_2024-06-17_370254473, 769950-SH_GRADS_VCP_2024-06-17_370254479, 769951-SH_GRADS_VCP_2024-06-17_370273722, 769956-SH_GRADS_VCP_2024-06-17_370294355, 769954-SH_GRADS_VCP_2024-06-17_370316706, 769953-SH_GRADS_VCP_2024-06-17_370324510, 769952-SH_GRADS_VCP_2024-06-17_370410530, 769955-SH_GRADS_VCP_2024-06-17_370435752, 769957-SH_GRADS_VCP_2024-06-17_370436058, 769959-SH_GRADS_VCP_2024-06-17_370443946, 769958-SH_GRADS_VCP_2024-06-17_370469164, 769961-SH_GRADS_VCP_2024-06-17_370509472, 769962-SH_GRADS_VCP_2024-06-17_370517596, 769960-SH_GRADS_VCP_2024-06-17_370526656, 769963-SH_GRADS_VCP_2024-06-17_370544909, 769964-SH_GRADS_VCP_2024-06-17_370661238, 769966-SH_GRADS_VCP_2024-06-17_370665622, 769967-SH_GRADS_VCP_2024-06-17_370678532, 769965-SH_GRADS_VCP_2024-06-17_370679465, 769968-SH_GRADS_VCP_2024-06-17_370700585, 769969-SH_GRADS_VCP_2024-06-17_370728359, 769970-SH_GRADS_VCP_2024-06-17_370739607, 769971-SH_GRADS_VCP_2024-06-17_370746834, 769972-SH_GRADS_VCP_2024-06-17_370784650, 769973-SH_GRADS_VCP_2024-06-17_370829001, 769974-SH_GRADS_VCP_2024-06-17_370863723, 769975-SH_GRADS_VCP_2024-06-17_370880914, 769976-SH_GRADS_VCP_2024-06-17_370885219, 769977-SH_GRADS_VCP_2024-06-17_370888208, 769978-SH_GRADS_VCP_2024-06-17_370910967, 769979-SH_GRADS_VCP_2024-06-17_370919343, 769980-SH_GRADS_VCP_2024-06-17_370927564, 769981-SH_GRADS_VCP_2024-06-17_370927799, 769982-SH_GRADS_VCP_2024-06-17_370942329, 769983-SH_GRADS_VCP_2024-06-17_370944748, 769984-SH_GRADS_VCP_2024-06-17_370952208, 769985-SH_GRADS_VCP_2024-06-17_370977325, 769986-SH_GRADS_VCP_2024-06-17_370977655, 769987-SH_GRADS_VCP_2024-06-17_370978924, 769989-SH_GRADS_VCP_2024-06-17_370987632, 769988-SH_GRADS_VCP_2024-06-17_370996067, 769990-SH_GRADS_VCP_2024-06-17_371006116, 769991-SH_GRADS_VCP_2024-06-17_371012581, 769992-SH_GRADS_VCP_2024-06-17_371032854, 769993-SH_GRADS_VCP_2024-06-17_371084961, 769994-SH_GRADS_VCP_2024-06-17_371110825, 769995-SH_GRADS_VCP_2024-06-17_371115504, 769996-SH_GRADS_VCP_2024-06-17_371116939, 769997-SH_GRADS_VCP_2024-06-17_371116979, 769998-SH_GRADS_VCP_2024-06-17_371123104, 769999-SH_GRADS_VCP_2024-06-17_371149631, 770000-SH_GRADS_VCP_2024-06-17_371266014, 770005-SH_GRADS_VCP_2024-06-17_371267879, 770001-SH_GRADS_VCP_2024-06-17_371269627, 770004-SH_GRADS_VCP_2024-06-17_371280226, 770003-SH_GRADS_VCP_2024-06-17_371290828, 770002-SH_GRADS_VCP_2024-06-17_371299156, 770006-SH_GRADS_VCP_2024-06-17_371333225, 770007-SH_GRADS_VCP_2024-06-17_371333262, 770008-SH_GRADS_VCP_2024-06-17_371361746, 770009-SH_GRADS_VCP_2024-06-17_371361753, 770011-SH_GRADS_VCP_2024-06-17_371366133, 770010-SH_GRADS_VCP_2024-06-17_371385367, 770012-SH_GRADS_VCP_2024-06-17_371385442, 770013-SH_GRADS_VCP_2024-06-17_371398472, 770015-SH_GRADS_VCP_2024-06-17_371399574, 770014-SH_GRADS_VCP_2024-06-17_371460717, 770016-SH_GRADS_VCP_2024-06-17_371462311, 770017-SH_GRADS_VCP_2024-06-17_371476902, 770018-SH_GRADS_VCP_2024-06-17_371491842, 770019-SH_GRADS_VCP_2024-06-17_371502003, 770021-SH_GRADS_VCP_2024-06-17_371504667, 770020-SH_GRADS_VCP_2024-06-17_371527445, 770023-SH_GRADS_VCP_2024-06-17_371530443, 770022-SH_GRADS_VCP_2024-06-17_371537147, 770024-SH_GRADS_VCP_2024-06-17_371539446, 770025-SH_GRADS_VCP_2024-06-17_371540359, 770026-SH_GRADS_VCP_2024-06-17_371541322, 770027-SH_GRADS_VCP_2024-06-17_371544117, 770029-SH_GRADS_VCP_2024-06-17_371561603, 770028-SH_GRADS_VCP_2024-06-17_371570538, 770030-SH_GRADS_VCP_2024-06-17_371594240, 770031-SH_GRADS_VCP_2024-06-17_371594601, 770032-SH_GRADS_VCP_2024-06-17_371597836, 770033-SH_GRADS_VCP_2024-06-17_371644119, 770034-SH_GRADS_VCP_2024-06-17_371658490, 770035-SH_GRADS_VCP_2024-06-17_371664531, 770036-SH_GRADS_VCP_2024-06-17_371671717, 770037-SH_GRADS_VCP_2024-06-17_371683096, 770040-SH_GRADS_VCP_2024-06-17_371683314, 770039-SH_GRADS_VCP_2024-06-17_371701146, 770038-SH_GRADS_VCP_2024-06-17_371740451, 770041-SH_GRADS_VCP_2024-06-17_371745645, 770042-SH_GRADS_VCP_2024-06-17_371753811, 770043-SH_GRADS_VCP_2024-06-17_371753888, 770046-SH_GRADS_VCP_2024-06-17_371766215, 770045-SH_GRADS_VCP_2024-06-17_371766298, 770044-SH_GRADS_VCP_2024-06-17_371778587, 770047-SH_GRADS_VCP_2024-06-17_371895580, 770048-SH_GRADS_VCP_2024-06-17_371904462, 770049-SH_GRADS_VCP_2024-06-17_371914154, 770051-SH_GRADS_VCP_2024-06-17_371916312, 770050-SH_GRADS_VCP_2024-06-17_371935935, 770055-SH_GRADS_VCP_2024-06-17_371977777, 770054-SH_GRADS_VCP_2024-06-17_371980650, 770053-SH_GRADS_VCP_2024-06-17_371980693, 770052-SH_GRADS_VCP_2024-06-17_372095730, 770056-SH_GRADS_VCP_2024-06-17_372101493, 770057-SH_GRADS_VCP_2024-06-17_372183951, 770059-SH_GRADS_VCP_2024-06-17_372191376, 770060-SH_GRADS_VCP_2024-06-17_372256875, 770061-SH_GRADS_VCP_2024-06-17_372491476, 770058-SH_GRADS_VCP_2024-06-17_372507855, 770062-SH_GRADS_VCP_2024-06-17_372583371]'"
      ]
     },
     "execution_count": 52,
     "metadata": {},
     "output_type": "execute_result"
    }
   ],
   "source": [
    "response.text"
   ]
  },
  {
   "cell_type": "code",
   "execution_count": 53,
   "metadata": {},
   "outputs": [],
   "source": [
    "sgt = [(int(x[:6]),x[7:]) for x in list(map(str.strip, response.text[32:].strip('][').replace('\"', '').split(',')))]"
   ]
  },
  {
   "cell_type": "code",
   "execution_count": 54,
   "metadata": {},
   "outputs": [],
   "source": [
    "for i in global_offer_csv.offer_name:\n",
    "    for j,z in sgt:\n",
    "        if z==i:\n",
    "            global_offer_csv.loc[global_offer_csv.offer_name == i, ('customer_segment_id')] = j\n",
    "            break"
   ]
  },
  {
   "cell_type": "code",
   "execution_count": 55,
   "metadata": {},
   "outputs": [
    {
     "data": {
      "text/plain": [
       "count    412.000000\n",
       "mean       8.462184\n",
       "std        0.234685\n",
       "min        5.900000\n",
       "25%        8.500000\n",
       "50%        8.500000\n",
       "75%        8.500000\n",
       "max        8.500000\n",
       "Name: discount, dtype: float64"
      ]
     },
     "execution_count": 55,
     "metadata": {},
     "output_type": "execute_result"
    }
   ],
   "source": [
    "global_offer_csv.discount.describe()"
   ]
  },
  {
   "cell_type": "code",
   "execution_count": 56,
   "metadata": {},
   "outputs": [
    {
     "name": "stdout",
     "output_type": "stream",
     "text": [
      "<class 'pandas.core.frame.DataFrame'>\n",
      "Int64Index: 412 entries, 0 to 411\n",
      "Data columns (total 13 columns):\n",
      " #   Column                        Non-Null Count  Dtype  \n",
      "---  ------                        --------------  -----  \n",
      " 0   offer_name                    412 non-null    object \n",
      " 1   offer_description             0 non-null      object \n",
      " 2   discount                      412 non-null    float64\n",
      " 3   automatically_consider_offer  412 non-null    object \n",
      " 4   start_date                    412 non-null    object \n",
      " 5   end_date                      412 non-null    object \n",
      " 6   max_uses_per_order            412 non-null    int64  \n",
      " 7   max_uses_per_customer         412 non-null    int64  \n",
      " 8   customer_segment_id           412 non-null    int64  \n",
      " 9   sku_id                        412 non-null    object \n",
      " 10  segment_behaviour             412 non-null    object \n",
      " 11  offer_type                    412 non-null    object \n",
      " 12  supplier_discount             412 non-null    int64  \n",
      "dtypes: float64(1), int64(4), object(8)\n",
      "memory usage: 45.1+ KB\n"
     ]
    }
   ],
   "source": [
    "global_offer_csv.info()"
   ]
  },
  {
   "cell_type": "code",
   "execution_count": 57,
   "metadata": {},
   "outputs": [],
   "source": [
    "#//--------------------------------------------\n",
    "#//Exporting single file data\n",
    "global_offer_csv.to_csv(f'{todays_date}_SH_FARMING_{city}_OFFER_csv.csv', index = False)"
   ]
  }
 ],
 "metadata": {
  "kernelspec": {
   "display_name": "Python 3",
   "language": "python",
   "name": "python3"
  },
  "language_info": {
   "codemirror_mode": {
    "name": "ipython",
    "version": 3
   },
   "file_extension": ".py",
   "mimetype": "text/x-python",
   "name": "python",
   "nbconvert_exporter": "python",
   "pygments_lexer": "ipython3",
   "version": "3.7.9"
  },
  "orig_nbformat": 4
 },
 "nbformat": 4,
 "nbformat_minor": 2
}
