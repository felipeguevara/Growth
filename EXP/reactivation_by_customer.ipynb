{
 "cells": [
  {
   "cell_type": "code",
   "execution_count": 1,
   "metadata": {},
   "outputs": [],
   "source": [
    "#//----------------------------\n",
    "#//LIBRARIES\n",
    "    #Math\n",
    "import math\n",
    "    #Numeric Python\n",
    "import numpy as np\n",
    "    #Pandas (dataframes)\n",
    "import pandas as pd\n",
    "    #datetime for fate manipulation\n",
    "from datetime import date, datetime, timedelta  \n",
    "    #Regex for advanced string matching\n",
    "import re\n",
    "    #for time related stuff\n",
    "import time\n",
    "    #json library\n",
    "import json\n",
    "    #Analyst tools\n",
    "import sys\n",
    "sys.path.append('../')\n",
    "from analysts_tools.growth import *\n",
    "    #Procurement tools\n",
    "from procurement_lib import send_slack_notification\n",
    "from procurement_lib import redash\n",
    "from analysts_tools.redash_methods import *\n",
    "from analystcommunity.read_connection_data_warehouse import run_read_dwd_query\n",
    "\n",
    "import random\n",
    "import time\n",
    "import datetime\n",
    "\n",
    "import seaborn as sns\n",
    "import matplotlib.pyplot as plt\n",
    "\n",
    "\n",
    "from sklearn.model_selection import train_test_split\n",
    "from scipy.signal import savgol_filter\n",
    "import statsmodels.formula.api as smf"
   ]
  },
  {
   "cell_type": "code",
   "execution_count": 2,
   "metadata": {},
   "outputs": [
    {
     "name": "stdout",
     "output_type": "stream",
     "text": [
      "200\n"
     ]
    }
   ],
   "source": [
    "frida_products = get_fresh_query_result(\"https://internal-redash.federate.frubana.com/\",118629,'SeoGHWmDUaaBi7VXje1s9zYNiMD1VHQ1K1DYOxiF',{},20)"
   ]
  },
  {
   "cell_type": "code",
   "execution_count": 3,
   "metadata": {},
   "outputs": [
    {
     "name": "stdout",
     "output_type": "stream",
     "text": [
      "200\n"
     ]
    }
   ],
   "source": [
    "users_eliminar_pro = get_fresh_query_result(\"https://internal-redash.federate.frubana.com/\",206229,'SeoGHWmDUaaBi7VXje1s9zYNiMD1VHQ1K1DYOxiF',{},20)\n",
    "users_eliminar_pro[['user_id']] = users_eliminar_pro[['user_id']].astype(int)"
   ]
  },
  {
   "cell_type": "code",
   "execution_count": 4,
   "metadata": {},
   "outputs": [],
   "source": [
    "custom = pd.read_csv(\"push customers - customers.csv\")"
   ]
  },
  {
   "cell_type": "code",
   "execution_count": 58,
   "metadata": {},
   "outputs": [
    {
     "name": "stdout",
     "output_type": "stream",
     "text": [
      "HOLA SPO\n"
     ]
    }
   ],
   "source": [
    "print(f\"HOLA {city}\")"
   ]
  },
  {
   "cell_type": "code",
   "execution_count": 32,
   "metadata": {},
   "outputs": [],
   "source": [
    "city = 'SPO'\n",
    "\n",
    "#users to delete for security checks\n",
    "users_eliminar = users_eliminar_pro.loc[users_eliminar_pro.region_code == city]['user_id'].unique().tolist()\n",
    "clientes = custom.loc[(custom.city == city) & (~custom.customer_id.isin(users_eliminar))].customer_id.unique().tolist()\n",
    "\n",
    "todays_date = datetime.datetime.today().strftime('%Y-%m-%d')\n",
    "dias = 0 #days to be the offer active"
   ]
  },
  {
   "cell_type": "code",
   "execution_count": 33,
   "metadata": {},
   "outputs": [
    {
     "data": {
      "text/plain": [
       "5218"
      ]
     },
     "execution_count": 33,
     "metadata": {},
     "output_type": "execute_result"
    }
   ],
   "source": [
    "len(clientes)"
   ]
  },
  {
   "cell_type": "code",
   "execution_count": 34,
   "metadata": {},
   "outputs": [],
   "source": [
    "query = \"\"\"\n",
    "SELECT\n",
    "    s.identifier_value AS city,\n",
    "    dc.source_id AS customer_id,\n",
    "    dp.card_id,\n",
    "    dp.card_description AS product_name,\n",
    "    COUNT(DISTINCT fs.order_id) AS frequency,\n",
    "    SUM(fs.product_quantity_x_step_unit) AS demand,\n",
    "    SUM(fs.gmv_pxq_local)/4.75 AS gmv_usd,\n",
    "    SUM(COALESCE(fsd.product_discount,0))/4.75 AS discount_applied,\n",
    "    100.00*discount_applied/gmv_usd AS per_dct,\n",
    "    (1-(SUM(cogs_p_mtd*fs.product_quantity_x_step_unit)/SUM(fs.product_price*fs.product_quantity_x_step_unit)))*100.00 AS margin,\n",
    "    gmv_usd*margin/100.00 AS cash_margin,\n",
    "    cash_margin-discount_applied AS net_cash_margin,\n",
    "    100.00*net_cash_margin/gmv_usd AS net_margin\n",
    "    \n",
    "FROM dpr_sales.fact_sales                   fs\n",
    "INNER JOIN dpr_shared.dim_customer          dc  ON dc.customer_id = fs.dim_customer\n",
    "INNER JOIN dpr_shared.dim_site              s   ON s.site_id = fs.dim_site\n",
    "INNER JOIN dpr_shared.dim_product           dp  ON dp.product_id = fs.dim_product\n",
    "INNER JOIN dpr_shared.dim_category          cat ON cat.category_id = dp.category_id\n",
    "LEFT JOIN dpr_sales.fact_sales_discounts    fsd ON fs.order_item_id = fsd.order_item_id \n",
    "INNER JOIN dpr_shared.dim_stock_unit        su  ON su.product_id = fs.dim_product\n",
    "INNER JOIN dpr_shared.dim_stock_unit        sup  ON nvl(nullif(su.source_parent_id,0),su.source_id) = sup.source_id\n",
    "LEFT JOIN dpr_cross_business.fact_cross_business_insights m ON m.dim_stock_unit = sup.stock_unit_id AND m.dim_date = fs.dim_submitted_date\n",
    "\n",
    "WHERE \n",
    "    fs.gmv_enabled = TRUE\n",
    "    AND fulfillment_order_status NOT IN ('CANCELLED', 'ARCHIVED','No value')\n",
    "    AND fs.fb_order_status_id IN (1,6,7,8)\n",
    "    AND fs.is_deleted = FALSE\n",
    "    AND fs.dim_status = 1\n",
    "    AND dp.is_slot = 'false'\n",
    "    AND fs.gmv_pxq_local > 0\n",
    "    AND cogs_p_mtd > 0\n",
    "    AND cat.description NOT IN ('Leite','Arroz')\n",
    "    AND s.identifier_value = '{city}'\n",
    "    AND dc.source_id IN {clientes}\n",
    "    AND DATE(fs.order_submitted_date) > DATE(current_date) - 120\n",
    "\n",
    "    \n",
    "GROUP BY 1,2,3,4\n",
    "\"\"\".format(clientes=tuple(set(clientes)), city = city)\n",
    "\n",
    "data_ventas_aux = run_read_dwd_query(query)\n",
    "data_ventas_aux[[\"frequency\", \"gmv_usd\",\"demand\",\"net_cash_margin\",\"cash_margin\"]] = data_ventas_aux[[\"frequency\", \"gmv_usd\",\"demand\",\"net_cash_margin\",\"cash_margin\"]].astype('float32')"
   ]
  },
  {
   "cell_type": "code",
   "execution_count": 35,
   "metadata": {},
   "outputs": [
    {
     "name": "stdout",
     "output_type": "stream",
     "text": [
      "61914\n"
     ]
    }
   ],
   "source": [
    "# Optional to clean the EagleEye\n",
    "print(len(data_ventas_aux))"
   ]
  },
  {
   "cell_type": "code",
   "execution_count": 36,
   "metadata": {},
   "outputs": [],
   "source": [
    "df_aux1 = data_ventas_aux.groupby('customer_id').agg({'gmv_usd':np.sum,'cash_margin':np.sum, 'net_cash_margin':np.sum}).reset_index()\n",
    "df_aux1['margin'] = df_aux1.cash_margin / df_aux1.gmv_usd\n",
    "df_aux1['net_margin'] = df_aux1.net_cash_margin / df_aux1.gmv_usd"
   ]
  },
  {
   "cell_type": "code",
   "execution_count": 37,
   "metadata": {},
   "outputs": [
    {
     "data": {
      "text/html": [
       "<div>\n",
       "<style scoped>\n",
       "    .dataframe tbody tr th:only-of-type {\n",
       "        vertical-align: middle;\n",
       "    }\n",
       "\n",
       "    .dataframe tbody tr th {\n",
       "        vertical-align: top;\n",
       "    }\n",
       "\n",
       "    .dataframe thead th {\n",
       "        text-align: right;\n",
       "    }\n",
       "</style>\n",
       "<table border=\"1\" class=\"dataframe\">\n",
       "  <thead>\n",
       "    <tr style=\"text-align: right;\">\n",
       "      <th></th>\n",
       "      <th>customer_id</th>\n",
       "      <th>gmv_usd</th>\n",
       "      <th>cash_margin</th>\n",
       "      <th>net_cash_margin</th>\n",
       "      <th>margin</th>\n",
       "      <th>net_margin</th>\n",
       "    </tr>\n",
       "  </thead>\n",
       "  <tbody>\n",
       "    <tr>\n",
       "      <th>count</th>\n",
       "      <td>5.114000e+03</td>\n",
       "      <td>5114.000000</td>\n",
       "      <td>5114.000000</td>\n",
       "      <td>5114.000000</td>\n",
       "      <td>5114.000000</td>\n",
       "      <td>5114.000000</td>\n",
       "    </tr>\n",
       "    <tr>\n",
       "      <th>mean</th>\n",
       "      <td>2.610126e+08</td>\n",
       "      <td>282.608612</td>\n",
       "      <td>45.705032</td>\n",
       "      <td>37.772324</td>\n",
       "      <td>0.173587</td>\n",
       "      <td>0.147074</td>\n",
       "    </tr>\n",
       "    <tr>\n",
       "      <th>std</th>\n",
       "      <td>1.240380e+08</td>\n",
       "      <td>516.817688</td>\n",
       "      <td>85.658051</td>\n",
       "      <td>75.421051</td>\n",
       "      <td>0.071899</td>\n",
       "      <td>0.080452</td>\n",
       "    </tr>\n",
       "    <tr>\n",
       "      <th>min</th>\n",
       "      <td>1.936076e+07</td>\n",
       "      <td>2.722000</td>\n",
       "      <td>-2.579720</td>\n",
       "      <td>-228.092331</td>\n",
       "      <td>-0.061000</td>\n",
       "      <td>-0.305128</td>\n",
       "    </tr>\n",
       "    <tr>\n",
       "      <th>25%</th>\n",
       "      <td>1.431290e+08</td>\n",
       "      <td>60.521700</td>\n",
       "      <td>9.782840</td>\n",
       "      <td>7.572865</td>\n",
       "      <td>0.123691</td>\n",
       "      <td>0.092042</td>\n",
       "    </tr>\n",
       "    <tr>\n",
       "      <th>50%</th>\n",
       "      <td>3.454860e+08</td>\n",
       "      <td>130.832001</td>\n",
       "      <td>21.101618</td>\n",
       "      <td>16.665596</td>\n",
       "      <td>0.160568</td>\n",
       "      <td>0.134280</td>\n",
       "    </tr>\n",
       "    <tr>\n",
       "      <th>75%</th>\n",
       "      <td>3.667850e+08</td>\n",
       "      <td>294.405128</td>\n",
       "      <td>45.422925</td>\n",
       "      <td>36.783345</td>\n",
       "      <td>0.214900</td>\n",
       "      <td>0.195291</td>\n",
       "    </tr>\n",
       "    <tr>\n",
       "      <th>max</th>\n",
       "      <td>3.726699e+08</td>\n",
       "      <td>11634.284180</td>\n",
       "      <td>1771.037964</td>\n",
       "      <td>1685.203735</td>\n",
       "      <td>0.770474</td>\n",
       "      <td>0.758483</td>\n",
       "    </tr>\n",
       "  </tbody>\n",
       "</table>\n",
       "</div>"
      ],
      "text/plain": [
       "        customer_id       gmv_usd  cash_margin  net_cash_margin       margin  \\\n",
       "count  5.114000e+03   5114.000000  5114.000000      5114.000000  5114.000000   \n",
       "mean   2.610126e+08    282.608612    45.705032        37.772324     0.173587   \n",
       "std    1.240380e+08    516.817688    85.658051        75.421051     0.071899   \n",
       "min    1.936076e+07      2.722000    -2.579720      -228.092331    -0.061000   \n",
       "25%    1.431290e+08     60.521700     9.782840         7.572865     0.123691   \n",
       "50%    3.454860e+08    130.832001    21.101618        16.665596     0.160568   \n",
       "75%    3.667850e+08    294.405128    45.422925        36.783345     0.214900   \n",
       "max    3.726699e+08  11634.284180  1771.037964      1685.203735     0.770474   \n",
       "\n",
       "        net_margin  \n",
       "count  5114.000000  \n",
       "mean      0.147074  \n",
       "std       0.080452  \n",
       "min      -0.305128  \n",
       "25%       0.092042  \n",
       "50%       0.134280  \n",
       "75%       0.195291  \n",
       "max       0.758483  "
      ]
     },
     "execution_count": 37,
     "metadata": {},
     "output_type": "execute_result"
    }
   ],
   "source": [
    "df_aux1.describe()"
   ]
  },
  {
   "cell_type": "code",
   "execution_count": 38,
   "metadata": {},
   "outputs": [],
   "source": [
    "data_ventas_aux = data_ventas_aux.loc[data_ventas_aux.customer_id.isin(df_aux1.loc[df_aux1.net_margin > 0.12].customer_id.unique())].reset_index(drop=True)"
   ]
  },
  {
   "cell_type": "code",
   "execution_count": 39,
   "metadata": {},
   "outputs": [],
   "source": [
    "# Assuming your DataFrame is named 'df'\n",
    "grouped_df = data_ventas_aux.groupby('customer_id').apply(lambda x: x.nlargest(7, ['frequency', 'gmv_usd'])).reset_index(drop=True)\n",
    "\n",
    "result_df = grouped_df.groupby('customer_id').agg({'card_id': list, 'product_name': list, 'frequency': list, 'gmv_usd': np.sum, 'cash_margin': np.sum}).reset_index()\n",
    "\n",
    "result_df[\"margin\"] = 100.00 * result_df.cash_margin / result_df.gmv_usd\n",
    "result_df['margin'] = np.where(0.65*result_df.margin > 8.5, 8.5,0.65*result_df.margin)\n",
    "result_df['margin'] = result_df['margin'].apply(lambda x: round(x, 2))\n",
    "result_df['offer_name'] = [\"SH_GRADS_\"+city+\"_\"+todays_date+\"_\"+str(customer) for customer in result_df.customer_id]\n",
    "\n",
    "result_df = result_df.loc[result_df.margin > 3].copy()"
   ]
  },
  {
   "cell_type": "code",
   "execution_count": 40,
   "metadata": {},
   "outputs": [],
   "source": [
    "# Step 1: Convert 'card_id' column from lists to individual values\n",
    "df_exploded = result_df.explode('card_id')\n",
    "\n",
    "# Step 2: Count the occurrences of each card ID\n",
    "card_id_counts = df_exploded['card_id'].value_counts().reset_index()\n",
    "\n",
    "# Rename columns and set 'card_id' as the index\n",
    "card_id_counts.rename(columns={'index': 'card_id', 'card_id': 'frequency'}, inplace=True)\n",
    "\n",
    "# Calculate cumulative percentage and percentage over the total\n",
    "card_id_counts['cumulative_percentage'] = card_id_counts['frequency'].cumsum() / card_id_counts['frequency'].sum()\n",
    "card_id_counts['percentage_over_total'] = card_id_counts['frequency'] / card_id_counts['frequency'].sum()\n",
    "\n",
    "# Multiply by 100 and round to two decimal places\n",
    "card_id_counts['cumulative_percentage'] = (card_id_counts['cumulative_percentage'] * 100).round(2)\n",
    "card_id_counts['percentage_over_total'] = (card_id_counts['percentage_over_total'] * 100).round(2)"
   ]
  },
  {
   "cell_type": "code",
   "execution_count": 41,
   "metadata": {},
   "outputs": [],
   "source": [
    "def concatenate_skus(card_id_list):\n",
    "    result = []\n",
    "    for sku in card_id_list:\n",
    "        try:\n",
    "            sku_value = frida_products.loc[frida_products['id_tarjeta'] == sku, 'skus'].values[0]\n",
    "            result.append(sku_value)\n",
    "        except IndexError:\n",
    "            result.append('')\n",
    "    return '#'.join(result)"
   ]
  },
  {
   "cell_type": "code",
   "execution_count": 42,
   "metadata": {},
   "outputs": [],
   "source": [
    "from sklearn.model_selection import train_test_split \n",
    "\n",
    "def create_groups(offer):\n",
    "    \n",
    "    #customers = offer.customer_id.unique()\n",
    "    customers = offer.customer_id.unique()\n",
    "    print(\"Total length: \", len(customers))\n",
    "    customer_control, customer_test = train_test_split(customers, test_size = 0.50)\n",
    "    \n",
    "    alpha=0.01\n",
    "    aux=0\n",
    "    while abs(1-(offer[offer.customer_id.isin(customer_control)]['gmv_usd'].mean()/offer[offer.customer_id.isin(customer_test)]['gmv_usd'].mean())) > alpha:\n",
    "        customer_control, customer_test = train_test_split(customers, test_size = 0.50)\n",
    "        \n",
    "        aux+=1\n",
    "        if aux == 1000:\n",
    "            alpha+=0.01\n",
    "            aux=0\n",
    "        \n",
    "    return customer_control.tolist(), customer_test.tolist()"
   ]
  },
  {
   "cell_type": "code",
   "execution_count": 43,
   "metadata": {},
   "outputs": [
    {
     "name": "stdout",
     "output_type": "stream",
     "text": [
      "Total length:  2951\n"
     ]
    }
   ],
   "source": [
    "control,test = create_groups(result_df)"
   ]
  },
  {
   "cell_type": "code",
   "execution_count": 44,
   "metadata": {},
   "outputs": [],
   "source": [
    "final_df = pd.concat([\n",
    "    pd.DataFrame({'group': 'control', 'customer_id': control}),\n",
    "    pd.DataFrame({'group': 'test', 'customer_id': test})\n",
    "], ignore_index=True)\n",
    "\n",
    "final_df['city'] = city\n",
    "final_df['todays_date'] = todays_date"
   ]
  },
  {
   "cell_type": "code",
   "execution_count": 45,
   "metadata": {},
   "outputs": [
    {
     "data": {
      "text/plain": [
       "test       1476\n",
       "control    1475\n",
       "Name: group, dtype: int64"
      ]
     },
     "execution_count": 45,
     "metadata": {},
     "output_type": "execute_result"
    }
   ],
   "source": [
    "final_df.group.value_counts()"
   ]
  },
  {
   "cell_type": "code",
   "execution_count": 46,
   "metadata": {},
   "outputs": [],
   "source": [
    "final_df.to_csv(\"SH_GRADS\"+todays_date+city+\"GROUPS_9a16.csv\", index=False)"
   ]
  },
  {
   "cell_type": "code",
   "execution_count": 47,
   "metadata": {},
   "outputs": [],
   "source": [
    "global_segment_list = []\n",
    "\n",
    "for i in result_df.values:\n",
    "    global_segment_list.append({'name':i[-1], 'customersIds': [i[0]],\"expiresAt\": (datetime.datetime.today() + datetime.timedelta(days=(dias+2))).strftime('%Y-%m-%d')})\n",
    "    \n",
    "result_df = result_df.reset_index(drop=True).copy()"
   ]
  },
  {
   "cell_type": "code",
   "execution_count": 48,
   "metadata": {},
   "outputs": [],
   "source": [
    "csv_file = {} \n",
    "csv_file['offer_name'] = result_df.offer_name\n",
    "csv_file['offer_description'] = None\n",
    "csv_file['discount'] = result_df.margin\n",
    "csv_file['automatically_consider_offer'] = \"true\"\n",
    "csv_file['start_date'] = (datetime.datetime.today() + datetime.timedelta(days=dias)).strftime('%d-%m-%Y')\n",
    "csv_file['end_date'] = (datetime.datetime.today() + datetime.timedelta(days=(dias+2))).strftime('%d-%m-%Y')\n",
    "csv_file['max_uses_per_order'] = 120\n",
    "csv_file['max_uses_per_customer'] = 2\n",
    "csv_file['customer_segment_id'] = [1]*len(result_df.offer_name) #[None]\n",
    "csv_file['sku_id'] = result_df['card_id'].apply(concatenate_skus)\n",
    "csv_file['segment_behaviour'] = 'INCLUDED'\n",
    "csv_file['offer_type'] = 'SUPER_HOOK'\n",
    "csv_file['supplier_discount'] = 0\n",
    "\n",
    "global_offer_csv = pd.DataFrame(csv_file) #, index=[0])"
   ]
  },
  {
   "cell_type": "code",
   "execution_count": 49,
   "metadata": {},
   "outputs": [
    {
     "data": {
      "text/html": [
       "<div>\n",
       "<style scoped>\n",
       "    .dataframe tbody tr th:only-of-type {\n",
       "        vertical-align: middle;\n",
       "    }\n",
       "\n",
       "    .dataframe tbody tr th {\n",
       "        vertical-align: top;\n",
       "    }\n",
       "\n",
       "    .dataframe thead th {\n",
       "        text-align: right;\n",
       "    }\n",
       "</style>\n",
       "<table border=\"1\" class=\"dataframe\">\n",
       "  <thead>\n",
       "    <tr style=\"text-align: right;\">\n",
       "      <th></th>\n",
       "      <th>offer_name</th>\n",
       "      <th>offer_description</th>\n",
       "      <th>discount</th>\n",
       "      <th>automatically_consider_offer</th>\n",
       "      <th>start_date</th>\n",
       "      <th>end_date</th>\n",
       "      <th>max_uses_per_order</th>\n",
       "      <th>max_uses_per_customer</th>\n",
       "      <th>customer_segment_id</th>\n",
       "      <th>sku_id</th>\n",
       "      <th>segment_behaviour</th>\n",
       "      <th>offer_type</th>\n",
       "      <th>supplier_discount</th>\n",
       "    </tr>\n",
       "  </thead>\n",
       "  <tbody>\n",
       "    <tr>\n",
       "      <th>0</th>\n",
       "      <td>SH_GRADS_SPO_2024-06-20_19766719</td>\n",
       "      <td>None</td>\n",
       "      <td>8.5</td>\n",
       "      <td>true</td>\n",
       "      <td>20-06-2024</td>\n",
       "      <td>22-06-2024</td>\n",
       "      <td>120</td>\n",
       "      <td>2</td>\n",
       "      <td>1</td>\n",
       "      <td>571536</td>\n",
       "      <td>INCLUDED</td>\n",
       "      <td>SUPER_HOOK</td>\n",
       "      <td>0</td>\n",
       "    </tr>\n",
       "    <tr>\n",
       "      <th>1</th>\n",
       "      <td>SH_GRADS_SPO_2024-06-20_19767992</td>\n",
       "      <td>None</td>\n",
       "      <td>8.5</td>\n",
       "      <td>true</td>\n",
       "      <td>20-06-2024</td>\n",
       "      <td>22-06-2024</td>\n",
       "      <td>120</td>\n",
       "      <td>2</td>\n",
       "      <td>1</td>\n",
       "      <td>163207</td>\n",
       "      <td>INCLUDED</td>\n",
       "      <td>SUPER_HOOK</td>\n",
       "      <td>0</td>\n",
       "    </tr>\n",
       "    <tr>\n",
       "      <th>2</th>\n",
       "      <td>SH_GRADS_SPO_2024-06-20_19771808</td>\n",
       "      <td>None</td>\n",
       "      <td>8.5</td>\n",
       "      <td>true</td>\n",
       "      <td>20-06-2024</td>\n",
       "      <td>22-06-2024</td>\n",
       "      <td>120</td>\n",
       "      <td>2</td>\n",
       "      <td>1</td>\n",
       "      <td>307990#582051#582043#643315#314589#512674#582089</td>\n",
       "      <td>INCLUDED</td>\n",
       "      <td>SUPER_HOOK</td>\n",
       "      <td>0</td>\n",
       "    </tr>\n",
       "    <tr>\n",
       "      <th>3</th>\n",
       "      <td>SH_GRADS_SPO_2024-06-20_20179975</td>\n",
       "      <td>None</td>\n",
       "      <td>8.5</td>\n",
       "      <td>true</td>\n",
       "      <td>20-06-2024</td>\n",
       "      <td>22-06-2024</td>\n",
       "      <td>120</td>\n",
       "      <td>2</td>\n",
       "      <td>1</td>\n",
       "      <td>166076#73947#608490#608539#-314737#581787#6084...</td>\n",
       "      <td>INCLUDED</td>\n",
       "      <td>SUPER_HOOK</td>\n",
       "      <td>0</td>\n",
       "    </tr>\n",
       "    <tr>\n",
       "      <th>4</th>\n",
       "      <td>SH_GRADS_SPO_2024-06-20_20222914</td>\n",
       "      <td>None</td>\n",
       "      <td>8.5</td>\n",
       "      <td>true</td>\n",
       "      <td>20-06-2024</td>\n",
       "      <td>22-06-2024</td>\n",
       "      <td>120</td>\n",
       "      <td>2</td>\n",
       "      <td>1</td>\n",
       "      <td>235489#412389#108302#73456#611352#240505#124405</td>\n",
       "      <td>INCLUDED</td>\n",
       "      <td>SUPER_HOOK</td>\n",
       "      <td>0</td>\n",
       "    </tr>\n",
       "  </tbody>\n",
       "</table>\n",
       "</div>"
      ],
      "text/plain": [
       "                         offer_name offer_description  discount  \\\n",
       "0  SH_GRADS_SPO_2024-06-20_19766719              None       8.5   \n",
       "1  SH_GRADS_SPO_2024-06-20_19767992              None       8.5   \n",
       "2  SH_GRADS_SPO_2024-06-20_19771808              None       8.5   \n",
       "3  SH_GRADS_SPO_2024-06-20_20179975              None       8.5   \n",
       "4  SH_GRADS_SPO_2024-06-20_20222914              None       8.5   \n",
       "\n",
       "  automatically_consider_offer  start_date    end_date  max_uses_per_order  \\\n",
       "0                         true  20-06-2024  22-06-2024                 120   \n",
       "1                         true  20-06-2024  22-06-2024                 120   \n",
       "2                         true  20-06-2024  22-06-2024                 120   \n",
       "3                         true  20-06-2024  22-06-2024                 120   \n",
       "4                         true  20-06-2024  22-06-2024                 120   \n",
       "\n",
       "   max_uses_per_customer  customer_segment_id  \\\n",
       "0                      2                    1   \n",
       "1                      2                    1   \n",
       "2                      2                    1   \n",
       "3                      2                    1   \n",
       "4                      2                    1   \n",
       "\n",
       "                                              sku_id segment_behaviour  \\\n",
       "0                                             571536          INCLUDED   \n",
       "1                                             163207          INCLUDED   \n",
       "2   307990#582051#582043#643315#314589#512674#582089          INCLUDED   \n",
       "3  166076#73947#608490#608539#-314737#581787#6084...          INCLUDED   \n",
       "4    235489#412389#108302#73456#611352#240505#124405          INCLUDED   \n",
       "\n",
       "   offer_type  supplier_discount  \n",
       "0  SUPER_HOOK                  0  \n",
       "1  SUPER_HOOK                  0  \n",
       "2  SUPER_HOOK                  0  \n",
       "3  SUPER_HOOK                  0  \n",
       "4  SUPER_HOOK                  0  "
      ]
     },
     "execution_count": 49,
     "metadata": {},
     "output_type": "execute_result"
    }
   ],
   "source": [
    "global_offer_csv.head()"
   ]
  },
  {
   "cell_type": "code",
   "execution_count": 50,
   "metadata": {},
   "outputs": [],
   "source": [
    "# Replace two or three '#' with one '#'\n",
    "global_offer_csv['sku_id'] = global_offer_csv['sku_id'].str.replace('###', '#')\n",
    "global_offer_csv['sku_id'] = global_offer_csv['sku_id'].str.replace('##', '#')\n",
    "    \n",
    "# Replace '#' at the beginning with an empty string\n",
    "global_offer_csv['sku_id'] = global_offer_csv['sku_id'].str.replace('^#', '', regex=True)\n",
    "\n",
    "# Remove rows where the string is empty\n",
    "global_offer_csv = global_offer_csv.loc[global_offer_csv['sku_id'] != \"\"]"
   ]
  },
  {
   "cell_type": "code",
   "execution_count": 51,
   "metadata": {},
   "outputs": [],
   "source": [
    "import requests\n",
    "import json\n",
    "\n",
    "url = f\"https://{city}.frubana.com/api/v1/segments/create?api-key=00_growth-team-zzz-qqq_001\"\n",
    "\n",
    "payload = json.dumps(global_segment_list)\n",
    "\n",
    "\n",
    "headers = {\n",
    "  'Cookie': 'AWSALB=WGKrKvA1CFOY0m92xSENGAseuE4LrcfQh9y8jK/loGBJdizNm+FvjOqUqVghxdfLkH6Jsa9sfWft2NELchGAP/LNZMXMYhrOE70qDnUuOHATpdJj1UZBMEUBSIN1; AWSALBCORS=WGKrKvA1CFOY0m92xSENGAseuE4LrcfQh9y8jK/loGBJdizNm+FvjOqUqVghxdfLkH6Jsa9sfWft2NELchGAP/LNZMXMYhrOE70qDnUuOHATpdJj1UZBMEUBSIN1; AWSALB=jLY02FPysvF1vTrKLhXbk3ibzmyiAqFJ1ezYVu5PjodkU2QmPHDpRJhb9CvOlOyQ1Ix0mJR1ig+eH9zwJ9i5EOtgsgx79NSROogQb2Ua6yLX/I3bJJ6xtcVO3puI; AWSALBCORS=jLY02FPysvF1vTrKLhXbk3ibzmyiAqFJ1ezYVu5PjodkU2QmPHDpRJhb9CvOlOyQ1Ix0mJR1ig+eH9zwJ9i5EOtgsgx79NSROogQb2Ua6yLX/I3bJJ6xtcVO3puI',\n",
    "  'Content-Type': 'application/json'\n",
    "}\n",
    "\n",
    "response = requests.request(\"POST\", url, headers=headers, data=payload)"
   ]
  },
  {
   "cell_type": "code",
   "execution_count": 52,
   "metadata": {},
   "outputs": [
    {
     "data": {
      "text/plain": [
       "'Customer segments were created: [774303-SH_GRADS_SPO_2024-06-20_19766719, 774306-SH_GRADS_SPO_2024-06-20_19767992, 774307-SH_GRADS_SPO_2024-06-20_19771808, 774309-SH_GRADS_SPO_2024-06-20_20179975, 774305-SH_GRADS_SPO_2024-06-20_20222914, 774304-SH_GRADS_SPO_2024-06-20_20398872, 774308-SH_GRADS_SPO_2024-06-20_20463224, 774310-SH_GRADS_SPO_2024-06-20_20579095, 774311-SH_GRADS_SPO_2024-06-20_20829977, 774312-SH_GRADS_SPO_2024-06-20_20830204, 774313-SH_GRADS_SPO_2024-06-20_20848817, 774314-SH_GRADS_SPO_2024-06-20_21102052, 774315-SH_GRADS_SPO_2024-06-20_21134817, 774316-SH_GRADS_SPO_2024-06-20_21488857, 774317-SH_GRADS_SPO_2024-06-20_21579097, 774318-SH_GRADS_SPO_2024-06-20_22018553, 774319-SH_GRADS_SPO_2024-06-20_22296651, 774320-SH_GRADS_SPO_2024-06-20_22380430, 774321-SH_GRADS_SPO_2024-06-20_22892148, 774322-SH_GRADS_SPO_2024-06-20_23438840, 774323-SH_GRADS_SPO_2024-06-20_24157016, 774324-SH_GRADS_SPO_2024-06-20_24161918, 774325-SH_GRADS_SPO_2024-06-20_24183117, 774326-SH_GRADS_SPO_2024-06-20_24239157, 774327-SH_GRADS_SPO_2024-06-20_24241395, 774328-SH_GRADS_SPO_2024-06-20_24744333, 774329-SH_GRADS_SPO_2024-06-20_26812880, 774330-SH_GRADS_SPO_2024-06-20_26953901, 774331-SH_GRADS_SPO_2024-06-20_27327373, 774332-SH_GRADS_SPO_2024-06-20_27509134, 774333-SH_GRADS_SPO_2024-06-20_28477467, 774334-SH_GRADS_SPO_2024-06-20_28720034, 774336-SH_GRADS_SPO_2024-06-20_28733935, 774335-SH_GRADS_SPO_2024-06-20_29214392, 774337-SH_GRADS_SPO_2024-06-20_29507064, 774338-SH_GRADS_SPO_2024-06-20_30503147, 774339-SH_GRADS_SPO_2024-06-20_30629857, 774340-SH_GRADS_SPO_2024-06-20_30799993, 774341-SH_GRADS_SPO_2024-06-20_31069605, 774342-SH_GRADS_SPO_2024-06-20_31082377, 774343-SH_GRADS_SPO_2024-06-20_32520316, 774344-SH_GRADS_SPO_2024-06-20_32586752, 774345-SH_GRADS_SPO_2024-06-20_32862833, 774346-SH_GRADS_SPO_2024-06-20_33941179, 774347-SH_GRADS_SPO_2024-06-20_33941666, 774348-SH_GRADS_SPO_2024-06-20_33944477, 774349-SH_GRADS_SPO_2024-06-20_35011391, 774350-SH_GRADS_SPO_2024-06-20_35014087, 774706-SH_GRADS_SPO_2024-06-20_35201354, 774701-SH_GRADS_SPO_2024-06-20_35213513, 774705-SH_GRADS_SPO_2024-06-20_35222314, 774704-SH_GRADS_SPO_2024-06-20_35231533, 774703-SH_GRADS_SPO_2024-06-20_35436955, 774702-SH_GRADS_SPO_2024-06-20_35440554, 774707-SH_GRADS_SPO_2024-06-20_35656288, 774709-SH_GRADS_SPO_2024-06-20_35678300, 774708-SH_GRADS_SPO_2024-06-20_35833802, 774710-SH_GRADS_SPO_2024-06-20_35850885, 774711-SH_GRADS_SPO_2024-06-20_36254944, 774712-SH_GRADS_SPO_2024-06-20_36411102, 774713-SH_GRADS_SPO_2024-06-20_36542729, 774714-SH_GRADS_SPO_2024-06-20_36565186, 774716-SH_GRADS_SPO_2024-06-20_36679056, 774715-SH_GRADS_SPO_2024-06-20_36693072, 774717-SH_GRADS_SPO_2024-06-20_37454701, 774718-SH_GRADS_SPO_2024-06-20_37472178, 774719-SH_GRADS_SPO_2024-06-20_37499666, 774720-SH_GRADS_SPO_2024-06-20_37602983, 774721-SH_GRADS_SPO_2024-06-20_38069375, 774722-SH_GRADS_SPO_2024-06-20_38070658, 774723-SH_GRADS_SPO_2024-06-20_38077266, 774724-SH_GRADS_SPO_2024-06-20_38195372, 774725-SH_GRADS_SPO_2024-06-20_38211710, 774726-SH_GRADS_SPO_2024-06-20_38377667, 774727-SH_GRADS_SPO_2024-06-20_38527990, 774728-SH_GRADS_SPO_2024-06-20_38961591, 774729-SH_GRADS_SPO_2024-06-20_39085412, 774730-SH_GRADS_SPO_2024-06-20_39108401, 774731-SH_GRADS_SPO_2024-06-20_39237728, 774732-SH_GRADS_SPO_2024-06-20_39238352, 774734-SH_GRADS_SPO_2024-06-20_39352071, 774733-SH_GRADS_SPO_2024-06-20_39674480, 774735-SH_GRADS_SPO_2024-06-20_39707010, 774736-SH_GRADS_SPO_2024-06-20_39796761, 774737-SH_GRADS_SPO_2024-06-20_39804573, 774738-SH_GRADS_SPO_2024-06-20_39841901, 774740-SH_GRADS_SPO_2024-06-20_39924881, 774739-SH_GRADS_SPO_2024-06-20_40048254, 774741-SH_GRADS_SPO_2024-06-20_40060359, 774742-SH_GRADS_SPO_2024-06-20_40063828, 774743-SH_GRADS_SPO_2024-06-20_40088362, 774744-SH_GRADS_SPO_2024-06-20_40193160, 774745-SH_GRADS_SPO_2024-06-20_40202622, 774746-SH_GRADS_SPO_2024-06-20_40355416, 774747-SH_GRADS_SPO_2024-06-20_40510384, 774748-SH_GRADS_SPO_2024-06-20_40517810, 774749-SH_GRADS_SPO_2024-06-20_40622585, 774750-SH_GRADS_SPO_2024-06-20_40623281, 774751-SH_GRADS_SPO_2024-06-20_40637261, 774756-SH_GRADS_SPO_2024-06-20_40638154, 774755-SH_GRADS_SPO_2024-06-20_40906492, 774754-SH_GRADS_SPO_2024-06-20_41011910, 774753-SH_GRADS_SPO_2024-06-20_41015119, 774752-SH_GRADS_SPO_2024-06-20_41023957, 774757-SH_GRADS_SPO_2024-06-20_41464322, 774758-SH_GRADS_SPO_2024-06-20_41603858, 774759-SH_GRADS_SPO_2024-06-20_41604948, 774760-SH_GRADS_SPO_2024-06-20_41708452, 774761-SH_GRADS_SPO_2024-06-20_41714909, 774762-SH_GRADS_SPO_2024-06-20_41745456, 774763-SH_GRADS_SPO_2024-06-20_41849599, 774766-SH_GRADS_SPO_2024-06-20_41856385, 774765-SH_GRADS_SPO_2024-06-20_42146640, 774764-SH_GRADS_SPO_2024-06-20_42271687, 774767-SH_GRADS_SPO_2024-06-20_42279017, 774768-SH_GRADS_SPO_2024-06-20_42368928, 774769-SH_GRADS_SPO_2024-06-20_42372810, 774772-SH_GRADS_SPO_2024-06-20_42377287, 774771-SH_GRADS_SPO_2024-06-20_42482263, 774770-SH_GRADS_SPO_2024-06-20_42487013, 774773-SH_GRADS_SPO_2024-06-20_42591982, 774774-SH_GRADS_SPO_2024-06-20_42889244, 774775-SH_GRADS_SPO_2024-06-20_42974280, 774776-SH_GRADS_SPO_2024-06-20_42981364, 774778-SH_GRADS_SPO_2024-06-20_43212435, 774777-SH_GRADS_SPO_2024-06-20_43224470, 774779-SH_GRADS_SPO_2024-06-20_43317013, 774780-SH_GRADS_SPO_2024-06-20_43699731, 774781-SH_GRADS_SPO_2024-06-20_43803489, 774782-SH_GRADS_SPO_2024-06-20_43989756, 774784-SH_GRADS_SPO_2024-06-20_44220899, 774783-SH_GRADS_SPO_2024-06-20_44227323, 774785-SH_GRADS_SPO_2024-06-20_44330161, 774786-SH_GRADS_SPO_2024-06-20_44363778, 774787-SH_GRADS_SPO_2024-06-20_44367562, 774788-SH_GRADS_SPO_2024-06-20_44384536, 774789-SH_GRADS_SPO_2024-06-20_44456178, 774791-SH_GRADS_SPO_2024-06-20_44598141, 774790-SH_GRADS_SPO_2024-06-20_44689044, 774792-SH_GRADS_SPO_2024-06-20_44694330, 774793-SH_GRADS_SPO_2024-06-20_44945716, 774794-SH_GRADS_SPO_2024-06-20_44952381, 774795-SH_GRADS_SPO_2024-06-20_45080958, 774796-SH_GRADS_SPO_2024-06-20_45085328, 774797-SH_GRADS_SPO_2024-06-20_45174618, 774798-SH_GRADS_SPO_2024-06-20_45535517, 774799-SH_GRADS_SPO_2024-06-20_45614208, 774800-SH_GRADS_SPO_2024-06-20_45616129, 774801-SH_GRADS_SPO_2024-06-20_45621864, 774806-SH_GRADS_SPO_2024-06-20_45728970, 774805-SH_GRADS_SPO_2024-06-20_45803242, 774804-SH_GRADS_SPO_2024-06-20_45897291, 774803-SH_GRADS_SPO_2024-06-20_45898635, 774802-SH_GRADS_SPO_2024-06-20_45906245, 774807-SH_GRADS_SPO_2024-06-20_45910747, 774808-SH_GRADS_SPO_2024-06-20_46004531, 774809-SH_GRADS_SPO_2024-06-20_46236483, 774810-SH_GRADS_SPO_2024-06-20_46253753, 774811-SH_GRADS_SPO_2024-06-20_46439783, 774812-SH_GRADS_SPO_2024-06-20_46439790, 774813-SH_GRADS_SPO_2024-06-20_46446294, 774814-SH_GRADS_SPO_2024-06-20_46448092, 774815-SH_GRADS_SPO_2024-06-20_46537819, 774817-SH_GRADS_SPO_2024-06-20_46557074, 774816-SH_GRADS_SPO_2024-06-20_47007736, 774818-SH_GRADS_SPO_2024-06-20_47095066, 774819-SH_GRADS_SPO_2024-06-20_47298544, 774820-SH_GRADS_SPO_2024-06-20_47300786, 774821-SH_GRADS_SPO_2024-06-20_47497714, 774822-SH_GRADS_SPO_2024-06-20_47570391, 774823-SH_GRADS_SPO_2024-06-20_47575740, 774824-SH_GRADS_SPO_2024-06-20_47679846, 774825-SH_GRADS_SPO_2024-06-20_47679880, 774826-SH_GRADS_SPO_2024-06-20_47681239, 774829-SH_GRADS_SPO_2024-06-20_47684231, 774828-SH_GRADS_SPO_2024-06-20_47887816, 774827-SH_GRADS_SPO_2024-06-20_47997913, 774830-SH_GRADS_SPO_2024-06-20_48371473, 774831-SH_GRADS_SPO_2024-06-20_48458137, 774832-SH_GRADS_SPO_2024-06-20_48460226, 774833-SH_GRADS_SPO_2024-06-20_48546051, 774835-SH_GRADS_SPO_2024-06-20_48557798, 774834-SH_GRADS_SPO_2024-06-20_48909475, 774836-SH_GRADS_SPO_2024-06-20_49012046, 774837-SH_GRADS_SPO_2024-06-20_49110566, 774838-SH_GRADS_SPO_2024-06-20_49208293, 774839-SH_GRADS_SPO_2024-06-20_49309519, 774842-SH_GRADS_SPO_2024-06-20_49475261, 774841-SH_GRADS_SPO_2024-06-20_49566946, 774840-SH_GRADS_SPO_2024-06-20_49577280, 774843-SH_GRADS_SPO_2024-06-20_49664843, 774844-SH_GRADS_SPO_2024-06-20_49754202, 774845-SH_GRADS_SPO_2024-06-20_49770007, 774846-SH_GRADS_SPO_2024-06-20_49880165, 774847-SH_GRADS_SPO_2024-06-20_49958095, 774848-SH_GRADS_SPO_2024-06-20_50076414, 774849-SH_GRADS_SPO_2024-06-20_50233872, 774850-SH_GRADS_SPO_2024-06-20_50347148, 774851-SH_GRADS_SPO_2024-06-20_50355313, 774856-SH_GRADS_SPO_2024-06-20_50433399, 774853-SH_GRADS_SPO_2024-06-20_50438955, 774854-SH_GRADS_SPO_2024-06-20_50457940, 774855-SH_GRADS_SPO_2024-06-20_50999415, 774852-SH_GRADS_SPO_2024-06-20_51096303, 774857-SH_GRADS_SPO_2024-06-20_51190045, 774860-SH_GRADS_SPO_2024-06-20_51480433, 774859-SH_GRADS_SPO_2024-06-20_51659097, 774858-SH_GRADS_SPO_2024-06-20_51661997, 774862-SH_GRADS_SPO_2024-06-20_51663603, 774861-SH_GRADS_SPO_2024-06-20_51667398, 774863-SH_GRADS_SPO_2024-06-20_51759816, 774864-SH_GRADS_SPO_2024-06-20_51760550, 774866-SH_GRADS_SPO_2024-06-20_51771634, 774865-SH_GRADS_SPO_2024-06-20_51774670, 774867-SH_GRADS_SPO_2024-06-20_51863871, 774868-SH_GRADS_SPO_2024-06-20_51865379, 774869-SH_GRADS_SPO_2024-06-20_51871049, 774870-SH_GRADS_SPO_2024-06-20_51888522, 774873-SH_GRADS_SPO_2024-06-20_51973024, 774872-SH_GRADS_SPO_2024-06-20_52155259, 774871-SH_GRADS_SPO_2024-06-20_52254514, 774874-SH_GRADS_SPO_2024-06-20_52256399, 774875-SH_GRADS_SPO_2024-06-20_52337654, 774876-SH_GRADS_SPO_2024-06-20_52339532, 774877-SH_GRADS_SPO_2024-06-20_52341870, 774878-SH_GRADS_SPO_2024-06-20_52462656, 774879-SH_GRADS_SPO_2024-06-20_52468610, 774880-SH_GRADS_SPO_2024-06-20_52560716, 774881-SH_GRADS_SPO_2024-06-20_52579336, 774882-SH_GRADS_SPO_2024-06-20_52687001, 774883-SH_GRADS_SPO_2024-06-20_52999795, 774884-SH_GRADS_SPO_2024-06-20_53004665, 774885-SH_GRADS_SPO_2024-06-20_53142785, 774886-SH_GRADS_SPO_2024-06-20_53246774, 774888-SH_GRADS_SPO_2024-06-20_53257469, 774887-SH_GRADS_SPO_2024-06-20_53268299, 774889-SH_GRADS_SPO_2024-06-20_53286399, 774891-SH_GRADS_SPO_2024-06-20_53396067, 774890-SH_GRADS_SPO_2024-06-20_53476905, 774892-SH_GRADS_SPO_2024-06-20_53787195, 774894-SH_GRADS_SPO_2024-06-20_53798145, 774893-SH_GRADS_SPO_2024-06-20_53808444, 774895-SH_GRADS_SPO_2024-06-20_53924747, 774897-SH_GRADS_SPO_2024-06-20_54018937, 774896-SH_GRADS_SPO_2024-06-20_54050972, 774898-SH_GRADS_SPO_2024-06-20_54282487, 774899-SH_GRADS_SPO_2024-06-20_54490034, 774900-SH_GRADS_SPO_2024-06-20_54779600, 774901-SH_GRADS_SPO_2024-06-20_54894034, 774904-SH_GRADS_SPO_2024-06-20_55007119, 774903-SH_GRADS_SPO_2024-06-20_55009639, 774902-SH_GRADS_SPO_2024-06-20_55339724, 774906-SH_GRADS_SPO_2024-06-20_55458974, 774905-SH_GRADS_SPO_2024-06-20_55477672, 774907-SH_GRADS_SPO_2024-06-20_55590652, 774908-SH_GRADS_SPO_2024-06-20_55695812, 774909-SH_GRADS_SPO_2024-06-20_55696318, 774910-SH_GRADS_SPO_2024-06-20_55696393, 774911-SH_GRADS_SPO_2024-06-20_55698189, 774912-SH_GRADS_SPO_2024-06-20_55707181, 774913-SH_GRADS_SPO_2024-06-20_55711221, 774914-SH_GRADS_SPO_2024-06-20_55714715, 774916-SH_GRADS_SPO_2024-06-20_55836185, 774915-SH_GRADS_SPO_2024-06-20_56152880, 774917-SH_GRADS_SPO_2024-06-20_56156272, 774918-SH_GRADS_SPO_2024-06-20_56209779, 774919-SH_GRADS_SPO_2024-06-20_56262300, 774920-SH_GRADS_SPO_2024-06-20_56372851, 774921-SH_GRADS_SPO_2024-06-20_56382131, 774922-SH_GRADS_SPO_2024-06-20_56382340, 774923-SH_GRADS_SPO_2024-06-20_56388336, 774924-SH_GRADS_SPO_2024-06-20_56530839, 774925-SH_GRADS_SPO_2024-06-20_56609427, 774926-SH_GRADS_SPO_2024-06-20_56609690, 774927-SH_GRADS_SPO_2024-06-20_56625730, 774928-SH_GRADS_SPO_2024-06-20_56956381, 774930-SH_GRADS_SPO_2024-06-20_57068290, 774929-SH_GRADS_SPO_2024-06-20_57069581, 774931-SH_GRADS_SPO_2024-06-20_57182523, 774932-SH_GRADS_SPO_2024-06-20_57201040, 774933-SH_GRADS_SPO_2024-06-20_57202312, 774935-SH_GRADS_SPO_2024-06-20_57312261, 774934-SH_GRADS_SPO_2024-06-20_57443574, 774938-SH_GRADS_SPO_2024-06-20_57665273, 774936-SH_GRADS_SPO_2024-06-20_57667203, 774937-SH_GRADS_SPO_2024-06-20_57667727, 774939-SH_GRADS_SPO_2024-06-20_57761652, 774940-SH_GRADS_SPO_2024-06-20_57763800, 774941-SH_GRADS_SPO_2024-06-20_57764389, 774942-SH_GRADS_SPO_2024-06-20_57804789, 774944-SH_GRADS_SPO_2024-06-20_57876945, 774943-SH_GRADS_SPO_2024-06-20_57883519, 774945-SH_GRADS_SPO_2024-06-20_58016325, 774946-SH_GRADS_SPO_2024-06-20_58024471, 774947-SH_GRADS_SPO_2024-06-20_58136856, 774948-SH_GRADS_SPO_2024-06-20_58137533, 774950-SH_GRADS_SPO_2024-06-20_58258174, 774949-SH_GRADS_SPO_2024-06-20_58261918, 774951-SH_GRADS_SPO_2024-06-20_58395801, 774953-SH_GRADS_SPO_2024-06-20_58587943, 774952-SH_GRADS_SPO_2024-06-20_58599006, 774954-SH_GRADS_SPO_2024-06-20_58718526, 774955-SH_GRADS_SPO_2024-06-20_58721897, 774956-SH_GRADS_SPO_2024-06-20_58860815, 774958-SH_GRADS_SPO_2024-06-20_59074917, 774957-SH_GRADS_SPO_2024-06-20_59135256, 774959-SH_GRADS_SPO_2024-06-20_59313033, 774960-SH_GRADS_SPO_2024-06-20_59326082, 774961-SH_GRADS_SPO_2024-06-20_59663593, 774962-SH_GRADS_SPO_2024-06-20_59776858, 774963-SH_GRADS_SPO_2024-06-20_59778273, 774964-SH_GRADS_SPO_2024-06-20_59778700, 774965-SH_GRADS_SPO_2024-06-20_59904681, 774966-SH_GRADS_SPO_2024-06-20_59904890, 774967-SH_GRADS_SPO_2024-06-20_59913811, 774968-SH_GRADS_SPO_2024-06-20_59917054, 774969-SH_GRADS_SPO_2024-06-20_59919885, 774970-SH_GRADS_SPO_2024-06-20_59921821, 774971-SH_GRADS_SPO_2024-06-20_59924250, 774972-SH_GRADS_SPO_2024-06-20_60037698, 774973-SH_GRADS_SPO_2024-06-20_60041869, 774974-SH_GRADS_SPO_2024-06-20_60048306, 774975-SH_GRADS_SPO_2024-06-20_60051624, 774976-SH_GRADS_SPO_2024-06-20_60173304, 774977-SH_GRADS_SPO_2024-06-20_60197539, 774978-SH_GRADS_SPO_2024-06-20_60208834, 774979-SH_GRADS_SPO_2024-06-20_60307928, 774980-SH_GRADS_SPO_2024-06-20_60320951, 774981-SH_GRADS_SPO_2024-06-20_60520626, 774982-SH_GRADS_SPO_2024-06-20_60531871, 774984-SH_GRADS_SPO_2024-06-20_60639357, 774983-SH_GRADS_SPO_2024-06-20_60648939, 774985-SH_GRADS_SPO_2024-06-20_60772454, 774986-SH_GRADS_SPO_2024-06-20_60785824, 774987-SH_GRADS_SPO_2024-06-20_60787847, 774988-SH_GRADS_SPO_2024-06-20_60893943, 774989-SH_GRADS_SPO_2024-06-20_60906391, 774990-SH_GRADS_SPO_2024-06-20_60909379, 774991-SH_GRADS_SPO_2024-06-20_61070687, 774992-SH_GRADS_SPO_2024-06-20_61184304, 774993-SH_GRADS_SPO_2024-06-20_61402782, 774995-SH_GRADS_SPO_2024-06-20_61409338, 774994-SH_GRADS_SPO_2024-06-20_61518468, 774996-SH_GRADS_SPO_2024-06-20_61651401, 774998-SH_GRADS_SPO_2024-06-20_61653196, 774997-SH_GRADS_SPO_2024-06-20_61661365, 774999-SH_GRADS_SPO_2024-06-20_61664867, 775000-SH_GRADS_SPO_2024-06-20_61667328, 775001-SH_GRADS_SPO_2024-06-20_61795801, 775005-SH_GRADS_SPO_2024-06-20_61798322, 775004-SH_GRADS_SPO_2024-06-20_61816269, 775003-SH_GRADS_SPO_2024-06-20_61928640, 775002-SH_GRADS_SPO_2024-06-20_61949374, 775006-SH_GRADS_SPO_2024-06-20_62309299, 775007-SH_GRADS_SPO_2024-06-20_62315582, 775008-SH_GRADS_SPO_2024-06-20_62318336, 775010-SH_GRADS_SPO_2024-06-20_62429411, 775009-SH_GRADS_SPO_2024-06-20_62437635, 775011-SH_GRADS_SPO_2024-06-20_62449780, 775012-SH_GRADS_SPO_2024-06-20_62479111, 775013-SH_GRADS_SPO_2024-06-20_62594723, 775014-SH_GRADS_SPO_2024-06-20_62594765, 775016-SH_GRADS_SPO_2024-06-20_62599343, 775015-SH_GRADS_SPO_2024-06-20_62601072, 775017-SH_GRADS_SPO_2024-06-20_62604113, 775018-SH_GRADS_SPO_2024-06-20_62733249, 775019-SH_GRADS_SPO_2024-06-20_62761727, 775020-SH_GRADS_SPO_2024-06-20_62773600, 775021-SH_GRADS_SPO_2024-06-20_62899669, 775022-SH_GRADS_SPO_2024-06-20_62903170, 775023-SH_GRADS_SPO_2024-06-20_63302429, 775025-SH_GRADS_SPO_2024-06-20_63304879, 775024-SH_GRADS_SPO_2024-06-20_63329630, 775026-SH_GRADS_SPO_2024-06-20_63429382, 775027-SH_GRADS_SPO_2024-06-20_63641747, 775030-SH_GRADS_SPO_2024-06-20_63770001, 775029-SH_GRADS_SPO_2024-06-20_63789324, 775028-SH_GRADS_SPO_2024-06-20_63789559, 775031-SH_GRADS_SPO_2024-06-20_63935162, 775032-SH_GRADS_SPO_2024-06-20_64002193, 775033-SH_GRADS_SPO_2024-06-20_64003516, 775036-SH_GRADS_SPO_2024-06-20_64064145, 775035-SH_GRADS_SPO_2024-06-20_64552992, 775034-SH_GRADS_SPO_2024-06-20_64729990, 775037-SH_GRADS_SPO_2024-06-20_64759730, 775038-SH_GRADS_SPO_2024-06-20_64763943, 775039-SH_GRADS_SPO_2024-06-20_64769267, 775040-SH_GRADS_SPO_2024-06-20_64771106, 775041-SH_GRADS_SPO_2024-06-20_64832737, 775042-SH_GRADS_SPO_2024-06-20_65003252, 775043-SH_GRADS_SPO_2024-06-20_65015205, 775044-SH_GRADS_SPO_2024-06-20_65023968, 775045-SH_GRADS_SPO_2024-06-20_65215139, 775046-SH_GRADS_SPO_2024-06-20_65222068, 775047-SH_GRADS_SPO_2024-06-20_65231897, 775048-SH_GRADS_SPO_2024-06-20_65237466, 775049-SH_GRADS_SPO_2024-06-20_65241686, 775050-SH_GRADS_SPO_2024-06-20_65265994, 775051-SH_GRADS_SPO_2024-06-20_65426701, 775053-SH_GRADS_SPO_2024-06-20_65475763, 775052-SH_GRADS_SPO_2024-06-20_65666409, 775054-SH_GRADS_SPO_2024-06-20_65816789, 775055-SH_GRADS_SPO_2024-06-20_65956414, 775056-SH_GRADS_SPO_2024-06-20_65974921, 775057-SH_GRADS_SPO_2024-06-20_66167116, 775058-SH_GRADS_SPO_2024-06-20_66197298, 775060-SH_GRADS_SPO_2024-06-20_66336354, 775061-SH_GRADS_SPO_2024-06-20_66371017, 775059-SH_GRADS_SPO_2024-06-20_66403544, 775062-SH_GRADS_SPO_2024-06-20_66555464, 775063-SH_GRADS_SPO_2024-06-20_66558631, 775066-SH_GRADS_SPO_2024-06-20_66572241, 775067-SH_GRADS_SPO_2024-06-20_66583235, 775065-SH_GRADS_SPO_2024-06-20_66596054, 775064-SH_GRADS_SPO_2024-06-20_66604320, 775068-SH_GRADS_SPO_2024-06-20_66617994, 775069-SH_GRADS_SPO_2024-06-20_66796481, 775070-SH_GRADS_SPO_2024-06-20_66801121, 775071-SH_GRADS_SPO_2024-06-20_66821891, 775072-SH_GRADS_SPO_2024-06-20_66855029, 775073-SH_GRADS_SPO_2024-06-20_67357470, 775074-SH_GRADS_SPO_2024-06-20_67396347, 775075-SH_GRADS_SPO_2024-06-20_67585292, 775076-SH_GRADS_SPO_2024-06-20_67767492, 775077-SH_GRADS_SPO_2024-06-20_67768599, 775078-SH_GRADS_SPO_2024-06-20_67788679, 775079-SH_GRADS_SPO_2024-06-20_67808571, 775080-SH_GRADS_SPO_2024-06-20_67842453, 775081-SH_GRADS_SPO_2024-06-20_67992975, 775082-SH_GRADS_SPO_2024-06-20_68195188, 775084-SH_GRADS_SPO_2024-06-20_68207940, 775083-SH_GRADS_SPO_2024-06-20_68208686, 775085-SH_GRADS_SPO_2024-06-20_68789343, 775086-SH_GRADS_SPO_2024-06-20_68983463, 775087-SH_GRADS_SPO_2024-06-20_68993519, 775088-SH_GRADS_SPO_2024-06-20_69062935, 775089-SH_GRADS_SPO_2024-06-20_69238020, 775090-SH_GRADS_SPO_2024-06-20_69245250, 775091-SH_GRADS_SPO_2024-06-20_69250033, 775092-SH_GRADS_SPO_2024-06-20_69282487, 775093-SH_GRADS_SPO_2024-06-20_69296427, 775094-SH_GRADS_SPO_2024-06-20_69302899, 775095-SH_GRADS_SPO_2024-06-20_69314648, 775096-SH_GRADS_SPO_2024-06-20_69527051, 775097-SH_GRADS_SPO_2024-06-20_69594928, 775098-SH_GRADS_SPO_2024-06-20_69609751, 775099-SH_GRADS_SPO_2024-06-20_69640449, 775100-SH_GRADS_SPO_2024-06-20_69812423, 775101-SH_GRADS_SPO_2024-06-20_69869247, 775103-SH_GRADS_SPO_2024-06-20_69891501, 775102-SH_GRADS_SPO_2024-06-20_70343161, 775104-SH_GRADS_SPO_2024-06-20_70549198, 775105-SH_GRADS_SPO_2024-06-20_70780416, 775106-SH_GRADS_SPO_2024-06-20_71049787, 775107-SH_GRADS_SPO_2024-06-20_71063665, 775109-SH_GRADS_SPO_2024-06-20_71126002, 775108-SH_GRADS_SPO_2024-06-20_71139812, 775110-SH_GRADS_SPO_2024-06-20_71141940, 775111-SH_GRADS_SPO_2024-06-20_71168501, 775112-SH_GRADS_SPO_2024-06-20_71477764, 775113-SH_GRADS_SPO_2024-06-20_71487258, 775115-SH_GRADS_SPO_2024-06-20_71533172, 775114-SH_GRADS_SPO_2024-06-20_71747130, 775116-SH_GRADS_SPO_2024-06-20_71785655, 775117-SH_GRADS_SPO_2024-06-20_71822669, 775118-SH_GRADS_SPO_2024-06-20_71837212, 775119-SH_GRADS_SPO_2024-06-20_71868536, 775120-SH_GRADS_SPO_2024-06-20_72581586, 775121-SH_GRADS_SPO_2024-06-20_72648299, 775122-SH_GRADS_SPO_2024-06-20_72725939, 775123-SH_GRADS_SPO_2024-06-20_73021121, 775124-SH_GRADS_SPO_2024-06-20_73077209, 775125-SH_GRADS_SPO_2024-06-20_73160034, 775126-SH_GRADS_SPO_2024-06-20_73444017, 775127-SH_GRADS_SPO_2024-06-20_73453491, 775128-SH_GRADS_SPO_2024-06-20_73517457, 775129-SH_GRADS_SPO_2024-06-20_73533709, 775130-SH_GRADS_SPO_2024-06-20_73600164, 775131-SH_GRADS_SPO_2024-06-20_73853997, 775132-SH_GRADS_SPO_2024-06-20_73887852, 775133-SH_GRADS_SPO_2024-06-20_73954915, 775134-SH_GRADS_SPO_2024-06-20_73985578, 775135-SH_GRADS_SPO_2024-06-20_74053263, 775136-SH_GRADS_SPO_2024-06-20_74205915, 775137-SH_GRADS_SPO_2024-06-20_75016487, 775138-SH_GRADS_SPO_2024-06-20_75213963, 775139-SH_GRADS_SPO_2024-06-20_75493263, 775140-SH_GRADS_SPO_2024-06-20_75511786, 775141-SH_GRADS_SPO_2024-06-20_75901692, 775142-SH_GRADS_SPO_2024-06-20_76309816, 775143-SH_GRADS_SPO_2024-06-20_76378933, 775144-SH_GRADS_SPO_2024-06-20_76391432, 775146-SH_GRADS_SPO_2024-06-20_76698606, 775145-SH_GRADS_SPO_2024-06-20_76709783, 775147-SH_GRADS_SPO_2024-06-20_76710264, 775148-SH_GRADS_SPO_2024-06-20_76785236, 775149-SH_GRADS_SPO_2024-06-20_76792188, 775150-SH_GRADS_SPO_2024-06-20_76814705, 775151-SH_GRADS_SPO_2024-06-20_76818927, 775153-SH_GRADS_SPO_2024-06-20_76845874, 775152-SH_GRADS_SPO_2024-06-20_76903261, 775155-SH_GRADS_SPO_2024-06-20_77088539, 775156-SH_GRADS_SPO_2024-06-20_77160985, 775154-SH_GRADS_SPO_2024-06-20_77374164, 775157-SH_GRADS_SPO_2024-06-20_77789571, 775159-SH_GRADS_SPO_2024-06-20_78019132, 775158-SH_GRADS_SPO_2024-06-20_78041726, 775160-SH_GRADS_SPO_2024-06-20_78044776, 775161-SH_GRADS_SPO_2024-06-20_78148126, 775162-SH_GRADS_SPO_2024-06-20_78487041, 775163-SH_GRADS_SPO_2024-06-20_78566362, 775164-SH_GRADS_SPO_2024-06-20_78568441, 775165-SH_GRADS_SPO_2024-06-20_78584526, 775166-SH_GRADS_SPO_2024-06-20_78606358, 775167-SH_GRADS_SPO_2024-06-20_78662088, 775168-SH_GRADS_SPO_2024-06-20_78680854, 775169-SH_GRADS_SPO_2024-06-20_78953255, 775170-SH_GRADS_SPO_2024-06-20_78975526, 775171-SH_GRADS_SPO_2024-06-20_79091554, 775172-SH_GRADS_SPO_2024-06-20_79131861, 775173-SH_GRADS_SPO_2024-06-20_79376452, 775174-SH_GRADS_SPO_2024-06-20_79419666, 775175-SH_GRADS_SPO_2024-06-20_79495289, 775176-SH_GRADS_SPO_2024-06-20_79618605, 775177-SH_GRADS_SPO_2024-06-20_79824128, 775178-SH_GRADS_SPO_2024-06-20_80169787, 775179-SH_GRADS_SPO_2024-06-20_80463048, 775181-SH_GRADS_SPO_2024-06-20_80599965, 775180-SH_GRADS_SPO_2024-06-20_80983679, 775182-SH_GRADS_SPO_2024-06-20_81010797, 775183-SH_GRADS_SPO_2024-06-20_81332943, 775184-SH_GRADS_SPO_2024-06-20_81356201, 775185-SH_GRADS_SPO_2024-06-20_81455643, 775186-SH_GRADS_SPO_2024-06-20_81772544, 775188-SH_GRADS_SPO_2024-06-20_81789788, 775187-SH_GRADS_SPO_2024-06-20_82212045, 775189-SH_GRADS_SPO_2024-06-20_82234662, 775190-SH_GRADS_SPO_2024-06-20_82956383, 775191-SH_GRADS_SPO_2024-06-20_83456259, 775194-SH_GRADS_SPO_2024-06-20_83629298, 775193-SH_GRADS_SPO_2024-06-20_83784641, 775192-SH_GRADS_SPO_2024-06-20_84045253, 775195-SH_GRADS_SPO_2024-06-20_84072195, 775196-SH_GRADS_SPO_2024-06-20_84113270, 775197-SH_GRADS_SPO_2024-06-20_84569773, 775200-SH_GRADS_SPO_2024-06-20_84929267, 775199-SH_GRADS_SPO_2024-06-20_84929410, 775198-SH_GRADS_SPO_2024-06-20_85837760, 775201-SH_GRADS_SPO_2024-06-20_85871548, 775203-SH_GRADS_SPO_2024-06-20_86235008, 775202-SH_GRADS_SPO_2024-06-20_86272649, 775204-SH_GRADS_SPO_2024-06-20_86366717, 775205-SH_GRADS_SPO_2024-06-20_86679778, 775206-SH_GRADS_SPO_2024-06-20_86693929, 775207-SH_GRADS_SPO_2024-06-20_86739051, 775210-SH_GRADS_SPO_2024-06-20_86914359, 775208-SH_GRADS_SPO_2024-06-20_87150999, 775209-SH_GRADS_SPO_2024-06-20_87255528, 775211-SH_GRADS_SPO_2024-06-20_87696353, 775212-SH_GRADS_SPO_2024-06-20_88318676, 775213-SH_GRADS_SPO_2024-06-20_88629366, 775214-SH_GRADS_SPO_2024-06-20_88637216, 775216-SH_GRADS_SPO_2024-06-20_88637669, 775215-SH_GRADS_SPO_2024-06-20_88637914, 775217-SH_GRADS_SPO_2024-06-20_88639964, 775218-SH_GRADS_SPO_2024-06-20_89452909, 775219-SH_GRADS_SPO_2024-06-20_89510689, 775220-SH_GRADS_SPO_2024-06-20_89524976, 775221-SH_GRADS_SPO_2024-06-20_89695756, 775222-SH_GRADS_SPO_2024-06-20_90202852, 775223-SH_GRADS_SPO_2024-06-20_90914854, 775224-SH_GRADS_SPO_2024-06-20_91352359, 775225-SH_GRADS_SPO_2024-06-20_91403217, 775226-SH_GRADS_SPO_2024-06-20_91738973, 775227-SH_GRADS_SPO_2024-06-20_94832394, 775228-SH_GRADS_SPO_2024-06-20_95590345, 775229-SH_GRADS_SPO_2024-06-20_95652031, 775230-SH_GRADS_SPO_2024-06-20_95952418, 775231-SH_GRADS_SPO_2024-06-20_96640710, 775232-SH_GRADS_SPO_2024-06-20_98277427, 775234-SH_GRADS_SPO_2024-06-20_98289580, 775233-SH_GRADS_SPO_2024-06-20_98318843, 775235-SH_GRADS_SPO_2024-06-20_98623851, 775236-SH_GRADS_SPO_2024-06-20_99407764, 775237-SH_GRADS_SPO_2024-06-20_99701267, 775238-SH_GRADS_SPO_2024-06-20_99752752, 775239-SH_GRADS_SPO_2024-06-20_99817306, 775240-SH_GRADS_SPO_2024-06-20_99817742, 775241-SH_GRADS_SPO_2024-06-20_100691139, 775242-SH_GRADS_SPO_2024-06-20_100819979, 775243-SH_GRADS_SPO_2024-06-20_101138670, 775244-SH_GRADS_SPO_2024-06-20_101273196, 775245-SH_GRADS_SPO_2024-06-20_101557501, 775246-SH_GRADS_SPO_2024-06-20_101613221, 775247-SH_GRADS_SPO_2024-06-20_101943635, 775248-SH_GRADS_SPO_2024-06-20_102676134, 775249-SH_GRADS_SPO_2024-06-20_102779243, 775250-SH_GRADS_SPO_2024-06-20_103029864, 775251-SH_GRADS_SPO_2024-06-20_103384975, 775254-SH_GRADS_SPO_2024-06-20_103435890, 775253-SH_GRADS_SPO_2024-06-20_103472005, 775252-SH_GRADS_SPO_2024-06-20_103637998, 775255-SH_GRADS_SPO_2024-06-20_103898233, 775256-SH_GRADS_SPO_2024-06-20_103925930, 775257-SH_GRADS_SPO_2024-06-20_104315885, 775259-SH_GRADS_SPO_2024-06-20_104341786, 775258-SH_GRADS_SPO_2024-06-20_104370894, 775260-SH_GRADS_SPO_2024-06-20_105328354, 775261-SH_GRADS_SPO_2024-06-20_105435994, 775262-SH_GRADS_SPO_2024-06-20_105484091, 775263-SH_GRADS_SPO_2024-06-20_105879807, 775265-SH_GRADS_SPO_2024-06-20_105910221, 775264-SH_GRADS_SPO_2024-06-20_105942321, 775266-SH_GRADS_SPO_2024-06-20_105983187, 775267-SH_GRADS_SPO_2024-06-20_106011653, 775268-SH_GRADS_SPO_2024-06-20_106303032, 775269-SH_GRADS_SPO_2024-06-20_106311281, 775270-SH_GRADS_SPO_2024-06-20_106397315, 775271-SH_GRADS_SPO_2024-06-20_106467481, 775272-SH_GRADS_SPO_2024-06-20_106540109, 775273-SH_GRADS_SPO_2024-06-20_106821680, 775274-SH_GRADS_SPO_2024-06-20_106933437, 775275-SH_GRADS_SPO_2024-06-20_107167891, 775276-SH_GRADS_SPO_2024-06-20_107304520, 775277-SH_GRADS_SPO_2024-06-20_107519831, 775279-SH_GRADS_SPO_2024-06-20_108069728, 775278-SH_GRADS_SPO_2024-06-20_108091714, 775280-SH_GRADS_SPO_2024-06-20_108145133, 775282-SH_GRADS_SPO_2024-06-20_108406874, 775281-SH_GRADS_SPO_2024-06-20_108498881, 775283-SH_GRADS_SPO_2024-06-20_108609118, 775284-SH_GRADS_SPO_2024-06-20_108820066, 775285-SH_GRADS_SPO_2024-06-20_108820105, 775286-SH_GRADS_SPO_2024-06-20_108860231, 775287-SH_GRADS_SPO_2024-06-20_109339645, 775288-SH_GRADS_SPO_2024-06-20_109780083, 775289-SH_GRADS_SPO_2024-06-20_109809128, 775290-SH_GRADS_SPO_2024-06-20_109835643, 775291-SH_GRADS_SPO_2024-06-20_109875426, 775292-SH_GRADS_SPO_2024-06-20_109922090, 775293-SH_GRADS_SPO_2024-06-20_110082201, 775294-SH_GRADS_SPO_2024-06-20_110280912, 775295-SH_GRADS_SPO_2024-06-20_110455151, 775296-SH_GRADS_SPO_2024-06-20_110624868, 775297-SH_GRADS_SPO_2024-06-20_111425595, 775298-SH_GRADS_SPO_2024-06-20_111717086, 775299-SH_GRADS_SPO_2024-06-20_112186925, 775300-SH_GRADS_SPO_2024-06-20_112209752, 775301-SH_GRADS_SPO_2024-06-20_112250057, 775305-SH_GRADS_SPO_2024-06-20_112722174, 775303-SH_GRADS_SPO_2024-06-20_112821305, 775302-SH_GRADS_SPO_2024-06-20_112870113, 775304-SH_GRADS_SPO_2024-06-20_112949492, 775306-SH_GRADS_SPO_2024-06-20_112962344, 775307-SH_GRADS_SPO_2024-06-20_114157904, 775308-SH_GRADS_SPO_2024-06-20_114976062, 775309-SH_GRADS_SPO_2024-06-20_115379266, 775310-SH_GRADS_SPO_2024-06-20_115448718, 775311-SH_GRADS_SPO_2024-06-20_115462020, 775312-SH_GRADS_SPO_2024-06-20_115479848, 775314-SH_GRADS_SPO_2024-06-20_116225113, 775313-SH_GRADS_SPO_2024-06-20_116248360, 775315-SH_GRADS_SPO_2024-06-20_116442228, 775316-SH_GRADS_SPO_2024-06-20_116510158, 775317-SH_GRADS_SPO_2024-06-20_116729951, 775318-SH_GRADS_SPO_2024-06-20_117246451, 775319-SH_GRADS_SPO_2024-06-20_117435971, 775320-SH_GRADS_SPO_2024-06-20_117844193, 775322-SH_GRADS_SPO_2024-06-20_117905793, 775321-SH_GRADS_SPO_2024-06-20_119545400, 775323-SH_GRADS_SPO_2024-06-20_119619262, 775324-SH_GRADS_SPO_2024-06-20_120671193, 775325-SH_GRADS_SPO_2024-06-20_120683965, 775326-SH_GRADS_SPO_2024-06-20_120769235, 775327-SH_GRADS_SPO_2024-06-20_120863379, 775328-SH_GRADS_SPO_2024-06-20_120881339, 775329-SH_GRADS_SPO_2024-06-20_121135309, 775330-SH_GRADS_SPO_2024-06-20_121142305, 775332-SH_GRADS_SPO_2024-06-20_121179867, 775331-SH_GRADS_SPO_2024-06-20_121239186, 775333-SH_GRADS_SPO_2024-06-20_121661502, 775334-SH_GRADS_SPO_2024-06-20_121718962, 775335-SH_GRADS_SPO_2024-06-20_121763162, 775336-SH_GRADS_SPO_2024-06-20_121893860, 775337-SH_GRADS_SPO_2024-06-20_121949377, 775338-SH_GRADS_SPO_2024-06-20_122643589, 775339-SH_GRADS_SPO_2024-06-20_123107221, 775340-SH_GRADS_SPO_2024-06-20_123587311, 775341-SH_GRADS_SPO_2024-06-20_123608604, 775342-SH_GRADS_SPO_2024-06-20_123612280, 775343-SH_GRADS_SPO_2024-06-20_123624557, 775344-SH_GRADS_SPO_2024-06-20_123697642, 775345-SH_GRADS_SPO_2024-06-20_123764666, 775346-SH_GRADS_SPO_2024-06-20_124250068, 775347-SH_GRADS_SPO_2024-06-20_124287268, 775348-SH_GRADS_SPO_2024-06-20_124344953, 775350-SH_GRADS_SPO_2024-06-20_124360332, 775349-SH_GRADS_SPO_2024-06-20_124429746, 775351-SH_GRADS_SPO_2024-06-20_124467172, 775355-SH_GRADS_SPO_2024-06-20_124597665, 775353-SH_GRADS_SPO_2024-06-20_124821113, 775354-SH_GRADS_SPO_2024-06-20_124927830, 775352-SH_GRADS_SPO_2024-06-20_125109887, 775356-SH_GRADS_SPO_2024-06-20_125118670, 775357-SH_GRADS_SPO_2024-06-20_125440613, 775358-SH_GRADS_SPO_2024-06-20_125849497, 775360-SH_GRADS_SPO_2024-06-20_125996014, 775361-SH_GRADS_SPO_2024-06-20_126006339, 775359-SH_GRADS_SPO_2024-06-20_126255453, 775362-SH_GRADS_SPO_2024-06-20_126407122, 775363-SH_GRADS_SPO_2024-06-20_126692132, 775367-SH_GRADS_SPO_2024-06-20_126814773, 775365-SH_GRADS_SPO_2024-06-20_127155748, 775364-SH_GRADS_SPO_2024-06-20_127213496, 775366-SH_GRADS_SPO_2024-06-20_127305850, 775368-SH_GRADS_SPO_2024-06-20_127546707, 775369-SH_GRADS_SPO_2024-06-20_127947306, 775370-SH_GRADS_SPO_2024-06-20_128007792, 775371-SH_GRADS_SPO_2024-06-20_128058624, 775372-SH_GRADS_SPO_2024-06-20_128346026, 775373-SH_GRADS_SPO_2024-06-20_128390991, 775374-SH_GRADS_SPO_2024-06-20_128484966, 775375-SH_GRADS_SPO_2024-06-20_128486160, 775376-SH_GRADS_SPO_2024-06-20_128494455, 775377-SH_GRADS_SPO_2024-06-20_128535184, 775379-SH_GRADS_SPO_2024-06-20_128603407, 775378-SH_GRADS_SPO_2024-06-20_128688452, 775380-SH_GRADS_SPO_2024-06-20_128906778, 775381-SH_GRADS_SPO_2024-06-20_128927797, 775383-SH_GRADS_SPO_2024-06-20_129005582, 775382-SH_GRADS_SPO_2024-06-20_129094773, 775384-SH_GRADS_SPO_2024-06-20_129185045, 775385-SH_GRADS_SPO_2024-06-20_129224536, 775386-SH_GRADS_SPO_2024-06-20_129512641, 775387-SH_GRADS_SPO_2024-06-20_129882536, 775388-SH_GRADS_SPO_2024-06-20_130109774, 775390-SH_GRADS_SPO_2024-06-20_130243513, 775389-SH_GRADS_SPO_2024-06-20_130260408, 775391-SH_GRADS_SPO_2024-06-20_130270327, 775392-SH_GRADS_SPO_2024-06-20_130330537, 775393-SH_GRADS_SPO_2024-06-20_130734960, 775394-SH_GRADS_SPO_2024-06-20_130811905, 775395-SH_GRADS_SPO_2024-06-20_130835766, 775396-SH_GRADS_SPO_2024-06-20_131408003, 775397-SH_GRADS_SPO_2024-06-20_131413271, 775398-SH_GRADS_SPO_2024-06-20_131459534, 775399-SH_GRADS_SPO_2024-06-20_131484590, 775400-SH_GRADS_SPO_2024-06-20_131831615, 775401-SH_GRADS_SPO_2024-06-20_132174146, 775405-SH_GRADS_SPO_2024-06-20_132227547, 775404-SH_GRADS_SPO_2024-06-20_132587590, 775402-SH_GRADS_SPO_2024-06-20_132652285, 775403-SH_GRADS_SPO_2024-06-20_132734355, 775406-SH_GRADS_SPO_2024-06-20_133643940, 775407-SH_GRADS_SPO_2024-06-20_134005662, 775409-SH_GRADS_SPO_2024-06-20_134443427, 775410-SH_GRADS_SPO_2024-06-20_134564487, 775408-SH_GRADS_SPO_2024-06-20_135163753, 775411-SH_GRADS_SPO_2024-06-20_135211566, 775412-SH_GRADS_SPO_2024-06-20_135880245, 775413-SH_GRADS_SPO_2024-06-20_135901550, 775414-SH_GRADS_SPO_2024-06-20_135927574, 775415-SH_GRADS_SPO_2024-06-20_135965127, 775416-SH_GRADS_SPO_2024-06-20_135990843, 775417-SH_GRADS_SPO_2024-06-20_136018400, 775418-SH_GRADS_SPO_2024-06-20_136533607, 775419-SH_GRADS_SPO_2024-06-20_136575204, 775420-SH_GRADS_SPO_2024-06-20_136864534, 775421-SH_GRADS_SPO_2024-06-20_136865775, 775422-SH_GRADS_SPO_2024-06-20_137082191, 775424-SH_GRADS_SPO_2024-06-20_137226859, 775423-SH_GRADS_SPO_2024-06-20_138006426, 775425-SH_GRADS_SPO_2024-06-20_138528899, 775426-SH_GRADS_SPO_2024-06-20_138543473, 775427-SH_GRADS_SPO_2024-06-20_138597607, 775429-SH_GRADS_SPO_2024-06-20_138842397, 775428-SH_GRADS_SPO_2024-06-20_139205235, 775430-SH_GRADS_SPO_2024-06-20_139225527, 775431-SH_GRADS_SPO_2024-06-20_139375189, 775432-SH_GRADS_SPO_2024-06-20_139379436, 775433-SH_GRADS_SPO_2024-06-20_139886884, 775434-SH_GRADS_SPO_2024-06-20_140030092, 775436-SH_GRADS_SPO_2024-06-20_140348668, 775435-SH_GRADS_SPO_2024-06-20_140350886, 775437-SH_GRADS_SPO_2024-06-20_140373453, 775438-SH_GRADS_SPO_2024-06-20_140987839, 775439-SH_GRADS_SPO_2024-06-20_141688883, 775440-SH_GRADS_SPO_2024-06-20_141932068, 775441-SH_GRADS_SPO_2024-06-20_142346052, 775442-SH_GRADS_SPO_2024-06-20_142380265, 775443-SH_GRADS_SPO_2024-06-20_142423008, 775444-SH_GRADS_SPO_2024-06-20_142424700, 775445-SH_GRADS_SPO_2024-06-20_142430290, 775446-SH_GRADS_SPO_2024-06-20_142936074, 775447-SH_GRADS_SPO_2024-06-20_142941655, 775448-SH_GRADS_SPO_2024-06-20_142966481, 775449-SH_GRADS_SPO_2024-06-20_142971943, 775450-SH_GRADS_SPO_2024-06-20_143068250, 775451-SH_GRADS_SPO_2024-06-20_143145106, 775456-SH_GRADS_SPO_2024-06-20_143148177, 775455-SH_GRADS_SPO_2024-06-20_143459185, 775453-SH_GRADS_SPO_2024-06-20_143632664, 775454-SH_GRADS_SPO_2024-06-20_143686858, 775452-SH_GRADS_SPO_2024-06-20_144542476, 775457-SH_GRADS_SPO_2024-06-20_145003365, 775462-SH_GRADS_SPO_2024-06-20_145134880, 775461-SH_GRADS_SPO_2024-06-20_145208175, 775460-SH_GRADS_SPO_2024-06-20_145921673, 775458-SH_GRADS_SPO_2024-06-20_146131507, 775459-SH_GRADS_SPO_2024-06-20_146183439, 775463-SH_GRADS_SPO_2024-06-20_146339477, 775465-SH_GRADS_SPO_2024-06-20_146554932, 775466-SH_GRADS_SPO_2024-06-20_146732115, 775464-SH_GRADS_SPO_2024-06-20_146789526, 775467-SH_GRADS_SPO_2024-06-20_146812984, 775468-SH_GRADS_SPO_2024-06-20_146994616, 775469-SH_GRADS_SPO_2024-06-20_147389600, 775470-SH_GRADS_SPO_2024-06-20_147519220, 775471-SH_GRADS_SPO_2024-06-20_147660647, 775472-SH_GRADS_SPO_2024-06-20_148126960, 775474-SH_GRADS_SPO_2024-06-20_148204308, 775473-SH_GRADS_SPO_2024-06-20_149491417, 775475-SH_GRADS_SPO_2024-06-20_149632649, 775476-SH_GRADS_SPO_2024-06-20_150040507, 775477-SH_GRADS_SPO_2024-06-20_150050369, 775478-SH_GRADS_SPO_2024-06-20_150131820, 775479-SH_GRADS_SPO_2024-06-20_150201178, 775480-SH_GRADS_SPO_2024-06-20_150778788, 775481-SH_GRADS_SPO_2024-06-20_150788361, 775482-SH_GRADS_SPO_2024-06-20_150872348, 775483-SH_GRADS_SPO_2024-06-20_150996665, 775484-SH_GRADS_SPO_2024-06-20_151267771, 775485-SH_GRADS_SPO_2024-06-20_151556588, 775486-SH_GRADS_SPO_2024-06-20_151954551, 775487-SH_GRADS_SPO_2024-06-20_152056257, 775488-SH_GRADS_SPO_2024-06-20_152178501, 775489-SH_GRADS_SPO_2024-06-20_152901768, 775490-SH_GRADS_SPO_2024-06-20_152970982, 775491-SH_GRADS_SPO_2024-06-20_153067476, 775492-SH_GRADS_SPO_2024-06-20_153449073, 775493-SH_GRADS_SPO_2024-06-20_153483141, 775494-SH_GRADS_SPO_2024-06-20_153515476, 775496-SH_GRADS_SPO_2024-06-20_153517727, 775495-SH_GRADS_SPO_2024-06-20_153974282, 775497-SH_GRADS_SPO_2024-06-20_154002742, 775498-SH_GRADS_SPO_2024-06-20_154065717, 775499-SH_GRADS_SPO_2024-06-20_155108602, 775500-SH_GRADS_SPO_2024-06-20_155232641, 775505-SH_GRADS_SPO_2024-06-20_155619437, 775501-SH_GRADS_SPO_2024-06-20_155727524, 775506-SH_GRADS_SPO_2024-06-20_155731422, 775504-SH_GRADS_SPO_2024-06-20_155993198, 775503-SH_GRADS_SPO_2024-06-20_156214589, 775502-SH_GRADS_SPO_2024-06-20_156240585, 775507-SH_GRADS_SPO_2024-06-20_156283054, 775512-SH_GRADS_SPO_2024-06-20_156332662, 775509-SH_GRADS_SPO_2024-06-20_157276361, 775508-SH_GRADS_SPO_2024-06-20_157334816, 775510-SH_GRADS_SPO_2024-06-20_157406957, 775511-SH_GRADS_SPO_2024-06-20_157442292, 775513-SH_GRADS_SPO_2024-06-20_157577036, 775514-SH_GRADS_SPO_2024-06-20_157740218, 775515-SH_GRADS_SPO_2024-06-20_157797822, 775516-SH_GRADS_SPO_2024-06-20_157871741, 775517-SH_GRADS_SPO_2024-06-20_157904731, 775518-SH_GRADS_SPO_2024-06-20_157971726, 775519-SH_GRADS_SPO_2024-06-20_157977183, 775520-SH_GRADS_SPO_2024-06-20_158042225, 775521-SH_GRADS_SPO_2024-06-20_158367502, 775522-SH_GRADS_SPO_2024-06-20_158598599, 775523-SH_GRADS_SPO_2024-06-20_158618181, 775524-SH_GRADS_SPO_2024-06-20_158630797, 775525-SH_GRADS_SPO_2024-06-20_158832933, 775526-SH_GRADS_SPO_2024-06-20_158892675, 775528-SH_GRADS_SPO_2024-06-20_159123005, 775527-SH_GRADS_SPO_2024-06-20_159189909, 775529-SH_GRADS_SPO_2024-06-20_159262745, 775530-SH_GRADS_SPO_2024-06-20_159329640, 775531-SH_GRADS_SPO_2024-06-20_159408501, 775532-SH_GRADS_SPO_2024-06-20_159476531, 775533-SH_GRADS_SPO_2024-06-20_159745887, 775534-SH_GRADS_SPO_2024-06-20_159814854, 775535-SH_GRADS_SPO_2024-06-20_159901766, 775536-SH_GRADS_SPO_2024-06-20_159903711, 775537-SH_GRADS_SPO_2024-06-20_159927809, 775538-SH_GRADS_SPO_2024-06-20_159945354, 775539-SH_GRADS_SPO_2024-06-20_160093767, 775540-SH_GRADS_SPO_2024-06-20_160204423, 775541-SH_GRADS_SPO_2024-06-20_160257042, 775542-SH_GRADS_SPO_2024-06-20_160358303, 775543-SH_GRADS_SPO_2024-06-20_160372036, 775544-SH_GRADS_SPO_2024-06-20_160409388, 775545-SH_GRADS_SPO_2024-06-20_160438745, 775546-SH_GRADS_SPO_2024-06-20_160508901, 775547-SH_GRADS_SPO_2024-06-20_160731730, 775548-SH_GRADS_SPO_2024-06-20_160918221, 775549-SH_GRADS_SPO_2024-06-20_160982882, 775550-SH_GRADS_SPO_2024-06-20_161058266, 775551-SH_GRADS_SPO_2024-06-20_161282143, 775556-SH_GRADS_SPO_2024-06-20_161336971, 775555-SH_GRADS_SPO_2024-06-20_161446732, 775553-SH_GRADS_SPO_2024-06-20_161516882, 775554-SH_GRADS_SPO_2024-06-20_161676145, 775552-SH_GRADS_SPO_2024-06-20_161693056, 775557-SH_GRADS_SPO_2024-06-20_161718096, 775558-SH_GRADS_SPO_2024-06-20_161787763, 775559-SH_GRADS_SPO_2024-06-20_161819441, 775561-SH_GRADS_SPO_2024-06-20_161820749, 775560-SH_GRADS_SPO_2024-06-20_161974136, 775562-SH_GRADS_SPO_2024-06-20_162309536, 775563-SH_GRADS_SPO_2024-06-20_162606689, 775565-SH_GRADS_SPO_2024-06-20_162692764, 775564-SH_GRADS_SPO_2024-06-20_163266929, 775566-SH_GRADS_SPO_2024-06-20_163338418, 775567-SH_GRADS_SPO_2024-06-20_163596057, 775568-SH_GRADS_SPO_2024-06-20_163885865, 775569-SH_GRADS_SPO_2024-06-20_163919815, 775570-SH_GRADS_SPO_2024-06-20_164893032, 775571-SH_GRADS_SPO_2024-06-20_165225203, 775572-SH_GRADS_SPO_2024-06-20_165522131, 775573-SH_GRADS_SPO_2024-06-20_165874788, 775574-SH_GRADS_SPO_2024-06-20_165893144, 775575-SH_GRADS_SPO_2024-06-20_166003249, 775576-SH_GRADS_SPO_2024-06-20_166385930, 775578-SH_GRADS_SPO_2024-06-20_166499016, 775577-SH_GRADS_SPO_2024-06-20_166678091, 775580-SH_GRADS_SPO_2024-06-20_166764712, 775579-SH_GRADS_SPO_2024-06-20_166953581, 775581-SH_GRADS_SPO_2024-06-20_167281730, 775582-SH_GRADS_SPO_2024-06-20_167581428, 775583-SH_GRADS_SPO_2024-06-20_167617162, 775584-SH_GRADS_SPO_2024-06-20_167678382, 775585-SH_GRADS_SPO_2024-06-20_167764887, 775586-SH_GRADS_SPO_2024-06-20_167887697, 775588-SH_GRADS_SPO_2024-06-20_168287775, 775587-SH_GRADS_SPO_2024-06-20_168387805, 775589-SH_GRADS_SPO_2024-06-20_168469335, 775591-SH_GRADS_SPO_2024-06-20_168481094, 775590-SH_GRADS_SPO_2024-06-20_168511312, 775592-SH_GRADS_SPO_2024-06-20_168706841, 775593-SH_GRADS_SPO_2024-06-20_168925427, 775594-SH_GRADS_SPO_2024-06-20_169572518, 775595-SH_GRADS_SPO_2024-06-20_169778972, 775596-SH_GRADS_SPO_2024-06-20_169869504, 775597-SH_GRADS_SPO_2024-06-20_170281552, 775598-SH_GRADS_SPO_2024-06-20_170778466, 775599-SH_GRADS_SPO_2024-06-20_171025012, 775600-SH_GRADS_SPO_2024-06-20_171086696, 775601-SH_GRADS_SPO_2024-06-20_171272212, 775606-SH_GRADS_SPO_2024-06-20_171458417, 775604-SH_GRADS_SPO_2024-06-20_171462766, 775605-SH_GRADS_SPO_2024-06-20_172002320, 775603-SH_GRADS_SPO_2024-06-20_172094271, 775602-SH_GRADS_SPO_2024-06-20_172127080, 775607-SH_GRADS_SPO_2024-06-20_172476777, 775609-SH_GRADS_SPO_2024-06-20_172653819, 775608-SH_GRADS_SPO_2024-06-20_172734736, 775610-SH_GRADS_SPO_2024-06-20_173058564, 775611-SH_GRADS_SPO_2024-06-20_173123922, 775612-SH_GRADS_SPO_2024-06-20_173262106, 775613-SH_GRADS_SPO_2024-06-20_173332511, 775614-SH_GRADS_SPO_2024-06-20_173368870, 775615-SH_GRADS_SPO_2024-06-20_173513536, 775616-SH_GRADS_SPO_2024-06-20_173588420, 775618-SH_GRADS_SPO_2024-06-20_173839221, 775617-SH_GRADS_SPO_2024-06-20_174129090, 775619-SH_GRADS_SPO_2024-06-20_174163553, 775620-SH_GRADS_SPO_2024-06-20_174719006, 775622-SH_GRADS_SPO_2024-06-20_175137089, 775621-SH_GRADS_SPO_2024-06-20_175743272, 775623-SH_GRADS_SPO_2024-06-20_175808271, 775624-SH_GRADS_SPO_2024-06-20_175933526, 775625-SH_GRADS_SPO_2024-06-20_176401618, 775626-SH_GRADS_SPO_2024-06-20_176500915, 775627-SH_GRADS_SPO_2024-06-20_176631547, 775628-SH_GRADS_SPO_2024-06-20_176762806, 775629-SH_GRADS_SPO_2024-06-20_176861596, 775630-SH_GRADS_SPO_2024-06-20_176937577, 775631-SH_GRADS_SPO_2024-06-20_177045390, 775632-SH_GRADS_SPO_2024-06-20_177104564, 775633-SH_GRADS_SPO_2024-06-20_177647210, 775634-SH_GRADS_SPO_2024-06-20_177666736, 775635-SH_GRADS_SPO_2024-06-20_177703550, 775636-SH_GRADS_SPO_2024-06-20_178066178, 775637-SH_GRADS_SPO_2024-06-20_178085364, 775638-SH_GRADS_SPO_2024-06-20_178100453, 775639-SH_GRADS_SPO_2024-06-20_178511008, 775640-SH_GRADS_SPO_2024-06-20_178611467, 775641-SH_GRADS_SPO_2024-06-20_178699565, 775642-SH_GRADS_SPO_2024-06-20_179271711, 775643-SH_GRADS_SPO_2024-06-20_179359513, 775644-SH_GRADS_SPO_2024-06-20_179604772, 775646-SH_GRADS_SPO_2024-06-20_179722880, 775645-SH_GRADS_SPO_2024-06-20_179738413, 775647-SH_GRADS_SPO_2024-06-20_180358588, 775648-SH_GRADS_SPO_2024-06-20_180370422, 775649-SH_GRADS_SPO_2024-06-20_180379102, 775650-SH_GRADS_SPO_2024-06-20_180383932, 775651-SH_GRADS_SPO_2024-06-20_180480741, 775654-SH_GRADS_SPO_2024-06-20_180744531, 775653-SH_GRADS_SPO_2024-06-20_180921938, 775652-SH_GRADS_SPO_2024-06-20_181074956, 775655-SH_GRADS_SPO_2024-06-20_181179950, 775656-SH_GRADS_SPO_2024-06-20_181869378, 775657-SH_GRADS_SPO_2024-06-20_182069434, 775659-SH_GRADS_SPO_2024-06-20_182156415, 775660-SH_GRADS_SPO_2024-06-20_182465119, 775658-SH_GRADS_SPO_2024-06-20_182799394, 775661-SH_GRADS_SPO_2024-06-20_183174622, 775662-SH_GRADS_SPO_2024-06-20_183764997, 775663-SH_GRADS_SPO_2024-06-20_183964530, 775665-SH_GRADS_SPO_2024-06-20_183966374, 775664-SH_GRADS_SPO_2024-06-20_184223849, 775666-SH_GRADS_SPO_2024-06-20_184280505, 775667-SH_GRADS_SPO_2024-06-20_184289295, 775668-SH_GRADS_SPO_2024-06-20_184325877, 775669-SH_GRADS_SPO_2024-06-20_184561619, 775670-SH_GRADS_SPO_2024-06-20_184749295, 775671-SH_GRADS_SPO_2024-06-20_185244544, 775672-SH_GRADS_SPO_2024-06-20_185380591, 775673-SH_GRADS_SPO_2024-06-20_185390919, 775674-SH_GRADS_SPO_2024-06-20_185392258, 775675-SH_GRADS_SPO_2024-06-20_186219387, 775676-SH_GRADS_SPO_2024-06-20_186261268, 775677-SH_GRADS_SPO_2024-06-20_186836656, 775679-SH_GRADS_SPO_2024-06-20_187412071, 775678-SH_GRADS_SPO_2024-06-20_187582711, 775680-SH_GRADS_SPO_2024-06-20_188129787, 775681-SH_GRADS_SPO_2024-06-20_188237927, 775682-SH_GRADS_SPO_2024-06-20_188262798, 775683-SH_GRADS_SPO_2024-06-20_188333597, 775684-SH_GRADS_SPO_2024-06-20_188884078, 775685-SH_GRADS_SPO_2024-06-20_188891209, 775686-SH_GRADS_SPO_2024-06-20_188945697, 775687-SH_GRADS_SPO_2024-06-20_189375001, 775688-SH_GRADS_SPO_2024-06-20_190511543, 775689-SH_GRADS_SPO_2024-06-20_190697025, 775690-SH_GRADS_SPO_2024-06-20_190851771, 775691-SH_GRADS_SPO_2024-06-20_191016000, 775692-SH_GRADS_SPO_2024-06-20_191150710, 775693-SH_GRADS_SPO_2024-06-20_191532627, 775694-SH_GRADS_SPO_2024-06-20_191758101, 775695-SH_GRADS_SPO_2024-06-20_191776714, 775696-SH_GRADS_SPO_2024-06-20_191792051, 775698-SH_GRADS_SPO_2024-06-20_191850204, 775697-SH_GRADS_SPO_2024-06-20_191899848, 775699-SH_GRADS_SPO_2024-06-20_192792858, 775700-SH_GRADS_SPO_2024-06-20_192823490, 775701-SH_GRADS_SPO_2024-06-20_193210451, 775706-SH_GRADS_SPO_2024-06-20_193239658, 775704-SH_GRADS_SPO_2024-06-20_193256399, 775705-SH_GRADS_SPO_2024-06-20_193520906, 775703-SH_GRADS_SPO_2024-06-20_193913334, 775702-SH_GRADS_SPO_2024-06-20_194075013, 775707-SH_GRADS_SPO_2024-06-20_194254980, 775708-SH_GRADS_SPO_2024-06-20_194451246, 775709-SH_GRADS_SPO_2024-06-20_195140651, 775710-SH_GRADS_SPO_2024-06-20_195787042, 775711-SH_GRADS_SPO_2024-06-20_195801872, 775712-SH_GRADS_SPO_2024-06-20_195905825, 775713-SH_GRADS_SPO_2024-06-20_196026817, 775714-SH_GRADS_SPO_2024-06-20_196384975, 775715-SH_GRADS_SPO_2024-06-20_196659036, 775717-SH_GRADS_SPO_2024-06-20_196702048, 775718-SH_GRADS_SPO_2024-06-20_196731976, 775716-SH_GRADS_SPO_2024-06-20_196779934, 775719-SH_GRADS_SPO_2024-06-20_197520786, 775720-SH_GRADS_SPO_2024-06-20_197579162, 775721-SH_GRADS_SPO_2024-06-20_198114188, 775723-SH_GRADS_SPO_2024-06-20_198159421, 775722-SH_GRADS_SPO_2024-06-20_198258075, 775724-SH_GRADS_SPO_2024-06-20_198597619, 775725-SH_GRADS_SPO_2024-06-20_199174689, 775726-SH_GRADS_SPO_2024-06-20_199430956, 775727-SH_GRADS_SPO_2024-06-20_199936001, 775729-SH_GRADS_SPO_2024-06-20_200219573, 775728-SH_GRADS_SPO_2024-06-20_200740081, 775730-SH_GRADS_SPO_2024-06-20_200807793, 775731-SH_GRADS_SPO_2024-06-20_200834506, 775732-SH_GRADS_SPO_2024-06-20_200836126, 775733-SH_GRADS_SPO_2024-06-20_200846868, 775734-SH_GRADS_SPO_2024-06-20_200900601, 775735-SH_GRADS_SPO_2024-06-20_201692785, 775736-SH_GRADS_SPO_2024-06-20_201867974, 775737-SH_GRADS_SPO_2024-06-20_201956414, 775738-SH_GRADS_SPO_2024-06-20_202295624, 775739-SH_GRADS_SPO_2024-06-20_202584718, 775740-SH_GRADS_SPO_2024-06-20_203264444, 775741-SH_GRADS_SPO_2024-06-20_203691316, 775742-SH_GRADS_SPO_2024-06-20_203897859, 775743-SH_GRADS_SPO_2024-06-20_204273739, 775744-SH_GRADS_SPO_2024-06-20_204499365, 775745-SH_GRADS_SPO_2024-06-20_204499542, 775747-SH_GRADS_SPO_2024-06-20_204698004, 775748-SH_GRADS_SPO_2024-06-20_204933337, 775746-SH_GRADS_SPO_2024-06-20_205008299, 775749-SH_GRADS_SPO_2024-06-20_205109343, 775751-SH_GRADS_SPO_2024-06-20_205468660, 775755-SH_GRADS_SPO_2024-06-20_205553850, 775750-SH_GRADS_SPO_2024-06-20_205554465, 775754-SH_GRADS_SPO_2024-06-20_205583950, 775753-SH_GRADS_SPO_2024-06-20_205619535, 775752-SH_GRADS_SPO_2024-06-20_205723026, 775756-SH_GRADS_SPO_2024-06-20_207375361, 775757-SH_GRADS_SPO_2024-06-20_207501270, 775758-SH_GRADS_SPO_2024-06-20_207535083, 775760-SH_GRADS_SPO_2024-06-20_207710816, 775761-SH_GRADS_SPO_2024-06-20_208191923, 775759-SH_GRADS_SPO_2024-06-20_208233459, 775762-SH_GRADS_SPO_2024-06-20_208331069, 775763-SH_GRADS_SPO_2024-06-20_208359793, 775766-SH_GRADS_SPO_2024-06-20_208944535, 775764-SH_GRADS_SPO_2024-06-20_209030346, 775765-SH_GRADS_SPO_2024-06-20_209065289, 775767-SH_GRADS_SPO_2024-06-20_209258363, 775768-SH_GRADS_SPO_2024-06-20_209291702, 775769-SH_GRADS_SPO_2024-06-20_209324955, 775770-SH_GRADS_SPO_2024-06-20_209873274, 775771-SH_GRADS_SPO_2024-06-20_210179455, 775772-SH_GRADS_SPO_2024-06-20_210275945, 775773-SH_GRADS_SPO_2024-06-20_210856781, 775774-SH_GRADS_SPO_2024-06-20_210943615, 775775-SH_GRADS_SPO_2024-06-20_211004405, 775777-SH_GRADS_SPO_2024-06-20_211031640, 775776-SH_GRADS_SPO_2024-06-20_211145663, 775778-SH_GRADS_SPO_2024-06-20_211696450, 775779-SH_GRADS_SPO_2024-06-20_211987549, 775780-SH_GRADS_SPO_2024-06-20_212040785, 775781-SH_GRADS_SPO_2024-06-20_212103449, 775783-SH_GRADS_SPO_2024-06-20_212900323, 775782-SH_GRADS_SPO_2024-06-20_213313640, 775784-SH_GRADS_SPO_2024-06-20_213495412, 775785-SH_GRADS_SPO_2024-06-20_213538137, 775786-SH_GRADS_SPO_2024-06-20_214832852, 775787-SH_GRADS_SPO_2024-06-20_214927312, 775788-SH_GRADS_SPO_2024-06-20_214966802, 775789-SH_GRADS_SPO_2024-06-20_215245102, 775790-SH_GRADS_SPO_2024-06-20_215282330, 775791-SH_GRADS_SPO_2024-06-20_215635993, 775792-SH_GRADS_SPO_2024-06-20_215676169, 775793-SH_GRADS_SPO_2024-06-20_215782880, 775794-SH_GRADS_SPO_2024-06-20_215854356, 775795-SH_GRADS_SPO_2024-06-20_216205491, 775796-SH_GRADS_SPO_2024-06-20_216423135, 775798-SH_GRADS_SPO_2024-06-20_217041261, 775797-SH_GRADS_SPO_2024-06-20_217257257, 775799-SH_GRADS_SPO_2024-06-20_218019564, 775800-SH_GRADS_SPO_2024-06-20_218377429, 775801-SH_GRADS_SPO_2024-06-20_218409894, 775806-SH_GRADS_SPO_2024-06-20_219045724, 775805-SH_GRADS_SPO_2024-06-20_219167673, 775803-SH_GRADS_SPO_2024-06-20_219496444, 775802-SH_GRADS_SPO_2024-06-20_219942294, 775804-SH_GRADS_SPO_2024-06-20_220150148, 775807-SH_GRADS_SPO_2024-06-20_220276409, 775808-SH_GRADS_SPO_2024-06-20_220413996, 775812-SH_GRADS_SPO_2024-06-20_220667501, 775810-SH_GRADS_SPO_2024-06-20_221281343, 775809-SH_GRADS_SPO_2024-06-20_221285855, 775811-SH_GRADS_SPO_2024-06-20_221332771, 775813-SH_GRADS_SPO_2024-06-20_222573385, 775814-SH_GRADS_SPO_2024-06-20_222778054, 775817-SH_GRADS_SPO_2024-06-20_222801966, 775815-SH_GRADS_SPO_2024-06-20_222945997, 775816-SH_GRADS_SPO_2024-06-20_223327078, 775818-SH_GRADS_SPO_2024-06-20_224604777, 775819-SH_GRADS_SPO_2024-06-20_225067540, 775820-SH_GRADS_SPO_2024-06-20_225100917, 775821-SH_GRADS_SPO_2024-06-20_225125858, 775822-SH_GRADS_SPO_2024-06-20_225158468, 775823-SH_GRADS_SPO_2024-06-20_225185121, 775824-SH_GRADS_SPO_2024-06-20_225256360, 775825-SH_GRADS_SPO_2024-06-20_225962159, 775827-SH_GRADS_SPO_2024-06-20_226005059, 775826-SH_GRADS_SPO_2024-06-20_226138885, 775829-SH_GRADS_SPO_2024-06-20_226150988, 775828-SH_GRADS_SPO_2024-06-20_226753387, 775830-SH_GRADS_SPO_2024-06-20_226760181, 775831-SH_GRADS_SPO_2024-06-20_226874063, 775832-SH_GRADS_SPO_2024-06-20_227248682, 775833-SH_GRADS_SPO_2024-06-20_227930690, 775834-SH_GRADS_SPO_2024-06-20_228337106, 775835-SH_GRADS_SPO_2024-06-20_228483079, 775836-SH_GRADS_SPO_2024-06-20_228918362, 775837-SH_GRADS_SPO_2024-06-20_229055548, 775838-SH_GRADS_SPO_2024-06-20_229166641, 775839-SH_GRADS_SPO_2024-06-20_229272895, 775840-SH_GRADS_SPO_2024-06-20_229571856, 775841-SH_GRADS_SPO_2024-06-20_232431605, 775842-SH_GRADS_SPO_2024-06-20_232634237, 775843-SH_GRADS_SPO_2024-06-20_232866952, 775844-SH_GRADS_SPO_2024-06-20_232959402, 775845-SH_GRADS_SPO_2024-06-20_233175999, 775847-SH_GRADS_SPO_2024-06-20_233611677, 775846-SH_GRADS_SPO_2024-06-20_233638781, 775848-SH_GRADS_SPO_2024-06-20_233643185, 775849-SH_GRADS_SPO_2024-06-20_233956190, 775850-SH_GRADS_SPO_2024-06-20_234194750, 775851-SH_GRADS_SPO_2024-06-20_234733008, 775856-SH_GRADS_SPO_2024-06-20_235491998, 775855-SH_GRADS_SPO_2024-06-20_236355397, 775853-SH_GRADS_SPO_2024-06-20_237729667, 775852-SH_GRADS_SPO_2024-06-20_237921797, 775854-SH_GRADS_SPO_2024-06-20_237929077, 775857-SH_GRADS_SPO_2024-06-20_237979108, 775860-SH_GRADS_SPO_2024-06-20_238219839, 775859-SH_GRADS_SPO_2024-06-20_238403852, 775858-SH_GRADS_SPO_2024-06-20_238721526, 775861-SH_GRADS_SPO_2024-06-20_239847397, 775862-SH_GRADS_SPO_2024-06-20_239857549, 775863-SH_GRADS_SPO_2024-06-20_240684179, 775865-SH_GRADS_SPO_2024-06-20_240708862, 775866-SH_GRADS_SPO_2024-06-20_240987766, 775867-SH_GRADS_SPO_2024-06-20_242029637, 775864-SH_GRADS_SPO_2024-06-20_242263514, 775868-SH_GRADS_SPO_2024-06-20_242287209, 775869-SH_GRADS_SPO_2024-06-20_243239287, 775870-SH_GRADS_SPO_2024-06-20_244076905, 775871-SH_GRADS_SPO_2024-06-20_244192768, 775872-SH_GRADS_SPO_2024-06-20_244796934, 775873-SH_GRADS_SPO_2024-06-20_244902685, 775874-SH_GRADS_SPO_2024-06-20_245363061, 775875-SH_GRADS_SPO_2024-06-20_245512047, 775876-SH_GRADS_SPO_2024-06-20_246978619, 775877-SH_GRADS_SPO_2024-06-20_247334166, 775879-SH_GRADS_SPO_2024-06-20_248018931, 775878-SH_GRADS_SPO_2024-06-20_248081938, 775880-SH_GRADS_SPO_2024-06-20_248272815, 775881-SH_GRADS_SPO_2024-06-20_249185316, 775882-SH_GRADS_SPO_2024-06-20_249257601, 775883-SH_GRADS_SPO_2024-06-20_249849917, 775885-SH_GRADS_SPO_2024-06-20_250869201, 775884-SH_GRADS_SPO_2024-06-20_251014854, 775886-SH_GRADS_SPO_2024-06-20_251145565, 775887-SH_GRADS_SPO_2024-06-20_251213837, 775888-SH_GRADS_SPO_2024-06-20_251658774, 775889-SH_GRADS_SPO_2024-06-20_251968467, 775891-SH_GRADS_SPO_2024-06-20_251999297, 775890-SH_GRADS_SPO_2024-06-20_252024441, 775892-SH_GRADS_SPO_2024-06-20_252258560, 775893-SH_GRADS_SPO_2024-06-20_252299429, 775894-SH_GRADS_SPO_2024-06-20_252852461, 775895-SH_GRADS_SPO_2024-06-20_253082149, 775896-SH_GRADS_SPO_2024-06-20_253755022, 775897-SH_GRADS_SPO_2024-06-20_254476670, 775898-SH_GRADS_SPO_2024-06-20_254590739, 775899-SH_GRADS_SPO_2024-06-20_254961589, 775900-SH_GRADS_SPO_2024-06-20_255448109, 775901-SH_GRADS_SPO_2024-06-20_255491506, 775905-SH_GRADS_SPO_2024-06-20_255659381, 775904-SH_GRADS_SPO_2024-06-20_256348078, 775903-SH_GRADS_SPO_2024-06-20_257292836, 775902-SH_GRADS_SPO_2024-06-20_257392879, 775906-SH_GRADS_SPO_2024-06-20_257451411, 775907-SH_GRADS_SPO_2024-06-20_257461359, 775909-SH_GRADS_SPO_2024-06-20_258396355, 775908-SH_GRADS_SPO_2024-06-20_258522368, 775911-SH_GRADS_SPO_2024-06-20_258878668, 775910-SH_GRADS_SPO_2024-06-20_259004400, 775912-SH_GRADS_SPO_2024-06-20_259108256, 775913-SH_GRADS_SPO_2024-06-20_259722020, 775915-SH_GRADS_SPO_2024-06-20_259778263, 775916-SH_GRADS_SPO_2024-06-20_260642138, 775914-SH_GRADS_SPO_2024-06-20_260690222, 775918-SH_GRADS_SPO_2024-06-20_261022489, 775917-SH_GRADS_SPO_2024-06-20_261047009, 775919-SH_GRADS_SPO_2024-06-20_261081954, 775920-SH_GRADS_SPO_2024-06-20_262061992, 775921-SH_GRADS_SPO_2024-06-20_262577023, 775922-SH_GRADS_SPO_2024-06-20_262581494, 775923-SH_GRADS_SPO_2024-06-20_263170143, 775924-SH_GRADS_SPO_2024-06-20_263190762, 775925-SH_GRADS_SPO_2024-06-20_263313605, 775926-SH_GRADS_SPO_2024-06-20_263339734, 775927-SH_GRADS_SPO_2024-06-20_263848635, 775928-SH_GRADS_SPO_2024-06-20_263858146, 775929-SH_GRADS_SPO_2024-06-20_264262885, 775930-SH_GRADS_SPO_2024-06-20_264294032, 775931-SH_GRADS_SPO_2024-06-20_264442691, 775932-SH_GRADS_SPO_2024-06-20_264490594, 775933-SH_GRADS_SPO_2024-06-20_264923372, 775934-SH_GRADS_SPO_2024-06-20_265677731, 775935-SH_GRADS_SPO_2024-06-20_265679300, 775936-SH_GRADS_SPO_2024-06-20_265715130, 775937-SH_GRADS_SPO_2024-06-20_265732916, 775938-SH_GRADS_SPO_2024-06-20_265901531, 775940-SH_GRADS_SPO_2024-06-20_265934356, 775939-SH_GRADS_SPO_2024-06-20_265983386, 775941-SH_GRADS_SPO_2024-06-20_266159461, 775942-SH_GRADS_SPO_2024-06-20_266291315, 775943-SH_GRADS_SPO_2024-06-20_266348556, 775944-SH_GRADS_SPO_2024-06-20_266608530, 775945-SH_GRADS_SPO_2024-06-20_266619584, 775946-SH_GRADS_SPO_2024-06-20_267345094, 775947-SH_GRADS_SPO_2024-06-20_267373475, 775948-SH_GRADS_SPO_2024-06-20_267834813, 775949-SH_GRADS_SPO_2024-06-20_268062843, 775950-SH_GRADS_SPO_2024-06-20_268651839, 775951-SH_GRADS_SPO_2024-06-20_268710175, 775955-SH_GRADS_SPO_2024-06-20_268761072, 775956-SH_GRADS_SPO_2024-06-20_268823721, 775953-SH_GRADS_SPO_2024-06-20_269160856, 775954-SH_GRADS_SPO_2024-06-20_269230649, 775952-SH_GRADS_SPO_2024-06-20_269298253, 775957-SH_GRADS_SPO_2024-06-20_269450647, 775958-SH_GRADS_SPO_2024-06-20_269909214, 775960-SH_GRADS_SPO_2024-06-20_270114204, 775959-SH_GRADS_SPO_2024-06-20_270161991, 775962-SH_GRADS_SPO_2024-06-20_270196162, 775961-SH_GRADS_SPO_2024-06-20_272592440, 775963-SH_GRADS_SPO_2024-06-20_272719984, 775966-SH_GRADS_SPO_2024-06-20_272721757, 775965-SH_GRADS_SPO_2024-06-20_273306033, 775964-SH_GRADS_SPO_2024-06-20_273319768, 775967-SH_GRADS_SPO_2024-06-20_273467490, 775968-SH_GRADS_SPO_2024-06-20_273718541, 775969-SH_GRADS_SPO_2024-06-20_273742283, 775970-SH_GRADS_SPO_2024-06-20_273754594, 775971-SH_GRADS_SPO_2024-06-20_273895787, 775972-SH_GRADS_SPO_2024-06-20_274353470, 775973-SH_GRADS_SPO_2024-06-20_274949991, 775974-SH_GRADS_SPO_2024-06-20_275043774, 775975-SH_GRADS_SPO_2024-06-20_275879339, 775976-SH_GRADS_SPO_2024-06-20_275993911, 775977-SH_GRADS_SPO_2024-06-20_276041504, 775979-SH_GRADS_SPO_2024-06-20_276573748, 775978-SH_GRADS_SPO_2024-06-20_276747379, 775980-SH_GRADS_SPO_2024-06-20_277236464, 775981-SH_GRADS_SPO_2024-06-20_277322639, 775982-SH_GRADS_SPO_2024-06-20_277325156, 775983-SH_GRADS_SPO_2024-06-20_277327333, 775984-SH_GRADS_SPO_2024-06-20_277362083, 775985-SH_GRADS_SPO_2024-06-20_277580844, 775987-SH_GRADS_SPO_2024-06-20_278001622, 775986-SH_GRADS_SPO_2024-06-20_278013667, 775988-SH_GRADS_SPO_2024-06-20_278333622, 775989-SH_GRADS_SPO_2024-06-20_279183481, 775990-SH_GRADS_SPO_2024-06-20_279498454, 775991-SH_GRADS_SPO_2024-06-20_280569050, 775992-SH_GRADS_SPO_2024-06-20_282660691, 775993-SH_GRADS_SPO_2024-06-20_283242583, 775994-SH_GRADS_SPO_2024-06-20_283280161, 775995-SH_GRADS_SPO_2024-06-20_284173116, 775996-SH_GRADS_SPO_2024-06-20_284183993, 775997-SH_GRADS_SPO_2024-06-20_284185302, 775998-SH_GRADS_SPO_2024-06-20_284476291, 775999-SH_GRADS_SPO_2024-06-20_284477832, 776000-SH_GRADS_SPO_2024-06-20_284577250, 776001-SH_GRADS_SPO_2024-06-20_284622073, 776003-SH_GRADS_SPO_2024-06-20_285636226, 776002-SH_GRADS_SPO_2024-06-20_285856364, 776004-SH_GRADS_SPO_2024-06-20_285932263, 776005-SH_GRADS_SPO_2024-06-20_286441228, 776006-SH_GRADS_SPO_2024-06-20_287142624, 776007-SH_GRADS_SPO_2024-06-20_287989233, 776008-SH_GRADS_SPO_2024-06-20_288129020, 776011-SH_GRADS_SPO_2024-06-20_288487096, 776009-SH_GRADS_SPO_2024-06-20_288562446, 776010-SH_GRADS_SPO_2024-06-20_288626384, 776012-SH_GRADS_SPO_2024-06-20_288940239, 776013-SH_GRADS_SPO_2024-06-20_289016880, 776014-SH_GRADS_SPO_2024-06-20_289072128, 776016-SH_GRADS_SPO_2024-06-20_289322330, 776015-SH_GRADS_SPO_2024-06-20_289621709, 776017-SH_GRADS_SPO_2024-06-20_289680518, 776018-SH_GRADS_SPO_2024-06-20_289732959, 776019-SH_GRADS_SPO_2024-06-20_289825534, 776020-SH_GRADS_SPO_2024-06-20_289827353, 776021-SH_GRADS_SPO_2024-06-20_290217533, 776022-SH_GRADS_SPO_2024-06-20_290627423, 776023-SH_GRADS_SPO_2024-06-20_290650853, 776024-SH_GRADS_SPO_2024-06-20_290683047, 776025-SH_GRADS_SPO_2024-06-20_290738701, 776026-SH_GRADS_SPO_2024-06-20_290943939, 776027-SH_GRADS_SPO_2024-06-20_290974356, 776028-SH_GRADS_SPO_2024-06-20_291010138, 776029-SH_GRADS_SPO_2024-06-20_291271848, 776030-SH_GRADS_SPO_2024-06-20_291533171, 776031-SH_GRADS_SPO_2024-06-20_291560905, 776032-SH_GRADS_SPO_2024-06-20_291593807, 776033-SH_GRADS_SPO_2024-06-20_291680284, 776034-SH_GRADS_SPO_2024-06-20_291689748, 776035-SH_GRADS_SPO_2024-06-20_291694138, 776036-SH_GRADS_SPO_2024-06-20_291736876, 776037-SH_GRADS_SPO_2024-06-20_291785672, 776038-SH_GRADS_SPO_2024-06-20_292347650, 776039-SH_GRADS_SPO_2024-06-20_292550398, 776041-SH_GRADS_SPO_2024-06-20_292644342, 776040-SH_GRADS_SPO_2024-06-20_292787932, 776042-SH_GRADS_SPO_2024-06-20_292805353, 776043-SH_GRADS_SPO_2024-06-20_292863921, 776044-SH_GRADS_SPO_2024-06-20_293343774, 776045-SH_GRADS_SPO_2024-06-20_293376917, 776046-SH_GRADS_SPO_2024-06-20_293395645, 776047-SH_GRADS_SPO_2024-06-20_293406762, 776049-SH_GRADS_SPO_2024-06-20_293442248, 776048-SH_GRADS_SPO_2024-06-20_294023830, 776050-SH_GRADS_SPO_2024-06-20_294042407, 776051-SH_GRADS_SPO_2024-06-20_294616152, 776053-SH_GRADS_SPO_2024-06-20_294623104, 776052-SH_GRADS_SPO_2024-06-20_294713885, 776054-SH_GRADS_SPO_2024-06-20_294921807, 776055-SH_GRADS_SPO_2024-06-20_295255901, 776056-SH_GRADS_SPO_2024-06-20_296232456, 776057-SH_GRADS_SPO_2024-06-20_296303716, 776058-SH_GRADS_SPO_2024-06-20_296782390, 776059-SH_GRADS_SPO_2024-06-20_296793794, 776061-SH_GRADS_SPO_2024-06-20_296889850, 776060-SH_GRADS_SPO_2024-06-20_297496037, 776062-SH_GRADS_SPO_2024-06-20_298325171, 776063-SH_GRADS_SPO_2024-06-20_299308660, 776065-SH_GRADS_SPO_2024-06-20_299971870, 776064-SH_GRADS_SPO_2024-06-20_300193540, 776066-SH_GRADS_SPO_2024-06-20_300212283, 776067-SH_GRADS_SPO_2024-06-20_300270479, 776068-SH_GRADS_SPO_2024-06-20_300336714, 776069-SH_GRADS_SPO_2024-06-20_300820708, 776072-SH_GRADS_SPO_2024-06-20_300979204, 776073-SH_GRADS_SPO_2024-06-20_301149091, 776071-SH_GRADS_SPO_2024-06-20_301306100, 776070-SH_GRADS_SPO_2024-06-20_301542058, 776074-SH_GRADS_SPO_2024-06-20_301667577, 776075-SH_GRADS_SPO_2024-06-20_302127648, 776076-SH_GRADS_SPO_2024-06-20_302755484, 776078-SH_GRADS_SPO_2024-06-20_303398286, 776077-SH_GRADS_SPO_2024-06-20_305205172, 776079-SH_GRADS_SPO_2024-06-20_306648484, 776080-SH_GRADS_SPO_2024-06-20_307625515, 776081-SH_GRADS_SPO_2024-06-20_307939900, 776082-SH_GRADS_SPO_2024-06-20_308044466, 776083-SH_GRADS_SPO_2024-06-20_308990402, 776084-SH_GRADS_SPO_2024-06-20_309055516, 776085-SH_GRADS_SPO_2024-06-20_309629102, 776086-SH_GRADS_SPO_2024-06-20_309639943, 776087-SH_GRADS_SPO_2024-06-20_309710891, 776088-SH_GRADS_SPO_2024-06-20_309763988, 776089-SH_GRADS_SPO_2024-06-20_310476397, 776090-SH_GRADS_SPO_2024-06-20_310531264, 776092-SH_GRADS_SPO_2024-06-20_310557544, 776091-SH_GRADS_SPO_2024-06-20_311070764, 776093-SH_GRADS_SPO_2024-06-20_311154638, 776094-SH_GRADS_SPO_2024-06-20_311191445, 776096-SH_GRADS_SPO_2024-06-20_311248438, 776095-SH_GRADS_SPO_2024-06-20_311305780, 776097-SH_GRADS_SPO_2024-06-20_311407044, 776098-SH_GRADS_SPO_2024-06-20_311894138, 776099-SH_GRADS_SPO_2024-06-20_313076398, 776100-SH_GRADS_SPO_2024-06-20_313127481, 776101-SH_GRADS_SPO_2024-06-20_313531012, 776105-SH_GRADS_SPO_2024-06-20_313685134, 776104-SH_GRADS_SPO_2024-06-20_313723701, 776103-SH_GRADS_SPO_2024-06-20_313864108, 776102-SH_GRADS_SPO_2024-06-20_314571264, 776106-SH_GRADS_SPO_2024-06-20_314660296, 776107-SH_GRADS_SPO_2024-06-20_315169255, 776108-SH_GRADS_SPO_2024-06-20_315365913, 776109-SH_GRADS_SPO_2024-06-20_315952135, 776110-SH_GRADS_SPO_2024-06-20_315981579, 776111-SH_GRADS_SPO_2024-06-20_316163808, 776112-SH_GRADS_SPO_2024-06-20_316169598, 776113-SH_GRADS_SPO_2024-06-20_317449454, 776114-SH_GRADS_SPO_2024-06-20_318610531, 776115-SH_GRADS_SPO_2024-06-20_318653369, 776116-SH_GRADS_SPO_2024-06-20_318762689, 776117-SH_GRADS_SPO_2024-06-20_318832958, 776118-SH_GRADS_SPO_2024-06-20_319458085, 776119-SH_GRADS_SPO_2024-06-20_319502990, 776120-SH_GRADS_SPO_2024-06-20_319505103, 776122-SH_GRADS_SPO_2024-06-20_319698705, 776121-SH_GRADS_SPO_2024-06-20_320761543, 776124-SH_GRADS_SPO_2024-06-20_320825460, 776123-SH_GRADS_SPO_2024-06-20_320922534, 776125-SH_GRADS_SPO_2024-06-20_320977326, 776128-SH_GRADS_SPO_2024-06-20_321130795, 776127-SH_GRADS_SPO_2024-06-20_321615754, 776126-SH_GRADS_SPO_2024-06-20_321881416, 776129-SH_GRADS_SPO_2024-06-20_322340836, 776130-SH_GRADS_SPO_2024-06-20_322428275, 776131-SH_GRADS_SPO_2024-06-20_322488551, 776132-SH_GRADS_SPO_2024-06-20_322785853, 776134-SH_GRADS_SPO_2024-06-20_323564302, 776133-SH_GRADS_SPO_2024-06-20_323657829, 776135-SH_GRADS_SPO_2024-06-20_324596372, 776136-SH_GRADS_SPO_2024-06-20_324624109, 776137-SH_GRADS_SPO_2024-06-20_325167947, 776139-SH_GRADS_SPO_2024-06-20_326838670, 776138-SH_GRADS_SPO_2024-06-20_326891358, 776141-SH_GRADS_SPO_2024-06-20_327673995, 776140-SH_GRADS_SPO_2024-06-20_328288040, 776142-SH_GRADS_SPO_2024-06-20_328725414, 776143-SH_GRADS_SPO_2024-06-20_328800663, 776144-SH_GRADS_SPO_2024-06-20_328818568, 776145-SH_GRADS_SPO_2024-06-20_328906514, 776146-SH_GRADS_SPO_2024-06-20_329383795, 776147-SH_GRADS_SPO_2024-06-20_329914734, 776148-SH_GRADS_SPO_2024-06-20_330059926, 776149-SH_GRADS_SPO_2024-06-20_330846538, 776150-SH_GRADS_SPO_2024-06-20_330867209, 776151-SH_GRADS_SPO_2024-06-20_331574736, 776153-SH_GRADS_SPO_2024-06-20_331764331, 776152-SH_GRADS_SPO_2024-06-20_331793585, 776154-SH_GRADS_SPO_2024-06-20_331798205, 776155-SH_GRADS_SPO_2024-06-20_332102398, 776156-SH_GRADS_SPO_2024-06-20_332104865, 776157-SH_GRADS_SPO_2024-06-20_333182135, 776158-SH_GRADS_SPO_2024-06-20_333256261, 776159-SH_GRADS_SPO_2024-06-20_333512804, 776160-SH_GRADS_SPO_2024-06-20_334348436, 776161-SH_GRADS_SPO_2024-06-20_334971867, 776162-SH_GRADS_SPO_2024-06-20_335078889, 776163-SH_GRADS_SPO_2024-06-20_335118317, 776164-SH_GRADS_SPO_2024-06-20_335847745, 776165-SH_GRADS_SPO_2024-06-20_337407910, 776166-SH_GRADS_SPO_2024-06-20_337540960, 776167-SH_GRADS_SPO_2024-06-20_338301597, 776168-SH_GRADS_SPO_2024-06-20_338791769, 776170-SH_GRADS_SPO_2024-06-20_338801607, 776171-SH_GRADS_SPO_2024-06-20_339462427, 776169-SH_GRADS_SPO_2024-06-20_339952659, 776172-SH_GRADS_SPO_2024-06-20_340020743, 776173-SH_GRADS_SPO_2024-06-20_340049402, 776174-SH_GRADS_SPO_2024-06-20_340817422, 776176-SH_GRADS_SPO_2024-06-20_340947915, 776175-SH_GRADS_SPO_2024-06-20_341309709, 776177-SH_GRADS_SPO_2024-06-20_341740521, 776178-SH_GRADS_SPO_2024-06-20_341861841, 776179-SH_GRADS_SPO_2024-06-20_341878876, 776180-SH_GRADS_SPO_2024-06-20_341933338, 776181-SH_GRADS_SPO_2024-06-20_342512741, 776184-SH_GRADS_SPO_2024-06-20_342608725, 776182-SH_GRADS_SPO_2024-06-20_342671306, 776183-SH_GRADS_SPO_2024-06-20_342718036, 776185-SH_GRADS_SPO_2024-06-20_342758530, 776186-SH_GRADS_SPO_2024-06-20_342765401, 776187-SH_GRADS_SPO_2024-06-20_342799681, 776188-SH_GRADS_SPO_2024-06-20_342803699, 776189-SH_GRADS_SPO_2024-06-20_342830080, 776191-SH_GRADS_SPO_2024-06-20_343058220, 776190-SH_GRADS_SPO_2024-06-20_343146542, 776192-SH_GRADS_SPO_2024-06-20_343148880, 776193-SH_GRADS_SPO_2024-06-20_343210886, 776194-SH_GRADS_SPO_2024-06-20_343237761, 776195-SH_GRADS_SPO_2024-06-20_343281011, 776196-SH_GRADS_SPO_2024-06-20_343298133, 776197-SH_GRADS_SPO_2024-06-20_343308700, 776198-SH_GRADS_SPO_2024-06-20_343400523, 776199-SH_GRADS_SPO_2024-06-20_343404175, 776200-SH_GRADS_SPO_2024-06-20_343421077, 776201-SH_GRADS_SPO_2024-06-20_343463508, 776205-SH_GRADS_SPO_2024-06-20_343528925, 776204-SH_GRADS_SPO_2024-06-20_343542627, 776203-SH_GRADS_SPO_2024-06-20_343645422, 776202-SH_GRADS_SPO_2024-06-20_343762585, 776206-SH_GRADS_SPO_2024-06-20_343832093, 776207-SH_GRADS_SPO_2024-06-20_343911196, 776208-SH_GRADS_SPO_2024-06-20_343946001, 776209-SH_GRADS_SPO_2024-06-20_344032671, 776210-SH_GRADS_SPO_2024-06-20_344035563, 776211-SH_GRADS_SPO_2024-06-20_344081640, 776212-SH_GRADS_SPO_2024-06-20_344092395, 776213-SH_GRADS_SPO_2024-06-20_344177048, 776214-SH_GRADS_SPO_2024-06-20_344254420, 776215-SH_GRADS_SPO_2024-06-20_344259960, 776216-SH_GRADS_SPO_2024-06-20_344352677, 776218-SH_GRADS_SPO_2024-06-20_344363536, 776217-SH_GRADS_SPO_2024-06-20_344432114, 776219-SH_GRADS_SPO_2024-06-20_344506195, 776220-SH_GRADS_SPO_2024-06-20_344557110, 776221-SH_GRADS_SPO_2024-06-20_344577554, 776222-SH_GRADS_SPO_2024-06-20_344631379, 776223-SH_GRADS_SPO_2024-06-20_344644482, 776224-SH_GRADS_SPO_2024-06-20_344649898, 776225-SH_GRADS_SPO_2024-06-20_344660784, 776226-SH_GRADS_SPO_2024-06-20_344781260, 776227-SH_GRADS_SPO_2024-06-20_344865793, 776228-SH_GRADS_SPO_2024-06-20_344876610, 776229-SH_GRADS_SPO_2024-06-20_344881964, 776230-SH_GRADS_SPO_2024-06-20_344928106, 776231-SH_GRADS_SPO_2024-06-20_344950132, 776232-SH_GRADS_SPO_2024-06-20_345184697, 776233-SH_GRADS_SPO_2024-06-20_345235008, 776234-SH_GRADS_SPO_2024-06-20_345320643, 776235-SH_GRADS_SPO_2024-06-20_345328734, 776236-SH_GRADS_SPO_2024-06-20_345367039, 776237-SH_GRADS_SPO_2024-06-20_345367813, 776238-SH_GRADS_SPO_2024-06-20_345466334, 776239-SH_GRADS_SPO_2024-06-20_345468519, 776240-SH_GRADS_SPO_2024-06-20_345480743, 776241-SH_GRADS_SPO_2024-06-20_345491159, 776242-SH_GRADS_SPO_2024-06-20_345535932, 776243-SH_GRADS_SPO_2024-06-20_345555758, 776244-SH_GRADS_SPO_2024-06-20_345591661, 776245-SH_GRADS_SPO_2024-06-20_345606671, 776246-SH_GRADS_SPO_2024-06-20_345629178, 776247-SH_GRADS_SPO_2024-06-20_345675026, 776248-SH_GRADS_SPO_2024-06-20_345815888, 776249-SH_GRADS_SPO_2024-06-20_345910612, 776250-SH_GRADS_SPO_2024-06-20_345942189, 776251-SH_GRADS_SPO_2024-06-20_345969269, 776253-SH_GRADS_SPO_2024-06-20_346026056, 776252-SH_GRADS_SPO_2024-06-20_346125829, 776254-SH_GRADS_SPO_2024-06-20_346229453, 776255-SH_GRADS_SPO_2024-06-20_346241249, 776256-SH_GRADS_SPO_2024-06-20_346401818, 776257-SH_GRADS_SPO_2024-06-20_346403328, 776259-SH_GRADS_SPO_2024-06-20_346502418, 776258-SH_GRADS_SPO_2024-06-20_346613265, 776260-SH_GRADS_SPO_2024-06-20_346739339, 776261-SH_GRADS_SPO_2024-06-20_346748067, 776262-SH_GRADS_SPO_2024-06-20_346795720, 776263-SH_GRADS_SPO_2024-06-20_346837980, 776265-SH_GRADS_SPO_2024-06-20_346838482, 776264-SH_GRADS_SPO_2024-06-20_346898259, 776266-SH_GRADS_SPO_2024-06-20_346961480, 776267-SH_GRADS_SPO_2024-06-20_346971534, 776268-SH_GRADS_SPO_2024-06-20_346983880, 776269-SH_GRADS_SPO_2024-06-20_347026755, 776270-SH_GRADS_SPO_2024-06-20_347031819, 776272-SH_GRADS_SPO_2024-06-20_347066533, 776273-SH_GRADS_SPO_2024-06-20_347157758, 776271-SH_GRADS_SPO_2024-06-20_347285884, 776274-SH_GRADS_SPO_2024-06-20_347293796, 776275-SH_GRADS_SPO_2024-06-20_347301812, 776276-SH_GRADS_SPO_2024-06-20_347366462, 776278-SH_GRADS_SPO_2024-06-20_347368056, 776277-SH_GRADS_SPO_2024-06-20_347406209, 776279-SH_GRADS_SPO_2024-06-20_347412781, 776280-SH_GRADS_SPO_2024-06-20_347538418, 776281-SH_GRADS_SPO_2024-06-20_347567377, 776282-SH_GRADS_SPO_2024-06-20_347613851, 776283-SH_GRADS_SPO_2024-06-20_347804440, 776284-SH_GRADS_SPO_2024-06-20_347880505, 776285-SH_GRADS_SPO_2024-06-20_347919698, 776286-SH_GRADS_SPO_2024-06-20_348029273, 776287-SH_GRADS_SPO_2024-06-20_348060234, 776288-SH_GRADS_SPO_2024-06-20_348098091, 776289-SH_GRADS_SPO_2024-06-20_348100514, 776290-SH_GRADS_SPO_2024-06-20_348107096, 776291-SH_GRADS_SPO_2024-06-20_348109259, 776292-SH_GRADS_SPO_2024-06-20_348130364, 776293-SH_GRADS_SPO_2024-06-20_348172803, 776294-SH_GRADS_SPO_2024-06-20_348180726, 776295-SH_GRADS_SPO_2024-06-20_348285052, 776296-SH_GRADS_SPO_2024-06-20_348305849, 776297-SH_GRADS_SPO_2024-06-20_348319804, 776298-SH_GRADS_SPO_2024-06-20_348333127, 776299-SH_GRADS_SPO_2024-06-20_348373497, 776300-SH_GRADS_SPO_2024-06-20_348401764, 776301-SH_GRADS_SPO_2024-06-20_348418940, 776305-SH_GRADS_SPO_2024-06-20_348447535, 776304-SH_GRADS_SPO_2024-06-20_348495588, 776303-SH_GRADS_SPO_2024-06-20_348613319, 776302-SH_GRADS_SPO_2024-06-20_348640178, 776306-SH_GRADS_SPO_2024-06-20_348683284, 776307-SH_GRADS_SPO_2024-06-20_348707610, 776309-SH_GRADS_SPO_2024-06-20_348722703, 776310-SH_GRADS_SPO_2024-06-20_348742309, 776308-SH_GRADS_SPO_2024-06-20_348750494, 776312-SH_GRADS_SPO_2024-06-20_348812034, 776311-SH_GRADS_SPO_2024-06-20_348818131, 776313-SH_GRADS_SPO_2024-06-20_348848210, 776314-SH_GRADS_SPO_2024-06-20_348849370, 776317-SH_GRADS_SPO_2024-06-20_348969526, 776315-SH_GRADS_SPO_2024-06-20_349072639, 776316-SH_GRADS_SPO_2024-06-20_349116910, 776318-SH_GRADS_SPO_2024-06-20_349340287, 776319-SH_GRADS_SPO_2024-06-20_349353128, 776320-SH_GRADS_SPO_2024-06-20_349356837, 776323-SH_GRADS_SPO_2024-06-20_349406615, 776322-SH_GRADS_SPO_2024-06-20_349502694, 776321-SH_GRADS_SPO_2024-06-20_349550033, 776324-SH_GRADS_SPO_2024-06-20_349621877, 776325-SH_GRADS_SPO_2024-06-20_349625631, 776326-SH_GRADS_SPO_2024-06-20_349628135, 776327-SH_GRADS_SPO_2024-06-20_349634671, 776329-SH_GRADS_SPO_2024-06-20_349672788, 776330-SH_GRADS_SPO_2024-06-20_349736249, 776331-SH_GRADS_SPO_2024-06-20_349752790, 776328-SH_GRADS_SPO_2024-06-20_349780815, 776332-SH_GRADS_SPO_2024-06-20_349868469, 776333-SH_GRADS_SPO_2024-06-20_349882068, 776334-SH_GRADS_SPO_2024-06-20_350016243, 776335-SH_GRADS_SPO_2024-06-20_350097732, 776336-SH_GRADS_SPO_2024-06-20_350109889, 776337-SH_GRADS_SPO_2024-06-20_350228240, 776339-SH_GRADS_SPO_2024-06-20_350255715, 776338-SH_GRADS_SPO_2024-06-20_350358174, 776340-SH_GRADS_SPO_2024-06-20_350380698, 776341-SH_GRADS_SPO_2024-06-20_350391563, 776343-SH_GRADS_SPO_2024-06-20_350450630, 776342-SH_GRADS_SPO_2024-06-20_350522512, 776344-SH_GRADS_SPO_2024-06-20_350541387, 776345-SH_GRADS_SPO_2024-06-20_350556203, 776346-SH_GRADS_SPO_2024-06-20_350582276, 776347-SH_GRADS_SPO_2024-06-20_350599440, 776349-SH_GRADS_SPO_2024-06-20_350609204, 776350-SH_GRADS_SPO_2024-06-20_350794775, 776348-SH_GRADS_SPO_2024-06-20_350827178, 776351-SH_GRADS_SPO_2024-06-20_350829913, 776356-SH_GRADS_SPO_2024-06-20_350858062, 776355-SH_GRADS_SPO_2024-06-20_350912912, 776354-SH_GRADS_SPO_2024-06-20_350986042, 776352-SH_GRADS_SPO_2024-06-20_351028995, 776353-SH_GRADS_SPO_2024-06-20_351074396, 776357-SH_GRADS_SPO_2024-06-20_351080766, 776359-SH_GRADS_SPO_2024-06-20_351091868, 776360-SH_GRADS_SPO_2024-06-20_351097303, 776361-SH_GRADS_SPO_2024-06-20_351103747, 776358-SH_GRADS_SPO_2024-06-20_351145589, 776362-SH_GRADS_SPO_2024-06-20_351209632, 776363-SH_GRADS_SPO_2024-06-20_351221403, 776364-SH_GRADS_SPO_2024-06-20_351227692, 776365-SH_GRADS_SPO_2024-06-20_351235499, 776366-SH_GRADS_SPO_2024-06-20_351247174, 776367-SH_GRADS_SPO_2024-06-20_351313596, 776368-SH_GRADS_SPO_2024-06-20_351317048, 776369-SH_GRADS_SPO_2024-06-20_351327804, 776370-SH_GRADS_SPO_2024-06-20_351394831, 776372-SH_GRADS_SPO_2024-06-20_351400296, 776373-SH_GRADS_SPO_2024-06-20_351419037, 776374-SH_GRADS_SPO_2024-06-20_351440873, 776371-SH_GRADS_SPO_2024-06-20_351441276, 776375-SH_GRADS_SPO_2024-06-20_351469484, 776376-SH_GRADS_SPO_2024-06-20_351513588, 776377-SH_GRADS_SPO_2024-06-20_351570593, 776378-SH_GRADS_SPO_2024-06-20_351804841, 776379-SH_GRADS_SPO_2024-06-20_351837916, 776380-SH_GRADS_SPO_2024-06-20_351881371, 776381-SH_GRADS_SPO_2024-06-20_351943159, 776382-SH_GRADS_SPO_2024-06-20_351998777, 776383-SH_GRADS_SPO_2024-06-20_352041702, 776384-SH_GRADS_SPO_2024-06-20_352051183, 776385-SH_GRADS_SPO_2024-06-20_352087911, 776387-SH_GRADS_SPO_2024-06-20_352123793, 776386-SH_GRADS_SPO_2024-06-20_352128410, 776388-SH_GRADS_SPO_2024-06-20_352163044, 776389-SH_GRADS_SPO_2024-06-20_352174219, 776390-SH_GRADS_SPO_2024-06-20_352222968, 776391-SH_GRADS_SPO_2024-06-20_352354000, 776394-SH_GRADS_SPO_2024-06-20_352379367, 776393-SH_GRADS_SPO_2024-06-20_352553456, 776392-SH_GRADS_SPO_2024-06-20_352554546, 776395-SH_GRADS_SPO_2024-06-20_352558181, 776396-SH_GRADS_SPO_2024-06-20_352621461, 776397-SH_GRADS_SPO_2024-06-20_352625312, 776398-SH_GRADS_SPO_2024-06-20_352651458, 776400-SH_GRADS_SPO_2024-06-20_352658534, 776399-SH_GRADS_SPO_2024-06-20_352660565, 776401-SH_GRADS_SPO_2024-06-20_352784723, 776403-SH_GRADS_SPO_2024-06-20_352806593, 776402-SH_GRADS_SPO_2024-06-20_352810687, 776404-SH_GRADS_SPO_2024-06-20_352817488, 776405-SH_GRADS_SPO_2024-06-20_352823487, 776406-SH_GRADS_SPO_2024-06-20_352879105, 776407-SH_GRADS_SPO_2024-06-20_352882617, 776409-SH_GRADS_SPO_2024-06-20_352893060, 776410-SH_GRADS_SPO_2024-06-20_352894015, 776411-SH_GRADS_SPO_2024-06-20_352902344, 776408-SH_GRADS_SPO_2024-06-20_352910993, 776412-SH_GRADS_SPO_2024-06-20_352917010, 776413-SH_GRADS_SPO_2024-06-20_352918658, 776415-SH_GRADS_SPO_2024-06-20_352925116, 776414-SH_GRADS_SPO_2024-06-20_353017304, 776417-SH_GRADS_SPO_2024-06-20_353034447, 776416-SH_GRADS_SPO_2024-06-20_353081706, 776418-SH_GRADS_SPO_2024-06-20_353269116, 776419-SH_GRADS_SPO_2024-06-20_353372437, 776421-SH_GRADS_SPO_2024-06-20_353375075, 776422-SH_GRADS_SPO_2024-06-20_353377732, 776423-SH_GRADS_SPO_2024-06-20_353389036, 776420-SH_GRADS_SPO_2024-06-20_353400842, 776424-SH_GRADS_SPO_2024-06-20_353402743, 776425-SH_GRADS_SPO_2024-06-20_353434470, 776426-SH_GRADS_SPO_2024-06-20_353496661, 776428-SH_GRADS_SPO_2024-06-20_353513367, 776429-SH_GRADS_SPO_2024-06-20_353580976, 776430-SH_GRADS_SPO_2024-06-20_353601736, 776427-SH_GRADS_SPO_2024-06-20_353613392, 776431-SH_GRADS_SPO_2024-06-20_353632567, 776432-SH_GRADS_SPO_2024-06-20_353636884, 776433-SH_GRADS_SPO_2024-06-20_353681233, 776434-SH_GRADS_SPO_2024-06-20_353735577, 776435-SH_GRADS_SPO_2024-06-20_353873269, 776436-SH_GRADS_SPO_2024-06-20_353917248, 776437-SH_GRADS_SPO_2024-06-20_354057314, 776438-SH_GRADS_SPO_2024-06-20_354085970, 776439-SH_GRADS_SPO_2024-06-20_354104369, 776440-SH_GRADS_SPO_2024-06-20_354119248, 776441-SH_GRADS_SPO_2024-06-20_354123411, 776442-SH_GRADS_SPO_2024-06-20_354173193, 776443-SH_GRADS_SPO_2024-06-20_354211653, 776444-SH_GRADS_SPO_2024-06-20_354232819, 776445-SH_GRADS_SPO_2024-06-20_354250459, 776446-SH_GRADS_SPO_2024-06-20_354299357, 776447-SH_GRADS_SPO_2024-06-20_354367568, 776448-SH_GRADS_SPO_2024-06-20_354376138, 776449-SH_GRADS_SPO_2024-06-20_354421829, 776450-SH_GRADS_SPO_2024-06-20_354449474, 776451-SH_GRADS_SPO_2024-06-20_354473220, 776453-SH_GRADS_SPO_2024-06-20_354477655, 776452-SH_GRADS_SPO_2024-06-20_354496620, 776454-SH_GRADS_SPO_2024-06-20_354570334, 776455-SH_GRADS_SPO_2024-06-20_354599314, 776456-SH_GRADS_SPO_2024-06-20_354599713, 776457-SH_GRADS_SPO_2024-06-20_354637402, 776458-SH_GRADS_SPO_2024-06-20_354651667, 776459-SH_GRADS_SPO_2024-06-20_354661438, 776460-SH_GRADS_SPO_2024-06-20_354791637, 776461-SH_GRADS_SPO_2024-06-20_354833348, 776462-SH_GRADS_SPO_2024-06-20_354862081, 776463-SH_GRADS_SPO_2024-06-20_354910540, 776464-SH_GRADS_SPO_2024-06-20_354978338, 776465-SH_GRADS_SPO_2024-06-20_355017955, 776466-SH_GRADS_SPO_2024-06-20_355024106, 776467-SH_GRADS_SPO_2024-06-20_355109094, 776468-SH_GRADS_SPO_2024-06-20_355224198, 776469-SH_GRADS_SPO_2024-06-20_355237171, 776470-SH_GRADS_SPO_2024-06-20_355283144, 776471-SH_GRADS_SPO_2024-06-20_355370161, 776472-SH_GRADS_SPO_2024-06-20_355407335, 776473-SH_GRADS_SPO_2024-06-20_355474507, 776474-SH_GRADS_SPO_2024-06-20_355480894, 776475-SH_GRADS_SPO_2024-06-20_355489688, 776476-SH_GRADS_SPO_2024-06-20_355504194, 776477-SH_GRADS_SPO_2024-06-20_355513248, 776478-SH_GRADS_SPO_2024-06-20_355517636, 776479-SH_GRADS_SPO_2024-06-20_355521250, 776480-SH_GRADS_SPO_2024-06-20_355590865, 776481-SH_GRADS_SPO_2024-06-20_355591778, 776482-SH_GRADS_SPO_2024-06-20_355599616, 776483-SH_GRADS_SPO_2024-06-20_355622430, 776484-SH_GRADS_SPO_2024-06-20_355645205, 776485-SH_GRADS_SPO_2024-06-20_355649017, 776486-SH_GRADS_SPO_2024-06-20_355658345, 776487-SH_GRADS_SPO_2024-06-20_355659107, 776488-SH_GRADS_SPO_2024-06-20_355663088, 776489-SH_GRADS_SPO_2024-06-20_355672374, 776490-SH_GRADS_SPO_2024-06-20_355705512, 776491-SH_GRADS_SPO_2024-06-20_355719257, 776492-SH_GRADS_SPO_2024-06-20_355734200, 776493-SH_GRADS_SPO_2024-06-20_355746425, 776494-SH_GRADS_SPO_2024-06-20_355765942, 776495-SH_GRADS_SPO_2024-06-20_355772448, 776496-SH_GRADS_SPO_2024-06-20_355773378, 776498-SH_GRADS_SPO_2024-06-20_355794856, 776497-SH_GRADS_SPO_2024-06-20_355798059, 776499-SH_GRADS_SPO_2024-06-20_355823057, 776500-SH_GRADS_SPO_2024-06-20_355830745, 776501-SH_GRADS_SPO_2024-06-20_355831348, 776505-SH_GRADS_SPO_2024-06-20_355859242, 776503-SH_GRADS_SPO_2024-06-20_355900442, 776504-SH_GRADS_SPO_2024-06-20_355931371, 776502-SH_GRADS_SPO_2024-06-20_355937184, 776506-SH_GRADS_SPO_2024-06-20_355939085, 776507-SH_GRADS_SPO_2024-06-20_355959264, 776508-SH_GRADS_SPO_2024-06-20_356094376, 776509-SH_GRADS_SPO_2024-06-20_356162109, 776510-SH_GRADS_SPO_2024-06-20_356316662, 776511-SH_GRADS_SPO_2024-06-20_356343075, 776512-SH_GRADS_SPO_2024-06-20_356352166, 776513-SH_GRADS_SPO_2024-06-20_356355748, 776515-SH_GRADS_SPO_2024-06-20_356417701, 776514-SH_GRADS_SPO_2024-06-20_356464304, 776517-SH_GRADS_SPO_2024-06-20_356473696, 776516-SH_GRADS_SPO_2024-06-20_356501915, 776518-SH_GRADS_SPO_2024-06-20_356537339, 776519-SH_GRADS_SPO_2024-06-20_356544070, 776520-SH_GRADS_SPO_2024-06-20_356545468, 776521-SH_GRADS_SPO_2024-06-20_356550436, 776524-SH_GRADS_SPO_2024-06-20_356563966, 776523-SH_GRADS_SPO_2024-06-20_356693913, 776522-SH_GRADS_SPO_2024-06-20_356706266, 776525-SH_GRADS_SPO_2024-06-20_356802429, 776526-SH_GRADS_SPO_2024-06-20_356830813, 776527-SH_GRADS_SPO_2024-06-20_356941520, 776528-SH_GRADS_SPO_2024-06-20_356949928, 776529-SH_GRADS_SPO_2024-06-20_356952668, 776530-SH_GRADS_SPO_2024-06-20_356979065, 776531-SH_GRADS_SPO_2024-06-20_357017084, 776532-SH_GRADS_SPO_2024-06-20_357029640, 776533-SH_GRADS_SPO_2024-06-20_357029715, 776534-SH_GRADS_SPO_2024-06-20_357035128, 776535-SH_GRADS_SPO_2024-06-20_357070526, 776536-SH_GRADS_SPO_2024-06-20_357072811, 776537-SH_GRADS_SPO_2024-06-20_357077581, 776538-SH_GRADS_SPO_2024-06-20_357082235, 776540-SH_GRADS_SPO_2024-06-20_357111300, 776539-SH_GRADS_SPO_2024-06-20_357165893, 776541-SH_GRADS_SPO_2024-06-20_357167771, 776542-SH_GRADS_SPO_2024-06-20_357172820, 776543-SH_GRADS_SPO_2024-06-20_357184348, 776544-SH_GRADS_SPO_2024-06-20_357187996, 776545-SH_GRADS_SPO_2024-06-20_357200064, 776546-SH_GRADS_SPO_2024-06-20_357209568, 776548-SH_GRADS_SPO_2024-06-20_357221475, 776549-SH_GRADS_SPO_2024-06-20_357223626, 776547-SH_GRADS_SPO_2024-06-20_357272764, 776550-SH_GRADS_SPO_2024-06-20_357368445, 776551-SH_GRADS_SPO_2024-06-20_357376223, 776555-SH_GRADS_SPO_2024-06-20_357380199, 776554-SH_GRADS_SPO_2024-06-20_357380641, 776556-SH_GRADS_SPO_2024-06-20_357388150, 776553-SH_GRADS_SPO_2024-06-20_357391683, 776552-SH_GRADS_SPO_2024-06-20_357430092, 776557-SH_GRADS_SPO_2024-06-20_357430852, 776558-SH_GRADS_SPO_2024-06-20_357478682, 776559-SH_GRADS_SPO_2024-06-20_357481254, 776560-SH_GRADS_SPO_2024-06-20_357553146, 776561-SH_GRADS_SPO_2024-06-20_357596997, 776562-SH_GRADS_SPO_2024-06-20_357600285, 776563-SH_GRADS_SPO_2024-06-20_357622985, 776564-SH_GRADS_SPO_2024-06-20_357630139, 776565-SH_GRADS_SPO_2024-06-20_357648451, 776567-SH_GRADS_SPO_2024-06-20_357692230, 776568-SH_GRADS_SPO_2024-06-20_357710827, 776566-SH_GRADS_SPO_2024-06-20_357742286, 776569-SH_GRADS_SPO_2024-06-20_357743087, 776570-SH_GRADS_SPO_2024-06-20_357747477, 776571-SH_GRADS_SPO_2024-06-20_357763555, 776572-SH_GRADS_SPO_2024-06-20_357802789, 776573-SH_GRADS_SPO_2024-06-20_357810985, 776574-SH_GRADS_SPO_2024-06-20_357821593, 776575-SH_GRADS_SPO_2024-06-20_357821666, 776576-SH_GRADS_SPO_2024-06-20_357835694, 776577-SH_GRADS_SPO_2024-06-20_357872979, 776579-SH_GRADS_SPO_2024-06-20_357889553, 776580-SH_GRADS_SPO_2024-06-20_357924728, 776578-SH_GRADS_SPO_2024-06-20_357931619, 776581-SH_GRADS_SPO_2024-06-20_357934121, 776582-SH_GRADS_SPO_2024-06-20_357946951, 776583-SH_GRADS_SPO_2024-06-20_357962991, 776584-SH_GRADS_SPO_2024-06-20_357988059, 776585-SH_GRADS_SPO_2024-06-20_358019355, 776586-SH_GRADS_SPO_2024-06-20_358042348, 776587-SH_GRADS_SPO_2024-06-20_358084815, 776588-SH_GRADS_SPO_2024-06-20_358121153, 776589-SH_GRADS_SPO_2024-06-20_358157914, 776590-SH_GRADS_SPO_2024-06-20_358222228, 776591-SH_GRADS_SPO_2024-06-20_358274109, 776592-SH_GRADS_SPO_2024-06-20_358318349, 776593-SH_GRADS_SPO_2024-06-20_358330784, 776594-SH_GRADS_SPO_2024-06-20_358354494, 776595-SH_GRADS_SPO_2024-06-20_358399080, 776596-SH_GRADS_SPO_2024-06-20_358401001, 776597-SH_GRADS_SPO_2024-06-20_358416531, 776598-SH_GRADS_SPO_2024-06-20_358430874, 776599-SH_GRADS_SPO_2024-06-20_358442536, 776600-SH_GRADS_SPO_2024-06-20_358504440, 776601-SH_GRADS_SPO_2024-06-20_358538400, 776605-SH_GRADS_SPO_2024-06-20_358544786, 776604-SH_GRADS_SPO_2024-06-20_358562475, 776602-SH_GRADS_SPO_2024-06-20_358566475, 776603-SH_GRADS_SPO_2024-06-20_358634173, 776606-SH_GRADS_SPO_2024-06-20_358640632, 776607-SH_GRADS_SPO_2024-06-20_358715347, 776608-SH_GRADS_SPO_2024-06-20_358747549, 776609-SH_GRADS_SPO_2024-06-20_358948679, 776610-SH_GRADS_SPO_2024-06-20_358996325, 776611-SH_GRADS_SPO_2024-06-20_358996700, 776613-SH_GRADS_SPO_2024-06-20_359008562, 776612-SH_GRADS_SPO_2024-06-20_359015042, 776614-SH_GRADS_SPO_2024-06-20_359016174, 776615-SH_GRADS_SPO_2024-06-20_359068382, 776616-SH_GRADS_SPO_2024-06-20_359105645, 776617-SH_GRADS_SPO_2024-06-20_359136681, 776618-SH_GRADS_SPO_2024-06-20_359152243, 776619-SH_GRADS_SPO_2024-06-20_359210489, 776620-SH_GRADS_SPO_2024-06-20_359212723, 776621-SH_GRADS_SPO_2024-06-20_359223685, 776622-SH_GRADS_SPO_2024-06-20_359243698, 776623-SH_GRADS_SPO_2024-06-20_359294990, 776624-SH_GRADS_SPO_2024-06-20_359300459, 776625-SH_GRADS_SPO_2024-06-20_359310113, 776626-SH_GRADS_SPO_2024-06-20_359329910, 776627-SH_GRADS_SPO_2024-06-20_359339546, 776628-SH_GRADS_SPO_2024-06-20_359373017, 776629-SH_GRADS_SPO_2024-06-20_359419963, 776630-SH_GRADS_SPO_2024-06-20_359431148, 776631-SH_GRADS_SPO_2024-06-20_359431623, 776632-SH_GRADS_SPO_2024-06-20_359433763, 776633-SH_GRADS_SPO_2024-06-20_359451678, 776634-SH_GRADS_SPO_2024-06-20_359495784, 776635-SH_GRADS_SPO_2024-06-20_359535778, 776636-SH_GRADS_SPO_2024-06-20_359727207, 776637-SH_GRADS_SPO_2024-06-20_359752222, 776638-SH_GRADS_SPO_2024-06-20_359839014, 776640-SH_GRADS_SPO_2024-06-20_359841554, 776639-SH_GRADS_SPO_2024-06-20_359856491, 776642-SH_GRADS_SPO_2024-06-20_359860580, 776641-SH_GRADS_SPO_2024-06-20_359889312, 776643-SH_GRADS_SPO_2024-06-20_359920466, 776645-SH_GRADS_SPO_2024-06-20_359947547, 776644-SH_GRADS_SPO_2024-06-20_359979115, 776646-SH_GRADS_SPO_2024-06-20_360075803, 776647-SH_GRADS_SPO_2024-06-20_360118667, 776648-SH_GRADS_SPO_2024-06-20_360122981, 776649-SH_GRADS_SPO_2024-06-20_360343256, 776650-SH_GRADS_SPO_2024-06-20_360484606, 776651-SH_GRADS_SPO_2024-06-20_360538584, 776656-SH_GRADS_SPO_2024-06-20_360557969, 776655-SH_GRADS_SPO_2024-06-20_360574253, 776654-SH_GRADS_SPO_2024-06-20_360582865, 776653-SH_GRADS_SPO_2024-06-20_360643862, 776652-SH_GRADS_SPO_2024-06-20_360658721, 776657-SH_GRADS_SPO_2024-06-20_360691606, 776658-SH_GRADS_SPO_2024-06-20_360705564, 776659-SH_GRADS_SPO_2024-06-20_360770242, 776660-SH_GRADS_SPO_2024-06-20_360791302, 776661-SH_GRADS_SPO_2024-06-20_360925284, 776662-SH_GRADS_SPO_2024-06-20_361046096, 776663-SH_GRADS_SPO_2024-06-20_361049871, 776664-SH_GRADS_SPO_2024-06-20_361095088, 776665-SH_GRADS_SPO_2024-06-20_361130935, 776666-SH_GRADS_SPO_2024-06-20_361155151, 776667-SH_GRADS_SPO_2024-06-20_361163664, 776668-SH_GRADS_SPO_2024-06-20_361180593, 776669-SH_GRADS_SPO_2024-06-20_361201016, 776670-SH_GRADS_SPO_2024-06-20_361209547, 776671-SH_GRADS_SPO_2024-06-20_361236793, 776672-SH_GRADS_SPO_2024-06-20_361259982, 776673-SH_GRADS_SPO_2024-06-20_361273846, 776674-SH_GRADS_SPO_2024-06-20_361296087, 776675-SH_GRADS_SPO_2024-06-20_361297188, 776676-SH_GRADS_SPO_2024-06-20_361308294, 776677-SH_GRADS_SPO_2024-06-20_361317041, 776678-SH_GRADS_SPO_2024-06-20_361320288, 776679-SH_GRADS_SPO_2024-06-20_361328450, 776680-SH_GRADS_SPO_2024-06-20_361337140, 776681-SH_GRADS_SPO_2024-06-20_361391782, 776685-SH_GRADS_SPO_2024-06-20_361394450, 776683-SH_GRADS_SPO_2024-06-20_361400076, 776684-SH_GRADS_SPO_2024-06-20_361411978, 776682-SH_GRADS_SPO_2024-06-20_361496530, 776687-SH_GRADS_SPO_2024-06-20_361500857, 776686-SH_GRADS_SPO_2024-06-20_361563750, 776689-SH_GRADS_SPO_2024-06-20_361584968, 776688-SH_GRADS_SPO_2024-06-20_361598814, 776690-SH_GRADS_SPO_2024-06-20_361643711, 776691-SH_GRADS_SPO_2024-06-20_361646627, 776692-SH_GRADS_SPO_2024-06-20_361751232, 776693-SH_GRADS_SPO_2024-06-20_361799494, 776694-SH_GRADS_SPO_2024-06-20_361802822, 776695-SH_GRADS_SPO_2024-06-20_361820266, 776696-SH_GRADS_SPO_2024-06-20_361826088, 776697-SH_GRADS_SPO_2024-06-20_361957577, 776698-SH_GRADS_SPO_2024-06-20_361960930, 776699-SH_GRADS_SPO_2024-06-20_362001894, 776700-SH_GRADS_SPO_2024-06-20_362002496, 776706-SH_GRADS_SPO_2024-06-20_362043400, 776705-SH_GRADS_SPO_2024-06-20_362054626, 776701-SH_GRADS_SPO_2024-06-20_362141012, 776704-SH_GRADS_SPO_2024-06-20_362144057, 776703-SH_GRADS_SPO_2024-06-20_362149446, 776702-SH_GRADS_SPO_2024-06-20_362200400, 776707-SH_GRADS_SPO_2024-06-20_362224887, 776708-SH_GRADS_SPO_2024-06-20_362236558, 776710-SH_GRADS_SPO_2024-06-20_362303280, 776709-SH_GRADS_SPO_2024-06-20_362373104, 776711-SH_GRADS_SPO_2024-06-20_362458362, 776712-SH_GRADS_SPO_2024-06-20_362458469, 776713-SH_GRADS_SPO_2024-06-20_362541697, 776714-SH_GRADS_SPO_2024-06-20_362552238, 776715-SH_GRADS_SPO_2024-06-20_362574833, 776717-SH_GRADS_SPO_2024-06-20_362580375, 776716-SH_GRADS_SPO_2024-06-20_362603425, 776718-SH_GRADS_SPO_2024-06-20_362629855, 776719-SH_GRADS_SPO_2024-06-20_362644644, 776720-SH_GRADS_SPO_2024-06-20_362655635, 776721-SH_GRADS_SPO_2024-06-20_362679897, 776723-SH_GRADS_SPO_2024-06-20_362701668, 776722-SH_GRADS_SPO_2024-06-20_362717846, 776724-SH_GRADS_SPO_2024-06-20_362722979, 776725-SH_GRADS_SPO_2024-06-20_362754198, 776726-SH_GRADS_SPO_2024-06-20_362757862, 776727-SH_GRADS_SPO_2024-06-20_362768682, 776728-SH_GRADS_SPO_2024-06-20_362791968, 776729-SH_GRADS_SPO_2024-06-20_362810943, 776730-SH_GRADS_SPO_2024-06-20_362911237, 776731-SH_GRADS_SPO_2024-06-20_362921215, 776732-SH_GRADS_SPO_2024-06-20_362955425, 776733-SH_GRADS_SPO_2024-06-20_362964392, 776735-SH_GRADS_SPO_2024-06-20_362974103, 776734-SH_GRADS_SPO_2024-06-20_362995510, 776736-SH_GRADS_SPO_2024-06-20_362996503, 776737-SH_GRADS_SPO_2024-06-20_362997503, 776738-SH_GRADS_SPO_2024-06-20_363067041, 776739-SH_GRADS_SPO_2024-06-20_363093556, 776740-SH_GRADS_SPO_2024-06-20_363106378, 776741-SH_GRADS_SPO_2024-06-20_363176020, 776742-SH_GRADS_SPO_2024-06-20_363177990, 776744-SH_GRADS_SPO_2024-06-20_363189122, 776743-SH_GRADS_SPO_2024-06-20_363191383, 776745-SH_GRADS_SPO_2024-06-20_363193023, 776746-SH_GRADS_SPO_2024-06-20_363214712, 776747-SH_GRADS_SPO_2024-06-20_363241352, 776748-SH_GRADS_SPO_2024-06-20_363260132, 776749-SH_GRADS_SPO_2024-06-20_363269654, 776750-SH_GRADS_SPO_2024-06-20_363287104, 776751-SH_GRADS_SPO_2024-06-20_363292077, 776755-SH_GRADS_SPO_2024-06-20_363306371, 776756-SH_GRADS_SPO_2024-06-20_363387173, 776754-SH_GRADS_SPO_2024-06-20_363414460, 776753-SH_GRADS_SPO_2024-06-20_363474091, 776752-SH_GRADS_SPO_2024-06-20_363726620, 776757-SH_GRADS_SPO_2024-06-20_363734216, 776758-SH_GRADS_SPO_2024-06-20_363740138, 776761-SH_GRADS_SPO_2024-06-20_363788222, 776759-SH_GRADS_SPO_2024-06-20_363815921, 776760-SH_GRADS_SPO_2024-06-20_363889942, 776762-SH_GRADS_SPO_2024-06-20_363896779, 776763-SH_GRADS_SPO_2024-06-20_363910330, 776764-SH_GRADS_SPO_2024-06-20_364002203, 776765-SH_GRADS_SPO_2024-06-20_364029215, 776766-SH_GRADS_SPO_2024-06-20_364043654, 776767-SH_GRADS_SPO_2024-06-20_364112933, 776768-SH_GRADS_SPO_2024-06-20_364115803, 776769-SH_GRADS_SPO_2024-06-20_364121794, 776770-SH_GRADS_SPO_2024-06-20_364154344, 776771-SH_GRADS_SPO_2024-06-20_364154732, 776772-SH_GRADS_SPO_2024-06-20_364165650, 776773-SH_GRADS_SPO_2024-06-20_364217748, 776774-SH_GRADS_SPO_2024-06-20_364223549, 776775-SH_GRADS_SPO_2024-06-20_364239612, 776776-SH_GRADS_SPO_2024-06-20_364247324, 776777-SH_GRADS_SPO_2024-06-20_364339759, 776780-SH_GRADS_SPO_2024-06-20_364370366, 776779-SH_GRADS_SPO_2024-06-20_364396166, 776778-SH_GRADS_SPO_2024-06-20_364406887, 776781-SH_GRADS_SPO_2024-06-20_364414051, 776782-SH_GRADS_SPO_2024-06-20_364439205, 776783-SH_GRADS_SPO_2024-06-20_364455896, 776784-SH_GRADS_SPO_2024-06-20_364469061, 776785-SH_GRADS_SPO_2024-06-20_364539882, 776786-SH_GRADS_SPO_2024-06-20_364545920, 776787-SH_GRADS_SPO_2024-06-20_364549950, 776788-SH_GRADS_SPO_2024-06-20_364568175, 776789-SH_GRADS_SPO_2024-06-20_364574772, 776791-SH_GRADS_SPO_2024-06-20_364645309, 776790-SH_GRADS_SPO_2024-06-20_364661526, 776792-SH_GRADS_SPO_2024-06-20_364662143, 776793-SH_GRADS_SPO_2024-06-20_364681939, 776794-SH_GRADS_SPO_2024-06-20_364682103, 776795-SH_GRADS_SPO_2024-06-20_364688025, 776797-SH_GRADS_SPO_2024-06-20_364767735, 776796-SH_GRADS_SPO_2024-06-20_364768299, 776798-SH_GRADS_SPO_2024-06-20_364785322, 776800-SH_GRADS_SPO_2024-06-20_364792197, 776799-SH_GRADS_SPO_2024-06-20_364848305, 776801-SH_GRADS_SPO_2024-06-20_364869846, 776806-SH_GRADS_SPO_2024-06-20_365084435, 776805-SH_GRADS_SPO_2024-06-20_365093980, 776803-SH_GRADS_SPO_2024-06-20_365244177, 776804-SH_GRADS_SPO_2024-06-20_365263778, 776802-SH_GRADS_SPO_2024-06-20_365265095, 776807-SH_GRADS_SPO_2024-06-20_365275513, 776810-SH_GRADS_SPO_2024-06-20_365336562, 776808-SH_GRADS_SPO_2024-06-20_365349708, 776809-SH_GRADS_SPO_2024-06-20_365352977, 776811-SH_GRADS_SPO_2024-06-20_365365811, 776812-SH_GRADS_SPO_2024-06-20_365403013, 776813-SH_GRADS_SPO_2024-06-20_365455588, 776814-SH_GRADS_SPO_2024-06-20_365457248, 776816-SH_GRADS_SPO_2024-06-20_365460486, 776815-SH_GRADS_SPO_2024-06-20_365460797, 776817-SH_GRADS_SPO_2024-06-20_365511650, 776818-SH_GRADS_SPO_2024-06-20_365532034, 776819-SH_GRADS_SPO_2024-06-20_365768587, 776820-SH_GRADS_SPO_2024-06-20_365791773, 776821-SH_GRADS_SPO_2024-06-20_365857457, 776823-SH_GRADS_SPO_2024-06-20_365881870, 776822-SH_GRADS_SPO_2024-06-20_365954847, 776824-SH_GRADS_SPO_2024-06-20_365974645, 776825-SH_GRADS_SPO_2024-06-20_366026891, 776826-SH_GRADS_SPO_2024-06-20_366029158, 776829-SH_GRADS_SPO_2024-06-20_366038490, 776827-SH_GRADS_SPO_2024-06-20_366077243, 776828-SH_GRADS_SPO_2024-06-20_366139296, 776830-SH_GRADS_SPO_2024-06-20_366160979, 776831-SH_GRADS_SPO_2024-06-20_366222126, 776832-SH_GRADS_SPO_2024-06-20_366302639, 776833-SH_GRADS_SPO_2024-06-20_366356027, 776834-SH_GRADS_SPO_2024-06-20_366395475, 776835-SH_GRADS_SPO_2024-06-20_366398944, 776836-SH_GRADS_SPO_2024-06-20_366414568, 776837-SH_GRADS_SPO_2024-06-20_366475071, 776838-SH_GRADS_SPO_2024-06-20_366494599, 776840-SH_GRADS_SPO_2024-06-20_366619332, 776839-SH_GRADS_SPO_2024-06-20_366661821, 776841-SH_GRADS_SPO_2024-06-20_366735780, 776842-SH_GRADS_SPO_2024-06-20_366743280, 776843-SH_GRADS_SPO_2024-06-20_366778227, 776844-SH_GRADS_SPO_2024-06-20_366780432, 776847-SH_GRADS_SPO_2024-06-20_366828963, 776845-SH_GRADS_SPO_2024-06-20_366832389, 776846-SH_GRADS_SPO_2024-06-20_366891316, 776848-SH_GRADS_SPO_2024-06-20_366917797, 776849-SH_GRADS_SPO_2024-06-20_366917940, 776850-SH_GRADS_SPO_2024-06-20_366955002, 776851-SH_GRADS_SPO_2024-06-20_366979830, 776856-SH_GRADS_SPO_2024-06-20_367019261, 776855-SH_GRADS_SPO_2024-06-20_367032510, 776854-SH_GRADS_SPO_2024-06-20_367033248, 776853-SH_GRADS_SPO_2024-06-20_367042024, 776852-SH_GRADS_SPO_2024-06-20_367045814, 776857-SH_GRADS_SPO_2024-06-20_367119107, 776858-SH_GRADS_SPO_2024-06-20_367120561, 776861-SH_GRADS_SPO_2024-06-20_367124980, 776860-SH_GRADS_SPO_2024-06-20_367156199, 776859-SH_GRADS_SPO_2024-06-20_367192843, 776862-SH_GRADS_SPO_2024-06-20_367223654, 776863-SH_GRADS_SPO_2024-06-20_367249005, 776864-SH_GRADS_SPO_2024-06-20_367403207, 776865-SH_GRADS_SPO_2024-06-20_367414045, 776866-SH_GRADS_SPO_2024-06-20_367424482, 776867-SH_GRADS_SPO_2024-06-20_367507916, 776868-SH_GRADS_SPO_2024-06-20_367553348, 776869-SH_GRADS_SPO_2024-06-20_367555136, 776870-SH_GRADS_SPO_2024-06-20_367559392, 776871-SH_GRADS_SPO_2024-06-20_367567881, 776872-SH_GRADS_SPO_2024-06-20_367616098, 776873-SH_GRADS_SPO_2024-06-20_367618545, 776874-SH_GRADS_SPO_2024-06-20_367623236, 776875-SH_GRADS_SPO_2024-06-20_367652952, 776876-SH_GRADS_SPO_2024-06-20_367664807, 776877-SH_GRADS_SPO_2024-06-20_367677894, 776878-SH_GRADS_SPO_2024-06-20_367714992, 776879-SH_GRADS_SPO_2024-06-20_367745181, 776880-SH_GRADS_SPO_2024-06-20_367799325, 776881-SH_GRADS_SPO_2024-06-20_367810610, 776883-SH_GRADS_SPO_2024-06-20_367813362, 776882-SH_GRADS_SPO_2024-06-20_367828127, 776884-SH_GRADS_SPO_2024-06-20_367882520, 776885-SH_GRADS_SPO_2024-06-20_367915476, 776886-SH_GRADS_SPO_2024-06-20_367969059, 776887-SH_GRADS_SPO_2024-06-20_367970776, 776889-SH_GRADS_SPO_2024-06-20_367979560, 776888-SH_GRADS_SPO_2024-06-20_367988780, 776890-SH_GRADS_SPO_2024-06-20_367994581, 776891-SH_GRADS_SPO_2024-06-20_368048133, 776892-SH_GRADS_SPO_2024-06-20_368050532, 776893-SH_GRADS_SPO_2024-06-20_368099100, 776894-SH_GRADS_SPO_2024-06-20_368127504, 776895-SH_GRADS_SPO_2024-06-20_368141954, 776896-SH_GRADS_SPO_2024-06-20_368219260, 776897-SH_GRADS_SPO_2024-06-20_368248306, 776898-SH_GRADS_SPO_2024-06-20_368250681, 776899-SH_GRADS_SPO_2024-06-20_368262351, 776901-SH_GRADS_SPO_2024-06-20_368288398, 776900-SH_GRADS_SPO_2024-06-20_368296546, 776903-SH_GRADS_SPO_2024-06-20_368297667, 776902-SH_GRADS_SPO_2024-06-20_368300079, 776904-SH_GRADS_SPO_2024-06-20_368300123, 776905-SH_GRADS_SPO_2024-06-20_368303445, 776906-SH_GRADS_SPO_2024-06-20_368312005, 776907-SH_GRADS_SPO_2024-06-20_368320739, 776909-SH_GRADS_SPO_2024-06-20_368340762, 776910-SH_GRADS_SPO_2024-06-20_368350624, 776911-SH_GRADS_SPO_2024-06-20_368364806, 776908-SH_GRADS_SPO_2024-06-20_368407040, 776912-SH_GRADS_SPO_2024-06-20_368410223, 776913-SH_GRADS_SPO_2024-06-20_368464915, 776915-SH_GRADS_SPO_2024-06-20_368507695, 776916-SH_GRADS_SPO_2024-06-20_368549917, 776917-SH_GRADS_SPO_2024-06-20_368563933, 776914-SH_GRADS_SPO_2024-06-20_368576913, 776918-SH_GRADS_SPO_2024-06-20_368591565, 776919-SH_GRADS_SPO_2024-06-20_368612347, 776920-SH_GRADS_SPO_2024-06-20_368625051, 776923-SH_GRADS_SPO_2024-06-20_368627202, 776922-SH_GRADS_SPO_2024-06-20_368628077, 776921-SH_GRADS_SPO_2024-06-20_368638839, 776924-SH_GRADS_SPO_2024-06-20_368642997, 776925-SH_GRADS_SPO_2024-06-20_368649135, 776926-SH_GRADS_SPO_2024-06-20_368703422, 776927-SH_GRADS_SPO_2024-06-20_368703682, 776928-SH_GRADS_SPO_2024-06-20_368708129, 776929-SH_GRADS_SPO_2024-06-20_368721989, 776930-SH_GRADS_SPO_2024-06-20_368723550, 776931-SH_GRADS_SPO_2024-06-20_368766671, 776932-SH_GRADS_SPO_2024-06-20_368771304, 776933-SH_GRADS_SPO_2024-06-20_368789473, 776934-SH_GRADS_SPO_2024-06-20_368974349, 776935-SH_GRADS_SPO_2024-06-20_369011992, 776936-SH_GRADS_SPO_2024-06-20_369012176, 776937-SH_GRADS_SPO_2024-06-20_369022641, 776938-SH_GRADS_SPO_2024-06-20_369036140, 776939-SH_GRADS_SPO_2024-06-20_369045927, 776940-SH_GRADS_SPO_2024-06-20_369076193, 776941-SH_GRADS_SPO_2024-06-20_369086595, 776942-SH_GRADS_SPO_2024-06-20_369086872, 776944-SH_GRADS_SPO_2024-06-20_369095265, 776943-SH_GRADS_SPO_2024-06-20_369095716, 776946-SH_GRADS_SPO_2024-06-20_369106298, 776945-SH_GRADS_SPO_2024-06-20_369123861, 776947-SH_GRADS_SPO_2024-06-20_369124012, 776949-SH_GRADS_SPO_2024-06-20_369124078, 776948-SH_GRADS_SPO_2024-06-20_369189247, 776950-SH_GRADS_SPO_2024-06-20_369198619, 776951-SH_GRADS_SPO_2024-06-20_369205027, 776956-SH_GRADS_SPO_2024-06-20_369268467, 776954-SH_GRADS_SPO_2024-06-20_369271574, 776955-SH_GRADS_SPO_2024-06-20_369277813, 776953-SH_GRADS_SPO_2024-06-20_369410902, 776952-SH_GRADS_SPO_2024-06-20_369471776, 776957-SH_GRADS_SPO_2024-06-20_369512077, 776959-SH_GRADS_SPO_2024-06-20_369537337, 776958-SH_GRADS_SPO_2024-06-20_369547370, 776961-SH_GRADS_SPO_2024-06-20_369557642, 776960-SH_GRADS_SPO_2024-06-20_369575357, 776962-SH_GRADS_SPO_2024-06-20_369598529, 776963-SH_GRADS_SPO_2024-06-20_369610327, 776965-SH_GRADS_SPO_2024-06-20_369619952, 776964-SH_GRADS_SPO_2024-06-20_369622945, 776967-SH_GRADS_SPO_2024-06-20_369629410, 776966-SH_GRADS_SPO_2024-06-20_369639783, 776968-SH_GRADS_SPO_2024-06-20_369658768, 776969-SH_GRADS_SPO_2024-06-20_369663133, 776970-SH_GRADS_SPO_2024-06-20_369670164, 776971-SH_GRADS_SPO_2024-06-20_369678135, 776973-SH_GRADS_SPO_2024-06-20_369718788, 776972-SH_GRADS_SPO_2024-06-20_369783201, 776974-SH_GRADS_SPO_2024-06-20_369806776, 776975-SH_GRADS_SPO_2024-06-20_369819640, 776976-SH_GRADS_SPO_2024-06-20_369823631, 776977-SH_GRADS_SPO_2024-06-20_369831371, 776978-SH_GRADS_SPO_2024-06-20_369836232, 776979-SH_GRADS_SPO_2024-06-20_369844443, 776980-SH_GRADS_SPO_2024-06-20_369871260, 776981-SH_GRADS_SPO_2024-06-20_369871995, 776982-SH_GRADS_SPO_2024-06-20_369887312, 776983-SH_GRADS_SPO_2024-06-20_369891917, 776984-SH_GRADS_SPO_2024-06-20_369941912, 776985-SH_GRADS_SPO_2024-06-20_369947169, 776986-SH_GRADS_SPO_2024-06-20_369954926, 776987-SH_GRADS_SPO_2024-06-20_369960584, 776988-SH_GRADS_SPO_2024-06-20_369964571, 776992-SH_GRADS_SPO_2024-06-20_369994497, 776989-SH_GRADS_SPO_2024-06-20_370006735, 776990-SH_GRADS_SPO_2024-06-20_370008905, 776991-SH_GRADS_SPO_2024-06-20_370012664, 776993-SH_GRADS_SPO_2024-06-20_370018543, 776994-SH_GRADS_SPO_2024-06-20_370022231, 776996-SH_GRADS_SPO_2024-06-20_370050545, 776995-SH_GRADS_SPO_2024-06-20_370057968, 776998-SH_GRADS_SPO_2024-06-20_370097409, 776997-SH_GRADS_SPO_2024-06-20_370128921, 776999-SH_GRADS_SPO_2024-06-20_370134063, 777000-SH_GRADS_SPO_2024-06-20_370141546, 777001-SH_GRADS_SPO_2024-06-20_370152579, 777005-SH_GRADS_SPO_2024-06-20_370182560, 777006-SH_GRADS_SPO_2024-06-20_370184503, 777003-SH_GRADS_SPO_2024-06-20_370209769, 777004-SH_GRADS_SPO_2024-06-20_370224358, 777002-SH_GRADS_SPO_2024-06-20_370227616, 777007-SH_GRADS_SPO_2024-06-20_370230766, 777009-SH_GRADS_SPO_2024-06-20_370235029, 777010-SH_GRADS_SPO_2024-06-20_370235107, 777008-SH_GRADS_SPO_2024-06-20_370235538, 777011-SH_GRADS_SPO_2024-06-20_370240794, 777012-SH_GRADS_SPO_2024-06-20_370245724, 777013-SH_GRADS_SPO_2024-06-20_370253924, 777014-SH_GRADS_SPO_2024-06-20_370254581, 777017-SH_GRADS_SPO_2024-06-20_370255451, 777015-SH_GRADS_SPO_2024-06-20_370262217, 777016-SH_GRADS_SPO_2024-06-20_370269236, 777018-SH_GRADS_SPO_2024-06-20_370269921, 777019-SH_GRADS_SPO_2024-06-20_370273709, 777020-SH_GRADS_SPO_2024-06-20_370274465, 777022-SH_GRADS_SPO_2024-06-20_370281703, 777021-SH_GRADS_SPO_2024-06-20_370282054, 777023-SH_GRADS_SPO_2024-06-20_370293078, 777024-SH_GRADS_SPO_2024-06-20_370293099, 777025-SH_GRADS_SPO_2024-06-20_370313959, 777026-SH_GRADS_SPO_2024-06-20_370316218, 777027-SH_GRADS_SPO_2024-06-20_370326041, 777028-SH_GRADS_SPO_2024-06-20_370332774, 777029-SH_GRADS_SPO_2024-06-20_370403539, 777030-SH_GRADS_SPO_2024-06-20_370410250, 777031-SH_GRADS_SPO_2024-06-20_370416641, 777032-SH_GRADS_SPO_2024-06-20_370436030, 777033-SH_GRADS_SPO_2024-06-20_370436273, 777034-SH_GRADS_SPO_2024-06-20_370436444, 777035-SH_GRADS_SPO_2024-06-20_370442479, 777036-SH_GRADS_SPO_2024-06-20_370442513, 777037-SH_GRADS_SPO_2024-06-20_370443259, 777038-SH_GRADS_SPO_2024-06-20_370456008, 777039-SH_GRADS_SPO_2024-06-20_370456235, 777041-SH_GRADS_SPO_2024-06-20_370468544, 777042-SH_GRADS_SPO_2024-06-20_370468994, 777040-SH_GRADS_SPO_2024-06-20_370469191, 777043-SH_GRADS_SPO_2024-06-20_370469351, 777044-SH_GRADS_SPO_2024-06-20_370469735, 777045-SH_GRADS_SPO_2024-06-20_370469789, 777047-SH_GRADS_SPO_2024-06-20_370469929, 777046-SH_GRADS_SPO_2024-06-20_370469938, 777048-SH_GRADS_SPO_2024-06-20_370469959, 777049-SH_GRADS_SPO_2024-06-20_370471041, 777050-SH_GRADS_SPO_2024-06-20_370474847, 777051-SH_GRADS_SPO_2024-06-20_370475945, 777055-SH_GRADS_SPO_2024-06-20_370478339, 777054-SH_GRADS_SPO_2024-06-20_370485848, 777053-SH_GRADS_SPO_2024-06-20_370500221, 777052-SH_GRADS_SPO_2024-06-20_370501487, 777056-SH_GRADS_SPO_2024-06-20_370506081, 777057-SH_GRADS_SPO_2024-06-20_370509408, 777058-SH_GRADS_SPO_2024-06-20_370511110, 777059-SH_GRADS_SPO_2024-06-20_370519599, 777060-SH_GRADS_SPO_2024-06-20_370521390, 777061-SH_GRADS_SPO_2024-06-20_370538485, 777062-SH_GRADS_SPO_2024-06-20_370540937, 777063-SH_GRADS_SPO_2024-06-20_370541201, 777064-SH_GRADS_SPO_2024-06-20_370541913, 777067-SH_GRADS_SPO_2024-06-20_370541955, 777066-SH_GRADS_SPO_2024-06-20_370541961, 777065-SH_GRADS_SPO_2024-06-20_370541995, 777068-SH_GRADS_SPO_2024-06-20_370547456, 777069-SH_GRADS_SPO_2024-06-20_370554730, 777070-SH_GRADS_SPO_2024-06-20_370555894, 777071-SH_GRADS_SPO_2024-06-20_370556488, 777072-SH_GRADS_SPO_2024-06-20_370557310, 777073-SH_GRADS_SPO_2024-06-20_370562632, 777074-SH_GRADS_SPO_2024-06-20_370562658, 777075-SH_GRADS_SPO_2024-06-20_370575725, 777077-SH_GRADS_SPO_2024-06-20_370575738, 777078-SH_GRADS_SPO_2024-06-20_370585852, 777076-SH_GRADS_SPO_2024-06-20_370587420, 777079-SH_GRADS_SPO_2024-06-20_370603781, 777080-SH_GRADS_SPO_2024-06-20_370605868, 777081-SH_GRADS_SPO_2024-06-20_370612856, 777082-SH_GRADS_SPO_2024-06-20_370633009, 777083-SH_GRADS_SPO_2024-06-20_370641058, 777084-SH_GRADS_SPO_2024-06-20_370643443, 777085-SH_GRADS_SPO_2024-06-20_370643478, 777086-SH_GRADS_SPO_2024-06-20_370645807, 777087-SH_GRADS_SPO_2024-06-20_370645850, 777088-SH_GRADS_SPO_2024-06-20_370661202, 777092-SH_GRADS_SPO_2024-06-20_370662440, 777089-SH_GRADS_SPO_2024-06-20_370662873, 777090-SH_GRADS_SPO_2024-06-20_370663578, 777091-SH_GRADS_SPO_2024-06-20_370676954, 777093-SH_GRADS_SPO_2024-06-20_370676974, 777094-SH_GRADS_SPO_2024-06-20_370678557, 777095-SH_GRADS_SPO_2024-06-20_370678564, 777096-SH_GRADS_SPO_2024-06-20_370685558, 777098-SH_GRADS_SPO_2024-06-20_370685597, 777097-SH_GRADS_SPO_2024-06-20_370690943, 777099-SH_GRADS_SPO_2024-06-20_370695547, 777100-SH_GRADS_SPO_2024-06-20_370695573, 777101-SH_GRADS_SPO_2024-06-20_370696501, 777105-SH_GRADS_SPO_2024-06-20_370700121, 777103-SH_GRADS_SPO_2024-06-20_370700156, 777102-SH_GRADS_SPO_2024-06-20_370700519, 777104-SH_GRADS_SPO_2024-06-20_370703279, 777106-SH_GRADS_SPO_2024-06-20_370705299, 777107-SH_GRADS_SPO_2024-06-20_370724600, 777108-SH_GRADS_SPO_2024-06-20_370727281, 777109-SH_GRADS_SPO_2024-06-20_370727427, 777110-SH_GRADS_SPO_2024-06-20_370727462, 777111-SH_GRADS_SPO_2024-06-20_370727788, 777112-SH_GRADS_SPO_2024-06-20_370727968, 777113-SH_GRADS_SPO_2024-06-20_370728327, 777114-SH_GRADS_SPO_2024-06-20_370728334, 777116-SH_GRADS_SPO_2024-06-20_370739624, 777115-SH_GRADS_SPO_2024-06-20_370745206, 777117-SH_GRADS_SPO_2024-06-20_370745225, 777118-SH_GRADS_SPO_2024-06-20_370765641, 777119-SH_GRADS_SPO_2024-06-20_370765683, 777120-SH_GRADS_SPO_2024-06-20_370766854, 777121-SH_GRADS_SPO_2024-06-20_370772100, 777122-SH_GRADS_SPO_2024-06-20_370772696, 777123-SH_GRADS_SPO_2024-06-20_370773096, 777124-SH_GRADS_SPO_2024-06-20_370776050, 777125-SH_GRADS_SPO_2024-06-20_370797658, 777126-SH_GRADS_SPO_2024-06-20_370807554, 777127-SH_GRADS_SPO_2024-06-20_370808029, 777128-SH_GRADS_SPO_2024-06-20_370810742, 777129-SH_GRADS_SPO_2024-06-20_370813907, 777130-SH_GRADS_SPO_2024-06-20_370847116, 777131-SH_GRADS_SPO_2024-06-20_370857210, 777132-SH_GRADS_SPO_2024-06-20_370857614, 777133-SH_GRADS_SPO_2024-06-20_370879705, 777134-SH_GRADS_SPO_2024-06-20_370880217, 777135-SH_GRADS_SPO_2024-06-20_370880255, 777136-SH_GRADS_SPO_2024-06-20_370891126, 777137-SH_GRADS_SPO_2024-06-20_370897156, 777138-SH_GRADS_SPO_2024-06-20_370897163, 777139-SH_GRADS_SPO_2024-06-20_370897186, 777142-SH_GRADS_SPO_2024-06-20_370901027, 777140-SH_GRADS_SPO_2024-06-20_370901079, 777141-SH_GRADS_SPO_2024-06-20_370901093, 777143-SH_GRADS_SPO_2024-06-20_370907885, 777145-SH_GRADS_SPO_2024-06-20_370908870, 777144-SH_GRADS_SPO_2024-06-20_370909924, 777147-SH_GRADS_SPO_2024-06-20_370910252, 777146-SH_GRADS_SPO_2024-06-20_370910275, 777148-SH_GRADS_SPO_2024-06-20_370910984, 777149-SH_GRADS_SPO_2024-06-20_370910997, 777150-SH_GRADS_SPO_2024-06-20_370915662, 777151-SH_GRADS_SPO_2024-06-20_370916680, 777153-SH_GRADS_SPO_2024-06-20_370916768, 777154-SH_GRADS_SPO_2024-06-20_370919325, 777155-SH_GRADS_SPO_2024-06-20_370925487, 777152-SH_GRADS_SPO_2024-06-20_370927668, 777156-SH_GRADS_SPO_2024-06-20_370927777, 777159-SH_GRADS_SPO_2024-06-20_370942395, 777157-SH_GRADS_SPO_2024-06-20_370944949, 777158-SH_GRADS_SPO_2024-06-20_370945041, 777160-SH_GRADS_SPO_2024-06-20_370945068, 777162-SH_GRADS_SPO_2024-06-20_370946935, 777161-SH_GRADS_SPO_2024-06-20_370948357, 777163-SH_GRADS_SPO_2024-06-20_370952210, 777165-SH_GRADS_SPO_2024-06-20_370952464, 777166-SH_GRADS_SPO_2024-06-20_370961507, 777164-SH_GRADS_SPO_2024-06-20_370961563, 777167-SH_GRADS_SPO_2024-06-20_370963279, 777168-SH_GRADS_SPO_2024-06-20_370975735, 777169-SH_GRADS_SPO_2024-06-20_370978946, 777170-SH_GRADS_SPO_2024-06-20_370978979, 777171-SH_GRADS_SPO_2024-06-20_370980830, 777172-SH_GRADS_SPO_2024-06-20_370982611, 777173-SH_GRADS_SPO_2024-06-20_370986043, 777174-SH_GRADS_SPO_2024-06-20_370986398, 777175-SH_GRADS_SPO_2024-06-20_370988738, 777176-SH_GRADS_SPO_2024-06-20_370991055, 777179-SH_GRADS_SPO_2024-06-20_370998490, 777178-SH_GRADS_SPO_2024-06-20_371013558, 777177-SH_GRADS_SPO_2024-06-20_371015034, 777180-SH_GRADS_SPO_2024-06-20_371015595, 777181-SH_GRADS_SPO_2024-06-20_371018330, 777182-SH_GRADS_SPO_2024-06-20_371018699, 777183-SH_GRADS_SPO_2024-06-20_371021049, 777184-SH_GRADS_SPO_2024-06-20_371021073, 777185-SH_GRADS_SPO_2024-06-20_371048285, 777186-SH_GRADS_SPO_2024-06-20_371056523, 777187-SH_GRADS_SPO_2024-06-20_371069854, 777188-SH_GRADS_SPO_2024-06-20_371070853, 777189-SH_GRADS_SPO_2024-06-20_371083095, 777190-SH_GRADS_SPO_2024-06-20_371083561, 777191-SH_GRADS_SPO_2024-06-20_371083584, 777192-SH_GRADS_SPO_2024-06-20_371084926, 777193-SH_GRADS_SPO_2024-06-20_371084939, 777194-SH_GRADS_SPO_2024-06-20_371085514, 777195-SH_GRADS_SPO_2024-06-20_371088547, 777196-SH_GRADS_SPO_2024-06-20_371091925, 777197-SH_GRADS_SPO_2024-06-20_371091990, 777198-SH_GRADS_SPO_2024-06-20_371092796, 777199-SH_GRADS_SPO_2024-06-20_371095124, 777200-SH_GRADS_SPO_2024-06-20_371095512, 777201-SH_GRADS_SPO_2024-06-20_371095561, 777203-SH_GRADS_SPO_2024-06-20_371100323, 777204-SH_GRADS_SPO_2024-06-20_371110258, 777202-SH_GRADS_SPO_2024-06-20_371110274, 777205-SH_GRADS_SPO_2024-06-20_371110374, 777206-SH_GRADS_SPO_2024-06-20_371110386, 777207-SH_GRADS_SPO_2024-06-20_371110581, 777208-SH_GRADS_SPO_2024-06-20_371110608, 777209-SH_GRADS_SPO_2024-06-20_371110732, 777210-SH_GRADS_SPO_2024-06-20_371110782, 777211-SH_GRADS_SPO_2024-06-20_371115800, 777212-SH_GRADS_SPO_2024-06-20_371115810, 777213-SH_GRADS_SPO_2024-06-20_371115835, 777214-SH_GRADS_SPO_2024-06-20_371115893, 777215-SH_GRADS_SPO_2024-06-20_371116753, 777216-SH_GRADS_SPO_2024-06-20_371116969, 777217-SH_GRADS_SPO_2024-06-20_371123607, 777218-SH_GRADS_SPO_2024-06-20_371123680, 777219-SH_GRADS_SPO_2024-06-20_371123709, 777221-SH_GRADS_SPO_2024-06-20_371123768, 777220-SH_GRADS_SPO_2024-06-20_371139724, 777222-SH_GRADS_SPO_2024-06-20_371139781, 777223-SH_GRADS_SPO_2024-06-20_371140062, 777224-SH_GRADS_SPO_2024-06-20_371140215, 777225-SH_GRADS_SPO_2024-06-20_371140280, 777227-SH_GRADS_SPO_2024-06-20_371147778, 777226-SH_GRADS_SPO_2024-06-20_371148656, 777228-SH_GRADS_SPO_2024-06-20_371148815, 777229-SH_GRADS_SPO_2024-06-20_371148836, 777230-SH_GRADS_SPO_2024-06-20_371150113, 777231-SH_GRADS_SPO_2024-06-20_371150152, 777232-SH_GRADS_SPO_2024-06-20_371150186, 777233-SH_GRADS_SPO_2024-06-20_371155135, 777234-SH_GRADS_SPO_2024-06-20_371159351, 777235-SH_GRADS_SPO_2024-06-20_371159366, 777236-SH_GRADS_SPO_2024-06-20_371159394, 777237-SH_GRADS_SPO_2024-06-20_371160674, 777239-SH_GRADS_SPO_2024-06-20_371176940, 777238-SH_GRADS_SPO_2024-06-20_371176953, 777240-SH_GRADS_SPO_2024-06-20_371176962, 777241-SH_GRADS_SPO_2024-06-20_371176989, 777243-SH_GRADS_SPO_2024-06-20_371177242, 777242-SH_GRADS_SPO_2024-06-20_371177277, 777244-SH_GRADS_SPO_2024-06-20_371177616, 777245-SH_GRADS_SPO_2024-06-20_371177760, 777246-SH_GRADS_SPO_2024-06-20_371178320, 777247-SH_GRADS_SPO_2024-06-20_371178387, 777248-SH_GRADS_SPO_2024-06-20_371181214, 777249-SH_GRADS_SPO_2024-06-20_371187673, 777250-SH_GRADS_SPO_2024-06-20_371205197, 777251-SH_GRADS_SPO_2024-06-20_371212830, 777256-SH_GRADS_SPO_2024-06-20_371235734, 777255-SH_GRADS_SPO_2024-06-20_371235774, 777254-SH_GRADS_SPO_2024-06-20_371237616, 777252-SH_GRADS_SPO_2024-06-20_371243242, 777253-SH_GRADS_SPO_2024-06-20_371243278, 777257-SH_GRADS_SPO_2024-06-20_371266044, 777258-SH_GRADS_SPO_2024-06-20_371274501, 777260-SH_GRADS_SPO_2024-06-20_371276826, 777259-SH_GRADS_SPO_2024-06-20_371276836, 777261-SH_GRADS_SPO_2024-06-20_371279650, 777262-SH_GRADS_SPO_2024-06-20_371281267, 777263-SH_GRADS_SPO_2024-06-20_371283641, 777266-SH_GRADS_SPO_2024-06-20_371289726, 777265-SH_GRADS_SPO_2024-06-20_371290811, 777264-SH_GRADS_SPO_2024-06-20_371298854, 777267-SH_GRADS_SPO_2024-06-20_371300293, 777268-SH_GRADS_SPO_2024-06-20_371300310, 777269-SH_GRADS_SPO_2024-06-20_371300350, 777270-SH_GRADS_SPO_2024-06-20_371302247, 777272-SH_GRADS_SPO_2024-06-20_371302908, 777273-SH_GRADS_SPO_2024-06-20_371302964, 777271-SH_GRADS_SPO_2024-06-20_371302977, 777274-SH_GRADS_SPO_2024-06-20_371302979, 777275-SH_GRADS_SPO_2024-06-20_371303200, 777276-SH_GRADS_SPO_2024-06-20_371304926, 777277-SH_GRADS_SPO_2024-06-20_371305038, 777279-SH_GRADS_SPO_2024-06-20_371305107, 777278-SH_GRADS_SPO_2024-06-20_371308258, 777280-SH_GRADS_SPO_2024-06-20_371310549, 777281-SH_GRADS_SPO_2024-06-20_371310853, 777282-SH_GRADS_SPO_2024-06-20_371327210, 777283-SH_GRADS_SPO_2024-06-20_371327256, 777284-SH_GRADS_SPO_2024-06-20_371328738, 777285-SH_GRADS_SPO_2024-06-20_371328767, 777286-SH_GRADS_SPO_2024-06-20_371328778, 777287-SH_GRADS_SPO_2024-06-20_371328785, 777289-SH_GRADS_SPO_2024-06-20_371329223, 777288-SH_GRADS_SPO_2024-06-20_371330340, 777290-SH_GRADS_SPO_2024-06-20_371334185, 777291-SH_GRADS_SPO_2024-06-20_371334823, 777292-SH_GRADS_SPO_2024-06-20_371335420, 777294-SH_GRADS_SPO_2024-06-20_371335477, 777293-SH_GRADS_SPO_2024-06-20_371338946, 777295-SH_GRADS_SPO_2024-06-20_371347068, 777296-SH_GRADS_SPO_2024-06-20_371358886, 777297-SH_GRADS_SPO_2024-06-20_371358895, 777298-SH_GRADS_SPO_2024-06-20_371359025, 777299-SH_GRADS_SPO_2024-06-20_371359924, 777301-SH_GRADS_SPO_2024-06-20_371359952, 777300-SH_GRADS_SPO_2024-06-20_371359983, 777304-SH_GRADS_SPO_2024-06-20_371364869, 777303-SH_GRADS_SPO_2024-06-20_371365510, 777302-SH_GRADS_SPO_2024-06-20_371365525, 777305-SH_GRADS_SPO_2024-06-20_371366158, 777306-SH_GRADS_SPO_2024-06-20_371371307, 777307-SH_GRADS_SPO_2024-06-20_371371347, 777308-SH_GRADS_SPO_2024-06-20_371376026, 777309-SH_GRADS_SPO_2024-06-20_371385356, 777310-SH_GRADS_SPO_2024-06-20_371398414, 777311-SH_GRADS_SPO_2024-06-20_371399020, 777312-SH_GRADS_SPO_2024-06-20_371399435, 777313-SH_GRADS_SPO_2024-06-20_371399527, 777314-SH_GRADS_SPO_2024-06-20_371399543, 777315-SH_GRADS_SPO_2024-06-20_371412991, 777316-SH_GRADS_SPO_2024-06-20_371413457, 777317-SH_GRADS_SPO_2024-06-20_371414468, 777318-SH_GRADS_SPO_2024-06-20_371434950, 777319-SH_GRADS_SPO_2024-06-20_371436569, 777320-SH_GRADS_SPO_2024-06-20_371454240, 777322-SH_GRADS_SPO_2024-06-20_371462342, 777321-SH_GRADS_SPO_2024-06-20_371468321, 777325-SH_GRADS_SPO_2024-06-20_371473645, 777324-SH_GRADS_SPO_2024-06-20_371477117, 777323-SH_GRADS_SPO_2024-06-20_371477181, 777326-SH_GRADS_SPO_2024-06-20_371479151, 777327-SH_GRADS_SPO_2024-06-20_371482834, 777328-SH_GRADS_SPO_2024-06-20_371490444, 777329-SH_GRADS_SPO_2024-06-20_371490460, 777330-SH_GRADS_SPO_2024-06-20_371491386, 777331-SH_GRADS_SPO_2024-06-20_371491851, 777332-SH_GRADS_SPO_2024-06-20_371491888, 777333-SH_GRADS_SPO_2024-06-20_371502057, 777334-SH_GRADS_SPO_2024-06-20_371503466, 777335-SH_GRADS_SPO_2024-06-20_371505111, 777337-SH_GRADS_SPO_2024-06-20_371505122, 777336-SH_GRADS_SPO_2024-06-20_371505169, 777338-SH_GRADS_SPO_2024-06-20_371508633, 777339-SH_GRADS_SPO_2024-06-20_371509534, 777340-SH_GRADS_SPO_2024-06-20_371511327, 777341-SH_GRADS_SPO_2024-06-20_371511354, 777342-SH_GRADS_SPO_2024-06-20_371512293, 777343-SH_GRADS_SPO_2024-06-20_371512309, 777344-SH_GRADS_SPO_2024-06-20_371514012, 777345-SH_GRADS_SPO_2024-06-20_371515305, 777346-SH_GRADS_SPO_2024-06-20_371517086, 777347-SH_GRADS_SPO_2024-06-20_371530529, 777348-SH_GRADS_SPO_2024-06-20_371530549, 777349-SH_GRADS_SPO_2024-06-20_371530584, 777350-SH_GRADS_SPO_2024-06-20_371530635, 777355-SH_GRADS_SPO_2024-06-20_371530663, 777351-SH_GRADS_SPO_2024-06-20_371532132, 777354-SH_GRADS_SPO_2024-06-20_371537149, 777353-SH_GRADS_SPO_2024-06-20_371540282, 777352-SH_GRADS_SPO_2024-06-20_371550099, 777356-SH_GRADS_SPO_2024-06-20_371551036, 777357-SH_GRADS_SPO_2024-06-20_371552499, 777358-SH_GRADS_SPO_2024-06-20_371561692, 777360-SH_GRADS_SPO_2024-06-20_371566522, 777359-SH_GRADS_SPO_2024-06-20_371570561, 777361-SH_GRADS_SPO_2024-06-20_371574137, 777362-SH_GRADS_SPO_2024-06-20_371574563, 777363-SH_GRADS_SPO_2024-06-20_371575060, 777364-SH_GRADS_SPO_2024-06-20_371577015, 777366-SH_GRADS_SPO_2024-06-20_371577051, 777365-SH_GRADS_SPO_2024-06-20_371577754, 777367-SH_GRADS_SPO_2024-06-20_371577782, 777368-SH_GRADS_SPO_2024-06-20_371594233, 777369-SH_GRADS_SPO_2024-06-20_371594681, 777370-SH_GRADS_SPO_2024-06-20_371597803, 777371-SH_GRADS_SPO_2024-06-20_371599618, 777373-SH_GRADS_SPO_2024-06-20_371623195, 777372-SH_GRADS_SPO_2024-06-20_371644199, 777374-SH_GRADS_SPO_2024-06-20_371645252, 777375-SH_GRADS_SPO_2024-06-20_371650760, 777376-SH_GRADS_SPO_2024-06-20_371664517, 777377-SH_GRADS_SPO_2024-06-20_371674212, 777378-SH_GRADS_SPO_2024-06-20_371681901, 777380-SH_GRADS_SPO_2024-06-20_371682627, 777379-SH_GRADS_SPO_2024-06-20_371683054, 777381-SH_GRADS_SPO_2024-06-20_371683211, 777382-SH_GRADS_SPO_2024-06-20_371700883, 777383-SH_GRADS_SPO_2024-06-20_371700936, 777384-SH_GRADS_SPO_2024-06-20_371700975, 777385-SH_GRADS_SPO_2024-06-20_371701050, 777386-SH_GRADS_SPO_2024-06-20_371701212, 777387-SH_GRADS_SPO_2024-06-20_371709744, 777388-SH_GRADS_SPO_2024-06-20_371711511, 777389-SH_GRADS_SPO_2024-06-20_371711533, 777390-SH_GRADS_SPO_2024-06-20_371711904, 777392-SH_GRADS_SPO_2024-06-20_371720164, 777391-SH_GRADS_SPO_2024-06-20_371720192, 777393-SH_GRADS_SPO_2024-06-20_371730101, 777394-SH_GRADS_SPO_2024-06-20_371730128, 777395-SH_GRADS_SPO_2024-06-20_371730147, 777396-SH_GRADS_SPO_2024-06-20_371735388, 777397-SH_GRADS_SPO_2024-06-20_371735594, 777398-SH_GRADS_SPO_2024-06-20_371737219, 777399-SH_GRADS_SPO_2024-06-20_371738928, 777400-SH_GRADS_SPO_2024-06-20_371739330, 777401-SH_GRADS_SPO_2024-06-20_371739842, 777403-SH_GRADS_SPO_2024-06-20_371740457, 777402-SH_GRADS_SPO_2024-06-20_371745648, 777404-SH_GRADS_SPO_2024-06-20_371749088, 777405-SH_GRADS_SPO_2024-06-20_371751303, 777406-SH_GRADS_SPO_2024-06-20_371753628, 777407-SH_GRADS_SPO_2024-06-20_371753867, 777409-SH_GRADS_SPO_2024-06-20_371755667, 777408-SH_GRADS_SPO_2024-06-20_371770839, 777410-SH_GRADS_SPO_2024-06-20_371774742, 777411-SH_GRADS_SPO_2024-06-20_371774747, 777412-SH_GRADS_SPO_2024-06-20_371774759, 777413-SH_GRADS_SPO_2024-06-20_371774799, 777414-SH_GRADS_SPO_2024-06-20_371778510, 777415-SH_GRADS_SPO_2024-06-20_371780305, 777416-SH_GRADS_SPO_2024-06-20_371780855, 777417-SH_GRADS_SPO_2024-06-20_371781424, 777418-SH_GRADS_SPO_2024-06-20_371781482, 777419-SH_GRADS_SPO_2024-06-20_371783116, 777420-SH_GRADS_SPO_2024-06-20_371787911, 777421-SH_GRADS_SPO_2024-06-20_371803800, 777422-SH_GRADS_SPO_2024-06-20_371813673, 777423-SH_GRADS_SPO_2024-06-20_371818433, 777424-SH_GRADS_SPO_2024-06-20_371839696, 777425-SH_GRADS_SPO_2024-06-20_371841310, 777426-SH_GRADS_SPO_2024-06-20_371841369, 777428-SH_GRADS_SPO_2024-06-20_371856929, 777427-SH_GRADS_SPO_2024-06-20_371875429, 777429-SH_GRADS_SPO_2024-06-20_371875447, 777431-SH_GRADS_SPO_2024-06-20_371875498, 777430-SH_GRADS_SPO_2024-06-20_371876256, 777432-SH_GRADS_SPO_2024-06-20_371879269, 777433-SH_GRADS_SPO_2024-06-20_371879287, 777434-SH_GRADS_SPO_2024-06-20_371883724, 777435-SH_GRADS_SPO_2024-06-20_371885369, 777436-SH_GRADS_SPO_2024-06-20_371889578, 777437-SH_GRADS_SPO_2024-06-20_371889841, 777438-SH_GRADS_SPO_2024-06-20_371893051, 777439-SH_GRADS_SPO_2024-06-20_371894640, 777441-SH_GRADS_SPO_2024-06-20_371895533, 777442-SH_GRADS_SPO_2024-06-20_371896003, 777440-SH_GRADS_SPO_2024-06-20_371896037, 777443-SH_GRADS_SPO_2024-06-20_371901096, 777444-SH_GRADS_SPO_2024-06-20_371916305, 777445-SH_GRADS_SPO_2024-06-20_371916388, 777446-SH_GRADS_SPO_2024-06-20_371924522, 777447-SH_GRADS_SPO_2024-06-20_371924557, 777448-SH_GRADS_SPO_2024-06-20_371924586, 777450-SH_GRADS_SPO_2024-06-20_371929724, 777449-SH_GRADS_SPO_2024-06-20_371931429, 777451-SH_GRADS_SPO_2024-06-20_371931497, 777453-SH_GRADS_SPO_2024-06-20_371943248, 777452-SH_GRADS_SPO_2024-06-20_371949573, 777454-SH_GRADS_SPO_2024-06-20_371955759, 777456-SH_GRADS_SPO_2024-06-20_371956462, 777455-SH_GRADS_SPO_2024-06-20_371959480, 777457-SH_GRADS_SPO_2024-06-20_371966930, 777458-SH_GRADS_SPO_2024-06-20_371977719, 777460-SH_GRADS_SPO_2024-06-20_371977734, 777459-SH_GRADS_SPO_2024-06-20_371980640, 777461-SH_GRADS_SPO_2024-06-20_371982834, 777462-SH_GRADS_SPO_2024-06-20_371982840, 777463-SH_GRADS_SPO_2024-06-20_371982877, 777464-SH_GRADS_SPO_2024-06-20_371988007, 777465-SH_GRADS_SPO_2024-06-20_371990116, 777466-SH_GRADS_SPO_2024-06-20_371990236, 777467-SH_GRADS_SPO_2024-06-20_371990869, 777468-SH_GRADS_SPO_2024-06-20_371993655, 777469-SH_GRADS_SPO_2024-06-20_371995117, 777470-SH_GRADS_SPO_2024-06-20_371995320, 777471-SH_GRADS_SPO_2024-06-20_372015502, 777472-SH_GRADS_SPO_2024-06-20_372016452, 777473-SH_GRADS_SPO_2024-06-20_372018213, 777474-SH_GRADS_SPO_2024-06-20_372025451, 777475-SH_GRADS_SPO_2024-06-20_372029995, 777476-SH_GRADS_SPO_2024-06-20_372065872, 777477-SH_GRADS_SPO_2024-06-20_372090915, 777478-SH_GRADS_SPO_2024-06-20_372095747, 777480-SH_GRADS_SPO_2024-06-20_372107769, 777479-SH_GRADS_SPO_2024-06-20_372107783, 777481-SH_GRADS_SPO_2024-06-20_372107790, 777482-SH_GRADS_SPO_2024-06-20_372110549, 777483-SH_GRADS_SPO_2024-06-20_372126731, 777484-SH_GRADS_SPO_2024-06-20_372131003, 777485-SH_GRADS_SPO_2024-06-20_372131027, 777486-SH_GRADS_SPO_2024-06-20_372132099, 777487-SH_GRADS_SPO_2024-06-20_372134821, 777488-SH_GRADS_SPO_2024-06-20_372134827, 777489-SH_GRADS_SPO_2024-06-20_372138126, 777490-SH_GRADS_SPO_2024-06-20_372149629, 777491-SH_GRADS_SPO_2024-06-20_372150648, 777492-SH_GRADS_SPO_2024-06-20_372164759, 777494-SH_GRADS_SPO_2024-06-20_372165723, 777493-SH_GRADS_SPO_2024-06-20_372174215, 777495-SH_GRADS_SPO_2024-06-20_372174702, 777496-SH_GRADS_SPO_2024-06-20_372183356, 777497-SH_GRADS_SPO_2024-06-20_372186992, 777498-SH_GRADS_SPO_2024-06-20_372187024, 777499-SH_GRADS_SPO_2024-06-20_372187077, 777501-SH_GRADS_SPO_2024-06-20_372187245, 777500-SH_GRADS_SPO_2024-06-20_372187336, 777505-SH_GRADS_SPO_2024-06-20_372189129, 777504-SH_GRADS_SPO_2024-06-20_372189719, 777502-SH_GRADS_SPO_2024-06-20_372191916, 777503-SH_GRADS_SPO_2024-06-20_372192140, 777506-SH_GRADS_SPO_2024-06-20_372198696, 777507-SH_GRADS_SPO_2024-06-20_372200556, 777508-SH_GRADS_SPO_2024-06-20_372200579, 777510-SH_GRADS_SPO_2024-06-20_372203974, 777509-SH_GRADS_SPO_2024-06-20_372220146, 777511-SH_GRADS_SPO_2024-06-20_372230335, 777512-SH_GRADS_SPO_2024-06-20_372232661, 777513-SH_GRADS_SPO_2024-06-20_372246908, 777514-SH_GRADS_SPO_2024-06-20_372253026, 777515-SH_GRADS_SPO_2024-06-20_372259334, 777516-SH_GRADS_SPO_2024-06-20_372271336, 777517-SH_GRADS_SPO_2024-06-20_372272992, 777518-SH_GRADS_SPO_2024-06-20_372274473, 777519-SH_GRADS_SPO_2024-06-20_372278498, 777521-SH_GRADS_SPO_2024-06-20_372278528, 777522-SH_GRADS_SPO_2024-06-20_372281053, 777520-SH_GRADS_SPO_2024-06-20_372282482, 777524-SH_GRADS_SPO_2024-06-20_372284724, 777523-SH_GRADS_SPO_2024-06-20_372284794, 777525-SH_GRADS_SPO_2024-06-20_372285276, 777526-SH_GRADS_SPO_2024-06-20_372287848, 777527-SH_GRADS_SPO_2024-06-20_372294685, 777529-SH_GRADS_SPO_2024-06-20_372303184, 777528-SH_GRADS_SPO_2024-06-20_372304730, 777530-SH_GRADS_SPO_2024-06-20_372305350, 777531-SH_GRADS_SPO_2024-06-20_372305368, 777532-SH_GRADS_SPO_2024-06-20_372307762, 777533-SH_GRADS_SPO_2024-06-20_372308638, 777534-SH_GRADS_SPO_2024-06-20_372308655, 777535-SH_GRADS_SPO_2024-06-20_372309888, 777536-SH_GRADS_SPO_2024-06-20_372310210, 777537-SH_GRADS_SPO_2024-06-20_372310245, 777538-SH_GRADS_SPO_2024-06-20_372310273, 777540-SH_GRADS_SPO_2024-06-20_372312224, 777539-SH_GRADS_SPO_2024-06-20_372314967, 777541-SH_GRADS_SPO_2024-06-20_372315000, 777542-SH_GRADS_SPO_2024-06-20_372331415, 777543-SH_GRADS_SPO_2024-06-20_372334044, 777544-SH_GRADS_SPO_2024-06-20_372342616, 777545-SH_GRADS_SPO_2024-06-20_372343904, 777547-SH_GRADS_SPO_2024-06-20_372343972, 777546-SH_GRADS_SPO_2024-06-20_372346714, 777548-SH_GRADS_SPO_2024-06-20_372351292, 777549-SH_GRADS_SPO_2024-06-20_372351402, 777550-SH_GRADS_SPO_2024-06-20_372351457, 777551-SH_GRADS_SPO_2024-06-20_372351598, 777556-SH_GRADS_SPO_2024-06-20_372352005, 777555-SH_GRADS_SPO_2024-06-20_372367044, 777554-SH_GRADS_SPO_2024-06-20_372368302, 777553-SH_GRADS_SPO_2024-06-20_372373197, 777552-SH_GRADS_SPO_2024-06-20_372373648, 777557-SH_GRADS_SPO_2024-06-20_372378372, 777559-SH_GRADS_SPO_2024-06-20_372380488, 777558-SH_GRADS_SPO_2024-06-20_372381200, 777560-SH_GRADS_SPO_2024-06-20_372381910, 777561-SH_GRADS_SPO_2024-06-20_372382014, 777562-SH_GRADS_SPO_2024-06-20_372382028, 777563-SH_GRADS_SPO_2024-06-20_372382092, 777565-SH_GRADS_SPO_2024-06-20_372382382, 777566-SH_GRADS_SPO_2024-06-20_372382414, 777564-SH_GRADS_SPO_2024-06-20_372382502, 777567-SH_GRADS_SPO_2024-06-20_372398245, 777568-SH_GRADS_SPO_2024-06-20_372398707, 777569-SH_GRADS_SPO_2024-06-20_372399026, 777570-SH_GRADS_SPO_2024-06-20_372399156, 777571-SH_GRADS_SPO_2024-06-20_372400442, 777573-SH_GRADS_SPO_2024-06-20_372402875, 777572-SH_GRADS_SPO_2024-06-20_372409568, 777574-SH_GRADS_SPO_2024-06-20_372409646, 777575-SH_GRADS_SPO_2024-06-20_372410963, 777576-SH_GRADS_SPO_2024-06-20_372411374, 777577-SH_GRADS_SPO_2024-06-20_372412165, 777578-SH_GRADS_SPO_2024-06-20_372413635, 777579-SH_GRADS_SPO_2024-06-20_372416599, 777580-SH_GRADS_SPO_2024-06-20_372430557, 777581-SH_GRADS_SPO_2024-06-20_372433134, 777582-SH_GRADS_SPO_2024-06-20_372442631, 777583-SH_GRADS_SPO_2024-06-20_372442641, 777584-SH_GRADS_SPO_2024-06-20_372459605, 777586-SH_GRADS_SPO_2024-06-20_372459630, 777585-SH_GRADS_SPO_2024-06-20_372461482, 777587-SH_GRADS_SPO_2024-06-20_372462961, 777589-SH_GRADS_SPO_2024-06-20_372466640, 777588-SH_GRADS_SPO_2024-06-20_372469373, 777590-SH_GRADS_SPO_2024-06-20_372491149, 777591-SH_GRADS_SPO_2024-06-20_372503748, 777592-SH_GRADS_SPO_2024-06-20_372507929, 777593-SH_GRADS_SPO_2024-06-20_372509357, 777594-SH_GRADS_SPO_2024-06-20_372527931, 777595-SH_GRADS_SPO_2024-06-20_372556276, 777596-SH_GRADS_SPO_2024-06-20_372557033, 777597-SH_GRADS_SPO_2024-06-20_372558495, 777598-SH_GRADS_SPO_2024-06-20_372564009, 777599-SH_GRADS_SPO_2024-06-20_372565423, 777600-SH_GRADS_SPO_2024-06-20_372591847, 777601-SH_GRADS_SPO_2024-06-20_372627954, 777603-SH_GRADS_SPO_2024-06-20_372661323, 777602-SH_GRADS_SPO_2024-06-20_372669879]'"
      ]
     },
     "execution_count": 52,
     "metadata": {},
     "output_type": "execute_result"
    }
   ],
   "source": [
    "response.text"
   ]
  },
  {
   "cell_type": "code",
   "execution_count": 53,
   "metadata": {},
   "outputs": [],
   "source": [
    "sgt = [(int(x[:6]),x[7:]) for x in list(map(str.strip, response.text[32:].strip('][').replace('\"', '').split(',')))]"
   ]
  },
  {
   "cell_type": "code",
   "execution_count": 54,
   "metadata": {},
   "outputs": [],
   "source": [
    "for i in global_offer_csv.offer_name:\n",
    "    for j,z in sgt:\n",
    "        if z==i:\n",
    "            global_offer_csv.loc[global_offer_csv.offer_name == i, ('customer_segment_id')] = j\n",
    "            break"
   ]
  },
  {
   "cell_type": "code",
   "execution_count": 55,
   "metadata": {},
   "outputs": [
    {
     "data": {
      "text/plain": [
       "count    2949.000000\n",
       "mean        8.483184\n",
       "std         0.135232\n",
       "min         5.140000\n",
       "25%         8.500000\n",
       "50%         8.500000\n",
       "75%         8.500000\n",
       "max         8.500000\n",
       "Name: discount, dtype: float64"
      ]
     },
     "execution_count": 55,
     "metadata": {},
     "output_type": "execute_result"
    }
   ],
   "source": [
    "global_offer_csv.discount.describe()"
   ]
  },
  {
   "cell_type": "code",
   "execution_count": 56,
   "metadata": {},
   "outputs": [
    {
     "name": "stdout",
     "output_type": "stream",
     "text": [
      "<class 'pandas.core.frame.DataFrame'>\n",
      "Int64Index: 2949 entries, 0 to 2950\n",
      "Data columns (total 13 columns):\n",
      " #   Column                        Non-Null Count  Dtype  \n",
      "---  ------                        --------------  -----  \n",
      " 0   offer_name                    2949 non-null   object \n",
      " 1   offer_description             0 non-null      object \n",
      " 2   discount                      2949 non-null   float64\n",
      " 3   automatically_consider_offer  2949 non-null   object \n",
      " 4   start_date                    2949 non-null   object \n",
      " 5   end_date                      2949 non-null   object \n",
      " 6   max_uses_per_order            2949 non-null   int64  \n",
      " 7   max_uses_per_customer         2949 non-null   int64  \n",
      " 8   customer_segment_id           2949 non-null   int64  \n",
      " 9   sku_id                        2949 non-null   object \n",
      " 10  segment_behaviour             2949 non-null   object \n",
      " 11  offer_type                    2949 non-null   object \n",
      " 12  supplier_discount             2949 non-null   int64  \n",
      "dtypes: float64(1), int64(4), object(8)\n",
      "memory usage: 322.5+ KB\n"
     ]
    }
   ],
   "source": [
    "global_offer_csv.info()"
   ]
  },
  {
   "cell_type": "code",
   "execution_count": 57,
   "metadata": {},
   "outputs": [],
   "source": [
    "#//--------------------------------------------\n",
    "#//Exporting single file data\n",
    "global_offer_csv.to_csv(f'{todays_date}_SH_FARMING_{city}_OFFER_csv.csv', index = False)"
   ]
  }
 ],
 "metadata": {
  "kernelspec": {
   "display_name": "Python 3",
   "language": "python",
   "name": "python3"
  },
  "orig_nbformat": 4
 },
 "nbformat": 4,
 "nbformat_minor": 2
}
