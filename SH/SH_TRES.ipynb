{
 "cells": [
  {
   "cell_type": "code",
   "execution_count": 1,
   "metadata": {},
   "outputs": [],
   "source": [
    "#//----------------------------\n",
    "#//LIBRARIES\n",
    "    #Math\n",
    "import math\n",
    "    #Numeric Python\n",
    "import numpy as np\n",
    "    #Pandas (dataframes)\n",
    "import pandas as pd\n",
    "    #datetime for fate manipulation\n",
    "from datetime import date, datetime, timedelta  \n",
    "    #Regex for advanced string matching\n",
    "import re\n",
    "    #for time related stuff\n",
    "import time\n",
    "    #json library\n",
    "import json\n",
    "    #Analyst tools\n",
    "import sys\n",
    "sys.path.append('../')\n",
    "from analysts_tools.growth import *\n",
    "    #Procurement tools\n",
    "from procurement_lib import send_slack_notification\n",
    "from procurement_lib import redash\n",
    "from analysts_tools.redash_methods import *\n",
    "\n",
    "import random\n",
    "import time\n",
    "import datetime"
   ]
  },
  {
   "cell_type": "code",
   "execution_count": 2,
   "metadata": {},
   "outputs": [],
   "source": [
    "#//---------------------------------------------------------------------------------------------------------------------------\n",
    "#// Parametros\n",
    "\n",
    "city_code = 'BOG'\n",
    "    \n",
    "#year-month-day\n",
    "todays_date = datetime.datetime.today().strftime('%Y-%m-%d')\n",
    "#non_buyers_date = '2022-08-26' #1 months\n",
    "customer_date_desde = (datetime.datetime.today() - datetime.timedelta(days=30)).strftime('%Y-%m-%d') #1 months\n",
    "    #data for sku sales data\n",
    "#sku_date_desde = '2022-06-26' #2 months\n",
    "\n",
    "dias = 0\n",
    "\n",
    "tasas = {'BOG': 3776,\n",
    "         'BAQ': 3776,\n",
    "         'MDE': 3776,\n",
    "         'CMX': 19.65,\n",
    "         'GDL': 19.65,\n",
    "         'PBC': 19.65,\n",
    "         'SPO': 4.75,\n",
    "         'BHZ': 4.75,\n",
    "         'CWB': 4.75,\n",
    "         'VCP': 4.75}\n",
    "\n",
    "t_cambio = tasas[city_code]"
   ]
  },
  {
   "attachments": {},
   "cell_type": "markdown",
   "metadata": {},
   "source": [
    "### Loading COSTUMERS INFO"
   ]
  },
  {
   "cell_type": "code",
   "execution_count": 3,
   "metadata": {},
   "outputs": [
    {
     "name": "stdout",
     "output_type": "stream",
     "text": [
      "200\n"
     ]
    }
   ],
   "source": [
    "frida_products = get_fresh_query_result(\"https://internal-redash.federate.frubana.com/\",118629,'SeoGHWmDUaaBi7VXje1s9zYNiMD1VHQ1K1DYOxiF',{},20)"
   ]
  },
  {
   "cell_type": "code",
   "execution_count": 4,
   "metadata": {},
   "outputs": [
    {
     "name": "stdout",
     "output_type": "stream",
     "text": [
      "200\n"
     ]
    }
   ],
   "source": [
    "df_margin = get_fresh_query_result(\"https://internal-redash.federate.frubana.com/\",144521,'SeoGHWmDUaaBi7VXje1s9zYNiMD1VHQ1K1DYOxiF',{},20)"
   ]
  },
  {
   "cell_type": "code",
   "execution_count": 5,
   "metadata": {},
   "outputs": [
    {
     "name": "stdout",
     "output_type": "stream",
     "text": [
      "200\n"
     ]
    }
   ],
   "source": [
    "df_hooks = get_fresh_query_result(\"https://internal-redash.federate.frubana.com/\",108977,'SeoGHWmDUaaBi7VXje1s9zYNiMD1VHQ1K1DYOxiF',{},20)"
   ]
  },
  {
   "cell_type": "code",
   "execution_count": 6,
   "metadata": {},
   "outputs": [],
   "source": [
    "#Loading SELL'S DATA from a function\n",
    "data_ventas = data_ventas_query(ciudad=city_code, tipo_cambio=t_cambio, desde=customer_date_desde, hasta = todays_date, tipo_negocio=1)"
   ]
  },
  {
   "cell_type": "code",
   "execution_count": 7,
   "metadata": {},
   "outputs": [],
   "source": [
    "data_ventas_IQ = data_ventas.groupby(by=['region_code','customer_id','subcat']).agg({\"gmv_usd\":np.sum, \"order_id\":pd.Series.nunique}).reset_index()\n",
    "data_ventas_IQ[\"AOV\"] = data_ventas.gmv_usd/data_ventas.order_id"
   ]
  },
  {
   "cell_type": "code",
   "execution_count": 8,
   "metadata": {},
   "outputs": [],
   "source": [
    "data_ventas = data_ventas.groupby(by=['region_code','customer_id']).agg({\"gmv_usd\":np.sum, \"order_id\":pd.Series.nunique}).reset_index()\n",
    "data_ventas[\"AOV\"] = data_ventas.gmv_usd/data_ventas.order_id"
   ]
  },
  {
   "cell_type": "code",
   "execution_count": 9,
   "metadata": {},
   "outputs": [],
   "source": [
    "query = \"\"\"\n",
    "-- 93058\n",
    "-- Se toma como base el query 2718\n",
    "WITH \n",
    "ful AS (\n",
    "SELECT DISTINCT\n",
    "    bo.order_id,\n",
    "    bo.submit_date\n",
    "    \n",
    "FROM postgres_broadleaf_federate.\"broadleaf.blc_order\" bo\n",
    "INNER JOIN postgres_broadleaf_federate.\"broadleaf.blc_fulfillment_group\" bfg        ON bfg.order_id = bo.order_id\n",
    "INNER JOIN postgres_broadleaf_federate.\"broadleaf.blc_fulfillment_order\" bfo        ON bfo.fulfillment_group_id = bfg.fulfillment_group_id\n",
    "INNER JOIN postgres_broadleaf_federate.\"broadleaf.fb_fulfillment_group\" ffg         ON ffg.fulfillment_group_id = bfg.fulfillment_group_id\n",
    "INNER JOIN postgres_broadleaf_federate.\"broadleaf.fb_order\" fo                      ON fo.order_id = bo.order_id\n",
    "INNER JOIN postgres_broadleaf_federate.\"broadleaf.blc_order_payment\" bop            ON bop.order_id = bo.order_id\n",
    "INNER JOIN postgres_broadleaf_federate.\"broadleaf.blc_site\" s                       ON s.site_id = bo.site_disc\n",
    "LEFT JOIN  postgres_broadleaf_federate.\"broadleaf.fb_order_type\" fot                ON fot.fb_order_type_id=fo.fb_order_type_id\n",
    "\n",
    "WHERE fo.fb_order_status_id IN (1,6,7,8)\n",
    "    AND bo.submit_date >= DATE_TRUNC('day', date(getdate()) - interval '30 day')\n",
    "    AND bo.order_status = 'SUBMITTED'\n",
    "    AND bfo.status NOT IN ('ARCHIVED','CANCELLED')\n",
    "    AND bop.archived = 'N'\n",
    "    AND (fot.name IS NULL OR fot.name <> 'REFUND')\n",
    "    AND s.site_identifier_value = '{city}'\n",
    "),\n",
    "\n",
    "view_sku AS (\n",
    "SELECT DISTINCT\n",
    "  --ds.identifier_value,\n",
    "  s.site_identifier_value,\n",
    "  --ea.ctsessionid,\n",
    "  ea.profile_identity,\n",
    "  ea.frproductid,\n",
    "  bs2.name,\n",
    "  bcat2.name AS category,\n",
    "  bcat.name AS subcat,\n",
    "  --ea.frproductname,\n",
    "  --ea.frproductinstock,\n",
    "  DATE_TRUNC('day', ea.event_date) AS event_date\n",
    "  --ea.eventname,\n",
    "  --ea.frrecommendationtype,\n",
    "  --ea.frfromproductid\n",
    "  --ea.frscreen--,\n",
    "  --ea.frsubmitresult--,--para el cart add\n",
    "  --info_subs.num_substitutes\n",
    "FROM dpr_clevertap.events_analytics                                     ea\n",
    "INNER JOIN dpr_clevertap.user_profile                                   p       ON ea.profile_identity = p.profile_identity AND ea.profile_identity NOT ILIKE '%,%'\n",
    "INNER JOIN dpr_shared.dim_site                                          ds      ON ds.identifier_value = p.registeredcity\n",
    "INNER JOIN postgres_broadleaf_federate.\"broadleaf.blc_product\"          bp      ON bp.product_id::varchar = ea.frproductid::varchar\n",
    "INNER JOIN postgres_broadleaf_federate.\"broadleaf.blc_site\"             s       ON s.site_id = bp.catalog_disc AND ds.identifier_value = s.site_identifier_value\n",
    "INNER JOIN postgres_broadleaf_federate.\"broadleaf.blc_sku\"              bs2     ON bs2.sku_id = bp.default_sku_id --Conectar la tarjeta con el sku que guarda la info\n",
    "INNER JOIN postgres_broadleaf_federate.\"broadleaf.blc_category\"         bcat    ON bcat.category_id = bp.default_category_id \n",
    "INNER JOIN postgres_broadleaf_federate.\"broadleaf.blc_category_xref\"    bcx     ON bcx.sub_category_id = bp.default_category_id AND bcx.archived='N' AND bcx.sndbx_tier is NULL\n",
    "INNER JOIN postgres_broadleaf_federate.\"broadleaf.blc_category\"         bcat2   ON bcx.category_id = bcat2.category_id\n",
    "\n",
    "WHERE\n",
    "  ea.eventname = 'FRF Product View'\n",
    "  AND ea.event_date > current_date - 30\n",
    "  AND ds.identifier_value = '{city}'\n",
    " ),\n",
    " \n",
    "almost AS (\n",
    "\n",
    "SELECT DISTINCT\n",
    "    s.site_identifier_value AS city,\n",
    "    bo.customer_id,\n",
    "    ful.submit_date,\n",
    "    --bs2.name,\n",
    "    bs.addl_product_id as padre_sku_id\n",
    "    --bcat2.name AS category,\n",
    "    --bcat.name AS subcat,\n",
    "    -- CASE WHEN s.site_identifier_value = 'CMX' then SUM ( (boi.quantity * foi.step_unit * boi.sale_price)*1.0/19.65)\n",
    "    --     WHEN s.site_identifier_value = 'GDL' then SUM ( (boi.quantity * foi.step_unit * boi.sale_price)*1.0/19.65)\n",
    "    --     WHEN s.site_identifier_value = 'PBC' then SUM ( (boi.quantity * foi.step_unit * boi.sale_price)*1.0/19.65)\n",
    "    --     WHEN s.site_identifier_value = 'MTY' then SUM ( (boi.quantity * foi.step_unit * boi.sale_price)*1.0/19.65)\n",
    "    --     WHEN s.site_identifier_value = 'SPO' then SUM ( (boi.quantity * foi.step_unit * boi.sale_price)*1.0/4.75)\n",
    "    --     WHEN s.site_identifier_value = 'BHZ' then SUM ( (boi.quantity * foi.step_unit * boi.sale_price)*1.0/4.75)\n",
    "    --     WHEN s.site_identifier_value = 'CWB' then SUM ( (boi.quantity * foi.step_unit * boi.sale_price)*1.0/4.75)\n",
    "    --     WHEN s.site_identifier_value = 'VCP' then SUM ( (boi.quantity * foi.step_unit * boi.sale_price)*1.0/4.75)\n",
    "    -- ELSE SUM ( (boi.quantity * foi.step_unit * boi.sale_price)*1.0/3776) END AS gmv_usd,\n",
    "    -- CASE WHEN s.site_identifier_value = 'CMX' then (SUM(boida.adjustment_value*boipd.quantity*foi.step_unit)*1.0/19.65)\n",
    "    --     WHEN s.site_identifier_value = 'GDL' then (SUM(boida.adjustment_value*boipd.quantity*foi.step_unit)*1.0/19.65)\n",
    "    --     WHEN s.site_identifier_value = 'PBC' then (SUM(boida.adjustment_value*boipd.quantity*foi.step_unit)*1.0/19.65)\n",
    "    --     WHEN s.site_identifier_value = 'MTY' then (SUM(boida.adjustment_value*boipd.quantity*foi.step_unit)*1.0/19.65)\n",
    "    --     WHEN s.site_identifier_value = 'SPO' then (SUM(boida.adjustment_value*boipd.quantity*foi.step_unit)*1.0/4.75)\n",
    "    --     WHEN s.site_identifier_value = 'BHZ' then (SUM(boida.adjustment_value*boipd.quantity*foi.step_unit)*1.0/4.75)\n",
    "    --     WHEN s.site_identifier_value = 'CWB' then (SUM(boida.adjustment_value*boipd.quantity*foi.step_unit)*1.0/4.75)\n",
    "    --     WHEN s.site_identifier_value = 'VCP' then (SUM(boida.adjustment_value*boipd.quantity*foi.step_unit)*1.0/4.75)\n",
    "    -- ELSE (SUM(boida.adjustment_value*boipd.quantity*foi.step_unit)*1.0/3776) END AS discount_usd,\n",
    "    -- SUM(boi.quantity* foi.step_unit) as cant\n",
    "\n",
    "FROM postgres_broadleaf_federate.\"broadleaf.blc_order\" bo\n",
    "INNER JOIN postgres_broadleaf_federate.\"broadleaf.blc_site\"                     s       ON s.site_id = bo.site_disc\n",
    "INNER JOIN postgres_broadleaf_federate.\"broadleaf.blc_order_item\"               boi     ON boi.order_id=bo.order_id\n",
    "INNER JOIN postgres_broadleaf_federate.\"broadleaf.fb_order_item\"                foi     ON boi.order_item_id= foi.order_item_id\n",
    "INNER JOIN postgres_broadleaf_federate.\"broadleaf.fb_order\"                     fo      ON fo.order_id = bo.order_id\n",
    "INNER JOIN ful                                                                          ON ful.order_id = bo.order_id\n",
    "INNER JOIN postgres_broadleaf_federate.\"broadleaf.blc_discrete_order_item\"      bdoi    ON bdoi.order_item_id = boi.order_item_id\n",
    "INNER JOIN postgres_broadleaf_federate.\"broadleaf.blc_sku\"                      bs      ON bs.sku_id = bdoi.sku_id\n",
    "INNER JOIN postgres_broadleaf_federate.\"broadleaf.blc_product\"                  bp      ON bs.addl_product_id = bp.product_id\n",
    "INNER JOIN postgres_broadleaf_federate.\"broadleaf.blc_sku\"                      bs2     ON bs2.sku_id = bp.default_sku_id --Conectar la tarjeta con el sku que guarda la info\n",
    "INNER JOIN postgres_broadleaf_federate.\"broadleaf.blc_category\"                 bcat    ON bcat.category_id = bp.default_category_id \n",
    "INNER JOIN postgres_broadleaf_federate.\"broadleaf.blc_category_xref\"            bcx     ON bcx.sub_category_id = bp.default_category_id AND bcx.archived='N' AND bcx.sndbx_tier is NULL\n",
    "INNER JOIN postgres_broadleaf_federate.\"broadleaf.blc_category\"                 bcat2   ON bcx.category_id = bcat2.category_id\n",
    "--INNER JOIN postgres_broadleaf_federate.\"broadleaf.blc_order_item_price_dtl\"     boipd   ON boipd.order_item_id=boi.order_item_id\n",
    "--INNER JOIN postgres_broadleaf_federate.\"broadleaf.blc_order_item_dtl_adj\"       boida   ON boida.order_item_price_dtl_id=boipd.order_item_price_dtl_id\n",
    "\n",
    "WHERE fb_order_status_id IN (1,6,7,8)\n",
    "    AND bo.order_status = 'SUBMITTED'\n",
    "   -- FIX SUPER DESCUENTOS\n",
    "    AND bcat2.category_id not in ('110873','-1000','100768','100765','100815') --ids de super descuentos en cada país\n",
    "    AND bcat.name <> 'Oferton Frubana' AND bcat2.name <> 'Oferton Frubana'\n",
    "    AND bo.customer_id IN (SELECT DISTINCT profile_identity FROM view_sku)\n",
    ")\n",
    "\n",
    "SELECT DISTINCT\n",
    "    vs.site_identifier_value AS city,\n",
    "    vs.profile_identity AS customer_id,\n",
    "    vs.frproductid AS card_id,\n",
    "    vs.name AS product,\n",
    "    vs.category AS cat,\n",
    "    CASE\n",
    "        WHEN vs.subcat ILIKE 'Pollo%' THEN 'Pollo'\n",
    "        WHEN vs.subcat ILIKE 'Res%' THEN 'Res'\n",
    "        WHEN vs.subcat ILIKE 'Cerdo%' THEN 'Cerdo'\n",
    "        ELSE vs.subcat\n",
    "    END AS subcat\n",
    "\n",
    "FROM view_sku vs\n",
    "LEFT JOIN almost a ON a.customer_id = vs.profile_identity \n",
    " AND a.city = vs.site_identifier_value \n",
    " AND a.padre_sku_id = vs.frproductid \n",
    " AND a.submit_date BETWEEN vs.event_date AND DATEADD(day, 1, vs.event_date)\n",
    "-- AND (a.submit_date = vs.event_date OR a.submit_date = DATEADD(day, 5, vs.event_date))\n",
    "\n",
    "WHERE a.customer_id IS NULL\n",
    "\"\"\".format(city = city_code)\n",
    "\n",
    "df_view = read_connection_data_warehouse.run_read_prod_query(query)\n",
    "df_view[[\"customer_id\", \"card_id\"]] = df_view[[\"customer_id\", \"card_id\"]].astype(int)"
   ]
  },
  {
   "cell_type": "code",
   "execution_count": 10,
   "metadata": {},
   "outputs": [],
   "source": [
    "from sklearn.model_selection import train_test_split \n",
    "\n",
    "def create_groups(offer, users):\n",
    "    \n",
    "    #customers = offer.customer_id.unique()\n",
    "    customers = np.union1d(offer.customer_id.unique(), users)\n",
    "    print(\"Total length: \", len(customers))\n",
    "    customer_control, customer_test = train_test_split(customers, test_size = 0.80)\n",
    "    \n",
    "    alpha=0.01\n",
    "    aux=0\n",
    "    while abs(1-(offer[offer.customer_id.isin(customer_control)]['AOV'].mean()/offer[offer.customer_id.isin(customer_test)]['AOV'].mean())) > alpha:\n",
    "        customer_control, customer_test = train_test_split(customers, test_size = 0.80)\n",
    "        \n",
    "        aux+=1\n",
    "        if aux == 1000:\n",
    "            alpha+=0.01\n",
    "            aux=0\n",
    "        \n",
    "    return customer_control.tolist(), customer_test.tolist()"
   ]
  },
  {
   "cell_type": "code",
   "execution_count": 11,
   "metadata": {},
   "outputs": [],
   "source": [
    "def list_users(dfIQ, rangos):\n",
    "    \"\"\"This function select the customer_ids of the clients who are between the range of gmv_usd\"\"\"\n",
    "    total_users = dfIQ.customer_id.unique().tolist()\n",
    "    \n",
    "    #print(f'Total users: {len(total_users)}')\n",
    "    \n",
    "    inferior, superior = np.percentile(dfIQ['gmv_usd'],rangos) #rango intercuartil entre los skus a tomar\n",
    "    \n",
    "    users = dfIQ[(dfIQ.gmv_usd>=inferior) & (dfIQ.gmv_usd<=superior)].groupby(['customer_id']).gmv_usd.sum().reset_index()\n",
    "    print(f'Total users: {len(users)}')\n",
    "    \n",
    "    return users.customer_id.unique()"
   ]
  },
  {
   "cell_type": "code",
   "execution_count": 12,
   "metadata": {},
   "outputs": [],
   "source": [
    "def get_info(df, sku,rango):\n",
    "    users = list_users(data_ventas_IQ.loc[data_ventas_IQ.subcat == df_view.loc[df_view.card_id == sku,'subcat'].min()],rango)\n",
    "    control, test = create_groups(data_ventas.loc[data_ventas.customer_id.isin(df.customer_id.unique())],users)\n",
    "    name = df[\"product\"].unique()[0].replace(\",\", \".\")\n",
    "    \n",
    "    print(name+\": \\nCONTROL: \",len(control),\" PILOTO: \",len(test))\n",
    "    print(\"MARGEN: \", df_margin.loc[(df_margin.id_tarjeta == sku) & (df_margin.day == df_margin.day.max()),\"margin\"].values[0].round(3)*100)\n",
    "    \n",
    "    return control, test, name"
   ]
  },
  {
   "cell_type": "code",
   "execution_count": 13,
   "metadata": {},
   "outputs": [],
   "source": [
    "\"\"\"Here we should complete our data for each SH, important if we want to submit a subcategory SH offer, in SKUS we should put the skus into a list as this [[1,2,3]]\"\"\"\n",
    "card_id = [40274,413529]\n",
    "max_uses = [30,30]\n",
    "max_orders = [2,2]\n",
    "rango_IQ = [[0,50],[0,50]]"
   ]
  },
  {
   "cell_type": "code",
   "execution_count": 19,
   "metadata": {},
   "outputs": [
    {
     "name": "stdout",
     "output_type": "stream",
     "text": [
      "653\n",
      "Total users: 1261\n",
      "Total length:  1501\n",
      "Chocolate La Especial x 500gr: \n",
      "CONTROL:  300  PILOTO:  1201\n",
      "MARGEN:  6.1\n",
      "577\n",
      "Total users: 2926\n",
      "Total length:  3271\n",
      "Contenedor J1 Darnel x 200 und: \n",
      "CONTROL:  654  PILOTO:  2617\n",
      "MARGEN:  -0.5\n"
     ]
    }
   ],
   "source": [
    "offer_name = []\n",
    "global_segment_list = [] #//for procesing\n",
    "hooks = []\n",
    "for j, sku in enumerate(card_id):\n",
    "    if len(df_view.loc[df_view.card_id == sku]) != 0:\n",
    "        print(len(df_view.loc[df_view.card_id == sku]))\n",
    "        control,test,name = get_info(df_view.loc[df_view.card_id == sku], sku,rango_IQ[j])\n",
    "\n",
    "        offer_name.append(\"SH_TRES_\"+todays_date+\"_\"+city_code+\"_\"+name)\n",
    "        d = {'name':\"SH_TRES_\"+todays_date+\"_\"+city_code+\"_\"+name, 'customersIds': list(test),\"expiresAt\": (datetime.datetime.today() + datetime.timedelta(days=(dias+7))).strftime('%Y-%m-%d')}\n",
    "        e = {'name':\"SH_TRES_\"+todays_date+\"_\"+city_code+\"_\"+name+\"_CONTROL\", 'customersIds': list(control),\"expiresAt\": (datetime.datetime.today() + datetime.timedelta(days=(dias+7))).strftime('%Y-%m-%d')}\n",
    "        \n",
    "        global_segment_list.append(d)\n",
    "        global_segment_list.append(e)\n",
    "        \n",
    "        if df_hooks.loc[df_hooks.addl_product_id == sku].value_discount.max():\n",
    "            hooks.append(df_hooks.loc[df_hooks.addl_product_id == sku].value_discount.max())\n",
    "        else:\n",
    "            hooks.append(0)\n",
    "    else:\n",
    "        print(\"0 BUSQUEDAS\")"
   ]
  },
  {
   "cell_type": "code",
   "execution_count": 20,
   "metadata": {},
   "outputs": [],
   "source": [
    "discount = [8,5]"
   ]
  },
  {
   "cell_type": "code",
   "execution_count": 21,
   "metadata": {},
   "outputs": [
    {
     "name": "stdout",
     "output_type": "stream",
     "text": [
      "['SH_TRES_2023-09-15_BOG_Chocolate La Especial x 500gr_HDCT_0.38', 'SH_TRES_2023-09-15_BOG_Contenedor J1 Darnel x 200 und_HDCT_0']\n"
     ]
    }
   ],
   "source": [
    "offer_name2 = []\n",
    "for i, name in enumerate(offer_name):\n",
    "    # Retrieve rows that match the condition\n",
    "    matching_rows = df_hooks.loc[df_hooks.addl_product_id == card_id[i], [\"value_discount\"]]\n",
    "    \n",
    "    # Check if matching_rows is empty\n",
    "    if matching_rows.empty:\n",
    "        default_value = 0\n",
    "    else:\n",
    "        # Get the unique discount value from matching rows\n",
    "        discount_value = matching_rows[\"value_discount\"].unique()[0]\n",
    "        \n",
    "        # Calculate the updated value\n",
    "        default_value = round(discount_value / discount[i], 2)\n",
    "    \n",
    "    # Update offer_name[i] with the calculated value\n",
    "    offer_name2.append(offer_name[i] + \"_HDCT_\" + str(default_value))    \n",
    "print(offer_name2)"
   ]
  },
  {
   "cell_type": "code",
   "execution_count": 22,
   "metadata": {},
   "outputs": [
    {
     "name": "stdout",
     "output_type": "stream",
     "text": [
      "['SH_TRES_2023-09-15_BOG_Chocolate La Especial x 500gr', 'SH_TRES_2023-09-15_BOG_Contenedor J1 Darnel x 200 und']\n",
      "['SH_TRES_2023-09-15_BOG_Chocolate La Especial x 500gr_HDCT_0.38', 'SH_TRES_2023-09-15_BOG_Contenedor J1 Darnel x 200 und_HDCT_0']\n"
     ]
    }
   ],
   "source": [
    "print(offer_name)\n",
    "print(offer_name2)"
   ]
  },
  {
   "cell_type": "code",
   "execution_count": 25,
   "metadata": {},
   "outputs": [],
   "source": [
    "csv_file = {} \n",
    "csv_file['offer_name'] = offer_name2\n",
    "csv_file['offer_description'] = None\n",
    "csv_file['discount'] = discount\n",
    "csv_file['automatically_consider_offer'] = \"true\"\n",
    "csv_file['start_date'] = (datetime.datetime.today() + datetime.timedelta(days=dias)).strftime('%d-%m-%Y')\n",
    "csv_file['end_date'] = (datetime.datetime.today() + datetime.timedelta(days=(dias+7))).strftime('%d-%m-%Y')\n",
    "csv_file['max_uses_per_order'] = max_uses\n",
    "csv_file['max_uses_per_customer'] = max_orders\n",
    "csv_file['customer_segment_id'] = [1]*len(offer_name) #[None]\n",
    "csv_file['sku_id'] = [frida_products.loc[frida_products.id_tarjeta == sku,\"skus\"].values[0] for sku in card_id]\n",
    "\n",
    "global_offer_csv = pd.DataFrame(csv_file) #, index=[0])"
   ]
  },
  {
   "cell_type": "code",
   "execution_count": 26,
   "metadata": {},
   "outputs": [
    {
     "data": {
      "text/plain": [
       "['SH_TRES_2023-09-15_BOG_Chocolate La Especial x 500gr_HDCT_0.38',\n",
       " 'SH_TRES_2023-09-15_BOG_Contenedor J1 Darnel x 200 und_HDCT_0']"
      ]
     },
     "execution_count": 26,
     "metadata": {},
     "output_type": "execute_result"
    }
   ],
   "source": [
    "offer_name2"
   ]
  },
  {
   "cell_type": "code",
   "execution_count": 27,
   "metadata": {},
   "outputs": [],
   "source": [
    "import requests\n",
    "import json\n",
    "\n",
    "url = f\"https://{city_code}.frubana.com/api/v1/segments/create?api-key=00_growth-team-zzz-qqq_001\"\n",
    "\n",
    "payload = json.dumps(global_segment_list)\n",
    "\n",
    "\n",
    "headers = {\n",
    "  'Cookie': 'AWSALB=WGKrKvA1CFOY0m92xSENGAseuE4LrcfQh9y8jK/loGBJdizNm+FvjOqUqVghxdfLkH6Jsa9sfWft2NELchGAP/LNZMXMYhrOE70qDnUuOHATpdJj1UZBMEUBSIN1; AWSALBCORS=WGKrKvA1CFOY0m92xSENGAseuE4LrcfQh9y8jK/loGBJdizNm+FvjOqUqVghxdfLkH6Jsa9sfWft2NELchGAP/LNZMXMYhrOE70qDnUuOHATpdJj1UZBMEUBSIN1; AWSALB=jLY02FPysvF1vTrKLhXbk3ibzmyiAqFJ1ezYVu5PjodkU2QmPHDpRJhb9CvOlOyQ1Ix0mJR1ig+eH9zwJ9i5EOtgsgx79NSROogQb2Ua6yLX/I3bJJ6xtcVO3puI; AWSALBCORS=jLY02FPysvF1vTrKLhXbk3ibzmyiAqFJ1ezYVu5PjodkU2QmPHDpRJhb9CvOlOyQ1Ix0mJR1ig+eH9zwJ9i5EOtgsgx79NSROogQb2Ua6yLX/I3bJJ6xtcVO3puI',\n",
    "  'Content-Type': 'application/json'\n",
    "}\n",
    "\n",
    "response = requests.request(\"POST\", url, headers=headers, data=payload)"
   ]
  },
  {
   "cell_type": "code",
   "execution_count": 29,
   "metadata": {},
   "outputs": [],
   "source": [
    "sgt = [(int(x[:6]),x[7:]) for x in list(map(str.strip, response.text[32:].strip('][').replace('\"', '').split(',')))]"
   ]
  },
  {
   "cell_type": "code",
   "execution_count": 30,
   "metadata": {},
   "outputs": [
    {
     "data": {
      "text/plain": [
       "[(351952, 'SH_TRES_2023-09-15_BOG_Chocolate La Especial x 500gr'),\n",
       " (351951, 'SH_TRES_2023-09-15_BOG_Chocolate La Especial x 500gr_CONTROL'),\n",
       " (351954, 'SH_TRES_2023-09-15_BOG_Contenedor J1 Darnel x 200 und'),\n",
       " (351953, 'SH_TRES_2023-09-15_BOG_Contenedor J1 Darnel x 200 und_CONTROL')]"
      ]
     },
     "execution_count": 30,
     "metadata": {},
     "output_type": "execute_result"
    }
   ],
   "source": [
    "sgt"
   ]
  },
  {
   "cell_type": "code",
   "execution_count": 31,
   "metadata": {},
   "outputs": [],
   "source": [
    "for i,name in enumerate(global_offer_csv.offer_name):\n",
    "    for j,z in sgt:\n",
    "        if z==offer_name[i]:\n",
    "            global_offer_csv.loc[[i], ('customer_segment_id')] = j\n",
    "            break"
   ]
  },
  {
   "cell_type": "code",
   "execution_count": 32,
   "metadata": {},
   "outputs": [
    {
     "data": {
      "text/html": [
       "<div>\n",
       "<style scoped>\n",
       "    .dataframe tbody tr th:only-of-type {\n",
       "        vertical-align: middle;\n",
       "    }\n",
       "\n",
       "    .dataframe tbody tr th {\n",
       "        vertical-align: top;\n",
       "    }\n",
       "\n",
       "    .dataframe thead th {\n",
       "        text-align: right;\n",
       "    }\n",
       "</style>\n",
       "<table border=\"1\" class=\"dataframe\">\n",
       "  <thead>\n",
       "    <tr style=\"text-align: right;\">\n",
       "      <th></th>\n",
       "      <th>offer_name</th>\n",
       "      <th>offer_description</th>\n",
       "      <th>discount</th>\n",
       "      <th>automatically_consider_offer</th>\n",
       "      <th>start_date</th>\n",
       "      <th>end_date</th>\n",
       "      <th>max_uses_per_order</th>\n",
       "      <th>max_uses_per_customer</th>\n",
       "      <th>customer_segment_id</th>\n",
       "      <th>sku_id</th>\n",
       "    </tr>\n",
       "  </thead>\n",
       "  <tbody>\n",
       "    <tr>\n",
       "      <th>0</th>\n",
       "      <td>SH_TRES_2023-09-15_BOG_Chocolate La Especial x...</td>\n",
       "      <td>None</td>\n",
       "      <td>8</td>\n",
       "      <td>true</td>\n",
       "      <td>15-09-2023</td>\n",
       "      <td>22-09-2023</td>\n",
       "      <td>30</td>\n",
       "      <td>2</td>\n",
       "      <td>351952</td>\n",
       "      <td>47547</td>\n",
       "    </tr>\n",
       "    <tr>\n",
       "      <th>1</th>\n",
       "      <td>SH_TRES_2023-09-15_BOG_Contenedor J1 Darnel x ...</td>\n",
       "      <td>None</td>\n",
       "      <td>5</td>\n",
       "      <td>true</td>\n",
       "      <td>15-09-2023</td>\n",
       "      <td>22-09-2023</td>\n",
       "      <td>30</td>\n",
       "      <td>2</td>\n",
       "      <td>351954</td>\n",
       "      <td>575830</td>\n",
       "    </tr>\n",
       "  </tbody>\n",
       "</table>\n",
       "</div>"
      ],
      "text/plain": [
       "                                          offer_name offer_description  \\\n",
       "0  SH_TRES_2023-09-15_BOG_Chocolate La Especial x...              None   \n",
       "1  SH_TRES_2023-09-15_BOG_Contenedor J1 Darnel x ...              None   \n",
       "\n",
       "   discount automatically_consider_offer  start_date    end_date  \\\n",
       "0         8                         true  15-09-2023  22-09-2023   \n",
       "1         5                         true  15-09-2023  22-09-2023   \n",
       "\n",
       "   max_uses_per_order  max_uses_per_customer  customer_segment_id  sku_id  \n",
       "0                  30                      2               351952   47547  \n",
       "1                  30                      2               351954  575830  "
      ]
     },
     "execution_count": 32,
     "metadata": {},
     "output_type": "execute_result"
    }
   ],
   "source": [
    "global_offer_csv"
   ]
  },
  {
   "cell_type": "code",
   "execution_count": 29,
   "metadata": {},
   "outputs": [],
   "source": [
    "global_offer_csv[\"offer_name\"] = [f\"{row['offer_name']}_HDCT_{hook/row['discount']:.2f}\" for hook, (_, row) in zip(hooks, global_offer_csv.iterrows())]"
   ]
  },
  {
   "cell_type": "code",
   "execution_count": 30,
   "metadata": {},
   "outputs": [
    {
     "data": {
      "text/html": [
       "<div>\n",
       "<style scoped>\n",
       "    .dataframe tbody tr th:only-of-type {\n",
       "        vertical-align: middle;\n",
       "    }\n",
       "\n",
       "    .dataframe tbody tr th {\n",
       "        vertical-align: top;\n",
       "    }\n",
       "\n",
       "    .dataframe thead th {\n",
       "        text-align: right;\n",
       "    }\n",
       "</style>\n",
       "<table border=\"1\" class=\"dataframe\">\n",
       "  <thead>\n",
       "    <tr style=\"text-align: right;\">\n",
       "      <th></th>\n",
       "      <th>offer_name</th>\n",
       "      <th>offer_description</th>\n",
       "      <th>discount</th>\n",
       "      <th>automatically_consider_offer</th>\n",
       "      <th>start_date</th>\n",
       "      <th>end_date</th>\n",
       "      <th>max_uses_per_order</th>\n",
       "      <th>max_uses_per_customer</th>\n",
       "      <th>customer_segment_id</th>\n",
       "      <th>sku_id</th>\n",
       "    </tr>\n",
       "  </thead>\n",
       "  <tbody>\n",
       "    <tr>\n",
       "      <th>0</th>\n",
       "      <td>SH_TRES_2023-09-11_BOG_Chocolate La Especial x...</td>\n",
       "      <td>None</td>\n",
       "      <td>8</td>\n",
       "      <td>true</td>\n",
       "      <td>11-09-2023</td>\n",
       "      <td>18-09-2023</td>\n",
       "      <td>30</td>\n",
       "      <td>2</td>\n",
       "      <td>342238</td>\n",
       "      <td>47547</td>\n",
       "    </tr>\n",
       "    <tr>\n",
       "      <th>1</th>\n",
       "      <td>SH_TRES_2023-09-11_BOG_Contenedor J1 Darnel x ...</td>\n",
       "      <td>None</td>\n",
       "      <td>5</td>\n",
       "      <td>true</td>\n",
       "      <td>11-09-2023</td>\n",
       "      <td>18-09-2023</td>\n",
       "      <td>30</td>\n",
       "      <td>2</td>\n",
       "      <td>342239</td>\n",
       "      <td>575830</td>\n",
       "    </tr>\n",
       "  </tbody>\n",
       "</table>\n",
       "</div>"
      ],
      "text/plain": [
       "                                          offer_name offer_description  \\\n",
       "0  SH_TRES_2023-09-11_BOG_Chocolate La Especial x...              None   \n",
       "1  SH_TRES_2023-09-11_BOG_Contenedor J1 Darnel x ...              None   \n",
       "\n",
       "   discount automatically_consider_offer  start_date    end_date  \\\n",
       "0         8                         true  11-09-2023  18-09-2023   \n",
       "1         5                         true  11-09-2023  18-09-2023   \n",
       "\n",
       "   max_uses_per_order  max_uses_per_customer  customer_segment_id  sku_id  \n",
       "0                  30                      2               342238   47547  \n",
       "1                  30                      2               342239  575830  "
      ]
     },
     "execution_count": 30,
     "metadata": {},
     "output_type": "execute_result"
    }
   ],
   "source": [
    "global_offer_csv"
   ]
  },
  {
   "cell_type": "code",
   "execution_count": 61,
   "metadata": {},
   "outputs": [],
   "source": [
    "#//--------------------------------------------\n",
    "#//Exporting single file data\n",
    "global_offer_csv.to_csv(f'SD/export_data/Below_Media/{city_code}/{todays_date}_SH_PLUS_{city_code}_OFFER_csv.csv', index = False)"
   ]
  }
 ],
 "metadata": {
  "kernelspec": {
   "display_name": "Python 3 (ipykernel)",
   "language": "python",
   "name": "python3"
  },
  "orig_nbformat": 4,
  "vscode": {
   "interpreter": {
    "hash": "624741679a3ae5d99cecf49b8df5d516a7a937e6e7328e129d1fa121c8592e26"
   }
  }
 },
 "nbformat": 4,
 "nbformat_minor": 2
}
