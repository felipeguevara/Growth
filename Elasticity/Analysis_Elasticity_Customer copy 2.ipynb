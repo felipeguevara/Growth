{
 "cells": [
  {
   "cell_type": "code",
   "execution_count": 132,
   "metadata": {},
   "outputs": [],
   "source": [
    "#//----------------------------\n",
    "#//LIBRARIES\n",
    "    #Math\n",
    "import math\n",
    "    #Numeric Python\n",
    "import numpy as np\n",
    "    #Pandas (dataframes)\n",
    "import pandas as pd\n",
    "    #datetime for fate manipulation\n",
    "from datetime import date, datetime, timedelta  \n",
    "    #Regex for advanced string matching\n",
    "import re\n",
    "    #for time related stuff\n",
    "import time\n",
    "    #json library\n",
    "import json\n",
    "    #Analyst tools\n",
    "import sys\n",
    "sys.path.append('../')\n",
    "from analysts_tools.growth import *\n",
    "    #Procurement tools\n",
    "from procurement_lib import send_slack_notification\n",
    "from procurement_lib import redash\n",
    "from analysts_tools.redash_methods import *\n",
    "\n",
    "import random\n",
    "import time\n",
    "import datetime\n",
    "\n",
    "from sklearn.model_selection import train_test_split "
   ]
  },
  {
   "attachments": {},
   "cell_type": "markdown",
   "metadata": {},
   "source": [
    "# Run Queries"
   ]
  },
  {
   "cell_type": "code",
   "execution_count": 133,
   "metadata": {},
   "outputs": [],
   "source": [
    "#//---------------------------------------------------------------------------------------------------------------------------\n",
    "#// Parametros\n",
    "\n",
    "city_code = 'CMX'\n",
    "    \n",
    "#year-month-day\n",
    "todays_date = datetime.datetime.today().strftime('%Y-%m-%d')\n",
    "#non_buyers_date = '2022-08-26' #1 months\n",
    "customer_date_desde = (datetime.datetime.today() - datetime.timedelta(days=20)).strftime('%Y-%m-%d') #1 months\n",
    "    #data for sku sales data\n",
    "#sku_date_desde = '2022-06-26' #2 months\n",
    "\n",
    "dias = 1\n",
    "\n",
    "tasas = {'BOG': 3776,\n",
    "         'BAQ': 3776,\n",
    "         'MDE': 3776,\n",
    "         'CMX': 19.65,\n",
    "         'GDL': 19.65,\n",
    "         'PBC': 19.65,\n",
    "         'SPO': 4.75,\n",
    "         'BHZ': 4.75,\n",
    "         'CWB': 4.75,\n",
    "         'VCP': 4.75}\n",
    "\n",
    "t_cambio = tasas[city_code]"
   ]
  },
  {
   "cell_type": "code",
   "execution_count": 134,
   "metadata": {},
   "outputs": [
    {
     "name": "stdout",
     "output_type": "stream",
     "text": [
      "200\n"
     ]
    }
   ],
   "source": [
    "clear_buyers = get_fresh_query_result(\"https://internal-redash.federate.frubana.com/\",138674,'SeoGHWmDUaaBi7VXje1s9zYNiMD1VHQ1K1DYOxiF',{},20)"
   ]
  },
  {
   "cell_type": "code",
   "execution_count": 135,
   "metadata": {},
   "outputs": [
    {
     "name": "stdout",
     "output_type": "stream",
     "text": [
      "200\n",
      "200\n"
     ]
    }
   ],
   "source": [
    "frida_products = get_fresh_query_result(\"https://internal-redash.federate.frubana.com/\",48322,'SeoGHWmDUaaBi7VXje1s9zYNiMD1VHQ1K1DYOxiF',{},20)\n",
    "frida_products = frida_products[['upc','id_tarjeta','categoria','subcategoria']].copy()\n",
    "\n",
    "df_margen = get_fresh_query_result(\"https://internal-redash.federate.frubana.com/\",144493,'SeoGHWmDUaaBi7VXje1s9zYNiMD1VHQ1K1DYOxiF',{},20)\n",
    "df_margen = pd.merge(df_margen, frida_products,  how='left', left_on=['sku'], right_on = ['upc'])\n",
    "df_margen[[\"gmv_value\",\"cogs_value\"]] = df_margen[[\"gmv_value\",\"cogs_value\"]].astype(float)"
   ]
  },
  {
   "cell_type": "code",
   "execution_count": 136,
   "metadata": {},
   "outputs": [],
   "source": [
    "df_margen['day'] = pd.to_datetime(df_margen['day'])\n",
    "max_index = df_margen.groupby('id_tarjeta')['day'].idxmax()\n",
    "df_margen = df_margen.loc[max_index].copy()"
   ]
  },
  {
   "cell_type": "code",
   "execution_count": 137,
   "metadata": {},
   "outputs": [
    {
     "name": "stderr",
     "output_type": "stream",
     "text": [
      "/home/jupyter-felipe.guevara/.local/lib/python3.7/site-packages/ipykernel_launcher.py:5: RuntimeWarning: invalid value encountered in double_scalars\n",
      "  \"\"\"\n"
     ]
    }
   ],
   "source": [
    "# calculate the profit margin by sku\n",
    "df_margen2 = df_margen.groupby(by=['region','id_tarjeta']).apply(lambda x: (x['gmv_value'].sum() - x['cogs_value'].sum()) / x['gmv_value'].sum() if x['gmv_value'].sum() != 0 else 0).reset_index(name='GM')\n",
    "\n",
    "# calculate the profit margin by subcategory\n",
    "df_margen3 = df_margen.groupby(by=['region','subcategoria']).apply(lambda x: (x['gmv_value'].sum() - x['cogs_value'].sum()) / x['gmv_value'].sum()).reset_index(name='GM')"
   ]
  },
  {
   "cell_type": "code",
   "execution_count": 138,
   "metadata": {},
   "outputs": [],
   "source": [
    "query = \"\"\"\n",
    "WITH exploded_data AS (\n",
    "SELECT DISTINCT\n",
    "    bs.site_identifier_value AS region_code,\n",
    "    bo.offer_id,\n",
    "    MAX(bcs.customer_segment_id) AS customer_segment_id_test,\n",
    "    --bcs.customer_segment_name,\n",
    "    MAX(bcs2.customer_segment_id) AS customer_segment_id_control,\n",
    "    --bcs2.customer_segment_name,\n",
    "    bo.offer_name AS discount,\n",
    "    DATE(bo.start_date) AS start_date,\n",
    "    DATE(bo.end_date) AS end_date,\n",
    "    bo.offer_value::float as Value_Discount,\n",
    "    replace(\n",
    "        substring(\n",
    "          boic.order_item_match_rule, \n",
    "          position('[\"' in boic.order_item_match_rule) + 2, \n",
    "          position('\"]' in boic.order_item_match_rule) - position('[\"' in boic.order_item_match_rule) - 2\n",
    "    ), '\"', '') AS values_string\n",
    "    \n",
    "FROM postgres_broadleaf_federate.\"broadleaf.blc_offer\"                          bo\n",
    "LEFT JOIN postgres_broadleaf_federate.\"broadleaf.blc_offer_customer_seg_xref\"   bocsx   ON (bo.offer_id = bocsx.offer_id AND ((bocsx.archived is NULL OR bocsx.archived='N')))\n",
    "INNER JOIN postgres_broadleaf_federate.\"broadleaf.blc_tar_crit_offer_xref\"      btcofx  ON (btcofx.offer_id = bo.offer_id)\n",
    "INNER JOIN postgres_broadleaf_federate.\"broadleaf.blc_offer_item_criteria\"      boic    ON (btcofx.offer_item_criteria_id = boic.offer_item_criteria_id and (boic.archived is null or boic.archived ='N'))\n",
    "INNER JOIN postgres_broadleaf_federate.\"broadleaf.blc_site\"                     bs      ON bs.site_id = bo.catalog_disc\n",
    "INNER JOIN postgres_broadleaf_federate.\"broadleaf.blc_customer_segment\"         bcs     ON bocsx.customer_segment_id = bcs.customer_segment_id\n",
    "INNER JOIN postgres_broadleaf_federate.\"broadleaf.blc_customer_segment\"         bcs2    ON bcs.customer_segment_name||'_CONTROL' = bcs2.customer_segment_name\n",
    "\n",
    "WHERE offer_name ILIKE 'ELASTICITY%'\n",
    "    AND end_date >= DATE_TRUNC('year', date(getdate()) - interval '0 year')\n",
    "    AND end_date >= DATE_TRUNC('month', date(getdate()) - interval '0 month')\n",
    "    --AND start_date >= DATE_TRUNC('month', date(getdate()) - interval '0 month')\n",
    "    AND bo.offer_discount_type = 'PERCENT_OFF'\n",
    "    AND bo.offer_type = 'ORDER_ITEM'\n",
    "    AND bo.sndbx_id is NULL\n",
    "    AND (bo.archived is NULL OR bo.archived='N')\n",
    "    AND (bo.sndbx_tier is NULL OR bo.sndbx_tier = 999999)\n",
    "    AND bo.automatically_added = 'true'\n",
    "    AND bo.offer_id <> -14489998\n",
    "    --AND bs.site_identifier_value = 'BOG'\n",
    "GROUP BY 1,2,5,6,7,8,9\n",
    "), \n",
    " \n",
    "number_series AS (\n",
    "  SELECT 1 AS n UNION ALL SELECT 2 UNION ALL SELECT 3 UNION ALL SELECT 4 UNION ALL SELECT 5 UNION ALL SELECT 6 UNION ALL SELECT 7 UNION ALL SELECT 8 UNION ALL SELECT 9 UNION ALL SELECT 10\n",
    "  UNION ALL SELECT 11 UNION ALL SELECT 12 UNION ALL SELECT 13 UNION ALL SELECT 14 UNION ALL SELECT 15 UNION ALL SELECT 16 UNION ALL SELECT 17 UNION ALL SELECT 18 UNION ALL SELECT 19 UNION ALL SELECT 20\n",
    "  UNION ALL SELECT 21 UNION ALL SELECT 22 UNION ALL SELECT 23 UNION ALL SELECT 24 UNION ALL SELECT 25 UNION ALL SELECT 26 UNION ALL SELECT 27 UNION ALL SELECT 28 UNION ALL SELECT 29 UNION ALL SELECT 30\n",
    "  UNION ALL SELECT 31 UNION ALL SELECT 32 UNION ALL SELECT 33 UNION ALL SELECT 34 UNION ALL SELECT 35 UNION ALL SELECT 36 UNION ALL SELECT 37 UNION ALL SELECT 38 UNION ALL SELECT 39 UNION ALL SELECT 40\n",
    "  UNION ALL SELECT 41 UNION ALL SELECT 42 UNION ALL SELECT 43 UNION ALL SELECT 44 UNION ALL SELECT 45 UNION ALL SELECT 46 UNION ALL SELECT 47 UNION ALL SELECT 48 UNION ALL SELECT 49 UNION ALL SELECT 50\n",
    "  UNION ALL SELECT 51 UNION ALL SELECT 52 UNION ALL SELECT 53 UNION ALL SELECT 54 UNION ALL SELECT 55 UNION ALL SELECT 56 UNION ALL SELECT 57 UNION ALL SELECT 58 UNION ALL SELECT 59 UNION ALL SELECT 60\n",
    "  UNION ALL SELECT 61 UNION ALL SELECT 62 UNION ALL SELECT 63 UNION ALL SELECT 64 UNION ALL SELECT 65 UNION ALL SELECT 66 UNION ALL SELECT 67 UNION ALL SELECT 68 UNION ALL SELECT 69 UNION ALL SELECT 70\n",
    "  UNION ALL SELECT 71 UNION ALL SELECT 72 UNION ALL SELECT 73 UNION ALL SELECT 74 UNION ALL SELECT 75 UNION ALL SELECT 76 UNION ALL SELECT 77 UNION ALL SELECT 78 UNION ALL SELECT 79 UNION ALL SELECT 80\n",
    "  UNION ALL SELECT 81 UNION ALL SELECT 82 UNION ALL SELECT 83 UNION ALL SELECT 84 UNION ALL SELECT 85 UNION ALL SELECT 86 UNION ALL SELECT 87 UNION ALL SELECT 88 UNION ALL SELECT 89 UNION ALL SELECT 90\n",
    "  UNION ALL SELECT 91 UNION ALL SELECT 92 UNION ALL SELECT 93 UNION ALL SELECT 94 UNION ALL SELECT 95 UNION ALL SELECT 96 UNION ALL SELECT 97 UNION ALL SELECT 98 UNION ALL SELECT 99 UNION ALL SELECT 100\n",
    ")\n",
    "\n",
    "SELECT DISTINCT\n",
    "    ed.region_code,\n",
    "    ed.offer_id,\n",
    "    ed.customer_segment_id_test,\n",
    "    ed.customer_segment_id_control,\n",
    "    ed.discount,\n",
    "    ed.start_date,\n",
    "    ed.end_date,\n",
    "    ed.value_discount,\n",
    "    bs.addl_product_id AS card_id,\n",
    "    bs2.name,\n",
    "    bcat2.name AS cat,\n",
    "    bcat.name as subcat\n",
    "    \n",
    "FROM exploded_data                                                                  ed\n",
    "JOIN number_series                                                                  ns      ON ns.n <= regexp_count(ed.values_string, ',') + 1 AND trim(split_part(ed.values_string, ',', ns.n)) <> ''\n",
    "INNER JOIN postgres_broadleaf_federate.\"broadleaf.blc_sku\"                          bs      ON bs.sku_id = trim(split_part(ed.values_string, ',', ns.n))::int\n",
    "INNER JOIN postgres_broadleaf_federate.\"broadleaf.blc_product\"                      bp      ON bs.addl_product_id = bp.product_id\n",
    "INNER JOIN postgres_broadleaf_federate.\"broadleaf.blc_sku\"                          bs2     ON bs2.sku_id = bp.default_sku_id --Conectar la tarjeta con el sku que guarda la info\n",
    "INNER JOIN postgres_broadleaf_federate.\"broadleaf.blc_category\"                     bcat    ON bcat.category_id = bp.default_category_id \n",
    "INNER JOIN postgres_broadleaf_federate.\"broadleaf.blc_category_xref\"                bcx     ON bcx.sub_category_id = bp.default_category_id AND bcx.archived='N' AND bcx.sndbx_tier is NULL\n",
    "INNER JOIN postgres_broadleaf_federate.\"broadleaf.blc_category\"                     bcat2   ON bcx.category_id = bcat2.category_id\n",
    "--INNER JOIN postgres_broadleaf_federate.\"broadleaf.blc_customer_customer_seg_xref\"   bcs     ON bo.customer_segment_id = bcs.customer_segment_id\n",
    "\n",
    "WHERE\n",
    "    -- FIX SUPER DESCUENTOS\n",
    "    bcat2.category_id NOT IN ('110873','-1000','100768','100765','100815') --ids de super descuentos en cada país\n",
    "    AND bcat.name <> 'Oferton Frubana' AND bcat2.name <> 'Oferton Frubana'\n",
    "\"\"\"#.format(clientes=tuple(set(clear_buyers[clear_buyers.registered_city == city].customer_id.unique())), city = city)\n",
    "\n",
    "df_offers = read_connection_data_warehouse.runQuery(query)\n",
    "df_offers['start_date'] = pd.to_datetime(df_offers['start_date'])\n",
    "df_offers['end_date'] = pd.to_datetime(df_offers['end_date'])"
   ]
  },
  {
   "cell_type": "code",
   "execution_count": 139,
   "metadata": {},
   "outputs": [],
   "source": [
    "df_offers = df_offers.loc[~df_offers.offer_id.isin([-14509269,-14509268])].reset_index(drop=True)"
   ]
  },
  {
   "cell_type": "code",
   "execution_count": 140,
   "metadata": {},
   "outputs": [
    {
     "data": {
      "text/html": [
       "<div>\n",
       "<style scoped>\n",
       "    .dataframe tbody tr th:only-of-type {\n",
       "        vertical-align: middle;\n",
       "    }\n",
       "\n",
       "    .dataframe tbody tr th {\n",
       "        vertical-align: top;\n",
       "    }\n",
       "\n",
       "    .dataframe thead th {\n",
       "        text-align: right;\n",
       "    }\n",
       "</style>\n",
       "<table border=\"1\" class=\"dataframe\">\n",
       "  <thead>\n",
       "    <tr style=\"text-align: right;\">\n",
       "      <th></th>\n",
       "      <th>region_code</th>\n",
       "      <th>offer_id</th>\n",
       "      <th>customer_segment_id_test</th>\n",
       "      <th>customer_segment_id_control</th>\n",
       "      <th>discount</th>\n",
       "      <th>start_date</th>\n",
       "      <th>end_date</th>\n",
       "      <th>value_discount</th>\n",
       "      <th>card_id</th>\n",
       "      <th>name</th>\n",
       "      <th>cat</th>\n",
       "      <th>subcat</th>\n",
       "    </tr>\n",
       "  </thead>\n",
       "  <tbody>\n",
       "    <tr>\n",
       "      <th>0</th>\n",
       "      <td>CMX</td>\n",
       "      <td>-14508859</td>\n",
       "      <td>159508</td>\n",
       "      <td>159507</td>\n",
       "      <td>ELASTICITY_2023-05-10_CMX_AZUCAR_INELASTIC</td>\n",
       "      <td>2023-05-11</td>\n",
       "      <td>2023-05-18</td>\n",
       "      <td>2.2</td>\n",
       "      <td>55148</td>\n",
       "      <td>Azúcar Morena Estándar x 50 kg</td>\n",
       "      <td>Abarrotes &amp; Despensa</td>\n",
       "      <td>Azúcar &amp; Endulzantes</td>\n",
       "    </tr>\n",
       "    <tr>\n",
       "      <th>1</th>\n",
       "      <td>CMX</td>\n",
       "      <td>-14508858</td>\n",
       "      <td>159505</td>\n",
       "      <td>159506</td>\n",
       "      <td>ELASTICITY_2023-05-10_CMX_AZUCAR_ELASTIC</td>\n",
       "      <td>2023-05-11</td>\n",
       "      <td>2023-05-18</td>\n",
       "      <td>2.2</td>\n",
       "      <td>55148</td>\n",
       "      <td>Azúcar Morena Estándar x 50 kg</td>\n",
       "      <td>Abarrotes &amp; Despensa</td>\n",
       "      <td>Azúcar &amp; Endulzantes</td>\n",
       "    </tr>\n",
       "  </tbody>\n",
       "</table>\n",
       "</div>"
      ],
      "text/plain": [
       "  region_code  offer_id  customer_segment_id_test  \\\n",
       "0         CMX -14508859                    159508   \n",
       "1         CMX -14508858                    159505   \n",
       "\n",
       "   customer_segment_id_control                                    discount  \\\n",
       "0                       159507  ELASTICITY_2023-05-10_CMX_AZUCAR_INELASTIC   \n",
       "1                       159506    ELASTICITY_2023-05-10_CMX_AZUCAR_ELASTIC   \n",
       "\n",
       "  start_date   end_date  value_discount  card_id  \\\n",
       "0 2023-05-11 2023-05-18             2.2    55148   \n",
       "1 2023-05-11 2023-05-18             2.2    55148   \n",
       "\n",
       "                             name                   cat                subcat  \n",
       "0  Azúcar Morena Estándar x 50 kg  Abarrotes & Despensa  Azúcar & Endulzantes  \n",
       "1  Azúcar Morena Estándar x 50 kg  Abarrotes & Despensa  Azúcar & Endulzantes  "
      ]
     },
     "execution_count": 140,
     "metadata": {},
     "output_type": "execute_result"
    }
   ],
   "source": [
    "df_offers"
   ]
  },
  {
   "cell_type": "code",
   "execution_count": 141,
   "metadata": {},
   "outputs": [],
   "source": [
    "query = \"\"\"\n",
    "-- 93058\n",
    "-- Se toma como base el query 2718\n",
    "WITH \n",
    "ful AS (\n",
    "\n",
    "SELECT DISTINCT\n",
    "    bo.order_id,\n",
    "    --ffg.close_date\n",
    "    bo.submit_date\n",
    "    \n",
    "FROM postgres_broadleaf_federate.\"broadleaf.blc_order\" bo\n",
    "INNER JOIN postgres_broadleaf_federate.\"broadleaf.blc_fulfillment_group\" bfg        ON bfg.order_id = bo.order_id\n",
    "INNER JOIN postgres_broadleaf_federate.\"broadleaf.blc_fulfillment_order\" bfo        ON bfo.fulfillment_group_id = bfg.fulfillment_group_id\n",
    "INNER JOIN postgres_broadleaf_federate.\"broadleaf.fb_fulfillment_group\" ffg         ON ffg.fulfillment_group_id = bfg.fulfillment_group_id\n",
    "INNER JOIN postgres_broadleaf_federate.\"broadleaf.fb_order\" fo                      ON fo.order_id = bo.order_id\n",
    "INNER JOIN postgres_broadleaf_federate.\"broadleaf.blc_order_payment\" bop            ON bop.order_id = bo.order_id\n",
    "INNER JOIN postgres_broadleaf_federate.\"broadleaf.blc_site\" s                       ON s.site_id = bo.site_disc\n",
    "LEFT JOIN  postgres_broadleaf_federate.\"broadleaf.fb_order_type\" fot                ON fot.fb_order_type_id=fo.fb_order_type_id\n",
    "LEFT JOIN  postgres_broadleaf_federate.\"broadleaf.blc_order_adjustment\" ba          ON ba.order_id = bo.order_id\n",
    "\n",
    "WHERE fo.fb_order_status_id IN (1,6,7,8)\n",
    "    AND bo.submit_date >= DATE_TRUNC('week', date(getdate()) - interval '3 week')\n",
    "    AND bo.order_status = 'SUBMITTED'\n",
    "    AND bfo.status NOT IN ('ARCHIVED','CANCELLED')\n",
    "    AND bop.archived = 'N'\n",
    "    AND (fot.name IS NULL OR fot.name <> 'REFUND')\n",
    "    AND s.site_identifier_value = '{ciudad}'\n",
    "    \n",
    "--GROUP BY bo.order_id, ffg.close_date\n",
    ")\n",
    "\n",
    "SELECT DISTINCT\n",
    "    s.site_identifier_value AS city,\n",
    "    TO_CHAR(DATE_TRUNC('week', DATE_TRUNC('day', bo.submit_date) + INTERVAL '4 day'), 'WW') AS week,\n",
    "    --TO_CHAR(bo.submit_date, 'WW') AS week,\n",
    "    bo.customer_id,\n",
    "    bs2.name,\n",
    "    bs.addl_product_id as padre_sku_id,\n",
    "    bcat2.name AS category,\n",
    "    bcat.name AS subcat,\n",
    "    MIN(bo.submit_date) AS min_date,\n",
    "    COUNT(DISTINCT bo.order_id) as orders,\n",
    "    CASE WHEN s.site_identifier_value = 'CMX' then SUM ( (boi.quantity * foi.step_unit * boi.sale_price)*1.0/19.65)\n",
    "        WHEN s.site_identifier_value = 'GDL' then SUM ( (boi.quantity * foi.step_unit * boi.sale_price)*1.0/19.65)\n",
    "        WHEN s.site_identifier_value = 'PBC' then SUM ( (boi.quantity * foi.step_unit * boi.sale_price)*1.0/19.65)\n",
    "        WHEN s.site_identifier_value = 'MTY' then SUM ( (boi.quantity * foi.step_unit * boi.sale_price)*1.0/19.65)\n",
    "        WHEN s.site_identifier_value = 'SPO' then SUM ( (boi.quantity * foi.step_unit * boi.sale_price)*1.0/4.75)\n",
    "        WHEN s.site_identifier_value = 'BHZ' then SUM ( (boi.quantity * foi.step_unit * boi.sale_price)*1.0/4.75)\n",
    "        WHEN s.site_identifier_value = 'CWB' then SUM ( (boi.quantity * foi.step_unit * boi.sale_price)*1.0/4.75)\n",
    "        WHEN s.site_identifier_value = 'VCP' then SUM ( (boi.quantity * foi.step_unit * boi.sale_price)*1.0/4.75)\n",
    "    ELSE SUM ( (boi.quantity * foi.step_unit * boi.sale_price)*1.0/3776) END AS gmv_usd,\n",
    "    CASE WHEN s.site_identifier_value = 'CMX' then (SUM(boida.adjustment_value*boipd.quantity*foi.step_unit)*1.0/19.65)\n",
    "        WHEN s.site_identifier_value = 'GDL' then (SUM(boida.adjustment_value*boipd.quantity*foi.step_unit)*1.0/19.65)\n",
    "        WHEN s.site_identifier_value = 'PBC' then (SUM(boida.adjustment_value*boipd.quantity*foi.step_unit)*1.0/19.65)\n",
    "        WHEN s.site_identifier_value = 'MTY' then (SUM(boida.adjustment_value*boipd.quantity*foi.step_unit)*1.0/19.65)\n",
    "        WHEN s.site_identifier_value = 'SPO' then (SUM(boida.adjustment_value*boipd.quantity*foi.step_unit)*1.0/4.75)\n",
    "        WHEN s.site_identifier_value = 'BHZ' then (SUM(boida.adjustment_value*boipd.quantity*foi.step_unit)*1.0/4.75)\n",
    "        WHEN s.site_identifier_value = 'CWB' then (SUM(boida.adjustment_value*boipd.quantity*foi.step_unit)*1.0/4.75)\n",
    "        WHEN s.site_identifier_value = 'VCP' then (SUM(boida.adjustment_value*boipd.quantity*foi.step_unit)*1.0/4.75)\n",
    "    ELSE (SUM(boida.adjustment_value*boipd.quantity*foi.step_unit)*1.0/3776) END AS discount_usd,\n",
    "    SUM(boi.quantity* foi.step_unit) as cant\n",
    "\n",
    "FROM postgres_broadleaf_federate.\"broadleaf.blc_order\" bo\n",
    "INNER JOIN postgres_broadleaf_federate.\"broadleaf.blc_site\"                     s       ON s.site_id = bo.site_disc\n",
    "INNER JOIN postgres_broadleaf_federate.\"broadleaf.blc_order_item\"               boi     ON boi.order_id=bo.order_id\n",
    "INNER JOIN postgres_broadleaf_federate.\"broadleaf.fb_order_item\"                foi     ON boi.order_item_id= foi.order_item_id\n",
    "INNER JOIN postgres_broadleaf_federate.\"broadleaf.fb_order\"                     fo      ON fo.order_id = bo.order_id\n",
    "INNER JOIN postgres_broadleaf_federate.\"broadleaf.blc_order_item_price_dtl\"     boipd   ON boipd.order_item_id=boi.order_item_id\n",
    "INNER JOIN ful                                                                          ON ful.order_id = bo.order_id\n",
    "INNER JOIN postgres_broadleaf_federate.\"broadleaf.blc_discrete_order_item\"      bdoi    ON bdoi.order_item_id = boi.order_item_id\n",
    "INNER JOIN postgres_broadleaf_federate.\"broadleaf.blc_sku\"                      bs      ON bs.sku_id = bdoi.sku_id\n",
    "INNER JOIN postgres_broadleaf_federate.\"broadleaf.blc_product\"                  bp      ON bs.addl_product_id = bp.product_id\n",
    "INNER JOIN postgres_broadleaf_federate.\"broadleaf.blc_sku\"                      bs2     ON bs2.sku_id = bp.default_sku_id --Conectar la tarjeta con el sku que guarda la info\n",
    "INNER JOIN postgres_broadleaf_federate.\"broadleaf.blc_category\"                 bcat    ON bcat.category_id = bp.default_category_id \n",
    "INNER JOIN postgres_broadleaf_federate.\"broadleaf.blc_category_xref\"            bcx     ON bcx.sub_category_id = bp.default_category_id AND bcx.archived='N' AND bcx.sndbx_tier is NULL\n",
    "INNER JOIN postgres_broadleaf_federate.\"broadleaf.blc_category\"                 bcat2   ON bcx.category_id = bcat2.category_id\n",
    "INNER JOIN postgres_broadleaf_federate.\"broadleaf.blc_order_item_dtl_adj\"       boida   ON boida.order_item_price_dtl_id=boipd.order_item_price_dtl_id\n",
    "\n",
    "WHERE fb_order_status_id IN (1,6,7,8)\n",
    "    AND bo.order_status = 'SUBMITTED'\n",
    "   -- FIX SUPER DESCUENTOS\n",
    "    AND bcat2.category_id not in ('110873','-1000','100768','100765','100815') --ids de super descuentos en cada país\n",
    "    AND bcat.name <> 'Oferton Frubana' AND bcat2.name <> 'Oferton Frubana'\n",
    "    AND (LOWER(boida.adjustment_reason) ILIKE '%hook%') OR (LOWER(boida.adjustment_reason) ILIKE '%elasticity%')\n",
    "    \n",
    "GROUP BY 1,2,3,4,5,6,7\n",
    "\"\"\".format(ciudad=city_code)\n",
    "\n",
    "data_ventas_aux = read_connection_data_warehouse.runQuery(query)\n",
    "data_ventas_aux[[\"gmv_usd\",\"discount_usd\",\"cant\"]] = data_ventas_aux[[\"gmv_usd\",\"discount_usd\",\"cant\"]].astype(float)\n",
    "#data_ventas[\"submit_date\"] = pd.to_datetime(data_ventas[\"submit_date\"])\n",
    "#data_ventas_aux = data_ventas_aux.loc[data_ventas_aux.week.isin(['05','06','07'])].reset_index(drop=True)"
   ]
  },
  {
   "cell_type": "code",
   "execution_count": 142,
   "metadata": {},
   "outputs": [
    {
     "data": {
      "text/plain": [
       "week\n",
       "18   2023-05-01 00:00:40.935\n",
       "19   2023-05-04 00:00:46.079\n",
       "20   2023-05-11 00:00:46.536\n",
       "21   2023-05-18 00:01:10.891\n",
       "Name: min_date, dtype: datetime64[ns]"
      ]
     },
     "execution_count": 142,
     "metadata": {},
     "output_type": "execute_result"
    }
   ],
   "source": [
    "data_ventas_aux.groupby('week').min_date.min()"
   ]
  },
  {
   "attachments": {},
   "cell_type": "markdown",
   "metadata": {},
   "source": [
    "# Cleaning Data and some functions"
   ]
  },
  {
   "cell_type": "code",
   "execution_count": 143,
   "metadata": {},
   "outputs": [],
   "source": [
    "if city_code == 'CMX':\n",
    "    skus_exp = [55148]"
   ]
  },
  {
   "cell_type": "code",
   "execution_count": 144,
   "metadata": {},
   "outputs": [],
   "source": [
    "df_exp = data_ventas_aux.loc[data_ventas_aux.padre_sku_id.isin(skus_exp)]\n",
    "\n",
    "df_exp =  pd.merge(df_exp, df_margen2.loc[df_margen2.region == city_code].reset_index(drop=True),  how='left', left_on=['padre_sku_id'], right_on = ['id_tarjeta'])\n",
    "\n",
    "df_exp['cash_margin'] = df_exp.gmv_usd * df_exp.GM\n",
    "\n",
    "df_exp = df_exp.loc[:,['city','week','customer_id','name','padre_sku_id','category','subcat','orders','gmv_usd','discount_usd','cant','GM','cash_margin']]"
   ]
  },
  {
   "cell_type": "code",
   "execution_count": 145,
   "metadata": {},
   "outputs": [],
   "source": [
    "all_weeks = data_ventas_aux.groupby('week').customer_id.nunique()"
   ]
  },
  {
   "cell_type": "code",
   "execution_count": 146,
   "metadata": {},
   "outputs": [
    {
     "data": {
      "text/plain": [
       "week\n",
       "18    3592\n",
       "19    6011\n",
       "20    6119\n",
       "21    5307\n",
       "Name: customer_id, dtype: int64"
      ]
     },
     "execution_count": 146,
     "metadata": {},
     "output_type": "execute_result"
    }
   ],
   "source": [
    "all_weeks"
   ]
  },
  {
   "cell_type": "code",
   "execution_count": 147,
   "metadata": {},
   "outputs": [],
   "source": [
    "def customers_offer(grupo):\n",
    "    query = \"\"\"\n",
    "    SELECT DISTINCT \n",
    "        bcs.customer_segment_id, \n",
    "        bcs.external_identifier::int AS customer_id\n",
    "    FROM postgres_broadleaf_federate.\"broadleaf.blc_customer_customer_seg_xref\" bcs\n",
    "    WHERE bcs.customer_segment_id = {clientes}\n",
    "    \"\"\".format(clientes=grupo)\n",
    "\n",
    "    df_clients = read_connection_data_warehouse.runQuery(query)\n",
    "    return df_clients.customer_id.unique()"
   ]
  },
  {
   "cell_type": "code",
   "execution_count": 148,
   "metadata": {},
   "outputs": [],
   "source": [
    "def df_info_filter_offer(df_offers_grouped, i, week, test, control):\n",
    "    df_filter_test = df_exp[(df_exp['city'] == df_offers_grouped.loc[i,'region_code']) & \n",
    "                         (df_exp['customer_id'].isin(test)) & \n",
    "                         (df_exp['week'] == week) & \n",
    "                         (df_exp['padre_sku_id'] == df_offers_grouped.loc[i,'card_id'])].copy()\n",
    "    df_filter_control = df_exp[(df_exp['city'] == df_offers_grouped.loc[i,'region_code']) & \n",
    "                         (df_exp['customer_id'].isin(control)) & \n",
    "                         (df_exp['week'] == week) & \n",
    "                         (df_exp['padre_sku_id'] == df_offers_grouped.loc[i,'card_id'])].copy()\n",
    "    \n",
    "    if len(df_filter_control) == 0:\n",
    "        dic = {}\n",
    "        dic = df_filter_test.iloc[0].to_dict()\n",
    "        dic['week'] = week\n",
    "        dic['customer_id'] = 0\n",
    "        dic['gmv_usd'] = 0\n",
    "        dic['discount_usd'] = 0\n",
    "        dic['cant'] = 0\n",
    "        new_df = pd.DataFrame(dic, index=[0])\n",
    "        df_filter_control = pd.concat([df_filter_control, new_df], ignore_index=True)\n",
    "\n",
    "    if len(df_filter_test) == 0:\n",
    "        dic = {}\n",
    "        dic = df_filter_control.iloc[0].to_dict()\n",
    "        dic['week'] = week\n",
    "        dic['customer_id'] = 0\n",
    "        dic['gmv_usd'] = 0\n",
    "        dic['discount_usd'] = 0\n",
    "        dic['cant'] = 0\n",
    "        new_df = pd.DataFrame(dic, index=[0])\n",
    "        df_filter_test = pd.concat([df_filter_test, new_df], ignore_index=True)\n",
    "        \n",
    "    df_filter_test['group'] = 'test'\n",
    "    df_filter_control['group'] = 'control'\n",
    "    df_filter_test['all_customer'] = len(test)\n",
    "    df_filter_control['all_customer'] = len(control)\n",
    "    df_filter = pd.concat([df_filter_test, df_filter_control]).reset_index(drop=True)\n",
    "    df_filter['offer_id'] = df_offers_grouped.loc[i,'offer_id']\n",
    "    df_filter['GM'] = df_filter.padre_sku_id.apply(lambda x: 0.1 if len(df_margen2.loc[df_margen2.id_tarjeta == x]['GM'].unique()) == 0 else df_margen2.loc[df_margen2.id_tarjeta == x]['GM'].unique()[0])\n",
    "    #df_filter['GM'] = df_filter.padre_sku_id.apply(lambda x: df_margen2.loc[df_margen2.id_tarjeta == x]['GM'].unique()[0])\n",
    "    df_filter['cash_margin'] = df_filter.gmv_usd * df_filter.GM\n",
    "    df_filter['net_cash_margin'] = df_filter.cash_margin - df_filter.discount_usd\n",
    "    return df_filter"
   ]
  },
  {
   "cell_type": "code",
   "execution_count": 149,
   "metadata": {},
   "outputs": [],
   "source": [
    "df_exp=df_exp.loc[df_exp.week.isin(['18','19','20'])]"
   ]
  },
  {
   "cell_type": "code",
   "execution_count": 150,
   "metadata": {},
   "outputs": [
    {
     "name": "stdout",
     "output_type": "stream",
     "text": [
      "-14508859\n",
      "-14508858\n"
     ]
    }
   ],
   "source": [
    "results_df = pd.DataFrame()\n",
    "for i in range(len(df_offers)):\n",
    "    print(df_offers.loc[i,'offer_id'])\n",
    "    test = customers_offer(df_offers.loc[i,'customer_segment_id_test'])\n",
    "    control = customers_offer(df_offers.loc[i,'customer_segment_id_control'])\n",
    "    for week in df_exp.week.unique():\n",
    "        info_offer = df_info_filter_offer(df_offers, i, week, test, control)\n",
    "        results_offer = (info_offer.groupby(by=['city', 'week','offer_id', 'name', 'group', 'all_customer'])\n",
    "                            .agg(customer_count=('customer_id', 'nunique'),\n",
    "                                gmv_usd=('gmv_usd', np.sum),\n",
    "                                discount_usd=('discount_usd', np.sum),\n",
    "                                quantity=('cant', np.sum),\n",
    "                                margen=('GM', np.mean),\n",
    "                                cash_margin=('cash_margin', np.sum),\n",
    "                                net_cash_margin=('net_cash_margin', np.sum))\n",
    "                            .reset_index()\n",
    "                )\n",
    "    \n",
    "        results_offer['convertion_rate'] = results_offer.customer_count / results_offer.all_customer       \n",
    "        results_offer['AOV'] = results_offer.gmv_usd / results_offer.customer_count\n",
    "        results_offer['AOV_GM'] = results_offer.cash_margin / results_offer.customer_count\n",
    "        results_offer['dct_avg'] = results_offer.discount_usd / results_offer.customer_count\n",
    "        \n",
    "        results_df = pd.concat([results_df, results_offer]).reset_index(drop=True)"
   ]
  },
  {
   "cell_type": "code",
   "execution_count": 151,
   "metadata": {},
   "outputs": [],
   "source": [
    "#import re\n",
    "\n",
    "#pattern = re.compile(r'_(STA|GRU|VLP)_')\n",
    "# extract the warehouse name from the column and create a new column in the dataframe\n",
    "#df_offers['wh'] = df_offers['discount'].apply(lambda x: pattern.search(x).group(1))"
   ]
  },
  {
   "cell_type": "code",
   "execution_count": 152,
   "metadata": {},
   "outputs": [],
   "source": [
    "results_df = pd.merge(results_df, df_offers[['offer_id','discount']],  how='left', left_on=['offer_id'], right_on = ['offer_id'])"
   ]
  },
  {
   "cell_type": "code",
   "execution_count": 153,
   "metadata": {},
   "outputs": [
    {
     "data": {
      "text/plain": [
       "array(['Azúcar Morena Estándar x 50 kg'], dtype=object)"
      ]
     },
     "execution_count": 153,
     "metadata": {},
     "output_type": "execute_result"
    }
   ],
   "source": [
    "results_df.name.unique()"
   ]
  },
  {
   "cell_type": "code",
   "execution_count": 154,
   "metadata": {},
   "outputs": [
    {
     "data": {
      "text/html": [
       "<div>\n",
       "<style scoped>\n",
       "    .dataframe tbody tr th:only-of-type {\n",
       "        vertical-align: middle;\n",
       "    }\n",
       "\n",
       "    .dataframe tbody tr th {\n",
       "        vertical-align: top;\n",
       "    }\n",
       "\n",
       "    .dataframe thead th {\n",
       "        text-align: right;\n",
       "    }\n",
       "</style>\n",
       "<table border=\"1\" class=\"dataframe\">\n",
       "  <thead>\n",
       "    <tr style=\"text-align: right;\">\n",
       "      <th></th>\n",
       "      <th>city</th>\n",
       "      <th>week</th>\n",
       "      <th>offer_id</th>\n",
       "      <th>name</th>\n",
       "      <th>group</th>\n",
       "      <th>all_customer</th>\n",
       "      <th>customer_count</th>\n",
       "      <th>gmv_usd</th>\n",
       "      <th>discount_usd</th>\n",
       "      <th>quantity</th>\n",
       "      <th>margen</th>\n",
       "      <th>cash_margin</th>\n",
       "      <th>net_cash_margin</th>\n",
       "      <th>convertion_rate</th>\n",
       "      <th>AOV</th>\n",
       "      <th>AOV_GM</th>\n",
       "      <th>dct_avg</th>\n",
       "      <th>discount</th>\n",
       "    </tr>\n",
       "  </thead>\n",
       "  <tbody>\n",
       "    <tr>\n",
       "      <th>0</th>\n",
       "      <td>CMX</td>\n",
       "      <td>20</td>\n",
       "      <td>-14508859</td>\n",
       "      <td>Azúcar Morena Estándar x 50 kg</td>\n",
       "      <td>control</td>\n",
       "      <td>571</td>\n",
       "      <td>48</td>\n",
       "      <td>3346.33404</td>\n",
       "      <td>33.45878</td>\n",
       "      <td>59.0</td>\n",
       "      <td>1.0</td>\n",
       "      <td>3346.33404</td>\n",
       "      <td>3312.87526</td>\n",
       "      <td>0.084063</td>\n",
       "      <td>69.715292</td>\n",
       "      <td>69.715292</td>\n",
       "      <td>0.697058</td>\n",
       "      <td>ELASTICITY_2023-05-10_CMX_AZUCAR_INELASTIC</td>\n",
       "    </tr>\n",
       "    <tr>\n",
       "      <th>1</th>\n",
       "      <td>CMX</td>\n",
       "      <td>20</td>\n",
       "      <td>-14508859</td>\n",
       "      <td>Azúcar Morena Estándar x 50 kg</td>\n",
       "      <td>test</td>\n",
       "      <td>572</td>\n",
       "      <td>42</td>\n",
       "      <td>3574.51880</td>\n",
       "      <td>78.63134</td>\n",
       "      <td>63.0</td>\n",
       "      <td>1.0</td>\n",
       "      <td>3574.51880</td>\n",
       "      <td>3495.88746</td>\n",
       "      <td>0.073427</td>\n",
       "      <td>85.107590</td>\n",
       "      <td>85.107590</td>\n",
       "      <td>1.872175</td>\n",
       "      <td>ELASTICITY_2023-05-10_CMX_AZUCAR_INELASTIC</td>\n",
       "    </tr>\n",
       "    <tr>\n",
       "      <th>6</th>\n",
       "      <td>CMX</td>\n",
       "      <td>20</td>\n",
       "      <td>-14508858</td>\n",
       "      <td>Azúcar Morena Estándar x 50 kg</td>\n",
       "      <td>control</td>\n",
       "      <td>597</td>\n",
       "      <td>144</td>\n",
       "      <td>12542.71201</td>\n",
       "      <td>125.40946</td>\n",
       "      <td>221.0</td>\n",
       "      <td>1.0</td>\n",
       "      <td>12542.71201</td>\n",
       "      <td>12417.30255</td>\n",
       "      <td>0.241206</td>\n",
       "      <td>87.102167</td>\n",
       "      <td>87.102167</td>\n",
       "      <td>0.870899</td>\n",
       "      <td>ELASTICITY_2023-05-10_CMX_AZUCAR_ELASTIC</td>\n",
       "    </tr>\n",
       "    <tr>\n",
       "      <th>7</th>\n",
       "      <td>CMX</td>\n",
       "      <td>20</td>\n",
       "      <td>-14508858</td>\n",
       "      <td>Azúcar Morena Estándar x 50 kg</td>\n",
       "      <td>test</td>\n",
       "      <td>597</td>\n",
       "      <td>195</td>\n",
       "      <td>19211.32526</td>\n",
       "      <td>422.61037</td>\n",
       "      <td>339.0</td>\n",
       "      <td>1.0</td>\n",
       "      <td>19211.32526</td>\n",
       "      <td>18788.71489</td>\n",
       "      <td>0.326633</td>\n",
       "      <td>98.519617</td>\n",
       "      <td>98.519617</td>\n",
       "      <td>2.167233</td>\n",
       "      <td>ELASTICITY_2023-05-10_CMX_AZUCAR_ELASTIC</td>\n",
       "    </tr>\n",
       "  </tbody>\n",
       "</table>\n",
       "</div>"
      ],
      "text/plain": [
       "  city week  offer_id                            name    group  all_customer  \\\n",
       "0  CMX   20 -14508859  Azúcar Morena Estándar x 50 kg  control           571   \n",
       "1  CMX   20 -14508859  Azúcar Morena Estándar x 50 kg     test           572   \n",
       "6  CMX   20 -14508858  Azúcar Morena Estándar x 50 kg  control           597   \n",
       "7  CMX   20 -14508858  Azúcar Morena Estándar x 50 kg     test           597   \n",
       "\n",
       "   customer_count      gmv_usd  discount_usd  quantity  margen  cash_margin  \\\n",
       "0              48   3346.33404      33.45878      59.0     1.0   3346.33404   \n",
       "1              42   3574.51880      78.63134      63.0     1.0   3574.51880   \n",
       "6             144  12542.71201     125.40946     221.0     1.0  12542.71201   \n",
       "7             195  19211.32526     422.61037     339.0     1.0  19211.32526   \n",
       "\n",
       "   net_cash_margin  convertion_rate        AOV     AOV_GM   dct_avg  \\\n",
       "0       3312.87526         0.084063  69.715292  69.715292  0.697058   \n",
       "1       3495.88746         0.073427  85.107590  85.107590  1.872175   \n",
       "6      12417.30255         0.241206  87.102167  87.102167  0.870899   \n",
       "7      18788.71489         0.326633  98.519617  98.519617  2.167233   \n",
       "\n",
       "                                     discount  \n",
       "0  ELASTICITY_2023-05-10_CMX_AZUCAR_INELASTIC  \n",
       "1  ELASTICITY_2023-05-10_CMX_AZUCAR_INELASTIC  \n",
       "6    ELASTICITY_2023-05-10_CMX_AZUCAR_ELASTIC  \n",
       "7    ELASTICITY_2023-05-10_CMX_AZUCAR_ELASTIC  "
      ]
     },
     "execution_count": 154,
     "metadata": {},
     "output_type": "execute_result"
    }
   ],
   "source": [
    "results_df.loc[(results_df.name == 'Azúcar Morena Estándar x 50 kg') & (results_df.week == '20')]"
   ]
  }
 ],
 "metadata": {
  "kernelspec": {
   "display_name": "Python 3 (ipykernel)",
   "language": "python",
   "name": "python3"
  },
  "language_info": {
   "codemirror_mode": {
    "name": "ipython",
    "version": 3
   },
   "file_extension": ".py",
   "mimetype": "text/x-python",
   "name": "python",
   "nbconvert_exporter": "python",
   "pygments_lexer": "ipython3",
   "version": "3.7.9"
  },
  "orig_nbformat": 4,
  "vscode": {
   "interpreter": {
    "hash": "624741679a3ae5d99cecf49b8df5d516a7a937e6e7328e129d1fa121c8592e26"
   }
  }
 },
 "nbformat": 4,
 "nbformat_minor": 2
}
