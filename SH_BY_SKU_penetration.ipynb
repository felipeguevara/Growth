{
 "cells": [
  {
   "cell_type": "code",
   "execution_count": 29,
   "metadata": {},
   "outputs": [],
   "source": [
    "#//----------------------------\n",
    "#//LIBRARIES\n",
    "    #Math\n",
    "import math\n",
    "    #Numeric Python\n",
    "import numpy as np\n",
    "    #Pandas (dataframes)\n",
    "import pandas as pd\n",
    "    #datetime for fate manipulation\n",
    "from datetime import date, datetime, timedelta  \n",
    "    #Regex for advanced string matching\n",
    "import re\n",
    "    #for time related stuff\n",
    "import time\n",
    "    #json library\n",
    "import json\n",
    "    #Analyst tools\n",
    "import sys\n",
    "sys.path.append('../')\n",
    "from analysts_tools.growth import *\n",
    "    #Procurement tools\n",
    "from procurement_lib import send_slack_notification\n",
    "from procurement_lib import redash\n",
    "from analysts_tools.redash_methods import *\n",
    "\n",
    "import random\n",
    "import time"
   ]
  },
  {
   "cell_type": "markdown",
   "metadata": {},
   "source": [
    "### Loading COSTUMERS INFO"
   ]
  },
  {
   "cell_type": "code",
   "execution_count": 30,
   "metadata": {},
   "outputs": [],
   "source": [
    "#//---------------------------------------------------------------------------------------------------------------------------\n",
    "#// Parametros\n",
    "\n",
    "city_code = 'BOG'\n",
    "    \n",
    "#year-month-day\n",
    "todays_date = '2022-10-15' \n",
    "#non_buyers_date = '2022-08-26' #1 months\n",
    "customer_date_desde = '2022-09-05' #1 months\n",
    "    #data for sku sales data\n",
    "#sku_date_desde = '2022-06-26' #2 months\n",
    "\n",
    "tasas = {'BOG': 3776,\n",
    "         'BAQ': 3776,\n",
    "         'MDE': 3776,\n",
    "         'CMX': 19.65,\n",
    "         'GDL': 19.65,\n",
    "         'PBC': 19.65,\n",
    "         'SPO': 4.75,\n",
    "         'BHZ': 4.75,\n",
    "         'CWB': 4.75,\n",
    "         'VCP': 4.75}\n",
    "\n",
    "t_cambio = tasas[city_code]"
   ]
  },
  {
   "cell_type": "code",
   "execution_count": 31,
   "metadata": {},
   "outputs": [
    {
     "name": "stdout",
     "output_type": "stream",
     "text": [
      "2456\n"
     ]
    }
   ],
   "source": [
    "#//--------------------------------------\n",
    "#//Ruta de data // KAM's costumers to delete\n",
    "#//KAMs customers me lo manda Emiliano Lomeli (SE ACTUALIZAN DE UN SCRIPT MES A MES)\n",
    "users_eliminar_kam = pd.read_csv(\"SD/import_data/segments/KAMs_OCT.csv\")['costumer_id'].unique().tolist()\n",
    "print(len(users_eliminar_kam))"
   ]
  },
  {
   "cell_type": "code",
   "execution_count": 32,
   "metadata": {},
   "outputs": [],
   "source": [
    "#Loading SELL'S DATA from a function\n",
    "data_ventas = data_ventas_query(ciudad=city_code, tipo_cambio=t_cambio, desde=customer_date_desde, hasta = todays_date, tipo_negocio=1)"
   ]
  },
  {
   "cell_type": "code",
   "execution_count": 33,
   "metadata": {},
   "outputs": [
    {
     "name": "stdout",
     "output_type": "stream",
     "text": [
      "200\n"
     ]
    }
   ],
   "source": [
    "frida_products = get_fresh_query_result(\"https://internal-redash.federate.frubana.com/\",48322,'SeoGHWmDUaaBi7VXje1s9zYNiMD1VHQ1K1DYOxiF',{},20)"
   ]
  },
  {
   "cell_type": "markdown",
   "metadata": {},
   "source": [
    "### PARAMETERS // SOME FUNCTIONS - GET READY TO PROCESSING"
   ]
  },
  {
   "cell_type": "code",
   "execution_count": 34,
   "metadata": {},
   "outputs": [
    {
     "data": {
      "text/plain": [
       "(493956, 19)"
      ]
     },
     "execution_count": 34,
     "metadata": {},
     "output_type": "execute_result"
    }
   ],
   "source": [
    "active_skus = frida_products[frida_products.status_frida == 'on'][\"sku_id\"].unique()\n",
    "data_ventas = data_ventas[data_ventas.sku_id.isin(active_skus)]\n",
    "\n",
    "data_ventas.shape"
   ]
  },
  {
   "cell_type": "code",
   "execution_count": 35,
   "metadata": {},
   "outputs": [],
   "source": [
    "data_ventas = data_ventas.groupby(by=['region_code','customer_id','category','subcat','padre_sku_id']).agg({\"name\":pd.Series.unique, \"gmv_usd\":np.sum, \"discount_applied\":np.sum, \"cant\": np.sum, \"order_id\":pd.Series.nunique}).reset_index()"
   ]
  },
  {
   "cell_type": "code",
   "execution_count": 36,
   "metadata": {},
   "outputs": [],
   "source": [
    "frida_products['sku_id'] = frida_products['sku_id'].astype(str)"
   ]
  },
  {
   "cell_type": "code",
   "execution_count": 37,
   "metadata": {},
   "outputs": [],
   "source": [
    "frida_products_clean = frida_products[(frida_products.status_frida == 'on') & (frida_products[\"ciudad::multiFilter\"] == city_code)].groupby(by= ['id_tarjeta']).apply(lambda x: '#'.join(x[\"sku_id\"].unique())).reset_index()\n",
    "frida_products_clean = frida_products_clean.rename(columns={0:'skus'})"
   ]
  },
  {
   "cell_type": "code",
   "execution_count": 38,
   "metadata": {},
   "outputs": [],
   "source": [
    "data_ventas_df = pd.merge(data_ventas,frida_products_clean, left_on='padre_sku_id', right_on='id_tarjeta')#.drop(columns = ['id_tarjeta'])"
   ]
  },
  {
   "cell_type": "code",
   "execution_count": 39,
   "metadata": {},
   "outputs": [],
   "source": [
    "def skus_offer(skus):\n",
    "    \n",
    "    skus_aux = [frida_products_clean.loc[frida_products_clean['skus'].str.contains(sk, case=False)]['skus'].to_list()[0] for sku in skus for sk in sku]\n",
    "    \n",
    "    a=[]*len(skus)\n",
    "    contador=0\n",
    "    contador2=0\n",
    "    for i,sku in enumerate(skus):\n",
    "        contador+= len(sku)\n",
    "        a.append(skus_aux[contador2:contador])\n",
    "        contador2+= len(sku)\n",
    "        \n",
    "    return a"
   ]
  },
  {
   "cell_type": "code",
   "execution_count": 40,
   "metadata": {},
   "outputs": [],
   "source": [
    "def list_users(data_ventas, rangos):\n",
    "    \"\"\"This function select the customer_ids of the clients who are between the range of gmv_usd\"\"\"\n",
    "    \n",
    "    total_users = data_ventas[\"customer_id\"].unique().tolist()\n",
    "    print(f'Total users: {len(total_users)}')\n",
    "    \n",
    "    inferior, superior = np.percentile(data_ventas['gmv_usd'],rangos) #rango intercuartil entre los skus a tomar\n",
    "    \n",
    "    users = data_ventas[(data_ventas.gmv_usd>=inferior) & (data_ventas.gmv_usd<=superior)]['customer_id'].unique()\n",
    "    print(f'Total users: {len(users)}')\n",
    "    \n",
    "    return users"
   ]
  },
  {
   "cell_type": "code",
   "execution_count": 41,
   "metadata": {},
   "outputs": [
    {
     "data": {
      "text/plain": [
       "array(['Arroz', 'Granos', 'Pasta', 'Salsas',\n",
       "       'Desinfectantes & Sanitizantes', 'Detergente, Jabón & Lavalozas',\n",
       "       'Cervezas & Licores', 'Pollo', 'Res', 'Alimentos Congelados',\n",
       "       'Contenedores', 'Frutas', 'Tubérculos', 'Verduras', 'Cremas',\n",
       "       'Aceites & Grasas', 'Azúcar & Endulzantes',\n",
       "       'Café, Chocolate e Infusiones', 'Vasos', 'Harinas & Mezclas',\n",
       "       'Implementos de Aseo', 'Papel & Toallas', 'Bolsas', 'Gaseosas',\n",
       "       'Cerdo', 'Cubiertos & Pitillos', 'Frutas Jugo',\n",
       "       'Platos & Bandejas', 'Aguas', 'Pulpas de Fruta',\n",
       "       'Derivados Lácteos', 'Huevos', 'Enlatados', 'Leches',\n",
       "       'Sal & Sazonadores', 'Mantequillas', 'Jugos',\n",
       "       'Pescados & Mariscos Congelado', 'Complementos',\n",
       "       'Panadería & Repostería', 'Embutidos', 'Dotación', 'Quesos', 'Tés',\n",
       "       'Empaque & Envoltura', 'Especias', 'Mesa', 'Utensilios de cocina',\n",
       "       'Isotónicos', 'Cristalería y Vajilla', 'Cuchillos y Cubertería',\n",
       "       'Ollas y Sartenes', 'Electro'], dtype=object)"
      ]
     },
     "execution_count": 41,
     "metadata": {},
     "output_type": "execute_result"
    }
   ],
   "source": [
    "data_ventas_df.subcat.unique()"
   ]
  },
  {
   "cell_type": "markdown",
   "metadata": {},
   "source": [
    "# Customize Offers"
   ]
  },
  {
   "cell_type": "markdown",
   "metadata": {},
   "source": [
    "### Load the information in the next block"
   ]
  },
  {
   "cell_type": "code",
   "execution_count": 42,
   "metadata": {},
   "outputs": [],
   "source": [
    "\"\"\"Here we should complete our data for each SH, important if we want to submit a subcategory SH offer, in SKUS we should put the skus into a list as this [[1,2,3]]\"\"\"\n",
    "offers_name = ['Harina','Esmeralda','Moppy']\n",
    "skus = [['254112'],['401541'],['304652','409396','304650','304644','304642','409394','304648','304646','409392']] #it should be the sku in string\n",
    "subcat = [['Harinas & Mezclas'],['Leches'],['Desinfectantes & Sanitizantes']]\n",
    "discount = [6,5,11]\n",
    "max_uses = [5,40,40]\n",
    "max_orders = [2,2,2]\n",
    "#////////////\n",
    "rango_IQ = [[0,90],[0,90],[0,90]]\n",
    "users = []"
   ]
  },
  {
   "cell_type": "code",
   "execution_count": 43,
   "metadata": {},
   "outputs": [
    {
     "name": "stdout",
     "output_type": "stream",
     "text": [
      "[0, 90]\n",
      "Total users: 4007\n",
      "Total users: 3606\n",
      "[0, 90]\n",
      "Total users: 1553\n",
      "Total users: 1397\n",
      "[0, 90]\n",
      "Total users: 3816\n",
      "Total users: 3434\n"
     ]
    }
   ],
   "source": [
    "for j, sku in enumerate(skus):\n",
    "    range = rango_IQ[j]\n",
    "    print(range)\n",
    "    \n",
    "    if len(sku) == 0:\n",
    "        x = []\n",
    "        aux_data = data_ventas_df.loc[(~data_ventas_df['skus'].str.contains(sku[0], case=False)) & (data_ventas_df['subcat'].str.contains(subcat[j][0], case=False))]\n",
    "        x.append(list_users(aux_data,range))\n",
    "    else:\n",
    "        x = []\n",
    "        y = []\n",
    "        for i in sku:\n",
    "            aux_data = data_ventas_df.loc[(~data_ventas_df['skus'].str.contains(i, case=False)) & (data_ventas_df['subcat'].str.contains(subcat[j][0], case=False))]\n",
    "            y.append(aux_data)\n",
    "        aux_data_all = pd.concat(y)\n",
    "        aux_data_all = aux_data_all.groupby(by=['region_code','customer_id','category','subcat']).agg({\"gmv_usd\":np.sum, \"discount_applied\":np.sum, \"cant\": np.sum, \"order_id\":pd.Series.nunique}).reset_index()\n",
    "        x.append(list_users(aux_data_all,range))\n",
    "    users.append(x)"
   ]
  },
  {
   "cell_type": "markdown",
   "metadata": {},
   "source": [
    "# Generate CSV for Offers"
   ]
  },
  {
   "cell_type": "code",
   "execution_count": 44,
   "metadata": {},
   "outputs": [],
   "source": [
    "global_segment_list = [] #//for procesing\n",
    "r= {}\n",
    "\n",
    "for i,offer in enumerate(offers_name):\n",
    "    id_list = users[i][0].tolist()\n",
    "    test = random.sample(list(id_list), int(len(id_list)*0.85))\n",
    "    control = [value for value in id_list if value not in test]\n",
    "    d = {'name':\"SH_\"+todays_date+\"_\"+city_code+\"_\"+offer, 'customersIds': list(test)}\n",
    "\n",
    "    r['CONTROL_'+\"SH_\"+todays_date+\"_\"+city_code+\"_\"+offer] = control\n",
    "    r['TEST_'+\"SH_\"+todays_date+\"_\"+city_code+\"_\"+offer] = test\n",
    "    \n",
    "    global_segment_list.append(d) \n",
    "\n",
    "df_test_control = pd.DataFrame.from_dict(r, orient='index').T"
   ]
  },
  {
   "cell_type": "code",
   "execution_count": 48,
   "metadata": {},
   "outputs": [],
   "source": [
    "csv_file = {} \n",
    "csv_file['offer_name'] = [\"SH_\"+todays_date+\"_\"+city_code+\"_\"+x for x in offers_name]\n",
    "csv_file['offer_description'] = None\n",
    "csv_file['discount'] = discount\n",
    "csv_file['automatically_consider_offer'] = \"true\"\n",
    "csv_file['start_date'] = '15-10-2022'\n",
    "csv_file['end_date'] = '22-10-2022'\n",
    "csv_file['max_uses_per_order'] = max_uses\n",
    "csv_file['max_uses_per_customer'] = max_orders\n",
    "csv_file['customer_segment_id'] = [88052,88053,88054] #[None]\n",
    "csv_file['sku_id'] = [\"#\".join(s) for s in skus_offer(skus)]\n",
    "\n",
    "global_offer_csv = pd.DataFrame(csv_file) #, index=[0])"
   ]
  },
  {
   "cell_type": "code",
   "execution_count": 49,
   "metadata": {},
   "outputs": [
    {
     "data": {
      "text/html": [
       "<div>\n",
       "<style scoped>\n",
       "    .dataframe tbody tr th:only-of-type {\n",
       "        vertical-align: middle;\n",
       "    }\n",
       "\n",
       "    .dataframe tbody tr th {\n",
       "        vertical-align: top;\n",
       "    }\n",
       "\n",
       "    .dataframe thead th {\n",
       "        text-align: right;\n",
       "    }\n",
       "</style>\n",
       "<table border=\"1\" class=\"dataframe\">\n",
       "  <thead>\n",
       "    <tr style=\"text-align: right;\">\n",
       "      <th></th>\n",
       "      <th>offer_name</th>\n",
       "      <th>offer_description</th>\n",
       "      <th>discount</th>\n",
       "      <th>automatically_consider_offer</th>\n",
       "      <th>start_date</th>\n",
       "      <th>end_date</th>\n",
       "      <th>max_uses_per_order</th>\n",
       "      <th>max_uses_per_customer</th>\n",
       "      <th>customer_segment_id</th>\n",
       "      <th>sku_id</th>\n",
       "    </tr>\n",
       "  </thead>\n",
       "  <tbody>\n",
       "    <tr>\n",
       "      <th>0</th>\n",
       "      <td>SH_2022-10-15_BOG_Harina</td>\n",
       "      <td>None</td>\n",
       "      <td>6</td>\n",
       "      <td>true</td>\n",
       "      <td>15-10-2022</td>\n",
       "      <td>22-10-2022</td>\n",
       "      <td>5</td>\n",
       "      <td>2</td>\n",
       "      <td>88052</td>\n",
       "      <td>254112#254113</td>\n",
       "    </tr>\n",
       "    <tr>\n",
       "      <th>1</th>\n",
       "      <td>SH_2022-10-15_BOG_Esmeralda</td>\n",
       "      <td>None</td>\n",
       "      <td>5</td>\n",
       "      <td>true</td>\n",
       "      <td>15-10-2022</td>\n",
       "      <td>22-10-2022</td>\n",
       "      <td>40</td>\n",
       "      <td>2</td>\n",
       "      <td>88053</td>\n",
       "      <td>324143#401541</td>\n",
       "    </tr>\n",
       "    <tr>\n",
       "      <th>2</th>\n",
       "      <td>SH_2022-10-15_BOG_Moppy</td>\n",
       "      <td>None</td>\n",
       "      <td>11</td>\n",
       "      <td>true</td>\n",
       "      <td>15-10-2022</td>\n",
       "      <td>22-10-2022</td>\n",
       "      <td>40</td>\n",
       "      <td>2</td>\n",
       "      <td>88054</td>\n",
       "      <td>304652#409396#304650#304644#304642#409394#3046...</td>\n",
       "    </tr>\n",
       "  </tbody>\n",
       "</table>\n",
       "</div>"
      ],
      "text/plain": [
       "                    offer_name offer_description  discount  \\\n",
       "0     SH_2022-10-15_BOG_Harina              None         6   \n",
       "1  SH_2022-10-15_BOG_Esmeralda              None         5   \n",
       "2      SH_2022-10-15_BOG_Moppy              None        11   \n",
       "\n",
       "  automatically_consider_offer  start_date    end_date  max_uses_per_order  \\\n",
       "0                         true  15-10-2022  22-10-2022                   5   \n",
       "1                         true  15-10-2022  22-10-2022                  40   \n",
       "2                         true  15-10-2022  22-10-2022                  40   \n",
       "\n",
       "   max_uses_per_customer  customer_segment_id  \\\n",
       "0                      2                88052   \n",
       "1                      2                88053   \n",
       "2                      2                88054   \n",
       "\n",
       "                                              sku_id  \n",
       "0                                      254112#254113  \n",
       "1                                      324143#401541  \n",
       "2  304652#409396#304650#304644#304642#409394#3046...  "
      ]
     },
     "execution_count": 49,
     "metadata": {},
     "output_type": "execute_result"
    }
   ],
   "source": [
    "global_offer_csv"
   ]
  },
  {
   "cell_type": "code",
   "execution_count": 50,
   "metadata": {},
   "outputs": [],
   "source": [
    "#//--------------------------------------------\n",
    "#//Exporting single file data\n",
    "with open(f'SD/export_data/Below_Media/{city_code}/{todays_date}_penetration_{city_code}_All_SH.txt', 'w') as outfile:\n",
    "        json.dump(global_segment_list, outfile)"
   ]
  },
  {
   "cell_type": "code",
   "execution_count": 51,
   "metadata": {},
   "outputs": [],
   "source": [
    "#//--------------------------------------------\n",
    "#//Exporting single file data\n",
    "global_offer_csv.to_csv(f'SD/export_data/Below_Media/{city_code}/{todays_date}_OFFER_csv_{city_code}_All_SH_penetration.csv', index = False)\n",
    "df_test_control.to_csv(f'SD/export_data/Below_Media/{city_code}/{todays_date}_CLIENTS_csv_{city_code}_All_SH_penetration.csv', index = False)"
   ]
  }
 ],
 "metadata": {
  "kernelspec": {
   "display_name": "Python 3 (ipykernel)",
   "language": "python",
   "name": "python3"
  },
  "language_info": {
   "codemirror_mode": {
    "name": "ipython",
    "version": 3
   },
   "file_extension": ".py",
   "mimetype": "text/x-python",
   "name": "python",
   "nbconvert_exporter": "python",
   "pygments_lexer": "ipython3",
   "version": "3.7.9"
  },
  "orig_nbformat": 4,
  "vscode": {
   "interpreter": {
    "hash": "e3b129f78d952e0c2c5b43e5a6ea790cddc7eaeae84b5bb9d0886bd353c85fa4"
   }
  }
 },
 "nbformat": 4,
 "nbformat_minor": 2
}
