{
 "cells": [
  {
   "cell_type": "code",
   "execution_count": 2,
   "metadata": {},
   "outputs": [
    {
     "ename": "ModuleNotFoundError",
     "evalue": "No module named 'analystcommunity'",
     "output_type": "error",
     "traceback": [
      "\u001b[1;31m---------------------------------------------------------------------------\u001b[0m",
      "\u001b[1;31mModuleNotFoundError\u001b[0m                       Traceback (most recent call last)",
      "Cell \u001b[1;32mIn [2], line 20\u001b[0m\n\u001b[0;32m     18\u001b[0m \u001b[39mimport\u001b[39;00m \u001b[39msys\u001b[39;00m\n\u001b[0;32m     19\u001b[0m sys\u001b[39m.\u001b[39mpath\u001b[39m.\u001b[39mappend(\u001b[39m'\u001b[39m\u001b[39m../\u001b[39m\u001b[39m'\u001b[39m)\n\u001b[1;32m---> 20\u001b[0m \u001b[39mfrom\u001b[39;00m \u001b[39manalysts_tools\u001b[39;00m\u001b[39m.\u001b[39;00m\u001b[39mgrowth\u001b[39;00m \u001b[39mimport\u001b[39;00m \u001b[39m*\u001b[39m\n\u001b[0;32m     21\u001b[0m     \u001b[39m#Procurement tools\u001b[39;00m\n\u001b[0;32m     22\u001b[0m \u001b[39mfrom\u001b[39;00m \u001b[39mprocurement_lib\u001b[39;00m \u001b[39mimport\u001b[39;00m send_slack_notification\n",
      "File \u001b[1;32mc:\\Users\\andre\\OneDrive\\Documents\\TRANSFERENCIA\\GitHub\\Growth\\analysts_tools\\growth.py:9\u001b[0m\n\u001b[0;32m      4\u001b[0m \u001b[39mimport\u001b[39;00m \u001b[39msys\u001b[39;00m\n\u001b[0;32m      5\u001b[0m \u001b[39m# route='/srv/scratch/'\u001b[39;00m\n\u001b[0;32m      6\u001b[0m \u001b[39m# sys.path.append(route)\u001b[39;00m\n\u001b[0;32m      7\u001b[0m \u001b[39m# route='/srv/scratch/analyst_community/'\u001b[39;00m\n\u001b[0;32m      8\u001b[0m \u001b[39m# sys.path.append(route)\u001b[39;00m\n\u001b[1;32m----> 9\u001b[0m \u001b[39mfrom\u001b[39;00m \u001b[39manalystcommunity\u001b[39;00m \u001b[39mimport\u001b[39;00m read_connection_data_warehouse\n\u001b[0;32m     11\u001b[0m \u001b[39mdef\u001b[39;00m \u001b[39mdata_ventas_query\u001b[39m(ciudad, tipo_cambio, desde, hasta, tipo_negocio):\n\u001b[0;32m     12\u001b[0m     \u001b[39m\"\"\"\u001b[39;00m\n\u001b[0;32m     13\u001b[0m \u001b[39m    Está función trae la data de ventas, para segmentos de restaurantes, para una ciudad en un rango de fecha determinado.\u001b[39;00m\n\u001b[0;32m     14\u001b[0m \u001b[39m    \u001b[39;00m\n\u001b[1;32m   (...)\u001b[0m\n\u001b[0;32m     22\u001b[0m \u001b[39m    dataframe: dataframe con la data de ventas solicitada\u001b[39;00m\n\u001b[0;32m     23\u001b[0m \u001b[39m    \"\"\"\u001b[39;00m\n",
      "\u001b[1;31mModuleNotFoundError\u001b[0m: No module named 'analystcommunity'"
     ]
    }
   ],
   "source": [
    "#//----------------------------\n",
    "#//LIBRARIES\n",
    "    #Math\n",
    "import math\n",
    "    #Numeric Python\n",
    "import numpy as np\n",
    "    #Pandas (dataframes)\n",
    "import pandas as pd\n",
    "    #datetime for fate manipulation\n",
    "from datetime import date, datetime, timedelta  \n",
    "    #Regex for advanced string matching\n",
    "import re\n",
    "    #for time related stuff\n",
    "import time\n",
    "    #json library\n",
    "import json\n",
    "    #Analyst tools\n",
    "import sys\n",
    "sys.path.append('../')\n",
    "from analysts_tools.growth import *\n",
    "    #Procurement tools\n",
    "from procurement_lib import send_slack_notification\n",
    "from procurement_lib import redash\n",
    "from analysts_tools.redash_methods import *\n",
    "\n",
    "import random\n",
    "import time\n",
    "import datetime"
   ]
  },
  {
   "cell_type": "code",
   "execution_count": null,
   "metadata": {},
   "outputs": [],
   "source": [
    "#//---------------------------------------------------------------------------------------------------------------------------\n",
    "#// Parametros\n",
    "\n",
    "city_code = 'MDE'\n",
    "    \n",
    "#year-month-day\n",
    "todays_date = datetime.datetime.today().strftime('%Y-%m-%d')\n",
    "#non_buyers_date = '2022-08-26' #1 months\n",
    "customer_date_desde = (datetime.datetime.today() - datetime.timedelta(days=30)).strftime('%Y-%m-%d') #1 months\n",
    "    #data for sku sales data\n",
    "#sku_date_desde = '2022-06-26' #2 months\n",
    "\n",
    "dias = 1\n",
    "\n",
    "tasas = {'BOG': 3776,\n",
    "         'BAQ': 3776,\n",
    "         'MDE': 3776,\n",
    "         'CMX': 19.65,\n",
    "         'GDL': 19.65,\n",
    "         'PBC': 19.65,\n",
    "         'SPO': 4.75,\n",
    "         'BHZ': 4.75,\n",
    "         'CWB': 4.75,\n",
    "         'VCP': 4.75}\n",
    "\n",
    "t_cambio = tasas[city_code]"
   ]
  },
  {
   "cell_type": "markdown",
   "metadata": {},
   "source": [
    "### Loading COSTUMERS INFO"
   ]
  },
  {
   "cell_type": "code",
   "execution_count": null,
   "metadata": {},
   "outputs": [
    {
     "name": "stdout",
     "output_type": "stream",
     "text": [
      "2456\n"
     ]
    }
   ],
   "source": [
    "#//--------------------------------------\n",
    "#//Ruta de data // KAM's costumers to delete\n",
    "#//KAMs customers me lo manda Emiliano Lomeli (SE ACTUALIZAN DE UN SCRIPT MES A MES)\n",
    "users_eliminar_kam = pd.read_csv(\"SD/import_data/segments/KAMs_OCT.csv\")['costumer_id'].unique().tolist()\n",
    "print(len(users_eliminar_kam))"
   ]
  },
  {
   "cell_type": "code",
   "execution_count": null,
   "metadata": {},
   "outputs": [],
   "source": [
    "#Loading SELL'S DATA from a function\n",
    "data_ventas = data_ventas_query(ciudad=city_code, tipo_cambio=t_cambio, desde=customer_date_desde, hasta = todays_date, tipo_negocio=1)"
   ]
  },
  {
   "cell_type": "code",
   "execution_count": null,
   "metadata": {},
   "outputs": [
    {
     "name": "stdout",
     "output_type": "stream",
     "text": [
      "200\n"
     ]
    }
   ],
   "source": [
    "frida_products = get_fresh_query_result(\"https://internal-redash.federate.frubana.com/\",48322,'SeoGHWmDUaaBi7VXje1s9zYNiMD1VHQ1K1DYOxiF',{},20)"
   ]
  },
  {
   "cell_type": "markdown",
   "metadata": {},
   "source": [
    "### PARAMETERS // SOME FUNCTIONS - GET READY TO PROCESSING"
   ]
  },
  {
   "cell_type": "code",
   "execution_count": null,
   "metadata": {},
   "outputs": [
    {
     "data": {
      "text/plain": [
       "(377199, 19)"
      ]
     },
     "execution_count": 52,
     "metadata": {},
     "output_type": "execute_result"
    }
   ],
   "source": [
    "active_skus = frida_products[frida_products.status_frida == 'on'][\"sku_id\"].unique()\n",
    "data_ventas = data_ventas[data_ventas.sku_id.isin(active_skus)]\n",
    "\n",
    "data_ventas.shape"
   ]
  },
  {
   "cell_type": "code",
   "execution_count": null,
   "metadata": {},
   "outputs": [],
   "source": [
    "data_ventas = data_ventas.groupby(by=['region_code','customer_id','category','subcat','padre_sku_id']).agg({\"name\":pd.Series.unique, \"gmv_usd\":np.sum, \"discount_applied\":np.sum, \"cant\": np.sum, \"order_id\":pd.Series.nunique}).reset_index()"
   ]
  },
  {
   "cell_type": "code",
   "execution_count": null,
   "metadata": {},
   "outputs": [],
   "source": [
    "frida_products['sku_id'] = frida_products['sku_id'].astype(str)"
   ]
  },
  {
   "cell_type": "code",
   "execution_count": null,
   "metadata": {},
   "outputs": [],
   "source": [
    "frida_products_clean = frida_products[(frida_products.status_frida == 'on') & (frida_products[\"ciudad::multiFilter\"] == city_code)].groupby(by= ['id_tarjeta']).apply(lambda x: '#'.join(x[\"sku_id\"].unique())).reset_index()\n",
    "frida_products_clean = frida_products_clean.rename(columns={0:'skus'})"
   ]
  },
  {
   "cell_type": "code",
   "execution_count": null,
   "metadata": {},
   "outputs": [],
   "source": [
    "data_ventas_df = pd.merge(data_ventas,frida_products_clean, left_on='padre_sku_id', right_on='id_tarjeta')#.drop(columns = ['id_tarjeta'])"
   ]
  },
  {
   "cell_type": "code",
   "execution_count": null,
   "metadata": {},
   "outputs": [],
   "source": [
    "def skus_offer(skus):\n",
    "    \n",
    "    skus_aux = [frida_products_clean.loc[frida_products_clean['skus'].str.contains(sk, case=False)]['skus'].to_list()[0] for sku in skus for sk in sku]\n",
    "    \n",
    "    a=[]*len(skus)\n",
    "    contador=0\n",
    "    contador2=0\n",
    "    for i,sku in enumerate(skus):\n",
    "        contador+= len(sku)\n",
    "        a.append(skus_aux[contador2:contador])\n",
    "        contador2+= len(sku)\n",
    "        \n",
    "    return a"
   ]
  },
  {
   "cell_type": "code",
   "execution_count": null,
   "metadata": {},
   "outputs": [],
   "source": [
    "def list_users(data_ventas, rangos):\n",
    "    \"\"\"This function select the customer_ids of the clients who are between the range of gmv_usd\"\"\"\n",
    "    \n",
    "    total_users = data_ventas[\"customer_id\"].unique().tolist()\n",
    "    print(f'Total users: {len(total_users)}')\n",
    "    \n",
    "    inferior, superior = np.percentile(data_ventas['gmv_usd'],rangos) #rango intercuartil entre los skus a tomar\n",
    "    \n",
    "    users = data_ventas[(data_ventas.gmv_usd>=inferior) & (data_ventas.gmv_usd<=superior)]['customer_id'].unique()\n",
    "    print(f'Total users: {len(users)}')\n",
    "    \n",
    "    return users"
   ]
  },
  {
   "cell_type": "markdown",
   "metadata": {},
   "source": [
    "# Customize Offers"
   ]
  },
  {
   "cell_type": "code",
   "execution_count": null,
   "metadata": {},
   "outputs": [
    {
     "data": {
      "text/plain": [
       "array(['Arroz', 'Granos', 'Pasta', 'Salsas',\n",
       "       'Desinfectantes & Sanitizantes', 'Res', 'Frutas', 'Tubérculos',\n",
       "       'Verduras', 'Aceites & Grasas', 'Azúcar & Endulzantes',\n",
       "       'Papel & Toallas', 'Jugos', 'Contenedores', 'Cubiertos & Pitillos',\n",
       "       'Vasos', 'Sal & Sazonadores', 'Detergente, Jabón & Lavalozas',\n",
       "       'Frutas Jugo', 'Aguas', 'Gaseosas', 'Cerdo',\n",
       "       'Pescados & Mariscos Congelado', 'Pulpas de Fruta', 'Huevos',\n",
       "       'Café, Chocolate e Infusiones', 'Leches', 'Embutidos',\n",
       "       'Harinas & Mezclas', 'Pollo', 'Quesos', 'Cervezas & Licores',\n",
       "       'Enlatados', 'Alimentos Congelados', 'Bolsas',\n",
       "       'Empaque & Envoltura', 'Mantequillas', 'Implementos de Aseo',\n",
       "       'Complementos', 'Cremas', 'Platos & Bandejas',\n",
       "       'Panadería & Repostería', 'Derivados Lácteos', 'Dotación',\n",
       "       'Especias', 'Isotónicos', 'Tés', 'Mesa', 'Cristalería y Vajilla',\n",
       "       'Cuchillos y Cubertería', 'Utensilios de cocina',\n",
       "       'Ollas y Sartenes', 'Electro'], dtype=object)"
      ]
     },
     "execution_count": 59,
     "metadata": {},
     "output_type": "execute_result"
    }
   ],
   "source": [
    "data_ventas_df.subcat.unique()"
   ]
  },
  {
   "cell_type": "markdown",
   "metadata": {},
   "source": [
    "### Load the information in the next block"
   ]
  },
  {
   "cell_type": "code",
   "execution_count": null,
   "metadata": {},
   "outputs": [],
   "source": [
    "\"\"\"Here we should complete our data for each SH, important if we want to submit a subcategory SH offer, in SKUS we should put the skus into a list as this [[1,2,3]]\"\"\"\n",
    "offers_name = ['Granos']\n",
    "skus = [['367072','608005','367075','371215','367081','371221','367084','392584','392575']] #it should be the sku in string\n",
    "subcat = [['Verduras']] #people who buy the subcat - people who buy the skus above\n",
    "discount = [12]\n",
    "max_uses = [50]\n",
    "max_orders = [1]\n",
    "#////////////\n",
    "rango_IQ = [[0,100]]\n",
    "users = []"
   ]
  },
  {
   "cell_type": "code",
   "execution_count": null,
   "metadata": {},
   "outputs": [
    {
     "name": "stdout",
     "output_type": "stream",
     "text": [
      "[0, 90]\n",
      "Total users: 3509\n",
      "Total users: 3158\n",
      "[0, 85]\n",
      "Total users: 1292\n",
      "Total users: 1098\n",
      "[0, 90]\n",
      "Total users: 9006\n",
      "Total users: 8353\n"
     ]
    }
   ],
   "source": [
    "for j, sku in enumerate(skus):\n",
    "    range = rango_IQ[j]\n",
    "    print(range)\n",
    "    \n",
    "    if len(sku) == 0:\n",
    "        x = []\n",
    "        aux_data = data_ventas_df.loc[(~data_ventas_df['skus'].str.contains(sku[0], case=False)) & (data_ventas_df['subcat'].str.contains(subcat[j][0], case=False))]\n",
    "        x.append(list_users(aux_data,range))\n",
    "    else:\n",
    "        x = []\n",
    "        y = []\n",
    "        for i in sku:\n",
    "            aux_data = data_ventas_df.loc[(~data_ventas_df['skus'].str.contains(i, case=False)) & (data_ventas_df['subcat'].str.contains(subcat[j][0], case=False))]\n",
    "            y.append(aux_data)\n",
    "        aux_data_all = pd.concat(y)\n",
    "        aux_data_all = aux_data_all.groupby(by=['region_code','customer_id','category','subcat']).agg({\"gmv_usd\":np.sum, \"discount_applied\":np.sum, \"cant\": np.sum, \"order_id\":pd.Series.nunique}).reset_index()\n",
    "        x.append(list_users(aux_data_all,range))\n",
    "    users.append(x)"
   ]
  },
  {
   "cell_type": "markdown",
   "metadata": {},
   "source": [
    "# Generate CSV for Offers"
   ]
  },
  {
   "cell_type": "code",
   "execution_count": null,
   "metadata": {},
   "outputs": [],
   "source": [
    "global_segment_list = [] #//for procesing\n",
    "r= {}\n",
    "\n",
    "for i,offer in enumerate(offers_name):\n",
    "    id_list = users[i][0].tolist()\n",
    "    test = random.sample(list(id_list), int(len(id_list)*0.85))\n",
    "    control = [value for value in id_list if value not in test]\n",
    "    d = {'name':\"SH_\"+todays_date+\"_\"+city_code+\"_\"+offer, 'customersIds': list(test)}\n",
    "\n",
    "    r['CONTROL_'+\"SH_\"+todays_date+\"_\"+city_code+\"_\"+offer] = control\n",
    "    r['TEST_'+\"SH_\"+todays_date+\"_\"+city_code+\"_\"+offer] = test\n",
    "    \n",
    "    global_segment_list.append(d) \n",
    "\n",
    "df_test_control = pd.DataFrame.from_dict(r, orient='index').T"
   ]
  },
  {
   "cell_type": "code",
   "execution_count": null,
   "metadata": {},
   "outputs": [],
   "source": [
    "csv_file = {} \n",
    "csv_file['offer_name'] = [\"SH_\"+todays_date+\"_\"+city_code+\"_\"+x for x in offers_name]\n",
    "csv_file['offer_description'] = None\n",
    "csv_file['discount'] = discount\n",
    "csv_file['automatically_consider_offer'] = \"true\"\n",
    "csv_file['start_date'] = (datetime.datetime.today() + datetime.timedelta(days=dias)).strftime('%d-%m-%Y')\n",
    "csv_file['end_date'] = (datetime.datetime.today() + datetime.timedelta(days=(dias+7))).strftime('%d-%m-%Y')\n",
    "csv_file['max_uses_per_order'] = max_uses\n",
    "csv_file['max_uses_per_customer'] = max_orders\n",
    "csv_file['customer_segment_id'] = [1]*len(offers_name) #[None]\n",
    "csv_file['sku_id'] = [\"#\".join(s) for s in skus_offer(skus)]\n",
    "\n",
    "global_offer_csv = pd.DataFrame(csv_file) #, index=[0])"
   ]
  },
  {
   "cell_type": "code",
   "execution_count": null,
   "metadata": {},
   "outputs": [],
   "source": [
    "import requests\n",
    "import json\n",
    "\n",
    "url = f\"https://{city_code}.frubana.com/api/v1/segments/create?api-key=00_growth-team-zzz-qqq_001\"\n",
    "\n",
    "payload = json.dumps(global_segment_list)\n",
    "\n",
    "\n",
    "headers = {\n",
    "  'Cookie': 'AWSALB=WGKrKvA1CFOY0m92xSENGAseuE4LrcfQh9y8jK/loGBJdizNm+FvjOqUqVghxdfLkH6Jsa9sfWft2NELchGAP/LNZMXMYhrOE70qDnUuOHATpdJj1UZBMEUBSIN1; AWSALBCORS=WGKrKvA1CFOY0m92xSENGAseuE4LrcfQh9y8jK/loGBJdizNm+FvjOqUqVghxdfLkH6Jsa9sfWft2NELchGAP/LNZMXMYhrOE70qDnUuOHATpdJj1UZBMEUBSIN1; AWSALB=jLY02FPysvF1vTrKLhXbk3ibzmyiAqFJ1ezYVu5PjodkU2QmPHDpRJhb9CvOlOyQ1Ix0mJR1ig+eH9zwJ9i5EOtgsgx79NSROogQb2Ua6yLX/I3bJJ6xtcVO3puI; AWSALBCORS=jLY02FPysvF1vTrKLhXbk3ibzmyiAqFJ1ezYVu5PjodkU2QmPHDpRJhb9CvOlOyQ1Ix0mJR1ig+eH9zwJ9i5EOtgsgx79NSROogQb2Ua6yLX/I3bJJ6xtcVO3puI',\n",
    "  'Content-Type': 'application/json'\n",
    "}\n",
    "\n",
    "response = requests.request(\"POST\", url, headers=headers, data=payload)"
   ]
  },
  {
   "cell_type": "code",
   "execution_count": null,
   "metadata": {},
   "outputs": [],
   "source": [
    "sgt = [(int(x[:6]),x[7:]) for x in list(map(str.strip, response.text[32:].strip('][').replace('\"', '').split(',')))]"
   ]
  },
  {
   "cell_type": "code",
   "execution_count": null,
   "metadata": {},
   "outputs": [],
   "source": [
    "for i in global_offer_csv.offer_name:\n",
    "    for j,z in sgt:\n",
    "        if z==i:\n",
    "            global_offer_csv.loc[global_offer_csv.offer_name == i, ('customer_segment_id')] = j\n",
    "            break"
   ]
  },
  {
   "cell_type": "code",
   "execution_count": null,
   "metadata": {},
   "outputs": [
    {
     "data": {
      "text/html": [
       "<div>\n",
       "<style scoped>\n",
       "    .dataframe tbody tr th:only-of-type {\n",
       "        vertical-align: middle;\n",
       "    }\n",
       "\n",
       "    .dataframe tbody tr th {\n",
       "        vertical-align: top;\n",
       "    }\n",
       "\n",
       "    .dataframe thead th {\n",
       "        text-align: right;\n",
       "    }\n",
       "</style>\n",
       "<table border=\"1\" class=\"dataframe\">\n",
       "  <thead>\n",
       "    <tr style=\"text-align: right;\">\n",
       "      <th></th>\n",
       "      <th>offer_name</th>\n",
       "      <th>offer_description</th>\n",
       "      <th>discount</th>\n",
       "      <th>automatically_consider_offer</th>\n",
       "      <th>start_date</th>\n",
       "      <th>end_date</th>\n",
       "      <th>max_uses_per_order</th>\n",
       "      <th>max_uses_per_customer</th>\n",
       "      <th>customer_segment_id</th>\n",
       "      <th>sku_id</th>\n",
       "    </tr>\n",
       "  </thead>\n",
       "  <tbody>\n",
       "    <tr>\n",
       "      <th>0</th>\n",
       "      <td>SH_2022-11-18_BOG_Margarinas</td>\n",
       "      <td>None</td>\n",
       "      <td>10</td>\n",
       "      <td>true</td>\n",
       "      <td>19-11-2022</td>\n",
       "      <td>26-11-2022</td>\n",
       "      <td>15</td>\n",
       "      <td>2</td>\n",
       "      <td>94351</td>\n",
       "      <td>604437#531512#531509#531506#489263#489261#3332...</td>\n",
       "    </tr>\n",
       "    <tr>\n",
       "      <th>1</th>\n",
       "      <td>SH_2022-11-18_BOG_PapaF</td>\n",
       "      <td>None</td>\n",
       "      <td>8</td>\n",
       "      <td>true</td>\n",
       "      <td>19-11-2022</td>\n",
       "      <td>26-11-2022</td>\n",
       "      <td>20</td>\n",
       "      <td>2</td>\n",
       "      <td>94352</td>\n",
       "      <td>609655</td>\n",
       "    </tr>\n",
       "    <tr>\n",
       "      <th>2</th>\n",
       "      <td>SH_2022-11-18_BOG_Res</td>\n",
       "      <td>None</td>\n",
       "      <td>12</td>\n",
       "      <td>true</td>\n",
       "      <td>19-11-2022</td>\n",
       "      <td>26-11-2022</td>\n",
       "      <td>50</td>\n",
       "      <td>2</td>\n",
       "      <td>94353</td>\n",
       "      <td>419124#419101#419130</td>\n",
       "    </tr>\n",
       "  </tbody>\n",
       "</table>\n",
       "</div>"
      ],
      "text/plain": [
       "                     offer_name offer_description  discount  \\\n",
       "0  SH_2022-11-18_BOG_Margarinas              None        10   \n",
       "1       SH_2022-11-18_BOG_PapaF              None         8   \n",
       "2         SH_2022-11-18_BOG_Res              None        12   \n",
       "\n",
       "  automatically_consider_offer  start_date    end_date  max_uses_per_order  \\\n",
       "0                         true  19-11-2022  26-11-2022                  15   \n",
       "1                         true  19-11-2022  26-11-2022                  20   \n",
       "2                         true  19-11-2022  26-11-2022                  50   \n",
       "\n",
       "   max_uses_per_customer  customer_segment_id  \\\n",
       "0                      2                94351   \n",
       "1                      2                94352   \n",
       "2                      2                94353   \n",
       "\n",
       "                                              sku_id  \n",
       "0  604437#531512#531509#531506#489263#489261#3332...  \n",
       "1                                             609655  \n",
       "2                               419124#419101#419130  "
      ]
     },
     "execution_count": 67,
     "metadata": {},
     "output_type": "execute_result"
    }
   ],
   "source": [
    "global_offer_csv"
   ]
  },
  {
   "cell_type": "code",
   "execution_count": null,
   "metadata": {},
   "outputs": [],
   "source": [
    "#//--------------------------------------------\n",
    "#//Exporting single file data\n",
    "with open(f'SD/export_data/Below_Media/{city_code}/{todays_date}_penetration_{city_code}_All_SH.txt', 'w') as outfile:\n",
    "        json.dump(global_segment_list, outfile)"
   ]
  },
  {
   "cell_type": "code",
   "execution_count": null,
   "metadata": {},
   "outputs": [],
   "source": [
    "#//--------------------------------------------\n",
    "#//Exporting single file data\n",
    "global_offer_csv.to_csv(f'SD/export_data/Below_Media/{city_code}/{todays_date}_OFFER_csv_{city_code}_All_SH_penetration.csv', index = False)\n",
    "df_test_control.to_csv(f'SD/export_data/Below_Media/{city_code}/{todays_date}_CLIENTS_csv_{city_code}_All_SH_penetration.csv', index = False)"
   ]
  }
 ],
 "metadata": {
  "kernelspec": {
   "display_name": "Python 3 (ipykernel)",
   "language": "python",
   "name": "python3"
  },
  "orig_nbformat": 4,
  "vscode": {
   "interpreter": {
    "hash": "624741679a3ae5d99cecf49b8df5d516a7a937e6e7328e129d1fa121c8592e26"
   }
  }
 },
 "nbformat": 4,
 "nbformat_minor": 2
}
