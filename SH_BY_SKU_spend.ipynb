{
 "cells": [
  {
   "cell_type": "code",
   "execution_count": 1,
   "metadata": {},
   "outputs": [],
   "source": [
    "#//----------------------------\n",
    "#//LIBRARIES\n",
    "    #Math\n",
    "import math\n",
    "    #Numeric Python\n",
    "import numpy as np\n",
    "    #Pandas (dataframes)\n",
    "import pandas as pd\n",
    "    #datetime for fate manipulation\n",
    "from datetime import date, datetime, timedelta  \n",
    "    #Regex for advanced string matching\n",
    "import re\n",
    "    #for time related stuff\n",
    "import time\n",
    "    #json library\n",
    "import json\n",
    "    #Analyst tools\n",
    "import sys\n",
    "sys.path.append('../')\n",
    "from analysts_tools.growth import *\n",
    "    #Procurement tools\n",
    "from procurement_lib import send_slack_notification\n",
    "from procurement_lib import redash\n",
    "from analysts_tools.redash_methods import *\n",
    "\n",
    "import random\n",
    "import time\n",
    "import datetime"
   ]
  },
  {
   "cell_type": "code",
   "execution_count": 2,
   "metadata": {},
   "outputs": [],
   "source": [
    "#//---------------------------------------------------------------------------------------------------------------------------\n",
    "#// Parametros\n",
    "\n",
    "city_code = 'MDE'\n",
    "    \n",
    "#year-month-day\n",
    "todays_date = datetime.datetime.today().strftime('%Y-%m-%d')\n",
    "#non_buyers_date = '2022-08-26' #1 months\n",
    "customer_date_desde = (datetime.datetime.today() - datetime.timedelta(days=30)).strftime('%Y-%m-%d') #1 months\n",
    "    #data for sku sales data\n",
    "#sku_date_desde = '2022-06-26' #2 months\n",
    "\n",
    "dias = 0\n",
    "\n",
    "tasas = {'BOG': 3776,\n",
    "         'BAQ': 3776,\n",
    "         'MDE': 3776,\n",
    "         'CMX': 19.65,\n",
    "         'GDL': 19.65,\n",
    "         'PBC': 19.65,\n",
    "         'SPO': 4.75,\n",
    "         'BHZ': 4.75,\n",
    "         'CWB': 4.75,\n",
    "         'VCP': 4.75}\n",
    "\n",
    "t_cambio = tasas[city_code]"
   ]
  },
  {
   "cell_type": "markdown",
   "metadata": {},
   "source": [
    "### Loading COSTUMERS INFO"
   ]
  },
  {
   "cell_type": "code",
   "execution_count": 3,
   "metadata": {},
   "outputs": [
    {
     "name": "stdout",
     "output_type": "stream",
     "text": [
      "2595\n"
     ]
    }
   ],
   "source": [
    "#//--------------------------------------\n",
    "#//Ruta de data // KAM's costumers to delete\n",
    "#//KAMs customers me lo manda Emiliano Lomeli (SE ACTUALIZAN DE UN SCRIPT MES A MES)\n",
    "users_eliminar_kam = pd.read_csv(\"SD/import_data/segments/KAMs_JUL.csv\")['costumer_id'].unique().tolist()\n",
    "print(len(users_eliminar_kam))"
   ]
  },
  {
   "cell_type": "code",
   "execution_count": 4,
   "metadata": {},
   "outputs": [],
   "source": [
    "#Loading SELL'S DATA from a function\n",
    "data_ventas = data_ventas_query(ciudad=city_code, tipo_cambio=t_cambio, desde=customer_date_desde, hasta = todays_date, tipo_negocio=1)"
   ]
  },
  {
   "cell_type": "code",
   "execution_count": 5,
   "metadata": {},
   "outputs": [
    {
     "name": "stdout",
     "output_type": "stream",
     "text": [
      "200\n"
     ]
    }
   ],
   "source": [
    "frida_products = get_fresh_query_result(\"https://internal-redash.federate.frubana.com/\",48322,'SeoGHWmDUaaBi7VXje1s9zYNiMD1VHQ1K1DYOxiF',{},20)"
   ]
  },
  {
   "cell_type": "markdown",
   "metadata": {},
   "source": [
    "### PARAMETERS // SOME FUNCTIONS - GET READY TO PROCESSING"
   ]
  },
  {
   "cell_type": "code",
   "execution_count": 6,
   "metadata": {},
   "outputs": [
    {
     "data": {
      "text/plain": [
       "(71563, 19)"
      ]
     },
     "execution_count": 6,
     "metadata": {},
     "output_type": "execute_result"
    }
   ],
   "source": [
    "active_skus = frida_products[frida_products.status_frida == 'on'][\"sku_id\"].unique()\n",
    "data_ventas = data_ventas[data_ventas.sku_id.isin(active_skus)]\n",
    "\n",
    "data_ventas.shape"
   ]
  },
  {
   "cell_type": "code",
   "execution_count": 7,
   "metadata": {},
   "outputs": [],
   "source": [
    "data_ventas = data_ventas.groupby(by=['region_code','customer_id','category','subcat','padre_sku_id']).agg({\"name\":pd.Series.unique, \"gmv_usd\":np.sum, \"discount_applied\":np.sum, \"cant\": np.sum, \"order_id\":pd.Series.nunique}).reset_index()"
   ]
  },
  {
   "cell_type": "code",
   "execution_count": 8,
   "metadata": {},
   "outputs": [],
   "source": [
    "frida_products['sku_id'] = frida_products['sku_id'].astype(str)"
   ]
  },
  {
   "cell_type": "code",
   "execution_count": 9,
   "metadata": {},
   "outputs": [],
   "source": [
    "frida_products_clean = frida_products[(frida_products.status_frida == 'on') & (frida_products[\"ciudad::multiFilter\"] == city_code)].groupby(by= ['id_tarjeta']).apply(lambda x: '#'.join(x[\"sku_id\"].unique())).reset_index()\n",
    "frida_products_clean = frida_products_clean.rename(columns={0:'skus'})"
   ]
  },
  {
   "cell_type": "code",
   "execution_count": 10,
   "metadata": {},
   "outputs": [],
   "source": [
    "data_ventas_df = pd.merge(data_ventas,frida_products_clean, left_on='padre_sku_id', right_on='id_tarjeta')#.drop(columns = ['id_tarjeta'])"
   ]
  },
  {
   "cell_type": "code",
   "execution_count": 11,
   "metadata": {},
   "outputs": [],
   "source": [
    "def skus_offer(skus):\n",
    "    \n",
    "    skus_aux = [frida_products_clean.loc[frida_products_clean['skus'].str.contains(sk, case=False)]['skus'].to_list()[0] for sku in skus for sk in sku]\n",
    "    \n",
    "    a=[]*len(skus)\n",
    "    contador=0\n",
    "    contador2=0\n",
    "    for i,sku in enumerate(skus):\n",
    "        contador+= len(sku)\n",
    "        a.append(skus_aux[contador2:contador])\n",
    "        contador2+= len(sku)\n",
    "        \n",
    "    return a"
   ]
  },
  {
   "cell_type": "code",
   "execution_count": 12,
   "metadata": {},
   "outputs": [],
   "source": [
    "def list_users(data_ventas, rangos):\n",
    "    \"\"\"This function select the customer_ids of the clients who are between the range of gmv_usd\"\"\"\n",
    "    #data_ventas = data_ventas[data_ventas.subcat == subcat]\n",
    "    \n",
    "    total_users = data_ventas.customer_id.unique().tolist()\n",
    "    \n",
    "    print(f'Total users: {len(total_users)}')\n",
    "    \n",
    "    inferior, superior = np.percentile(data_ventas['gmv_usd'],rangos) #rango intercuartil entre los skus a tomar\n",
    "    \n",
    "    users = data_ventas[(data_ventas.gmv_usd>=inferior) & (data_ventas.gmv_usd<=superior)]['customer_id'].unique()\n",
    "    print(f'Total users: {len(users)}')\n",
    "    \n",
    "    return users"
   ]
  },
  {
   "cell_type": "code",
   "execution_count": 13,
   "metadata": {},
   "outputs": [],
   "source": [
    "def list_users(data_ventas, subcat, rangos):\n",
    "    \"\"\"This function select the customer_ids of the clients who are between the range of gmv_usd\"\"\"\n",
    "    data_ventas = data_ventas[data_ventas.subcat == subcat]\n",
    "    \n",
    "    total_users = data_ventas.customer_id.unique().tolist()\n",
    "    \n",
    "    print(f'Total users: {len(total_users)}')\n",
    "    \n",
    "    inferior, superior = np.percentile(data_ventas['gmv_usd'],rangos) #rango intercuartil entre los skus a tomar\n",
    "    \n",
    "    users = data_ventas[(data_ventas.gmv_usd>=inferior) & (data_ventas.gmv_usd<=superior)]['customer_id'].unique()\n",
    "    print(f'Total users: {len(users)}')\n",
    "    \n",
    "    return users"
   ]
  },
  {
   "cell_type": "markdown",
   "metadata": {},
   "source": [
    "# Customize Offers"
   ]
  },
  {
   "cell_type": "markdown",
   "metadata": {},
   "source": [
    "### Load the information in the next block"
   ]
  },
  {
   "cell_type": "code",
   "execution_count": 14,
   "metadata": {},
   "outputs": [],
   "source": [
    "\"\"\"Here we should complete our data for each SH, important if we want to submit a subcategory SH offer, in SKUS we should put the skus into a list as this [[1,2,3]]\"\"\"\n",
    "offers_name = ['Aceite']\n",
    "skus = [['570403']\n",
    "        #,['568617']\n",
    "        #,['588961','588963','588965','508901','242095']\n",
    "        #,['604761','604769','604765','604435','604433','604739','604755','604745','604771','604751','604757','604741','604743','604749','604763']\n",
    "        #,['71950','212521','327839','57791','57797','57803','57817','71944']\n",
    "        ] #it should be the sku in string\n",
    "discount = [10]\n",
    "max_uses = [10]\n",
    "max_orders = [2]\n",
    "#////////////\n",
    "rango_IQ = [[0,90]]\n",
    "users = []"
   ]
  },
  {
   "cell_type": "code",
   "execution_count": 15,
   "metadata": {},
   "outputs": [
    {
     "name": "stdout",
     "output_type": "stream",
     "text": [
      "[0, 90]\n",
      "Aceites & Grasas\n",
      "Total users: 2245\n",
      "Total users: 2046\n"
     ]
    }
   ],
   "source": [
    "for j, sku in enumerate(skus):\n",
    "    range = rango_IQ[j]\n",
    "    print(range)\n",
    "    \n",
    "    if len(sku) == 1:\n",
    "        x = []\n",
    "        aux_data = data_ventas_df.loc[data_ventas_df['skus'].str.contains(sku[0], case=False)]\n",
    "        \n",
    "        sub = data_ventas_df.loc[data_ventas_df['skus'].str.contains(sku[0], case=False)].subcat.unique()[0]\n",
    "        print(sub)\n",
    "        \n",
    "        x.append(list_users(data_ventas_df,sub,range))\n",
    "    else:\n",
    "        x = []\n",
    "        y = []\n",
    "        for i in sku:\n",
    "            aux_data = data_ventas_df.loc[data_ventas_df['skus'].str.contains(i, case=False)]\n",
    "            y.append(aux_data)\n",
    "        aux_data_all = pd.concat(y)\n",
    "        aux_data_all = aux_data_all.groupby(by=['region_code','customer_id','category','subcat']).agg({\"gmv_usd\":np.sum, \"discount_applied\":np.sum, \"cant\": np.sum, \"order_id\":pd.Series.nunique}).reset_index()\n",
    "        \n",
    "        sub = aux_data_all.subcat.unique()[0]\n",
    "        print(sub)\n",
    "        \n",
    "        x.append(list_users(data_ventas_df,sub,range))\n",
    "    users.append(x)"
   ]
  },
  {
   "cell_type": "markdown",
   "metadata": {},
   "source": [
    "# Generate CSV for Offers"
   ]
  },
  {
   "cell_type": "code",
   "execution_count": 16,
   "metadata": {},
   "outputs": [],
   "source": [
    "global_segment_list = [] #//for procesing\n",
    "r= {}\n",
    "\n",
    "for i,offer in enumerate(offers_name):\n",
    "    id_list = users[i][0].tolist()\n",
    "    test = random.sample(list(id_list), int(len(id_list)*0.85))\n",
    "    control = [value for value in id_list if value not in test]\n",
    "    d = {'name':\"SH_\"+todays_date+\"_\"+city_code+\"_\"+offer, 'customersIds': list(test)}\n",
    "\n",
    "    r['CONTROL_'+\"SH_\"+todays_date+\"_\"+city_code+\"_\"+offer] = control\n",
    "    r['TEST_'+\"SH_\"+todays_date+\"_\"+city_code+\"_\"+offer] = test\n",
    "    \n",
    "    global_segment_list.append(d) \n",
    "\n",
    "df_test_control = pd.DataFrame.from_dict(r, orient='index').T"
   ]
  },
  {
   "cell_type": "code",
   "execution_count": 17,
   "metadata": {},
   "outputs": [],
   "source": [
    "csv_file = {} \n",
    "csv_file['offer_name'] = [\"SH_\"+todays_date+\"_\"+city_code+\"_\"+x for x in offers_name]\n",
    "csv_file['offer_description'] = None\n",
    "csv_file['discount'] = discount\n",
    "csv_file['automatically_consider_offer'] = \"true\"\n",
    "csv_file['start_date'] = (datetime.datetime.today() + datetime.timedelta(days=dias)).strftime('%d-%m-%Y')\n",
    "csv_file['end_date'] = (datetime.datetime.today() + datetime.timedelta(days=(dias+7))).strftime('%d-%m-%Y')\n",
    "csv_file['max_uses_per_order'] = max_uses\n",
    "csv_file['max_uses_per_customer'] = max_orders\n",
    "csv_file['customer_segment_id'] = [1]*len(offers_name) #[None]\n",
    "csv_file['sku_id'] = [\"#\".join(s) for s in skus_offer(skus)]\n",
    "\n",
    "global_offer_csv = pd.DataFrame(csv_file) #, index=[0])"
   ]
  },
  {
   "cell_type": "code",
   "execution_count": 18,
   "metadata": {},
   "outputs": [],
   "source": [
    "import requests\n",
    "import json\n",
    "\n",
    "url = f\"https://{city_code}.frubana.com/api/v1/segments/create?api-key=00_growth-team-zzz-qqq_001\"\n",
    "\n",
    "payload = json.dumps(global_segment_list)\n",
    "\n",
    "\n",
    "headers = {\n",
    "  'Cookie': 'AWSALB=WGKrKvA1CFOY0m92xSENGAseuE4LrcfQh9y8jK/loGBJdizNm+FvjOqUqVghxdfLkH6Jsa9sfWft2NELchGAP/LNZMXMYhrOE70qDnUuOHATpdJj1UZBMEUBSIN1; AWSALBCORS=WGKrKvA1CFOY0m92xSENGAseuE4LrcfQh9y8jK/loGBJdizNm+FvjOqUqVghxdfLkH6Jsa9sfWft2NELchGAP/LNZMXMYhrOE70qDnUuOHATpdJj1UZBMEUBSIN1; AWSALB=jLY02FPysvF1vTrKLhXbk3ibzmyiAqFJ1ezYVu5PjodkU2QmPHDpRJhb9CvOlOyQ1Ix0mJR1ig+eH9zwJ9i5EOtgsgx79NSROogQb2Ua6yLX/I3bJJ6xtcVO3puI; AWSALBCORS=jLY02FPysvF1vTrKLhXbk3ibzmyiAqFJ1ezYVu5PjodkU2QmPHDpRJhb9CvOlOyQ1Ix0mJR1ig+eH9zwJ9i5EOtgsgx79NSROogQb2Ua6yLX/I3bJJ6xtcVO3puI',\n",
    "  'Content-Type': 'application/json'\n",
    "}\n",
    "\n",
    "response = requests.request(\"POST\", url, headers=headers, data=payload)"
   ]
  },
  {
   "cell_type": "code",
   "execution_count": 19,
   "metadata": {},
   "outputs": [],
   "source": [
    "sgt = [(int(x[:6]),x[7:]) for x in list(map(str.strip, response.text[32:].strip('][').replace('\"', '').split(',')))]"
   ]
  },
  {
   "cell_type": "code",
   "execution_count": 20,
   "metadata": {},
   "outputs": [],
   "source": [
    "for i in global_offer_csv.offer_name:\n",
    "    for j,z in sgt:\n",
    "        if z==i:\n",
    "            global_offer_csv.loc[global_offer_csv.offer_name == i, ('customer_segment_id')] = j\n",
    "            break"
   ]
  },
  {
   "cell_type": "code",
   "execution_count": 21,
   "metadata": {},
   "outputs": [
    {
     "data": {
      "text/html": [
       "<div>\n",
       "<style scoped>\n",
       "    .dataframe tbody tr th:only-of-type {\n",
       "        vertical-align: middle;\n",
       "    }\n",
       "\n",
       "    .dataframe tbody tr th {\n",
       "        vertical-align: top;\n",
       "    }\n",
       "\n",
       "    .dataframe thead th {\n",
       "        text-align: right;\n",
       "    }\n",
       "</style>\n",
       "<table border=\"1\" class=\"dataframe\">\n",
       "  <thead>\n",
       "    <tr style=\"text-align: right;\">\n",
       "      <th></th>\n",
       "      <th>offer_name</th>\n",
       "      <th>offer_description</th>\n",
       "      <th>discount</th>\n",
       "      <th>automatically_consider_offer</th>\n",
       "      <th>start_date</th>\n",
       "      <th>end_date</th>\n",
       "      <th>max_uses_per_order</th>\n",
       "      <th>max_uses_per_customer</th>\n",
       "      <th>customer_segment_id</th>\n",
       "      <th>sku_id</th>\n",
       "    </tr>\n",
       "  </thead>\n",
       "  <tbody>\n",
       "    <tr>\n",
       "      <th>0</th>\n",
       "      <td>SH_2023-01-10_MDE_Aceite</td>\n",
       "      <td>None</td>\n",
       "      <td>10</td>\n",
       "      <td>true</td>\n",
       "      <td>10-01-2023</td>\n",
       "      <td>17-01-2023</td>\n",
       "      <td>10</td>\n",
       "      <td>2</td>\n",
       "      <td>114551</td>\n",
       "      <td>570403</td>\n",
       "    </tr>\n",
       "  </tbody>\n",
       "</table>\n",
       "</div>"
      ],
      "text/plain": [
       "                 offer_name offer_description  discount  \\\n",
       "0  SH_2023-01-10_MDE_Aceite              None        10   \n",
       "\n",
       "  automatically_consider_offer  start_date    end_date  max_uses_per_order  \\\n",
       "0                         true  10-01-2023  17-01-2023                  10   \n",
       "\n",
       "   max_uses_per_customer  customer_segment_id  sku_id  \n",
       "0                      2               114551  570403  "
      ]
     },
     "execution_count": 21,
     "metadata": {},
     "output_type": "execute_result"
    }
   ],
   "source": [
    "global_offer_csv"
   ]
  },
  {
   "cell_type": "code",
   "execution_count": 22,
   "metadata": {},
   "outputs": [],
   "source": [
    "#//--------------------------------------------\n",
    "#//Exporting single file data\n",
    "with open(f'SD/export_data/Below_Media/{city_code}/{todays_date}_spend_{city_code}_All_SH.txt', 'w') as outfile:\n",
    "        json.dump(global_segment_list, outfile)"
   ]
  },
  {
   "cell_type": "code",
   "execution_count": 23,
   "metadata": {},
   "outputs": [],
   "source": [
    "#//--------------------------------------------\n",
    "#//Exporting single file data\n",
    "global_offer_csv.to_csv(f'SD/export_data/Below_Media/{city_code}/{todays_date}_OFFER_csv_{city_code}_All_SH.csv', index = False)\n",
    "df_test_control.to_csv(f'SD/export_data/Below_Media/{city_code}/{todays_date}_CLIENTS_csv_{city_code}_All_SH.csv', index = False)"
   ]
  }
 ],
 "metadata": {
  "kernelspec": {
   "display_name": "Python 3 (ipykernel)",
   "language": "python",
   "name": "python3"
  },
  "language_info": {
   "codemirror_mode": {
    "name": "ipython",
    "version": 3
   },
   "file_extension": ".py",
   "mimetype": "text/x-python",
   "name": "python",
   "nbconvert_exporter": "python",
   "pygments_lexer": "ipython3",
   "version": "3.7.9"
  },
  "orig_nbformat": 4,
  "vscode": {
   "interpreter": {
    "hash": "624741679a3ae5d99cecf49b8df5d516a7a937e6e7328e129d1fa121c8592e26"
   }
  }
 },
 "nbformat": 4,
 "nbformat_minor": 2
}
