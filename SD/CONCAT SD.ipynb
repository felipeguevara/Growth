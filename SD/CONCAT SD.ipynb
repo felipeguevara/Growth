{
 "cells": [
  {
   "cell_type": "code",
   "execution_count": 2,
   "id": "efe74275",
   "metadata": {},
   "outputs": [],
   "source": [
    "import pandas as pd\n",
    "\n",
    "def concat_csv(file_list):\n",
    "    df = pd.concat([pd.read_csv(f) for f in file_list])\n",
    "    return df"
   ]
  },
  {
   "cell_type": "markdown",
   "id": "66be0dba",
   "metadata": {},
   "source": [
    "# Aca se crea el csv conjunto"
   ]
  },
  {
   "cell_type": "code",
   "execution_count": 1,
   "id": "8a57bc9a",
   "metadata": {},
   "outputs": [],
   "source": [
    "file_list = ['RESULTS_SD_ROI_20231001%.csv',\n",
    "            'RESULTS_SD_ROI_20231101%.csv',\n",
    "            'RESULTS_SD_ROI_20231201%.csv',\n",
    "            'RESULTS_SD_ROI_20240101%.csv'\n",
    "            ]"
   ]
  },
  {
   "cell_type": "code",
   "execution_count": 3,
   "id": "01e5e979",
   "metadata": {},
   "outputs": [],
   "source": [
    "df = concat_csv(file_list)"
   ]
  },
  {
   "cell_type": "code",
   "execution_count": 4,
   "id": "2c59dab5",
   "metadata": {},
   "outputs": [],
   "source": [
    "df.to_excel(f\"all_sd.xlsx\",index=False)"
   ]
  },
  {
   "cell_type": "code",
   "execution_count": 5,
   "id": "70359870",
   "metadata": {},
   "outputs": [],
   "source": [
    "df.to_csv(f\"all_sd.csv\",index=False)"
   ]
  }
 ],
 "metadata": {
  "kernelspec": {
   "display_name": "Python 3",
   "language": "python",
   "name": "python3"
  },
  "language_info": {
   "codemirror_mode": {
    "name": "ipython",
    "version": 3
   },
   "file_extension": ".py",
   "mimetype": "text/x-python",
   "name": "python",
   "nbconvert_exporter": "python",
   "pygments_lexer": "ipython3",
   "version": "3.7.9"
  }
 },
 "nbformat": 4,
 "nbformat_minor": 5
}
