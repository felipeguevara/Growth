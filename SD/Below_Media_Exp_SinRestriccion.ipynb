{
 "cells": [
  {
   "cell_type": "code",
   "execution_count": 13,
   "metadata": {},
   "outputs": [],
   "source": [
    "#//----------------------------\n",
    "#//LIBRARIES\n",
    "    #Math\n",
    "import math\n",
    "    #Numeric Python\n",
    "import numpy as np\n",
    "    #Pandas (dataframes)\n",
    "import pandas as pd\n",
    "    #datetime for fate manipulation\n",
    "from datetime import date, datetime, timedelta  \n",
    "    #Regex for advanced string matching\n",
    "import re\n",
    "    #for time related stuff\n",
    "import time\n",
    "    #json library\n",
    "import json\n",
    "    #Analyst tools\n",
    "import sys\n",
    "sys.path.append('../')\n",
    "from analysts_tools.growth import *\n",
    "    #Procurement tools\n",
    "from procurement_lib import send_slack_notification\n",
    "from procurement_lib import redash\n",
    "from analysts_tools.redash_methods import *\n",
    "\n",
    "import random\n",
    "import time"
   ]
  },
  {
   "cell_type": "code",
   "execution_count": 14,
   "metadata": {},
   "outputs": [],
   "source": [
    "#//---------------------------------------------------------------------------------------------------------------------------\n",
    "#// Parametros\n",
    "\"\"\"Todays date should be the first day of the next month which is going to begin with SD\"\"\"\n",
    "city_code = 'BOG'\n",
    "    #year-month-day\n",
    "todays_date = '2022-08-20' \n",
    "#non_buyers_date = '2022-07-06' #1 months\n",
    "customer_date_desde = '2022-06-20' #3 months\n",
    "    #data for sku sales data\n",
    "#sku_date_desde = '2022-06-06' #2 months\n",
    "\n",
    "t_cambio = 3.88 #COL=3000 // MX=19.19 // BR=3.88"
   ]
  },
  {
   "cell_type": "markdown",
   "metadata": {},
   "source": [
    "### Loading DATA_VENTAS // Removing SKUs /\\ CUSTOMERS_ID"
   ]
  },
  {
   "cell_type": "code",
   "execution_count": 15,
   "metadata": {},
   "outputs": [],
   "source": [
    "query = \"\"\"\n",
    "SELECT DISTINCT\n",
    "    bo.submit_date,\n",
    "    TO_CHAR(bo.submit_date, 'YYYY-mm') AS month,\n",
    "    bo.order_id,\n",
    "    bo.customer_id,\n",
    "    boi.name,\n",
    "    (boi.quantity * foi.step_unit * boi.sale_price)/{tipo_cambio} as gmv_usd,\n",
    "    COALESCE((baid.adjustment_value * boip.quantity * foi.step_unit)/{tipo_cambio}, 0) as discount_applied,\n",
    "    COALESCE(foi.total_tax_iva/{tipo_cambio},0) as taxes,\n",
    "    boi.quantity* foi.step_unit as cant,\n",
    "    UPPER(fpro.unit) as unidades,\n",
    "    bs.sku_id,\n",
    "    bs.addl_product_id as padre_sku_id,\n",
    "    s.site_identifier_value as region_code,\n",
    "    CASE\n",
    "        WHEN COALESCE(bcat2.name, bcat.name) ILIKE 'Proteínas%' THEN 'Proteínas'\n",
    "        ELSE COALESCE(bcat2.name, bcat.name) \n",
    "    END AS category,\n",
    "    CASE\n",
    "        WHEN bcat.name ILIKE 'Pollo%' THEN 'Pollo'\n",
    "        WHEN bcat.name ILIKE 'Res%' THEN 'Res'\n",
    "        WHEN bcat.name ILIKE 'Cerdo%' THEN 'Cerdo'\n",
    "        ELSE bcat.name\n",
    "    END AS subcat,\n",
    "    baid.adjustment_reason\n",
    "FROM postgres_broadleaf_federate.\"broadleaf.blc_fulfillment_group_item\"     bfgi\n",
    "INNER JOIN postgres_broadleaf_federate.\"broadleaf.blc_fulfillment_group\"    bfg        ON bfgi.fulfillment_group_id = bfg.fulfillment_group_id\n",
    "INNER JOIN postgres_broadleaf_federate.\"broadleaf.fb_fulfillment_group\"     ffg        ON ffg.fulfillment_group_id = bfg.fulfillment_group_id\n",
    "INNER JOIN postgres_broadleaf_federate.\"broadleaf.blc_order\"                bo         ON bo.order_id = bfg.order_id\n",
    "INNER JOIN postgres_broadleaf_federate.\"broadleaf.blc_site\"                 s          ON bo.site_disc = s.site_id\n",
    "INNER JOIN postgres_broadleaf_federate.\"broadleaf.blc_order_item\"           boi        ON bfgi.order_item_id= boi.order_item_id\n",
    "INNER JOIN postgres_broadleaf_federate.\"broadleaf.fb_order_item\"            foi        ON boi.order_item_id= foi.order_item_id\n",
    "INNER JOIN postgres_broadleaf_federate.\"broadleaf.fb_owner\"                 fow        ON fow.owner_id = ffg.owner_id\n",
    "INNER JOIN postgres_broadleaf_federate.\"broadleaf.fb_order\"                 fo         ON fo.order_id = bo.order_id\n",
    "INNER JOIN postgres_broadleaf_federate.\"broadleaf.blc_fulfillment_order\"    bfo        ON bfo.fulfillment_group_id= bfg.fulfillment_group_id\n",
    "INNER JOIN postgres_broadleaf_federate.\"broadleaf.blc_discrete_order_item\"  bdoi       ON bdoi.order_item_id = boi.order_item_id\n",
    "INNER JOIN postgres_broadleaf_federate.\"broadleaf.blc_sku\"                  bs         ON bs.sku_id = bdoi.sku_id\n",
    "INNER JOIN postgres_broadleaf_federate.\"broadleaf.blc_product\"              bp         ON bs.addl_product_id = bp.product_id\n",
    "INNER JOIN postgres_broadleaf_federate.\"broadleaf.blc_category\"             bcat       ON bcat.category_id = bp.default_category_id\n",
    "INNER JOIN postgres_broadleaf_federate.\"broadleaf.fb_product\"               fpro       ON fpro.product_id = bp.product_id\n",
    "LEFT JOIN  postgres_broadleaf_federate.\"broadleaf.blc_order_payment\"        bop        ON bop.order_id = bo.order_id\n",
    "LEFT JOIN  postgres_broadleaf_federate.\"broadleaf.fb_order_type\"            fot        ON fot.fb_order_type_id=fo.fb_order_type_id\n",
    "LEFT JOIN  postgres_broadleaf_federate.\"broadleaf.fb_customer\"              fc         ON fc.customer_id = bo.customer_id\n",
    "LEFT JOIN  postgres_broadleaf_federate.\"broadleaf.fb_business_type\"         bt         ON fc.business_type_id = bt.business_type_id\n",
    "LEFT JOIN  postgres_broadleaf_federate.\"broadleaf.blc_category_xref\"        bcx        ON bcx.sub_category_id = bp.default_category_id AND bcx.archived='N' AND bcx.sndbx_tier is NULL\n",
    "LEFT JOIN postgres_broadleaf_federate.\"broadleaf.blc_category\"             bcat2      ON bcx.category_id = bcat2.category_id\n",
    "LEFT JOIN postgres_broadleaf_federate.\"broadleaf.blc_order_item_price_dtl\"  boip       ON  boi.order_item_id = boip.order_item_id\n",
    "LEFT JOIN postgres_broadleaf_federate.\"broadleaf.blc_order_item_dtl_adj\"    baid       ON  baid.order_item_price_dtl_id = boip.order_item_price_dtl_id\n",
    "\n",
    "WHERE \n",
    "   DATE(bo.submit_date) between '{desde}' AND '{hasta}'\n",
    "   AND bo.order_status='SUBMITTED'\n",
    "   AND fo.fb_order_status_id IN (1,6,7,8) \n",
    "   AND s.site_identifier_value IN ('{ciudad}')\n",
    "   AND bfo.status NOT IN ('ARCHIVED','CANCELLED')\n",
    "   AND bop.archived = 'N'\n",
    "   AND (fot.name IS NULL OR fot.name <> 'REFUND')\n",
    "   AND fc.business_type_id IN (1)\n",
    "   -- FIX SUPER DESCUENTOS\n",
    "   AND bcat2.category_id not in ('110873','-1000','100768','100765','100815') --ids de super descuentos en cada país\n",
    "   AND bcat.name <> 'Oferton Frubana' AND bcat2.name <> 'Oferton Frubana'\n",
    "\"\"\".format(tipo_cambio=t_cambio, desde=customer_date_desde, hasta=todays_date, ciudad=city_code)\n",
    "\n",
    "data_ventas = read_connection_data_warehouse.runQuery(query)\n",
    "data_ventas[[\"gmv_usd\", \"cant\"]] = data_ventas[[\"gmv_usd\", \"cant\"]].astype(float)\n",
    "data_ventas[\"submit_date\"] = pd.to_datetime(data_ventas[\"submit_date\"])"
   ]
  },
  {
   "cell_type": "code",
   "execution_count": 26,
   "metadata": {},
   "outputs": [],
   "source": [
    "import random\n",
    "\n",
    "a = data_ventas[data_ventas.category == 'Frutas & Verduras']['customer_id'].unique()\n",
    "test = random.sample(list(a), int(len(a)*0.7))\n",
    "control = [value for value in a if value not in test]"
   ]
  },
  {
   "cell_type": "code",
   "execution_count": 27,
   "metadata": {},
   "outputs": [],
   "source": [
    "skus = [-300324,-300327,-300330,58813,-303252,-303249,-300531,98138,-303339,59130,-303432,59132,-303342,-303354]"
   ]
  },
  {
   "cell_type": "code",
   "execution_count": 28,
   "metadata": {},
   "outputs": [],
   "source": [
    "skus_offer = \"#\".join([str(x) for x in skus])"
   ]
  },
  {
   "cell_type": "code",
   "execution_count": 29,
   "metadata": {},
   "outputs": [
    {
     "data": {
      "text/plain": [
       "'-300324#-300327#-300330#58813#-303252#-303249#-300531#98138#-303339#59130#-303432#59132#-303342#-303354'"
      ]
     },
     "execution_count": 29,
     "metadata": {},
     "output_type": "execute_result"
    }
   ],
   "source": [
    "skus_offer"
   ]
  },
  {
   "cell_type": "code",
   "execution_count": 30,
   "metadata": {},
   "outputs": [],
   "source": [
    "global_segment_list = [{'name':'20220819_BOG_experiment_SinRestriccion', 'customersIds': list([int(x) for x in test])}]"
   ]
  },
  {
   "cell_type": "code",
   "execution_count": 31,
   "metadata": {},
   "outputs": [],
   "source": [
    "csv_file = {} \n",
    "csv_file['offer_name'] = '20220819_BOG_experiment_SinRestriccion'\n",
    "csv_file['offer_description'] = None\n",
    "csv_file['discount'] = 11\n",
    "csv_file['automatically_consider_offer'] = \"true\"\n",
    "csv_file['start_date'] = '20-08-2022'\n",
    "csv_file['end_date'] = '28-08-2022'\n",
    "csv_file['max_uses_per_order'] = None\n",
    "csv_file['max_uses_per_customer'] = None\n",
    "csv_file['customer_segment_id'] = None\n",
    "csv_file['sku_id'] = skus_offer\n",
    "global_offer_csv = pd.DataFrame(csv_file, index=[0])\n",
    "\n",
    "\n",
    "r = {}\n",
    "r['CONTROL_'+'20220819_BOG_experiment_SinRestriccion'] = control\n",
    "r['TEST_'+'20220819_BOG_experiment_SinRestriccion'] = test\n",
    "\n",
    "df_test_control = pd.DataFrame.from_dict(r, orient='index').T"
   ]
  },
  {
   "cell_type": "code",
   "execution_count": 34,
   "metadata": {},
   "outputs": [
    {
     "name": "stdout",
     "output_type": "stream",
     "text": [
      "SD/Done BOG\n"
     ]
    }
   ],
   "source": [
    "# #//--------------------------------------------\n",
    "# #//Exporting single file data\n",
    "global_offer_csv.to_csv(f'SD/export_data/Below_Media/{todays_date}_csv_{city_code}_OFFER_experiment_SinRestriccion.csv', index = False)\n",
    "df_test_control.to_csv(f'SD/export_data/Below_Media/{todays_date}_csv_{city_code}_CLIENTS_experiment_SinRestriccion.csv', index = False)\n",
    "\n",
    "with open(f'SD/export_data/Below_Media/{todays_date}_nb_{city_code}_experiment_SinRestriccion.txt', 'w') as outfile:\n",
    "        json.dump(global_segment_list, outfile)    \n",
    "with open(f'SD/export_data/Below_Media/{todays_date}_nb_{city_code}_experiment_SinRestriccion.json', 'w') as outfile:\n",
    "        json.dump(global_segment_list, outfile)\n",
    "print(f'SD/Done {city_code}')"
   ]
  }
 ],
 "metadata": {
  "kernelspec": {
   "display_name": "Python 3 (ipykernel)",
   "language": "python",
   "name": "python3"
  }
 },
 "nbformat": 4,
 "nbformat_minor": 4
}
