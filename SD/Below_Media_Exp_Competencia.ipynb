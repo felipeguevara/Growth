{
 "cells": [
  {
   "cell_type": "code",
   "execution_count": 94,
   "metadata": {},
   "outputs": [],
   "source": [
    "#//----------------------------\n",
    "#//LIBRARIES\n",
    "    #Math\n",
    "import math\n",
    "    #Numeric Python\n",
    "import numpy as np\n",
    "    #Pandas (dataframes)\n",
    "import pandas as pd\n",
    "    #datetime for fate manipulation\n",
    "from datetime import date, datetime, timedelta  \n",
    "    #Regex for advanced string matching\n",
    "import re\n",
    "    #for time related stuff\n",
    "import time\n",
    "    #json library\n",
    "import json\n",
    "    #Analyst tools\n",
    "import sys\n",
    "sys.path.append('../')\n",
    "from analysts_tools.growth import *\n",
    "    #Procurement tools\n",
    "from procurement_lib import send_slack_notification\n",
    "from procurement_lib import redash\n",
    "from analysts_tools.redash_methods import *\n",
    "\n",
    "import random\n",
    "import time"
   ]
  },
  {
   "cell_type": "code",
   "execution_count": 95,
   "metadata": {},
   "outputs": [],
   "source": [
    "#//---------------------------------------------------------------------------------------------------------------------------\n",
    "#// Parametros\n",
    "\"\"\"Todays date should be the first day of the next month which is going to begin with SD\"\"\"\n",
    "city_code = 'BOG'\n",
    "    #year-month-day\n",
    "todays_date = '2022-08-06' \n",
    "#non_buyers_date = '2022-07-06' #1 months\n",
    "customer_date_desde = '2022-05-06' #1 months\n",
    "    #data for sku sales data\n",
    "#sku_date_desde = '2022-06-06' #2 months\n",
    "\n",
    "t_cambio = 3000 #COL=3000 // MX=19.19 // BR=3.88"
   ]
  },
  {
   "cell_type": "markdown",
   "metadata": {},
   "source": [
    "### Loading DATA_VENTAS // Removing SKUs /\\ CUSTOMERS_ID"
   ]
  },
  {
   "cell_type": "code",
   "execution_count": 96,
   "metadata": {},
   "outputs": [],
   "source": [
    "#Loading SELL'S DATA from a function\n",
    "data_ventas = data_ventas_query(ciudad=city_code, tipo_cambio=t_cambio, desde=customer_date_desde, hasta = todays_date, tipo_negocio=1)"
   ]
  },
  {
   "cell_type": "code",
   "execution_count": 97,
   "metadata": {},
   "outputs": [],
   "source": [
    "data_ventas = data_ventas.loc[data_ventas['name'].str.contains(\"j1\", case=False)]"
   ]
  },
  {
   "cell_type": "code",
   "execution_count": 98,
   "metadata": {},
   "outputs": [],
   "source": [
    "data_ventas_j1_darnel = data_ventas.loc[data_ventas['name'].str.contains(\"darnel\", case=False)]\n",
    "data_ventas_j1_wau = data_ventas.loc[data_ventas['name'].str.contains(\"wau\", case=False)]"
   ]
  },
  {
   "cell_type": "code",
   "execution_count": 99,
   "metadata": {},
   "outputs": [],
   "source": [
    "clientes_darnel = set(data_ventas_j1_darnel.customer_id.unique())\n",
    "clientes_wau = set(data_ventas_j1_wau.customer_id.unique())\n",
    "clientes_offer = clientes_darnel.difference(clientes_wau)"
   ]
  },
  {
   "cell_type": "code",
   "execution_count": 100,
   "metadata": {},
   "outputs": [],
   "source": [
    "# import random \n",
    "import random"
   ]
  },
  {
   "cell_type": "code",
   "execution_count": 101,
   "metadata": {},
   "outputs": [],
   "source": [
    "control = random.sample(clientes_offer, int(len(clientes_offer)*0.2))\n",
    "test = clientes_offer.difference(control)"
   ]
  },
  {
   "cell_type": "code",
   "execution_count": 102,
   "metadata": {},
   "outputs": [
    {
     "name": "stdout",
     "output_type": "stream",
     "text": [
      "3188 797 3985\n"
     ]
    }
   ],
   "source": [
    "print(len(test), len(control), len(clientes_offer))"
   ]
  },
  {
   "cell_type": "code",
   "execution_count": 103,
   "metadata": {},
   "outputs": [
    {
     "data": {
      "text/html": [
       "<div>\n",
       "<style scoped>\n",
       "    .dataframe tbody tr th:only-of-type {\n",
       "        vertical-align: middle;\n",
       "    }\n",
       "\n",
       "    .dataframe tbody tr th {\n",
       "        vertical-align: top;\n",
       "    }\n",
       "\n",
       "    .dataframe thead th {\n",
       "        text-align: right;\n",
       "    }\n",
       "</style>\n",
       "<table border=\"1\" class=\"dataframe\">\n",
       "  <thead>\n",
       "    <tr style=\"text-align: right;\">\n",
       "      <th></th>\n",
       "      <th>name</th>\n",
       "      <th>gmv_usd</th>\n",
       "      <th>customer_id</th>\n",
       "      <th>cant</th>\n",
       "    </tr>\n",
       "  </thead>\n",
       "  <tbody>\n",
       "    <tr>\n",
       "      <th>0</th>\n",
       "      <td>Contenedor J1 Darnel  Paquete por 200 unidades...</td>\n",
       "      <td>18362.078778</td>\n",
       "      <td>390</td>\n",
       "      <td>895.98</td>\n",
       "    </tr>\n",
       "    <tr>\n",
       "      <th>1</th>\n",
       "      <td>Contenedor J1 Darnel  Paquete x 20 unidades - ...</td>\n",
       "      <td>2071.409645</td>\n",
       "      <td>257</td>\n",
       "      <td>849.00</td>\n",
       "    </tr>\n",
       "    <tr>\n",
       "      <th>2</th>\n",
       "      <td>Contenedor J1 Darnel  Paquete x 200 un - Paquete</td>\n",
       "      <td>23642.689567</td>\n",
       "      <td>420</td>\n",
       "      <td>1129.98</td>\n",
       "    </tr>\n",
       "    <tr>\n",
       "      <th>3</th>\n",
       "      <td>Contenedor J1 Kangupor x 200 und  Paquete x 20...</td>\n",
       "      <td>1506.448664</td>\n",
       "      <td>55</td>\n",
       "      <td>72.50</td>\n",
       "    </tr>\n",
       "    <tr>\n",
       "      <th>4</th>\n",
       "      <td>Contenedor J1 Kangupor x 200 und  Paquete x 20...</td>\n",
       "      <td>350.407000</td>\n",
       "      <td>4</td>\n",
       "      <td>17.00</td>\n",
       "    </tr>\n",
       "  </tbody>\n",
       "</table>\n",
       "</div>"
      ],
      "text/plain": [
       "                                                name       gmv_usd  \\\n",
       "0  Contenedor J1 Darnel  Paquete por 200 unidades...  18362.078778   \n",
       "1  Contenedor J1 Darnel  Paquete x 20 unidades - ...   2071.409645   \n",
       "2   Contenedor J1 Darnel  Paquete x 200 un - Paquete  23642.689567   \n",
       "3  Contenedor J1 Kangupor x 200 und  Paquete x 20...   1506.448664   \n",
       "4  Contenedor J1 Kangupor x 200 und  Paquete x 20...    350.407000   \n",
       "\n",
       "   customer_id     cant  \n",
       "0          390   895.98  \n",
       "1          257   849.00  \n",
       "2          420  1129.98  \n",
       "3           55    72.50  \n",
       "4            4    17.00  "
      ]
     },
     "execution_count": 103,
     "metadata": {},
     "output_type": "execute_result"
    }
   ],
   "source": [
    "data_ventas[data_ventas['customer_id'].isin(control)].groupby(by=['name']).agg({'gmv_usd':np.sum, 'customer_id':pd.Series.nunique, 'cant':np.sum}).reset_index()"
   ]
  },
  {
   "cell_type": "code",
   "execution_count": 104,
   "metadata": {},
   "outputs": [
    {
     "data": {
      "text/html": [
       "<div>\n",
       "<style scoped>\n",
       "    .dataframe tbody tr th:only-of-type {\n",
       "        vertical-align: middle;\n",
       "    }\n",
       "\n",
       "    .dataframe tbody tr th {\n",
       "        vertical-align: top;\n",
       "    }\n",
       "\n",
       "    .dataframe thead th {\n",
       "        text-align: right;\n",
       "    }\n",
       "</style>\n",
       "<table border=\"1\" class=\"dataframe\">\n",
       "  <thead>\n",
       "    <tr style=\"text-align: right;\">\n",
       "      <th></th>\n",
       "      <th>name</th>\n",
       "      <th>gmv_usd</th>\n",
       "      <th>customer_id</th>\n",
       "      <th>cant</th>\n",
       "    </tr>\n",
       "  </thead>\n",
       "  <tbody>\n",
       "    <tr>\n",
       "      <th>0</th>\n",
       "      <td>Contenedor J1 Darnel  Paquete por 200 unidades...</td>\n",
       "      <td>75312.663515</td>\n",
       "      <td>1608</td>\n",
       "      <td>3677.02</td>\n",
       "    </tr>\n",
       "    <tr>\n",
       "      <th>1</th>\n",
       "      <td>Contenedor J1 Darnel  Paquete x 20 unidades - ...</td>\n",
       "      <td>9010.529572</td>\n",
       "      <td>1054</td>\n",
       "      <td>3690.19</td>\n",
       "    </tr>\n",
       "    <tr>\n",
       "      <th>2</th>\n",
       "      <td>Contenedor J1 Darnel  Paquete x 200 un - Paquete</td>\n",
       "      <td>81687.244657</td>\n",
       "      <td>1660</td>\n",
       "      <td>3904.26</td>\n",
       "    </tr>\n",
       "    <tr>\n",
       "      <th>3</th>\n",
       "      <td>Contenedor J1 Kangupor x 200 und  Paquete x 20...</td>\n",
       "      <td>7183.396156</td>\n",
       "      <td>231</td>\n",
       "      <td>345.50</td>\n",
       "    </tr>\n",
       "    <tr>\n",
       "      <th>4</th>\n",
       "      <td>Contenedor J1 Kangupor x 200 und  Paquete x 20...</td>\n",
       "      <td>2144.475333</td>\n",
       "      <td>24</td>\n",
       "      <td>104.00</td>\n",
       "    </tr>\n",
       "  </tbody>\n",
       "</table>\n",
       "</div>"
      ],
      "text/plain": [
       "                                                name       gmv_usd  \\\n",
       "0  Contenedor J1 Darnel  Paquete por 200 unidades...  75312.663515   \n",
       "1  Contenedor J1 Darnel  Paquete x 20 unidades - ...   9010.529572   \n",
       "2   Contenedor J1 Darnel  Paquete x 200 un - Paquete  81687.244657   \n",
       "3  Contenedor J1 Kangupor x 200 und  Paquete x 20...   7183.396156   \n",
       "4  Contenedor J1 Kangupor x 200 und  Paquete x 20...   2144.475333   \n",
       "\n",
       "   customer_id     cant  \n",
       "0         1608  3677.02  \n",
       "1         1054  3690.19  \n",
       "2         1660  3904.26  \n",
       "3          231   345.50  \n",
       "4           24   104.00  "
      ]
     },
     "execution_count": 104,
     "metadata": {},
     "output_type": "execute_result"
    }
   ],
   "source": [
    "data_ventas[data_ventas['customer_id'].isin(test)].groupby(by=['name']).agg({'gmv_usd':np.sum, 'customer_id':pd.Series.nunique, 'cant':np.sum}).reset_index()"
   ]
  },
  {
   "cell_type": "code",
   "execution_count": 105,
   "metadata": {},
   "outputs": [],
   "source": [
    "dict_clients = {'clientes': list(clientes_offer)}\n",
    "df_clients = pd.DataFrame(dict_clients)\n",
    "dict_control = {'control': list(control)}\n",
    "df_control = pd.DataFrame(dict_control)\n",
    "dict_test = {'test': list(test)}\n",
    "df_test = pd.DataFrame(dict_test)"
   ]
  },
  {
   "cell_type": "code",
   "execution_count": 106,
   "metadata": {},
   "outputs": [],
   "source": [
    "global_segment_list = [{'name':'20220806_BOG_all_Spend_differences_J1', 'customersIds': list([int(x) for x in test])}]"
   ]
  },
  {
   "cell_type": "code",
   "execution_count": 107,
   "metadata": {},
   "outputs": [],
   "source": [
    "csv_file = {} \n",
    "csv_file['offer_name'] = '20220806_BOG_all_Spend_differences_J1'\n",
    "csv_file['offer_description'] = None\n",
    "csv_file['discount'] = 7\n",
    "csv_file['automatically_consider_offer'] = \"true\"\n",
    "csv_file['start_date'] = todays_date\n",
    "csv_file['end_date'] = '2022-08-13'\n",
    "csv_file['max_uses_per_order'] = 4\n",
    "csv_file['max_uses_per_customer'] = 1\n",
    "csv_file['customer_segment_id'] = None\n",
    "csv_file['sku_id'] = 57791\n",
    "global_offer_csv = pd.DataFrame(csv_file, index=[0])\n"
   ]
  },
  {
   "cell_type": "code",
   "execution_count": 108,
   "metadata": {},
   "outputs": [
    {
     "name": "stdout",
     "output_type": "stream",
     "text": [
      "SD/Done BOG\n"
     ]
    }
   ],
   "source": [
    "# #//--------------------------------------------\n",
    "# #//Exporting single file data\n",
    "global_offer_csv.to_csv(f'SD/export_data/Below_Media/csv_{city_code}_All_MS_J1.csv', index = False)\n",
    "\n",
    "df_clients.to_csv(f'SD/export_data/Below_Media/csv_{city_code}_clientes_offer_J1.csv', index = False)\n",
    "df_control.to_csv(f'SD/export_data/Below_Media/csv_{city_code}_control_J1.csv', index = False)\n",
    "df_test.to_csv(f'SD/export_data/Below_Media/csv_{city_code}_test_J1.csv', index = False)\n",
    "\n",
    "\n",
    "with open(f'SD/export_data/Below_Media/nb_{city_code}_All_MS_J1.txt', 'w') as outfile:\n",
    "        json.dump(global_segment_list, outfile)    \n",
    "with open(f'SD/export_data/Below_Media/nb_{city_code}_All_MS_J1.json', 'w') as outfile:\n",
    "        json.dump(global_segment_list, outfile)\n",
    "print(f'SD/Done {city_code}')"
   ]
  }
 ],
 "metadata": {
  "kernelspec": {
   "display_name": "Python 3 (ipykernel)",
   "language": "python",
   "name": "python3"
  }
 },
 "nbformat": 4,
 "nbformat_minor": 4
}
