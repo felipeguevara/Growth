{
 "cells": [
  {
   "cell_type": "code",
   "execution_count": 71,
   "metadata": {},
   "outputs": [],
   "source": [
    "import numpy as np\n",
    "import pandas as pd\n",
    "from datetime import date, datetime, timedelta \n",
    "import re    \n",
    "import json    \n",
    "import time\n",
    "import sys\n",
    "sys.path.append('../')\n",
    "from analysts_tools.growth import *\n",
    "from analysts_tools.frucap import *\n",
    "from analysts_tools.Clusters_querys import *\n",
    "from analysts_tools.whitelist_functions import *\n",
    "\n",
    "from procurement_lib import send_slack_notification\n",
    "from procurement_lib import DataWarehouse, GoogleSheet\n",
    "from analystcommunity import frubana_logger as logging\n",
    "import logging as pylogging\n",
    "import warnings\n",
    "import pytz\n",
    "from nltk.tokenize import word_tokenize\n",
    "from nltk.corpus import stopwords\n",
    "from nltk import ngrams\n",
    "from nltk.stem import WordNetLemmatizer\n",
    "from nltk import wordnet\n",
    "from fuzzywuzzy import process\n",
    "from fuzzywuzzy import fuzz\n",
    "import nltk\n",
    "from collections import Counter\n",
    "from itertools import chain\n",
    "import itertools\n",
    "from itertools import repeat\n",
    "import math\n",
    "from procurement_lib import redash\n",
    "\n",
    "dw = DataWarehouse()\n",
    "#warnings.filterwarnings(\"ignore\")\n",
    "\n",
    "from procurement_lib import redash\n",
    "from analysts_tools.redash_methods import *"
   ]
  },
  {
   "cell_type": "markdown",
   "metadata": {},
   "source": [
    "# Parameters and load queries"
   ]
  },
  {
   "cell_type": "code",
   "execution_count": 72,
   "metadata": {},
   "outputs": [],
   "source": [
    "#//---------------------------------------------------------------------------------------------------------------------------\n",
    "#// Parametros\n",
    "todays_date = '2022-07-31'  \n",
    "customer_date_desde = '2022-07-01' #3 months"
   ]
  },
  {
   "cell_type": "code",
   "execution_count": 73,
   "metadata": {},
   "outputs": [],
   "source": [
    "query = \"\"\"\n",
    "    WITH \n",
    "    count_fulfillments_pasados AS (\n",
    "        SELECT \n",
    "            count(distinct boi.order_item_id) as count_items,\n",
    "            bfg.order_id\n",
    "        FROM postgres_broadleaf_federate.\"broadleaf.blc_fulfillment_group\"              bfg\n",
    "        LEFT JOIN postgres_broadleaf_federate.\"broadleaf.blc_order\"                     bo      ON bo.order_id = bfg.order_id\n",
    "        LEFT JOIN postgres_broadleaf_federate.\"broadleaf.fb_fulfillment_group\"          ffg     ON bfg.fulfillment_group_id = ffg.fulfillment_group_id\n",
    "        LEFT JOIN postgres_broadleaf_federate.\"broadleaf.blc_fulfillment_order\"         bfo     ON bfg.fulfillment_group_id = bfo.fulfillment_group_id\n",
    "        LEFT JOIN postgres_broadleaf_federate.\"broadleaf.blc_order_payment\"             bop     ON bop.order_id = bo.order_id\n",
    "        LEFT JOIN postgres_broadleaf_federate.\"broadleaf.fb_order\"                      fo      ON fo.order_id = bo.order_id\n",
    "        INNER JOIN postgres_broadleaf_federate.\"broadleaf.blc_site\"                     s       ON bo.site_disc = s.site_id\n",
    "        LEFT JOIN  postgres_broadleaf_federate.\"broadleaf.fb_order_type\"                fot     ON fot.fb_order_type_id=fo.fb_order_type_id\n",
    "        INNER JOIN postgres_broadleaf_federate.\"broadleaf.blc_fulfillment_group_item\"   bfgi    ON bfgi.fulfillment_group_id = bfg.fulfillment_group_id\n",
    "        INNER JOIN postgres_broadleaf_federate.\"broadleaf.blc_order_item\"               boi     ON bfgi.order_item_id= boi.order_item_id\n",
    "        \n",
    "        WHERE      \n",
    "            ffg.close_date >= '{desde}' AND ffg.close_date <= '{hasta}'\n",
    "            AND bo.order_status='SUBMITTED'\n",
    "            AND bfo.status NOT IN ('ARCHIVED','CANCELLED')\n",
    "            AND fo.fb_order_status_id IN (1,6,7,8)\n",
    "            AND bop.archived = 'N'\n",
    "            AND (fot.name IS NULL OR fot.name <> 'REFUND')\n",
    "        GROUP BY 2\n",
    "    ),\n",
    "\n",
    "    ful as (\n",
    "\n",
    "        SELECT DISTINCT\n",
    "            bo.order_id,\n",
    "            ffg.close_date\n",
    "            \n",
    "        FROM postgres_broadleaf_federate.\"broadleaf.blc_order\"                      bo\n",
    "        INNER JOIN postgres_broadleaf_federate.\"broadleaf.blc_fulfillment_group\"    bfg ON bfg.order_id = bo.order_id\n",
    "        INNER JOIN postgres_broadleaf_federate.\"broadleaf.blc_fulfillment_order\"    bfo ON bfo.fulfillment_group_id = bfg.fulfillment_group_id\n",
    "        INNER JOIN postgres_broadleaf_federate.\"broadleaf.fb_fulfillment_group\"     ffg ON ffg.fulfillment_group_id = bfg.fulfillment_group_id\n",
    "        INNER JOIN postgres_broadleaf_federate.\"broadleaf.fb_order\"                 fo  ON fo.order_id = bo.order_id\n",
    "        INNER JOIN postgres_broadleaf_federate.\"broadleaf.blc_order_payment\"        bop ON bop.order_id = bo.order_id\n",
    "        INNER JOIN postgres_broadleaf_federate.\"broadleaf.blc_site\"                 s   ON s.site_id = bo.site_disc\n",
    "        LEFT JOIN  postgres_broadleaf_federate.\"broadleaf.fb_order_type\"            fot ON fot.fb_order_type_id=fo.fb_order_type_id\n",
    "        LEFT JOIN  postgres_broadleaf_federate.\"broadleaf.blc_order_adjustment\"     ba  ON ba.order_id = bo.order_id\n",
    "        \n",
    "        WHERE fo.fb_order_status_id IN (1,6,7,8)\n",
    "            AND ffg.close_date >= '{desde}' AND ffg.close_date <= '{hasta}'\n",
    "            AND bo.order_status = 'SUBMITTED'\n",
    "            AND bfo.status NOT IN ('ARCHIVED','CANCELLED')\n",
    "            AND bop.archived = 'N'\n",
    "            AND (fot.name IS NULL OR fot.name <> 'REFUND')\n",
    "            \n",
    "        GROUP BY bo.order_id, ffg.close_date\n",
    "    )--,\n",
    "\n",
    "    --all_data AS (\n",
    "\n",
    "    SELECT DISTINCT\n",
    "        s.site_identifier_value as region_code,\n",
    "        bcat2.name as cat,\n",
    "        bcat.name as subcat,\n",
    "        bs.sku_id,\n",
    "        boi.name AS product,\n",
    "        bo.customer_id,\n",
    "        --count(distinct bo.customer_id) as penetracion,\n",
    "        CASE \n",
    "            WHEN s.site_identifier_value = 'CMX' then ((SUM(boi.quantity * foi.step_unit * boi.sale_price) + SUM((coalesce(bo.total_shipping,0) / cf.count_items)) + coalesce(SUM(foi.total_tax_iva),0))*1.0/19.19)\n",
    "            WHEN s.site_identifier_value = 'GDL' then ((SUM(boi.quantity * foi.step_unit * boi.sale_price) + SUM((coalesce(bo.total_shipping,0) / cf.count_items)) + coalesce(SUM(foi.total_tax_iva),0))*1.0/19.19)\n",
    "            WHEN s.site_identifier_value = 'PBC' then ((SUM(boi.quantity * foi.step_unit * boi.sale_price) + SUM((coalesce(bo.total_shipping,0) / cf.count_items)) + coalesce(SUM(foi.total_tax_iva),0))*1.0/19.19)\n",
    "            WHEN s.site_identifier_value = 'MTY' then ((SUM(boi.quantity * foi.step_unit * boi.sale_price) + SUM((coalesce(bo.total_shipping,0) / cf.count_items)) + coalesce(SUM(foi.total_tax_iva),0))*1.0/19.19)\n",
    "            WHEN s.site_identifier_value = 'SPO' then ((SUM(boi.quantity * foi.step_unit * boi.sale_price) + SUM((coalesce(bo.total_shipping,0) / cf.count_items)) + coalesce(SUM(foi.total_tax_iva),0))*1.0/3.88)\n",
    "            WHEN s.site_identifier_value = 'BHZ' then ((SUM(boi.quantity * foi.step_unit * boi.sale_price) + SUM((coalesce(bo.total_shipping,0) / cf.count_items)) + coalesce(SUM(foi.total_tax_iva),0))*1.0/3.88)\n",
    "            WHEN s.site_identifier_value = 'CWB' then ((SUM(boi.quantity * foi.step_unit * boi.sale_price) + SUM((coalesce(bo.total_shipping,0) / cf.count_items)) + coalesce(SUM(foi.total_tax_iva),0))*1.0/3.88)\n",
    "            WHEN s.site_identifier_value = 'VCP' then ((SUM(boi.quantity * foi.step_unit * boi.sale_price) + SUM((coalesce(bo.total_shipping,0) / cf.count_items)) + coalesce(SUM(foi.total_tax_iva),0))*1.0/3.88)\n",
    "        ELSE ((SUM(boi.quantity * foi.step_unit * boi.sale_price) + SUM((coalesce(bo.total_shipping,0) / cf.count_items)) + coalesce(SUM(foi.total_tax_iva),0))*1.0/3000) END AS net_gmv_usd\n",
    "\n",
    "    FROM \n",
    "        postgres_broadleaf_federate.\"broadleaf.blc_fulfillment_group_item\"                  bfgi\n",
    "        INNER JOIN postgres_broadleaf_federate.\"broadleaf.blc_fulfillment_group\"            bfg     ON bfgi.fulfillment_group_id = bfg.fulfillment_group_id\n",
    "        INNER JOIN postgres_broadleaf_federate.\"broadleaf.fb_fulfillment_group\"             ffg     ON ffg.fulfillment_group_id = bfg.fulfillment_group_id\n",
    "        INNER JOIN postgres_broadleaf_federate.\"broadleaf.blc_order\"                        bo      ON bo.order_id = bfg.order_id\n",
    "        INNER JOIN postgres_broadleaf_federate.\"broadleaf.blc_site\"                         s       ON bo.site_disc = s.site_id\n",
    "        INNER JOIN postgres_broadleaf_federate.\"broadleaf.blc_order_item\"                   boi     ON bfgi.order_item_id= boi.order_item_id\n",
    "        INNER JOIN postgres_broadleaf_federate.\"broadleaf.fb_order_item\"                    foi     ON boi.order_item_id= foi.order_item_id\n",
    "        INNER JOIN postgres_broadleaf_federate.\"broadleaf.fb_owner\"                         fow     ON fow.owner_id = ffg.owner_id\n",
    "        INNER JOIN postgres_broadleaf_federate.\"broadleaf.fb_order\"                         fo      ON fo.order_id = bo.order_id\n",
    "        INNER JOIN ful                                                                              ON ful.order_id = bo.order_id\n",
    "        LEFT JOIN count_fulfillments_pasados                                                cf      ON bfg.order_id = cf.order_id\n",
    "        LEFT JOIN  postgres_broadleaf_federate.\"broadleaf.fb_order_type\"                    fot     ON fot.fb_order_type_id=fo.fb_order_type_id\n",
    "        INNER JOIN postgres_broadleaf_federate.\"broadleaf.blc_discrete_order_item\"          bdoi    ON bdoi.order_item_id = boi.order_item_id\n",
    "        INNER JOIN postgres_broadleaf_federate.\"broadleaf.blc_sku\"                          bs      ON bs.sku_id = bdoi.sku_id\n",
    "        INNER JOIN postgres_broadleaf_federate.\"broadleaf.blc_product\"                      bp      ON bs.addl_product_id = bp.product_id\n",
    "        left join postgres_broadleaf_federate.\"broadleaf.blc_category_xref\"                 bcx     ON bcx.sub_category_id = bp.default_category_id and bcx.archived='N' and bcx.sndbx_tier is null and bcx.default_reference = 'true'\n",
    "        left join postgres_broadleaf_federate.\"broadleaf.blc_category\"                      bcat    ON bp.default_category_id = bcat.category_id\n",
    "        left join postgres_broadleaf_federate.\"broadleaf.blc_category\"                      bcat2   ON bcx.category_id = bcat2.category_id\n",
    "        LEFT JOIN postgres_broadleaf_federate.\"broadleaf.blc_order_item_price_dtl\"          boipd   ON boipd.order_item_id=boi.order_item_id\n",
    "        LEFT JOIN postgres_broadleaf_federate.\"broadleaf.blc_order_item_dtl_adj\"            boida   ON boida.order_item_price_dtl_id=boipd.order_item_price_dtl_id\n",
    "        LEFT JOIN postgres_broadleaf_federate.\"broadleaf.fb_customer\"              fc         ON fc.customer_id = bo.customer_id\n",
    "\n",
    "    WHERE \n",
    "        ffg.close_date >= '{desde}' AND ffg.close_date <= '{hasta}'\n",
    "        AND bo.order_status='SUBMITTED'\n",
    "        AND fo.fb_order_status_id IN (1,6,7,8)\n",
    "        AND (fot.name IS NULL OR fot.name <> 'REFUND')\n",
    "        AND bcat2.name in ('Abarrotes','Aseo e Higiene','Bebidas','Congelados','Desechables','Lácteos & Huevos','Carne, Pollo & Pescados', 'Frutas & Verduras', 'Bebidas','Mercearia','Limpeza e Higiene','Laticínios e Ovos','Frutas e Verduras','Congelados','Descartáveis','Carnes, Aves e Peixes')\n",
    "        AND fc.business_type_id IN (1)\n",
    "        \n",
    "    GROUP BY 1,2,3,4,5,6\n",
    "\"\"\".format(desde=customer_date_desde, hasta=todays_date)\n",
    "data_ventas = read_connection_data_warehouse.runQuery(query)"
   ]
  },
  {
   "cell_type": "code",
   "execution_count": 74,
   "metadata": {},
   "outputs": [
    {
     "data": {
      "text/html": [
       "<div>\n",
       "<style scoped>\n",
       "    .dataframe tbody tr th:only-of-type {\n",
       "        vertical-align: middle;\n",
       "    }\n",
       "\n",
       "    .dataframe tbody tr th {\n",
       "        vertical-align: top;\n",
       "    }\n",
       "\n",
       "    .dataframe thead th {\n",
       "        text-align: right;\n",
       "    }\n",
       "</style>\n",
       "<table border=\"1\" class=\"dataframe\">\n",
       "  <thead>\n",
       "    <tr style=\"text-align: right;\">\n",
       "      <th></th>\n",
       "      <th>region_code</th>\n",
       "      <th>cat</th>\n",
       "      <th>subcat</th>\n",
       "      <th>sku_id</th>\n",
       "      <th>product</th>\n",
       "      <th>customer_id</th>\n",
       "      <th>net_gmv_usd</th>\n",
       "    </tr>\n",
       "  </thead>\n",
       "  <tbody>\n",
       "    <tr>\n",
       "      <th>0</th>\n",
       "      <td>VCP</td>\n",
       "      <td>Mercearia</td>\n",
       "      <td>Açúcar, Adoçantes e Doces</td>\n",
       "      <td>430828</td>\n",
       "      <td>Açúcar Alto Alegre 1Kg  Pacote de 1Kg - A part...</td>\n",
       "      <td>180549220</td>\n",
       "      <td>82.345360824742268041237100</td>\n",
       "    </tr>\n",
       "    <tr>\n",
       "      <th>1</th>\n",
       "      <td>BOG</td>\n",
       "      <td>Frutas &amp; Verduras</td>\n",
       "      <td>Frutas</td>\n",
       "      <td>144884</td>\n",
       "      <td>Plátano Verde  Hartón Armenia (Semi) - Media C...</td>\n",
       "      <td>104300499</td>\n",
       "      <td>11.900000000000000000000000</td>\n",
       "    </tr>\n",
       "    <tr>\n",
       "      <th>2</th>\n",
       "      <td>GDL</td>\n",
       "      <td>Frutas &amp; Verduras</td>\n",
       "      <td>Tubérculos</td>\n",
       "      <td>221015</td>\n",
       "      <td>Jicama  Estándar - Kg</td>\n",
       "      <td>55602769</td>\n",
       "      <td>1.261073475768629494528400</td>\n",
       "    </tr>\n",
       "    <tr>\n",
       "      <th>3</th>\n",
       "      <td>BOG</td>\n",
       "      <td>Frutas &amp; Verduras</td>\n",
       "      <td>Verduras</td>\n",
       "      <td>-303171</td>\n",
       "      <td>Yuca  Estándar - Kg</td>\n",
       "      <td>60910517</td>\n",
       "      <td>9.477333333333333333333333</td>\n",
       "    </tr>\n",
       "    <tr>\n",
       "      <th>4</th>\n",
       "      <td>SPO</td>\n",
       "      <td>Bebidas</td>\n",
       "      <td>Refrigerantes e Energéticos</td>\n",
       "      <td>452044</td>\n",
       "      <td>Coca-Cola 2L  Garrafa de 2l - A partir de 6 un...</td>\n",
       "      <td>185997826</td>\n",
       "      <td>12.974226804123711340206100</td>\n",
       "    </tr>\n",
       "  </tbody>\n",
       "</table>\n",
       "</div>"
      ],
      "text/plain": [
       "  region_code                cat                       subcat  sku_id  \\\n",
       "0         VCP          Mercearia    Açúcar, Adoçantes e Doces  430828   \n",
       "1         BOG  Frutas & Verduras                       Frutas  144884   \n",
       "2         GDL  Frutas & Verduras                   Tubérculos  221015   \n",
       "3         BOG  Frutas & Verduras                     Verduras -303171   \n",
       "4         SPO            Bebidas  Refrigerantes e Energéticos  452044   \n",
       "\n",
       "                                             product  customer_id  \\\n",
       "0  Açúcar Alto Alegre 1Kg  Pacote de 1Kg - A part...    180549220   \n",
       "1  Plátano Verde  Hartón Armenia (Semi) - Media C...    104300499   \n",
       "2                              Jicama  Estándar - Kg     55602769   \n",
       "3                                Yuca  Estándar - Kg     60910517   \n",
       "4  Coca-Cola 2L  Garrafa de 2l - A partir de 6 un...    185997826   \n",
       "\n",
       "                   net_gmv_usd  \n",
       "0  82.345360824742268041237100  \n",
       "1  11.900000000000000000000000  \n",
       "2   1.261073475768629494528400  \n",
       "3   9.477333333333333333333333  \n",
       "4  12.974226804123711340206100  "
      ]
     },
     "execution_count": 74,
     "metadata": {},
     "output_type": "execute_result"
    }
   ],
   "source": [
    "data_ventas.head()"
   ]
  },
  {
   "cell_type": "code",
   "execution_count": 75,
   "metadata": {},
   "outputs": [
    {
     "name": "stdout",
     "output_type": "stream",
     "text": [
      "200\n"
     ]
    }
   ],
   "source": [
    "Query_SKU=get_fresh_query_result(\"https://internal-redash.federate.frubana.com/\",97797,'9FFFsAzt85oV0jqIpdPolKrUJvjKTapU1Q89d1FD',{},2)"
   ]
  },
  {
   "cell_type": "code",
   "execution_count": 76,
   "metadata": {},
   "outputs": [
    {
     "name": "stdout",
     "output_type": "stream",
     "text": [
      "200\n"
     ]
    }
   ],
   "source": [
    "Query_MS=get_fresh_query_result(\"https://internal-redash.federate.frubana.com/\",82561,'9FFFsAzt85oV0jqIpdPolKrUJvjKTapU1Q89d1FD',{},20)"
   ]
  },
  {
   "cell_type": "code",
   "execution_count": 77,
   "metadata": {},
   "outputs": [],
   "source": [
    "regiones=data_ventas[['customer_id','region_code']].drop_duplicates()"
   ]
  },
  {
   "cell_type": "code",
   "execution_count": 78,
   "metadata": {},
   "outputs": [
    {
     "data": {
      "text/html": [
       "<div>\n",
       "<style scoped>\n",
       "    .dataframe tbody tr th:only-of-type {\n",
       "        vertical-align: middle;\n",
       "    }\n",
       "\n",
       "    .dataframe tbody tr th {\n",
       "        vertical-align: top;\n",
       "    }\n",
       "\n",
       "    .dataframe thead th {\n",
       "        text-align: right;\n",
       "    }\n",
       "</style>\n",
       "<table border=\"1\" class=\"dataframe\">\n",
       "  <thead>\n",
       "    <tr style=\"text-align: right;\">\n",
       "      <th></th>\n",
       "      <th>customer_id</th>\n",
       "      <th>region_code</th>\n",
       "    </tr>\n",
       "  </thead>\n",
       "  <tbody>\n",
       "    <tr>\n",
       "      <th>0</th>\n",
       "      <td>180549220</td>\n",
       "      <td>VCP</td>\n",
       "    </tr>\n",
       "    <tr>\n",
       "      <th>1</th>\n",
       "      <td>104300499</td>\n",
       "      <td>BOG</td>\n",
       "    </tr>\n",
       "    <tr>\n",
       "      <th>2</th>\n",
       "      <td>55602769</td>\n",
       "      <td>GDL</td>\n",
       "    </tr>\n",
       "    <tr>\n",
       "      <th>3</th>\n",
       "      <td>60910517</td>\n",
       "      <td>BOG</td>\n",
       "    </tr>\n",
       "    <tr>\n",
       "      <th>4</th>\n",
       "      <td>185997826</td>\n",
       "      <td>SPO</td>\n",
       "    </tr>\n",
       "  </tbody>\n",
       "</table>\n",
       "</div>"
      ],
      "text/plain": [
       "   customer_id region_code\n",
       "0    180549220         VCP\n",
       "1    104300499         BOG\n",
       "2     55602769         GDL\n",
       "3     60910517         BOG\n",
       "4    185997826         SPO"
      ]
     },
     "execution_count": 78,
     "metadata": {},
     "output_type": "execute_result"
    }
   ],
   "source": [
    "regiones.head()"
   ]
  },
  {
   "cell_type": "code",
   "execution_count": 79,
   "metadata": {},
   "outputs": [],
   "source": [
    "Query_MS_data=pd.merge(Query_MS,regiones,on='customer_id')"
   ]
  },
  {
   "cell_type": "code",
   "execution_count": 80,
   "metadata": {},
   "outputs": [],
   "source": [
    "Query_MS_correct_MS=MS_corregidos_2(Query_MS_data)"
   ]
  },
  {
   "cell_type": "markdown",
   "metadata": {},
   "source": [
    "## Create mind df"
   ]
  },
  {
   "cell_type": "code",
   "execution_count": 81,
   "metadata": {},
   "outputs": [],
   "source": [
    "df_prev=pd.merge(data_ventas,Query_SKU, on = 'sku_id')\n",
    "df=pd.merge(df_prev,Query_MS_correct_MS,how = 'left', on = 'customer_id')"
   ]
  },
  {
   "cell_type": "code",
   "execution_count": 82,
   "metadata": {},
   "outputs": [],
   "source": [
    "df_top = df_prev.groupby(by=['region_code', 'cat', 'subcat', 'card_frida','card_name']).agg({'net_gmv_usd':np.sum, 'customer_id': 'nunique'}).reset_index()"
   ]
  },
  {
   "cell_type": "markdown",
   "metadata": {},
   "source": [
    "## Sort in CSV the top 10 SKUs for each city"
   ]
  },
  {
   "cell_type": "code",
   "execution_count": 83,
   "metadata": {},
   "outputs": [],
   "source": [
    "for city in df_top.region_code.unique():\n",
    "     s = df_top[df_top['region_code']==city].sort_values(['customer_id'],ascending = False).head(10)\n",
    "     s.to_csv(f'Analisis_{city}.csv', index = False)\n",
    "    "
   ]
  },
  {
   "cell_type": "markdown",
   "metadata": {},
   "source": [
    "# Begin with script to find top skus for each MS"
   ]
  },
  {
   "cell_type": "code",
   "execution_count": 84,
   "metadata": {},
   "outputs": [],
   "source": [
    "cities=['BOG','BAQ','CMX','SPO']\n",
    "\n",
    "df=df.rename(columns={'region_code_x':'region_code'})\n",
    "\n",
    "df['microsegment']=df.apply(lambda x: x['microsegment'] if x['region_code'] in cities else 'Other',axis=1)\n",
    "df['microsegment']=df['microsegment'].fillna('Other')\n",
    "\n",
    "df = df[['region_code', 'category', 'subcategory', 'sku_id', 'card_frida', 'card_name', 'net_gmv_usd', 'customer_id', 'microsegment']].copy()"
   ]
  },
  {
   "cell_type": "code",
   "execution_count": 85,
   "metadata": {},
   "outputs": [
    {
     "data": {
      "text/html": [
       "<div>\n",
       "<style scoped>\n",
       "    .dataframe tbody tr th:only-of-type {\n",
       "        vertical-align: middle;\n",
       "    }\n",
       "\n",
       "    .dataframe tbody tr th {\n",
       "        vertical-align: top;\n",
       "    }\n",
       "\n",
       "    .dataframe thead th {\n",
       "        text-align: right;\n",
       "    }\n",
       "</style>\n",
       "<table border=\"1\" class=\"dataframe\">\n",
       "  <thead>\n",
       "    <tr style=\"text-align: right;\">\n",
       "      <th></th>\n",
       "      <th>region_code</th>\n",
       "      <th>category</th>\n",
       "      <th>subcategory</th>\n",
       "      <th>sku_id</th>\n",
       "      <th>card_frida</th>\n",
       "      <th>card_name</th>\n",
       "      <th>net_gmv_usd</th>\n",
       "      <th>customer_id</th>\n",
       "      <th>microsegment</th>\n",
       "    </tr>\n",
       "  </thead>\n",
       "  <tbody>\n",
       "    <tr>\n",
       "      <th>0</th>\n",
       "      <td>VCP</td>\n",
       "      <td>Mercearia</td>\n",
       "      <td>Açúcar, Adoçantes e Doces</td>\n",
       "      <td>430828</td>\n",
       "      <td>325936</td>\n",
       "      <td>Açúcar Alto Alegre 1Kg Pacote de 1Kg A partir ...</td>\n",
       "      <td>82.345360824742268041237100</td>\n",
       "      <td>180549220</td>\n",
       "      <td>Other</td>\n",
       "    </tr>\n",
       "    <tr>\n",
       "      <th>1</th>\n",
       "      <td>VCP</td>\n",
       "      <td>Mercearia</td>\n",
       "      <td>Açúcar, Adoçantes e Doces</td>\n",
       "      <td>430828</td>\n",
       "      <td>325936</td>\n",
       "      <td>Açúcar Alto Alegre 1Kg Pacote de 1Kg A partir ...</td>\n",
       "      <td>101.288659793814432989690700</td>\n",
       "      <td>150682554</td>\n",
       "      <td>Other</td>\n",
       "    </tr>\n",
       "    <tr>\n",
       "      <th>2</th>\n",
       "      <td>VCP</td>\n",
       "      <td>Mercearia</td>\n",
       "      <td>Açúcar, Adoçantes e Doces</td>\n",
       "      <td>430828</td>\n",
       "      <td>325936</td>\n",
       "      <td>Açúcar Alto Alegre 1Kg Pacote de 1Kg A partir ...</td>\n",
       "      <td>9.149484536082474226804100</td>\n",
       "      <td>181047990</td>\n",
       "      <td>Other</td>\n",
       "    </tr>\n",
       "    <tr>\n",
       "      <th>3</th>\n",
       "      <td>VCP</td>\n",
       "      <td>Mercearia</td>\n",
       "      <td>Açúcar, Adoçantes e Doces</td>\n",
       "      <td>430828</td>\n",
       "      <td>325936</td>\n",
       "      <td>Açúcar Alto Alegre 1Kg Pacote de 1Kg A partir ...</td>\n",
       "      <td>54.896907216494845360824700</td>\n",
       "      <td>162321887</td>\n",
       "      <td>Other</td>\n",
       "    </tr>\n",
       "    <tr>\n",
       "      <th>4</th>\n",
       "      <td>VCP</td>\n",
       "      <td>Mercearia</td>\n",
       "      <td>Açúcar, Adoçantes e Doces</td>\n",
       "      <td>430828</td>\n",
       "      <td>325936</td>\n",
       "      <td>Açúcar Alto Alegre 1Kg Pacote de 1Kg A partir ...</td>\n",
       "      <td>18.298969072164948453608200</td>\n",
       "      <td>169966372</td>\n",
       "      <td>Other</td>\n",
       "    </tr>\n",
       "  </tbody>\n",
       "</table>\n",
       "</div>"
      ],
      "text/plain": [
       "  region_code   category                subcategory  sku_id  card_frida  \\\n",
       "0         VCP  Mercearia  Açúcar, Adoçantes e Doces  430828      325936   \n",
       "1         VCP  Mercearia  Açúcar, Adoçantes e Doces  430828      325936   \n",
       "2         VCP  Mercearia  Açúcar, Adoçantes e Doces  430828      325936   \n",
       "3         VCP  Mercearia  Açúcar, Adoçantes e Doces  430828      325936   \n",
       "4         VCP  Mercearia  Açúcar, Adoçantes e Doces  430828      325936   \n",
       "\n",
       "                                           card_name  \\\n",
       "0  Açúcar Alto Alegre 1Kg Pacote de 1Kg A partir ...   \n",
       "1  Açúcar Alto Alegre 1Kg Pacote de 1Kg A partir ...   \n",
       "2  Açúcar Alto Alegre 1Kg Pacote de 1Kg A partir ...   \n",
       "3  Açúcar Alto Alegre 1Kg Pacote de 1Kg A partir ...   \n",
       "4  Açúcar Alto Alegre 1Kg Pacote de 1Kg A partir ...   \n",
       "\n",
       "                    net_gmv_usd  customer_id microsegment  \n",
       "0   82.345360824742268041237100    180549220        Other  \n",
       "1  101.288659793814432989690700    150682554        Other  \n",
       "2    9.149484536082474226804100    181047990        Other  \n",
       "3   54.896907216494845360824700    162321887        Other  \n",
       "4   18.298969072164948453608200    169966372        Other  "
      ]
     },
     "execution_count": 85,
     "metadata": {},
     "output_type": "execute_result"
    }
   ],
   "source": [
    "df.head()"
   ]
  },
  {
   "cell_type": "code",
   "execution_count": 86,
   "metadata": {},
   "outputs": [],
   "source": [
    "def analizar_top_productos(data_ventas):\n",
    "    \"\"\"\n",
    "    Está función recibe un dataframe con información de ventas (sale de la función data_ventas_query) y analiza, por sku, cuales son los \n",
    "    top productos.\n",
    "    los criterios bajo el cual la función define top productos son 2: (1) penetración del sku_id (2) gmv_usd que mueve el sku_id.\n",
    "    \n",
    "    Argumentos:\n",
    "    data_ventas: data de ventas que entrega la función data_ventas_query.\n",
    "    \n",
    "    Resultado:\n",
    "    top_productos_df: dataframe ordenada con los top productos\n",
    "    \"\"\"\n",
    "    def group_top_products(x):\n",
    "        resultado = {}\n",
    "        resultado[\"card_name\"] = x[\"card_name\"].unique()[0]\n",
    "        resultado[\"category\"] = x[\"category\"].unique()[0]\n",
    "        assert len(x[\"category\"].unique()) == 1\n",
    "        resultado[\"subcategory\"] = x[\"subcategory\"].unique()[0]\n",
    "        assert len(x[\"subcategory\"].unique()) == 1\n",
    "        resultado[\"microsegment\"] = x[\"microsegment\"].unique()[0]\n",
    "        assert len(x[\"microsegment\"].unique()) == 1\n",
    "        resultado[\"penetration\"] = x[\"customer_id\"].nunique()\n",
    "        resultado[\"gmv_usd\"] = x[\"net_gmv_usd\"].sum()\n",
    "        #assert len(x[\"sku_id\"].unique()) == 1\n",
    "        resultado[\"sku_id\"] = '#'.join(x[\"sku_id\"].unique())\n",
    "        return pd.Series(resultado, index=list(resultado.keys()))\n",
    "    \n",
    "    data_ventas[[\"sku_id\", \"card_frida\"]] = data_ventas[[\"sku_id\", \"card_frida\"]].astype(str)\n",
    "\n",
    "    top_productos_df = data_ventas.groupby(by=[\"card_frida\"]).apply(group_top_products).reset_index()\n",
    "    top_productos_df = top_productos_df.sort_values(by=[\"penetration\", \"gmv_usd\"], ascending=False)\n",
    "    num_customer_ids = data_ventas[\"customer_id\"].nunique()\n",
    "    gmv_total = data_ventas[\"net_gmv_usd\"].sum()\n",
    "\n",
    "    top_productos_df[\"penetration_porcentual\"] = 100*top_productos_df[\"penetration\"]/num_customer_ids\n",
    "    top_productos_df[\"gmv_p_user\"] = 100*top_productos_df[\"gmv_usd\"]/num_customer_ids\n",
    "\n",
    "    return top_productos_df"
   ]
  },
  {
   "cell_type": "code",
   "execution_count": 87,
   "metadata": {},
   "outputs": [
    {
     "name": "stderr",
     "output_type": "stream",
     "text": [
      "/opt/tljh/user/lib/python3.7/site-packages/pandas/core/frame.py:3191: SettingWithCopyWarning: \n",
      "A value is trying to be set on a copy of a slice from a DataFrame.\n",
      "Try using .loc[row_indexer,col_indexer] = value instead\n",
      "\n",
      "See the caveats in the documentation: https://pandas.pydata.org/pandas-docs/stable/user_guide/indexing.html#returning-a-view-versus-a-copy\n",
      "  self[k1] = value[k2]\n"
     ]
    }
   ],
   "source": [
    "cities=['BOG','BAQ','MDE','CMX','GDL','PBC','SPO','BHZ','CWB','VCP']\n",
    "DFDictCitySKU = {elem : df[df['region_code'] == elem] for elem in cities}\n",
    "\n",
    "for i in cities:\n",
    "    for j in DFDictCitySKU[i].microsegment.unique():\n",
    "        filtro_ms = (DFDictCitySKU[i]['microsegment']==j).copy()\n",
    "        BASE = DFDictCitySKU[i][filtro_ms]\n",
    "        DFDictCitySKU[i+'_sku_'+j] = analizar_top_productos(BASE)\n",
    "        DFDictCitySKU[i+'_sku_'+j]['region_code'] = i\n",
    "        k=j.replace(\"/\",\"_\")\n",
    "        #DFDictCitySKU[i+'_sku_'+j].to_csv(f'Top_skus_MS/top_{i}_skus_{k}.csv', index=False)"
   ]
  },
  {
   "cell_type": "code",
   "execution_count": 88,
   "metadata": {},
   "outputs": [
    {
     "data": {
      "text/plain": [
       "Index(['card_frida', 'card_name', 'category', 'subcategory', 'microsegment',\n",
       "       'penetration', 'gmv_usd', 'sku_id', 'penetration_porcentual',\n",
       "       'gmv_p_user', 'region_code'],\n",
       "      dtype='object')"
      ]
     },
     "execution_count": 88,
     "metadata": {},
     "output_type": "execute_result"
    }
   ],
   "source": [
    "DFDictCitySKU['BOG_sku_Comida rápida'].columns"
   ]
  },
  {
   "cell_type": "code",
   "execution_count": 89,
   "metadata": {},
   "outputs": [],
   "source": [
    "df_ms = pd.DataFrame(columns = ['card_frida', 'card_name', 'category', 'subcategory', 'microsegment', 'penetration', 'gmv_usd', 'sku_id', \n",
    "                                'penetration_porcentual', 'gmv_p_user', 'region_code'])\n",
    "\n",
    "for i in cities:\n",
    "    for j in DFDictCitySKU[i].microsegment.unique():\n",
    "        df2 = DFDictCitySKU[i+'_sku_'+j]\n",
    "        df_ms = pd.concat([df_ms, df2], ignore_index=True)"
   ]
  },
  {
   "cell_type": "code",
   "execution_count": 90,
   "metadata": {},
   "outputs": [],
   "source": [
    "df_ms[['region_code', 'microsegment', 'category', 'subcategory', 'card_frida', 'card_name', 'gmv_usd', \n",
    "       'gmv_p_user', 'penetration', 'penetration_porcentual', 'sku_id']].to_excel(f'Analisis.xlsx', index = False)"
   ]
  }
 ],
 "metadata": {
  "kernelspec": {
   "display_name": "Python 3.7 (XPython)",
   "language": "python",
   "name": "xpython"
  },
  "orig_nbformat": 4
 },
 "nbformat": 4,
 "nbformat_minor": 2
}
