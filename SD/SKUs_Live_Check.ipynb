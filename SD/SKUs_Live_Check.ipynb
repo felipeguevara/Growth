{
 "cells": [
  {
   "cell_type": "code",
   "execution_count": 163,
   "id": "f030a307",
   "metadata": {},
   "outputs": [],
   "source": [
    "#//----------------------------\n",
    "#//LIBRARIES\n",
    "    #Math\n",
    "import math\n",
    "    #Numeric Python\n",
    "import numpy as np\n",
    "    #Pandas (dataframes)\n",
    "import pandas as pd\n",
    "    #datetime for fate manipulation\n",
    "from datetime import date, datetime, timedelta  \n",
    "    #Regex for advanced string matching\n",
    "import re\n",
    "    #for time related stuff\n",
    "import time\n",
    "    #json library\n",
    "import json\n",
    "    #Analyst tools\n",
    "import sys\n",
    "sys.path.append('../')\n",
    "from analysts_tools.growth import *\n",
    "    #Procurement tools\n",
    "from procurement_lib import send_slack_notification\n",
    "from procurement_lib import redash\n",
    "from analysts_tools.redash_methods import *\n",
    "\n",
    "import os"
   ]
  },
  {
   "cell_type": "code",
   "execution_count": 164,
   "id": "99620aa2",
   "metadata": {},
   "outputs": [
    {
     "name": "stdout",
     "output_type": "stream",
     "text": [
      "200\n"
     ]
    }
   ],
   "source": [
    "frida_products = get_fresh_query_result(\"https://internal-redash.federate.frubana.com/\",48322,'SeoGHWmDUaaBi7VXje1s9zYNiMD1VHQ1K1DYOxiF',{},20)"
   ]
  },
  {
   "cell_type": "code",
   "execution_count": 165,
   "id": "7f8a0a2a",
   "metadata": {},
   "outputs": [],
   "source": [
    "active_skus = frida_products.sku_id.unique()"
   ]
  },
  {
   "cell_type": "markdown",
   "id": "916cd885",
   "metadata": {},
   "source": [
    "### To get the segments ID (Should be after loading the segments in POSTMAN and FRIDA"
   ]
  },
  {
   "cell_type": "code",
   "execution_count": 166,
   "id": "f9912067",
   "metadata": {},
   "outputs": [],
   "source": [
    "city_code = 'BHZ'"
   ]
  },
  {
   "cell_type": "code",
   "execution_count": 167,
   "id": "431dcd2d",
   "metadata": {},
   "outputs": [],
   "source": [
    "global_offer_csv = pd.read_csv(f'SD/export_data/MS/csv_{city_code}_All_MS.csv')"
   ]
  },
  {
   "cell_type": "code",
   "execution_count": 168,
   "id": "fbe1534b",
   "metadata": {},
   "outputs": [],
   "source": [
    "def validate(x):\n",
    "    a = x.split('#')\n",
    "    for i in a:\n",
    "        if int(i) in active_skus:\n",
    "            pass\n",
    "        else:\n",
    "            a.remove(i)\n",
    "    return '#'.join(a)"
   ]
  },
  {
   "cell_type": "code",
   "execution_count": 169,
   "id": "d0153ed8",
   "metadata": {},
   "outputs": [],
   "source": [
    "global_offer_csv['sku_id'] = global_offer_csv['sku_id'].apply(validate)"
   ]
  },
  {
   "cell_type": "code",
   "execution_count": 170,
   "id": "d499a141",
   "metadata": {},
   "outputs": [],
   "source": [
    "global_offer_csv.to_csv(f'SD/export_data/MS/csv_{city_code}_All_MS.csv', index = False)"
   ]
  },
  {
   "cell_type": "code",
   "execution_count": 171,
   "id": "040633d2",
   "metadata": {},
   "outputs": [
    {
     "data": {
      "text/plain": [
       "offer_name                        20220801_BHZ_other_exp_50%_NB_carnevermelha_W31\n",
       "offer_description                                  other_exp_50%_NB_carnevermelha\n",
       "discount                                                                       13\n",
       "automatically_consider_offer                                                 True\n",
       "start_date                                                             01-08-2022\n",
       "end_date                                                               31-08-2022\n",
       "max_uses_per_order                                                             20\n",
       "max_uses_per_customer                                                           1\n",
       "customer_segment_id                                                         75930\n",
       "sku_id                          322491#322490#322489#322493#322495#322494#3224...\n",
       "Name: 32, dtype: object"
      ]
     },
     "execution_count": 169,
     "metadata": {},
     "output_type": "execute_result"
    }
   ],
   "source": [
    "global_offer_csv.iloc[32,:]"
   ]
  }
 ],
 "metadata": {
  "kernelspec": {
   "display_name": "Python 3 (ipykernel)",
   "language": "python",
   "name": "python3"
  }
 },
 "nbformat": 4,
 "nbformat_minor": 5
}
