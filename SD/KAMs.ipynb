{
 "cells": [
  {
   "cell_type": "code",
   "execution_count": 1,
   "id": "8f33c0e0",
   "metadata": {},
   "outputs": [],
   "source": [
    "#//----------------------------\n",
    "#//LIBRARIES\n",
    "    #Math\n",
    "import math\n",
    "    #Numeric Python\n",
    "import numpy as np\n",
    "    #Pandas (dataframes)\n",
    "import pandas as pd\n",
    "    #datetime for fate manipulation\n",
    "from datetime import date, datetime, timedelta  \n",
    "    #Regex for advanced string matching\n",
    "import re\n",
    "    #for time related stuff\n",
    "import time\n",
    "    #json library\n",
    "import json\n",
    "    #Analyst tools\n",
    "import sys\n",
    "sys.path.append('../')\n",
    "from analysts_tools.growth import *\n",
    "    #Procurement tools\n",
    "from procurement_lib import send_slack_notification\n",
    "from procurement_lib import redash\n",
    "from analysts_tools.redash_methods import *"
   ]
  },
  {
   "cell_type": "code",
   "execution_count": 2,
   "id": "8de7a1f6",
   "metadata": {},
   "outputs": [
    {
     "name": "stdout",
     "output_type": "stream",
     "text": [
      "200\n",
      "200\n",
      "200\n"
     ]
    }
   ],
   "source": [
    "#//--------------------------------------\n",
    "#//Ruta de data // KAM's costumers to delete\n",
    "#//KAMs customers me lo manda Emiliano Lomeli (SE ACTUALIZAN DE UN QUERY)\n",
    "KAMs_BR = get_fresh_query_result(\"https://internal-redash.federate.frubana.com/\",59178,'SeoGHWmDUaaBi7VXje1s9zYNiMD1VHQ1K1DYOxiF',{},20)\n",
    "KAMs_CO = get_fresh_query_result(\"https://internal-redash.federate.frubana.com/\",59030,'SeoGHWmDUaaBi7VXje1s9zYNiMD1VHQ1K1DYOxiF',{},20)\n",
    "KAMs_MX = get_fresh_query_result(\"https://internal-redash.federate.frubana.com/\",59170,'SeoGHWmDUaaBi7VXje1s9zYNiMD1VHQ1K1DYOxiF',{},20)\n",
    "#Semana_lista = NUMERO DE LA SEMANA ACTUAL // Lista_year = AÑO ACTUAL\n",
    "users_eliminar_kam = pd.concat([KAMs_BR[(KAMs_BR['Semana_lista']==26) & (KAMs_BR['Lista_year']==2022)].User_id, \n",
    "                                KAMs_CO[(KAMs_CO['Semana_lista']==26) & (KAMs_CO['Lista_year']==2022)].User_id, \n",
    "                                KAMs_MX[(KAMs_MX['Semana_lista']==26) & (KAMs_MX['Lista_year']==2022)].User_id], ignore_index=True)\n"
   ]
  },
  {
   "cell_type": "code",
   "execution_count": 3,
   "id": "0a5b357d",
   "metadata": {},
   "outputs": [],
   "source": [
    "users_eliminar_kam = users_eliminar_kam.rename('costumer_id').astype(int)\n",
    "users_eliminar_kam.to_csv(\"import_data/segments/KAMs_JUN.csv\", index=False)"
   ]
  }
 ],
 "metadata": {
  "kernelspec": {
   "display_name": "Python 3 (ipykernel)",
   "language": "python",
   "name": "python3"
  },
  "language_info": {
   "codemirror_mode": {
    "name": "ipython",
    "version": 3
   },
   "file_extension": ".py",
   "mimetype": "text/x-python",
   "name": "python",
   "nbconvert_exporter": "python",
   "pygments_lexer": "ipython3",
   "version": "3.7.9"
  }
 },
 "nbformat": 4,
 "nbformat_minor": 5
}
