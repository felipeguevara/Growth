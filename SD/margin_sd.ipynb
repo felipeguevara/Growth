{
 "cells": [
  {
   "cell_type": "code",
   "execution_count": 1,
   "metadata": {},
   "outputs": [],
   "source": [
    "#//----------------------------\n",
    "#//LIBRARIES\n",
    "    #Math\n",
    "import math\n",
    "    #Numeric Python\n",
    "import numpy as np\n",
    "    #Pandas (dataframes)\n",
    "import pandas as pd\n",
    "    #datetime for fate manipulation\n",
    "from datetime import date, datetime, timedelta  \n",
    "    #Regex for advanced string matching\n",
    "import re\n",
    "    #for time related stuff\n",
    "import time\n",
    "    #json library\n",
    "import json\n",
    "    #Analyst tools\n",
    "import sys\n",
    "sys.path.append('../')\n",
    "from analysts_tools.growth import *\n",
    "    #Procurement tools\n",
    "from procurement_lib import send_slack_notification\n",
    "from procurement_lib import redash\n",
    "from analysts_tools.redash_methods import *\n",
    "\n",
    "import random\n",
    "import time\n",
    "import datetime\n",
    "\n",
    "import seaborn as sns\n",
    "import matplotlib.pyplot as plt\n",
    "\n",
    "\n",
    "from sklearn.model_selection import train_test_split\n",
    "from scipy.signal import savgol_filter\n",
    "import statsmodels.formula.api as smf"
   ]
  },
  {
   "cell_type": "code",
   "execution_count": 2,
   "metadata": {},
   "outputs": [
    {
     "name": "stdout",
     "output_type": "stream",
     "text": [
      "200\n"
     ]
    }
   ],
   "source": [
    "df_sd = get_fresh_query_result(\"https://internal-redash.federate.frubana.com/\",165803,'SeoGHWmDUaaBi7VXje1s9zYNiMD1VHQ1K1DYOxiF',{},20)"
   ]
  },
  {
   "cell_type": "code",
   "execution_count": 3,
   "metadata": {},
   "outputs": [],
   "source": [
    "skus_sd = df_sd.card_id.unique()"
   ]
  },
  {
   "cell_type": "code",
   "execution_count": 6,
   "metadata": {},
   "outputs": [
    {
     "name": "stdout",
     "output_type": "stream",
     "text": [
      "200\n"
     ]
    }
   ],
   "source": [
    "df_margin = get_fresh_query_result(\"https://internal-redash.federate.frubana.com/\",144493,'SeoGHWmDUaaBi7VXje1s9zYNiMD1VHQ1K1DYOxiF',{},20)\n",
    "df_margin = df_margin.loc[df_margin['month'] == df_margin['month'].max()].copy()"
   ]
  },
  {
   "cell_type": "code",
   "execution_count": 7,
   "metadata": {},
   "outputs": [],
   "source": [
    "query = \"\"\"\n",
    "-- 93058\n",
    "-- Se toma como base el query 2718\n",
    "WITH \n",
    "ful AS (\n",
    "SELECT DISTINCT\n",
    "    bo.order_id,\n",
    "    --ffg.close_date\n",
    "    bo.submit_date\n",
    "    \n",
    "FROM postgres_broadleaf_federate.\"broadleaf.blc_order\" bo\n",
    "INNER JOIN postgres_broadleaf_federate.\"broadleaf.blc_fulfillment_group\" bfg        ON bfg.order_id = bo.order_id\n",
    "INNER JOIN postgres_broadleaf_federate.\"broadleaf.blc_fulfillment_order\" bfo        ON bfo.fulfillment_group_id = bfg.fulfillment_group_id\n",
    "INNER JOIN postgres_broadleaf_federate.\"broadleaf.fb_fulfillment_group\" ffg         ON ffg.fulfillment_group_id = bfg.fulfillment_group_id\n",
    "INNER JOIN postgres_broadleaf_federate.\"broadleaf.fb_order\" fo                      ON fo.order_id = bo.order_id\n",
    "INNER JOIN postgres_broadleaf_federate.\"broadleaf.blc_order_payment\" bop            ON bop.order_id = bo.order_id\n",
    "INNER JOIN postgres_broadleaf_federate.\"broadleaf.blc_site\" s                       ON s.site_id = bo.site_disc\n",
    "LEFT JOIN  postgres_broadleaf_federate.\"broadleaf.fb_order_type\" fot                ON fot.fb_order_type_id=fo.fb_order_type_id\n",
    "\n",
    "WHERE fo.fb_order_status_id IN (1,6,7,8)\n",
    "    AND bo.submit_date >= DATE_TRUNC('month', date(getdate()) - interval '1 month')\n",
    "    AND bo.submit_date < DATE_TRUNC('month', date(getdate()) - interval '0 month')\n",
    "    AND bo.order_status = 'SUBMITTED'\n",
    "    AND bfo.status NOT IN ('ARCHIVED','CANCELLED')\n",
    "    AND bop.archived = 'N'\n",
    "    AND (fot.name IS NULL OR fot.name <> 'REFUND')\n",
    ")\n",
    "\n",
    "SELECT DISTINCT\n",
    "    s.site_identifier_value AS city,\n",
    "    --DATE(bo.submit_date) AS submit_date,\n",
    "    --bo.customer_id,\n",
    "    bs2.name,\n",
    "    bs.addl_product_id as padre_sku_id,\n",
    "    --bcat2.name AS category,\n",
    "    --bcat.name AS subcat,\n",
    "    --MIN(bo.submit_date) AS min_date,\n",
    "    --COUNT(DISTINCT bo.order_id) as orders,\n",
    "    CASE WHEN s.site_identifier_value = 'CMX' then SUM ( (boi.quantity * foi.step_unit * boi.sale_price)*1.0/19.65)\n",
    "        WHEN s.site_identifier_value = 'GDL' then SUM ( (boi.quantity * foi.step_unit * boi.sale_price)*1.0/19.65)\n",
    "        WHEN s.site_identifier_value = 'PBC' then SUM ( (boi.quantity * foi.step_unit * boi.sale_price)*1.0/19.65)\n",
    "        WHEN s.site_identifier_value = 'MTY' then SUM ( (boi.quantity * foi.step_unit * boi.sale_price)*1.0/19.65)\n",
    "        WHEN s.site_identifier_value = 'SPO' then SUM ( (boi.quantity * foi.step_unit * boi.sale_price)*1.0/4.75)\n",
    "        WHEN s.site_identifier_value = 'BHZ' then SUM ( (boi.quantity * foi.step_unit * boi.sale_price)*1.0/4.75)\n",
    "        WHEN s.site_identifier_value = 'CWB' then SUM ( (boi.quantity * foi.step_unit * boi.sale_price)*1.0/4.75)\n",
    "        WHEN s.site_identifier_value = 'VCP' then SUM ( (boi.quantity * foi.step_unit * boi.sale_price)*1.0/4.75)\n",
    "    ELSE SUM ( (boi.quantity * foi.step_unit * boi.sale_price)*1.0/3776) END AS gmv_usd,\n",
    "    SUM(boi.quantity* foi.step_unit) as cant\n",
    "\n",
    "FROM postgres_broadleaf_federate.\"broadleaf.blc_order\" bo\n",
    "INNER JOIN postgres_broadleaf_federate.\"broadleaf.blc_site\"                     s       ON s.site_id = bo.site_disc\n",
    "INNER JOIN postgres_broadleaf_federate.\"broadleaf.blc_order_item\"               boi     ON boi.order_id=bo.order_id\n",
    "INNER JOIN postgres_broadleaf_federate.\"broadleaf.fb_order_item\"                foi     ON boi.order_item_id= foi.order_item_id\n",
    "INNER JOIN postgres_broadleaf_federate.\"broadleaf.fb_order\"                     fo      ON fo.order_id = bo.order_id\n",
    "INNER JOIN ful                                                                          ON ful.order_id = bo.order_id\n",
    "INNER JOIN postgres_broadleaf_federate.\"broadleaf.blc_discrete_order_item\"      bdoi    ON bdoi.order_item_id = boi.order_item_id\n",
    "INNER JOIN postgres_broadleaf_federate.\"broadleaf.blc_sku\"                      bs      ON bs.sku_id = bdoi.sku_id\n",
    "INNER JOIN postgres_broadleaf_federate.\"broadleaf.blc_product\"                  bp      ON bs.addl_product_id = bp.product_id\n",
    "INNER JOIN postgres_broadleaf_federate.\"broadleaf.blc_sku\"                      bs2     ON bs2.sku_id = bp.default_sku_id --Conectar la tarjeta con el sku que guarda la info\n",
    "INNER JOIN postgres_broadleaf_federate.\"broadleaf.blc_category\"                 bcat    ON bcat.category_id = bp.default_category_id \n",
    "INNER JOIN postgres_broadleaf_federate.\"broadleaf.blc_category_xref\"            bcx     ON bcx.sub_category_id = bp.default_category_id AND bcx.archived='N' AND bcx.sndbx_tier is NULL\n",
    "INNER JOIN postgres_broadleaf_federate.\"broadleaf.blc_category\"                 bcat2   ON bcx.category_id = bcat2.category_id\n",
    "--INNER JOIN postgres_broadleaf_federate.\"broadleaf.blc_order_item_price_dtl\"     boipd   ON boipd.order_item_id=boi.order_item_id\n",
    "--INNER JOIN postgres_broadleaf_federate.\"broadleaf.blc_order_item_dtl_adj\"       boida   ON boida.order_item_price_dtl_id=boipd.order_item_price_dtl_id\n",
    "\n",
    "WHERE fb_order_status_id IN (1,6,7,8)\n",
    "    AND bo.order_status = 'SUBMITTED'\n",
    "   -- FIX SUPER DESCUENTOS\n",
    "    AND bcat2.category_id not in ('110873','-1000','100768','100765','100815') --ids de super descuentos en cada país\n",
    "    AND bcat.name <> 'Oferton Frubana' AND bcat2.name <> 'Oferton Frubana'\n",
    "    AND bs.addl_product_id IN {skus}    \n",
    "GROUP BY 1,2,3\n",
    "\"\"\".format(skus=tuple(skus_sd))\n",
    "\n",
    "data_ventas_aux = read_connection_data_warehouse.runQuery(query)\n",
    "data_ventas_aux[[\"gmv_usd\",\"cant\"]] = data_ventas_aux[[\"gmv_usd\",\"cant\"]].astype(float)"
   ]
  },
  {
   "cell_type": "code",
   "execution_count": 9,
   "metadata": {},
   "outputs": [],
   "source": [
    "df = pd.merge(df_sd, df_margin[['region','margin','card_id']], left_on=['card_id','city'], right_on=['card_id','region'], how='inner')\n",
    "df = pd.merge(df, data_ventas_aux[['city','gmv_usd','padre_sku_id']], left_on=['card_id','city'], right_on=['padre_sku_id','city'], how='inner')"
   ]
  },
  {
   "cell_type": "code",
   "execution_count": 10,
   "metadata": {},
   "outputs": [
    {
     "data": {
      "text/html": [
       "<div>\n",
       "<style scoped>\n",
       "    .dataframe tbody tr th:only-of-type {\n",
       "        vertical-align: middle;\n",
       "    }\n",
       "\n",
       "    .dataframe tbody tr th {\n",
       "        vertical-align: top;\n",
       "    }\n",
       "\n",
       "    .dataframe thead th {\n",
       "        text-align: right;\n",
       "    }\n",
       "</style>\n",
       "<table border=\"1\" class=\"dataframe\">\n",
       "  <thead>\n",
       "    <tr style=\"text-align: right;\">\n",
       "      <th></th>\n",
       "      <th>city</th>\n",
       "      <th>offer_id</th>\n",
       "      <th>discount</th>\n",
       "      <th>value_discount</th>\n",
       "      <th>card_id</th>\n",
       "      <th>name</th>\n",
       "      <th>cat</th>\n",
       "      <th>subcat</th>\n",
       "      <th>customer_id</th>\n",
       "      <th>region</th>\n",
       "      <th>margin</th>\n",
       "      <th>gmv_usd</th>\n",
       "      <th>padre_sku_id</th>\n",
       "    </tr>\n",
       "  </thead>\n",
       "  <tbody>\n",
       "  </tbody>\n",
       "</table>\n",
       "</div>"
      ],
      "text/plain": [
       "Empty DataFrame\n",
       "Columns: [city, offer_id, discount, value_discount, card_id, name, cat, subcat, customer_id, region, margin, gmv_usd, padre_sku_id]\n",
       "Index: []"
      ]
     },
     "execution_count": 10,
     "metadata": {},
     "output_type": "execute_result"
    }
   ],
   "source": [
    "df[df.offer_id == -14510917]"
   ]
  },
  {
   "cell_type": "code",
   "execution_count": 11,
   "metadata": {},
   "outputs": [],
   "source": [
    "weighted_margin = df.groupby(['city','offer_id','discount','value_discount']).apply(lambda x: (x['margin'] * x['gmv_usd']).sum() / x['gmv_usd'].sum()).reset_index()\n",
    "weighted_margin.columns = ['city','offer_id','discount','value_discount','weighted_margin']\n",
    "weighted_margin['weighted_margin'] = weighted_margin['weighted_margin'].apply(lambda x: round(x*100, 2))"
   ]
  },
  {
   "cell_type": "code",
   "execution_count": 12,
   "metadata": {},
   "outputs": [
    {
     "data": {
      "text/html": [
       "<div>\n",
       "<style scoped>\n",
       "    .dataframe tbody tr th:only-of-type {\n",
       "        vertical-align: middle;\n",
       "    }\n",
       "\n",
       "    .dataframe tbody tr th {\n",
       "        vertical-align: top;\n",
       "    }\n",
       "\n",
       "    .dataframe thead th {\n",
       "        text-align: right;\n",
       "    }\n",
       "</style>\n",
       "<table border=\"1\" class=\"dataframe\">\n",
       "  <thead>\n",
       "    <tr style=\"text-align: right;\">\n",
       "      <th></th>\n",
       "      <th>city</th>\n",
       "      <th>offer_id</th>\n",
       "      <th>discount</th>\n",
       "      <th>value_discount</th>\n",
       "      <th>weighted_margin</th>\n",
       "    </tr>\n",
       "  </thead>\n",
       "  <tbody>\n",
       "    <tr>\n",
       "      <th>0</th>\n",
       "      <td>MDE</td>\n",
       "      <td>454634</td>\n",
       "      <td>WEEK_FRUVER_MDE_Limón_Tahití_8_%SEPT_40_2023</td>\n",
       "      <td>10</td>\n",
       "      <td>34.79</td>\n",
       "    </tr>\n",
       "    <tr>\n",
       "      <th>1</th>\n",
       "      <td>MDE</td>\n",
       "      <td>454635</td>\n",
       "      <td>WEEK_FRUVER_MDE_Tomate_Chonto_Maduración_Mixta...</td>\n",
       "      <td>10</td>\n",
       "      <td>24.20</td>\n",
       "    </tr>\n",
       "    <tr>\n",
       "      <th>2</th>\n",
       "      <td>MDE</td>\n",
       "      <td>454637</td>\n",
       "      <td>WEEK_FRUVER_MDE_Tomate_Chonto_Extra_Maduro_8_%...</td>\n",
       "      <td>10</td>\n",
       "      <td>10.06</td>\n",
       "    </tr>\n",
       "    <tr>\n",
       "      <th>3</th>\n",
       "      <td>MDE</td>\n",
       "      <td>454638</td>\n",
       "      <td>WEEK_FRUVER_MDE_Tomate_Larga_Vida_Pintón__8_%S...</td>\n",
       "      <td>10</td>\n",
       "      <td>32.99</td>\n",
       "    </tr>\n",
       "    <tr>\n",
       "      <th>4</th>\n",
       "      <td>MDE</td>\n",
       "      <td>454639</td>\n",
       "      <td>WEEK_FRUVER_MDE_Cebolla_Larga_Junca_8_%SEPT_40...</td>\n",
       "      <td>10</td>\n",
       "      <td>40.04</td>\n",
       "    </tr>\n",
       "    <tr>\n",
       "      <th>5</th>\n",
       "      <td>MDE</td>\n",
       "      <td>454640</td>\n",
       "      <td>WEEK_FRUVER_MDE_Yuca_Tamaño_Mixto_8_%SEPT_40_2023</td>\n",
       "      <td>10</td>\n",
       "      <td>24.19</td>\n",
       "    </tr>\n",
       "  </tbody>\n",
       "</table>\n",
       "</div>"
      ],
      "text/plain": [
       "  city  offer_id                                           discount  \\\n",
       "0  MDE    454634       WEEK_FRUVER_MDE_Limón_Tahití_8_%SEPT_40_2023   \n",
       "1  MDE    454635  WEEK_FRUVER_MDE_Tomate_Chonto_Maduración_Mixta...   \n",
       "2  MDE    454637  WEEK_FRUVER_MDE_Tomate_Chonto_Extra_Maduro_8_%...   \n",
       "3  MDE    454638  WEEK_FRUVER_MDE_Tomate_Larga_Vida_Pintón__8_%S...   \n",
       "4  MDE    454639  WEEK_FRUVER_MDE_Cebolla_Larga_Junca_8_%SEPT_40...   \n",
       "5  MDE    454640  WEEK_FRUVER_MDE_Yuca_Tamaño_Mixto_8_%SEPT_40_2023   \n",
       "\n",
       "   value_discount  weighted_margin  \n",
       "0              10            34.79  \n",
       "1              10            24.20  \n",
       "2              10            10.06  \n",
       "3              10            32.99  \n",
       "4              10            40.04  \n",
       "5              10            24.19  "
      ]
     },
     "execution_count": 12,
     "metadata": {},
     "output_type": "execute_result"
    }
   ],
   "source": [
    "weighted_margin"
   ]
  },
  {
   "cell_type": "code",
   "execution_count": 13,
   "metadata": {},
   "outputs": [],
   "source": [
    "weighted_margin.to_excel(\"sd_margin.xlsx\")"
   ]
  }
 ],
 "metadata": {
  "kernelspec": {
   "display_name": "Python 3",
   "language": "python",
   "name": "python3"
  },
  "language_info": {
   "codemirror_mode": {
    "name": "ipython",
    "version": 3
   },
   "file_extension": ".py",
   "mimetype": "text/x-python",
   "name": "python",
   "nbconvert_exporter": "python",
   "pygments_lexer": "ipython3",
   "version": "3.7.9"
  },
  "orig_nbformat": 4
 },
 "nbformat": 4,
 "nbformat_minor": 2
}
