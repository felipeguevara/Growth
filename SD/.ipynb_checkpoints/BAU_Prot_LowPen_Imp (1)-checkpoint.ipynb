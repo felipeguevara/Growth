{
 "cells": [
  {
   "cell_type": "markdown",
   "id": "700545e9",
   "metadata": {},
   "source": [
    "# BAU Proteinas / Imperdonables/ Low Penetration"
   ]
  },
  {
   "cell_type": "code",
   "execution_count": 1,
   "id": "6c8c2c35",
   "metadata": {},
   "outputs": [
    {
     "ename": "ModuleNotFoundError",
     "evalue": "No module named 'analysts_tools'",
     "output_type": "error",
     "traceback": [
      "\u001b[0;31m---------------------------------------------------------------------------\u001b[0m",
      "\u001b[0;31mModuleNotFoundError\u001b[0m                       Traceback (most recent call last)",
      "\u001b[0;32m<ipython-input-1-9eccb9162116>\u001b[0m in \u001b[0;36m<module>\u001b[0;34m\u001b[0m\n\u001b[1;32m     18\u001b[0m \u001b[0;32mimport\u001b[0m \u001b[0msys\u001b[0m\u001b[0;34m\u001b[0m\u001b[0;34m\u001b[0m\u001b[0m\n\u001b[1;32m     19\u001b[0m \u001b[0msys\u001b[0m\u001b[0;34m.\u001b[0m\u001b[0mpath\u001b[0m\u001b[0;34m.\u001b[0m\u001b[0mappend\u001b[0m\u001b[0;34m(\u001b[0m\u001b[0;34m'../'\u001b[0m\u001b[0;34m)\u001b[0m\u001b[0;34m\u001b[0m\u001b[0;34m\u001b[0m\u001b[0m\n\u001b[0;32m---> 20\u001b[0;31m \u001b[0;32mfrom\u001b[0m \u001b[0manalysts_tools\u001b[0m\u001b[0;34m.\u001b[0m\u001b[0mgrowth\u001b[0m \u001b[0;32mimport\u001b[0m \u001b[0;34m*\u001b[0m\u001b[0;34m\u001b[0m\u001b[0;34m\u001b[0m\u001b[0m\n\u001b[0m\u001b[1;32m     21\u001b[0m     \u001b[0;31m#Procurement tools\u001b[0m\u001b[0;34m\u001b[0m\u001b[0;34m\u001b[0m\u001b[0;34m\u001b[0m\u001b[0m\n\u001b[1;32m     22\u001b[0m \u001b[0;32mfrom\u001b[0m \u001b[0mprocurement_lib\u001b[0m \u001b[0;32mimport\u001b[0m \u001b[0msend_slack_notification\u001b[0m\u001b[0;34m\u001b[0m\u001b[0;34m\u001b[0m\u001b[0m\n",
      "\u001b[0;31mModuleNotFoundError\u001b[0m: No module named 'analysts_tools'"
     ]
    }
   ],
   "source": [
    "#//----------------------------\n",
    "#//LIBRARIES\n",
    "    #Math\n",
    "import math\n",
    "    #Numeric Python\n",
    "import numpy as np\n",
    "    #Pandas (dataframes)\n",
    "import pandas as pd\n",
    "    #datetime for fate manipulation\n",
    "from datetime import date, datetime, timedelta \n",
    "    #Regex for advanced string matching\n",
    "import re\n",
    "    #for time related stuff\n",
    "import time\n",
    "    #json library\n",
    "import json\n",
    "    #Analyst tools\n",
    "import sys\n",
    "sys.path.append('../')\n",
    "from analysts_tools.growth import *\n",
    "    #Procurement tools\n",
    "from procurement_lib import send_slack_notification"
   ]
  },
  {
   "cell_type": "code",
   "execution_count": 2,
   "id": "8e4babaa",
   "metadata": {},
   "outputs": [],
   "source": [
    "city_code = \"BOG\""
   ]
  },
  {
   "cell_type": "code",
   "execution_count": 4,
   "id": "2249a7c4",
   "metadata": {},
   "outputs": [],
   "source": [
    "def definir_fechas(city_code):\n",
    "    \n",
    "    def format_date(date):\n",
    "        return date.strftime(\"%Y-%m-%d\")\n",
    "\n",
    "    if  city_code       == \"BAQ\":\n",
    "        dias_ventas     = 70\n",
    "        dias_non_buyers = 23\n",
    "    \n",
    "    elif city_code == \"BOG\":\n",
    "        dias_ventas = 70\n",
    "        dias_non_buyers = 23\n",
    "        \n",
    "    elif city_code == \"MDE\":\n",
    "        dias_ventas = 70\n",
    "        dias_non_buyers = 23\n",
    "    \n",
    "    elif city_code == \"CMX\":\n",
    "        dias_ventas = 70\n",
    "        dias_non_buyers = 23\n",
    "    \n",
    "    elif city_code == \"GDL\":\n",
    "        dias_ventas = 70\n",
    "        dias_non_buyers = 23\n",
    "    \n",
    "    elif city_code == \"SPO\":\n",
    "        dias_ventas = 70\n",
    "        dias_non_buyers = 23\n",
    "    \n",
    "    elif city_code == \"BHZ\":\n",
    "        dias_ventas = 70\n",
    "        dias_non_buyers = 23   \n",
    "        \n",
    "    elif city_code == \"CWB\":\n",
    "        dias_ventas = 70\n",
    "        dias_non_buyers = 23 \n",
    "        \n",
    "    today_date = date.today()\n",
    "    today = format_date(date=today_date)\n",
    "    \n",
    "    non_buyers_date = date.today()- timedelta(days=dias_non_buyers)\n",
    "    non_buyers = format_date(date=non_buyers_date)\n",
    "    \n",
    "    ventas_date = date.today()- timedelta(days=dias_ventas)\n",
    "    ventas = format_date(date=ventas_date)\n",
    "    \n",
    "    return today, non_buyers, ventas\n",
    "\n",
    "business_type_id = 1\n",
    "exchange_rate_dict = {\n",
    "    \"BOG\":3000,\n",
    "    \"BAQ\":3000,\n",
    "    \"MDE\":3000,\n",
    "    \"CMX\":19.19,\n",
    "    \"SPO\":3.88,\n",
    "    \"BHZ\":3.88,\n",
    "    \"GDL\":19.19,\n",
    "    \"CWB\":3.88\n",
    "}\n",
    "\n",
    "#//MicroSegmented users https://redash.federate.frubana.com/queries/62950\n",
    "users_eliminar_ms = pd.read_csv(\"import_data/segments/Segments_W16.csv\")[\"customer_id\"].unique().tolist()\n",
    "\n",
    "#//KAMs customers ### Revisar la columna como esta escrito el customer_id me lo manda Emiliano Lomeli -> KAMs\n",
    "users_eliminar_kam = pd.read_csv(\"import_data/segments/KAMs_APR.csv\", sep=',')[\"user_id\"].unique().tolist()\n",
    "#//Old users queda guardado como BAU_{city_code}_ids_semana.csv\n",
    "\n",
    "users_eliminar_prev = pd.read_csv(f'import_data/BAU clientes/BAU_{city_code}_ids_semana_pasada_3.csv')[\"customer_id\"].unique().tolist()\n",
    "#users_eliminar_prev2 = pd.read_csv(f'import_data/BAU clientes/BAU_{city_code}_ids_semana_pasada_2.csv')[\"customer_id\"].unique().tolist()\n",
    "\n",
    "users_eliminar = users_eliminar_ms + users_eliminar_kam + users_eliminar_prev #+ users_eliminar_prev2\n",
    "#+ users_eliminar_prev"
   ]
  },
  {
   "cell_type": "code",
   "execution_count": 5,
   "id": "278b1ae7",
   "metadata": {},
   "outputs": [
    {
     "name": "stdout",
     "output_type": "stream",
     "text": [
      "95673\n",
      "1737\n"
     ]
    }
   ],
   "source": [
    "print(len(users_eliminar))\n",
    "print(len(users_eliminar_kam))\n",
    "#print(len(users_eliminar_prev))\n",
    "#print(len(users_eliminar_prev2))"
   ]
  },
  {
   "cell_type": "code",
   "execution_count": 6,
   "id": "6f0e6d7b",
   "metadata": {},
   "outputs": [
    {
     "ename": "NameError",
     "evalue": "name 'data_ventas_query' is not defined",
     "output_type": "error",
     "traceback": [
      "\u001b[0;31m---------------------------------------------------------------------------\u001b[0m",
      "\u001b[0;31mNameError\u001b[0m                                 Traceback (most recent call last)",
      "\u001b[0;32m<ipython-input-6-41aaafa5b4ba>\u001b[0m in \u001b[0;36m<module>\u001b[0;34m\u001b[0m\n\u001b[1;32m      4\u001b[0m \u001b[0mdate_today\u001b[0m\u001b[0;34m,\u001b[0m \u001b[0mdate_non_buyers\u001b[0m\u001b[0;34m,\u001b[0m \u001b[0mdate_ventas\u001b[0m \u001b[0;34m=\u001b[0m \u001b[0mdefinir_fechas\u001b[0m\u001b[0;34m(\u001b[0m\u001b[0mcity_code\u001b[0m\u001b[0;34m=\u001b[0m\u001b[0mcity_code\u001b[0m\u001b[0;34m)\u001b[0m\u001b[0;34m\u001b[0m\u001b[0;34m\u001b[0m\u001b[0m\n\u001b[1;32m      5\u001b[0m \u001b[0mexchange_rate\u001b[0m \u001b[0;34m=\u001b[0m \u001b[0mexchange_rate_dict\u001b[0m\u001b[0;34m[\u001b[0m\u001b[0mcity_code\u001b[0m\u001b[0;34m]\u001b[0m\u001b[0;34m\u001b[0m\u001b[0;34m\u001b[0m\u001b[0m\n\u001b[0;32m----> 6\u001b[0;31m ventas_todos = data_ventas_query(ciudad=city_code, tipo_cambio=exchange_rate,\n\u001b[0m\u001b[1;32m      7\u001b[0m                            desde=date_ventas, hasta=date_today, tipo_negocio=business_type_id)\n",
      "\u001b[0;31mNameError\u001b[0m: name 'data_ventas_query' is not defined"
     ]
    }
   ],
   "source": [
    "################################################\n",
    "###Cuello de botella aca\n",
    "################################################\n",
    "date_today, date_non_buyers, date_ventas = definir_fechas(city_code=city_code)\n",
    "exchange_rate = exchange_rate_dict[city_code]\n",
    "ventas_todos = data_ventas_query(ciudad=city_code, tipo_cambio=exchange_rate,\n",
    "                           desde=date_ventas, hasta=date_today, tipo_negocio=business_type_id)"
   ]
  },
  {
   "cell_type": "code",
   "execution_count": 58,
   "id": "c3c76dec",
   "metadata": {},
   "outputs": [],
   "source": [
    "ventas_todos['category'] = ventas_todos['category'].apply(lambda x: 'Bebidas' if 'Cervezas y Licores' in x else x)"
   ]
  },
  {
   "cell_type": "code",
   "execution_count": 59,
   "id": "169106f9",
   "metadata": {},
   "outputs": [],
   "source": [
    "#//Remove skus ###hablar con Paula Diaz --equipo de Ara \n",
    "skus_remove = [\n",
    "271395,\n",
    "271396,\n",
    "271392,\n",
    "99017,\n",
    "324145,\n",
    "324143,\n",
    "56606,\n",
    "56612,\n",
    "-301818, #Diana\n",
    "124661, #Diana\n",
    "124659, #Diana\n",
    "56612, #alquería\n",
    "401540, #alquería \n",
    "56606, #alquería\n",
    "90176, #alquería\n",
    "266755, #alquería\n",
    "126505, #alquería\n",
    "#### experimento mayo\n",
    "-303030,\n",
    "124708,\n",
    "124710,\n",
    "-303057,\n",
    "124702,\n",
    "124700,\n",
    "124716,\n",
    "63697,\n",
    "280865,\n",
    "280868,\n",
    "280862,\n",
    "440367,\n",
    "-304254,\n",
    "-302913,\n",
    "277542,\n",
    "-300543,\n",
    "62912,\n",
    "212438,\n",
    "-302130,\n",
    "210161,\n",
    "210159,\n",
    "97137,\n",
    "83969,\n",
    "241989,\n",
    "271594,\n",
    "271602,\n",
    "99017,\n",
    "147339,\n",
    "254113,\n",
    "254112,\n",
    "31507,\n",
    "82996,\n",
    "102355,\n",
    "111139,\n",
    "118025,\n",
    "118027,\n",
    "118020,\n",
    "-304413,\n",
    "48733,\n",
    "-302271,\n",
    "-302286,\n",
    "367833,\n",
    "136080,\n",
    "136082,\n",
    "130690,\n",
    "290511,\n",
    "169189,\n",
    "290224,\n",
    "290223,\n",
    "290222,\n",
    "377870,\n",
    "377869,\n",
    "377868,\n",
    "219702,\n",
    "37211,\n",
    "219697,\n",
    "37188,\n",
    "296040,\n",
    "296041,\n",
    "91360,\n",
    "91356,\n",
    "106890,\n",
    "106889,\n",
    "106895,\n",
    "162844,\n",
    "162845,\n",
    "162843,\n",
    "278268,\n",
    "322342,\n",
    "278267,\n",
    "285339,\n",
    "285338,\n",
    "195864,\n",
    "195961,\n",
    "195960,\n",
    "290048,\n",
    "290049,\n",
    "290047,\n",
    "218839,\n",
    "218840,\n",
    "218841,\n",
    "197104,\n",
    "197105,\n",
    "359613,\n",
    "196789,\n",
    "196790,\n",
    "196791,\n",
    "250239,\n",
    "250240,\n",
    "197116,\n",
    "342968,\n",
    "342969,\n",
    "342967,\n",
    "197114,\n",
    "197113,\n",
    "197718,\n",
    "197719,\n",
    "197720,\n",
    "195993,\n",
    "195992,\n",
    "195994,\n",
    "304504,\n",
    "249435,\n",
    "249433,\n",
    "249434,\n",
    "290283,\n",
    "371569,\n",
    "371567,\n",
    "371571,\n",
    "371573,\n",
    "254974,\n",
    "254842,\n",
    "254971,\n",
    "254844,\n",
    "254865,\n",
    "254856,\n",
    "295085,\n",
    "254973,\n",
    "336632,\n",
    "249954,\n",
    "249953,\n",
    "249993,\n",
    "249992,\n",
    "404804,\n",
    "404799\n",
    "]"
   ]
  },
  {
   "cell_type": "code",
   "execution_count": 60,
   "id": "d4cb95a4",
   "metadata": {},
   "outputs": [],
   "source": [
    "ventas_todos = ventas_todos[~ventas_todos['sku_id'].isin(skus_remove)]"
   ]
  },
  {
   "cell_type": "code",
   "execution_count": 61,
   "id": "bfffae08",
   "metadata": {},
   "outputs": [],
   "source": [
    "ventas = ventas_todos[(~ventas_todos[\"customer_id\"].isin(users_eliminar))].copy()"
   ]
  },
  {
   "cell_type": "code",
   "execution_count": 62,
   "id": "96356b1e",
   "metadata": {},
   "outputs": [
    {
     "data": {
      "text/plain": [
       "1906"
      ]
     },
     "execution_count": 62,
     "metadata": {},
     "output_type": "execute_result"
    }
   ],
   "source": [
    "ventas_todos.customer_id.nunique()"
   ]
  },
  {
   "cell_type": "code",
   "execution_count": 63,
   "id": "4c9b60b5",
   "metadata": {},
   "outputs": [
    {
     "data": {
      "text/plain": [
       "294"
      ]
     },
     "execution_count": 63,
     "metadata": {},
     "output_type": "execute_result"
    }
   ],
   "source": [
    "ventas.customer_id.nunique()"
   ]
  },
  {
   "cell_type": "code",
   "execution_count": 64,
   "id": "dddcb495",
   "metadata": {},
   "outputs": [],
   "source": [
    "ventas.customer_id.to_csv(f\"import_data/BAU clientes/BAU_{city_code}_ids_semana_pasada_2.csv\", index=False)"
   ]
  },
  {
   "cell_type": "code",
   "execution_count": 65,
   "id": "94b2431c",
   "metadata": {},
   "outputs": [
    {
     "data": {
      "text/plain": [
       "array(['Frutas e Verduras', 'Mercearia', 'Laticínios e Ovos',\n",
       "       'Descartáveis', 'Limpeza e Higiene', 'Congelados', 'Bebidas',\n",
       "       'Proteínas'], dtype=object)"
      ]
     },
     "execution_count": 65,
     "metadata": {},
     "output_type": "execute_result"
    }
   ],
   "source": [
    "ventas.category.unique()"
   ]
  },
  {
   "cell_type": "code",
   "execution_count": 66,
   "id": "4247e651",
   "metadata": {},
   "outputs": [
    {
     "data": {
      "text/plain": [
       "array(['Legumes', 'Tubérculos', 'Azeites, Óleos e Vinagres',\n",
       "       'Açúcar, Adoçantes e Doces', 'Ovos', 'Café, Chocolates e Infusões',\n",
       "       'Frutas', 'Papéis', 'Utensílios de Limpeza', 'Sacos', 'Arroz',\n",
       "       'Feijão', 'Outros Limpadores', 'Massas e Molhos',\n",
       "       'Farinhas e Misturas', 'Temperos', 'Manteigas e Margarinas',\n",
       "       'Detergente, Sabão e Lava-Louças', 'Hortaliças',\n",
       "       'Alimentos Congelados', 'Verduras', 'Leite',\n",
       "       'Desinfetantes e Sanitizantes', 'Queijos', 'Água', 'Embutidos',\n",
       "       'Refrigerante', 'Suco', 'Condimentos', 'Conservas e Enlatados',\n",
       "       'Laticínios', 'Frango', 'Cerveja', 'Utensílios', 'Carne Vermelha',\n",
       "       'Limpadores de Piso', 'Grãos', 'Doces e Sobremesas', 'Suínos',\n",
       "       'Embalagens', 'Desengordurantes'], dtype=object)"
      ]
     },
     "execution_count": 66,
     "metadata": {},
     "output_type": "execute_result"
    }
   ],
   "source": [
    "ventas.subcat.unique()"
   ]
  },
  {
   "cell_type": "code",
   "execution_count": 67,
   "id": "4654830e",
   "metadata": {},
   "outputs": [
    {
     "data": {
      "text/plain": [
       "array(['Água', 'Refrigerante', 'Suco', 'Cerveja'], dtype=object)"
      ]
     },
     "execution_count": 67,
     "metadata": {},
     "output_type": "execute_result"
    }
   ],
   "source": [
    "ventas[['category','subcat']].loc[ventas.category.isin(['Bebidas'])].subcat.unique()"
   ]
  },
  {
   "cell_type": "markdown",
   "id": "3934c9e3",
   "metadata": {},
   "source": [
    "## Proteinas"
   ]
  },
  {
   "cell_type": "code",
   "execution_count": 68,
   "id": "0b2e70b7",
   "metadata": {},
   "outputs": [],
   "source": [
    "defined_categories = {}\n",
    "defined_categories['BOG'] = ['Pollo', 'Res', 'Cerdo','Pescados & Mariscos Congelado','Embutidos']\n",
    "defined_categories['MDE'] = []\n",
    "defined_categories['BAQ'] = ['Pollo', 'Res', 'Cerdo','Pescados & Mariscos Congelado','Embutidos']\n",
    "defined_categories['CMX'] = ['Pollo', 'Res', 'Cerdo','Pescados & Mariscos Congelado','Embutidos']\n",
    "defined_categories['GDL'] = ['Pollo', 'Res', 'Cerdo','Pescados & Mariscos','Embutidos']\n",
    "defined_categories['SPO'] = ['Frango', 'Suínos', 'Embutidos', 'Carne Vermelha','Peixes e Frutos do Mar']\n",
    "defined_categories['CWB'] = ['Frango', 'Suínos', 'Carne Vermelha','Peixes e Frutos do Mar']\n",
    "defined_categories['BHZ'] = ['Frango', 'Suínos', 'Embutidos', 'Carne Vermelha','Peixes e Frutos do Mar']"
   ]
  },
  {
   "cell_type": "code",
   "execution_count": 69,
   "id": "fb21fac9",
   "metadata": {},
   "outputs": [
    {
     "name": "stdout",
     "output_type": "stream",
     "text": [
      "Uso de data externa\n"
     ]
    }
   ],
   "source": [
    "csv_prot, nb_id_prot, nb_email = proceso_para_csv(data_ventas=ventas, todays_date=date_today, non_buyers_date=date_non_buyers, tipo ='non_buyers'\n",
    "                                        , city=city_code, list_to_filter=defined_categories[city_code], level='subcat', limite=0.70, data_ventas_skus = ventas_todos)"
   ]
  },
  {
   "cell_type": "code",
   "execution_count": 70,
   "id": "452f796e",
   "metadata": {},
   "outputs": [
    {
     "data": {
      "text/html": [
       "<div>\n",
       "<style scoped>\n",
       "    .dataframe tbody tr th:only-of-type {\n",
       "        vertical-align: middle;\n",
       "    }\n",
       "\n",
       "    .dataframe tbody tr th {\n",
       "        vertical-align: top;\n",
       "    }\n",
       "\n",
       "    .dataframe thead th {\n",
       "        text-align: right;\n",
       "    }\n",
       "</style>\n",
       "<table border=\"1\" class=\"dataframe\">\n",
       "  <thead>\n",
       "    <tr style=\"text-align: right;\">\n",
       "      <th></th>\n",
       "      <th>20220509_CWB_NB_frango_W19</th>\n",
       "      <th>20220509_CWB_NB_suinos_W19</th>\n",
       "      <th>20220509_CWB_NB_carnevermelha_W19</th>\n",
       "      <th>20220509_CWB_NB_peixesefrutosdomar_W19</th>\n",
       "    </tr>\n",
       "  </thead>\n",
       "  <tbody>\n",
       "    <tr>\n",
       "      <th>0</th>\n",
       "      <td>111873026.0</td>\n",
       "      <td>155896832.0</td>\n",
       "      <td>155896832.0</td>\n",
       "      <td>155896832.0</td>\n",
       "    </tr>\n",
       "    <tr>\n",
       "      <th>1</th>\n",
       "      <td>150941699.0</td>\n",
       "      <td>111873026.0</td>\n",
       "      <td>111873026.0</td>\n",
       "      <td>111873026.0</td>\n",
       "    </tr>\n",
       "    <tr>\n",
       "      <th>2</th>\n",
       "      <td>155891716.0</td>\n",
       "      <td>150941699.0</td>\n",
       "      <td>150941699.0</td>\n",
       "      <td>150941699.0</td>\n",
       "    </tr>\n",
       "    <tr>\n",
       "      <th>3</th>\n",
       "      <td>155047945.0</td>\n",
       "      <td>155891716.0</td>\n",
       "      <td>155891716.0</td>\n",
       "      <td>155891716.0</td>\n",
       "    </tr>\n",
       "    <tr>\n",
       "      <th>4</th>\n",
       "      <td>152086542.0</td>\n",
       "      <td>155047945.0</td>\n",
       "      <td>155047945.0</td>\n",
       "      <td>155047945.0</td>\n",
       "    </tr>\n",
       "    <tr>\n",
       "      <th>...</th>\n",
       "      <td>...</td>\n",
       "      <td>...</td>\n",
       "      <td>...</td>\n",
       "      <td>...</td>\n",
       "    </tr>\n",
       "    <tr>\n",
       "      <th>289</th>\n",
       "      <td>NaN</td>\n",
       "      <td>NaN</td>\n",
       "      <td>154300404.0</td>\n",
       "      <td>154229742.0</td>\n",
       "    </tr>\n",
       "    <tr>\n",
       "      <th>290</th>\n",
       "      <td>NaN</td>\n",
       "      <td>NaN</td>\n",
       "      <td>152517622.0</td>\n",
       "      <td>156222446.0</td>\n",
       "    </tr>\n",
       "    <tr>\n",
       "      <th>291</th>\n",
       "      <td>NaN</td>\n",
       "      <td>NaN</td>\n",
       "      <td>147334140.0</td>\n",
       "      <td>154300404.0</td>\n",
       "    </tr>\n",
       "    <tr>\n",
       "      <th>292</th>\n",
       "      <td>NaN</td>\n",
       "      <td>NaN</td>\n",
       "      <td>NaN</td>\n",
       "      <td>152517622.0</td>\n",
       "    </tr>\n",
       "    <tr>\n",
       "      <th>293</th>\n",
       "      <td>NaN</td>\n",
       "      <td>NaN</td>\n",
       "      <td>NaN</td>\n",
       "      <td>147334140.0</td>\n",
       "    </tr>\n",
       "  </tbody>\n",
       "</table>\n",
       "<p>294 rows × 4 columns</p>\n",
       "</div>"
      ],
      "text/plain": [
       "     20220509_CWB_NB_frango_W19  20220509_CWB_NB_suinos_W19  \\\n",
       "0                   111873026.0                 155896832.0   \n",
       "1                   150941699.0                 111873026.0   \n",
       "2                   155891716.0                 150941699.0   \n",
       "3                   155047945.0                 155891716.0   \n",
       "4                   152086542.0                 155047945.0   \n",
       "..                          ...                         ...   \n",
       "289                         NaN                         NaN   \n",
       "290                         NaN                         NaN   \n",
       "291                         NaN                         NaN   \n",
       "292                         NaN                         NaN   \n",
       "293                         NaN                         NaN   \n",
       "\n",
       "     20220509_CWB_NB_carnevermelha_W19  20220509_CWB_NB_peixesefrutosdomar_W19  \n",
       "0                          155896832.0                             155896832.0  \n",
       "1                          111873026.0                             111873026.0  \n",
       "2                          150941699.0                             150941699.0  \n",
       "3                          155891716.0                             155891716.0  \n",
       "4                          155047945.0                             155047945.0  \n",
       "..                                 ...                                     ...  \n",
       "289                        154300404.0                             154229742.0  \n",
       "290                        152517622.0                             156222446.0  \n",
       "291                        147334140.0                             154300404.0  \n",
       "292                                NaN                             152517622.0  \n",
       "293                                NaN                             147334140.0  \n",
       "\n",
       "[294 rows x 4 columns]"
      ]
     },
     "execution_count": 70,
     "metadata": {},
     "output_type": "execute_result"
    }
   ],
   "source": [
    "nb_id_prot"
   ]
  },
  {
   "cell_type": "code",
   "execution_count": 71,
   "id": "311da3d2",
   "metadata": {},
   "outputs": [],
   "source": [
    "csv_prot.to_csv(f\"export_data/Business_As_Usual/{city_code}/proteinas_{city_code}.csv\", index=False)\n",
    "nb_id_prot.to_csv(f\"export_data/Business_As_Usual/{city_code}/segmentos_proteinas_{city_code}.csv\", index=False)"
   ]
  },
  {
   "cell_type": "markdown",
   "id": "48b4ddfd",
   "metadata": {},
   "source": [
    "## Imperdonables"
   ]
  },
  {
   "cell_type": "code",
   "execution_count": 72,
   "id": "b92187c1",
   "metadata": {},
   "outputs": [
    {
     "name": "stdout",
     "output_type": "stream",
     "text": [
      "Uso de data externa\n",
      "Done CWB\n"
     ]
    }
   ],
   "source": [
    "defined_categories_dict = {\n",
    "    \"BOG\":[\"Tubérculos\", \"Verduras\", \"Frutas\", \"Huevos\", \"Aceites & Grasas\", \"Vasos\", \"Contenedores\", \"Papel & Toallas\"\n",
    "           ,\"Arroz\",'Frutas Jugo','Bebidas sin alcohol'], \n",
    "    \"MDE\":[\"Tubérculos\", \"Verduras\", \"Frutas\", \"Huevos\", \"Vasos\", \"Contenedores\", \"Papel & Toallas\"\n",
    "           ,\"Arroz\",'Bebidas Sin Alcohol'], \n",
    "    \"BAQ\":[\"Tubérculos\", \"Arroz\", \"Frutas\", \"Huevos\", \"Verduras\", \"Vasos\", \"Contenedores\",\"Detergente, Jabón & Lavalozas\",'Bebidas sin alcohol'],\n",
    "    \"CMX\":[\"Azúcar & Endulzantes\", \"Tubérculos\", \"Granos\", \"Frutas\", \"Verduras\", \"Huevos\",\"Leches\",\n",
    "           \"Vasos, Contenedores & Platos\",\"Detergente, Jabón & Lavatrastes\",\"Arroz\",'Pasta'], \n",
    "    \"GDL\":[\"Enlatados\", \"Tubérculos\", \"Verduras\", \"Frutas\",'Alimentos Congelados', 'Leches', 'Huevos',\n",
    "           \"Vasos, Contenedores & Platos\",\"Detergente, Jabón & Lavatrastes\", \"Papel & Toallas\",'Refrescos'], \n",
    "    \"SPO\":[\"Tubérculos\", \"Verduras\", \"Frutas\", \"Legumes\",'' \"Leite\",\"Ovos\",\"Detergente, Sabão e Lava-Louças\",\"Feijão\"\n",
    "          ,'Farinhas e Misturas','Cerveja', 'Refrigerante', 'Suco', 'Água'],\n",
    "    \"CWB\":[\"Tubérculos\", \"Verduras\", \"Frutas\", \"Legumes\",'' \"Leite\",\"Ovos\",\"Detergente, Sabão e Lava-Louças\",\"Feijão\"\n",
    "           ,\"Arroz\",'Farinhas e Misturas','Cerveja', 'Refrigerante', 'Suco', 'Água'],\n",
    "    \"BHZ\":[\"Tubérculos\", \"Verduras\", \"Frutas\", \"Legumes\",'' \"Leite\",\"Ovos\",\"Detergente, Sabão e Lava-Louças\",\"Feijão\"\n",
    "           ,\"Arroz\",'Farinhas e Misturas','Cerveja', 'Refrigerante', 'Suco', 'Água'] \n",
    "}\n",
    "\n",
    "\n",
    "\n",
    "defined_categories = defined_categories_dict[city_code]\n",
    "\n",
    "csv_imper, nb_id_imper, nb_email = proceso_para_csv(data_ventas=ventas, todays_date=date_today, non_buyers_date=date_non_buyers, \n",
    "                                        city=city_code, list_to_filter=defined_categories, level='subcat', limite=0.70, data_ventas_skus = ventas_todos)\n",
    "\n",
    "# # resumen_ara.to_csv(f\"data/Jul-/resumen_ara_imperdonables_{city_code}.csv\", index=False)\n",
    "csv_imper.to_csv(f\"export_data/Business_As_Usual/{city_code}/imperdonables_{city_code}.csv\", index=False)\n",
    "nb_id_imper.to_csv(f\"export_data/Business_As_Usual/{city_code}/segmentos_imperdonables_{city_code}.csv\", index=False)\n",
    "print(f'Done {city_code}')\n",
    "assert 1 == 1"
   ]
  },
  {
   "cell_type": "markdown",
   "id": "3f7a42ce",
   "metadata": {},
   "source": [
    "## Low Pen"
   ]
  },
  {
   "cell_type": "code",
   "execution_count": 73,
   "id": "71e0551e",
   "metadata": {},
   "outputs": [],
   "source": [
    "defined_categories_dict = {\n",
    "    \"BOG\":[ \"Congelados\", \"Aseo e Higiene\", \"Lácteos & Huevos\", \"Desechables\"],\n",
    "    \"MDE\":[],\n",
    "    \"BAQ\":[ \"Congelados\", \"Lácteos & Huevos\", \"Aseo e Higiene\", \"Desechables\"],\n",
    "    \"CMX\":[\"Congelados\", \"Lácteos & Huevos\", \"Aseo e Higiene\", \"Desechables\"],\n",
    "    \"GDL\":[\"Congelados\", \"Lácteos & Huevos\", \"Desechables\"],\n",
    "    \"SPO\":[ \"Congelados\", 'Laticínios e Ovos','Limpeza e Higiene','Descartáveis'],\n",
    "    \"CWB\":[ 'Laticínios e Ovos','Limpeza e Higiene','Descartáveis'],\n",
    "    \"BHZ\":[ \"Congelados\", 'Laticínios e Ovos','Limpeza e Higiene','Descartáveis']\n",
    "}\n",
    "\n",
    "defined_categories = defined_categories_dict[city_code]"
   ]
  },
  {
   "cell_type": "code",
   "execution_count": 74,
   "id": "f546731e",
   "metadata": {},
   "outputs": [],
   "source": [
    "#//Fix para excluir subcategorias\n",
    "subcat_ex = {'BOG':['Huevos','Vasos, contenedores & platos','Papel & toallas'],\n",
    "             'BAQ':['Huevos','Vasos, contenedores & platos','Detergente, Jabón & Lavalozas'],\n",
    "             'CMX':['Huevos','Leches','Vasos, Contenedores & Platos','Detergente, Jabón & Lavatrastes'],\n",
    "             'GDL':['Huevos','Leches','Vasos, Contenedores & Platos'],\n",
    "             'SPO':['Ovos','Leite','Detergente, Sabão e Lava-Louças'],\n",
    "             'CWB':['Ovos','Leite','Detergente, Sabão e Lava-Louças'],\n",
    "             'BHZ':['Ovos','Leite','Detergente, Sabão e Lava-Louças']}"
   ]
  },
  {
   "cell_type": "code",
   "execution_count": 75,
   "id": "f83b2c3c",
   "metadata": {},
   "outputs": [],
   "source": [
    "def organize_text(x, city):\n",
    "    def normalize_text(raw_text):\n",
    "        \"\"\"\n",
    "        Removes common accent characters and normalize text.\n",
    "        \"\"\"\n",
    "        raw_text = raw_text.replace(\" \", \"\")\n",
    "        raw_text = re.sub(r'\\s*', '', raw_text)\n",
    "        raw_text = re.sub(r\"[àáâãäå]\", 'a', raw_text)\n",
    "        raw_text = re.sub(r\"[èéêë]\", 'e', raw_text)\n",
    "        raw_text = re.sub(r\"[ìíîï]\", 'i', raw_text)\n",
    "        raw_text = re.sub(r\"[òóôõö]\", 'o', raw_text)\n",
    "        raw_text = re.sub(r\"[ùúûü]\", 'u', raw_text)\n",
    "        raw_text = re.sub(r\"[ýÿ]\", 'y', raw_text)\n",
    "        raw_text = re.sub(r\"[ß]\", 'ss', raw_text)\n",
    "        raw_text = re.sub(r\"[ñ]\", 'n', raw_text)\n",
    "        raw_text = raw_text.lower()\n",
    "        return raw_text\n",
    "    today_date = date.today()\n",
    "    y = today_date.strftime(\"%Y%m%d\")\n",
    "    x = normalize_text(x)\n",
    "    x = x.replace(\"&\", \"y\")\n",
    "    x = y + \"_\"+ city + \"_NB_\" + x  \n",
    "    return x"
   ]
  },
  {
   "cell_type": "code",
   "execution_count": 76,
   "id": "1c483276",
   "metadata": {},
   "outputs": [],
   "source": [
    "top_products_df = analizar_top_productos(data_ventas=ventas_todos)\n",
    "\n",
    "hijo_padre_dict = dict(zip(top_products_df[\"sku_id\"],\n",
    "                           top_products_df[\"padre_sku_id\"]))\n",
    "\n",
    "top_products_df[\"sku_id_string\"] = top_products_df[\"sku_id\"].astype(str)\n",
    "top_products_df[\"padre_sku_id_string\"] = top_products_df[\"padre_sku_id\"].astype(str)\n",
    "padre_hijo_dict = top_products_df.groupby(by=[\"padre_sku_id_string\"])[\"sku_id_string\"].apply('#'.join).to_dict()\n",
    "\n",
    "def crear_lista_de_skus(x, dictionary_1, dictionary_2):\n",
    "    threshold_products = x[\"penetration_porcentual\"].quantile(q=0.70) # Cambiar para +/- productos\n",
    "    list_of_sku_ids = x[x[\"penetration_porcentual\"] >= threshold_products][\"sku_id\"].tolist()\n",
    "    list_of_sku_ids_padre = list(map(dictionary_1.get, list_of_sku_ids))\n",
    "    list_of_sku_ids_padre = [str(x) for x in list_of_sku_ids_padre]\n",
    "    list_of_sku_ids_hijos = list(map(dictionary_2.get, list_of_sku_ids_padre))\n",
    "    return \"#\".join(list_of_sku_ids_hijos)\n",
    "\n",
    "top_products_df = top_products_df.drop(labels=[\"sku_id_string\", \"padre_sku_id_string\"], axis=1)\n",
    "\n",
    "cat_subcat = {}\n",
    "for i in defined_categories:\n",
    "    cat_subcat[i] = list(ventas_todos[ventas_todos[\"category\"] == i][\"subcat\"].unique())\n",
    "\n",
    "dict_skus_by_non_buyers = dict(zip([x for x in cat_subcat.keys()],\n",
    "                                   [\"#\".join(top_products_df.groupby(by=[\"subcat\"]).apply(crear_lista_de_skus, hijo_padre_dict, padre_hijo_dict)[cat_subcat[x]].values) for x in cat_subcat.keys()]))\n",
    "\n",
    "csv_file = {}\n",
    "start_date = (datetime.strptime(date_today, \"%Y-%m-%d\") + timedelta(days=0)).strftime(\"%d-%m-%Y\")\n",
    "end_date = (datetime.strptime(date_today, \"%Y-%m-%d\") + timedelta(days=8)).strftime(\"%d-%m-%Y\")\n",
    "\n",
    "csv_file[\"offer_name\"] = [organize_text(x, city=city_code) for x in list(dict_skus_by_non_buyers.keys())]\n",
    "csv_file[\"offer_description\"] = None\n",
    "csv_file[\"discount\"] = 18\n",
    "csv_file[\"automatically_consider_offer\"] = \"true\"\n",
    "csv_file[\"start_date\"] = start_date\n",
    "csv_file[\"end_date\"] = end_date\n",
    "csv_file[\"max_uses_per_order\"] = 12\n",
    "csv_file[\"max_uses_per_customer\"] = 1\n",
    "csv_file[\"customer_segment_id\"] = None\n",
    "csv_file[\"sku_id\"] = list(dict_skus_by_non_buyers.values())\n",
    "csv_lowpen = pd.DataFrame(csv_file)\n",
    "\n",
    "todos_los_sku = []\n",
    "for i in dict_skus_by_non_buyers.keys():\n",
    "    lista_sku_ids = dict_skus_by_non_buyers[i]\n",
    "    lista_sku_ids = lista_sku_ids.split(\"#\")\n",
    "    lista_sku_ids = [int(x) for x in lista_sku_ids]\n",
    "    todos_los_sku.extend(lista_sku_ids)\n",
    "    \n",
    "resumen_ara = analizar_top_productos(data_ventas=ventas)\n",
    "resumen_ara = resumen_ara[resumen_ara[\"sku_id\"].isin(todos_los_sku)]\n",
    "\n",
    "# resumen_ara.to_csv(f\"data/Agosto/Business_As_Usual/{city_code}/resumen_ara_low_pen_{city_code}.csv\", index=False)\n",
    "csv_lowpen.to_csv(f\"export_data/Business_As_Usual/{city_code}/low_pen_{city_code}.csv\", index=False)\n",
    "\n",
    "params_non_buyers = {}\n",
    "for n, (i, j) in enumerate(zip([organize_text(x, city=city_code) for x in defined_categories], defined_categories)):\n",
    "    params_non_buyers[n] = {\n",
    "        \"nombre\":i,\n",
    "        \"featureFiltrado\":\"category\",\n",
    "        \"valueFiltrado\":[j]\n",
    "    }\n",
    "\n",
    "nb_id_lowpen = sacar_non_buyers(data_ventas=ventas, filtros=params_non_buyers, especificar_rango={\"desde\":date_non_buyers, \"hasta\":date_today})\n",
    "customer_id_and_email = dict_cliente_email_from_ventas(data_ventas=ventas)\n",
    "#non_buyers_email = non_buyers_df.stack().map(customer_id_and_email).unstack()\n",
    "nb_id_lowpen.to_csv(f\"export_data/Business_As_Usual/{city_code}/segmentos_low_pen_{city_code}.csv\", index=False)"
   ]
  },
  {
   "cell_type": "markdown",
   "id": "ae55e304",
   "metadata": {},
   "source": [
    "## Joint data"
   ]
  },
  {
   "cell_type": "code",
   "execution_count": 77,
   "id": "69e89269",
   "metadata": {},
   "outputs": [],
   "source": [
    "joint_csv = csv_imper.append(csv_prot).append(csv_lowpen)\n",
    "joint_csv.to_csv(f\"export_data/Business_As_Usual/{city_code}/BAU_{city_code}.csv\", index=False)"
   ]
  },
  {
   "cell_type": "code",
   "execution_count": 78,
   "id": "a39cb273",
   "metadata": {},
   "outputs": [
    {
     "name": "stdout",
     "output_type": "stream",
     "text": [
      "20220509_CWB_NB_tuberculos_W19                    167\n",
      "20220509_CWB_NB_verduras_W19                      126\n",
      "20220509_CWB_NB_frutas_W19                        103\n",
      "20220509_CWB_NB_legumes_W19                        86\n",
      "20220509_CWB_NB_leite_W19                         222\n",
      "20220509_CWB_NB_ovos_W19                          272\n",
      "20220509_CWB_NB_detergentesabaoelava-louas_W19    214\n",
      "20220509_CWB_NB_feijao_W19                        264\n",
      "20220509_CWB_NB_arroz_W19                         258\n",
      "20220509_CWB_NB_farinhasemisturas_W19             263\n",
      "20220509_CWB_NB_cerveja_W19                       250\n",
      "20220509_CWB_NB_refrigerante_W19                  222\n",
      "20220509_CWB_NB_suco_W19                          261\n",
      "20220509_CWB_NB_agua_W19                          236\n",
      "20220509_CWB_NB_frango_W19                        259\n",
      "20220509_CWB_NB_suinos_W19                        288\n",
      "20220509_CWB_NB_carnevermelha_W19                 292\n",
      "20220509_CWB_NB_peixesefrutosdomar_W19            294\n",
      "20220509_CWB_NB_laticinioseovos                   173\n",
      "20220509_CWB_NB_limpezaehigiene                   169\n",
      "20220509_CWB_NB_descartaveis                      200\n",
      "dtype: int64\n"
     ]
    }
   ],
   "source": [
    "joint_NB = pd.concat([nb_id_imper, nb_id_prot, nb_id_lowpen], ignore_index=True, sort=False)\n",
    "print(joint_NB.nunique())"
   ]
  },
  {
   "cell_type": "code",
   "execution_count": 79,
   "id": "d9967d51",
   "metadata": {},
   "outputs": [
    {
     "name": "stdout",
     "output_type": "stream",
     "text": [
      "Done CWB\n"
     ]
    }
   ],
   "source": [
    "lst = []\n",
    "name = f\"export_data/Business_As_Usual/{city_code}/segmentos_BAU_{city_code}.txt\"\n",
    "for seg in joint_NB.columns:\n",
    "    id_list = joint_NB[seg].dropna().astype(int)\n",
    "    d = {'name':seg, 'customersIds': list(id_list)}\n",
    "    lst.append(d)\n",
    "with open(name, 'w') as outfile:\n",
    "    json.dump(lst, outfile)    \n",
    "print(f'Done {city_code}')"
   ]
  }
 ],
 "metadata": {
  "kernelspec": {
   "display_name": "Python 3",
   "language": "python",
   "name": "python3"
  },
  "language_info": {
   "codemirror_mode": {
    "name": "ipython",
    "version": 3
   },
   "file_extension": ".py",
   "mimetype": "text/x-python",
   "name": "python",
   "nbconvert_exporter": "python",
   "pygments_lexer": "ipython3",
   "version": "3.7.9"
  }
 },
 "nbformat": 4,
 "nbformat_minor": 5
}
