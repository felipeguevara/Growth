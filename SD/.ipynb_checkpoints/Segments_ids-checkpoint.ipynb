{
 "cells": [
  {
   "cell_type": "code",
   "execution_count": 20,
   "id": "f030a307",
   "metadata": {},
   "outputs": [],
   "source": [
    "#//----------------------------\n",
    "#//LIBRARIES\n",
    "    #Math\n",
    "import math\n",
    "    #Numeric Python\n",
    "import numpy as np\n",
    "    #Pandas (dataframes)\n",
    "import pandas as pd\n",
    "    #datetime for fate manipulation\n",
    "from datetime import date, datetime, timedelta  \n",
    "    #Regex for advanced string matching\n",
    "import re\n",
    "    #for time related stuff\n",
    "import time\n",
    "    #json library\n",
    "import json\n",
    "    #Analyst tools\n",
    "import sys\n",
    "sys.path.append('../')\n",
    "from analysts_tools.growth import *\n",
    "    #Procurement tools\n",
    "from procurement_lib import send_slack_notification\n",
    "from procurement_lib import redash\n",
    "from analysts_tools.redash_methods import *"
   ]
  },
  {
   "cell_type": "code",
   "execution_count": 21,
   "id": "99620aa2",
   "metadata": {},
   "outputs": [
    {
     "name": "stdout",
     "output_type": "stream",
     "text": [
      "200\n"
     ]
    }
   ],
   "source": [
    "segments_ids_df = get_fresh_query_result(\"https://internal-redash.federate.frubana.com/\",88683,'SeoGHWmDUaaBi7VXje1s9zYNiMD1VHQ1K1DYOxiF',{},20)"
   ]
  },
  {
   "cell_type": "code",
   "execution_count": 22,
   "id": "b31c2785",
   "metadata": {},
   "outputs": [
    {
     "data": {
      "text/html": [
       "<div>\n",
       "<style scoped>\n",
       "    .dataframe tbody tr th:only-of-type {\n",
       "        vertical-align: middle;\n",
       "    }\n",
       "\n",
       "    .dataframe tbody tr th {\n",
       "        vertical-align: top;\n",
       "    }\n",
       "\n",
       "    .dataframe thead th {\n",
       "        text-align: right;\n",
       "    }\n",
       "</style>\n",
       "<table border=\"1\" class=\"dataframe\">\n",
       "  <thead>\n",
       "    <tr style=\"text-align: right;\">\n",
       "      <th></th>\n",
       "      <th>offer_name</th>\n",
       "      <th>customer_segment_id_rdsh</th>\n",
       "    </tr>\n",
       "  </thead>\n",
       "  <tbody>\n",
       "    <tr>\n",
       "      <th>2368</th>\n",
       "      <td>20220722_BOG_other_NB_gaseosas_W29</td>\n",
       "      <td>74808</td>\n",
       "    </tr>\n",
       "    <tr>\n",
       "      <th>127</th>\n",
       "      <td>20220722_BOG_cafeteria_NB_gaseosas_W29</td>\n",
       "      <td>74807</td>\n",
       "    </tr>\n",
       "    <tr>\n",
       "      <th>3218</th>\n",
       "      <td>20220722_BOG_parrillaasadero_NB_gaseosas_W29</td>\n",
       "      <td>74806</td>\n",
       "    </tr>\n",
       "    <tr>\n",
       "      <th>3036</th>\n",
       "      <td>20220722_BOG_corrientazo_NB_gaseosas_W29</td>\n",
       "      <td>74805</td>\n",
       "    </tr>\n",
       "    <tr>\n",
       "      <th>1136</th>\n",
       "      <td>20220722_BOG_comidaespecializada_NB_gaseosas_W29</td>\n",
       "      <td>74804</td>\n",
       "    </tr>\n",
       "    <tr>\n",
       "      <th>...</th>\n",
       "      <td>...</td>\n",
       "      <td>...</td>\n",
       "    </tr>\n",
       "    <tr>\n",
       "      <th>3360</th>\n",
       "      <td>20220601_BOG_comidarapida_NB_alimentoscongelad...</td>\n",
       "      <td>67427</td>\n",
       "    </tr>\n",
       "    <tr>\n",
       "      <th>3311</th>\n",
       "      <td>20220601_BOG_comidarapida_NB_res_W22</td>\n",
       "      <td>67426</td>\n",
       "    </tr>\n",
       "    <tr>\n",
       "      <th>699</th>\n",
       "      <td>20220601_BOG_comidarapida_NB_embutidos_W22</td>\n",
       "      <td>67425</td>\n",
       "    </tr>\n",
       "    <tr>\n",
       "      <th>2782</th>\n",
       "      <td>20220601_BOG_comidarapida_NB_aceitesygrasas_W22</td>\n",
       "      <td>67424</td>\n",
       "    </tr>\n",
       "    <tr>\n",
       "      <th>3087</th>\n",
       "      <td>20220601_BOG_comidarapida_NB_pollo_W22</td>\n",
       "      <td>67423</td>\n",
       "    </tr>\n",
       "  </tbody>\n",
       "</table>\n",
       "<p>3364 rows × 2 columns</p>\n",
       "</div>"
      ],
      "text/plain": [
       "                                             offer_name  \\\n",
       "2368                 20220722_BOG_other_NB_gaseosas_W29   \n",
       "127              20220722_BOG_cafeteria_NB_gaseosas_W29   \n",
       "3218       20220722_BOG_parrillaasadero_NB_gaseosas_W29   \n",
       "3036           20220722_BOG_corrientazo_NB_gaseosas_W29   \n",
       "1136   20220722_BOG_comidaespecializada_NB_gaseosas_W29   \n",
       "...                                                 ...   \n",
       "3360  20220601_BOG_comidarapida_NB_alimentoscongelad...   \n",
       "3311               20220601_BOG_comidarapida_NB_res_W22   \n",
       "699          20220601_BOG_comidarapida_NB_embutidos_W22   \n",
       "2782    20220601_BOG_comidarapida_NB_aceitesygrasas_W22   \n",
       "3087             20220601_BOG_comidarapida_NB_pollo_W22   \n",
       "\n",
       "     customer_segment_id_rdsh  \n",
       "2368                    74808  \n",
       "127                     74807  \n",
       "3218                    74806  \n",
       "3036                    74805  \n",
       "1136                    74804  \n",
       "...                       ...  \n",
       "3360                    67427  \n",
       "3311                    67426  \n",
       "699                     67425  \n",
       "2782                    67424  \n",
       "3087                    67423  \n",
       "\n",
       "[3364 rows x 2 columns]"
      ]
     },
     "execution_count": 22,
     "metadata": {},
     "output_type": "execute_result"
    }
   ],
   "source": [
    "segments_ids_df.sort_values(by = 'customer_segment_id_rdsh', ascending=False)"
   ]
  },
  {
   "cell_type": "markdown",
   "id": "916cd885",
   "metadata": {},
   "source": [
    "### To get the segments ID (Should be after loading the segments in POSTMAN and FRIDA"
   ]
  },
  {
   "cell_type": "code",
   "execution_count": 23,
   "id": "f9912067",
   "metadata": {},
   "outputs": [],
   "source": [
    "city_code = 'BOG'"
   ]
  },
  {
   "cell_type": "code",
   "execution_count": 24,
   "id": "431dcd2d",
   "metadata": {},
   "outputs": [],
   "source": [
    "global_offer_csv = pd.read_csv(f'export_data/MS/csv_{city_code}_All_MS.csv')"
   ]
  },
  {
   "cell_type": "code",
   "execution_count": 25,
   "id": "45c63928",
   "metadata": {},
   "outputs": [
    {
     "data": {
      "text/plain": [
       "126"
      ]
     },
     "execution_count": 25,
     "metadata": {},
     "output_type": "execute_result"
    }
   ],
   "source": [
    "len(global_offer_csv)"
   ]
  },
  {
   "cell_type": "code",
   "execution_count": 26,
   "id": "763f7cad",
   "metadata": {},
   "outputs": [
    {
     "data": {
      "text/plain": [
       "126"
      ]
     },
     "execution_count": 26,
     "metadata": {},
     "output_type": "execute_result"
    }
   ],
   "source": [
    "len(global_offer_csv[global_offer_csv['discount'] > 0])"
   ]
  },
  {
   "cell_type": "code",
   "execution_count": 27,
   "id": "ac31fbff",
   "metadata": {},
   "outputs": [],
   "source": [
    "global_offer_csv_ok = global_offer_csv[(global_offer_csv['discount'] > 0)] #& (global_offer_csv['offer_name'].str.contains(\"gaseosas\", case=False))"
   ]
  },
  {
   "cell_type": "code",
   "execution_count": 28,
   "id": "1d348a9d",
   "metadata": {},
   "outputs": [],
   "source": [
    "get_done_csv = global_offer_csv_ok.merge(segments_ids_df[['offer_name','customer_segment_id_rdsh']], how = 'left', on = 'offer_name')"
   ]
  },
  {
   "cell_type": "code",
   "execution_count": 29,
   "id": "38187018",
   "metadata": {},
   "outputs": [
    {
     "name": "stdout",
     "output_type": "stream",
     "text": [
      "Done BOG\n"
     ]
    }
   ],
   "source": [
    "get_done_csv.customer_segment_id = get_done_csv.customer_segment_id_rdsh\n",
    "get_done_csv = get_done_csv.drop(columns = ['customer_segment_id_rdsh'])\n",
    "print(f'Done {city_code}')"
   ]
  },
  {
   "cell_type": "code",
   "execution_count": 30,
   "id": "5da903ed",
   "metadata": {},
   "outputs": [
    {
     "data": {
      "text/html": [
       "<div>\n",
       "<style scoped>\n",
       "    .dataframe tbody tr th:only-of-type {\n",
       "        vertical-align: middle;\n",
       "    }\n",
       "\n",
       "    .dataframe tbody tr th {\n",
       "        vertical-align: top;\n",
       "    }\n",
       "\n",
       "    .dataframe thead th {\n",
       "        text-align: right;\n",
       "    }\n",
       "</style>\n",
       "<table border=\"1\" class=\"dataframe\">\n",
       "  <thead>\n",
       "    <tr style=\"text-align: right;\">\n",
       "      <th></th>\n",
       "      <th>offer_name</th>\n",
       "      <th>offer_description</th>\n",
       "      <th>discount</th>\n",
       "      <th>automatically_consider_offer</th>\n",
       "      <th>start_date</th>\n",
       "      <th>end_date</th>\n",
       "      <th>max_uses_per_order</th>\n",
       "      <th>max_uses_per_customer</th>\n",
       "      <th>customer_segment_id</th>\n",
       "      <th>sku_id</th>\n",
       "    </tr>\n",
       "  </thead>\n",
       "  <tbody>\n",
       "    <tr>\n",
       "      <th>0</th>\n",
       "      <td>20220722_BOG_comidarapida_NB_gaseosas_W29</td>\n",
       "      <td>comidarapida_NB_gaseosas</td>\n",
       "      <td>10</td>\n",
       "      <td>True</td>\n",
       "      <td>22-07-2022</td>\n",
       "      <td>31-07-2022</td>\n",
       "      <td>7</td>\n",
       "      <td>1</td>\n",
       "      <td>74801</td>\n",
       "      <td>194399#227091#194393#271114#271115#271116#2711...</td>\n",
       "    </tr>\n",
       "    <tr>\n",
       "      <th>1</th>\n",
       "      <td>20220722_BOG_empanadasarepas_NB_gaseosas_W29</td>\n",
       "      <td>empanadasarepas_NB_gaseosas</td>\n",
       "      <td>10</td>\n",
       "      <td>True</td>\n",
       "      <td>22-07-2022</td>\n",
       "      <td>31-07-2022</td>\n",
       "      <td>7</td>\n",
       "      <td>1</td>\n",
       "      <td>74802</td>\n",
       "      <td>194399#194393#271114#271116#271115#227091#2711...</td>\n",
       "    </tr>\n",
       "    <tr>\n",
       "      <th>2</th>\n",
       "      <td>20220722_BOG_comidaespecializada_NB_gaseosas_W29</td>\n",
       "      <td>comidaespecializada_NB_gaseosas</td>\n",
       "      <td>10</td>\n",
       "      <td>True</td>\n",
       "      <td>22-07-2022</td>\n",
       "      <td>31-07-2022</td>\n",
       "      <td>7</td>\n",
       "      <td>1</td>\n",
       "      <td>74804</td>\n",
       "      <td>194399#271114#271115#271116#271110#271112#2711...</td>\n",
       "    </tr>\n",
       "    <tr>\n",
       "      <th>3</th>\n",
       "      <td>20220722_BOG_panaderiapasteleria_NB_gaseosas_W29</td>\n",
       "      <td>panaderiapasteleria_NB_gaseosas</td>\n",
       "      <td>10</td>\n",
       "      <td>True</td>\n",
       "      <td>22-07-2022</td>\n",
       "      <td>31-07-2022</td>\n",
       "      <td>7</td>\n",
       "      <td>1</td>\n",
       "      <td>74803</td>\n",
       "      <td>227091#194399#271114#271115#271116#271110#2711...</td>\n",
       "    </tr>\n",
       "    <tr>\n",
       "      <th>4</th>\n",
       "      <td>20220722_BOG_corrientazo_NB_gaseosas_W29</td>\n",
       "      <td>corrientazo_NB_gaseosas</td>\n",
       "      <td>10</td>\n",
       "      <td>True</td>\n",
       "      <td>22-07-2022</td>\n",
       "      <td>31-07-2022</td>\n",
       "      <td>7</td>\n",
       "      <td>1</td>\n",
       "      <td>74805</td>\n",
       "      <td>194399#271114#271116#271115#271110#271112#2711...</td>\n",
       "    </tr>\n",
       "  </tbody>\n",
       "</table>\n",
       "</div>"
      ],
      "text/plain": [
       "                                         offer_name  \\\n",
       "0         20220722_BOG_comidarapida_NB_gaseosas_W29   \n",
       "1      20220722_BOG_empanadasarepas_NB_gaseosas_W29   \n",
       "2  20220722_BOG_comidaespecializada_NB_gaseosas_W29   \n",
       "3  20220722_BOG_panaderiapasteleria_NB_gaseosas_W29   \n",
       "4          20220722_BOG_corrientazo_NB_gaseosas_W29   \n",
       "\n",
       "                 offer_description  discount  automatically_consider_offer  \\\n",
       "0         comidarapida_NB_gaseosas        10                          True   \n",
       "1      empanadasarepas_NB_gaseosas        10                          True   \n",
       "2  comidaespecializada_NB_gaseosas        10                          True   \n",
       "3  panaderiapasteleria_NB_gaseosas        10                          True   \n",
       "4          corrientazo_NB_gaseosas        10                          True   \n",
       "\n",
       "   start_date    end_date  max_uses_per_order  max_uses_per_customer  \\\n",
       "0  22-07-2022  31-07-2022                   7                      1   \n",
       "1  22-07-2022  31-07-2022                   7                      1   \n",
       "2  22-07-2022  31-07-2022                   7                      1   \n",
       "3  22-07-2022  31-07-2022                   7                      1   \n",
       "4  22-07-2022  31-07-2022                   7                      1   \n",
       "\n",
       "  customer_segment_id                                             sku_id  \n",
       "0               74801  194399#227091#194393#271114#271115#271116#2711...  \n",
       "1               74802  194399#194393#271114#271116#271115#227091#2711...  \n",
       "2               74804  194399#271114#271115#271116#271110#271112#2711...  \n",
       "3               74803  227091#194399#271114#271115#271116#271110#2711...  \n",
       "4               74805  194399#271114#271116#271115#271110#271112#2711...  "
      ]
     },
     "execution_count": 30,
     "metadata": {},
     "output_type": "execute_result"
    }
   ],
   "source": [
    "get_done_csv.head()"
   ]
  },
  {
   "cell_type": "code",
   "execution_count": 31,
   "id": "7aaf4ad8",
   "metadata": {},
   "outputs": [
    {
     "data": {
      "text/plain": [
       "8"
      ]
     },
     "execution_count": 31,
     "metadata": {},
     "output_type": "execute_result"
    }
   ],
   "source": [
    "len(get_done_csv)"
   ]
  },
  {
   "cell_type": "code",
   "execution_count": 32,
   "id": "d499a141",
   "metadata": {},
   "outputs": [],
   "source": [
    "get_done_csv.to_csv(f'export_data/MS/csv_{city_code}_All_MS.csv', index = False)"
   ]
  }
 ],
 "metadata": {
  "kernelspec": {
   "display_name": "Python 3 (ipykernel)",
   "language": "python",
   "name": "python3"
  },
  "language_info": {
   "codemirror_mode": {
    "name": "ipython",
    "version": 3
   },
   "file_extension": ".py",
   "mimetype": "text/x-python",
   "name": "python",
   "nbconvert_exporter": "python",
   "pygments_lexer": "ipython3",
   "version": "3.7.9"
  }
 },
 "nbformat": 4,
 "nbformat_minor": 5
}
