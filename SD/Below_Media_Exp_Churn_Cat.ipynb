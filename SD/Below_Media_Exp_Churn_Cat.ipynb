{
 "cells": [
  {
   "cell_type": "code",
   "execution_count": 24,
   "metadata": {},
   "outputs": [],
   "source": [
    "#//----------------------------\n",
    "#//LIBRARIES\n",
    "    #Math\n",
    "import math\n",
    "    #Numeric Python\n",
    "import numpy as np\n",
    "    #Pandas (dataframes)\n",
    "import pandas as pd\n",
    "    #datetime for fate manipulation\n",
    "from datetime import date, datetime, timedelta  \n",
    "    #Regex for advanced string matching\n",
    "import re\n",
    "    #for time related stuff\n",
    "import time\n",
    "    #json library\n",
    "import json\n",
    "    #Analyst tools\n",
    "import sys\n",
    "sys.path.append('../')\n",
    "from analysts_tools.growth import *\n",
    "    #Procurement tools\n",
    "from procurement_lib import send_slack_notification\n",
    "from procurement_lib import redash\n",
    "from analysts_tools.redash_methods import *\n",
    "\n",
    "import random\n",
    "import time"
   ]
  },
  {
   "cell_type": "code",
   "execution_count": 25,
   "metadata": {},
   "outputs": [],
   "source": [
    "#//---------------------------------------------------------------------------------------------------------------------------\n",
    "#// Parametros\n",
    "\"\"\"Todays date should be the first day of the next month which is going to begin with SD\"\"\"\n",
    "city_code = 'BOG'\n",
    "    #year-month-day\n",
    "todays_date = '2022-08-20' \n",
    "#non_buyers_date = '2022-07-06' #1 months\n",
    "customer_date_desde = '2022-06-20' #3 months\n",
    "    #data for sku sales data\n",
    "#sku_date_desde = '2022-06-06' #2 months\n",
    "\n",
    "t_cambio = 3.88 #COL=3000 // MX=19.19 // BR=3.88"
   ]
  },
  {
   "cell_type": "markdown",
   "metadata": {},
   "source": [
    "### Loading DATA_VENTAS // Removing SKUs /\\ CUSTOMERS_ID"
   ]
  },
  {
   "cell_type": "code",
   "execution_count": 26,
   "metadata": {},
   "outputs": [],
   "source": [
    "query = \"\"\"\n",
    "SELECT DISTINCT\n",
    "    bo.submit_date,\n",
    "    TO_CHAR(bo.submit_date, 'YYYY-mm') AS month,\n",
    "    bo.order_id,\n",
    "    bo.customer_id,\n",
    "    boi.name,\n",
    "    (boi.quantity * foi.step_unit * boi.sale_price)/{tipo_cambio} as gmv_usd,\n",
    "    COALESCE((baid.adjustment_value * boip.quantity * foi.step_unit)/{tipo_cambio}, 0) as discount_applied,\n",
    "    COALESCE(foi.total_tax_iva/{tipo_cambio},0) as taxes,\n",
    "    boi.quantity* foi.step_unit as cant,\n",
    "    UPPER(fpro.unit) as unidades,\n",
    "    bs.sku_id,\n",
    "    bs.addl_product_id as padre_sku_id,\n",
    "    s.site_identifier_value as region_code,\n",
    "    CASE\n",
    "        WHEN COALESCE(bcat2.name, bcat.name) ILIKE 'Proteínas%' THEN 'Proteínas'\n",
    "        ELSE COALESCE(bcat2.name, bcat.name) \n",
    "    END AS category,\n",
    "    CASE\n",
    "        WHEN bcat.name ILIKE 'Pollo%' THEN 'Pollo'\n",
    "        WHEN bcat.name ILIKE 'Res%' THEN 'Res'\n",
    "        WHEN bcat.name ILIKE 'Cerdo%' THEN 'Cerdo'\n",
    "        ELSE bcat.name\n",
    "    END AS subcat,\n",
    "    baid.adjustment_reason\n",
    "FROM postgres_broadleaf_federate.\"broadleaf.blc_fulfillment_group_item\"     bfgi\n",
    "INNER JOIN postgres_broadleaf_federate.\"broadleaf.blc_fulfillment_group\"    bfg        ON bfgi.fulfillment_group_id = bfg.fulfillment_group_id\n",
    "INNER JOIN postgres_broadleaf_federate.\"broadleaf.fb_fulfillment_group\"     ffg        ON ffg.fulfillment_group_id = bfg.fulfillment_group_id\n",
    "INNER JOIN postgres_broadleaf_federate.\"broadleaf.blc_order\"                bo         ON bo.order_id = bfg.order_id\n",
    "INNER JOIN postgres_broadleaf_federate.\"broadleaf.blc_site\"                 s          ON bo.site_disc = s.site_id\n",
    "INNER JOIN postgres_broadleaf_federate.\"broadleaf.blc_order_item\"           boi        ON bfgi.order_item_id= boi.order_item_id\n",
    "INNER JOIN postgres_broadleaf_federate.\"broadleaf.fb_order_item\"            foi        ON boi.order_item_id= foi.order_item_id\n",
    "INNER JOIN postgres_broadleaf_federate.\"broadleaf.fb_owner\"                 fow        ON fow.owner_id = ffg.owner_id\n",
    "INNER JOIN postgres_broadleaf_federate.\"broadleaf.fb_order\"                 fo         ON fo.order_id = bo.order_id\n",
    "INNER JOIN postgres_broadleaf_federate.\"broadleaf.blc_fulfillment_order\"    bfo        ON bfo.fulfillment_group_id= bfg.fulfillment_group_id\n",
    "INNER JOIN postgres_broadleaf_federate.\"broadleaf.blc_discrete_order_item\"  bdoi       ON bdoi.order_item_id = boi.order_item_id\n",
    "INNER JOIN postgres_broadleaf_federate.\"broadleaf.blc_sku\"                  bs         ON bs.sku_id = bdoi.sku_id\n",
    "INNER JOIN postgres_broadleaf_federate.\"broadleaf.blc_product\"              bp         ON bs.addl_product_id = bp.product_id\n",
    "INNER JOIN postgres_broadleaf_federate.\"broadleaf.blc_category\"             bcat       ON bcat.category_id = bp.default_category_id\n",
    "INNER JOIN postgres_broadleaf_federate.\"broadleaf.fb_product\"               fpro       ON fpro.product_id = bp.product_id\n",
    "LEFT JOIN  postgres_broadleaf_federate.\"broadleaf.blc_order_payment\"        bop        ON bop.order_id = bo.order_id\n",
    "LEFT JOIN  postgres_broadleaf_federate.\"broadleaf.fb_order_type\"            fot        ON fot.fb_order_type_id=fo.fb_order_type_id\n",
    "LEFT JOIN  postgres_broadleaf_federate.\"broadleaf.fb_customer\"              fc         ON fc.customer_id = bo.customer_id\n",
    "LEFT JOIN  postgres_broadleaf_federate.\"broadleaf.fb_business_type\"         bt         ON fc.business_type_id = bt.business_type_id\n",
    "LEFT JOIN  postgres_broadleaf_federate.\"broadleaf.blc_category_xref\"        bcx        ON bcx.sub_category_id = bp.default_category_id AND bcx.archived='N' AND bcx.sndbx_tier is NULL\n",
    "LEFT JOIN postgres_broadleaf_federate.\"broadleaf.blc_category\"             bcat2      ON bcx.category_id = bcat2.category_id\n",
    "LEFT JOIN postgres_broadleaf_federate.\"broadleaf.blc_order_item_price_dtl\"  boip       ON  boi.order_item_id = boip.order_item_id\n",
    "LEFT JOIN postgres_broadleaf_federate.\"broadleaf.blc_order_item_dtl_adj\"    baid       ON  baid.order_item_price_dtl_id = boip.order_item_price_dtl_id\n",
    "\n",
    "WHERE \n",
    "   DATE(bo.submit_date) between '{desde}' AND '{hasta}'\n",
    "   AND bo.order_status='SUBMITTED'\n",
    "   AND fo.fb_order_status_id IN (1,6,7,8) \n",
    "   AND s.site_identifier_value IN ('{ciudad}')\n",
    "   AND bfo.status NOT IN ('ARCHIVED','CANCELLED')\n",
    "   AND bop.archived = 'N'\n",
    "   AND (fot.name IS NULL OR fot.name <> 'REFUND')\n",
    "   AND fc.business_type_id IN (1)\n",
    "   -- FIX SUPER DESCUENTOS\n",
    "   AND bcat2.category_id not in ('110873','-1000','100768','100765','100815') --ids de super descuentos en cada país\n",
    "   AND bcat.name <> 'Oferton Frubana' AND bcat2.name <> 'Oferton Frubana'\n",
    "\"\"\".format(tipo_cambio=t_cambio, desde=customer_date_desde, hasta=todays_date, ciudad=city_code)\n",
    "\n",
    "data_ventas = read_connection_data_warehouse.runQuery(query)\n",
    "data_ventas[[\"gmv_usd\", \"cant\"]] = data_ventas[[\"gmv_usd\", \"cant\"]].astype(float)\n",
    "data_ventas[\"submit_date\"] = pd.to_datetime(data_ventas[\"submit_date\"])"
   ]
  },
  {
   "cell_type": "code",
   "execution_count": 29,
   "metadata": {},
   "outputs": [
    {
     "data": {
      "text/plain": [
       "15047"
      ]
     },
     "execution_count": 27,
     "metadata": {},
     "output_type": "execute_result"
    }
   ],
   "source": [
    "len(data_ventas[data_ventas.category == 'Frutas & Verduras']['customer_id'].unique())"
   ]
  },
  {
   "cell_type": "code",
   "execution_count": 12,
   "metadata": {},
   "outputs": [],
   "source": [
    "clients = [171043844,42075587,36173276,94273119,16030964,9748730,30346656,24267167,23307010,71437898,19592841,151325085,73463992,18968182,61672142,47577505,\n",
    "           40308942,33769755,-207621,65497560,105629899,-227499,17848390,161940203,60659548,19871015,152332014,78674091,17412555,-214387,43137535,39855245,66400757,\n",
    "           41475532,59317457,45264674,-214201,15327736,16187033,147366607\n",
    "]"
   ]
  },
  {
   "cell_type": "code",
   "execution_count": 18,
   "metadata": {},
   "outputs": [
    {
     "data": {
      "text/plain": [
       "array(['Bebidas', 'Frutas & Verduras', 'Carne, Pollo & Pescados',\n",
       "       'Lácteos & Huevos', 'Abarrotes', 'Desechables', 'Aseo e Higiene',\n",
       "       'Congelados'], dtype=object)"
      ]
     },
     "execution_count": 16,
     "metadata": {},
     "output_type": "execute_result"
    }
   ],
   "source": [
    "data_ventas.category.unique()"
   ]
  },
  {
   "cell_type": "code",
   "execution_count": 13,
   "metadata": {},
   "outputs": [
    {
     "data": {
      "text/plain": [
       "array(['Verduras', 'Tubérculos', 'Frutas', 'Especies'], dtype=object)"
      ]
     },
     "execution_count": 11,
     "metadata": {},
     "output_type": "execute_result"
    }
   ],
   "source": [
    "data_ventas[data_ventas.category == 'Frutas & Verduras']['subcat'].unique()"
   ]
  },
  {
   "cell_type": "code",
   "execution_count": 14,
   "metadata": {},
   "outputs": [
    {
     "data": {
      "text/html": [
       "<div>\n",
       "<style scoped>\n",
       "    .dataframe tbody tr th:only-of-type {\n",
       "        vertical-align: middle;\n",
       "    }\n",
       "\n",
       "    .dataframe tbody tr th {\n",
       "        vertical-align: top;\n",
       "    }\n",
       "\n",
       "    .dataframe thead th {\n",
       "        text-align: right;\n",
       "    }\n",
       "</style>\n",
       "<table border=\"1\" class=\"dataframe\">\n",
       "  <thead>\n",
       "    <tr style=\"text-align: right;\">\n",
       "      <th></th>\n",
       "      <th>submit_date</th>\n",
       "      <th>month</th>\n",
       "      <th>order_id</th>\n",
       "      <th>customer_id</th>\n",
       "      <th>name</th>\n",
       "      <th>gmv_usd</th>\n",
       "      <th>discount_applied</th>\n",
       "      <th>taxes</th>\n",
       "      <th>cant</th>\n",
       "      <th>unidades</th>\n",
       "      <th>sku_id</th>\n",
       "      <th>padre_sku_id</th>\n",
       "      <th>region_code</th>\n",
       "      <th>category</th>\n",
       "      <th>subcat</th>\n",
       "      <th>adjustment_reason</th>\n",
       "    </tr>\n",
       "  </thead>\n",
       "  <tbody>\n",
       "  </tbody>\n",
       "</table>\n",
       "</div>"
      ],
      "text/plain": [
       "Empty DataFrame\n",
       "Columns: [submit_date, month, order_id, customer_id, name, gmv_usd, discount_applied, taxes, cant, unidades, sku_id, padre_sku_id, region_code, category, subcat, adjustment_reason]\n",
       "Index: []"
      ]
     },
     "execution_count": 12,
     "metadata": {},
     "output_type": "execute_result"
    }
   ],
   "source": [
    "subcats = ['Verduras', 'Frutas', 'Tubérculos', 'Frutas Jugo', 'Especias']\n",
    "data_ventas[(data_ventas.customer_id.isin(clients)) & (data_ventas.subcat.isin(subcats))] "
   ]
  },
  {
   "cell_type": "code",
   "execution_count": 15,
   "metadata": {},
   "outputs": [],
   "source": [
    "a = data_ventas[(data_ventas.customer_id.isin(clients)) & (data_ventas.subcat.isin(subcats))].groupby(by=['padre_sku_id']).apply(\n",
    "    lambda d: pd.Series(\n",
    "        {\n",
    "            \"gmv_usd\": d[\"gmv_usd\"].sum(),\n",
    "            \"cant\": d[\"cant\"].sum(),\n",
    "            \"customer_id\": d[\"customer_id\"].nunique(),\n",
    "            \"avg_gmv\": d[\"gmv_usd\"].sum() / d[\"customer_id\"].nunique(),\n",
    "            \"avg_cant\": d[\"cant\"].sum() / d[\"customer_id\"].nunique(),\n",
    "            \"discount_usd\": d[\"discount_applied\"].sum(),\n",
    "            \"avg_discount\": float(d[\"discount_applied\"].sum() / d[\"customer_id\"].nunique()),\n",
    "            \"% dct\": float(d[\"discount_applied\"].sum()) *100.0 / d[\"gmv_usd\"].sum(),\n",
    "            \"skus\": \"#\".join([str(x) for x in d[\"sku_id\"].unique()])\n",
    "            \n",
    "        }\n",
    "    )\n",
    ").reset_index()"
   ]
  },
  {
   "cell_type": "code",
   "execution_count": 16,
   "metadata": {},
   "outputs": [
    {
     "data": {
      "text/html": [
       "<div>\n",
       "<style scoped>\n",
       "    .dataframe tbody tr th:only-of-type {\n",
       "        vertical-align: middle;\n",
       "    }\n",
       "\n",
       "    .dataframe tbody tr th {\n",
       "        vertical-align: top;\n",
       "    }\n",
       "\n",
       "    .dataframe thead th {\n",
       "        text-align: right;\n",
       "    }\n",
       "</style>\n",
       "<table border=\"1\" class=\"dataframe\">\n",
       "  <thead>\n",
       "    <tr style=\"text-align: right;\">\n",
       "      <th></th>\n",
       "      <th>padre_sku_id</th>\n",
       "      <th>gmv_usd</th>\n",
       "      <th>cant</th>\n",
       "      <th>customer_id</th>\n",
       "      <th>avg_gmv</th>\n",
       "      <th>avg_cant</th>\n",
       "      <th>avg_discount</th>\n",
       "      <th>% dct</th>\n",
       "    </tr>\n",
       "  </thead>\n",
       "  <tbody>\n",
       "    <tr>\n",
       "      <th>count</th>\n",
       "      <td>130.000000</td>\n",
       "      <td>1.300000e+02</td>\n",
       "      <td>130.000000</td>\n",
       "      <td>130.000000</td>\n",
       "      <td>130.000000</td>\n",
       "      <td>130.000000</td>\n",
       "      <td>130.000000</td>\n",
       "      <td>130.000000</td>\n",
       "    </tr>\n",
       "    <tr>\n",
       "      <th>mean</th>\n",
       "      <td>-113218.200000</td>\n",
       "      <td>1.606627e+06</td>\n",
       "      <td>3026.412538</td>\n",
       "      <td>192.761538</td>\n",
       "      <td>6213.233565</td>\n",
       "      <td>6.745618</td>\n",
       "      <td>164.599825</td>\n",
       "      <td>2.797038</td>\n",
       "    </tr>\n",
       "    <tr>\n",
       "      <th>std</th>\n",
       "      <td>133736.241765</td>\n",
       "      <td>6.550206e+06</td>\n",
       "      <td>20991.678851</td>\n",
       "      <td>329.714366</td>\n",
       "      <td>7334.453313</td>\n",
       "      <td>15.220321</td>\n",
       "      <td>219.173811</td>\n",
       "      <td>2.800206</td>\n",
       "    </tr>\n",
       "    <tr>\n",
       "      <th>min</th>\n",
       "      <td>-201313.000000</td>\n",
       "      <td>4.922680e+03</td>\n",
       "      <td>1.000000</td>\n",
       "      <td>1.000000</td>\n",
       "      <td>570.401513</td>\n",
       "      <td>0.722222</td>\n",
       "      <td>0.000000</td>\n",
       "      <td>0.000000</td>\n",
       "    </tr>\n",
       "    <tr>\n",
       "      <th>25%</th>\n",
       "      <td>-200516.000000</td>\n",
       "      <td>1.260321e+05</td>\n",
       "      <td>81.072500</td>\n",
       "      <td>30.500000</td>\n",
       "      <td>2763.268520</td>\n",
       "      <td>2.083438</td>\n",
       "      <td>13.517010</td>\n",
       "      <td>0.429624</td>\n",
       "    </tr>\n",
       "    <tr>\n",
       "      <th>50%</th>\n",
       "      <td>-200104.000000</td>\n",
       "      <td>3.251767e+05</td>\n",
       "      <td>254.500000</td>\n",
       "      <td>77.500000</td>\n",
       "      <td>4700.562315</td>\n",
       "      <td>3.387827</td>\n",
       "      <td>99.612980</td>\n",
       "      <td>2.342688</td>\n",
       "    </tr>\n",
       "    <tr>\n",
       "      <th>75%</th>\n",
       "      <td>28662.250000</td>\n",
       "      <td>1.037091e+06</td>\n",
       "      <td>1044.372500</td>\n",
       "      <td>202.250000</td>\n",
       "      <td>7054.724780</td>\n",
       "      <td>5.967100</td>\n",
       "      <td>217.711779</td>\n",
       "      <td>4.243663</td>\n",
       "    </tr>\n",
       "    <tr>\n",
       "      <th>max</th>\n",
       "      <td>305509.000000</td>\n",
       "      <td>7.239184e+07</td>\n",
       "      <td>238954.190000</td>\n",
       "      <td>2092.000000</td>\n",
       "      <td>66966.740283</td>\n",
       "      <td>129.406780</td>\n",
       "      <td>1171.546390</td>\n",
       "      <td>14.345833</td>\n",
       "    </tr>\n",
       "  </tbody>\n",
       "</table>\n",
       "</div>"
      ],
      "text/plain": [
       "        padre_sku_id       gmv_usd           cant  customer_id       avg_gmv  \\\n",
       "count     130.000000  1.300000e+02     130.000000   130.000000    130.000000   \n",
       "mean  -113218.200000  1.606627e+06    3026.412538   192.761538   6213.233565   \n",
       "std    133736.241765  6.550206e+06   20991.678851   329.714366   7334.453313   \n",
       "min   -201313.000000  4.922680e+03       1.000000     1.000000    570.401513   \n",
       "25%   -200516.000000  1.260321e+05      81.072500    30.500000   2763.268520   \n",
       "50%   -200104.000000  3.251767e+05     254.500000    77.500000   4700.562315   \n",
       "75%     28662.250000  1.037091e+06    1044.372500   202.250000   7054.724780   \n",
       "max    305509.000000  7.239184e+07  238954.190000  2092.000000  66966.740283   \n",
       "\n",
       "         avg_cant  avg_discount       % dct  \n",
       "count  130.000000    130.000000  130.000000  \n",
       "mean     6.745618    164.599825    2.797038  \n",
       "std     15.220321    219.173811    2.800206  \n",
       "min      0.722222      0.000000    0.000000  \n",
       "25%      2.083438     13.517010    0.429624  \n",
       "50%      3.387827     99.612980    2.342688  \n",
       "75%      5.967100    217.711779    4.243663  \n",
       "max    129.406780   1171.546390   14.345833  "
      ]
     },
     "execution_count": 14,
     "metadata": {},
     "output_type": "execute_result"
    }
   ],
   "source": [
    "a.describe()"
   ]
  },
  {
   "cell_type": "code",
   "execution_count": 19,
   "metadata": {},
   "outputs": [],
   "source": [
    "inferior, superior = np.percentile(a['customer_id'],[50, 100]) #rango entre los skus a tomar\n",
    "\n",
    "skus_offer = ''\n",
    "for i in a[(a.customer_id>inferior) & (a.customer_id<superior)]['padre_sku_id'].unique():\n",
    "    skus_offer = skus_offer + a[a.padre_sku_id == i]['skus'].values[0 ] + '#'\n",
    "skus_offer = skus_offer[:-1]"
   ]
  },
  {
   "cell_type": "code",
   "execution_count": 20,
   "metadata": {},
   "outputs": [
    {
     "data": {
      "text/plain": [
       "'-302949#-303393#-302661#-302130#-300957#-300543#210159#212438#210161#62912#-300510#142264#-302016#139111#-302343#-302283#-302925#-302103#-302100#-300795#-302544#-302916#-302412#-300453#63754#-302256#160938#-301668#-301371#-300888#-301185#-301143#94846#-302562#-300207#-301077#-301137#-300927#286789#-302694#206639#-302556#112755#-300477#-300879#62906#-300753#-300777#62904#-300213#-300222#-300225#-300231#-300249#-302943#-302901#-302898#-302946#327559#327561#327556#-300387#-302028#-302025#-302595#112739#134243#-302484#-301326#-302034#196351#-302919#192764#63744#134238#-302220#63739#-300783#-302208#101969#-303369#-302466#206651#-301269#62896#-302703#-300645#-300657#16211#16209#16224#18439#18446#26107#287738#36878#42875#47269#55848#63788#258690#73211#258696#73267#92108#97944#131193#142749#142755#214690#214694#214692#216258#216264#216262#258799#287277#401340#563293#401348#563300#401346#563298'"
      ]
     },
     "execution_count": 18,
     "metadata": {},
     "output_type": "execute_result"
    }
   ],
   "source": [
    "skus_offer"
   ]
  },
  {
   "cell_type": "code",
   "execution_count": 60,
   "metadata": {},
   "outputs": [],
   "source": [
    "# dict_clients = {'clientes': list(clientes_offer)}\n",
    "# df_clients = pd.DataFrame(dict_clients)\n",
    "# dict_control = {'control': list(control)}\n",
    "# df_control = pd.DataFrame(dict_control)\n",
    "# dict_test = {'test': list(test)}\n",
    "# df_test = pd.DataFrame(dict_test)"
   ]
  },
  {
   "cell_type": "code",
   "execution_count": 21,
   "metadata": {},
   "outputs": [],
   "source": [
    "global_segment_list = [{'name':'20220819_BAQ_experiment_churn_graduados', 'customersIds': list([int(x) for x in clients])}]"
   ]
  },
  {
   "cell_type": "code",
   "execution_count": 22,
   "metadata": {},
   "outputs": [],
   "source": [
    "csv_file = {} \n",
    "csv_file['offer_name'] = '20220819_BAQ_experiment_churn_graduados'\n",
    "csv_file['offer_description'] = None\n",
    "csv_file['discount'] = 11\n",
    "csv_file['automatically_consider_offer'] = \"true\"\n",
    "csv_file['start_date'] = '20-08-2022'\n",
    "csv_file['end_date'] = '28-08-2022'\n",
    "csv_file['max_uses_per_order'] = 100\n",
    "csv_file['max_uses_per_customer'] = 1\n",
    "csv_file['customer_segment_id'] = None\n",
    "csv_file['sku_id'] = skus_offer\n",
    "global_offer_csv = pd.DataFrame(csv_file, index=[0])\n"
   ]
  },
  {
   "cell_type": "code",
   "execution_count": 23,
   "metadata": {},
   "outputs": [
    {
     "name": "stdout",
     "output_type": "stream",
     "text": [
      "SD/Done BAQ\n"
     ]
    }
   ],
   "source": [
    "# #//--------------------------------------------\n",
    "# #//Exporting single file data\n",
    "global_offer_csv.to_csv(f'SD/export_data/Below_Media/csv_{city_code}_experiment_churn_graduados.csv', index = False)\n",
    "\n",
    "#df_clients.to_csv(f'SD/export_data/Below_Media/csv_{city_code}_clientes_offer_J1.csv', index = False)\n",
    "#df_control.to_csv(f'SD/export_data/Below_Media/csv_{city_code}_control_J1.csv', index = False)\n",
    "#df_test.to_csv(f'SD/export_data/Below_Media/csv_{city_code}_test_J1.csv', index = False)\n",
    "\n",
    "\n",
    "with open(f'SD/export_data/Below_Media/nb_{city_code}_experiment_churn_graduados.txt', 'w') as outfile:\n",
    "        json.dump(global_segment_list, outfile)    \n",
    "with open(f'SD/export_data/Below_Media/nb_{city_code}_experiment_churn_graduados.json', 'w') as outfile:\n",
    "        json.dump(global_segment_list, outfile)\n",
    "print(f'SD/Done {city_code}')"
   ]
  }
 ],
 "metadata": {
  "kernelspec": {
   "display_name": "Python 3.7 (XPython)",
   "language": "python",
   "name": "xpython"
  }
 },
 "nbformat": 4,
 "nbformat_minor": 4
}
