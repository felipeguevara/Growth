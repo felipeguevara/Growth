{
 "cells": [
  {
   "cell_type": "code",
   "execution_count": 14,
   "metadata": {},
   "outputs": [],
   "source": [
    "#//----------------------------\n",
    "#//LIBRARIES\n",
    "    #Math\n",
    "import math\n",
    "    #Numeric Python\n",
    "import numpy as np\n",
    "    #Pandas (dataframes)\n",
    "import pandas as pd\n",
    "    #datetime for fate manipulation\n",
    "from datetime import date, datetime, timedelta  \n",
    "    #Regex for advanced string matching\n",
    "import re\n",
    "    #for time related stuff\n",
    "import time\n",
    "    #json library\n",
    "import json\n",
    "    #Analyst tools\n",
    "import sys\n",
    "sys.path.append('../')\n",
    "from analysts_tools.growth import *\n",
    "    #Procurement tools\n",
    "from procurement_lib import send_slack_notification\n",
    "from procurement_lib import redash\n",
    "from analysts_tools.redash_methods import *\n",
    "\n",
    "import random\n",
    "import time\n",
    "import datetime\n",
    "\n",
    "from sklearn.model_selection import train_test_split "
   ]
  },
  {
   "cell_type": "code",
   "execution_count": 15,
   "metadata": {},
   "outputs": [],
   "source": [
    "#//---------------------------------------------------------------------------------------------------------------------------\n",
    "#// Parametros\n",
    "\n",
    "city_code = 'BOG'\n",
    "    \n",
    "#year-month-day\n",
    "todays_date = datetime.datetime.today().strftime('%Y-%m-%d')\n",
    "#non_buyers_date = '2022-08-26' #1 months\n",
    "customer_date_desde = (datetime.datetime.today() - datetime.timedelta(days=20)).strftime('%Y-%m-%d') #1 months\n",
    "    #data for sku sales data\n",
    "#sku_date_desde = '2022-06-26' #2 months\n",
    "\n",
    "dias = 1\n",
    "\n",
    "tasas = {'BOG': 3776,\n",
    "         'BAQ': 3776,\n",
    "         'MDE': 3776,\n",
    "         'CMX': 19.65,\n",
    "         'GDL': 19.65,\n",
    "         'PBC': 19.65,\n",
    "         'SPO': 4.75,\n",
    "         'BHZ': 4.75,\n",
    "         'CWB': 4.75,\n",
    "         'VCP': 4.75}\n",
    "\n",
    "t_cambio = tasas[city_code]"
   ]
  },
  {
   "cell_type": "code",
   "execution_count": 16,
   "metadata": {},
   "outputs": [
    {
     "name": "stdout",
     "output_type": "stream",
     "text": [
      "200\n"
     ]
    }
   ],
   "source": [
    "clear_buyers = get_fresh_query_result(\"https://internal-redash.federate.frubana.com/\",136016,'SeoGHWmDUaaBi7VXje1s9zYNiMD1VHQ1K1DYOxiF',{},20)"
   ]
  },
  {
   "cell_type": "code",
   "execution_count": 17,
   "metadata": {},
   "outputs": [
    {
     "data": {
      "text/html": [
       "<div>\n",
       "<style scoped>\n",
       "    .dataframe tbody tr th:only-of-type {\n",
       "        vertical-align: middle;\n",
       "    }\n",
       "\n",
       "    .dataframe tbody tr th {\n",
       "        vertical-align: top;\n",
       "    }\n",
       "\n",
       "    .dataframe thead th {\n",
       "        text-align: right;\n",
       "    }\n",
       "</style>\n",
       "<table border=\"1\" class=\"dataframe\">\n",
       "  <thead>\n",
       "    <tr style=\"text-align: right;\">\n",
       "      <th></th>\n",
       "      <th>customer_id</th>\n",
       "      <th>last_order_date</th>\n",
       "      <th>recency_days</th>\n",
       "      <th>registered_city</th>\n",
       "    </tr>\n",
       "  </thead>\n",
       "  <tbody>\n",
       "    <tr>\n",
       "      <th>0</th>\n",
       "      <td>308238668</td>\n",
       "      <td>2023-02-28</td>\n",
       "      <td>0</td>\n",
       "      <td>BAQ</td>\n",
       "    </tr>\n",
       "    <tr>\n",
       "      <th>1</th>\n",
       "      <td>307548193</td>\n",
       "      <td>2023-02-27</td>\n",
       "      <td>1</td>\n",
       "      <td>SPO</td>\n",
       "    </tr>\n",
       "    <tr>\n",
       "      <th>2</th>\n",
       "      <td>307574923</td>\n",
       "      <td>2023-02-27</td>\n",
       "      <td>1</td>\n",
       "      <td>CWB</td>\n",
       "    </tr>\n",
       "    <tr>\n",
       "      <th>3</th>\n",
       "      <td>307577156</td>\n",
       "      <td>2023-02-27</td>\n",
       "      <td>1</td>\n",
       "      <td>BOG</td>\n",
       "    </tr>\n",
       "    <tr>\n",
       "      <th>4</th>\n",
       "      <td>307508893</td>\n",
       "      <td>2023-02-27</td>\n",
       "      <td>1</td>\n",
       "      <td>BAQ</td>\n",
       "    </tr>\n",
       "  </tbody>\n",
       "</table>\n",
       "</div>"
      ],
      "text/plain": [
       "   customer_id last_order_date  recency_days registered_city\n",
       "0    308238668      2023-02-28             0             BAQ\n",
       "1    307548193      2023-02-27             1             SPO\n",
       "2    307574923      2023-02-27             1             CWB\n",
       "3    307577156      2023-02-27             1             BOG\n",
       "4    307508893      2023-02-27             1             BAQ"
      ]
     },
     "execution_count": 17,
     "metadata": {},
     "output_type": "execute_result"
    }
   ],
   "source": [
    "clear_buyers[\"last_order_date\"] = pd.to_datetime(clear_buyers[\"last_order_date\"]) \n",
    "clear_buyers = clear_buyers[clear_buyers.last_order_date >= customer_date_desde].copy()\n",
    "clear_buyers.head()"
   ]
  },
  {
   "cell_type": "code",
   "execution_count": 18,
   "metadata": {},
   "outputs": [],
   "source": [
    "query = \"\"\"\n",
    "WITH\n",
    "info AS (\n",
    "SELECT DISTINCT\n",
    "    s.site_identifier_value as region_code,\n",
    "    --ffg.close_date,\n",
    "    bo.customer_id,\n",
    "    --bs.addl_product_id as padre_sku_id,\n",
    "    --bs2.name AS card_name,\n",
    "    --bcat2.name AS category,\n",
    "    bcat.name AS subcat,\n",
    "    COUNT(DISTINCT EXTRACT(WEEK FROM ffg.close_date)) AS count_weeks,\n",
    "    --baid.adjustment_reason,\n",
    "    SUM ( (boi.quantity * foi.step_unit * boi.sale_price)/{tipo_cambio}) AS gmv_usd\n",
    "    --SUM ( COALESCE((baid.adjustment_value * boip.quantity * foi.step_unit)/{tipo_cambio}, 0) ) AS discount_applied,\n",
    "    --SUM ( boi.quantity* foi.step_unit ) AS cant\n",
    "\n",
    "FROM postgres_broadleaf_federate.\"broadleaf.blc_fulfillment_group_item\"     bfgi\n",
    "INNER JOIN postgres_broadleaf_federate.\"broadleaf.blc_fulfillment_group\"    bfg        ON bfgi.fulfillment_group_id = bfg.fulfillment_group_id\n",
    "INNER JOIN postgres_broadleaf_federate.\"broadleaf.fb_fulfillment_group\"     ffg        ON ffg.fulfillment_group_id = bfg.fulfillment_group_id\n",
    "INNER JOIN postgres_broadleaf_federate.\"broadleaf.blc_order\"                bo         ON bo.order_id = bfg.order_id\n",
    "INNER JOIN postgres_broadleaf_federate.\"broadleaf.blc_site\"                 s          ON bo.site_disc = s.site_id\n",
    "INNER JOIN postgres_broadleaf_federate.\"broadleaf.blc_order_item\"           boi        ON bfgi.order_item_id= boi.order_item_id\n",
    "INNER JOIN postgres_broadleaf_federate.\"broadleaf.fb_order_item\"            foi        ON boi.order_item_id= foi.order_item_id\n",
    "INNER JOIN postgres_broadleaf_federate.\"broadleaf.fb_order\"                 fo         ON fo.order_id = bo.order_id\n",
    "INNER JOIN postgres_broadleaf_federate.\"broadleaf.blc_fulfillment_order\"    bfo        ON bfo.fulfillment_group_id= bfg.fulfillment_group_id\n",
    "INNER JOIN postgres_broadleaf_federate.\"broadleaf.blc_discrete_order_item\"  bdoi       ON bdoi.order_item_id = boi.order_item_id\n",
    "INNER JOIN postgres_broadleaf_federate.\"broadleaf.blc_sku\"                  bs         ON bs.sku_id = bdoi.sku_id\n",
    "INNER JOIN postgres_broadleaf_federate.\"broadleaf.blc_product\"              bp         ON bs.addl_product_id = bp.product_id\n",
    "INNER JOIN postgres_broadleaf_federate.\"broadleaf.blc_sku\"                  bs2        ON bs2.sku_id = bp.default_sku_id --Conectar la tarjeta con el sku que guarda la info\n",
    "INNER JOIN postgres_broadleaf_federate.\"broadleaf.blc_category\"             bcat       ON bcat.category_id = bp.default_category_id\n",
    "LEFT JOIN  postgres_broadleaf_federate.\"broadleaf.blc_order_payment\"        bop        ON bop.order_id = bo.order_id\n",
    "LEFT JOIN  postgres_broadleaf_federate.\"broadleaf.fb_order_type\"            fot        ON fot.fb_order_type_id=fo.fb_order_type_id\n",
    "LEFT JOIN  postgres_broadleaf_federate.\"broadleaf.blc_category_xref\"        bcx        ON bcx.sub_category_id = bp.default_category_id AND bcx.archived='N' AND bcx.sndbx_tier is NULL\n",
    "LEFT JOIN postgres_broadleaf_federate.\"broadleaf.blc_category\"              bcat2      ON bcx.category_id = bcat2.category_id\n",
    "--LEFT JOIN postgres_broadleaf_federate.\"broadleaf.blc_order_item_price_dtl\"  boip       ON  boi.order_item_id = boip.order_item_id\n",
    "--LEFT JOIN postgres_broadleaf_federate.\"broadleaf.blc_order_item_dtl_adj\"    baid       ON  baid.order_item_price_dtl_id = boip.order_item_price_dtl_id\n",
    "\n",
    "WHERE \n",
    "   DATE(ffg.close_date) >= current_date - interval '10 week' \n",
    "   AND DATE(ffg.close_date) <=  current_date\n",
    "   AND bo.order_status='SUBMITTED'\n",
    "   AND fo.fb_order_status_id IN (1,6,7,8) \n",
    "   AND s.site_identifier_value = '{ciudad}'\n",
    "   AND bfo.status NOT IN ('ARCHIVED','CANCELLED')\n",
    "   AND bop.archived = 'N'\n",
    "   AND (fot.name IS NULL OR fot.name <> 'REFUND')\n",
    "   -- FIX SUPER DESCUENTOS\n",
    "   AND bcat2.category_id not in ('110873','-1000','100768','100765','100815') --ids de super descuentos en cada país\n",
    "   AND bcat.name <> 'Oferton Frubana' AND bcat2.name <> 'Oferton Frubana'\n",
    "\n",
    "GROUP BY 1,2,3--,5,6,7\n",
    ")\n",
    "\n",
    "SELECT \n",
    "*\n",
    "FROM info\n",
    "WHERE count_weeks > 5\n",
    "\"\"\".format(tipo_cambio=t_cambio, ciudad=city_code)\n",
    "\n",
    "data_ventas_aux = read_connection_data_warehouse.runQuery(query)\n",
    "data_ventas_aux[[\"gmv_usd\"]] = data_ventas_aux[[\"gmv_usd\"]].astype(float)\n",
    "#data_ventas[\"submit_date\"] = pd.to_datetime(data_ventas[\"submit_date\"])"
   ]
  },
  {
   "cell_type": "code",
   "execution_count": 6,
   "metadata": {},
   "outputs": [
    {
     "data": {
      "text/html": [
       "<div>\n",
       "<style scoped>\n",
       "    .dataframe tbody tr th:only-of-type {\n",
       "        vertical-align: middle;\n",
       "    }\n",
       "\n",
       "    .dataframe tbody tr th {\n",
       "        vertical-align: top;\n",
       "    }\n",
       "\n",
       "    .dataframe thead th {\n",
       "        text-align: right;\n",
       "    }\n",
       "</style>\n",
       "<table border=\"1\" class=\"dataframe\">\n",
       "  <thead>\n",
       "    <tr style=\"text-align: right;\">\n",
       "      <th></th>\n",
       "      <th>region_code</th>\n",
       "      <th>customer_id</th>\n",
       "      <th>subcat</th>\n",
       "      <th>count_weeks</th>\n",
       "      <th>gmv_usd</th>\n",
       "    </tr>\n",
       "  </thead>\n",
       "  <tbody>\n",
       "    <tr>\n",
       "      <th>0</th>\n",
       "      <td>BOG</td>\n",
       "      <td>-212085</td>\n",
       "      <td>Verduras</td>\n",
       "      <td>10</td>\n",
       "      <td>354.683525</td>\n",
       "    </tr>\n",
       "    <tr>\n",
       "      <th>1</th>\n",
       "      <td>BOG</td>\n",
       "      <td>35022844</td>\n",
       "      <td>Pulpas de Fruta</td>\n",
       "      <td>6</td>\n",
       "      <td>81.118113</td>\n",
       "    </tr>\n",
       "    <tr>\n",
       "      <th>2</th>\n",
       "      <td>BOG</td>\n",
       "      <td>19776702</td>\n",
       "      <td>Huevos</td>\n",
       "      <td>8</td>\n",
       "      <td>263.691472</td>\n",
       "    </tr>\n",
       "    <tr>\n",
       "      <th>3</th>\n",
       "      <td>BOG</td>\n",
       "      <td>56376131</td>\n",
       "      <td>Papel &amp; Toallas</td>\n",
       "      <td>6</td>\n",
       "      <td>10.987022</td>\n",
       "    </tr>\n",
       "    <tr>\n",
       "      <th>4</th>\n",
       "      <td>BOG</td>\n",
       "      <td>225278759</td>\n",
       "      <td>Verduras</td>\n",
       "      <td>6</td>\n",
       "      <td>119.325608</td>\n",
       "    </tr>\n",
       "  </tbody>\n",
       "</table>\n",
       "</div>"
      ],
      "text/plain": [
       "  region_code  customer_id           subcat  count_weeks     gmv_usd\n",
       "0         BOG      -212085         Verduras           10  354.683525\n",
       "1         BOG     35022844  Pulpas de Fruta            6   81.118113\n",
       "2         BOG     19776702           Huevos            8  263.691472\n",
       "3         BOG     56376131  Papel & Toallas            6   10.987022\n",
       "4         BOG    225278759         Verduras            6  119.325608"
      ]
     },
     "execution_count": 6,
     "metadata": {},
     "output_type": "execute_result"
    }
   ],
   "source": [
    "data_ventas_aux.head()"
   ]
  },
  {
   "cell_type": "code",
   "execution_count": 7,
   "metadata": {},
   "outputs": [],
   "source": [
    "if city_code == 'BOG':\n",
    "    subcats = ['Azúcar & Endulzantes',  'Aceites & Grasas',  'Arroz',  'Harinas & Mezclas',  'Granos',  'Detergente, Jabón & Lavalozas',  'Papel & Toallas',\n",
    "            'Desinfectantes & Sanitizantes',  'Cervezas & Licores',  'Pollo Fresco',  'Res Fresco',  'Res Congelado',  'Cerdo Fresco',  'Pescados & Mariscos Congelado', \n",
    "            'Alimentos Congelados',  'Contenedores',  'Huevos']\n",
    "elif city_code == 'BAQ':\n",
    "    subcats = ['Aceites & Grasas','Alimentos Congelados','Arroz','Azúcar & Endulzantes','Contenedores',\n",
    "               'Gaseosas','Harinas & Mezclas','Huevos','Pollo Congelado','Tubérculos']\n",
    "elif city_code == 'SPO':\n",
    "    subcats = ['Cervejas', 'Refrigerantes e Energéticos', 'Suínos', 'Carne Vermelha', 'Frango', 'Peixes e Frutos do Mar', 'Embutidos', \n",
    "            'Batatas Pré-Fritas', 'Legumes', 'Leite', 'Ovos', 'Queijos', 'Detergente, Sabão e Lava-Louças', 'Arroz', 'Café, Chocolates e Infusões', \n",
    "            'Feijão', 'Massas e Molhos', 'Azeites, Óleos e Vinagres', 'Frutas']\n",
    "else:\n",
    "    print(\"city does not exist yet\")"
   ]
  },
  {
   "cell_type": "code",
   "execution_count": 8,
   "metadata": {},
   "outputs": [],
   "source": [
    "grouped = data_ventas_aux.groupby('subcat').gmv_usd.sum().reset_index()\n",
    "grouped['weight'] = grouped.gmv_usd / grouped.gmv_usd.sum()\n",
    "grouped = grouped.sort_values(by=['weight'], ascending=False)\n",
    "grouped['Cumulative_Weight'] = grouped['weight'].cumsum()\n",
    "grouped = grouped[(grouped.Cumulative_Weight <= 0.8) & (grouped.subcat.isin(subcats))] \n",
    "subcats_exp = grouped.subcat.unique()"
   ]
  },
  {
   "cell_type": "code",
   "execution_count": 9,
   "metadata": {},
   "outputs": [],
   "source": [
    "data_ventas = data_ventas_aux[data_ventas_aux.subcat.isin(subcats_exp)].copy()"
   ]
  },
  {
   "cell_type": "code",
   "execution_count": 10,
   "metadata": {},
   "outputs": [
    {
     "data": {
      "text/html": [
       "<div>\n",
       "<style scoped>\n",
       "    .dataframe tbody tr th:only-of-type {\n",
       "        vertical-align: middle;\n",
       "    }\n",
       "\n",
       "    .dataframe tbody tr th {\n",
       "        vertical-align: top;\n",
       "    }\n",
       "\n",
       "    .dataframe thead th {\n",
       "        text-align: right;\n",
       "    }\n",
       "</style>\n",
       "<table border=\"1\" class=\"dataframe\">\n",
       "  <thead>\n",
       "    <tr style=\"text-align: right;\">\n",
       "      <th></th>\n",
       "      <th>subcat</th>\n",
       "      <th>customers</th>\n",
       "      <th>list_customers</th>\n",
       "    </tr>\n",
       "  </thead>\n",
       "  <tbody>\n",
       "    <tr>\n",
       "      <th>0</th>\n",
       "      <td>Aceites &amp; Grasas</td>\n",
       "      <td>1503</td>\n",
       "      <td>[142238649, 43094225, 154119311, 21795104, 211...</td>\n",
       "    </tr>\n",
       "    <tr>\n",
       "      <th>1</th>\n",
       "      <td>Arroz</td>\n",
       "      <td>1710</td>\n",
       "      <td>[44220547, 285665337, 44592021, 61412609, 2101...</td>\n",
       "    </tr>\n",
       "    <tr>\n",
       "      <th>2</th>\n",
       "      <td>Azúcar &amp; Endulzantes</td>\n",
       "      <td>1181</td>\n",
       "      <td>[-240842, 208387924, 23015960, 85844101, 40639...</td>\n",
       "    </tr>\n",
       "    <tr>\n",
       "      <th>3</th>\n",
       "      <td>Contenedores</td>\n",
       "      <td>1469</td>\n",
       "      <td>[50555161, 204317012, 44697565, 68803684, 4590...</td>\n",
       "    </tr>\n",
       "    <tr>\n",
       "      <th>4</th>\n",
       "      <td>Harinas &amp; Mezclas</td>\n",
       "      <td>776</td>\n",
       "      <td>[227706949, 106346093, 21349844, 15329618, 563...</td>\n",
       "    </tr>\n",
       "    <tr>\n",
       "      <th>5</th>\n",
       "      <td>Huevos</td>\n",
       "      <td>793</td>\n",
       "      <td>[19776702, 209940589, 43119904, 175268690, 526...</td>\n",
       "    </tr>\n",
       "  </tbody>\n",
       "</table>\n",
       "</div>"
      ],
      "text/plain": [
       "                 subcat  customers  \\\n",
       "0      Aceites & Grasas       1503   \n",
       "1                 Arroz       1710   \n",
       "2  Azúcar & Endulzantes       1181   \n",
       "3          Contenedores       1469   \n",
       "4     Harinas & Mezclas        776   \n",
       "5                Huevos        793   \n",
       "\n",
       "                                      list_customers  \n",
       "0  [142238649, 43094225, 154119311, 21795104, 211...  \n",
       "1  [44220547, 285665337, 44592021, 61412609, 2101...  \n",
       "2  [-240842, 208387924, 23015960, 85844101, 40639...  \n",
       "3  [50555161, 204317012, 44697565, 68803684, 4590...  \n",
       "4  [227706949, 106346093, 21349844, 15329618, 563...  \n",
       "5  [19776702, 209940589, 43119904, 175268690, 526...  "
      ]
     },
     "execution_count": 10,
     "metadata": {},
     "output_type": "execute_result"
    }
   ],
   "source": [
    "f = data_ventas.groupby(\"subcat\", as_index=False).agg({'customer_id':[lambda x: x.nunique(),lambda x: list(x.unique())]}).droplevel(0, axis=\"columns\")\n",
    "f.columns = ['subcat', 'customers', 'list_customers']\n",
    "f"
   ]
  },
  {
   "cell_type": "code",
   "execution_count": 11,
   "metadata": {},
   "outputs": [],
   "source": [
    "def create_groups(subcat):\n",
    "    s = f[f.subcat == subcat].list_customers.to_numpy()[0]\n",
    "    \n",
    "    d = data_ventas[(data_ventas.customer_id.isin(s)) & (data_ventas.subcat == subcat)].groupby(\"customer_id\").gmv_usd.mean().reset_index()\n",
    "    \n",
    "    customer_control, customer_test = train_test_split(s, test_size = 0.50)\n",
    "    \n",
    "    alpha=0.01\n",
    "    aux=0\n",
    "    \n",
    "    while abs(1-(d[d.customer_id.isin(customer_control)]['gmv_usd'].mean()/d[d.customer_id.isin(customer_test)]['gmv_usd'].mean())) > alpha:\n",
    "        customer_control, customer_test = train_test_split(s, test_size = 0.50)\n",
    "        \n",
    "        aux+=1\n",
    "        if aux == 1000:\n",
    "            alpha+=0.01\n",
    "            aux=0\n",
    "        \n",
    "    all_users = clear_buyers[(~clear_buyers.customer_id.isin(customer_test)) & (clear_buyers.registered_city == city_code)].customer_id.unique().tolist()\n",
    "    customer_control = [int(customer) for customer in customer_control]\n",
    "    customer_test = [int(customer) for customer in customer_test]\n",
    "    \n",
    "    segt_offer = {'name':\"HOOK_Elasticidad\"+todays_date+\"_\"+city_code+\"_\"+subcat+\"_ALL_F1\", 'customersIds': list(all_users)}\n",
    "    segt_control = {'name':\"HOOK_Elasticidad\"+todays_date+\"_\"+city_code+\"_\"+subcat+\"_CONTROL_F1\", 'customersIds': list(customer_control)}\n",
    "    segt_test = {'name':\"HOOK_Elasticidad\"+todays_date+\"_\"+city_code+\"_\"+subcat+\"_TEST_F1\", 'customersIds': list(customer_test)}\n",
    "    \n",
    "    print(\"SUBCAT:\",subcat, \"// TOTAL_USERS:\", len(all_users), \"// TEST:\",len(customer_test), \"// CONTROL:\",len(customer_control))\n",
    "    \n",
    "    return customer_control, customer_test, segt_test, segt_control, segt_offer"
   ]
  },
  {
   "cell_type": "code",
   "execution_count": 12,
   "metadata": {},
   "outputs": [
    {
     "name": "stdout",
     "output_type": "stream",
     "text": [
      "SUBCAT: Arroz // TOTAL_USERS: 15689 // TEST: 1075 // CONTROL: 1074\n",
      "SUBCAT: Azeites, Óleos e Vinagres // TOTAL_USERS: 15200 // TEST: 1713 // CONTROL: 1713\n",
      "SUBCAT: Cervejas // TOTAL_USERS: 16204 // TEST: 354 // CONTROL: 354\n",
      "SUBCAT: Feijão // TOTAL_USERS: 15929 // TEST: 814 // CONTROL: 813\n",
      "SUBCAT: Frutas // TOTAL_USERS: 14732 // TEST: 2244 // CONTROL: 2243\n",
      "SUBCAT: Legumes // TOTAL_USERS: 14153 // TEST: 2907 // CONTROL: 2906\n",
      "SUBCAT: Leite // TOTAL_USERS: 15927 // TEST: 780 // CONTROL: 779\n",
      "SUBCAT: Queijos // TOTAL_USERS: 16085 // TEST: 537 // CONTROL: 537\n",
      "SUBCAT: Refrigerantes e Energéticos // TOTAL_USERS: 15987 // TEST: 660 // CONTROL: 660\n"
     ]
    }
   ],
   "source": [
    "global_segment_list = []\n",
    "r= {}\n",
    "\n",
    "for subcat in f.subcat:\n",
    "    control, test, segment_t, segment_c, segment_o = create_groups(subcat)\n",
    "    \n",
    "    #r['CONTROL_'+todays_date+\"_\"+city_code+\"_\"+subcat] = control\n",
    "    #r['TEST_'+todays_date+\"_\"+city_code+\"_\"+subcat] = test\n",
    "    \n",
    "    global_segment_list.append(segment_t)\n",
    "    global_segment_list.append(segment_c)\n",
    "    global_segment_list.append(segment_o)\n",
    "\n",
    "df_test_control = pd.DataFrame.from_dict(r, orient='index').T"
   ]
  },
  {
   "cell_type": "code",
   "execution_count": 13,
   "metadata": {},
   "outputs": [
    {
     "data": {
      "text/plain": [
       "16493"
      ]
     },
     "execution_count": 13,
     "metadata": {},
     "output_type": "execute_result"
    }
   ],
   "source": [
    "len(clear_buyers[clear_buyers.registered_city == city_code])"
   ]
  },
  {
   "cell_type": "code",
   "execution_count": 14,
   "metadata": {},
   "outputs": [],
   "source": [
    "def crear_seg(global_value):\n",
    "  import requests\n",
    "  import json\n",
    "\n",
    "  url = f\"https://{city_code}.frubana.com/api/v1/segments/create?api-key=00_growth-team-zzz-qqq_001\"\n",
    "\n",
    "  payload = json.dumps(global_value)\n",
    "\n",
    "\n",
    "  headers = {\n",
    "    'Cookie': 'AWSALB=WGKrKvA1CFOY0m92xSENGAseuE4LrcfQh9y8jK/loGBJdizNm+FvjOqUqVghxdfLkH6Jsa9sfWft2NELchGAP/LNZMXMYhrOE70qDnUuOHATpdJj1UZBMEUBSIN1; AWSALBCORS=WGKrKvA1CFOY0m92xSENGAseuE4LrcfQh9y8jK/loGBJdizNm+FvjOqUqVghxdfLkH6Jsa9sfWft2NELchGAP/LNZMXMYhrOE70qDnUuOHATpdJj1UZBMEUBSIN1; AWSALB=jLY02FPysvF1vTrKLhXbk3ibzmyiAqFJ1ezYVu5PjodkU2QmPHDpRJhb9CvOlOyQ1Ix0mJR1ig+eH9zwJ9i5EOtgsgx79NSROogQb2Ua6yLX/I3bJJ6xtcVO3puI; AWSALBCORS=jLY02FPysvF1vTrKLhXbk3ibzmyiAqFJ1ezYVu5PjodkU2QmPHDpRJhb9CvOlOyQ1Ix0mJR1ig+eH9zwJ9i5EOtgsgx79NSROogQb2Ua6yLX/I3bJJ6xtcVO3puI',\n",
    "    'Content-Type': 'application/json'\n",
    "  }\n",
    "\n",
    "  response = requests.request(\"POST\", url, headers=headers, data=payload)\n",
    "  return response.text"
   ]
  },
  {
   "cell_type": "code",
   "execution_count": 15,
   "metadata": {},
   "outputs": [
    {
     "data": {
      "text/plain": [
       "[('123406', 'Arroz_TEST_F1'),\n",
       " ('123951', 'Arroz_CONTROL_F1'),\n",
       " ('123952', 'Arroz_ALL_F1'),\n",
       " ('123953', 'Azeites, Óleos e Vinagres_TEST_F1'),\n",
       " ('123553', 'Azeites, Óleos e Vinagres_CONTROL_F1'),\n",
       " ('123852', 'Azeites, Óleos e Vinagres_ALL_F1'),\n",
       " ('123853', 'Cervejas_TEST_F1'),\n",
       " ('123904', 'Cervejas_CONTROL_F1'),\n",
       " ('123804', 'Cervejas_ALL_F1'),\n",
       " ('123905', 'Feijão_TEST_F1'),\n",
       " ('123954', 'Feijão_CONTROL_F1'),\n",
       " ('123906', 'Feijão_ALL_F1'),\n",
       " ('123907', 'Frutas_TEST_F1'),\n",
       " ('123705', 'Frutas_CONTROL_F1'),\n",
       " ('123657', 'Frutas_ALL_F1'),\n",
       " ('123606', 'Legumes_TEST_F1'),\n",
       " ('123955', 'Legumes_CONTROL_F1'),\n",
       " ('123908', 'Legumes_ALL_F1'),\n",
       " ('123607', 'Leite_TEST_F1'),\n",
       " ('123608', 'Leite_CONTROL_F1'),\n",
       " ('123805', 'Leite_ALL_F1'),\n",
       " ('123554', 'Queijos_TEST_F1'),\n",
       " ('123555', 'Queijos_CONTROL_F1'),\n",
       " ('123706', 'Queijos_ALL_F1'),\n",
       " ('123609', 'Refrigerantes e Energéticos_TEST_F1'),\n",
       " ('123854', 'Refrigerantes e Energéticos_CONTROL_F1'),\n",
       " ('123806', 'Refrigerantes e Energéticos_ALL_F1')]"
      ]
     },
     "execution_count": 15,
     "metadata": {},
     "output_type": "execute_result"
    }
   ],
   "source": [
    "sgt = []\n",
    "i=0\n",
    "for global_seg in global_segment_list:\n",
    "    rep_text = crear_seg([global_seg])\n",
    "    sgt.append((rep_text[32:].strip('][')[:6], rep_text[32:].strip('][')[38:]))\n",
    "    #i+=1\n",
    "    #if i == 3:\n",
    "    #    break\n",
    "    time.sleep(20)\n",
    "sgt"
   ]
  },
  {
   "cell_type": "code",
   "execution_count": 16,
   "metadata": {},
   "outputs": [
    {
     "data": {
      "text/plain": [
       "'Arroz_TEST_F1'"
      ]
     },
     "execution_count": 16,
     "metadata": {},
     "output_type": "execute_result"
    }
   ],
   "source": [
    "sgt[0][1]"
   ]
  },
  {
   "cell_type": "code",
   "execution_count": 17,
   "metadata": {},
   "outputs": [],
   "source": [
    "segmentos = [i[0] for i in sgt if i[1][i[1].index(\"_\")+1:i[1].index(\"_\", i[1].index(\"_\")+1)] == 'ALL']\n",
    "subcategorias = [i[1][:i[1].index(\"_\")] for i in sgt if i[1][i[1].index(\"_\")+1:i[1].index(\"_\", i[1].index(\"_\")+1)] == 'ALL']"
   ]
  },
  {
   "cell_type": "code",
   "execution_count": 18,
   "metadata": {},
   "outputs": [
    {
     "name": "stdout",
     "output_type": "stream",
     "text": [
      "123952\tArroz\n",
      "123852\tAzeites, Óleos e Vinagres\n",
      "123804\tCervejas\n",
      "123906\tFeijão\n",
      "123657\tFrutas\n",
      "123908\tLegumes\n",
      "123805\tLeite\n",
      "123706\tQueijos\n",
      "123806\tRefrigerantes e Energéticos\n"
     ]
    }
   ],
   "source": [
    "for i,j in enumerate(segmentos):\n",
    "    print(str(j)+\"\\t\"+subcategorias[i])"
   ]
  }
 ],
 "metadata": {
  "kernelspec": {
   "display_name": "Python 3 (ipykernel)",
   "language": "python",
   "name": "python3"
  },
  "orig_nbformat": 4,
  "vscode": {
   "interpreter": {
    "hash": "624741679a3ae5d99cecf49b8df5d516a7a937e6e7328e129d1fa121c8592e26"
   }
  }
 },
 "nbformat": 4,
 "nbformat_minor": 2
}
