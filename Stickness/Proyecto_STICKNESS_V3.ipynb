{
 "cells": [
  {
   "cell_type": "code",
   "execution_count": 1,
   "metadata": {},
   "outputs": [],
   "source": [
    "#//----------------------------\n",
    "#//LIBRARIES\n",
    "    #Math\n",
    "import math\n",
    "    #Numeric Python\n",
    "import numpy as np\n",
    "    #Pandas (dataframes)\n",
    "import pandas as pd\n",
    "    #datetime for fate manipulation\n",
    "from datetime import date, datetime, timedelta  \n",
    "    #Regex for advanced string matching\n",
    "import re\n",
    "    #for time related stuff\n",
    "import time\n",
    "    #json library\n",
    "import json\n",
    "    #Analyst tools\n",
    "import sys\n",
    "sys.path.append('../')\n",
    "from analysts_tools.growth import *\n",
    "    #Procurement tools\n",
    "from procurement_lib import send_slack_notification\n",
    "from procurement_lib import redash\n",
    "from analysts_tools.redash_methods import *\n",
    "\n",
    "import random\n",
    "import time\n",
    "import datetime\n",
    "\n",
    "from sklearn.model_selection import train_test_split "
   ]
  },
  {
   "cell_type": "code",
   "execution_count": 2,
   "metadata": {},
   "outputs": [],
   "source": [
    "#//---------------------------------------------------------------------------------------------------------------------------\n",
    "#// Parametros\n",
    "\n",
    "city_code = 'CMX'\n",
    "    \n",
    "#year-month-day\n",
    "todays_date = datetime.datetime.today().strftime('%Y-%m-%d')\n",
    "#non_buyers_date = '2022-08-26' #1 months\n",
    "customer_date_desde = (datetime.datetime.today() - datetime.timedelta(days=20)).strftime('%Y-%m-%d') #1 months\n",
    "    #data for sku sales data\n",
    "#sku_date_desde = '2022-06-26' #2 months\n",
    "\n",
    "dias = 1\n",
    "\n",
    "tasas = {'BOG': 3776,\n",
    "         'BAQ': 3776,\n",
    "         'MDE': 3776,\n",
    "         'CMX': 19.65,\n",
    "         'GDL': 19.65,\n",
    "         'PBC': 19.65,\n",
    "         'SPO': 4.75,\n",
    "         'BHZ': 4.75,\n",
    "         'CWB': 4.75,\n",
    "         'VCP': 4.75}\n",
    "\n",
    "t_cambio = tasas[city_code]"
   ]
  },
  {
   "cell_type": "code",
   "execution_count": 3,
   "metadata": {},
   "outputs": [
    {
     "name": "stdout",
     "output_type": "stream",
     "text": [
      "200\n"
     ]
    }
   ],
   "source": [
    "clear_buyers = get_fresh_query_result(\"https://internal-redash.federate.frubana.com/\",136016,'SeoGHWmDUaaBi7VXje1s9zYNiMD1VHQ1K1DYOxiF',{},20)"
   ]
  },
  {
   "cell_type": "code",
   "execution_count": 4,
   "metadata": {},
   "outputs": [
    {
     "data": {
      "text/html": [
       "<div>\n",
       "<style scoped>\n",
       "    .dataframe tbody tr th:only-of-type {\n",
       "        vertical-align: middle;\n",
       "    }\n",
       "\n",
       "    .dataframe tbody tr th {\n",
       "        vertical-align: top;\n",
       "    }\n",
       "\n",
       "    .dataframe thead th {\n",
       "        text-align: right;\n",
       "    }\n",
       "</style>\n",
       "<table border=\"1\" class=\"dataframe\">\n",
       "  <thead>\n",
       "    <tr style=\"text-align: right;\">\n",
       "      <th></th>\n",
       "      <th>customer_id</th>\n",
       "      <th>last_order_date</th>\n",
       "      <th>recency_days</th>\n",
       "      <th>registered_city</th>\n",
       "    </tr>\n",
       "  </thead>\n",
       "  <tbody>\n",
       "    <tr>\n",
       "      <th>0</th>\n",
       "      <td>308238668</td>\n",
       "      <td>2023-02-28</td>\n",
       "      <td>0</td>\n",
       "      <td>BAQ</td>\n",
       "    </tr>\n",
       "    <tr>\n",
       "      <th>1</th>\n",
       "      <td>307548193</td>\n",
       "      <td>2023-02-27</td>\n",
       "      <td>1</td>\n",
       "      <td>SPO</td>\n",
       "    </tr>\n",
       "    <tr>\n",
       "      <th>2</th>\n",
       "      <td>307574923</td>\n",
       "      <td>2023-02-27</td>\n",
       "      <td>1</td>\n",
       "      <td>CWB</td>\n",
       "    </tr>\n",
       "    <tr>\n",
       "      <th>3</th>\n",
       "      <td>307577156</td>\n",
       "      <td>2023-02-27</td>\n",
       "      <td>1</td>\n",
       "      <td>BOG</td>\n",
       "    </tr>\n",
       "    <tr>\n",
       "      <th>4</th>\n",
       "      <td>307508893</td>\n",
       "      <td>2023-02-27</td>\n",
       "      <td>1</td>\n",
       "      <td>BAQ</td>\n",
       "    </tr>\n",
       "  </tbody>\n",
       "</table>\n",
       "</div>"
      ],
      "text/plain": [
       "   customer_id last_order_date  recency_days registered_city\n",
       "0    308238668      2023-02-28             0             BAQ\n",
       "1    307548193      2023-02-27             1             SPO\n",
       "2    307574923      2023-02-27             1             CWB\n",
       "3    307577156      2023-02-27             1             BOG\n",
       "4    307508893      2023-02-27             1             BAQ"
      ]
     },
     "execution_count": 4,
     "metadata": {},
     "output_type": "execute_result"
    }
   ],
   "source": [
    "clear_buyers[\"last_order_date\"] = pd.to_datetime(clear_buyers[\"last_order_date\"]) \n",
    "clear_buyers = clear_buyers[clear_buyers.last_order_date >= customer_date_desde].copy()\n",
    "clear_buyers.head()"
   ]
  },
  {
   "cell_type": "code",
   "execution_count": 24,
   "metadata": {},
   "outputs": [],
   "source": [
    "query = \"\"\"\n",
    "WITH\n",
    "info AS (\n",
    "SELECT DISTINCT\n",
    "    s.site_identifier_value as region_code,\n",
    "    --ffg.close_date,\n",
    "    bo.customer_id,\n",
    "    --bs.addl_product_id as padre_sku_id,\n",
    "    --bs2.name AS card_name,\n",
    "    bcat2.name AS category,\n",
    "    --bcat.name AS subcat,\n",
    "    COUNT(DISTINCT EXTRACT(WEEK FROM ffg.close_date)) AS count_weeks,\n",
    "    --baid.adjustment_reason,\n",
    "    SUM ( (boi.quantity * foi.step_unit * boi.sale_price)/{tipo_cambio}) AS gmv_usd\n",
    "    --SUM ( COALESCE((baid.adjustment_value * boip.quantity * foi.step_unit)/{tipo_cambio}, 0) ) AS discount_applied,\n",
    "    --SUM ( boi.quantity* foi.step_unit ) AS cant\n",
    "\n",
    "FROM postgres_broadleaf_federate.\"broadleaf.blc_fulfillment_group_item\"     bfgi\n",
    "INNER JOIN postgres_broadleaf_federate.\"broadleaf.blc_fulfillment_group\"    bfg        ON bfgi.fulfillment_group_id = bfg.fulfillment_group_id\n",
    "INNER JOIN postgres_broadleaf_federate.\"broadleaf.fb_fulfillment_group\"     ffg        ON ffg.fulfillment_group_id = bfg.fulfillment_group_id\n",
    "INNER JOIN postgres_broadleaf_federate.\"broadleaf.blc_order\"                bo         ON bo.order_id = bfg.order_id\n",
    "INNER JOIN postgres_broadleaf_federate.\"broadleaf.blc_site\"                 s          ON bo.site_disc = s.site_id\n",
    "INNER JOIN postgres_broadleaf_federate.\"broadleaf.blc_order_item\"           boi        ON bfgi.order_item_id= boi.order_item_id\n",
    "INNER JOIN postgres_broadleaf_federate.\"broadleaf.fb_order_item\"            foi        ON boi.order_item_id= foi.order_item_id\n",
    "INNER JOIN postgres_broadleaf_federate.\"broadleaf.fb_order\"                 fo         ON fo.order_id = bo.order_id\n",
    "INNER JOIN postgres_broadleaf_federate.\"broadleaf.blc_fulfillment_order\"    bfo        ON bfo.fulfillment_group_id= bfg.fulfillment_group_id\n",
    "INNER JOIN postgres_broadleaf_federate.\"broadleaf.blc_discrete_order_item\"  bdoi       ON bdoi.order_item_id = boi.order_item_id\n",
    "INNER JOIN postgres_broadleaf_federate.\"broadleaf.blc_sku\"                  bs         ON bs.sku_id = bdoi.sku_id\n",
    "INNER JOIN postgres_broadleaf_federate.\"broadleaf.blc_product\"              bp         ON bs.addl_product_id = bp.product_id\n",
    "INNER JOIN postgres_broadleaf_federate.\"broadleaf.blc_sku\"                  bs2        ON bs2.sku_id = bp.default_sku_id --Conectar la tarjeta con el sku que guarda la info\n",
    "INNER JOIN postgres_broadleaf_federate.\"broadleaf.blc_category\"             bcat       ON bcat.category_id = bp.default_category_id\n",
    "LEFT JOIN  postgres_broadleaf_federate.\"broadleaf.blc_order_payment\"        bop        ON bop.order_id = bo.order_id\n",
    "LEFT JOIN  postgres_broadleaf_federate.\"broadleaf.fb_order_type\"            fot        ON fot.fb_order_type_id=fo.fb_order_type_id\n",
    "LEFT JOIN  postgres_broadleaf_federate.\"broadleaf.blc_category_xref\"        bcx        ON bcx.sub_category_id = bp.default_category_id AND bcx.archived='N' AND bcx.sndbx_tier is NULL\n",
    "LEFT JOIN postgres_broadleaf_federate.\"broadleaf.blc_category\"              bcat2      ON bcx.category_id = bcat2.category_id\n",
    "--LEFT JOIN postgres_broadleaf_federate.\"broadleaf.blc_order_item_price_dtl\"  boip       ON  boi.order_item_id = boip.order_item_id\n",
    "--LEFT JOIN postgres_broadleaf_federate.\"broadleaf.blc_order_item_dtl_adj\"    baid       ON  baid.order_item_price_dtl_id = boip.order_item_price_dtl_id\n",
    "\n",
    "WHERE \n",
    "   DATE(ffg.close_date) >= current_date - interval '6 week' \n",
    "   AND DATE(ffg.close_date) <=  current_date\n",
    "   AND bo.order_status='SUBMITTED'\n",
    "   AND fo.fb_order_status_id IN (1,6,7,8) \n",
    "   AND s.site_identifier_value = '{ciudad}'\n",
    "   AND bfo.status NOT IN ('ARCHIVED','CANCELLED')\n",
    "   AND bop.archived = 'N'\n",
    "   AND (fot.name IS NULL OR fot.name <> 'REFUND')\n",
    "   -- FIX SUPER DESCUENTOS\n",
    "   AND bcat2.category_id not in ('110873','-1000','100768','100765','100815') --ids de super descuentos en cada país\n",
    "   AND bcat.name <> 'Oferton Frubana' AND bcat2.name <> 'Oferton Frubana'\n",
    "\n",
    "GROUP BY 1,2,3--,5,6,7\n",
    ")\n",
    "\n",
    "SELECT \n",
    "*\n",
    "FROM info\n",
    "--WHERE count_weeks > 5\n",
    "\"\"\".format(tipo_cambio=t_cambio, ciudad=city_code)\n",
    "\n",
    "data_ventas_aux = read_connection_data_warehouse.runQuery(query)\n",
    "data_ventas_aux[[\"gmv_usd\"]] = data_ventas_aux[[\"gmv_usd\"]].astype(float)\n",
    "#data_ventas[\"submit_date\"] = pd.to_datetime(data_ventas[\"submit_date\"])"
   ]
  },
  {
   "cell_type": "code",
   "execution_count": 25,
   "metadata": {},
   "outputs": [
    {
     "data": {
      "text/html": [
       "<div>\n",
       "<style scoped>\n",
       "    .dataframe tbody tr th:only-of-type {\n",
       "        vertical-align: middle;\n",
       "    }\n",
       "\n",
       "    .dataframe tbody tr th {\n",
       "        vertical-align: top;\n",
       "    }\n",
       "\n",
       "    .dataframe thead th {\n",
       "        text-align: right;\n",
       "    }\n",
       "</style>\n",
       "<table border=\"1\" class=\"dataframe\">\n",
       "  <thead>\n",
       "    <tr style=\"text-align: right;\">\n",
       "      <th></th>\n",
       "      <th>region_code</th>\n",
       "      <th>customer_id</th>\n",
       "      <th>category</th>\n",
       "      <th>count_weeks</th>\n",
       "      <th>gmv_usd</th>\n",
       "    </tr>\n",
       "  </thead>\n",
       "  <tbody>\n",
       "    <tr>\n",
       "      <th>0</th>\n",
       "      <td>CMX</td>\n",
       "      <td>187752957</td>\n",
       "      <td>Lácteos &amp; Huevos</td>\n",
       "      <td>1</td>\n",
       "      <td>66.37857</td>\n",
       "    </tr>\n",
       "    <tr>\n",
       "      <th>1</th>\n",
       "      <td>CMX</td>\n",
       "      <td>51774044</td>\n",
       "      <td>Frutas &amp; Verduras</td>\n",
       "      <td>3</td>\n",
       "      <td>271.77201</td>\n",
       "    </tr>\n",
       "    <tr>\n",
       "      <th>2</th>\n",
       "      <td>CMX</td>\n",
       "      <td>263791339</td>\n",
       "      <td>Frutas &amp; Verduras</td>\n",
       "      <td>2</td>\n",
       "      <td>51.92516</td>\n",
       "    </tr>\n",
       "    <tr>\n",
       "      <th>3</th>\n",
       "      <td>CMX</td>\n",
       "      <td>52918709</td>\n",
       "      <td>Desechables</td>\n",
       "      <td>1</td>\n",
       "      <td>48.56996</td>\n",
       "    </tr>\n",
       "    <tr>\n",
       "      <th>4</th>\n",
       "      <td>CMX</td>\n",
       "      <td>293750489</td>\n",
       "      <td>Lácteos &amp; Huevos</td>\n",
       "      <td>3</td>\n",
       "      <td>4.90835</td>\n",
       "    </tr>\n",
       "  </tbody>\n",
       "</table>\n",
       "</div>"
      ],
      "text/plain": [
       "  region_code  customer_id           category  count_weeks    gmv_usd\n",
       "0         CMX    187752957   Lácteos & Huevos            1   66.37857\n",
       "1         CMX     51774044  Frutas & Verduras            3  271.77201\n",
       "2         CMX    263791339  Frutas & Verduras            2   51.92516\n",
       "3         CMX     52918709        Desechables            1   48.56996\n",
       "4         CMX    293750489   Lácteos & Huevos            3    4.90835"
      ]
     },
     "execution_count": 25,
     "metadata": {},
     "output_type": "execute_result"
    }
   ],
   "source": [
    "data_ventas_aux.head()"
   ]
  },
  {
   "cell_type": "code",
   "execution_count": 26,
   "metadata": {},
   "outputs": [
    {
     "data": {
      "text/plain": [
       "7"
      ]
     },
     "execution_count": 26,
     "metadata": {},
     "output_type": "execute_result"
    }
   ],
   "source": [
    "data_ventas_aux.count_weeks.max()"
   ]
  },
  {
   "cell_type": "code",
   "execution_count": 27,
   "metadata": {},
   "outputs": [],
   "source": [
    "cat = ['Frutas & Verduras']"
   ]
  },
  {
   "cell_type": "code",
   "execution_count": 37,
   "metadata": {},
   "outputs": [],
   "source": [
    "data_ventas = data_ventas_aux[(data_ventas_aux.category.isin(cat)) & \n",
    "                              (data_ventas_aux.customer_id.isin(clear_buyers.customer_id.unique()))].copy()"
   ]
  },
  {
   "cell_type": "code",
   "execution_count": 38,
   "metadata": {},
   "outputs": [
    {
     "data": {
      "text/html": [
       "<div>\n",
       "<style scoped>\n",
       "    .dataframe tbody tr th:only-of-type {\n",
       "        vertical-align: middle;\n",
       "    }\n",
       "\n",
       "    .dataframe tbody tr th {\n",
       "        vertical-align: top;\n",
       "    }\n",
       "\n",
       "    .dataframe thead th {\n",
       "        text-align: right;\n",
       "    }\n",
       "</style>\n",
       "<table border=\"1\" class=\"dataframe\">\n",
       "  <thead>\n",
       "    <tr style=\"text-align: right;\">\n",
       "      <th></th>\n",
       "      <th>category</th>\n",
       "      <th>customers</th>\n",
       "      <th>list_customers</th>\n",
       "    </tr>\n",
       "  </thead>\n",
       "  <tbody>\n",
       "    <tr>\n",
       "      <th>0</th>\n",
       "      <td>Frutas &amp; Verduras</td>\n",
       "      <td>1409</td>\n",
       "      <td>[16336605, 234957383, 147884243, 288145499, 14...</td>\n",
       "    </tr>\n",
       "  </tbody>\n",
       "</table>\n",
       "</div>"
      ],
      "text/plain": [
       "            category  customers  \\\n",
       "0  Frutas & Verduras       1409   \n",
       "\n",
       "                                      list_customers  \n",
       "0  [16336605, 234957383, 147884243, 288145499, 14...  "
      ]
     },
     "execution_count": 38,
     "metadata": {},
     "output_type": "execute_result"
    }
   ],
   "source": [
    "f = data_ventas[data_ventas.count_weeks>=6].groupby(\"category\", as_index=False).agg({'customer_id':[lambda x: x.nunique(),lambda x: list(x.unique())]}).droplevel(0, axis=\"columns\")\n",
    "f.columns = ['category', 'customers', 'list_customers']\n",
    "f"
   ]
  },
  {
   "cell_type": "code",
   "execution_count": 39,
   "metadata": {},
   "outputs": [],
   "source": [
    "def create_groups(subcat):\n",
    "    s = f[f.category == subcat].list_customers.to_numpy()[0]\n",
    "    \n",
    "    d = data_ventas[(data_ventas.customer_id.isin(s)) & (data_ventas.category == subcat)].groupby(\"customer_id\").gmv_usd.mean().reset_index()\n",
    "    \n",
    "    customer_control, customer_test = train_test_split(s, test_size = 0.50)\n",
    "    \n",
    "    alpha=0.01\n",
    "    aux=0\n",
    "    \n",
    "    while abs(1-(d[d.customer_id.isin(customer_control)]['gmv_usd'].mean()/d[d.customer_id.isin(customer_test)]['gmv_usd'].mean())) > alpha:\n",
    "        customer_control, customer_test = train_test_split(s, test_size = 0.50)\n",
    "        \n",
    "        aux+=1\n",
    "        if aux == 1000:\n",
    "            alpha+=0.01\n",
    "            aux=0\n",
    "        \n",
    "    all_users = clear_buyers[(~clear_buyers.customer_id.isin(customer_test)) & (clear_buyers.registered_city == city_code)].customer_id.unique().tolist()\n",
    "    customer_control = [int(customer) for customer in customer_control]\n",
    "    customer_test = [int(customer) for customer in customer_test]\n",
    "    \n",
    "    segt_offer = {'name':\"DAY_Elasticidad\"+todays_date+\"_\"+city_code+\"_\"+subcat+\"_ALL_D1\", 'customersIds': list(all_users)}\n",
    "    segt_control = {'name':\"DAY_Elasticidad\"+todays_date+\"_\"+city_code+\"_\"+subcat+\"_CONTROL_D1\", 'customersIds': list(customer_control)}\n",
    "    segt_test = {'name':\"DAY_Elasticidad\"+todays_date+\"_\"+city_code+\"_\"+subcat+\"_TEST_D1\", 'customersIds': list(customer_test)}\n",
    "    \n",
    "    print(\"SUBCAT:\",subcat, \"// TOTAL_USERS:\", len(all_users), \"// TEST:\",len(customer_test), \"// CONTROL:\",len(customer_control))\n",
    "    \n",
    "    return customer_control, customer_test, segt_test, segt_control, segt_offer"
   ]
  },
  {
   "cell_type": "code",
   "execution_count": 40,
   "metadata": {},
   "outputs": [
    {
     "name": "stdout",
     "output_type": "stream",
     "text": [
      "SUBCAT: Frutas & Verduras // TOTAL_USERS: 8998 // TEST: 705 // CONTROL: 704\n"
     ]
    }
   ],
   "source": [
    "global_segment_list = []\n",
    "r= {}\n",
    "\n",
    "for category in f.category:\n",
    "    control, test, segment_t, segment_c, segment_o = create_groups(category)\n",
    "    \n",
    "    #r['CONTROL_'+todays_date+\"_\"+city_code+\"_\"+subcat] = control\n",
    "    #r['TEST_'+todays_date+\"_\"+city_code+\"_\"+subcat] = test\n",
    "    \n",
    "    global_segment_list.append(segment_t)\n",
    "    global_segment_list.append(segment_c)\n",
    "    global_segment_list.append(segment_o)\n",
    "\n",
    "df_test_control = pd.DataFrame.from_dict(r, orient='index').T"
   ]
  },
  {
   "cell_type": "code",
   "execution_count": 41,
   "metadata": {},
   "outputs": [
    {
     "data": {
      "text/plain": [
       "9699"
      ]
     },
     "execution_count": 41,
     "metadata": {},
     "output_type": "execute_result"
    }
   ],
   "source": [
    "len(clear_buyers[clear_buyers.registered_city == city_code])"
   ]
  },
  {
   "cell_type": "code",
   "execution_count": 42,
   "metadata": {},
   "outputs": [],
   "source": [
    "def crear_seg(global_value):\n",
    "  import requests\n",
    "  import json\n",
    "\n",
    "  url = f\"https://{city_code}.frubana.com/api/v1/segments/create?api-key=00_growth-team-zzz-qqq_001\"\n",
    "\n",
    "  payload = json.dumps(global_value)\n",
    "\n",
    "\n",
    "  headers = {\n",
    "    'Cookie': 'AWSALB=WGKrKvA1CFOY0m92xSENGAseuE4LrcfQh9y8jK/loGBJdizNm+FvjOqUqVghxdfLkH6Jsa9sfWft2NELchGAP/LNZMXMYhrOE70qDnUuOHATpdJj1UZBMEUBSIN1; AWSALBCORS=WGKrKvA1CFOY0m92xSENGAseuE4LrcfQh9y8jK/loGBJdizNm+FvjOqUqVghxdfLkH6Jsa9sfWft2NELchGAP/LNZMXMYhrOE70qDnUuOHATpdJj1UZBMEUBSIN1; AWSALB=jLY02FPysvF1vTrKLhXbk3ibzmyiAqFJ1ezYVu5PjodkU2QmPHDpRJhb9CvOlOyQ1Ix0mJR1ig+eH9zwJ9i5EOtgsgx79NSROogQb2Ua6yLX/I3bJJ6xtcVO3puI; AWSALBCORS=jLY02FPysvF1vTrKLhXbk3ibzmyiAqFJ1ezYVu5PjodkU2QmPHDpRJhb9CvOlOyQ1Ix0mJR1ig+eH9zwJ9i5EOtgsgx79NSROogQb2Ua6yLX/I3bJJ6xtcVO3puI',\n",
    "    'Content-Type': 'application/json'\n",
    "  }\n",
    "\n",
    "  response = requests.request(\"POST\", url, headers=headers, data=payload)\n",
    "  return response.text"
   ]
  },
  {
   "cell_type": "code",
   "execution_count": 43,
   "metadata": {},
   "outputs": [
    {
     "data": {
      "text/plain": [
       "['Customer segments were created: [131737-DAY_Elasticidad2023-02-28_CMX_Frutas & Verduras_TEST_D1]',\n",
       " 'Customer segments were created: [131612-DAY_Elasticidad2023-02-28_CMX_Frutas & Verduras_CONTROL_D1]',\n",
       " 'Customer segments were created: [131613-DAY_Elasticidad2023-02-28_CMX_Frutas & Verduras_ALL_D1]']"
      ]
     },
     "execution_count": 43,
     "metadata": {},
     "output_type": "execute_result"
    }
   ],
   "source": [
    "sgt = []\n",
    "i=0\n",
    "for global_seg in global_segment_list:\n",
    "    rep_text = crear_seg([global_seg])\n",
    "    sgt.append(rep_text)\n",
    "    #i+=1\n",
    "    #if i == 3:\n",
    "    #    break\n",
    "    time.sleep(20)\n",
    "sgt"
   ]
  },
  {
   "cell_type": "code",
   "execution_count": 46,
   "metadata": {},
   "outputs": [
    {
     "data": {
      "text/plain": [
       "['Customer segments were created: [131737-DAY_Elasticidad2023-02-28_CMX_Frutas & Verduras_TEST_D1]',\n",
       " 'Customer segments were created: [131612-DAY_Elasticidad2023-02-28_CMX_Frutas & Verduras_CONTROL_D1]',\n",
       " 'Customer segments were created: [131613-DAY_Elasticidad2023-02-28_CMX_Frutas & Verduras_ALL_D1]']"
      ]
     },
     "execution_count": 46,
     "metadata": {},
     "output_type": "execute_result"
    }
   ],
   "source": [
    "sgt[0]"
   ]
  },
  {
   "cell_type": "code",
   "execution_count": 51,
   "metadata": {},
   "outputs": [
    {
     "data": {
      "text/plain": [
       "('131613', 'Frutas & Verduras_ALL_D1')"
      ]
     },
     "execution_count": 51,
     "metadata": {},
     "output_type": "execute_result"
    }
   ],
   "source": [
    "(sgt[2][32:].strip('][')[:6], sgt[2][32:].strip('][')[37:])"
   ]
  },
  {
   "cell_type": "code",
   "execution_count": 17,
   "metadata": {},
   "outputs": [],
   "source": [
    "segmentos = [i[0] for i in sgt if i[1][i[1].index(\"_\")+1:i[1].index(\"_\", i[1].index(\"_\")+1)] == 'ALL']\n",
    "subcategorias = [i[1][:i[1].index(\"_\")] for i in sgt if i[1][i[1].index(\"_\")+1:i[1].index(\"_\", i[1].index(\"_\")+1)] == 'ALL']"
   ]
  },
  {
   "cell_type": "code",
   "execution_count": 18,
   "metadata": {},
   "outputs": [
    {
     "name": "stdout",
     "output_type": "stream",
     "text": [
      "123952\tArroz\n",
      "123852\tAzeites, Óleos e Vinagres\n",
      "123804\tCervejas\n",
      "123906\tFeijão\n",
      "123657\tFrutas\n",
      "123908\tLegumes\n",
      "123805\tLeite\n",
      "123706\tQueijos\n",
      "123806\tRefrigerantes e Energéticos\n"
     ]
    }
   ],
   "source": [
    "for i,j in enumerate(segmentos):\n",
    "    print(str(j)+\"\\t\"+subcategorias[i])"
   ]
  }
 ],
 "metadata": {
  "kernelspec": {
   "display_name": "Python 3 (ipykernel)",
   "language": "python",
   "name": "python3"
  },
  "orig_nbformat": 4,
  "vscode": {
   "interpreter": {
    "hash": "624741679a3ae5d99cecf49b8df5d516a7a937e6e7328e129d1fa121c8592e26"
   }
  }
 },
 "nbformat": 4,
 "nbformat_minor": 2
}
