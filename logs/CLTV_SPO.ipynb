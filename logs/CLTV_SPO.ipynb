{
 "cells": [
  {
   "cell_type": "code",
   "execution_count": 1,
   "id": "b864134f",
   "metadata": {
    "execution": {
     "iopub.execute_input": "2024-07-06T11:04:13.049997Z",
     "iopub.status.busy": "2024-07-06T11:04:13.049538Z",
     "iopub.status.idle": "2024-07-06T11:04:14.416995Z",
     "shell.execute_reply": "2024-07-06T11:04:14.416468Z"
    },
    "papermill": {
     "duration": 1.394403,
     "end_time": "2024-07-06T11:04:14.417112",
     "exception": false,
     "start_time": "2024-07-06T11:04:13.022709",
     "status": "completed"
    },
    "tags": []
   },
   "outputs": [],
   "source": [
    "#//----------------------------\n",
    "#//LIBRARIES\n",
    "    #Math\n",
    "import math\n",
    "    #Numeric Python\n",
    "import numpy as np\n",
    "    #Pandas (dataframes)\n",
    "import pandas as pd\n",
    "    #datetime for fate manipulation\n",
    "from datetime import date, datetime, timedelta  \n",
    "    #Regex for advanced string matching\n",
    "import re\n",
    "    #for time related stuff\n",
    "import time\n",
    "    #json library\n",
    "import json\n",
    "    #Analyst tools\n",
    "import sys\n",
    "import os\n",
    "sys.path.append(os.path.expanduser('~'))\n",
    "from analysts_tools.growth import *\n",
    "    #Procurement tools\n",
    "from procurement_lib import send_slack_notification\n",
    "from procurement_lib import redash\n",
    "from analysts_tools.redash_methods import *\n",
    "from analystcommunity.read_connection_data_warehouse import run_read_dwd_query\n",
    "\n",
    "import random\n",
    "import time\n",
    "import datetime\n",
    "\n",
    "import seaborn as sns\n",
    "import matplotlib.pyplot as plt\n",
    "\n",
    "\n",
    "from sklearn.model_selection import train_test_split\n",
    "from scipy.signal import savgol_filter"
   ]
  },
  {
   "cell_type": "markdown",
   "id": "ef9bada9",
   "metadata": {
    "papermill": {
     "duration": 0.018664,
     "end_time": "2024-07-06T11:04:14.454791",
     "exception": false,
     "start_time": "2024-07-06T11:04:14.436127",
     "status": "completed"
    },
    "tags": []
   },
   "source": [
    "# Cargue de Queries y parametros"
   ]
  },
  {
   "cell_type": "code",
   "execution_count": 2,
   "id": "012a69fa",
   "metadata": {
    "execution": {
     "iopub.execute_input": "2024-07-06T11:04:14.495226Z",
     "iopub.status.busy": "2024-07-06T11:04:14.494790Z",
     "iopub.status.idle": "2024-07-06T11:04:14.496238Z",
     "shell.execute_reply": "2024-07-06T11:04:14.496565Z"
    },
    "papermill": {
     "duration": 0.023188,
     "end_time": "2024-07-06T11:04:14.496685",
     "exception": false,
     "start_time": "2024-07-06T11:04:14.473497",
     "status": "completed"
    },
    "tags": [
     "parameters"
    ]
   },
   "outputs": [],
   "source": [
    "city = 'SPO'"
   ]
  },
  {
   "cell_type": "code",
   "execution_count": 3,
   "id": "1ca98ee8",
   "metadata": {
    "execution": {
     "iopub.execute_input": "2024-07-06T11:04:14.536846Z",
     "iopub.status.busy": "2024-07-06T11:04:14.536398Z",
     "iopub.status.idle": "2024-07-06T11:04:14.538250Z",
     "shell.execute_reply": "2024-07-06T11:04:14.537837Z"
    },
    "papermill": {
     "duration": 0.022875,
     "end_time": "2024-07-06T11:04:14.538344",
     "exception": false,
     "start_time": "2024-07-06T11:04:14.515469",
     "status": "completed"
    },
    "tags": [
     "injected-parameters"
    ]
   },
   "outputs": [],
   "source": [
    "# Parameters\n",
    "city = \"SPO\"\n"
   ]
  },
  {
   "cell_type": "code",
   "execution_count": 4,
   "id": "33a55a6e",
   "metadata": {
    "execution": {
     "iopub.execute_input": "2024-07-06T11:04:14.578656Z",
     "iopub.status.busy": "2024-07-06T11:04:14.578228Z",
     "iopub.status.idle": "2024-07-06T11:04:14.579697Z",
     "shell.execute_reply": "2024-07-06T11:04:14.580022Z"
    },
    "papermill": {
     "duration": 0.022958,
     "end_time": "2024-07-06T11:04:14.580139",
     "exception": false,
     "start_time": "2024-07-06T11:04:14.557181",
     "status": "completed"
    },
    "tags": []
   },
   "outputs": [],
   "source": [
    "customer_date_desde = (datetime.datetime.today() - datetime.timedelta(days=200))#.strftime('%Y-%m-%d') #1 months"
   ]
  },
  {
   "cell_type": "code",
   "execution_count": 5,
   "id": "acbbded2",
   "metadata": {
    "execution": {
     "iopub.execute_input": "2024-07-06T11:04:14.621734Z",
     "iopub.status.busy": "2024-07-06T11:04:14.621310Z",
     "iopub.status.idle": "2024-07-06T11:04:14.623667Z",
     "shell.execute_reply": "2024-07-06T11:04:14.623308Z"
    },
    "papermill": {
     "duration": 0.024352,
     "end_time": "2024-07-06T11:04:14.623764",
     "exception": false,
     "start_time": "2024-07-06T11:04:14.599412",
     "status": "completed"
    },
    "tags": []
   },
   "outputs": [
    {
     "name": "stdout",
     "output_type": "stream",
     "text": [
      "/home/jupyter-felipe.guevara\n"
     ]
    }
   ],
   "source": [
    "print(os.getcwd())"
   ]
  },
  {
   "cell_type": "code",
   "execution_count": 6,
   "id": "1198ea1b",
   "metadata": {
    "execution": {
     "iopub.execute_input": "2024-07-06T11:04:14.665892Z",
     "iopub.status.busy": "2024-07-06T11:04:14.665458Z",
     "iopub.status.idle": "2024-07-06T11:04:14.670947Z",
     "shell.execute_reply": "2024-07-06T11:04:14.670520Z"
    },
    "papermill": {
     "duration": 0.027927,
     "end_time": "2024-07-06T11:04:14.671043",
     "exception": false,
     "start_time": "2024-07-06T11:04:14.643116",
     "status": "completed"
    },
    "tags": []
   },
   "outputs": [],
   "source": [
    "margenes = pd.read_csv(\"/home/jupyter-felipe.guevara/Growth/CLTV/Margenes_neto.csv\")\n",
    "retention = pd.read_csv(\"/home/jupyter-felipe.guevara/Growth/CLTV/retention_year.csv\")"
   ]
  },
  {
   "cell_type": "code",
   "execution_count": 7,
   "id": "e5671d6c",
   "metadata": {
    "execution": {
     "iopub.execute_input": "2024-07-06T11:04:14.803476Z",
     "iopub.status.busy": "2024-07-06T11:04:14.803024Z",
     "iopub.status.idle": "2024-07-06T11:04:14.804496Z",
     "shell.execute_reply": "2024-07-06T11:04:14.804845Z"
    },
    "papermill": {
     "duration": 0.114366,
     "end_time": "2024-07-06T11:04:14.804973",
     "exception": false,
     "start_time": "2024-07-06T11:04:14.690607",
     "status": "completed"
    },
    "tags": []
   },
   "outputs": [],
   "source": [
    "retention_aux =  retention.copy()\n",
    "\n",
    "for i,ret in enumerate(retention_aux.values):\n",
    "    retention_aux.iloc[i,2:] = [(1-(j-ret[-1])/100) if j-ret[-1] >= 0 else 1 for j in ret[2:]]"
   ]
  },
  {
   "cell_type": "code",
   "execution_count": 8,
   "id": "8eb5afff",
   "metadata": {
    "execution": {
     "iopub.execute_input": "2024-07-06T11:04:14.847092Z",
     "iopub.status.busy": "2024-07-06T11:04:14.846661Z",
     "iopub.status.idle": "2024-07-06T11:04:55.742591Z",
     "shell.execute_reply": "2024-07-06T11:04:55.742101Z"
    },
    "papermill": {
     "duration": 40.918252,
     "end_time": "2024-07-06T11:04:55.742698",
     "exception": false,
     "start_time": "2024-07-06T11:04:14.824446",
     "status": "completed"
    },
    "tags": []
   },
   "outputs": [
    {
     "name": "stdout",
     "output_type": "stream",
     "text": [
      "200\n"
     ]
    }
   ],
   "source": [
    "clear_buyers = get_fresh_query_result(\"https://internal-redash.federate.frubana.com/\",138674,'SeoGHWmDUaaBi7VXje1s9zYNiMD1VHQ1K1DYOxiF',{},20)"
   ]
  },
  {
   "cell_type": "code",
   "execution_count": 9,
   "id": "656e2776",
   "metadata": {
    "execution": {
     "iopub.execute_input": "2024-07-06T11:04:55.786763Z",
     "iopub.status.busy": "2024-07-06T11:04:55.786272Z",
     "iopub.status.idle": "2024-07-06T11:05:35.970821Z",
     "shell.execute_reply": "2024-07-06T11:05:35.971172Z"
    },
    "papermill": {
     "duration": 40.208588,
     "end_time": "2024-07-06T11:05:35.971332",
     "exception": false,
     "start_time": "2024-07-06T11:04:55.762744",
     "status": "completed"
    },
    "tags": []
   },
   "outputs": [
    {
     "name": "stdout",
     "output_type": "stream",
     "text": [
      "200\n"
     ]
    }
   ],
   "source": [
    "buyers_11 = get_fresh_query_result(\"https://internal-redash.federate.frubana.com/\",212712,'SeoGHWmDUaaBi7VXje1s9zYNiMD1VHQ1K1DYOxiF',{},20)"
   ]
  },
  {
   "cell_type": "code",
   "execution_count": 10,
   "id": "f1817bb3",
   "metadata": {
    "execution": {
     "iopub.execute_input": "2024-07-06T11:05:36.023503Z",
     "iopub.status.busy": "2024-07-06T11:05:36.023050Z",
     "iopub.status.idle": "2024-07-06T11:05:36.261257Z",
     "shell.execute_reply": "2024-07-06T11:05:36.261635Z"
    },
    "papermill": {
     "duration": 0.270248,
     "end_time": "2024-07-06T11:05:36.261773",
     "exception": false,
     "start_time": "2024-07-06T11:05:35.991525",
     "status": "completed"
    },
    "tags": []
   },
   "outputs": [],
   "source": [
    "query = \"\"\"\n",
    "SELECT DISTINCT\n",
    "\n",
    "c.assignee_ref_id AS \"Owner\",\n",
    "cm.member_ref_id AS \"customer_id\",\n",
    "--cm.status AS \"Estado de la asignacion\",\n",
    "--c.type as \"Tipo de asociacion\",\n",
    "--c.flow_type AS \"Tipo de carga\",\n",
    "z.value AS \"Ciudad\"\n",
    "--p.since AS \"Semana\"\n",
    "\n",
    "FROM postgres_growth_offline.\"growth_clustering.clusters\"               c\n",
    "INNER JOIN postgres_growth_offline.\"growth_clustering.cluster_members\"  cm  ON cm.cluster_id = c.id\n",
    "INNER JOIN postgres_growth_offline.\"growth_clustering.periods\"          p   ON p.id = c.period_id\n",
    "INNER JOIN postgres_growth_offline.\"growth_clustering.zones\"            z   ON z.id = c.zone_id\n",
    "\n",
    "where p.since = DATE_TRUNC('week', date(getdate()) - interval '0 week')\n",
    "and z.value in ('BOG','BAQ','MDE','CMX','SPO','BHZ','CWB','VCP')\n",
    "and c.type = 'FARMER_OFFLINE'\n",
    "and c.status = 'ACTIVE'\n",
    "and c.enabled = 'true'\n",
    "\"\"\"\n",
    "data_farming = read_connection_data_warehouse.runQuery(query)\n",
    "data_farming[[\"customer_id\"]] = data_farming[[\"customer_id\"]].astype(int)"
   ]
  },
  {
   "cell_type": "code",
   "execution_count": 11,
   "id": "c080b653",
   "metadata": {
    "execution": {
     "iopub.execute_input": "2024-07-06T11:05:36.306665Z",
     "iopub.status.busy": "2024-07-06T11:05:36.306230Z",
     "iopub.status.idle": "2024-07-06T11:05:36.308023Z",
     "shell.execute_reply": "2024-07-06T11:05:36.307672Z"
    },
    "papermill": {
     "duration": 0.025973,
     "end_time": "2024-07-06T11:05:36.308119",
     "exception": false,
     "start_time": "2024-07-06T11:05:36.282146",
     "status": "completed"
    },
    "tags": []
   },
   "outputs": [],
   "source": [
    "# Define a function to run the query\n",
    "def run_query_with_retry(query):\n",
    "    max_retries = 5\n",
    "    retries = 0\n",
    "    while retries < max_retries:\n",
    "        try:\n",
    "            # Attempt to execute the query\n",
    "            data_ventas_aux = run_read_dwd_query(query)\n",
    "            data_ventas_aux[[\"gmv_usd\", \"cant\"]] = data_ventas_aux[[\"gmv_usd\", \"cant\"]].astype(float)\n",
    "            data_ventas_aux['submit_date'] = pd.to_datetime(data_ventas_aux['submit_date'])\n",
    "            return data_ventas_aux  # If successful, return the result\n",
    "        except Exception as e:\n",
    "            retries += 1\n",
    "            print(f\"An error occurred: {str(e)}\")\n",
    "            print(f\"Retrying... ({retries}/{max_retries})\")\n",
    "    # If max retries reached without success, raise an error\n",
    "    raise RuntimeError(\"Failed to execute the query after multiple retries\")"
   ]
  },
  {
   "cell_type": "code",
   "execution_count": 12,
   "id": "d055f16c",
   "metadata": {
    "execution": {
     "iopub.execute_input": "2024-07-06T11:05:36.357091Z",
     "iopub.status.busy": "2024-07-06T11:05:36.356625Z",
     "iopub.status.idle": "2024-07-06T11:06:51.294480Z",
     "shell.execute_reply": "2024-07-06T11:06:51.294856Z"
    },
    "papermill": {
     "duration": 74.967042,
     "end_time": "2024-07-06T11:06:51.294993",
     "exception": false,
     "start_time": "2024-07-06T11:05:36.327951",
     "status": "completed"
    },
    "tags": []
   },
   "outputs": [
    {
     "name": "stdout",
     "output_type": "stream",
     "text": [
      "Query (874372289) cancelled by WLM abort action of Query Monitoring Rule \"rule_row_count_ro\".\n",
      "DETAIL:  \n",
      "  -----------------------------------------------\n",
      "  error:  Query (874372289) cancelled by WLM abort action of Query Monitoring Rule \"rule_row_count_ro\".\n",
      "  code:      1078\n",
      "  context:   Query (874372289) cancelled by WLM abort action of Query Monitoring Rule \"rule_row_count_ro\".\n",
      "  query:     0\n",
      "  location:  wlm_query_action.cpp:179\n",
      "  process:   wlm [pid=1073856547]\n",
      "  -----------------------------------------------\n",
      "\n",
      "\n",
      "An error occurred: Query (874372289) cancelled by WLM abort action of Query Monitoring Rule \"rule_row_count_ro\".\n",
      "DETAIL:  \n",
      "  -----------------------------------------------\n",
      "  error:  Query (874372289) cancelled by WLM abort action of Query Monitoring Rule \"rule_row_count_ro\".\n",
      "  code:      1078\n",
      "  context:   Query (874372289) cancelled by WLM abort action of Query Monitoring Rule \"rule_row_count_ro\".\n",
      "  query:     0\n",
      "  location:  wlm_query_action.cpp:179\n",
      "  process:   wlm [pid=1073856547]\n",
      "  -----------------------------------------------\n",
      "\n",
      "\n",
      "Retrying... (1/5)\n"
     ]
    }
   ],
   "source": [
    "query = \"\"\"\n",
    "SELECT \n",
    "    s.identifier_value AS city,\n",
    "    dc.source_id AS customer_id,\n",
    "    DATE(fs.order_submitted_date) AS submit_date,\n",
    "    fs.order_id,\n",
    "    dp.card_id AS padre_sku_id,\n",
    "    cat.parent_description AS cat,\n",
    "    CASE\n",
    "        WHEN s.identifier_value = 'CMX' THEN fs.gmv_pxq_local/19.65\n",
    "        WHEN s.identifier_value IN ('SPO','BHZ','CWB','VCP') THEN fs.gmv_pxq_local/4.75\n",
    "        WHEN s.identifier_value IN ('BOG','BAQ','MDE') THEN fs.gmv_pxq_local/3776\n",
    "    ELSE fs.gmv_pxq_local \n",
    "    END AS gmv_usd,\n",
    "    fs.product_quantity_x_step_unit AS cant\n",
    "\n",
    "FROM dpr_sales.fact_sales                   fs\n",
    "INNER JOIN dpr_shared.dim_customer          dc  ON dc.customer_id = fs.dim_customer\n",
    "INNER JOIN dpr_shared.dim_site              s   ON s.site_id = fs.dim_site\n",
    "INNER JOIN dpr_shared.dim_product           dp  ON dp.product_id = fs.dim_product\n",
    "INNER JOIN dpr_shared.dim_category          cat ON cat.category_id = dp.category_id\n",
    "\n",
    "WHERE \n",
    "    fs.gmv_enabled = TRUE\n",
    "    AND fulfillment_order_status NOT IN ('CANCELLED', 'ARCHIVED','No value')\n",
    "    AND fs.fb_order_status_id  IN (1,6,7,8)\n",
    "    AND fs.is_deleted = FALSE\n",
    "    AND fs.dim_status = 1\n",
    "    AND dp.is_slot = 'false'\n",
    "    AND DATE(fs.order_submitted_date) > current_date - 730\n",
    "    AND s.identifier_value = '{city}'\n",
    "    AND dc.source_id IN {clientes}\n",
    "\"\"\".format(clientes=tuple(set(clear_buyers[clear_buyers.registered_city == city].customer_id.unique())), city = city)\n",
    "\n",
    "# Call the function with your query\n",
    "data_ventas_aux = run_query_with_retry(query)"
   ]
  },
  {
   "cell_type": "code",
   "execution_count": 13,
   "id": "61a3a706",
   "metadata": {
    "execution": {
     "iopub.execute_input": "2024-07-06T11:06:51.341015Z",
     "iopub.status.busy": "2024-07-06T11:06:51.340536Z",
     "iopub.status.idle": "2024-07-06T11:07:03.832064Z",
     "shell.execute_reply": "2024-07-06T11:07:03.831613Z"
    },
    "papermill": {
     "duration": 12.516287,
     "end_time": "2024-07-06T11:07:03.832179",
     "exception": false,
     "start_time": "2024-07-06T11:06:51.315892",
     "status": "completed"
    },
    "tags": []
   },
   "outputs": [],
   "source": [
    "data_ventas_aux['cat'] = data_ventas_aux['cat'].replace('Frutas e verduras', 'Frutas e Verduras')\n",
    "data_ventas_aux['cat'] = data_ventas_aux['cat'].replace('Laticínios e ovos', 'Laticínios e Ovos')\n",
    "data_ventas_aux['cat'] = data_ventas_aux['cat'].replace('Limpeza e higiene', 'Limpeza e Higiene')\n",
    "data_ventas_aux['cat'] = data_ventas_aux['cat'].replace('Carnes, aves e peixes', 'Carnes, Aves e Peixes')\n",
    "data_ventas_aux['cat'] = data_ventas_aux['cat'].replace('Abarrotes & despensa', 'Abarrotes')\n",
    "data_ventas_aux['cat'] = data_ventas_aux['cat'].replace('Aseo e higiene', 'Aseo e Higiene')\n",
    "data_ventas_aux['cat'] = data_ventas_aux['cat'].replace('Frutas & verduras', 'Frutas & Verduras')\n",
    "data_ventas_aux['cat'] = data_ventas_aux['cat'].replace('Carne, pollo & pescados', 'Carne, Pollo & Pescados')\n",
    "data_ventas_aux['cat'] = data_ventas_aux['cat'].replace('Lácteos & huevos', 'Lácteos & Huevos')"
   ]
  },
  {
   "cell_type": "code",
   "execution_count": 14,
   "id": "e22d044d",
   "metadata": {
    "execution": {
     "iopub.execute_input": "2024-07-06T11:07:03.877744Z",
     "iopub.status.busy": "2024-07-06T11:07:03.877302Z",
     "iopub.status.idle": "2024-07-06T11:07:13.645593Z",
     "shell.execute_reply": "2024-07-06T11:07:13.645176Z"
    },
    "papermill": {
     "duration": 9.792734,
     "end_time": "2024-07-06T11:07:13.645718",
     "exception": false,
     "start_time": "2024-07-06T11:07:03.852984",
     "status": "completed"
    },
    "tags": []
   },
   "outputs": [],
   "source": [
    "check_df = data_ventas_aux.groupby(by=['customer_id']).agg({'submit_date':np.max}).reset_index()\n",
    "df = data_ventas_aux[data_ventas_aux.customer_id.isin(check_df[check_df.submit_date >= customer_date_desde].customer_id.unique())].groupby(by=['city', 'customer_id', 'submit_date','cat']).agg({'gmv_usd':'sum','cant':'sum'}).reset_index()"
   ]
  },
  {
   "cell_type": "markdown",
   "id": "76e8511c",
   "metadata": {
    "papermill": {
     "duration": 0.020515,
     "end_time": "2024-07-06T11:07:13.686991",
     "exception": false,
     "start_time": "2024-07-06T11:07:13.666476",
     "status": "completed"
    },
    "tags": []
   },
   "source": [
    "# Generacion de df con info by cat by client"
   ]
  },
  {
   "cell_type": "code",
   "execution_count": 15,
   "id": "7646f333",
   "metadata": {
    "execution": {
     "iopub.execute_input": "2024-07-06T11:07:13.731717Z",
     "iopub.status.busy": "2024-07-06T11:07:13.731287Z",
     "iopub.status.idle": "2024-07-06T11:07:29.952209Z",
     "shell.execute_reply": "2024-07-06T11:07:29.952577Z"
    },
    "papermill": {
     "duration": 16.245208,
     "end_time": "2024-07-06T11:07:29.952710",
     "exception": false,
     "start_time": "2024-07-06T11:07:13.707502",
     "status": "completed"
    },
    "tags": []
   },
   "outputs": [],
   "source": [
    "df = df.sort_values('submit_date',ignore_index=True)\n",
    "\n",
    "#fix for id problems and taking into account only dates\n",
    "df['order_id']= df.submit_date.apply(lambda x:x.toordinal()) \n",
    "\n",
    "#Days of difference between orders for customer and for cat\n",
    "df['days_bet'] = (df.submit_date -df.groupby('customer_id').submit_date.transform('min')).dt.days"
   ]
  },
  {
   "cell_type": "code",
   "execution_count": 16,
   "id": "1a52b96c",
   "metadata": {
    "execution": {
     "iopub.execute_input": "2024-07-06T11:07:29.999305Z",
     "iopub.status.busy": "2024-07-06T11:07:29.998871Z",
     "iopub.status.idle": "2024-07-06T11:08:35.128745Z",
     "shell.execute_reply": "2024-07-06T11:08:35.129167Z"
    },
    "papermill": {
     "duration": 65.155655,
     "end_time": "2024-07-06T11:08:35.129306",
     "exception": false,
     "start_time": "2024-07-06T11:07:29.973651",
     "status": "completed"
    },
    "tags": []
   },
   "outputs": [],
   "source": [
    "#This calculate in res the difference between consecutive orders and with the agg we calculate all metrics\n",
    "df['res'] = df.groupby(by=['customer_id', 'cat'])['days_bet'].diff()\n",
    "df_grouped = df.groupby(by=['city', 'customer_id', 'cat']).agg({'res': [np.min, np.max, np.mean, np.median, np.std],\n",
    "                                                                    'order_id': [lambda x: x.nunique()], \n",
    "                                                                    'gmv_usd': [np.mean],\n",
    "                                                                    'cant': [np.mean],\n",
    "                                                                    'submit_date': [np.max, lambda x: (x.max()-x.min()).days, lambda x: (datetime.datetime.today() - x.max()).days, np.min]\n",
    "                                                                    }).reset_index()"
   ]
  },
  {
   "cell_type": "code",
   "execution_count": 17,
   "id": "2761df1b",
   "metadata": {
    "execution": {
     "iopub.execute_input": "2024-07-06T11:08:35.174947Z",
     "iopub.status.busy": "2024-07-06T11:08:35.174515Z",
     "iopub.status.idle": "2024-07-06T11:08:35.185486Z",
     "shell.execute_reply": "2024-07-06T11:08:35.185024Z"
    },
    "papermill": {
     "duration": 0.034941,
     "end_time": "2024-07-06T11:08:35.185592",
     "exception": false,
     "start_time": "2024-07-06T11:08:35.150651",
     "status": "completed"
    },
    "tags": []
   },
   "outputs": [],
   "source": [
    "#Finally we define everything in a df2 for further processing\n",
    "df2 = df_grouped.copy()\n",
    "\n",
    "df2.columns = ['city', 'customer_id', 'cat', 'min_diff_days', 'max_diff_days', 'avg_diff_days', 'median_diff_days', 'stdev_diff_days',\n",
    "               'num_orders', 'aov_cat_usd', 'avg_cant_cat', 'last_order_date', 'diff_from_last_to_first_order', 'days_since_last_order','first_order_date']"
   ]
  },
  {
   "cell_type": "code",
   "execution_count": 18,
   "id": "5228df23",
   "metadata": {
    "execution": {
     "iopub.execute_input": "2024-07-06T11:08:35.230589Z",
     "iopub.status.busy": "2024-07-06T11:08:35.230170Z",
     "iopub.status.idle": "2024-07-06T11:08:35.231993Z",
     "shell.execute_reply": "2024-07-06T11:08:35.231638Z"
    },
    "papermill": {
     "duration": 0.025476,
     "end_time": "2024-07-06T11:08:35.232086",
     "exception": false,
     "start_time": "2024-07-06T11:08:35.206610",
     "status": "completed"
    },
    "tags": []
   },
   "outputs": [],
   "source": [
    "def diff_month(d1, d2):\n",
    "    return (d1.year - d2.year) * 12 + d1.month - d2.month"
   ]
  },
  {
   "cell_type": "code",
   "execution_count": 19,
   "id": "d68ca99c",
   "metadata": {
    "execution": {
     "iopub.execute_input": "2024-07-06T11:08:35.283590Z",
     "iopub.status.busy": "2024-07-06T11:08:35.283143Z",
     "iopub.status.idle": "2024-07-06T11:08:35.285069Z",
     "shell.execute_reply": "2024-07-06T11:08:35.284624Z"
    },
    "papermill": {
     "duration": 0.03193,
     "end_time": "2024-07-06T11:08:35.285169",
     "exception": false,
     "start_time": "2024-07-06T11:08:35.253239",
     "status": "completed"
    },
    "tags": []
   },
   "outputs": [],
   "source": [
    "def cat_metrics_2(cat):\n",
    "    df_cat = df2[df2.cat == cat].copy()\n",
    "    \n",
    "    df_cat['adjust_std'] = pd.qcut(df_cat.stdev_diff_days, 10, labels=[1,0.9,0.8,0.7,0.6,0.5,0.4,0.3,0.2,0.1])\n",
    "    df_cat[[\"adjust_std\"]] = df_cat[[\"adjust_std\"]].astype(float)\n",
    "    \n",
    "    df_cat['adjust_cohort'] = [1 if ((x[13]) - (x[5]+x[7]) <= 0) else  \n",
    "                 1/(((x[13]) - x[5])/x[7]) if x[7] != 0 else\n",
    "                 1/(((x[13]) - x[5])/np.round(1+(x[5]*0.7)))\n",
    "                 for x in df_cat.values]\n",
    "    \n",
    "    df_cat[\"margen\"] = [margenes[(margenes.category == x[2]) & (margenes.region_code == x[0])][\"net_margin\"].unique()[0]/100 for x in df_cat.values]\n",
    "    #mirar aca\n",
    "    df_cat['adjust_retention'] = [1 if diff_month(x[11],x[14])+1 >= 10 else \n",
    "                                  retention_aux[(retention_aux.category == x[2]) & (retention_aux.region_code == x[0])][str(diff_month(x[11],x[14])+1)].unique()[0] for x in df_cat.values]\n",
    "    \n",
    "    df_cat['median_diff_days_adjusted'] = 365/df_cat.median_diff_days\n",
    "    \n",
    "    df_cat[\"churned\"] = [0 if ((x[13]) - (x[5]+x[7]*2) <= 0) else 1 for x in df_cat.values]\n",
    "    \n",
    "    df_cat[['avg_diff_days','stdev_diff_days']] = df_cat[['avg_diff_days','stdev_diff_days']].fillna(0)\n",
    "\n",
    "    df_cat['churned_date'] = [(x[11] + datetime.timedelta(days=int(x[5]+x[7]*2))).strftime('%Y-%m-%d') for x in df_cat.values] #1 months\n",
    "    \n",
    "    df_cat[\"CLTV\"] = df_cat.median_diff_days_adjusted * df_cat.margen * df_cat.aov_cat_usd * df_cat.adjust_retention * df_cat.adjust_std * df_cat.adjust_cohort\n",
    "    df_cat[\"CLTV_sin_margen\"] = df_cat.median_diff_days_adjusted * df_cat.aov_cat_usd * df_cat.adjust_retention * df_cat.adjust_std * df_cat.adjust_cohort\n",
    "    df_cat[\"CLTV_sin_churn\"] = df_cat.median_diff_days_adjusted * df_cat.margen * df_cat.aov_cat_usd * df_cat.adjust_retention * df_cat.adjust_std\n",
    "    \n",
    "    df_cat['cash_margin'] = df_cat.aov_cat_usd * df_cat.margen\n",
    "\n",
    "    return df_cat"
   ]
  },
  {
   "cell_type": "code",
   "execution_count": 20,
   "id": "b511b68c",
   "metadata": {
    "execution": {
     "iopub.execute_input": "2024-07-06T11:08:35.337584Z",
     "iopub.status.busy": "2024-07-06T11:08:35.337114Z",
     "iopub.status.idle": "2024-07-06T11:10:43.766031Z",
     "shell.execute_reply": "2024-07-06T11:10:43.765678Z"
    },
    "papermill": {
     "duration": 128.459618,
     "end_time": "2024-07-06T11:10:43.766142",
     "exception": false,
     "start_time": "2024-07-06T11:08:35.306524",
     "status": "completed"
    },
    "tags": []
   },
   "outputs": [
    {
     "name": "stdout",
     "output_type": "stream",
     "text": [
      "Bebidas\n"
     ]
    },
    {
     "name": "stdout",
     "output_type": "stream",
     "text": [
      "Done Bebidas\n",
      "Carnes, Aves e Peixes\n"
     ]
    },
    {
     "name": "stdout",
     "output_type": "stream",
     "text": [
      "Done Carnes, Aves e Peixes\n",
      "Congelados\n"
     ]
    },
    {
     "name": "stdout",
     "output_type": "stream",
     "text": [
      "Done Congelados\n",
      "Descartáveis\n"
     ]
    },
    {
     "name": "stdout",
     "output_type": "stream",
     "text": [
      "Done Descartáveis\n",
      "Frutas e Verduras\n"
     ]
    },
    {
     "name": "stdout",
     "output_type": "stream",
     "text": [
      "Done Frutas e Verduras\n",
      "Laticínios e Ovos\n"
     ]
    },
    {
     "name": "stdout",
     "output_type": "stream",
     "text": [
      "Done Laticínios e Ovos\n",
      "Limpeza e Higiene\n"
     ]
    },
    {
     "name": "stdout",
     "output_type": "stream",
     "text": [
      "Done Limpeza e Higiene\n",
      "Mercearia\n"
     ]
    },
    {
     "name": "stdout",
     "output_type": "stream",
     "text": [
      "Done Mercearia\n",
      "Frubana prime\n",
      "Done Frubana prime\n"
     ]
    }
   ],
   "source": [
    "df3 = pd.DataFrame()\n",
    "\n",
    "for cat in df2.cat.unique():\n",
    "   print(cat)\n",
    "   if cat not in ('Frubana prime','¡productos nuevos!','No value','Mesa & cocina','Insumos internos cat','Despensa'):\n",
    "      df3 = df3.append(cat_metrics_2(cat))\n",
    "   print(f'Done {cat}')"
   ]
  },
  {
   "cell_type": "code",
   "execution_count": 21,
   "id": "973e0993",
   "metadata": {
    "execution": {
     "iopub.execute_input": "2024-07-06T11:10:43.817464Z",
     "iopub.status.busy": "2024-07-06T11:10:43.816365Z",
     "iopub.status.idle": "2024-07-06T11:10:43.836170Z",
     "shell.execute_reply": "2024-07-06T11:10:43.836505Z"
    },
    "papermill": {
     "duration": 0.047246,
     "end_time": "2024-07-06T11:10:43.836636",
     "exception": false,
     "start_time": "2024-07-06T11:10:43.789390",
     "status": "completed"
    },
    "tags": []
   },
   "outputs": [
    {
     "data": {
      "text/html": [
       "<div>\n",
       "<style scoped>\n",
       "    .dataframe tbody tr th:only-of-type {\n",
       "        vertical-align: middle;\n",
       "    }\n",
       "\n",
       "    .dataframe tbody tr th {\n",
       "        vertical-align: top;\n",
       "    }\n",
       "\n",
       "    .dataframe thead th {\n",
       "        text-align: right;\n",
       "    }\n",
       "</style>\n",
       "<table border=\"1\" class=\"dataframe\">\n",
       "  <thead>\n",
       "    <tr style=\"text-align: right;\">\n",
       "      <th></th>\n",
       "      <th>city</th>\n",
       "      <th>customer_id</th>\n",
       "      <th>cat</th>\n",
       "      <th>min_diff_days</th>\n",
       "      <th>max_diff_days</th>\n",
       "      <th>avg_diff_days</th>\n",
       "      <th>median_diff_days</th>\n",
       "      <th>stdev_diff_days</th>\n",
       "      <th>num_orders</th>\n",
       "      <th>aov_cat_usd</th>\n",
       "      <th>...</th>\n",
       "      <th>adjust_cohort</th>\n",
       "      <th>margen</th>\n",
       "      <th>adjust_retention</th>\n",
       "      <th>median_diff_days_adjusted</th>\n",
       "      <th>churned</th>\n",
       "      <th>churned_date</th>\n",
       "      <th>CLTV</th>\n",
       "      <th>CLTV_sin_margen</th>\n",
       "      <th>CLTV_sin_churn</th>\n",
       "      <th>cash_margin</th>\n",
       "    </tr>\n",
       "  </thead>\n",
       "  <tbody>\n",
       "    <tr>\n",
       "      <th>0</th>\n",
       "      <td>SPO</td>\n",
       "      <td>19337183</td>\n",
       "      <td>Bebidas</td>\n",
       "      <td>1.0</td>\n",
       "      <td>21.0</td>\n",
       "      <td>4.641509</td>\n",
       "      <td>3.0</td>\n",
       "      <td>4.328325</td>\n",
       "      <td>54</td>\n",
       "      <td>42.483860</td>\n",
       "      <td>...</td>\n",
       "      <td>0.993079</td>\n",
       "      <td>0.146</td>\n",
       "      <td>1.0</td>\n",
       "      <td>121.666667</td>\n",
       "      <td>0</td>\n",
       "      <td>2024-07-10</td>\n",
       "      <td>749.431921</td>\n",
       "      <td>5133.095347</td>\n",
       "      <td>754.654959</td>\n",
       "      <td>6.202643</td>\n",
       "    </tr>\n",
       "    <tr>\n",
       "      <th>8</th>\n",
       "      <td>SPO</td>\n",
       "      <td>19355299</td>\n",
       "      <td>Bebidas</td>\n",
       "      <td>1.0</td>\n",
       "      <td>196.0</td>\n",
       "      <td>35.150000</td>\n",
       "      <td>13.5</td>\n",
       "      <td>54.197762</td>\n",
       "      <td>21</td>\n",
       "      <td>18.748872</td>\n",
       "      <td>...</td>\n",
       "      <td>1.000000</td>\n",
       "      <td>0.146</td>\n",
       "      <td>1.0</td>\n",
       "      <td>27.037037</td>\n",
       "      <td>0</td>\n",
       "      <td>2024-11-04</td>\n",
       "      <td>14.801887</td>\n",
       "      <td>101.382790</td>\n",
       "      <td>14.801887</td>\n",
       "      <td>2.737335</td>\n",
       "    </tr>\n",
       "    <tr>\n",
       "      <th>16</th>\n",
       "      <td>SPO</td>\n",
       "      <td>19360755</td>\n",
       "      <td>Bebidas</td>\n",
       "      <td>20.0</td>\n",
       "      <td>441.0</td>\n",
       "      <td>171.666667</td>\n",
       "      <td>54.0</td>\n",
       "      <td>233.868196</td>\n",
       "      <td>4</td>\n",
       "      <td>70.193684</td>\n",
       "      <td>...</td>\n",
       "      <td>1.000000</td>\n",
       "      <td>0.146</td>\n",
       "      <td>1.0</td>\n",
       "      <td>6.759259</td>\n",
       "      <td>0</td>\n",
       "      <td>2025-12-19</td>\n",
       "      <td>6.927077</td>\n",
       "      <td>47.445731</td>\n",
       "      <td>6.927077</td>\n",
       "      <td>10.248278</td>\n",
       "    </tr>\n",
       "    <tr>\n",
       "      <th>22</th>\n",
       "      <td>SPO</td>\n",
       "      <td>19565513</td>\n",
       "      <td>Bebidas</td>\n",
       "      <td>1.0</td>\n",
       "      <td>108.0</td>\n",
       "      <td>8.164706</td>\n",
       "      <td>5.0</td>\n",
       "      <td>13.327243</td>\n",
       "      <td>86</td>\n",
       "      <td>22.201762</td>\n",
       "      <td>...</td>\n",
       "      <td>1.000000</td>\n",
       "      <td>0.146</td>\n",
       "      <td>1.0</td>\n",
       "      <td>73.000000</td>\n",
       "      <td>0</td>\n",
       "      <td>2024-08-06</td>\n",
       "      <td>165.638469</td>\n",
       "      <td>1134.510059</td>\n",
       "      <td>165.638469</td>\n",
       "      <td>3.241457</td>\n",
       "    </tr>\n",
       "    <tr>\n",
       "      <th>31</th>\n",
       "      <td>SPO</td>\n",
       "      <td>19567777</td>\n",
       "      <td>Bebidas</td>\n",
       "      <td>2.0</td>\n",
       "      <td>44.0</td>\n",
       "      <td>8.317647</td>\n",
       "      <td>6.0</td>\n",
       "      <td>6.664068</td>\n",
       "      <td>86</td>\n",
       "      <td>15.441469</td>\n",
       "      <td>...</td>\n",
       "      <td>1.000000</td>\n",
       "      <td>0.146</td>\n",
       "      <td>1.0</td>\n",
       "      <td>60.833333</td>\n",
       "      <td>0</td>\n",
       "      <td>2024-07-18</td>\n",
       "      <td>123.431380</td>\n",
       "      <td>845.420411</td>\n",
       "      <td>123.431380</td>\n",
       "      <td>2.254454</td>\n",
       "    </tr>\n",
       "  </tbody>\n",
       "</table>\n",
       "<p>5 rows × 26 columns</p>\n",
       "</div>"
      ],
      "text/plain": [
       "   city  customer_id      cat  min_diff_days  max_diff_days  avg_diff_days  \\\n",
       "0   SPO     19337183  Bebidas            1.0           21.0       4.641509   \n",
       "8   SPO     19355299  Bebidas            1.0          196.0      35.150000   \n",
       "16  SPO     19360755  Bebidas           20.0          441.0     171.666667   \n",
       "22  SPO     19565513  Bebidas            1.0          108.0       8.164706   \n",
       "31  SPO     19567777  Bebidas            2.0           44.0       8.317647   \n",
       "\n",
       "    median_diff_days  stdev_diff_days  num_orders  aov_cat_usd  ...  \\\n",
       "0                3.0         4.328325          54    42.483860  ...   \n",
       "8               13.5        54.197762          21    18.748872  ...   \n",
       "16              54.0       233.868196           4    70.193684  ...   \n",
       "22               5.0        13.327243          86    22.201762  ...   \n",
       "31               6.0         6.664068          86    15.441469  ...   \n",
       "\n",
       "    adjust_cohort margen  adjust_retention  median_diff_days_adjusted churned  \\\n",
       "0        0.993079  0.146               1.0                 121.666667       0   \n",
       "8        1.000000  0.146               1.0                  27.037037       0   \n",
       "16       1.000000  0.146               1.0                   6.759259       0   \n",
       "22       1.000000  0.146               1.0                  73.000000       0   \n",
       "31       1.000000  0.146               1.0                  60.833333       0   \n",
       "\n",
       "    churned_date        CLTV  CLTV_sin_margen  CLTV_sin_churn  cash_margin  \n",
       "0     2024-07-10  749.431921      5133.095347      754.654959     6.202643  \n",
       "8     2024-11-04   14.801887       101.382790       14.801887     2.737335  \n",
       "16    2025-12-19    6.927077        47.445731        6.927077    10.248278  \n",
       "22    2024-08-06  165.638469      1134.510059      165.638469     3.241457  \n",
       "31    2024-07-18  123.431380       845.420411      123.431380     2.254454  \n",
       "\n",
       "[5 rows x 26 columns]"
      ]
     },
     "execution_count": 21,
     "metadata": {},
     "output_type": "execute_result"
    }
   ],
   "source": [
    "df3.head(5)"
   ]
  },
  {
   "cell_type": "markdown",
   "id": "b892b61d",
   "metadata": {
    "papermill": {
     "duration": 0.023108,
     "end_time": "2024-07-06T11:10:43.883025",
     "exception": false,
     "start_time": "2024-07-06T11:10:43.859917",
     "status": "completed"
    },
    "tags": []
   },
   "source": [
    "# Aca empieza el analisis global by customer "
   ]
  },
  {
   "cell_type": "code",
   "execution_count": 22,
   "id": "517d47be",
   "metadata": {
    "execution": {
     "iopub.execute_input": "2024-07-06T11:10:43.933351Z",
     "iopub.status.busy": "2024-07-06T11:10:43.932892Z",
     "iopub.status.idle": "2024-07-06T11:10:43.981734Z",
     "shell.execute_reply": "2024-07-06T11:10:43.982057Z"
    },
    "papermill": {
     "duration": 0.07596,
     "end_time": "2024-07-06T11:10:43.982196",
     "exception": false,
     "start_time": "2024-07-06T11:10:43.906236",
     "status": "completed"
    },
    "tags": []
   },
   "outputs": [],
   "source": [
    "#Here, i group the df3 (the df with the whole info by cat to customer lvl)\n",
    "df_new3 = df3[['city','customer_id','aov_cat_usd','cash_margin','CLTV_sin_churn','churned']].groupby(by=['city','customer_id']).sum().reset_index()"
   ]
  },
  {
   "cell_type": "code",
   "execution_count": 23,
   "id": "5dac6ad9",
   "metadata": {
    "execution": {
     "iopub.execute_input": "2024-07-06T11:10:44.035020Z",
     "iopub.status.busy": "2024-07-06T11:10:44.034594Z",
     "iopub.status.idle": "2024-07-06T11:10:56.475704Z",
     "shell.execute_reply": "2024-07-06T11:10:56.475287Z"
    },
    "papermill": {
     "duration": 12.470064,
     "end_time": "2024-07-06T11:10:56.475814",
     "exception": false,
     "start_time": "2024-07-06T11:10:44.005750",
     "status": "completed"
    },
    "tags": []
   },
   "outputs": [],
   "source": [
    "#The processing data for customer level is made here\n",
    "\n",
    "df_new = df.groupby(by=['city','customer_id','order_id','submit_date']).sum().reset_index()\n",
    "\n",
    "df_new['days_bet'] = (df_new.submit_date -df_new.groupby('customer_id').submit_date.transform('min')).dt.days\n",
    "\n",
    "#This calculate in res the difference between consecutive orders and with the agg we calculate all metrics\n",
    "df_new['res'] = df_new.groupby(by=['customer_id'])['days_bet'].diff()\n",
    "df_grouped_2 = df_new.groupby(by=['city', 'customer_id']).agg({'res': [np.min, np.max, np.mean, np.median, np.std],\n",
    "                                                                    'order_id': [lambda x: x.nunique()], \n",
    "                                                                    'gmv_usd': [np.mean],\n",
    "                                                                    'cant': [np.mean],\n",
    "                                                                    'submit_date': [np.max, lambda x: (x.max()-x.min()).days, lambda x: (datetime.datetime.today() - x.max()).days, np.min]\n",
    "                                                                    }).droplevel(0, axis=\"columns\").reset_index()"
   ]
  },
  {
   "cell_type": "code",
   "execution_count": 24,
   "id": "2dfbe2df",
   "metadata": {
    "execution": {
     "iopub.execute_input": "2024-07-06T11:10:56.526602Z",
     "iopub.status.busy": "2024-07-06T11:10:56.526177Z",
     "iopub.status.idle": "2024-07-06T11:10:56.529691Z",
     "shell.execute_reply": "2024-07-06T11:10:56.529330Z"
    },
    "papermill": {
     "duration": 0.029965,
     "end_time": "2024-07-06T11:10:56.529793",
     "exception": false,
     "start_time": "2024-07-06T11:10:56.499828",
     "status": "completed"
    },
    "tags": []
   },
   "outputs": [],
   "source": [
    "#Finally we define everything in a df_new2 at level customer for further processing\n",
    "df_new2 = df_grouped_2.copy()\n",
    "\n",
    "df_new2.columns = ['city', 'customer_id', 'min_diff_days', 'max_diff_days', 'avg_diff_days', 'median_diff_days', 'stdev_diff_days',\n",
    "               'num_orders', 'aov_ALL_usd', 'ALL_avg_cant', 'last_order_date', 'diff_from_last_to_first_order', 'days_since_last_order','first_order_date']"
   ]
  },
  {
   "cell_type": "code",
   "execution_count": 25,
   "id": "65720ec3",
   "metadata": {
    "execution": {
     "iopub.execute_input": "2024-07-06T11:10:56.582379Z",
     "iopub.status.busy": "2024-07-06T11:10:56.581946Z",
     "iopub.status.idle": "2024-07-06T11:11:00.830390Z",
     "shell.execute_reply": "2024-07-06T11:11:00.830750Z"
    },
    "papermill": {
     "duration": 4.277506,
     "end_time": "2024-07-06T11:11:00.830883",
     "exception": false,
     "start_time": "2024-07-06T11:10:56.553377",
     "status": "completed"
    },
    "tags": []
   },
   "outputs": [],
   "source": [
    "#Finally we calculate the next parameters and also integred with df_new3 where we can have the info grouped by customer about the category performance\n",
    "df_new2[\"churned_ALL\"] = [0 if ((x[12]) - (x[4]+x[6]*2) <= 0) else 1 for x in df_new2.values]\n",
    "\n",
    "df_new2['adjust_std'] = pd.qcut(df_new2.stdev_diff_days, 10, labels=[1,0.9,0.8,0.7,0.6,0.5,0.4,0.3,0.2,0.1])\n",
    "df_new2[[\"adjust_std\"]] = df_new2[[\"adjust_std\"]].astype(float)\n",
    "\n",
    "df_new2['adjust_retention'] = [1 if diff_month(x[10],x[13])+1 >= 10 else \n",
    "                                retention_aux[(retention_aux.region_code == x[0])][str(diff_month(x[10],x[13])+1)].max() for x in df_new2.values]\n",
    "\n",
    "df_new2['median_diff_days_adjusted'] = 365/df_new2.median_diff_days\n",
    "\n",
    "#this merge is to include the info for the total cash_margin, how many cats is churned and the total cat CLTV\n",
    "df_new2 = df_new2.merge(df_new3[['customer_id','cash_margin','CLTV_sin_churn','churned']], on='customer_id', how='left')"
   ]
  },
  {
   "cell_type": "code",
   "execution_count": 26,
   "id": "0a5f82b9",
   "metadata": {
    "execution": {
     "iopub.execute_input": "2024-07-06T11:11:00.882871Z",
     "iopub.status.busy": "2024-07-06T11:11:00.882445Z",
     "iopub.status.idle": "2024-07-06T11:11:01.109627Z",
     "shell.execute_reply": "2024-07-06T11:11:01.109978Z"
    },
    "papermill": {
     "duration": 0.255413,
     "end_time": "2024-07-06T11:11:01.110108",
     "exception": false,
     "start_time": "2024-07-06T11:11:00.854695",
     "status": "completed"
    },
    "tags": []
   },
   "outputs": [
    {
     "name": "stdout",
     "output_type": "stream",
     "text": [
      "27047277.37751333 26939919.11326323\n"
     ]
    }
   ],
   "source": [
    "#We calculate now the CLTV taking into account the global behavior of the customer\n",
    "df_new2[\"ALL_CLTV_sin_churn\"] = df_new2.median_diff_days_adjusted * df_new2.adjust_retention * df_new2.adjust_std * df_new2.cash_margin / 2\n",
    "df_new2[['CLTV_sin_churn','ALL_CLTV_sin_churn']] = df_new2[['CLTV_sin_churn','ALL_CLTV_sin_churn']].fillna(0)\n",
    "\n",
    "#df_new2[\"CLTV\"] = df_new2.median_diff_days_adjusted * df_new2.margen * df_new2.aov_cat_usd * df_new2.adjust_retention * df_new2.adjust_std * df_new2.adjust_cohort\n",
    "#df_new2[\"CLTV_sin_margen\"] = df_new2.median_diff_days_adjusted * df_new2.aov_cat_usd * df_new2.adjust_retention * df_new2.adjust_std * df_new2.adjust_cohort\n",
    "\n",
    "#If the Total Cat CLTV is NA because it is so few orders for each category, we create a Adjust_CLTV to include the global or ALL_CLTV_sin_churn instead of the NULL value\n",
    "df_new2['Adjust_CLTV'] = [x[21] if x[19] == 0 else x[19] for x in df_new2.values]\n",
    "\n",
    "print(df_new2.Adjust_CLTV.sum(),df_new2.CLTV_sin_churn.sum())"
   ]
  },
  {
   "cell_type": "code",
   "execution_count": 27,
   "id": "168f580c",
   "metadata": {
    "execution": {
     "iopub.execute_input": "2024-07-06T11:11:01.162469Z",
     "iopub.status.busy": "2024-07-06T11:11:01.162038Z",
     "iopub.status.idle": "2024-07-06T11:11:01.562228Z",
     "shell.execute_reply": "2024-07-06T11:11:01.562738Z"
    },
    "papermill": {
     "duration": 0.428427,
     "end_time": "2024-07-06T11:11:01.562927",
     "exception": false,
     "start_time": "2024-07-06T11:11:01.134500",
     "status": "completed"
    },
    "tags": []
   },
   "outputs": [],
   "source": [
    "#Finally, we calculate the ALL_churned_date based on the general behavior of the customer\n",
    "df_new2[['avg_diff_days','stdev_diff_days']] = df_new2[['avg_diff_days','stdev_diff_days']].fillna(0)\n",
    "df_new2['ALL_churned_date'] = [(x[10] + datetime.timedelta(days=int(x[4]+x[6]*2))).strftime('%Y-%m-%d') for x in df_new2.values] #1 months"
   ]
  },
  {
   "cell_type": "markdown",
   "id": "761c81b8",
   "metadata": {
    "papermill": {
     "duration": 0.030402,
     "end_time": "2024-07-06T11:11:01.638964",
     "exception": false,
     "start_time": "2024-07-06T11:11:01.608562",
     "status": "completed"
    },
    "tags": []
   },
   "source": [
    "# Final processing of the file to export"
   ]
  },
  {
   "cell_type": "code",
   "execution_count": 28,
   "id": "7706a504",
   "metadata": {
    "execution": {
     "iopub.execute_input": "2024-07-06T11:11:01.697171Z",
     "iopub.status.busy": "2024-07-06T11:11:01.696680Z",
     "iopub.status.idle": "2024-07-06T11:11:01.730912Z",
     "shell.execute_reply": "2024-07-06T11:11:01.730523Z"
    },
    "papermill": {
     "duration": 0.067685,
     "end_time": "2024-07-06T11:11:01.731018",
     "exception": false,
     "start_time": "2024-07-06T11:11:01.663333",
     "status": "completed"
    },
    "tags": []
   },
   "outputs": [],
   "source": [
    "#We will merge the df_new2 with the clear_buyers in order to filter by restaurants and take away kams (also to include the microsegment)\n",
    "df_new2 = df_new2.merge(clear_buyers[clear_buyers.registered_city == city][['customer_id','business_type','microsegment_name','is_kam']], on='customer_id', how='left')\n",
    "df_new2_end = df_new2[(df_new2.is_kam == 0)].copy() #df_new2[(df_new2.business_type == 'Restaurante') & (df_new2.is_kam == 0)].copy()"
   ]
  },
  {
   "cell_type": "code",
   "execution_count": 29,
   "id": "362e0e46",
   "metadata": {
    "execution": {
     "iopub.execute_input": "2024-07-06T11:11:01.784489Z",
     "iopub.status.busy": "2024-07-06T11:11:01.784059Z",
     "iopub.status.idle": "2024-07-06T11:11:01.802372Z",
     "shell.execute_reply": "2024-07-06T11:11:01.802713Z"
    },
    "papermill": {
     "duration": 0.046835,
     "end_time": "2024-07-06T11:11:01.802845",
     "exception": false,
     "start_time": "2024-07-06T11:11:01.756010",
     "status": "completed"
    },
    "tags": []
   },
   "outputs": [],
   "source": [
    "#This cell is to calculate the cumulative sum to create the tiers further\n",
    "df_new2_end = df_new2_end.sort_values(['Adjust_CLTV'], ascending=[False])\n",
    "df_new2_end['cumsum'] = df_new2_end.groupby('city')['Adjust_CLTV'].cumsum()\n",
    "df_new2_end['run_pct'] = df_new2_end.groupby('city')['Adjust_CLTV'].apply(lambda x: (x/x.sum()).cumsum())"
   ]
  },
  {
   "cell_type": "code",
   "execution_count": 30,
   "id": "05eb5e60",
   "metadata": {
    "execution": {
     "iopub.execute_input": "2024-07-06T11:11:01.868568Z",
     "iopub.status.busy": "2024-07-06T11:11:01.858412Z",
     "iopub.status.idle": "2024-07-06T11:11:01.876922Z",
     "shell.execute_reply": "2024-07-06T11:11:01.876457Z"
    },
    "papermill": {
     "duration": 0.049869,
     "end_time": "2024-07-06T11:11:01.877029",
     "exception": false,
     "start_time": "2024-07-06T11:11:01.827160",
     "status": "completed"
    },
    "tags": []
   },
   "outputs": [],
   "source": [
    "#This conditional create the tiers\n",
    "df_new2_end['tier'] = ['A' if x <= 0.1 else\n",
    "                       'B' if x <= 0.2 else\n",
    "                       'C' if x <= 0.3 else\n",
    "                       'D' if x <= 0.4 else\n",
    "                       'E' if x <= 0.5 else\n",
    "                       'F' if x <= 0.6 else\n",
    "                       'G' if x <= 0.7 else\n",
    "                       'H' if x <= 0.8 else\n",
    "                       'I' if x <= 0.9 else\n",
    "                       'J' for x in df_new2_end.run_pct.values]"
   ]
  },
  {
   "cell_type": "code",
   "execution_count": 31,
   "id": "68200f6a",
   "metadata": {
    "execution": {
     "iopub.execute_input": "2024-07-06T11:11:01.931947Z",
     "iopub.status.busy": "2024-07-06T11:11:01.931524Z",
     "iopub.status.idle": "2024-07-06T11:11:01.933638Z",
     "shell.execute_reply": "2024-07-06T11:11:01.933971Z"
    },
    "papermill": {
     "duration": 0.032549,
     "end_time": "2024-07-06T11:11:01.934094",
     "exception": false,
     "start_time": "2024-07-06T11:11:01.901545",
     "status": "completed"
    },
    "tags": []
   },
   "outputs": [
    {
     "data": {
      "text/plain": [
       "J    14707\n",
       "I     3666\n",
       "H     2293\n",
       "G     1631\n",
       "F     1245\n",
       "E      967\n",
       "D      761\n",
       "C      580\n",
       "B      420\n",
       "A      225\n",
       "Name: tier, dtype: int64"
      ]
     },
     "execution_count": 31,
     "metadata": {},
     "output_type": "execute_result"
    }
   ],
   "source": [
    "df_new2_end.tier.value_counts()"
   ]
  },
  {
   "cell_type": "code",
   "execution_count": 32,
   "id": "2d8b4b94",
   "metadata": {
    "execution": {
     "iopub.execute_input": "2024-07-06T11:11:01.987535Z",
     "iopub.status.busy": "2024-07-06T11:11:01.987106Z",
     "iopub.status.idle": "2024-07-06T11:11:01.988591Z",
     "shell.execute_reply": "2024-07-06T11:11:01.988948Z"
    },
    "papermill": {
     "duration": 0.030405,
     "end_time": "2024-07-06T11:11:01.989087",
     "exception": false,
     "start_time": "2024-07-06T11:11:01.958682",
     "status": "completed"
    },
    "tags": []
   },
   "outputs": [],
   "source": [
    "df_new2_end.rename(columns={'num_orders': 'ALL_num_orders', 'CLTV_sin_churn': 'TOTAL_CAT_CLTV_sin_churn'}, inplace=True)\n",
    "\n",
    "df3.rename(columns={'num_orders': 'num_orders_cat', 'churned': 'churned_cat','CLTV_sin_churn':'CAT_CLTV_sin_churn'}, inplace=True)"
   ]
  },
  {
   "cell_type": "code",
   "execution_count": 33,
   "id": "56f26deb",
   "metadata": {
    "execution": {
     "iopub.execute_input": "2024-07-06T11:11:02.041985Z",
     "iopub.status.busy": "2024-07-06T11:11:02.041562Z",
     "iopub.status.idle": "2024-07-06T11:11:02.044010Z",
     "shell.execute_reply": "2024-07-06T11:11:02.043654Z"
    },
    "papermill": {
     "duration": 0.03047,
     "end_time": "2024-07-06T11:11:02.044109",
     "exception": false,
     "start_time": "2024-07-06T11:11:02.013639",
     "status": "completed"
    },
    "tags": []
   },
   "outputs": [
    {
     "data": {
      "text/plain": [
       "Index(['city', 'customer_id', 'min_diff_days', 'max_diff_days',\n",
       "       'avg_diff_days', 'median_diff_days', 'stdev_diff_days',\n",
       "       'ALL_num_orders', 'aov_ALL_usd', 'ALL_avg_cant', 'last_order_date',\n",
       "       'diff_from_last_to_first_order', 'days_since_last_order',\n",
       "       'first_order_date', 'churned_ALL', 'adjust_std', 'adjust_retention',\n",
       "       'median_diff_days_adjusted', 'cash_margin', 'TOTAL_CAT_CLTV_sin_churn',\n",
       "       'churned', 'ALL_CLTV_sin_churn', 'Adjust_CLTV', 'ALL_churned_date',\n",
       "       'business_type', 'microsegment_name', 'is_kam', 'cumsum', 'run_pct',\n",
       "       'tier'],\n",
       "      dtype='object')"
      ]
     },
     "execution_count": 33,
     "metadata": {},
     "output_type": "execute_result"
    }
   ],
   "source": [
    "df_new2_end.columns"
   ]
  },
  {
   "cell_type": "code",
   "execution_count": 34,
   "id": "52f7b3a6",
   "metadata": {
    "execution": {
     "iopub.execute_input": "2024-07-06T11:11:02.098268Z",
     "iopub.status.busy": "2024-07-06T11:11:02.097827Z",
     "iopub.status.idle": "2024-07-06T11:11:02.122987Z",
     "shell.execute_reply": "2024-07-06T11:11:02.122536Z"
    },
    "papermill": {
     "duration": 0.054175,
     "end_time": "2024-07-06T11:11:02.123092",
     "exception": false,
     "start_time": "2024-07-06T11:11:02.068917",
     "status": "completed"
    },
    "tags": []
   },
   "outputs": [],
   "source": [
    "#We merge with data_farming so we get the info farming for each customer\n",
    "df_new2_end = df_new2_end[['customer_id','ALL_num_orders', 'aov_ALL_usd', 'churned_ALL', 'ALL_churned_date','TOTAL_CAT_CLTV_sin_churn',\n",
    "       'ALL_CLTV_sin_churn', 'Adjust_CLTV','tier', 'microsegment_name', 'business_type', 'is_kam']].merge(data_farming[data_farming.ciudad == city][['customer_id','owner']], on='customer_id', how='left')\n",
    "df_new2_end[['owner']] = df_new2_end[['owner']].fillna('No Farming')"
   ]
  },
  {
   "cell_type": "code",
   "execution_count": 35,
   "id": "a7601937",
   "metadata": {
    "execution": {
     "iopub.execute_input": "2024-07-06T11:11:02.177485Z",
     "iopub.status.busy": "2024-07-06T11:11:02.177036Z",
     "iopub.status.idle": "2024-07-06T11:11:02.178885Z",
     "shell.execute_reply": "2024-07-06T11:11:02.178476Z"
    },
    "papermill": {
     "duration": 0.030633,
     "end_time": "2024-07-06T11:11:02.178980",
     "exception": false,
     "start_time": "2024-07-06T11:11:02.148347",
     "status": "completed"
    },
    "tags": []
   },
   "outputs": [],
   "source": [
    "df_new2_end.rename(columns={'num_orders': 'ALL_num_orders', 'CLTV_sin_churn': 'TOTAL_CAT_CLTV_sin_churn'}, inplace=True)\n",
    "\n",
    "df3.rename(columns={'num_orders': 'num_orders_cat', 'churned': 'churned_cat','CLTV_sin_churn':'CAT_CLTV_sin_churn'}, inplace=True)"
   ]
  },
  {
   "cell_type": "code",
   "execution_count": 36,
   "id": "5f9f5480",
   "metadata": {
    "execution": {
     "iopub.execute_input": "2024-07-06T11:11:02.232722Z",
     "iopub.status.busy": "2024-07-06T11:11:02.232288Z",
     "iopub.status.idle": "2024-07-06T11:11:02.338980Z",
     "shell.execute_reply": "2024-07-06T11:11:02.339441Z"
    },
    "papermill": {
     "duration": 0.135796,
     "end_time": "2024-07-06T11:11:02.339612",
     "exception": false,
     "start_time": "2024-07-06T11:11:02.203816",
     "status": "completed"
    },
    "tags": []
   },
   "outputs": [],
   "source": [
    "df_final = df3[['city', 'customer_id', 'cat', 'min_diff_days', 'max_diff_days', 'avg_diff_days', 'median_diff_days', 'stdev_diff_days', 'num_orders_cat',\n",
    "       'aov_cat_usd','last_order_date', 'diff_from_last_to_first_order', 'days_since_last_order',\n",
    "       'first_order_date', 'adjust_std', 'adjust_cohort','adjust_retention', \n",
    "       'median_diff_days_adjusted', 'churned_cat', 'churned_date','CAT_CLTV_sin_churn']].merge(df_new2_end, on='customer_id', how='inner')"
   ]
  },
  {
   "cell_type": "code",
   "execution_count": 37,
   "id": "0db9a43a",
   "metadata": {
    "execution": {
     "iopub.execute_input": "2024-07-06T11:11:02.393582Z",
     "iopub.status.busy": "2024-07-06T11:11:02.392695Z",
     "iopub.status.idle": "2024-07-06T11:11:02.413038Z",
     "shell.execute_reply": "2024-07-06T11:11:02.412651Z"
    },
    "papermill": {
     "duration": 0.048371,
     "end_time": "2024-07-06T11:11:02.413151",
     "exception": false,
     "start_time": "2024-07-06T11:11:02.364780",
     "status": "completed"
    },
    "tags": []
   },
   "outputs": [
    {
     "data": {
      "text/html": [
       "<div>\n",
       "<style scoped>\n",
       "    .dataframe tbody tr th:only-of-type {\n",
       "        vertical-align: middle;\n",
       "    }\n",
       "\n",
       "    .dataframe tbody tr th {\n",
       "        vertical-align: top;\n",
       "    }\n",
       "\n",
       "    .dataframe thead th {\n",
       "        text-align: right;\n",
       "    }\n",
       "</style>\n",
       "<table border=\"1\" class=\"dataframe\">\n",
       "  <thead>\n",
       "    <tr style=\"text-align: right;\">\n",
       "      <th></th>\n",
       "      <th>city</th>\n",
       "      <th>customer_id</th>\n",
       "      <th>cat</th>\n",
       "      <th>min_diff_days</th>\n",
       "      <th>max_diff_days</th>\n",
       "      <th>avg_diff_days</th>\n",
       "      <th>median_diff_days</th>\n",
       "      <th>stdev_diff_days</th>\n",
       "      <th>num_orders_cat</th>\n",
       "      <th>aov_cat_usd</th>\n",
       "      <th>...</th>\n",
       "      <th>churned_ALL</th>\n",
       "      <th>ALL_churned_date</th>\n",
       "      <th>TOTAL_CAT_CLTV_sin_churn</th>\n",
       "      <th>ALL_CLTV_sin_churn</th>\n",
       "      <th>Adjust_CLTV</th>\n",
       "      <th>tier</th>\n",
       "      <th>microsegment_name</th>\n",
       "      <th>business_type</th>\n",
       "      <th>is_kam</th>\n",
       "      <th>owner</th>\n",
       "    </tr>\n",
       "  </thead>\n",
       "  <tbody>\n",
       "    <tr>\n",
       "      <th>0</th>\n",
       "      <td>SPO</td>\n",
       "      <td>19337183</td>\n",
       "      <td>Bebidas</td>\n",
       "      <td>1.0</td>\n",
       "      <td>21.0</td>\n",
       "      <td>4.641509</td>\n",
       "      <td>3.0</td>\n",
       "      <td>4.328325</td>\n",
       "      <td>54</td>\n",
       "      <td>42.483860</td>\n",
       "      <td>...</td>\n",
       "      <td>0</td>\n",
       "      <td>2024-07-09</td>\n",
       "      <td>2352.540422</td>\n",
       "      <td>2456.925682</td>\n",
       "      <td>2352.540422</td>\n",
       "      <td>E</td>\n",
       "      <td>Lanches</td>\n",
       "      <td>Restaurante</td>\n",
       "      <td>False</td>\n",
       "      <td>No Farming</td>\n",
       "    </tr>\n",
       "    <tr>\n",
       "      <th>1</th>\n",
       "      <td>SPO</td>\n",
       "      <td>19337183</td>\n",
       "      <td>Carnes, Aves e Peixes</td>\n",
       "      <td>7.0</td>\n",
       "      <td>33.0</td>\n",
       "      <td>16.500000</td>\n",
       "      <td>13.0</td>\n",
       "      <td>11.387127</td>\n",
       "      <td>5</td>\n",
       "      <td>39.293533</td>\n",
       "      <td>...</td>\n",
       "      <td>0</td>\n",
       "      <td>2024-07-09</td>\n",
       "      <td>2352.540422</td>\n",
       "      <td>2456.925682</td>\n",
       "      <td>2352.540422</td>\n",
       "      <td>E</td>\n",
       "      <td>Lanches</td>\n",
       "      <td>Restaurante</td>\n",
       "      <td>False</td>\n",
       "      <td>No Farming</td>\n",
       "    </tr>\n",
       "    <tr>\n",
       "      <th>2</th>\n",
       "      <td>SPO</td>\n",
       "      <td>19337183</td>\n",
       "      <td>Congelados</td>\n",
       "      <td>NaN</td>\n",
       "      <td>NaN</td>\n",
       "      <td>0.000000</td>\n",
       "      <td>NaN</td>\n",
       "      <td>0.000000</td>\n",
       "      <td>1</td>\n",
       "      <td>8.528421</td>\n",
       "      <td>...</td>\n",
       "      <td>0</td>\n",
       "      <td>2024-07-09</td>\n",
       "      <td>2352.540422</td>\n",
       "      <td>2456.925682</td>\n",
       "      <td>2352.540422</td>\n",
       "      <td>E</td>\n",
       "      <td>Lanches</td>\n",
       "      <td>Restaurante</td>\n",
       "      <td>False</td>\n",
       "      <td>No Farming</td>\n",
       "    </tr>\n",
       "    <tr>\n",
       "      <th>3</th>\n",
       "      <td>SPO</td>\n",
       "      <td>19337183</td>\n",
       "      <td>Descartáveis</td>\n",
       "      <td>6.0</td>\n",
       "      <td>55.0</td>\n",
       "      <td>16.600000</td>\n",
       "      <td>7.0</td>\n",
       "      <td>21.477896</td>\n",
       "      <td>6</td>\n",
       "      <td>3.219298</td>\n",
       "      <td>...</td>\n",
       "      <td>0</td>\n",
       "      <td>2024-07-09</td>\n",
       "      <td>2352.540422</td>\n",
       "      <td>2456.925682</td>\n",
       "      <td>2352.540422</td>\n",
       "      <td>E</td>\n",
       "      <td>Lanches</td>\n",
       "      <td>Restaurante</td>\n",
       "      <td>False</td>\n",
       "      <td>No Farming</td>\n",
       "    </tr>\n",
       "    <tr>\n",
       "      <th>4</th>\n",
       "      <td>SPO</td>\n",
       "      <td>19337183</td>\n",
       "      <td>Frutas e Verduras</td>\n",
       "      <td>1.0</td>\n",
       "      <td>16.0</td>\n",
       "      <td>2.663158</td>\n",
       "      <td>2.0</td>\n",
       "      <td>2.486605</td>\n",
       "      <td>96</td>\n",
       "      <td>18.755987</td>\n",
       "      <td>...</td>\n",
       "      <td>0</td>\n",
       "      <td>2024-07-09</td>\n",
       "      <td>2352.540422</td>\n",
       "      <td>2456.925682</td>\n",
       "      <td>2352.540422</td>\n",
       "      <td>E</td>\n",
       "      <td>Lanches</td>\n",
       "      <td>Restaurante</td>\n",
       "      <td>False</td>\n",
       "      <td>No Farming</td>\n",
       "    </tr>\n",
       "    <tr>\n",
       "      <th>5</th>\n",
       "      <td>SPO</td>\n",
       "      <td>19337183</td>\n",
       "      <td>Laticínios e Ovos</td>\n",
       "      <td>1.0</td>\n",
       "      <td>53.0</td>\n",
       "      <td>15.727273</td>\n",
       "      <td>7.0</td>\n",
       "      <td>17.106086</td>\n",
       "      <td>12</td>\n",
       "      <td>14.409123</td>\n",
       "      <td>...</td>\n",
       "      <td>0</td>\n",
       "      <td>2024-07-09</td>\n",
       "      <td>2352.540422</td>\n",
       "      <td>2456.925682</td>\n",
       "      <td>2352.540422</td>\n",
       "      <td>E</td>\n",
       "      <td>Lanches</td>\n",
       "      <td>Restaurante</td>\n",
       "      <td>False</td>\n",
       "      <td>No Farming</td>\n",
       "    </tr>\n",
       "    <tr>\n",
       "      <th>6</th>\n",
       "      <td>SPO</td>\n",
       "      <td>19337183</td>\n",
       "      <td>Limpeza e Higiene</td>\n",
       "      <td>2.0</td>\n",
       "      <td>36.0</td>\n",
       "      <td>13.444444</td>\n",
       "      <td>11.0</td>\n",
       "      <td>10.678379</td>\n",
       "      <td>10</td>\n",
       "      <td>8.660210</td>\n",
       "      <td>...</td>\n",
       "      <td>0</td>\n",
       "      <td>2024-07-09</td>\n",
       "      <td>2352.540422</td>\n",
       "      <td>2456.925682</td>\n",
       "      <td>2352.540422</td>\n",
       "      <td>E</td>\n",
       "      <td>Lanches</td>\n",
       "      <td>Restaurante</td>\n",
       "      <td>False</td>\n",
       "      <td>No Farming</td>\n",
       "    </tr>\n",
       "    <tr>\n",
       "      <th>7</th>\n",
       "      <td>SPO</td>\n",
       "      <td>19337183</td>\n",
       "      <td>Mercearia</td>\n",
       "      <td>1.0</td>\n",
       "      <td>20.0</td>\n",
       "      <td>4.490909</td>\n",
       "      <td>4.0</td>\n",
       "      <td>4.050024</td>\n",
       "      <td>56</td>\n",
       "      <td>38.795489</td>\n",
       "      <td>...</td>\n",
       "      <td>0</td>\n",
       "      <td>2024-07-09</td>\n",
       "      <td>2352.540422</td>\n",
       "      <td>2456.925682</td>\n",
       "      <td>2352.540422</td>\n",
       "      <td>E</td>\n",
       "      <td>Lanches</td>\n",
       "      <td>Restaurante</td>\n",
       "      <td>False</td>\n",
       "      <td>No Farming</td>\n",
       "    </tr>\n",
       "    <tr>\n",
       "      <th>8</th>\n",
       "      <td>SPO</td>\n",
       "      <td>19355299</td>\n",
       "      <td>Bebidas</td>\n",
       "      <td>1.0</td>\n",
       "      <td>196.0</td>\n",
       "      <td>35.150000</td>\n",
       "      <td>13.5</td>\n",
       "      <td>54.197762</td>\n",
       "      <td>21</td>\n",
       "      <td>18.748872</td>\n",
       "      <td>...</td>\n",
       "      <td>0</td>\n",
       "      <td>2024-07-10</td>\n",
       "      <td>2602.950758</td>\n",
       "      <td>1583.760433</td>\n",
       "      <td>2602.950758</td>\n",
       "      <td>D</td>\n",
       "      <td>Pratos/Refeições</td>\n",
       "      <td>Restaurante</td>\n",
       "      <td>False</td>\n",
       "      <td>No Farming</td>\n",
       "    </tr>\n",
       "    <tr>\n",
       "      <th>9</th>\n",
       "      <td>SPO</td>\n",
       "      <td>19355299</td>\n",
       "      <td>Carnes, Aves e Peixes</td>\n",
       "      <td>1.0</td>\n",
       "      <td>354.0</td>\n",
       "      <td>14.020833</td>\n",
       "      <td>5.0</td>\n",
       "      <td>50.379618</td>\n",
       "      <td>49</td>\n",
       "      <td>28.525585</td>\n",
       "      <td>...</td>\n",
       "      <td>0</td>\n",
       "      <td>2024-07-10</td>\n",
       "      <td>2602.950758</td>\n",
       "      <td>1583.760433</td>\n",
       "      <td>2602.950758</td>\n",
       "      <td>D</td>\n",
       "      <td>Pratos/Refeições</td>\n",
       "      <td>Restaurante</td>\n",
       "      <td>False</td>\n",
       "      <td>No Farming</td>\n",
       "    </tr>\n",
       "  </tbody>\n",
       "</table>\n",
       "<p>10 rows × 33 columns</p>\n",
       "</div>"
      ],
      "text/plain": [
       "  city  customer_id                    cat  min_diff_days  max_diff_days  \\\n",
       "0  SPO     19337183                Bebidas            1.0           21.0   \n",
       "1  SPO     19337183  Carnes, Aves e Peixes            7.0           33.0   \n",
       "2  SPO     19337183             Congelados            NaN            NaN   \n",
       "3  SPO     19337183           Descartáveis            6.0           55.0   \n",
       "4  SPO     19337183      Frutas e Verduras            1.0           16.0   \n",
       "5  SPO     19337183      Laticínios e Ovos            1.0           53.0   \n",
       "6  SPO     19337183      Limpeza e Higiene            2.0           36.0   \n",
       "7  SPO     19337183              Mercearia            1.0           20.0   \n",
       "8  SPO     19355299                Bebidas            1.0          196.0   \n",
       "9  SPO     19355299  Carnes, Aves e Peixes            1.0          354.0   \n",
       "\n",
       "   avg_diff_days  median_diff_days  stdev_diff_days  num_orders_cat  \\\n",
       "0       4.641509               3.0         4.328325              54   \n",
       "1      16.500000              13.0        11.387127               5   \n",
       "2       0.000000               NaN         0.000000               1   \n",
       "3      16.600000               7.0        21.477896               6   \n",
       "4       2.663158               2.0         2.486605              96   \n",
       "5      15.727273               7.0        17.106086              12   \n",
       "6      13.444444              11.0        10.678379              10   \n",
       "7       4.490909               4.0         4.050024              56   \n",
       "8      35.150000              13.5        54.197762              21   \n",
       "9      14.020833               5.0        50.379618              49   \n",
       "\n",
       "   aov_cat_usd  ... churned_ALL  ALL_churned_date  TOTAL_CAT_CLTV_sin_churn  \\\n",
       "0    42.483860  ...           0        2024-07-09               2352.540422   \n",
       "1    39.293533  ...           0        2024-07-09               2352.540422   \n",
       "2     8.528421  ...           0        2024-07-09               2352.540422   \n",
       "3     3.219298  ...           0        2024-07-09               2352.540422   \n",
       "4    18.755987  ...           0        2024-07-09               2352.540422   \n",
       "5    14.409123  ...           0        2024-07-09               2352.540422   \n",
       "6     8.660210  ...           0        2024-07-09               2352.540422   \n",
       "7    38.795489  ...           0        2024-07-09               2352.540422   \n",
       "8    18.748872  ...           0        2024-07-10               2602.950758   \n",
       "9    28.525585  ...           0        2024-07-10               2602.950758   \n",
       "\n",
       "  ALL_CLTV_sin_churn  Adjust_CLTV  tier  microsegment_name  business_type  \\\n",
       "0        2456.925682  2352.540422     E            Lanches    Restaurante   \n",
       "1        2456.925682  2352.540422     E            Lanches    Restaurante   \n",
       "2        2456.925682  2352.540422     E            Lanches    Restaurante   \n",
       "3        2456.925682  2352.540422     E            Lanches    Restaurante   \n",
       "4        2456.925682  2352.540422     E            Lanches    Restaurante   \n",
       "5        2456.925682  2352.540422     E            Lanches    Restaurante   \n",
       "6        2456.925682  2352.540422     E            Lanches    Restaurante   \n",
       "7        2456.925682  2352.540422     E            Lanches    Restaurante   \n",
       "8        1583.760433  2602.950758     D   Pratos/Refeições    Restaurante   \n",
       "9        1583.760433  2602.950758     D   Pratos/Refeições    Restaurante   \n",
       "\n",
       "   is_kam       owner  \n",
       "0   False  No Farming  \n",
       "1   False  No Farming  \n",
       "2   False  No Farming  \n",
       "3   False  No Farming  \n",
       "4   False  No Farming  \n",
       "5   False  No Farming  \n",
       "6   False  No Farming  \n",
       "7   False  No Farming  \n",
       "8   False  No Farming  \n",
       "9   False  No Farming  \n",
       "\n",
       "[10 rows x 33 columns]"
      ]
     },
     "execution_count": 37,
     "metadata": {},
     "output_type": "execute_result"
    }
   ],
   "source": [
    "df_final.head(10)"
   ]
  },
  {
   "cell_type": "code",
   "execution_count": 38,
   "id": "5520cdd4",
   "metadata": {
    "execution": {
     "iopub.execute_input": "2024-07-06T11:11:02.466730Z",
     "iopub.status.busy": "2024-07-06T11:11:02.466307Z",
     "iopub.status.idle": "2024-07-06T11:11:02.468124Z",
     "shell.execute_reply": "2024-07-06T11:11:02.467712Z"
    },
    "papermill": {
     "duration": 0.029473,
     "end_time": "2024-07-06T11:11:02.468215",
     "exception": false,
     "start_time": "2024-07-06T11:11:02.438742",
     "status": "completed"
    },
    "tags": []
   },
   "outputs": [],
   "source": [
    "#df_final.to_excel(f\"CLTV_{city}.xlsx\",index=False)"
   ]
  },
  {
   "cell_type": "markdown",
   "id": "39441568",
   "metadata": {
    "papermill": {
     "duration": 0.025483,
     "end_time": "2024-07-06T11:11:02.519389",
     "exception": false,
     "start_time": "2024-07-06T11:11:02.493906",
     "status": "completed"
    },
    "tags": []
   },
   "source": [
    "# Info for SAC team"
   ]
  },
  {
   "cell_type": "code",
   "execution_count": 39,
   "id": "fc2b353d",
   "metadata": {
    "execution": {
     "iopub.execute_input": "2024-07-06T11:11:02.574022Z",
     "iopub.status.busy": "2024-07-06T11:11:02.573609Z",
     "iopub.status.idle": "2024-07-06T11:11:02.628522Z",
     "shell.execute_reply": "2024-07-06T11:11:02.628131Z"
    },
    "papermill": {
     "duration": 0.0837,
     "end_time": "2024-07-06T11:11:02.628630",
     "exception": false,
     "start_time": "2024-07-06T11:11:02.544930",
     "status": "completed"
    },
    "tags": []
   },
   "outputs": [],
   "source": [
    "df_SAC = df_final[['city','customer_id','tier','Adjust_CLTV']].drop_duplicates()"
   ]
  },
  {
   "cell_type": "code",
   "execution_count": 40,
   "id": "8114bd27",
   "metadata": {
    "execution": {
     "iopub.execute_input": "2024-07-06T11:11:02.685519Z",
     "iopub.status.busy": "2024-07-06T11:11:02.685094Z",
     "iopub.status.idle": "2024-07-06T11:11:02.687715Z",
     "shell.execute_reply": "2024-07-06T11:11:02.687362Z"
    },
    "papermill": {
     "duration": 0.032977,
     "end_time": "2024-07-06T11:11:02.687810",
     "exception": false,
     "start_time": "2024-07-06T11:11:02.654833",
     "status": "completed"
    },
    "tags": []
   },
   "outputs": [],
   "source": [
    "letter_to_number = {'A': 1, 'B': 2, 'C': 3, 'D': 4, 'E': 5, 'F': 6, 'G': 7, 'H': 8, 'I': 9, 'J': 10}\n",
    "df_SAC['tier'] = df_SAC['tier'].map(letter_to_number)"
   ]
  },
  {
   "cell_type": "code",
   "execution_count": 41,
   "id": "b75d5c5e",
   "metadata": {
    "execution": {
     "iopub.execute_input": "2024-07-06T11:11:02.744428Z",
     "iopub.status.busy": "2024-07-06T11:11:02.744002Z",
     "iopub.status.idle": "2024-07-06T11:11:03.242260Z",
     "shell.execute_reply": "2024-07-06T11:11:03.241858Z"
    },
    "papermill": {
     "duration": 0.528865,
     "end_time": "2024-07-06T11:11:03.242365",
     "exception": false,
     "start_time": "2024-07-06T11:11:02.713500",
     "status": "completed"
    },
    "tags": []
   },
   "outputs": [],
   "source": [
    "# Iterate through the customer_ids\n",
    "for customer_id in buyers_11.loc[buyers_11.region_code == city].uid.unique():\n",
    "    # Check if customer_id is already in the DataFrame\n",
    "    if customer_id in df_SAC['customer_id'].values:\n",
    "        # If yes, change its tier to 11\n",
    "        df_SAC.loc[df_SAC['customer_id'] == customer_id, 'tier'] = 11\n",
    "    else:\n",
    "        # If not, add a new row with tier 11\n",
    "        df_SAC = df_SAC.append({'city': city, 'customer_id': customer_id, 'tier': 11, 'Adjust_CLTV':1}, ignore_index=True)"
   ]
  },
  {
   "cell_type": "code",
   "execution_count": 42,
   "id": "970ff24c",
   "metadata": {
    "execution": {
     "iopub.execute_input": "2024-07-06T11:11:03.298629Z",
     "iopub.status.busy": "2024-07-06T11:11:03.298210Z",
     "iopub.status.idle": "2024-07-06T11:11:03.377244Z",
     "shell.execute_reply": "2024-07-06T11:11:03.377602Z"
    },
    "papermill": {
     "duration": 0.109035,
     "end_time": "2024-07-06T11:11:03.377736",
     "exception": false,
     "start_time": "2024-07-06T11:11:03.268701",
     "status": "completed"
    },
    "tags": []
   },
   "outputs": [],
   "source": [
    "df_SAC.to_csv(f\"/home/jupyter-felipe.guevara/Growth/CLTV/{city}_SAC_tiers.csv\",index=False)"
   ]
  }
 ],
 "metadata": {
  "kernelspec": {
   "display_name": "Python 3",
   "language": "python",
   "name": "python3"
  },
  "language_info": {
   "codemirror_mode": {
    "name": "ipython",
    "version": 3
   },
   "file_extension": ".py",
   "mimetype": "text/x-python",
   "name": "python",
   "nbconvert_exporter": "python",
   "pygments_lexer": "ipython3",
   "version": "3.7.9"
  },
  "papermill": {
   "default_parameters": {},
   "duration": 414.102147,
   "end_time": "2024-07-06T11:11:06.410831",
   "environment_variables": {},
   "exception": null,
   "input_path": "/home/jupyter-felipe.guevara/Growth/CLTV/CLTV_origin.ipynb",
   "output_path": "/home/jupyter-felipe.guevara/Growth/logs/CLTV_SPO.ipynb",
   "parameters": {
    "city": "SPO"
   },
   "start_time": "2024-07-06T11:04:12.308684",
   "version": "2.3.2"
  },
  "vscode": {
   "interpreter": {
    "hash": "624741679a3ae5d99cecf49b8df5d516a7a937e6e7328e129d1fa121c8592e26"
   }
  }
 },
 "nbformat": 4,
 "nbformat_minor": 5
}