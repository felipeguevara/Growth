{
 "cells": [
  {
   "cell_type": "code",
   "execution_count": 1,
   "id": "3059ae5a",
   "metadata": {
    "execution": {
     "iopub.execute_input": "2024-03-21T23:46:00.358142Z",
     "iopub.status.busy": "2024-03-21T23:46:00.357697Z",
     "iopub.status.idle": "2024-03-21T23:46:01.711393Z",
     "shell.execute_reply": "2024-03-21T23:46:01.710883Z"
    },
    "papermill": {
     "duration": 1.379785,
     "end_time": "2024-03-21T23:46:01.711519",
     "exception": false,
     "start_time": "2024-03-21T23:46:00.331734",
     "status": "completed"
    },
    "tags": []
   },
   "outputs": [],
   "source": [
    "#//----------------------------\n",
    "#//LIBRARIES\n",
    "    #Math\n",
    "import math\n",
    "    #Numeric Python\n",
    "import numpy as np\n",
    "    #Pandas (dataframes)\n",
    "import pandas as pd\n",
    "    #datetime for fate manipulation\n",
    "from datetime import date, datetime, timedelta  \n",
    "    #Regex for advanced string matching\n",
    "import re\n",
    "    #for time related stuff\n",
    "import time\n",
    "    #json library\n",
    "import json\n",
    "    #Analyst tools\n",
    "import sys\n",
    "import os\n",
    "sys.path.append(os.path.expanduser('~'))\n",
    "from analysts_tools.growth import *\n",
    "    #Procurement tools\n",
    "from procurement_lib import send_slack_notification\n",
    "from procurement_lib import redash\n",
    "from analysts_tools.redash_methods import *\n",
    "from analystcommunity.read_connection_data_warehouse import run_read_dwd_query\n",
    "\n",
    "import random\n",
    "import time\n",
    "import datetime\n",
    "\n",
    "import seaborn as sns\n",
    "import matplotlib.pyplot as plt\n",
    "\n",
    "\n",
    "from sklearn.model_selection import train_test_split\n",
    "from scipy.signal import savgol_filter"
   ]
  },
  {
   "cell_type": "markdown",
   "id": "a48df4b4",
   "metadata": {
    "papermill": {
     "duration": 0.017846,
     "end_time": "2024-03-21T23:46:01.747658",
     "exception": false,
     "start_time": "2024-03-21T23:46:01.729812",
     "status": "completed"
    },
    "tags": []
   },
   "source": [
    "# Cargue de Queries y parametros"
   ]
  },
  {
   "cell_type": "code",
   "execution_count": 2,
   "id": "9bc20f85",
   "metadata": {
    "execution": {
     "iopub.execute_input": "2024-03-21T23:46:01.786577Z",
     "iopub.status.busy": "2024-03-21T23:46:01.786133Z",
     "iopub.status.idle": "2024-03-21T23:46:01.787653Z",
     "shell.execute_reply": "2024-03-21T23:46:01.788015Z"
    },
    "papermill": {
     "duration": 0.022579,
     "end_time": "2024-03-21T23:46:01.788129",
     "exception": false,
     "start_time": "2024-03-21T23:46:01.765550",
     "status": "completed"
    },
    "tags": [
     "parameters"
    ]
   },
   "outputs": [],
   "source": [
    "city = 'VCP'"
   ]
  },
  {
   "cell_type": "code",
   "execution_count": 3,
   "id": "439453ab",
   "metadata": {
    "execution": {
     "iopub.execute_input": "2024-03-21T23:46:01.826887Z",
     "iopub.status.busy": "2024-03-21T23:46:01.826454Z",
     "iopub.status.idle": "2024-03-21T23:46:01.827945Z",
     "shell.execute_reply": "2024-03-21T23:46:01.828280Z"
    },
    "papermill": {
     "duration": 0.022249,
     "end_time": "2024-03-21T23:46:01.828395",
     "exception": false,
     "start_time": "2024-03-21T23:46:01.806146",
     "status": "completed"
    },
    "tags": [
     "injected-parameters"
    ]
   },
   "outputs": [],
   "source": [
    "# Parameters\n",
    "city = \"SPO\"\n"
   ]
  },
  {
   "cell_type": "code",
   "execution_count": 4,
   "id": "38f0b114",
   "metadata": {
    "execution": {
     "iopub.execute_input": "2024-03-21T23:46:01.868052Z",
     "iopub.status.busy": "2024-03-21T23:46:01.867613Z",
     "iopub.status.idle": "2024-03-21T23:46:01.869085Z",
     "shell.execute_reply": "2024-03-21T23:46:01.869440Z"
    },
    "papermill": {
     "duration": 0.02286,
     "end_time": "2024-03-21T23:46:01.869561",
     "exception": false,
     "start_time": "2024-03-21T23:46:01.846701",
     "status": "completed"
    },
    "tags": []
   },
   "outputs": [],
   "source": [
    "customer_date_desde = (datetime.datetime.today() - datetime.timedelta(days=200))#.strftime('%Y-%m-%d') #1 months"
   ]
  },
  {
   "cell_type": "code",
   "execution_count": 5,
   "id": "38847368",
   "metadata": {
    "execution": {
     "iopub.execute_input": "2024-03-21T23:46:01.908748Z",
     "iopub.status.busy": "2024-03-21T23:46:01.908330Z",
     "iopub.status.idle": "2024-03-21T23:46:01.910733Z",
     "shell.execute_reply": "2024-03-21T23:46:01.910306Z"
    },
    "papermill": {
     "duration": 0.02313,
     "end_time": "2024-03-21T23:46:01.910823",
     "exception": false,
     "start_time": "2024-03-21T23:46:01.887693",
     "status": "completed"
    },
    "tags": []
   },
   "outputs": [
    {
     "name": "stdout",
     "output_type": "stream",
     "text": [
      "/home/jupyter-felipe.guevara\n"
     ]
    }
   ],
   "source": [
    "print(os.getcwd())"
   ]
  },
  {
   "cell_type": "code",
   "execution_count": 6,
   "id": "5f97a626",
   "metadata": {
    "execution": {
     "iopub.execute_input": "2024-03-21T23:46:01.950264Z",
     "iopub.status.busy": "2024-03-21T23:46:01.949844Z",
     "iopub.status.idle": "2024-03-21T23:46:01.954954Z",
     "shell.execute_reply": "2024-03-21T23:46:01.954595Z"
    },
    "papermill": {
     "duration": 0.025932,
     "end_time": "2024-03-21T23:46:01.955042",
     "exception": false,
     "start_time": "2024-03-21T23:46:01.929110",
     "status": "completed"
    },
    "tags": []
   },
   "outputs": [],
   "source": [
    "margenes = pd.read_csv(\"/home/jupyter-felipe.guevara/Growth/CLTV/Margenes_neto.csv\")\n",
    "retention = pd.read_csv(\"/home/jupyter-felipe.guevara/Growth/CLTV/retention_year.csv\")"
   ]
  },
  {
   "cell_type": "code",
   "execution_count": 7,
   "id": "d6b2ea6e",
   "metadata": {
    "execution": {
     "iopub.execute_input": "2024-03-21T23:46:02.085767Z",
     "iopub.status.busy": "2024-03-21T23:46:02.085280Z",
     "iopub.status.idle": "2024-03-21T23:46:02.086827Z",
     "shell.execute_reply": "2024-03-21T23:46:02.087165Z"
    },
    "papermill": {
     "duration": 0.113757,
     "end_time": "2024-03-21T23:46:02.087286",
     "exception": false,
     "start_time": "2024-03-21T23:46:01.973529",
     "status": "completed"
    },
    "tags": []
   },
   "outputs": [],
   "source": [
    "retention_aux =  retention.copy()\n",
    "\n",
    "for i,ret in enumerate(retention_aux.values):\n",
    "    retention_aux.iloc[i,2:] = [(1-(j-ret[-1])/100) if j-ret[-1] >= 0 else 1 for j in ret[2:]]"
   ]
  },
  {
   "cell_type": "code",
   "execution_count": 8,
   "id": "b6b9628e",
   "metadata": {
    "execution": {
     "iopub.execute_input": "2024-03-21T23:46:02.129373Z",
     "iopub.status.busy": "2024-03-21T23:46:02.127573Z",
     "iopub.status.idle": "2024-03-21T23:46:43.310807Z",
     "shell.execute_reply": "2024-03-21T23:46:43.310380Z"
    },
    "papermill": {
     "duration": 41.204771,
     "end_time": "2024-03-21T23:46:43.310917",
     "exception": false,
     "start_time": "2024-03-21T23:46:02.106146",
     "status": "completed"
    },
    "tags": []
   },
   "outputs": [
    {
     "name": "stdout",
     "output_type": "stream",
     "text": [
      "200\n"
     ]
    }
   ],
   "source": [
    "clear_buyers = get_fresh_query_result(\"https://internal-redash.federate.frubana.com/\",138674,'SeoGHWmDUaaBi7VXje1s9zYNiMD1VHQ1K1DYOxiF',{},20)"
   ]
  },
  {
   "cell_type": "code",
   "execution_count": 9,
   "id": "9ac0b43c",
   "metadata": {
    "execution": {
     "iopub.execute_input": "2024-03-21T23:46:43.361012Z",
     "iopub.status.busy": "2024-03-21T23:46:43.360562Z",
     "iopub.status.idle": "2024-03-21T23:46:45.632378Z",
     "shell.execute_reply": "2024-03-21T23:46:45.631880Z"
    },
    "papermill": {
     "duration": 2.30214,
     "end_time": "2024-03-21T23:46:45.632483",
     "exception": false,
     "start_time": "2024-03-21T23:46:43.330343",
     "status": "completed"
    },
    "tags": []
   },
   "outputs": [],
   "source": [
    "query = \"\"\"\n",
    "SELECT DISTINCT\n",
    "\n",
    "c.assignee_ref_id AS \"Owner\",\n",
    "cm.member_ref_id AS \"customer_id\",\n",
    "--cm.status AS \"Estado de la asignacion\",\n",
    "--c.type as \"Tipo de asociacion\",\n",
    "--c.flow_type AS \"Tipo de carga\",\n",
    "z.value AS \"Ciudad\"\n",
    "--p.since AS \"Semana\"\n",
    "\n",
    "FROM postgres_growth_offline.\"growth_clustering.clusters\"               c\n",
    "INNER JOIN postgres_growth_offline.\"growth_clustering.cluster_members\"  cm  ON cm.cluster_id = c.id\n",
    "INNER JOIN postgres_growth_offline.\"growth_clustering.periods\"          p   ON p.id = c.period_id\n",
    "INNER JOIN postgres_growth_offline.\"growth_clustering.zones\"            z   ON z.id = c.zone_id\n",
    "\n",
    "where p.since = DATE_TRUNC('week', date(getdate()) - interval '0 week')\n",
    "and z.value in ('BOG','BAQ','MDE','CMX','SPO','BHZ','CWB','VCP')\n",
    "and c.type = 'FARMER_OFFLINE'\n",
    "and c.status = 'ACTIVE'\n",
    "and c.enabled = 'true'\n",
    "\"\"\"\n",
    "data_farming = read_connection_data_warehouse.runQuery(query)\n",
    "data_farming[[\"customer_id\"]] = data_farming[[\"customer_id\"]].astype(int)"
   ]
  },
  {
   "cell_type": "code",
   "execution_count": 10,
   "id": "776ee680",
   "metadata": {
    "execution": {
     "iopub.execute_input": "2024-03-21T23:46:45.675157Z",
     "iopub.status.busy": "2024-03-21T23:46:45.674721Z",
     "iopub.status.idle": "2024-03-21T23:46:45.676573Z",
     "shell.execute_reply": "2024-03-21T23:46:45.676214Z"
    },
    "papermill": {
     "duration": 0.024778,
     "end_time": "2024-03-21T23:46:45.676666",
     "exception": false,
     "start_time": "2024-03-21T23:46:45.651888",
     "status": "completed"
    },
    "tags": []
   },
   "outputs": [],
   "source": [
    "# Define a function to run the query\n",
    "def run_query_with_retry(query):\n",
    "    max_retries = 5\n",
    "    retries = 0\n",
    "    while retries < max_retries:\n",
    "        try:\n",
    "            # Attempt to execute the query\n",
    "            data_ventas_aux = run_read_dwd_query(query)\n",
    "            data_ventas_aux[[\"gmv_usd\", \"cant\"]] = data_ventas_aux[[\"gmv_usd\", \"cant\"]].astype(float)\n",
    "            data_ventas_aux['submit_date'] = pd.to_datetime(data_ventas_aux['submit_date'])\n",
    "            return data_ventas_aux  # If successful, return the result\n",
    "        except Exception as e:\n",
    "            retries += 1\n",
    "            print(f\"An error occurred: {str(e)}\")\n",
    "            print(f\"Retrying... ({retries}/{max_retries})\")\n",
    "    # If max retries reached without success, raise an error\n",
    "    raise RuntimeError(\"Failed to execute the query after multiple retries\")"
   ]
  },
  {
   "cell_type": "code",
   "execution_count": 11,
   "id": "b16ec692",
   "metadata": {
    "execution": {
     "iopub.execute_input": "2024-03-21T23:46:45.726016Z",
     "iopub.status.busy": "2024-03-21T23:46:45.725576Z",
     "iopub.status.idle": "2024-03-21T23:47:59.479142Z",
     "shell.execute_reply": "2024-03-21T23:47:59.479534Z"
    },
    "papermill": {
     "duration": 73.784183,
     "end_time": "2024-03-21T23:47:59.479673",
     "exception": false,
     "start_time": "2024-03-21T23:46:45.695490",
     "status": "completed"
    },
    "tags": []
   },
   "outputs": [
    {
     "name": "stdout",
     "output_type": "stream",
     "text": [
      "Query (771658487) cancelled by WLM abort action of Query Monitoring Rule \"rule_row_count_ro\".\n",
      "DETAIL:  \n",
      "  -----------------------------------------------\n",
      "  error:  Query (771658487) cancelled by WLM abort action of Query Monitoring Rule \"rule_row_count_ro\".\n",
      "  code:      1078\n",
      "  context:   Query (771658487) cancelled by WLM abort action of Query Monitoring Rule \"rule_row_count_ro\".\n",
      "  query:     0\n",
      "  location:  wlm_query_action.cpp:179\n",
      "  process:   wlm [pid=1073807397]\n",
      "  -----------------------------------------------\n",
      "\n",
      "\n",
      "An error occurred: Query (771658487) cancelled by WLM abort action of Query Monitoring Rule \"rule_row_count_ro\".\n",
      "DETAIL:  \n",
      "  -----------------------------------------------\n",
      "  error:  Query (771658487) cancelled by WLM abort action of Query Monitoring Rule \"rule_row_count_ro\".\n",
      "  code:      1078\n",
      "  context:   Query (771658487) cancelled by WLM abort action of Query Monitoring Rule \"rule_row_count_ro\".\n",
      "  query:     0\n",
      "  location:  wlm_query_action.cpp:179\n",
      "  process:   wlm [pid=1073807397]\n",
      "  -----------------------------------------------\n",
      "\n",
      "\n",
      "Retrying... (1/5)\n"
     ]
    }
   ],
   "source": [
    "query = \"\"\"\n",
    "SELECT \n",
    "    s.identifier_value AS city,\n",
    "    dc.source_id AS customer_id,\n",
    "    DATE(fs.order_submitted_date) AS submit_date,\n",
    "    fs.order_id,\n",
    "    dp.card_id AS padre_sku_id,\n",
    "    cat.parent_description AS cat,\n",
    "    CASE\n",
    "        WHEN s.identifier_value = 'CMX' THEN fs.gmv_pxq_local/19.65\n",
    "        WHEN s.identifier_value IN ('SPO','BHZ','CWB','VCP') THEN fs.gmv_pxq_local/4.75\n",
    "        WHEN s.identifier_value IN ('BOG','BAQ','MDE') THEN fs.gmv_pxq_local/3776\n",
    "    ELSE fs.gmv_pxq_local \n",
    "    END AS gmv_usd,\n",
    "    fs.product_quantity_x_step_unit AS cant\n",
    "\n",
    "FROM dpr_sales.fact_sales                   fs\n",
    "INNER JOIN dpr_shared.dim_customer          dc  ON dc.customer_id = fs.dim_customer\n",
    "INNER JOIN dpr_shared.dim_site              s   ON s.site_id = fs.dim_site\n",
    "INNER JOIN dpr_shared.dim_product           dp  ON dp.product_id = fs.dim_product\n",
    "INNER JOIN dpr_shared.dim_category          cat ON cat.category_id = dp.category_id\n",
    "\n",
    "WHERE \n",
    "    fs.gmv_enabled = TRUE\n",
    "    AND fulfillment_order_status NOT IN ('CANCELLED', 'ARCHIVED','No value')\n",
    "    AND fs.fb_order_status_id  IN (1,6,7,8)\n",
    "    AND fs.is_deleted = FALSE\n",
    "    AND fs.dim_status = 1\n",
    "    AND dp.is_slot = 'false'\n",
    "    AND DATE(fs.order_submitted_date) > current_date - 730\n",
    "    AND s.identifier_value = '{city}'\n",
    "    AND dc.source_id IN {clientes}\n",
    "\"\"\".format(clientes=tuple(set(clear_buyers[clear_buyers.registered_city == city].customer_id.unique())), city = city)\n",
    "\n",
    "# Call the function with your query\n",
    "data_ventas_aux = run_query_with_retry(query)"
   ]
  },
  {
   "cell_type": "code",
   "execution_count": 12,
   "id": "dd409b03",
   "metadata": {
    "execution": {
     "iopub.execute_input": "2024-03-21T23:47:59.523164Z",
     "iopub.status.busy": "2024-03-21T23:47:59.522723Z",
     "iopub.status.idle": "2024-03-21T23:48:11.835127Z",
     "shell.execute_reply": "2024-03-21T23:48:11.834696Z"
    },
    "papermill": {
     "duration": 12.335706,
     "end_time": "2024-03-21T23:48:11.835237",
     "exception": false,
     "start_time": "2024-03-21T23:47:59.499531",
     "status": "completed"
    },
    "tags": []
   },
   "outputs": [],
   "source": [
    "data_ventas_aux['cat'] = data_ventas_aux['cat'].replace('Frutas e verduras', 'Frutas e Verduras')\n",
    "data_ventas_aux['cat'] = data_ventas_aux['cat'].replace('Laticínios e ovos', 'Laticínios e Ovos')\n",
    "data_ventas_aux['cat'] = data_ventas_aux['cat'].replace('Limpeza e higiene', 'Limpeza e Higiene')\n",
    "data_ventas_aux['cat'] = data_ventas_aux['cat'].replace('Carnes, aves e peixes', 'Carnes, Aves e Peixes')\n",
    "data_ventas_aux['cat'] = data_ventas_aux['cat'].replace('Abarrotes & despensa', 'Abarrotes')\n",
    "data_ventas_aux['cat'] = data_ventas_aux['cat'].replace('Aseo e higiene', 'Aseo e Higiene')\n",
    "data_ventas_aux['cat'] = data_ventas_aux['cat'].replace('Frutas & verduras', 'Frutas & Verduras')\n",
    "data_ventas_aux['cat'] = data_ventas_aux['cat'].replace('Carne, pollo & pescados', 'Carne, Pollo & Pescados')\n",
    "data_ventas_aux['cat'] = data_ventas_aux['cat'].replace('Lácteos & huevos', 'Lácteos & Huevos')"
   ]
  },
  {
   "cell_type": "code",
   "execution_count": 13,
   "id": "02f883c7",
   "metadata": {
    "execution": {
     "iopub.execute_input": "2024-03-21T23:48:11.878870Z",
     "iopub.status.busy": "2024-03-21T23:48:11.878442Z",
     "iopub.status.idle": "2024-03-21T23:48:21.411311Z",
     "shell.execute_reply": "2024-03-21T23:48:21.410895Z"
    },
    "papermill": {
     "duration": 9.556328,
     "end_time": "2024-03-21T23:48:21.411419",
     "exception": false,
     "start_time": "2024-03-21T23:48:11.855091",
     "status": "completed"
    },
    "tags": []
   },
   "outputs": [],
   "source": [
    "check_df = data_ventas_aux.groupby(by=['customer_id']).agg({'submit_date':np.max}).reset_index()\n",
    "df = data_ventas_aux[data_ventas_aux.customer_id.isin(check_df[check_df.submit_date >= customer_date_desde].customer_id.unique())].groupby(by=['city', 'customer_id', 'submit_date','cat']).agg({'gmv_usd':'sum','cant':'sum'}).reset_index()"
   ]
  },
  {
   "cell_type": "markdown",
   "id": "10fd3d1f",
   "metadata": {
    "papermill": {
     "duration": 0.019307,
     "end_time": "2024-03-21T23:48:21.450544",
     "exception": false,
     "start_time": "2024-03-21T23:48:21.431237",
     "status": "completed"
    },
    "tags": []
   },
   "source": [
    "# Generacion de df con info by cat by client"
   ]
  },
  {
   "cell_type": "code",
   "execution_count": 14,
   "id": "8c59d651",
   "metadata": {
    "execution": {
     "iopub.execute_input": "2024-03-21T23:48:21.492809Z",
     "iopub.status.busy": "2024-03-21T23:48:21.492358Z",
     "iopub.status.idle": "2024-03-21T23:48:38.482849Z",
     "shell.execute_reply": "2024-03-21T23:48:38.482351Z"
    },
    "papermill": {
     "duration": 17.013037,
     "end_time": "2024-03-21T23:48:38.482954",
     "exception": false,
     "start_time": "2024-03-21T23:48:21.469917",
     "status": "completed"
    },
    "tags": []
   },
   "outputs": [],
   "source": [
    "df = df.sort_values('submit_date',ignore_index=True)\n",
    "\n",
    "#fix for id problems and taking into account only dates\n",
    "df['order_id']= df.submit_date.apply(lambda x:x.toordinal()) \n",
    "\n",
    "#Days of difference between orders for customer and for cat\n",
    "df['days_bet'] = (df.submit_date -df.groupby('customer_id').submit_date.transform('min')).dt.days"
   ]
  },
  {
   "cell_type": "code",
   "execution_count": 15,
   "id": "80dde9a6",
   "metadata": {
    "execution": {
     "iopub.execute_input": "2024-03-21T23:48:38.527440Z",
     "iopub.status.busy": "2024-03-21T23:48:38.527003Z",
     "iopub.status.idle": "2024-03-21T23:49:50.384321Z",
     "shell.execute_reply": "2024-03-21T23:49:50.383807Z"
    },
    "papermill": {
     "duration": 71.881345,
     "end_time": "2024-03-21T23:49:50.384429",
     "exception": false,
     "start_time": "2024-03-21T23:48:38.503084",
     "status": "completed"
    },
    "tags": []
   },
   "outputs": [],
   "source": [
    "#This calculate in res the difference between consecutive orders and with the agg we calculate all metrics\n",
    "df['res'] = df.groupby(by=['customer_id', 'cat'])['days_bet'].diff()\n",
    "df_grouped = df.groupby(by=['city', 'customer_id', 'cat']).agg({'res': [np.min, np.max, np.mean, np.median, np.std],\n",
    "                                                                    'order_id': [lambda x: x.nunique()], \n",
    "                                                                    'gmv_usd': [np.mean],\n",
    "                                                                    'cant': [np.mean],\n",
    "                                                                    'submit_date': [np.max, lambda x: (x.max()-x.min()).days, lambda x: (datetime.datetime.today() - x.max()).days, np.min]\n",
    "                                                                    }).reset_index()"
   ]
  },
  {
   "cell_type": "code",
   "execution_count": 16,
   "id": "119b2e03",
   "metadata": {
    "execution": {
     "iopub.execute_input": "2024-03-21T23:49:50.427291Z",
     "iopub.status.busy": "2024-03-21T23:49:50.426856Z",
     "iopub.status.idle": "2024-03-21T23:49:50.438208Z",
     "shell.execute_reply": "2024-03-21T23:49:50.437829Z"
    },
    "papermill": {
     "duration": 0.033833,
     "end_time": "2024-03-21T23:49:50.438311",
     "exception": false,
     "start_time": "2024-03-21T23:49:50.404478",
     "status": "completed"
    },
    "tags": []
   },
   "outputs": [],
   "source": [
    "#Finally we define everything in a df2 for further processing\n",
    "df2 = df_grouped.copy()\n",
    "\n",
    "df2.columns = ['city', 'customer_id', 'cat', 'min_diff_days', 'max_diff_days', 'avg_diff_days', 'median_diff_days', 'stdev_diff_days',\n",
    "               'num_orders', 'aov_cat_usd', 'avg_cant_cat', 'last_order_date', 'diff_from_last_to_first_order', 'days_since_last_order','first_order_date']"
   ]
  },
  {
   "cell_type": "code",
   "execution_count": 17,
   "id": "63c23834",
   "metadata": {
    "execution": {
     "iopub.execute_input": "2024-03-21T23:49:50.480545Z",
     "iopub.status.busy": "2024-03-21T23:49:50.480121Z",
     "iopub.status.idle": "2024-03-21T23:49:50.482045Z",
     "shell.execute_reply": "2024-03-21T23:49:50.481679Z"
    },
    "papermill": {
     "duration": 0.024167,
     "end_time": "2024-03-21T23:49:50.482139",
     "exception": false,
     "start_time": "2024-03-21T23:49:50.457972",
     "status": "completed"
    },
    "tags": []
   },
   "outputs": [],
   "source": [
    "def diff_month(d1, d2):\n",
    "    return (d1.year - d2.year) * 12 + d1.month - d2.month"
   ]
  },
  {
   "cell_type": "code",
   "execution_count": 18,
   "id": "16c26861",
   "metadata": {
    "execution": {
     "iopub.execute_input": "2024-03-21T23:49:50.530224Z",
     "iopub.status.busy": "2024-03-21T23:49:50.529782Z",
     "iopub.status.idle": "2024-03-21T23:49:50.531699Z",
     "shell.execute_reply": "2024-03-21T23:49:50.531270Z"
    },
    "papermill": {
     "duration": 0.030163,
     "end_time": "2024-03-21T23:49:50.531788",
     "exception": false,
     "start_time": "2024-03-21T23:49:50.501625",
     "status": "completed"
    },
    "tags": []
   },
   "outputs": [],
   "source": [
    "def cat_metrics_2(cat):\n",
    "    df_cat = df2[df2.cat == cat].copy()\n",
    "    \n",
    "    df_cat['adjust_std'] = pd.qcut(df_cat.stdev_diff_days, 10, labels=[1,0.9,0.8,0.7,0.6,0.5,0.4,0.3,0.2,0.1])\n",
    "    df_cat[[\"adjust_std\"]] = df_cat[[\"adjust_std\"]].astype(float)\n",
    "    \n",
    "    df_cat['adjust_cohort'] = [1 if ((x[13]) - (x[5]+x[7]) <= 0) else  \n",
    "                 1/(((x[13]) - x[5])/x[7]) if x[7] != 0 else\n",
    "                 1/(((x[13]) - x[5])/np.round(1+(x[5]*0.7)))\n",
    "                 for x in df_cat.values]\n",
    "    \n",
    "    df_cat[\"margen\"] = [margenes[(margenes.category == x[2]) & (margenes.region_code == x[0])][\"net_margin\"].unique()[0]/100 for x in df_cat.values]\n",
    "    #mirar aca\n",
    "    df_cat['adjust_retention'] = [1 if diff_month(x[11],x[14])+1 >= 10 else \n",
    "                                  retention_aux[(retention_aux.category == x[2]) & (retention_aux.region_code == x[0])][str(diff_month(x[11],x[14])+1)].unique()[0] for x in df_cat.values]\n",
    "    \n",
    "    df_cat['median_diff_days_adjusted'] = 365/df_cat.median_diff_days\n",
    "    \n",
    "    df_cat[\"churned\"] = [0 if ((x[13]) - (x[5]+x[7]*2) <= 0) else 1 for x in df_cat.values]\n",
    "    \n",
    "    df_cat[['avg_diff_days','stdev_diff_days']] = df_cat[['avg_diff_days','stdev_diff_days']].fillna(0)\n",
    "\n",
    "    df_cat['churned_date'] = [(x[11] + datetime.timedelta(days=int(x[5]+x[7]*2))).strftime('%Y-%m-%d') for x in df_cat.values] #1 months\n",
    "    \n",
    "    df_cat[\"CLTV\"] = df_cat.median_diff_days_adjusted * df_cat.margen * df_cat.aov_cat_usd * df_cat.adjust_retention * df_cat.adjust_std * df_cat.adjust_cohort\n",
    "    df_cat[\"CLTV_sin_margen\"] = df_cat.median_diff_days_adjusted * df_cat.aov_cat_usd * df_cat.adjust_retention * df_cat.adjust_std * df_cat.adjust_cohort\n",
    "    df_cat[\"CLTV_sin_churn\"] = df_cat.median_diff_days_adjusted * df_cat.margen * df_cat.aov_cat_usd * df_cat.adjust_retention * df_cat.adjust_std\n",
    "    \n",
    "    df_cat['cash_margin'] = df_cat.aov_cat_usd * df_cat.margen\n",
    "\n",
    "    return df_cat"
   ]
  },
  {
   "cell_type": "code",
   "execution_count": 19,
   "id": "4cf9ed54",
   "metadata": {
    "execution": {
     "iopub.execute_input": "2024-03-21T23:49:50.585132Z",
     "iopub.status.busy": "2024-03-21T23:49:50.584706Z",
     "iopub.status.idle": "2024-03-21T23:52:21.953863Z",
     "shell.execute_reply": "2024-03-21T23:52:21.954227Z"
    },
    "papermill": {
     "duration": 151.399262,
     "end_time": "2024-03-21T23:52:21.954359",
     "exception": false,
     "start_time": "2024-03-21T23:49:50.555097",
     "status": "completed"
    },
    "tags": []
   },
   "outputs": [
    {
     "name": "stdout",
     "output_type": "stream",
     "text": [
      "Bebidas\n"
     ]
    },
    {
     "name": "stdout",
     "output_type": "stream",
     "text": [
      "Done Bebidas\n",
      "Carnes, Aves e Peixes\n"
     ]
    },
    {
     "name": "stdout",
     "output_type": "stream",
     "text": [
      "Done Carnes, Aves e Peixes\n",
      "Descartáveis\n"
     ]
    },
    {
     "name": "stdout",
     "output_type": "stream",
     "text": [
      "Done Descartáveis\n",
      "Frutas e Verduras\n"
     ]
    },
    {
     "name": "stdout",
     "output_type": "stream",
     "text": [
      "Done Frutas e Verduras\n",
      "Laticínios e Ovos\n"
     ]
    },
    {
     "name": "stdout",
     "output_type": "stream",
     "text": [
      "Done Laticínios e Ovos\n",
      "Limpeza e Higiene\n"
     ]
    },
    {
     "name": "stdout",
     "output_type": "stream",
     "text": [
      "Done Limpeza e Higiene\n",
      "Mercearia\n"
     ]
    },
    {
     "name": "stdout",
     "output_type": "stream",
     "text": [
      "Done Mercearia\n",
      "Congelados\n"
     ]
    },
    {
     "name": "stdout",
     "output_type": "stream",
     "text": [
      "Done Congelados\n",
      "Frubana prime\n",
      "Done Frubana prime\n"
     ]
    }
   ],
   "source": [
    "df3 = pd.DataFrame()\n",
    "\n",
    "for cat in df2.cat.unique():\n",
    "   print(cat)\n",
    "   if cat not in ('Frubana prime','¡productos nuevos!','No value','Mesa & cocina','Insumos internos cat','Despensa'):\n",
    "      df3 = df3.append(cat_metrics_2(cat))\n",
    "   print(f'Done {cat}')"
   ]
  },
  {
   "cell_type": "code",
   "execution_count": 20,
   "id": "b5c55403",
   "metadata": {
    "execution": {
     "iopub.execute_input": "2024-03-21T23:52:22.002981Z",
     "iopub.status.busy": "2024-03-21T23:52:22.001936Z",
     "iopub.status.idle": "2024-03-21T23:52:22.021729Z",
     "shell.execute_reply": "2024-03-21T23:52:22.021318Z"
    },
    "papermill": {
     "duration": 0.045669,
     "end_time": "2024-03-21T23:52:22.021828",
     "exception": false,
     "start_time": "2024-03-21T23:52:21.976159",
     "status": "completed"
    },
    "tags": []
   },
   "outputs": [
    {
     "data": {
      "text/html": [
       "<div>\n",
       "<style scoped>\n",
       "    .dataframe tbody tr th:only-of-type {\n",
       "        vertical-align: middle;\n",
       "    }\n",
       "\n",
       "    .dataframe tbody tr th {\n",
       "        vertical-align: top;\n",
       "    }\n",
       "\n",
       "    .dataframe thead th {\n",
       "        text-align: right;\n",
       "    }\n",
       "</style>\n",
       "<table border=\"1\" class=\"dataframe\">\n",
       "  <thead>\n",
       "    <tr style=\"text-align: right;\">\n",
       "      <th></th>\n",
       "      <th>city</th>\n",
       "      <th>customer_id</th>\n",
       "      <th>cat</th>\n",
       "      <th>min_diff_days</th>\n",
       "      <th>max_diff_days</th>\n",
       "      <th>avg_diff_days</th>\n",
       "      <th>median_diff_days</th>\n",
       "      <th>stdev_diff_days</th>\n",
       "      <th>num_orders</th>\n",
       "      <th>aov_cat_usd</th>\n",
       "      <th>...</th>\n",
       "      <th>adjust_cohort</th>\n",
       "      <th>margen</th>\n",
       "      <th>adjust_retention</th>\n",
       "      <th>median_diff_days_adjusted</th>\n",
       "      <th>churned</th>\n",
       "      <th>churned_date</th>\n",
       "      <th>CLTV</th>\n",
       "      <th>CLTV_sin_margen</th>\n",
       "      <th>CLTV_sin_churn</th>\n",
       "      <th>cash_margin</th>\n",
       "    </tr>\n",
       "  </thead>\n",
       "  <tbody>\n",
       "    <tr>\n",
       "      <th>0</th>\n",
       "      <td>SPO</td>\n",
       "      <td>19337183</td>\n",
       "      <td>Bebidas</td>\n",
       "      <td>1.0</td>\n",
       "      <td>16.0</td>\n",
       "      <td>3.722222</td>\n",
       "      <td>2.5</td>\n",
       "      <td>3.282953</td>\n",
       "      <td>37</td>\n",
       "      <td>43.606771</td>\n",
       "      <td>...</td>\n",
       "      <td>0.319422</td>\n",
       "      <td>0.146</td>\n",
       "      <td>0.982</td>\n",
       "      <td>146.000000</td>\n",
       "      <td>1</td>\n",
       "      <td>2024-03-17</td>\n",
       "      <td>291.565757</td>\n",
       "      <td>1997.025731</td>\n",
       "      <td>912.790534</td>\n",
       "      <td>6.366589</td>\n",
       "    </tr>\n",
       "    <tr>\n",
       "      <th>7</th>\n",
       "      <td>SPO</td>\n",
       "      <td>19355299</td>\n",
       "      <td>Bebidas</td>\n",
       "      <td>1.0</td>\n",
       "      <td>152.0</td>\n",
       "      <td>21.423077</td>\n",
       "      <td>11.5</td>\n",
       "      <td>34.123509</td>\n",
       "      <td>27</td>\n",
       "      <td>21.791813</td>\n",
       "      <td>...</td>\n",
       "      <td>0.232803</td>\n",
       "      <td>0.146</td>\n",
       "      <td>1.000</td>\n",
       "      <td>31.739130</td>\n",
       "      <td>1</td>\n",
       "      <td>2024-01-02</td>\n",
       "      <td>7.052621</td>\n",
       "      <td>48.305626</td>\n",
       "      <td>30.294410</td>\n",
       "      <td>3.181605</td>\n",
       "    </tr>\n",
       "    <tr>\n",
       "      <th>15</th>\n",
       "      <td>SPO</td>\n",
       "      <td>19360755</td>\n",
       "      <td>Bebidas</td>\n",
       "      <td>20.0</td>\n",
       "      <td>441.0</td>\n",
       "      <td>158.750000</td>\n",
       "      <td>87.0</td>\n",
       "      <td>192.692112</td>\n",
       "      <td>5</td>\n",
       "      <td>58.272000</td>\n",
       "      <td>...</td>\n",
       "      <td>1.000000</td>\n",
       "      <td>0.146</td>\n",
       "      <td>1.000</td>\n",
       "      <td>4.195402</td>\n",
       "      <td>0</td>\n",
       "      <td>2025-09-15</td>\n",
       "      <td>3.569327</td>\n",
       "      <td>24.447448</td>\n",
       "      <td>3.569327</td>\n",
       "      <td>8.507712</td>\n",
       "    </tr>\n",
       "    <tr>\n",
       "      <th>21</th>\n",
       "      <td>SPO</td>\n",
       "      <td>19565513</td>\n",
       "      <td>Bebidas</td>\n",
       "      <td>1.0</td>\n",
       "      <td>87.0</td>\n",
       "      <td>7.658537</td>\n",
       "      <td>5.0</td>\n",
       "      <td>10.732689</td>\n",
       "      <td>83</td>\n",
       "      <td>23.646316</td>\n",
       "      <td>...</td>\n",
       "      <td>0.197505</td>\n",
       "      <td>0.146</td>\n",
       "      <td>1.000</td>\n",
       "      <td>73.000000</td>\n",
       "      <td>1</td>\n",
       "      <td>2024-02-17</td>\n",
       "      <td>34.842912</td>\n",
       "      <td>238.650079</td>\n",
       "      <td>176.415703</td>\n",
       "      <td>3.452362</td>\n",
       "    </tr>\n",
       "    <tr>\n",
       "      <th>28</th>\n",
       "      <td>SPO</td>\n",
       "      <td>19567777</td>\n",
       "      <td>Bebidas</td>\n",
       "      <td>2.0</td>\n",
       "      <td>50.0</td>\n",
       "      <td>9.269231</td>\n",
       "      <td>6.0</td>\n",
       "      <td>8.535142</td>\n",
       "      <td>79</td>\n",
       "      <td>15.094364</td>\n",
       "      <td>...</td>\n",
       "      <td>1.000000</td>\n",
       "      <td>0.146</td>\n",
       "      <td>1.000</td>\n",
       "      <td>60.833333</td>\n",
       "      <td>0</td>\n",
       "      <td>2024-04-10</td>\n",
       "      <td>107.250485</td>\n",
       "      <td>734.592365</td>\n",
       "      <td>107.250485</td>\n",
       "      <td>2.203777</td>\n",
       "    </tr>\n",
       "  </tbody>\n",
       "</table>\n",
       "<p>5 rows × 26 columns</p>\n",
       "</div>"
      ],
      "text/plain": [
       "   city  customer_id      cat  min_diff_days  max_diff_days  avg_diff_days  \\\n",
       "0   SPO     19337183  Bebidas            1.0           16.0       3.722222   \n",
       "7   SPO     19355299  Bebidas            1.0          152.0      21.423077   \n",
       "15  SPO     19360755  Bebidas           20.0          441.0     158.750000   \n",
       "21  SPO     19565513  Bebidas            1.0           87.0       7.658537   \n",
       "28  SPO     19567777  Bebidas            2.0           50.0       9.269231   \n",
       "\n",
       "    median_diff_days  stdev_diff_days  num_orders  aov_cat_usd  ...  \\\n",
       "0                2.5         3.282953          37    43.606771  ...   \n",
       "7               11.5        34.123509          27    21.791813  ...   \n",
       "15              87.0       192.692112           5    58.272000  ...   \n",
       "21               5.0        10.732689          83    23.646316  ...   \n",
       "28               6.0         8.535142          79    15.094364  ...   \n",
       "\n",
       "    adjust_cohort margen  adjust_retention  median_diff_days_adjusted churned  \\\n",
       "0        0.319422  0.146             0.982                 146.000000       1   \n",
       "7        0.232803  0.146             1.000                  31.739130       1   \n",
       "15       1.000000  0.146             1.000                   4.195402       0   \n",
       "21       0.197505  0.146             1.000                  73.000000       1   \n",
       "28       1.000000  0.146             1.000                  60.833333       0   \n",
       "\n",
       "    churned_date        CLTV  CLTV_sin_margen  CLTV_sin_churn  cash_margin  \n",
       "0     2024-03-17  291.565757      1997.025731      912.790534     6.366589  \n",
       "7     2024-01-02    7.052621        48.305626       30.294410     3.181605  \n",
       "15    2025-09-15    3.569327        24.447448        3.569327     8.507712  \n",
       "21    2024-02-17   34.842912       238.650079      176.415703     3.452362  \n",
       "28    2024-04-10  107.250485       734.592365      107.250485     2.203777  \n",
       "\n",
       "[5 rows x 26 columns]"
      ]
     },
     "execution_count": 20,
     "metadata": {},
     "output_type": "execute_result"
    }
   ],
   "source": [
    "df3.head(5)"
   ]
  },
  {
   "cell_type": "markdown",
   "id": "062e624d",
   "metadata": {
    "papermill": {
     "duration": 0.022113,
     "end_time": "2024-03-21T23:52:22.066124",
     "exception": false,
     "start_time": "2024-03-21T23:52:22.044011",
     "status": "completed"
    },
    "tags": []
   },
   "source": [
    "# Aca empieza el analisis global by customer "
   ]
  },
  {
   "cell_type": "code",
   "execution_count": 21,
   "id": "51017b7f",
   "metadata": {
    "execution": {
     "iopub.execute_input": "2024-03-21T23:52:22.114392Z",
     "iopub.status.busy": "2024-03-21T23:52:22.113958Z",
     "iopub.status.idle": "2024-03-21T23:52:22.168127Z",
     "shell.execute_reply": "2024-03-21T23:52:22.167740Z"
    },
    "papermill": {
     "duration": 0.079813,
     "end_time": "2024-03-21T23:52:22.168231",
     "exception": false,
     "start_time": "2024-03-21T23:52:22.088418",
     "status": "completed"
    },
    "tags": []
   },
   "outputs": [],
   "source": [
    "#Here, i group the df3 (the df with the whole info by cat to customer lvl)\n",
    "df_new3 = df3[['city','customer_id','aov_cat_usd','cash_margin','CLTV_sin_churn','churned']].groupby(by=['city','customer_id']).sum().reset_index()"
   ]
  },
  {
   "cell_type": "code",
   "execution_count": 22,
   "id": "336bd8d3",
   "metadata": {
    "execution": {
     "iopub.execute_input": "2024-03-21T23:52:22.218681Z",
     "iopub.status.busy": "2024-03-21T23:52:22.218245Z",
     "iopub.status.idle": "2024-03-21T23:52:36.409686Z",
     "shell.execute_reply": "2024-03-21T23:52:36.409207Z"
    },
    "papermill": {
     "duration": 14.219124,
     "end_time": "2024-03-21T23:52:36.409800",
     "exception": false,
     "start_time": "2024-03-21T23:52:22.190676",
     "status": "completed"
    },
    "tags": []
   },
   "outputs": [],
   "source": [
    "#The processing data for customer level is made here\n",
    "\n",
    "df_new = df.groupby(by=['city','customer_id','order_id','submit_date']).sum().reset_index()\n",
    "\n",
    "df_new['days_bet'] = (df_new.submit_date -df_new.groupby('customer_id').submit_date.transform('min')).dt.days\n",
    "\n",
    "#This calculate in res the difference between consecutive orders and with the agg we calculate all metrics\n",
    "df_new['res'] = df_new.groupby(by=['customer_id'])['days_bet'].diff()\n",
    "df_grouped_2 = df_new.groupby(by=['city', 'customer_id']).agg({'res': [np.min, np.max, np.mean, np.median, np.std],\n",
    "                                                                    'order_id': [lambda x: x.nunique()], \n",
    "                                                                    'gmv_usd': [np.mean],\n",
    "                                                                    'cant': [np.mean],\n",
    "                                                                    'submit_date': [np.max, lambda x: (x.max()-x.min()).days, lambda x: (datetime.datetime.today() - x.max()).days, np.min]\n",
    "                                                                    }).droplevel(0, axis=\"columns\").reset_index()"
   ]
  },
  {
   "cell_type": "code",
   "execution_count": 23,
   "id": "e1188d28",
   "metadata": {
    "execution": {
     "iopub.execute_input": "2024-03-21T23:52:36.457898Z",
     "iopub.status.busy": "2024-03-21T23:52:36.457454Z",
     "iopub.status.idle": "2024-03-21T23:52:36.460798Z",
     "shell.execute_reply": "2024-03-21T23:52:36.460361Z"
    },
    "papermill": {
     "duration": 0.028323,
     "end_time": "2024-03-21T23:52:36.460893",
     "exception": false,
     "start_time": "2024-03-21T23:52:36.432570",
     "status": "completed"
    },
    "tags": []
   },
   "outputs": [],
   "source": [
    "#Finally we define everything in a df_new2 at level customer for further processing\n",
    "df_new2 = df_grouped_2.copy()\n",
    "\n",
    "df_new2.columns = ['city', 'customer_id', 'min_diff_days', 'max_diff_days', 'avg_diff_days', 'median_diff_days', 'stdev_diff_days',\n",
    "               'num_orders', 'aov_ALL_usd', 'ALL_avg_cant', 'last_order_date', 'diff_from_last_to_first_order', 'days_since_last_order','first_order_date']"
   ]
  },
  {
   "cell_type": "code",
   "execution_count": 24,
   "id": "b21d76fd",
   "metadata": {
    "execution": {
     "iopub.execute_input": "2024-03-21T23:52:36.510267Z",
     "iopub.status.busy": "2024-03-21T23:52:36.509837Z",
     "iopub.status.idle": "2024-03-21T23:52:43.018869Z",
     "shell.execute_reply": "2024-03-21T23:52:43.019244Z"
    },
    "papermill": {
     "duration": 6.536266,
     "end_time": "2024-03-21T23:52:43.019377",
     "exception": false,
     "start_time": "2024-03-21T23:52:36.483111",
     "status": "completed"
    },
    "tags": []
   },
   "outputs": [],
   "source": [
    "#Finally we calculate the next parameters and also integred with df_new3 where we can have the info grouped by customer about the category performance\n",
    "df_new2[\"churned_ALL\"] = [0 if ((x[12]) - (x[4]+x[6]*2) <= 0) else 1 for x in df_new2.values]\n",
    "\n",
    "df_new2['adjust_std'] = pd.qcut(df_new2.stdev_diff_days, 10, labels=[1,0.9,0.8,0.7,0.6,0.5,0.4,0.3,0.2,0.1])\n",
    "df_new2[[\"adjust_std\"]] = df_new2[[\"adjust_std\"]].astype(float)\n",
    "\n",
    "df_new2['adjust_retention'] = [1 if diff_month(x[10],x[13])+1 >= 10 else \n",
    "                                retention_aux[(retention_aux.region_code == x[0])][str(diff_month(x[10],x[13])+1)].max() for x in df_new2.values]\n",
    "\n",
    "df_new2['median_diff_days_adjusted'] = 365/df_new2.median_diff_days\n",
    "\n",
    "#this merge is to include the info for the total cash_margin, how many cats is churned and the total cat CLTV\n",
    "df_new2 = df_new2.merge(df_new3[['customer_id','cash_margin','CLTV_sin_churn','churned']], on='customer_id', how='left')"
   ]
  },
  {
   "cell_type": "code",
   "execution_count": 25,
   "id": "bf319e8d",
   "metadata": {
    "execution": {
     "iopub.execute_input": "2024-03-21T23:52:43.097586Z",
     "iopub.status.busy": "2024-03-21T23:52:43.097113Z",
     "iopub.status.idle": "2024-03-21T23:52:43.314144Z",
     "shell.execute_reply": "2024-03-21T23:52:43.314496Z"
    },
    "papermill": {
     "duration": 0.270999,
     "end_time": "2024-03-21T23:52:43.314631",
     "exception": false,
     "start_time": "2024-03-21T23:52:43.043632",
     "status": "completed"
    },
    "tags": []
   },
   "outputs": [
    {
     "name": "stdout",
     "output_type": "stream",
     "text": [
      "27504540.28499709 27267305.801192295\n"
     ]
    }
   ],
   "source": [
    "#We calculate now the CLTV taking into account the global behavior of the customer\n",
    "df_new2[\"ALL_CLTV_sin_churn\"] = df_new2.median_diff_days_adjusted * df_new2.adjust_retention * df_new2.adjust_std * df_new2.cash_margin / 2\n",
    "df_new2[['CLTV_sin_churn','ALL_CLTV_sin_churn']] = df_new2[['CLTV_sin_churn','ALL_CLTV_sin_churn']].fillna(0)\n",
    "\n",
    "#df_new2[\"CLTV\"] = df_new2.median_diff_days_adjusted * df_new2.margen * df_new2.aov_cat_usd * df_new2.adjust_retention * df_new2.adjust_std * df_new2.adjust_cohort\n",
    "#df_new2[\"CLTV_sin_margen\"] = df_new2.median_diff_days_adjusted * df_new2.aov_cat_usd * df_new2.adjust_retention * df_new2.adjust_std * df_new2.adjust_cohort\n",
    "\n",
    "#If the Total Cat CLTV is NA because it is so few orders for each category, we create a Adjust_CLTV to include the global or ALL_CLTV_sin_churn instead of the NULL value\n",
    "df_new2['Adjust_CLTV'] = [x[21] if x[19] == 0 else x[19] for x in df_new2.values]\n",
    "\n",
    "print(df_new2.Adjust_CLTV.sum(),df_new2.CLTV_sin_churn.sum())"
   ]
  },
  {
   "cell_type": "code",
   "execution_count": 26,
   "id": "13b021e4",
   "metadata": {
    "execution": {
     "iopub.execute_input": "2024-03-21T23:52:43.364449Z",
     "iopub.status.busy": "2024-03-21T23:52:43.364007Z",
     "iopub.status.idle": "2024-03-21T23:52:43.815598Z",
     "shell.execute_reply": "2024-03-21T23:52:43.815975Z"
    },
    "papermill": {
     "duration": 0.478423,
     "end_time": "2024-03-21T23:52:43.816110",
     "exception": false,
     "start_time": "2024-03-21T23:52:43.337687",
     "status": "completed"
    },
    "tags": []
   },
   "outputs": [],
   "source": [
    "#Finally, we calculate the ALL_churned_date based on the general behavior of the customer\n",
    "df_new2[['avg_diff_days','stdev_diff_days']] = df_new2[['avg_diff_days','stdev_diff_days']].fillna(0)\n",
    "df_new2['ALL_churned_date'] = [(x[10] + datetime.timedelta(days=int(x[4]+x[6]*2))).strftime('%Y-%m-%d') for x in df_new2.values] #1 months"
   ]
  },
  {
   "cell_type": "markdown",
   "id": "2c0d01ce",
   "metadata": {
    "papermill": {
     "duration": 0.022753,
     "end_time": "2024-03-21T23:52:43.862161",
     "exception": false,
     "start_time": "2024-03-21T23:52:43.839408",
     "status": "completed"
    },
    "tags": []
   },
   "source": [
    "# Final processing of the file to export"
   ]
  },
  {
   "cell_type": "code",
   "execution_count": 27,
   "id": "a8758358",
   "metadata": {
    "execution": {
     "iopub.execute_input": "2024-03-21T23:52:43.919405Z",
     "iopub.status.busy": "2024-03-21T23:52:43.918961Z",
     "iopub.status.idle": "2024-03-21T23:52:43.953993Z",
     "shell.execute_reply": "2024-03-21T23:52:43.953587Z"
    },
    "papermill": {
     "duration": 0.069257,
     "end_time": "2024-03-21T23:52:43.954099",
     "exception": false,
     "start_time": "2024-03-21T23:52:43.884842",
     "status": "completed"
    },
    "tags": []
   },
   "outputs": [],
   "source": [
    "#We will merge the df_new2 with the clear_buyers in order to filter by restaurants and take away kams (also to include the microsegment)\n",
    "df_new2 = df_new2.merge(clear_buyers[clear_buyers.registered_city == city][['customer_id','business_type','microsegment_name','is_kam']], on='customer_id', how='left')\n",
    "df_new2_end = df_new2[(df_new2.is_kam == 0)].copy() #df_new2[(df_new2.business_type == 'Restaurante') & (df_new2.is_kam == 0)].copy()"
   ]
  },
  {
   "cell_type": "code",
   "execution_count": 28,
   "id": "83b4be1a",
   "metadata": {
    "execution": {
     "iopub.execute_input": "2024-03-21T23:52:44.004136Z",
     "iopub.status.busy": "2024-03-21T23:52:44.003695Z",
     "iopub.status.idle": "2024-03-21T23:52:44.023494Z",
     "shell.execute_reply": "2024-03-21T23:52:44.023113Z"
    },
    "papermill": {
     "duration": 0.046192,
     "end_time": "2024-03-21T23:52:44.023608",
     "exception": false,
     "start_time": "2024-03-21T23:52:43.977416",
     "status": "completed"
    },
    "tags": []
   },
   "outputs": [],
   "source": [
    "#This cell is to calculate the cumulative sum to create the tiers further\n",
    "df_new2_end = df_new2_end.sort_values(['Adjust_CLTV'], ascending=[False])\n",
    "df_new2_end['cumsum'] = df_new2_end.groupby('city')['Adjust_CLTV'].cumsum()\n",
    "df_new2_end['run_pct'] = df_new2_end.groupby('city')['Adjust_CLTV'].apply(lambda x: (x/x.sum()).cumsum())"
   ]
  },
  {
   "cell_type": "code",
   "execution_count": 29,
   "id": "daba56d7",
   "metadata": {
    "execution": {
     "iopub.execute_input": "2024-03-21T23:52:44.094609Z",
     "iopub.status.busy": "2024-03-21T23:52:44.086825Z",
     "iopub.status.idle": "2024-03-21T23:52:44.098040Z",
     "shell.execute_reply": "2024-03-21T23:52:44.097603Z"
    },
    "papermill": {
     "duration": 0.051342,
     "end_time": "2024-03-21T23:52:44.098137",
     "exception": false,
     "start_time": "2024-03-21T23:52:44.046795",
     "status": "completed"
    },
    "tags": []
   },
   "outputs": [],
   "source": [
    "#This conditional create the tiers\n",
    "df_new2_end['tier'] = ['A' if x <= 0.1 else\n",
    "                       'B' if x <= 0.2 else\n",
    "                       'C' if x <= 0.3 else\n",
    "                       'D' if x <= 0.4 else\n",
    "                       'E' if x <= 0.5 else\n",
    "                       'F' if x <= 0.6 else\n",
    "                       'G' if x <= 0.7 else\n",
    "                       'H' if x <= 0.8 else\n",
    "                       'I' if x <= 0.9 else\n",
    "                       'J' for x in df_new2_end.run_pct.values]"
   ]
  },
  {
   "cell_type": "code",
   "execution_count": 30,
   "id": "7e9d4c48",
   "metadata": {
    "execution": {
     "iopub.execute_input": "2024-03-21T23:52:44.150079Z",
     "iopub.status.busy": "2024-03-21T23:52:44.149631Z",
     "iopub.status.idle": "2024-03-21T23:52:44.152090Z",
     "shell.execute_reply": "2024-03-21T23:52:44.151721Z"
    },
    "papermill": {
     "duration": 0.030869,
     "end_time": "2024-03-21T23:52:44.152182",
     "exception": false,
     "start_time": "2024-03-21T23:52:44.121313",
     "status": "completed"
    },
    "tags": []
   },
   "outputs": [
    {
     "data": {
      "text/plain": [
       "J    17748\n",
       "I     4203\n",
       "H     2615\n",
       "G     1828\n",
       "F     1382\n",
       "E     1057\n",
       "D      814\n",
       "C      610\n",
       "B      432\n",
       "A      187\n",
       "Name: tier, dtype: int64"
      ]
     },
     "execution_count": 30,
     "metadata": {},
     "output_type": "execute_result"
    }
   ],
   "source": [
    "df_new2_end.tier.value_counts()"
   ]
  },
  {
   "cell_type": "code",
   "execution_count": 31,
   "id": "e9d2d01c",
   "metadata": {
    "execution": {
     "iopub.execute_input": "2024-03-21T23:52:44.202233Z",
     "iopub.status.busy": "2024-03-21T23:52:44.201809Z",
     "iopub.status.idle": "2024-03-21T23:52:44.203706Z",
     "shell.execute_reply": "2024-03-21T23:52:44.203327Z"
    },
    "papermill": {
     "duration": 0.028385,
     "end_time": "2024-03-21T23:52:44.203799",
     "exception": false,
     "start_time": "2024-03-21T23:52:44.175414",
     "status": "completed"
    },
    "tags": []
   },
   "outputs": [],
   "source": [
    "df_new2_end.rename(columns={'num_orders': 'ALL_num_orders', 'CLTV_sin_churn': 'TOTAL_CAT_CLTV_sin_churn'}, inplace=True)\n",
    "\n",
    "df3.rename(columns={'num_orders': 'num_orders_cat', 'churned': 'churned_cat','CLTV_sin_churn':'CAT_CLTV_sin_churn'}, inplace=True)"
   ]
  },
  {
   "cell_type": "code",
   "execution_count": 32,
   "id": "094a44e0",
   "metadata": {
    "execution": {
     "iopub.execute_input": "2024-03-21T23:52:44.253766Z",
     "iopub.status.busy": "2024-03-21T23:52:44.253299Z",
     "iopub.status.idle": "2024-03-21T23:52:44.255361Z",
     "shell.execute_reply": "2024-03-21T23:52:44.255718Z"
    },
    "papermill": {
     "duration": 0.028543,
     "end_time": "2024-03-21T23:52:44.255825",
     "exception": false,
     "start_time": "2024-03-21T23:52:44.227282",
     "status": "completed"
    },
    "tags": []
   },
   "outputs": [
    {
     "data": {
      "text/plain": [
       "Index(['city', 'customer_id', 'min_diff_days', 'max_diff_days',\n",
       "       'avg_diff_days', 'median_diff_days', 'stdev_diff_days',\n",
       "       'ALL_num_orders', 'aov_ALL_usd', 'ALL_avg_cant', 'last_order_date',\n",
       "       'diff_from_last_to_first_order', 'days_since_last_order',\n",
       "       'first_order_date', 'churned_ALL', 'adjust_std', 'adjust_retention',\n",
       "       'median_diff_days_adjusted', 'cash_margin', 'TOTAL_CAT_CLTV_sin_churn',\n",
       "       'churned', 'ALL_CLTV_sin_churn', 'Adjust_CLTV', 'ALL_churned_date',\n",
       "       'business_type', 'microsegment_name', 'is_kam', 'cumsum', 'run_pct',\n",
       "       'tier'],\n",
       "      dtype='object')"
      ]
     },
     "execution_count": 32,
     "metadata": {},
     "output_type": "execute_result"
    }
   ],
   "source": [
    "df_new2_end.columns"
   ]
  },
  {
   "cell_type": "code",
   "execution_count": 33,
   "id": "d836d113",
   "metadata": {
    "execution": {
     "iopub.execute_input": "2024-03-21T23:52:44.306064Z",
     "iopub.status.busy": "2024-03-21T23:52:44.305635Z",
     "iopub.status.idle": "2024-03-21T23:52:44.336974Z",
     "shell.execute_reply": "2024-03-21T23:52:44.336582Z"
    },
    "papermill": {
     "duration": 0.057987,
     "end_time": "2024-03-21T23:52:44.337078",
     "exception": false,
     "start_time": "2024-03-21T23:52:44.279091",
     "status": "completed"
    },
    "tags": []
   },
   "outputs": [],
   "source": [
    "#We merge with data_farming so we get the info farming for each customer\n",
    "df_new2_end = df_new2_end[['customer_id','ALL_num_orders', 'aov_ALL_usd', 'churned_ALL', 'ALL_churned_date','TOTAL_CAT_CLTV_sin_churn',\n",
    "       'ALL_CLTV_sin_churn', 'Adjust_CLTV','tier', 'microsegment_name', 'business_type', 'is_kam']].merge(data_farming[data_farming.ciudad == city][['customer_id','owner']], on='customer_id', how='left')\n",
    "df_new2_end[['owner']] = df_new2_end[['owner']].fillna('No Farming')"
   ]
  },
  {
   "cell_type": "code",
   "execution_count": 34,
   "id": "61084151",
   "metadata": {
    "execution": {
     "iopub.execute_input": "2024-03-21T23:52:44.388971Z",
     "iopub.status.busy": "2024-03-21T23:52:44.388544Z",
     "iopub.status.idle": "2024-03-21T23:52:44.390070Z",
     "shell.execute_reply": "2024-03-21T23:52:44.390411Z"
    },
    "papermill": {
     "duration": 0.029285,
     "end_time": "2024-03-21T23:52:44.390524",
     "exception": false,
     "start_time": "2024-03-21T23:52:44.361239",
     "status": "completed"
    },
    "tags": []
   },
   "outputs": [],
   "source": [
    "df_new2_end.rename(columns={'num_orders': 'ALL_num_orders', 'CLTV_sin_churn': 'TOTAL_CAT_CLTV_sin_churn'}, inplace=True)\n",
    "\n",
    "df3.rename(columns={'num_orders': 'num_orders_cat', 'churned': 'churned_cat','CLTV_sin_churn':'CAT_CLTV_sin_churn'}, inplace=True)"
   ]
  },
  {
   "cell_type": "code",
   "execution_count": 35,
   "id": "9a09068b",
   "metadata": {
    "execution": {
     "iopub.execute_input": "2024-03-21T23:52:44.441359Z",
     "iopub.status.busy": "2024-03-21T23:52:44.440915Z",
     "iopub.status.idle": "2024-03-21T23:52:44.562139Z",
     "shell.execute_reply": "2024-03-21T23:52:44.561738Z"
    },
    "papermill": {
     "duration": 0.148081,
     "end_time": "2024-03-21T23:52:44.562245",
     "exception": false,
     "start_time": "2024-03-21T23:52:44.414164",
     "status": "completed"
    },
    "tags": []
   },
   "outputs": [],
   "source": [
    "df_final = df3[['city', 'customer_id', 'cat', 'min_diff_days', 'max_diff_days', 'avg_diff_days', 'median_diff_days', 'stdev_diff_days', 'num_orders_cat',\n",
    "       'aov_cat_usd','last_order_date', 'diff_from_last_to_first_order', 'days_since_last_order',\n",
    "       'first_order_date', 'adjust_std', 'adjust_cohort','adjust_retention', \n",
    "       'median_diff_days_adjusted', 'churned_cat', 'churned_date','CAT_CLTV_sin_churn']].merge(df_new2_end, on='customer_id', how='inner')"
   ]
  },
  {
   "cell_type": "code",
   "execution_count": 36,
   "id": "4a2cace3",
   "metadata": {
    "execution": {
     "iopub.execute_input": "2024-03-21T23:52:44.614355Z",
     "iopub.status.busy": "2024-03-21T23:52:44.613538Z",
     "iopub.status.idle": "2024-03-21T23:52:44.633242Z",
     "shell.execute_reply": "2024-03-21T23:52:44.633616Z"
    },
    "papermill": {
     "duration": 0.047144,
     "end_time": "2024-03-21T23:52:44.633738",
     "exception": false,
     "start_time": "2024-03-21T23:52:44.586594",
     "status": "completed"
    },
    "tags": []
   },
   "outputs": [
    {
     "data": {
      "text/html": [
       "<div>\n",
       "<style scoped>\n",
       "    .dataframe tbody tr th:only-of-type {\n",
       "        vertical-align: middle;\n",
       "    }\n",
       "\n",
       "    .dataframe tbody tr th {\n",
       "        vertical-align: top;\n",
       "    }\n",
       "\n",
       "    .dataframe thead th {\n",
       "        text-align: right;\n",
       "    }\n",
       "</style>\n",
       "<table border=\"1\" class=\"dataframe\">\n",
       "  <thead>\n",
       "    <tr style=\"text-align: right;\">\n",
       "      <th></th>\n",
       "      <th>city</th>\n",
       "      <th>customer_id</th>\n",
       "      <th>cat</th>\n",
       "      <th>min_diff_days</th>\n",
       "      <th>max_diff_days</th>\n",
       "      <th>avg_diff_days</th>\n",
       "      <th>median_diff_days</th>\n",
       "      <th>stdev_diff_days</th>\n",
       "      <th>num_orders_cat</th>\n",
       "      <th>aov_cat_usd</th>\n",
       "      <th>...</th>\n",
       "      <th>churned_ALL</th>\n",
       "      <th>ALL_churned_date</th>\n",
       "      <th>TOTAL_CAT_CLTV_sin_churn</th>\n",
       "      <th>ALL_CLTV_sin_churn</th>\n",
       "      <th>Adjust_CLTV</th>\n",
       "      <th>tier</th>\n",
       "      <th>microsegment_name</th>\n",
       "      <th>business_type</th>\n",
       "      <th>is_kam</th>\n",
       "      <th>owner</th>\n",
       "    </tr>\n",
       "  </thead>\n",
       "  <tbody>\n",
       "    <tr>\n",
       "      <th>0</th>\n",
       "      <td>SPO</td>\n",
       "      <td>19337183</td>\n",
       "      <td>Bebidas</td>\n",
       "      <td>1.0</td>\n",
       "      <td>16.0</td>\n",
       "      <td>3.722222</td>\n",
       "      <td>2.5</td>\n",
       "      <td>3.282953</td>\n",
       "      <td>37</td>\n",
       "      <td>43.606771</td>\n",
       "      <td>...</td>\n",
       "      <td>0</td>\n",
       "      <td>2024-03-26</td>\n",
       "      <td>2486.621862</td>\n",
       "      <td>2301.360608</td>\n",
       "      <td>2486.621862</td>\n",
       "      <td>D</td>\n",
       "      <td>Lanches</td>\n",
       "      <td>Restaurante</td>\n",
       "      <td>False</td>\n",
       "      <td>No Farming</td>\n",
       "    </tr>\n",
       "    <tr>\n",
       "      <th>1</th>\n",
       "      <td>SPO</td>\n",
       "      <td>19337183</td>\n",
       "      <td>Carnes, Aves e Peixes</td>\n",
       "      <td>7.0</td>\n",
       "      <td>33.0</td>\n",
       "      <td>16.500000</td>\n",
       "      <td>13.0</td>\n",
       "      <td>11.387127</td>\n",
       "      <td>5</td>\n",
       "      <td>39.293533</td>\n",
       "      <td>...</td>\n",
       "      <td>0</td>\n",
       "      <td>2024-03-26</td>\n",
       "      <td>2486.621862</td>\n",
       "      <td>2301.360608</td>\n",
       "      <td>2486.621862</td>\n",
       "      <td>D</td>\n",
       "      <td>Lanches</td>\n",
       "      <td>Restaurante</td>\n",
       "      <td>False</td>\n",
       "      <td>No Farming</td>\n",
       "    </tr>\n",
       "    <tr>\n",
       "      <th>2</th>\n",
       "      <td>SPO</td>\n",
       "      <td>19337183</td>\n",
       "      <td>Descartáveis</td>\n",
       "      <td>6.0</td>\n",
       "      <td>55.0</td>\n",
       "      <td>16.600000</td>\n",
       "      <td>7.0</td>\n",
       "      <td>21.477896</td>\n",
       "      <td>6</td>\n",
       "      <td>3.219298</td>\n",
       "      <td>...</td>\n",
       "      <td>0</td>\n",
       "      <td>2024-03-26</td>\n",
       "      <td>2486.621862</td>\n",
       "      <td>2301.360608</td>\n",
       "      <td>2486.621862</td>\n",
       "      <td>D</td>\n",
       "      <td>Lanches</td>\n",
       "      <td>Restaurante</td>\n",
       "      <td>False</td>\n",
       "      <td>No Farming</td>\n",
       "    </tr>\n",
       "    <tr>\n",
       "      <th>3</th>\n",
       "      <td>SPO</td>\n",
       "      <td>19337183</td>\n",
       "      <td>Frutas e Verduras</td>\n",
       "      <td>1.0</td>\n",
       "      <td>16.0</td>\n",
       "      <td>2.792453</td>\n",
       "      <td>2.0</td>\n",
       "      <td>2.712921</td>\n",
       "      <td>54</td>\n",
       "      <td>9.902807</td>\n",
       "      <td>...</td>\n",
       "      <td>0</td>\n",
       "      <td>2024-03-26</td>\n",
       "      <td>2486.621862</td>\n",
       "      <td>2301.360608</td>\n",
       "      <td>2486.621862</td>\n",
       "      <td>D</td>\n",
       "      <td>Lanches</td>\n",
       "      <td>Restaurante</td>\n",
       "      <td>False</td>\n",
       "      <td>No Farming</td>\n",
       "    </tr>\n",
       "    <tr>\n",
       "      <th>4</th>\n",
       "      <td>SPO</td>\n",
       "      <td>19337183</td>\n",
       "      <td>Laticínios e Ovos</td>\n",
       "      <td>1.0</td>\n",
       "      <td>53.0</td>\n",
       "      <td>13.100000</td>\n",
       "      <td>6.5</td>\n",
       "      <td>15.516658</td>\n",
       "      <td>11</td>\n",
       "      <td>15.445167</td>\n",
       "      <td>...</td>\n",
       "      <td>0</td>\n",
       "      <td>2024-03-26</td>\n",
       "      <td>2486.621862</td>\n",
       "      <td>2301.360608</td>\n",
       "      <td>2486.621862</td>\n",
       "      <td>D</td>\n",
       "      <td>Lanches</td>\n",
       "      <td>Restaurante</td>\n",
       "      <td>False</td>\n",
       "      <td>No Farming</td>\n",
       "    </tr>\n",
       "    <tr>\n",
       "      <th>5</th>\n",
       "      <td>SPO</td>\n",
       "      <td>19337183</td>\n",
       "      <td>Limpeza e Higiene</td>\n",
       "      <td>8.0</td>\n",
       "      <td>25.0</td>\n",
       "      <td>14.666667</td>\n",
       "      <td>11.0</td>\n",
       "      <td>9.073772</td>\n",
       "      <td>4</td>\n",
       "      <td>9.454737</td>\n",
       "      <td>...</td>\n",
       "      <td>0</td>\n",
       "      <td>2024-03-26</td>\n",
       "      <td>2486.621862</td>\n",
       "      <td>2301.360608</td>\n",
       "      <td>2486.621862</td>\n",
       "      <td>D</td>\n",
       "      <td>Lanches</td>\n",
       "      <td>Restaurante</td>\n",
       "      <td>False</td>\n",
       "      <td>No Farming</td>\n",
       "    </tr>\n",
       "    <tr>\n",
       "      <th>6</th>\n",
       "      <td>SPO</td>\n",
       "      <td>19337183</td>\n",
       "      <td>Mercearia</td>\n",
       "      <td>1.0</td>\n",
       "      <td>20.0</td>\n",
       "      <td>3.700000</td>\n",
       "      <td>3.0</td>\n",
       "      <td>3.360403</td>\n",
       "      <td>41</td>\n",
       "      <td>39.331605</td>\n",
       "      <td>...</td>\n",
       "      <td>0</td>\n",
       "      <td>2024-03-26</td>\n",
       "      <td>2486.621862</td>\n",
       "      <td>2301.360608</td>\n",
       "      <td>2486.621862</td>\n",
       "      <td>D</td>\n",
       "      <td>Lanches</td>\n",
       "      <td>Restaurante</td>\n",
       "      <td>False</td>\n",
       "      <td>No Farming</td>\n",
       "    </tr>\n",
       "    <tr>\n",
       "      <th>7</th>\n",
       "      <td>SPO</td>\n",
       "      <td>19355299</td>\n",
       "      <td>Bebidas</td>\n",
       "      <td>1.0</td>\n",
       "      <td>152.0</td>\n",
       "      <td>21.423077</td>\n",
       "      <td>11.5</td>\n",
       "      <td>34.123509</td>\n",
       "      <td>27</td>\n",
       "      <td>21.791813</td>\n",
       "      <td>...</td>\n",
       "      <td>0</td>\n",
       "      <td>2024-03-27</td>\n",
       "      <td>2721.493583</td>\n",
       "      <td>1624.154695</td>\n",
       "      <td>2721.493583</td>\n",
       "      <td>D</td>\n",
       "      <td>None</td>\n",
       "      <td>Restaurante</td>\n",
       "      <td>False</td>\n",
       "      <td>No Farming</td>\n",
       "    </tr>\n",
       "    <tr>\n",
       "      <th>8</th>\n",
       "      <td>SPO</td>\n",
       "      <td>19355299</td>\n",
       "      <td>Carnes, Aves e Peixes</td>\n",
       "      <td>1.0</td>\n",
       "      <td>44.0</td>\n",
       "      <td>6.738462</td>\n",
       "      <td>5.0</td>\n",
       "      <td>6.574755</td>\n",
       "      <td>66</td>\n",
       "      <td>32.570249</td>\n",
       "      <td>...</td>\n",
       "      <td>0</td>\n",
       "      <td>2024-03-27</td>\n",
       "      <td>2721.493583</td>\n",
       "      <td>1624.154695</td>\n",
       "      <td>2721.493583</td>\n",
       "      <td>D</td>\n",
       "      <td>None</td>\n",
       "      <td>Restaurante</td>\n",
       "      <td>False</td>\n",
       "      <td>No Farming</td>\n",
       "    </tr>\n",
       "    <tr>\n",
       "      <th>9</th>\n",
       "      <td>SPO</td>\n",
       "      <td>19355299</td>\n",
       "      <td>Descartáveis</td>\n",
       "      <td>148.0</td>\n",
       "      <td>169.0</td>\n",
       "      <td>158.500000</td>\n",
       "      <td>158.5</td>\n",
       "      <td>14.849242</td>\n",
       "      <td>3</td>\n",
       "      <td>1.924912</td>\n",
       "      <td>...</td>\n",
       "      <td>0</td>\n",
       "      <td>2024-03-27</td>\n",
       "      <td>2721.493583</td>\n",
       "      <td>1624.154695</td>\n",
       "      <td>2721.493583</td>\n",
       "      <td>D</td>\n",
       "      <td>None</td>\n",
       "      <td>Restaurante</td>\n",
       "      <td>False</td>\n",
       "      <td>No Farming</td>\n",
       "    </tr>\n",
       "  </tbody>\n",
       "</table>\n",
       "<p>10 rows × 33 columns</p>\n",
       "</div>"
      ],
      "text/plain": [
       "  city  customer_id                    cat  min_diff_days  max_diff_days  \\\n",
       "0  SPO     19337183                Bebidas            1.0           16.0   \n",
       "1  SPO     19337183  Carnes, Aves e Peixes            7.0           33.0   \n",
       "2  SPO     19337183           Descartáveis            6.0           55.0   \n",
       "3  SPO     19337183      Frutas e Verduras            1.0           16.0   \n",
       "4  SPO     19337183      Laticínios e Ovos            1.0           53.0   \n",
       "5  SPO     19337183      Limpeza e Higiene            8.0           25.0   \n",
       "6  SPO     19337183              Mercearia            1.0           20.0   \n",
       "7  SPO     19355299                Bebidas            1.0          152.0   \n",
       "8  SPO     19355299  Carnes, Aves e Peixes            1.0           44.0   \n",
       "9  SPO     19355299           Descartáveis          148.0          169.0   \n",
       "\n",
       "   avg_diff_days  median_diff_days  stdev_diff_days  num_orders_cat  \\\n",
       "0       3.722222               2.5         3.282953              37   \n",
       "1      16.500000              13.0        11.387127               5   \n",
       "2      16.600000               7.0        21.477896               6   \n",
       "3       2.792453               2.0         2.712921              54   \n",
       "4      13.100000               6.5        15.516658              11   \n",
       "5      14.666667              11.0         9.073772               4   \n",
       "6       3.700000               3.0         3.360403              41   \n",
       "7      21.423077              11.5        34.123509              27   \n",
       "8       6.738462               5.0         6.574755              66   \n",
       "9     158.500000             158.5        14.849242               3   \n",
       "\n",
       "   aov_cat_usd  ... churned_ALL  ALL_churned_date  TOTAL_CAT_CLTV_sin_churn  \\\n",
       "0    43.606771  ...           0        2024-03-26               2486.621862   \n",
       "1    39.293533  ...           0        2024-03-26               2486.621862   \n",
       "2     3.219298  ...           0        2024-03-26               2486.621862   \n",
       "3     9.902807  ...           0        2024-03-26               2486.621862   \n",
       "4    15.445167  ...           0        2024-03-26               2486.621862   \n",
       "5     9.454737  ...           0        2024-03-26               2486.621862   \n",
       "6    39.331605  ...           0        2024-03-26               2486.621862   \n",
       "7    21.791813  ...           0        2024-03-27               2721.493583   \n",
       "8    32.570249  ...           0        2024-03-27               2721.493583   \n",
       "9     1.924912  ...           0        2024-03-27               2721.493583   \n",
       "\n",
       "  ALL_CLTV_sin_churn  Adjust_CLTV  tier  microsegment_name  business_type  \\\n",
       "0        2301.360608  2486.621862     D            Lanches    Restaurante   \n",
       "1        2301.360608  2486.621862     D            Lanches    Restaurante   \n",
       "2        2301.360608  2486.621862     D            Lanches    Restaurante   \n",
       "3        2301.360608  2486.621862     D            Lanches    Restaurante   \n",
       "4        2301.360608  2486.621862     D            Lanches    Restaurante   \n",
       "5        2301.360608  2486.621862     D            Lanches    Restaurante   \n",
       "6        2301.360608  2486.621862     D            Lanches    Restaurante   \n",
       "7        1624.154695  2721.493583     D               None    Restaurante   \n",
       "8        1624.154695  2721.493583     D               None    Restaurante   \n",
       "9        1624.154695  2721.493583     D               None    Restaurante   \n",
       "\n",
       "   is_kam       owner  \n",
       "0   False  No Farming  \n",
       "1   False  No Farming  \n",
       "2   False  No Farming  \n",
       "3   False  No Farming  \n",
       "4   False  No Farming  \n",
       "5   False  No Farming  \n",
       "6   False  No Farming  \n",
       "7   False  No Farming  \n",
       "8   False  No Farming  \n",
       "9   False  No Farming  \n",
       "\n",
       "[10 rows x 33 columns]"
      ]
     },
     "execution_count": 36,
     "metadata": {},
     "output_type": "execute_result"
    }
   ],
   "source": [
    "df_final.head(10)"
   ]
  },
  {
   "cell_type": "code",
   "execution_count": 37,
   "id": "efebc6f9",
   "metadata": {
    "execution": {
     "iopub.execute_input": "2024-03-21T23:52:44.685512Z",
     "iopub.status.busy": "2024-03-21T23:52:44.685053Z",
     "iopub.status.idle": "2024-03-21T23:52:44.686907Z",
     "shell.execute_reply": "2024-03-21T23:52:44.686540Z"
    },
    "papermill": {
     "duration": 0.028549,
     "end_time": "2024-03-21T23:52:44.686998",
     "exception": false,
     "start_time": "2024-03-21T23:52:44.658449",
     "status": "completed"
    },
    "tags": []
   },
   "outputs": [],
   "source": [
    "#df_final.to_excel(f\"CLTV_{city}.xlsx\",index=False)"
   ]
  },
  {
   "cell_type": "markdown",
   "id": "8d3067a3",
   "metadata": {
    "papermill": {
     "duration": 0.024401,
     "end_time": "2024-03-21T23:52:44.736182",
     "exception": false,
     "start_time": "2024-03-21T23:52:44.711781",
     "status": "completed"
    },
    "tags": []
   },
   "source": [
    "# Info for SAC team"
   ]
  },
  {
   "cell_type": "code",
   "execution_count": 38,
   "id": "0a7a97ba",
   "metadata": {
    "execution": {
     "iopub.execute_input": "2024-03-21T23:52:44.788495Z",
     "iopub.status.busy": "2024-03-21T23:52:44.788071Z",
     "iopub.status.idle": "2024-03-21T23:52:44.850152Z",
     "shell.execute_reply": "2024-03-21T23:52:44.849761Z"
    },
    "papermill": {
     "duration": 0.089689,
     "end_time": "2024-03-21T23:52:44.850255",
     "exception": false,
     "start_time": "2024-03-21T23:52:44.760566",
     "status": "completed"
    },
    "tags": []
   },
   "outputs": [],
   "source": [
    "df_SAC = df_final[['city','customer_id','tier','Adjust_CLTV']].drop_duplicates()"
   ]
  },
  {
   "cell_type": "code",
   "execution_count": 39,
   "id": "1c0008b2",
   "metadata": {
    "execution": {
     "iopub.execute_input": "2024-03-21T23:52:44.904883Z",
     "iopub.status.busy": "2024-03-21T23:52:44.904455Z",
     "iopub.status.idle": "2024-03-21T23:52:44.906802Z",
     "shell.execute_reply": "2024-03-21T23:52:44.907144Z"
    },
    "papermill": {
     "duration": 0.031956,
     "end_time": "2024-03-21T23:52:44.907263",
     "exception": false,
     "start_time": "2024-03-21T23:52:44.875307",
     "status": "completed"
    },
    "tags": []
   },
   "outputs": [],
   "source": [
    "letter_to_number = {'A': 1, 'B': 2, 'C': 3, 'D': 4, 'E': 5, 'F': 6, 'G': 7, 'H': 8, 'I': 9, 'J': 10}\n",
    "df_SAC['tier'] = df_SAC['tier'].map(letter_to_number)"
   ]
  },
  {
   "cell_type": "code",
   "execution_count": 40,
   "id": "698eb0da",
   "metadata": {
    "execution": {
     "iopub.execute_input": "2024-03-21T23:52:44.959386Z",
     "iopub.status.busy": "2024-03-21T23:52:44.958959Z",
     "iopub.status.idle": "2024-03-21T23:52:45.033407Z",
     "shell.execute_reply": "2024-03-21T23:52:45.032990Z"
    },
    "papermill": {
     "duration": 0.10169,
     "end_time": "2024-03-21T23:52:45.033516",
     "exception": false,
     "start_time": "2024-03-21T23:52:44.931826",
     "status": "completed"
    },
    "tags": []
   },
   "outputs": [],
   "source": [
    "df_SAC.to_csv(f\"/home/jupyter-felipe.guevara/Growth/CLTV/{city}_SAC_tiers.csv\",index=False)"
   ]
  }
 ],
 "metadata": {
  "kernelspec": {
   "display_name": "Python 3",
   "language": "python",
   "name": "python3"
  },
  "language_info": {
   "codemirror_mode": {
    "name": "ipython",
    "version": 3
   },
   "file_extension": ".py",
   "mimetype": "text/x-python",
   "name": "python",
   "nbconvert_exporter": "python",
   "pygments_lexer": "ipython3",
   "version": "3.7.9"
  },
  "papermill": {
   "default_parameters": {},
   "duration": 408.020592,
   "end_time": "2024-03-21T23:52:47.563326",
   "environment_variables": {},
   "exception": null,
   "input_path": "/home/jupyter-felipe.guevara/Growth/CLTV/CLTV_origin.ipynb",
   "output_path": "/home/jupyter-felipe.guevara/Growth/logs/CLTV_SPO.ipynb",
   "parameters": {
    "city": "SPO"
   },
   "start_time": "2024-03-21T23:45:59.542734",
   "version": "2.3.2"
  },
  "vscode": {
   "interpreter": {
    "hash": "624741679a3ae5d99cecf49b8df5d516a7a937e6e7328e129d1fa121c8592e26"
   }
  }
 },
 "nbformat": 4,
 "nbformat_minor": 5
}