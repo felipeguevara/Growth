{
 "cells": [
  {
   "cell_type": "code",
   "execution_count": 1,
   "id": "2ce7e59f",
   "metadata": {
    "execution": {
     "iopub.execute_input": "2024-07-06T11:11:07.269086Z",
     "iopub.status.busy": "2024-07-06T11:11:07.268591Z",
     "iopub.status.idle": "2024-07-06T11:11:08.588673Z",
     "shell.execute_reply": "2024-07-06T11:11:08.588139Z"
    },
    "papermill": {
     "duration": 1.346867,
     "end_time": "2024-07-06T11:11:08.588834",
     "exception": false,
     "start_time": "2024-07-06T11:11:07.241967",
     "status": "completed"
    },
    "tags": []
   },
   "outputs": [],
   "source": [
    "#//----------------------------\n",
    "#//LIBRARIES\n",
    "    #Math\n",
    "import math\n",
    "    #Numeric Python\n",
    "import numpy as np\n",
    "    #Pandas (dataframes)\n",
    "import pandas as pd\n",
    "    #datetime for fate manipulation\n",
    "from datetime import date, datetime, timedelta  \n",
    "    #Regex for advanced string matching\n",
    "import re\n",
    "    #for time related stuff\n",
    "import time\n",
    "    #json library\n",
    "import json\n",
    "    #Analyst tools\n",
    "import sys\n",
    "import os\n",
    "sys.path.append(os.path.expanduser('~'))\n",
    "from analysts_tools.growth import *\n",
    "    #Procurement tools\n",
    "from procurement_lib import send_slack_notification\n",
    "from procurement_lib import redash\n",
    "from analysts_tools.redash_methods import *\n",
    "from analystcommunity.read_connection_data_warehouse import run_read_dwd_query\n",
    "\n",
    "import random\n",
    "import time\n",
    "import datetime\n",
    "\n",
    "import seaborn as sns\n",
    "import matplotlib.pyplot as plt\n",
    "\n",
    "\n",
    "from sklearn.model_selection import train_test_split\n",
    "from scipy.signal import savgol_filter"
   ]
  },
  {
   "cell_type": "markdown",
   "id": "fb7c4a6d",
   "metadata": {
    "papermill": {
     "duration": 0.018548,
     "end_time": "2024-07-06T11:11:08.629045",
     "exception": false,
     "start_time": "2024-07-06T11:11:08.610497",
     "status": "completed"
    },
    "tags": []
   },
   "source": [
    "# Cargue de Queries y parametros"
   ]
  },
  {
   "cell_type": "code",
   "execution_count": 2,
   "id": "b5b591e0",
   "metadata": {
    "execution": {
     "iopub.execute_input": "2024-07-06T11:11:08.669285Z",
     "iopub.status.busy": "2024-07-06T11:11:08.668654Z",
     "iopub.status.idle": "2024-07-06T11:11:08.670802Z",
     "shell.execute_reply": "2024-07-06T11:11:08.670355Z"
    },
    "papermill": {
     "duration": 0.023335,
     "end_time": "2024-07-06T11:11:08.670895",
     "exception": false,
     "start_time": "2024-07-06T11:11:08.647560",
     "status": "completed"
    },
    "tags": [
     "parameters"
    ]
   },
   "outputs": [],
   "source": [
    "city = 'SPO'"
   ]
  },
  {
   "cell_type": "code",
   "execution_count": 3,
   "id": "033b2540",
   "metadata": {
    "execution": {
     "iopub.execute_input": "2024-07-06T11:11:08.710615Z",
     "iopub.status.busy": "2024-07-06T11:11:08.710100Z",
     "iopub.status.idle": "2024-07-06T11:11:08.712136Z",
     "shell.execute_reply": "2024-07-06T11:11:08.711768Z"
    },
    "papermill": {
     "duration": 0.022821,
     "end_time": "2024-07-06T11:11:08.712225",
     "exception": false,
     "start_time": "2024-07-06T11:11:08.689404",
     "status": "completed"
    },
    "tags": [
     "injected-parameters"
    ]
   },
   "outputs": [],
   "source": [
    "# Parameters\n",
    "city = \"BHZ\"\n"
   ]
  },
  {
   "cell_type": "code",
   "execution_count": 4,
   "id": "a7ece9fd",
   "metadata": {
    "execution": {
     "iopub.execute_input": "2024-07-06T11:11:08.753001Z",
     "iopub.status.busy": "2024-07-06T11:11:08.752429Z",
     "iopub.status.idle": "2024-07-06T11:11:08.754144Z",
     "shell.execute_reply": "2024-07-06T11:11:08.754484Z"
    },
    "papermill": {
     "duration": 0.023659,
     "end_time": "2024-07-06T11:11:08.754595",
     "exception": false,
     "start_time": "2024-07-06T11:11:08.730936",
     "status": "completed"
    },
    "tags": []
   },
   "outputs": [],
   "source": [
    "customer_date_desde = (datetime.datetime.today() - datetime.timedelta(days=200))#.strftime('%Y-%m-%d') #1 months"
   ]
  },
  {
   "cell_type": "code",
   "execution_count": 5,
   "id": "df86f086",
   "metadata": {
    "execution": {
     "iopub.execute_input": "2024-07-06T11:11:08.794667Z",
     "iopub.status.busy": "2024-07-06T11:11:08.794185Z",
     "iopub.status.idle": "2024-07-06T11:11:08.796361Z",
     "shell.execute_reply": "2024-07-06T11:11:08.796702Z"
    },
    "papermill": {
     "duration": 0.023626,
     "end_time": "2024-07-06T11:11:08.796832",
     "exception": false,
     "start_time": "2024-07-06T11:11:08.773206",
     "status": "completed"
    },
    "tags": []
   },
   "outputs": [
    {
     "name": "stdout",
     "output_type": "stream",
     "text": [
      "/home/jupyter-felipe.guevara\n"
     ]
    }
   ],
   "source": [
    "print(os.getcwd())"
   ]
  },
  {
   "cell_type": "code",
   "execution_count": 6,
   "id": "d0c5578b",
   "metadata": {
    "execution": {
     "iopub.execute_input": "2024-07-06T11:11:08.838079Z",
     "iopub.status.busy": "2024-07-06T11:11:08.837409Z",
     "iopub.status.idle": "2024-07-06T11:11:08.843106Z",
     "shell.execute_reply": "2024-07-06T11:11:08.842738Z"
    },
    "papermill": {
     "duration": 0.027492,
     "end_time": "2024-07-06T11:11:08.843196",
     "exception": false,
     "start_time": "2024-07-06T11:11:08.815704",
     "status": "completed"
    },
    "tags": []
   },
   "outputs": [],
   "source": [
    "margenes = pd.read_csv(\"/home/jupyter-felipe.guevara/Growth/CLTV/Margenes_neto.csv\")\n",
    "retention = pd.read_csv(\"/home/jupyter-felipe.guevara/Growth/CLTV/retention_year.csv\")"
   ]
  },
  {
   "cell_type": "code",
   "execution_count": 7,
   "id": "7f5a6a1a",
   "metadata": {
    "execution": {
     "iopub.execute_input": "2024-07-06T11:11:08.974168Z",
     "iopub.status.busy": "2024-07-06T11:11:08.973545Z",
     "iopub.status.idle": "2024-07-06T11:11:08.975705Z",
     "shell.execute_reply": "2024-07-06T11:11:08.975323Z"
    },
    "papermill": {
     "duration": 0.11341,
     "end_time": "2024-07-06T11:11:08.975810",
     "exception": false,
     "start_time": "2024-07-06T11:11:08.862400",
     "status": "completed"
    },
    "tags": []
   },
   "outputs": [],
   "source": [
    "retention_aux =  retention.copy()\n",
    "\n",
    "for i,ret in enumerate(retention_aux.values):\n",
    "    retention_aux.iloc[i,2:] = [(1-(j-ret[-1])/100) if j-ret[-1] >= 0 else 1 for j in ret[2:]]"
   ]
  },
  {
   "cell_type": "code",
   "execution_count": 8,
   "id": "de991a57",
   "metadata": {
    "execution": {
     "iopub.execute_input": "2024-07-06T11:11:09.017885Z",
     "iopub.status.busy": "2024-07-06T11:11:09.016577Z",
     "iopub.status.idle": "2024-07-06T11:11:49.842668Z",
     "shell.execute_reply": "2024-07-06T11:11:49.842178Z"
    },
    "papermill": {
     "duration": 40.847515,
     "end_time": "2024-07-06T11:11:49.842777",
     "exception": false,
     "start_time": "2024-07-06T11:11:08.995262",
     "status": "completed"
    },
    "tags": []
   },
   "outputs": [
    {
     "name": "stdout",
     "output_type": "stream",
     "text": [
      "200\n"
     ]
    }
   ],
   "source": [
    "clear_buyers = get_fresh_query_result(\"https://internal-redash.federate.frubana.com/\",138674,'SeoGHWmDUaaBi7VXje1s9zYNiMD1VHQ1K1DYOxiF',{},20)"
   ]
  },
  {
   "cell_type": "code",
   "execution_count": 9,
   "id": "8ba94fca",
   "metadata": {
    "execution": {
     "iopub.execute_input": "2024-07-06T11:11:49.885896Z",
     "iopub.status.busy": "2024-07-06T11:11:49.885077Z",
     "iopub.status.idle": "2024-07-06T11:12:30.064094Z",
     "shell.execute_reply": "2024-07-06T11:12:30.064442Z"
    },
    "papermill": {
     "duration": 40.202077,
     "end_time": "2024-07-06T11:12:30.064570",
     "exception": false,
     "start_time": "2024-07-06T11:11:49.862493",
     "status": "completed"
    },
    "tags": []
   },
   "outputs": [
    {
     "name": "stdout",
     "output_type": "stream",
     "text": [
      "200\n"
     ]
    }
   ],
   "source": [
    "buyers_11 = get_fresh_query_result(\"https://internal-redash.federate.frubana.com/\",212712,'SeoGHWmDUaaBi7VXje1s9zYNiMD1VHQ1K1DYOxiF',{},20)"
   ]
  },
  {
   "cell_type": "code",
   "execution_count": 10,
   "id": "1215a208",
   "metadata": {
    "execution": {
     "iopub.execute_input": "2024-07-06T11:12:30.116635Z",
     "iopub.status.busy": "2024-07-06T11:12:30.112234Z",
     "iopub.status.idle": "2024-07-06T11:12:30.611134Z",
     "shell.execute_reply": "2024-07-06T11:12:30.610712Z"
    },
    "papermill": {
     "duration": 0.526728,
     "end_time": "2024-07-06T11:12:30.611240",
     "exception": false,
     "start_time": "2024-07-06T11:12:30.084512",
     "status": "completed"
    },
    "tags": []
   },
   "outputs": [],
   "source": [
    "query = \"\"\"\n",
    "SELECT DISTINCT\n",
    "\n",
    "c.assignee_ref_id AS \"Owner\",\n",
    "cm.member_ref_id AS \"customer_id\",\n",
    "--cm.status AS \"Estado de la asignacion\",\n",
    "--c.type as \"Tipo de asociacion\",\n",
    "--c.flow_type AS \"Tipo de carga\",\n",
    "z.value AS \"Ciudad\"\n",
    "--p.since AS \"Semana\"\n",
    "\n",
    "FROM postgres_growth_offline.\"growth_clustering.clusters\"               c\n",
    "INNER JOIN postgres_growth_offline.\"growth_clustering.cluster_members\"  cm  ON cm.cluster_id = c.id\n",
    "INNER JOIN postgres_growth_offline.\"growth_clustering.periods\"          p   ON p.id = c.period_id\n",
    "INNER JOIN postgres_growth_offline.\"growth_clustering.zones\"            z   ON z.id = c.zone_id\n",
    "\n",
    "where p.since = DATE_TRUNC('week', date(getdate()) - interval '0 week')\n",
    "and z.value in ('BOG','BAQ','MDE','CMX','SPO','BHZ','CWB','VCP')\n",
    "and c.type = 'FARMER_OFFLINE'\n",
    "and c.status = 'ACTIVE'\n",
    "and c.enabled = 'true'\n",
    "\"\"\"\n",
    "data_farming = read_connection_data_warehouse.runQuery(query)\n",
    "data_farming[[\"customer_id\"]] = data_farming[[\"customer_id\"]].astype(int)"
   ]
  },
  {
   "cell_type": "code",
   "execution_count": 11,
   "id": "861d180d",
   "metadata": {
    "execution": {
     "iopub.execute_input": "2024-07-06T11:12:30.656189Z",
     "iopub.status.busy": "2024-07-06T11:12:30.655757Z",
     "iopub.status.idle": "2024-07-06T11:12:30.657508Z",
     "shell.execute_reply": "2024-07-06T11:12:30.657837Z"
    },
    "papermill": {
     "duration": 0.026104,
     "end_time": "2024-07-06T11:12:30.657949",
     "exception": false,
     "start_time": "2024-07-06T11:12:30.631845",
     "status": "completed"
    },
    "tags": []
   },
   "outputs": [],
   "source": [
    "# Define a function to run the query\n",
    "def run_query_with_retry(query):\n",
    "    max_retries = 5\n",
    "    retries = 0\n",
    "    while retries < max_retries:\n",
    "        try:\n",
    "            # Attempt to execute the query\n",
    "            data_ventas_aux = run_read_dwd_query(query)\n",
    "            data_ventas_aux[[\"gmv_usd\", \"cant\"]] = data_ventas_aux[[\"gmv_usd\", \"cant\"]].astype(float)\n",
    "            data_ventas_aux['submit_date'] = pd.to_datetime(data_ventas_aux['submit_date'])\n",
    "            return data_ventas_aux  # If successful, return the result\n",
    "        except Exception as e:\n",
    "            retries += 1\n",
    "            print(f\"An error occurred: {str(e)}\")\n",
    "            print(f\"Retrying... ({retries}/{max_retries})\")\n",
    "    # If max retries reached without success, raise an error\n",
    "    raise RuntimeError(\"Failed to execute the query after multiple retries\")"
   ]
  },
  {
   "cell_type": "code",
   "execution_count": 12,
   "id": "74966ed2",
   "metadata": {
    "execution": {
     "iopub.execute_input": "2024-07-06T11:12:30.706794Z",
     "iopub.status.busy": "2024-07-06T11:12:30.706353Z",
     "iopub.status.idle": "2024-07-06T11:12:43.149115Z",
     "shell.execute_reply": "2024-07-06T11:12:43.149461Z"
    },
    "papermill": {
     "duration": 12.471856,
     "end_time": "2024-07-06T11:12:43.149605",
     "exception": false,
     "start_time": "2024-07-06T11:12:30.677749",
     "status": "completed"
    },
    "tags": []
   },
   "outputs": [],
   "source": [
    "query = \"\"\"\n",
    "SELECT \n",
    "    s.identifier_value AS city,\n",
    "    dc.source_id AS customer_id,\n",
    "    DATE(fs.order_submitted_date) AS submit_date,\n",
    "    fs.order_id,\n",
    "    dp.card_id AS padre_sku_id,\n",
    "    cat.parent_description AS cat,\n",
    "    CASE\n",
    "        WHEN s.identifier_value = 'CMX' THEN fs.gmv_pxq_local/19.65\n",
    "        WHEN s.identifier_value IN ('SPO','BHZ','CWB','VCP') THEN fs.gmv_pxq_local/4.75\n",
    "        WHEN s.identifier_value IN ('BOG','BAQ','MDE') THEN fs.gmv_pxq_local/3776\n",
    "    ELSE fs.gmv_pxq_local \n",
    "    END AS gmv_usd,\n",
    "    fs.product_quantity_x_step_unit AS cant\n",
    "\n",
    "FROM dpr_sales.fact_sales                   fs\n",
    "INNER JOIN dpr_shared.dim_customer          dc  ON dc.customer_id = fs.dim_customer\n",
    "INNER JOIN dpr_shared.dim_site              s   ON s.site_id = fs.dim_site\n",
    "INNER JOIN dpr_shared.dim_product           dp  ON dp.product_id = fs.dim_product\n",
    "INNER JOIN dpr_shared.dim_category          cat ON cat.category_id = dp.category_id\n",
    "\n",
    "WHERE \n",
    "    fs.gmv_enabled = TRUE\n",
    "    AND fulfillment_order_status NOT IN ('CANCELLED', 'ARCHIVED','No value')\n",
    "    AND fs.fb_order_status_id  IN (1,6,7,8)\n",
    "    AND fs.is_deleted = FALSE\n",
    "    AND fs.dim_status = 1\n",
    "    AND dp.is_slot = 'false'\n",
    "    AND DATE(fs.order_submitted_date) > current_date - 730\n",
    "    AND s.identifier_value = '{city}'\n",
    "    AND dc.source_id IN {clientes}\n",
    "\"\"\".format(clientes=tuple(set(clear_buyers[clear_buyers.registered_city == city].customer_id.unique())), city = city)\n",
    "\n",
    "# Call the function with your query\n",
    "data_ventas_aux = run_query_with_retry(query)"
   ]
  },
  {
   "cell_type": "code",
   "execution_count": 13,
   "id": "146c0a8d",
   "metadata": {
    "execution": {
     "iopub.execute_input": "2024-07-06T11:12:43.195642Z",
     "iopub.status.busy": "2024-07-06T11:12:43.194923Z",
     "iopub.status.idle": "2024-07-06T11:12:44.906135Z",
     "shell.execute_reply": "2024-07-06T11:12:44.906474Z"
    },
    "papermill": {
     "duration": 1.7366,
     "end_time": "2024-07-06T11:12:44.906621",
     "exception": false,
     "start_time": "2024-07-06T11:12:43.170021",
     "status": "completed"
    },
    "tags": []
   },
   "outputs": [],
   "source": [
    "data_ventas_aux['cat'] = data_ventas_aux['cat'].replace('Frutas e verduras', 'Frutas e Verduras')\n",
    "data_ventas_aux['cat'] = data_ventas_aux['cat'].replace('Laticínios e ovos', 'Laticínios e Ovos')\n",
    "data_ventas_aux['cat'] = data_ventas_aux['cat'].replace('Limpeza e higiene', 'Limpeza e Higiene')\n",
    "data_ventas_aux['cat'] = data_ventas_aux['cat'].replace('Carnes, aves e peixes', 'Carnes, Aves e Peixes')\n",
    "data_ventas_aux['cat'] = data_ventas_aux['cat'].replace('Abarrotes & despensa', 'Abarrotes')\n",
    "data_ventas_aux['cat'] = data_ventas_aux['cat'].replace('Aseo e higiene', 'Aseo e Higiene')\n",
    "data_ventas_aux['cat'] = data_ventas_aux['cat'].replace('Frutas & verduras', 'Frutas & Verduras')\n",
    "data_ventas_aux['cat'] = data_ventas_aux['cat'].replace('Carne, pollo & pescados', 'Carne, Pollo & Pescados')\n",
    "data_ventas_aux['cat'] = data_ventas_aux['cat'].replace('Lácteos & huevos', 'Lácteos & Huevos')"
   ]
  },
  {
   "cell_type": "code",
   "execution_count": 14,
   "id": "1713ef00",
   "metadata": {
    "execution": {
     "iopub.execute_input": "2024-07-06T11:12:44.952506Z",
     "iopub.status.busy": "2024-07-06T11:12:44.951786Z",
     "iopub.status.idle": "2024-07-06T11:12:46.475344Z",
     "shell.execute_reply": "2024-07-06T11:12:46.475694Z"
    },
    "papermill": {
     "duration": 1.548673,
     "end_time": "2024-07-06T11:12:46.475839",
     "exception": false,
     "start_time": "2024-07-06T11:12:44.927166",
     "status": "completed"
    },
    "tags": []
   },
   "outputs": [],
   "source": [
    "check_df = data_ventas_aux.groupby(by=['customer_id']).agg({'submit_date':np.max}).reset_index()\n",
    "df = data_ventas_aux[data_ventas_aux.customer_id.isin(check_df[check_df.submit_date >= customer_date_desde].customer_id.unique())].groupby(by=['city', 'customer_id', 'submit_date','cat']).agg({'gmv_usd':'sum','cant':'sum'}).reset_index()"
   ]
  },
  {
   "cell_type": "markdown",
   "id": "2ba929bc",
   "metadata": {
    "papermill": {
     "duration": 0.020163,
     "end_time": "2024-07-06T11:12:46.516521",
     "exception": false,
     "start_time": "2024-07-06T11:12:46.496358",
     "status": "completed"
    },
    "tags": []
   },
   "source": [
    "# Generacion de df con info by cat by client"
   ]
  },
  {
   "cell_type": "code",
   "execution_count": 15,
   "id": "9f107602",
   "metadata": {
    "execution": {
     "iopub.execute_input": "2024-07-06T11:12:46.561905Z",
     "iopub.status.busy": "2024-07-06T11:12:46.561012Z",
     "iopub.status.idle": "2024-07-06T11:12:49.837312Z",
     "shell.execute_reply": "2024-07-06T11:12:49.837679Z"
    },
    "papermill": {
     "duration": 3.301142,
     "end_time": "2024-07-06T11:12:49.837816",
     "exception": false,
     "start_time": "2024-07-06T11:12:46.536674",
     "status": "completed"
    },
    "tags": []
   },
   "outputs": [],
   "source": [
    "df = df.sort_values('submit_date',ignore_index=True)\n",
    "\n",
    "#fix for id problems and taking into account only dates\n",
    "df['order_id']= df.submit_date.apply(lambda x:x.toordinal()) \n",
    "\n",
    "#Days of difference between orders for customer and for cat\n",
    "df['days_bet'] = (df.submit_date -df.groupby('customer_id').submit_date.transform('min')).dt.days"
   ]
  },
  {
   "cell_type": "code",
   "execution_count": 16,
   "id": "4707549b",
   "metadata": {
    "execution": {
     "iopub.execute_input": "2024-07-06T11:12:49.884320Z",
     "iopub.status.busy": "2024-07-06T11:12:49.883588Z",
     "iopub.status.idle": "2024-07-06T11:13:04.771349Z",
     "shell.execute_reply": "2024-07-06T11:13:04.771735Z"
    },
    "papermill": {
     "duration": 14.913488,
     "end_time": "2024-07-06T11:13:04.771892",
     "exception": false,
     "start_time": "2024-07-06T11:12:49.858404",
     "status": "completed"
    },
    "tags": []
   },
   "outputs": [],
   "source": [
    "#This calculate in res the difference between consecutive orders and with the agg we calculate all metrics\n",
    "df['res'] = df.groupby(by=['customer_id', 'cat'])['days_bet'].diff()\n",
    "df_grouped = df.groupby(by=['city', 'customer_id', 'cat']).agg({'res': [np.min, np.max, np.mean, np.median, np.std],\n",
    "                                                                    'order_id': [lambda x: x.nunique()], \n",
    "                                                                    'gmv_usd': [np.mean],\n",
    "                                                                    'cant': [np.mean],\n",
    "                                                                    'submit_date': [np.max, lambda x: (x.max()-x.min()).days, lambda x: (datetime.datetime.today() - x.max()).days, np.min]\n",
    "                                                                    }).reset_index()"
   ]
  },
  {
   "cell_type": "code",
   "execution_count": 17,
   "id": "0be70a14",
   "metadata": {
    "execution": {
     "iopub.execute_input": "2024-07-06T11:13:04.820193Z",
     "iopub.status.busy": "2024-07-06T11:13:04.819291Z",
     "iopub.status.idle": "2024-07-06T11:13:04.823413Z",
     "shell.execute_reply": "2024-07-06T11:13:04.823042Z"
    },
    "papermill": {
     "duration": 0.028027,
     "end_time": "2024-07-06T11:13:04.823512",
     "exception": false,
     "start_time": "2024-07-06T11:13:04.795485",
     "status": "completed"
    },
    "tags": []
   },
   "outputs": [],
   "source": [
    "#Finally we define everything in a df2 for further processing\n",
    "df2 = df_grouped.copy()\n",
    "\n",
    "df2.columns = ['city', 'customer_id', 'cat', 'min_diff_days', 'max_diff_days', 'avg_diff_days', 'median_diff_days', 'stdev_diff_days',\n",
    "               'num_orders', 'aov_cat_usd', 'avg_cant_cat', 'last_order_date', 'diff_from_last_to_first_order', 'days_since_last_order','first_order_date']"
   ]
  },
  {
   "cell_type": "code",
   "execution_count": 18,
   "id": "d93d2fa1",
   "metadata": {
    "execution": {
     "iopub.execute_input": "2024-07-06T11:13:04.867576Z",
     "iopub.status.busy": "2024-07-06T11:13:04.867043Z",
     "iopub.status.idle": "2024-07-06T11:13:04.869173Z",
     "shell.execute_reply": "2024-07-06T11:13:04.868711Z"
    },
    "papermill": {
     "duration": 0.025434,
     "end_time": "2024-07-06T11:13:04.869269",
     "exception": false,
     "start_time": "2024-07-06T11:13:04.843835",
     "status": "completed"
    },
    "tags": []
   },
   "outputs": [],
   "source": [
    "def diff_month(d1, d2):\n",
    "    return (d1.year - d2.year) * 12 + d1.month - d2.month"
   ]
  },
  {
   "cell_type": "code",
   "execution_count": 19,
   "id": "e62aa99a",
   "metadata": {
    "execution": {
     "iopub.execute_input": "2024-07-06T11:13:04.919537Z",
     "iopub.status.busy": "2024-07-06T11:13:04.918962Z",
     "iopub.status.idle": "2024-07-06T11:13:04.921128Z",
     "shell.execute_reply": "2024-07-06T11:13:04.920646Z"
    },
    "papermill": {
     "duration": 0.031638,
     "end_time": "2024-07-06T11:13:04.921227",
     "exception": false,
     "start_time": "2024-07-06T11:13:04.889589",
     "status": "completed"
    },
    "tags": []
   },
   "outputs": [],
   "source": [
    "def cat_metrics_2(cat):\n",
    "    df_cat = df2[df2.cat == cat].copy()\n",
    "    \n",
    "    df_cat['adjust_std'] = pd.qcut(df_cat.stdev_diff_days, 10, labels=[1,0.9,0.8,0.7,0.6,0.5,0.4,0.3,0.2,0.1])\n",
    "    df_cat[[\"adjust_std\"]] = df_cat[[\"adjust_std\"]].astype(float)\n",
    "    \n",
    "    df_cat['adjust_cohort'] = [1 if ((x[13]) - (x[5]+x[7]) <= 0) else  \n",
    "                 1/(((x[13]) - x[5])/x[7]) if x[7] != 0 else\n",
    "                 1/(((x[13]) - x[5])/np.round(1+(x[5]*0.7)))\n",
    "                 for x in df_cat.values]\n",
    "    \n",
    "    df_cat[\"margen\"] = [margenes[(margenes.category == x[2]) & (margenes.region_code == x[0])][\"net_margin\"].unique()[0]/100 for x in df_cat.values]\n",
    "    #mirar aca\n",
    "    df_cat['adjust_retention'] = [1 if diff_month(x[11],x[14])+1 >= 10 else \n",
    "                                  retention_aux[(retention_aux.category == x[2]) & (retention_aux.region_code == x[0])][str(diff_month(x[11],x[14])+1)].unique()[0] for x in df_cat.values]\n",
    "    \n",
    "    df_cat['median_diff_days_adjusted'] = 365/df_cat.median_diff_days\n",
    "    \n",
    "    df_cat[\"churned\"] = [0 if ((x[13]) - (x[5]+x[7]*2) <= 0) else 1 for x in df_cat.values]\n",
    "    \n",
    "    df_cat[['avg_diff_days','stdev_diff_days']] = df_cat[['avg_diff_days','stdev_diff_days']].fillna(0)\n",
    "\n",
    "    df_cat['churned_date'] = [(x[11] + datetime.timedelta(days=int(x[5]+x[7]*2))).strftime('%Y-%m-%d') for x in df_cat.values] #1 months\n",
    "    \n",
    "    df_cat[\"CLTV\"] = df_cat.median_diff_days_adjusted * df_cat.margen * df_cat.aov_cat_usd * df_cat.adjust_retention * df_cat.adjust_std * df_cat.adjust_cohort\n",
    "    df_cat[\"CLTV_sin_margen\"] = df_cat.median_diff_days_adjusted * df_cat.aov_cat_usd * df_cat.adjust_retention * df_cat.adjust_std * df_cat.adjust_cohort\n",
    "    df_cat[\"CLTV_sin_churn\"] = df_cat.median_diff_days_adjusted * df_cat.margen * df_cat.aov_cat_usd * df_cat.adjust_retention * df_cat.adjust_std\n",
    "    \n",
    "    df_cat['cash_margin'] = df_cat.aov_cat_usd * df_cat.margen\n",
    "\n",
    "    return df_cat"
   ]
  },
  {
   "cell_type": "code",
   "execution_count": 20,
   "id": "8d44cbdb",
   "metadata": {
    "execution": {
     "iopub.execute_input": "2024-07-06T11:13:04.968100Z",
     "iopub.status.busy": "2024-07-06T11:13:04.967454Z",
     "iopub.status.idle": "2024-07-06T11:13:37.193707Z",
     "shell.execute_reply": "2024-07-06T11:13:37.194097Z"
    },
    "papermill": {
     "duration": 32.252477,
     "end_time": "2024-07-06T11:13:37.194238",
     "exception": false,
     "start_time": "2024-07-06T11:13:04.941761",
     "status": "completed"
    },
    "tags": []
   },
   "outputs": [
    {
     "name": "stdout",
     "output_type": "stream",
     "text": [
      "Bebidas\n"
     ]
    },
    {
     "name": "stdout",
     "output_type": "stream",
     "text": [
      "Done Bebidas\n",
      "Carnes, Aves e Peixes\n"
     ]
    },
    {
     "name": "stdout",
     "output_type": "stream",
     "text": [
      "Done Carnes, Aves e Peixes\n",
      "Congelados\n"
     ]
    },
    {
     "name": "stdout",
     "output_type": "stream",
     "text": [
      "Done Congelados\n",
      "Descartáveis\n"
     ]
    },
    {
     "name": "stdout",
     "output_type": "stream",
     "text": [
      "Done Descartáveis\n",
      "Frutas e Verduras\n"
     ]
    },
    {
     "name": "stdout",
     "output_type": "stream",
     "text": [
      "Done Frutas e Verduras\n",
      "Laticínios e Ovos\n"
     ]
    },
    {
     "name": "stdout",
     "output_type": "stream",
     "text": [
      "Done Laticínios e Ovos\n",
      "Limpeza e Higiene\n"
     ]
    },
    {
     "name": "stdout",
     "output_type": "stream",
     "text": [
      "Done Limpeza e Higiene\n",
      "Mercearia\n"
     ]
    },
    {
     "name": "stdout",
     "output_type": "stream",
     "text": [
      "Done Mercearia\n"
     ]
    }
   ],
   "source": [
    "df3 = pd.DataFrame()\n",
    "\n",
    "for cat in df2.cat.unique():\n",
    "   print(cat)\n",
    "   if cat not in ('Frubana prime','¡productos nuevos!','No value','Mesa & cocina','Insumos internos cat','Despensa'):\n",
    "      df3 = df3.append(cat_metrics_2(cat))\n",
    "   print(f'Done {cat}')"
   ]
  },
  {
   "cell_type": "code",
   "execution_count": 21,
   "id": "32f67bd5",
   "metadata": {
    "execution": {
     "iopub.execute_input": "2024-07-06T11:13:37.248247Z",
     "iopub.status.busy": "2024-07-06T11:13:37.247061Z",
     "iopub.status.idle": "2024-07-06T11:13:37.268322Z",
     "shell.execute_reply": "2024-07-06T11:13:37.267890Z"
    },
    "papermill": {
     "duration": 0.048502,
     "end_time": "2024-07-06T11:13:37.268439",
     "exception": false,
     "start_time": "2024-07-06T11:13:37.219937",
     "status": "completed"
    },
    "tags": []
   },
   "outputs": [
    {
     "data": {
      "text/html": [
       "<div>\n",
       "<style scoped>\n",
       "    .dataframe tbody tr th:only-of-type {\n",
       "        vertical-align: middle;\n",
       "    }\n",
       "\n",
       "    .dataframe tbody tr th {\n",
       "        vertical-align: top;\n",
       "    }\n",
       "\n",
       "    .dataframe thead th {\n",
       "        text-align: right;\n",
       "    }\n",
       "</style>\n",
       "<table border=\"1\" class=\"dataframe\">\n",
       "  <thead>\n",
       "    <tr style=\"text-align: right;\">\n",
       "      <th></th>\n",
       "      <th>city</th>\n",
       "      <th>customer_id</th>\n",
       "      <th>cat</th>\n",
       "      <th>min_diff_days</th>\n",
       "      <th>max_diff_days</th>\n",
       "      <th>avg_diff_days</th>\n",
       "      <th>median_diff_days</th>\n",
       "      <th>stdev_diff_days</th>\n",
       "      <th>num_orders</th>\n",
       "      <th>aov_cat_usd</th>\n",
       "      <th>...</th>\n",
       "      <th>adjust_cohort</th>\n",
       "      <th>margen</th>\n",
       "      <th>adjust_retention</th>\n",
       "      <th>median_diff_days_adjusted</th>\n",
       "      <th>churned</th>\n",
       "      <th>churned_date</th>\n",
       "      <th>CLTV</th>\n",
       "      <th>CLTV_sin_margen</th>\n",
       "      <th>CLTV_sin_churn</th>\n",
       "      <th>cash_margin</th>\n",
       "    </tr>\n",
       "  </thead>\n",
       "  <tbody>\n",
       "    <tr>\n",
       "      <th>0</th>\n",
       "      <td>BHZ</td>\n",
       "      <td>63773239</td>\n",
       "      <td>Bebidas</td>\n",
       "      <td>1.0</td>\n",
       "      <td>36.0</td>\n",
       "      <td>9.666667</td>\n",
       "      <td>7.0</td>\n",
       "      <td>7.722293</td>\n",
       "      <td>73</td>\n",
       "      <td>47.397058</td>\n",
       "      <td>...</td>\n",
       "      <td>0.399429</td>\n",
       "      <td>0.224</td>\n",
       "      <td>1.000</td>\n",
       "      <td>52.142857</td>\n",
       "      <td>1</td>\n",
       "      <td>2024-07-02</td>\n",
       "      <td>199.010621</td>\n",
       "      <td>888.440270</td>\n",
       "      <td>498.237877</td>\n",
       "      <td>10.616941</td>\n",
       "    </tr>\n",
       "    <tr>\n",
       "      <th>8</th>\n",
       "      <td>BHZ</td>\n",
       "      <td>63775372</td>\n",
       "      <td>Bebidas</td>\n",
       "      <td>1.0</td>\n",
       "      <td>72.0</td>\n",
       "      <td>13.326531</td>\n",
       "      <td>8.0</td>\n",
       "      <td>14.306740</td>\n",
       "      <td>50</td>\n",
       "      <td>25.756800</td>\n",
       "      <td>...</td>\n",
       "      <td>0.369937</td>\n",
       "      <td>0.224</td>\n",
       "      <td>1.000</td>\n",
       "      <td>45.625000</td>\n",
       "      <td>1</td>\n",
       "      <td>2024-06-25</td>\n",
       "      <td>58.428080</td>\n",
       "      <td>260.839643</td>\n",
       "      <td>157.940697</td>\n",
       "      <td>5.769523</td>\n",
       "    </tr>\n",
       "    <tr>\n",
       "      <th>16</th>\n",
       "      <td>BHZ</td>\n",
       "      <td>63785947</td>\n",
       "      <td>Bebidas</td>\n",
       "      <td>4.0</td>\n",
       "      <td>23.0</td>\n",
       "      <td>15.333333</td>\n",
       "      <td>19.0</td>\n",
       "      <td>8.262364</td>\n",
       "      <td>7</td>\n",
       "      <td>8.080601</td>\n",
       "      <td>...</td>\n",
       "      <td>0.014156</td>\n",
       "      <td>0.224</td>\n",
       "      <td>0.953</td>\n",
       "      <td>19.210526</td>\n",
       "      <td>1</td>\n",
       "      <td>2022-12-16</td>\n",
       "      <td>0.375278</td>\n",
       "      <td>1.675349</td>\n",
       "      <td>26.510252</td>\n",
       "      <td>1.810055</td>\n",
       "    </tr>\n",
       "    <tr>\n",
       "      <th>24</th>\n",
       "      <td>BHZ</td>\n",
       "      <td>63787604</td>\n",
       "      <td>Bebidas</td>\n",
       "      <td>24.0</td>\n",
       "      <td>587.0</td>\n",
       "      <td>305.500000</td>\n",
       "      <td>305.5</td>\n",
       "      <td>398.101118</td>\n",
       "      <td>3</td>\n",
       "      <td>25.730526</td>\n",
       "      <td>...</td>\n",
       "      <td>1.000000</td>\n",
       "      <td>0.224</td>\n",
       "      <td>1.000</td>\n",
       "      <td>1.194763</td>\n",
       "      <td>0</td>\n",
       "      <td>2027-05-14</td>\n",
       "      <td>0.688618</td>\n",
       "      <td>3.074187</td>\n",
       "      <td>0.688618</td>\n",
       "      <td>5.763638</td>\n",
       "    </tr>\n",
       "    <tr>\n",
       "      <th>31</th>\n",
       "      <td>BHZ</td>\n",
       "      <td>63790041</td>\n",
       "      <td>Bebidas</td>\n",
       "      <td>1.0</td>\n",
       "      <td>102.0</td>\n",
       "      <td>17.303030</td>\n",
       "      <td>8.0</td>\n",
       "      <td>21.143091</td>\n",
       "      <td>34</td>\n",
       "      <td>44.999505</td>\n",
       "      <td>...</td>\n",
       "      <td>0.386550</td>\n",
       "      <td>0.224</td>\n",
       "      <td>1.000</td>\n",
       "      <td>45.625000</td>\n",
       "      <td>1</td>\n",
       "      <td>2024-06-23</td>\n",
       "      <td>88.886099</td>\n",
       "      <td>396.812943</td>\n",
       "      <td>229.947468</td>\n",
       "      <td>10.079889</td>\n",
       "    </tr>\n",
       "  </tbody>\n",
       "</table>\n",
       "<p>5 rows × 26 columns</p>\n",
       "</div>"
      ],
      "text/plain": [
       "   city  customer_id      cat  min_diff_days  max_diff_days  avg_diff_days  \\\n",
       "0   BHZ     63773239  Bebidas            1.0           36.0       9.666667   \n",
       "8   BHZ     63775372  Bebidas            1.0           72.0      13.326531   \n",
       "16  BHZ     63785947  Bebidas            4.0           23.0      15.333333   \n",
       "24  BHZ     63787604  Bebidas           24.0          587.0     305.500000   \n",
       "31  BHZ     63790041  Bebidas            1.0          102.0      17.303030   \n",
       "\n",
       "    median_diff_days  stdev_diff_days  num_orders  aov_cat_usd  ...  \\\n",
       "0                7.0         7.722293          73    47.397058  ...   \n",
       "8                8.0        14.306740          50    25.756800  ...   \n",
       "16              19.0         8.262364           7     8.080601  ...   \n",
       "24             305.5       398.101118           3    25.730526  ...   \n",
       "31               8.0        21.143091          34    44.999505  ...   \n",
       "\n",
       "    adjust_cohort margen  adjust_retention  median_diff_days_adjusted churned  \\\n",
       "0        0.399429  0.224             1.000                  52.142857       1   \n",
       "8        0.369937  0.224             1.000                  45.625000       1   \n",
       "16       0.014156  0.224             0.953                  19.210526       1   \n",
       "24       1.000000  0.224             1.000                   1.194763       0   \n",
       "31       0.386550  0.224             1.000                  45.625000       1   \n",
       "\n",
       "    churned_date        CLTV  CLTV_sin_margen  CLTV_sin_churn  cash_margin  \n",
       "0     2024-07-02  199.010621       888.440270      498.237877    10.616941  \n",
       "8     2024-06-25   58.428080       260.839643      157.940697     5.769523  \n",
       "16    2022-12-16    0.375278         1.675349       26.510252     1.810055  \n",
       "24    2027-05-14    0.688618         3.074187        0.688618     5.763638  \n",
       "31    2024-06-23   88.886099       396.812943      229.947468    10.079889  \n",
       "\n",
       "[5 rows x 26 columns]"
      ]
     },
     "execution_count": 21,
     "metadata": {},
     "output_type": "execute_result"
    }
   ],
   "source": [
    "df3.head(5)"
   ]
  },
  {
   "cell_type": "markdown",
   "id": "be0cad5a",
   "metadata": {
    "papermill": {
     "duration": 0.023063,
     "end_time": "2024-07-06T11:13:37.317625",
     "exception": false,
     "start_time": "2024-07-06T11:13:37.294562",
     "status": "completed"
    },
    "tags": []
   },
   "source": [
    "# Aca empieza el analisis global by customer "
   ]
  },
  {
   "cell_type": "code",
   "execution_count": 22,
   "id": "b78f5d92",
   "metadata": {
    "execution": {
     "iopub.execute_input": "2024-07-06T11:13:37.369258Z",
     "iopub.status.busy": "2024-07-06T11:13:37.367937Z",
     "iopub.status.idle": "2024-07-06T11:13:37.383802Z",
     "shell.execute_reply": "2024-07-06T11:13:37.383441Z"
    },
    "papermill": {
     "duration": 0.043089,
     "end_time": "2024-07-06T11:13:37.383909",
     "exception": false,
     "start_time": "2024-07-06T11:13:37.340820",
     "status": "completed"
    },
    "tags": []
   },
   "outputs": [],
   "source": [
    "#Here, i group the df3 (the df with the whole info by cat to customer lvl)\n",
    "df_new3 = df3[['city','customer_id','aov_cat_usd','cash_margin','CLTV_sin_churn','churned']].groupby(by=['city','customer_id']).sum().reset_index()"
   ]
  },
  {
   "cell_type": "code",
   "execution_count": 23,
   "id": "9e355afb",
   "metadata": {
    "execution": {
     "iopub.execute_input": "2024-07-06T11:13:37.437951Z",
     "iopub.status.busy": "2024-07-06T11:13:37.436470Z",
     "iopub.status.idle": "2024-07-06T11:13:40.390914Z",
     "shell.execute_reply": "2024-07-06T11:13:40.391256Z"
    },
    "papermill": {
     "duration": 2.984374,
     "end_time": "2024-07-06T11:13:40.391398",
     "exception": false,
     "start_time": "2024-07-06T11:13:37.407024",
     "status": "completed"
    },
    "tags": []
   },
   "outputs": [],
   "source": [
    "#The processing data for customer level is made here\n",
    "\n",
    "df_new = df.groupby(by=['city','customer_id','order_id','submit_date']).sum().reset_index()\n",
    "\n",
    "df_new['days_bet'] = (df_new.submit_date -df_new.groupby('customer_id').submit_date.transform('min')).dt.days\n",
    "\n",
    "#This calculate in res the difference between consecutive orders and with the agg we calculate all metrics\n",
    "df_new['res'] = df_new.groupby(by=['customer_id'])['days_bet'].diff()\n",
    "df_grouped_2 = df_new.groupby(by=['city', 'customer_id']).agg({'res': [np.min, np.max, np.mean, np.median, np.std],\n",
    "                                                                    'order_id': [lambda x: x.nunique()], \n",
    "                                                                    'gmv_usd': [np.mean],\n",
    "                                                                    'cant': [np.mean],\n",
    "                                                                    'submit_date': [np.max, lambda x: (x.max()-x.min()).days, lambda x: (datetime.datetime.today() - x.max()).days, np.min]\n",
    "                                                                    }).droplevel(0, axis=\"columns\").reset_index()"
   ]
  },
  {
   "cell_type": "code",
   "execution_count": 24,
   "id": "b5eba9f6",
   "metadata": {
    "execution": {
     "iopub.execute_input": "2024-07-06T11:13:40.441758Z",
     "iopub.status.busy": "2024-07-06T11:13:40.441111Z",
     "iopub.status.idle": "2024-07-06T11:13:40.443922Z",
     "shell.execute_reply": "2024-07-06T11:13:40.443555Z"
    },
    "papermill": {
     "duration": 0.029228,
     "end_time": "2024-07-06T11:13:40.444017",
     "exception": false,
     "start_time": "2024-07-06T11:13:40.414789",
     "status": "completed"
    },
    "tags": []
   },
   "outputs": [],
   "source": [
    "#Finally we define everything in a df_new2 at level customer for further processing\n",
    "df_new2 = df_grouped_2.copy()\n",
    "\n",
    "df_new2.columns = ['city', 'customer_id', 'min_diff_days', 'max_diff_days', 'avg_diff_days', 'median_diff_days', 'stdev_diff_days',\n",
    "               'num_orders', 'aov_ALL_usd', 'ALL_avg_cant', 'last_order_date', 'diff_from_last_to_first_order', 'days_since_last_order','first_order_date']"
   ]
  },
  {
   "cell_type": "code",
   "execution_count": 25,
   "id": "e3c64298",
   "metadata": {
    "execution": {
     "iopub.execute_input": "2024-07-06T11:13:40.496079Z",
     "iopub.status.busy": "2024-07-06T11:13:40.495397Z",
     "iopub.status.idle": "2024-07-06T11:13:41.910038Z",
     "shell.execute_reply": "2024-07-06T11:13:41.910423Z"
    },
    "papermill": {
     "duration": 1.443635,
     "end_time": "2024-07-06T11:13:41.910578",
     "exception": false,
     "start_time": "2024-07-06T11:13:40.466943",
     "status": "completed"
    },
    "tags": []
   },
   "outputs": [],
   "source": [
    "#Finally we calculate the next parameters and also integred with df_new3 where we can have the info grouped by customer about the category performance\n",
    "df_new2[\"churned_ALL\"] = [0 if ((x[12]) - (x[4]+x[6]*2) <= 0) else 1 for x in df_new2.values]\n",
    "\n",
    "df_new2['adjust_std'] = pd.qcut(df_new2.stdev_diff_days, 10, labels=[1,0.9,0.8,0.7,0.6,0.5,0.4,0.3,0.2,0.1])\n",
    "df_new2[[\"adjust_std\"]] = df_new2[[\"adjust_std\"]].astype(float)\n",
    "\n",
    "df_new2['adjust_retention'] = [1 if diff_month(x[10],x[13])+1 >= 10 else \n",
    "                                retention_aux[(retention_aux.region_code == x[0])][str(diff_month(x[10],x[13])+1)].max() for x in df_new2.values]\n",
    "\n",
    "df_new2['median_diff_days_adjusted'] = 365/df_new2.median_diff_days\n",
    "\n",
    "#this merge is to include the info for the total cash_margin, how many cats is churned and the total cat CLTV\n",
    "df_new2 = df_new2.merge(df_new3[['customer_id','cash_margin','CLTV_sin_churn','churned']], on='customer_id', how='left')"
   ]
  },
  {
   "cell_type": "code",
   "execution_count": 26,
   "id": "f791a962",
   "metadata": {
    "execution": {
     "iopub.execute_input": "2024-07-06T11:13:41.965751Z",
     "iopub.status.busy": "2024-07-06T11:13:41.964955Z",
     "iopub.status.idle": "2024-07-06T11:13:42.018913Z",
     "shell.execute_reply": "2024-07-06T11:13:42.018405Z"
    },
    "papermill": {
     "duration": 0.081991,
     "end_time": "2024-07-06T11:13:42.019028",
     "exception": false,
     "start_time": "2024-07-06T11:13:41.937037",
     "status": "completed"
    },
    "tags": []
   },
   "outputs": [
    {
     "name": "stdout",
     "output_type": "stream",
     "text": [
      "4833154.3170566335 4803606.080422637\n"
     ]
    }
   ],
   "source": [
    "#We calculate now the CLTV taking into account the global behavior of the customer\n",
    "df_new2[\"ALL_CLTV_sin_churn\"] = df_new2.median_diff_days_adjusted * df_new2.adjust_retention * df_new2.adjust_std * df_new2.cash_margin / 2\n",
    "df_new2[['CLTV_sin_churn','ALL_CLTV_sin_churn']] = df_new2[['CLTV_sin_churn','ALL_CLTV_sin_churn']].fillna(0)\n",
    "\n",
    "#df_new2[\"CLTV\"] = df_new2.median_diff_days_adjusted * df_new2.margen * df_new2.aov_cat_usd * df_new2.adjust_retention * df_new2.adjust_std * df_new2.adjust_cohort\n",
    "#df_new2[\"CLTV_sin_margen\"] = df_new2.median_diff_days_adjusted * df_new2.aov_cat_usd * df_new2.adjust_retention * df_new2.adjust_std * df_new2.adjust_cohort\n",
    "\n",
    "#If the Total Cat CLTV is NA because it is so few orders for each category, we create a Adjust_CLTV to include the global or ALL_CLTV_sin_churn instead of the NULL value\n",
    "df_new2['Adjust_CLTV'] = [x[21] if x[19] == 0 else x[19] for x in df_new2.values]\n",
    "\n",
    "print(df_new2.Adjust_CLTV.sum(),df_new2.CLTV_sin_churn.sum())"
   ]
  },
  {
   "cell_type": "code",
   "execution_count": 27,
   "id": "6bb6eef0",
   "metadata": {
    "execution": {
     "iopub.execute_input": "2024-07-06T11:13:42.078001Z",
     "iopub.status.busy": "2024-07-06T11:13:42.077172Z",
     "iopub.status.idle": "2024-07-06T11:13:42.167550Z",
     "shell.execute_reply": "2024-07-06T11:13:42.167133Z"
    },
    "papermill": {
     "duration": 0.121317,
     "end_time": "2024-07-06T11:13:42.167659",
     "exception": false,
     "start_time": "2024-07-06T11:13:42.046342",
     "status": "completed"
    },
    "tags": []
   },
   "outputs": [],
   "source": [
    "#Finally, we calculate the ALL_churned_date based on the general behavior of the customer\n",
    "df_new2[['avg_diff_days','stdev_diff_days']] = df_new2[['avg_diff_days','stdev_diff_days']].fillna(0)\n",
    "df_new2['ALL_churned_date'] = [(x[10] + datetime.timedelta(days=int(x[4]+x[6]*2))).strftime('%Y-%m-%d') for x in df_new2.values] #1 months"
   ]
  },
  {
   "cell_type": "markdown",
   "id": "9fc7c303",
   "metadata": {
    "papermill": {
     "duration": 0.02366,
     "end_time": "2024-07-06T11:13:42.215283",
     "exception": false,
     "start_time": "2024-07-06T11:13:42.191623",
     "status": "completed"
    },
    "tags": []
   },
   "source": [
    "# Final processing of the file to export"
   ]
  },
  {
   "cell_type": "code",
   "execution_count": 28,
   "id": "20300663",
   "metadata": {
    "execution": {
     "iopub.execute_input": "2024-07-06T11:13:42.272271Z",
     "iopub.status.busy": "2024-07-06T11:13:42.271585Z",
     "iopub.status.idle": "2024-07-06T11:13:42.286203Z",
     "shell.execute_reply": "2024-07-06T11:13:42.286572Z"
    },
    "papermill": {
     "duration": 0.047746,
     "end_time": "2024-07-06T11:13:42.286719",
     "exception": false,
     "start_time": "2024-07-06T11:13:42.238973",
     "status": "completed"
    },
    "tags": []
   },
   "outputs": [],
   "source": [
    "#We will merge the df_new2 with the clear_buyers in order to filter by restaurants and take away kams (also to include the microsegment)\n",
    "df_new2 = df_new2.merge(clear_buyers[clear_buyers.registered_city == city][['customer_id','business_type','microsegment_name','is_kam']], on='customer_id', how='left')\n",
    "df_new2_end = df_new2[(df_new2.is_kam == 0)].copy() #df_new2[(df_new2.business_type == 'Restaurante') & (df_new2.is_kam == 0)].copy()"
   ]
  },
  {
   "cell_type": "code",
   "execution_count": 29,
   "id": "1a6002a2",
   "metadata": {
    "execution": {
     "iopub.execute_input": "2024-07-06T11:13:42.346611Z",
     "iopub.status.busy": "2024-07-06T11:13:42.345803Z",
     "iopub.status.idle": "2024-07-06T11:13:42.355583Z",
     "shell.execute_reply": "2024-07-06T11:13:42.355151Z"
    },
    "papermill": {
     "duration": 0.041399,
     "end_time": "2024-07-06T11:13:42.355699",
     "exception": false,
     "start_time": "2024-07-06T11:13:42.314300",
     "status": "completed"
    },
    "tags": []
   },
   "outputs": [],
   "source": [
    "#This cell is to calculate the cumulative sum to create the tiers further\n",
    "df_new2_end = df_new2_end.sort_values(['Adjust_CLTV'], ascending=[False])\n",
    "df_new2_end['cumsum'] = df_new2_end.groupby('city')['Adjust_CLTV'].cumsum()\n",
    "df_new2_end['run_pct'] = df_new2_end.groupby('city')['Adjust_CLTV'].apply(lambda x: (x/x.sum()).cumsum())"
   ]
  },
  {
   "cell_type": "code",
   "execution_count": 30,
   "id": "7c02c3ae",
   "metadata": {
    "execution": {
     "iopub.execute_input": "2024-07-06T11:13:42.419344Z",
     "iopub.status.busy": "2024-07-06T11:13:42.417576Z",
     "iopub.status.idle": "2024-07-06T11:13:42.422359Z",
     "shell.execute_reply": "2024-07-06T11:13:42.421983Z"
    },
    "papermill": {
     "duration": 0.039239,
     "end_time": "2024-07-06T11:13:42.422463",
     "exception": false,
     "start_time": "2024-07-06T11:13:42.383224",
     "status": "completed"
    },
    "tags": []
   },
   "outputs": [],
   "source": [
    "#This conditional create the tiers\n",
    "df_new2_end['tier'] = ['A' if x <= 0.1 else\n",
    "                       'B' if x <= 0.2 else\n",
    "                       'C' if x <= 0.3 else\n",
    "                       'D' if x <= 0.4 else\n",
    "                       'E' if x <= 0.5 else\n",
    "                       'F' if x <= 0.6 else\n",
    "                       'G' if x <= 0.7 else\n",
    "                       'H' if x <= 0.8 else\n",
    "                       'I' if x <= 0.9 else\n",
    "                       'J' for x in df_new2_end.run_pct.values]"
   ]
  },
  {
   "cell_type": "code",
   "execution_count": 31,
   "id": "f51c7f07",
   "metadata": {
    "execution": {
     "iopub.execute_input": "2024-07-06T11:13:42.476502Z",
     "iopub.status.busy": "2024-07-06T11:13:42.475965Z",
     "iopub.status.idle": "2024-07-06T11:13:42.478686Z",
     "shell.execute_reply": "2024-07-06T11:13:42.478244Z"
    },
    "papermill": {
     "duration": 0.032053,
     "end_time": "2024-07-06T11:13:42.478789",
     "exception": false,
     "start_time": "2024-07-06T11:13:42.446736",
     "status": "completed"
    },
    "tags": []
   },
   "outputs": [
    {
     "data": {
      "text/plain": [
       "J    3609\n",
       "I     972\n",
       "H     646\n",
       "G     471\n",
       "F     356\n",
       "E     277\n",
       "D     222\n",
       "C     172\n",
       "B     125\n",
       "A      55\n",
       "Name: tier, dtype: int64"
      ]
     },
     "execution_count": 31,
     "metadata": {},
     "output_type": "execute_result"
    }
   ],
   "source": [
    "df_new2_end.tier.value_counts()"
   ]
  },
  {
   "cell_type": "code",
   "execution_count": 32,
   "id": "8f2deeca",
   "metadata": {
    "execution": {
     "iopub.execute_input": "2024-07-06T11:13:42.532244Z",
     "iopub.status.busy": "2024-07-06T11:13:42.531552Z",
     "iopub.status.idle": "2024-07-06T11:13:42.533240Z",
     "shell.execute_reply": "2024-07-06T11:13:42.533610Z"
    },
    "papermill": {
     "duration": 0.030642,
     "end_time": "2024-07-06T11:13:42.533739",
     "exception": false,
     "start_time": "2024-07-06T11:13:42.503097",
     "status": "completed"
    },
    "tags": []
   },
   "outputs": [],
   "source": [
    "df_new2_end.rename(columns={'num_orders': 'ALL_num_orders', 'CLTV_sin_churn': 'TOTAL_CAT_CLTV_sin_churn'}, inplace=True)\n",
    "\n",
    "df3.rename(columns={'num_orders': 'num_orders_cat', 'churned': 'churned_cat','CLTV_sin_churn':'CAT_CLTV_sin_churn'}, inplace=True)"
   ]
  },
  {
   "cell_type": "code",
   "execution_count": 33,
   "id": "ab38c6aa",
   "metadata": {
    "execution": {
     "iopub.execute_input": "2024-07-06T11:13:42.587203Z",
     "iopub.status.busy": "2024-07-06T11:13:42.586659Z",
     "iopub.status.idle": "2024-07-06T11:13:42.588989Z",
     "shell.execute_reply": "2024-07-06T11:13:42.589344Z"
    },
    "papermill": {
     "duration": 0.031121,
     "end_time": "2024-07-06T11:13:42.589474",
     "exception": false,
     "start_time": "2024-07-06T11:13:42.558353",
     "status": "completed"
    },
    "tags": []
   },
   "outputs": [
    {
     "data": {
      "text/plain": [
       "Index(['city', 'customer_id', 'min_diff_days', 'max_diff_days',\n",
       "       'avg_diff_days', 'median_diff_days', 'stdev_diff_days',\n",
       "       'ALL_num_orders', 'aov_ALL_usd', 'ALL_avg_cant', 'last_order_date',\n",
       "       'diff_from_last_to_first_order', 'days_since_last_order',\n",
       "       'first_order_date', 'churned_ALL', 'adjust_std', 'adjust_retention',\n",
       "       'median_diff_days_adjusted', 'cash_margin', 'TOTAL_CAT_CLTV_sin_churn',\n",
       "       'churned', 'ALL_CLTV_sin_churn', 'Adjust_CLTV', 'ALL_churned_date',\n",
       "       'business_type', 'microsegment_name', 'is_kam', 'cumsum', 'run_pct',\n",
       "       'tier'],\n",
       "      dtype='object')"
      ]
     },
     "execution_count": 33,
     "metadata": {},
     "output_type": "execute_result"
    }
   ],
   "source": [
    "df_new2_end.columns"
   ]
  },
  {
   "cell_type": "code",
   "execution_count": 34,
   "id": "6209bbe5",
   "metadata": {
    "execution": {
     "iopub.execute_input": "2024-07-06T11:13:42.644329Z",
     "iopub.status.busy": "2024-07-06T11:13:42.643566Z",
     "iopub.status.idle": "2024-07-06T11:13:42.655644Z",
     "shell.execute_reply": "2024-07-06T11:13:42.656049Z"
    },
    "papermill": {
     "duration": 0.04191,
     "end_time": "2024-07-06T11:13:42.656197",
     "exception": false,
     "start_time": "2024-07-06T11:13:42.614287",
     "status": "completed"
    },
    "tags": []
   },
   "outputs": [],
   "source": [
    "#We merge with data_farming so we get the info farming for each customer\n",
    "df_new2_end = df_new2_end[['customer_id','ALL_num_orders', 'aov_ALL_usd', 'churned_ALL', 'ALL_churned_date','TOTAL_CAT_CLTV_sin_churn',\n",
    "       'ALL_CLTV_sin_churn', 'Adjust_CLTV','tier', 'microsegment_name', 'business_type', 'is_kam']].merge(data_farming[data_farming.ciudad == city][['customer_id','owner']], on='customer_id', how='left')\n",
    "df_new2_end[['owner']] = df_new2_end[['owner']].fillna('No Farming')"
   ]
  },
  {
   "cell_type": "code",
   "execution_count": 35,
   "id": "1bf0d1f3",
   "metadata": {
    "execution": {
     "iopub.execute_input": "2024-07-06T11:13:42.713965Z",
     "iopub.status.busy": "2024-07-06T11:13:42.713301Z",
     "iopub.status.idle": "2024-07-06T11:13:42.715023Z",
     "shell.execute_reply": "2024-07-06T11:13:42.715365Z"
    },
    "papermill": {
     "duration": 0.03116,
     "end_time": "2024-07-06T11:13:42.715493",
     "exception": false,
     "start_time": "2024-07-06T11:13:42.684333",
     "status": "completed"
    },
    "tags": []
   },
   "outputs": [],
   "source": [
    "df_new2_end.rename(columns={'num_orders': 'ALL_num_orders', 'CLTV_sin_churn': 'TOTAL_CAT_CLTV_sin_churn'}, inplace=True)\n",
    "\n",
    "df3.rename(columns={'num_orders': 'num_orders_cat', 'churned': 'churned_cat','CLTV_sin_churn':'CAT_CLTV_sin_churn'}, inplace=True)"
   ]
  },
  {
   "cell_type": "code",
   "execution_count": 36,
   "id": "67a69909",
   "metadata": {
    "execution": {
     "iopub.execute_input": "2024-07-06T11:13:42.770421Z",
     "iopub.status.busy": "2024-07-06T11:13:42.769539Z",
     "iopub.status.idle": "2024-07-06T11:13:42.799030Z",
     "shell.execute_reply": "2024-07-06T11:13:42.799373Z"
    },
    "papermill": {
     "duration": 0.05908,
     "end_time": "2024-07-06T11:13:42.799520",
     "exception": false,
     "start_time": "2024-07-06T11:13:42.740440",
     "status": "completed"
    },
    "tags": []
   },
   "outputs": [],
   "source": [
    "df_final = df3[['city', 'customer_id', 'cat', 'min_diff_days', 'max_diff_days', 'avg_diff_days', 'median_diff_days', 'stdev_diff_days', 'num_orders_cat',\n",
    "       'aov_cat_usd','last_order_date', 'diff_from_last_to_first_order', 'days_since_last_order',\n",
    "       'first_order_date', 'adjust_std', 'adjust_cohort','adjust_retention', \n",
    "       'median_diff_days_adjusted', 'churned_cat', 'churned_date','CAT_CLTV_sin_churn']].merge(df_new2_end, on='customer_id', how='inner')"
   ]
  },
  {
   "cell_type": "code",
   "execution_count": 37,
   "id": "de128a2f",
   "metadata": {
    "execution": {
     "iopub.execute_input": "2024-07-06T11:13:42.854651Z",
     "iopub.status.busy": "2024-07-06T11:13:42.853534Z",
     "iopub.status.idle": "2024-07-06T11:13:42.874814Z",
     "shell.execute_reply": "2024-07-06T11:13:42.875211Z"
    },
    "papermill": {
     "duration": 0.050527,
     "end_time": "2024-07-06T11:13:42.875360",
     "exception": false,
     "start_time": "2024-07-06T11:13:42.824833",
     "status": "completed"
    },
    "tags": []
   },
   "outputs": [
    {
     "data": {
      "text/html": [
       "<div>\n",
       "<style scoped>\n",
       "    .dataframe tbody tr th:only-of-type {\n",
       "        vertical-align: middle;\n",
       "    }\n",
       "\n",
       "    .dataframe tbody tr th {\n",
       "        vertical-align: top;\n",
       "    }\n",
       "\n",
       "    .dataframe thead th {\n",
       "        text-align: right;\n",
       "    }\n",
       "</style>\n",
       "<table border=\"1\" class=\"dataframe\">\n",
       "  <thead>\n",
       "    <tr style=\"text-align: right;\">\n",
       "      <th></th>\n",
       "      <th>city</th>\n",
       "      <th>customer_id</th>\n",
       "      <th>cat</th>\n",
       "      <th>min_diff_days</th>\n",
       "      <th>max_diff_days</th>\n",
       "      <th>avg_diff_days</th>\n",
       "      <th>median_diff_days</th>\n",
       "      <th>stdev_diff_days</th>\n",
       "      <th>num_orders_cat</th>\n",
       "      <th>aov_cat_usd</th>\n",
       "      <th>...</th>\n",
       "      <th>churned_ALL</th>\n",
       "      <th>ALL_churned_date</th>\n",
       "      <th>TOTAL_CAT_CLTV_sin_churn</th>\n",
       "      <th>ALL_CLTV_sin_churn</th>\n",
       "      <th>Adjust_CLTV</th>\n",
       "      <th>tier</th>\n",
       "      <th>microsegment_name</th>\n",
       "      <th>business_type</th>\n",
       "      <th>is_kam</th>\n",
       "      <th>owner</th>\n",
       "    </tr>\n",
       "  </thead>\n",
       "  <tbody>\n",
       "    <tr>\n",
       "      <th>0</th>\n",
       "      <td>BHZ</td>\n",
       "      <td>63773239</td>\n",
       "      <td>Bebidas</td>\n",
       "      <td>1.0</td>\n",
       "      <td>36.0</td>\n",
       "      <td>9.666667</td>\n",
       "      <td>7.0</td>\n",
       "      <td>7.722293</td>\n",
       "      <td>73</td>\n",
       "      <td>47.397058</td>\n",
       "      <td>...</td>\n",
       "      <td>1</td>\n",
       "      <td>2024-06-17</td>\n",
       "      <td>3917.295316</td>\n",
       "      <td>3587.346191</td>\n",
       "      <td>3917.295316</td>\n",
       "      <td>B</td>\n",
       "      <td>Lanches</td>\n",
       "      <td>Restaurante</td>\n",
       "      <td>False</td>\n",
       "      <td>No Farming</td>\n",
       "    </tr>\n",
       "    <tr>\n",
       "      <th>1</th>\n",
       "      <td>BHZ</td>\n",
       "      <td>63773239</td>\n",
       "      <td>Carnes, Aves e Peixes</td>\n",
       "      <td>1.0</td>\n",
       "      <td>215.0</td>\n",
       "      <td>21.812500</td>\n",
       "      <td>7.5</td>\n",
       "      <td>46.506633</td>\n",
       "      <td>33</td>\n",
       "      <td>41.505582</td>\n",
       "      <td>...</td>\n",
       "      <td>1</td>\n",
       "      <td>2024-06-17</td>\n",
       "      <td>3917.295316</td>\n",
       "      <td>3587.346191</td>\n",
       "      <td>3917.295316</td>\n",
       "      <td>B</td>\n",
       "      <td>Lanches</td>\n",
       "      <td>Restaurante</td>\n",
       "      <td>False</td>\n",
       "      <td>No Farming</td>\n",
       "    </tr>\n",
       "    <tr>\n",
       "      <th>2</th>\n",
       "      <td>BHZ</td>\n",
       "      <td>63773239</td>\n",
       "      <td>Congelados</td>\n",
       "      <td>1.0</td>\n",
       "      <td>91.0</td>\n",
       "      <td>5.691057</td>\n",
       "      <td>4.0</td>\n",
       "      <td>9.924411</td>\n",
       "      <td>124</td>\n",
       "      <td>99.774669</td>\n",
       "      <td>...</td>\n",
       "      <td>1</td>\n",
       "      <td>2024-06-17</td>\n",
       "      <td>3917.295316</td>\n",
       "      <td>3587.346191</td>\n",
       "      <td>3917.295316</td>\n",
       "      <td>B</td>\n",
       "      <td>Lanches</td>\n",
       "      <td>Restaurante</td>\n",
       "      <td>False</td>\n",
       "      <td>No Farming</td>\n",
       "    </tr>\n",
       "    <tr>\n",
       "      <th>3</th>\n",
       "      <td>BHZ</td>\n",
       "      <td>63773239</td>\n",
       "      <td>Descartáveis</td>\n",
       "      <td>9.0</td>\n",
       "      <td>118.0</td>\n",
       "      <td>42.500000</td>\n",
       "      <td>27.5</td>\n",
       "      <td>41.850926</td>\n",
       "      <td>7</td>\n",
       "      <td>2.734135</td>\n",
       "      <td>...</td>\n",
       "      <td>1</td>\n",
       "      <td>2024-06-17</td>\n",
       "      <td>3917.295316</td>\n",
       "      <td>3587.346191</td>\n",
       "      <td>3917.295316</td>\n",
       "      <td>B</td>\n",
       "      <td>Lanches</td>\n",
       "      <td>Restaurante</td>\n",
       "      <td>False</td>\n",
       "      <td>No Farming</td>\n",
       "    </tr>\n",
       "    <tr>\n",
       "      <th>4</th>\n",
       "      <td>BHZ</td>\n",
       "      <td>63773239</td>\n",
       "      <td>Frutas e Verduras</td>\n",
       "      <td>1.0</td>\n",
       "      <td>83.0</td>\n",
       "      <td>5.768421</td>\n",
       "      <td>4.0</td>\n",
       "      <td>10.053530</td>\n",
       "      <td>96</td>\n",
       "      <td>30.462500</td>\n",
       "      <td>...</td>\n",
       "      <td>1</td>\n",
       "      <td>2024-06-17</td>\n",
       "      <td>3917.295316</td>\n",
       "      <td>3587.346191</td>\n",
       "      <td>3917.295316</td>\n",
       "      <td>B</td>\n",
       "      <td>Lanches</td>\n",
       "      <td>Restaurante</td>\n",
       "      <td>False</td>\n",
       "      <td>No Farming</td>\n",
       "    </tr>\n",
       "    <tr>\n",
       "      <th>5</th>\n",
       "      <td>BHZ</td>\n",
       "      <td>63773239</td>\n",
       "      <td>Laticínios e Ovos</td>\n",
       "      <td>1.0</td>\n",
       "      <td>27.0</td>\n",
       "      <td>7.090909</td>\n",
       "      <td>6.0</td>\n",
       "      <td>5.341579</td>\n",
       "      <td>100</td>\n",
       "      <td>82.019747</td>\n",
       "      <td>...</td>\n",
       "      <td>1</td>\n",
       "      <td>2024-06-17</td>\n",
       "      <td>3917.295316</td>\n",
       "      <td>3587.346191</td>\n",
       "      <td>3917.295316</td>\n",
       "      <td>B</td>\n",
       "      <td>Lanches</td>\n",
       "      <td>Restaurante</td>\n",
       "      <td>False</td>\n",
       "      <td>No Farming</td>\n",
       "    </tr>\n",
       "    <tr>\n",
       "      <th>6</th>\n",
       "      <td>BHZ</td>\n",
       "      <td>63773239</td>\n",
       "      <td>Limpeza e Higiene</td>\n",
       "      <td>1.0</td>\n",
       "      <td>119.0</td>\n",
       "      <td>9.352941</td>\n",
       "      <td>4.0</td>\n",
       "      <td>18.856698</td>\n",
       "      <td>69</td>\n",
       "      <td>20.872616</td>\n",
       "      <td>...</td>\n",
       "      <td>1</td>\n",
       "      <td>2024-06-17</td>\n",
       "      <td>3917.295316</td>\n",
       "      <td>3587.346191</td>\n",
       "      <td>3917.295316</td>\n",
       "      <td>B</td>\n",
       "      <td>Lanches</td>\n",
       "      <td>Restaurante</td>\n",
       "      <td>False</td>\n",
       "      <td>No Farming</td>\n",
       "    </tr>\n",
       "    <tr>\n",
       "      <th>7</th>\n",
       "      <td>BHZ</td>\n",
       "      <td>63773239</td>\n",
       "      <td>Mercearia</td>\n",
       "      <td>1.0</td>\n",
       "      <td>11.0</td>\n",
       "      <td>4.045977</td>\n",
       "      <td>4.0</td>\n",
       "      <td>1.682333</td>\n",
       "      <td>175</td>\n",
       "      <td>92.217624</td>\n",
       "      <td>...</td>\n",
       "      <td>1</td>\n",
       "      <td>2024-06-17</td>\n",
       "      <td>3917.295316</td>\n",
       "      <td>3587.346191</td>\n",
       "      <td>3917.295316</td>\n",
       "      <td>B</td>\n",
       "      <td>Lanches</td>\n",
       "      <td>Restaurante</td>\n",
       "      <td>False</td>\n",
       "      <td>No Farming</td>\n",
       "    </tr>\n",
       "    <tr>\n",
       "      <th>8</th>\n",
       "      <td>BHZ</td>\n",
       "      <td>63775372</td>\n",
       "      <td>Bebidas</td>\n",
       "      <td>1.0</td>\n",
       "      <td>72.0</td>\n",
       "      <td>13.326531</td>\n",
       "      <td>8.0</td>\n",
       "      <td>14.306740</td>\n",
       "      <td>50</td>\n",
       "      <td>25.756800</td>\n",
       "      <td>...</td>\n",
       "      <td>1</td>\n",
       "      <td>2024-06-01</td>\n",
       "      <td>340.897722</td>\n",
       "      <td>343.477097</td>\n",
       "      <td>340.897722</td>\n",
       "      <td>I</td>\n",
       "      <td>Lanches</td>\n",
       "      <td>Restaurante</td>\n",
       "      <td>False</td>\n",
       "      <td>No Farming</td>\n",
       "    </tr>\n",
       "    <tr>\n",
       "      <th>9</th>\n",
       "      <td>BHZ</td>\n",
       "      <td>63775372</td>\n",
       "      <td>Carnes, Aves e Peixes</td>\n",
       "      <td>57.0</td>\n",
       "      <td>224.0</td>\n",
       "      <td>113.000000</td>\n",
       "      <td>85.5</td>\n",
       "      <td>78.489914</td>\n",
       "      <td>5</td>\n",
       "      <td>10.126737</td>\n",
       "      <td>...</td>\n",
       "      <td>1</td>\n",
       "      <td>2024-06-01</td>\n",
       "      <td>340.897722</td>\n",
       "      <td>343.477097</td>\n",
       "      <td>340.897722</td>\n",
       "      <td>I</td>\n",
       "      <td>Lanches</td>\n",
       "      <td>Restaurante</td>\n",
       "      <td>False</td>\n",
       "      <td>No Farming</td>\n",
       "    </tr>\n",
       "  </tbody>\n",
       "</table>\n",
       "<p>10 rows × 33 columns</p>\n",
       "</div>"
      ],
      "text/plain": [
       "  city  customer_id                    cat  min_diff_days  max_diff_days  \\\n",
       "0  BHZ     63773239                Bebidas            1.0           36.0   \n",
       "1  BHZ     63773239  Carnes, Aves e Peixes            1.0          215.0   \n",
       "2  BHZ     63773239             Congelados            1.0           91.0   \n",
       "3  BHZ     63773239           Descartáveis            9.0          118.0   \n",
       "4  BHZ     63773239      Frutas e Verduras            1.0           83.0   \n",
       "5  BHZ     63773239      Laticínios e Ovos            1.0           27.0   \n",
       "6  BHZ     63773239      Limpeza e Higiene            1.0          119.0   \n",
       "7  BHZ     63773239              Mercearia            1.0           11.0   \n",
       "8  BHZ     63775372                Bebidas            1.0           72.0   \n",
       "9  BHZ     63775372  Carnes, Aves e Peixes           57.0          224.0   \n",
       "\n",
       "   avg_diff_days  median_diff_days  stdev_diff_days  num_orders_cat  \\\n",
       "0       9.666667               7.0         7.722293              73   \n",
       "1      21.812500               7.5        46.506633              33   \n",
       "2       5.691057               4.0         9.924411             124   \n",
       "3      42.500000              27.5        41.850926               7   \n",
       "4       5.768421               4.0        10.053530              96   \n",
       "5       7.090909               6.0         5.341579             100   \n",
       "6       9.352941               4.0        18.856698              69   \n",
       "7       4.045977               4.0         1.682333             175   \n",
       "8      13.326531               8.0        14.306740              50   \n",
       "9     113.000000              85.5        78.489914               5   \n",
       "\n",
       "   aov_cat_usd  ... churned_ALL  ALL_churned_date  TOTAL_CAT_CLTV_sin_churn  \\\n",
       "0    47.397058  ...           1        2024-06-17               3917.295316   \n",
       "1    41.505582  ...           1        2024-06-17               3917.295316   \n",
       "2    99.774669  ...           1        2024-06-17               3917.295316   \n",
       "3     2.734135  ...           1        2024-06-17               3917.295316   \n",
       "4    30.462500  ...           1        2024-06-17               3917.295316   \n",
       "5    82.019747  ...           1        2024-06-17               3917.295316   \n",
       "6    20.872616  ...           1        2024-06-17               3917.295316   \n",
       "7    92.217624  ...           1        2024-06-17               3917.295316   \n",
       "8    25.756800  ...           1        2024-06-01                340.897722   \n",
       "9    10.126737  ...           1        2024-06-01                340.897722   \n",
       "\n",
       "  ALL_CLTV_sin_churn  Adjust_CLTV  tier  microsegment_name  business_type  \\\n",
       "0        3587.346191  3917.295316     B            Lanches    Restaurante   \n",
       "1        3587.346191  3917.295316     B            Lanches    Restaurante   \n",
       "2        3587.346191  3917.295316     B            Lanches    Restaurante   \n",
       "3        3587.346191  3917.295316     B            Lanches    Restaurante   \n",
       "4        3587.346191  3917.295316     B            Lanches    Restaurante   \n",
       "5        3587.346191  3917.295316     B            Lanches    Restaurante   \n",
       "6        3587.346191  3917.295316     B            Lanches    Restaurante   \n",
       "7        3587.346191  3917.295316     B            Lanches    Restaurante   \n",
       "8         343.477097   340.897722     I            Lanches    Restaurante   \n",
       "9         343.477097   340.897722     I            Lanches    Restaurante   \n",
       "\n",
       "   is_kam       owner  \n",
       "0   False  No Farming  \n",
       "1   False  No Farming  \n",
       "2   False  No Farming  \n",
       "3   False  No Farming  \n",
       "4   False  No Farming  \n",
       "5   False  No Farming  \n",
       "6   False  No Farming  \n",
       "7   False  No Farming  \n",
       "8   False  No Farming  \n",
       "9   False  No Farming  \n",
       "\n",
       "[10 rows x 33 columns]"
      ]
     },
     "execution_count": 37,
     "metadata": {},
     "output_type": "execute_result"
    }
   ],
   "source": [
    "df_final.head(10)"
   ]
  },
  {
   "cell_type": "code",
   "execution_count": 38,
   "id": "bf44904f",
   "metadata": {
    "execution": {
     "iopub.execute_input": "2024-07-06T11:13:42.937818Z",
     "iopub.status.busy": "2024-07-06T11:13:42.937032Z",
     "iopub.status.idle": "2024-07-06T11:13:42.939227Z",
     "shell.execute_reply": "2024-07-06T11:13:42.938803Z"
    },
    "papermill": {
     "duration": 0.034628,
     "end_time": "2024-07-06T11:13:42.939337",
     "exception": false,
     "start_time": "2024-07-06T11:13:42.904709",
     "status": "completed"
    },
    "tags": []
   },
   "outputs": [],
   "source": [
    "#df_final.to_excel(f\"CLTV_{city}.xlsx\",index=False)"
   ]
  },
  {
   "cell_type": "markdown",
   "id": "8da9bf1d",
   "metadata": {
    "papermill": {
     "duration": 0.029408,
     "end_time": "2024-07-06T11:13:42.998177",
     "exception": false,
     "start_time": "2024-07-06T11:13:42.968769",
     "status": "completed"
    },
    "tags": []
   },
   "source": [
    "# Info for SAC team"
   ]
  },
  {
   "cell_type": "code",
   "execution_count": 39,
   "id": "db5933bb",
   "metadata": {
    "execution": {
     "iopub.execute_input": "2024-07-06T11:13:43.058146Z",
     "iopub.status.busy": "2024-07-06T11:13:43.056910Z",
     "iopub.status.idle": "2024-07-06T11:13:43.072326Z",
     "shell.execute_reply": "2024-07-06T11:13:43.072671Z"
    },
    "papermill": {
     "duration": 0.045896,
     "end_time": "2024-07-06T11:13:43.072833",
     "exception": false,
     "start_time": "2024-07-06T11:13:43.026937",
     "status": "completed"
    },
    "tags": []
   },
   "outputs": [],
   "source": [
    "df_SAC = df_final[['city','customer_id','tier','Adjust_CLTV']].drop_duplicates()"
   ]
  },
  {
   "cell_type": "code",
   "execution_count": 40,
   "id": "d68181bf",
   "metadata": {
    "execution": {
     "iopub.execute_input": "2024-07-06T11:13:43.130427Z",
     "iopub.status.busy": "2024-07-06T11:13:43.129795Z",
     "iopub.status.idle": "2024-07-06T11:13:43.131881Z",
     "shell.execute_reply": "2024-07-06T11:13:43.131506Z"
    },
    "papermill": {
     "duration": 0.033052,
     "end_time": "2024-07-06T11:13:43.131985",
     "exception": false,
     "start_time": "2024-07-06T11:13:43.098933",
     "status": "completed"
    },
    "tags": []
   },
   "outputs": [],
   "source": [
    "letter_to_number = {'A': 1, 'B': 2, 'C': 3, 'D': 4, 'E': 5, 'F': 6, 'G': 7, 'H': 8, 'I': 9, 'J': 10}\n",
    "df_SAC['tier'] = df_SAC['tier'].map(letter_to_number)"
   ]
  },
  {
   "cell_type": "code",
   "execution_count": 41,
   "id": "2467b715",
   "metadata": {
    "execution": {
     "iopub.execute_input": "2024-07-06T11:13:43.189557Z",
     "iopub.status.busy": "2024-07-06T11:13:43.188771Z",
     "iopub.status.idle": "2024-07-06T11:13:43.306180Z",
     "shell.execute_reply": "2024-07-06T11:13:43.305739Z"
    },
    "papermill": {
     "duration": 0.148302,
     "end_time": "2024-07-06T11:13:43.306309",
     "exception": false,
     "start_time": "2024-07-06T11:13:43.158007",
     "status": "completed"
    },
    "tags": []
   },
   "outputs": [],
   "source": [
    "# Iterate through the customer_ids\n",
    "for customer_id in buyers_11.loc[buyers_11.region_code == city].uid.unique():\n",
    "    # Check if customer_id is already in the DataFrame\n",
    "    if customer_id in df_SAC['customer_id'].values:\n",
    "        # If yes, change its tier to 11\n",
    "        df_SAC.loc[df_SAC['customer_id'] == customer_id, 'tier'] = 11\n",
    "    else:\n",
    "        # If not, add a new row with tier 11\n",
    "        df_SAC = df_SAC.append({'city': city, 'customer_id': customer_id, 'tier': 11, 'Adjust_CLTV':1}, ignore_index=True)"
   ]
  },
  {
   "cell_type": "code",
   "execution_count": 42,
   "id": "81bca774",
   "metadata": {
    "execution": {
     "iopub.execute_input": "2024-07-06T11:13:43.365414Z",
     "iopub.status.busy": "2024-07-06T11:13:43.364662Z",
     "iopub.status.idle": "2024-07-06T11:13:43.388202Z",
     "shell.execute_reply": "2024-07-06T11:13:43.387783Z"
    },
    "papermill": {
     "duration": 0.052824,
     "end_time": "2024-07-06T11:13:43.388307",
     "exception": false,
     "start_time": "2024-07-06T11:13:43.335483",
     "status": "completed"
    },
    "tags": []
   },
   "outputs": [],
   "source": [
    "df_SAC.to_csv(f\"/home/jupyter-felipe.guevara/Growth/CLTV/{city}_SAC_tiers.csv\",index=False)"
   ]
  }
 ],
 "metadata": {
  "kernelspec": {
   "display_name": "Python 3",
   "language": "python",
   "name": "python3"
  },
  "language_info": {
   "codemirror_mode": {
    "name": "ipython",
    "version": 3
   },
   "file_extension": ".py",
   "mimetype": "text/x-python",
   "name": "python",
   "nbconvert_exporter": "python",
   "pygments_lexer": "ipython3",
   "version": "3.7.9"
  },
  "papermill": {
   "default_parameters": {},
   "duration": 157.551917,
   "end_time": "2024-07-06T11:13:44.122162",
   "environment_variables": {},
   "exception": null,
   "input_path": "/home/jupyter-felipe.guevara/Growth/CLTV/CLTV_origin.ipynb",
   "output_path": "/home/jupyter-felipe.guevara/Growth/logs/CLTV_BHZ.ipynb",
   "parameters": {
    "city": "BHZ"
   },
   "start_time": "2024-07-06T11:11:06.570245",
   "version": "2.3.2"
  },
  "vscode": {
   "interpreter": {
    "hash": "624741679a3ae5d99cecf49b8df5d516a7a937e6e7328e129d1fa121c8592e26"
   }
  }
 },
 "nbformat": 4,
 "nbformat_minor": 5
}