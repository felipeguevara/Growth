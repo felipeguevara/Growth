{
 "cells": [
  {
   "cell_type": "code",
   "execution_count": 1,
   "id": "d647fb27",
   "metadata": {
    "execution": {
     "iopub.execute_input": "2024-03-21T23:52:48.429005Z",
     "iopub.status.busy": "2024-03-21T23:52:48.428558Z",
     "iopub.status.idle": "2024-03-21T23:52:49.879823Z",
     "shell.execute_reply": "2024-03-21T23:52:49.879292Z"
    },
    "papermill": {
     "duration": 1.477177,
     "end_time": "2024-03-21T23:52:49.879942",
     "exception": false,
     "start_time": "2024-03-21T23:52:48.402765",
     "status": "completed"
    },
    "tags": []
   },
   "outputs": [],
   "source": [
    "#//----------------------------\n",
    "#//LIBRARIES\n",
    "    #Math\n",
    "import math\n",
    "    #Numeric Python\n",
    "import numpy as np\n",
    "    #Pandas (dataframes)\n",
    "import pandas as pd\n",
    "    #datetime for fate manipulation\n",
    "from datetime import date, datetime, timedelta  \n",
    "    #Regex for advanced string matching\n",
    "import re\n",
    "    #for time related stuff\n",
    "import time\n",
    "    #json library\n",
    "import json\n",
    "    #Analyst tools\n",
    "import sys\n",
    "import os\n",
    "sys.path.append(os.path.expanduser('~'))\n",
    "from analysts_tools.growth import *\n",
    "    #Procurement tools\n",
    "from procurement_lib import send_slack_notification\n",
    "from procurement_lib import redash\n",
    "from analysts_tools.redash_methods import *\n",
    "from analystcommunity.read_connection_data_warehouse import run_read_dwd_query\n",
    "\n",
    "import random\n",
    "import time\n",
    "import datetime\n",
    "\n",
    "import seaborn as sns\n",
    "import matplotlib.pyplot as plt\n",
    "\n",
    "\n",
    "from sklearn.model_selection import train_test_split\n",
    "from scipy.signal import savgol_filter"
   ]
  },
  {
   "cell_type": "markdown",
   "id": "1b4d4c05",
   "metadata": {
    "papermill": {
     "duration": 0.017662,
     "end_time": "2024-03-21T23:52:49.915945",
     "exception": false,
     "start_time": "2024-03-21T23:52:49.898283",
     "status": "completed"
    },
    "tags": []
   },
   "source": [
    "# Cargue de Queries y parametros"
   ]
  },
  {
   "cell_type": "code",
   "execution_count": 2,
   "id": "c126b890",
   "metadata": {
    "execution": {
     "iopub.execute_input": "2024-03-21T23:52:49.954211Z",
     "iopub.status.busy": "2024-03-21T23:52:49.953771Z",
     "iopub.status.idle": "2024-03-21T23:52:49.955615Z",
     "shell.execute_reply": "2024-03-21T23:52:49.955176Z"
    },
    "papermill": {
     "duration": 0.02206,
     "end_time": "2024-03-21T23:52:49.955708",
     "exception": false,
     "start_time": "2024-03-21T23:52:49.933648",
     "status": "completed"
    },
    "tags": [
     "parameters"
    ]
   },
   "outputs": [],
   "source": [
    "city = 'VCP'"
   ]
  },
  {
   "cell_type": "code",
   "execution_count": 3,
   "id": "252cff4d",
   "metadata": {
    "execution": {
     "iopub.execute_input": "2024-03-21T23:52:49.993327Z",
     "iopub.status.busy": "2024-03-21T23:52:49.992908Z",
     "iopub.status.idle": "2024-03-21T23:52:49.994717Z",
     "shell.execute_reply": "2024-03-21T23:52:49.994339Z"
    },
    "papermill": {
     "duration": 0.021385,
     "end_time": "2024-03-21T23:52:49.994804",
     "exception": false,
     "start_time": "2024-03-21T23:52:49.973419",
     "status": "completed"
    },
    "tags": [
     "injected-parameters"
    ]
   },
   "outputs": [],
   "source": [
    "# Parameters\n",
    "city = \"BHZ\"\n"
   ]
  },
  {
   "cell_type": "code",
   "execution_count": 4,
   "id": "4db847c9",
   "metadata": {
    "execution": {
     "iopub.execute_input": "2024-03-21T23:52:50.034116Z",
     "iopub.status.busy": "2024-03-21T23:52:50.033672Z",
     "iopub.status.idle": "2024-03-21T23:52:50.035148Z",
     "shell.execute_reply": "2024-03-21T23:52:50.035486Z"
    },
    "papermill": {
     "duration": 0.02277,
     "end_time": "2024-03-21T23:52:50.035613",
     "exception": false,
     "start_time": "2024-03-21T23:52:50.012843",
     "status": "completed"
    },
    "tags": []
   },
   "outputs": [],
   "source": [
    "customer_date_desde = (datetime.datetime.today() - datetime.timedelta(days=200))#.strftime('%Y-%m-%d') #1 months"
   ]
  },
  {
   "cell_type": "code",
   "execution_count": 5,
   "id": "1ddec44e",
   "metadata": {
    "execution": {
     "iopub.execute_input": "2024-03-21T23:52:50.074760Z",
     "iopub.status.busy": "2024-03-21T23:52:50.074334Z",
     "iopub.status.idle": "2024-03-21T23:52:50.076343Z",
     "shell.execute_reply": "2024-03-21T23:52:50.076682Z"
    },
    "papermill": {
     "duration": 0.023158,
     "end_time": "2024-03-21T23:52:50.076796",
     "exception": false,
     "start_time": "2024-03-21T23:52:50.053638",
     "status": "completed"
    },
    "tags": []
   },
   "outputs": [
    {
     "name": "stdout",
     "output_type": "stream",
     "text": [
      "/home/jupyter-felipe.guevara\n"
     ]
    }
   ],
   "source": [
    "print(os.getcwd())"
   ]
  },
  {
   "cell_type": "code",
   "execution_count": 6,
   "id": "85a800ac",
   "metadata": {
    "execution": {
     "iopub.execute_input": "2024-03-21T23:52:50.117554Z",
     "iopub.status.busy": "2024-03-21T23:52:50.117092Z",
     "iopub.status.idle": "2024-03-21T23:52:50.122318Z",
     "shell.execute_reply": "2024-03-21T23:52:50.121950Z"
    },
    "papermill": {
     "duration": 0.027074,
     "end_time": "2024-03-21T23:52:50.122412",
     "exception": false,
     "start_time": "2024-03-21T23:52:50.095338",
     "status": "completed"
    },
    "tags": []
   },
   "outputs": [],
   "source": [
    "margenes = pd.read_csv(\"/home/jupyter-felipe.guevara/Growth/CLTV/Margenes_neto.csv\")\n",
    "retention = pd.read_csv(\"/home/jupyter-felipe.guevara/Growth/CLTV/retention_year.csv\")"
   ]
  },
  {
   "cell_type": "code",
   "execution_count": 7,
   "id": "d1bd00ec",
   "metadata": {
    "execution": {
     "iopub.execute_input": "2024-03-21T23:52:50.163037Z",
     "iopub.status.busy": "2024-03-21T23:52:50.162615Z",
     "iopub.status.idle": "2024-03-21T23:52:50.253065Z",
     "shell.execute_reply": "2024-03-21T23:52:50.253417Z"
    },
    "papermill": {
     "duration": 0.112581,
     "end_time": "2024-03-21T23:52:50.253550",
     "exception": false,
     "start_time": "2024-03-21T23:52:50.140969",
     "status": "completed"
    },
    "tags": []
   },
   "outputs": [],
   "source": [
    "retention_aux =  retention.copy()\n",
    "\n",
    "for i,ret in enumerate(retention_aux.values):\n",
    "    retention_aux.iloc[i,2:] = [(1-(j-ret[-1])/100) if j-ret[-1] >= 0 else 1 for j in ret[2:]]"
   ]
  },
  {
   "cell_type": "code",
   "execution_count": 8,
   "id": "46b95f5b",
   "metadata": {
    "execution": {
     "iopub.execute_input": "2024-03-21T23:52:50.293507Z",
     "iopub.status.busy": "2024-03-21T23:52:50.293048Z",
     "iopub.status.idle": "2024-03-21T23:53:31.435941Z",
     "shell.execute_reply": "2024-03-21T23:53:31.435500Z"
    },
    "papermill": {
     "duration": 41.163968,
     "end_time": "2024-03-21T23:53:31.436047",
     "exception": false,
     "start_time": "2024-03-21T23:52:50.272079",
     "status": "completed"
    },
    "tags": []
   },
   "outputs": [
    {
     "name": "stdout",
     "output_type": "stream",
     "text": [
      "200\n"
     ]
    }
   ],
   "source": [
    "clear_buyers = get_fresh_query_result(\"https://internal-redash.federate.frubana.com/\",138674,'SeoGHWmDUaaBi7VXje1s9zYNiMD1VHQ1K1DYOxiF',{},20)"
   ]
  },
  {
   "cell_type": "code",
   "execution_count": 9,
   "id": "2ab11423",
   "metadata": {
    "execution": {
     "iopub.execute_input": "2024-03-21T23:53:31.485193Z",
     "iopub.status.busy": "2024-03-21T23:53:31.484501Z",
     "iopub.status.idle": "2024-03-21T23:53:37.640266Z",
     "shell.execute_reply": "2024-03-21T23:53:37.639829Z"
    },
    "papermill": {
     "duration": 6.185144,
     "end_time": "2024-03-21T23:53:37.640374",
     "exception": false,
     "start_time": "2024-03-21T23:53:31.455230",
     "status": "completed"
    },
    "tags": []
   },
   "outputs": [],
   "source": [
    "query = \"\"\"\n",
    "SELECT DISTINCT\n",
    "\n",
    "c.assignee_ref_id AS \"Owner\",\n",
    "cm.member_ref_id AS \"customer_id\",\n",
    "--cm.status AS \"Estado de la asignacion\",\n",
    "--c.type as \"Tipo de asociacion\",\n",
    "--c.flow_type AS \"Tipo de carga\",\n",
    "z.value AS \"Ciudad\"\n",
    "--p.since AS \"Semana\"\n",
    "\n",
    "FROM postgres_growth_offline.\"growth_clustering.clusters\"               c\n",
    "INNER JOIN postgres_growth_offline.\"growth_clustering.cluster_members\"  cm  ON cm.cluster_id = c.id\n",
    "INNER JOIN postgres_growth_offline.\"growth_clustering.periods\"          p   ON p.id = c.period_id\n",
    "INNER JOIN postgres_growth_offline.\"growth_clustering.zones\"            z   ON z.id = c.zone_id\n",
    "\n",
    "where p.since = DATE_TRUNC('week', date(getdate()) - interval '0 week')\n",
    "and z.value in ('BOG','BAQ','MDE','CMX','SPO','BHZ','CWB','VCP')\n",
    "and c.type = 'FARMER_OFFLINE'\n",
    "and c.status = 'ACTIVE'\n",
    "and c.enabled = 'true'\n",
    "\"\"\"\n",
    "data_farming = read_connection_data_warehouse.runQuery(query)\n",
    "data_farming[[\"customer_id\"]] = data_farming[[\"customer_id\"]].astype(int)"
   ]
  },
  {
   "cell_type": "code",
   "execution_count": 10,
   "id": "90d4b0a0",
   "metadata": {
    "execution": {
     "iopub.execute_input": "2024-03-21T23:53:37.682866Z",
     "iopub.status.busy": "2024-03-21T23:53:37.682426Z",
     "iopub.status.idle": "2024-03-21T23:53:37.684295Z",
     "shell.execute_reply": "2024-03-21T23:53:37.683935Z"
    },
    "papermill": {
     "duration": 0.02473,
     "end_time": "2024-03-21T23:53:37.684386",
     "exception": false,
     "start_time": "2024-03-21T23:53:37.659656",
     "status": "completed"
    },
    "tags": []
   },
   "outputs": [],
   "source": [
    "# Define a function to run the query\n",
    "def run_query_with_retry(query):\n",
    "    max_retries = 5\n",
    "    retries = 0\n",
    "    while retries < max_retries:\n",
    "        try:\n",
    "            # Attempt to execute the query\n",
    "            data_ventas_aux = run_read_dwd_query(query)\n",
    "            data_ventas_aux[[\"gmv_usd\", \"cant\"]] = data_ventas_aux[[\"gmv_usd\", \"cant\"]].astype(float)\n",
    "            data_ventas_aux['submit_date'] = pd.to_datetime(data_ventas_aux['submit_date'])\n",
    "            return data_ventas_aux  # If successful, return the result\n",
    "        except Exception as e:\n",
    "            retries += 1\n",
    "            print(f\"An error occurred: {str(e)}\")\n",
    "            print(f\"Retrying... ({retries}/{max_retries})\")\n",
    "    # If max retries reached without success, raise an error\n",
    "    raise RuntimeError(\"Failed to execute the query after multiple retries\")"
   ]
  },
  {
   "cell_type": "code",
   "execution_count": 11,
   "id": "dc696ba4",
   "metadata": {
    "execution": {
     "iopub.execute_input": "2024-03-21T23:53:37.733616Z",
     "iopub.status.busy": "2024-03-21T23:53:37.733155Z",
     "iopub.status.idle": "2024-03-21T23:53:50.748384Z",
     "shell.execute_reply": "2024-03-21T23:53:50.747961Z"
    },
    "papermill": {
     "duration": 13.04528,
     "end_time": "2024-03-21T23:53:50.748487",
     "exception": false,
     "start_time": "2024-03-21T23:53:37.703207",
     "status": "completed"
    },
    "tags": []
   },
   "outputs": [],
   "source": [
    "query = \"\"\"\n",
    "SELECT \n",
    "    s.identifier_value AS city,\n",
    "    dc.source_id AS customer_id,\n",
    "    DATE(fs.order_submitted_date) AS submit_date,\n",
    "    fs.order_id,\n",
    "    dp.card_id AS padre_sku_id,\n",
    "    cat.parent_description AS cat,\n",
    "    CASE\n",
    "        WHEN s.identifier_value = 'CMX' THEN fs.gmv_pxq_local/19.65\n",
    "        WHEN s.identifier_value IN ('SPO','BHZ','CWB','VCP') THEN fs.gmv_pxq_local/4.75\n",
    "        WHEN s.identifier_value IN ('BOG','BAQ','MDE') THEN fs.gmv_pxq_local/3776\n",
    "    ELSE fs.gmv_pxq_local \n",
    "    END AS gmv_usd,\n",
    "    fs.product_quantity_x_step_unit AS cant\n",
    "\n",
    "FROM dpr_sales.fact_sales                   fs\n",
    "INNER JOIN dpr_shared.dim_customer          dc  ON dc.customer_id = fs.dim_customer\n",
    "INNER JOIN dpr_shared.dim_site              s   ON s.site_id = fs.dim_site\n",
    "INNER JOIN dpr_shared.dim_product           dp  ON dp.product_id = fs.dim_product\n",
    "INNER JOIN dpr_shared.dim_category          cat ON cat.category_id = dp.category_id\n",
    "\n",
    "WHERE \n",
    "    fs.gmv_enabled = TRUE\n",
    "    AND fulfillment_order_status NOT IN ('CANCELLED', 'ARCHIVED','No value')\n",
    "    AND fs.fb_order_status_id  IN (1,6,7,8)\n",
    "    AND fs.is_deleted = FALSE\n",
    "    AND fs.dim_status = 1\n",
    "    AND dp.is_slot = 'false'\n",
    "    AND DATE(fs.order_submitted_date) > current_date - 730\n",
    "    AND s.identifier_value = '{city}'\n",
    "    AND dc.source_id IN {clientes}\n",
    "\"\"\".format(clientes=tuple(set(clear_buyers[clear_buyers.registered_city == city].customer_id.unique())), city = city)\n",
    "\n",
    "# Call the function with your query\n",
    "data_ventas_aux = run_query_with_retry(query)"
   ]
  },
  {
   "cell_type": "code",
   "execution_count": 12,
   "id": "2485fc15",
   "metadata": {
    "execution": {
     "iopub.execute_input": "2024-03-21T23:53:50.791613Z",
     "iopub.status.busy": "2024-03-21T23:53:50.791168Z",
     "iopub.status.idle": "2024-03-21T23:53:52.606425Z",
     "shell.execute_reply": "2024-03-21T23:53:52.606807Z"
    },
    "papermill": {
     "duration": 1.838778,
     "end_time": "2024-03-21T23:53:52.606943",
     "exception": false,
     "start_time": "2024-03-21T23:53:50.768165",
     "status": "completed"
    },
    "tags": []
   },
   "outputs": [],
   "source": [
    "data_ventas_aux['cat'] = data_ventas_aux['cat'].replace('Frutas e verduras', 'Frutas e Verduras')\n",
    "data_ventas_aux['cat'] = data_ventas_aux['cat'].replace('Laticínios e ovos', 'Laticínios e Ovos')\n",
    "data_ventas_aux['cat'] = data_ventas_aux['cat'].replace('Limpeza e higiene', 'Limpeza e Higiene')\n",
    "data_ventas_aux['cat'] = data_ventas_aux['cat'].replace('Carnes, aves e peixes', 'Carnes, Aves e Peixes')\n",
    "data_ventas_aux['cat'] = data_ventas_aux['cat'].replace('Abarrotes & despensa', 'Abarrotes')\n",
    "data_ventas_aux['cat'] = data_ventas_aux['cat'].replace('Aseo e higiene', 'Aseo e Higiene')\n",
    "data_ventas_aux['cat'] = data_ventas_aux['cat'].replace('Frutas & verduras', 'Frutas & Verduras')\n",
    "data_ventas_aux['cat'] = data_ventas_aux['cat'].replace('Carne, pollo & pescados', 'Carne, Pollo & Pescados')\n",
    "data_ventas_aux['cat'] = data_ventas_aux['cat'].replace('Lácteos & huevos', 'Lácteos & Huevos')"
   ]
  },
  {
   "cell_type": "code",
   "execution_count": 13,
   "id": "e85fe3eb",
   "metadata": {
    "execution": {
     "iopub.execute_input": "2024-03-21T23:53:52.650186Z",
     "iopub.status.busy": "2024-03-21T23:53:52.649752Z",
     "iopub.status.idle": "2024-03-21T23:53:54.193237Z",
     "shell.execute_reply": "2024-03-21T23:53:54.192739Z"
    },
    "papermill": {
     "duration": 1.566777,
     "end_time": "2024-03-21T23:53:54.193377",
     "exception": false,
     "start_time": "2024-03-21T23:53:52.626600",
     "status": "completed"
    },
    "tags": []
   },
   "outputs": [],
   "source": [
    "check_df = data_ventas_aux.groupby(by=['customer_id']).agg({'submit_date':np.max}).reset_index()\n",
    "df = data_ventas_aux[data_ventas_aux.customer_id.isin(check_df[check_df.submit_date >= customer_date_desde].customer_id.unique())].groupby(by=['city', 'customer_id', 'submit_date','cat']).agg({'gmv_usd':'sum','cant':'sum'}).reset_index()"
   ]
  },
  {
   "cell_type": "markdown",
   "id": "936bb388",
   "metadata": {
    "papermill": {
     "duration": 0.019181,
     "end_time": "2024-03-21T23:53:54.232330",
     "exception": false,
     "start_time": "2024-03-21T23:53:54.213149",
     "status": "completed"
    },
    "tags": []
   },
   "source": [
    "# Generacion de df con info by cat by client"
   ]
  },
  {
   "cell_type": "code",
   "execution_count": 14,
   "id": "71fb1581",
   "metadata": {
    "execution": {
     "iopub.execute_input": "2024-03-21T23:53:54.274233Z",
     "iopub.status.busy": "2024-03-21T23:53:54.273791Z",
     "iopub.status.idle": "2024-03-21T23:53:57.587005Z",
     "shell.execute_reply": "2024-03-21T23:53:57.586582Z"
    },
    "papermill": {
     "duration": 3.33562,
     "end_time": "2024-03-21T23:53:57.587112",
     "exception": false,
     "start_time": "2024-03-21T23:53:54.251492",
     "status": "completed"
    },
    "tags": []
   },
   "outputs": [],
   "source": [
    "df = df.sort_values('submit_date',ignore_index=True)\n",
    "\n",
    "#fix for id problems and taking into account only dates\n",
    "df['order_id']= df.submit_date.apply(lambda x:x.toordinal()) \n",
    "\n",
    "#Days of difference between orders for customer and for cat\n",
    "df['days_bet'] = (df.submit_date -df.groupby('customer_id').submit_date.transform('min')).dt.days"
   ]
  },
  {
   "cell_type": "code",
   "execution_count": 15,
   "id": "9d195019",
   "metadata": {
    "execution": {
     "iopub.execute_input": "2024-03-21T23:53:57.631258Z",
     "iopub.status.busy": "2024-03-21T23:53:57.630816Z",
     "iopub.status.idle": "2024-03-21T23:54:15.020769Z",
     "shell.execute_reply": "2024-03-21T23:54:15.021142Z"
    },
    "papermill": {
     "duration": 17.414392,
     "end_time": "2024-03-21T23:54:15.021273",
     "exception": false,
     "start_time": "2024-03-21T23:53:57.606881",
     "status": "completed"
    },
    "tags": []
   },
   "outputs": [],
   "source": [
    "#This calculate in res the difference between consecutive orders and with the agg we calculate all metrics\n",
    "df['res'] = df.groupby(by=['customer_id', 'cat'])['days_bet'].diff()\n",
    "df_grouped = df.groupby(by=['city', 'customer_id', 'cat']).agg({'res': [np.min, np.max, np.mean, np.median, np.std],\n",
    "                                                                    'order_id': [lambda x: x.nunique()], \n",
    "                                                                    'gmv_usd': [np.mean],\n",
    "                                                                    'cant': [np.mean],\n",
    "                                                                    'submit_date': [np.max, lambda x: (x.max()-x.min()).days, lambda x: (datetime.datetime.today() - x.max()).days, np.min]\n",
    "                                                                    }).reset_index()"
   ]
  },
  {
   "cell_type": "code",
   "execution_count": 16,
   "id": "00c97f8f",
   "metadata": {
    "execution": {
     "iopub.execute_input": "2024-03-21T23:54:15.064089Z",
     "iopub.status.busy": "2024-03-21T23:54:15.063630Z",
     "iopub.status.idle": "2024-03-21T23:54:15.068538Z",
     "shell.execute_reply": "2024-03-21T23:54:15.068168Z"
    },
    "papermill": {
     "duration": 0.027513,
     "end_time": "2024-03-21T23:54:15.068634",
     "exception": false,
     "start_time": "2024-03-21T23:54:15.041121",
     "status": "completed"
    },
    "tags": []
   },
   "outputs": [],
   "source": [
    "#Finally we define everything in a df2 for further processing\n",
    "df2 = df_grouped.copy()\n",
    "\n",
    "df2.columns = ['city', 'customer_id', 'cat', 'min_diff_days', 'max_diff_days', 'avg_diff_days', 'median_diff_days', 'stdev_diff_days',\n",
    "               'num_orders', 'aov_cat_usd', 'avg_cant_cat', 'last_order_date', 'diff_from_last_to_first_order', 'days_since_last_order','first_order_date']"
   ]
  },
  {
   "cell_type": "code",
   "execution_count": 17,
   "id": "49f064c2",
   "metadata": {
    "execution": {
     "iopub.execute_input": "2024-03-21T23:54:15.110577Z",
     "iopub.status.busy": "2024-03-21T23:54:15.110144Z",
     "iopub.status.idle": "2024-03-21T23:54:15.111648Z",
     "shell.execute_reply": "2024-03-21T23:54:15.112014Z"
    },
    "papermill": {
     "duration": 0.024107,
     "end_time": "2024-03-21T23:54:15.112127",
     "exception": false,
     "start_time": "2024-03-21T23:54:15.088020",
     "status": "completed"
    },
    "tags": []
   },
   "outputs": [],
   "source": [
    "def diff_month(d1, d2):\n",
    "    return (d1.year - d2.year) * 12 + d1.month - d2.month"
   ]
  },
  {
   "cell_type": "code",
   "execution_count": 18,
   "id": "3142a9c6",
   "metadata": {
    "execution": {
     "iopub.execute_input": "2024-03-21T23:54:15.160430Z",
     "iopub.status.busy": "2024-03-21T23:54:15.159980Z",
     "iopub.status.idle": "2024-03-21T23:54:15.161532Z",
     "shell.execute_reply": "2024-03-21T23:54:15.161873Z"
    },
    "papermill": {
     "duration": 0.030302,
     "end_time": "2024-03-21T23:54:15.161989",
     "exception": false,
     "start_time": "2024-03-21T23:54:15.131687",
     "status": "completed"
    },
    "tags": []
   },
   "outputs": [],
   "source": [
    "def cat_metrics_2(cat):\n",
    "    df_cat = df2[df2.cat == cat].copy()\n",
    "    \n",
    "    df_cat['adjust_std'] = pd.qcut(df_cat.stdev_diff_days, 10, labels=[1,0.9,0.8,0.7,0.6,0.5,0.4,0.3,0.2,0.1])\n",
    "    df_cat[[\"adjust_std\"]] = df_cat[[\"adjust_std\"]].astype(float)\n",
    "    \n",
    "    df_cat['adjust_cohort'] = [1 if ((x[13]) - (x[5]+x[7]) <= 0) else  \n",
    "                 1/(((x[13]) - x[5])/x[7]) if x[7] != 0 else\n",
    "                 1/(((x[13]) - x[5])/np.round(1+(x[5]*0.7)))\n",
    "                 for x in df_cat.values]\n",
    "    \n",
    "    df_cat[\"margen\"] = [margenes[(margenes.category == x[2]) & (margenes.region_code == x[0])][\"net_margin\"].unique()[0]/100 for x in df_cat.values]\n",
    "    #mirar aca\n",
    "    df_cat['adjust_retention'] = [1 if diff_month(x[11],x[14])+1 >= 10 else \n",
    "                                  retention_aux[(retention_aux.category == x[2]) & (retention_aux.region_code == x[0])][str(diff_month(x[11],x[14])+1)].unique()[0] for x in df_cat.values]\n",
    "    \n",
    "    df_cat['median_diff_days_adjusted'] = 365/df_cat.median_diff_days\n",
    "    \n",
    "    df_cat[\"churned\"] = [0 if ((x[13]) - (x[5]+x[7]*2) <= 0) else 1 for x in df_cat.values]\n",
    "    \n",
    "    df_cat[['avg_diff_days','stdev_diff_days']] = df_cat[['avg_diff_days','stdev_diff_days']].fillna(0)\n",
    "\n",
    "    df_cat['churned_date'] = [(x[11] + datetime.timedelta(days=int(x[5]+x[7]*2))).strftime('%Y-%m-%d') for x in df_cat.values] #1 months\n",
    "    \n",
    "    df_cat[\"CLTV\"] = df_cat.median_diff_days_adjusted * df_cat.margen * df_cat.aov_cat_usd * df_cat.adjust_retention * df_cat.adjust_std * df_cat.adjust_cohort\n",
    "    df_cat[\"CLTV_sin_margen\"] = df_cat.median_diff_days_adjusted * df_cat.aov_cat_usd * df_cat.adjust_retention * df_cat.adjust_std * df_cat.adjust_cohort\n",
    "    df_cat[\"CLTV_sin_churn\"] = df_cat.median_diff_days_adjusted * df_cat.margen * df_cat.aov_cat_usd * df_cat.adjust_retention * df_cat.adjust_std\n",
    "    \n",
    "    df_cat['cash_margin'] = df_cat.aov_cat_usd * df_cat.margen\n",
    "\n",
    "    return df_cat"
   ]
  },
  {
   "cell_type": "code",
   "execution_count": 19,
   "id": "7ce57ec7",
   "metadata": {
    "execution": {
     "iopub.execute_input": "2024-03-21T23:54:15.206924Z",
     "iopub.status.busy": "2024-03-21T23:54:15.206492Z",
     "iopub.status.idle": "2024-03-21T23:54:54.111415Z",
     "shell.execute_reply": "2024-03-21T23:54:54.111777Z"
    },
    "papermill": {
     "duration": 38.93005,
     "end_time": "2024-03-21T23:54:54.111909",
     "exception": false,
     "start_time": "2024-03-21T23:54:15.181859",
     "status": "completed"
    },
    "tags": []
   },
   "outputs": [
    {
     "name": "stdout",
     "output_type": "stream",
     "text": [
      "Bebidas\n"
     ]
    },
    {
     "name": "stdout",
     "output_type": "stream",
     "text": [
      "Done Bebidas\n",
      "Carnes, Aves e Peixes\n"
     ]
    },
    {
     "name": "stdout",
     "output_type": "stream",
     "text": [
      "Done Carnes, Aves e Peixes\n",
      "Congelados\n"
     ]
    },
    {
     "name": "stdout",
     "output_type": "stream",
     "text": [
      "Done Congelados\n",
      "Descartáveis\n"
     ]
    },
    {
     "name": "stdout",
     "output_type": "stream",
     "text": [
      "Done Descartáveis\n",
      "Frutas e Verduras\n"
     ]
    },
    {
     "name": "stdout",
     "output_type": "stream",
     "text": [
      "Done Frutas e Verduras\n",
      "Laticínios e Ovos\n"
     ]
    },
    {
     "name": "stdout",
     "output_type": "stream",
     "text": [
      "Done Laticínios e Ovos\n",
      "Limpeza e Higiene\n"
     ]
    },
    {
     "name": "stdout",
     "output_type": "stream",
     "text": [
      "Done Limpeza e Higiene\n",
      "Mercearia\n"
     ]
    },
    {
     "name": "stdout",
     "output_type": "stream",
     "text": [
      "Done Mercearia\n"
     ]
    }
   ],
   "source": [
    "df3 = pd.DataFrame()\n",
    "\n",
    "for cat in df2.cat.unique():\n",
    "   print(cat)\n",
    "   if cat not in ('Frubana prime','¡productos nuevos!','No value','Mesa & cocina','Insumos internos cat','Despensa'):\n",
    "      df3 = df3.append(cat_metrics_2(cat))\n",
    "   print(f'Done {cat}')"
   ]
  },
  {
   "cell_type": "code",
   "execution_count": 20,
   "id": "35a6d71a",
   "metadata": {
    "execution": {
     "iopub.execute_input": "2024-03-21T23:54:54.160270Z",
     "iopub.status.busy": "2024-03-21T23:54:54.159834Z",
     "iopub.status.idle": "2024-03-21T23:54:54.178882Z",
     "shell.execute_reply": "2024-03-21T23:54:54.178442Z"
    },
    "papermill": {
     "duration": 0.045406,
     "end_time": "2024-03-21T23:54:54.178981",
     "exception": false,
     "start_time": "2024-03-21T23:54:54.133575",
     "status": "completed"
    },
    "tags": []
   },
   "outputs": [
    {
     "data": {
      "text/html": [
       "<div>\n",
       "<style scoped>\n",
       "    .dataframe tbody tr th:only-of-type {\n",
       "        vertical-align: middle;\n",
       "    }\n",
       "\n",
       "    .dataframe tbody tr th {\n",
       "        vertical-align: top;\n",
       "    }\n",
       "\n",
       "    .dataframe thead th {\n",
       "        text-align: right;\n",
       "    }\n",
       "</style>\n",
       "<table border=\"1\" class=\"dataframe\">\n",
       "  <thead>\n",
       "    <tr style=\"text-align: right;\">\n",
       "      <th></th>\n",
       "      <th>city</th>\n",
       "      <th>customer_id</th>\n",
       "      <th>cat</th>\n",
       "      <th>min_diff_days</th>\n",
       "      <th>max_diff_days</th>\n",
       "      <th>avg_diff_days</th>\n",
       "      <th>median_diff_days</th>\n",
       "      <th>stdev_diff_days</th>\n",
       "      <th>num_orders</th>\n",
       "      <th>aov_cat_usd</th>\n",
       "      <th>...</th>\n",
       "      <th>adjust_cohort</th>\n",
       "      <th>margen</th>\n",
       "      <th>adjust_retention</th>\n",
       "      <th>median_diff_days_adjusted</th>\n",
       "      <th>churned</th>\n",
       "      <th>churned_date</th>\n",
       "      <th>CLTV</th>\n",
       "      <th>CLTV_sin_margen</th>\n",
       "      <th>CLTV_sin_churn</th>\n",
       "      <th>cash_margin</th>\n",
       "    </tr>\n",
       "  </thead>\n",
       "  <tbody>\n",
       "    <tr>\n",
       "      <th>0</th>\n",
       "      <td>BHZ</td>\n",
       "      <td>63773239</td>\n",
       "      <td>Bebidas</td>\n",
       "      <td>1.0</td>\n",
       "      <td>36.0</td>\n",
       "      <td>8.641975</td>\n",
       "      <td>7.0</td>\n",
       "      <td>6.590350</td>\n",
       "      <td>82</td>\n",
       "      <td>48.596611</td>\n",
       "      <td>...</td>\n",
       "      <td>0.323722</td>\n",
       "      <td>0.224</td>\n",
       "      <td>1.000</td>\n",
       "      <td>52.142857</td>\n",
       "      <td>1</td>\n",
       "      <td>2024-03-13</td>\n",
       "      <td>165.372843</td>\n",
       "      <td>738.271621</td>\n",
       "      <td>510.847574</td>\n",
       "      <td>10.885641</td>\n",
       "    </tr>\n",
       "    <tr>\n",
       "      <th>8</th>\n",
       "      <td>BHZ</td>\n",
       "      <td>63775372</td>\n",
       "      <td>Bebidas</td>\n",
       "      <td>1.0</td>\n",
       "      <td>72.0</td>\n",
       "      <td>14.120000</td>\n",
       "      <td>9.0</td>\n",
       "      <td>14.856648</td>\n",
       "      <td>51</td>\n",
       "      <td>22.942910</td>\n",
       "      <td>...</td>\n",
       "      <td>1.000000</td>\n",
       "      <td>0.224</td>\n",
       "      <td>1.000</td>\n",
       "      <td>40.555556</td>\n",
       "      <td>0</td>\n",
       "      <td>2024-04-30</td>\n",
       "      <td>125.054156</td>\n",
       "      <td>558.277480</td>\n",
       "      <td>125.054156</td>\n",
       "      <td>5.139212</td>\n",
       "    </tr>\n",
       "    <tr>\n",
       "      <th>16</th>\n",
       "      <td>BHZ</td>\n",
       "      <td>63785947</td>\n",
       "      <td>Bebidas</td>\n",
       "      <td>1.0</td>\n",
       "      <td>77.0</td>\n",
       "      <td>22.500000</td>\n",
       "      <td>19.0</td>\n",
       "      <td>24.568498</td>\n",
       "      <td>11</td>\n",
       "      <td>9.048804</td>\n",
       "      <td>...</td>\n",
       "      <td>0.052329</td>\n",
       "      <td>0.224</td>\n",
       "      <td>0.984</td>\n",
       "      <td>19.210526</td>\n",
       "      <td>1</td>\n",
       "      <td>2023-01-25</td>\n",
       "      <td>0.802004</td>\n",
       "      <td>3.580375</td>\n",
       "      <td>15.326167</td>\n",
       "      <td>2.026932</td>\n",
       "    </tr>\n",
       "    <tr>\n",
       "      <th>24</th>\n",
       "      <td>BHZ</td>\n",
       "      <td>63790041</td>\n",
       "      <td>Bebidas</td>\n",
       "      <td>1.0</td>\n",
       "      <td>152.0</td>\n",
       "      <td>18.818182</td>\n",
       "      <td>8.0</td>\n",
       "      <td>28.061823</td>\n",
       "      <td>34</td>\n",
       "      <td>46.475170</td>\n",
       "      <td>...</td>\n",
       "      <td>0.582415</td>\n",
       "      <td>0.224</td>\n",
       "      <td>1.000</td>\n",
       "      <td>45.625000</td>\n",
       "      <td>0</td>\n",
       "      <td>2024-03-28</td>\n",
       "      <td>110.653351</td>\n",
       "      <td>493.988176</td>\n",
       "      <td>189.990496</td>\n",
       "      <td>10.410438</td>\n",
       "    </tr>\n",
       "    <tr>\n",
       "      <th>32</th>\n",
       "      <td>BHZ</td>\n",
       "      <td>63941332</td>\n",
       "      <td>Bebidas</td>\n",
       "      <td>18.0</td>\n",
       "      <td>353.0</td>\n",
       "      <td>112.000000</td>\n",
       "      <td>64.0</td>\n",
       "      <td>136.148816</td>\n",
       "      <td>6</td>\n",
       "      <td>80.589474</td>\n",
       "      <td>...</td>\n",
       "      <td>1.000000</td>\n",
       "      <td>0.224</td>\n",
       "      <td>1.000</td>\n",
       "      <td>5.703125</td>\n",
       "      <td>0</td>\n",
       "      <td>2025-01-06</td>\n",
       "      <td>10.295305</td>\n",
       "      <td>45.961184</td>\n",
       "      <td>10.295305</td>\n",
       "      <td>18.052042</td>\n",
       "    </tr>\n",
       "  </tbody>\n",
       "</table>\n",
       "<p>5 rows × 26 columns</p>\n",
       "</div>"
      ],
      "text/plain": [
       "   city  customer_id      cat  min_diff_days  max_diff_days  avg_diff_days  \\\n",
       "0   BHZ     63773239  Bebidas            1.0           36.0       8.641975   \n",
       "8   BHZ     63775372  Bebidas            1.0           72.0      14.120000   \n",
       "16  BHZ     63785947  Bebidas            1.0           77.0      22.500000   \n",
       "24  BHZ     63790041  Bebidas            1.0          152.0      18.818182   \n",
       "32  BHZ     63941332  Bebidas           18.0          353.0     112.000000   \n",
       "\n",
       "    median_diff_days  stdev_diff_days  num_orders  aov_cat_usd  ...  \\\n",
       "0                7.0         6.590350          82    48.596611  ...   \n",
       "8                9.0        14.856648          51    22.942910  ...   \n",
       "16              19.0        24.568498          11     9.048804  ...   \n",
       "24               8.0        28.061823          34    46.475170  ...   \n",
       "32              64.0       136.148816           6    80.589474  ...   \n",
       "\n",
       "    adjust_cohort margen  adjust_retention  median_diff_days_adjusted churned  \\\n",
       "0        0.323722  0.224             1.000                  52.142857       1   \n",
       "8        1.000000  0.224             1.000                  40.555556       0   \n",
       "16       0.052329  0.224             0.984                  19.210526       1   \n",
       "24       0.582415  0.224             1.000                  45.625000       0   \n",
       "32       1.000000  0.224             1.000                   5.703125       0   \n",
       "\n",
       "    churned_date        CLTV  CLTV_sin_margen  CLTV_sin_churn  cash_margin  \n",
       "0     2024-03-13  165.372843       738.271621      510.847574    10.885641  \n",
       "8     2024-04-30  125.054156       558.277480      125.054156     5.139212  \n",
       "16    2023-01-25    0.802004         3.580375       15.326167     2.026932  \n",
       "24    2024-03-28  110.653351       493.988176      189.990496    10.410438  \n",
       "32    2025-01-06   10.295305        45.961184       10.295305    18.052042  \n",
       "\n",
       "[5 rows x 26 columns]"
      ]
     },
     "execution_count": 20,
     "metadata": {},
     "output_type": "execute_result"
    }
   ],
   "source": [
    "df3.head(5)"
   ]
  },
  {
   "cell_type": "markdown",
   "id": "f1d35ffd",
   "metadata": {
    "papermill": {
     "duration": 0.021647,
     "end_time": "2024-03-21T23:54:54.222642",
     "exception": false,
     "start_time": "2024-03-21T23:54:54.200995",
     "status": "completed"
    },
    "tags": []
   },
   "source": [
    "# Aca empieza el analisis global by customer "
   ]
  },
  {
   "cell_type": "code",
   "execution_count": 21,
   "id": "ad62ceda",
   "metadata": {
    "execution": {
     "iopub.execute_input": "2024-03-21T23:54:54.270118Z",
     "iopub.status.busy": "2024-03-21T23:54:54.269678Z",
     "iopub.status.idle": "2024-03-21T23:54:54.287803Z",
     "shell.execute_reply": "2024-03-21T23:54:54.287411Z"
    },
    "papermill": {
     "duration": 0.043265,
     "end_time": "2024-03-21T23:54:54.287907",
     "exception": false,
     "start_time": "2024-03-21T23:54:54.244642",
     "status": "completed"
    },
    "tags": []
   },
   "outputs": [],
   "source": [
    "#Here, i group the df3 (the df with the whole info by cat to customer lvl)\n",
    "df_new3 = df3[['city','customer_id','aov_cat_usd','cash_margin','CLTV_sin_churn','churned']].groupby(by=['city','customer_id']).sum().reset_index()"
   ]
  },
  {
   "cell_type": "code",
   "execution_count": 22,
   "id": "3308afe0",
   "metadata": {
    "execution": {
     "iopub.execute_input": "2024-03-21T23:54:54.337534Z",
     "iopub.status.busy": "2024-03-21T23:54:54.337077Z",
     "iopub.status.idle": "2024-03-21T23:54:58.038321Z",
     "shell.execute_reply": "2024-03-21T23:54:58.038709Z"
    },
    "papermill": {
     "duration": 3.728663,
     "end_time": "2024-03-21T23:54:58.038844",
     "exception": false,
     "start_time": "2024-03-21T23:54:54.310181",
     "status": "completed"
    },
    "tags": []
   },
   "outputs": [],
   "source": [
    "#The processing data for customer level is made here\n",
    "\n",
    "df_new = df.groupby(by=['city','customer_id','order_id','submit_date']).sum().reset_index()\n",
    "\n",
    "df_new['days_bet'] = (df_new.submit_date -df_new.groupby('customer_id').submit_date.transform('min')).dt.days\n",
    "\n",
    "#This calculate in res the difference between consecutive orders and with the agg we calculate all metrics\n",
    "df_new['res'] = df_new.groupby(by=['customer_id'])['days_bet'].diff()\n",
    "df_grouped_2 = df_new.groupby(by=['city', 'customer_id']).agg({'res': [np.min, np.max, np.mean, np.median, np.std],\n",
    "                                                                    'order_id': [lambda x: x.nunique()], \n",
    "                                                                    'gmv_usd': [np.mean],\n",
    "                                                                    'cant': [np.mean],\n",
    "                                                                    'submit_date': [np.max, lambda x: (x.max()-x.min()).days, lambda x: (datetime.datetime.today() - x.max()).days, np.min]\n",
    "                                                                    }).droplevel(0, axis=\"columns\").reset_index()"
   ]
  },
  {
   "cell_type": "code",
   "execution_count": 23,
   "id": "0cd88b31",
   "metadata": {
    "execution": {
     "iopub.execute_input": "2024-03-21T23:54:58.086252Z",
     "iopub.status.busy": "2024-03-21T23:54:58.085819Z",
     "iopub.status.idle": "2024-03-21T23:54:58.088498Z",
     "shell.execute_reply": "2024-03-21T23:54:58.088131Z"
    },
    "papermill": {
     "duration": 0.027307,
     "end_time": "2024-03-21T23:54:58.088591",
     "exception": false,
     "start_time": "2024-03-21T23:54:58.061284",
     "status": "completed"
    },
    "tags": []
   },
   "outputs": [],
   "source": [
    "#Finally we define everything in a df_new2 at level customer for further processing\n",
    "df_new2 = df_grouped_2.copy()\n",
    "\n",
    "df_new2.columns = ['city', 'customer_id', 'min_diff_days', 'max_diff_days', 'avg_diff_days', 'median_diff_days', 'stdev_diff_days',\n",
    "               'num_orders', 'aov_ALL_usd', 'ALL_avg_cant', 'last_order_date', 'diff_from_last_to_first_order', 'days_since_last_order','first_order_date']"
   ]
  },
  {
   "cell_type": "code",
   "execution_count": 24,
   "id": "93febafb",
   "metadata": {
    "execution": {
     "iopub.execute_input": "2024-03-21T23:54:58.137434Z",
     "iopub.status.busy": "2024-03-21T23:54:58.136971Z",
     "iopub.status.idle": "2024-03-21T23:55:00.321130Z",
     "shell.execute_reply": "2024-03-21T23:55:00.321535Z"
    },
    "papermill": {
     "duration": 2.211148,
     "end_time": "2024-03-21T23:55:00.321669",
     "exception": false,
     "start_time": "2024-03-21T23:54:58.110521",
     "status": "completed"
    },
    "tags": []
   },
   "outputs": [],
   "source": [
    "#Finally we calculate the next parameters and also integred with df_new3 where we can have the info grouped by customer about the category performance\n",
    "df_new2[\"churned_ALL\"] = [0 if ((x[12]) - (x[4]+x[6]*2) <= 0) else 1 for x in df_new2.values]\n",
    "\n",
    "df_new2['adjust_std'] = pd.qcut(df_new2.stdev_diff_days, 10, labels=[1,0.9,0.8,0.7,0.6,0.5,0.4,0.3,0.2,0.1])\n",
    "df_new2[[\"adjust_std\"]] = df_new2[[\"adjust_std\"]].astype(float)\n",
    "\n",
    "df_new2['adjust_retention'] = [1 if diff_month(x[10],x[13])+1 >= 10 else \n",
    "                                retention_aux[(retention_aux.region_code == x[0])][str(diff_month(x[10],x[13])+1)].max() for x in df_new2.values]\n",
    "\n",
    "df_new2['median_diff_days_adjusted'] = 365/df_new2.median_diff_days\n",
    "\n",
    "#this merge is to include the info for the total cash_margin, how many cats is churned and the total cat CLTV\n",
    "df_new2 = df_new2.merge(df_new3[['customer_id','cash_margin','CLTV_sin_churn','churned']], on='customer_id', how='left')"
   ]
  },
  {
   "cell_type": "code",
   "execution_count": 25,
   "id": "9b47ce93",
   "metadata": {
    "execution": {
     "iopub.execute_input": "2024-03-21T23:55:00.370303Z",
     "iopub.status.busy": "2024-03-21T23:55:00.369860Z",
     "iopub.status.idle": "2024-03-21T23:55:00.490293Z",
     "shell.execute_reply": "2024-03-21T23:55:00.490696Z"
    },
    "papermill": {
     "duration": 0.146593,
     "end_time": "2024-03-21T23:55:00.490827",
     "exception": false,
     "start_time": "2024-03-21T23:55:00.344234",
     "status": "completed"
    },
    "tags": []
   },
   "outputs": [
    {
     "name": "stdout",
     "output_type": "stream",
     "text": [
      "5402085.667782928 5344787.026809116\n"
     ]
    }
   ],
   "source": [
    "#We calculate now the CLTV taking into account the global behavior of the customer\n",
    "df_new2[\"ALL_CLTV_sin_churn\"] = df_new2.median_diff_days_adjusted * df_new2.adjust_retention * df_new2.adjust_std * df_new2.cash_margin / 2\n",
    "df_new2[['CLTV_sin_churn','ALL_CLTV_sin_churn']] = df_new2[['CLTV_sin_churn','ALL_CLTV_sin_churn']].fillna(0)\n",
    "\n",
    "#df_new2[\"CLTV\"] = df_new2.median_diff_days_adjusted * df_new2.margen * df_new2.aov_cat_usd * df_new2.adjust_retention * df_new2.adjust_std * df_new2.adjust_cohort\n",
    "#df_new2[\"CLTV_sin_margen\"] = df_new2.median_diff_days_adjusted * df_new2.aov_cat_usd * df_new2.adjust_retention * df_new2.adjust_std * df_new2.adjust_cohort\n",
    "\n",
    "#If the Total Cat CLTV is NA because it is so few orders for each category, we create a Adjust_CLTV to include the global or ALL_CLTV_sin_churn instead of the NULL value\n",
    "df_new2['Adjust_CLTV'] = [x[21] if x[19] == 0 else x[19] for x in df_new2.values]\n",
    "\n",
    "print(df_new2.Adjust_CLTV.sum(),df_new2.CLTV_sin_churn.sum())"
   ]
  },
  {
   "cell_type": "code",
   "execution_count": 26,
   "id": "9f9f922a",
   "metadata": {
    "execution": {
     "iopub.execute_input": "2024-03-21T23:55:00.539861Z",
     "iopub.status.busy": "2024-03-21T23:55:00.539412Z",
     "iopub.status.idle": "2024-03-21T23:55:00.650882Z",
     "shell.execute_reply": "2024-03-21T23:55:00.650398Z"
    },
    "papermill": {
     "duration": 0.137411,
     "end_time": "2024-03-21T23:55:00.650991",
     "exception": false,
     "start_time": "2024-03-21T23:55:00.513580",
     "status": "completed"
    },
    "tags": []
   },
   "outputs": [],
   "source": [
    "#Finally, we calculate the ALL_churned_date based on the general behavior of the customer\n",
    "df_new2[['avg_diff_days','stdev_diff_days']] = df_new2[['avg_diff_days','stdev_diff_days']].fillna(0)\n",
    "df_new2['ALL_churned_date'] = [(x[10] + datetime.timedelta(days=int(x[4]+x[6]*2))).strftime('%Y-%m-%d') for x in df_new2.values] #1 months"
   ]
  },
  {
   "cell_type": "markdown",
   "id": "82ab9af0",
   "metadata": {
    "papermill": {
     "duration": 0.022387,
     "end_time": "2024-03-21T23:55:00.696293",
     "exception": false,
     "start_time": "2024-03-21T23:55:00.673906",
     "status": "completed"
    },
    "tags": []
   },
   "source": [
    "# Final processing of the file to export"
   ]
  },
  {
   "cell_type": "code",
   "execution_count": 27,
   "id": "90ffd63b",
   "metadata": {
    "execution": {
     "iopub.execute_input": "2024-03-21T23:55:00.753221Z",
     "iopub.status.busy": "2024-03-21T23:55:00.752781Z",
     "iopub.status.idle": "2024-03-21T23:55:00.768378Z",
     "shell.execute_reply": "2024-03-21T23:55:00.768720Z"
    },
    "papermill": {
     "duration": 0.049936,
     "end_time": "2024-03-21T23:55:00.768841",
     "exception": false,
     "start_time": "2024-03-21T23:55:00.718905",
     "status": "completed"
    },
    "tags": []
   },
   "outputs": [],
   "source": [
    "#We will merge the df_new2 with the clear_buyers in order to filter by restaurants and take away kams (also to include the microsegment)\n",
    "df_new2 = df_new2.merge(clear_buyers[clear_buyers.registered_city == city][['customer_id','business_type','microsegment_name','is_kam']], on='customer_id', how='left')\n",
    "df_new2_end = df_new2[(df_new2.is_kam == 0)].copy() #df_new2[(df_new2.business_type == 'Restaurante') & (df_new2.is_kam == 0)].copy()"
   ]
  },
  {
   "cell_type": "code",
   "execution_count": 28,
   "id": "1073fc03",
   "metadata": {
    "execution": {
     "iopub.execute_input": "2024-03-21T23:55:00.817982Z",
     "iopub.status.busy": "2024-03-21T23:55:00.817540Z",
     "iopub.status.idle": "2024-03-21T23:55:00.826843Z",
     "shell.execute_reply": "2024-03-21T23:55:00.827183Z"
    },
    "papermill": {
     "duration": 0.035426,
     "end_time": "2024-03-21T23:55:00.827299",
     "exception": false,
     "start_time": "2024-03-21T23:55:00.791873",
     "status": "completed"
    },
    "tags": []
   },
   "outputs": [],
   "source": [
    "#This cell is to calculate the cumulative sum to create the tiers further\n",
    "df_new2_end = df_new2_end.sort_values(['Adjust_CLTV'], ascending=[False])\n",
    "df_new2_end['cumsum'] = df_new2_end.groupby('city')['Adjust_CLTV'].cumsum()\n",
    "df_new2_end['run_pct'] = df_new2_end.groupby('city')['Adjust_CLTV'].apply(lambda x: (x/x.sum()).cumsum())"
   ]
  },
  {
   "cell_type": "code",
   "execution_count": 29,
   "id": "e7cbe69b",
   "metadata": {
    "execution": {
     "iopub.execute_input": "2024-03-21T23:55:00.882237Z",
     "iopub.status.busy": "2024-03-21T23:55:00.879031Z",
     "iopub.status.idle": "2024-03-21T23:55:00.883776Z",
     "shell.execute_reply": "2024-03-21T23:55:00.884115Z"
    },
    "papermill": {
     "duration": 0.034407,
     "end_time": "2024-03-21T23:55:00.884221",
     "exception": false,
     "start_time": "2024-03-21T23:55:00.849814",
     "status": "completed"
    },
    "tags": []
   },
   "outputs": [],
   "source": [
    "#This conditional create the tiers\n",
    "df_new2_end['tier'] = ['A' if x <= 0.1 else\n",
    "                       'B' if x <= 0.2 else\n",
    "                       'C' if x <= 0.3 else\n",
    "                       'D' if x <= 0.4 else\n",
    "                       'E' if x <= 0.5 else\n",
    "                       'F' if x <= 0.6 else\n",
    "                       'G' if x <= 0.7 else\n",
    "                       'H' if x <= 0.8 else\n",
    "                       'I' if x <= 0.9 else\n",
    "                       'J' for x in df_new2_end.run_pct.values]"
   ]
  },
  {
   "cell_type": "code",
   "execution_count": 30,
   "id": "680200dc",
   "metadata": {
    "execution": {
     "iopub.execute_input": "2024-03-21T23:55:00.934654Z",
     "iopub.status.busy": "2024-03-21T23:55:00.934228Z",
     "iopub.status.idle": "2024-03-21T23:55:00.936227Z",
     "shell.execute_reply": "2024-03-21T23:55:00.936569Z"
    },
    "papermill": {
     "duration": 0.029559,
     "end_time": "2024-03-21T23:55:00.936680",
     "exception": false,
     "start_time": "2024-03-21T23:55:00.907121",
     "status": "completed"
    },
    "tags": []
   },
   "outputs": [
    {
     "data": {
      "text/plain": [
       "J    4905\n",
       "I    1149\n",
       "H     762\n",
       "G     558\n",
       "F     421\n",
       "E     325\n",
       "D     251\n",
       "C     193\n",
       "B     139\n",
       "A      51\n",
       "Name: tier, dtype: int64"
      ]
     },
     "execution_count": 30,
     "metadata": {},
     "output_type": "execute_result"
    }
   ],
   "source": [
    "df_new2_end.tier.value_counts()"
   ]
  },
  {
   "cell_type": "code",
   "execution_count": 31,
   "id": "0c471eac",
   "metadata": {
    "execution": {
     "iopub.execute_input": "2024-03-21T23:55:00.985879Z",
     "iopub.status.busy": "2024-03-21T23:55:00.985456Z",
     "iopub.status.idle": "2024-03-21T23:55:00.986922Z",
     "shell.execute_reply": "2024-03-21T23:55:00.987258Z"
    },
    "papermill": {
     "duration": 0.027712,
     "end_time": "2024-03-21T23:55:00.987360",
     "exception": false,
     "start_time": "2024-03-21T23:55:00.959648",
     "status": "completed"
    },
    "tags": []
   },
   "outputs": [],
   "source": [
    "df_new2_end.rename(columns={'num_orders': 'ALL_num_orders', 'CLTV_sin_churn': 'TOTAL_CAT_CLTV_sin_churn'}, inplace=True)\n",
    "\n",
    "df3.rename(columns={'num_orders': 'num_orders_cat', 'churned': 'churned_cat','CLTV_sin_churn':'CAT_CLTV_sin_churn'}, inplace=True)"
   ]
  },
  {
   "cell_type": "code",
   "execution_count": 32,
   "id": "799342b1",
   "metadata": {
    "execution": {
     "iopub.execute_input": "2024-03-21T23:55:01.036282Z",
     "iopub.status.busy": "2024-03-21T23:55:01.035864Z",
     "iopub.status.idle": "2024-03-21T23:55:01.037844Z",
     "shell.execute_reply": "2024-03-21T23:55:01.038180Z"
    },
    "papermill": {
     "duration": 0.027921,
     "end_time": "2024-03-21T23:55:01.038281",
     "exception": false,
     "start_time": "2024-03-21T23:55:01.010360",
     "status": "completed"
    },
    "tags": []
   },
   "outputs": [
    {
     "data": {
      "text/plain": [
       "Index(['city', 'customer_id', 'min_diff_days', 'max_diff_days',\n",
       "       'avg_diff_days', 'median_diff_days', 'stdev_diff_days',\n",
       "       'ALL_num_orders', 'aov_ALL_usd', 'ALL_avg_cant', 'last_order_date',\n",
       "       'diff_from_last_to_first_order', 'days_since_last_order',\n",
       "       'first_order_date', 'churned_ALL', 'adjust_std', 'adjust_retention',\n",
       "       'median_diff_days_adjusted', 'cash_margin', 'TOTAL_CAT_CLTV_sin_churn',\n",
       "       'churned', 'ALL_CLTV_sin_churn', 'Adjust_CLTV', 'ALL_churned_date',\n",
       "       'business_type', 'microsegment_name', 'is_kam', 'cumsum', 'run_pct',\n",
       "       'tier'],\n",
       "      dtype='object')"
      ]
     },
     "execution_count": 32,
     "metadata": {},
     "output_type": "execute_result"
    }
   ],
   "source": [
    "df_new2_end.columns"
   ]
  },
  {
   "cell_type": "code",
   "execution_count": 33,
   "id": "bc78c5de",
   "metadata": {
    "execution": {
     "iopub.execute_input": "2024-03-21T23:55:01.088143Z",
     "iopub.status.busy": "2024-03-21T23:55:01.087718Z",
     "iopub.status.idle": "2024-03-21T23:55:01.101758Z",
     "shell.execute_reply": "2024-03-21T23:55:01.102098Z"
    },
    "papermill": {
     "duration": 0.040706,
     "end_time": "2024-03-21T23:55:01.102203",
     "exception": false,
     "start_time": "2024-03-21T23:55:01.061497",
     "status": "completed"
    },
    "tags": []
   },
   "outputs": [],
   "source": [
    "#We merge with data_farming so we get the info farming for each customer\n",
    "df_new2_end = df_new2_end[['customer_id','ALL_num_orders', 'aov_ALL_usd', 'churned_ALL', 'ALL_churned_date','TOTAL_CAT_CLTV_sin_churn',\n",
    "       'ALL_CLTV_sin_churn', 'Adjust_CLTV','tier', 'microsegment_name', 'business_type', 'is_kam']].merge(data_farming[data_farming.ciudad == city][['customer_id','owner']], on='customer_id', how='left')\n",
    "df_new2_end[['owner']] = df_new2_end[['owner']].fillna('No Farming')"
   ]
  },
  {
   "cell_type": "code",
   "execution_count": 34,
   "id": "7836c993",
   "metadata": {
    "execution": {
     "iopub.execute_input": "2024-03-21T23:55:01.152932Z",
     "iopub.status.busy": "2024-03-21T23:55:01.152510Z",
     "iopub.status.idle": "2024-03-21T23:55:01.154378Z",
     "shell.execute_reply": "2024-03-21T23:55:01.154017Z"
    },
    "papermill": {
     "duration": 0.028565,
     "end_time": "2024-03-21T23:55:01.154467",
     "exception": false,
     "start_time": "2024-03-21T23:55:01.125902",
     "status": "completed"
    },
    "tags": []
   },
   "outputs": [],
   "source": [
    "df_new2_end.rename(columns={'num_orders': 'ALL_num_orders', 'CLTV_sin_churn': 'TOTAL_CAT_CLTV_sin_churn'}, inplace=True)\n",
    "\n",
    "df3.rename(columns={'num_orders': 'num_orders_cat', 'churned': 'churned_cat','CLTV_sin_churn':'CAT_CLTV_sin_churn'}, inplace=True)"
   ]
  },
  {
   "cell_type": "code",
   "execution_count": 35,
   "id": "213646ec",
   "metadata": {
    "execution": {
     "iopub.execute_input": "2024-03-21T23:55:01.204954Z",
     "iopub.status.busy": "2024-03-21T23:55:01.204532Z",
     "iopub.status.idle": "2024-03-21T23:55:01.236402Z",
     "shell.execute_reply": "2024-03-21T23:55:01.236013Z"
    },
    "papermill": {
     "duration": 0.058504,
     "end_time": "2024-03-21T23:55:01.236504",
     "exception": false,
     "start_time": "2024-03-21T23:55:01.178000",
     "status": "completed"
    },
    "tags": []
   },
   "outputs": [],
   "source": [
    "df_final = df3[['city', 'customer_id', 'cat', 'min_diff_days', 'max_diff_days', 'avg_diff_days', 'median_diff_days', 'stdev_diff_days', 'num_orders_cat',\n",
    "       'aov_cat_usd','last_order_date', 'diff_from_last_to_first_order', 'days_since_last_order',\n",
    "       'first_order_date', 'adjust_std', 'adjust_cohort','adjust_retention', \n",
    "       'median_diff_days_adjusted', 'churned_cat', 'churned_date','CAT_CLTV_sin_churn']].merge(df_new2_end, on='customer_id', how='inner')"
   ]
  },
  {
   "cell_type": "code",
   "execution_count": 36,
   "id": "d9acd0af",
   "metadata": {
    "execution": {
     "iopub.execute_input": "2024-03-21T23:55:01.288505Z",
     "iopub.status.busy": "2024-03-21T23:55:01.287804Z",
     "iopub.status.idle": "2024-03-21T23:55:01.307272Z",
     "shell.execute_reply": "2024-03-21T23:55:01.307625Z"
    },
    "papermill": {
     "duration": 0.047161,
     "end_time": "2024-03-21T23:55:01.307740",
     "exception": false,
     "start_time": "2024-03-21T23:55:01.260579",
     "status": "completed"
    },
    "tags": []
   },
   "outputs": [
    {
     "data": {
      "text/html": [
       "<div>\n",
       "<style scoped>\n",
       "    .dataframe tbody tr th:only-of-type {\n",
       "        vertical-align: middle;\n",
       "    }\n",
       "\n",
       "    .dataframe tbody tr th {\n",
       "        vertical-align: top;\n",
       "    }\n",
       "\n",
       "    .dataframe thead th {\n",
       "        text-align: right;\n",
       "    }\n",
       "</style>\n",
       "<table border=\"1\" class=\"dataframe\">\n",
       "  <thead>\n",
       "    <tr style=\"text-align: right;\">\n",
       "      <th></th>\n",
       "      <th>city</th>\n",
       "      <th>customer_id</th>\n",
       "      <th>cat</th>\n",
       "      <th>min_diff_days</th>\n",
       "      <th>max_diff_days</th>\n",
       "      <th>avg_diff_days</th>\n",
       "      <th>median_diff_days</th>\n",
       "      <th>stdev_diff_days</th>\n",
       "      <th>num_orders_cat</th>\n",
       "      <th>aov_cat_usd</th>\n",
       "      <th>...</th>\n",
       "      <th>churned_ALL</th>\n",
       "      <th>ALL_churned_date</th>\n",
       "      <th>TOTAL_CAT_CLTV_sin_churn</th>\n",
       "      <th>ALL_CLTV_sin_churn</th>\n",
       "      <th>Adjust_CLTV</th>\n",
       "      <th>tier</th>\n",
       "      <th>microsegment_name</th>\n",
       "      <th>business_type</th>\n",
       "      <th>is_kam</th>\n",
       "      <th>owner</th>\n",
       "    </tr>\n",
       "  </thead>\n",
       "  <tbody>\n",
       "    <tr>\n",
       "      <th>0</th>\n",
       "      <td>BHZ</td>\n",
       "      <td>63773239</td>\n",
       "      <td>Bebidas</td>\n",
       "      <td>1.0</td>\n",
       "      <td>36.0</td>\n",
       "      <td>8.641975</td>\n",
       "      <td>7.0</td>\n",
       "      <td>6.590350</td>\n",
       "      <td>82</td>\n",
       "      <td>48.596611</td>\n",
       "      <td>...</td>\n",
       "      <td>0</td>\n",
       "      <td>2024-03-25</td>\n",
       "      <td>3771.399890</td>\n",
       "      <td>3302.133287</td>\n",
       "      <td>3771.399890</td>\n",
       "      <td>B</td>\n",
       "      <td>Lanches</td>\n",
       "      <td>Restaurante</td>\n",
       "      <td>False</td>\n",
       "      <td>No Farming</td>\n",
       "    </tr>\n",
       "    <tr>\n",
       "      <th>1</th>\n",
       "      <td>BHZ</td>\n",
       "      <td>63773239</td>\n",
       "      <td>Carnes, Aves e Peixes</td>\n",
       "      <td>1.0</td>\n",
       "      <td>215.0</td>\n",
       "      <td>15.675000</td>\n",
       "      <td>8.0</td>\n",
       "      <td>33.483549</td>\n",
       "      <td>41</td>\n",
       "      <td>39.203800</td>\n",
       "      <td>...</td>\n",
       "      <td>0</td>\n",
       "      <td>2024-03-25</td>\n",
       "      <td>3771.399890</td>\n",
       "      <td>3302.133287</td>\n",
       "      <td>3771.399890</td>\n",
       "      <td>B</td>\n",
       "      <td>Lanches</td>\n",
       "      <td>Restaurante</td>\n",
       "      <td>False</td>\n",
       "      <td>No Farming</td>\n",
       "    </tr>\n",
       "    <tr>\n",
       "      <th>2</th>\n",
       "      <td>BHZ</td>\n",
       "      <td>63773239</td>\n",
       "      <td>Congelados</td>\n",
       "      <td>1.0</td>\n",
       "      <td>91.0</td>\n",
       "      <td>5.352941</td>\n",
       "      <td>4.0</td>\n",
       "      <td>9.570425</td>\n",
       "      <td>137</td>\n",
       "      <td>80.929466</td>\n",
       "      <td>...</td>\n",
       "      <td>0</td>\n",
       "      <td>2024-03-25</td>\n",
       "      <td>3771.399890</td>\n",
       "      <td>3302.133287</td>\n",
       "      <td>3771.399890</td>\n",
       "      <td>B</td>\n",
       "      <td>Lanches</td>\n",
       "      <td>Restaurante</td>\n",
       "      <td>False</td>\n",
       "      <td>No Farming</td>\n",
       "    </tr>\n",
       "    <tr>\n",
       "      <th>3</th>\n",
       "      <td>BHZ</td>\n",
       "      <td>63773239</td>\n",
       "      <td>Descartáveis</td>\n",
       "      <td>9.0</td>\n",
       "      <td>118.0</td>\n",
       "      <td>46.750000</td>\n",
       "      <td>40.5</td>\n",
       "      <td>36.946873</td>\n",
       "      <td>9</td>\n",
       "      <td>2.767953</td>\n",
       "      <td>...</td>\n",
       "      <td>0</td>\n",
       "      <td>2024-03-25</td>\n",
       "      <td>3771.399890</td>\n",
       "      <td>3302.133287</td>\n",
       "      <td>3771.399890</td>\n",
       "      <td>B</td>\n",
       "      <td>Lanches</td>\n",
       "      <td>Restaurante</td>\n",
       "      <td>False</td>\n",
       "      <td>No Farming</td>\n",
       "    </tr>\n",
       "    <tr>\n",
       "      <th>4</th>\n",
       "      <td>BHZ</td>\n",
       "      <td>63773239</td>\n",
       "      <td>Frutas e Verduras</td>\n",
       "      <td>1.0</td>\n",
       "      <td>83.0</td>\n",
       "      <td>4.888060</td>\n",
       "      <td>3.0</td>\n",
       "      <td>8.588032</td>\n",
       "      <td>135</td>\n",
       "      <td>30.078222</td>\n",
       "      <td>...</td>\n",
       "      <td>0</td>\n",
       "      <td>2024-03-25</td>\n",
       "      <td>3771.399890</td>\n",
       "      <td>3302.133287</td>\n",
       "      <td>3771.399890</td>\n",
       "      <td>B</td>\n",
       "      <td>Lanches</td>\n",
       "      <td>Restaurante</td>\n",
       "      <td>False</td>\n",
       "      <td>No Farming</td>\n",
       "    </tr>\n",
       "    <tr>\n",
       "      <th>5</th>\n",
       "      <td>BHZ</td>\n",
       "      <td>63773239</td>\n",
       "      <td>Laticínios e Ovos</td>\n",
       "      <td>1.0</td>\n",
       "      <td>27.0</td>\n",
       "      <td>7.505882</td>\n",
       "      <td>6.0</td>\n",
       "      <td>5.848532</td>\n",
       "      <td>86</td>\n",
       "      <td>71.019388</td>\n",
       "      <td>...</td>\n",
       "      <td>0</td>\n",
       "      <td>2024-03-25</td>\n",
       "      <td>3771.399890</td>\n",
       "      <td>3302.133287</td>\n",
       "      <td>3771.399890</td>\n",
       "      <td>B</td>\n",
       "      <td>Lanches</td>\n",
       "      <td>Restaurante</td>\n",
       "      <td>False</td>\n",
       "      <td>No Farming</td>\n",
       "    </tr>\n",
       "    <tr>\n",
       "      <th>6</th>\n",
       "      <td>BHZ</td>\n",
       "      <td>63773239</td>\n",
       "      <td>Limpeza e Higiene</td>\n",
       "      <td>1.0</td>\n",
       "      <td>119.0</td>\n",
       "      <td>12.862745</td>\n",
       "      <td>4.0</td>\n",
       "      <td>25.257886</td>\n",
       "      <td>52</td>\n",
       "      <td>20.060648</td>\n",
       "      <td>...</td>\n",
       "      <td>0</td>\n",
       "      <td>2024-03-25</td>\n",
       "      <td>3771.399890</td>\n",
       "      <td>3302.133287</td>\n",
       "      <td>3771.399890</td>\n",
       "      <td>B</td>\n",
       "      <td>Lanches</td>\n",
       "      <td>Restaurante</td>\n",
       "      <td>False</td>\n",
       "      <td>No Farming</td>\n",
       "    </tr>\n",
       "    <tr>\n",
       "      <th>7</th>\n",
       "      <td>BHZ</td>\n",
       "      <td>63773239</td>\n",
       "      <td>Mercearia</td>\n",
       "      <td>1.0</td>\n",
       "      <td>11.0</td>\n",
       "      <td>4.033333</td>\n",
       "      <td>4.0</td>\n",
       "      <td>1.774745</td>\n",
       "      <td>181</td>\n",
       "      <td>83.848351</td>\n",
       "      <td>...</td>\n",
       "      <td>0</td>\n",
       "      <td>2024-03-25</td>\n",
       "      <td>3771.399890</td>\n",
       "      <td>3302.133287</td>\n",
       "      <td>3771.399890</td>\n",
       "      <td>B</td>\n",
       "      <td>Lanches</td>\n",
       "      <td>Restaurante</td>\n",
       "      <td>False</td>\n",
       "      <td>No Farming</td>\n",
       "    </tr>\n",
       "    <tr>\n",
       "      <th>8</th>\n",
       "      <td>BHZ</td>\n",
       "      <td>63775372</td>\n",
       "      <td>Bebidas</td>\n",
       "      <td>1.0</td>\n",
       "      <td>72.0</td>\n",
       "      <td>14.120000</td>\n",
       "      <td>9.0</td>\n",
       "      <td>14.856648</td>\n",
       "      <td>51</td>\n",
       "      <td>22.942910</td>\n",
       "      <td>...</td>\n",
       "      <td>0</td>\n",
       "      <td>2024-04-02</td>\n",
       "      <td>311.108211</td>\n",
       "      <td>339.673124</td>\n",
       "      <td>311.108211</td>\n",
       "      <td>J</td>\n",
       "      <td>Lanches</td>\n",
       "      <td>Restaurante</td>\n",
       "      <td>False</td>\n",
       "      <td>caio.duarte@frubana.com</td>\n",
       "    </tr>\n",
       "    <tr>\n",
       "      <th>9</th>\n",
       "      <td>BHZ</td>\n",
       "      <td>63775372</td>\n",
       "      <td>Carnes, Aves e Peixes</td>\n",
       "      <td>7.0</td>\n",
       "      <td>224.0</td>\n",
       "      <td>90.000000</td>\n",
       "      <td>69.5</td>\n",
       "      <td>74.253619</td>\n",
       "      <td>7</td>\n",
       "      <td>10.197594</td>\n",
       "      <td>...</td>\n",
       "      <td>0</td>\n",
       "      <td>2024-04-02</td>\n",
       "      <td>311.108211</td>\n",
       "      <td>339.673124</td>\n",
       "      <td>311.108211</td>\n",
       "      <td>J</td>\n",
       "      <td>Lanches</td>\n",
       "      <td>Restaurante</td>\n",
       "      <td>False</td>\n",
       "      <td>caio.duarte@frubana.com</td>\n",
       "    </tr>\n",
       "  </tbody>\n",
       "</table>\n",
       "<p>10 rows × 33 columns</p>\n",
       "</div>"
      ],
      "text/plain": [
       "  city  customer_id                    cat  min_diff_days  max_diff_days  \\\n",
       "0  BHZ     63773239                Bebidas            1.0           36.0   \n",
       "1  BHZ     63773239  Carnes, Aves e Peixes            1.0          215.0   \n",
       "2  BHZ     63773239             Congelados            1.0           91.0   \n",
       "3  BHZ     63773239           Descartáveis            9.0          118.0   \n",
       "4  BHZ     63773239      Frutas e Verduras            1.0           83.0   \n",
       "5  BHZ     63773239      Laticínios e Ovos            1.0           27.0   \n",
       "6  BHZ     63773239      Limpeza e Higiene            1.0          119.0   \n",
       "7  BHZ     63773239              Mercearia            1.0           11.0   \n",
       "8  BHZ     63775372                Bebidas            1.0           72.0   \n",
       "9  BHZ     63775372  Carnes, Aves e Peixes            7.0          224.0   \n",
       "\n",
       "   avg_diff_days  median_diff_days  stdev_diff_days  num_orders_cat  \\\n",
       "0       8.641975               7.0         6.590350              82   \n",
       "1      15.675000               8.0        33.483549              41   \n",
       "2       5.352941               4.0         9.570425             137   \n",
       "3      46.750000              40.5        36.946873               9   \n",
       "4       4.888060               3.0         8.588032             135   \n",
       "5       7.505882               6.0         5.848532              86   \n",
       "6      12.862745               4.0        25.257886              52   \n",
       "7       4.033333               4.0         1.774745             181   \n",
       "8      14.120000               9.0        14.856648              51   \n",
       "9      90.000000              69.5        74.253619               7   \n",
       "\n",
       "   aov_cat_usd  ... churned_ALL  ALL_churned_date  TOTAL_CAT_CLTV_sin_churn  \\\n",
       "0    48.596611  ...           0        2024-03-25               3771.399890   \n",
       "1    39.203800  ...           0        2024-03-25               3771.399890   \n",
       "2    80.929466  ...           0        2024-03-25               3771.399890   \n",
       "3     2.767953  ...           0        2024-03-25               3771.399890   \n",
       "4    30.078222  ...           0        2024-03-25               3771.399890   \n",
       "5    71.019388  ...           0        2024-03-25               3771.399890   \n",
       "6    20.060648  ...           0        2024-03-25               3771.399890   \n",
       "7    83.848351  ...           0        2024-03-25               3771.399890   \n",
       "8    22.942910  ...           0        2024-04-02                311.108211   \n",
       "9    10.197594  ...           0        2024-04-02                311.108211   \n",
       "\n",
       "  ALL_CLTV_sin_churn  Adjust_CLTV  tier  microsegment_name  business_type  \\\n",
       "0        3302.133287  3771.399890     B            Lanches    Restaurante   \n",
       "1        3302.133287  3771.399890     B            Lanches    Restaurante   \n",
       "2        3302.133287  3771.399890     B            Lanches    Restaurante   \n",
       "3        3302.133287  3771.399890     B            Lanches    Restaurante   \n",
       "4        3302.133287  3771.399890     B            Lanches    Restaurante   \n",
       "5        3302.133287  3771.399890     B            Lanches    Restaurante   \n",
       "6        3302.133287  3771.399890     B            Lanches    Restaurante   \n",
       "7        3302.133287  3771.399890     B            Lanches    Restaurante   \n",
       "8         339.673124   311.108211     J            Lanches    Restaurante   \n",
       "9         339.673124   311.108211     J            Lanches    Restaurante   \n",
       "\n",
       "   is_kam                    owner  \n",
       "0   False               No Farming  \n",
       "1   False               No Farming  \n",
       "2   False               No Farming  \n",
       "3   False               No Farming  \n",
       "4   False               No Farming  \n",
       "5   False               No Farming  \n",
       "6   False               No Farming  \n",
       "7   False               No Farming  \n",
       "8   False  caio.duarte@frubana.com  \n",
       "9   False  caio.duarte@frubana.com  \n",
       "\n",
       "[10 rows x 33 columns]"
      ]
     },
     "execution_count": 36,
     "metadata": {},
     "output_type": "execute_result"
    }
   ],
   "source": [
    "df_final.head(10)"
   ]
  },
  {
   "cell_type": "code",
   "execution_count": 37,
   "id": "6d4e3465",
   "metadata": {
    "execution": {
     "iopub.execute_input": "2024-03-21T23:55:01.359108Z",
     "iopub.status.busy": "2024-03-21T23:55:01.358679Z",
     "iopub.status.idle": "2024-03-21T23:55:01.360561Z",
     "shell.execute_reply": "2024-03-21T23:55:01.360139Z"
    },
    "papermill": {
     "duration": 0.028541,
     "end_time": "2024-03-21T23:55:01.360654",
     "exception": false,
     "start_time": "2024-03-21T23:55:01.332113",
     "status": "completed"
    },
    "tags": []
   },
   "outputs": [],
   "source": [
    "#df_final.to_excel(f\"CLTV_{city}.xlsx\",index=False)"
   ]
  },
  {
   "cell_type": "markdown",
   "id": "09152f55",
   "metadata": {
    "papermill": {
     "duration": 0.02437,
     "end_time": "2024-03-21T23:55:01.409592",
     "exception": false,
     "start_time": "2024-03-21T23:55:01.385222",
     "status": "completed"
    },
    "tags": []
   },
   "source": [
    "# Info for SAC team"
   ]
  },
  {
   "cell_type": "code",
   "execution_count": 38,
   "id": "e07f3bf9",
   "metadata": {
    "execution": {
     "iopub.execute_input": "2024-03-21T23:55:01.461790Z",
     "iopub.status.busy": "2024-03-21T23:55:01.461349Z",
     "iopub.status.idle": "2024-03-21T23:55:01.480009Z",
     "shell.execute_reply": "2024-03-21T23:55:01.479633Z"
    },
    "papermill": {
     "duration": 0.046191,
     "end_time": "2024-03-21T23:55:01.480108",
     "exception": false,
     "start_time": "2024-03-21T23:55:01.433917",
     "status": "completed"
    },
    "tags": []
   },
   "outputs": [],
   "source": [
    "df_SAC = df_final[['city','customer_id','tier','Adjust_CLTV']].drop_duplicates()"
   ]
  },
  {
   "cell_type": "code",
   "execution_count": 39,
   "id": "9ef684ee",
   "metadata": {
    "execution": {
     "iopub.execute_input": "2024-03-21T23:55:01.533970Z",
     "iopub.status.busy": "2024-03-21T23:55:01.533539Z",
     "iopub.status.idle": "2024-03-21T23:55:01.535813Z",
     "shell.execute_reply": "2024-03-21T23:55:01.536149Z"
    },
    "papermill": {
     "duration": 0.031423,
     "end_time": "2024-03-21T23:55:01.536264",
     "exception": false,
     "start_time": "2024-03-21T23:55:01.504841",
     "status": "completed"
    },
    "tags": []
   },
   "outputs": [],
   "source": [
    "letter_to_number = {'A': 1, 'B': 2, 'C': 3, 'D': 4, 'E': 5, 'F': 6, 'G': 7, 'H': 8, 'I': 9, 'J': 10}\n",
    "df_SAC['tier'] = df_SAC['tier'].map(letter_to_number)"
   ]
  },
  {
   "cell_type": "code",
   "execution_count": 40,
   "id": "75297558",
   "metadata": {
    "execution": {
     "iopub.execute_input": "2024-03-21T23:55:01.591731Z",
     "iopub.status.busy": "2024-03-21T23:55:01.591293Z",
     "iopub.status.idle": "2024-03-21T23:55:01.613912Z",
     "shell.execute_reply": "2024-03-21T23:55:01.613482Z"
    },
    "papermill": {
     "duration": 0.049843,
     "end_time": "2024-03-21T23:55:01.614005",
     "exception": false,
     "start_time": "2024-03-21T23:55:01.564162",
     "status": "completed"
    },
    "tags": []
   },
   "outputs": [],
   "source": [
    "df_SAC.to_csv(f\"/home/jupyter-felipe.guevara/Growth/CLTV/{city}_SAC_tiers.csv\",index=False)"
   ]
  }
 ],
 "metadata": {
  "kernelspec": {
   "display_name": "Python 3",
   "language": "python",
   "name": "python3"
  },
  "language_info": {
   "codemirror_mode": {
    "name": "ipython",
    "version": 3
   },
   "file_extension": ".py",
   "mimetype": "text/x-python",
   "name": "python",
   "nbconvert_exporter": "python",
   "pygments_lexer": "ipython3",
   "version": "3.7.9"
  },
  "papermill": {
   "default_parameters": {},
   "duration": 134.620254,
   "end_time": "2024-03-21T23:55:02.344331",
   "environment_variables": {},
   "exception": null,
   "input_path": "/home/jupyter-felipe.guevara/Growth/CLTV/CLTV_origin.ipynb",
   "output_path": "/home/jupyter-felipe.guevara/Growth/logs/CLTV_BHZ.ipynb",
   "parameters": {
    "city": "BHZ"
   },
   "start_time": "2024-03-21T23:52:47.724077",
   "version": "2.3.2"
  },
  "vscode": {
   "interpreter": {
    "hash": "624741679a3ae5d99cecf49b8df5d516a7a937e6e7328e129d1fa121c8592e26"
   }
  }
 },
 "nbformat": 4,
 "nbformat_minor": 5
}