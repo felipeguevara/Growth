{
 "cells": [
  {
   "cell_type": "code",
   "execution_count": 1,
   "id": "df27407e",
   "metadata": {
    "execution": {
     "iopub.execute_input": "2024-07-06T11:02:05.948151Z",
     "iopub.status.busy": "2024-07-06T11:02:05.947686Z",
     "iopub.status.idle": "2024-07-06T11:02:07.277012Z",
     "shell.execute_reply": "2024-07-06T11:02:07.276441Z"
    },
    "papermill": {
     "duration": 1.356415,
     "end_time": "2024-07-06T11:02:07.277148",
     "exception": false,
     "start_time": "2024-07-06T11:02:05.920733",
     "status": "completed"
    },
    "tags": []
   },
   "outputs": [],
   "source": [
    "#//----------------------------\n",
    "#//LIBRARIES\n",
    "    #Math\n",
    "import math\n",
    "    #Numeric Python\n",
    "import numpy as np\n",
    "    #Pandas (dataframes)\n",
    "import pandas as pd\n",
    "    #datetime for fate manipulation\n",
    "from datetime import date, datetime, timedelta  \n",
    "    #Regex for advanced string matching\n",
    "import re\n",
    "    #for time related stuff\n",
    "import time\n",
    "    #json library\n",
    "import json\n",
    "    #Analyst tools\n",
    "import sys\n",
    "import os\n",
    "sys.path.append(os.path.expanduser('~'))\n",
    "from analysts_tools.growth import *\n",
    "    #Procurement tools\n",
    "from procurement_lib import send_slack_notification\n",
    "from procurement_lib import redash\n",
    "from analysts_tools.redash_methods import *\n",
    "from analystcommunity.read_connection_data_warehouse import run_read_dwd_query\n",
    "\n",
    "import random\n",
    "import time\n",
    "import datetime\n",
    "\n",
    "import seaborn as sns\n",
    "import matplotlib.pyplot as plt\n",
    "\n",
    "\n",
    "from sklearn.model_selection import train_test_split\n",
    "from scipy.signal import savgol_filter"
   ]
  },
  {
   "cell_type": "markdown",
   "id": "e89af3db",
   "metadata": {
    "papermill": {
     "duration": 0.018769,
     "end_time": "2024-07-06T11:02:07.317297",
     "exception": false,
     "start_time": "2024-07-06T11:02:07.298528",
     "status": "completed"
    },
    "tags": []
   },
   "source": [
    "# Cargue de Queries y parametros"
   ]
  },
  {
   "cell_type": "code",
   "execution_count": 2,
   "id": "c2230329",
   "metadata": {
    "execution": {
     "iopub.execute_input": "2024-07-06T11:02:07.358610Z",
     "iopub.status.busy": "2024-07-06T11:02:07.358000Z",
     "iopub.status.idle": "2024-07-06T11:02:07.359738Z",
     "shell.execute_reply": "2024-07-06T11:02:07.360085Z"
    },
    "papermill": {
     "duration": 0.02405,
     "end_time": "2024-07-06T11:02:07.360211",
     "exception": false,
     "start_time": "2024-07-06T11:02:07.336161",
     "status": "completed"
    },
    "tags": [
     "parameters"
    ]
   },
   "outputs": [],
   "source": [
    "city = 'SPO'"
   ]
  },
  {
   "cell_type": "code",
   "execution_count": 3,
   "id": "508bff45",
   "metadata": {
    "execution": {
     "iopub.execute_input": "2024-07-06T11:02:07.401501Z",
     "iopub.status.busy": "2024-07-06T11:02:07.400901Z",
     "iopub.status.idle": "2024-07-06T11:02:07.402969Z",
     "shell.execute_reply": "2024-07-06T11:02:07.402595Z"
    },
    "papermill": {
     "duration": 0.024012,
     "end_time": "2024-07-06T11:02:07.403067",
     "exception": false,
     "start_time": "2024-07-06T11:02:07.379055",
     "status": "completed"
    },
    "tags": [
     "injected-parameters"
    ]
   },
   "outputs": [],
   "source": [
    "# Parameters\n",
    "city = \"VCP\"\n"
   ]
  },
  {
   "cell_type": "code",
   "execution_count": 4,
   "id": "b8bd2b33",
   "metadata": {
    "execution": {
     "iopub.execute_input": "2024-07-06T11:02:07.444392Z",
     "iopub.status.busy": "2024-07-06T11:02:07.443815Z",
     "iopub.status.idle": "2024-07-06T11:02:07.445922Z",
     "shell.execute_reply": "2024-07-06T11:02:07.445544Z"
    },
    "papermill": {
     "duration": 0.023828,
     "end_time": "2024-07-06T11:02:07.446019",
     "exception": false,
     "start_time": "2024-07-06T11:02:07.422191",
     "status": "completed"
    },
    "tags": []
   },
   "outputs": [],
   "source": [
    "customer_date_desde = (datetime.datetime.today() - datetime.timedelta(days=200))#.strftime('%Y-%m-%d') #1 months"
   ]
  },
  {
   "cell_type": "code",
   "execution_count": 5,
   "id": "010aef63",
   "metadata": {
    "execution": {
     "iopub.execute_input": "2024-07-06T11:02:07.487117Z",
     "iopub.status.busy": "2024-07-06T11:02:07.486531Z",
     "iopub.status.idle": "2024-07-06T11:02:07.489025Z",
     "shell.execute_reply": "2024-07-06T11:02:07.489367Z"
    },
    "papermill": {
     "duration": 0.024524,
     "end_time": "2024-07-06T11:02:07.489485",
     "exception": false,
     "start_time": "2024-07-06T11:02:07.464961",
     "status": "completed"
    },
    "tags": []
   },
   "outputs": [
    {
     "name": "stdout",
     "output_type": "stream",
     "text": [
      "/home/jupyter-felipe.guevara\n"
     ]
    }
   ],
   "source": [
    "print(os.getcwd())"
   ]
  },
  {
   "cell_type": "code",
   "execution_count": 6,
   "id": "436840d0",
   "metadata": {
    "execution": {
     "iopub.execute_input": "2024-07-06T11:02:07.531178Z",
     "iopub.status.busy": "2024-07-06T11:02:07.530509Z",
     "iopub.status.idle": "2024-07-06T11:02:07.536165Z",
     "shell.execute_reply": "2024-07-06T11:02:07.535729Z"
    },
    "papermill": {
     "duration": 0.027762,
     "end_time": "2024-07-06T11:02:07.536259",
     "exception": false,
     "start_time": "2024-07-06T11:02:07.508497",
     "status": "completed"
    },
    "tags": []
   },
   "outputs": [],
   "source": [
    "margenes = pd.read_csv(\"/home/jupyter-felipe.guevara/Growth/CLTV/Margenes_neto.csv\")\n",
    "retention = pd.read_csv(\"/home/jupyter-felipe.guevara/Growth/CLTV/retention_year.csv\")"
   ]
  },
  {
   "cell_type": "code",
   "execution_count": 7,
   "id": "d2545d5a",
   "metadata": {
    "execution": {
     "iopub.execute_input": "2024-07-06T11:02:07.668451Z",
     "iopub.status.busy": "2024-07-06T11:02:07.667732Z",
     "iopub.status.idle": "2024-07-06T11:02:07.669481Z",
     "shell.execute_reply": "2024-07-06T11:02:07.669805Z"
    },
    "papermill": {
     "duration": 0.1145,
     "end_time": "2024-07-06T11:02:07.669943",
     "exception": false,
     "start_time": "2024-07-06T11:02:07.555443",
     "status": "completed"
    },
    "tags": []
   },
   "outputs": [],
   "source": [
    "retention_aux =  retention.copy()\n",
    "\n",
    "for i,ret in enumerate(retention_aux.values):\n",
    "    retention_aux.iloc[i,2:] = [(1-(j-ret[-1])/100) if j-ret[-1] >= 0 else 1 for j in ret[2:]]"
   ]
  },
  {
   "cell_type": "code",
   "execution_count": 8,
   "id": "0224e583",
   "metadata": {
    "execution": {
     "iopub.execute_input": "2024-07-06T11:02:07.712653Z",
     "iopub.status.busy": "2024-07-06T11:02:07.711935Z",
     "iopub.status.idle": "2024-07-06T11:02:48.594646Z",
     "shell.execute_reply": "2024-07-06T11:02:48.594161Z"
    },
    "papermill": {
     "duration": 40.905337,
     "end_time": "2024-07-06T11:02:48.594753",
     "exception": false,
     "start_time": "2024-07-06T11:02:07.689416",
     "status": "completed"
    },
    "tags": []
   },
   "outputs": [
    {
     "name": "stdout",
     "output_type": "stream",
     "text": [
      "200\n"
     ]
    }
   ],
   "source": [
    "clear_buyers = get_fresh_query_result(\"https://internal-redash.federate.frubana.com/\",138674,'SeoGHWmDUaaBi7VXje1s9zYNiMD1VHQ1K1DYOxiF',{},20)"
   ]
  },
  {
   "cell_type": "code",
   "execution_count": 9,
   "id": "d887e081",
   "metadata": {
    "execution": {
     "iopub.execute_input": "2024-07-06T11:02:48.638518Z",
     "iopub.status.busy": "2024-07-06T11:02:48.638079Z",
     "iopub.status.idle": "2024-07-06T11:03:28.823953Z",
     "shell.execute_reply": "2024-07-06T11:03:28.824307Z"
    },
    "papermill": {
     "duration": 40.209794,
     "end_time": "2024-07-06T11:03:28.824440",
     "exception": false,
     "start_time": "2024-07-06T11:02:48.614646",
     "status": "completed"
    },
    "tags": []
   },
   "outputs": [
    {
     "name": "stdout",
     "output_type": "stream",
     "text": [
      "200\n"
     ]
    }
   ],
   "source": [
    "buyers_11 = get_fresh_query_result(\"https://internal-redash.federate.frubana.com/\",212712,'SeoGHWmDUaaBi7VXje1s9zYNiMD1VHQ1K1DYOxiF',{},20)"
   ]
  },
  {
   "cell_type": "code",
   "execution_count": 10,
   "id": "7e9af476",
   "metadata": {
    "execution": {
     "iopub.execute_input": "2024-07-06T11:03:28.875646Z",
     "iopub.status.busy": "2024-07-06T11:03:28.874972Z",
     "iopub.status.idle": "2024-07-06T11:03:29.118800Z",
     "shell.execute_reply": "2024-07-06T11:03:29.118368Z"
    },
    "papermill": {
     "duration": 0.274459,
     "end_time": "2024-07-06T11:03:29.118910",
     "exception": false,
     "start_time": "2024-07-06T11:03:28.844451",
     "status": "completed"
    },
    "tags": []
   },
   "outputs": [],
   "source": [
    "query = \"\"\"\n",
    "SELECT DISTINCT\n",
    "\n",
    "c.assignee_ref_id AS \"Owner\",\n",
    "cm.member_ref_id AS \"customer_id\",\n",
    "--cm.status AS \"Estado de la asignacion\",\n",
    "--c.type as \"Tipo de asociacion\",\n",
    "--c.flow_type AS \"Tipo de carga\",\n",
    "z.value AS \"Ciudad\"\n",
    "--p.since AS \"Semana\"\n",
    "\n",
    "FROM postgres_growth_offline.\"growth_clustering.clusters\"               c\n",
    "INNER JOIN postgres_growth_offline.\"growth_clustering.cluster_members\"  cm  ON cm.cluster_id = c.id\n",
    "INNER JOIN postgres_growth_offline.\"growth_clustering.periods\"          p   ON p.id = c.period_id\n",
    "INNER JOIN postgres_growth_offline.\"growth_clustering.zones\"            z   ON z.id = c.zone_id\n",
    "\n",
    "where p.since = DATE_TRUNC('week', date(getdate()) - interval '0 week')\n",
    "and z.value in ('BOG','BAQ','MDE','CMX','SPO','BHZ','CWB','VCP')\n",
    "and c.type = 'FARMER_OFFLINE'\n",
    "and c.status = 'ACTIVE'\n",
    "and c.enabled = 'true'\n",
    "\"\"\"\n",
    "data_farming = read_connection_data_warehouse.runQuery(query)\n",
    "data_farming[[\"customer_id\"]] = data_farming[[\"customer_id\"]].astype(int)"
   ]
  },
  {
   "cell_type": "code",
   "execution_count": 11,
   "id": "a2dad9de",
   "metadata": {
    "execution": {
     "iopub.execute_input": "2024-07-06T11:03:29.163489Z",
     "iopub.status.busy": "2024-07-06T11:03:29.163050Z",
     "iopub.status.idle": "2024-07-06T11:03:29.164863Z",
     "shell.execute_reply": "2024-07-06T11:03:29.164430Z"
    },
    "papermill": {
     "duration": 0.025798,
     "end_time": "2024-07-06T11:03:29.164959",
     "exception": false,
     "start_time": "2024-07-06T11:03:29.139161",
     "status": "completed"
    },
    "tags": []
   },
   "outputs": [],
   "source": [
    "# Define a function to run the query\n",
    "def run_query_with_retry(query):\n",
    "    max_retries = 5\n",
    "    retries = 0\n",
    "    while retries < max_retries:\n",
    "        try:\n",
    "            # Attempt to execute the query\n",
    "            data_ventas_aux = run_read_dwd_query(query)\n",
    "            data_ventas_aux[[\"gmv_usd\", \"cant\"]] = data_ventas_aux[[\"gmv_usd\", \"cant\"]].astype(float)\n",
    "            data_ventas_aux['submit_date'] = pd.to_datetime(data_ventas_aux['submit_date'])\n",
    "            return data_ventas_aux  # If successful, return the result\n",
    "        except Exception as e:\n",
    "            retries += 1\n",
    "            print(f\"An error occurred: {str(e)}\")\n",
    "            print(f\"Retrying... ({retries}/{max_retries})\")\n",
    "    # If max retries reached without success, raise an error\n",
    "    raise RuntimeError(\"Failed to execute the query after multiple retries\")"
   ]
  },
  {
   "cell_type": "code",
   "execution_count": 12,
   "id": "c2360328",
   "metadata": {
    "execution": {
     "iopub.execute_input": "2024-07-06T11:03:29.214612Z",
     "iopub.status.busy": "2024-07-06T11:03:29.214156Z",
     "iopub.status.idle": "2024-07-06T11:03:36.399824Z",
     "shell.execute_reply": "2024-07-06T11:03:36.400187Z"
    },
    "papermill": {
     "duration": 7.215435,
     "end_time": "2024-07-06T11:03:36.400317",
     "exception": false,
     "start_time": "2024-07-06T11:03:29.184882",
     "status": "completed"
    },
    "tags": []
   },
   "outputs": [],
   "source": [
    "query = \"\"\"\n",
    "SELECT \n",
    "    s.identifier_value AS city,\n",
    "    dc.source_id AS customer_id,\n",
    "    DATE(fs.order_submitted_date) AS submit_date,\n",
    "    fs.order_id,\n",
    "    dp.card_id AS padre_sku_id,\n",
    "    cat.parent_description AS cat,\n",
    "    CASE\n",
    "        WHEN s.identifier_value = 'CMX' THEN fs.gmv_pxq_local/19.65\n",
    "        WHEN s.identifier_value IN ('SPO','BHZ','CWB','VCP') THEN fs.gmv_pxq_local/4.75\n",
    "        WHEN s.identifier_value IN ('BOG','BAQ','MDE') THEN fs.gmv_pxq_local/3776\n",
    "    ELSE fs.gmv_pxq_local \n",
    "    END AS gmv_usd,\n",
    "    fs.product_quantity_x_step_unit AS cant\n",
    "\n",
    "FROM dpr_sales.fact_sales                   fs\n",
    "INNER JOIN dpr_shared.dim_customer          dc  ON dc.customer_id = fs.dim_customer\n",
    "INNER JOIN dpr_shared.dim_site              s   ON s.site_id = fs.dim_site\n",
    "INNER JOIN dpr_shared.dim_product           dp  ON dp.product_id = fs.dim_product\n",
    "INNER JOIN dpr_shared.dim_category          cat ON cat.category_id = dp.category_id\n",
    "\n",
    "WHERE \n",
    "    fs.gmv_enabled = TRUE\n",
    "    AND fulfillment_order_status NOT IN ('CANCELLED', 'ARCHIVED','No value')\n",
    "    AND fs.fb_order_status_id  IN (1,6,7,8)\n",
    "    AND fs.is_deleted = FALSE\n",
    "    AND fs.dim_status = 1\n",
    "    AND dp.is_slot = 'false'\n",
    "    AND DATE(fs.order_submitted_date) > current_date - 730\n",
    "    AND s.identifier_value = '{city}'\n",
    "    AND dc.source_id IN {clientes}\n",
    "\"\"\".format(clientes=tuple(set(clear_buyers[clear_buyers.registered_city == city].customer_id.unique())), city = city)\n",
    "\n",
    "# Call the function with your query\n",
    "data_ventas_aux = run_query_with_retry(query)"
   ]
  },
  {
   "cell_type": "code",
   "execution_count": 13,
   "id": "743baab7",
   "metadata": {
    "execution": {
     "iopub.execute_input": "2024-07-06T11:03:36.445792Z",
     "iopub.status.busy": "2024-07-06T11:03:36.445356Z",
     "iopub.status.idle": "2024-07-06T11:03:37.200520Z",
     "shell.execute_reply": "2024-07-06T11:03:37.200064Z"
    },
    "papermill": {
     "duration": 0.779645,
     "end_time": "2024-07-06T11:03:37.200624",
     "exception": false,
     "start_time": "2024-07-06T11:03:36.420979",
     "status": "completed"
    },
    "tags": []
   },
   "outputs": [],
   "source": [
    "data_ventas_aux['cat'] = data_ventas_aux['cat'].replace('Frutas e verduras', 'Frutas e Verduras')\n",
    "data_ventas_aux['cat'] = data_ventas_aux['cat'].replace('Laticínios e ovos', 'Laticínios e Ovos')\n",
    "data_ventas_aux['cat'] = data_ventas_aux['cat'].replace('Limpeza e higiene', 'Limpeza e Higiene')\n",
    "data_ventas_aux['cat'] = data_ventas_aux['cat'].replace('Carnes, aves e peixes', 'Carnes, Aves e Peixes')\n",
    "data_ventas_aux['cat'] = data_ventas_aux['cat'].replace('Abarrotes & despensa', 'Abarrotes')\n",
    "data_ventas_aux['cat'] = data_ventas_aux['cat'].replace('Aseo e higiene', 'Aseo e Higiene')\n",
    "data_ventas_aux['cat'] = data_ventas_aux['cat'].replace('Frutas & verduras', 'Frutas & Verduras')\n",
    "data_ventas_aux['cat'] = data_ventas_aux['cat'].replace('Carne, pollo & pescados', 'Carne, Pollo & Pescados')\n",
    "data_ventas_aux['cat'] = data_ventas_aux['cat'].replace('Lácteos & huevos', 'Lácteos & Huevos')"
   ]
  },
  {
   "cell_type": "code",
   "execution_count": 14,
   "id": "95584187",
   "metadata": {
    "execution": {
     "iopub.execute_input": "2024-07-06T11:03:37.246399Z",
     "iopub.status.busy": "2024-07-06T11:03:37.245938Z",
     "iopub.status.idle": "2024-07-06T11:03:37.943198Z",
     "shell.execute_reply": "2024-07-06T11:03:37.943549Z"
    },
    "papermill": {
     "duration": 0.722624,
     "end_time": "2024-07-06T11:03:37.943680",
     "exception": false,
     "start_time": "2024-07-06T11:03:37.221056",
     "status": "completed"
    },
    "tags": []
   },
   "outputs": [],
   "source": [
    "check_df = data_ventas_aux.groupby(by=['customer_id']).agg({'submit_date':np.max}).reset_index()\n",
    "df = data_ventas_aux[data_ventas_aux.customer_id.isin(check_df[check_df.submit_date >= customer_date_desde].customer_id.unique())].groupby(by=['city', 'customer_id', 'submit_date','cat']).agg({'gmv_usd':'sum','cant':'sum'}).reset_index()"
   ]
  },
  {
   "cell_type": "markdown",
   "id": "ba0489c8",
   "metadata": {
    "papermill": {
     "duration": 0.020137,
     "end_time": "2024-07-06T11:03:37.984298",
     "exception": false,
     "start_time": "2024-07-06T11:03:37.964161",
     "status": "completed"
    },
    "tags": []
   },
   "source": [
    "# Generacion de df con info by cat by client"
   ]
  },
  {
   "cell_type": "code",
   "execution_count": 15,
   "id": "8319650a",
   "metadata": {
    "execution": {
     "iopub.execute_input": "2024-07-06T11:03:38.028010Z",
     "iopub.status.busy": "2024-07-06T11:03:38.027581Z",
     "iopub.status.idle": "2024-07-06T11:03:39.654408Z",
     "shell.execute_reply": "2024-07-06T11:03:39.654778Z"
    },
    "papermill": {
     "duration": 1.650591,
     "end_time": "2024-07-06T11:03:39.654911",
     "exception": false,
     "start_time": "2024-07-06T11:03:38.004320",
     "status": "completed"
    },
    "tags": []
   },
   "outputs": [],
   "source": [
    "df = df.sort_values('submit_date',ignore_index=True)\n",
    "\n",
    "#fix for id problems and taking into account only dates\n",
    "df['order_id']= df.submit_date.apply(lambda x:x.toordinal()) \n",
    "\n",
    "#Days of difference between orders for customer and for cat\n",
    "df['days_bet'] = (df.submit_date -df.groupby('customer_id').submit_date.transform('min')).dt.days"
   ]
  },
  {
   "cell_type": "code",
   "execution_count": 16,
   "id": "68866a08",
   "metadata": {
    "execution": {
     "iopub.execute_input": "2024-07-06T11:03:39.700773Z",
     "iopub.status.busy": "2024-07-06T11:03:39.700343Z",
     "iopub.status.idle": "2024-07-06T11:03:48.413564Z",
     "shell.execute_reply": "2024-07-06T11:03:48.413935Z"
    },
    "papermill": {
     "duration": 8.738579,
     "end_time": "2024-07-06T11:03:48.414068",
     "exception": false,
     "start_time": "2024-07-06T11:03:39.675489",
     "status": "completed"
    },
    "tags": []
   },
   "outputs": [],
   "source": [
    "#This calculate in res the difference between consecutive orders and with the agg we calculate all metrics\n",
    "df['res'] = df.groupby(by=['customer_id', 'cat'])['days_bet'].diff()\n",
    "df_grouped = df.groupby(by=['city', 'customer_id', 'cat']).agg({'res': [np.min, np.max, np.mean, np.median, np.std],\n",
    "                                                                    'order_id': [lambda x: x.nunique()], \n",
    "                                                                    'gmv_usd': [np.mean],\n",
    "                                                                    'cant': [np.mean],\n",
    "                                                                    'submit_date': [np.max, lambda x: (x.max()-x.min()).days, lambda x: (datetime.datetime.today() - x.max()).days, np.min]\n",
    "                                                                    }).reset_index()"
   ]
  },
  {
   "cell_type": "code",
   "execution_count": 17,
   "id": "3565b46e",
   "metadata": {
    "execution": {
     "iopub.execute_input": "2024-07-06T11:03:48.458938Z",
     "iopub.status.busy": "2024-07-06T11:03:48.458499Z",
     "iopub.status.idle": "2024-07-06T11:03:48.461878Z",
     "shell.execute_reply": "2024-07-06T11:03:48.462207Z"
    },
    "papermill": {
     "duration": 0.027248,
     "end_time": "2024-07-06T11:03:48.462325",
     "exception": false,
     "start_time": "2024-07-06T11:03:48.435077",
     "status": "completed"
    },
    "tags": []
   },
   "outputs": [],
   "source": [
    "#Finally we define everything in a df2 for further processing\n",
    "df2 = df_grouped.copy()\n",
    "\n",
    "df2.columns = ['city', 'customer_id', 'cat', 'min_diff_days', 'max_diff_days', 'avg_diff_days', 'median_diff_days', 'stdev_diff_days',\n",
    "               'num_orders', 'aov_cat_usd', 'avg_cant_cat', 'last_order_date', 'diff_from_last_to_first_order', 'days_since_last_order','first_order_date']"
   ]
  },
  {
   "cell_type": "code",
   "execution_count": 18,
   "id": "943c208a",
   "metadata": {
    "execution": {
     "iopub.execute_input": "2024-07-06T11:03:48.506263Z",
     "iopub.status.busy": "2024-07-06T11:03:48.505847Z",
     "iopub.status.idle": "2024-07-06T11:03:48.507314Z",
     "shell.execute_reply": "2024-07-06T11:03:48.507661Z"
    },
    "papermill": {
     "duration": 0.024954,
     "end_time": "2024-07-06T11:03:48.507774",
     "exception": false,
     "start_time": "2024-07-06T11:03:48.482820",
     "status": "completed"
    },
    "tags": []
   },
   "outputs": [],
   "source": [
    "def diff_month(d1, d2):\n",
    "    return (d1.year - d2.year) * 12 + d1.month - d2.month"
   ]
  },
  {
   "cell_type": "code",
   "execution_count": 19,
   "id": "34db3944",
   "metadata": {
    "execution": {
     "iopub.execute_input": "2024-07-06T11:03:48.557511Z",
     "iopub.status.busy": "2024-07-06T11:03:48.555454Z",
     "iopub.status.idle": "2024-07-06T11:03:48.559402Z",
     "shell.execute_reply": "2024-07-06T11:03:48.559050Z"
    },
    "papermill": {
     "duration": 0.031354,
     "end_time": "2024-07-06T11:03:48.559493",
     "exception": false,
     "start_time": "2024-07-06T11:03:48.528139",
     "status": "completed"
    },
    "tags": []
   },
   "outputs": [],
   "source": [
    "def cat_metrics_2(cat):\n",
    "    df_cat = df2[df2.cat == cat].copy()\n",
    "    \n",
    "    df_cat['adjust_std'] = pd.qcut(df_cat.stdev_diff_days, 10, labels=[1,0.9,0.8,0.7,0.6,0.5,0.4,0.3,0.2,0.1])\n",
    "    df_cat[[\"adjust_std\"]] = df_cat[[\"adjust_std\"]].astype(float)\n",
    "    \n",
    "    df_cat['adjust_cohort'] = [1 if ((x[13]) - (x[5]+x[7]) <= 0) else  \n",
    "                 1/(((x[13]) - x[5])/x[7]) if x[7] != 0 else\n",
    "                 1/(((x[13]) - x[5])/np.round(1+(x[5]*0.7)))\n",
    "                 for x in df_cat.values]\n",
    "    \n",
    "    df_cat[\"margen\"] = [margenes[(margenes.category == x[2]) & (margenes.region_code == x[0])][\"net_margin\"].unique()[0]/100 for x in df_cat.values]\n",
    "    #mirar aca\n",
    "    df_cat['adjust_retention'] = [1 if diff_month(x[11],x[14])+1 >= 10 else \n",
    "                                  retention_aux[(retention_aux.category == x[2]) & (retention_aux.region_code == x[0])][str(diff_month(x[11],x[14])+1)].unique()[0] for x in df_cat.values]\n",
    "    \n",
    "    df_cat['median_diff_days_adjusted'] = 365/df_cat.median_diff_days\n",
    "    \n",
    "    df_cat[\"churned\"] = [0 if ((x[13]) - (x[5]+x[7]*2) <= 0) else 1 for x in df_cat.values]\n",
    "    \n",
    "    df_cat[['avg_diff_days','stdev_diff_days']] = df_cat[['avg_diff_days','stdev_diff_days']].fillna(0)\n",
    "\n",
    "    df_cat['churned_date'] = [(x[11] + datetime.timedelta(days=int(x[5]+x[7]*2))).strftime('%Y-%m-%d') for x in df_cat.values] #1 months\n",
    "    \n",
    "    df_cat[\"CLTV\"] = df_cat.median_diff_days_adjusted * df_cat.margen * df_cat.aov_cat_usd * df_cat.adjust_retention * df_cat.adjust_std * df_cat.adjust_cohort\n",
    "    df_cat[\"CLTV_sin_margen\"] = df_cat.median_diff_days_adjusted * df_cat.aov_cat_usd * df_cat.adjust_retention * df_cat.adjust_std * df_cat.adjust_cohort\n",
    "    df_cat[\"CLTV_sin_churn\"] = df_cat.median_diff_days_adjusted * df_cat.margen * df_cat.aov_cat_usd * df_cat.adjust_retention * df_cat.adjust_std\n",
    "    \n",
    "    df_cat['cash_margin'] = df_cat.aov_cat_usd * df_cat.margen\n",
    "\n",
    "    return df_cat"
   ]
  },
  {
   "cell_type": "code",
   "execution_count": 20,
   "id": "7b7c8cb5",
   "metadata": {
    "execution": {
     "iopub.execute_input": "2024-07-06T11:03:48.605445Z",
     "iopub.status.busy": "2024-07-06T11:03:48.605010Z",
     "iopub.status.idle": "2024-07-06T11:04:07.578447Z",
     "shell.execute_reply": "2024-07-06T11:04:07.577994Z"
    },
    "papermill": {
     "duration": 18.998514,
     "end_time": "2024-07-06T11:04:07.578556",
     "exception": false,
     "start_time": "2024-07-06T11:03:48.580042",
     "status": "completed"
    },
    "tags": []
   },
   "outputs": [
    {
     "name": "stdout",
     "output_type": "stream",
     "text": [
      "Bebidas\n"
     ]
    },
    {
     "name": "stdout",
     "output_type": "stream",
     "text": [
      "Done Bebidas\n",
      "Carnes, Aves e Peixes\n"
     ]
    },
    {
     "name": "stdout",
     "output_type": "stream",
     "text": [
      "Done Carnes, Aves e Peixes\n",
      "Congelados\n"
     ]
    },
    {
     "name": "stdout",
     "output_type": "stream",
     "text": [
      "Done Congelados\n",
      "Despensa\n",
      "Done Despensa\n",
      "Frutas e Verduras\n"
     ]
    },
    {
     "name": "stdout",
     "output_type": "stream",
     "text": [
      "Done Frutas e Verduras\n",
      "Laticínios e Ovos\n"
     ]
    },
    {
     "name": "stdout",
     "output_type": "stream",
     "text": [
      "Done Laticínios e Ovos\n",
      "Limpeza e Higiene\n"
     ]
    },
    {
     "name": "stdout",
     "output_type": "stream",
     "text": [
      "Done Limpeza e Higiene\n",
      "Mercearia\n"
     ]
    },
    {
     "name": "stdout",
     "output_type": "stream",
     "text": [
      "Done Mercearia\n",
      "Descartáveis\n"
     ]
    },
    {
     "name": "stdout",
     "output_type": "stream",
     "text": [
      "Done Descartáveis\n"
     ]
    }
   ],
   "source": [
    "df3 = pd.DataFrame()\n",
    "\n",
    "for cat in df2.cat.unique():\n",
    "   print(cat)\n",
    "   if cat not in ('Frubana prime','¡productos nuevos!','No value','Mesa & cocina','Insumos internos cat','Despensa'):\n",
    "      df3 = df3.append(cat_metrics_2(cat))\n",
    "   print(f'Done {cat}')"
   ]
  },
  {
   "cell_type": "code",
   "execution_count": 21,
   "id": "b4ea5f18",
   "metadata": {
    "execution": {
     "iopub.execute_input": "2024-07-06T11:04:07.629018Z",
     "iopub.status.busy": "2024-07-06T11:04:07.628564Z",
     "iopub.status.idle": "2024-07-06T11:04:07.647469Z",
     "shell.execute_reply": "2024-07-06T11:04:07.647047Z"
    },
    "papermill": {
     "duration": 0.046178,
     "end_time": "2024-07-06T11:04:07.647563",
     "exception": false,
     "start_time": "2024-07-06T11:04:07.601385",
     "status": "completed"
    },
    "tags": []
   },
   "outputs": [
    {
     "data": {
      "text/html": [
       "<div>\n",
       "<style scoped>\n",
       "    .dataframe tbody tr th:only-of-type {\n",
       "        vertical-align: middle;\n",
       "    }\n",
       "\n",
       "    .dataframe tbody tr th {\n",
       "        vertical-align: top;\n",
       "    }\n",
       "\n",
       "    .dataframe thead th {\n",
       "        text-align: right;\n",
       "    }\n",
       "</style>\n",
       "<table border=\"1\" class=\"dataframe\">\n",
       "  <thead>\n",
       "    <tr style=\"text-align: right;\">\n",
       "      <th></th>\n",
       "      <th>city</th>\n",
       "      <th>customer_id</th>\n",
       "      <th>cat</th>\n",
       "      <th>min_diff_days</th>\n",
       "      <th>max_diff_days</th>\n",
       "      <th>avg_diff_days</th>\n",
       "      <th>median_diff_days</th>\n",
       "      <th>stdev_diff_days</th>\n",
       "      <th>num_orders</th>\n",
       "      <th>aov_cat_usd</th>\n",
       "      <th>...</th>\n",
       "      <th>adjust_cohort</th>\n",
       "      <th>margen</th>\n",
       "      <th>adjust_retention</th>\n",
       "      <th>median_diff_days_adjusted</th>\n",
       "      <th>churned</th>\n",
       "      <th>churned_date</th>\n",
       "      <th>CLTV</th>\n",
       "      <th>CLTV_sin_margen</th>\n",
       "      <th>CLTV_sin_churn</th>\n",
       "      <th>cash_margin</th>\n",
       "    </tr>\n",
       "  </thead>\n",
       "  <tbody>\n",
       "    <tr>\n",
       "      <th>0</th>\n",
       "      <td>VCP</td>\n",
       "      <td>135201529</td>\n",
       "      <td>Bebidas</td>\n",
       "      <td>1.0</td>\n",
       "      <td>70.0</td>\n",
       "      <td>11.383333</td>\n",
       "      <td>6.0</td>\n",
       "      <td>14.609135</td>\n",
       "      <td>61</td>\n",
       "      <td>19.236652</td>\n",
       "      <td>...</td>\n",
       "      <td>0.422026</td>\n",
       "      <td>0.212</td>\n",
       "      <td>1.000</td>\n",
       "      <td>60.833333</td>\n",
       "      <td>1</td>\n",
       "      <td>2024-06-30</td>\n",
       "      <td>62.819935</td>\n",
       "      <td>296.320450</td>\n",
       "      <td>148.853215</td>\n",
       "      <td>4.078170</td>\n",
       "    </tr>\n",
       "    <tr>\n",
       "      <th>8</th>\n",
       "      <td>VCP</td>\n",
       "      <td>149306304</td>\n",
       "      <td>Bebidas</td>\n",
       "      <td>1.0</td>\n",
       "      <td>202.0</td>\n",
       "      <td>15.536585</td>\n",
       "      <td>5.0</td>\n",
       "      <td>32.490074</td>\n",
       "      <td>42</td>\n",
       "      <td>102.708922</td>\n",
       "      <td>...</td>\n",
       "      <td>1.000000</td>\n",
       "      <td>0.212</td>\n",
       "      <td>1.000</td>\n",
       "      <td>73.000000</td>\n",
       "      <td>0</td>\n",
       "      <td>2024-08-25</td>\n",
       "      <td>476.856984</td>\n",
       "      <td>2249.325395</td>\n",
       "      <td>476.856984</td>\n",
       "      <td>21.774291</td>\n",
       "    </tr>\n",
       "    <tr>\n",
       "      <th>16</th>\n",
       "      <td>VCP</td>\n",
       "      <td>149313616</td>\n",
       "      <td>Bebidas</td>\n",
       "      <td>1.0</td>\n",
       "      <td>56.0</td>\n",
       "      <td>9.970588</td>\n",
       "      <td>7.0</td>\n",
       "      <td>7.767077</td>\n",
       "      <td>69</td>\n",
       "      <td>253.467094</td>\n",
       "      <td>...</td>\n",
       "      <td>1.000000</td>\n",
       "      <td>0.212</td>\n",
       "      <td>1.000</td>\n",
       "      <td>52.142857</td>\n",
       "      <td>0</td>\n",
       "      <td>2024-07-27</td>\n",
       "      <td>2241.518138</td>\n",
       "      <td>10573.198766</td>\n",
       "      <td>2241.518138</td>\n",
       "      <td>53.735024</td>\n",
       "    </tr>\n",
       "    <tr>\n",
       "      <th>24</th>\n",
       "      <td>VCP</td>\n",
       "      <td>149327686</td>\n",
       "      <td>Bebidas</td>\n",
       "      <td>17.0</td>\n",
       "      <td>77.0</td>\n",
       "      <td>51.000000</td>\n",
       "      <td>55.0</td>\n",
       "      <td>24.979992</td>\n",
       "      <td>5</td>\n",
       "      <td>6.957474</td>\n",
       "      <td>...</td>\n",
       "      <td>1.000000</td>\n",
       "      <td>0.212</td>\n",
       "      <td>0.984</td>\n",
       "      <td>6.636364</td>\n",
       "      <td>0</td>\n",
       "      <td>2024-09-29</td>\n",
       "      <td>3.852767</td>\n",
       "      <td>18.173427</td>\n",
       "      <td>3.852767</td>\n",
       "      <td>1.474984</td>\n",
       "    </tr>\n",
       "    <tr>\n",
       "      <th>33</th>\n",
       "      <td>VCP</td>\n",
       "      <td>149339488</td>\n",
       "      <td>Bebidas</td>\n",
       "      <td>2.0</td>\n",
       "      <td>504.0</td>\n",
       "      <td>139.750000</td>\n",
       "      <td>26.5</td>\n",
       "      <td>243.395939</td>\n",
       "      <td>5</td>\n",
       "      <td>34.893474</td>\n",
       "      <td>...</td>\n",
       "      <td>1.000000</td>\n",
       "      <td>0.212</td>\n",
       "      <td>1.000</td>\n",
       "      <td>13.773585</td>\n",
       "      <td>0</td>\n",
       "      <td>2025-10-25</td>\n",
       "      <td>10.188894</td>\n",
       "      <td>48.060822</td>\n",
       "      <td>10.188894</td>\n",
       "      <td>7.397416</td>\n",
       "    </tr>\n",
       "  </tbody>\n",
       "</table>\n",
       "<p>5 rows × 26 columns</p>\n",
       "</div>"
      ],
      "text/plain": [
       "   city  customer_id      cat  min_diff_days  max_diff_days  avg_diff_days  \\\n",
       "0   VCP    135201529  Bebidas            1.0           70.0      11.383333   \n",
       "8   VCP    149306304  Bebidas            1.0          202.0      15.536585   \n",
       "16  VCP    149313616  Bebidas            1.0           56.0       9.970588   \n",
       "24  VCP    149327686  Bebidas           17.0           77.0      51.000000   \n",
       "33  VCP    149339488  Bebidas            2.0          504.0     139.750000   \n",
       "\n",
       "    median_diff_days  stdev_diff_days  num_orders  aov_cat_usd  ...  \\\n",
       "0                6.0        14.609135          61    19.236652  ...   \n",
       "8                5.0        32.490074          42   102.708922  ...   \n",
       "16               7.0         7.767077          69   253.467094  ...   \n",
       "24              55.0        24.979992           5     6.957474  ...   \n",
       "33              26.5       243.395939           5    34.893474  ...   \n",
       "\n",
       "    adjust_cohort margen  adjust_retention  median_diff_days_adjusted churned  \\\n",
       "0        0.422026  0.212             1.000                  60.833333       1   \n",
       "8        1.000000  0.212             1.000                  73.000000       0   \n",
       "16       1.000000  0.212             1.000                  52.142857       0   \n",
       "24       1.000000  0.212             0.984                   6.636364       0   \n",
       "33       1.000000  0.212             1.000                  13.773585       0   \n",
       "\n",
       "    churned_date         CLTV  CLTV_sin_margen  CLTV_sin_churn  cash_margin  \n",
       "0     2024-06-30    62.819935       296.320450      148.853215     4.078170  \n",
       "8     2024-08-25   476.856984      2249.325395      476.856984    21.774291  \n",
       "16    2024-07-27  2241.518138     10573.198766     2241.518138    53.735024  \n",
       "24    2024-09-29     3.852767        18.173427        3.852767     1.474984  \n",
       "33    2025-10-25    10.188894        48.060822       10.188894     7.397416  \n",
       "\n",
       "[5 rows x 26 columns]"
      ]
     },
     "execution_count": 21,
     "metadata": {},
     "output_type": "execute_result"
    }
   ],
   "source": [
    "df3.head(5)"
   ]
  },
  {
   "cell_type": "markdown",
   "id": "e259e032",
   "metadata": {
    "papermill": {
     "duration": 0.022835,
     "end_time": "2024-07-06T11:04:07.693337",
     "exception": false,
     "start_time": "2024-07-06T11:04:07.670502",
     "status": "completed"
    },
    "tags": []
   },
   "source": [
    "# Aca empieza el analisis global by customer "
   ]
  },
  {
   "cell_type": "code",
   "execution_count": 22,
   "id": "b6cd1697",
   "metadata": {
    "execution": {
     "iopub.execute_input": "2024-07-06T11:04:07.743045Z",
     "iopub.status.busy": "2024-07-06T11:04:07.742604Z",
     "iopub.status.idle": "2024-07-06T11:04:07.754075Z",
     "shell.execute_reply": "2024-07-06T11:04:07.753709Z"
    },
    "papermill": {
     "duration": 0.037796,
     "end_time": "2024-07-06T11:04:07.754175",
     "exception": false,
     "start_time": "2024-07-06T11:04:07.716379",
     "status": "completed"
    },
    "tags": []
   },
   "outputs": [],
   "source": [
    "#Here, i group the df3 (the df with the whole info by cat to customer lvl)\n",
    "df_new3 = df3[['city','customer_id','aov_cat_usd','cash_margin','CLTV_sin_churn','churned']].groupby(by=['city','customer_id']).sum().reset_index()"
   ]
  },
  {
   "cell_type": "code",
   "execution_count": 23,
   "id": "0e0ca4c8",
   "metadata": {
    "execution": {
     "iopub.execute_input": "2024-07-06T11:04:07.805902Z",
     "iopub.status.busy": "2024-07-06T11:04:07.805470Z",
     "iopub.status.idle": "2024-07-06T11:04:09.312938Z",
     "shell.execute_reply": "2024-07-06T11:04:09.312509Z"
    },
    "papermill": {
     "duration": 1.535824,
     "end_time": "2024-07-06T11:04:09.313050",
     "exception": false,
     "start_time": "2024-07-06T11:04:07.777226",
     "status": "completed"
    },
    "tags": []
   },
   "outputs": [],
   "source": [
    "#The processing data for customer level is made here\n",
    "\n",
    "df_new = df.groupby(by=['city','customer_id','order_id','submit_date']).sum().reset_index()\n",
    "\n",
    "df_new['days_bet'] = (df_new.submit_date -df_new.groupby('customer_id').submit_date.transform('min')).dt.days\n",
    "\n",
    "#This calculate in res the difference between consecutive orders and with the agg we calculate all metrics\n",
    "df_new['res'] = df_new.groupby(by=['customer_id'])['days_bet'].diff()\n",
    "df_grouped_2 = df_new.groupby(by=['city', 'customer_id']).agg({'res': [np.min, np.max, np.mean, np.median, np.std],\n",
    "                                                                    'order_id': [lambda x: x.nunique()], \n",
    "                                                                    'gmv_usd': [np.mean],\n",
    "                                                                    'cant': [np.mean],\n",
    "                                                                    'submit_date': [np.max, lambda x: (x.max()-x.min()).days, lambda x: (datetime.datetime.today() - x.max()).days, np.min]\n",
    "                                                                    }).droplevel(0, axis=\"columns\").reset_index()"
   ]
  },
  {
   "cell_type": "code",
   "execution_count": 24,
   "id": "e0daa4c8",
   "metadata": {
    "execution": {
     "iopub.execute_input": "2024-07-06T11:04:09.363305Z",
     "iopub.status.busy": "2024-07-06T11:04:09.362874Z",
     "iopub.status.idle": "2024-07-06T11:04:09.365225Z",
     "shell.execute_reply": "2024-07-06T11:04:09.365552Z"
    },
    "papermill": {
     "duration": 0.028919,
     "end_time": "2024-07-06T11:04:09.365672",
     "exception": false,
     "start_time": "2024-07-06T11:04:09.336753",
     "status": "completed"
    },
    "tags": []
   },
   "outputs": [],
   "source": [
    "#Finally we define everything in a df_new2 at level customer for further processing\n",
    "df_new2 = df_grouped_2.copy()\n",
    "\n",
    "df_new2.columns = ['city', 'customer_id', 'min_diff_days', 'max_diff_days', 'avg_diff_days', 'median_diff_days', 'stdev_diff_days',\n",
    "               'num_orders', 'aov_ALL_usd', 'ALL_avg_cant', 'last_order_date', 'diff_from_last_to_first_order', 'days_since_last_order','first_order_date']"
   ]
  },
  {
   "cell_type": "code",
   "execution_count": 25,
   "id": "e8e86f09",
   "metadata": {
    "execution": {
     "iopub.execute_input": "2024-07-06T11:04:09.432370Z",
     "iopub.status.busy": "2024-07-06T11:04:09.422191Z",
     "iopub.status.idle": "2024-07-06T11:04:10.223230Z",
     "shell.execute_reply": "2024-07-06T11:04:10.222827Z"
    },
    "papermill": {
     "duration": 0.834386,
     "end_time": "2024-07-06T11:04:10.223336",
     "exception": false,
     "start_time": "2024-07-06T11:04:09.388950",
     "status": "completed"
    },
    "tags": []
   },
   "outputs": [],
   "source": [
    "#Finally we calculate the next parameters and also integred with df_new3 where we can have the info grouped by customer about the category performance\n",
    "df_new2[\"churned_ALL\"] = [0 if ((x[12]) - (x[4]+x[6]*2) <= 0) else 1 for x in df_new2.values]\n",
    "\n",
    "df_new2['adjust_std'] = pd.qcut(df_new2.stdev_diff_days, 10, labels=[1,0.9,0.8,0.7,0.6,0.5,0.4,0.3,0.2,0.1])\n",
    "df_new2[[\"adjust_std\"]] = df_new2[[\"adjust_std\"]].astype(float)\n",
    "\n",
    "df_new2['adjust_retention'] = [1 if diff_month(x[10],x[13])+1 >= 10 else \n",
    "                                retention_aux[(retention_aux.region_code == x[0])][str(diff_month(x[10],x[13])+1)].max() for x in df_new2.values]\n",
    "\n",
    "df_new2['median_diff_days_adjusted'] = 365/df_new2.median_diff_days\n",
    "\n",
    "#this merge is to include the info for the total cash_margin, how many cats is churned and the total cat CLTV\n",
    "df_new2 = df_new2.merge(df_new3[['customer_id','cash_margin','CLTV_sin_churn','churned']], on='customer_id', how='left')"
   ]
  },
  {
   "cell_type": "code",
   "execution_count": 26,
   "id": "2ca500bc",
   "metadata": {
    "execution": {
     "iopub.execute_input": "2024-07-06T11:04:10.275683Z",
     "iopub.status.busy": "2024-07-06T11:04:10.275244Z",
     "iopub.status.idle": "2024-07-06T11:04:10.305508Z",
     "shell.execute_reply": "2024-07-06T11:04:10.305125Z"
    },
    "papermill": {
     "duration": 0.058268,
     "end_time": "2024-07-06T11:04:10.305612",
     "exception": false,
     "start_time": "2024-07-06T11:04:10.247344",
     "status": "completed"
    },
    "tags": []
   },
   "outputs": [
    {
     "name": "stdout",
     "output_type": "stream",
     "text": [
      "2666816.668921581 2650349.221340079\n"
     ]
    }
   ],
   "source": [
    "#We calculate now the CLTV taking into account the global behavior of the customer\n",
    "df_new2[\"ALL_CLTV_sin_churn\"] = df_new2.median_diff_days_adjusted * df_new2.adjust_retention * df_new2.adjust_std * df_new2.cash_margin / 2\n",
    "df_new2[['CLTV_sin_churn','ALL_CLTV_sin_churn']] = df_new2[['CLTV_sin_churn','ALL_CLTV_sin_churn']].fillna(0)\n",
    "\n",
    "#df_new2[\"CLTV\"] = df_new2.median_diff_days_adjusted * df_new2.margen * df_new2.aov_cat_usd * df_new2.adjust_retention * df_new2.adjust_std * df_new2.adjust_cohort\n",
    "#df_new2[\"CLTV_sin_margen\"] = df_new2.median_diff_days_adjusted * df_new2.aov_cat_usd * df_new2.adjust_retention * df_new2.adjust_std * df_new2.adjust_cohort\n",
    "\n",
    "#If the Total Cat CLTV is NA because it is so few orders for each category, we create a Adjust_CLTV to include the global or ALL_CLTV_sin_churn instead of the NULL value\n",
    "df_new2['Adjust_CLTV'] = [x[21] if x[19] == 0 else x[19] for x in df_new2.values]\n",
    "\n",
    "print(df_new2.Adjust_CLTV.sum(),df_new2.CLTV_sin_churn.sum())"
   ]
  },
  {
   "cell_type": "code",
   "execution_count": 27,
   "id": "b85d7e97",
   "metadata": {
    "execution": {
     "iopub.execute_input": "2024-07-06T11:04:10.357710Z",
     "iopub.status.busy": "2024-07-06T11:04:10.357270Z",
     "iopub.status.idle": "2024-07-06T11:04:10.409652Z",
     "shell.execute_reply": "2024-07-06T11:04:10.409999Z"
    },
    "papermill": {
     "duration": 0.080528,
     "end_time": "2024-07-06T11:04:10.410133",
     "exception": false,
     "start_time": "2024-07-06T11:04:10.329605",
     "status": "completed"
    },
    "tags": []
   },
   "outputs": [],
   "source": [
    "#Finally, we calculate the ALL_churned_date based on the general behavior of the customer\n",
    "df_new2[['avg_diff_days','stdev_diff_days']] = df_new2[['avg_diff_days','stdev_diff_days']].fillna(0)\n",
    "df_new2['ALL_churned_date'] = [(x[10] + datetime.timedelta(days=int(x[4]+x[6]*2))).strftime('%Y-%m-%d') for x in df_new2.values] #1 months"
   ]
  },
  {
   "cell_type": "markdown",
   "id": "b4b586b1",
   "metadata": {
    "papermill": {
     "duration": 0.024138,
     "end_time": "2024-07-06T11:04:10.458689",
     "exception": false,
     "start_time": "2024-07-06T11:04:10.434551",
     "status": "completed"
    },
    "tags": []
   },
   "source": [
    "# Final processing of the file to export"
   ]
  },
  {
   "cell_type": "code",
   "execution_count": 28,
   "id": "7add3ada",
   "metadata": {
    "execution": {
     "iopub.execute_input": "2024-07-06T11:04:10.515611Z",
     "iopub.status.busy": "2024-07-06T11:04:10.515164Z",
     "iopub.status.idle": "2024-07-06T11:04:10.526733Z",
     "shell.execute_reply": "2024-07-06T11:04:10.527079Z"
    },
    "papermill": {
     "duration": 0.044619,
     "end_time": "2024-07-06T11:04:10.527210",
     "exception": false,
     "start_time": "2024-07-06T11:04:10.482591",
     "status": "completed"
    },
    "tags": []
   },
   "outputs": [],
   "source": [
    "#We will merge the df_new2 with the clear_buyers in order to filter by restaurants and take away kams (also to include the microsegment)\n",
    "df_new2 = df_new2.merge(clear_buyers[clear_buyers.registered_city == city][['customer_id','business_type','microsegment_name','is_kam']], on='customer_id', how='left')\n",
    "df_new2_end = df_new2[(df_new2.is_kam == 0)].copy() #df_new2[(df_new2.business_type == 'Restaurante') & (df_new2.is_kam == 0)].copy()"
   ]
  },
  {
   "cell_type": "code",
   "execution_count": 29,
   "id": "645d2745",
   "metadata": {
    "execution": {
     "iopub.execute_input": "2024-07-06T11:04:10.579154Z",
     "iopub.status.busy": "2024-07-06T11:04:10.578715Z",
     "iopub.status.idle": "2024-07-06T11:04:10.586731Z",
     "shell.execute_reply": "2024-07-06T11:04:10.586341Z"
    },
    "papermill": {
     "duration": 0.035299,
     "end_time": "2024-07-06T11:04:10.586836",
     "exception": false,
     "start_time": "2024-07-06T11:04:10.551537",
     "status": "completed"
    },
    "tags": []
   },
   "outputs": [],
   "source": [
    "#This cell is to calculate the cumulative sum to create the tiers further\n",
    "df_new2_end = df_new2_end.sort_values(['Adjust_CLTV'], ascending=[False])\n",
    "df_new2_end['cumsum'] = df_new2_end.groupby('city')['Adjust_CLTV'].cumsum()\n",
    "df_new2_end['run_pct'] = df_new2_end.groupby('city')['Adjust_CLTV'].apply(lambda x: (x/x.sum()).cumsum())"
   ]
  },
  {
   "cell_type": "code",
   "execution_count": 30,
   "id": "d170d2cb",
   "metadata": {
    "execution": {
     "iopub.execute_input": "2024-07-06T11:04:10.642817Z",
     "iopub.status.busy": "2024-07-06T11:04:10.642354Z",
     "iopub.status.idle": "2024-07-06T11:04:10.643831Z",
     "shell.execute_reply": "2024-07-06T11:04:10.644161Z"
    },
    "papermill": {
     "duration": 0.033087,
     "end_time": "2024-07-06T11:04:10.644281",
     "exception": false,
     "start_time": "2024-07-06T11:04:10.611194",
     "status": "completed"
    },
    "tags": []
   },
   "outputs": [],
   "source": [
    "#This conditional create the tiers\n",
    "df_new2_end['tier'] = ['A' if x <= 0.1 else\n",
    "                       'B' if x <= 0.2 else\n",
    "                       'C' if x <= 0.3 else\n",
    "                       'D' if x <= 0.4 else\n",
    "                       'E' if x <= 0.5 else\n",
    "                       'F' if x <= 0.6 else\n",
    "                       'G' if x <= 0.7 else\n",
    "                       'H' if x <= 0.8 else\n",
    "                       'I' if x <= 0.9 else\n",
    "                       'J' for x in df_new2_end.run_pct.values]"
   ]
  },
  {
   "cell_type": "code",
   "execution_count": 31,
   "id": "c632d01c",
   "metadata": {
    "execution": {
     "iopub.execute_input": "2024-07-06T11:04:10.698190Z",
     "iopub.status.busy": "2024-07-06T11:04:10.697765Z",
     "iopub.status.idle": "2024-07-06T11:04:10.700095Z",
     "shell.execute_reply": "2024-07-06T11:04:10.699734Z"
    },
    "papermill": {
     "duration": 0.031358,
     "end_time": "2024-07-06T11:04:10.700193",
     "exception": false,
     "start_time": "2024-07-06T11:04:10.668835",
     "status": "completed"
    },
    "tags": []
   },
   "outputs": [
    {
     "data": {
      "text/plain": [
       "J    1937\n",
       "I     533\n",
       "H     347\n",
       "G     250\n",
       "F     183\n",
       "E     136\n",
       "D     104\n",
       "C      78\n",
       "B      56\n",
       "A      37\n",
       "Name: tier, dtype: int64"
      ]
     },
     "execution_count": 31,
     "metadata": {},
     "output_type": "execute_result"
    }
   ],
   "source": [
    "df_new2_end.tier.value_counts()"
   ]
  },
  {
   "cell_type": "code",
   "execution_count": 32,
   "id": "45bf9ada",
   "metadata": {
    "execution": {
     "iopub.execute_input": "2024-07-06T11:04:10.753220Z",
     "iopub.status.busy": "2024-07-06T11:04:10.752761Z",
     "iopub.status.idle": "2024-07-06T11:04:10.754561Z",
     "shell.execute_reply": "2024-07-06T11:04:10.754193Z"
    },
    "papermill": {
     "duration": 0.030196,
     "end_time": "2024-07-06T11:04:10.754659",
     "exception": false,
     "start_time": "2024-07-06T11:04:10.724463",
     "status": "completed"
    },
    "tags": []
   },
   "outputs": [],
   "source": [
    "df_new2_end.rename(columns={'num_orders': 'ALL_num_orders', 'CLTV_sin_churn': 'TOTAL_CAT_CLTV_sin_churn'}, inplace=True)\n",
    "\n",
    "df3.rename(columns={'num_orders': 'num_orders_cat', 'churned': 'churned_cat','CLTV_sin_churn':'CAT_CLTV_sin_churn'}, inplace=True)"
   ]
  },
  {
   "cell_type": "code",
   "execution_count": 33,
   "id": "c6026176",
   "metadata": {
    "execution": {
     "iopub.execute_input": "2024-07-06T11:04:10.807755Z",
     "iopub.status.busy": "2024-07-06T11:04:10.807331Z",
     "iopub.status.idle": "2024-07-06T11:04:10.809703Z",
     "shell.execute_reply": "2024-07-06T11:04:10.809282Z"
    },
    "papermill": {
     "duration": 0.030331,
     "end_time": "2024-07-06T11:04:10.809800",
     "exception": false,
     "start_time": "2024-07-06T11:04:10.779469",
     "status": "completed"
    },
    "tags": []
   },
   "outputs": [
    {
     "data": {
      "text/plain": [
       "Index(['city', 'customer_id', 'min_diff_days', 'max_diff_days',\n",
       "       'avg_diff_days', 'median_diff_days', 'stdev_diff_days',\n",
       "       'ALL_num_orders', 'aov_ALL_usd', 'ALL_avg_cant', 'last_order_date',\n",
       "       'diff_from_last_to_first_order', 'days_since_last_order',\n",
       "       'first_order_date', 'churned_ALL', 'adjust_std', 'adjust_retention',\n",
       "       'median_diff_days_adjusted', 'cash_margin', 'TOTAL_CAT_CLTV_sin_churn',\n",
       "       'churned', 'ALL_CLTV_sin_churn', 'Adjust_CLTV', 'ALL_churned_date',\n",
       "       'business_type', 'microsegment_name', 'is_kam', 'cumsum', 'run_pct',\n",
       "       'tier'],\n",
       "      dtype='object')"
      ]
     },
     "execution_count": 33,
     "metadata": {},
     "output_type": "execute_result"
    }
   ],
   "source": [
    "df_new2_end.columns"
   ]
  },
  {
   "cell_type": "code",
   "execution_count": 34,
   "id": "3a0e35d1",
   "metadata": {
    "execution": {
     "iopub.execute_input": "2024-07-06T11:04:10.863758Z",
     "iopub.status.busy": "2024-07-06T11:04:10.863329Z",
     "iopub.status.idle": "2024-07-06T11:04:10.872876Z",
     "shell.execute_reply": "2024-07-06T11:04:10.873218Z"
    },
    "papermill": {
     "duration": 0.038617,
     "end_time": "2024-07-06T11:04:10.873348",
     "exception": false,
     "start_time": "2024-07-06T11:04:10.834731",
     "status": "completed"
    },
    "tags": []
   },
   "outputs": [],
   "source": [
    "#We merge with data_farming so we get the info farming for each customer\n",
    "df_new2_end = df_new2_end[['customer_id','ALL_num_orders', 'aov_ALL_usd', 'churned_ALL', 'ALL_churned_date','TOTAL_CAT_CLTV_sin_churn',\n",
    "       'ALL_CLTV_sin_churn', 'Adjust_CLTV','tier', 'microsegment_name', 'business_type', 'is_kam']].merge(data_farming[data_farming.ciudad == city][['customer_id','owner']], on='customer_id', how='left')\n",
    "df_new2_end[['owner']] = df_new2_end[['owner']].fillna('No Farming')"
   ]
  },
  {
   "cell_type": "code",
   "execution_count": 35,
   "id": "e8eae0c1",
   "metadata": {
    "execution": {
     "iopub.execute_input": "2024-07-06T11:04:10.927460Z",
     "iopub.status.busy": "2024-07-06T11:04:10.927033Z",
     "iopub.status.idle": "2024-07-06T11:04:10.928767Z",
     "shell.execute_reply": "2024-07-06T11:04:10.928389Z"
    },
    "papermill": {
     "duration": 0.030498,
     "end_time": "2024-07-06T11:04:10.928888",
     "exception": false,
     "start_time": "2024-07-06T11:04:10.898390",
     "status": "completed"
    },
    "tags": []
   },
   "outputs": [],
   "source": [
    "df_new2_end.rename(columns={'num_orders': 'ALL_num_orders', 'CLTV_sin_churn': 'TOTAL_CAT_CLTV_sin_churn'}, inplace=True)\n",
    "\n",
    "df3.rename(columns={'num_orders': 'num_orders_cat', 'churned': 'churned_cat','CLTV_sin_churn':'CAT_CLTV_sin_churn'}, inplace=True)"
   ]
  },
  {
   "cell_type": "code",
   "execution_count": 36,
   "id": "e4f51bf6",
   "metadata": {
    "execution": {
     "iopub.execute_input": "2024-07-06T11:04:10.984106Z",
     "iopub.status.busy": "2024-07-06T11:04:10.983663Z",
     "iopub.status.idle": "2024-07-06T11:04:11.001343Z",
     "shell.execute_reply": "2024-07-06T11:04:11.001690Z"
    },
    "papermill": {
     "duration": 0.047877,
     "end_time": "2024-07-06T11:04:11.001825",
     "exception": false,
     "start_time": "2024-07-06T11:04:10.953948",
     "status": "completed"
    },
    "tags": []
   },
   "outputs": [],
   "source": [
    "df_final = df3[['city', 'customer_id', 'cat', 'min_diff_days', 'max_diff_days', 'avg_diff_days', 'median_diff_days', 'stdev_diff_days', 'num_orders_cat',\n",
    "       'aov_cat_usd','last_order_date', 'diff_from_last_to_first_order', 'days_since_last_order',\n",
    "       'first_order_date', 'adjust_std', 'adjust_cohort','adjust_retention', \n",
    "       'median_diff_days_adjusted', 'churned_cat', 'churned_date','CAT_CLTV_sin_churn']].merge(df_new2_end, on='customer_id', how='inner')"
   ]
  },
  {
   "cell_type": "code",
   "execution_count": 37,
   "id": "77cafe26",
   "metadata": {
    "execution": {
     "iopub.execute_input": "2024-07-06T11:04:11.056921Z",
     "iopub.status.busy": "2024-07-06T11:04:11.056464Z",
     "iopub.status.idle": "2024-07-06T11:04:11.076182Z",
     "shell.execute_reply": "2024-07-06T11:04:11.076525Z"
    },
    "papermill": {
     "duration": 0.049435,
     "end_time": "2024-07-06T11:04:11.076661",
     "exception": false,
     "start_time": "2024-07-06T11:04:11.027226",
     "status": "completed"
    },
    "tags": []
   },
   "outputs": [
    {
     "data": {
      "text/html": [
       "<div>\n",
       "<style scoped>\n",
       "    .dataframe tbody tr th:only-of-type {\n",
       "        vertical-align: middle;\n",
       "    }\n",
       "\n",
       "    .dataframe tbody tr th {\n",
       "        vertical-align: top;\n",
       "    }\n",
       "\n",
       "    .dataframe thead th {\n",
       "        text-align: right;\n",
       "    }\n",
       "</style>\n",
       "<table border=\"1\" class=\"dataframe\">\n",
       "  <thead>\n",
       "    <tr style=\"text-align: right;\">\n",
       "      <th></th>\n",
       "      <th>city</th>\n",
       "      <th>customer_id</th>\n",
       "      <th>cat</th>\n",
       "      <th>min_diff_days</th>\n",
       "      <th>max_diff_days</th>\n",
       "      <th>avg_diff_days</th>\n",
       "      <th>median_diff_days</th>\n",
       "      <th>stdev_diff_days</th>\n",
       "      <th>num_orders_cat</th>\n",
       "      <th>aov_cat_usd</th>\n",
       "      <th>...</th>\n",
       "      <th>churned_ALL</th>\n",
       "      <th>ALL_churned_date</th>\n",
       "      <th>TOTAL_CAT_CLTV_sin_churn</th>\n",
       "      <th>ALL_CLTV_sin_churn</th>\n",
       "      <th>Adjust_CLTV</th>\n",
       "      <th>tier</th>\n",
       "      <th>microsegment_name</th>\n",
       "      <th>business_type</th>\n",
       "      <th>is_kam</th>\n",
       "      <th>owner</th>\n",
       "    </tr>\n",
       "  </thead>\n",
       "  <tbody>\n",
       "    <tr>\n",
       "      <th>0</th>\n",
       "      <td>VCP</td>\n",
       "      <td>135201529</td>\n",
       "      <td>Bebidas</td>\n",
       "      <td>1.0</td>\n",
       "      <td>70.0</td>\n",
       "      <td>11.383333</td>\n",
       "      <td>6.0</td>\n",
       "      <td>14.609135</td>\n",
       "      <td>61</td>\n",
       "      <td>19.236652</td>\n",
       "      <td>...</td>\n",
       "      <td>0</td>\n",
       "      <td>2024-07-14</td>\n",
       "      <td>824.805363</td>\n",
       "      <td>860.908332</td>\n",
       "      <td>824.805363</td>\n",
       "      <td>G</td>\n",
       "      <td>Pratos/Refeições</td>\n",
       "      <td>Restaurante</td>\n",
       "      <td>False</td>\n",
       "      <td>No Farming</td>\n",
       "    </tr>\n",
       "    <tr>\n",
       "      <th>1</th>\n",
       "      <td>VCP</td>\n",
       "      <td>135201529</td>\n",
       "      <td>Carnes, Aves e Peixes</td>\n",
       "      <td>1.0</td>\n",
       "      <td>316.0</td>\n",
       "      <td>21.931034</td>\n",
       "      <td>7.0</td>\n",
       "      <td>60.311057</td>\n",
       "      <td>30</td>\n",
       "      <td>28.492491</td>\n",
       "      <td>...</td>\n",
       "      <td>0</td>\n",
       "      <td>2024-07-14</td>\n",
       "      <td>824.805363</td>\n",
       "      <td>860.908332</td>\n",
       "      <td>824.805363</td>\n",
       "      <td>G</td>\n",
       "      <td>Pratos/Refeições</td>\n",
       "      <td>Restaurante</td>\n",
       "      <td>False</td>\n",
       "      <td>No Farming</td>\n",
       "    </tr>\n",
       "    <tr>\n",
       "      <th>2</th>\n",
       "      <td>VCP</td>\n",
       "      <td>135201529</td>\n",
       "      <td>Congelados</td>\n",
       "      <td>1.0</td>\n",
       "      <td>64.0</td>\n",
       "      <td>17.030303</td>\n",
       "      <td>8.0</td>\n",
       "      <td>17.509792</td>\n",
       "      <td>34</td>\n",
       "      <td>27.498266</td>\n",
       "      <td>...</td>\n",
       "      <td>0</td>\n",
       "      <td>2024-07-14</td>\n",
       "      <td>824.805363</td>\n",
       "      <td>860.908332</td>\n",
       "      <td>824.805363</td>\n",
       "      <td>G</td>\n",
       "      <td>Pratos/Refeições</td>\n",
       "      <td>Restaurante</td>\n",
       "      <td>False</td>\n",
       "      <td>No Farming</td>\n",
       "    </tr>\n",
       "    <tr>\n",
       "      <th>3</th>\n",
       "      <td>VCP</td>\n",
       "      <td>135201529</td>\n",
       "      <td>Frutas e Verduras</td>\n",
       "      <td>1.0</td>\n",
       "      <td>23.0</td>\n",
       "      <td>4.588608</td>\n",
       "      <td>4.0</td>\n",
       "      <td>3.932763</td>\n",
       "      <td>159</td>\n",
       "      <td>27.655432</td>\n",
       "      <td>...</td>\n",
       "      <td>0</td>\n",
       "      <td>2024-07-14</td>\n",
       "      <td>824.805363</td>\n",
       "      <td>860.908332</td>\n",
       "      <td>824.805363</td>\n",
       "      <td>G</td>\n",
       "      <td>Pratos/Refeições</td>\n",
       "      <td>Restaurante</td>\n",
       "      <td>False</td>\n",
       "      <td>No Farming</td>\n",
       "    </tr>\n",
       "    <tr>\n",
       "      <th>4</th>\n",
       "      <td>VCP</td>\n",
       "      <td>135201529</td>\n",
       "      <td>Laticínios e Ovos</td>\n",
       "      <td>1.0</td>\n",
       "      <td>70.0</td>\n",
       "      <td>14.394737</td>\n",
       "      <td>10.0</td>\n",
       "      <td>13.690674</td>\n",
       "      <td>39</td>\n",
       "      <td>24.714213</td>\n",
       "      <td>...</td>\n",
       "      <td>0</td>\n",
       "      <td>2024-07-14</td>\n",
       "      <td>824.805363</td>\n",
       "      <td>860.908332</td>\n",
       "      <td>824.805363</td>\n",
       "      <td>G</td>\n",
       "      <td>Pratos/Refeições</td>\n",
       "      <td>Restaurante</td>\n",
       "      <td>False</td>\n",
       "      <td>No Farming</td>\n",
       "    </tr>\n",
       "    <tr>\n",
       "      <th>5</th>\n",
       "      <td>VCP</td>\n",
       "      <td>135201529</td>\n",
       "      <td>Limpeza e Higiene</td>\n",
       "      <td>3.0</td>\n",
       "      <td>84.0</td>\n",
       "      <td>25.923077</td>\n",
       "      <td>20.5</td>\n",
       "      <td>21.312763</td>\n",
       "      <td>27</td>\n",
       "      <td>9.178713</td>\n",
       "      <td>...</td>\n",
       "      <td>0</td>\n",
       "      <td>2024-07-14</td>\n",
       "      <td>824.805363</td>\n",
       "      <td>860.908332</td>\n",
       "      <td>824.805363</td>\n",
       "      <td>G</td>\n",
       "      <td>Pratos/Refeições</td>\n",
       "      <td>Restaurante</td>\n",
       "      <td>False</td>\n",
       "      <td>No Farming</td>\n",
       "    </tr>\n",
       "    <tr>\n",
       "      <th>6</th>\n",
       "      <td>VCP</td>\n",
       "      <td>135201529</td>\n",
       "      <td>Mercearia</td>\n",
       "      <td>1.0</td>\n",
       "      <td>50.0</td>\n",
       "      <td>10.919355</td>\n",
       "      <td>7.0</td>\n",
       "      <td>11.090238</td>\n",
       "      <td>63</td>\n",
       "      <td>29.927418</td>\n",
       "      <td>...</td>\n",
       "      <td>0</td>\n",
       "      <td>2024-07-14</td>\n",
       "      <td>824.805363</td>\n",
       "      <td>860.908332</td>\n",
       "      <td>824.805363</td>\n",
       "      <td>G</td>\n",
       "      <td>Pratos/Refeições</td>\n",
       "      <td>Restaurante</td>\n",
       "      <td>False</td>\n",
       "      <td>No Farming</td>\n",
       "    </tr>\n",
       "    <tr>\n",
       "      <th>7</th>\n",
       "      <td>VCP</td>\n",
       "      <td>149327686</td>\n",
       "      <td>Bebidas</td>\n",
       "      <td>17.0</td>\n",
       "      <td>77.0</td>\n",
       "      <td>51.000000</td>\n",
       "      <td>55.0</td>\n",
       "      <td>24.979992</td>\n",
       "      <td>5</td>\n",
       "      <td>6.957474</td>\n",
       "      <td>...</td>\n",
       "      <td>0</td>\n",
       "      <td>2024-07-21</td>\n",
       "      <td>225.635031</td>\n",
       "      <td>219.680331</td>\n",
       "      <td>225.635031</td>\n",
       "      <td>J</td>\n",
       "      <td>Pratos/Refeições</td>\n",
       "      <td>Restaurante</td>\n",
       "      <td>False</td>\n",
       "      <td>No Farming</td>\n",
       "    </tr>\n",
       "    <tr>\n",
       "      <th>8</th>\n",
       "      <td>VCP</td>\n",
       "      <td>149327686</td>\n",
       "      <td>Carnes, Aves e Peixes</td>\n",
       "      <td>3.0</td>\n",
       "      <td>102.0</td>\n",
       "      <td>25.956522</td>\n",
       "      <td>11.0</td>\n",
       "      <td>31.578874</td>\n",
       "      <td>24</td>\n",
       "      <td>32.256184</td>\n",
       "      <td>...</td>\n",
       "      <td>0</td>\n",
       "      <td>2024-07-21</td>\n",
       "      <td>225.635031</td>\n",
       "      <td>219.680331</td>\n",
       "      <td>225.635031</td>\n",
       "      <td>J</td>\n",
       "      <td>Pratos/Refeições</td>\n",
       "      <td>Restaurante</td>\n",
       "      <td>False</td>\n",
       "      <td>No Farming</td>\n",
       "    </tr>\n",
       "    <tr>\n",
       "      <th>9</th>\n",
       "      <td>VCP</td>\n",
       "      <td>149327686</td>\n",
       "      <td>Congelados</td>\n",
       "      <td>266.0</td>\n",
       "      <td>266.0</td>\n",
       "      <td>266.000000</td>\n",
       "      <td>266.0</td>\n",
       "      <td>0.000000</td>\n",
       "      <td>2</td>\n",
       "      <td>5.995789</td>\n",
       "      <td>...</td>\n",
       "      <td>0</td>\n",
       "      <td>2024-07-21</td>\n",
       "      <td>225.635031</td>\n",
       "      <td>219.680331</td>\n",
       "      <td>225.635031</td>\n",
       "      <td>J</td>\n",
       "      <td>Pratos/Refeições</td>\n",
       "      <td>Restaurante</td>\n",
       "      <td>False</td>\n",
       "      <td>No Farming</td>\n",
       "    </tr>\n",
       "  </tbody>\n",
       "</table>\n",
       "<p>10 rows × 33 columns</p>\n",
       "</div>"
      ],
      "text/plain": [
       "  city  customer_id                    cat  min_diff_days  max_diff_days  \\\n",
       "0  VCP    135201529                Bebidas            1.0           70.0   \n",
       "1  VCP    135201529  Carnes, Aves e Peixes            1.0          316.0   \n",
       "2  VCP    135201529             Congelados            1.0           64.0   \n",
       "3  VCP    135201529      Frutas e Verduras            1.0           23.0   \n",
       "4  VCP    135201529      Laticínios e Ovos            1.0           70.0   \n",
       "5  VCP    135201529      Limpeza e Higiene            3.0           84.0   \n",
       "6  VCP    135201529              Mercearia            1.0           50.0   \n",
       "7  VCP    149327686                Bebidas           17.0           77.0   \n",
       "8  VCP    149327686  Carnes, Aves e Peixes            3.0          102.0   \n",
       "9  VCP    149327686             Congelados          266.0          266.0   \n",
       "\n",
       "   avg_diff_days  median_diff_days  stdev_diff_days  num_orders_cat  \\\n",
       "0      11.383333               6.0        14.609135              61   \n",
       "1      21.931034               7.0        60.311057              30   \n",
       "2      17.030303               8.0        17.509792              34   \n",
       "3       4.588608               4.0         3.932763             159   \n",
       "4      14.394737              10.0        13.690674              39   \n",
       "5      25.923077              20.5        21.312763              27   \n",
       "6      10.919355               7.0        11.090238              63   \n",
       "7      51.000000              55.0        24.979992               5   \n",
       "8      25.956522              11.0        31.578874              24   \n",
       "9     266.000000             266.0         0.000000               2   \n",
       "\n",
       "   aov_cat_usd  ... churned_ALL  ALL_churned_date  TOTAL_CAT_CLTV_sin_churn  \\\n",
       "0    19.236652  ...           0        2024-07-14                824.805363   \n",
       "1    28.492491  ...           0        2024-07-14                824.805363   \n",
       "2    27.498266  ...           0        2024-07-14                824.805363   \n",
       "3    27.655432  ...           0        2024-07-14                824.805363   \n",
       "4    24.714213  ...           0        2024-07-14                824.805363   \n",
       "5     9.178713  ...           0        2024-07-14                824.805363   \n",
       "6    29.927418  ...           0        2024-07-14                824.805363   \n",
       "7     6.957474  ...           0        2024-07-21                225.635031   \n",
       "8    32.256184  ...           0        2024-07-21                225.635031   \n",
       "9     5.995789  ...           0        2024-07-21                225.635031   \n",
       "\n",
       "  ALL_CLTV_sin_churn  Adjust_CLTV  tier  microsegment_name  business_type  \\\n",
       "0         860.908332   824.805363     G   Pratos/Refeições    Restaurante   \n",
       "1         860.908332   824.805363     G   Pratos/Refeições    Restaurante   \n",
       "2         860.908332   824.805363     G   Pratos/Refeições    Restaurante   \n",
       "3         860.908332   824.805363     G   Pratos/Refeições    Restaurante   \n",
       "4         860.908332   824.805363     G   Pratos/Refeições    Restaurante   \n",
       "5         860.908332   824.805363     G   Pratos/Refeições    Restaurante   \n",
       "6         860.908332   824.805363     G   Pratos/Refeições    Restaurante   \n",
       "7         219.680331   225.635031     J   Pratos/Refeições    Restaurante   \n",
       "8         219.680331   225.635031     J   Pratos/Refeições    Restaurante   \n",
       "9         219.680331   225.635031     J   Pratos/Refeições    Restaurante   \n",
       "\n",
       "   is_kam       owner  \n",
       "0   False  No Farming  \n",
       "1   False  No Farming  \n",
       "2   False  No Farming  \n",
       "3   False  No Farming  \n",
       "4   False  No Farming  \n",
       "5   False  No Farming  \n",
       "6   False  No Farming  \n",
       "7   False  No Farming  \n",
       "8   False  No Farming  \n",
       "9   False  No Farming  \n",
       "\n",
       "[10 rows x 33 columns]"
      ]
     },
     "execution_count": 37,
     "metadata": {},
     "output_type": "execute_result"
    }
   ],
   "source": [
    "df_final.head(10)"
   ]
  },
  {
   "cell_type": "code",
   "execution_count": 38,
   "id": "617ed46d",
   "metadata": {
    "execution": {
     "iopub.execute_input": "2024-07-06T11:04:11.131054Z",
     "iopub.status.busy": "2024-07-06T11:04:11.130626Z",
     "iopub.status.idle": "2024-07-06T11:04:11.132099Z",
     "shell.execute_reply": "2024-07-06T11:04:11.132434Z"
    },
    "papermill": {
     "duration": 0.029954,
     "end_time": "2024-07-06T11:04:11.132552",
     "exception": false,
     "start_time": "2024-07-06T11:04:11.102598",
     "status": "completed"
    },
    "tags": []
   },
   "outputs": [],
   "source": [
    "#df_final.to_excel(f\"CLTV_{city}.xlsx\",index=False)"
   ]
  },
  {
   "cell_type": "markdown",
   "id": "9c4e990c",
   "metadata": {
    "papermill": {
     "duration": 0.025476,
     "end_time": "2024-07-06T11:04:11.183865",
     "exception": false,
     "start_time": "2024-07-06T11:04:11.158389",
     "status": "completed"
    },
    "tags": []
   },
   "source": [
    "# Info for SAC team"
   ]
  },
  {
   "cell_type": "code",
   "execution_count": 39,
   "id": "5462e63f",
   "metadata": {
    "execution": {
     "iopub.execute_input": "2024-07-06T11:04:11.239126Z",
     "iopub.status.busy": "2024-07-06T11:04:11.238688Z",
     "iopub.status.idle": "2024-07-06T11:04:11.249292Z",
     "shell.execute_reply": "2024-07-06T11:04:11.248909Z"
    },
    "papermill": {
     "duration": 0.039862,
     "end_time": "2024-07-06T11:04:11.249396",
     "exception": false,
     "start_time": "2024-07-06T11:04:11.209534",
     "status": "completed"
    },
    "tags": []
   },
   "outputs": [],
   "source": [
    "df_SAC = df_final[['city','customer_id','tier','Adjust_CLTV']].drop_duplicates()"
   ]
  },
  {
   "cell_type": "code",
   "execution_count": 40,
   "id": "d91a68da",
   "metadata": {
    "execution": {
     "iopub.execute_input": "2024-07-06T11:04:11.305542Z",
     "iopub.status.busy": "2024-07-06T11:04:11.305107Z",
     "iopub.status.idle": "2024-07-06T11:04:11.307270Z",
     "shell.execute_reply": "2024-07-06T11:04:11.306854Z"
    },
    "papermill": {
     "duration": 0.031973,
     "end_time": "2024-07-06T11:04:11.307369",
     "exception": false,
     "start_time": "2024-07-06T11:04:11.275396",
     "status": "completed"
    },
    "tags": []
   },
   "outputs": [],
   "source": [
    "letter_to_number = {'A': 1, 'B': 2, 'C': 3, 'D': 4, 'E': 5, 'F': 6, 'G': 7, 'H': 8, 'I': 9, 'J': 10}\n",
    "df_SAC['tier'] = df_SAC['tier'].map(letter_to_number)"
   ]
  },
  {
   "cell_type": "code",
   "execution_count": 41,
   "id": "90df7856",
   "metadata": {
    "execution": {
     "iopub.execute_input": "2024-07-06T11:04:11.364092Z",
     "iopub.status.busy": "2024-07-06T11:04:11.363624Z",
     "iopub.status.idle": "2024-07-06T11:04:11.455915Z",
     "shell.execute_reply": "2024-07-06T11:04:11.455530Z"
    },
    "papermill": {
     "duration": 0.122728,
     "end_time": "2024-07-06T11:04:11.456018",
     "exception": false,
     "start_time": "2024-07-06T11:04:11.333290",
     "status": "completed"
    },
    "tags": []
   },
   "outputs": [],
   "source": [
    "# Iterate through the customer_ids\n",
    "for customer_id in buyers_11.loc[buyers_11.region_code == city].uid.unique():\n",
    "    # Check if customer_id is already in the DataFrame\n",
    "    if customer_id in df_SAC['customer_id'].values:\n",
    "        # If yes, change its tier to 11\n",
    "        df_SAC.loc[df_SAC['customer_id'] == customer_id, 'tier'] = 11\n",
    "    else:\n",
    "        # If not, add a new row with tier 11\n",
    "        df_SAC = df_SAC.append({'city': city, 'customer_id': customer_id, 'tier': 11, 'Adjust_CLTV':1}, ignore_index=True)"
   ]
  },
  {
   "cell_type": "code",
   "execution_count": 42,
   "id": "f84c0a27",
   "metadata": {
    "execution": {
     "iopub.execute_input": "2024-07-06T11:04:11.511528Z",
     "iopub.status.busy": "2024-07-06T11:04:11.511101Z",
     "iopub.status.idle": "2024-07-06T11:04:11.525430Z",
     "shell.execute_reply": "2024-07-06T11:04:11.525771Z"
    },
    "papermill": {
     "duration": 0.04375,
     "end_time": "2024-07-06T11:04:11.525904",
     "exception": false,
     "start_time": "2024-07-06T11:04:11.482154",
     "status": "completed"
    },
    "tags": []
   },
   "outputs": [],
   "source": [
    "df_SAC.to_csv(f\"/home/jupyter-felipe.guevara/Growth/CLTV/{city}_SAC_tiers.csv\",index=False)"
   ]
  }
 ],
 "metadata": {
  "kernelspec": {
   "display_name": "Python 3",
   "language": "python",
   "name": "python3"
  },
  "language_info": {
   "codemirror_mode": {
    "name": "ipython",
    "version": 3
   },
   "file_extension": ".py",
   "mimetype": "text/x-python",
   "name": "python",
   "nbconvert_exporter": "python",
   "pygments_lexer": "ipython3",
   "version": "3.7.9"
  },
  "papermill": {
   "default_parameters": {},
   "duration": 126.805595,
   "end_time": "2024-07-06T11:04:12.157640",
   "environment_variables": {},
   "exception": null,
   "input_path": "/home/jupyter-felipe.guevara/Growth/CLTV/CLTV_origin.ipynb",
   "output_path": "/home/jupyter-felipe.guevara/Growth/logs/CLTV_VCP.ipynb",
   "parameters": {
    "city": "VCP"
   },
   "start_time": "2024-07-06T11:02:05.352045",
   "version": "2.3.2"
  },
  "vscode": {
   "interpreter": {
    "hash": "624741679a3ae5d99cecf49b8df5d516a7a937e6e7328e129d1fa121c8592e26"
   }
  }
 },
 "nbformat": 4,
 "nbformat_minor": 5
}