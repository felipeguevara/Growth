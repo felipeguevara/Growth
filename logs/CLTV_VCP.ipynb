{
 "cells": [
  {
   "cell_type": "code",
   "execution_count": 1,
   "id": "01a9ef39",
   "metadata": {
    "execution": {
     "iopub.execute_input": "2024-03-21T23:44:26.050344Z",
     "iopub.status.busy": "2024-03-21T23:44:26.049895Z",
     "iopub.status.idle": "2024-03-21T23:44:27.482166Z",
     "shell.execute_reply": "2024-03-21T23:44:27.481598Z"
    },
    "papermill": {
     "duration": 1.461793,
     "end_time": "2024-03-21T23:44:27.482281",
     "exception": false,
     "start_time": "2024-03-21T23:44:26.020488",
     "status": "completed"
    },
    "tags": []
   },
   "outputs": [],
   "source": [
    "#//----------------------------\n",
    "#//LIBRARIES\n",
    "    #Math\n",
    "import math\n",
    "    #Numeric Python\n",
    "import numpy as np\n",
    "    #Pandas (dataframes)\n",
    "import pandas as pd\n",
    "    #datetime for fate manipulation\n",
    "from datetime import date, datetime, timedelta  \n",
    "    #Regex for advanced string matching\n",
    "import re\n",
    "    #for time related stuff\n",
    "import time\n",
    "    #json library\n",
    "import json\n",
    "    #Analyst tools\n",
    "import sys\n",
    "import os\n",
    "sys.path.append(os.path.expanduser('~'))\n",
    "from analysts_tools.growth import *\n",
    "    #Procurement tools\n",
    "from procurement_lib import send_slack_notification\n",
    "from procurement_lib import redash\n",
    "from analysts_tools.redash_methods import *\n",
    "from analystcommunity.read_connection_data_warehouse import run_read_dwd_query\n",
    "\n",
    "import random\n",
    "import time\n",
    "import datetime\n",
    "\n",
    "import seaborn as sns\n",
    "import matplotlib.pyplot as plt\n",
    "\n",
    "\n",
    "from sklearn.model_selection import train_test_split\n",
    "from scipy.signal import savgol_filter"
   ]
  },
  {
   "cell_type": "markdown",
   "id": "00ee05bd",
   "metadata": {
    "papermill": {
     "duration": 0.018055,
     "end_time": "2024-03-21T23:44:27.518763",
     "exception": false,
     "start_time": "2024-03-21T23:44:27.500708",
     "status": "completed"
    },
    "tags": []
   },
   "source": [
    "# Cargue de Queries y parametros"
   ]
  },
  {
   "cell_type": "code",
   "execution_count": 2,
   "id": "6e70f56b",
   "metadata": {
    "execution": {
     "iopub.execute_input": "2024-03-21T23:44:27.557581Z",
     "iopub.status.busy": "2024-03-21T23:44:27.557125Z",
     "iopub.status.idle": "2024-03-21T23:44:27.558635Z",
     "shell.execute_reply": "2024-03-21T23:44:27.558967Z"
    },
    "papermill": {
     "duration": 0.022305,
     "end_time": "2024-03-21T23:44:27.559079",
     "exception": false,
     "start_time": "2024-03-21T23:44:27.536774",
     "status": "completed"
    },
    "tags": [
     "parameters"
    ]
   },
   "outputs": [],
   "source": [
    "city = 'VCP'"
   ]
  },
  {
   "cell_type": "code",
   "execution_count": 3,
   "id": "127ca63c",
   "metadata": {
    "execution": {
     "iopub.execute_input": "2024-03-21T23:44:27.597215Z",
     "iopub.status.busy": "2024-03-21T23:44:27.596798Z",
     "iopub.status.idle": "2024-03-21T23:44:27.598300Z",
     "shell.execute_reply": "2024-03-21T23:44:27.598636Z"
    },
    "papermill": {
     "duration": 0.021844,
     "end_time": "2024-03-21T23:44:27.598743",
     "exception": false,
     "start_time": "2024-03-21T23:44:27.576899",
     "status": "completed"
    },
    "tags": [
     "injected-parameters"
    ]
   },
   "outputs": [],
   "source": [
    "# Parameters\n",
    "city = \"VCP\"\n"
   ]
  },
  {
   "cell_type": "code",
   "execution_count": 4,
   "id": "3bbacff8",
   "metadata": {
    "execution": {
     "iopub.execute_input": "2024-03-21T23:44:27.637519Z",
     "iopub.status.busy": "2024-03-21T23:44:27.637081Z",
     "iopub.status.idle": "2024-03-21T23:44:27.638927Z",
     "shell.execute_reply": "2024-03-21T23:44:27.638516Z"
    },
    "papermill": {
     "duration": 0.022275,
     "end_time": "2024-03-21T23:44:27.639015",
     "exception": false,
     "start_time": "2024-03-21T23:44:27.616740",
     "status": "completed"
    },
    "tags": []
   },
   "outputs": [],
   "source": [
    "customer_date_desde = (datetime.datetime.today() - datetime.timedelta(days=200))#.strftime('%Y-%m-%d') #1 months"
   ]
  },
  {
   "cell_type": "code",
   "execution_count": 5,
   "id": "2ad28cb3",
   "metadata": {
    "execution": {
     "iopub.execute_input": "2024-03-21T23:44:27.677694Z",
     "iopub.status.busy": "2024-03-21T23:44:27.677242Z",
     "iopub.status.idle": "2024-03-21T23:44:27.679615Z",
     "shell.execute_reply": "2024-03-21T23:44:27.679182Z"
    },
    "papermill": {
     "duration": 0.022792,
     "end_time": "2024-03-21T23:44:27.679709",
     "exception": false,
     "start_time": "2024-03-21T23:44:27.656917",
     "status": "completed"
    },
    "tags": []
   },
   "outputs": [
    {
     "name": "stdout",
     "output_type": "stream",
     "text": [
      "/home/jupyter-felipe.guevara\n"
     ]
    }
   ],
   "source": [
    "print(os.getcwd())"
   ]
  },
  {
   "cell_type": "code",
   "execution_count": 6,
   "id": "a1a2bcd0",
   "metadata": {
    "execution": {
     "iopub.execute_input": "2024-03-21T23:44:27.719089Z",
     "iopub.status.busy": "2024-03-21T23:44:27.718670Z",
     "iopub.status.idle": "2024-03-21T23:44:27.724047Z",
     "shell.execute_reply": "2024-03-21T23:44:27.723685Z"
    },
    "papermill": {
     "duration": 0.026119,
     "end_time": "2024-03-21T23:44:27.724136",
     "exception": false,
     "start_time": "2024-03-21T23:44:27.698017",
     "status": "completed"
    },
    "tags": []
   },
   "outputs": [],
   "source": [
    "margenes = pd.read_csv(\"/home/jupyter-felipe.guevara/Growth/CLTV/Margenes_neto.csv\")\n",
    "retention = pd.read_csv(\"/home/jupyter-felipe.guevara/Growth/CLTV/retention_year.csv\")"
   ]
  },
  {
   "cell_type": "code",
   "execution_count": 7,
   "id": "ecd1ceea",
   "metadata": {
    "execution": {
     "iopub.execute_input": "2024-03-21T23:44:27.854225Z",
     "iopub.status.busy": "2024-03-21T23:44:27.853785Z",
     "iopub.status.idle": "2024-03-21T23:44:27.855786Z",
     "shell.execute_reply": "2024-03-21T23:44:27.855347Z"
    },
    "papermill": {
     "duration": 0.113306,
     "end_time": "2024-03-21T23:44:27.855883",
     "exception": false,
     "start_time": "2024-03-21T23:44:27.742577",
     "status": "completed"
    },
    "tags": []
   },
   "outputs": [],
   "source": [
    "retention_aux =  retention.copy()\n",
    "\n",
    "for i,ret in enumerate(retention_aux.values):\n",
    "    retention_aux.iloc[i,2:] = [(1-(j-ret[-1])/100) if j-ret[-1] >= 0 else 1 for j in ret[2:]]"
   ]
  },
  {
   "cell_type": "code",
   "execution_count": 8,
   "id": "6c69508d",
   "metadata": {
    "execution": {
     "iopub.execute_input": "2024-03-21T23:44:27.895693Z",
     "iopub.status.busy": "2024-03-21T23:44:27.895266Z",
     "iopub.status.idle": "2024-03-21T23:45:09.050840Z",
     "shell.execute_reply": "2024-03-21T23:45:09.051223Z"
    },
    "papermill": {
     "duration": 41.176945,
     "end_time": "2024-03-21T23:45:09.051362",
     "exception": false,
     "start_time": "2024-03-21T23:44:27.874417",
     "status": "completed"
    },
    "tags": []
   },
   "outputs": [
    {
     "name": "stdout",
     "output_type": "stream",
     "text": [
      "200\n"
     ]
    }
   ],
   "source": [
    "clear_buyers = get_fresh_query_result(\"https://internal-redash.federate.frubana.com/\",138674,'SeoGHWmDUaaBi7VXje1s9zYNiMD1VHQ1K1DYOxiF',{},20)"
   ]
  },
  {
   "cell_type": "code",
   "execution_count": 9,
   "id": "cd64406b",
   "metadata": {
    "execution": {
     "iopub.execute_input": "2024-03-21T23:45:09.101035Z",
     "iopub.status.busy": "2024-03-21T23:45:09.100598Z",
     "iopub.status.idle": "2024-03-21T23:45:09.711706Z",
     "shell.execute_reply": "2024-03-21T23:45:09.711267Z"
    },
    "papermill": {
     "duration": 0.641315,
     "end_time": "2024-03-21T23:45:09.711817",
     "exception": false,
     "start_time": "2024-03-21T23:45:09.070502",
     "status": "completed"
    },
    "tags": []
   },
   "outputs": [],
   "source": [
    "query = \"\"\"\n",
    "SELECT DISTINCT\n",
    "\n",
    "c.assignee_ref_id AS \"Owner\",\n",
    "cm.member_ref_id AS \"customer_id\",\n",
    "--cm.status AS \"Estado de la asignacion\",\n",
    "--c.type as \"Tipo de asociacion\",\n",
    "--c.flow_type AS \"Tipo de carga\",\n",
    "z.value AS \"Ciudad\"\n",
    "--p.since AS \"Semana\"\n",
    "\n",
    "FROM postgres_growth_offline.\"growth_clustering.clusters\"               c\n",
    "INNER JOIN postgres_growth_offline.\"growth_clustering.cluster_members\"  cm  ON cm.cluster_id = c.id\n",
    "INNER JOIN postgres_growth_offline.\"growth_clustering.periods\"          p   ON p.id = c.period_id\n",
    "INNER JOIN postgres_growth_offline.\"growth_clustering.zones\"            z   ON z.id = c.zone_id\n",
    "\n",
    "where p.since = DATE_TRUNC('week', date(getdate()) - interval '0 week')\n",
    "and z.value in ('BOG','BAQ','MDE','CMX','SPO','BHZ','CWB','VCP')\n",
    "and c.type = 'FARMER_OFFLINE'\n",
    "and c.status = 'ACTIVE'\n",
    "and c.enabled = 'true'\n",
    "\"\"\"\n",
    "data_farming = read_connection_data_warehouse.runQuery(query)\n",
    "data_farming[[\"customer_id\"]] = data_farming[[\"customer_id\"]].astype(int)"
   ]
  },
  {
   "cell_type": "code",
   "execution_count": 10,
   "id": "a8aadf10",
   "metadata": {
    "execution": {
     "iopub.execute_input": "2024-03-21T23:45:09.754187Z",
     "iopub.status.busy": "2024-03-21T23:45:09.753747Z",
     "iopub.status.idle": "2024-03-21T23:45:09.755477Z",
     "shell.execute_reply": "2024-03-21T23:45:09.755836Z"
    },
    "papermill": {
     "duration": 0.024927,
     "end_time": "2024-03-21T23:45:09.755949",
     "exception": false,
     "start_time": "2024-03-21T23:45:09.731022",
     "status": "completed"
    },
    "tags": []
   },
   "outputs": [],
   "source": [
    "# Define a function to run the query\n",
    "def run_query_with_retry(query):\n",
    "    max_retries = 5\n",
    "    retries = 0\n",
    "    while retries < max_retries:\n",
    "        try:\n",
    "            # Attempt to execute the query\n",
    "            data_ventas_aux = run_read_dwd_query(query)\n",
    "            data_ventas_aux[[\"gmv_usd\", \"cant\"]] = data_ventas_aux[[\"gmv_usd\", \"cant\"]].astype(float)\n",
    "            data_ventas_aux['submit_date'] = pd.to_datetime(data_ventas_aux['submit_date'])\n",
    "            return data_ventas_aux  # If successful, return the result\n",
    "        except Exception as e:\n",
    "            retries += 1\n",
    "            print(f\"An error occurred: {str(e)}\")\n",
    "            print(f\"Retrying... ({retries}/{max_retries})\")\n",
    "    # If max retries reached without success, raise an error\n",
    "    raise RuntimeError(\"Failed to execute the query after multiple retries\")"
   ]
  },
  {
   "cell_type": "code",
   "execution_count": 11,
   "id": "2bb761f6",
   "metadata": {
    "execution": {
     "iopub.execute_input": "2024-03-21T23:45:09.804850Z",
     "iopub.status.busy": "2024-03-21T23:45:09.804416Z",
     "iopub.status.idle": "2024-03-21T23:45:15.294290Z",
     "shell.execute_reply": "2024-03-21T23:45:15.293895Z"
    },
    "papermill": {
     "duration": 5.519787,
     "end_time": "2024-03-21T23:45:15.294402",
     "exception": false,
     "start_time": "2024-03-21T23:45:09.774615",
     "status": "completed"
    },
    "tags": []
   },
   "outputs": [],
   "source": [
    "query = \"\"\"\n",
    "SELECT \n",
    "    s.identifier_value AS city,\n",
    "    dc.source_id AS customer_id,\n",
    "    DATE(fs.order_submitted_date) AS submit_date,\n",
    "    fs.order_id,\n",
    "    dp.card_id AS padre_sku_id,\n",
    "    cat.parent_description AS cat,\n",
    "    CASE\n",
    "        WHEN s.identifier_value = 'CMX' THEN fs.gmv_pxq_local/19.65\n",
    "        WHEN s.identifier_value IN ('SPO','BHZ','CWB','VCP') THEN fs.gmv_pxq_local/4.75\n",
    "        WHEN s.identifier_value IN ('BOG','BAQ','MDE') THEN fs.gmv_pxq_local/3776\n",
    "    ELSE fs.gmv_pxq_local \n",
    "    END AS gmv_usd,\n",
    "    fs.product_quantity_x_step_unit AS cant\n",
    "\n",
    "FROM dpr_sales.fact_sales                   fs\n",
    "INNER JOIN dpr_shared.dim_customer          dc  ON dc.customer_id = fs.dim_customer\n",
    "INNER JOIN dpr_shared.dim_site              s   ON s.site_id = fs.dim_site\n",
    "INNER JOIN dpr_shared.dim_product           dp  ON dp.product_id = fs.dim_product\n",
    "INNER JOIN dpr_shared.dim_category          cat ON cat.category_id = dp.category_id\n",
    "\n",
    "WHERE \n",
    "    fs.gmv_enabled = TRUE\n",
    "    AND fulfillment_order_status NOT IN ('CANCELLED', 'ARCHIVED','No value')\n",
    "    AND fs.fb_order_status_id  IN (1,6,7,8)\n",
    "    AND fs.is_deleted = FALSE\n",
    "    AND fs.dim_status = 1\n",
    "    AND dp.is_slot = 'false'\n",
    "    AND DATE(fs.order_submitted_date) > current_date - 730\n",
    "    AND s.identifier_value = '{city}'\n",
    "    AND dc.source_id IN {clientes}\n",
    "\"\"\".format(clientes=tuple(set(clear_buyers[clear_buyers.registered_city == city].customer_id.unique())), city = city)\n",
    "\n",
    "# Call the function with your query\n",
    "data_ventas_aux = run_query_with_retry(query)"
   ]
  },
  {
   "cell_type": "code",
   "execution_count": 12,
   "id": "17319389",
   "metadata": {
    "execution": {
     "iopub.execute_input": "2024-03-21T23:45:15.337659Z",
     "iopub.status.busy": "2024-03-21T23:45:15.337192Z",
     "iopub.status.idle": "2024-03-21T23:45:16.012449Z",
     "shell.execute_reply": "2024-03-21T23:45:16.012831Z"
    },
    "papermill": {
     "duration": 0.699111,
     "end_time": "2024-03-21T23:45:16.012970",
     "exception": false,
     "start_time": "2024-03-21T23:45:15.313859",
     "status": "completed"
    },
    "tags": []
   },
   "outputs": [],
   "source": [
    "data_ventas_aux['cat'] = data_ventas_aux['cat'].replace('Frutas e verduras', 'Frutas e Verduras')\n",
    "data_ventas_aux['cat'] = data_ventas_aux['cat'].replace('Laticínios e ovos', 'Laticínios e Ovos')\n",
    "data_ventas_aux['cat'] = data_ventas_aux['cat'].replace('Limpeza e higiene', 'Limpeza e Higiene')\n",
    "data_ventas_aux['cat'] = data_ventas_aux['cat'].replace('Carnes, aves e peixes', 'Carnes, Aves e Peixes')\n",
    "data_ventas_aux['cat'] = data_ventas_aux['cat'].replace('Abarrotes & despensa', 'Abarrotes')\n",
    "data_ventas_aux['cat'] = data_ventas_aux['cat'].replace('Aseo e higiene', 'Aseo e Higiene')\n",
    "data_ventas_aux['cat'] = data_ventas_aux['cat'].replace('Frutas & verduras', 'Frutas & Verduras')\n",
    "data_ventas_aux['cat'] = data_ventas_aux['cat'].replace('Carne, pollo & pescados', 'Carne, Pollo & Pescados')\n",
    "data_ventas_aux['cat'] = data_ventas_aux['cat'].replace('Lácteos & huevos', 'Lácteos & Huevos')"
   ]
  },
  {
   "cell_type": "code",
   "execution_count": 13,
   "id": "659b5ca0",
   "metadata": {
    "execution": {
     "iopub.execute_input": "2024-03-21T23:45:16.060087Z",
     "iopub.status.busy": "2024-03-21T23:45:16.059640Z",
     "iopub.status.idle": "2024-03-21T23:45:16.671037Z",
     "shell.execute_reply": "2024-03-21T23:45:16.671426Z"
    },
    "papermill": {
     "duration": 0.638879,
     "end_time": "2024-03-21T23:45:16.671575",
     "exception": false,
     "start_time": "2024-03-21T23:45:16.032696",
     "status": "completed"
    },
    "tags": []
   },
   "outputs": [],
   "source": [
    "check_df = data_ventas_aux.groupby(by=['customer_id']).agg({'submit_date':np.max}).reset_index()\n",
    "df = data_ventas_aux[data_ventas_aux.customer_id.isin(check_df[check_df.submit_date >= customer_date_desde].customer_id.unique())].groupby(by=['city', 'customer_id', 'submit_date','cat']).agg({'gmv_usd':'sum','cant':'sum'}).reset_index()"
   ]
  },
  {
   "cell_type": "markdown",
   "id": "d8f597ab",
   "metadata": {
    "papermill": {
     "duration": 0.019303,
     "end_time": "2024-03-21T23:45:16.710540",
     "exception": false,
     "start_time": "2024-03-21T23:45:16.691237",
     "status": "completed"
    },
    "tags": []
   },
   "source": [
    "# Generacion de df con info by cat by client"
   ]
  },
  {
   "cell_type": "code",
   "execution_count": 14,
   "id": "018d6c12",
   "metadata": {
    "execution": {
     "iopub.execute_input": "2024-03-21T23:45:16.752232Z",
     "iopub.status.busy": "2024-03-21T23:45:16.751805Z",
     "iopub.status.idle": "2024-03-21T23:45:18.219752Z",
     "shell.execute_reply": "2024-03-21T23:45:18.219345Z"
    },
    "papermill": {
     "duration": 1.490283,
     "end_time": "2024-03-21T23:45:18.219864",
     "exception": false,
     "start_time": "2024-03-21T23:45:16.729581",
     "status": "completed"
    },
    "tags": []
   },
   "outputs": [],
   "source": [
    "df = df.sort_values('submit_date',ignore_index=True)\n",
    "\n",
    "#fix for id problems and taking into account only dates\n",
    "df['order_id']= df.submit_date.apply(lambda x:x.toordinal()) \n",
    "\n",
    "#Days of difference between orders for customer and for cat\n",
    "df['days_bet'] = (df.submit_date -df.groupby('customer_id').submit_date.transform('min')).dt.days"
   ]
  },
  {
   "cell_type": "code",
   "execution_count": 15,
   "id": "ac147ff5",
   "metadata": {
    "execution": {
     "iopub.execute_input": "2024-03-21T23:45:18.263860Z",
     "iopub.status.busy": "2024-03-21T23:45:18.263406Z",
     "iopub.status.idle": "2024-03-21T23:45:27.660634Z",
     "shell.execute_reply": "2024-03-21T23:45:27.661018Z"
    },
    "papermill": {
     "duration": 9.421741,
     "end_time": "2024-03-21T23:45:27.661154",
     "exception": false,
     "start_time": "2024-03-21T23:45:18.239413",
     "status": "completed"
    },
    "tags": []
   },
   "outputs": [],
   "source": [
    "#This calculate in res the difference between consecutive orders and with the agg we calculate all metrics\n",
    "df['res'] = df.groupby(by=['customer_id', 'cat'])['days_bet'].diff()\n",
    "df_grouped = df.groupby(by=['city', 'customer_id', 'cat']).agg({'res': [np.min, np.max, np.mean, np.median, np.std],\n",
    "                                                                    'order_id': [lambda x: x.nunique()], \n",
    "                                                                    'gmv_usd': [np.mean],\n",
    "                                                                    'cant': [np.mean],\n",
    "                                                                    'submit_date': [np.max, lambda x: (x.max()-x.min()).days, lambda x: (datetime.datetime.today() - x.max()).days, np.min]\n",
    "                                                                    }).reset_index()"
   ]
  },
  {
   "cell_type": "code",
   "execution_count": 16,
   "id": "82b3c39e",
   "metadata": {
    "execution": {
     "iopub.execute_input": "2024-03-21T23:45:27.703266Z",
     "iopub.status.busy": "2024-03-21T23:45:27.702836Z",
     "iopub.status.idle": "2024-03-21T23:45:27.705912Z",
     "shell.execute_reply": "2024-03-21T23:45:27.706246Z"
    },
    "papermill": {
     "duration": 0.025542,
     "end_time": "2024-03-21T23:45:27.706361",
     "exception": false,
     "start_time": "2024-03-21T23:45:27.680819",
     "status": "completed"
    },
    "tags": []
   },
   "outputs": [],
   "source": [
    "#Finally we define everything in a df2 for further processing\n",
    "df2 = df_grouped.copy()\n",
    "\n",
    "df2.columns = ['city', 'customer_id', 'cat', 'min_diff_days', 'max_diff_days', 'avg_diff_days', 'median_diff_days', 'stdev_diff_days',\n",
    "               'num_orders', 'aov_cat_usd', 'avg_cant_cat', 'last_order_date', 'diff_from_last_to_first_order', 'days_since_last_order','first_order_date']"
   ]
  },
  {
   "cell_type": "code",
   "execution_count": 17,
   "id": "8a79603f",
   "metadata": {
    "execution": {
     "iopub.execute_input": "2024-03-21T23:45:27.747421Z",
     "iopub.status.busy": "2024-03-21T23:45:27.747010Z",
     "iopub.status.idle": "2024-03-21T23:45:27.748547Z",
     "shell.execute_reply": "2024-03-21T23:45:27.748876Z"
    },
    "papermill": {
     "duration": 0.023513,
     "end_time": "2024-03-21T23:45:27.748983",
     "exception": false,
     "start_time": "2024-03-21T23:45:27.725470",
     "status": "completed"
    },
    "tags": []
   },
   "outputs": [],
   "source": [
    "def diff_month(d1, d2):\n",
    "    return (d1.year - d2.year) * 12 + d1.month - d2.month"
   ]
  },
  {
   "cell_type": "code",
   "execution_count": 18,
   "id": "bf7017e4",
   "metadata": {
    "execution": {
     "iopub.execute_input": "2024-03-21T23:45:27.796460Z",
     "iopub.status.busy": "2024-03-21T23:45:27.796022Z",
     "iopub.status.idle": "2024-03-21T23:45:27.797603Z",
     "shell.execute_reply": "2024-03-21T23:45:27.797937Z"
    },
    "papermill": {
     "duration": 0.029881,
     "end_time": "2024-03-21T23:45:27.798046",
     "exception": false,
     "start_time": "2024-03-21T23:45:27.768165",
     "status": "completed"
    },
    "tags": []
   },
   "outputs": [],
   "source": [
    "def cat_metrics_2(cat):\n",
    "    df_cat = df2[df2.cat == cat].copy()\n",
    "    \n",
    "    df_cat['adjust_std'] = pd.qcut(df_cat.stdev_diff_days, 10, labels=[1,0.9,0.8,0.7,0.6,0.5,0.4,0.3,0.2,0.1])\n",
    "    df_cat[[\"adjust_std\"]] = df_cat[[\"adjust_std\"]].astype(float)\n",
    "    \n",
    "    df_cat['adjust_cohort'] = [1 if ((x[13]) - (x[5]+x[7]) <= 0) else  \n",
    "                 1/(((x[13]) - x[5])/x[7]) if x[7] != 0 else\n",
    "                 1/(((x[13]) - x[5])/np.round(1+(x[5]*0.7)))\n",
    "                 for x in df_cat.values]\n",
    "    \n",
    "    df_cat[\"margen\"] = [margenes[(margenes.category == x[2]) & (margenes.region_code == x[0])][\"net_margin\"].unique()[0]/100 for x in df_cat.values]\n",
    "    #mirar aca\n",
    "    df_cat['adjust_retention'] = [1 if diff_month(x[11],x[14])+1 >= 10 else \n",
    "                                  retention_aux[(retention_aux.category == x[2]) & (retention_aux.region_code == x[0])][str(diff_month(x[11],x[14])+1)].unique()[0] for x in df_cat.values]\n",
    "    \n",
    "    df_cat['median_diff_days_adjusted'] = 365/df_cat.median_diff_days\n",
    "    \n",
    "    df_cat[\"churned\"] = [0 if ((x[13]) - (x[5]+x[7]*2) <= 0) else 1 for x in df_cat.values]\n",
    "    \n",
    "    df_cat[['avg_diff_days','stdev_diff_days']] = df_cat[['avg_diff_days','stdev_diff_days']].fillna(0)\n",
    "\n",
    "    df_cat['churned_date'] = [(x[11] + datetime.timedelta(days=int(x[5]+x[7]*2))).strftime('%Y-%m-%d') for x in df_cat.values] #1 months\n",
    "    \n",
    "    df_cat[\"CLTV\"] = df_cat.median_diff_days_adjusted * df_cat.margen * df_cat.aov_cat_usd * df_cat.adjust_retention * df_cat.adjust_std * df_cat.adjust_cohort\n",
    "    df_cat[\"CLTV_sin_margen\"] = df_cat.median_diff_days_adjusted * df_cat.aov_cat_usd * df_cat.adjust_retention * df_cat.adjust_std * df_cat.adjust_cohort\n",
    "    df_cat[\"CLTV_sin_churn\"] = df_cat.median_diff_days_adjusted * df_cat.margen * df_cat.aov_cat_usd * df_cat.adjust_retention * df_cat.adjust_std\n",
    "    \n",
    "    df_cat['cash_margin'] = df_cat.aov_cat_usd * df_cat.margen\n",
    "\n",
    "    return df_cat"
   ]
  },
  {
   "cell_type": "code",
   "execution_count": 19,
   "id": "b2008543",
   "metadata": {
    "execution": {
     "iopub.execute_input": "2024-03-21T23:45:27.841447Z",
     "iopub.status.busy": "2024-03-21T23:45:27.841000Z",
     "iopub.status.idle": "2024-03-21T23:45:52.799244Z",
     "shell.execute_reply": "2024-03-21T23:45:52.798856Z"
    },
    "papermill": {
     "duration": 24.981753,
     "end_time": "2024-03-21T23:45:52.799348",
     "exception": false,
     "start_time": "2024-03-21T23:45:27.817595",
     "status": "completed"
    },
    "tags": []
   },
   "outputs": [
    {
     "name": "stdout",
     "output_type": "stream",
     "text": [
      "Bebidas\n"
     ]
    },
    {
     "name": "stdout",
     "output_type": "stream",
     "text": [
      "Done Bebidas\n",
      "Carnes, Aves e Peixes\n"
     ]
    },
    {
     "name": "stdout",
     "output_type": "stream",
     "text": [
      "Done Carnes, Aves e Peixes\n",
      "Congelados\n"
     ]
    },
    {
     "name": "stdout",
     "output_type": "stream",
     "text": [
      "Done Congelados\n",
      "Descartáveis\n"
     ]
    },
    {
     "name": "stdout",
     "output_type": "stream",
     "text": [
      "Done Descartáveis\n",
      "Frutas e Verduras\n"
     ]
    },
    {
     "name": "stdout",
     "output_type": "stream",
     "text": [
      "Done Frutas e Verduras\n",
      "Laticínios e Ovos\n"
     ]
    },
    {
     "name": "stdout",
     "output_type": "stream",
     "text": [
      "Done Laticínios e Ovos\n",
      "Limpeza e Higiene\n"
     ]
    },
    {
     "name": "stdout",
     "output_type": "stream",
     "text": [
      "Done Limpeza e Higiene\n",
      "Mercearia\n"
     ]
    },
    {
     "name": "stdout",
     "output_type": "stream",
     "text": [
      "Done Mercearia\n"
     ]
    }
   ],
   "source": [
    "df3 = pd.DataFrame()\n",
    "\n",
    "for cat in df2.cat.unique():\n",
    "   print(cat)\n",
    "   if cat not in ('Frubana prime','¡productos nuevos!','No value','Mesa & cocina','Insumos internos cat','Despensa'):\n",
    "      df3 = df3.append(cat_metrics_2(cat))\n",
    "   print(f'Done {cat}')"
   ]
  },
  {
   "cell_type": "code",
   "execution_count": 20,
   "id": "566059de",
   "metadata": {
    "execution": {
     "iopub.execute_input": "2024-03-21T23:45:52.847183Z",
     "iopub.status.busy": "2024-03-21T23:45:52.846197Z",
     "iopub.status.idle": "2024-03-21T23:45:52.865872Z",
     "shell.execute_reply": "2024-03-21T23:45:52.866211Z"
    },
    "papermill": {
     "duration": 0.045143,
     "end_time": "2024-03-21T23:45:52.866324",
     "exception": false,
     "start_time": "2024-03-21T23:45:52.821181",
     "status": "completed"
    },
    "tags": []
   },
   "outputs": [
    {
     "data": {
      "text/html": [
       "<div>\n",
       "<style scoped>\n",
       "    .dataframe tbody tr th:only-of-type {\n",
       "        vertical-align: middle;\n",
       "    }\n",
       "\n",
       "    .dataframe tbody tr th {\n",
       "        vertical-align: top;\n",
       "    }\n",
       "\n",
       "    .dataframe thead th {\n",
       "        text-align: right;\n",
       "    }\n",
       "</style>\n",
       "<table border=\"1\" class=\"dataframe\">\n",
       "  <thead>\n",
       "    <tr style=\"text-align: right;\">\n",
       "      <th></th>\n",
       "      <th>city</th>\n",
       "      <th>customer_id</th>\n",
       "      <th>cat</th>\n",
       "      <th>min_diff_days</th>\n",
       "      <th>max_diff_days</th>\n",
       "      <th>avg_diff_days</th>\n",
       "      <th>median_diff_days</th>\n",
       "      <th>stdev_diff_days</th>\n",
       "      <th>num_orders</th>\n",
       "      <th>aov_cat_usd</th>\n",
       "      <th>...</th>\n",
       "      <th>adjust_cohort</th>\n",
       "      <th>margen</th>\n",
       "      <th>adjust_retention</th>\n",
       "      <th>median_diff_days_adjusted</th>\n",
       "      <th>churned</th>\n",
       "      <th>churned_date</th>\n",
       "      <th>CLTV</th>\n",
       "      <th>CLTV_sin_margen</th>\n",
       "      <th>CLTV_sin_churn</th>\n",
       "      <th>cash_margin</th>\n",
       "    </tr>\n",
       "  </thead>\n",
       "  <tbody>\n",
       "    <tr>\n",
       "      <th>0</th>\n",
       "      <td>VCP</td>\n",
       "      <td>135201529</td>\n",
       "      <td>Bebidas</td>\n",
       "      <td>1.0</td>\n",
       "      <td>70.0</td>\n",
       "      <td>9.867647</td>\n",
       "      <td>6.0</td>\n",
       "      <td>12.386686</td>\n",
       "      <td>69</td>\n",
       "      <td>19.286224</td>\n",
       "      <td>...</td>\n",
       "      <td>1.0</td>\n",
       "      <td>0.212</td>\n",
       "      <td>1.0</td>\n",
       "      <td>60.833333</td>\n",
       "      <td>0</td>\n",
       "      <td>2024-04-23</td>\n",
       "      <td>149.236803</td>\n",
       "      <td>703.947183</td>\n",
       "      <td>149.236803</td>\n",
       "      <td>4.088680</td>\n",
       "    </tr>\n",
       "    <tr>\n",
       "      <th>8</th>\n",
       "      <td>VCP</td>\n",
       "      <td>149306304</td>\n",
       "      <td>Bebidas</td>\n",
       "      <td>1.0</td>\n",
       "      <td>202.0</td>\n",
       "      <td>23.000000</td>\n",
       "      <td>8.5</td>\n",
       "      <td>39.633667</td>\n",
       "      <td>31</td>\n",
       "      <td>96.895755</td>\n",
       "      <td>...</td>\n",
       "      <td>1.0</td>\n",
       "      <td>0.212</td>\n",
       "      <td>1.0</td>\n",
       "      <td>42.941176</td>\n",
       "      <td>0</td>\n",
       "      <td>2024-06-28</td>\n",
       "      <td>176.418672</td>\n",
       "      <td>832.163546</td>\n",
       "      <td>176.418672</td>\n",
       "      <td>20.541900</td>\n",
       "    </tr>\n",
       "    <tr>\n",
       "      <th>15</th>\n",
       "      <td>VCP</td>\n",
       "      <td>149313616</td>\n",
       "      <td>Bebidas</td>\n",
       "      <td>1.0</td>\n",
       "      <td>83.0</td>\n",
       "      <td>12.140351</td>\n",
       "      <td>7.0</td>\n",
       "      <td>13.144035</td>\n",
       "      <td>58</td>\n",
       "      <td>276.802541</td>\n",
       "      <td>...</td>\n",
       "      <td>1.0</td>\n",
       "      <td>0.212</td>\n",
       "      <td>1.0</td>\n",
       "      <td>52.142857</td>\n",
       "      <td>0</td>\n",
       "      <td>2024-04-26</td>\n",
       "      <td>1529.927186</td>\n",
       "      <td>7216.637669</td>\n",
       "      <td>1529.927186</td>\n",
       "      <td>58.682139</td>\n",
       "    </tr>\n",
       "    <tr>\n",
       "      <th>28</th>\n",
       "      <td>VCP</td>\n",
       "      <td>149327686</td>\n",
       "      <td>Bebidas</td>\n",
       "      <td>53.0</td>\n",
       "      <td>574.0</td>\n",
       "      <td>228.000000</td>\n",
       "      <td>57.0</td>\n",
       "      <td>299.651464</td>\n",
       "      <td>4</td>\n",
       "      <td>6.252632</td>\n",
       "      <td>...</td>\n",
       "      <td>1.0</td>\n",
       "      <td>0.212</td>\n",
       "      <td>1.0</td>\n",
       "      <td>6.403509</td>\n",
       "      <td>0</td>\n",
       "      <td>2026-06-24</td>\n",
       "      <td>0.848822</td>\n",
       "      <td>4.003878</td>\n",
       "      <td>0.848822</td>\n",
       "      <td>1.325558</td>\n",
       "    </tr>\n",
       "    <tr>\n",
       "      <th>36</th>\n",
       "      <td>VCP</td>\n",
       "      <td>149339488</td>\n",
       "      <td>Bebidas</td>\n",
       "      <td>2.0</td>\n",
       "      <td>504.0</td>\n",
       "      <td>93.285714</td>\n",
       "      <td>36.0</td>\n",
       "      <td>182.060168</td>\n",
       "      <td>8</td>\n",
       "      <td>26.594210</td>\n",
       "      <td>...</td>\n",
       "      <td>1.0</td>\n",
       "      <td>0.212</td>\n",
       "      <td>1.0</td>\n",
       "      <td>10.138889</td>\n",
       "      <td>0</td>\n",
       "      <td>2025-05-09</td>\n",
       "      <td>5.716278</td>\n",
       "      <td>26.963574</td>\n",
       "      <td>5.716278</td>\n",
       "      <td>5.637973</td>\n",
       "    </tr>\n",
       "  </tbody>\n",
       "</table>\n",
       "<p>5 rows × 26 columns</p>\n",
       "</div>"
      ],
      "text/plain": [
       "   city  customer_id      cat  min_diff_days  max_diff_days  avg_diff_days  \\\n",
       "0   VCP    135201529  Bebidas            1.0           70.0       9.867647   \n",
       "8   VCP    149306304  Bebidas            1.0          202.0      23.000000   \n",
       "15  VCP    149313616  Bebidas            1.0           83.0      12.140351   \n",
       "28  VCP    149327686  Bebidas           53.0          574.0     228.000000   \n",
       "36  VCP    149339488  Bebidas            2.0          504.0      93.285714   \n",
       "\n",
       "    median_diff_days  stdev_diff_days  num_orders  aov_cat_usd  ...  \\\n",
       "0                6.0        12.386686          69    19.286224  ...   \n",
       "8                8.5        39.633667          31    96.895755  ...   \n",
       "15               7.0        13.144035          58   276.802541  ...   \n",
       "28              57.0       299.651464           4     6.252632  ...   \n",
       "36              36.0       182.060168           8    26.594210  ...   \n",
       "\n",
       "    adjust_cohort margen  adjust_retention  median_diff_days_adjusted churned  \\\n",
       "0             1.0  0.212               1.0                  60.833333       0   \n",
       "8             1.0  0.212               1.0                  42.941176       0   \n",
       "15            1.0  0.212               1.0                  52.142857       0   \n",
       "28            1.0  0.212               1.0                   6.403509       0   \n",
       "36            1.0  0.212               1.0                  10.138889       0   \n",
       "\n",
       "    churned_date         CLTV  CLTV_sin_margen  CLTV_sin_churn  cash_margin  \n",
       "0     2024-04-23   149.236803       703.947183      149.236803     4.088680  \n",
       "8     2024-06-28   176.418672       832.163546      176.418672    20.541900  \n",
       "15    2024-04-26  1529.927186      7216.637669     1529.927186    58.682139  \n",
       "28    2026-06-24     0.848822         4.003878        0.848822     1.325558  \n",
       "36    2025-05-09     5.716278        26.963574        5.716278     5.637973  \n",
       "\n",
       "[5 rows x 26 columns]"
      ]
     },
     "execution_count": 20,
     "metadata": {},
     "output_type": "execute_result"
    }
   ],
   "source": [
    "df3.head(5)"
   ]
  },
  {
   "cell_type": "markdown",
   "id": "dcaa3649",
   "metadata": {
    "papermill": {
     "duration": 0.021813,
     "end_time": "2024-03-21T23:45:52.910083",
     "exception": false,
     "start_time": "2024-03-21T23:45:52.888270",
     "status": "completed"
    },
    "tags": []
   },
   "source": [
    "# Aca empieza el analisis global by customer "
   ]
  },
  {
   "cell_type": "code",
   "execution_count": 21,
   "id": "ddf5ac91",
   "metadata": {
    "execution": {
     "iopub.execute_input": "2024-03-21T23:45:52.957836Z",
     "iopub.status.busy": "2024-03-21T23:45:52.957395Z",
     "iopub.status.idle": "2024-03-21T23:45:52.970205Z",
     "shell.execute_reply": "2024-03-21T23:45:52.969838Z"
    },
    "papermill": {
     "duration": 0.038149,
     "end_time": "2024-03-21T23:45:52.970300",
     "exception": false,
     "start_time": "2024-03-21T23:45:52.932151",
     "status": "completed"
    },
    "tags": []
   },
   "outputs": [],
   "source": [
    "#Here, i group the df3 (the df with the whole info by cat to customer lvl)\n",
    "df_new3 = df3[['city','customer_id','aov_cat_usd','cash_margin','CLTV_sin_churn','churned']].groupby(by=['city','customer_id']).sum().reset_index()"
   ]
  },
  {
   "cell_type": "code",
   "execution_count": 22,
   "id": "a46d8413",
   "metadata": {
    "execution": {
     "iopub.execute_input": "2024-03-21T23:45:53.024357Z",
     "iopub.status.busy": "2024-03-21T23:45:53.023898Z",
     "iopub.status.idle": "2024-03-21T23:45:55.209598Z",
     "shell.execute_reply": "2024-03-21T23:45:55.209989Z"
    },
    "papermill": {
     "duration": 2.217547,
     "end_time": "2024-03-21T23:45:55.210125",
     "exception": false,
     "start_time": "2024-03-21T23:45:52.992578",
     "status": "completed"
    },
    "tags": []
   },
   "outputs": [],
   "source": [
    "#The processing data for customer level is made here\n",
    "\n",
    "df_new = df.groupby(by=['city','customer_id','order_id','submit_date']).sum().reset_index()\n",
    "\n",
    "df_new['days_bet'] = (df_new.submit_date -df_new.groupby('customer_id').submit_date.transform('min')).dt.days\n",
    "\n",
    "#This calculate in res the difference between consecutive orders and with the agg we calculate all metrics\n",
    "df_new['res'] = df_new.groupby(by=['customer_id'])['days_bet'].diff()\n",
    "df_grouped_2 = df_new.groupby(by=['city', 'customer_id']).agg({'res': [np.min, np.max, np.mean, np.median, np.std],\n",
    "                                                                    'order_id': [lambda x: x.nunique()], \n",
    "                                                                    'gmv_usd': [np.mean],\n",
    "                                                                    'cant': [np.mean],\n",
    "                                                                    'submit_date': [np.max, lambda x: (x.max()-x.min()).days, lambda x: (datetime.datetime.today() - x.max()).days, np.min]\n",
    "                                                                    }).droplevel(0, axis=\"columns\").reset_index()"
   ]
  },
  {
   "cell_type": "code",
   "execution_count": 23,
   "id": "4bde532b",
   "metadata": {
    "execution": {
     "iopub.execute_input": "2024-03-21T23:45:55.257928Z",
     "iopub.status.busy": "2024-03-21T23:45:55.257494Z",
     "iopub.status.idle": "2024-03-21T23:45:55.259635Z",
     "shell.execute_reply": "2024-03-21T23:45:55.259973Z"
    },
    "papermill": {
     "duration": 0.027404,
     "end_time": "2024-03-21T23:45:55.260083",
     "exception": false,
     "start_time": "2024-03-21T23:45:55.232679",
     "status": "completed"
    },
    "tags": []
   },
   "outputs": [],
   "source": [
    "#Finally we define everything in a df_new2 at level customer for further processing\n",
    "df_new2 = df_grouped_2.copy()\n",
    "\n",
    "df_new2.columns = ['city', 'customer_id', 'min_diff_days', 'max_diff_days', 'avg_diff_days', 'median_diff_days', 'stdev_diff_days',\n",
    "               'num_orders', 'aov_ALL_usd', 'ALL_avg_cant', 'last_order_date', 'diff_from_last_to_first_order', 'days_since_last_order','first_order_date']"
   ]
  },
  {
   "cell_type": "code",
   "execution_count": 24,
   "id": "4ea976cc",
   "metadata": {
    "execution": {
     "iopub.execute_input": "2024-03-21T23:45:55.309224Z",
     "iopub.status.busy": "2024-03-21T23:45:55.308796Z",
     "iopub.status.idle": "2024-03-21T23:45:56.733898Z",
     "shell.execute_reply": "2024-03-21T23:45:56.733490Z"
    },
    "papermill": {
     "duration": 1.451865,
     "end_time": "2024-03-21T23:45:56.734013",
     "exception": false,
     "start_time": "2024-03-21T23:45:55.282148",
     "status": "completed"
    },
    "tags": []
   },
   "outputs": [],
   "source": [
    "#Finally we calculate the next parameters and also integred with df_new3 where we can have the info grouped by customer about the category performance\n",
    "df_new2[\"churned_ALL\"] = [0 if ((x[12]) - (x[4]+x[6]*2) <= 0) else 1 for x in df_new2.values]\n",
    "\n",
    "df_new2['adjust_std'] = pd.qcut(df_new2.stdev_diff_days, 10, labels=[1,0.9,0.8,0.7,0.6,0.5,0.4,0.3,0.2,0.1])\n",
    "df_new2[[\"adjust_std\"]] = df_new2[[\"adjust_std\"]].astype(float)\n",
    "\n",
    "df_new2['adjust_retention'] = [1 if diff_month(x[10],x[13])+1 >= 10 else \n",
    "                                retention_aux[(retention_aux.region_code == x[0])][str(diff_month(x[10],x[13])+1)].max() for x in df_new2.values]\n",
    "\n",
    "df_new2['median_diff_days_adjusted'] = 365/df_new2.median_diff_days\n",
    "\n",
    "#this merge is to include the info for the total cash_margin, how many cats is churned and the total cat CLTV\n",
    "df_new2 = df_new2.merge(df_new3[['customer_id','cash_margin','CLTV_sin_churn','churned']], on='customer_id', how='left')"
   ]
  },
  {
   "cell_type": "code",
   "execution_count": 25,
   "id": "63e25a97",
   "metadata": {
    "execution": {
     "iopub.execute_input": "2024-03-21T23:45:56.782842Z",
     "iopub.status.busy": "2024-03-21T23:45:56.782412Z",
     "iopub.status.idle": "2024-03-21T23:45:56.878264Z",
     "shell.execute_reply": "2024-03-21T23:45:56.877879Z"
    },
    "papermill": {
     "duration": 0.121625,
     "end_time": "2024-03-21T23:45:56.878364",
     "exception": false,
     "start_time": "2024-03-21T23:45:56.756739",
     "status": "completed"
    },
    "tags": []
   },
   "outputs": [
    {
     "name": "stdout",
     "output_type": "stream",
     "text": [
      "3086128.055598976 3060364.805784277\n"
     ]
    }
   ],
   "source": [
    "#We calculate now the CLTV taking into account the global behavior of the customer\n",
    "df_new2[\"ALL_CLTV_sin_churn\"] = df_new2.median_diff_days_adjusted * df_new2.adjust_retention * df_new2.adjust_std * df_new2.cash_margin / 2\n",
    "df_new2[['CLTV_sin_churn','ALL_CLTV_sin_churn']] = df_new2[['CLTV_sin_churn','ALL_CLTV_sin_churn']].fillna(0)\n",
    "\n",
    "#df_new2[\"CLTV\"] = df_new2.median_diff_days_adjusted * df_new2.margen * df_new2.aov_cat_usd * df_new2.adjust_retention * df_new2.adjust_std * df_new2.adjust_cohort\n",
    "#df_new2[\"CLTV_sin_margen\"] = df_new2.median_diff_days_adjusted * df_new2.aov_cat_usd * df_new2.adjust_retention * df_new2.adjust_std * df_new2.adjust_cohort\n",
    "\n",
    "#If the Total Cat CLTV is NA because it is so few orders for each category, we create a Adjust_CLTV to include the global or ALL_CLTV_sin_churn instead of the NULL value\n",
    "df_new2['Adjust_CLTV'] = [x[21] if x[19] == 0 else x[19] for x in df_new2.values]\n",
    "\n",
    "print(df_new2.Adjust_CLTV.sum(),df_new2.CLTV_sin_churn.sum())"
   ]
  },
  {
   "cell_type": "code",
   "execution_count": 26,
   "id": "f921cc08",
   "metadata": {
    "execution": {
     "iopub.execute_input": "2024-03-21T23:45:56.927647Z",
     "iopub.status.busy": "2024-03-21T23:45:56.927205Z",
     "iopub.status.idle": "2024-03-21T23:45:56.991691Z",
     "shell.execute_reply": "2024-03-21T23:45:56.992062Z"
    },
    "papermill": {
     "duration": 0.09103,
     "end_time": "2024-03-21T23:45:56.992191",
     "exception": false,
     "start_time": "2024-03-21T23:45:56.901161",
     "status": "completed"
    },
    "tags": []
   },
   "outputs": [],
   "source": [
    "#Finally, we calculate the ALL_churned_date based on the general behavior of the customer\n",
    "df_new2[['avg_diff_days','stdev_diff_days']] = df_new2[['avg_diff_days','stdev_diff_days']].fillna(0)\n",
    "df_new2['ALL_churned_date'] = [(x[10] + datetime.timedelta(days=int(x[4]+x[6]*2))).strftime('%Y-%m-%d') for x in df_new2.values] #1 months"
   ]
  },
  {
   "cell_type": "markdown",
   "id": "42bd2ae4",
   "metadata": {
    "papermill": {
     "duration": 0.022509,
     "end_time": "2024-03-21T23:45:57.041052",
     "exception": false,
     "start_time": "2024-03-21T23:45:57.018543",
     "status": "completed"
    },
    "tags": []
   },
   "source": [
    "# Final processing of the file to export"
   ]
  },
  {
   "cell_type": "code",
   "execution_count": 27,
   "id": "2bd106bc",
   "metadata": {
    "execution": {
     "iopub.execute_input": "2024-03-21T23:45:57.097632Z",
     "iopub.status.busy": "2024-03-21T23:45:57.097154Z",
     "iopub.status.idle": "2024-03-21T23:45:57.109764Z",
     "shell.execute_reply": "2024-03-21T23:45:57.110101Z"
    },
    "papermill": {
     "duration": 0.046739,
     "end_time": "2024-03-21T23:45:57.110222",
     "exception": false,
     "start_time": "2024-03-21T23:45:57.063483",
     "status": "completed"
    },
    "tags": []
   },
   "outputs": [],
   "source": [
    "#We will merge the df_new2 with the clear_buyers in order to filter by restaurants and take away kams (also to include the microsegment)\n",
    "df_new2 = df_new2.merge(clear_buyers[clear_buyers.registered_city == city][['customer_id','business_type','microsegment_name','is_kam']], on='customer_id', how='left')\n",
    "df_new2_end = df_new2[(df_new2.is_kam == 0)].copy() #df_new2[(df_new2.business_type == 'Restaurante') & (df_new2.is_kam == 0)].copy()"
   ]
  },
  {
   "cell_type": "code",
   "execution_count": 28,
   "id": "e8d8c715",
   "metadata": {
    "execution": {
     "iopub.execute_input": "2024-03-21T23:45:57.159407Z",
     "iopub.status.busy": "2024-03-21T23:45:57.158979Z",
     "iopub.status.idle": "2024-03-21T23:45:57.167108Z",
     "shell.execute_reply": "2024-03-21T23:45:57.166735Z"
    },
    "papermill": {
     "duration": 0.034166,
     "end_time": "2024-03-21T23:45:57.167208",
     "exception": false,
     "start_time": "2024-03-21T23:45:57.133042",
     "status": "completed"
    },
    "tags": []
   },
   "outputs": [],
   "source": [
    "#This cell is to calculate the cumulative sum to create the tiers further\n",
    "df_new2_end = df_new2_end.sort_values(['Adjust_CLTV'], ascending=[False])\n",
    "df_new2_end['cumsum'] = df_new2_end.groupby('city')['Adjust_CLTV'].cumsum()\n",
    "df_new2_end['run_pct'] = df_new2_end.groupby('city')['Adjust_CLTV'].apply(lambda x: (x/x.sum()).cumsum())"
   ]
  },
  {
   "cell_type": "code",
   "execution_count": 29,
   "id": "eed58468",
   "metadata": {
    "execution": {
     "iopub.execute_input": "2024-03-21T23:45:57.221561Z",
     "iopub.status.busy": "2024-03-21T23:45:57.221090Z",
     "iopub.status.idle": "2024-03-21T23:45:57.223003Z",
     "shell.execute_reply": "2024-03-21T23:45:57.222579Z"
    },
    "papermill": {
     "duration": 0.032635,
     "end_time": "2024-03-21T23:45:57.223098",
     "exception": false,
     "start_time": "2024-03-21T23:45:57.190463",
     "status": "completed"
    },
    "tags": []
   },
   "outputs": [],
   "source": [
    "#This conditional create the tiers\n",
    "df_new2_end['tier'] = ['A' if x <= 0.1 else\n",
    "                       'B' if x <= 0.2 else\n",
    "                       'C' if x <= 0.3 else\n",
    "                       'D' if x <= 0.4 else\n",
    "                       'E' if x <= 0.5 else\n",
    "                       'F' if x <= 0.6 else\n",
    "                       'G' if x <= 0.7 else\n",
    "                       'H' if x <= 0.8 else\n",
    "                       'I' if x <= 0.9 else\n",
    "                       'J' for x in df_new2_end.run_pct.values]"
   ]
  },
  {
   "cell_type": "code",
   "execution_count": 30,
   "id": "a9721051",
   "metadata": {
    "execution": {
     "iopub.execute_input": "2024-03-21T23:45:57.274974Z",
     "iopub.status.busy": "2024-03-21T23:45:57.274549Z",
     "iopub.status.idle": "2024-03-21T23:45:57.276965Z",
     "shell.execute_reply": "2024-03-21T23:45:57.276602Z"
    },
    "papermill": {
     "duration": 0.029791,
     "end_time": "2024-03-21T23:45:57.277057",
     "exception": false,
     "start_time": "2024-03-21T23:45:57.247266",
     "status": "completed"
    },
    "tags": []
   },
   "outputs": [
    {
     "data": {
      "text/plain": [
       "J    2807\n",
       "I     674\n",
       "H     447\n",
       "G     316\n",
       "F     232\n",
       "E     171\n",
       "D     130\n",
       "C      96\n",
       "B      66\n",
       "A      38\n",
       "Name: tier, dtype: int64"
      ]
     },
     "execution_count": 30,
     "metadata": {},
     "output_type": "execute_result"
    }
   ],
   "source": [
    "df_new2_end.tier.value_counts()"
   ]
  },
  {
   "cell_type": "code",
   "execution_count": 31,
   "id": "46458083",
   "metadata": {
    "execution": {
     "iopub.execute_input": "2024-03-21T23:45:57.327008Z",
     "iopub.status.busy": "2024-03-21T23:45:57.326584Z",
     "iopub.status.idle": "2024-03-21T23:45:57.328466Z",
     "shell.execute_reply": "2024-03-21T23:45:57.328043Z"
    },
    "papermill": {
     "duration": 0.028483,
     "end_time": "2024-03-21T23:45:57.328559",
     "exception": false,
     "start_time": "2024-03-21T23:45:57.300076",
     "status": "completed"
    },
    "tags": []
   },
   "outputs": [],
   "source": [
    "df_new2_end.rename(columns={'num_orders': 'ALL_num_orders', 'CLTV_sin_churn': 'TOTAL_CAT_CLTV_sin_churn'}, inplace=True)\n",
    "\n",
    "df3.rename(columns={'num_orders': 'num_orders_cat', 'churned': 'churned_cat','CLTV_sin_churn':'CAT_CLTV_sin_churn'}, inplace=True)"
   ]
  },
  {
   "cell_type": "code",
   "execution_count": 32,
   "id": "44b28450",
   "metadata": {
    "execution": {
     "iopub.execute_input": "2024-03-21T23:45:57.378329Z",
     "iopub.status.busy": "2024-03-21T23:45:57.377892Z",
     "iopub.status.idle": "2024-03-21T23:45:57.379900Z",
     "shell.execute_reply": "2024-03-21T23:45:57.380239Z"
    },
    "papermill": {
     "duration": 0.028462,
     "end_time": "2024-03-21T23:45:57.380353",
     "exception": false,
     "start_time": "2024-03-21T23:45:57.351891",
     "status": "completed"
    },
    "tags": []
   },
   "outputs": [
    {
     "data": {
      "text/plain": [
       "Index(['city', 'customer_id', 'min_diff_days', 'max_diff_days',\n",
       "       'avg_diff_days', 'median_diff_days', 'stdev_diff_days',\n",
       "       'ALL_num_orders', 'aov_ALL_usd', 'ALL_avg_cant', 'last_order_date',\n",
       "       'diff_from_last_to_first_order', 'days_since_last_order',\n",
       "       'first_order_date', 'churned_ALL', 'adjust_std', 'adjust_retention',\n",
       "       'median_diff_days_adjusted', 'cash_margin', 'TOTAL_CAT_CLTV_sin_churn',\n",
       "       'churned', 'ALL_CLTV_sin_churn', 'Adjust_CLTV', 'ALL_churned_date',\n",
       "       'business_type', 'microsegment_name', 'is_kam', 'cumsum', 'run_pct',\n",
       "       'tier'],\n",
       "      dtype='object')"
      ]
     },
     "execution_count": 32,
     "metadata": {},
     "output_type": "execute_result"
    }
   ],
   "source": [
    "df_new2_end.columns"
   ]
  },
  {
   "cell_type": "code",
   "execution_count": 33,
   "id": "5c91b919",
   "metadata": {
    "execution": {
     "iopub.execute_input": "2024-03-21T23:45:57.431071Z",
     "iopub.status.busy": "2024-03-21T23:45:57.430650Z",
     "iopub.status.idle": "2024-03-21T23:45:57.442583Z",
     "shell.execute_reply": "2024-03-21T23:45:57.442916Z"
    },
    "papermill": {
     "duration": 0.039197,
     "end_time": "2024-03-21T23:45:57.443027",
     "exception": false,
     "start_time": "2024-03-21T23:45:57.403830",
     "status": "completed"
    },
    "tags": []
   },
   "outputs": [],
   "source": [
    "#We merge with data_farming so we get the info farming for each customer\n",
    "df_new2_end = df_new2_end[['customer_id','ALL_num_orders', 'aov_ALL_usd', 'churned_ALL', 'ALL_churned_date','TOTAL_CAT_CLTV_sin_churn',\n",
    "       'ALL_CLTV_sin_churn', 'Adjust_CLTV','tier', 'microsegment_name', 'business_type', 'is_kam']].merge(data_farming[data_farming.ciudad == city][['customer_id','owner']], on='customer_id', how='left')\n",
    "df_new2_end[['owner']] = df_new2_end[['owner']].fillna('No Farming')"
   ]
  },
  {
   "cell_type": "code",
   "execution_count": 34,
   "id": "29518c73",
   "metadata": {
    "execution": {
     "iopub.execute_input": "2024-03-21T23:45:57.493503Z",
     "iopub.status.busy": "2024-03-21T23:45:57.493059Z",
     "iopub.status.idle": "2024-03-21T23:45:57.494908Z",
     "shell.execute_reply": "2024-03-21T23:45:57.494491Z"
    },
    "papermill": {
     "duration": 0.028427,
     "end_time": "2024-03-21T23:45:57.494996",
     "exception": false,
     "start_time": "2024-03-21T23:45:57.466569",
     "status": "completed"
    },
    "tags": []
   },
   "outputs": [],
   "source": [
    "df_new2_end.rename(columns={'num_orders': 'ALL_num_orders', 'CLTV_sin_churn': 'TOTAL_CAT_CLTV_sin_churn'}, inplace=True)\n",
    "\n",
    "df3.rename(columns={'num_orders': 'num_orders_cat', 'churned': 'churned_cat','CLTV_sin_churn':'CAT_CLTV_sin_churn'}, inplace=True)"
   ]
  },
  {
   "cell_type": "code",
   "execution_count": 35,
   "id": "6040020d",
   "metadata": {
    "execution": {
     "iopub.execute_input": "2024-03-21T23:45:57.545350Z",
     "iopub.status.busy": "2024-03-21T23:45:57.544911Z",
     "iopub.status.idle": "2024-03-21T23:45:57.565145Z",
     "shell.execute_reply": "2024-03-21T23:45:57.565515Z"
    },
    "papermill": {
     "duration": 0.047215,
     "end_time": "2024-03-21T23:45:57.565638",
     "exception": false,
     "start_time": "2024-03-21T23:45:57.518423",
     "status": "completed"
    },
    "tags": []
   },
   "outputs": [],
   "source": [
    "df_final = df3[['city', 'customer_id', 'cat', 'min_diff_days', 'max_diff_days', 'avg_diff_days', 'median_diff_days', 'stdev_diff_days', 'num_orders_cat',\n",
    "       'aov_cat_usd','last_order_date', 'diff_from_last_to_first_order', 'days_since_last_order',\n",
    "       'first_order_date', 'adjust_std', 'adjust_cohort','adjust_retention', \n",
    "       'median_diff_days_adjusted', 'churned_cat', 'churned_date','CAT_CLTV_sin_churn']].merge(df_new2_end, on='customer_id', how='inner')"
   ]
  },
  {
   "cell_type": "code",
   "execution_count": 36,
   "id": "0c1fca83",
   "metadata": {
    "execution": {
     "iopub.execute_input": "2024-03-21T23:45:57.617066Z",
     "iopub.status.busy": "2024-03-21T23:45:57.616196Z",
     "iopub.status.idle": "2024-03-21T23:45:57.636541Z",
     "shell.execute_reply": "2024-03-21T23:45:57.636111Z"
    },
    "papermill": {
     "duration": 0.047138,
     "end_time": "2024-03-21T23:45:57.636636",
     "exception": false,
     "start_time": "2024-03-21T23:45:57.589498",
     "status": "completed"
    },
    "tags": []
   },
   "outputs": [
    {
     "data": {
      "text/html": [
       "<div>\n",
       "<style scoped>\n",
       "    .dataframe tbody tr th:only-of-type {\n",
       "        vertical-align: middle;\n",
       "    }\n",
       "\n",
       "    .dataframe tbody tr th {\n",
       "        vertical-align: top;\n",
       "    }\n",
       "\n",
       "    .dataframe thead th {\n",
       "        text-align: right;\n",
       "    }\n",
       "</style>\n",
       "<table border=\"1\" class=\"dataframe\">\n",
       "  <thead>\n",
       "    <tr style=\"text-align: right;\">\n",
       "      <th></th>\n",
       "      <th>city</th>\n",
       "      <th>customer_id</th>\n",
       "      <th>cat</th>\n",
       "      <th>min_diff_days</th>\n",
       "      <th>max_diff_days</th>\n",
       "      <th>avg_diff_days</th>\n",
       "      <th>median_diff_days</th>\n",
       "      <th>stdev_diff_days</th>\n",
       "      <th>num_orders_cat</th>\n",
       "      <th>aov_cat_usd</th>\n",
       "      <th>...</th>\n",
       "      <th>churned_ALL</th>\n",
       "      <th>ALL_churned_date</th>\n",
       "      <th>TOTAL_CAT_CLTV_sin_churn</th>\n",
       "      <th>ALL_CLTV_sin_churn</th>\n",
       "      <th>Adjust_CLTV</th>\n",
       "      <th>tier</th>\n",
       "      <th>microsegment_name</th>\n",
       "      <th>business_type</th>\n",
       "      <th>is_kam</th>\n",
       "      <th>owner</th>\n",
       "    </tr>\n",
       "  </thead>\n",
       "  <tbody>\n",
       "    <tr>\n",
       "      <th>0</th>\n",
       "      <td>VCP</td>\n",
       "      <td>135201529</td>\n",
       "      <td>Bebidas</td>\n",
       "      <td>1.0</td>\n",
       "      <td>70.0</td>\n",
       "      <td>9.867647</td>\n",
       "      <td>6.0</td>\n",
       "      <td>12.386686</td>\n",
       "      <td>69</td>\n",
       "      <td>19.286224</td>\n",
       "      <td>...</td>\n",
       "      <td>0</td>\n",
       "      <td>2024-04-01</td>\n",
       "      <td>1052.476849</td>\n",
       "      <td>1083.286266</td>\n",
       "      <td>1052.476849</td>\n",
       "      <td>F</td>\n",
       "      <td>Pratos/Refeições</td>\n",
       "      <td>Restaurante</td>\n",
       "      <td>False</td>\n",
       "      <td>bruno.amaral@frubana.com</td>\n",
       "    </tr>\n",
       "    <tr>\n",
       "      <th>1</th>\n",
       "      <td>VCP</td>\n",
       "      <td>135201529</td>\n",
       "      <td>Carnes, Aves e Peixes</td>\n",
       "      <td>1.0</td>\n",
       "      <td>118.0</td>\n",
       "      <td>11.428571</td>\n",
       "      <td>7.0</td>\n",
       "      <td>21.328869</td>\n",
       "      <td>29</td>\n",
       "      <td>28.547223</td>\n",
       "      <td>...</td>\n",
       "      <td>0</td>\n",
       "      <td>2024-04-01</td>\n",
       "      <td>1052.476849</td>\n",
       "      <td>1083.286266</td>\n",
       "      <td>1052.476849</td>\n",
       "      <td>F</td>\n",
       "      <td>Pratos/Refeições</td>\n",
       "      <td>Restaurante</td>\n",
       "      <td>False</td>\n",
       "      <td>bruno.amaral@frubana.com</td>\n",
       "    </tr>\n",
       "    <tr>\n",
       "      <th>2</th>\n",
       "      <td>VCP</td>\n",
       "      <td>135201529</td>\n",
       "      <td>Congelados</td>\n",
       "      <td>1.0</td>\n",
       "      <td>64.0</td>\n",
       "      <td>15.419355</td>\n",
       "      <td>7.0</td>\n",
       "      <td>16.814228</td>\n",
       "      <td>32</td>\n",
       "      <td>27.175329</td>\n",
       "      <td>...</td>\n",
       "      <td>0</td>\n",
       "      <td>2024-04-01</td>\n",
       "      <td>1052.476849</td>\n",
       "      <td>1083.286266</td>\n",
       "      <td>1052.476849</td>\n",
       "      <td>F</td>\n",
       "      <td>Pratos/Refeições</td>\n",
       "      <td>Restaurante</td>\n",
       "      <td>False</td>\n",
       "      <td>bruno.amaral@frubana.com</td>\n",
       "    </tr>\n",
       "    <tr>\n",
       "      <th>3</th>\n",
       "      <td>VCP</td>\n",
       "      <td>135201529</td>\n",
       "      <td>Descartáveis</td>\n",
       "      <td>20.0</td>\n",
       "      <td>20.0</td>\n",
       "      <td>20.000000</td>\n",
       "      <td>20.0</td>\n",
       "      <td>0.000000</td>\n",
       "      <td>2</td>\n",
       "      <td>7.562105</td>\n",
       "      <td>...</td>\n",
       "      <td>0</td>\n",
       "      <td>2024-04-01</td>\n",
       "      <td>1052.476849</td>\n",
       "      <td>1083.286266</td>\n",
       "      <td>1052.476849</td>\n",
       "      <td>F</td>\n",
       "      <td>Pratos/Refeições</td>\n",
       "      <td>Restaurante</td>\n",
       "      <td>False</td>\n",
       "      <td>bruno.amaral@frubana.com</td>\n",
       "    </tr>\n",
       "    <tr>\n",
       "      <th>4</th>\n",
       "      <td>VCP</td>\n",
       "      <td>135201529</td>\n",
       "      <td>Frutas e Verduras</td>\n",
       "      <td>1.0</td>\n",
       "      <td>23.0</td>\n",
       "      <td>4.084848</td>\n",
       "      <td>3.0</td>\n",
       "      <td>3.681539</td>\n",
       "      <td>166</td>\n",
       "      <td>26.283342</td>\n",
       "      <td>...</td>\n",
       "      <td>0</td>\n",
       "      <td>2024-04-01</td>\n",
       "      <td>1052.476849</td>\n",
       "      <td>1083.286266</td>\n",
       "      <td>1052.476849</td>\n",
       "      <td>F</td>\n",
       "      <td>Pratos/Refeições</td>\n",
       "      <td>Restaurante</td>\n",
       "      <td>False</td>\n",
       "      <td>bruno.amaral@frubana.com</td>\n",
       "    </tr>\n",
       "    <tr>\n",
       "      <th>5</th>\n",
       "      <td>VCP</td>\n",
       "      <td>135201529</td>\n",
       "      <td>Laticínios e Ovos</td>\n",
       "      <td>1.0</td>\n",
       "      <td>153.0</td>\n",
       "      <td>17.552632</td>\n",
       "      <td>8.5</td>\n",
       "      <td>26.435743</td>\n",
       "      <td>39</td>\n",
       "      <td>21.525225</td>\n",
       "      <td>...</td>\n",
       "      <td>0</td>\n",
       "      <td>2024-04-01</td>\n",
       "      <td>1052.476849</td>\n",
       "      <td>1083.286266</td>\n",
       "      <td>1052.476849</td>\n",
       "      <td>F</td>\n",
       "      <td>Pratos/Refeições</td>\n",
       "      <td>Restaurante</td>\n",
       "      <td>False</td>\n",
       "      <td>bruno.amaral@frubana.com</td>\n",
       "    </tr>\n",
       "    <tr>\n",
       "      <th>6</th>\n",
       "      <td>VCP</td>\n",
       "      <td>135201529</td>\n",
       "      <td>Limpeza e Higiene</td>\n",
       "      <td>2.0</td>\n",
       "      <td>84.0</td>\n",
       "      <td>21.451613</td>\n",
       "      <td>14.0</td>\n",
       "      <td>20.974331</td>\n",
       "      <td>32</td>\n",
       "      <td>8.112763</td>\n",
       "      <td>...</td>\n",
       "      <td>0</td>\n",
       "      <td>2024-04-01</td>\n",
       "      <td>1052.476849</td>\n",
       "      <td>1083.286266</td>\n",
       "      <td>1052.476849</td>\n",
       "      <td>F</td>\n",
       "      <td>Pratos/Refeições</td>\n",
       "      <td>Restaurante</td>\n",
       "      <td>False</td>\n",
       "      <td>bruno.amaral@frubana.com</td>\n",
       "    </tr>\n",
       "    <tr>\n",
       "      <th>7</th>\n",
       "      <td>VCP</td>\n",
       "      <td>135201529</td>\n",
       "      <td>Mercearia</td>\n",
       "      <td>1.0</td>\n",
       "      <td>44.0</td>\n",
       "      <td>7.094737</td>\n",
       "      <td>4.0</td>\n",
       "      <td>8.534129</td>\n",
       "      <td>96</td>\n",
       "      <td>27.746009</td>\n",
       "      <td>...</td>\n",
       "      <td>0</td>\n",
       "      <td>2024-04-01</td>\n",
       "      <td>1052.476849</td>\n",
       "      <td>1083.286266</td>\n",
       "      <td>1052.476849</td>\n",
       "      <td>F</td>\n",
       "      <td>Pratos/Refeições</td>\n",
       "      <td>Restaurante</td>\n",
       "      <td>False</td>\n",
       "      <td>bruno.amaral@frubana.com</td>\n",
       "    </tr>\n",
       "    <tr>\n",
       "      <th>8</th>\n",
       "      <td>VCP</td>\n",
       "      <td>149327686</td>\n",
       "      <td>Bebidas</td>\n",
       "      <td>53.0</td>\n",
       "      <td>574.0</td>\n",
       "      <td>228.000000</td>\n",
       "      <td>57.0</td>\n",
       "      <td>299.651464</td>\n",
       "      <td>4</td>\n",
       "      <td>6.252632</td>\n",
       "      <td>...</td>\n",
       "      <td>0</td>\n",
       "      <td>2024-04-09</td>\n",
       "      <td>248.427759</td>\n",
       "      <td>211.746123</td>\n",
       "      <td>248.427759</td>\n",
       "      <td>J</td>\n",
       "      <td>Pratos/Refeições</td>\n",
       "      <td>Restaurante</td>\n",
       "      <td>False</td>\n",
       "      <td>cleber.ferreira@frubana.com</td>\n",
       "    </tr>\n",
       "    <tr>\n",
       "      <th>9</th>\n",
       "      <td>VCP</td>\n",
       "      <td>149327686</td>\n",
       "      <td>Carnes, Aves e Peixes</td>\n",
       "      <td>3.0</td>\n",
       "      <td>102.0</td>\n",
       "      <td>25.956522</td>\n",
       "      <td>11.0</td>\n",
       "      <td>31.578874</td>\n",
       "      <td>24</td>\n",
       "      <td>32.256184</td>\n",
       "      <td>...</td>\n",
       "      <td>0</td>\n",
       "      <td>2024-04-09</td>\n",
       "      <td>248.427759</td>\n",
       "      <td>211.746123</td>\n",
       "      <td>248.427759</td>\n",
       "      <td>J</td>\n",
       "      <td>Pratos/Refeições</td>\n",
       "      <td>Restaurante</td>\n",
       "      <td>False</td>\n",
       "      <td>cleber.ferreira@frubana.com</td>\n",
       "    </tr>\n",
       "  </tbody>\n",
       "</table>\n",
       "<p>10 rows × 33 columns</p>\n",
       "</div>"
      ],
      "text/plain": [
       "  city  customer_id                    cat  min_diff_days  max_diff_days  \\\n",
       "0  VCP    135201529                Bebidas            1.0           70.0   \n",
       "1  VCP    135201529  Carnes, Aves e Peixes            1.0          118.0   \n",
       "2  VCP    135201529             Congelados            1.0           64.0   \n",
       "3  VCP    135201529           Descartáveis           20.0           20.0   \n",
       "4  VCP    135201529      Frutas e Verduras            1.0           23.0   \n",
       "5  VCP    135201529      Laticínios e Ovos            1.0          153.0   \n",
       "6  VCP    135201529      Limpeza e Higiene            2.0           84.0   \n",
       "7  VCP    135201529              Mercearia            1.0           44.0   \n",
       "8  VCP    149327686                Bebidas           53.0          574.0   \n",
       "9  VCP    149327686  Carnes, Aves e Peixes            3.0          102.0   \n",
       "\n",
       "   avg_diff_days  median_diff_days  stdev_diff_days  num_orders_cat  \\\n",
       "0       9.867647               6.0        12.386686              69   \n",
       "1      11.428571               7.0        21.328869              29   \n",
       "2      15.419355               7.0        16.814228              32   \n",
       "3      20.000000              20.0         0.000000               2   \n",
       "4       4.084848               3.0         3.681539             166   \n",
       "5      17.552632               8.5        26.435743              39   \n",
       "6      21.451613              14.0        20.974331              32   \n",
       "7       7.094737               4.0         8.534129              96   \n",
       "8     228.000000              57.0       299.651464               4   \n",
       "9      25.956522              11.0        31.578874              24   \n",
       "\n",
       "   aov_cat_usd  ... churned_ALL  ALL_churned_date  TOTAL_CAT_CLTV_sin_churn  \\\n",
       "0    19.286224  ...           0        2024-04-01               1052.476849   \n",
       "1    28.547223  ...           0        2024-04-01               1052.476849   \n",
       "2    27.175329  ...           0        2024-04-01               1052.476849   \n",
       "3     7.562105  ...           0        2024-04-01               1052.476849   \n",
       "4    26.283342  ...           0        2024-04-01               1052.476849   \n",
       "5    21.525225  ...           0        2024-04-01               1052.476849   \n",
       "6     8.112763  ...           0        2024-04-01               1052.476849   \n",
       "7    27.746009  ...           0        2024-04-01               1052.476849   \n",
       "8     6.252632  ...           0        2024-04-09                248.427759   \n",
       "9    32.256184  ...           0        2024-04-09                248.427759   \n",
       "\n",
       "  ALL_CLTV_sin_churn  Adjust_CLTV  tier  microsegment_name  business_type  \\\n",
       "0        1083.286266  1052.476849     F   Pratos/Refeições    Restaurante   \n",
       "1        1083.286266  1052.476849     F   Pratos/Refeições    Restaurante   \n",
       "2        1083.286266  1052.476849     F   Pratos/Refeições    Restaurante   \n",
       "3        1083.286266  1052.476849     F   Pratos/Refeições    Restaurante   \n",
       "4        1083.286266  1052.476849     F   Pratos/Refeições    Restaurante   \n",
       "5        1083.286266  1052.476849     F   Pratos/Refeições    Restaurante   \n",
       "6        1083.286266  1052.476849     F   Pratos/Refeições    Restaurante   \n",
       "7        1083.286266  1052.476849     F   Pratos/Refeições    Restaurante   \n",
       "8         211.746123   248.427759     J   Pratos/Refeições    Restaurante   \n",
       "9         211.746123   248.427759     J   Pratos/Refeições    Restaurante   \n",
       "\n",
       "   is_kam                        owner  \n",
       "0   False     bruno.amaral@frubana.com  \n",
       "1   False     bruno.amaral@frubana.com  \n",
       "2   False     bruno.amaral@frubana.com  \n",
       "3   False     bruno.amaral@frubana.com  \n",
       "4   False     bruno.amaral@frubana.com  \n",
       "5   False     bruno.amaral@frubana.com  \n",
       "6   False     bruno.amaral@frubana.com  \n",
       "7   False     bruno.amaral@frubana.com  \n",
       "8   False  cleber.ferreira@frubana.com  \n",
       "9   False  cleber.ferreira@frubana.com  \n",
       "\n",
       "[10 rows x 33 columns]"
      ]
     },
     "execution_count": 36,
     "metadata": {},
     "output_type": "execute_result"
    }
   ],
   "source": [
    "df_final.head(10)"
   ]
  },
  {
   "cell_type": "code",
   "execution_count": 37,
   "id": "cc75de82",
   "metadata": {
    "execution": {
     "iopub.execute_input": "2024-03-21T23:45:57.688033Z",
     "iopub.status.busy": "2024-03-21T23:45:57.687608Z",
     "iopub.status.idle": "2024-03-21T23:45:57.689108Z",
     "shell.execute_reply": "2024-03-21T23:45:57.689471Z"
    },
    "papermill": {
     "duration": 0.028624,
     "end_time": "2024-03-21T23:45:57.689582",
     "exception": false,
     "start_time": "2024-03-21T23:45:57.660958",
     "status": "completed"
    },
    "tags": []
   },
   "outputs": [],
   "source": [
    "#df_final.to_excel(f\"CLTV_{city}.xlsx\",index=False)"
   ]
  },
  {
   "cell_type": "markdown",
   "id": "19dbdee3",
   "metadata": {
    "papermill": {
     "duration": 0.024355,
     "end_time": "2024-03-21T23:45:57.738327",
     "exception": false,
     "start_time": "2024-03-21T23:45:57.713972",
     "status": "completed"
    },
    "tags": []
   },
   "source": [
    "# Info for SAC team"
   ]
  },
  {
   "cell_type": "code",
   "execution_count": 38,
   "id": "89275a4f",
   "metadata": {
    "execution": {
     "iopub.execute_input": "2024-03-21T23:45:57.790728Z",
     "iopub.status.busy": "2024-03-21T23:45:57.790293Z",
     "iopub.status.idle": "2024-03-21T23:45:57.802546Z",
     "shell.execute_reply": "2024-03-21T23:45:57.802105Z"
    },
    "papermill": {
     "duration": 0.040012,
     "end_time": "2024-03-21T23:45:57.802643",
     "exception": false,
     "start_time": "2024-03-21T23:45:57.762631",
     "status": "completed"
    },
    "tags": []
   },
   "outputs": [],
   "source": [
    "df_SAC = df_final[['city','customer_id','tier','Adjust_CLTV']].drop_duplicates()"
   ]
  },
  {
   "cell_type": "code",
   "execution_count": 39,
   "id": "91ed8d48",
   "metadata": {
    "execution": {
     "iopub.execute_input": "2024-03-21T23:45:57.856607Z",
     "iopub.status.busy": "2024-03-21T23:45:57.856177Z",
     "iopub.status.idle": "2024-03-21T23:45:57.858089Z",
     "shell.execute_reply": "2024-03-21T23:45:57.858426Z"
    },
    "papermill": {
     "duration": 0.030975,
     "end_time": "2024-03-21T23:45:57.858539",
     "exception": false,
     "start_time": "2024-03-21T23:45:57.827564",
     "status": "completed"
    },
    "tags": []
   },
   "outputs": [],
   "source": [
    "letter_to_number = {'A': 1, 'B': 2, 'C': 3, 'D': 4, 'E': 5, 'F': 6, 'G': 7, 'H': 8, 'I': 9, 'J': 10}\n",
    "df_SAC['tier'] = df_SAC['tier'].map(letter_to_number)"
   ]
  },
  {
   "cell_type": "code",
   "execution_count": 40,
   "id": "0dc5862f",
   "metadata": {
    "execution": {
     "iopub.execute_input": "2024-03-21T23:45:57.910382Z",
     "iopub.status.busy": "2024-03-21T23:45:57.909964Z",
     "iopub.status.idle": "2024-03-21T23:45:57.925301Z",
     "shell.execute_reply": "2024-03-21T23:45:57.924879Z"
    },
    "papermill": {
     "duration": 0.042448,
     "end_time": "2024-03-21T23:45:57.925412",
     "exception": false,
     "start_time": "2024-03-21T23:45:57.882964",
     "status": "completed"
    },
    "tags": []
   },
   "outputs": [],
   "source": [
    "df_SAC.to_csv(f\"/home/jupyter-felipe.guevara/Growth/CLTV/{city}_SAC_tiers.csv\",index=False)"
   ]
  }
 ],
 "metadata": {
  "kernelspec": {
   "display_name": "Python 3",
   "language": "python",
   "name": "python3"
  },
  "language_info": {
   "codemirror_mode": {
    "name": "ipython",
    "version": 3
   },
   "file_extension": ".py",
   "mimetype": "text/x-python",
   "name": "python",
   "nbconvert_exporter": "python",
   "pygments_lexer": "ipython3",
   "version": "3.7.9"
  },
  "papermill": {
   "default_parameters": {},
   "duration": 94.05645,
   "end_time": "2024-03-21T23:45:59.391997",
   "environment_variables": {},
   "exception": null,
   "input_path": "/home/jupyter-felipe.guevara/Growth/CLTV/CLTV_origin.ipynb",
   "output_path": "/home/jupyter-felipe.guevara/Growth/logs/CLTV_VCP.ipynb",
   "parameters": {
    "city": "VCP"
   },
   "start_time": "2024-03-21T23:44:25.335547",
   "version": "2.3.2"
  },
  "vscode": {
   "interpreter": {
    "hash": "624741679a3ae5d99cecf49b8df5d516a7a937e6e7328e129d1fa121c8592e26"
   }
  }
 },
 "nbformat": 4,
 "nbformat_minor": 5
}