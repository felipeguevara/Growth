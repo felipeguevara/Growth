{
 "cells": [
  {
   "cell_type": "code",
   "execution_count": 1,
   "id": "72f46e2f",
   "metadata": {
    "execution": {
     "iopub.execute_input": "2024-07-06T11:00:03.003364Z",
     "iopub.status.busy": "2024-07-06T11:00:03.002488Z",
     "iopub.status.idle": "2024-07-06T11:00:04.551213Z",
     "shell.execute_reply": "2024-07-06T11:00:04.550693Z"
    },
    "papermill": {
     "duration": 1.60208,
     "end_time": "2024-07-06T11:00:04.551335",
     "exception": false,
     "start_time": "2024-07-06T11:00:02.949255",
     "status": "completed"
    },
    "tags": []
   },
   "outputs": [],
   "source": [
    "#//----------------------------\n",
    "#//LIBRARIES\n",
    "    #Math\n",
    "import math\n",
    "    #Numeric Python\n",
    "import numpy as np\n",
    "    #Pandas (dataframes)\n",
    "import pandas as pd\n",
    "    #datetime for fate manipulation\n",
    "from datetime import date, datetime, timedelta  \n",
    "    #Regex for advanced string matching\n",
    "import re\n",
    "    #for time related stuff\n",
    "import time\n",
    "    #json library\n",
    "import json\n",
    "    #Analyst tools\n",
    "import sys\n",
    "import os\n",
    "sys.path.append(os.path.expanduser('~'))\n",
    "from analysts_tools.growth import *\n",
    "    #Procurement tools\n",
    "from procurement_lib import send_slack_notification\n",
    "from procurement_lib import redash\n",
    "from analysts_tools.redash_methods import *\n",
    "from analystcommunity.read_connection_data_warehouse import run_read_dwd_query\n",
    "\n",
    "import random\n",
    "import time\n",
    "import datetime\n",
    "\n",
    "import seaborn as sns\n",
    "import matplotlib.pyplot as plt\n",
    "\n",
    "\n",
    "from sklearn.model_selection import train_test_split\n",
    "from scipy.signal import savgol_filter"
   ]
  },
  {
   "cell_type": "markdown",
   "id": "22d363dd",
   "metadata": {
    "papermill": {
     "duration": 0.018667,
     "end_time": "2024-07-06T11:00:04.589348",
     "exception": false,
     "start_time": "2024-07-06T11:00:04.570681",
     "status": "completed"
    },
    "tags": []
   },
   "source": [
    "# Cargue de Queries y parametros"
   ]
  },
  {
   "cell_type": "code",
   "execution_count": 2,
   "id": "51a50fc2",
   "metadata": {
    "execution": {
     "iopub.execute_input": "2024-07-06T11:00:04.629825Z",
     "iopub.status.busy": "2024-07-06T11:00:04.629407Z",
     "iopub.status.idle": "2024-07-06T11:00:04.631449Z",
     "shell.execute_reply": "2024-07-06T11:00:04.631042Z"
    },
    "papermill": {
     "duration": 0.023506,
     "end_time": "2024-07-06T11:00:04.631544",
     "exception": false,
     "start_time": "2024-07-06T11:00:04.608038",
     "status": "completed"
    },
    "tags": [
     "parameters"
    ]
   },
   "outputs": [],
   "source": [
    "city = 'SPO'"
   ]
  },
  {
   "cell_type": "code",
   "execution_count": 3,
   "id": "60ff5d83",
   "metadata": {
    "execution": {
     "iopub.execute_input": "2024-07-06T11:00:04.671394Z",
     "iopub.status.busy": "2024-07-06T11:00:04.670975Z",
     "iopub.status.idle": "2024-07-06T11:00:04.672646Z",
     "shell.execute_reply": "2024-07-06T11:00:04.673014Z"
    },
    "papermill": {
     "duration": 0.023053,
     "end_time": "2024-07-06T11:00:04.673130",
     "exception": false,
     "start_time": "2024-07-06T11:00:04.650077",
     "status": "completed"
    },
    "tags": [
     "injected-parameters"
    ]
   },
   "outputs": [],
   "source": [
    "# Parameters\n",
    "city = \"CWB\"\n"
   ]
  },
  {
   "cell_type": "code",
   "execution_count": 4,
   "id": "bbd446ea",
   "metadata": {
    "execution": {
     "iopub.execute_input": "2024-07-06T11:00:04.713755Z",
     "iopub.status.busy": "2024-07-06T11:00:04.713338Z",
     "iopub.status.idle": "2024-07-06T11:00:04.715381Z",
     "shell.execute_reply": "2024-07-06T11:00:04.714984Z"
    },
    "papermill": {
     "duration": 0.023651,
     "end_time": "2024-07-06T11:00:04.715475",
     "exception": false,
     "start_time": "2024-07-06T11:00:04.691824",
     "status": "completed"
    },
    "tags": []
   },
   "outputs": [],
   "source": [
    "customer_date_desde = (datetime.datetime.today() - datetime.timedelta(days=200))#.strftime('%Y-%m-%d') #1 months"
   ]
  },
  {
   "cell_type": "code",
   "execution_count": 5,
   "id": "a62f5676",
   "metadata": {
    "execution": {
     "iopub.execute_input": "2024-07-06T11:00:04.759200Z",
     "iopub.status.busy": "2024-07-06T11:00:04.758464Z",
     "iopub.status.idle": "2024-07-06T11:00:04.761749Z",
     "shell.execute_reply": "2024-07-06T11:00:04.761376Z"
    },
    "papermill": {
     "duration": 0.026565,
     "end_time": "2024-07-06T11:00:04.761848",
     "exception": false,
     "start_time": "2024-07-06T11:00:04.735283",
     "status": "completed"
    },
    "tags": []
   },
   "outputs": [
    {
     "name": "stdout",
     "output_type": "stream",
     "text": [
      "/home/jupyter-felipe.guevara\n"
     ]
    }
   ],
   "source": [
    "print(os.getcwd())"
   ]
  },
  {
   "cell_type": "code",
   "execution_count": 6,
   "id": "7e148697",
   "metadata": {
    "execution": {
     "iopub.execute_input": "2024-07-06T11:00:04.805048Z",
     "iopub.status.busy": "2024-07-06T11:00:04.804579Z",
     "iopub.status.idle": "2024-07-06T11:00:04.811447Z",
     "shell.execute_reply": "2024-07-06T11:00:04.811792Z"
    },
    "papermill": {
     "duration": 0.030608,
     "end_time": "2024-07-06T11:00:04.811909",
     "exception": false,
     "start_time": "2024-07-06T11:00:04.781301",
     "status": "completed"
    },
    "tags": []
   },
   "outputs": [],
   "source": [
    "margenes = pd.read_csv(\"/home/jupyter-felipe.guevara/Growth/CLTV/Margenes_neto.csv\")\n",
    "retention = pd.read_csv(\"/home/jupyter-felipe.guevara/Growth/CLTV/retention_year.csv\")"
   ]
  },
  {
   "cell_type": "code",
   "execution_count": 7,
   "id": "13f668ef",
   "metadata": {
    "execution": {
     "iopub.execute_input": "2024-07-06T11:00:04.858269Z",
     "iopub.status.busy": "2024-07-06T11:00:04.856303Z",
     "iopub.status.idle": "2024-07-06T11:00:04.962380Z",
     "shell.execute_reply": "2024-07-06T11:00:04.962765Z"
    },
    "papermill": {
     "duration": 0.131831,
     "end_time": "2024-07-06T11:00:04.962900",
     "exception": false,
     "start_time": "2024-07-06T11:00:04.831069",
     "status": "completed"
    },
    "tags": []
   },
   "outputs": [],
   "source": [
    "retention_aux =  retention.copy()\n",
    "\n",
    "for i,ret in enumerate(retention_aux.values):\n",
    "    retention_aux.iloc[i,2:] = [(1-(j-ret[-1])/100) if j-ret[-1] >= 0 else 1 for j in ret[2:]]"
   ]
  },
  {
   "cell_type": "code",
   "execution_count": 8,
   "id": "e9d22661",
   "metadata": {
    "execution": {
     "iopub.execute_input": "2024-07-06T11:00:05.004483Z",
     "iopub.status.busy": "2024-07-06T11:00:05.004057Z",
     "iopub.status.idle": "2024-07-06T11:00:45.917190Z",
     "shell.execute_reply": "2024-07-06T11:00:45.916688Z"
    },
    "papermill": {
     "duration": 40.935158,
     "end_time": "2024-07-06T11:00:45.917296",
     "exception": false,
     "start_time": "2024-07-06T11:00:04.982138",
     "status": "completed"
    },
    "tags": []
   },
   "outputs": [
    {
     "name": "stdout",
     "output_type": "stream",
     "text": [
      "200\n"
     ]
    }
   ],
   "source": [
    "clear_buyers = get_fresh_query_result(\"https://internal-redash.federate.frubana.com/\",138674,'SeoGHWmDUaaBi7VXje1s9zYNiMD1VHQ1K1DYOxiF',{},20)"
   ]
  },
  {
   "cell_type": "code",
   "execution_count": 9,
   "id": "55cd8f3f",
   "metadata": {
    "execution": {
     "iopub.execute_input": "2024-07-06T11:00:45.961639Z",
     "iopub.status.busy": "2024-07-06T11:00:45.961071Z",
     "iopub.status.idle": "2024-07-06T11:01:26.141301Z",
     "shell.execute_reply": "2024-07-06T11:01:26.141662Z"
    },
    "papermill": {
     "duration": 40.204699,
     "end_time": "2024-07-06T11:01:26.141793",
     "exception": false,
     "start_time": "2024-07-06T11:00:45.937094",
     "status": "completed"
    },
    "tags": []
   },
   "outputs": [
    {
     "name": "stdout",
     "output_type": "stream",
     "text": [
      "200\n"
     ]
    }
   ],
   "source": [
    "buyers_11 = get_fresh_query_result(\"https://internal-redash.federate.frubana.com/\",212712,'SeoGHWmDUaaBi7VXje1s9zYNiMD1VHQ1K1DYOxiF',{},20)"
   ]
  },
  {
   "cell_type": "code",
   "execution_count": 10,
   "id": "3d744fcc",
   "metadata": {
    "execution": {
     "iopub.execute_input": "2024-07-06T11:01:26.193898Z",
     "iopub.status.busy": "2024-07-06T11:01:26.192711Z",
     "iopub.status.idle": "2024-07-06T11:01:26.408150Z",
     "shell.execute_reply": "2024-07-06T11:01:26.407670Z"
    },
    "papermill": {
     "duration": 0.246492,
     "end_time": "2024-07-06T11:01:26.408255",
     "exception": false,
     "start_time": "2024-07-06T11:01:26.161763",
     "status": "completed"
    },
    "tags": []
   },
   "outputs": [],
   "source": [
    "query = \"\"\"\n",
    "SELECT DISTINCT\n",
    "\n",
    "c.assignee_ref_id AS \"Owner\",\n",
    "cm.member_ref_id AS \"customer_id\",\n",
    "--cm.status AS \"Estado de la asignacion\",\n",
    "--c.type as \"Tipo de asociacion\",\n",
    "--c.flow_type AS \"Tipo de carga\",\n",
    "z.value AS \"Ciudad\"\n",
    "--p.since AS \"Semana\"\n",
    "\n",
    "FROM postgres_growth_offline.\"growth_clustering.clusters\"               c\n",
    "INNER JOIN postgres_growth_offline.\"growth_clustering.cluster_members\"  cm  ON cm.cluster_id = c.id\n",
    "INNER JOIN postgres_growth_offline.\"growth_clustering.periods\"          p   ON p.id = c.period_id\n",
    "INNER JOIN postgres_growth_offline.\"growth_clustering.zones\"            z   ON z.id = c.zone_id\n",
    "\n",
    "where p.since = DATE_TRUNC('week', date(getdate()) - interval '0 week')\n",
    "and z.value in ('BOG','BAQ','MDE','CMX','SPO','BHZ','CWB','VCP')\n",
    "and c.type = 'FARMER_OFFLINE'\n",
    "and c.status = 'ACTIVE'\n",
    "and c.enabled = 'true'\n",
    "\"\"\"\n",
    "data_farming = read_connection_data_warehouse.runQuery(query)\n",
    "data_farming[[\"customer_id\"]] = data_farming[[\"customer_id\"]].astype(int)"
   ]
  },
  {
   "cell_type": "code",
   "execution_count": 11,
   "id": "1b572160",
   "metadata": {
    "execution": {
     "iopub.execute_input": "2024-07-06T11:01:26.453345Z",
     "iopub.status.busy": "2024-07-06T11:01:26.452902Z",
     "iopub.status.idle": "2024-07-06T11:01:26.454749Z",
     "shell.execute_reply": "2024-07-06T11:01:26.454368Z"
    },
    "papermill": {
     "duration": 0.026342,
     "end_time": "2024-07-06T11:01:26.454848",
     "exception": false,
     "start_time": "2024-07-06T11:01:26.428506",
     "status": "completed"
    },
    "tags": []
   },
   "outputs": [],
   "source": [
    "# Define a function to run the query\n",
    "def run_query_with_retry(query):\n",
    "    max_retries = 5\n",
    "    retries = 0\n",
    "    while retries < max_retries:\n",
    "        try:\n",
    "            # Attempt to execute the query\n",
    "            data_ventas_aux = run_read_dwd_query(query)\n",
    "            data_ventas_aux[[\"gmv_usd\", \"cant\"]] = data_ventas_aux[[\"gmv_usd\", \"cant\"]].astype(float)\n",
    "            data_ventas_aux['submit_date'] = pd.to_datetime(data_ventas_aux['submit_date'])\n",
    "            return data_ventas_aux  # If successful, return the result\n",
    "        except Exception as e:\n",
    "            retries += 1\n",
    "            print(f\"An error occurred: {str(e)}\")\n",
    "            print(f\"Retrying... ({retries}/{max_retries})\")\n",
    "    # If max retries reached without success, raise an error\n",
    "    raise RuntimeError(\"Failed to execute the query after multiple retries\")"
   ]
  },
  {
   "cell_type": "code",
   "execution_count": 12,
   "id": "883c26ec",
   "metadata": {
    "execution": {
     "iopub.execute_input": "2024-07-06T11:01:26.504886Z",
     "iopub.status.busy": "2024-07-06T11:01:26.504403Z",
     "iopub.status.idle": "2024-07-06T11:01:35.746129Z",
     "shell.execute_reply": "2024-07-06T11:01:35.745717Z"
    },
    "papermill": {
     "duration": 9.271263,
     "end_time": "2024-07-06T11:01:35.746236",
     "exception": false,
     "start_time": "2024-07-06T11:01:26.474973",
     "status": "completed"
    },
    "tags": []
   },
   "outputs": [],
   "source": [
    "query = \"\"\"\n",
    "SELECT \n",
    "    s.identifier_value AS city,\n",
    "    dc.source_id AS customer_id,\n",
    "    DATE(fs.order_submitted_date) AS submit_date,\n",
    "    fs.order_id,\n",
    "    dp.card_id AS padre_sku_id,\n",
    "    cat.parent_description AS cat,\n",
    "    CASE\n",
    "        WHEN s.identifier_value = 'CMX' THEN fs.gmv_pxq_local/19.65\n",
    "        WHEN s.identifier_value IN ('SPO','BHZ','CWB','VCP') THEN fs.gmv_pxq_local/4.75\n",
    "        WHEN s.identifier_value IN ('BOG','BAQ','MDE') THEN fs.gmv_pxq_local/3776\n",
    "    ELSE fs.gmv_pxq_local \n",
    "    END AS gmv_usd,\n",
    "    fs.product_quantity_x_step_unit AS cant\n",
    "\n",
    "FROM dpr_sales.fact_sales                   fs\n",
    "INNER JOIN dpr_shared.dim_customer          dc  ON dc.customer_id = fs.dim_customer\n",
    "INNER JOIN dpr_shared.dim_site              s   ON s.site_id = fs.dim_site\n",
    "INNER JOIN dpr_shared.dim_product           dp  ON dp.product_id = fs.dim_product\n",
    "INNER JOIN dpr_shared.dim_category          cat ON cat.category_id = dp.category_id\n",
    "\n",
    "WHERE \n",
    "    fs.gmv_enabled = TRUE\n",
    "    AND fulfillment_order_status NOT IN ('CANCELLED', 'ARCHIVED','No value')\n",
    "    AND fs.fb_order_status_id  IN (1,6,7,8)\n",
    "    AND fs.is_deleted = FALSE\n",
    "    AND fs.dim_status = 1\n",
    "    AND dp.is_slot = 'false'\n",
    "    AND DATE(fs.order_submitted_date) > current_date - 730\n",
    "    AND s.identifier_value = '{city}'\n",
    "    AND dc.source_id IN {clientes}\n",
    "\"\"\".format(clientes=tuple(set(clear_buyers[clear_buyers.registered_city == city].customer_id.unique())), city = city)\n",
    "\n",
    "# Call the function with your query\n",
    "data_ventas_aux = run_query_with_retry(query)"
   ]
  },
  {
   "cell_type": "code",
   "execution_count": 13,
   "id": "71810104",
   "metadata": {
    "execution": {
     "iopub.execute_input": "2024-07-06T11:01:35.791455Z",
     "iopub.status.busy": "2024-07-06T11:01:35.791035Z",
     "iopub.status.idle": "2024-07-06T11:01:36.563198Z",
     "shell.execute_reply": "2024-07-06T11:01:36.562786Z"
    },
    "papermill": {
     "duration": 0.796228,
     "end_time": "2024-07-06T11:01:36.563306",
     "exception": false,
     "start_time": "2024-07-06T11:01:35.767078",
     "status": "completed"
    },
    "tags": []
   },
   "outputs": [],
   "source": [
    "data_ventas_aux['cat'] = data_ventas_aux['cat'].replace('Frutas e verduras', 'Frutas e Verduras')\n",
    "data_ventas_aux['cat'] = data_ventas_aux['cat'].replace('Laticínios e ovos', 'Laticínios e Ovos')\n",
    "data_ventas_aux['cat'] = data_ventas_aux['cat'].replace('Limpeza e higiene', 'Limpeza e Higiene')\n",
    "data_ventas_aux['cat'] = data_ventas_aux['cat'].replace('Carnes, aves e peixes', 'Carnes, Aves e Peixes')\n",
    "data_ventas_aux['cat'] = data_ventas_aux['cat'].replace('Abarrotes & despensa', 'Abarrotes')\n",
    "data_ventas_aux['cat'] = data_ventas_aux['cat'].replace('Aseo e higiene', 'Aseo e Higiene')\n",
    "data_ventas_aux['cat'] = data_ventas_aux['cat'].replace('Frutas & verduras', 'Frutas & Verduras')\n",
    "data_ventas_aux['cat'] = data_ventas_aux['cat'].replace('Carne, pollo & pescados', 'Carne, Pollo & Pescados')\n",
    "data_ventas_aux['cat'] = data_ventas_aux['cat'].replace('Lácteos & huevos', 'Lácteos & Huevos')"
   ]
  },
  {
   "cell_type": "code",
   "execution_count": 14,
   "id": "8a1727d3",
   "metadata": {
    "execution": {
     "iopub.execute_input": "2024-07-06T11:01:36.607791Z",
     "iopub.status.busy": "2024-07-06T11:01:36.607378Z",
     "iopub.status.idle": "2024-07-06T11:01:37.258378Z",
     "shell.execute_reply": "2024-07-06T11:01:37.258720Z"
    },
    "papermill": {
     "duration": 0.675216,
     "end_time": "2024-07-06T11:01:37.258868",
     "exception": false,
     "start_time": "2024-07-06T11:01:36.583652",
     "status": "completed"
    },
    "tags": []
   },
   "outputs": [],
   "source": [
    "check_df = data_ventas_aux.groupby(by=['customer_id']).agg({'submit_date':np.max}).reset_index()\n",
    "df = data_ventas_aux[data_ventas_aux.customer_id.isin(check_df[check_df.submit_date >= customer_date_desde].customer_id.unique())].groupby(by=['city', 'customer_id', 'submit_date','cat']).agg({'gmv_usd':'sum','cant':'sum'}).reset_index()"
   ]
  },
  {
   "cell_type": "markdown",
   "id": "489649b8",
   "metadata": {
    "papermill": {
     "duration": 0.020142,
     "end_time": "2024-07-06T11:01:37.299435",
     "exception": false,
     "start_time": "2024-07-06T11:01:37.279293",
     "status": "completed"
    },
    "tags": []
   },
   "source": [
    "# Generacion de df con info by cat by client"
   ]
  },
  {
   "cell_type": "code",
   "execution_count": 15,
   "id": "2ba538d3",
   "metadata": {
    "execution": {
     "iopub.execute_input": "2024-07-06T11:01:37.343095Z",
     "iopub.status.busy": "2024-07-06T11:01:37.342672Z",
     "iopub.status.idle": "2024-07-06T11:01:38.800370Z",
     "shell.execute_reply": "2024-07-06T11:01:38.799975Z"
    },
    "papermill": {
     "duration": 1.481121,
     "end_time": "2024-07-06T11:01:38.800476",
     "exception": false,
     "start_time": "2024-07-06T11:01:37.319355",
     "status": "completed"
    },
    "tags": []
   },
   "outputs": [],
   "source": [
    "df = df.sort_values('submit_date',ignore_index=True)\n",
    "\n",
    "#fix for id problems and taking into account only dates\n",
    "df['order_id']= df.submit_date.apply(lambda x:x.toordinal()) \n",
    "\n",
    "#Days of difference between orders for customer and for cat\n",
    "df['days_bet'] = (df.submit_date -df.groupby('customer_id').submit_date.transform('min')).dt.days"
   ]
  },
  {
   "cell_type": "code",
   "execution_count": 16,
   "id": "40368b64",
   "metadata": {
    "execution": {
     "iopub.execute_input": "2024-07-06T11:01:38.846500Z",
     "iopub.status.busy": "2024-07-06T11:01:38.846054Z",
     "iopub.status.idle": "2024-07-06T11:01:45.333124Z",
     "shell.execute_reply": "2024-07-06T11:01:45.333492Z"
    },
    "papermill": {
     "duration": 6.512323,
     "end_time": "2024-07-06T11:01:45.333626",
     "exception": false,
     "start_time": "2024-07-06T11:01:38.821303",
     "status": "completed"
    },
    "tags": []
   },
   "outputs": [],
   "source": [
    "#This calculate in res the difference between consecutive orders and with the agg we calculate all metrics\n",
    "df['res'] = df.groupby(by=['customer_id', 'cat'])['days_bet'].diff()\n",
    "df_grouped = df.groupby(by=['city', 'customer_id', 'cat']).agg({'res': [np.min, np.max, np.mean, np.median, np.std],\n",
    "                                                                    'order_id': [lambda x: x.nunique()], \n",
    "                                                                    'gmv_usd': [np.mean],\n",
    "                                                                    'cant': [np.mean],\n",
    "                                                                    'submit_date': [np.max, lambda x: (x.max()-x.min()).days, lambda x: (datetime.datetime.today() - x.max()).days, np.min]\n",
    "                                                                    }).reset_index()"
   ]
  },
  {
   "cell_type": "code",
   "execution_count": 17,
   "id": "668d16d3",
   "metadata": {
    "execution": {
     "iopub.execute_input": "2024-07-06T11:01:45.377658Z",
     "iopub.status.busy": "2024-07-06T11:01:45.377250Z",
     "iopub.status.idle": "2024-07-06T11:01:45.380274Z",
     "shell.execute_reply": "2024-07-06T11:01:45.379926Z"
    },
    "papermill": {
     "duration": 0.026062,
     "end_time": "2024-07-06T11:01:45.380364",
     "exception": false,
     "start_time": "2024-07-06T11:01:45.354302",
     "status": "completed"
    },
    "tags": []
   },
   "outputs": [],
   "source": [
    "#Finally we define everything in a df2 for further processing\n",
    "df2 = df_grouped.copy()\n",
    "\n",
    "df2.columns = ['city', 'customer_id', 'cat', 'min_diff_days', 'max_diff_days', 'avg_diff_days', 'median_diff_days', 'stdev_diff_days',\n",
    "               'num_orders', 'aov_cat_usd', 'avg_cant_cat', 'last_order_date', 'diff_from_last_to_first_order', 'days_since_last_order','first_order_date']"
   ]
  },
  {
   "cell_type": "code",
   "execution_count": 18,
   "id": "1e1af4f1",
   "metadata": {
    "execution": {
     "iopub.execute_input": "2024-07-06T11:01:45.423662Z",
     "iopub.status.busy": "2024-07-06T11:01:45.423256Z",
     "iopub.status.idle": "2024-07-06T11:01:45.424767Z",
     "shell.execute_reply": "2024-07-06T11:01:45.425115Z"
    },
    "papermill": {
     "duration": 0.024689,
     "end_time": "2024-07-06T11:01:45.425218",
     "exception": false,
     "start_time": "2024-07-06T11:01:45.400529",
     "status": "completed"
    },
    "tags": []
   },
   "outputs": [],
   "source": [
    "def diff_month(d1, d2):\n",
    "    return (d1.year - d2.year) * 12 + d1.month - d2.month"
   ]
  },
  {
   "cell_type": "code",
   "execution_count": 19,
   "id": "002e0ba1",
   "metadata": {
    "execution": {
     "iopub.execute_input": "2024-07-06T11:01:45.474204Z",
     "iopub.status.busy": "2024-07-06T11:01:45.472299Z",
     "iopub.status.idle": "2024-07-06T11:01:45.475689Z",
     "shell.execute_reply": "2024-07-06T11:01:45.476012Z"
    },
    "papermill": {
     "duration": 0.030664,
     "end_time": "2024-07-06T11:01:45.476114",
     "exception": false,
     "start_time": "2024-07-06T11:01:45.445450",
     "status": "completed"
    },
    "tags": []
   },
   "outputs": [],
   "source": [
    "def cat_metrics_2(cat):\n",
    "    df_cat = df2[df2.cat == cat].copy()\n",
    "    \n",
    "    df_cat['adjust_std'] = pd.qcut(df_cat.stdev_diff_days, 10, labels=[1,0.9,0.8,0.7,0.6,0.5,0.4,0.3,0.2,0.1])\n",
    "    df_cat[[\"adjust_std\"]] = df_cat[[\"adjust_std\"]].astype(float)\n",
    "    \n",
    "    df_cat['adjust_cohort'] = [1 if ((x[13]) - (x[5]+x[7]) <= 0) else  \n",
    "                 1/(((x[13]) - x[5])/x[7]) if x[7] != 0 else\n",
    "                 1/(((x[13]) - x[5])/np.round(1+(x[5]*0.7)))\n",
    "                 for x in df_cat.values]\n",
    "    \n",
    "    df_cat[\"margen\"] = [margenes[(margenes.category == x[2]) & (margenes.region_code == x[0])][\"net_margin\"].unique()[0]/100 for x in df_cat.values]\n",
    "    #mirar aca\n",
    "    df_cat['adjust_retention'] = [1 if diff_month(x[11],x[14])+1 >= 10 else \n",
    "                                  retention_aux[(retention_aux.category == x[2]) & (retention_aux.region_code == x[0])][str(diff_month(x[11],x[14])+1)].unique()[0] for x in df_cat.values]\n",
    "    \n",
    "    df_cat['median_diff_days_adjusted'] = 365/df_cat.median_diff_days\n",
    "    \n",
    "    df_cat[\"churned\"] = [0 if ((x[13]) - (x[5]+x[7]*2) <= 0) else 1 for x in df_cat.values]\n",
    "    \n",
    "    df_cat[['avg_diff_days','stdev_diff_days']] = df_cat[['avg_diff_days','stdev_diff_days']].fillna(0)\n",
    "\n",
    "    df_cat['churned_date'] = [(x[11] + datetime.timedelta(days=int(x[5]+x[7]*2))).strftime('%Y-%m-%d') for x in df_cat.values] #1 months\n",
    "    \n",
    "    df_cat[\"CLTV\"] = df_cat.median_diff_days_adjusted * df_cat.margen * df_cat.aov_cat_usd * df_cat.adjust_retention * df_cat.adjust_std * df_cat.adjust_cohort\n",
    "    df_cat[\"CLTV_sin_margen\"] = df_cat.median_diff_days_adjusted * df_cat.aov_cat_usd * df_cat.adjust_retention * df_cat.adjust_std * df_cat.adjust_cohort\n",
    "    df_cat[\"CLTV_sin_churn\"] = df_cat.median_diff_days_adjusted * df_cat.margen * df_cat.aov_cat_usd * df_cat.adjust_retention * df_cat.adjust_std\n",
    "    \n",
    "    df_cat['cash_margin'] = df_cat.aov_cat_usd * df_cat.margen\n",
    "\n",
    "    return df_cat"
   ]
  },
  {
   "cell_type": "code",
   "execution_count": 20,
   "id": "3169e928",
   "metadata": {
    "execution": {
     "iopub.execute_input": "2024-07-06T11:01:45.520535Z",
     "iopub.status.busy": "2024-07-06T11:01:45.520126Z",
     "iopub.status.idle": "2024-07-06T11:02:01.187925Z",
     "shell.execute_reply": "2024-07-06T11:02:01.188265Z"
    },
    "papermill": {
     "duration": 15.691932,
     "end_time": "2024-07-06T11:02:01.188396",
     "exception": false,
     "start_time": "2024-07-06T11:01:45.496464",
     "status": "completed"
    },
    "tags": []
   },
   "outputs": [
    {
     "name": "stdout",
     "output_type": "stream",
     "text": [
      "Bebidas\n"
     ]
    },
    {
     "name": "stdout",
     "output_type": "stream",
     "text": [
      "Done Bebidas\n",
      "Carnes, Aves e Peixes\n"
     ]
    },
    {
     "name": "stdout",
     "output_type": "stream",
     "text": [
      "Done Carnes, Aves e Peixes\n",
      "Congelados\n"
     ]
    },
    {
     "name": "stdout",
     "output_type": "stream",
     "text": [
      "Done Congelados\n",
      "Frutas e Verduras\n"
     ]
    },
    {
     "name": "stdout",
     "output_type": "stream",
     "text": [
      "Done Frutas e Verduras\n",
      "Laticínios e Ovos\n"
     ]
    },
    {
     "name": "stdout",
     "output_type": "stream",
     "text": [
      "Done Laticínios e Ovos\n",
      "Limpeza e Higiene\n"
     ]
    },
    {
     "name": "stdout",
     "output_type": "stream",
     "text": [
      "Done Limpeza e Higiene\n",
      "Mercearia\n"
     ]
    },
    {
     "name": "stdout",
     "output_type": "stream",
     "text": [
      "Done Mercearia\n",
      "Descartáveis\n"
     ]
    },
    {
     "name": "stdout",
     "output_type": "stream",
     "text": [
      "Done Descartáveis\n"
     ]
    }
   ],
   "source": [
    "df3 = pd.DataFrame()\n",
    "\n",
    "for cat in df2.cat.unique():\n",
    "   print(cat)\n",
    "   if cat not in ('Frubana prime','¡productos nuevos!','No value','Mesa & cocina','Insumos internos cat','Despensa'):\n",
    "      df3 = df3.append(cat_metrics_2(cat))\n",
    "   print(f'Done {cat}')"
   ]
  },
  {
   "cell_type": "code",
   "execution_count": 21,
   "id": "d3f7fbf6",
   "metadata": {
    "execution": {
     "iopub.execute_input": "2024-07-06T11:02:01.238832Z",
     "iopub.status.busy": "2024-07-06T11:02:01.237957Z",
     "iopub.status.idle": "2024-07-06T11:02:01.258053Z",
     "shell.execute_reply": "2024-07-06T11:02:01.257684Z"
    },
    "papermill": {
     "duration": 0.046607,
     "end_time": "2024-07-06T11:02:01.258155",
     "exception": false,
     "start_time": "2024-07-06T11:02:01.211548",
     "status": "completed"
    },
    "tags": []
   },
   "outputs": [
    {
     "data": {
      "text/html": [
       "<div>\n",
       "<style scoped>\n",
       "    .dataframe tbody tr th:only-of-type {\n",
       "        vertical-align: middle;\n",
       "    }\n",
       "\n",
       "    .dataframe tbody tr th {\n",
       "        vertical-align: top;\n",
       "    }\n",
       "\n",
       "    .dataframe thead th {\n",
       "        text-align: right;\n",
       "    }\n",
       "</style>\n",
       "<table border=\"1\" class=\"dataframe\">\n",
       "  <thead>\n",
       "    <tr style=\"text-align: right;\">\n",
       "      <th></th>\n",
       "      <th>city</th>\n",
       "      <th>customer_id</th>\n",
       "      <th>cat</th>\n",
       "      <th>min_diff_days</th>\n",
       "      <th>max_diff_days</th>\n",
       "      <th>avg_diff_days</th>\n",
       "      <th>median_diff_days</th>\n",
       "      <th>stdev_diff_days</th>\n",
       "      <th>num_orders</th>\n",
       "      <th>aov_cat_usd</th>\n",
       "      <th>...</th>\n",
       "      <th>adjust_cohort</th>\n",
       "      <th>margen</th>\n",
       "      <th>adjust_retention</th>\n",
       "      <th>median_diff_days_adjusted</th>\n",
       "      <th>churned</th>\n",
       "      <th>churned_date</th>\n",
       "      <th>CLTV</th>\n",
       "      <th>CLTV_sin_margen</th>\n",
       "      <th>CLTV_sin_churn</th>\n",
       "      <th>cash_margin</th>\n",
       "    </tr>\n",
       "  </thead>\n",
       "  <tbody>\n",
       "    <tr>\n",
       "      <th>0</th>\n",
       "      <td>CWB</td>\n",
       "      <td>109267474</td>\n",
       "      <td>Bebidas</td>\n",
       "      <td>16.0</td>\n",
       "      <td>369.0</td>\n",
       "      <td>91.166667</td>\n",
       "      <td>38.0</td>\n",
       "      <td>136.926866</td>\n",
       "      <td>7</td>\n",
       "      <td>14.851128</td>\n",
       "      <td>...</td>\n",
       "      <td>1.000000</td>\n",
       "      <td>0.148</td>\n",
       "      <td>1.000</td>\n",
       "      <td>9.605263</td>\n",
       "      <td>0</td>\n",
       "      <td>2025-01-06</td>\n",
       "      <td>2.111205</td>\n",
       "      <td>14.264899</td>\n",
       "      <td>2.111205</td>\n",
       "      <td>2.197967</td>\n",
       "    </tr>\n",
       "    <tr>\n",
       "      <th>7</th>\n",
       "      <td>CWB</td>\n",
       "      <td>109816902</td>\n",
       "      <td>Bebidas</td>\n",
       "      <td>NaN</td>\n",
       "      <td>NaN</td>\n",
       "      <td>0.000000</td>\n",
       "      <td>NaN</td>\n",
       "      <td>0.000000</td>\n",
       "      <td>1</td>\n",
       "      <td>21.675789</td>\n",
       "      <td>...</td>\n",
       "      <td>NaN</td>\n",
       "      <td>0.148</td>\n",
       "      <td>0.735</td>\n",
       "      <td>NaN</td>\n",
       "      <td>1</td>\n",
       "      <td>2023-06-14</td>\n",
       "      <td>NaN</td>\n",
       "      <td>NaN</td>\n",
       "      <td>NaN</td>\n",
       "      <td>3.208017</td>\n",
       "    </tr>\n",
       "    <tr>\n",
       "      <th>13</th>\n",
       "      <td>CWB</td>\n",
       "      <td>109817681</td>\n",
       "      <td>Bebidas</td>\n",
       "      <td>5.0</td>\n",
       "      <td>315.0</td>\n",
       "      <td>38.647059</td>\n",
       "      <td>17.0</td>\n",
       "      <td>73.555201</td>\n",
       "      <td>18</td>\n",
       "      <td>13.513684</td>\n",
       "      <td>...</td>\n",
       "      <td>1.000000</td>\n",
       "      <td>0.148</td>\n",
       "      <td>1.000</td>\n",
       "      <td>21.470588</td>\n",
       "      <td>0</td>\n",
       "      <td>2025-01-02</td>\n",
       "      <td>8.588344</td>\n",
       "      <td>58.029349</td>\n",
       "      <td>8.588344</td>\n",
       "      <td>2.000025</td>\n",
       "    </tr>\n",
       "    <tr>\n",
       "      <th>26</th>\n",
       "      <td>CWB</td>\n",
       "      <td>109823370</td>\n",
       "      <td>Bebidas</td>\n",
       "      <td>1.0</td>\n",
       "      <td>28.0</td>\n",
       "      <td>2.147619</td>\n",
       "      <td>1.0</td>\n",
       "      <td>2.432263</td>\n",
       "      <td>211</td>\n",
       "      <td>31.169229</td>\n",
       "      <td>...</td>\n",
       "      <td>0.020294</td>\n",
       "      <td>0.148</td>\n",
       "      <td>1.000</td>\n",
       "      <td>365.000000</td>\n",
       "      <td>1</td>\n",
       "      <td>2024-03-13</td>\n",
       "      <td>34.169963</td>\n",
       "      <td>230.878130</td>\n",
       "      <td>1683.761758</td>\n",
       "      <td>4.613046</td>\n",
       "    </tr>\n",
       "    <tr>\n",
       "      <th>34</th>\n",
       "      <td>CWB</td>\n",
       "      <td>110354798</td>\n",
       "      <td>Bebidas</td>\n",
       "      <td>3.0</td>\n",
       "      <td>64.0</td>\n",
       "      <td>13.934783</td>\n",
       "      <td>10.5</td>\n",
       "      <td>11.693117</td>\n",
       "      <td>47</td>\n",
       "      <td>101.378634</td>\n",
       "      <td>...</td>\n",
       "      <td>0.174354</td>\n",
       "      <td>0.148</td>\n",
       "      <td>1.000</td>\n",
       "      <td>34.761905</td>\n",
       "      <td>1</td>\n",
       "      <td>2024-05-23</td>\n",
       "      <td>72.750279</td>\n",
       "      <td>491.555936</td>\n",
       "      <td>417.255146</td>\n",
       "      <td>15.004038</td>\n",
       "    </tr>\n",
       "  </tbody>\n",
       "</table>\n",
       "<p>5 rows × 26 columns</p>\n",
       "</div>"
      ],
      "text/plain": [
       "   city  customer_id      cat  min_diff_days  max_diff_days  avg_diff_days  \\\n",
       "0   CWB    109267474  Bebidas           16.0          369.0      91.166667   \n",
       "7   CWB    109816902  Bebidas            NaN            NaN       0.000000   \n",
       "13  CWB    109817681  Bebidas            5.0          315.0      38.647059   \n",
       "26  CWB    109823370  Bebidas            1.0           28.0       2.147619   \n",
       "34  CWB    110354798  Bebidas            3.0           64.0      13.934783   \n",
       "\n",
       "    median_diff_days  stdev_diff_days  num_orders  aov_cat_usd  ...  \\\n",
       "0               38.0       136.926866           7    14.851128  ...   \n",
       "7                NaN         0.000000           1    21.675789  ...   \n",
       "13              17.0        73.555201          18    13.513684  ...   \n",
       "26               1.0         2.432263         211    31.169229  ...   \n",
       "34              10.5        11.693117          47   101.378634  ...   \n",
       "\n",
       "    adjust_cohort margen  adjust_retention  median_diff_days_adjusted churned  \\\n",
       "0        1.000000  0.148             1.000                   9.605263       0   \n",
       "7             NaN  0.148             0.735                        NaN       1   \n",
       "13       1.000000  0.148             1.000                  21.470588       0   \n",
       "26       0.020294  0.148             1.000                 365.000000       1   \n",
       "34       0.174354  0.148             1.000                  34.761905       1   \n",
       "\n",
       "    churned_date       CLTV  CLTV_sin_margen  CLTV_sin_churn  cash_margin  \n",
       "0     2025-01-06   2.111205        14.264899        2.111205     2.197967  \n",
       "7     2023-06-14        NaN              NaN             NaN     3.208017  \n",
       "13    2025-01-02   8.588344        58.029349        8.588344     2.000025  \n",
       "26    2024-03-13  34.169963       230.878130     1683.761758     4.613046  \n",
       "34    2024-05-23  72.750279       491.555936      417.255146    15.004038  \n",
       "\n",
       "[5 rows x 26 columns]"
      ]
     },
     "execution_count": 21,
     "metadata": {},
     "output_type": "execute_result"
    }
   ],
   "source": [
    "df3.head(5)"
   ]
  },
  {
   "cell_type": "markdown",
   "id": "a9e8ee05",
   "metadata": {
    "papermill": {
     "duration": 0.022712,
     "end_time": "2024-07-06T11:02:01.303897",
     "exception": false,
     "start_time": "2024-07-06T11:02:01.281185",
     "status": "completed"
    },
    "tags": []
   },
   "source": [
    "# Aca empieza el analisis global by customer "
   ]
  },
  {
   "cell_type": "code",
   "execution_count": 22,
   "id": "6ae15840",
   "metadata": {
    "execution": {
     "iopub.execute_input": "2024-07-06T11:02:01.353816Z",
     "iopub.status.busy": "2024-07-06T11:02:01.353394Z",
     "iopub.status.idle": "2024-07-06T11:02:01.364110Z",
     "shell.execute_reply": "2024-07-06T11:02:01.363741Z"
    },
    "papermill": {
     "duration": 0.037237,
     "end_time": "2024-07-06T11:02:01.364214",
     "exception": false,
     "start_time": "2024-07-06T11:02:01.326977",
     "status": "completed"
    },
    "tags": []
   },
   "outputs": [],
   "source": [
    "#Here, i group the df3 (the df with the whole info by cat to customer lvl)\n",
    "df_new3 = df3[['city','customer_id','aov_cat_usd','cash_margin','CLTV_sin_churn','churned']].groupby(by=['city','customer_id']).sum().reset_index()"
   ]
  },
  {
   "cell_type": "code",
   "execution_count": 23,
   "id": "2dad3309",
   "metadata": {
    "execution": {
     "iopub.execute_input": "2024-07-06T11:02:01.416648Z",
     "iopub.status.busy": "2024-07-06T11:02:01.416200Z",
     "iopub.status.idle": "2024-07-06T11:02:02.701973Z",
     "shell.execute_reply": "2024-07-06T11:02:02.701565Z"
    },
    "papermill": {
     "duration": 1.314534,
     "end_time": "2024-07-06T11:02:02.702077",
     "exception": false,
     "start_time": "2024-07-06T11:02:01.387543",
     "status": "completed"
    },
    "tags": []
   },
   "outputs": [],
   "source": [
    "#The processing data for customer level is made here\n",
    "\n",
    "df_new = df.groupby(by=['city','customer_id','order_id','submit_date']).sum().reset_index()\n",
    "\n",
    "df_new['days_bet'] = (df_new.submit_date -df_new.groupby('customer_id').submit_date.transform('min')).dt.days\n",
    "\n",
    "#This calculate in res the difference between consecutive orders and with the agg we calculate all metrics\n",
    "df_new['res'] = df_new.groupby(by=['customer_id'])['days_bet'].diff()\n",
    "df_grouped_2 = df_new.groupby(by=['city', 'customer_id']).agg({'res': [np.min, np.max, np.mean, np.median, np.std],\n",
    "                                                                    'order_id': [lambda x: x.nunique()], \n",
    "                                                                    'gmv_usd': [np.mean],\n",
    "                                                                    'cant': [np.mean],\n",
    "                                                                    'submit_date': [np.max, lambda x: (x.max()-x.min()).days, lambda x: (datetime.datetime.today() - x.max()).days, np.min]\n",
    "                                                                    }).droplevel(0, axis=\"columns\").reset_index()"
   ]
  },
  {
   "cell_type": "code",
   "execution_count": 24,
   "id": "c544f33f",
   "metadata": {
    "execution": {
     "iopub.execute_input": "2024-07-06T11:02:02.751166Z",
     "iopub.status.busy": "2024-07-06T11:02:02.750743Z",
     "iopub.status.idle": "2024-07-06T11:02:02.753369Z",
     "shell.execute_reply": "2024-07-06T11:02:02.752956Z"
    },
    "papermill": {
     "duration": 0.028256,
     "end_time": "2024-07-06T11:02:02.753462",
     "exception": false,
     "start_time": "2024-07-06T11:02:02.725206",
     "status": "completed"
    },
    "tags": []
   },
   "outputs": [],
   "source": [
    "#Finally we define everything in a df_new2 at level customer for further processing\n",
    "df_new2 = df_grouped_2.copy()\n",
    "\n",
    "df_new2.columns = ['city', 'customer_id', 'min_diff_days', 'max_diff_days', 'avg_diff_days', 'median_diff_days', 'stdev_diff_days',\n",
    "               'num_orders', 'aov_ALL_usd', 'ALL_avg_cant', 'last_order_date', 'diff_from_last_to_first_order', 'days_since_last_order','first_order_date']"
   ]
  },
  {
   "cell_type": "code",
   "execution_count": 25,
   "id": "12b7adba",
   "metadata": {
    "execution": {
     "iopub.execute_input": "2024-07-06T11:02:02.817847Z",
     "iopub.status.busy": "2024-07-06T11:02:02.808803Z",
     "iopub.status.idle": "2024-07-06T11:02:03.267182Z",
     "shell.execute_reply": "2024-07-06T11:02:03.266806Z"
    },
    "papermill": {
     "duration": 0.491048,
     "end_time": "2024-07-06T11:02:03.267290",
     "exception": false,
     "start_time": "2024-07-06T11:02:02.776242",
     "status": "completed"
    },
    "tags": []
   },
   "outputs": [],
   "source": [
    "#Finally we calculate the next parameters and also integred with df_new3 where we can have the info grouped by customer about the category performance\n",
    "df_new2[\"churned_ALL\"] = [0 if ((x[12]) - (x[4]+x[6]*2) <= 0) else 1 for x in df_new2.values]\n",
    "\n",
    "df_new2['adjust_std'] = pd.qcut(df_new2.stdev_diff_days, 10, labels=[1,0.9,0.8,0.7,0.6,0.5,0.4,0.3,0.2,0.1])\n",
    "df_new2[[\"adjust_std\"]] = df_new2[[\"adjust_std\"]].astype(float)\n",
    "\n",
    "df_new2['adjust_retention'] = [1 if diff_month(x[10],x[13])+1 >= 10 else \n",
    "                                retention_aux[(retention_aux.region_code == x[0])][str(diff_month(x[10],x[13])+1)].max() for x in df_new2.values]\n",
    "\n",
    "df_new2['median_diff_days_adjusted'] = 365/df_new2.median_diff_days\n",
    "\n",
    "#this merge is to include the info for the total cash_margin, how many cats is churned and the total cat CLTV\n",
    "df_new2 = df_new2.merge(df_new3[['customer_id','cash_margin','CLTV_sin_churn','churned']], on='customer_id', how='left')"
   ]
  },
  {
   "cell_type": "code",
   "execution_count": 26,
   "id": "1b077b2e",
   "metadata": {
    "execution": {
     "iopub.execute_input": "2024-07-06T11:02:03.318656Z",
     "iopub.status.busy": "2024-07-06T11:02:03.318196Z",
     "iopub.status.idle": "2024-07-06T11:02:03.344860Z",
     "shell.execute_reply": "2024-07-06T11:02:03.344490Z"
    },
    "papermill": {
     "duration": 0.054249,
     "end_time": "2024-07-06T11:02:03.344969",
     "exception": false,
     "start_time": "2024-07-06T11:02:03.290720",
     "status": "completed"
    },
    "tags": []
   },
   "outputs": [
    {
     "name": "stdout",
     "output_type": "stream",
     "text": [
      "2470980.415470629 2467940.9538048953\n"
     ]
    }
   ],
   "source": [
    "#We calculate now the CLTV taking into account the global behavior of the customer\n",
    "df_new2[\"ALL_CLTV_sin_churn\"] = df_new2.median_diff_days_adjusted * df_new2.adjust_retention * df_new2.adjust_std * df_new2.cash_margin / 2\n",
    "df_new2[['CLTV_sin_churn','ALL_CLTV_sin_churn']] = df_new2[['CLTV_sin_churn','ALL_CLTV_sin_churn']].fillna(0)\n",
    "\n",
    "#df_new2[\"CLTV\"] = df_new2.median_diff_days_adjusted * df_new2.margen * df_new2.aov_cat_usd * df_new2.adjust_retention * df_new2.adjust_std * df_new2.adjust_cohort\n",
    "#df_new2[\"CLTV_sin_margen\"] = df_new2.median_diff_days_adjusted * df_new2.aov_cat_usd * df_new2.adjust_retention * df_new2.adjust_std * df_new2.adjust_cohort\n",
    "\n",
    "#If the Total Cat CLTV is NA because it is so few orders for each category, we create a Adjust_CLTV to include the global or ALL_CLTV_sin_churn instead of the NULL value\n",
    "df_new2['Adjust_CLTV'] = [x[21] if x[19] == 0 else x[19] for x in df_new2.values]\n",
    "\n",
    "print(df_new2.Adjust_CLTV.sum(),df_new2.CLTV_sin_churn.sum())"
   ]
  },
  {
   "cell_type": "code",
   "execution_count": 27,
   "id": "83f5dddc",
   "metadata": {
    "execution": {
     "iopub.execute_input": "2024-07-06T11:02:03.396149Z",
     "iopub.status.busy": "2024-07-06T11:02:03.395720Z",
     "iopub.status.idle": "2024-07-06T11:02:03.499028Z",
     "shell.execute_reply": "2024-07-06T11:02:03.498642Z"
    },
    "papermill": {
     "duration": 0.130716,
     "end_time": "2024-07-06T11:02:03.499132",
     "exception": false,
     "start_time": "2024-07-06T11:02:03.368416",
     "status": "completed"
    },
    "tags": []
   },
   "outputs": [],
   "source": [
    "#Finally, we calculate the ALL_churned_date based on the general behavior of the customer\n",
    "df_new2[['avg_diff_days','stdev_diff_days']] = df_new2[['avg_diff_days','stdev_diff_days']].fillna(0)\n",
    "df_new2['ALL_churned_date'] = [(x[10] + datetime.timedelta(days=int(x[4]+x[6]*2))).strftime('%Y-%m-%d') for x in df_new2.values] #1 months"
   ]
  },
  {
   "cell_type": "markdown",
   "id": "ddfc5e79",
   "metadata": {
    "papermill": {
     "duration": 0.023713,
     "end_time": "2024-07-06T11:02:03.546687",
     "exception": false,
     "start_time": "2024-07-06T11:02:03.522974",
     "status": "completed"
    },
    "tags": []
   },
   "source": [
    "# Final processing of the file to export"
   ]
  },
  {
   "cell_type": "code",
   "execution_count": 28,
   "id": "6abb6809",
   "metadata": {
    "execution": {
     "iopub.execute_input": "2024-07-06T11:02:03.603402Z",
     "iopub.status.busy": "2024-07-06T11:02:03.602966Z",
     "iopub.status.idle": "2024-07-06T11:02:03.613510Z",
     "shell.execute_reply": "2024-07-06T11:02:03.613867Z"
    },
    "papermill": {
     "duration": 0.043645,
     "end_time": "2024-07-06T11:02:03.613996",
     "exception": false,
     "start_time": "2024-07-06T11:02:03.570351",
     "status": "completed"
    },
    "tags": []
   },
   "outputs": [],
   "source": [
    "#We will merge the df_new2 with the clear_buyers in order to filter by restaurants and take away kams (also to include the microsegment)\n",
    "df_new2 = df_new2.merge(clear_buyers[clear_buyers.registered_city == city][['customer_id','business_type','microsegment_name','is_kam']], on='customer_id', how='left')\n",
    "df_new2_end = df_new2[(df_new2.is_kam == 0)].copy() #df_new2[(df_new2.business_type == 'Restaurante') & (df_new2.is_kam == 0)].copy()"
   ]
  },
  {
   "cell_type": "code",
   "execution_count": 29,
   "id": "5bfd0a61",
   "metadata": {
    "execution": {
     "iopub.execute_input": "2024-07-06T11:02:03.665205Z",
     "iopub.status.busy": "2024-07-06T11:02:03.664743Z",
     "iopub.status.idle": "2024-07-06T11:02:03.672263Z",
     "shell.execute_reply": "2024-07-06T11:02:03.671900Z"
    },
    "papermill": {
     "duration": 0.034407,
     "end_time": "2024-07-06T11:02:03.672364",
     "exception": false,
     "start_time": "2024-07-06T11:02:03.637957",
     "status": "completed"
    },
    "tags": []
   },
   "outputs": [],
   "source": [
    "#This cell is to calculate the cumulative sum to create the tiers further\n",
    "df_new2_end = df_new2_end.sort_values(['Adjust_CLTV'], ascending=[False])\n",
    "df_new2_end['cumsum'] = df_new2_end.groupby('city')['Adjust_CLTV'].cumsum()\n",
    "df_new2_end['run_pct'] = df_new2_end.groupby('city')['Adjust_CLTV'].apply(lambda x: (x/x.sum()).cumsum())"
   ]
  },
  {
   "cell_type": "code",
   "execution_count": 30,
   "id": "75d62fc7",
   "metadata": {
    "execution": {
     "iopub.execute_input": "2024-07-06T11:02:03.726211Z",
     "iopub.status.busy": "2024-07-06T11:02:03.725784Z",
     "iopub.status.idle": "2024-07-06T11:02:03.727647Z",
     "shell.execute_reply": "2024-07-06T11:02:03.727240Z"
    },
    "papermill": {
     "duration": 0.031707,
     "end_time": "2024-07-06T11:02:03.727743",
     "exception": false,
     "start_time": "2024-07-06T11:02:03.696036",
     "status": "completed"
    },
    "tags": []
   },
   "outputs": [],
   "source": [
    "#This conditional create the tiers\n",
    "df_new2_end['tier'] = ['A' if x <= 0.1 else\n",
    "                       'B' if x <= 0.2 else\n",
    "                       'C' if x <= 0.3 else\n",
    "                       'D' if x <= 0.4 else\n",
    "                       'E' if x <= 0.5 else\n",
    "                       'F' if x <= 0.6 else\n",
    "                       'G' if x <= 0.7 else\n",
    "                       'H' if x <= 0.8 else\n",
    "                       'I' if x <= 0.9 else\n",
    "                       'J' for x in df_new2_end.run_pct.values]"
   ]
  },
  {
   "cell_type": "code",
   "execution_count": 31,
   "id": "83f5f160",
   "metadata": {
    "execution": {
     "iopub.execute_input": "2024-07-06T11:02:03.780062Z",
     "iopub.status.busy": "2024-07-06T11:02:03.779648Z",
     "iopub.status.idle": "2024-07-06T11:02:03.781998Z",
     "shell.execute_reply": "2024-07-06T11:02:03.781584Z"
    },
    "papermill": {
     "duration": 0.030568,
     "end_time": "2024-07-06T11:02:03.782092",
     "exception": false,
     "start_time": "2024-07-06T11:02:03.751524",
     "status": "completed"
    },
    "tags": []
   },
   "outputs": [
    {
     "data": {
      "text/plain": [
       "J    1525\n",
       "I     427\n",
       "H     268\n",
       "G     191\n",
       "F     150\n",
       "E     117\n",
       "D      92\n",
       "C      70\n",
       "B      51\n",
       "A      28\n",
       "Name: tier, dtype: int64"
      ]
     },
     "execution_count": 31,
     "metadata": {},
     "output_type": "execute_result"
    }
   ],
   "source": [
    "df_new2_end.tier.value_counts()"
   ]
  },
  {
   "cell_type": "code",
   "execution_count": 32,
   "id": "b1ae1854",
   "metadata": {
    "execution": {
     "iopub.execute_input": "2024-07-06T11:02:03.834686Z",
     "iopub.status.busy": "2024-07-06T11:02:03.834253Z",
     "iopub.status.idle": "2024-07-06T11:02:03.836075Z",
     "shell.execute_reply": "2024-07-06T11:02:03.835728Z"
    },
    "papermill": {
     "duration": 0.029738,
     "end_time": "2024-07-06T11:02:03.836167",
     "exception": false,
     "start_time": "2024-07-06T11:02:03.806429",
     "status": "completed"
    },
    "tags": []
   },
   "outputs": [],
   "source": [
    "df_new2_end.rename(columns={'num_orders': 'ALL_num_orders', 'CLTV_sin_churn': 'TOTAL_CAT_CLTV_sin_churn'}, inplace=True)\n",
    "\n",
    "df3.rename(columns={'num_orders': 'num_orders_cat', 'churned': 'churned_cat','CLTV_sin_churn':'CAT_CLTV_sin_churn'}, inplace=True)"
   ]
  },
  {
   "cell_type": "code",
   "execution_count": 33,
   "id": "ca7eac0d",
   "metadata": {
    "execution": {
     "iopub.execute_input": "2024-07-06T11:02:03.887957Z",
     "iopub.status.busy": "2024-07-06T11:02:03.887539Z",
     "iopub.status.idle": "2024-07-06T11:02:03.889893Z",
     "shell.execute_reply": "2024-07-06T11:02:03.889479Z"
    },
    "papermill": {
     "duration": 0.029751,
     "end_time": "2024-07-06T11:02:03.889985",
     "exception": false,
     "start_time": "2024-07-06T11:02:03.860234",
     "status": "completed"
    },
    "tags": []
   },
   "outputs": [
    {
     "data": {
      "text/plain": [
       "Index(['city', 'customer_id', 'min_diff_days', 'max_diff_days',\n",
       "       'avg_diff_days', 'median_diff_days', 'stdev_diff_days',\n",
       "       'ALL_num_orders', 'aov_ALL_usd', 'ALL_avg_cant', 'last_order_date',\n",
       "       'diff_from_last_to_first_order', 'days_since_last_order',\n",
       "       'first_order_date', 'churned_ALL', 'adjust_std', 'adjust_retention',\n",
       "       'median_diff_days_adjusted', 'cash_margin', 'TOTAL_CAT_CLTV_sin_churn',\n",
       "       'churned', 'ALL_CLTV_sin_churn', 'Adjust_CLTV', 'ALL_churned_date',\n",
       "       'business_type', 'microsegment_name', 'is_kam', 'cumsum', 'run_pct',\n",
       "       'tier'],\n",
       "      dtype='object')"
      ]
     },
     "execution_count": 33,
     "metadata": {},
     "output_type": "execute_result"
    }
   ],
   "source": [
    "df_new2_end.columns"
   ]
  },
  {
   "cell_type": "code",
   "execution_count": 34,
   "id": "184d2a1a",
   "metadata": {
    "execution": {
     "iopub.execute_input": "2024-07-06T11:02:03.942984Z",
     "iopub.status.busy": "2024-07-06T11:02:03.942543Z",
     "iopub.status.idle": "2024-07-06T11:02:03.951985Z",
     "shell.execute_reply": "2024-07-06T11:02:03.951569Z"
    },
    "papermill": {
     "duration": 0.037626,
     "end_time": "2024-07-06T11:02:03.952083",
     "exception": false,
     "start_time": "2024-07-06T11:02:03.914457",
     "status": "completed"
    },
    "tags": []
   },
   "outputs": [],
   "source": [
    "#We merge with data_farming so we get the info farming for each customer\n",
    "df_new2_end = df_new2_end[['customer_id','ALL_num_orders', 'aov_ALL_usd', 'churned_ALL', 'ALL_churned_date','TOTAL_CAT_CLTV_sin_churn',\n",
    "       'ALL_CLTV_sin_churn', 'Adjust_CLTV','tier', 'microsegment_name', 'business_type', 'is_kam']].merge(data_farming[data_farming.ciudad == city][['customer_id','owner']], on='customer_id', how='left')\n",
    "df_new2_end[['owner']] = df_new2_end[['owner']].fillna('No Farming')"
   ]
  },
  {
   "cell_type": "code",
   "execution_count": 35,
   "id": "e25eed82",
   "metadata": {
    "execution": {
     "iopub.execute_input": "2024-07-06T11:02:04.005264Z",
     "iopub.status.busy": "2024-07-06T11:02:04.004806Z",
     "iopub.status.idle": "2024-07-06T11:02:04.006651Z",
     "shell.execute_reply": "2024-07-06T11:02:04.006283Z"
    },
    "papermill": {
     "duration": 0.030079,
     "end_time": "2024-07-06T11:02:04.006748",
     "exception": false,
     "start_time": "2024-07-06T11:02:03.976669",
     "status": "completed"
    },
    "tags": []
   },
   "outputs": [],
   "source": [
    "df_new2_end.rename(columns={'num_orders': 'ALL_num_orders', 'CLTV_sin_churn': 'TOTAL_CAT_CLTV_sin_churn'}, inplace=True)\n",
    "\n",
    "df3.rename(columns={'num_orders': 'num_orders_cat', 'churned': 'churned_cat','CLTV_sin_churn':'CAT_CLTV_sin_churn'}, inplace=True)"
   ]
  },
  {
   "cell_type": "code",
   "execution_count": 36,
   "id": "b42c2709",
   "metadata": {
    "execution": {
     "iopub.execute_input": "2024-07-06T11:02:04.061100Z",
     "iopub.status.busy": "2024-07-06T11:02:04.060621Z",
     "iopub.status.idle": "2024-07-06T11:02:04.075685Z",
     "shell.execute_reply": "2024-07-06T11:02:04.076002Z"
    },
    "papermill": {
     "duration": 0.04488,
     "end_time": "2024-07-06T11:02:04.076135",
     "exception": false,
     "start_time": "2024-07-06T11:02:04.031255",
     "status": "completed"
    },
    "tags": []
   },
   "outputs": [],
   "source": [
    "df_final = df3[['city', 'customer_id', 'cat', 'min_diff_days', 'max_diff_days', 'avg_diff_days', 'median_diff_days', 'stdev_diff_days', 'num_orders_cat',\n",
    "       'aov_cat_usd','last_order_date', 'diff_from_last_to_first_order', 'days_since_last_order',\n",
    "       'first_order_date', 'adjust_std', 'adjust_cohort','adjust_retention', \n",
    "       'median_diff_days_adjusted', 'churned_cat', 'churned_date','CAT_CLTV_sin_churn']].merge(df_new2_end, on='customer_id', how='inner')"
   ]
  },
  {
   "cell_type": "code",
   "execution_count": 37,
   "id": "510f20e1",
   "metadata": {
    "execution": {
     "iopub.execute_input": "2024-07-06T11:02:04.129710Z",
     "iopub.status.busy": "2024-07-06T11:02:04.128871Z",
     "iopub.status.idle": "2024-07-06T11:02:04.149032Z",
     "shell.execute_reply": "2024-07-06T11:02:04.149426Z"
    },
    "papermill": {
     "duration": 0.048524,
     "end_time": "2024-07-06T11:02:04.149557",
     "exception": false,
     "start_time": "2024-07-06T11:02:04.101033",
     "status": "completed"
    },
    "tags": []
   },
   "outputs": [
    {
     "data": {
      "text/html": [
       "<div>\n",
       "<style scoped>\n",
       "    .dataframe tbody tr th:only-of-type {\n",
       "        vertical-align: middle;\n",
       "    }\n",
       "\n",
       "    .dataframe tbody tr th {\n",
       "        vertical-align: top;\n",
       "    }\n",
       "\n",
       "    .dataframe thead th {\n",
       "        text-align: right;\n",
       "    }\n",
       "</style>\n",
       "<table border=\"1\" class=\"dataframe\">\n",
       "  <thead>\n",
       "    <tr style=\"text-align: right;\">\n",
       "      <th></th>\n",
       "      <th>city</th>\n",
       "      <th>customer_id</th>\n",
       "      <th>cat</th>\n",
       "      <th>min_diff_days</th>\n",
       "      <th>max_diff_days</th>\n",
       "      <th>avg_diff_days</th>\n",
       "      <th>median_diff_days</th>\n",
       "      <th>stdev_diff_days</th>\n",
       "      <th>num_orders_cat</th>\n",
       "      <th>aov_cat_usd</th>\n",
       "      <th>...</th>\n",
       "      <th>churned_ALL</th>\n",
       "      <th>ALL_churned_date</th>\n",
       "      <th>TOTAL_CAT_CLTV_sin_churn</th>\n",
       "      <th>ALL_CLTV_sin_churn</th>\n",
       "      <th>Adjust_CLTV</th>\n",
       "      <th>tier</th>\n",
       "      <th>microsegment_name</th>\n",
       "      <th>business_type</th>\n",
       "      <th>is_kam</th>\n",
       "      <th>owner</th>\n",
       "    </tr>\n",
       "  </thead>\n",
       "  <tbody>\n",
       "    <tr>\n",
       "      <th>0</th>\n",
       "      <td>CWB</td>\n",
       "      <td>109267474</td>\n",
       "      <td>Bebidas</td>\n",
       "      <td>16.0</td>\n",
       "      <td>369.0</td>\n",
       "      <td>91.166667</td>\n",
       "      <td>38.0</td>\n",
       "      <td>136.926866</td>\n",
       "      <td>7</td>\n",
       "      <td>14.851128</td>\n",
       "      <td>...</td>\n",
       "      <td>0</td>\n",
       "      <td>2024-09-15</td>\n",
       "      <td>244.100941</td>\n",
       "      <td>181.075909</td>\n",
       "      <td>244.100941</td>\n",
       "      <td>J</td>\n",
       "      <td>Sucos/Açaí</td>\n",
       "      <td>Restaurante</td>\n",
       "      <td>False</td>\n",
       "      <td>No Farming</td>\n",
       "    </tr>\n",
       "    <tr>\n",
       "      <th>1</th>\n",
       "      <td>CWB</td>\n",
       "      <td>109267474</td>\n",
       "      <td>Carnes, Aves e Peixes</td>\n",
       "      <td>75.0</td>\n",
       "      <td>75.0</td>\n",
       "      <td>75.000000</td>\n",
       "      <td>75.0</td>\n",
       "      <td>0.000000</td>\n",
       "      <td>2</td>\n",
       "      <td>27.210526</td>\n",
       "      <td>...</td>\n",
       "      <td>0</td>\n",
       "      <td>2024-09-15</td>\n",
       "      <td>244.100941</td>\n",
       "      <td>181.075909</td>\n",
       "      <td>244.100941</td>\n",
       "      <td>J</td>\n",
       "      <td>Sucos/Açaí</td>\n",
       "      <td>Restaurante</td>\n",
       "      <td>False</td>\n",
       "      <td>No Farming</td>\n",
       "    </tr>\n",
       "    <tr>\n",
       "      <th>2</th>\n",
       "      <td>CWB</td>\n",
       "      <td>109267474</td>\n",
       "      <td>Congelados</td>\n",
       "      <td>64.0</td>\n",
       "      <td>64.0</td>\n",
       "      <td>64.000000</td>\n",
       "      <td>64.0</td>\n",
       "      <td>0.000000</td>\n",
       "      <td>2</td>\n",
       "      <td>4.593684</td>\n",
       "      <td>...</td>\n",
       "      <td>0</td>\n",
       "      <td>2024-09-15</td>\n",
       "      <td>244.100941</td>\n",
       "      <td>181.075909</td>\n",
       "      <td>244.100941</td>\n",
       "      <td>J</td>\n",
       "      <td>Sucos/Açaí</td>\n",
       "      <td>Restaurante</td>\n",
       "      <td>False</td>\n",
       "      <td>No Farming</td>\n",
       "    </tr>\n",
       "    <tr>\n",
       "      <th>3</th>\n",
       "      <td>CWB</td>\n",
       "      <td>109267474</td>\n",
       "      <td>Frutas e Verduras</td>\n",
       "      <td>1.0</td>\n",
       "      <td>282.0</td>\n",
       "      <td>8.987654</td>\n",
       "      <td>3.0</td>\n",
       "      <td>31.897294</td>\n",
       "      <td>82</td>\n",
       "      <td>25.644262</td>\n",
       "      <td>...</td>\n",
       "      <td>0</td>\n",
       "      <td>2024-09-15</td>\n",
       "      <td>244.100941</td>\n",
       "      <td>181.075909</td>\n",
       "      <td>244.100941</td>\n",
       "      <td>J</td>\n",
       "      <td>Sucos/Açaí</td>\n",
       "      <td>Restaurante</td>\n",
       "      <td>False</td>\n",
       "      <td>No Farming</td>\n",
       "    </tr>\n",
       "    <tr>\n",
       "      <th>4</th>\n",
       "      <td>CWB</td>\n",
       "      <td>109267474</td>\n",
       "      <td>Laticínios e Ovos</td>\n",
       "      <td>1.0</td>\n",
       "      <td>375.0</td>\n",
       "      <td>24.071429</td>\n",
       "      <td>7.0</td>\n",
       "      <td>69.502959</td>\n",
       "      <td>29</td>\n",
       "      <td>14.522250</td>\n",
       "      <td>...</td>\n",
       "      <td>0</td>\n",
       "      <td>2024-09-15</td>\n",
       "      <td>244.100941</td>\n",
       "      <td>181.075909</td>\n",
       "      <td>244.100941</td>\n",
       "      <td>J</td>\n",
       "      <td>Sucos/Açaí</td>\n",
       "      <td>Restaurante</td>\n",
       "      <td>False</td>\n",
       "      <td>No Farming</td>\n",
       "    </tr>\n",
       "    <tr>\n",
       "      <th>5</th>\n",
       "      <td>CWB</td>\n",
       "      <td>109267474</td>\n",
       "      <td>Limpeza e Higiene</td>\n",
       "      <td>4.0</td>\n",
       "      <td>368.0</td>\n",
       "      <td>73.222222</td>\n",
       "      <td>28.0</td>\n",
       "      <td>116.300019</td>\n",
       "      <td>10</td>\n",
       "      <td>6.222105</td>\n",
       "      <td>...</td>\n",
       "      <td>0</td>\n",
       "      <td>2024-09-15</td>\n",
       "      <td>244.100941</td>\n",
       "      <td>181.075909</td>\n",
       "      <td>244.100941</td>\n",
       "      <td>J</td>\n",
       "      <td>Sucos/Açaí</td>\n",
       "      <td>Restaurante</td>\n",
       "      <td>False</td>\n",
       "      <td>No Farming</td>\n",
       "    </tr>\n",
       "    <tr>\n",
       "      <th>6</th>\n",
       "      <td>CWB</td>\n",
       "      <td>109267474</td>\n",
       "      <td>Mercearia</td>\n",
       "      <td>1.0</td>\n",
       "      <td>289.0</td>\n",
       "      <td>13.716981</td>\n",
       "      <td>6.0</td>\n",
       "      <td>39.938596</td>\n",
       "      <td>54</td>\n",
       "      <td>12.411072</td>\n",
       "      <td>...</td>\n",
       "      <td>0</td>\n",
       "      <td>2024-09-15</td>\n",
       "      <td>244.100941</td>\n",
       "      <td>181.075909</td>\n",
       "      <td>244.100941</td>\n",
       "      <td>J</td>\n",
       "      <td>Sucos/Açaí</td>\n",
       "      <td>Restaurante</td>\n",
       "      <td>False</td>\n",
       "      <td>No Farming</td>\n",
       "    </tr>\n",
       "    <tr>\n",
       "      <th>7</th>\n",
       "      <td>CWB</td>\n",
       "      <td>109816902</td>\n",
       "      <td>Bebidas</td>\n",
       "      <td>NaN</td>\n",
       "      <td>NaN</td>\n",
       "      <td>0.000000</td>\n",
       "      <td>NaN</td>\n",
       "      <td>0.000000</td>\n",
       "      <td>1</td>\n",
       "      <td>21.675789</td>\n",
       "      <td>...</td>\n",
       "      <td>0</td>\n",
       "      <td>2024-07-13</td>\n",
       "      <td>346.058593</td>\n",
       "      <td>368.475660</td>\n",
       "      <td>346.058593</td>\n",
       "      <td>J</td>\n",
       "      <td>Grill/Churrascaria/Espetinho</td>\n",
       "      <td>Restaurante</td>\n",
       "      <td>False</td>\n",
       "      <td>No Farming</td>\n",
       "    </tr>\n",
       "    <tr>\n",
       "      <th>8</th>\n",
       "      <td>CWB</td>\n",
       "      <td>109816902</td>\n",
       "      <td>Congelados</td>\n",
       "      <td>NaN</td>\n",
       "      <td>NaN</td>\n",
       "      <td>0.000000</td>\n",
       "      <td>NaN</td>\n",
       "      <td>0.000000</td>\n",
       "      <td>1</td>\n",
       "      <td>15.551579</td>\n",
       "      <td>...</td>\n",
       "      <td>0</td>\n",
       "      <td>2024-07-13</td>\n",
       "      <td>346.058593</td>\n",
       "      <td>368.475660</td>\n",
       "      <td>346.058593</td>\n",
       "      <td>J</td>\n",
       "      <td>Grill/Churrascaria/Espetinho</td>\n",
       "      <td>Restaurante</td>\n",
       "      <td>False</td>\n",
       "      <td>No Farming</td>\n",
       "    </tr>\n",
       "    <tr>\n",
       "      <th>9</th>\n",
       "      <td>CWB</td>\n",
       "      <td>109816902</td>\n",
       "      <td>Frutas e Verduras</td>\n",
       "      <td>1.0</td>\n",
       "      <td>27.0</td>\n",
       "      <td>8.814815</td>\n",
       "      <td>7.0</td>\n",
       "      <td>4.561006</td>\n",
       "      <td>82</td>\n",
       "      <td>32.040873</td>\n",
       "      <td>...</td>\n",
       "      <td>0</td>\n",
       "      <td>2024-07-13</td>\n",
       "      <td>346.058593</td>\n",
       "      <td>368.475660</td>\n",
       "      <td>346.058593</td>\n",
       "      <td>J</td>\n",
       "      <td>Grill/Churrascaria/Espetinho</td>\n",
       "      <td>Restaurante</td>\n",
       "      <td>False</td>\n",
       "      <td>No Farming</td>\n",
       "    </tr>\n",
       "  </tbody>\n",
       "</table>\n",
       "<p>10 rows × 33 columns</p>\n",
       "</div>"
      ],
      "text/plain": [
       "  city  customer_id                    cat  min_diff_days  max_diff_days  \\\n",
       "0  CWB    109267474                Bebidas           16.0          369.0   \n",
       "1  CWB    109267474  Carnes, Aves e Peixes           75.0           75.0   \n",
       "2  CWB    109267474             Congelados           64.0           64.0   \n",
       "3  CWB    109267474      Frutas e Verduras            1.0          282.0   \n",
       "4  CWB    109267474      Laticínios e Ovos            1.0          375.0   \n",
       "5  CWB    109267474      Limpeza e Higiene            4.0          368.0   \n",
       "6  CWB    109267474              Mercearia            1.0          289.0   \n",
       "7  CWB    109816902                Bebidas            NaN            NaN   \n",
       "8  CWB    109816902             Congelados            NaN            NaN   \n",
       "9  CWB    109816902      Frutas e Verduras            1.0           27.0   \n",
       "\n",
       "   avg_diff_days  median_diff_days  stdev_diff_days  num_orders_cat  \\\n",
       "0      91.166667              38.0       136.926866               7   \n",
       "1      75.000000              75.0         0.000000               2   \n",
       "2      64.000000              64.0         0.000000               2   \n",
       "3       8.987654               3.0        31.897294              82   \n",
       "4      24.071429               7.0        69.502959              29   \n",
       "5      73.222222              28.0       116.300019              10   \n",
       "6      13.716981               6.0        39.938596              54   \n",
       "7       0.000000               NaN         0.000000               1   \n",
       "8       0.000000               NaN         0.000000               1   \n",
       "9       8.814815               7.0         4.561006              82   \n",
       "\n",
       "   aov_cat_usd  ... churned_ALL  ALL_churned_date  TOTAL_CAT_CLTV_sin_churn  \\\n",
       "0    14.851128  ...           0        2024-09-15                244.100941   \n",
       "1    27.210526  ...           0        2024-09-15                244.100941   \n",
       "2     4.593684  ...           0        2024-09-15                244.100941   \n",
       "3    25.644262  ...           0        2024-09-15                244.100941   \n",
       "4    14.522250  ...           0        2024-09-15                244.100941   \n",
       "5     6.222105  ...           0        2024-09-15                244.100941   \n",
       "6    12.411072  ...           0        2024-09-15                244.100941   \n",
       "7    21.675789  ...           0        2024-07-13                346.058593   \n",
       "8    15.551579  ...           0        2024-07-13                346.058593   \n",
       "9    32.040873  ...           0        2024-07-13                346.058593   \n",
       "\n",
       "  ALL_CLTV_sin_churn  Adjust_CLTV  tier             microsegment_name  \\\n",
       "0         181.075909   244.100941     J                    Sucos/Açaí   \n",
       "1         181.075909   244.100941     J                    Sucos/Açaí   \n",
       "2         181.075909   244.100941     J                    Sucos/Açaí   \n",
       "3         181.075909   244.100941     J                    Sucos/Açaí   \n",
       "4         181.075909   244.100941     J                    Sucos/Açaí   \n",
       "5         181.075909   244.100941     J                    Sucos/Açaí   \n",
       "6         181.075909   244.100941     J                    Sucos/Açaí   \n",
       "7         368.475660   346.058593     J  Grill/Churrascaria/Espetinho   \n",
       "8         368.475660   346.058593     J  Grill/Churrascaria/Espetinho   \n",
       "9         368.475660   346.058593     J  Grill/Churrascaria/Espetinho   \n",
       "\n",
       "   business_type  is_kam       owner  \n",
       "0    Restaurante   False  No Farming  \n",
       "1    Restaurante   False  No Farming  \n",
       "2    Restaurante   False  No Farming  \n",
       "3    Restaurante   False  No Farming  \n",
       "4    Restaurante   False  No Farming  \n",
       "5    Restaurante   False  No Farming  \n",
       "6    Restaurante   False  No Farming  \n",
       "7    Restaurante   False  No Farming  \n",
       "8    Restaurante   False  No Farming  \n",
       "9    Restaurante   False  No Farming  \n",
       "\n",
       "[10 rows x 33 columns]"
      ]
     },
     "execution_count": 37,
     "metadata": {},
     "output_type": "execute_result"
    }
   ],
   "source": [
    "df_final.head(10)"
   ]
  },
  {
   "cell_type": "code",
   "execution_count": 38,
   "id": "81ae4015",
   "metadata": {
    "execution": {
     "iopub.execute_input": "2024-07-06T11:02:04.202997Z",
     "iopub.status.busy": "2024-07-06T11:02:04.202577Z",
     "iopub.status.idle": "2024-07-06T11:02:04.204045Z",
     "shell.execute_reply": "2024-07-06T11:02:04.204366Z"
    },
    "papermill": {
     "duration": 0.029545,
     "end_time": "2024-07-06T11:02:04.204481",
     "exception": false,
     "start_time": "2024-07-06T11:02:04.174936",
     "status": "completed"
    },
    "tags": []
   },
   "outputs": [],
   "source": [
    "#df_final.to_excel(f\"CLTV_{city}.xlsx\",index=False)"
   ]
  },
  {
   "cell_type": "markdown",
   "id": "b35e7e49",
   "metadata": {
    "papermill": {
     "duration": 0.025114,
     "end_time": "2024-07-06T11:02:04.255207",
     "exception": false,
     "start_time": "2024-07-06T11:02:04.230093",
     "status": "completed"
    },
    "tags": []
   },
   "source": [
    "# Info for SAC team"
   ]
  },
  {
   "cell_type": "code",
   "execution_count": 39,
   "id": "40c34846",
   "metadata": {
    "execution": {
     "iopub.execute_input": "2024-07-06T11:02:04.309608Z",
     "iopub.status.busy": "2024-07-06T11:02:04.309187Z",
     "iopub.status.idle": "2024-07-06T11:02:04.318759Z",
     "shell.execute_reply": "2024-07-06T11:02:04.318396Z"
    },
    "papermill": {
     "duration": 0.038294,
     "end_time": "2024-07-06T11:02:04.318857",
     "exception": false,
     "start_time": "2024-07-06T11:02:04.280563",
     "status": "completed"
    },
    "tags": []
   },
   "outputs": [],
   "source": [
    "df_SAC = df_final[['city','customer_id','tier','Adjust_CLTV']].drop_duplicates()"
   ]
  },
  {
   "cell_type": "code",
   "execution_count": 40,
   "id": "1155c8cd",
   "metadata": {
    "execution": {
     "iopub.execute_input": "2024-07-06T11:02:04.374486Z",
     "iopub.status.busy": "2024-07-06T11:02:04.374049Z",
     "iopub.status.idle": "2024-07-06T11:02:04.376215Z",
     "shell.execute_reply": "2024-07-06T11:02:04.375806Z"
    },
    "papermill": {
     "duration": 0.031864,
     "end_time": "2024-07-06T11:02:04.376314",
     "exception": false,
     "start_time": "2024-07-06T11:02:04.344450",
     "status": "completed"
    },
    "tags": []
   },
   "outputs": [],
   "source": [
    "letter_to_number = {'A': 1, 'B': 2, 'C': 3, 'D': 4, 'E': 5, 'F': 6, 'G': 7, 'H': 8, 'I': 9, 'J': 10}\n",
    "df_SAC['tier'] = df_SAC['tier'].map(letter_to_number)"
   ]
  },
  {
   "cell_type": "code",
   "execution_count": 41,
   "id": "96a53514",
   "metadata": {
    "execution": {
     "iopub.execute_input": "2024-07-06T11:02:04.431989Z",
     "iopub.status.busy": "2024-07-06T11:02:04.431570Z",
     "iopub.status.idle": "2024-07-06T11:02:04.489390Z",
     "shell.execute_reply": "2024-07-06T11:02:04.488940Z"
    },
    "papermill": {
     "duration": 0.087515,
     "end_time": "2024-07-06T11:02:04.489492",
     "exception": false,
     "start_time": "2024-07-06T11:02:04.401977",
     "status": "completed"
    },
    "tags": []
   },
   "outputs": [],
   "source": [
    "# Iterate through the customer_ids\n",
    "for customer_id in buyers_11.loc[buyers_11.region_code == city].uid.unique():\n",
    "    # Check if customer_id is already in the DataFrame\n",
    "    if customer_id in df_SAC['customer_id'].values:\n",
    "        # If yes, change its tier to 11\n",
    "        df_SAC.loc[df_SAC['customer_id'] == customer_id, 'tier'] = 11\n",
    "    else:\n",
    "        # If not, add a new row with tier 11\n",
    "        df_SAC = df_SAC.append({'city': city, 'customer_id': customer_id, 'tier': 11, 'Adjust_CLTV':1}, ignore_index=True)"
   ]
  },
  {
   "cell_type": "code",
   "execution_count": 42,
   "id": "b6257938",
   "metadata": {
    "execution": {
     "iopub.execute_input": "2024-07-06T11:02:04.544247Z",
     "iopub.status.busy": "2024-07-06T11:02:04.543824Z",
     "iopub.status.idle": "2024-07-06T11:02:04.556360Z",
     "shell.execute_reply": "2024-07-06T11:02:04.556002Z"
    },
    "papermill": {
     "duration": 0.040928,
     "end_time": "2024-07-06T11:02:04.556460",
     "exception": false,
     "start_time": "2024-07-06T11:02:04.515532",
     "status": "completed"
    },
    "tags": []
   },
   "outputs": [],
   "source": [
    "df_SAC.to_csv(f\"/home/jupyter-felipe.guevara/Growth/CLTV/{city}_SAC_tiers.csv\",index=False)"
   ]
  }
 ],
 "metadata": {
  "kernelspec": {
   "display_name": "Python 3",
   "language": "python",
   "name": "python3"
  },
  "language_info": {
   "codemirror_mode": {
    "name": "ipython",
    "version": 3
   },
   "file_extension": ".py",
   "mimetype": "text/x-python",
   "name": "python",
   "nbconvert_exporter": "python",
   "pygments_lexer": "ipython3",
   "version": "3.7.9"
  },
  "papermill": {
   "default_parameters": {},
   "duration": 123.261563,
   "end_time": "2024-07-06T11:02:05.187514",
   "environment_variables": {},
   "exception": null,
   "input_path": "/home/jupyter-felipe.guevara/Growth/CLTV/CLTV_origin.ipynb",
   "output_path": "/home/jupyter-felipe.guevara/Growth/logs/CLTV_CWB.ipynb",
   "parameters": {
    "city": "CWB"
   },
   "start_time": "2024-07-06T11:00:01.925951",
   "version": "2.3.2"
  },
  "vscode": {
   "interpreter": {
    "hash": "624741679a3ae5d99cecf49b8df5d516a7a937e6e7328e129d1fa121c8592e26"
   }
  }
 },
 "nbformat": 4,
 "nbformat_minor": 5
}