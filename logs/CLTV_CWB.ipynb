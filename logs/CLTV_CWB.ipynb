{
 "cells": [
  {
   "cell_type": "code",
   "execution_count": 1,
   "id": "dea7792b",
   "metadata": {
    "execution": {
     "iopub.execute_input": "2024-03-21T23:42:58.213227Z",
     "iopub.status.busy": "2024-03-21T23:42:58.212779Z",
     "iopub.status.idle": "2024-03-21T23:42:59.599826Z",
     "shell.execute_reply": "2024-03-21T23:42:59.599285Z"
    },
    "papermill": {
     "duration": 1.413394,
     "end_time": "2024-03-21T23:42:59.599948",
     "exception": false,
     "start_time": "2024-03-21T23:42:58.186554",
     "status": "completed"
    },
    "tags": []
   },
   "outputs": [],
   "source": [
    "#//----------------------------\n",
    "#//LIBRARIES\n",
    "    #Math\n",
    "import math\n",
    "    #Numeric Python\n",
    "import numpy as np\n",
    "    #Pandas (dataframes)\n",
    "import pandas as pd\n",
    "    #datetime for fate manipulation\n",
    "from datetime import date, datetime, timedelta  \n",
    "    #Regex for advanced string matching\n",
    "import re\n",
    "    #for time related stuff\n",
    "import time\n",
    "    #json library\n",
    "import json\n",
    "    #Analyst tools\n",
    "import sys\n",
    "import os\n",
    "sys.path.append(os.path.expanduser('~'))\n",
    "from analysts_tools.growth import *\n",
    "    #Procurement tools\n",
    "from procurement_lib import send_slack_notification\n",
    "from procurement_lib import redash\n",
    "from analysts_tools.redash_methods import *\n",
    "from analystcommunity.read_connection_data_warehouse import run_read_dwd_query\n",
    "\n",
    "import random\n",
    "import time\n",
    "import datetime\n",
    "\n",
    "import seaborn as sns\n",
    "import matplotlib.pyplot as plt\n",
    "\n",
    "\n",
    "from sklearn.model_selection import train_test_split\n",
    "from scipy.signal import savgol_filter"
   ]
  },
  {
   "cell_type": "markdown",
   "id": "bfe0f93a",
   "metadata": {
    "papermill": {
     "duration": 0.017713,
     "end_time": "2024-03-21T23:42:59.636141",
     "exception": false,
     "start_time": "2024-03-21T23:42:59.618428",
     "status": "completed"
    },
    "tags": []
   },
   "source": [
    "# Cargue de Queries y parametros"
   ]
  },
  {
   "cell_type": "code",
   "execution_count": 2,
   "id": "e1bb21d8",
   "metadata": {
    "execution": {
     "iopub.execute_input": "2024-03-21T23:42:59.674237Z",
     "iopub.status.busy": "2024-03-21T23:42:59.673811Z",
     "iopub.status.idle": "2024-03-21T23:42:59.675702Z",
     "shell.execute_reply": "2024-03-21T23:42:59.675327Z"
    },
    "papermill": {
     "duration": 0.022112,
     "end_time": "2024-03-21T23:42:59.675795",
     "exception": false,
     "start_time": "2024-03-21T23:42:59.653683",
     "status": "completed"
    },
    "tags": [
     "parameters"
    ]
   },
   "outputs": [],
   "source": [
    "city = 'VCP'"
   ]
  },
  {
   "cell_type": "code",
   "execution_count": 3,
   "id": "b92fc889",
   "metadata": {
    "execution": {
     "iopub.execute_input": "2024-03-21T23:42:59.713965Z",
     "iopub.status.busy": "2024-03-21T23:42:59.713538Z",
     "iopub.status.idle": "2024-03-21T23:42:59.715349Z",
     "shell.execute_reply": "2024-03-21T23:42:59.714997Z"
    },
    "papermill": {
     "duration": 0.021717,
     "end_time": "2024-03-21T23:42:59.715437",
     "exception": false,
     "start_time": "2024-03-21T23:42:59.693720",
     "status": "completed"
    },
    "tags": [
     "injected-parameters"
    ]
   },
   "outputs": [],
   "source": [
    "# Parameters\n",
    "city = \"CWB\"\n"
   ]
  },
  {
   "cell_type": "code",
   "execution_count": 4,
   "id": "a5028ab4",
   "metadata": {
    "execution": {
     "iopub.execute_input": "2024-03-21T23:42:59.754035Z",
     "iopub.status.busy": "2024-03-21T23:42:59.753609Z",
     "iopub.status.idle": "2024-03-21T23:42:59.755435Z",
     "shell.execute_reply": "2024-03-21T23:42:59.755081Z"
    },
    "papermill": {
     "duration": 0.02218,
     "end_time": "2024-03-21T23:42:59.755538",
     "exception": false,
     "start_time": "2024-03-21T23:42:59.733358",
     "status": "completed"
    },
    "tags": []
   },
   "outputs": [],
   "source": [
    "customer_date_desde = (datetime.datetime.today() - datetime.timedelta(days=200))#.strftime('%Y-%m-%d') #1 months"
   ]
  },
  {
   "cell_type": "code",
   "execution_count": 5,
   "id": "269e4654",
   "metadata": {
    "execution": {
     "iopub.execute_input": "2024-03-21T23:42:59.793984Z",
     "iopub.status.busy": "2024-03-21T23:42:59.793559Z",
     "iopub.status.idle": "2024-03-21T23:42:59.795533Z",
     "shell.execute_reply": "2024-03-21T23:42:59.795876Z"
    },
    "papermill": {
     "duration": 0.022709,
     "end_time": "2024-03-21T23:42:59.795983",
     "exception": false,
     "start_time": "2024-03-21T23:42:59.773274",
     "status": "completed"
    },
    "tags": []
   },
   "outputs": [
    {
     "name": "stdout",
     "output_type": "stream",
     "text": [
      "/home/jupyter-felipe.guevara\n"
     ]
    }
   ],
   "source": [
    "print(os.getcwd())"
   ]
  },
  {
   "cell_type": "code",
   "execution_count": 6,
   "id": "25a71391",
   "metadata": {
    "execution": {
     "iopub.execute_input": "2024-03-21T23:42:59.835733Z",
     "iopub.status.busy": "2024-03-21T23:42:59.835296Z",
     "iopub.status.idle": "2024-03-21T23:42:59.840117Z",
     "shell.execute_reply": "2024-03-21T23:42:59.840457Z"
    },
    "papermill": {
     "duration": 0.026285,
     "end_time": "2024-03-21T23:42:59.840562",
     "exception": false,
     "start_time": "2024-03-21T23:42:59.814277",
     "status": "completed"
    },
    "tags": []
   },
   "outputs": [],
   "source": [
    "margenes = pd.read_csv(\"/home/jupyter-felipe.guevara/Growth/CLTV/Margenes_neto.csv\")\n",
    "retention = pd.read_csv(\"/home/jupyter-felipe.guevara/Growth/CLTV/retention_year.csv\")"
   ]
  },
  {
   "cell_type": "code",
   "execution_count": 7,
   "id": "4c916fe0",
   "metadata": {
    "execution": {
     "iopub.execute_input": "2024-03-21T23:42:59.969829Z",
     "iopub.status.busy": "2024-03-21T23:42:59.930475Z",
     "iopub.status.idle": "2024-03-21T23:42:59.971883Z",
     "shell.execute_reply": "2024-03-21T23:42:59.971438Z"
    },
    "papermill": {
     "duration": 0.113127,
     "end_time": "2024-03-21T23:42:59.971983",
     "exception": false,
     "start_time": "2024-03-21T23:42:59.858856",
     "status": "completed"
    },
    "tags": []
   },
   "outputs": [],
   "source": [
    "retention_aux =  retention.copy()\n",
    "\n",
    "for i,ret in enumerate(retention_aux.values):\n",
    "    retention_aux.iloc[i,2:] = [(1-(j-ret[-1])/100) if j-ret[-1] >= 0 else 1 for j in ret[2:]]"
   ]
  },
  {
   "cell_type": "code",
   "execution_count": 8,
   "id": "c9723eb4",
   "metadata": {
    "execution": {
     "iopub.execute_input": "2024-03-21T23:43:00.012353Z",
     "iopub.status.busy": "2024-03-21T23:43:00.011923Z",
     "iopub.status.idle": "2024-03-21T23:43:41.190094Z",
     "shell.execute_reply": "2024-03-21T23:43:41.189665Z"
    },
    "papermill": {
     "duration": 41.19961,
     "end_time": "2024-03-21T23:43:41.190201",
     "exception": false,
     "start_time": "2024-03-21T23:42:59.990591",
     "status": "completed"
    },
    "tags": []
   },
   "outputs": [
    {
     "name": "stdout",
     "output_type": "stream",
     "text": [
      "200\n"
     ]
    }
   ],
   "source": [
    "clear_buyers = get_fresh_query_result(\"https://internal-redash.federate.frubana.com/\",138674,'SeoGHWmDUaaBi7VXje1s9zYNiMD1VHQ1K1DYOxiF',{},20)"
   ]
  },
  {
   "cell_type": "code",
   "execution_count": 9,
   "id": "a1858679",
   "metadata": {
    "execution": {
     "iopub.execute_input": "2024-03-21T23:43:41.239904Z",
     "iopub.status.busy": "2024-03-21T23:43:41.239421Z",
     "iopub.status.idle": "2024-03-21T23:43:44.351804Z",
     "shell.execute_reply": "2024-03-21T23:43:44.351372Z"
    },
    "papermill": {
     "duration": 3.142609,
     "end_time": "2024-03-21T23:43:44.351913",
     "exception": false,
     "start_time": "2024-03-21T23:43:41.209304",
     "status": "completed"
    },
    "tags": []
   },
   "outputs": [],
   "source": [
    "query = \"\"\"\n",
    "SELECT DISTINCT\n",
    "\n",
    "c.assignee_ref_id AS \"Owner\",\n",
    "cm.member_ref_id AS \"customer_id\",\n",
    "--cm.status AS \"Estado de la asignacion\",\n",
    "--c.type as \"Tipo de asociacion\",\n",
    "--c.flow_type AS \"Tipo de carga\",\n",
    "z.value AS \"Ciudad\"\n",
    "--p.since AS \"Semana\"\n",
    "\n",
    "FROM postgres_growth_offline.\"growth_clustering.clusters\"               c\n",
    "INNER JOIN postgres_growth_offline.\"growth_clustering.cluster_members\"  cm  ON cm.cluster_id = c.id\n",
    "INNER JOIN postgres_growth_offline.\"growth_clustering.periods\"          p   ON p.id = c.period_id\n",
    "INNER JOIN postgres_growth_offline.\"growth_clustering.zones\"            z   ON z.id = c.zone_id\n",
    "\n",
    "where p.since = DATE_TRUNC('week', date(getdate()) - interval '0 week')\n",
    "and z.value in ('BOG','BAQ','MDE','CMX','SPO','BHZ','CWB','VCP')\n",
    "and c.type = 'FARMER_OFFLINE'\n",
    "and c.status = 'ACTIVE'\n",
    "and c.enabled = 'true'\n",
    "\"\"\"\n",
    "data_farming = read_connection_data_warehouse.runQuery(query)\n",
    "data_farming[[\"customer_id\"]] = data_farming[[\"customer_id\"]].astype(int)"
   ]
  },
  {
   "cell_type": "code",
   "execution_count": 10,
   "id": "d9a4335d",
   "metadata": {
    "execution": {
     "iopub.execute_input": "2024-03-21T23:43:44.394475Z",
     "iopub.status.busy": "2024-03-21T23:43:44.394039Z",
     "iopub.status.idle": "2024-03-21T23:43:44.395516Z",
     "shell.execute_reply": "2024-03-21T23:43:44.395857Z"
    },
    "papermill": {
     "duration": 0.024744,
     "end_time": "2024-03-21T23:43:44.395969",
     "exception": false,
     "start_time": "2024-03-21T23:43:44.371225",
     "status": "completed"
    },
    "tags": []
   },
   "outputs": [],
   "source": [
    "# Define a function to run the query\n",
    "def run_query_with_retry(query):\n",
    "    max_retries = 5\n",
    "    retries = 0\n",
    "    while retries < max_retries:\n",
    "        try:\n",
    "            # Attempt to execute the query\n",
    "            data_ventas_aux = run_read_dwd_query(query)\n",
    "            data_ventas_aux[[\"gmv_usd\", \"cant\"]] = data_ventas_aux[[\"gmv_usd\", \"cant\"]].astype(float)\n",
    "            data_ventas_aux['submit_date'] = pd.to_datetime(data_ventas_aux['submit_date'])\n",
    "            return data_ventas_aux  # If successful, return the result\n",
    "        except Exception as e:\n",
    "            retries += 1\n",
    "            print(f\"An error occurred: {str(e)}\")\n",
    "            print(f\"Retrying... ({retries}/{max_retries})\")\n",
    "    # If max retries reached without success, raise an error\n",
    "    raise RuntimeError(\"Failed to execute the query after multiple retries\")"
   ]
  },
  {
   "cell_type": "code",
   "execution_count": 11,
   "id": "fcebd11d",
   "metadata": {
    "execution": {
     "iopub.execute_input": "2024-03-21T23:43:44.445351Z",
     "iopub.status.busy": "2024-03-21T23:43:44.444900Z",
     "iopub.status.idle": "2024-03-21T23:43:50.718050Z",
     "shell.execute_reply": "2024-03-21T23:43:50.717618Z"
    },
    "papermill": {
     "duration": 6.303422,
     "end_time": "2024-03-21T23:43:50.718159",
     "exception": false,
     "start_time": "2024-03-21T23:43:44.414737",
     "status": "completed"
    },
    "tags": []
   },
   "outputs": [],
   "source": [
    "query = \"\"\"\n",
    "SELECT \n",
    "    s.identifier_value AS city,\n",
    "    dc.source_id AS customer_id,\n",
    "    DATE(fs.order_submitted_date) AS submit_date,\n",
    "    fs.order_id,\n",
    "    dp.card_id AS padre_sku_id,\n",
    "    cat.parent_description AS cat,\n",
    "    CASE\n",
    "        WHEN s.identifier_value = 'CMX' THEN fs.gmv_pxq_local/19.65\n",
    "        WHEN s.identifier_value IN ('SPO','BHZ','CWB','VCP') THEN fs.gmv_pxq_local/4.75\n",
    "        WHEN s.identifier_value IN ('BOG','BAQ','MDE') THEN fs.gmv_pxq_local/3776\n",
    "    ELSE fs.gmv_pxq_local \n",
    "    END AS gmv_usd,\n",
    "    fs.product_quantity_x_step_unit AS cant\n",
    "\n",
    "FROM dpr_sales.fact_sales                   fs\n",
    "INNER JOIN dpr_shared.dim_customer          dc  ON dc.customer_id = fs.dim_customer\n",
    "INNER JOIN dpr_shared.dim_site              s   ON s.site_id = fs.dim_site\n",
    "INNER JOIN dpr_shared.dim_product           dp  ON dp.product_id = fs.dim_product\n",
    "INNER JOIN dpr_shared.dim_category          cat ON cat.category_id = dp.category_id\n",
    "\n",
    "WHERE \n",
    "    fs.gmv_enabled = TRUE\n",
    "    AND fulfillment_order_status NOT IN ('CANCELLED', 'ARCHIVED','No value')\n",
    "    AND fs.fb_order_status_id  IN (1,6,7,8)\n",
    "    AND fs.is_deleted = FALSE\n",
    "    AND fs.dim_status = 1\n",
    "    AND dp.is_slot = 'false'\n",
    "    AND DATE(fs.order_submitted_date) > current_date - 730\n",
    "    AND s.identifier_value = '{city}'\n",
    "    AND dc.source_id IN {clientes}\n",
    "\"\"\".format(clientes=tuple(set(clear_buyers[clear_buyers.registered_city == city].customer_id.unique())), city = city)\n",
    "\n",
    "# Call the function with your query\n",
    "data_ventas_aux = run_query_with_retry(query)"
   ]
  },
  {
   "cell_type": "code",
   "execution_count": 12,
   "id": "8dce445e",
   "metadata": {
    "execution": {
     "iopub.execute_input": "2024-03-21T23:43:50.761160Z",
     "iopub.status.busy": "2024-03-21T23:43:50.760731Z",
     "iopub.status.idle": "2024-03-21T23:43:51.528696Z",
     "shell.execute_reply": "2024-03-21T23:43:51.529065Z"
    },
    "papermill": {
     "duration": 0.791549,
     "end_time": "2024-03-21T23:43:51.529202",
     "exception": false,
     "start_time": "2024-03-21T23:43:50.737653",
     "status": "completed"
    },
    "tags": []
   },
   "outputs": [],
   "source": [
    "data_ventas_aux['cat'] = data_ventas_aux['cat'].replace('Frutas e verduras', 'Frutas e Verduras')\n",
    "data_ventas_aux['cat'] = data_ventas_aux['cat'].replace('Laticínios e ovos', 'Laticínios e Ovos')\n",
    "data_ventas_aux['cat'] = data_ventas_aux['cat'].replace('Limpeza e higiene', 'Limpeza e Higiene')\n",
    "data_ventas_aux['cat'] = data_ventas_aux['cat'].replace('Carnes, aves e peixes', 'Carnes, Aves e Peixes')\n",
    "data_ventas_aux['cat'] = data_ventas_aux['cat'].replace('Abarrotes & despensa', 'Abarrotes')\n",
    "data_ventas_aux['cat'] = data_ventas_aux['cat'].replace('Aseo e higiene', 'Aseo e Higiene')\n",
    "data_ventas_aux['cat'] = data_ventas_aux['cat'].replace('Frutas & verduras', 'Frutas & Verduras')\n",
    "data_ventas_aux['cat'] = data_ventas_aux['cat'].replace('Carne, pollo & pescados', 'Carne, Pollo & Pescados')\n",
    "data_ventas_aux['cat'] = data_ventas_aux['cat'].replace('Lácteos & huevos', 'Lácteos & Huevos')"
   ]
  },
  {
   "cell_type": "code",
   "execution_count": 13,
   "id": "c927415d",
   "metadata": {
    "execution": {
     "iopub.execute_input": "2024-03-21T23:43:51.571895Z",
     "iopub.status.busy": "2024-03-21T23:43:51.571452Z",
     "iopub.status.idle": "2024-03-21T23:43:52.239072Z",
     "shell.execute_reply": "2024-03-21T23:43:52.238652Z"
    },
    "papermill": {
     "duration": 0.690621,
     "end_time": "2024-03-21T23:43:52.239179",
     "exception": false,
     "start_time": "2024-03-21T23:43:51.548558",
     "status": "completed"
    },
    "tags": []
   },
   "outputs": [],
   "source": [
    "check_df = data_ventas_aux.groupby(by=['customer_id']).agg({'submit_date':np.max}).reset_index()\n",
    "df = data_ventas_aux[data_ventas_aux.customer_id.isin(check_df[check_df.submit_date >= customer_date_desde].customer_id.unique())].groupby(by=['city', 'customer_id', 'submit_date','cat']).agg({'gmv_usd':'sum','cant':'sum'}).reset_index()"
   ]
  },
  {
   "cell_type": "markdown",
   "id": "25b91126",
   "metadata": {
    "papermill": {
     "duration": 0.01909,
     "end_time": "2024-03-21T23:43:52.277830",
     "exception": false,
     "start_time": "2024-03-21T23:43:52.258740",
     "status": "completed"
    },
    "tags": []
   },
   "source": [
    "# Generacion de df con info by cat by client"
   ]
  },
  {
   "cell_type": "code",
   "execution_count": 14,
   "id": "91cfa6bc",
   "metadata": {
    "execution": {
     "iopub.execute_input": "2024-03-21T23:43:52.319395Z",
     "iopub.status.busy": "2024-03-21T23:43:52.318965Z",
     "iopub.status.idle": "2024-03-21T23:43:53.767100Z",
     "shell.execute_reply": "2024-03-21T23:43:53.767490Z"
    },
    "papermill": {
     "duration": 1.470764,
     "end_time": "2024-03-21T23:43:53.767627",
     "exception": false,
     "start_time": "2024-03-21T23:43:52.296863",
     "status": "completed"
    },
    "tags": []
   },
   "outputs": [],
   "source": [
    "df = df.sort_values('submit_date',ignore_index=True)\n",
    "\n",
    "#fix for id problems and taking into account only dates\n",
    "df['order_id']= df.submit_date.apply(lambda x:x.toordinal()) \n",
    "\n",
    "#Days of difference between orders for customer and for cat\n",
    "df['days_bet'] = (df.submit_date -df.groupby('customer_id').submit_date.transform('min')).dt.days"
   ]
  },
  {
   "cell_type": "code",
   "execution_count": 15,
   "id": "1d824313",
   "metadata": {
    "execution": {
     "iopub.execute_input": "2024-03-21T23:43:53.811818Z",
     "iopub.status.busy": "2024-03-21T23:43:53.811369Z",
     "iopub.status.idle": "2024-03-21T23:44:01.406243Z",
     "shell.execute_reply": "2024-03-21T23:44:01.406617Z"
    },
    "papermill": {
     "duration": 7.619543,
     "end_time": "2024-03-21T23:44:01.406753",
     "exception": false,
     "start_time": "2024-03-21T23:43:53.787210",
     "status": "completed"
    },
    "tags": []
   },
   "outputs": [],
   "source": [
    "#This calculate in res the difference between consecutive orders and with the agg we calculate all metrics\n",
    "df['res'] = df.groupby(by=['customer_id', 'cat'])['days_bet'].diff()\n",
    "df_grouped = df.groupby(by=['city', 'customer_id', 'cat']).agg({'res': [np.min, np.max, np.mean, np.median, np.std],\n",
    "                                                                    'order_id': [lambda x: x.nunique()], \n",
    "                                                                    'gmv_usd': [np.mean],\n",
    "                                                                    'cant': [np.mean],\n",
    "                                                                    'submit_date': [np.max, lambda x: (x.max()-x.min()).days, lambda x: (datetime.datetime.today() - x.max()).days, np.min]\n",
    "                                                                    }).reset_index()"
   ]
  },
  {
   "cell_type": "code",
   "execution_count": 16,
   "id": "ee41dfaf",
   "metadata": {
    "execution": {
     "iopub.execute_input": "2024-03-21T23:44:01.449399Z",
     "iopub.status.busy": "2024-03-21T23:44:01.448945Z",
     "iopub.status.idle": "2024-03-21T23:44:01.452617Z",
     "shell.execute_reply": "2024-03-21T23:44:01.452230Z"
    },
    "papermill": {
     "duration": 0.026315,
     "end_time": "2024-03-21T23:44:01.452753",
     "exception": false,
     "start_time": "2024-03-21T23:44:01.426438",
     "status": "completed"
    },
    "tags": []
   },
   "outputs": [],
   "source": [
    "#Finally we define everything in a df2 for further processing\n",
    "df2 = df_grouped.copy()\n",
    "\n",
    "df2.columns = ['city', 'customer_id', 'cat', 'min_diff_days', 'max_diff_days', 'avg_diff_days', 'median_diff_days', 'stdev_diff_days',\n",
    "               'num_orders', 'aov_cat_usd', 'avg_cant_cat', 'last_order_date', 'diff_from_last_to_first_order', 'days_since_last_order','first_order_date']"
   ]
  },
  {
   "cell_type": "code",
   "execution_count": 17,
   "id": "3b9e9101",
   "metadata": {
    "execution": {
     "iopub.execute_input": "2024-03-21T23:44:01.498669Z",
     "iopub.status.busy": "2024-03-21T23:44:01.498223Z",
     "iopub.status.idle": "2024-03-21T23:44:01.499671Z",
     "shell.execute_reply": "2024-03-21T23:44:01.500089Z"
    },
    "papermill": {
     "duration": 0.026021,
     "end_time": "2024-03-21T23:44:01.500212",
     "exception": false,
     "start_time": "2024-03-21T23:44:01.474191",
     "status": "completed"
    },
    "tags": []
   },
   "outputs": [],
   "source": [
    "def diff_month(d1, d2):\n",
    "    return (d1.year - d2.year) * 12 + d1.month - d2.month"
   ]
  },
  {
   "cell_type": "code",
   "execution_count": 18,
   "id": "c91c3b0f",
   "metadata": {
    "execution": {
     "iopub.execute_input": "2024-03-21T23:44:01.552268Z",
     "iopub.status.busy": "2024-03-21T23:44:01.550196Z",
     "iopub.status.idle": "2024-03-21T23:44:01.554207Z",
     "shell.execute_reply": "2024-03-21T23:44:01.553828Z"
    },
    "papermill": {
     "duration": 0.032568,
     "end_time": "2024-03-21T23:44:01.554300",
     "exception": false,
     "start_time": "2024-03-21T23:44:01.521732",
     "status": "completed"
    },
    "tags": []
   },
   "outputs": [],
   "source": [
    "def cat_metrics_2(cat):\n",
    "    df_cat = df2[df2.cat == cat].copy()\n",
    "    \n",
    "    df_cat['adjust_std'] = pd.qcut(df_cat.stdev_diff_days, 10, labels=[1,0.9,0.8,0.7,0.6,0.5,0.4,0.3,0.2,0.1])\n",
    "    df_cat[[\"adjust_std\"]] = df_cat[[\"adjust_std\"]].astype(float)\n",
    "    \n",
    "    df_cat['adjust_cohort'] = [1 if ((x[13]) - (x[5]+x[7]) <= 0) else  \n",
    "                 1/(((x[13]) - x[5])/x[7]) if x[7] != 0 else\n",
    "                 1/(((x[13]) - x[5])/np.round(1+(x[5]*0.7)))\n",
    "                 for x in df_cat.values]\n",
    "    \n",
    "    df_cat[\"margen\"] = [margenes[(margenes.category == x[2]) & (margenes.region_code == x[0])][\"net_margin\"].unique()[0]/100 for x in df_cat.values]\n",
    "    #mirar aca\n",
    "    df_cat['adjust_retention'] = [1 if diff_month(x[11],x[14])+1 >= 10 else \n",
    "                                  retention_aux[(retention_aux.category == x[2]) & (retention_aux.region_code == x[0])][str(diff_month(x[11],x[14])+1)].unique()[0] for x in df_cat.values]\n",
    "    \n",
    "    df_cat['median_diff_days_adjusted'] = 365/df_cat.median_diff_days\n",
    "    \n",
    "    df_cat[\"churned\"] = [0 if ((x[13]) - (x[5]+x[7]*2) <= 0) else 1 for x in df_cat.values]\n",
    "    \n",
    "    df_cat[['avg_diff_days','stdev_diff_days']] = df_cat[['avg_diff_days','stdev_diff_days']].fillna(0)\n",
    "\n",
    "    df_cat['churned_date'] = [(x[11] + datetime.timedelta(days=int(x[5]+x[7]*2))).strftime('%Y-%m-%d') for x in df_cat.values] #1 months\n",
    "    \n",
    "    df_cat[\"CLTV\"] = df_cat.median_diff_days_adjusted * df_cat.margen * df_cat.aov_cat_usd * df_cat.adjust_retention * df_cat.adjust_std * df_cat.adjust_cohort\n",
    "    df_cat[\"CLTV_sin_margen\"] = df_cat.median_diff_days_adjusted * df_cat.aov_cat_usd * df_cat.adjust_retention * df_cat.adjust_std * df_cat.adjust_cohort\n",
    "    df_cat[\"CLTV_sin_churn\"] = df_cat.median_diff_days_adjusted * df_cat.margen * df_cat.aov_cat_usd * df_cat.adjust_retention * df_cat.adjust_std\n",
    "    \n",
    "    df_cat['cash_margin'] = df_cat.aov_cat_usd * df_cat.margen\n",
    "\n",
    "    return df_cat"
   ]
  },
  {
   "cell_type": "code",
   "execution_count": 19,
   "id": "e4b6fd15",
   "metadata": {
    "execution": {
     "iopub.execute_input": "2024-03-21T23:44:01.602770Z",
     "iopub.status.busy": "2024-03-21T23:44:01.602233Z",
     "iopub.status.idle": "2024-03-21T23:44:20.769399Z",
     "shell.execute_reply": "2024-03-21T23:44:20.769760Z"
    },
    "papermill": {
     "duration": 19.193681,
     "end_time": "2024-03-21T23:44:20.769899",
     "exception": false,
     "start_time": "2024-03-21T23:44:01.576218",
     "status": "completed"
    },
    "tags": []
   },
   "outputs": [
    {
     "name": "stdout",
     "output_type": "stream",
     "text": [
      "Bebidas\n"
     ]
    },
    {
     "name": "stdout",
     "output_type": "stream",
     "text": [
      "Done Bebidas\n",
      "Carnes, Aves e Peixes\n"
     ]
    },
    {
     "name": "stdout",
     "output_type": "stream",
     "text": [
      "Done Carnes, Aves e Peixes\n",
      "Congelados\n"
     ]
    },
    {
     "name": "stdout",
     "output_type": "stream",
     "text": [
      "Done Congelados\n",
      "Descartáveis\n"
     ]
    },
    {
     "name": "stdout",
     "output_type": "stream",
     "text": [
      "Done Descartáveis\n",
      "Frutas e Verduras\n"
     ]
    },
    {
     "name": "stdout",
     "output_type": "stream",
     "text": [
      "Done Frutas e Verduras\n",
      "Laticínios e Ovos\n"
     ]
    },
    {
     "name": "stdout",
     "output_type": "stream",
     "text": [
      "Done Laticínios e Ovos\n",
      "Limpeza e Higiene\n"
     ]
    },
    {
     "name": "stdout",
     "output_type": "stream",
     "text": [
      "Done Limpeza e Higiene\n",
      "Mercearia\n"
     ]
    },
    {
     "name": "stdout",
     "output_type": "stream",
     "text": [
      "Done Mercearia\n"
     ]
    }
   ],
   "source": [
    "df3 = pd.DataFrame()\n",
    "\n",
    "for cat in df2.cat.unique():\n",
    "   print(cat)\n",
    "   if cat not in ('Frubana prime','¡productos nuevos!','No value','Mesa & cocina','Insumos internos cat','Despensa'):\n",
    "      df3 = df3.append(cat_metrics_2(cat))\n",
    "   print(f'Done {cat}')"
   ]
  },
  {
   "cell_type": "code",
   "execution_count": 20,
   "id": "b648931a",
   "metadata": {
    "execution": {
     "iopub.execute_input": "2024-03-21T23:44:20.817396Z",
     "iopub.status.busy": "2024-03-21T23:44:20.816939Z",
     "iopub.status.idle": "2024-03-21T23:44:20.836238Z",
     "shell.execute_reply": "2024-03-21T23:44:20.836579Z"
    },
    "papermill": {
     "duration": 0.045144,
     "end_time": "2024-03-21T23:44:20.836694",
     "exception": false,
     "start_time": "2024-03-21T23:44:20.791550",
     "status": "completed"
    },
    "tags": []
   },
   "outputs": [
    {
     "data": {
      "text/html": [
       "<div>\n",
       "<style scoped>\n",
       "    .dataframe tbody tr th:only-of-type {\n",
       "        vertical-align: middle;\n",
       "    }\n",
       "\n",
       "    .dataframe tbody tr th {\n",
       "        vertical-align: top;\n",
       "    }\n",
       "\n",
       "    .dataframe thead th {\n",
       "        text-align: right;\n",
       "    }\n",
       "</style>\n",
       "<table border=\"1\" class=\"dataframe\">\n",
       "  <thead>\n",
       "    <tr style=\"text-align: right;\">\n",
       "      <th></th>\n",
       "      <th>city</th>\n",
       "      <th>customer_id</th>\n",
       "      <th>cat</th>\n",
       "      <th>min_diff_days</th>\n",
       "      <th>max_diff_days</th>\n",
       "      <th>avg_diff_days</th>\n",
       "      <th>median_diff_days</th>\n",
       "      <th>stdev_diff_days</th>\n",
       "      <th>num_orders</th>\n",
       "      <th>aov_cat_usd</th>\n",
       "      <th>...</th>\n",
       "      <th>adjust_cohort</th>\n",
       "      <th>margen</th>\n",
       "      <th>adjust_retention</th>\n",
       "      <th>median_diff_days_adjusted</th>\n",
       "      <th>churned</th>\n",
       "      <th>churned_date</th>\n",
       "      <th>CLTV</th>\n",
       "      <th>CLTV_sin_margen</th>\n",
       "      <th>CLTV_sin_churn</th>\n",
       "      <th>cash_margin</th>\n",
       "    </tr>\n",
       "  </thead>\n",
       "  <tbody>\n",
       "    <tr>\n",
       "      <th>0</th>\n",
       "      <td>CWB</td>\n",
       "      <td>109267474</td>\n",
       "      <td>Bebidas</td>\n",
       "      <td>2.0</td>\n",
       "      <td>369.0</td>\n",
       "      <td>46.714286</td>\n",
       "      <td>20.5</td>\n",
       "      <td>94.475417</td>\n",
       "      <td>15</td>\n",
       "      <td>15.043368</td>\n",
       "      <td>...</td>\n",
       "      <td>1.000000</td>\n",
       "      <td>0.148</td>\n",
       "      <td>1.000</td>\n",
       "      <td>17.804878</td>\n",
       "      <td>0</td>\n",
       "      <td>2024-08-29</td>\n",
       "      <td>3.964111</td>\n",
       "      <td>26.784534</td>\n",
       "      <td>3.964111</td>\n",
       "      <td>2.226419</td>\n",
       "    </tr>\n",
       "    <tr>\n",
       "      <th>8</th>\n",
       "      <td>CWB</td>\n",
       "      <td>109816902</td>\n",
       "      <td>Bebidas</td>\n",
       "      <td>NaN</td>\n",
       "      <td>NaN</td>\n",
       "      <td>0.000000</td>\n",
       "      <td>NaN</td>\n",
       "      <td>0.000000</td>\n",
       "      <td>1</td>\n",
       "      <td>21.675789</td>\n",
       "      <td>...</td>\n",
       "      <td>NaN</td>\n",
       "      <td>0.148</td>\n",
       "      <td>0.735</td>\n",
       "      <td>NaN</td>\n",
       "      <td>1</td>\n",
       "      <td>2023-06-14</td>\n",
       "      <td>NaN</td>\n",
       "      <td>NaN</td>\n",
       "      <td>NaN</td>\n",
       "      <td>3.208017</td>\n",
       "    </tr>\n",
       "    <tr>\n",
       "      <th>15</th>\n",
       "      <td>CWB</td>\n",
       "      <td>109817681</td>\n",
       "      <td>Bebidas</td>\n",
       "      <td>1.0</td>\n",
       "      <td>315.0</td>\n",
       "      <td>49.500000</td>\n",
       "      <td>20.5</td>\n",
       "      <td>81.380162</td>\n",
       "      <td>15</td>\n",
       "      <td>12.814316</td>\n",
       "      <td>...</td>\n",
       "      <td>1.000000</td>\n",
       "      <td>0.148</td>\n",
       "      <td>1.000</td>\n",
       "      <td>17.804878</td>\n",
       "      <td>0</td>\n",
       "      <td>2024-10-16</td>\n",
       "      <td>6.753457</td>\n",
       "      <td>45.631466</td>\n",
       "      <td>6.753457</td>\n",
       "      <td>1.896519</td>\n",
       "    </tr>\n",
       "    <tr>\n",
       "      <th>28</th>\n",
       "      <td>CWB</td>\n",
       "      <td>109823370</td>\n",
       "      <td>Bebidas</td>\n",
       "      <td>1.0</td>\n",
       "      <td>28.0</td>\n",
       "      <td>2.147619</td>\n",
       "      <td>1.0</td>\n",
       "      <td>2.432263</td>\n",
       "      <td>211</td>\n",
       "      <td>31.169229</td>\n",
       "      <td>...</td>\n",
       "      <td>0.189246</td>\n",
       "      <td>0.148</td>\n",
       "      <td>1.000</td>\n",
       "      <td>365.000000</td>\n",
       "      <td>1</td>\n",
       "      <td>2024-03-13</td>\n",
       "      <td>318.645352</td>\n",
       "      <td>2153.009138</td>\n",
       "      <td>1683.761758</td>\n",
       "      <td>4.613046</td>\n",
       "    </tr>\n",
       "    <tr>\n",
       "      <th>36</th>\n",
       "      <td>CWB</td>\n",
       "      <td>109848195</td>\n",
       "      <td>Bebidas</td>\n",
       "      <td>6.0</td>\n",
       "      <td>112.0</td>\n",
       "      <td>38.750000</td>\n",
       "      <td>21.0</td>\n",
       "      <td>35.711279</td>\n",
       "      <td>13</td>\n",
       "      <td>18.753036</td>\n",
       "      <td>...</td>\n",
       "      <td>0.208533</td>\n",
       "      <td>0.148</td>\n",
       "      <td>1.000</td>\n",
       "      <td>17.380952</td>\n",
       "      <td>1</td>\n",
       "      <td>2023-12-12</td>\n",
       "      <td>4.023849</td>\n",
       "      <td>27.188170</td>\n",
       "      <td>19.295981</td>\n",
       "      <td>2.775449</td>\n",
       "    </tr>\n",
       "  </tbody>\n",
       "</table>\n",
       "<p>5 rows × 26 columns</p>\n",
       "</div>"
      ],
      "text/plain": [
       "   city  customer_id      cat  min_diff_days  max_diff_days  avg_diff_days  \\\n",
       "0   CWB    109267474  Bebidas            2.0          369.0      46.714286   \n",
       "8   CWB    109816902  Bebidas            NaN            NaN       0.000000   \n",
       "15  CWB    109817681  Bebidas            1.0          315.0      49.500000   \n",
       "28  CWB    109823370  Bebidas            1.0           28.0       2.147619   \n",
       "36  CWB    109848195  Bebidas            6.0          112.0      38.750000   \n",
       "\n",
       "    median_diff_days  stdev_diff_days  num_orders  aov_cat_usd  ...  \\\n",
       "0               20.5        94.475417          15    15.043368  ...   \n",
       "8                NaN         0.000000           1    21.675789  ...   \n",
       "15              20.5        81.380162          15    12.814316  ...   \n",
       "28               1.0         2.432263         211    31.169229  ...   \n",
       "36              21.0        35.711279          13    18.753036  ...   \n",
       "\n",
       "    adjust_cohort margen  adjust_retention  median_diff_days_adjusted churned  \\\n",
       "0        1.000000  0.148             1.000                  17.804878       0   \n",
       "8             NaN  0.148             0.735                        NaN       1   \n",
       "15       1.000000  0.148             1.000                  17.804878       0   \n",
       "28       0.189246  0.148             1.000                 365.000000       1   \n",
       "36       0.208533  0.148             1.000                  17.380952       1   \n",
       "\n",
       "    churned_date        CLTV  CLTV_sin_margen  CLTV_sin_churn  cash_margin  \n",
       "0     2024-08-29    3.964111        26.784534        3.964111     2.226419  \n",
       "8     2023-06-14         NaN              NaN             NaN     3.208017  \n",
       "15    2024-10-16    6.753457        45.631466        6.753457     1.896519  \n",
       "28    2024-03-13  318.645352      2153.009138     1683.761758     4.613046  \n",
       "36    2023-12-12    4.023849        27.188170       19.295981     2.775449  \n",
       "\n",
       "[5 rows x 26 columns]"
      ]
     },
     "execution_count": 20,
     "metadata": {},
     "output_type": "execute_result"
    }
   ],
   "source": [
    "df3.head(5)"
   ]
  },
  {
   "cell_type": "markdown",
   "id": "06fadbc5",
   "metadata": {
    "papermill": {
     "duration": 0.021783,
     "end_time": "2024-03-21T23:44:20.880225",
     "exception": false,
     "start_time": "2024-03-21T23:44:20.858442",
     "status": "completed"
    },
    "tags": []
   },
   "source": [
    "# Aca empieza el analisis global by customer "
   ]
  },
  {
   "cell_type": "code",
   "execution_count": 21,
   "id": "cf04371d",
   "metadata": {
    "execution": {
     "iopub.execute_input": "2024-03-21T23:44:20.927448Z",
     "iopub.status.busy": "2024-03-21T23:44:20.927013Z",
     "iopub.status.idle": "2024-03-21T23:44:20.938171Z",
     "shell.execute_reply": "2024-03-21T23:44:20.938510Z"
    },
    "papermill": {
     "duration": 0.036484,
     "end_time": "2024-03-21T23:44:20.938630",
     "exception": false,
     "start_time": "2024-03-21T23:44:20.902146",
     "status": "completed"
    },
    "tags": []
   },
   "outputs": [],
   "source": [
    "#Here, i group the df3 (the df with the whole info by cat to customer lvl)\n",
    "df_new3 = df3[['city','customer_id','aov_cat_usd','cash_margin','CLTV_sin_churn','churned']].groupby(by=['city','customer_id']).sum().reset_index()"
   ]
  },
  {
   "cell_type": "code",
   "execution_count": 22,
   "id": "b4993a84",
   "metadata": {
    "execution": {
     "iopub.execute_input": "2024-03-21T23:44:20.987473Z",
     "iopub.status.busy": "2024-03-21T23:44:20.987042Z",
     "iopub.status.idle": "2024-03-21T23:44:22.478172Z",
     "shell.execute_reply": "2024-03-21T23:44:22.477756Z"
    },
    "papermill": {
     "duration": 1.517885,
     "end_time": "2024-03-21T23:44:22.478280",
     "exception": false,
     "start_time": "2024-03-21T23:44:20.960395",
     "status": "completed"
    },
    "tags": []
   },
   "outputs": [],
   "source": [
    "#The processing data for customer level is made here\n",
    "\n",
    "df_new = df.groupby(by=['city','customer_id','order_id','submit_date']).sum().reset_index()\n",
    "\n",
    "df_new['days_bet'] = (df_new.submit_date -df_new.groupby('customer_id').submit_date.transform('min')).dt.days\n",
    "\n",
    "#This calculate in res the difference between consecutive orders and with the agg we calculate all metrics\n",
    "df_new['res'] = df_new.groupby(by=['customer_id'])['days_bet'].diff()\n",
    "df_grouped_2 = df_new.groupby(by=['city', 'customer_id']).agg({'res': [np.min, np.max, np.mean, np.median, np.std],\n",
    "                                                                    'order_id': [lambda x: x.nunique()], \n",
    "                                                                    'gmv_usd': [np.mean],\n",
    "                                                                    'cant': [np.mean],\n",
    "                                                                    'submit_date': [np.max, lambda x: (x.max()-x.min()).days, lambda x: (datetime.datetime.today() - x.max()).days, np.min]\n",
    "                                                                    }).droplevel(0, axis=\"columns\").reset_index()"
   ]
  },
  {
   "cell_type": "code",
   "execution_count": 23,
   "id": "4c5ae585",
   "metadata": {
    "execution": {
     "iopub.execute_input": "2024-03-21T23:44:22.525851Z",
     "iopub.status.busy": "2024-03-21T23:44:22.525402Z",
     "iopub.status.idle": "2024-03-21T23:44:22.527643Z",
     "shell.execute_reply": "2024-03-21T23:44:22.527982Z"
    },
    "papermill": {
     "duration": 0.027471,
     "end_time": "2024-03-21T23:44:22.528096",
     "exception": false,
     "start_time": "2024-03-21T23:44:22.500625",
     "status": "completed"
    },
    "tags": []
   },
   "outputs": [],
   "source": [
    "#Finally we define everything in a df_new2 at level customer for further processing\n",
    "df_new2 = df_grouped_2.copy()\n",
    "\n",
    "df_new2.columns = ['city', 'customer_id', 'min_diff_days', 'max_diff_days', 'avg_diff_days', 'median_diff_days', 'stdev_diff_days',\n",
    "               'num_orders', 'aov_ALL_usd', 'ALL_avg_cant', 'last_order_date', 'diff_from_last_to_first_order', 'days_since_last_order','first_order_date']"
   ]
  },
  {
   "cell_type": "code",
   "execution_count": 24,
   "id": "52fe129e",
   "metadata": {
    "execution": {
     "iopub.execute_input": "2024-03-21T23:44:22.591635Z",
     "iopub.status.busy": "2024-03-21T23:44:22.581511Z",
     "iopub.status.idle": "2024-03-21T23:44:23.392006Z",
     "shell.execute_reply": "2024-03-21T23:44:23.391585Z"
    },
    "papermill": {
     "duration": 0.842211,
     "end_time": "2024-03-21T23:44:23.392112",
     "exception": false,
     "start_time": "2024-03-21T23:44:22.549901",
     "status": "completed"
    },
    "tags": []
   },
   "outputs": [],
   "source": [
    "#Finally we calculate the next parameters and also integred with df_new3 where we can have the info grouped by customer about the category performance\n",
    "df_new2[\"churned_ALL\"] = [0 if ((x[12]) - (x[4]+x[6]*2) <= 0) else 1 for x in df_new2.values]\n",
    "\n",
    "df_new2['adjust_std'] = pd.qcut(df_new2.stdev_diff_days, 10, labels=[1,0.9,0.8,0.7,0.6,0.5,0.4,0.3,0.2,0.1])\n",
    "df_new2[[\"adjust_std\"]] = df_new2[[\"adjust_std\"]].astype(float)\n",
    "\n",
    "df_new2['adjust_retention'] = [1 if diff_month(x[10],x[13])+1 >= 10 else \n",
    "                                retention_aux[(retention_aux.region_code == x[0])][str(diff_month(x[10],x[13])+1)].max() for x in df_new2.values]\n",
    "\n",
    "df_new2['median_diff_days_adjusted'] = 365/df_new2.median_diff_days\n",
    "\n",
    "#this merge is to include the info for the total cash_margin, how many cats is churned and the total cat CLTV\n",
    "df_new2 = df_new2.merge(df_new3[['customer_id','cash_margin','CLTV_sin_churn','churned']], on='customer_id', how='left')"
   ]
  },
  {
   "cell_type": "code",
   "execution_count": 25,
   "id": "d639cd0e",
   "metadata": {
    "execution": {
     "iopub.execute_input": "2024-03-21T23:44:23.441197Z",
     "iopub.status.busy": "2024-03-21T23:44:23.440758Z",
     "iopub.status.idle": "2024-03-21T23:44:23.533895Z",
     "shell.execute_reply": "2024-03-21T23:44:23.534236Z"
    },
    "papermill": {
     "duration": 0.119773,
     "end_time": "2024-03-21T23:44:23.534365",
     "exception": false,
     "start_time": "2024-03-21T23:44:23.414592",
     "status": "completed"
    },
    "tags": []
   },
   "outputs": [
    {
     "name": "stdout",
     "output_type": "stream",
     "text": [
      "2609365.778892494 2600220.056085869\n"
     ]
    }
   ],
   "source": [
    "#We calculate now the CLTV taking into account the global behavior of the customer\n",
    "df_new2[\"ALL_CLTV_sin_churn\"] = df_new2.median_diff_days_adjusted * df_new2.adjust_retention * df_new2.adjust_std * df_new2.cash_margin / 2\n",
    "df_new2[['CLTV_sin_churn','ALL_CLTV_sin_churn']] = df_new2[['CLTV_sin_churn','ALL_CLTV_sin_churn']].fillna(0)\n",
    "\n",
    "#df_new2[\"CLTV\"] = df_new2.median_diff_days_adjusted * df_new2.margen * df_new2.aov_cat_usd * df_new2.adjust_retention * df_new2.adjust_std * df_new2.adjust_cohort\n",
    "#df_new2[\"CLTV_sin_margen\"] = df_new2.median_diff_days_adjusted * df_new2.aov_cat_usd * df_new2.adjust_retention * df_new2.adjust_std * df_new2.adjust_cohort\n",
    "\n",
    "#If the Total Cat CLTV is NA because it is so few orders for each category, we create a Adjust_CLTV to include the global or ALL_CLTV_sin_churn instead of the NULL value\n",
    "df_new2['Adjust_CLTV'] = [x[21] if x[19] == 0 else x[19] for x in df_new2.values]\n",
    "\n",
    "print(df_new2.Adjust_CLTV.sum(),df_new2.CLTV_sin_churn.sum())"
   ]
  },
  {
   "cell_type": "code",
   "execution_count": 26,
   "id": "87f985f6",
   "metadata": {
    "execution": {
     "iopub.execute_input": "2024-03-21T23:44:23.583412Z",
     "iopub.status.busy": "2024-03-21T23:44:23.582986Z",
     "iopub.status.idle": "2024-03-21T23:44:23.631741Z",
     "shell.execute_reply": "2024-03-21T23:44:23.631339Z"
    },
    "papermill": {
     "duration": 0.074817,
     "end_time": "2024-03-21T23:44:23.631844",
     "exception": false,
     "start_time": "2024-03-21T23:44:23.557027",
     "status": "completed"
    },
    "tags": []
   },
   "outputs": [],
   "source": [
    "#Finally, we calculate the ALL_churned_date based on the general behavior of the customer\n",
    "df_new2[['avg_diff_days','stdev_diff_days']] = df_new2[['avg_diff_days','stdev_diff_days']].fillna(0)\n",
    "df_new2['ALL_churned_date'] = [(x[10] + datetime.timedelta(days=int(x[4]+x[6]*2))).strftime('%Y-%m-%d') for x in df_new2.values] #1 months"
   ]
  },
  {
   "cell_type": "markdown",
   "id": "b63a08e2",
   "metadata": {
    "papermill": {
     "duration": 0.022401,
     "end_time": "2024-03-21T23:44:23.676935",
     "exception": false,
     "start_time": "2024-03-21T23:44:23.654534",
     "status": "completed"
    },
    "tags": []
   },
   "source": [
    "# Final processing of the file to export"
   ]
  },
  {
   "cell_type": "code",
   "execution_count": 27,
   "id": "59cecf2c",
   "metadata": {
    "execution": {
     "iopub.execute_input": "2024-03-21T23:44:23.734015Z",
     "iopub.status.busy": "2024-03-21T23:44:23.733557Z",
     "iopub.status.idle": "2024-03-21T23:44:23.745002Z",
     "shell.execute_reply": "2024-03-21T23:44:23.745359Z"
    },
    "papermill": {
     "duration": 0.045671,
     "end_time": "2024-03-21T23:44:23.745486",
     "exception": false,
     "start_time": "2024-03-21T23:44:23.699815",
     "status": "completed"
    },
    "tags": []
   },
   "outputs": [],
   "source": [
    "#We will merge the df_new2 with the clear_buyers in order to filter by restaurants and take away kams (also to include the microsegment)\n",
    "df_new2 = df_new2.merge(clear_buyers[clear_buyers.registered_city == city][['customer_id','business_type','microsegment_name','is_kam']], on='customer_id', how='left')\n",
    "df_new2_end = df_new2[(df_new2.is_kam == 0)].copy() #df_new2[(df_new2.business_type == 'Restaurante') & (df_new2.is_kam == 0)].copy()"
   ]
  },
  {
   "cell_type": "code",
   "execution_count": 28,
   "id": "efc1f8a3",
   "metadata": {
    "execution": {
     "iopub.execute_input": "2024-03-21T23:44:23.794439Z",
     "iopub.status.busy": "2024-03-21T23:44:23.794000Z",
     "iopub.status.idle": "2024-03-21T23:44:23.801638Z",
     "shell.execute_reply": "2024-03-21T23:44:23.801181Z"
    },
    "papermill": {
     "duration": 0.033787,
     "end_time": "2024-03-21T23:44:23.801737",
     "exception": false,
     "start_time": "2024-03-21T23:44:23.767950",
     "status": "completed"
    },
    "tags": []
   },
   "outputs": [],
   "source": [
    "#This cell is to calculate the cumulative sum to create the tiers further\n",
    "df_new2_end = df_new2_end.sort_values(['Adjust_CLTV'], ascending=[False])\n",
    "df_new2_end['cumsum'] = df_new2_end.groupby('city')['Adjust_CLTV'].cumsum()\n",
    "df_new2_end['run_pct'] = df_new2_end.groupby('city')['Adjust_CLTV'].apply(lambda x: (x/x.sum()).cumsum())"
   ]
  },
  {
   "cell_type": "code",
   "execution_count": 29,
   "id": "503ee718",
   "metadata": {
    "execution": {
     "iopub.execute_input": "2024-03-21T23:44:23.854203Z",
     "iopub.status.busy": "2024-03-21T23:44:23.853770Z",
     "iopub.status.idle": "2024-03-21T23:44:23.855743Z",
     "shell.execute_reply": "2024-03-21T23:44:23.855304Z"
    },
    "papermill": {
     "duration": 0.031186,
     "end_time": "2024-03-21T23:44:23.855841",
     "exception": false,
     "start_time": "2024-03-21T23:44:23.824655",
     "status": "completed"
    },
    "tags": []
   },
   "outputs": [],
   "source": [
    "#This conditional create the tiers\n",
    "df_new2_end['tier'] = ['A' if x <= 0.1 else\n",
    "                       'B' if x <= 0.2 else\n",
    "                       'C' if x <= 0.3 else\n",
    "                       'D' if x <= 0.4 else\n",
    "                       'E' if x <= 0.5 else\n",
    "                       'F' if x <= 0.6 else\n",
    "                       'G' if x <= 0.7 else\n",
    "                       'H' if x <= 0.8 else\n",
    "                       'I' if x <= 0.9 else\n",
    "                       'J' for x in df_new2_end.run_pct.values]"
   ]
  },
  {
   "cell_type": "code",
   "execution_count": 30,
   "id": "aba67ee0",
   "metadata": {
    "execution": {
     "iopub.execute_input": "2024-03-21T23:44:23.905593Z",
     "iopub.status.busy": "2024-03-21T23:44:23.905147Z",
     "iopub.status.idle": "2024-03-21T23:44:23.907527Z",
     "shell.execute_reply": "2024-03-21T23:44:23.907155Z"
    },
    "papermill": {
     "duration": 0.029221,
     "end_time": "2024-03-21T23:44:23.907619",
     "exception": false,
     "start_time": "2024-03-21T23:44:23.878398",
     "status": "completed"
    },
    "tags": []
   },
   "outputs": [
    {
     "data": {
      "text/plain": [
       "J    2022\n",
       "I     517\n",
       "H     324\n",
       "G     226\n",
       "F     171\n",
       "E     132\n",
       "D     105\n",
       "C      78\n",
       "B      54\n",
       "A      29\n",
       "Name: tier, dtype: int64"
      ]
     },
     "execution_count": 30,
     "metadata": {},
     "output_type": "execute_result"
    }
   ],
   "source": [
    "df_new2_end.tier.value_counts()"
   ]
  },
  {
   "cell_type": "code",
   "execution_count": 31,
   "id": "283069cc",
   "metadata": {
    "execution": {
     "iopub.execute_input": "2024-03-21T23:44:23.957288Z",
     "iopub.status.busy": "2024-03-21T23:44:23.956867Z",
     "iopub.status.idle": "2024-03-21T23:44:23.958752Z",
     "shell.execute_reply": "2024-03-21T23:44:23.958395Z"
    },
    "papermill": {
     "duration": 0.028104,
     "end_time": "2024-03-21T23:44:23.958844",
     "exception": false,
     "start_time": "2024-03-21T23:44:23.930740",
     "status": "completed"
    },
    "tags": []
   },
   "outputs": [],
   "source": [
    "df_new2_end.rename(columns={'num_orders': 'ALL_num_orders', 'CLTV_sin_churn': 'TOTAL_CAT_CLTV_sin_churn'}, inplace=True)\n",
    "\n",
    "df3.rename(columns={'num_orders': 'num_orders_cat', 'churned': 'churned_cat','CLTV_sin_churn':'CAT_CLTV_sin_churn'}, inplace=True)"
   ]
  },
  {
   "cell_type": "code",
   "execution_count": 32,
   "id": "d0be7fc6",
   "metadata": {
    "execution": {
     "iopub.execute_input": "2024-03-21T23:44:24.008321Z",
     "iopub.status.busy": "2024-03-21T23:44:24.007893Z",
     "iopub.status.idle": "2024-03-21T23:44:24.010292Z",
     "shell.execute_reply": "2024-03-21T23:44:24.009865Z"
    },
    "papermill": {
     "duration": 0.028591,
     "end_time": "2024-03-21T23:44:24.010383",
     "exception": false,
     "start_time": "2024-03-21T23:44:23.981792",
     "status": "completed"
    },
    "tags": []
   },
   "outputs": [
    {
     "data": {
      "text/plain": [
       "Index(['city', 'customer_id', 'min_diff_days', 'max_diff_days',\n",
       "       'avg_diff_days', 'median_diff_days', 'stdev_diff_days',\n",
       "       'ALL_num_orders', 'aov_ALL_usd', 'ALL_avg_cant', 'last_order_date',\n",
       "       'diff_from_last_to_first_order', 'days_since_last_order',\n",
       "       'first_order_date', 'churned_ALL', 'adjust_std', 'adjust_retention',\n",
       "       'median_diff_days_adjusted', 'cash_margin', 'TOTAL_CAT_CLTV_sin_churn',\n",
       "       'churned', 'ALL_CLTV_sin_churn', 'Adjust_CLTV', 'ALL_churned_date',\n",
       "       'business_type', 'microsegment_name', 'is_kam', 'cumsum', 'run_pct',\n",
       "       'tier'],\n",
       "      dtype='object')"
      ]
     },
     "execution_count": 32,
     "metadata": {},
     "output_type": "execute_result"
    }
   ],
   "source": [
    "df_new2_end.columns"
   ]
  },
  {
   "cell_type": "code",
   "execution_count": 33,
   "id": "4c745c6a",
   "metadata": {
    "execution": {
     "iopub.execute_input": "2024-03-21T23:44:24.061243Z",
     "iopub.status.busy": "2024-03-21T23:44:24.060803Z",
     "iopub.status.idle": "2024-03-21T23:44:24.072103Z",
     "shell.execute_reply": "2024-03-21T23:44:24.071663Z"
    },
    "papermill": {
     "duration": 0.038365,
     "end_time": "2024-03-21T23:44:24.072203",
     "exception": false,
     "start_time": "2024-03-21T23:44:24.033838",
     "status": "completed"
    },
    "tags": []
   },
   "outputs": [],
   "source": [
    "#We merge with data_farming so we get the info farming for each customer\n",
    "df_new2_end = df_new2_end[['customer_id','ALL_num_orders', 'aov_ALL_usd', 'churned_ALL', 'ALL_churned_date','TOTAL_CAT_CLTV_sin_churn',\n",
    "       'ALL_CLTV_sin_churn', 'Adjust_CLTV','tier', 'microsegment_name', 'business_type', 'is_kam']].merge(data_farming[data_farming.ciudad == city][['customer_id','owner']], on='customer_id', how='left')\n",
    "df_new2_end[['owner']] = df_new2_end[['owner']].fillna('No Farming')"
   ]
  },
  {
   "cell_type": "code",
   "execution_count": 34,
   "id": "83baf8c2",
   "metadata": {
    "execution": {
     "iopub.execute_input": "2024-03-21T23:44:24.123543Z",
     "iopub.status.busy": "2024-03-21T23:44:24.123092Z",
     "iopub.status.idle": "2024-03-21T23:44:24.125005Z",
     "shell.execute_reply": "2024-03-21T23:44:24.124632Z"
    },
    "papermill": {
     "duration": 0.029303,
     "end_time": "2024-03-21T23:44:24.125100",
     "exception": false,
     "start_time": "2024-03-21T23:44:24.095797",
     "status": "completed"
    },
    "tags": []
   },
   "outputs": [],
   "source": [
    "df_new2_end.rename(columns={'num_orders': 'ALL_num_orders', 'CLTV_sin_churn': 'TOTAL_CAT_CLTV_sin_churn'}, inplace=True)\n",
    "\n",
    "df3.rename(columns={'num_orders': 'num_orders_cat', 'churned': 'churned_cat','CLTV_sin_churn':'CAT_CLTV_sin_churn'}, inplace=True)"
   ]
  },
  {
   "cell_type": "code",
   "execution_count": 35,
   "id": "91bc7e2b",
   "metadata": {
    "execution": {
     "iopub.execute_input": "2024-03-21T23:44:24.177508Z",
     "iopub.status.busy": "2024-03-21T23:44:24.176523Z",
     "iopub.status.idle": "2024-03-21T23:44:24.195040Z",
     "shell.execute_reply": "2024-03-21T23:44:24.194655Z"
    },
    "papermill": {
     "duration": 0.045908,
     "end_time": "2024-03-21T23:44:24.195142",
     "exception": false,
     "start_time": "2024-03-21T23:44:24.149234",
     "status": "completed"
    },
    "tags": []
   },
   "outputs": [],
   "source": [
    "df_final = df3[['city', 'customer_id', 'cat', 'min_diff_days', 'max_diff_days', 'avg_diff_days', 'median_diff_days', 'stdev_diff_days', 'num_orders_cat',\n",
    "       'aov_cat_usd','last_order_date', 'diff_from_last_to_first_order', 'days_since_last_order',\n",
    "       'first_order_date', 'adjust_std', 'adjust_cohort','adjust_retention', \n",
    "       'median_diff_days_adjusted', 'churned_cat', 'churned_date','CAT_CLTV_sin_churn']].merge(df_new2_end, on='customer_id', how='inner')"
   ]
  },
  {
   "cell_type": "code",
   "execution_count": 36,
   "id": "4869873a",
   "metadata": {
    "execution": {
     "iopub.execute_input": "2024-03-21T23:44:24.245986Z",
     "iopub.status.busy": "2024-03-21T23:44:24.245545Z",
     "iopub.status.idle": "2024-03-21T23:44:24.265263Z",
     "shell.execute_reply": "2024-03-21T23:44:24.265627Z"
    },
    "papermill": {
     "duration": 0.046862,
     "end_time": "2024-03-21T23:44:24.265747",
     "exception": false,
     "start_time": "2024-03-21T23:44:24.218885",
     "status": "completed"
    },
    "tags": []
   },
   "outputs": [
    {
     "data": {
      "text/html": [
       "<div>\n",
       "<style scoped>\n",
       "    .dataframe tbody tr th:only-of-type {\n",
       "        vertical-align: middle;\n",
       "    }\n",
       "\n",
       "    .dataframe tbody tr th {\n",
       "        vertical-align: top;\n",
       "    }\n",
       "\n",
       "    .dataframe thead th {\n",
       "        text-align: right;\n",
       "    }\n",
       "</style>\n",
       "<table border=\"1\" class=\"dataframe\">\n",
       "  <thead>\n",
       "    <tr style=\"text-align: right;\">\n",
       "      <th></th>\n",
       "      <th>city</th>\n",
       "      <th>customer_id</th>\n",
       "      <th>cat</th>\n",
       "      <th>min_diff_days</th>\n",
       "      <th>max_diff_days</th>\n",
       "      <th>avg_diff_days</th>\n",
       "      <th>median_diff_days</th>\n",
       "      <th>stdev_diff_days</th>\n",
       "      <th>num_orders_cat</th>\n",
       "      <th>aov_cat_usd</th>\n",
       "      <th>...</th>\n",
       "      <th>churned_ALL</th>\n",
       "      <th>ALL_churned_date</th>\n",
       "      <th>TOTAL_CAT_CLTV_sin_churn</th>\n",
       "      <th>ALL_CLTV_sin_churn</th>\n",
       "      <th>Adjust_CLTV</th>\n",
       "      <th>tier</th>\n",
       "      <th>microsegment_name</th>\n",
       "      <th>business_type</th>\n",
       "      <th>is_kam</th>\n",
       "      <th>owner</th>\n",
       "    </tr>\n",
       "  </thead>\n",
       "  <tbody>\n",
       "    <tr>\n",
       "      <th>0</th>\n",
       "      <td>CWB</td>\n",
       "      <td>109267474</td>\n",
       "      <td>Bebidas</td>\n",
       "      <td>2.0</td>\n",
       "      <td>369.0</td>\n",
       "      <td>46.714286</td>\n",
       "      <td>20.5</td>\n",
       "      <td>94.475417</td>\n",
       "      <td>15</td>\n",
       "      <td>15.043368</td>\n",
       "      <td>...</td>\n",
       "      <td>0</td>\n",
       "      <td>2024-05-26</td>\n",
       "      <td>312.469391</td>\n",
       "      <td>215.779045</td>\n",
       "      <td>312.469391</td>\n",
       "      <td>J</td>\n",
       "      <td>Sucos/Açaí</td>\n",
       "      <td>Restaurante</td>\n",
       "      <td>False</td>\n",
       "      <td>No Farming</td>\n",
       "    </tr>\n",
       "    <tr>\n",
       "      <th>1</th>\n",
       "      <td>CWB</td>\n",
       "      <td>109267474</td>\n",
       "      <td>Carnes, Aves e Peixes</td>\n",
       "      <td>3.0</td>\n",
       "      <td>88.0</td>\n",
       "      <td>34.714286</td>\n",
       "      <td>22.0</td>\n",
       "      <td>33.124584</td>\n",
       "      <td>8</td>\n",
       "      <td>23.376158</td>\n",
       "      <td>...</td>\n",
       "      <td>0</td>\n",
       "      <td>2024-05-26</td>\n",
       "      <td>312.469391</td>\n",
       "      <td>215.779045</td>\n",
       "      <td>312.469391</td>\n",
       "      <td>J</td>\n",
       "      <td>Sucos/Açaí</td>\n",
       "      <td>Restaurante</td>\n",
       "      <td>False</td>\n",
       "      <td>No Farming</td>\n",
       "    </tr>\n",
       "    <tr>\n",
       "      <th>2</th>\n",
       "      <td>CWB</td>\n",
       "      <td>109267474</td>\n",
       "      <td>Congelados</td>\n",
       "      <td>64.0</td>\n",
       "      <td>81.0</td>\n",
       "      <td>71.000000</td>\n",
       "      <td>68.0</td>\n",
       "      <td>8.888194</td>\n",
       "      <td>4</td>\n",
       "      <td>5.819474</td>\n",
       "      <td>...</td>\n",
       "      <td>0</td>\n",
       "      <td>2024-05-26</td>\n",
       "      <td>312.469391</td>\n",
       "      <td>215.779045</td>\n",
       "      <td>312.469391</td>\n",
       "      <td>J</td>\n",
       "      <td>Sucos/Açaí</td>\n",
       "      <td>Restaurante</td>\n",
       "      <td>False</td>\n",
       "      <td>No Farming</td>\n",
       "    </tr>\n",
       "    <tr>\n",
       "      <th>3</th>\n",
       "      <td>CWB</td>\n",
       "      <td>109267474</td>\n",
       "      <td>Descartáveis</td>\n",
       "      <td>90.0</td>\n",
       "      <td>90.0</td>\n",
       "      <td>90.000000</td>\n",
       "      <td>90.0</td>\n",
       "      <td>0.000000</td>\n",
       "      <td>2</td>\n",
       "      <td>10.458947</td>\n",
       "      <td>...</td>\n",
       "      <td>0</td>\n",
       "      <td>2024-05-26</td>\n",
       "      <td>312.469391</td>\n",
       "      <td>215.779045</td>\n",
       "      <td>312.469391</td>\n",
       "      <td>J</td>\n",
       "      <td>Sucos/Açaí</td>\n",
       "      <td>Restaurante</td>\n",
       "      <td>False</td>\n",
       "      <td>No Farming</td>\n",
       "    </tr>\n",
       "    <tr>\n",
       "      <th>4</th>\n",
       "      <td>CWB</td>\n",
       "      <td>109267474</td>\n",
       "      <td>Frutas e Verduras</td>\n",
       "      <td>1.0</td>\n",
       "      <td>282.0</td>\n",
       "      <td>7.663158</td>\n",
       "      <td>3.0</td>\n",
       "      <td>29.563351</td>\n",
       "      <td>96</td>\n",
       "      <td>29.764117</td>\n",
       "      <td>...</td>\n",
       "      <td>0</td>\n",
       "      <td>2024-05-26</td>\n",
       "      <td>312.469391</td>\n",
       "      <td>215.779045</td>\n",
       "      <td>312.469391</td>\n",
       "      <td>J</td>\n",
       "      <td>Sucos/Açaí</td>\n",
       "      <td>Restaurante</td>\n",
       "      <td>False</td>\n",
       "      <td>No Farming</td>\n",
       "    </tr>\n",
       "    <tr>\n",
       "      <th>5</th>\n",
       "      <td>CWB</td>\n",
       "      <td>109267474</td>\n",
       "      <td>Laticínios e Ovos</td>\n",
       "      <td>1.0</td>\n",
       "      <td>375.0</td>\n",
       "      <td>17.975000</td>\n",
       "      <td>6.0</td>\n",
       "      <td>58.565977</td>\n",
       "      <td>41</td>\n",
       "      <td>15.177977</td>\n",
       "      <td>...</td>\n",
       "      <td>0</td>\n",
       "      <td>2024-05-26</td>\n",
       "      <td>312.469391</td>\n",
       "      <td>215.779045</td>\n",
       "      <td>312.469391</td>\n",
       "      <td>J</td>\n",
       "      <td>Sucos/Açaí</td>\n",
       "      <td>Restaurante</td>\n",
       "      <td>False</td>\n",
       "      <td>No Farming</td>\n",
       "    </tr>\n",
       "    <tr>\n",
       "      <th>6</th>\n",
       "      <td>CWB</td>\n",
       "      <td>109267474</td>\n",
       "      <td>Limpeza e Higiene</td>\n",
       "      <td>3.0</td>\n",
       "      <td>368.0</td>\n",
       "      <td>45.133333</td>\n",
       "      <td>19.0</td>\n",
       "      <td>91.245248</td>\n",
       "      <td>16</td>\n",
       "      <td>6.457105</td>\n",
       "      <td>...</td>\n",
       "      <td>0</td>\n",
       "      <td>2024-05-26</td>\n",
       "      <td>312.469391</td>\n",
       "      <td>215.779045</td>\n",
       "      <td>312.469391</td>\n",
       "      <td>J</td>\n",
       "      <td>Sucos/Açaí</td>\n",
       "      <td>Restaurante</td>\n",
       "      <td>False</td>\n",
       "      <td>No Farming</td>\n",
       "    </tr>\n",
       "    <tr>\n",
       "      <th>7</th>\n",
       "      <td>CWB</td>\n",
       "      <td>109267474</td>\n",
       "      <td>Mercearia</td>\n",
       "      <td>1.0</td>\n",
       "      <td>289.0</td>\n",
       "      <td>14.816327</td>\n",
       "      <td>6.0</td>\n",
       "      <td>41.421951</td>\n",
       "      <td>50</td>\n",
       "      <td>18.387116</td>\n",
       "      <td>...</td>\n",
       "      <td>0</td>\n",
       "      <td>2024-05-26</td>\n",
       "      <td>312.469391</td>\n",
       "      <td>215.779045</td>\n",
       "      <td>312.469391</td>\n",
       "      <td>J</td>\n",
       "      <td>Sucos/Açaí</td>\n",
       "      <td>Restaurante</td>\n",
       "      <td>False</td>\n",
       "      <td>No Farming</td>\n",
       "    </tr>\n",
       "    <tr>\n",
       "      <th>8</th>\n",
       "      <td>CWB</td>\n",
       "      <td>109816902</td>\n",
       "      <td>Bebidas</td>\n",
       "      <td>NaN</td>\n",
       "      <td>NaN</td>\n",
       "      <td>0.000000</td>\n",
       "      <td>NaN</td>\n",
       "      <td>0.000000</td>\n",
       "      <td>1</td>\n",
       "      <td>21.675789</td>\n",
       "      <td>...</td>\n",
       "      <td>0</td>\n",
       "      <td>2024-04-04</td>\n",
       "      <td>340.725755</td>\n",
       "      <td>375.350703</td>\n",
       "      <td>340.725755</td>\n",
       "      <td>J</td>\n",
       "      <td>Grill/Churrascaria/Espetinho</td>\n",
       "      <td>Restaurante</td>\n",
       "      <td>False</td>\n",
       "      <td>wendall.jose@frubana.com</td>\n",
       "    </tr>\n",
       "    <tr>\n",
       "      <th>9</th>\n",
       "      <td>CWB</td>\n",
       "      <td>109816902</td>\n",
       "      <td>Carnes, Aves e Peixes</td>\n",
       "      <td>91.0</td>\n",
       "      <td>91.0</td>\n",
       "      <td>91.000000</td>\n",
       "      <td>91.0</td>\n",
       "      <td>0.000000</td>\n",
       "      <td>2</td>\n",
       "      <td>20.250526</td>\n",
       "      <td>...</td>\n",
       "      <td>0</td>\n",
       "      <td>2024-04-04</td>\n",
       "      <td>340.725755</td>\n",
       "      <td>375.350703</td>\n",
       "      <td>340.725755</td>\n",
       "      <td>J</td>\n",
       "      <td>Grill/Churrascaria/Espetinho</td>\n",
       "      <td>Restaurante</td>\n",
       "      <td>False</td>\n",
       "      <td>wendall.jose@frubana.com</td>\n",
       "    </tr>\n",
       "  </tbody>\n",
       "</table>\n",
       "<p>10 rows × 33 columns</p>\n",
       "</div>"
      ],
      "text/plain": [
       "  city  customer_id                    cat  min_diff_days  max_diff_days  \\\n",
       "0  CWB    109267474                Bebidas            2.0          369.0   \n",
       "1  CWB    109267474  Carnes, Aves e Peixes            3.0           88.0   \n",
       "2  CWB    109267474             Congelados           64.0           81.0   \n",
       "3  CWB    109267474           Descartáveis           90.0           90.0   \n",
       "4  CWB    109267474      Frutas e Verduras            1.0          282.0   \n",
       "5  CWB    109267474      Laticínios e Ovos            1.0          375.0   \n",
       "6  CWB    109267474      Limpeza e Higiene            3.0          368.0   \n",
       "7  CWB    109267474              Mercearia            1.0          289.0   \n",
       "8  CWB    109816902                Bebidas            NaN            NaN   \n",
       "9  CWB    109816902  Carnes, Aves e Peixes           91.0           91.0   \n",
       "\n",
       "   avg_diff_days  median_diff_days  stdev_diff_days  num_orders_cat  \\\n",
       "0      46.714286              20.5        94.475417              15   \n",
       "1      34.714286              22.0        33.124584               8   \n",
       "2      71.000000              68.0         8.888194               4   \n",
       "3      90.000000              90.0         0.000000               2   \n",
       "4       7.663158               3.0        29.563351              96   \n",
       "5      17.975000               6.0        58.565977              41   \n",
       "6      45.133333              19.0        91.245248              16   \n",
       "7      14.816327               6.0        41.421951              50   \n",
       "8       0.000000               NaN         0.000000               1   \n",
       "9      91.000000              91.0         0.000000               2   \n",
       "\n",
       "   aov_cat_usd  ... churned_ALL  ALL_churned_date  TOTAL_CAT_CLTV_sin_churn  \\\n",
       "0    15.043368  ...           0        2024-05-26                312.469391   \n",
       "1    23.376158  ...           0        2024-05-26                312.469391   \n",
       "2     5.819474  ...           0        2024-05-26                312.469391   \n",
       "3    10.458947  ...           0        2024-05-26                312.469391   \n",
       "4    29.764117  ...           0        2024-05-26                312.469391   \n",
       "5    15.177977  ...           0        2024-05-26                312.469391   \n",
       "6     6.457105  ...           0        2024-05-26                312.469391   \n",
       "7    18.387116  ...           0        2024-05-26                312.469391   \n",
       "8    21.675789  ...           0        2024-04-04                340.725755   \n",
       "9    20.250526  ...           0        2024-04-04                340.725755   \n",
       "\n",
       "  ALL_CLTV_sin_churn  Adjust_CLTV  tier             microsegment_name  \\\n",
       "0         215.779045   312.469391     J                    Sucos/Açaí   \n",
       "1         215.779045   312.469391     J                    Sucos/Açaí   \n",
       "2         215.779045   312.469391     J                    Sucos/Açaí   \n",
       "3         215.779045   312.469391     J                    Sucos/Açaí   \n",
       "4         215.779045   312.469391     J                    Sucos/Açaí   \n",
       "5         215.779045   312.469391     J                    Sucos/Açaí   \n",
       "6         215.779045   312.469391     J                    Sucos/Açaí   \n",
       "7         215.779045   312.469391     J                    Sucos/Açaí   \n",
       "8         375.350703   340.725755     J  Grill/Churrascaria/Espetinho   \n",
       "9         375.350703   340.725755     J  Grill/Churrascaria/Espetinho   \n",
       "\n",
       "   business_type  is_kam                     owner  \n",
       "0    Restaurante   False                No Farming  \n",
       "1    Restaurante   False                No Farming  \n",
       "2    Restaurante   False                No Farming  \n",
       "3    Restaurante   False                No Farming  \n",
       "4    Restaurante   False                No Farming  \n",
       "5    Restaurante   False                No Farming  \n",
       "6    Restaurante   False                No Farming  \n",
       "7    Restaurante   False                No Farming  \n",
       "8    Restaurante   False  wendall.jose@frubana.com  \n",
       "9    Restaurante   False  wendall.jose@frubana.com  \n",
       "\n",
       "[10 rows x 33 columns]"
      ]
     },
     "execution_count": 36,
     "metadata": {},
     "output_type": "execute_result"
    }
   ],
   "source": [
    "df_final.head(10)"
   ]
  },
  {
   "cell_type": "code",
   "execution_count": 37,
   "id": "dbf20c00",
   "metadata": {
    "execution": {
     "iopub.execute_input": "2024-03-21T23:44:24.317535Z",
     "iopub.status.busy": "2024-03-21T23:44:24.317081Z",
     "iopub.status.idle": "2024-03-21T23:44:24.318884Z",
     "shell.execute_reply": "2024-03-21T23:44:24.318521Z"
    },
    "papermill": {
     "duration": 0.028635,
     "end_time": "2024-03-21T23:44:24.318978",
     "exception": false,
     "start_time": "2024-03-21T23:44:24.290343",
     "status": "completed"
    },
    "tags": []
   },
   "outputs": [],
   "source": [
    "#df_final.to_excel(f\"CLTV_{city}.xlsx\",index=False)"
   ]
  },
  {
   "cell_type": "markdown",
   "id": "b0a8e83e",
   "metadata": {
    "papermill": {
     "duration": 0.02417,
     "end_time": "2024-03-21T23:44:24.367403",
     "exception": false,
     "start_time": "2024-03-21T23:44:24.343233",
     "status": "completed"
    },
    "tags": []
   },
   "source": [
    "# Info for SAC team"
   ]
  },
  {
   "cell_type": "code",
   "execution_count": 38,
   "id": "afd11070",
   "metadata": {
    "execution": {
     "iopub.execute_input": "2024-03-21T23:44:24.419798Z",
     "iopub.status.busy": "2024-03-21T23:44:24.419349Z",
     "iopub.status.idle": "2024-03-21T23:44:24.429451Z",
     "shell.execute_reply": "2024-03-21T23:44:24.429791Z"
    },
    "papermill": {
     "duration": 0.038011,
     "end_time": "2024-03-21T23:44:24.429912",
     "exception": false,
     "start_time": "2024-03-21T23:44:24.391901",
     "status": "completed"
    },
    "tags": []
   },
   "outputs": [],
   "source": [
    "df_SAC = df_final[['city','customer_id','tier','Adjust_CLTV']].drop_duplicates()"
   ]
  },
  {
   "cell_type": "code",
   "execution_count": 39,
   "id": "ecc6885a",
   "metadata": {
    "execution": {
     "iopub.execute_input": "2024-03-21T23:44:24.483215Z",
     "iopub.status.busy": "2024-03-21T23:44:24.482794Z",
     "iopub.status.idle": "2024-03-21T23:44:24.484344Z",
     "shell.execute_reply": "2024-03-21T23:44:24.484676Z"
    },
    "papermill": {
     "duration": 0.030297,
     "end_time": "2024-03-21T23:44:24.484787",
     "exception": false,
     "start_time": "2024-03-21T23:44:24.454490",
     "status": "completed"
    },
    "tags": []
   },
   "outputs": [],
   "source": [
    "letter_to_number = {'A': 1, 'B': 2, 'C': 3, 'D': 4, 'E': 5, 'F': 6, 'G': 7, 'H': 8, 'I': 9, 'J': 10}\n",
    "df_SAC['tier'] = df_SAC['tier'].map(letter_to_number)"
   ]
  },
  {
   "cell_type": "code",
   "execution_count": 40,
   "id": "595289cd",
   "metadata": {
    "execution": {
     "iopub.execute_input": "2024-03-21T23:44:24.536640Z",
     "iopub.status.busy": "2024-03-21T23:44:24.536214Z",
     "iopub.status.idle": "2024-03-21T23:44:24.548804Z",
     "shell.execute_reply": "2024-03-21T23:44:24.548381Z"
    },
    "papermill": {
     "duration": 0.039476,
     "end_time": "2024-03-21T23:44:24.548896",
     "exception": false,
     "start_time": "2024-03-21T23:44:24.509420",
     "status": "completed"
    },
    "tags": []
   },
   "outputs": [],
   "source": [
    "df_SAC.to_csv(f\"/home/jupyter-felipe.guevara/Growth/CLTV/{city}_SAC_tiers.csv\",index=False)"
   ]
  }
 ],
 "metadata": {
  "kernelspec": {
   "display_name": "Python 3",
   "language": "python",
   "name": "python3"
  },
  "language_info": {
   "codemirror_mode": {
    "name": "ipython",
    "version": 3
   },
   "file_extension": ".py",
   "mimetype": "text/x-python",
   "name": "python",
   "nbconvert_exporter": "python",
   "pygments_lexer": "ipython3",
   "version": "3.7.9"
  },
  "papermill": {
   "default_parameters": {},
   "duration": 87.991712,
   "end_time": "2024-03-21T23:44:25.178100",
   "environment_variables": {},
   "exception": null,
   "input_path": "/home/jupyter-felipe.guevara/Growth/CLTV/CLTV_origin.ipynb",
   "output_path": "/home/jupyter-felipe.guevara/Growth/logs/CLTV_CWB.ipynb",
   "parameters": {
    "city": "CWB"
   },
   "start_time": "2024-03-21T23:42:57.186388",
   "version": "2.3.2"
  },
  "vscode": {
   "interpreter": {
    "hash": "624741679a3ae5d99cecf49b8df5d516a7a937e6e7328e129d1fa121c8592e26"
   }
  }
 },
 "nbformat": 4,
 "nbformat_minor": 5
}